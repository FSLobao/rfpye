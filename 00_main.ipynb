{
 "cells": [
  {
   "cell_type": "code",
   "execution_count": null,
   "metadata": {},
   "outputs": [],
   "source": [
    "# default_exp main"
   ]
  },
  {
   "cell_type": "markdown",
   "metadata": {},
   "source": [
    "# rfpy - CFRS Rfeye Node Logger binaries parser\n",
    "\n",
    "> API details."
   ]
  },
  {
   "cell_type": "code",
   "execution_count": 1,
   "metadata": {},
   "outputs": [],
   "source": [
    "#hide\n",
    "from pathlib import Path\n",
    "from typing import *\n",
    "from fastcore.script import call_parse, Param, bool_arg\n",
    "from rfpy.parser import get_files\n",
    "from rfpy.driver import binary_file_generator\n",
    "%load_ext autoreload\n",
    "%autoreload 2            #Reload the code automatically"
   ]
  },
  {
   "cell_type": "code",
   "execution_count": 18,
   "metadata": {},
   "outputs": [],
   "source": [
    "# export\n",
    "@call_parse\n",
    "def parse_input(entrada:Param(\"Diretório contendo arquivos .bin\", str),\n",
    "                saida:Param(\"Diretório para salvar os arquivos de saída\", str),\n",
    "                recursivo:Param(\"Buscar arquivos de maneira recursiva?\", bool_arg)=True,\n",
    "                pastas:Param(\"Limita a busca às pastas\", Iterable[str]) = None,\n",
    "                verbose:Param(\"Imprimir mensagens de execução?\", bool_arg) = False):\n",
    "        \n",
    "        lista_bins = get_files(entrada, extensions=['.bin'], recurse=recursivo, folders=pastas)\n",
    "        \n",
    "        if verbose:\n",
    "            print(lista_bins)\n",
    "        return lista_bins    "
   ]
  },
  {
   "cell_type": "code",
   "execution_count": null,
   "metadata": {},
   "outputs": [],
   "source": []
  },
  {
   "cell_type": "code",
   "execution_count": 23,
   "metadata": {},
   "outputs": [
    {
     "ename": "SyntaxError",
     "evalue": "unexpected EOF while parsing (<ipython-input-23-d80260d266ea>, line 7)",
     "output_type": "error",
     "traceback": [
      "\u001b[1;36m  File \u001b[1;32m\"<ipython-input-23-d80260d266ea>\"\u001b[1;36m, line \u001b[1;32m7\u001b[0m\n\u001b[1;33m    for data in binary_file_generator(bin_file):\u001b[0m\n\u001b[1;37m                                                ^\u001b[0m\n\u001b[1;31mSyntaxError\u001b[0m\u001b[1;31m:\u001b[0m unexpected EOF while parsing\n"
     ]
    }
   ],
   "source": [
    "def parse_bin(bin_file, save_folder=None, sep=\",\"):\n",
    "    pass"
   ]
  },
  {
   "cell_type": "code",
   "execution_count": 19,
   "metadata": {},
   "outputs": [
    {
     "name": "stdout",
     "output_type": "stream",
     "text": [
      "Converted 00_main.ipynb.\n",
      "Converted 01_parser.ipynb.\n",
      "Converted 02_test_run.ipynb.\n",
      "Converted index.ipynb.\n"
     ]
    }
   ],
   "source": [
    "from nbdev.export import notebook2script\n",
    "notebook2script()"
   ]
  }
 ],
 "metadata": {
  "kernelspec": {
   "display_name": "Python [conda env:rfpy]",
   "language": "python",
   "name": "conda-env-rfpy-py"
  },
  "language_info": {
   "codemirror_mode": {
    "name": "ipython",
    "version": 3
   },
   "file_extension": ".py",
   "mimetype": "text/x-python",
   "name": "python",
   "nbconvert_exporter": "python",
   "pygments_lexer": "ipython3",
   "version": "3.7.8"
  }
 },
 "nbformat": 4,
 "nbformat_minor": 4
}
