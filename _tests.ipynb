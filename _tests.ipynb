{
 "cells": [
  {
   "cell_type": "code",
   "execution_count": null,
   "metadata": {},
   "outputs": [],
   "source": [
    "#hide   \n",
    "import warnings\n",
    "with warnings.catch_warnings():\n",
    "    warnings.simplefilter(\"ignore\")\n",
    "from pprint import pprint as pp\n",
    "import rfpy\n",
    "from rfpy.parser import *\n",
    "from rfpy.utils import *\n",
    "from rfpy.blocks import *\n",
    "from nbdev.showdoc import *\n",
    "from fastcore.xtras import Path\n",
    "from fastcore.foundation import L\n",
    "from fastcore.test import *\n",
    "import numpy as np\n",
    "import pandas as pd"
   ]
  },
  {
   "cell_type": "code",
   "execution_count": null,
   "metadata": {},
   "outputs": [],
   "source": [
    "#hide\n",
    "%load_ext autoreload\n",
    "%autoreload 2 "
   ]
  },
  {
   "cell_type": "code",
   "execution_count": null,
   "metadata": {},
   "outputs": [],
   "source": [
    "entrada = Path(r'C:\\Users\\rsilva\\Downloads\\entrada')\n",
    "saida = Path(r'C:\\Users\\rsilva\\Downloads\\saida')"
   ]
  },
  {
   "cell_type": "code",
   "execution_count": null,
   "metadata": {},
   "outputs": [
    {
     "data": {
      "text/plain": [
       "(#3) [Path('C:/Users/rsilva/Downloads/entrada/201201_T153421_OneThreadID.bin'),Path('C:/Users/rsilva/Downloads/entrada/201201_T154509_MultiplesThreadID.bin'),Path('C:/Users/rsilva/Downloads/entrada/rfeye002304_SLMA_bimestral_PEAK_200829_234902.bin')]"
      ]
     },
     "execution_count": null,
     "metadata": {},
     "output_type": "execute_result"
    }
   ],
   "source": [
    "arquivos = get_files(entrada) ;  arquivos"
   ]
  },
  {
   "cell_type": "code",
   "execution_count": null,
   "metadata": {},
   "outputs": [],
   "source": [
    "one_tid = arquivos[-1]\n",
    "mult_tid = arquivos[1]"
   ]
  },
  {
   "cell_type": "markdown",
   "metadata": {},
   "source": [
    "On a normal conda environment the time of the following cell was\n",
    "```python\n",
    "%%timeit\n",
    "one = process_bin(one_tid)\n",
    "```\n",
    "1.22 s ± 17.6 ms per loop (mean ± std. dev. of 7 runs, 1 loop each)"
   ]
  },
  {
   "cell_type": "code",
   "execution_count": null,
   "metadata": {},
   "outputs": [],
   "source": [
    "# %%timeit\n",
    "# one = parse_bin(one_tid)"
   ]
  },
  {
   "cell_type": "markdown",
   "metadata": {},
   "source": [
    "On a normal conda environment the time of the following cell was\n",
    "```python\n",
    "%%timeit\n",
    "multi = process_bin(mult_tid)\n",
    "```\n",
    "1.29 s ± 73.2 ms per loop (mean ± std. dev. of 7 runs, 1 loop each)"
   ]
  },
  {
   "cell_type": "code",
   "execution_count": null,
   "metadata": {},
   "outputs": [],
   "source": [
    "# %%timeit\n",
    "# multi = parse_bin(mult_tid)"
   ]
  },
  {
   "cell_type": "code",
   "execution_count": null,
   "metadata": {},
   "outputs": [],
   "source": [
    "#one = parse_bin(one_tid)"
   ]
  },
  {
   "cell_type": "code",
   "execution_count": null,
   "metadata": {},
   "outputs": [],
   "source": [
    "#one.keys()"
   ]
  },
  {
   "cell_type": "code",
   "execution_count": null,
   "metadata": {},
   "outputs": [],
   "source": [
    "#one['blocos']"
   ]
  },
  {
   "cell_type": "code",
   "execution_count": null,
   "metadata": {},
   "outputs": [],
   "source": [
    "multi = parse_bin(mult_tid)"
   ]
  },
  {
   "cell_type": "code",
   "execution_count": null,
   "metadata": {},
   "outputs": [
    {
     "data": {
      "text/plain": [
       "dict_keys(['file_version', 'string', 'blocos'])"
      ]
     },
     "execution_count": null,
     "metadata": {},
     "output_type": "execute_result"
    }
   ],
   "source": [
    "multi.keys()"
   ]
  },
  {
   "cell_type": "code",
   "execution_count": null,
   "metadata": {},
   "outputs": [
    {
     "data": {
      "text/plain": [
       "22"
      ]
     },
     "execution_count": null,
     "metadata": {},
     "output_type": "execute_result"
    }
   ],
   "source": [
    "multi['file_version']"
   ]
  },
  {
   "cell_type": "code",
   "execution_count": null,
   "metadata": {},
   "outputs": [
    {
     "data": {
      "text/plain": [
       "'CRFS DATA FILE V022'"
      ]
     },
     "execution_count": null,
     "metadata": {},
     "output_type": "execute_result"
    }
   ],
   "source": [
    "multi['string']"
   ]
  },
  {
   "cell_type": "code",
   "execution_count": null,
   "metadata": {},
   "outputs": [
    {
     "data": {
      "text/plain": [
       "defaultdict(fastcore.foundation.L,\n",
       "            {(21,\n",
       "              0): (#1) [((36, 123), <rfpy.blocks.DType21 object at 0x000001DB336826C8>)],\n",
       "             (41,\n",
       "              0): (#2) [((128, 203), <rfpy.blocks.DType41 object at 0x000001DB33682548>),((208, 335), <rfpy.blocks.DType41 object at 0x000001DB33682C08>)],\n",
       "             (24,\n",
       "              5): (#1) [((340, 375), <rfpy.blocks.DType24 object at 0x000001DB33682A08>)],\n",
       "             (24,\n",
       "              10): (#1) [((380, 427), <rfpy.blocks.DType24 object at 0x000001DB33682408>)],\n",
       "             (24,\n",
       "              20): (#1) [((432, 487), <rfpy.blocks.DType24 object at 0x000001DB33682288>)],\n",
       "             (24,\n",
       "              30): (#1) [((492, 547), <rfpy.blocks.DType24 object at 0x000001DB33682088>)],\n",
       "             (24,\n",
       "              40): (#1) [((552, 607), <rfpy.blocks.DType24 object at 0x000001DB33680A48>)],\n",
       "             (24,\n",
       "              50): (#1) [((612, 667), <rfpy.blocks.DType24 object at 0x000001DB33680948>)],\n",
       "             (24,\n",
       "              60): (#1) [((672, 719), <rfpy.blocks.DType24 object at 0x000001DB33680048>)],\n",
       "             (24,\n",
       "              70): (#1) [((724, 779), <rfpy.blocks.DType24 object at 0x000001DB0C15A688>)],\n",
       "             (24,\n",
       "              80): (#1) [((784, 839), <rfpy.blocks.DType24 object at 0x000001DB29146A48>)],\n",
       "             (24,\n",
       "              90): (#1) [((844, 899), <rfpy.blocks.DType24 object at 0x000001DB0001DB48>)],\n",
       "             (24,\n",
       "              100): (#1) [((904, 959), <rfpy.blocks.DType24 object at 0x000001DB33635088>)],\n",
       "             (63,\n",
       "              10): (#12813) [((964, 3115), <rfpy.blocks.DType63 object at 0x000001DB33635EC8>),((9588, 11739), <rfpy.blocks.DType63 object at 0x000001DB33686088>),((18212, 20363), <rfpy.blocks.DType63 object at 0x000001DB336862C8>),((22524, 24675), <rfpy.blocks.DType63 object at 0x000001DB3367DA48>),((31148, 33299), <rfpy.blocks.DType63 object at 0x000001DB3367D248>),((35460, 37611), <rfpy.blocks.DType63 object at 0x000001DB33633548>),((52708, 54859), <rfpy.blocks.DType63 object at 0x000001DB33633908>),((57020, 59171), <rfpy.blocks.DType63 object at 0x000001DB33633588>),((65644, 67795), <rfpy.blocks.DType63 object at 0x000001DB33678848>),((69956, 72107), <rfpy.blocks.DType63 object at 0x000001DB33633608>)...],\n",
       "             (63,\n",
       "              30): (#2563) [((3120, 5271), <rfpy.blocks.DType63 object at 0x000001DB33635FC8>),((39772, 41923), <rfpy.blocks.DType63 object at 0x000001DB33633988>),((80736, 82887), <rfpy.blocks.DType63 object at 0x000001DB33678688>),((117388, 119539), <rfpy.blocks.DType63 object at 0x000001DB33676588>),((158352, 160503), <rfpy.blocks.DType63 object at 0x000001DB33689FC8>),((195004, 197155), <rfpy.blocks.DType63 object at 0x000001DB33647108>),((235968, 238119), <rfpy.blocks.DType63 object at 0x000001DB33643108>),((272620, 274771), <rfpy.blocks.DType63 object at 0x000001DB3365BB48>),((313584, 315735), <rfpy.blocks.DType63 object at 0x000001DB33665E88>),((350236, 352387), <rfpy.blocks.DType63 object at 0x000001DB33665848>)...],\n",
       "             (63,\n",
       "              60): (#12813) [((5276, 7427), <rfpy.blocks.DType63 object at 0x000001DB33686448>),((13900, 16051), <rfpy.blocks.DType63 object at 0x000001DB33686648>),((20368, 22519), <rfpy.blocks.DType63 object at 0x000001DB3367DD48>),((26836, 28987), <rfpy.blocks.DType63 object at 0x000001DB3367D208>),((33304, 35455), <rfpy.blocks.DType63 object at 0x000001DB3367DFC8>),((44084, 46235), <rfpy.blocks.DType63 object at 0x000001DB33633D08>),((54864, 57015), <rfpy.blocks.DType63 object at 0x000001DB33633508>),((61332, 63483), <rfpy.blocks.DType63 object at 0x000001DB33633248>),((67800, 69951), <rfpy.blocks.DType63 object at 0x000001DB3367DE88>),((74268, 76419), <rfpy.blocks.DType63 object at 0x000001DB33678C48>)...],\n",
       "             (63,\n",
       "              80): (#2563) [((7432, 9583), <rfpy.blocks.DType63 object at 0x000001DB336867C8>),((48396, 50547), <rfpy.blocks.DType63 object at 0x000001DB336338C8>),((85048, 87199), <rfpy.blocks.DType63 object at 0x000001DB33678248>),((126012, 128163), <rfpy.blocks.DType63 object at 0x000001DB336763C8>),((162664, 164815), <rfpy.blocks.DType63 object at 0x000001DB33689E48>),((203628, 205779), <rfpy.blocks.DType63 object at 0x000001DB33647B88>),((240280, 242431), <rfpy.blocks.DType63 object at 0x000001DB336437C8>),((281244, 283395), <rfpy.blocks.DType63 object at 0x000001DB3365BD08>),((317896, 320047), <rfpy.blocks.DType63 object at 0x000001DB33665D88>),((358860, 361011), <rfpy.blocks.DType63 object at 0x000001DB3364A848>)...],\n",
       "             (63,\n",
       "              20): (#6406) [((11744, 13895), <rfpy.blocks.DType63 object at 0x000001DB336869C8>),((24680, 26831), <rfpy.blocks.DType63 object at 0x000001DB3367D288>),((37616, 39767), <rfpy.blocks.DType63 object at 0x000001DB336333C8>),((59176, 61327), <rfpy.blocks.DType63 object at 0x000001DB33633648>),((72112, 74263), <rfpy.blocks.DType63 object at 0x000001DB33678E88>),((89360, 91511), <rfpy.blocks.DType63 object at 0x000001DB33674188>),((102296, 104447), <rfpy.blocks.DType63 object at 0x000001DB33674408>),((115232, 117383), <rfpy.blocks.DType63 object at 0x000001DB33676608>),((136792, 138943), <rfpy.blocks.DType63 object at 0x000001DB33676108>),((149728, 151879), <rfpy.blocks.DType63 object at 0x000001DB33689B48>)...],\n",
       "             (63,\n",
       "              70): (#6406) [((16056, 18207), <rfpy.blocks.DType63 object at 0x000001DB33686188>),((28992, 31143), <rfpy.blocks.DType63 object at 0x000001DB3367D088>),((46240, 48391), <rfpy.blocks.DType63 object at 0x000001DB33633D48>),((63488, 65639), <rfpy.blocks.DType63 object at 0x000001DB33678E08>),((76424, 78575), <rfpy.blocks.DType63 object at 0x000001DB336789C8>),((93672, 95823), <rfpy.blocks.DType63 object at 0x000001DB33674A08>),((106608, 108759), <rfpy.blocks.DType63 object at 0x000001DB33674208>),((123856, 126007), <rfpy.blocks.DType63 object at 0x000001DB33676448>),((141104, 143255), <rfpy.blocks.DType63 object at 0x000001DB33676048>),((154040, 156191), <rfpy.blocks.DType63 object at 0x000001DB33689848>)...],\n",
       "             (63,\n",
       "              40): (#1281) [((41928, 44079), <rfpy.blocks.DType63 object at 0x000001DB33633DC8>),((119544, 121695), <rfpy.blocks.DType63 object at 0x000001DB33676548>),((197160, 199311), <rfpy.blocks.DType63 object at 0x000001DB336471C8>),((274776, 276927), <rfpy.blocks.DType63 object at 0x000001DB3365BBC8>),((352392, 354543), <rfpy.blocks.DType63 object at 0x000001DB33665948>),((430008, 432159), <rfpy.blocks.DType63 object at 0x000001DB33654908>),((507624, 509775), <rfpy.blocks.DType63 object at 0x000001DB338E5F88>),((585240, 587391), <rfpy.blocks.DType63 object at 0x000001DB3513F448>),((662856, 665007), <rfpy.blocks.DType63 object at 0x000001DB351438C8>),((744784, 746935), <rfpy.blocks.DType63 object at 0x000001DB35147FC8>)...],\n",
       "             (63,\n",
       "              90): (#1281) [((50552, 52703), <rfpy.blocks.DType63 object at 0x000001DB33633F88>),((128168, 130319), <rfpy.blocks.DType63 object at 0x000001DB33676308>),((205784, 207935), <rfpy.blocks.DType63 object at 0x000001DB33647C88>),((283400, 285551), <rfpy.blocks.DType63 object at 0x000001DB3365BD48>),((361016, 363167), <rfpy.blocks.DType63 object at 0x000001DB3364A908>),((438632, 440783), <rfpy.blocks.DType63 object at 0x000001DB3364D5C8>),((516248, 518399), <rfpy.blocks.DType63 object at 0x000001DB3513D3C8>),((593864, 596015), <rfpy.blocks.DType63 object at 0x000001DB3513F848>),((673636, 675787), <rfpy.blocks.DType63 object at 0x000001DB35143E08>),((753408, 755559), <rfpy.blocks.DType63 object at 0x000001DB35149408>)...],\n",
       "             (63,\n",
       "              50): (#128) [((665012, 667163), <rfpy.blocks.DType63 object at 0x000001DB35143A08>),((1445484, 1447635), <rfpy.blocks.DType63 object at 0x000001DB35177A08>),((2225956, 2228107), <rfpy.blocks.DType63 object at 0x000001DB351AA9C8>),((3006428, 3008579), <rfpy.blocks.DType63 object at 0x000001DB351DF988>),((3786900, 3789051), <rfpy.blocks.DType63 object at 0x000001DB35213948>),((4567372, 4569523), <rfpy.blocks.DType63 object at 0x000001DB35246988>),((5347844, 5349995), <rfpy.blocks.DType63 object at 0x000001DB3B1BA948>),((6128316, 6130467), <rfpy.blocks.DType63 object at 0x000001DB3B1EE908>),((6908788, 6910939), <rfpy.blocks.DType63 object at 0x000001DB3B2228C8>),((7689260, 7691411), <rfpy.blocks.DType63 object at 0x000001DB3B256808>)...],\n",
       "             (63,\n",
       "              100): (#128) [((675792, 677943), <rfpy.blocks.DType63 object at 0x000001DB35143F48>),((1456264, 1458415), <rfpy.blocks.DType63 object at 0x000001DB35177F08>),((2236736, 2238887), <rfpy.blocks.DType63 object at 0x000001DB351AAEC8>),((3017208, 3019359), <rfpy.blocks.DType63 object at 0x000001DB351DFE88>),((3797680, 3799831), <rfpy.blocks.DType63 object at 0x000001DB35213E88>),((4578152, 4580303), <rfpy.blocks.DType63 object at 0x000001DB35246E88>),((5358624, 5360775), <rfpy.blocks.DType63 object at 0x000001DB3B1BAE48>),((6139096, 6141247), <rfpy.blocks.DType63 object at 0x000001DB3B1EEE08>),((6919568, 6921719), <rfpy.blocks.DType63 object at 0x000001DB3B222D88>),((7700040, 7702191), <rfpy.blocks.DType63 object at 0x000001DB3B256D08>)...]})"
      ]
     },
     "execution_count": null,
     "metadata": {},
     "output_type": "execute_result"
    }
   ],
   "source": [
    "multi['blocos']"
   ]
  },
  {
   "cell_type": "code",
   "execution_count": null,
   "metadata": {},
   "outputs": [],
   "source": [
    "x = multi['blocos'][(21,0)][0]"
   ]
  },
  {
   "cell_type": "code",
   "execution_count": null,
   "metadata": {},
   "outputs": [
    {
     "data": {
      "text/plain": [
       "((36, 123), <rfpy.blocks.DType21 at 0x1db336826c8>)"
      ]
     },
     "execution_count": null,
     "metadata": {},
     "output_type": "execute_result"
    }
   ],
   "source": [
    "x"
   ]
  },
  {
   "cell_type": "code",
   "execution_count": null,
   "metadata": {},
   "outputs": [
    {
     "data": {
      "text/plain": [
       "b'rfeye002292\\x00\\x00\\x00\\x00\\x00\\x18\\x00\\x00\\x00CRFS default unit info\\x00\\x00\\x14\\x00\\x00\\x00CRFS default method\\x00\\x00\\x00\\x00'"
      ]
     },
     "execution_count": null,
     "metadata": {},
     "output_type": "execute_result"
    }
   ],
   "source": [
    "bin_data = x[1].data ; bin_data"
   ]
  },
  {
   "cell_type": "code",
   "execution_count": null,
   "metadata": {},
   "outputs": [
    {
     "data": {
      "text/plain": [
       "71"
      ]
     },
     "execution_count": null,
     "metadata": {},
     "output_type": "execute_result"
    }
   ],
   "source": [
    "len(x[1].data)"
   ]
  },
  {
   "cell_type": "code",
   "execution_count": null,
   "metadata": {},
   "outputs": [
    {
     "data": {
      "text/plain": [
       "{'data_size': 72,\n",
       " 'file_number': 0,\n",
       " 'hostname': 'rfeye002292',\n",
       " 'method': 'CRFS default method',\n",
       " 'thread_id': 0,\n",
       " 'type': 21,\n",
       " 'unit_info': 'CRFS default unit info'}"
      ]
     },
     "execution_count": null,
     "metadata": {},
     "output_type": "execute_result"
    }
   ],
   "source": [
    "getattrs(x[1])"
   ]
  },
  {
   "cell_type": "code",
   "execution_count": null,
   "metadata": {},
   "outputs": [
    {
     "data": {
      "text/plain": [
       "24"
      ]
     },
     "execution_count": null,
     "metadata": {},
     "output_type": "execute_result"
    }
   ],
   "source": [
    "x[1]._text1_len"
   ]
  },
  {
   "cell_type": "code",
   "execution_count": null,
   "metadata": {},
   "outputs": [
    {
     "data": {
      "text/plain": [
       "20"
      ]
     },
     "execution_count": null,
     "metadata": {},
     "output_type": "execute_result"
    }
   ],
   "source": [
    "x[1]._text2_len"
   ]
  },
  {
   "cell_type": "code",
   "execution_count": null,
   "metadata": {},
   "outputs": [
    {
     "data": {
      "text/plain": [
       "72"
      ]
     },
     "execution_count": null,
     "metadata": {},
     "output_type": "execute_result"
    }
   ],
   "source": [
    "x[1].STOP"
   ]
  },
  {
   "cell_type": "code",
   "execution_count": null,
   "metadata": {},
   "outputs": [
    {
     "data": {
      "text/plain": [
       "(36, 123)"
      ]
     },
     "execution_count": null,
     "metadata": {},
     "output_type": "execute_result"
    }
   ],
   "source": [
    "x[0]"
   ]
  },
  {
   "cell_type": "code",
   "execution_count": null,
   "metadata": {},
   "outputs": [],
   "source": [
    "with open(mult_tid, mode='rb') as bfile:\n",
    "    # O primeiro bloco do arquivo é o cabeçalho e tem 36 bytes de tamanho.\n",
    "    body = bfile.read()"
   ]
  },
  {
   "cell_type": "code",
   "execution_count": null,
   "metadata": {},
   "outputs": [],
   "source": [
    "block = create_base_block(body[slice(*x[0])])"
   ]
  },
  {
   "cell_type": "code",
   "execution_count": null,
   "metadata": {},
   "outputs": [],
   "source": [
    "test_eq(bin_data, block.data)"
   ]
  },
  {
   "cell_type": "code",
   "execution_count": null,
   "metadata": {},
   "outputs": [],
   "source": [
    "getattrs(x)"
   ]
  },
  {
   "cell_type": "code",
   "execution_count": null,
   "metadata": {},
   "outputs": [],
   "source": [
    "L(x.data[-100:])"
   ]
  },
  {
   "cell_type": "code",
   "execution_count": null,
   "metadata": {},
   "outputs": [],
   "source": [
    "b1 = multi['blocos'][(63,40)]"
   ]
  },
  {
   "cell_type": "code",
   "execution_count": null,
   "metadata": {},
   "outputs": [
    {
     "data": {
      "text/plain": [
       "(#1281) [(41928, 44079),(119544, 121695),(197160, 199311),(274776, 276927),(352392, 354543),(430008, 432159),(507624, 509775),(585240, 587391),(662856, 665007),(744784, 746935)...]"
      ]
     },
     "execution_count": null,
     "metadata": {},
     "output_type": "execute_result"
    }
   ],
   "source": [
    "index = b1.itemgot(0) ; index"
   ]
  },
  {
   "cell_type": "code",
   "execution_count": null,
   "metadata": {},
   "outputs": [
    {
     "data": {
      "text/plain": [
       "(#1281) [{'start_byte': 41928, 'stop_byte': 44079},{'start_byte': 119544, 'stop_byte': 121695},{'start_byte': 197160, 'stop_byte': 199311},{'start_byte': 274776, 'stop_byte': 276927},{'start_byte': 352392, 'stop_byte': 354543},{'start_byte': 430008, 'stop_byte': 432159},{'start_byte': 507624, 'stop_byte': 509775},{'start_byte': 585240, 'stop_byte': 587391},{'start_byte': 662856, 'stop_byte': 665007},{'start_byte': 744784, 'stop_byte': 746935}...]"
      ]
     },
     "execution_count": null,
     "metadata": {},
     "output_type": "execute_result"
    }
   ],
   "source": [
    "index = index.map(lambda x: dict(zip(('start_byte', 'stop_byte'), x))) ; index"
   ]
  },
  {
   "cell_type": "code",
   "execution_count": null,
   "metadata": {},
   "outputs": [
    {
     "data": {
      "text/plain": [
       "(#1281) [{'bw': 40, 'data_size': 2136, 'gerror': -1, 'gflags': -1, 'group_id': 0, 'id_antenna': 0, 'level_offset': -20, 'n_agc': 7, 'n_tunning': 7, 'npad': 1, 'npoints': 2048, 'num_meas': 1, 'processing': 'average', 'rbw': 19540, 'spent_time_microsecs': 5570, 'start_channel': 0, 'start_mega': 70, 'start_mili': 0, 'step': 0.019540791402051783, 'stop_channel': 0, 'stop_mega': 110, 'stop_mili': 0, 'thread_id': 40, 'tunning_info': {'60MHz': 'completed without error', '70MHz': 'completed without error', '80MHz': 'completed without error', '90MHz': 'completed without error', '100MHz': 'completed without error', '110MHz': 'completed without error', '120MHz': 'completed without error'}, 'type': 63, 'unit': '%', 'wallclock_datetime': datetime.datetime(2020, 12, 1, 15, 45, 9, 816463)},{'bw': 40, 'data_size': 2136, 'gerror': -1, 'gflags': -1, 'group_id': 0, 'id_antenna': 0, 'level_offset': -20, 'n_agc': 7, 'n_tunning': 7, 'npad': 1, 'npoints': 2048, 'num_meas': 1, 'processing': 'average', 'rbw': 19540, 'spent_time_microsecs': 5626, 'start_channel': 0, 'start_mega': 70, 'start_mili': 0, 'step': 0.019540791402051783, 'stop_channel': 0, 'stop_mega': 110, 'stop_mili': 0, 'thread_id': 40, 'tunning_info': {'60MHz': 'completed without error', '70MHz': 'completed without error', '80MHz': 'completed without error', '90MHz': 'completed without error', '100MHz': 'completed without error', '110MHz': 'completed without error', '120MHz': 'completed without error'}, 'type': 63, 'unit': '%', 'wallclock_datetime': datetime.datetime(2020, 12, 1, 15, 45, 10, 318062)},{'bw': 40, 'data_size': 2136, 'gerror': -1, 'gflags': -1, 'group_id': 0, 'id_antenna': 0, 'level_offset': -20, 'n_agc': 7, 'n_tunning': 7, 'npad': 1, 'npoints': 2048, 'num_meas': 1, 'processing': 'average', 'rbw': 19540, 'spent_time_microsecs': 5621, 'start_channel': 0, 'start_mega': 70, 'start_mili': 0, 'step': 0.019540791402051783, 'stop_channel': 0, 'stop_mega': 110, 'stop_mili': 0, 'thread_id': 40, 'tunning_info': {'60MHz': 'completed without error', '70MHz': 'completed without error', '80MHz': 'completed without error', '90MHz': 'completed without error', '100MHz': 'completed without error', '110MHz': 'completed without error', '120MHz': 'completed without error'}, 'type': 63, 'unit': '%', 'wallclock_datetime': datetime.datetime(2020, 12, 1, 15, 45, 10, 817929)},{'bw': 40, 'data_size': 2136, 'gerror': -1, 'gflags': -1, 'group_id': 0, 'id_antenna': 0, 'level_offset': -20, 'n_agc': 7, 'n_tunning': 7, 'npad': 1, 'npoints': 2048, 'num_meas': 1, 'processing': 'average', 'rbw': 19540, 'spent_time_microsecs': 5597, 'start_channel': 0, 'start_mega': 70, 'start_mili': 0, 'step': 0.019540791402051783, 'stop_channel': 0, 'stop_mega': 110, 'stop_mili': 0, 'thread_id': 40, 'tunning_info': {'60MHz': 'completed without error', '70MHz': 'completed without error', '80MHz': 'completed without error', '90MHz': 'completed without error', '100MHz': 'completed without error', '110MHz': 'completed without error', '120MHz': 'completed without error'}, 'type': 63, 'unit': '%', 'wallclock_datetime': datetime.datetime(2020, 12, 1, 15, 45, 11, 316203)},{'bw': 40, 'data_size': 2136, 'gerror': -1, 'gflags': -1, 'group_id': 0, 'id_antenna': 0, 'level_offset': -20, 'n_agc': 7, 'n_tunning': 7, 'npad': 1, 'npoints': 2048, 'num_meas': 1, 'processing': 'average', 'rbw': 19540, 'spent_time_microsecs': 5596, 'start_channel': 0, 'start_mega': 70, 'start_mili': 0, 'step': 0.019540791402051783, 'stop_channel': 0, 'stop_mega': 110, 'stop_mili': 0, 'thread_id': 40, 'tunning_info': {'60MHz': 'completed without error', '70MHz': 'completed without error', '80MHz': 'completed without error', '90MHz': 'completed without error', '100MHz': 'completed without error', '110MHz': 'completed without error', '120MHz': 'completed without error'}, 'type': 63, 'unit': '%', 'wallclock_datetime': datetime.datetime(2020, 12, 1, 15, 45, 11, 810011)},{'bw': 40, 'data_size': 2136, 'gerror': -1, 'gflags': -1, 'group_id': 0, 'id_antenna': 0, 'level_offset': -20, 'n_agc': 7, 'n_tunning': 7, 'npad': 1, 'npoints': 2048, 'num_meas': 1, 'processing': 'average', 'rbw': 19540, 'spent_time_microsecs': 5576, 'start_channel': 0, 'start_mega': 70, 'start_mili': 0, 'step': 0.019540791402051783, 'stop_channel': 0, 'stop_mega': 110, 'stop_mili': 0, 'thread_id': 40, 'tunning_info': {'60MHz': 'completed without error', '70MHz': 'completed without error', '80MHz': 'completed without error', '90MHz': 'completed without error', '100MHz': 'completed without error', '110MHz': 'completed without error', '120MHz': 'completed without error'}, 'type': 63, 'unit': '%', 'wallclock_datetime': datetime.datetime(2020, 12, 1, 15, 45, 12, 317895)},{'bw': 40, 'data_size': 2136, 'gerror': -1, 'gflags': -1, 'group_id': 0, 'id_antenna': 0, 'level_offset': -20, 'n_agc': 7, 'n_tunning': 7, 'npad': 1, 'npoints': 2048, 'num_meas': 1, 'processing': 'average', 'rbw': 19540, 'spent_time_microsecs': 5577, 'start_channel': 0, 'start_mega': 70, 'start_mili': 0, 'step': 0.019540791402051783, 'stop_channel': 0, 'stop_mega': 110, 'stop_mili': 0, 'thread_id': 40, 'tunning_info': {'60MHz': 'completed without error', '70MHz': 'completed without error', '80MHz': 'completed without error', '90MHz': 'completed without error', '100MHz': 'completed without error', '110MHz': 'completed without error', '120MHz': 'completed without error'}, 'type': 63, 'unit': '%', 'wallclock_datetime': datetime.datetime(2020, 12, 1, 15, 45, 12, 810133)},{'bw': 40, 'data_size': 2136, 'gerror': -1, 'gflags': -1, 'group_id': 0, 'id_antenna': 0, 'level_offset': -20, 'n_agc': 7, 'n_tunning': 7, 'npad': 1, 'npoints': 2048, 'num_meas': 1, 'processing': 'average', 'rbw': 19540, 'spent_time_microsecs': 5601, 'start_channel': 0, 'start_mega': 70, 'start_mili': 0, 'step': 0.019540791402051783, 'stop_channel': 0, 'stop_mega': 110, 'stop_mili': 0, 'thread_id': 40, 'tunning_info': {'60MHz': 'completed without error', '70MHz': 'completed without error', '80MHz': 'completed without error', '90MHz': 'completed without error', '100MHz': 'completed without error', '110MHz': 'completed without error', '120MHz': 'completed without error'}, 'type': 63, 'unit': '%', 'wallclock_datetime': datetime.datetime(2020, 12, 1, 15, 45, 13, 316960)},{'bw': 40, 'data_size': 2136, 'gerror': -1, 'gflags': -1, 'group_id': 0, 'id_antenna': 0, 'level_offset': -20, 'n_agc': 7, 'n_tunning': 7, 'npad': 1, 'npoints': 2048, 'num_meas': 1, 'processing': 'average', 'rbw': 19540, 'spent_time_microsecs': 5577, 'start_channel': 0, 'start_mega': 70, 'start_mili': 0, 'step': 0.019540791402051783, 'stop_channel': 0, 'stop_mega': 110, 'stop_mili': 0, 'thread_id': 40, 'tunning_info': {'60MHz': 'completed without error', '70MHz': 'completed without error', '80MHz': 'completed without error', '90MHz': 'completed without error', '100MHz': 'completed without error', '110MHz': 'completed without error', '120MHz': 'completed without error'}, 'type': 63, 'unit': '%', 'wallclock_datetime': datetime.datetime(2020, 12, 1, 15, 45, 13, 817044)},{'bw': 40, 'data_size': 2136, 'gerror': -1, 'gflags': -1, 'group_id': 0, 'id_antenna': 0, 'level_offset': -20, 'n_agc': 7, 'n_tunning': 7, 'npad': 1, 'npoints': 2048, 'num_meas': 1, 'processing': 'average', 'rbw': 19540, 'spent_time_microsecs': 5600, 'start_channel': 0, 'start_mega': 70, 'start_mili': 0, 'step': 0.019540791402051783, 'stop_channel': 0, 'stop_mega': 110, 'stop_mili': 0, 'thread_id': 40, 'tunning_info': {'60MHz': 'completed without error', '70MHz': 'completed without error', '80MHz': 'completed without error', '90MHz': 'completed without error', '100MHz': 'completed without error', '110MHz': 'completed without error', '120MHz': 'completed without error'}, 'type': 63, 'unit': '%', 'wallclock_datetime': datetime.datetime(2020, 12, 1, 15, 45, 14, 316939)}...]"
      ]
     },
     "execution_count": null,
     "metadata": {},
     "output_type": "execute_result"
    }
   ],
   "source": [
    "blocos = multi['blocos'][(63,40)].itemgot(1).map(getattrs) ; blocos"
   ]
  },
  {
   "cell_type": "code",
   "execution_count": null,
   "metadata": {},
   "outputs": [
    {
     "data": {
      "text/plain": [
       "(#1281) [{'start_byte': 41928, 'stop_byte': 44079, 'bw': 40, 'data_size': 2136, 'gerror': -1, 'gflags': -1, 'group_id': 0, 'id_antenna': 0, 'level_offset': -20, 'n_agc': 7, 'n_tunning': 7, 'npad': 1, 'npoints': 2048, 'num_meas': 1, 'processing': 'average', 'rbw': 19540, 'spent_time_microsecs': 5570, 'start_channel': 0, 'start_mega': 70, 'start_mili': 0, 'step': 0.019540791402051783, 'stop_channel': 0, 'stop_mega': 110, 'stop_mili': 0, 'thread_id': 40, 'tunning_info': {'60MHz': 'completed without error', '70MHz': 'completed without error', '80MHz': 'completed without error', '90MHz': 'completed without error', '100MHz': 'completed without error', '110MHz': 'completed without error', '120MHz': 'completed without error'}, 'type': 63, 'unit': '%', 'wallclock_datetime': datetime.datetime(2020, 12, 1, 15, 45, 9, 816463)},{'start_byte': 119544, 'stop_byte': 121695, 'bw': 40, 'data_size': 2136, 'gerror': -1, 'gflags': -1, 'group_id': 0, 'id_antenna': 0, 'level_offset': -20, 'n_agc': 7, 'n_tunning': 7, 'npad': 1, 'npoints': 2048, 'num_meas': 1, 'processing': 'average', 'rbw': 19540, 'spent_time_microsecs': 5626, 'start_channel': 0, 'start_mega': 70, 'start_mili': 0, 'step': 0.019540791402051783, 'stop_channel': 0, 'stop_mega': 110, 'stop_mili': 0, 'thread_id': 40, 'tunning_info': {'60MHz': 'completed without error', '70MHz': 'completed without error', '80MHz': 'completed without error', '90MHz': 'completed without error', '100MHz': 'completed without error', '110MHz': 'completed without error', '120MHz': 'completed without error'}, 'type': 63, 'unit': '%', 'wallclock_datetime': datetime.datetime(2020, 12, 1, 15, 45, 10, 318062)},{'start_byte': 197160, 'stop_byte': 199311, 'bw': 40, 'data_size': 2136, 'gerror': -1, 'gflags': -1, 'group_id': 0, 'id_antenna': 0, 'level_offset': -20, 'n_agc': 7, 'n_tunning': 7, 'npad': 1, 'npoints': 2048, 'num_meas': 1, 'processing': 'average', 'rbw': 19540, 'spent_time_microsecs': 5621, 'start_channel': 0, 'start_mega': 70, 'start_mili': 0, 'step': 0.019540791402051783, 'stop_channel': 0, 'stop_mega': 110, 'stop_mili': 0, 'thread_id': 40, 'tunning_info': {'60MHz': 'completed without error', '70MHz': 'completed without error', '80MHz': 'completed without error', '90MHz': 'completed without error', '100MHz': 'completed without error', '110MHz': 'completed without error', '120MHz': 'completed without error'}, 'type': 63, 'unit': '%', 'wallclock_datetime': datetime.datetime(2020, 12, 1, 15, 45, 10, 817929)},{'start_byte': 274776, 'stop_byte': 276927, 'bw': 40, 'data_size': 2136, 'gerror': -1, 'gflags': -1, 'group_id': 0, 'id_antenna': 0, 'level_offset': -20, 'n_agc': 7, 'n_tunning': 7, 'npad': 1, 'npoints': 2048, 'num_meas': 1, 'processing': 'average', 'rbw': 19540, 'spent_time_microsecs': 5597, 'start_channel': 0, 'start_mega': 70, 'start_mili': 0, 'step': 0.019540791402051783, 'stop_channel': 0, 'stop_mega': 110, 'stop_mili': 0, 'thread_id': 40, 'tunning_info': {'60MHz': 'completed without error', '70MHz': 'completed without error', '80MHz': 'completed without error', '90MHz': 'completed without error', '100MHz': 'completed without error', '110MHz': 'completed without error', '120MHz': 'completed without error'}, 'type': 63, 'unit': '%', 'wallclock_datetime': datetime.datetime(2020, 12, 1, 15, 45, 11, 316203)},{'start_byte': 352392, 'stop_byte': 354543, 'bw': 40, 'data_size': 2136, 'gerror': -1, 'gflags': -1, 'group_id': 0, 'id_antenna': 0, 'level_offset': -20, 'n_agc': 7, 'n_tunning': 7, 'npad': 1, 'npoints': 2048, 'num_meas': 1, 'processing': 'average', 'rbw': 19540, 'spent_time_microsecs': 5596, 'start_channel': 0, 'start_mega': 70, 'start_mili': 0, 'step': 0.019540791402051783, 'stop_channel': 0, 'stop_mega': 110, 'stop_mili': 0, 'thread_id': 40, 'tunning_info': {'60MHz': 'completed without error', '70MHz': 'completed without error', '80MHz': 'completed without error', '90MHz': 'completed without error', '100MHz': 'completed without error', '110MHz': 'completed without error', '120MHz': 'completed without error'}, 'type': 63, 'unit': '%', 'wallclock_datetime': datetime.datetime(2020, 12, 1, 15, 45, 11, 810011)},{'start_byte': 430008, 'stop_byte': 432159, 'bw': 40, 'data_size': 2136, 'gerror': -1, 'gflags': -1, 'group_id': 0, 'id_antenna': 0, 'level_offset': -20, 'n_agc': 7, 'n_tunning': 7, 'npad': 1, 'npoints': 2048, 'num_meas': 1, 'processing': 'average', 'rbw': 19540, 'spent_time_microsecs': 5576, 'start_channel': 0, 'start_mega': 70, 'start_mili': 0, 'step': 0.019540791402051783, 'stop_channel': 0, 'stop_mega': 110, 'stop_mili': 0, 'thread_id': 40, 'tunning_info': {'60MHz': 'completed without error', '70MHz': 'completed without error', '80MHz': 'completed without error', '90MHz': 'completed without error', '100MHz': 'completed without error', '110MHz': 'completed without error', '120MHz': 'completed without error'}, 'type': 63, 'unit': '%', 'wallclock_datetime': datetime.datetime(2020, 12, 1, 15, 45, 12, 317895)},{'start_byte': 507624, 'stop_byte': 509775, 'bw': 40, 'data_size': 2136, 'gerror': -1, 'gflags': -1, 'group_id': 0, 'id_antenna': 0, 'level_offset': -20, 'n_agc': 7, 'n_tunning': 7, 'npad': 1, 'npoints': 2048, 'num_meas': 1, 'processing': 'average', 'rbw': 19540, 'spent_time_microsecs': 5577, 'start_channel': 0, 'start_mega': 70, 'start_mili': 0, 'step': 0.019540791402051783, 'stop_channel': 0, 'stop_mega': 110, 'stop_mili': 0, 'thread_id': 40, 'tunning_info': {'60MHz': 'completed without error', '70MHz': 'completed without error', '80MHz': 'completed without error', '90MHz': 'completed without error', '100MHz': 'completed without error', '110MHz': 'completed without error', '120MHz': 'completed without error'}, 'type': 63, 'unit': '%', 'wallclock_datetime': datetime.datetime(2020, 12, 1, 15, 45, 12, 810133)},{'start_byte': 585240, 'stop_byte': 587391, 'bw': 40, 'data_size': 2136, 'gerror': -1, 'gflags': -1, 'group_id': 0, 'id_antenna': 0, 'level_offset': -20, 'n_agc': 7, 'n_tunning': 7, 'npad': 1, 'npoints': 2048, 'num_meas': 1, 'processing': 'average', 'rbw': 19540, 'spent_time_microsecs': 5601, 'start_channel': 0, 'start_mega': 70, 'start_mili': 0, 'step': 0.019540791402051783, 'stop_channel': 0, 'stop_mega': 110, 'stop_mili': 0, 'thread_id': 40, 'tunning_info': {'60MHz': 'completed without error', '70MHz': 'completed without error', '80MHz': 'completed without error', '90MHz': 'completed without error', '100MHz': 'completed without error', '110MHz': 'completed without error', '120MHz': 'completed without error'}, 'type': 63, 'unit': '%', 'wallclock_datetime': datetime.datetime(2020, 12, 1, 15, 45, 13, 316960)},{'start_byte': 662856, 'stop_byte': 665007, 'bw': 40, 'data_size': 2136, 'gerror': -1, 'gflags': -1, 'group_id': 0, 'id_antenna': 0, 'level_offset': -20, 'n_agc': 7, 'n_tunning': 7, 'npad': 1, 'npoints': 2048, 'num_meas': 1, 'processing': 'average', 'rbw': 19540, 'spent_time_microsecs': 5577, 'start_channel': 0, 'start_mega': 70, 'start_mili': 0, 'step': 0.019540791402051783, 'stop_channel': 0, 'stop_mega': 110, 'stop_mili': 0, 'thread_id': 40, 'tunning_info': {'60MHz': 'completed without error', '70MHz': 'completed without error', '80MHz': 'completed without error', '90MHz': 'completed without error', '100MHz': 'completed without error', '110MHz': 'completed without error', '120MHz': 'completed without error'}, 'type': 63, 'unit': '%', 'wallclock_datetime': datetime.datetime(2020, 12, 1, 15, 45, 13, 817044)},{'start_byte': 744784, 'stop_byte': 746935, 'bw': 40, 'data_size': 2136, 'gerror': -1, 'gflags': -1, 'group_id': 0, 'id_antenna': 0, 'level_offset': -20, 'n_agc': 7, 'n_tunning': 7, 'npad': 1, 'npoints': 2048, 'num_meas': 1, 'processing': 'average', 'rbw': 19540, 'spent_time_microsecs': 5600, 'start_channel': 0, 'start_mega': 70, 'start_mili': 0, 'step': 0.019540791402051783, 'stop_channel': 0, 'stop_mega': 110, 'stop_mili': 0, 'thread_id': 40, 'tunning_info': {'60MHz': 'completed without error', '70MHz': 'completed without error', '80MHz': 'completed without error', '90MHz': 'completed without error', '100MHz': 'completed without error', '110MHz': 'completed without error', '120MHz': 'completed without error'}, 'type': 63, 'unit': '%', 'wallclock_datetime': datetime.datetime(2020, 12, 1, 15, 45, 14, 316939)}...]"
      ]
     },
     "execution_count": null,
     "metadata": {},
     "output_type": "execute_result"
    }
   ],
   "source": [
    "meta = b1.map(lambda item: {**dict(zip(('start_byte', 'stop_byte'), item[0])), **getattrs(item[1])}) ; meta"
   ]
  },
  {
   "cell_type": "code",
   "execution_count": null,
   "metadata": {},
   "outputs": [
    {
     "data": {
      "text/html": [
       "<div>\n",
       "<style scoped>\n",
       "    .dataframe tbody tr th:only-of-type {\n",
       "        vertical-align: middle;\n",
       "    }\n",
       "\n",
       "    .dataframe tbody tr th {\n",
       "        vertical-align: top;\n",
       "    }\n",
       "\n",
       "    .dataframe thead th {\n",
       "        text-align: right;\n",
       "    }\n",
       "</style>\n",
       "<table border=\"1\" class=\"dataframe\">\n",
       "  <thead>\n",
       "    <tr style=\"text-align: right;\">\n",
       "      <th></th>\n",
       "      <th>start_byte</th>\n",
       "      <th>stop_byte</th>\n",
       "      <th>bw</th>\n",
       "      <th>data_size</th>\n",
       "      <th>gerror</th>\n",
       "      <th>gflags</th>\n",
       "      <th>group_id</th>\n",
       "      <th>id_antenna</th>\n",
       "      <th>level_offset</th>\n",
       "      <th>n_agc</th>\n",
       "      <th>...</th>\n",
       "      <th>start_mega</th>\n",
       "      <th>start_mili</th>\n",
       "      <th>step</th>\n",
       "      <th>stop_channel</th>\n",
       "      <th>stop_mega</th>\n",
       "      <th>stop_mili</th>\n",
       "      <th>thread_id</th>\n",
       "      <th>tunning_info</th>\n",
       "      <th>type</th>\n",
       "      <th>unit</th>\n",
       "    </tr>\n",
       "    <tr>\n",
       "      <th>wallclock_datetime</th>\n",
       "      <th></th>\n",
       "      <th></th>\n",
       "      <th></th>\n",
       "      <th></th>\n",
       "      <th></th>\n",
       "      <th></th>\n",
       "      <th></th>\n",
       "      <th></th>\n",
       "      <th></th>\n",
       "      <th></th>\n",
       "      <th></th>\n",
       "      <th></th>\n",
       "      <th></th>\n",
       "      <th></th>\n",
       "      <th></th>\n",
       "      <th></th>\n",
       "      <th></th>\n",
       "      <th></th>\n",
       "      <th></th>\n",
       "      <th></th>\n",
       "      <th></th>\n",
       "    </tr>\n",
       "  </thead>\n",
       "  <tbody>\n",
       "    <tr>\n",
       "      <th>2020-12-01 15:45:09.816463</th>\n",
       "      <td>41928</td>\n",
       "      <td>44079</td>\n",
       "      <td>40</td>\n",
       "      <td>2136</td>\n",
       "      <td>-1</td>\n",
       "      <td>-1</td>\n",
       "      <td>0</td>\n",
       "      <td>0</td>\n",
       "      <td>-20</td>\n",
       "      <td>7</td>\n",
       "      <td>...</td>\n",
       "      <td>70</td>\n",
       "      <td>0</td>\n",
       "      <td>0.019541</td>\n",
       "      <td>0</td>\n",
       "      <td>110</td>\n",
       "      <td>0</td>\n",
       "      <td>40</td>\n",
       "      <td>{'60MHz': 'completed without error', '70MHz': ...</td>\n",
       "      <td>63</td>\n",
       "      <td>%</td>\n",
       "    </tr>\n",
       "    <tr>\n",
       "      <th>2020-12-01 15:45:10.318062</th>\n",
       "      <td>119544</td>\n",
       "      <td>121695</td>\n",
       "      <td>40</td>\n",
       "      <td>2136</td>\n",
       "      <td>-1</td>\n",
       "      <td>-1</td>\n",
       "      <td>0</td>\n",
       "      <td>0</td>\n",
       "      <td>-20</td>\n",
       "      <td>7</td>\n",
       "      <td>...</td>\n",
       "      <td>70</td>\n",
       "      <td>0</td>\n",
       "      <td>0.019541</td>\n",
       "      <td>0</td>\n",
       "      <td>110</td>\n",
       "      <td>0</td>\n",
       "      <td>40</td>\n",
       "      <td>{'60MHz': 'completed without error', '70MHz': ...</td>\n",
       "      <td>63</td>\n",
       "      <td>%</td>\n",
       "    </tr>\n",
       "    <tr>\n",
       "      <th>2020-12-01 15:45:10.817929</th>\n",
       "      <td>197160</td>\n",
       "      <td>199311</td>\n",
       "      <td>40</td>\n",
       "      <td>2136</td>\n",
       "      <td>-1</td>\n",
       "      <td>-1</td>\n",
       "      <td>0</td>\n",
       "      <td>0</td>\n",
       "      <td>-20</td>\n",
       "      <td>7</td>\n",
       "      <td>...</td>\n",
       "      <td>70</td>\n",
       "      <td>0</td>\n",
       "      <td>0.019541</td>\n",
       "      <td>0</td>\n",
       "      <td>110</td>\n",
       "      <td>0</td>\n",
       "      <td>40</td>\n",
       "      <td>{'60MHz': 'completed without error', '70MHz': ...</td>\n",
       "      <td>63</td>\n",
       "      <td>%</td>\n",
       "    </tr>\n",
       "    <tr>\n",
       "      <th>2020-12-01 15:45:11.316203</th>\n",
       "      <td>274776</td>\n",
       "      <td>276927</td>\n",
       "      <td>40</td>\n",
       "      <td>2136</td>\n",
       "      <td>-1</td>\n",
       "      <td>-1</td>\n",
       "      <td>0</td>\n",
       "      <td>0</td>\n",
       "      <td>-20</td>\n",
       "      <td>7</td>\n",
       "      <td>...</td>\n",
       "      <td>70</td>\n",
       "      <td>0</td>\n",
       "      <td>0.019541</td>\n",
       "      <td>0</td>\n",
       "      <td>110</td>\n",
       "      <td>0</td>\n",
       "      <td>40</td>\n",
       "      <td>{'60MHz': 'completed without error', '70MHz': ...</td>\n",
       "      <td>63</td>\n",
       "      <td>%</td>\n",
       "    </tr>\n",
       "    <tr>\n",
       "      <th>2020-12-01 15:45:11.810011</th>\n",
       "      <td>352392</td>\n",
       "      <td>354543</td>\n",
       "      <td>40</td>\n",
       "      <td>2136</td>\n",
       "      <td>-1</td>\n",
       "      <td>-1</td>\n",
       "      <td>0</td>\n",
       "      <td>0</td>\n",
       "      <td>-20</td>\n",
       "      <td>7</td>\n",
       "      <td>...</td>\n",
       "      <td>70</td>\n",
       "      <td>0</td>\n",
       "      <td>0.019541</td>\n",
       "      <td>0</td>\n",
       "      <td>110</td>\n",
       "      <td>0</td>\n",
       "      <td>40</td>\n",
       "      <td>{'60MHz': 'completed without error', '70MHz': ...</td>\n",
       "      <td>63</td>\n",
       "      <td>%</td>\n",
       "    </tr>\n",
       "  </tbody>\n",
       "</table>\n",
       "<p>5 rows × 28 columns</p>\n",
       "</div>"
      ],
      "text/plain": [
       "                            start_byte  stop_byte  bw  data_size  gerror  \\\n",
       "wallclock_datetime                                                         \n",
       "2020-12-01 15:45:09.816463       41928      44079  40       2136      -1   \n",
       "2020-12-01 15:45:10.318062      119544     121695  40       2136      -1   \n",
       "2020-12-01 15:45:10.817929      197160     199311  40       2136      -1   \n",
       "2020-12-01 15:45:11.316203      274776     276927  40       2136      -1   \n",
       "2020-12-01 15:45:11.810011      352392     354543  40       2136      -1   \n",
       "\n",
       "                            gflags  group_id  id_antenna  level_offset  n_agc  \\\n",
       "wallclock_datetime                                                              \n",
       "2020-12-01 15:45:09.816463      -1         0           0           -20      7   \n",
       "2020-12-01 15:45:10.318062      -1         0           0           -20      7   \n",
       "2020-12-01 15:45:10.817929      -1         0           0           -20      7   \n",
       "2020-12-01 15:45:11.316203      -1         0           0           -20      7   \n",
       "2020-12-01 15:45:11.810011      -1         0           0           -20      7   \n",
       "\n",
       "                            ...  start_mega  start_mili      step  \\\n",
       "wallclock_datetime          ...                                     \n",
       "2020-12-01 15:45:09.816463  ...          70           0  0.019541   \n",
       "2020-12-01 15:45:10.318062  ...          70           0  0.019541   \n",
       "2020-12-01 15:45:10.817929  ...          70           0  0.019541   \n",
       "2020-12-01 15:45:11.316203  ...          70           0  0.019541   \n",
       "2020-12-01 15:45:11.810011  ...          70           0  0.019541   \n",
       "\n",
       "                            stop_channel stop_mega  stop_mili  thread_id  \\\n",
       "wallclock_datetime                                                         \n",
       "2020-12-01 15:45:09.816463             0       110          0         40   \n",
       "2020-12-01 15:45:10.318062             0       110          0         40   \n",
       "2020-12-01 15:45:10.817929             0       110          0         40   \n",
       "2020-12-01 15:45:11.316203             0       110          0         40   \n",
       "2020-12-01 15:45:11.810011             0       110          0         40   \n",
       "\n",
       "                                                                 tunning_info  \\\n",
       "wallclock_datetime                                                              \n",
       "2020-12-01 15:45:09.816463  {'60MHz': 'completed without error', '70MHz': ...   \n",
       "2020-12-01 15:45:10.318062  {'60MHz': 'completed without error', '70MHz': ...   \n",
       "2020-12-01 15:45:10.817929  {'60MHz': 'completed without error', '70MHz': ...   \n",
       "2020-12-01 15:45:11.316203  {'60MHz': 'completed without error', '70MHz': ...   \n",
       "2020-12-01 15:45:11.810011  {'60MHz': 'completed without error', '70MHz': ...   \n",
       "\n",
       "                            type  unit  \n",
       "wallclock_datetime                      \n",
       "2020-12-01 15:45:09.816463    63     %  \n",
       "2020-12-01 15:45:10.318062    63     %  \n",
       "2020-12-01 15:45:10.817929    63     %  \n",
       "2020-12-01 15:45:11.316203    63     %  \n",
       "2020-12-01 15:45:11.810011    63     %  \n",
       "\n",
       "[5 rows x 28 columns]"
      ]
     },
     "execution_count": null,
     "metadata": {},
     "output_type": "execute_result"
    }
   ],
   "source": [
    "df = pd.DataFrame(meta).set_index('wallclock_datetime') ; df.head()"
   ]
  },
  {
   "cell_type": "code",
   "execution_count": null,
   "metadata": {},
   "outputs": [
    {
     "name": "stdout",
     "output_type": "stream",
     "text": [
      "Wall time: 17.6 s\n"
     ]
    }
   ],
   "source": [
    "%%time\n",
    "metadata = export_bin_meta(multi['blocos'])"
   ]
  },
  {
   "cell_type": "code",
   "execution_count": null,
   "metadata": {},
   "outputs": [
    {
     "data": {
      "text/html": [
       "<div>\n",
       "<style scoped>\n",
       "    .dataframe tbody tr th:only-of-type {\n",
       "        vertical-align: middle;\n",
       "    }\n",
       "\n",
       "    .dataframe tbody tr th {\n",
       "        vertical-align: top;\n",
       "    }\n",
       "\n",
       "    .dataframe thead th {\n",
       "        text-align: right;\n",
       "    }\n",
       "</style>\n",
       "<table border=\"1\" class=\"dataframe\">\n",
       "  <thead>\n",
       "    <tr style=\"text-align: right;\">\n",
       "      <th></th>\n",
       "      <th>start_byte</th>\n",
       "      <th>stop_byte</th>\n",
       "      <th>bw</th>\n",
       "      <th>data_size</th>\n",
       "      <th>gerror</th>\n",
       "      <th>gflags</th>\n",
       "      <th>group_id</th>\n",
       "      <th>id_antenna</th>\n",
       "      <th>level_offset</th>\n",
       "      <th>n_agc</th>\n",
       "      <th>...</th>\n",
       "      <th>start_mili</th>\n",
       "      <th>step</th>\n",
       "      <th>stop_channel</th>\n",
       "      <th>stop_mega</th>\n",
       "      <th>stop_mili</th>\n",
       "      <th>thread_id</th>\n",
       "      <th>tunning_info</th>\n",
       "      <th>type</th>\n",
       "      <th>unit</th>\n",
       "      <th>wallclock_datetime</th>\n",
       "    </tr>\n",
       "  </thead>\n",
       "  <tbody>\n",
       "    <tr>\n",
       "      <th>0</th>\n",
       "      <td>675792</td>\n",
       "      <td>677943</td>\n",
       "      <td>40</td>\n",
       "      <td>2136</td>\n",
       "      <td>-1</td>\n",
       "      <td>-1</td>\n",
       "      <td>0</td>\n",
       "      <td>0</td>\n",
       "      <td>-20</td>\n",
       "      <td>7</td>\n",
       "      <td>...</td>\n",
       "      <td>0</td>\n",
       "      <td>0.019541</td>\n",
       "      <td>0</td>\n",
       "      <td>110</td>\n",
       "      <td>0</td>\n",
       "      <td>100</td>\n",
       "      <td>(60MHz-completed without error, 70MHz-complete...</td>\n",
       "      <td>63</td>\n",
       "      <td>%</td>\n",
       "      <td>2020-12-01 15:45:13.817044</td>\n",
       "    </tr>\n",
       "    <tr>\n",
       "      <th>1</th>\n",
       "      <td>1456264</td>\n",
       "      <td>1458415</td>\n",
       "      <td>40</td>\n",
       "      <td>2136</td>\n",
       "      <td>-1</td>\n",
       "      <td>-1</td>\n",
       "      <td>0</td>\n",
       "      <td>0</td>\n",
       "      <td>-20</td>\n",
       "      <td>7</td>\n",
       "      <td>...</td>\n",
       "      <td>0</td>\n",
       "      <td>0.019541</td>\n",
       "      <td>0</td>\n",
       "      <td>110</td>\n",
       "      <td>0</td>\n",
       "      <td>100</td>\n",
       "      <td>(60MHz-completed without error, 70MHz-complete...</td>\n",
       "      <td>63</td>\n",
       "      <td>%</td>\n",
       "      <td>2020-12-01 15:45:18.812037</td>\n",
       "    </tr>\n",
       "    <tr>\n",
       "      <th>2</th>\n",
       "      <td>2236736</td>\n",
       "      <td>2238887</td>\n",
       "      <td>40</td>\n",
       "      <td>2136</td>\n",
       "      <td>-1</td>\n",
       "      <td>-1</td>\n",
       "      <td>0</td>\n",
       "      <td>0</td>\n",
       "      <td>-20</td>\n",
       "      <td>7</td>\n",
       "      <td>...</td>\n",
       "      <td>0</td>\n",
       "      <td>0.019541</td>\n",
       "      <td>0</td>\n",
       "      <td>110</td>\n",
       "      <td>0</td>\n",
       "      <td>100</td>\n",
       "      <td>(60MHz-completed without error, 70MHz-complete...</td>\n",
       "      <td>63</td>\n",
       "      <td>%</td>\n",
       "      <td>2020-12-01 15:45:23.818756</td>\n",
       "    </tr>\n",
       "    <tr>\n",
       "      <th>3</th>\n",
       "      <td>3017208</td>\n",
       "      <td>3019359</td>\n",
       "      <td>40</td>\n",
       "      <td>2136</td>\n",
       "      <td>-1</td>\n",
       "      <td>-1</td>\n",
       "      <td>0</td>\n",
       "      <td>0</td>\n",
       "      <td>-20</td>\n",
       "      <td>7</td>\n",
       "      <td>...</td>\n",
       "      <td>0</td>\n",
       "      <td>0.019541</td>\n",
       "      <td>0</td>\n",
       "      <td>110</td>\n",
       "      <td>0</td>\n",
       "      <td>100</td>\n",
       "      <td>(60MHz-completed without error, 70MHz-complete...</td>\n",
       "      <td>63</td>\n",
       "      <td>%</td>\n",
       "      <td>2020-12-01 15:45:28.842880</td>\n",
       "    </tr>\n",
       "    <tr>\n",
       "      <th>4</th>\n",
       "      <td>3797680</td>\n",
       "      <td>3799831</td>\n",
       "      <td>40</td>\n",
       "      <td>2136</td>\n",
       "      <td>-1</td>\n",
       "      <td>-1</td>\n",
       "      <td>0</td>\n",
       "      <td>0</td>\n",
       "      <td>-20</td>\n",
       "      <td>7</td>\n",
       "      <td>...</td>\n",
       "      <td>0</td>\n",
       "      <td>0.019541</td>\n",
       "      <td>0</td>\n",
       "      <td>110</td>\n",
       "      <td>0</td>\n",
       "      <td>100</td>\n",
       "      <td>(60MHz-completed without error, 70MHz-complete...</td>\n",
       "      <td>63</td>\n",
       "      <td>%</td>\n",
       "      <td>2020-12-01 15:45:33.842036</td>\n",
       "    </tr>\n",
       "    <tr>\n",
       "      <th>...</th>\n",
       "      <td>...</td>\n",
       "      <td>...</td>\n",
       "      <td>...</td>\n",
       "      <td>...</td>\n",
       "      <td>...</td>\n",
       "      <td>...</td>\n",
       "      <td>...</td>\n",
       "      <td>...</td>\n",
       "      <td>...</td>\n",
       "      <td>...</td>\n",
       "      <td>...</td>\n",
       "      <td>...</td>\n",
       "      <td>...</td>\n",
       "      <td>...</td>\n",
       "      <td>...</td>\n",
       "      <td>...</td>\n",
       "      <td>...</td>\n",
       "      <td>...</td>\n",
       "      <td>...</td>\n",
       "      <td>...</td>\n",
       "      <td>...</td>\n",
       "    </tr>\n",
       "    <tr>\n",
       "      <th>123</th>\n",
       "      <td>96673848</td>\n",
       "      <td>96675999</td>\n",
       "      <td>40</td>\n",
       "      <td>2136</td>\n",
       "      <td>-1</td>\n",
       "      <td>-1</td>\n",
       "      <td>0</td>\n",
       "      <td>0</td>\n",
       "      <td>-20</td>\n",
       "      <td>7</td>\n",
       "      <td>...</td>\n",
       "      <td>0</td>\n",
       "      <td>0.019541</td>\n",
       "      <td>0</td>\n",
       "      <td>110</td>\n",
       "      <td>0</td>\n",
       "      <td>100</td>\n",
       "      <td>(60MHz-completed without error, 70MHz-complete...</td>\n",
       "      <td>63</td>\n",
       "      <td>%</td>\n",
       "      <td>2020-12-01 15:55:30.884885</td>\n",
       "    </tr>\n",
       "    <tr>\n",
       "      <th>124</th>\n",
       "      <td>97454320</td>\n",
       "      <td>97456471</td>\n",
       "      <td>40</td>\n",
       "      <td>2136</td>\n",
       "      <td>-1</td>\n",
       "      <td>-1</td>\n",
       "      <td>0</td>\n",
       "      <td>0</td>\n",
       "      <td>-20</td>\n",
       "      <td>7</td>\n",
       "      <td>...</td>\n",
       "      <td>0</td>\n",
       "      <td>0.019541</td>\n",
       "      <td>0</td>\n",
       "      <td>110</td>\n",
       "      <td>0</td>\n",
       "      <td>100</td>\n",
       "      <td>(60MHz-completed without error, 70MHz-complete...</td>\n",
       "      <td>63</td>\n",
       "      <td>%</td>\n",
       "      <td>2020-12-01 15:55:35.892739</td>\n",
       "    </tr>\n",
       "    <tr>\n",
       "      <th>125</th>\n",
       "      <td>98234792</td>\n",
       "      <td>98236943</td>\n",
       "      <td>40</td>\n",
       "      <td>2136</td>\n",
       "      <td>-1</td>\n",
       "      <td>-1</td>\n",
       "      <td>0</td>\n",
       "      <td>0</td>\n",
       "      <td>-20</td>\n",
       "      <td>7</td>\n",
       "      <td>...</td>\n",
       "      <td>0</td>\n",
       "      <td>0.019541</td>\n",
       "      <td>0</td>\n",
       "      <td>110</td>\n",
       "      <td>0</td>\n",
       "      <td>100</td>\n",
       "      <td>(60MHz-completed without error, 70MHz-complete...</td>\n",
       "      <td>63</td>\n",
       "      <td>%</td>\n",
       "      <td>2020-12-01 15:55:40.917794</td>\n",
       "    </tr>\n",
       "    <tr>\n",
       "      <th>126</th>\n",
       "      <td>99015264</td>\n",
       "      <td>99017415</td>\n",
       "      <td>40</td>\n",
       "      <td>2136</td>\n",
       "      <td>-1</td>\n",
       "      <td>-1</td>\n",
       "      <td>0</td>\n",
       "      <td>0</td>\n",
       "      <td>-20</td>\n",
       "      <td>7</td>\n",
       "      <td>...</td>\n",
       "      <td>0</td>\n",
       "      <td>0.019541</td>\n",
       "      <td>0</td>\n",
       "      <td>110</td>\n",
       "      <td>0</td>\n",
       "      <td>100</td>\n",
       "      <td>(60MHz-completed without error, 70MHz-complete...</td>\n",
       "      <td>63</td>\n",
       "      <td>%</td>\n",
       "      <td>2020-12-01 15:55:45.915822</td>\n",
       "    </tr>\n",
       "    <tr>\n",
       "      <th>127</th>\n",
       "      <td>99795736</td>\n",
       "      <td>99797887</td>\n",
       "      <td>40</td>\n",
       "      <td>2136</td>\n",
       "      <td>-1</td>\n",
       "      <td>-1</td>\n",
       "      <td>0</td>\n",
       "      <td>0</td>\n",
       "      <td>-20</td>\n",
       "      <td>7</td>\n",
       "      <td>...</td>\n",
       "      <td>0</td>\n",
       "      <td>0.019541</td>\n",
       "      <td>0</td>\n",
       "      <td>110</td>\n",
       "      <td>0</td>\n",
       "      <td>100</td>\n",
       "      <td>(60MHz-completed without error, 70MHz-complete...</td>\n",
       "      <td>63</td>\n",
       "      <td>%</td>\n",
       "      <td>2020-12-01 15:55:50.933751</td>\n",
       "    </tr>\n",
       "  </tbody>\n",
       "</table>\n",
       "<p>128 rows × 29 columns</p>\n",
       "</div>"
      ],
      "text/plain": [
       "     start_byte  stop_byte  bw  data_size  gerror  gflags  group_id  \\\n",
       "0        675792     677943  40       2136      -1      -1         0   \n",
       "1       1456264    1458415  40       2136      -1      -1         0   \n",
       "2       2236736    2238887  40       2136      -1      -1         0   \n",
       "3       3017208    3019359  40       2136      -1      -1         0   \n",
       "4       3797680    3799831  40       2136      -1      -1         0   \n",
       "..          ...        ...  ..        ...     ...     ...       ...   \n",
       "123    96673848   96675999  40       2136      -1      -1         0   \n",
       "124    97454320   97456471  40       2136      -1      -1         0   \n",
       "125    98234792   98236943  40       2136      -1      -1         0   \n",
       "126    99015264   99017415  40       2136      -1      -1         0   \n",
       "127    99795736   99797887  40       2136      -1      -1         0   \n",
       "\n",
       "     id_antenna  level_offset  n_agc  ...  start_mili      step  stop_channel  \\\n",
       "0             0           -20      7  ...           0  0.019541             0   \n",
       "1             0           -20      7  ...           0  0.019541             0   \n",
       "2             0           -20      7  ...           0  0.019541             0   \n",
       "3             0           -20      7  ...           0  0.019541             0   \n",
       "4             0           -20      7  ...           0  0.019541             0   \n",
       "..          ...           ...    ...  ...         ...       ...           ...   \n",
       "123           0           -20      7  ...           0  0.019541             0   \n",
       "124           0           -20      7  ...           0  0.019541             0   \n",
       "125           0           -20      7  ...           0  0.019541             0   \n",
       "126           0           -20      7  ...           0  0.019541             0   \n",
       "127           0           -20      7  ...           0  0.019541             0   \n",
       "\n",
       "     stop_mega stop_mili  thread_id  \\\n",
       "0          110         0        100   \n",
       "1          110         0        100   \n",
       "2          110         0        100   \n",
       "3          110         0        100   \n",
       "4          110         0        100   \n",
       "..         ...       ...        ...   \n",
       "123        110         0        100   \n",
       "124        110         0        100   \n",
       "125        110         0        100   \n",
       "126        110         0        100   \n",
       "127        110         0        100   \n",
       "\n",
       "                                          tunning_info  type  unit  \\\n",
       "0    (60MHz-completed without error, 70MHz-complete...    63     %   \n",
       "1    (60MHz-completed without error, 70MHz-complete...    63     %   \n",
       "2    (60MHz-completed without error, 70MHz-complete...    63     %   \n",
       "3    (60MHz-completed without error, 70MHz-complete...    63     %   \n",
       "4    (60MHz-completed without error, 70MHz-complete...    63     %   \n",
       "..                                                 ...   ...   ...   \n",
       "123  (60MHz-completed without error, 70MHz-complete...    63     %   \n",
       "124  (60MHz-completed without error, 70MHz-complete...    63     %   \n",
       "125  (60MHz-completed without error, 70MHz-complete...    63     %   \n",
       "126  (60MHz-completed without error, 70MHz-complete...    63     %   \n",
       "127  (60MHz-completed without error, 70MHz-complete...    63     %   \n",
       "\n",
       "            wallclock_datetime  \n",
       "0   2020-12-01 15:45:13.817044  \n",
       "1   2020-12-01 15:45:18.812037  \n",
       "2   2020-12-01 15:45:23.818756  \n",
       "3   2020-12-01 15:45:28.842880  \n",
       "4   2020-12-01 15:45:33.842036  \n",
       "..                         ...  \n",
       "123 2020-12-01 15:55:30.884885  \n",
       "124 2020-12-01 15:55:35.892739  \n",
       "125 2020-12-01 15:55:40.917794  \n",
       "126 2020-12-01 15:55:45.915822  \n",
       "127 2020-12-01 15:55:50.933751  \n",
       "\n",
       "[128 rows x 29 columns]"
      ]
     },
     "execution_count": null,
     "metadata": {},
     "output_type": "execute_result"
    }
   ],
   "source": [
    "metadata[-1][1]"
   ]
  },
  {
   "cell_type": "code",
   "execution_count": null,
   "metadata": {},
   "outputs": [],
   "source": [
    "b2 = multi['blocos'][(63,50)].map(getattrs)"
   ]
  },
  {
   "cell_type": "code",
   "execution_count": null,
   "metadata": {},
   "outputs": [],
   "source": [
    "df2 = pd.DataFrame(b2).set_index('datetime_stamp') ; df2.head()"
   ]
  },
  {
   "cell_type": "code",
   "execution_count": null,
   "metadata": {},
   "outputs": [],
   "source": [
    "b3 = one['blocos'][(63,20)].map(getattrs)"
   ]
  },
  {
   "cell_type": "code",
   "execution_count": null,
   "metadata": {},
   "outputs": [],
   "source": [
    "df3 = pd.DataFrame(b3).set_index('datetime_stamp') ; df3.head()"
   ]
  },
  {
   "cell_type": "code",
   "execution_count": null,
   "metadata": {},
   "outputs": [],
   "source": [
    "dfs = [pd.DataFrame(v.map(getattrs)) for v in one['blocos'].values() ]"
   ]
  },
  {
   "cell_type": "code",
   "execution_count": null,
   "metadata": {},
   "outputs": [],
   "source": [
    "dfs[0]"
   ]
  },
  {
   "cell_type": "code",
   "execution_count": null,
   "metadata": {},
   "outputs": [],
   "source": [
    "dfs[1]"
   ]
  },
  {
   "cell_type": "code",
   "execution_count": null,
   "metadata": {},
   "outputs": [],
   "source": [
    "dfs[2]"
   ]
  },
  {
   "cell_type": "code",
   "execution_count": null,
   "metadata": {},
   "outputs": [],
   "source": [
    "dfs[3]"
   ]
  },
  {
   "cell_type": "code",
   "execution_count": null,
   "metadata": {},
   "outputs": [],
   "source": [
    "dfs[4]"
   ]
  },
  {
   "cell_type": "code",
   "execution_count": null,
   "metadata": {},
   "outputs": [],
   "source": [
    "dfs[5]"
   ]
  },
  {
   "cell_type": "code",
   "execution_count": null,
   "metadata": {},
   "outputs": [],
   "source": [
    "dfs[6]"
   ]
  },
  {
   "cell_type": "code",
   "execution_count": null,
   "metadata": {},
   "outputs": [],
   "source": [
    "dfs[7]"
   ]
  },
  {
   "cell_type": "code",
   "execution_count": null,
   "metadata": {},
   "outputs": [],
   "source": [
    "dfs[8]"
   ]
  },
  {
   "cell_type": "code",
   "execution_count": null,
   "metadata": {},
   "outputs": [],
   "source": [
    "dfs[9]"
   ]
  },
  {
   "cell_type": "code",
   "execution_count": null,
   "metadata": {},
   "outputs": [],
   "source": [
    "dfs[10]"
   ]
  },
  {
   "cell_type": "code",
   "execution_count": null,
   "metadata": {},
   "outputs": [],
   "source": [
    "dfs[11]"
   ]
  },
  {
   "cell_type": "code",
   "execution_count": null,
   "metadata": {},
   "outputs": [],
   "source": []
  }
 ],
 "metadata": {
  "kernelspec": {
   "display_name": "Python [conda env:rfpy_intel]",
   "language": "python",
   "name": "conda-env-rfpy_intel-py"
  }
 },
 "nbformat": 4,
 "nbformat_minor": 4
}
