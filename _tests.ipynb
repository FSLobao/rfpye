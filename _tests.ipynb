{
 "cells": [
  {
   "cell_type": "code",
   "execution_count": null,
   "metadata": {},
   "outputs": [],
   "source": [
    "#hide   \n",
    "import warnings\n",
    "with warnings.catch_warnings():\n",
    "    warnings.simplefilter(\"ignore\")\n",
    "from pprint import pprint as pp\n",
    "from datetime import datetime as dt\n",
    "from typing import *\n",
    "import rfpy\n",
    "from rfpy.parser import *\n",
    "from rfpy.utils import *\n",
    "from rfpy.blocks import *\n",
    "from rfpy.main import export_metadata\n",
    "from nbdev.showdoc import *\n",
    "from fastcore.xtras import Path\n",
    "from fastcore.foundation import L\n",
    "from fastcore.test import *\n",
    "import numpy as np\n",
    "import pandas as pd"
   ]
  },
  {
   "cell_type": "code",
   "execution_count": null,
   "metadata": {},
   "outputs": [
    {
     "name": "stdout",
     "output_type": "stream",
     "text": [
      "The autoreload extension is already loaded. To reload it, use:\n",
      "  %reload_ext autoreload\n"
     ]
    }
   ],
   "source": [
    "#hide\n",
    "%load_ext autoreload\n",
    "%autoreload 2 "
   ]
  },
  {
   "cell_type": "markdown",
   "metadata": {},
   "source": [
    "Caminho das pastas de entrada e saída"
   ]
  },
  {
   "cell_type": "code",
   "execution_count": null,
   "metadata": {},
   "outputs": [],
   "source": [
    "entrada = Path(r'C:\\Users\\rsilva\\Downloads\\entrada')\n",
    "saida = Path(r'C:\\Users\\rsilva\\Downloads\\saida')"
   ]
  },
  {
   "cell_type": "markdown",
   "metadata": {},
   "source": [
    "Função que mapeia os arquivos da pasta e retorna um lista generalizada `L`"
   ]
  },
  {
   "cell_type": "code",
   "execution_count": null,
   "metadata": {},
   "outputs": [
    {
     "data": {
      "text/plain": [
       "(#3) [Path('C:/Users/rsilva/Downloads/entrada/201201_T153421_OneThreadID.bin'),Path('C:/Users/rsilva/Downloads/entrada/201201_T154509_MultiplesThreadID.bin'),Path('C:/Users/rsilva/Downloads/entrada/rfeye002304_SLMA_bimestral_PEAK_200829_234902.bin')]"
      ]
     },
     "execution_count": null,
     "metadata": {},
     "output_type": "execute_result"
    }
   ],
   "source": [
    "arquivos = get_files(entrada) ;  arquivos"
   ]
  },
  {
   "cell_type": "markdown",
   "metadata": {},
   "source": [
    "Peguemos 1 arquivo com somente 1 thread_id por bloco e 1 com múltiplos thread_ids por bloco."
   ]
  },
  {
   "cell_type": "code",
   "execution_count": null,
   "metadata": {},
   "outputs": [],
   "source": [
    "one_tid = arquivos[-1]\n",
    "mult_tid = arquivos[1]"
   ]
  },
  {
   "cell_type": "markdown",
   "metadata": {},
   "source": [
    "On a normal conda environment the time of the following cell was\n",
    "```python\n",
    "%%timeit\n",
    "one = process_bin(one_tid)\n",
    "```\n",
    "1.22 s ± 17.6 ms per loop (mean ± std. dev. of 7 runs, 1 loop each)"
   ]
  },
  {
   "cell_type": "code",
   "execution_count": null,
   "metadata": {},
   "outputs": [
    {
     "name": "stdout",
     "output_type": "stream",
     "text": [
      "Wall time: 657 ms\n"
     ]
    }
   ],
   "source": [
    "%%time\n",
    "one = parse_bin(one_tid)"
   ]
  },
  {
   "cell_type": "markdown",
   "metadata": {},
   "source": [
    "On a normal conda environment the time of the following cell was\n",
    "```python\n",
    "%%timeit\n",
    "multi = process_bin(mult_tid)\n",
    "```\n",
    "1.29 s ± 73.2 ms per loop (mean ± std. dev. of 7 runs, 1 loop each)"
   ]
  },
  {
   "cell_type": "code",
   "execution_count": null,
   "metadata": {},
   "outputs": [
    {
     "name": "stdout",
     "output_type": "stream",
     "text": [
      "Wall time: 1.42 s\n"
     ]
    }
   ],
   "source": [
    "%%time\n",
    "multi = parse_bin(mult_tid)"
   ]
  },
  {
   "cell_type": "code",
   "execution_count": null,
   "metadata": {},
   "outputs": [
    {
     "data": {
      "text/plain": [
       "dict_keys(['file_version', 'string', 'blocos'])"
      ]
     },
     "execution_count": null,
     "metadata": {},
     "output_type": "execute_result"
    }
   ],
   "source": [
    "multi.keys()"
   ]
  },
  {
   "cell_type": "code",
   "execution_count": null,
   "metadata": {},
   "outputs": [
    {
     "data": {
      "text/plain": [
       "22"
      ]
     },
     "execution_count": null,
     "metadata": {},
     "output_type": "execute_result"
    }
   ],
   "source": [
    "multi['file_version']"
   ]
  },
  {
   "cell_type": "code",
   "execution_count": null,
   "metadata": {},
   "outputs": [
    {
     "data": {
      "text/plain": [
       "'CRFS DATA FILE V022'"
      ]
     },
     "execution_count": null,
     "metadata": {},
     "output_type": "execute_result"
    }
   ],
   "source": [
    "multi['string']"
   ]
  },
  {
   "cell_type": "code",
   "execution_count": null,
   "metadata": {},
   "outputs": [
    {
     "data": {
      "text/plain": [
       "defaultdict(fastcore.foundation.L,\n",
       "            {(21,\n",
       "              0): (#1) [((36, 123), <rfpy.blocks.DType21 object at 0x000001A233AD36C8>)],\n",
       "             (41,\n",
       "              0): (#2) [((128, 203), <rfpy.blocks.DType41 object at 0x000001A22C4D6E88>),((208, 335), <rfpy.blocks.DType41 object at 0x000001A22BA5D9C8>)],\n",
       "             (24,\n",
       "              5): (#1) [((340, 375), <rfpy.blocks.DType24 object at 0x000001A22C2AF948>)],\n",
       "             (24,\n",
       "              10): (#1) [((380, 427), <rfpy.blocks.DType24 object at 0x000001A22C2AF6C8>)],\n",
       "             (24,\n",
       "              20): (#1) [((432, 487), <rfpy.blocks.DType24 object at 0x000001A22C2AF848>)],\n",
       "             (24,\n",
       "              30): (#1) [((492, 547), <rfpy.blocks.DType24 object at 0x000001A22EB344C8>)],\n",
       "             (24,\n",
       "              40): (#1) [((552, 607), <rfpy.blocks.DType24 object at 0x000001A22EB34448>)],\n",
       "             (24,\n",
       "              50): (#1) [((612, 667), <rfpy.blocks.DType24 object at 0x000001A22B935288>)],\n",
       "             (24,\n",
       "              60): (#1) [((672, 719), <rfpy.blocks.DType24 object at 0x000001A233AD4188>)],\n",
       "             (24,\n",
       "              70): (#1) [((724, 779), <rfpy.blocks.DType24 object at 0x000001A233AD4908>)],\n",
       "             (24,\n",
       "              80): (#1) [((784, 839), <rfpy.blocks.DType24 object at 0x000001A233AD4DC8>)],\n",
       "             (24,\n",
       "              90): (#1) [((844, 899), <rfpy.blocks.DType24 object at 0x000001A233AD4F08>)],\n",
       "             (24,\n",
       "              100): (#1) [((904, 959), <rfpy.blocks.DType24 object at 0x000001A23A3FB088>)],\n",
       "             (63,\n",
       "              10): (#12813) [((964, 3115), <rfpy.blocks.DType63 object at 0x000001A23A3FB1C8>),((9588, 11739), <rfpy.blocks.DType63 object at 0x000001A23A3FB748>),((18212, 20363), <rfpy.blocks.DType63 object at 0x000001A23A3FBC48>),((22524, 24675), <rfpy.blocks.DType63 object at 0x000001A23A3FBE48>),((31148, 33299), <rfpy.blocks.DType63 object at 0x000001A23A3FF288>),((35460, 37611), <rfpy.blocks.DType63 object at 0x000001A23A3FF508>),((52708, 54859), <rfpy.blocks.DType63 object at 0x000001A23A3FFE08>),((57020, 59171), <rfpy.blocks.DType63 object at 0x000001A23A400048>),((65644, 67795), <rfpy.blocks.DType63 object at 0x000001A23A400448>),((69956, 72107), <rfpy.blocks.DType63 object at 0x000001A23A4005C8>)...],\n",
       "             (63,\n",
       "              30): (#2563) [((3120, 5271), <rfpy.blocks.DType63 object at 0x000001A23A3FB348>),((39772, 41923), <rfpy.blocks.DType63 object at 0x000001A23A3FF708>),((80736, 82887), <rfpy.blocks.DType63 object at 0x000001A23A400B48>),((117388, 119539), <rfpy.blocks.DType63 object at 0x000001A23A402C88>),((158352, 160503), <rfpy.blocks.DType63 object at 0x000001A23A405F48>),((195004, 197155), <rfpy.blocks.DType63 object at 0x000001A23A40A148>),((235968, 238119), <rfpy.blocks.DType63 object at 0x000001A23A40B488>),((272620, 274771), <rfpy.blocks.DType63 object at 0x000001A23A40D5C8>),((313584, 315735), <rfpy.blocks.DType63 object at 0x000001A23A411908>),((350236, 352387), <rfpy.blocks.DType63 object at 0x000001A23A4129C8>)...],\n",
       "             (63,\n",
       "              60): (#12813) [((5276, 7427), <rfpy.blocks.DType63 object at 0x000001A23A3FB4C8>),((13900, 16051), <rfpy.blocks.DType63 object at 0x000001A23A3FB9C8>),((20368, 22519), <rfpy.blocks.DType63 object at 0x000001A23A3FBD48>),((26836, 28987), <rfpy.blocks.DType63 object at 0x000001A23A3FF088>),((33304, 35455), <rfpy.blocks.DType63 object at 0x000001A23A3FF3C8>),((44084, 46235), <rfpy.blocks.DType63 object at 0x000001A23A3FF988>),((54864, 57015), <rfpy.blocks.DType63 object at 0x000001A23A3FFF08>),((61332, 63483), <rfpy.blocks.DType63 object at 0x000001A23A400248>),((67800, 69951), <rfpy.blocks.DType63 object at 0x000001A23A400508>),((74268, 76419), <rfpy.blocks.DType63 object at 0x000001A23A400808>)...],\n",
       "             (63,\n",
       "              80): (#2563) [((7432, 9583), <rfpy.blocks.DType63 object at 0x000001A23A3FB648>),((48396, 50547), <rfpy.blocks.DType63 object at 0x000001A23A3FFB88>),((85048, 87199), <rfpy.blocks.DType63 object at 0x000001A23A400D48>),((126012, 128163), <rfpy.blocks.DType63 object at 0x000001A23A4050C8>),((162664, 164815), <rfpy.blocks.DType63 object at 0x000001A23A4071C8>),((203628, 205779), <rfpy.blocks.DType63 object at 0x000001A23A40A548>),((240280, 242431), <rfpy.blocks.DType63 object at 0x000001A23A40B688>),((281244, 283395), <rfpy.blocks.DType63 object at 0x000001A23A40D9C8>),((317896, 320047), <rfpy.blocks.DType63 object at 0x000001A23A411AC8>),((358860, 361011), <rfpy.blocks.DType63 object at 0x000001A23A412E08>)...],\n",
       "             (63,\n",
       "              20): (#6406) [((11744, 13895), <rfpy.blocks.DType63 object at 0x000001A23A3FB8C8>),((24680, 26831), <rfpy.blocks.DType63 object at 0x000001A23A3FBF48>),((37616, 39767), <rfpy.blocks.DType63 object at 0x000001A23A3FF608>),((59176, 61327), <rfpy.blocks.DType63 object at 0x000001A23A400148>),((72112, 74263), <rfpy.blocks.DType63 object at 0x000001A23A4006C8>),((89360, 91511), <rfpy.blocks.DType63 object at 0x000001A23A400F48>),((102296, 104447), <rfpy.blocks.DType63 object at 0x000001A23A402588>),((115232, 117383), <rfpy.blocks.DType63 object at 0x000001A23A402B88>),((136792, 138943), <rfpy.blocks.DType63 object at 0x000001A23A4055C8>),((149728, 151879), <rfpy.blocks.DType63 object at 0x000001A23A405B48>)...],\n",
       "             (63,\n",
       "              70): (#6406) [((16056, 18207), <rfpy.blocks.DType63 object at 0x000001A23A3FBB48>),((28992, 31143), <rfpy.blocks.DType63 object at 0x000001A23A3FF188>),((46240, 48391), <rfpy.blocks.DType63 object at 0x000001A23A3FFA88>),((63488, 65639), <rfpy.blocks.DType63 object at 0x000001A23A400348>),((76424, 78575), <rfpy.blocks.DType63 object at 0x000001A23A400908>),((93672, 95823), <rfpy.blocks.DType63 object at 0x000001A23A402188>),((106608, 108759), <rfpy.blocks.DType63 object at 0x000001A23A402788>),((123856, 126007), <rfpy.blocks.DType63 object at 0x000001A23A402F88>),((141104, 143255), <rfpy.blocks.DType63 object at 0x000001A23A405788>),((154040, 156191), <rfpy.blocks.DType63 object at 0x000001A23A405D48>)...],\n",
       "             (63,\n",
       "              40): (#1281) [((41928, 44079), <rfpy.blocks.DType63 object at 0x000001A23A3FF888>),((119544, 121695), <rfpy.blocks.DType63 object at 0x000001A23A402D88>),((197160, 199311), <rfpy.blocks.DType63 object at 0x000001A23A40A248>),((274776, 276927), <rfpy.blocks.DType63 object at 0x000001A23A40D6C8>),((352392, 354543), <rfpy.blocks.DType63 object at 0x000001A23A412AC8>),((430008, 432159), <rfpy.blocks.DType63 object at 0x000001A23A417FC8>),((507624, 509775), <rfpy.blocks.DType63 object at 0x000001A23A41D488>),((585240, 587391), <rfpy.blocks.DType63 object at 0x000001A23A423908>),((662856, 665007), <rfpy.blocks.DType63 object at 0x000001A23A426D88>),((744784, 746935), <rfpy.blocks.DType63 object at 0x000001A23A42E4C8>)...],\n",
       "             (63,\n",
       "              90): (#1281) [((50552, 52703), <rfpy.blocks.DType63 object at 0x000001A23A3FFD08>),((128168, 130319), <rfpy.blocks.DType63 object at 0x000001A23A4051C8>),((205784, 207935), <rfpy.blocks.DType63 object at 0x000001A23A40A648>),((283400, 285551), <rfpy.blocks.DType63 object at 0x000001A23A40DAC8>),((361016, 363167), <rfpy.blocks.DType63 object at 0x000001A23A412F08>),((438632, 440783), <rfpy.blocks.DType63 object at 0x000001A23A419408>),((516248, 518399), <rfpy.blocks.DType63 object at 0x000001A23A41D888>),((593864, 596015), <rfpy.blocks.DType63 object at 0x000001A23A423D08>),((673636, 675787), <rfpy.blocks.DType63 object at 0x000001A23A429308>),((753408, 755559), <rfpy.blocks.DType63 object at 0x000001A23A42E8C8>)...],\n",
       "             (63,\n",
       "              50): (#128) [((665012, 667163), <rfpy.blocks.DType63 object at 0x000001A23A426EC8>),((1445484, 1447635), <rfpy.blocks.DType63 object at 0x000001A23A45AEC8>),((2225956, 2228107), <rfpy.blocks.DType63 object at 0x000001A23A48FE88>),((3006428, 3008579), <rfpy.blocks.DType63 object at 0x000001A23A4C1E48>),((3786900, 3789051), <rfpy.blocks.DType63 object at 0x000001A23A4F6E08>),((4567372, 4569523), <rfpy.blocks.DType63 object at 0x000001A23A52AE48>),((5347844, 5349995), <rfpy.blocks.DType63 object at 0x000001A23A55EE08>),((6128316, 6130467), <rfpy.blocks.DType63 object at 0x000001A23A591DC8>),((6908788, 6910939), <rfpy.blocks.DType63 object at 0x000001A23A5C5D88>),((7689260, 7691411), <rfpy.blocks.DType63 object at 0x000001A23A5F9CC8>)...],\n",
       "             (63,\n",
       "              100): (#128) [((675792, 677943), <rfpy.blocks.DType63 object at 0x000001A23A429448>),((1456264, 1458415), <rfpy.blocks.DType63 object at 0x000001A23A45C408>),((2236736, 2238887), <rfpy.blocks.DType63 object at 0x000001A23A4913C8>),((3017208, 3019359), <rfpy.blocks.DType63 object at 0x000001A23A4C5388>),((3797680, 3799831), <rfpy.blocks.DType63 object at 0x000001A23A4F8388>),((4578152, 4580303), <rfpy.blocks.DType63 object at 0x000001A23A52C388>),((5358624, 5360775), <rfpy.blocks.DType63 object at 0x000001A23A561348>),((6139096, 6141247), <rfpy.blocks.DType63 object at 0x000001A23A594308>),((6919568, 6921719), <rfpy.blocks.DType63 object at 0x000001A23A5C8288>),((7700040, 7702191), <rfpy.blocks.DType63 object at 0x000001A23A5FB208>)...]})"
      ]
     },
     "execution_count": null,
     "metadata": {},
     "output_type": "execute_result"
    }
   ],
   "source": [
    "multi['blocos']"
   ]
  },
  {
   "cell_type": "code",
   "execution_count": null,
   "metadata": {},
   "outputs": [],
   "source": [
    "exemplo = multi['blocos'][(21,0)][0]"
   ]
  },
  {
   "cell_type": "code",
   "execution_count": null,
   "metadata": {},
   "outputs": [],
   "source": [
    "bytes_map = exemplo[0]\n",
    "bloco = exemplo[1]"
   ]
  },
  {
   "cell_type": "code",
   "execution_count": null,
   "metadata": {},
   "outputs": [
    {
     "data": {
      "text/plain": [
       "b'rfeye002292\\x00\\x00\\x00\\x00\\x00\\x18\\x00\\x00\\x00CRFS default unit info\\x00\\x00\\x14\\x00\\x00\\x00CRFS default method\\x00\\x00\\x00\\x00'"
      ]
     },
     "execution_count": null,
     "metadata": {},
     "output_type": "execute_result"
    }
   ],
   "source": [
    "bin_data = bloco.data ; bin_data"
   ]
  },
  {
   "cell_type": "code",
   "execution_count": null,
   "metadata": {},
   "outputs": [
    {
     "data": {
      "text/plain": [
       "71"
      ]
     },
     "execution_count": null,
     "metadata": {},
     "output_type": "execute_result"
    }
   ],
   "source": [
    "len(bin_data)"
   ]
  },
  {
   "cell_type": "code",
   "execution_count": null,
   "metadata": {},
   "outputs": [
    {
     "data": {
      "text/plain": [
       "{'data_size': 72,\n",
       " 'file_number': 0,\n",
       " 'hostname': 'rfeye002292',\n",
       " 'method': 'CRFS default method',\n",
       " 'thread_id': 0,\n",
       " 'type': 21,\n",
       " 'unit_info': 'CRFS default unit info'}"
      ]
     },
     "execution_count": null,
     "metadata": {},
     "output_type": "execute_result"
    }
   ],
   "source": [
    "getattrs(bloco)"
   ]
  },
  {
   "cell_type": "markdown",
   "metadata": {},
   "source": [
    "### Mapeamento dos bytes do arquivo nos blocos\n",
    "\n",
    "Vamos testar se o mapeamento do bloco nos bytes do arquivo está correto, para tal vamos ler o arquivo novamente."
   ]
  },
  {
   "cell_type": "code",
   "execution_count": null,
   "metadata": {},
   "outputs": [],
   "source": [
    "with open(mult_tid, mode='rb') as bfile:\n",
    "    # O primeiro bloco do arquivo é o cabeçalho e tem 36 bytes de tamanho.\n",
    "    body = bfile.read()"
   ]
  },
  {
   "cell_type": "markdown",
   "metadata": {},
   "source": [
    "Primeiramente criamos um Bloco Base - Cabeçalho, Dados e Rodapé com a função `create_base_block`."
   ]
  },
  {
   "cell_type": "code",
   "execution_count": null,
   "metadata": {},
   "outputs": [
    {
     "data": {
      "text/markdown": [
       "<h4 id=\"create_base_block\" class=\"doc_header\"><code>create_base_block</code><a href=\"https://github.com/ronaldokun/rfpy/tree/master/rfpy/blocks.py#L25\" class=\"source_link\" style=\"float:right\">[source]</a></h4>\n",
       "\n",
       "> <code>create_base_block</code>(**`bin_block`**:`bytes`)\n",
       "\n",
       "A block is a piece of the .bin file with a known start and end and that contains different types of information.\n",
       "It has several fields: type, header, data and footer.\n",
       "Each field has lengths and information defined in the documentation.\n",
       "Receives a block from the bin file and returns a Base Block instance with the attributes\n",
       "'thread_id', 'block_size', 'block_type', 'block_data', 'checksum'"
      ],
      "text/plain": [
       "<IPython.core.display.Markdown object>"
      ]
     },
     "metadata": {},
     "output_type": "display_data"
    }
   ],
   "source": [
    "show_doc(create_base_block)"
   ]
  },
  {
   "cell_type": "code",
   "execution_count": null,
   "metadata": {},
   "outputs": [],
   "source": [
    "block = create_base_block(body[slice(*bytes_map)])"
   ]
  },
  {
   "cell_type": "markdown",
   "metadata": {},
   "source": [
    "Como vemos na documentação da função acima ela aceita arquivos abertos lidos como `bytes`. Passamos para ela o arquivo aberto `body`, mas somente selecionando deste os índices de bytes `bytes_map` retornados acima.\n",
    "`body[slice(*bytes_map)]` é o mesmo que `body[bytes_map[0]:bytes_map[1]]` mas numa notação mais _pythônica_   "
   ]
  },
  {
   "cell_type": "code",
   "execution_count": null,
   "metadata": {},
   "outputs": [
    {
     "data": {
      "text/plain": [
       "b'rfeye002292\\x00\\x00\\x00\\x00\\x00\\x18\\x00\\x00\\x00CRFS default unit info\\x00\\x00\\x14\\x00\\x00\\x00CRFS default method\\x00\\x00\\x00\\x00'"
      ]
     },
     "execution_count": null,
     "metadata": {},
     "output_type": "execute_result"
    }
   ],
   "source": [
    "block.data"
   ]
  },
  {
   "cell_type": "markdown",
   "metadata": {},
   "source": [
    "A função de teste a seguir testa a igualdade do bloco de dados acima e do bloco de dados diretamente mapeado nos bins, o teste foi bem sucedido caso nada seja retornado"
   ]
  },
  {
   "cell_type": "code",
   "execution_count": null,
   "metadata": {},
   "outputs": [],
   "source": [
    "test_eq(bin_data, block.data)"
   ]
  },
  {
   "cell_type": "code",
   "execution_count": null,
   "metadata": {},
   "outputs": [
    {
     "name": "stdout",
     "output_type": "stream",
     "text": [
      "Wall time: 17.4 s\n"
     ]
    }
   ],
   "source": [
    "%%time\n",
    "metadados = extract_metadata(multi)"
   ]
  },
  {
   "cell_type": "code",
   "execution_count": null,
   "metadata": {},
   "outputs": [
    {
     "data": {
      "text/plain": [
       "(#23) [((21, 0),    start_byte  stop_byte  data_size  file_number     hostname  \\\n",
       "0          36        123         72            0  rfeye002292   \n",
       "\n",
       "                method  thread_id  type               unit_info  File_Version  \n",
       "0  CRFS default method          0    21  CRFS default unit info            22  ),((41, 0),                      start_byte  stop_byte  data_size      identifier  \\\n",
       "wallclock_datetime                                                      \n",
       "2020-12-01 15:45:09         128        203         60     LOGGER_NAME   \n",
       "2020-12-01 15:45:09         208        335        112  LOGGER_VERSION   \n",
       "\n",
       "                     len_text  \\\n",
       "wallclock_datetime              \n",
       "2020-12-01 15:45:09        12   \n",
       "2020-12-01 15:45:09        64   \n",
       "\n",
       "                                                                  text  \\\n",
       "wallclock_datetime                                                       \n",
       "2020-12-01 15:45:09                                           log_main   \n",
       "2020-12-01 15:45:09  build_version=1.6.7;build_date=Oct  2 2018;bui...   \n",
       "\n",
       "                     thread_id  type  File_Version  \n",
       "wallclock_datetime                                  \n",
       "2020-12-01 15:45:09          0    41            22  \n",
       "2020-12-01 15:45:09          0    41            22  ),((24, 5),    start_byte  stop_byte  data_size  group_id      text  text_len  thread_id  \\\n",
       "0         340        375         20         0  GPS data        12          5   \n",
       "\n",
       "   type  File_Version  \n",
       "0    24            22  ),((24, 10),    start_byte  stop_byte  data_size  group_id                     text  \\\n",
       "0         380        427         32         0  trace mode: Clear/Write   \n",
       "\n",
       "   text_len  thread_id  type  File_Version  \n",
       "0        24         10    24            22  ),((24, 20),    start_byte  stop_byte  data_size  group_id                          text  \\\n",
       "0         432        487         40         0  trace mode: Average, count=2   \n",
       "\n",
       "   text_len  thread_id  type  File_Version  \n",
       "0        32         20    24            22  ),((24, 30),    start_byte  stop_byte  data_size  group_id                          text  \\\n",
       "0         492        547         40         0  trace mode: Average, count=5   \n",
       "\n",
       "   text_len  thread_id  type  File_Version  \n",
       "0        32         30    24            22  ),((24, 40),    start_byte  stop_byte  data_size  group_id                           text  \\\n",
       "0         552        607         40         0  trace mode: Average, count=10   \n",
       "\n",
       "   text_len  thread_id  type  File_Version  \n",
       "0        32         40    24            22  ),((24, 50),    start_byte  stop_byte  data_size  group_id                            text  \\\n",
       "0         612        667         40         0  trace mode: Average, count=100   \n",
       "\n",
       "   text_len  thread_id  type  File_Version  \n",
       "0        32         50    24            22  ),((24, 60),    start_byte  stop_byte  data_size  group_id                     text  \\\n",
       "0         672        719         32         0  trace mode: Clear/Write   \n",
       "\n",
       "   text_len  thread_id  type  File_Version  \n",
       "0        24         60    24            22  ),((24, 70),    start_byte  stop_byte  data_size  group_id                          text  \\\n",
       "0         724        779         40         0  trace mode: MaxHold, count=2   \n",
       "\n",
       "   text_len  thread_id  type  File_Version  \n",
       "0        32         70    24            22  )...]"
      ]
     },
     "execution_count": null,
     "metadata": {},
     "output_type": "execute_result"
    }
   ],
   "source": [
    "metadados"
   ]
  },
  {
   "cell_type": "code",
   "execution_count": null,
   "metadata": {},
   "outputs": [
    {
     "data": {
      "text/plain": [
       "(#3) [Path('C:/Users/rsilva/Downloads/entrada/201201_T153421_OneThreadID.bin'),Path('C:/Users/rsilva/Downloads/entrada/201201_T154509_MultiplesThreadID.bin'),Path('C:/Users/rsilva/Downloads/entrada/rfeye002304_SLMA_bimestral_PEAK_200829_234902.bin')]"
      ]
     },
     "execution_count": null,
     "metadata": {},
     "output_type": "execute_result"
    }
   ],
   "source": [
    "export_metadata(entrada, saida)"
   ]
  },
  {
   "cell_type": "code",
   "execution_count": null,
   "metadata": {},
   "outputs": [],
   "source": []
  }
 ],
 "metadata": {
  "kernelspec": {
   "display_name": "Python [conda env:rfpy_intel]",
   "language": "python",
   "name": "conda-env-rfpy_intel-py"
  }
 },
 "nbformat": 4,
 "nbformat_minor": 4
}
