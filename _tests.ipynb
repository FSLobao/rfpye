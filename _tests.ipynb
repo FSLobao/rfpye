{
 "cells": [
  {
   "cell_type": "code",
   "execution_count": null,
   "metadata": {},
   "outputs": [],
   "source": [
    "#hide   \n",
    "import warnings\n",
    "with warnings.catch_warnings():\n",
    "    warnings.simplefilter(\"ignore\")\n",
    "from pprint import pprint as pp\n",
    "import rfpy\n",
    "from rfpy.parser import *\n",
    "from rfpy.utils import *\n",
    "from rfpy.blocks import *\n",
    "from nbdev.showdoc import *\n",
    "from fastcore.xtras import Path\n",
    "from fastcore.foundation import L\n",
    "import numpy as np\n",
    "import pandas as pd"
   ]
  },
  {
   "cell_type": "code",
   "execution_count": null,
   "metadata": {},
   "outputs": [],
   "source": [
    "#hide\n",
    "%load_ext autoreload\n",
    "%autoreload 2 "
   ]
  },
  {
   "cell_type": "code",
   "execution_count": null,
   "metadata": {},
   "outputs": [],
   "source": [
    "entrada = Path(r'C:\\Users\\rsilva\\Downloads\\entrada')\n",
    "saida = Path(r'C:\\Users\\rsilva\\Downloads\\saida')"
   ]
  },
  {
   "cell_type": "code",
   "execution_count": null,
   "metadata": {},
   "outputs": [
    {
     "data": {
      "text/plain": [
       "(#3) [Path('C:/Users/rsilva/Downloads/entrada/201201_T153421_OneThreadID.bin'),Path('C:/Users/rsilva/Downloads/entrada/201201_T154509_MultiplesThreadID.bin'),Path('C:/Users/rsilva/Downloads/entrada/rfeye002304_SLMA_bimestral_PEAK_200829_234902.bin')]"
      ]
     },
     "execution_count": null,
     "metadata": {},
     "output_type": "execute_result"
    }
   ],
   "source": [
    "arquivos = get_files(entrada) ;  arquivos"
   ]
  },
  {
   "cell_type": "code",
   "execution_count": null,
   "metadata": {},
   "outputs": [],
   "source": [
    "one_tid = arquivos[0]\n",
    "mult_tid = arquivos[1]"
   ]
  },
  {
   "cell_type": "markdown",
   "metadata": {},
   "source": [
    "On a normal conda environment the time of the following cell was\n",
    "```python\n",
    "%%timeit\n",
    "one = process_bin(one_tid)\n",
    "```\n",
    "1.22 s ± 17.6 ms per loop (mean ± std. dev. of 7 runs, 1 loop each)"
   ]
  },
  {
   "cell_type": "code",
   "execution_count": null,
   "metadata": {},
   "outputs": [
    {
     "name": "stdout",
     "output_type": "stream",
     "text": [
      "1 loop, best of 5: 1.05 s per loop\n"
     ]
    }
   ],
   "source": [
    "%%timeit\n",
    "one = parse_bin(one_tid)"
   ]
  },
  {
   "cell_type": "markdown",
   "metadata": {},
   "source": [
    "On a normal conda environment the time of the following cell was\n",
    "```python\n",
    "%%timeit\n",
    "multi = process_bin(mult_tid)\n",
    "```\n",
    "1.29 s ± 73.2 ms per loop (mean ± std. dev. of 7 runs, 1 loop each)"
   ]
  },
  {
   "cell_type": "code",
   "execution_count": null,
   "metadata": {},
   "outputs": [
    {
     "name": "stdout",
     "output_type": "stream",
     "text": [
      "1 loop, best of 5: 1.1 s per loop\n"
     ]
    }
   ],
   "source": [
    "%%timeit\n",
    "multi = parse_bin(mult_tid)"
   ]
  },
  {
   "cell_type": "code",
   "execution_count": null,
   "metadata": {},
   "outputs": [],
   "source": [
    "multi = parse_bin(mult_tid)"
   ]
  },
  {
   "cell_type": "code",
   "execution_count": null,
   "metadata": {},
   "outputs": [
    {
     "data": {
      "text/plain": [
       "dict_keys(['file_version', 'string', 'blocos'])"
      ]
     },
     "execution_count": null,
     "metadata": {},
     "output_type": "execute_result"
    }
   ],
   "source": [
    "multi.keys()"
   ]
  },
  {
   "cell_type": "code",
   "execution_count": null,
   "metadata": {},
   "outputs": [
    {
     "data": {
      "text/plain": [
       "22"
      ]
     },
     "execution_count": null,
     "metadata": {},
     "output_type": "execute_result"
    }
   ],
   "source": [
    "multi['file_version']"
   ]
  },
  {
   "cell_type": "code",
   "execution_count": null,
   "metadata": {},
   "outputs": [
    {
     "data": {
      "text/plain": [
       "'CRFS DATA FILE V022'"
      ]
     },
     "execution_count": null,
     "metadata": {},
     "output_type": "execute_result"
    }
   ],
   "source": [
    "multi['string']"
   ]
  },
  {
   "cell_type": "code",
   "execution_count": null,
   "metadata": {},
   "outputs": [
    {
     "data": {
      "text/plain": [
       "defaultdict(fastcore.foundation.L,\n",
       "            {(21,\n",
       "              0): (#1) [<rfpy.blocks.DType21 object at 0x000002058A2F0848>],\n",
       "             (41,\n",
       "              0): (#2) [<rfpy.blocks.DType41 object at 0x000002058A2F0708>,<rfpy.blocks.DType41 object at 0x00000205982591C8>],\n",
       "             (24,\n",
       "              5): (#1) [<rfpy.blocks.DType24 object at 0x0000020598259F88>],\n",
       "             (24,\n",
       "              10): (#1) [<rfpy.blocks.DType24 object at 0x00000205982590C8>],\n",
       "             (24,\n",
       "              20): (#1) [<rfpy.blocks.DType24 object at 0x0000020598259108>],\n",
       "             (24,\n",
       "              30): (#1) [<rfpy.blocks.DType24 object at 0x000002058F6E1708>],\n",
       "             (24,\n",
       "              40): (#1) [<rfpy.blocks.DType24 object at 0x000002059822C708>],\n",
       "             (24,\n",
       "              50): (#1) [<rfpy.blocks.DType24 object at 0x000002059822C6C8>],\n",
       "             (24,\n",
       "              60): (#1) [<rfpy.blocks.DType24 object at 0x000002059822CD88>],\n",
       "             (24,\n",
       "              70): (#1) [<rfpy.blocks.DType24 object at 0x000002059822C548>],\n",
       "             (24,\n",
       "              80): (#1) [<rfpy.blocks.DType24 object at 0x000002059822C288>],\n",
       "             (24,\n",
       "              90): (#1) [<rfpy.blocks.DType24 object at 0x000002059822CE48>],\n",
       "             (24,\n",
       "              100): (#1) [<rfpy.blocks.DType24 object at 0x000002059822C108>],\n",
       "             (63,\n",
       "              10): (#12813) [<rfpy.blocks.DType63 object at 0x000002059822CF88>,<rfpy.blocks.DType63 object at 0x000002058D09AA88>,<rfpy.blocks.DType63 object at 0x0000020598258808>,<rfpy.blocks.DType63 object at 0x0000020598258CC8>,<rfpy.blocks.DType63 object at 0x0000020598258F48>,<rfpy.blocks.DType63 object at 0x000002059824E308>,<rfpy.blocks.DType63 object at 0x000002059822F7C8>,<rfpy.blocks.DType63 object at 0x000002059822F048>,<rfpy.blocks.DType63 object at 0x0000020598255248>,<rfpy.blocks.DType63 object at 0x000002059824E848>...],\n",
       "             (63,\n",
       "              30): (#2563) [<rfpy.blocks.DType63 object at 0x000002058D09A148>,<rfpy.blocks.DType63 object at 0x000002059824E648>,<rfpy.blocks.DType63 object at 0x0000020598255088>,<rfpy.blocks.DType63 object at 0x000002058D0B9088>,<rfpy.blocks.DType63 object at 0x000002058D0BF608>,<rfpy.blocks.DType63 object at 0x00000205982151C8>,<rfpy.blocks.DType63 object at 0x000002059820EB48>,<rfpy.blocks.DType63 object at 0x000002059824C948>,<rfpy.blocks.DType63 object at 0x0000020598241288>,<rfpy.blocks.DType63 object at 0x000002058F6418C8>...],\n",
       "             (63,\n",
       "              60): (#12813) [<rfpy.blocks.DType63 object at 0x000002058D09A6C8>,<rfpy.blocks.DType63 object at 0x0000020598258948>,<rfpy.blocks.DType63 object at 0x0000020598258748>,<rfpy.blocks.DType63 object at 0x0000020598258C88>,<rfpy.blocks.DType63 object at 0x000002059824E7C8>,<rfpy.blocks.DType63 object at 0x000002059824E908>,<rfpy.blocks.DType63 object at 0x000002059822F508>,<rfpy.blocks.DType63 object at 0x000002059822F608>,<rfpy.blocks.DType63 object at 0x0000020598258708>,<rfpy.blocks.DType63 object at 0x0000020598255308>...],\n",
       "             (63,\n",
       "              80): (#2563) [<rfpy.blocks.DType63 object at 0x000002058D09A908>,<rfpy.blocks.DType63 object at 0x000002059824E188>,<rfpy.blocks.DType63 object at 0x000002058CE90808>,<rfpy.blocks.DType63 object at 0x000002058D0B9748>,<rfpy.blocks.DType63 object at 0x000002058D0BFB88>,<rfpy.blocks.DType63 object at 0x0000020598215D88>,<rfpy.blocks.DType63 object at 0x000002059820EF08>,<rfpy.blocks.DType63 object at 0x000002059824CAC8>,<rfpy.blocks.DType63 object at 0x0000020598241688>,<rfpy.blocks.DType63 object at 0x00000205981C7D88>...],\n",
       "             (63,\n",
       "              20): (#6406) [<rfpy.blocks.DType63 object at 0x000002058D09AA08>,<rfpy.blocks.DType63 object at 0x00000205982589C8>,<rfpy.blocks.DType63 object at 0x000002059824EBC8>,<rfpy.blocks.DType63 object at 0x000002059822F348>,<rfpy.blocks.DType63 object at 0x0000020598255DC8>,<rfpy.blocks.DType63 object at 0x000002058CE90FC8>,<rfpy.blocks.DType63 object at 0x000002058D0B91C8>,<rfpy.blocks.DType63 object at 0x000002058D0B9CC8>,<rfpy.blocks.DType63 object at 0x000002058D0B9F08>,<rfpy.blocks.DType63 object at 0x000002058D0BF548>...],\n",
       "             (63,\n",
       "              70): (#6406) [<rfpy.blocks.DType63 object at 0x0000020598258588>,<rfpy.blocks.DType63 object at 0x0000020598258A08>,<rfpy.blocks.DType63 object at 0x000002059824EDC8>,<rfpy.blocks.DType63 object at 0x000002058F14AE48>,<rfpy.blocks.DType63 object at 0x0000020598255D88>,<rfpy.blocks.DType63 object at 0x000002058CEA1F88>,<rfpy.blocks.DType63 object at 0x000002058D0B9448>,<rfpy.blocks.DType63 object at 0x000002058D0B95C8>,<rfpy.blocks.DType63 object at 0x000002058D0BF848>,<rfpy.blocks.DType63 object at 0x000002058D0BFC48>...],\n",
       "             (63,\n",
       "              40): (#1281) [<rfpy.blocks.DType63 object at 0x000002059824E388>,<rfpy.blocks.DType63 object at 0x000002058D0B9208>,<rfpy.blocks.DType63 object at 0x0000020598215AC8>,<rfpy.blocks.DType63 object at 0x000002059824C708>,<rfpy.blocks.DType63 object at 0x00000205981C72C8>,<rfpy.blocks.DType63 object at 0x000002058D0B5F08>,<rfpy.blocks.DType63 object at 0x00000205982245C8>,<rfpy.blocks.DType63 object at 0x0000020598235048>,<rfpy.blocks.DType63 object at 0x00000205982470C8>,<rfpy.blocks.DType63 object at 0x00000205982B0F48>...],\n",
       "             (63,\n",
       "              90): (#1281) [<rfpy.blocks.DType63 object at 0x000002059822F648>,<rfpy.blocks.DType63 object at 0x000002058D0B98C8>,<rfpy.blocks.DType63 object at 0x0000020598215248>,<rfpy.blocks.DType63 object at 0x000002058D0C5BC8>,<rfpy.blocks.DType63 object at 0x00000205981C7648>,<rfpy.blocks.DType63 object at 0x000002058D0B5748>,<rfpy.blocks.DType63 object at 0x0000020598224CC8>,<rfpy.blocks.DType63 object at 0x0000020598235C48>,<rfpy.blocks.DType63 object at 0x000002059825B348>,<rfpy.blocks.DType63 object at 0x00000205A0BE1188>...],\n",
       "             (63,\n",
       "              50): (#128) [<rfpy.blocks.DType63 object at 0x00000205982471C8>,<rfpy.blocks.DType63 object at 0x00000205A0BFF488>,<rfpy.blocks.DType63 object at 0x00000205A0C20C48>,<rfpy.blocks.DType63 object at 0x00000205A0C44448>,<rfpy.blocks.DType63 object at 0x00000205A0C66C08>,<rfpy.blocks.DType63 object at 0x00000205A0C89488>,<rfpy.blocks.DType63 object at 0x00000205A0CABC48>,<rfpy.blocks.DType63 object at 0x00000205A0CCF448>,<rfpy.blocks.DType63 object at 0x00000205A0CF0C08>,<rfpy.blocks.DType63 object at 0x00000205A0D14388>...],\n",
       "             (63,\n",
       "              100): (#128) [<rfpy.blocks.DType63 object at 0x000002059825B0C8>,<rfpy.blocks.DType63 object at 0x00000205A0BFF708>,<rfpy.blocks.DType63 object at 0x00000205A0C20EC8>,<rfpy.blocks.DType63 object at 0x00000205A0C446C8>,<rfpy.blocks.DType63 object at 0x00000205A0C66EC8>,<rfpy.blocks.DType63 object at 0x00000205A0C89708>,<rfpy.blocks.DType63 object at 0x00000205A0CABEC8>,<rfpy.blocks.DType63 object at 0x00000205A0CCF6C8>,<rfpy.blocks.DType63 object at 0x00000205A0CF0E48>,<rfpy.blocks.DType63 object at 0x00000205A0D14608>...],\n",
       "             (0, 0): (#1) [None]})"
      ]
     },
     "execution_count": null,
     "metadata": {},
     "output_type": "execute_result"
    }
   ],
   "source": [
    "multi['blocos']"
   ]
  },
  {
   "cell_type": "code",
   "execution_count": null,
   "metadata": {},
   "outputs": [
    {
     "data": {
      "text/plain": [
       "(#28) ['agc_array','bw','channel','checksum','data_points','datetime_stamp','global_error_code','global_flags_code','group_id','id_antenna'...]"
      ]
     },
     "execution_count": null,
     "metadata": {},
     "output_type": "execute_result"
    }
   ],
   "source": [
    "x = multi['blocos'][(63,10)][0]\n",
    "public_attrs(x)"
   ]
  },
  {
   "cell_type": "code",
   "execution_count": null,
   "metadata": {},
   "outputs": [
    {
     "data": {
      "text/plain": [
       "{'agc_array': array([30, 32, 37, 44, 44, 44, 42], dtype=uint8),\n",
       " 'bw': 40,\n",
       " 'channel': (0, 0),\n",
       " 'checksum': b'\\x00\\xbb0\\x04',\n",
       " 'data_points': 2048,\n",
       " 'datetime_stamp': datetime.datetime(2020, 12, 1, 15, 45, 9, 569136),\n",
       " 'global_error_code': -1,\n",
       " 'global_flags_code': -1,\n",
       " 'group_id': 0,\n",
       " 'id_antenna': 1,\n",
       " 'level_offset': -20,\n",
       " 'n_agc': 7,\n",
       " 'n_padding': -20,\n",
       " 'n_tunning': 7,\n",
       " 'num_meas': 1,\n",
       " 'passo': 0.019540791402051783,\n",
       " 'processing': 'average',\n",
       " 'rbw': 19540,\n",
       " 'size': 2136,\n",
       " 'spent_time_microsecs': 5575,\n",
       " 'start_mega': 70,\n",
       " 'start_mili': 0,\n",
       " 'stop_mega': 110,\n",
       " 'stop_mili': 0,\n",
       " 'thread_id': 10,\n",
       " 'tunning_info': {'60MHz': 'completed without error',\n",
       "  '70MHz': 'completed without error',\n",
       "  '80MHz': 'completed without error',\n",
       "  '90MHz': 'completed without error',\n",
       "  '100MHz': 'completed without error',\n",
       "  '110MHz': 'completed without error',\n",
       "  '120MHz': 'completed without error'},\n",
       " 'type': 63,\n",
       " 'unit': '%'}"
      ]
     },
     "execution_count": null,
     "metadata": {},
     "output_type": "execute_result"
    }
   ],
   "source": [
    "getattrs(x)"
   ]
  },
  {
   "cell_type": "code",
   "execution_count": null,
   "metadata": {},
   "outputs": [
    {
     "ename": "AttributeError",
     "evalue": "'BaseBlock' object has no attribute 'tunning_info_array'",
     "output_type": "error",
     "traceback": [
      "\u001b[1;31m---------------------------------------------------------------------------\u001b[0m",
      "\u001b[1;31mAttributeError\u001b[0m                            Traceback (most recent call last)",
      "\u001b[1;32m<ipython-input-75-425fd79df11f>\u001b[0m in \u001b[0;36m<module>\u001b[1;34m()\u001b[0m\n\u001b[1;32m----> 1\u001b[1;33m \u001b[0mnp\u001b[0m\u001b[1;33m.\u001b[0m\u001b[0mfromiter\u001b[0m\u001b[1;33m(\u001b[0m\u001b[0mx\u001b[0m\u001b[1;33m.\u001b[0m\u001b[0mtunning_info_array\u001b[0m\u001b[1;33m,\u001b[0m \u001b[0mnp\u001b[0m\u001b[1;33m.\u001b[0m\u001b[0muint8\u001b[0m\u001b[1;33m)\u001b[0m\u001b[1;33m\u001b[0m\u001b[1;33m\u001b[0m\u001b[0m\n\u001b[0m",
      "\u001b[1;32mC:\\Users\\rsilva\\Miniconda3\\envs\\rfpy_intel\\lib\\site-packages\\fastcore\\foundation.py\u001b[0m in \u001b[0;36m__getattr__\u001b[1;34m(self, k)\u001b[0m\n\u001b[0;32m     92\u001b[0m         \u001b[1;32mif\u001b[0m \u001b[0mself\u001b[0m\u001b[1;33m.\u001b[0m\u001b[0m_component_attr_filter\u001b[0m\u001b[1;33m(\u001b[0m\u001b[0mk\u001b[0m\u001b[1;33m)\u001b[0m\u001b[1;33m:\u001b[0m\u001b[1;33m\u001b[0m\u001b[1;33m\u001b[0m\u001b[0m\n\u001b[0;32m     93\u001b[0m             \u001b[0mattr\u001b[0m \u001b[1;33m=\u001b[0m \u001b[0mgetattr\u001b[0m\u001b[1;33m(\u001b[0m\u001b[0mself\u001b[0m\u001b[1;33m,\u001b[0m\u001b[0mself\u001b[0m\u001b[1;33m.\u001b[0m\u001b[0m_default\u001b[0m\u001b[1;33m,\u001b[0m\u001b[1;32mNone\u001b[0m\u001b[1;33m)\u001b[0m\u001b[1;33m\u001b[0m\u001b[1;33m\u001b[0m\u001b[0m\n\u001b[1;32m---> 94\u001b[1;33m             \u001b[1;32mif\u001b[0m \u001b[0mattr\u001b[0m \u001b[1;32mis\u001b[0m \u001b[1;32mnot\u001b[0m \u001b[1;32mNone\u001b[0m\u001b[1;33m:\u001b[0m \u001b[1;32mreturn\u001b[0m \u001b[0mgetattr\u001b[0m\u001b[1;33m(\u001b[0m\u001b[0mattr\u001b[0m\u001b[1;33m,\u001b[0m\u001b[0mk\u001b[0m\u001b[1;33m)\u001b[0m\u001b[1;33m\u001b[0m\u001b[1;33m\u001b[0m\u001b[0m\n\u001b[0m\u001b[0;32m     95\u001b[0m         \u001b[1;32mraise\u001b[0m \u001b[0mAttributeError\u001b[0m\u001b[1;33m(\u001b[0m\u001b[0mk\u001b[0m\u001b[1;33m)\u001b[0m\u001b[1;33m\u001b[0m\u001b[1;33m\u001b[0m\u001b[0m\n\u001b[0;32m     96\u001b[0m     \u001b[1;32mdef\u001b[0m \u001b[0m__dir__\u001b[0m\u001b[1;33m(\u001b[0m\u001b[0mself\u001b[0m\u001b[1;33m)\u001b[0m\u001b[1;33m:\u001b[0m \u001b[1;32mreturn\u001b[0m \u001b[0mcustom_dir\u001b[0m\u001b[1;33m(\u001b[0m\u001b[0mself\u001b[0m\u001b[1;33m,\u001b[0m\u001b[0mself\u001b[0m\u001b[1;33m.\u001b[0m\u001b[0m_dir\u001b[0m\u001b[1;33m(\u001b[0m\u001b[1;33m)\u001b[0m\u001b[1;33m)\u001b[0m\u001b[1;33m\u001b[0m\u001b[1;33m\u001b[0m\u001b[0m\n",
      "\u001b[1;32mC:\\Users\\rsilva\\Miniconda3\\envs\\rfpy_intel\\lib\\site-packages\\fastcore\\foundation.py\u001b[0m in \u001b[0;36m__getattr__\u001b[1;34m(self, k)\u001b[0m\n\u001b[0;32m     92\u001b[0m         \u001b[1;32mif\u001b[0m \u001b[0mself\u001b[0m\u001b[1;33m.\u001b[0m\u001b[0m_component_attr_filter\u001b[0m\u001b[1;33m(\u001b[0m\u001b[0mk\u001b[0m\u001b[1;33m)\u001b[0m\u001b[1;33m:\u001b[0m\u001b[1;33m\u001b[0m\u001b[1;33m\u001b[0m\u001b[0m\n\u001b[0;32m     93\u001b[0m             \u001b[0mattr\u001b[0m \u001b[1;33m=\u001b[0m \u001b[0mgetattr\u001b[0m\u001b[1;33m(\u001b[0m\u001b[0mself\u001b[0m\u001b[1;33m,\u001b[0m\u001b[0mself\u001b[0m\u001b[1;33m.\u001b[0m\u001b[0m_default\u001b[0m\u001b[1;33m,\u001b[0m\u001b[1;32mNone\u001b[0m\u001b[1;33m)\u001b[0m\u001b[1;33m\u001b[0m\u001b[1;33m\u001b[0m\u001b[0m\n\u001b[1;32m---> 94\u001b[1;33m             \u001b[1;32mif\u001b[0m \u001b[0mattr\u001b[0m \u001b[1;32mis\u001b[0m \u001b[1;32mnot\u001b[0m \u001b[1;32mNone\u001b[0m\u001b[1;33m:\u001b[0m \u001b[1;32mreturn\u001b[0m \u001b[0mgetattr\u001b[0m\u001b[1;33m(\u001b[0m\u001b[0mattr\u001b[0m\u001b[1;33m,\u001b[0m\u001b[0mk\u001b[0m\u001b[1;33m)\u001b[0m\u001b[1;33m\u001b[0m\u001b[1;33m\u001b[0m\u001b[0m\n\u001b[0m\u001b[0;32m     95\u001b[0m         \u001b[1;32mraise\u001b[0m \u001b[0mAttributeError\u001b[0m\u001b[1;33m(\u001b[0m\u001b[0mk\u001b[0m\u001b[1;33m)\u001b[0m\u001b[1;33m\u001b[0m\u001b[1;33m\u001b[0m\u001b[0m\n\u001b[0;32m     96\u001b[0m     \u001b[1;32mdef\u001b[0m \u001b[0m__dir__\u001b[0m\u001b[1;33m(\u001b[0m\u001b[0mself\u001b[0m\u001b[1;33m)\u001b[0m\u001b[1;33m:\u001b[0m \u001b[1;32mreturn\u001b[0m \u001b[0mcustom_dir\u001b[0m\u001b[1;33m(\u001b[0m\u001b[0mself\u001b[0m\u001b[1;33m,\u001b[0m\u001b[0mself\u001b[0m\u001b[1;33m.\u001b[0m\u001b[0m_dir\u001b[0m\u001b[1;33m(\u001b[0m\u001b[1;33m)\u001b[0m\u001b[1;33m)\u001b[0m\u001b[1;33m\u001b[0m\u001b[1;33m\u001b[0m\u001b[0m\n",
      "\u001b[1;31mAttributeError\u001b[0m: 'BaseBlock' object has no attribute 'tunning_info_array'"
     ]
    }
   ],
   "source": []
  },
  {
   "cell_type": "code",
   "execution_count": null,
   "metadata": {},
   "outputs": [
    {
     "data": {
      "text/plain": [
       "0"
      ]
     },
     "execution_count": null,
     "metadata": {},
     "output_type": "execute_result"
    }
   ],
   "source": [
    "ord(x.tunning_info_array[:4][2:3])"
   ]
  },
  {
   "cell_type": "code",
   "execution_count": null,
   "metadata": {},
   "outputs": [
    {
     "name": "stdout",
     "output_type": "stream",
     "text": [
      "0\n"
     ]
    },
    {
     "ename": "TypeError",
     "evalue": "unsupported operand type(s) for &: 'NoneType' and 'int'",
     "output_type": "error",
     "traceback": [
      "\u001b[1;31m---------------------------------------------------------------------------\u001b[0m",
      "\u001b[1;31mTypeError\u001b[0m                                 Traceback (most recent call last)",
      "\u001b[1;32m<ipython-input-58-d440ca9500da>\u001b[0m in \u001b[0;36m<module>\u001b[1;34m()\u001b[0m\n\u001b[0;32m      1\u001b[0m \u001b[1;32mfor\u001b[0m \u001b[0mi\u001b[0m\u001b[1;33m,\u001b[0m \u001b[0mb\u001b[0m \u001b[1;32min\u001b[0m \u001b[0menumerate\u001b[0m\u001b[1;33m(\u001b[0m\u001b[0mx\u001b[0m\u001b[1;33m.\u001b[0m\u001b[0mtunning_info_array\u001b[0m\u001b[1;33m[\u001b[0m\u001b[1;33m:\u001b[0m\u001b[1;36m4\u001b[0m\u001b[1;33m]\u001b[0m\u001b[1;33m[\u001b[0m\u001b[1;36m2\u001b[0m\u001b[1;33m:\u001b[0m\u001b[1;36m3\u001b[0m\u001b[1;33m]\u001b[0m\u001b[1;33m)\u001b[0m\u001b[1;33m:\u001b[0m\u001b[1;33m\u001b[0m\u001b[1;33m\u001b[0m\u001b[0m\n\u001b[1;32m----> 2\u001b[1;33m     \u001b[0mprint\u001b[0m\u001b[1;33m(\u001b[0m\u001b[0mb\u001b[0m \u001b[1;33m>>\u001b[0m \u001b[0mi\u001b[0m\u001b[1;33m)\u001b[0m \u001b[1;33m&\u001b[0m \u001b[1;36m1\u001b[0m\u001b[1;33m\u001b[0m\u001b[1;33m\u001b[0m\u001b[0m\n\u001b[0m",
      "\u001b[1;31mTypeError\u001b[0m: unsupported operand type(s) for &: 'NoneType' and 'int'"
     ]
    }
   ],
   "source": [
    "for i, b in enumerate(x.tunning_info_array[:4][2:3]):\n",
    "    print(b >> i) & 1"
   ]
  },
  {
   "cell_type": "code",
   "execution_count": null,
   "metadata": {},
   "outputs": [
    {
     "data": {
      "text/plain": [
       "0"
      ]
     },
     "execution_count": null,
     "metadata": {},
     "output_type": "execute_result"
    }
   ],
   "source": [
    "x.tunning_info_array[:4][2]"
   ]
  },
  {
   "cell_type": "code",
   "execution_count": null,
   "metadata": {},
   "outputs": [
    {
     "data": {
      "text/plain": [
       "b'F\\x00\\x00\\x00'"
      ]
     },
     "execution_count": null,
     "metadata": {},
     "output_type": "execute_result"
    }
   ],
   "source": [
    "x.tunning_info_array[4:8]"
   ]
  },
  {
   "cell_type": "code",
   "execution_count": null,
   "metadata": {},
   "outputs": [],
   "source": []
  },
  {
   "cell_type": "code",
   "execution_count": null,
   "metadata": {},
   "outputs": [],
   "source": [
    "exemplo_blocos = multi['blocos'][(63,10)].map(getattrs)"
   ]
  },
  {
   "cell_type": "code",
   "execution_count": null,
   "metadata": {},
   "outputs": [],
   "source": [
    "df = pd.DataFrame(exemplo_blocos).set_index('datetime_stamp') ; df.head()"
   ]
  },
  {
   "cell_type": "code",
   "execution_count": null,
   "metadata": {},
   "outputs": [],
   "source": [
    "df.index.max() - df.index.min()"
   ]
  },
  {
   "cell_type": "code",
   "execution_count": null,
   "metadata": {},
   "outputs": [],
   "source": [
    "ord(x.trailer)"
   ]
  },
  {
   "cell_type": "code",
   "execution_count": null,
   "metadata": {},
   "outputs": [],
   "source": [
    "L(x.trailer)"
   ]
  },
  {
   "cell_type": "code",
   "execution_count": null,
   "metadata": {},
   "outputs": [],
   "source": [
    "bytes(L(x.data).sum())"
   ]
  },
  {
   "cell_type": "code",
   "execution_count": null,
   "metadata": {},
   "outputs": [],
   "source": [
    "x = blocos[(63,100)][0]\n",
    "print(public_attrs(x))"
   ]
  },
  {
   "cell_type": "code",
   "execution_count": null,
   "metadata": {},
   "outputs": [],
   "source": [
    "getattrs(x)"
   ]
  },
  {
   "cell_type": "code",
   "execution_count": null,
   "metadata": {},
   "outputs": [],
   "source": [
    "for attr in public_attrs(x):\n",
    "    print(attr, getattr(x, attr))"
   ]
  },
  {
   "cell_type": "code",
   "execution_count": null,
   "metadata": {},
   "outputs": [],
   "source": []
  },
  {
   "cell_type": "code",
   "execution_count": null,
   "metadata": {},
   "outputs": [],
   "source": [
    "x.block_data"
   ]
  }
 ],
 "metadata": {
  "kernelspec": {
   "display_name": "Python [conda env:rfpy_intel]",
   "language": "python",
   "name": "conda-env-rfpy_intel-py"
  }
 },
 "nbformat": 4,
 "nbformat_minor": 4
}
