{
 "cells": [
  {
   "cell_type": "code",
   "execution_count": null,
   "metadata": {},
   "outputs": [],
   "source": [
    "# default_exp constants"
   ]
  },
  {
   "cell_type": "code",
   "execution_count": null,
   "metadata": {},
   "outputs": [
    {
     "name": "stdout",
     "output_type": "stream",
     "text": [
      "The autoreload extension is already loaded. To reload it, use:\n",
      "  %reload_ext autoreload\n"
     ]
    }
   ],
   "source": [
    "#hide\n",
    "%load_ext autoreload\n",
    "%autoreload 2"
   ]
  },
  {
   "cell_type": "code",
   "execution_count": null,
   "metadata": {},
   "outputs": [],
   "source": [
    "#export\n",
    "from typing import Mapping\n",
    "\n",
    "BASEBLOCK = ['thread_id', 'size', 'type', 'data']\n",
    "\n",
    "EXCLUDE_ATTRS = ['count', 'index', 'default', 'date', 'time', 'nanosecs', \n",
    "                 'data', 'block_data', 'frequencies']\n",
    "\n",
    "DICT_PROCESSING: Mapping[int, str] = {0: 'single measurement', 1: 'average', 2: 'peak', 3: 'minimum'}\n",
    "\n",
    "DICT_UNIT: Mapping[int, str] = {0: '%', 1: 'dBm', 2: 'dBuV/m'}\n",
    "    \n",
    "TUNING_BLOCK: Mapping[int, str] = {0: 'completed without error', 1: 'error occurred', 2: 'radio produced an error',\n",
    "                                   3: 'GPRS transmission occured during capture', 4: 'ADC overflowed during capture'}\n",
    "\n",
    "    \n",
    "BYTES_TIMED = { 0:  slice(0,4),\n",
    "                1:  slice(4,8),\n",
    "                2:  slice(8,12),\n",
    "                3:  slice(12,14),\n",
    "                4:  slice(14,18),\n",
    "                5:  slice(18,20),\n",
    "                6:  slice(20,24),\n",
    "                7:  slice(24,26),\n",
    "                8:  slice(26,28)}\n",
    "    \n",
    "BYTES_63 = BYTES_TIMED.copy()\n",
    "\n",
    "BYTES_63.update({   9:  slice(28,32),\n",
    "                    10: slice(32,36),\n",
    "                    11: slice(36,37),\n",
    "                    12: slice(37,38),\n",
    "                    13: slice(38,39),\n",
    "                    14: slice(39,40),\n",
    "                    15: slice(40,41),\n",
    "                    16: slice(41,42),\n",
    "                    17: slice(42,43),\n",
    "                    18: slice(43,45),\n",
    "                    19: slice(45,47),\n",
    "                    20: slice(47,48),\n",
    "                    21: slice(48,52)})\n",
    "\n",
    "BYTES_64 = BYTES_63.copy()\n",
    "\n",
    "BYTES_64.update({22: slice(52,56), 23: slice(56,60)})\n",
    "\n",
    "BYTES_65 = BYTES_63.copy()\n",
    "\n",
    "BYTES_65.update({10: slice(32,33), \n",
    "                 11: slice(33,34), \n",
    "                 12: slice(34,36),\n",
    "                 13: slice(36,37),\n",
    "                 14: slice(37,38),\n",
    "                 15: slice(38,39),\n",
    "                 16: slice(39,40),\n",
    "                 17: slice(40,42),\n",
    "                 18: slice(42,44),\n",
    "                 19: slice(44,48)})\n",
    "                \n",
    "_ = BYTES_65.pop(20, None), BYTES_65.pop(21, None)"
   ]
  },
  {
   "cell_type": "code",
   "execution_count": null,
   "metadata": {},
   "outputs": [
    {
     "name": "stdout",
     "output_type": "stream",
     "text": [
      "Converted 00_main.ipynb.\n",
      "Converted 01_parser.ipynb.\n",
      "Converted 02_utils.ipynb.\n",
      "Converted 03_blocks.ipynb.\n",
      "Converted 04_constants.ipynb.\n"
     ]
    }
   ],
   "source": [
    "from nbdev.export import notebook2script\n",
    "notebook2script()"
   ]
  },
  {
   "cell_type": "code",
   "execution_count": null,
   "metadata": {},
   "outputs": [],
   "source": []
  }
 ],
 "metadata": {
  "kernelspec": {
   "display_name": "Python [conda env:rfpy_intel]",
   "language": "python",
   "name": "conda-env-rfpy_intel-py"
  }
 },
 "nbformat": 4,
 "nbformat_minor": 4
}
