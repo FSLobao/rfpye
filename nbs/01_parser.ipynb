{
 "cells": [
  {
   "cell_type": "code",
   "execution_count": null,
   "metadata": {},
   "outputs": [],
   "source": [
    "# default_exp parser"
   ]
  },
  {
   "cell_type": "markdown",
   "metadata": {},
   "source": [
    "# Parser\n",
    "> Este módulo processa o arquivo bin e extrai os metadados e dados do espectro dos blocos, além de criar estatísticas das medições.\n",
    "  en: This module process the bin file extracting its metadata and spectrum levels besides extracting useful statistics.\n",
    "  fr: Ce module traite le fichier bin et extrait les métadonnées et les données spectrales des blocs, en plus de créer des statistiques de mesure."
   ]
  },
  {
   "cell_type": "code",
   "execution_count": null,
   "metadata": {},
   "outputs": [
    {
     "name": "stdout",
     "output_type": "stream",
     "text": [
      "The autoreload extension is already loaded. To reload it, use:\n",
      "  %reload_ext autoreload\n",
      "The line_profiler extension is already loaded. To reload it, use:\n",
      "  %reload_ext line_profiler\n",
      "The cython extension is already loaded. To reload it, use:\n",
      "  %reload_ext cython\n"
     ]
    }
   ],
   "source": [
    "#hide\n",
    "import sys, os\n",
    "from pathlib import Path\n",
    "\n",
    "# Insert in Path Project Directory\n",
    "sys.path.insert(0, str(Path().cwd().parent))\n",
    "\n",
    "%load_ext autoreload\n",
    "%autoreload 2 "
   ]
  },
  {
   "cell_type": "code",
   "execution_count": null,
   "metadata": {},
   "outputs": [],
   "source": [
    "#exporti\n",
    "import os\n",
    "import gc\n",
    "from dataclasses import dataclass\n",
    "from pathlib import Path\n",
    "from typing import *\n",
    "from collections import defaultdict, namedtuple\n",
    "from fastcore.basics import partialler, listify\n",
    "from fastcore.utils import parallel\n",
    "from fastcore.foundation import L, GetAttr\n",
    "from rfpye.constants import *\n",
    "from rfpye.blocks import MAIN_BLOCKS\n",
    "from rfpye.utils import get_files, getattrs, bin2int, bin2str, cached_property\n",
    "from rfpye.cyparser import cy_extract_compressed\n",
    "from loguru import logger\n",
    "import pandas as pd\n",
    "import numpy as np\n",
    "from rich import print"
   ]
  },
  {
   "cell_type": "code",
   "execution_count": null,
   "metadata": {},
   "outputs": [
    {
     "data": {
      "text/plain": [
       "[2]"
      ]
     },
     "execution_count": null,
     "metadata": {},
     "output_type": "execute_result"
    }
   ],
   "source": [
    "#exporti\n",
    "# For scripts\n",
    "config = {\n",
    "    \"handlers\": [\n",
    "        {\"sink\": \"parser.log\", \"serialize\": True, 'rotation': \"1 month\", 'compression' :'zip', 'backtrace': True, 'diagnose': True},\n",
    "    ],\n",
    "}\n",
    "logger.configure(**config)"
   ]
  },
  {
   "cell_type": "markdown",
   "metadata": {},
   "source": [
    "## Processamento do Arquivo `.bin` e criação dos diferentes tipos de blocos\n",
    "A função seguinte `parse_bin` recebe um arquivo `.bin` e mapeia os blocos contidos nele retornando um dicionário:\n",
    " * `file_version`: Versão do arquivo `.bin`\n",
    " * `blocks`: Dicionário com os blocos do arquivo `.bin`. Cada tipo de bloco tem sua Classe Própria\n",
    " \n",
    " O dicionário `blocks` retornado tem como chave uma tupla (tipo de bloco, `thread_id`) e os valores como uma lista com os blocos ( classes ) extraídos sequencialmente.\n",
    "\n",
    "O tipo de bloco é a natureza do dado contido, por exemplo: 40 - GPS, 67 - Dado Espectral. O `thread_id` discrimina em geral diferentes \"faixas\" do mesmo tipo de dado. Para dados espectrais, por exemplo, diferentes thread_id representam varreduras de faixas de frequência distintas"
   ]
  },
  {
   "cell_type": "code",
   "execution_count": null,
   "metadata": {},
   "outputs": [],
   "source": [
    "#export\n",
    "def parse_bin(bin_file: Union[str, Path]) -> dict:\n",
    "    \"\"\"Receives a CRFS binfile and returns a dictionary with the file metadata, a GPS Class and a list with the different Spectrum Classes\n",
    "    A block is a piece of the .bin file with a known start and end and that contains different types of information.\n",
    "    It has several fields: file_type, header, data and footer.\n",
    "    Each field has lengths and information defined in the documentation.\n",
    "    Args:\n",
    "        bin_file (Union[str, Path]): path to the bin file\n",
    "\n",
    "    Returns:\n",
    "        Dictionary with the file metadata, file_version, string info, gps and spectrum blocks.\n",
    "    \"\"\"\n",
    "    bin_file = Path(bin_file)\n",
    "    with open(bin_file, mode=\"rb\") as bfile:\n",
    "        # The first block of the file is the header and is 36 bytes long.\n",
    "        header = bfile.read(BYTES_HEADER)\n",
    "        body = bfile.read()\n",
    "    meta = classify_blocks(body.split(ENDMARKER))\n",
    "    parsed = {\n",
    "        \"filename\" : bin_file.name,\n",
    "        \"file_version\": bin2int(header[:4]),\n",
    "        \"string\": bin2str(header[4:]),\n",
    "    }\n",
    "    parsed.update(meta)\n",
    "    return parsed"
   ]
  },
  {
   "cell_type": "markdown",
   "metadata": {},
   "source": [
    "A função a seguir recebe os bytes lidos do arquivo `.bin` e mapeia esses bytes em diferentes classes de acordo com o tipo de bloco"
   ]
  },
  {
   "cell_type": "code",
   "execution_count": null,
   "metadata": {},
   "outputs": [],
   "source": [
    "#export\n",
    "def evaluate_checksum(byte_block: bytes)->int:\n",
    "    \"\"\"Receives a byte_block and verify if the calculated checksum is equal to the one registed in the specific byte\"\"\"\n",
    "    try:\n",
    "        checksum = np.frombuffer(byte_block[-4:], dtype=np.uint32).item()\n",
    "        calculated_checksum = (\n",
    "            np.frombuffer(byte_block[:-4], dtype=np.uint8).sum().astype(np.uint32).item()\n",
    "        )\n",
    "    except ValueError:\n",
    "        return -1\n",
    "    return checksum if calculated_checksum == checksum else -1"
   ]
  },
  {
   "cell_type": "code",
   "execution_count": null,
   "metadata": {},
   "outputs": [],
   "source": [
    "#export\n",
    "@dataclass\n",
    "class BaseBlock:\n",
    "    \"\"\"Basic dataclass describing the attributes present in every block\"\"\"\n",
    "    thread_id: int\n",
    "    size: int\n",
    "    type: int\n",
    "    data: bytes\n",
    "    checksum: int"
   ]
  },
  {
   "cell_type": "code",
   "execution_count": null,
   "metadata": {},
   "outputs": [],
   "source": [
    "#export\n",
    "def byte2base_block(byte_block: bytes) -> Union[BaseBlock, None]:\n",
    "    \"\"\"Receives a byte block from the bin file and returns a dataclass with the attributes\n",
    "    'thread_id', 'size', 'type', 'data', 'checksum' or None in case any error is identified.\n",
    "    \"\"\"\n",
    "    if byte_block == b\"\": return None\n",
    "    checksum = evaluate_checksum(byte_block)\n",
    "    size = bin2int(byte_block[4:8])\n",
    "    data = byte_block[12:-4]\n",
    "    # Discard the block if a fail in checksum or in case of a truncated block\n",
    "    if checksum == -1 or size != len(data): return None\n",
    "    return BaseBlock(bin2int(byte_block[:4]), size, bin2int(byte_block[8:12]), data, checksum)"
   ]
  },
  {
   "cell_type": "code",
   "execution_count": null,
   "metadata": {},
   "outputs": [],
   "source": [
    "#export\n",
    "def create_block(byte_block: bytes)->Union[GetAttr,None]:\n",
    "    \"\"\"Receives a byte_block, and converts it into one of the main classes\n",
    "    Args: byte_block: A byte block directly returned from the file\n",
    "    Returns: The Instance of the Block Type or None in case of error\n",
    "    \"\"\"\n",
    "    base_block = byte2base_block(byte_block)\n",
    "    if not base_block: return None\n",
    "    block_type = base_block.type\n",
    "    constructor = MAIN_BLOCKS.get(block_type)\n",
    "    if not constructor:\n",
    "        _ = logger.log(\"INFO\", f'This block type constructor is not implemented: {block_type}')\n",
    "        return None\n",
    "    block = constructor(base_block)\n",
    "    if getattr(block, \"gerror\", -1) != -1 or getattr(block, 'gps_status', -1) == 0:\n",
    "        _ = logger.log(\"INFO\", f'Block with error: {block_type}')\n",
    "        return None #spectral or gps blocks with error\n",
    "    return block "
   ]
  },
  {
   "cell_type": "code",
   "execution_count": null,
   "metadata": {},
   "outputs": [],
   "source": [
    "#export\n",
    "def keys_from_blocks(block: namedtuple)->namedtuple:\n",
    "    \"\"\"Receives a base block and return a namedtuple with attributes defined in KEY_ATTRS\"\"\"\n",
    "    attrs=KEY_ATTRS.get(block.type, ('type', 'thread_id'))\n",
    "    metadata = namedtuple('metadata', attrs)\n",
    "    values = getattrs(block, attrs=attrs)\n",
    "    return metadata(*values)"
   ]
  },
  {
   "cell_type": "code",
   "execution_count": null,
   "metadata": {},
   "outputs": [],
   "source": [
    "#export\n",
    "@dataclass\n",
    "class CrfsGPS:\n",
    "    \"\"\"Class with the GPS Attributes from the CRFS Bin File\"\"\"\n",
    "    _gps_datetime: L = L()\n",
    "    _latitude: L = L()\n",
    "    _longitude: L = L()\n",
    "    _altitude: L = L()\n",
    "    _num_satellites: L = L()\n",
    "\n",
    "    @property\n",
    "    def latitude(self)->float:\n",
    "        return np.median(self._latitude) if self._latitude else -1\n",
    "    @property\n",
    "    def longitude(self)->float: \n",
    "        return np.median(self._longitude) if self._longitude else -1\n",
    "    @property\n",
    "    def altitude(self)->float:\n",
    "        return np.median(self._altitude) if self._altitude else -1\n",
    "    @property\n",
    "    def num_satellites(self)->float:\n",
    "        return np.median(self._num_satellites) if self._num_satellites else 0\n",
    "        \n",
    "    def __repr__(self):\n",
    "        return f'GPS Data - Median of Coordinates: {self.latitude:.5f}:{self.longitude:.5f}, Altitude: {self.altitude:.2f} #Satellites: {self.num_satellites:.1f} '\n",
    "\n",
    "class CrfsSpectrum(GetAttr):\n",
    "    \"\"\"Class with the metadata and levels of a spectrum block from a CRFS Bin File\"\"\"\n",
    "    def __init__(self, metadata: namedtuple):\n",
    "        self.default = metadata\n",
    "        self.timestamp: L = L()\n",
    "        self._data: list = list()\n",
    "\n",
    "    def append(self, time, data):\n",
    "        self.timestamp.append(time)\n",
    "        self._data.append(data)\n",
    "        \n",
    "    def __len__(self):\n",
    "        return self.levels.shape[0]\n",
    "\n",
    "    def __repr__(self):\n",
    "        return repr(self.default)\n",
    "\n",
    "    def __str__(self):\n",
    "        return f'Blocks of Type: {self.type}, Thread_id: {self.thread_id}, Start: {self.start_mega}MHz. Stop: {self.stop_mega}MHz'\n",
    "\n",
    "    @cached_property\n",
    "    def levels(self):\n",
    "        \"\"\"Return the spectrum levels\"\"\"\n",
    "        if self.type in UNCOMPRESSED:\n",
    "            levels = np.concatenate(self._data, dtype=np.float16).reshape((-1, self.ndata))\n",
    "        elif self.type in COMPRESSED:\n",
    "            levels = cy_extract_compressed(self._data, len(self._data), self.ndata, self.thresh, self.minimum) \n",
    "        else:\n",
    "            raise ValueError(\"The current block is not of type spectrum or it's not implemented yet\")\n",
    "\n",
    "        self._data = None\n",
    "        gc.collect()\n",
    "        return levels\n",
    "    \n",
    "    def matrix(self):\n",
    "        \"\"\"Returns the matrix formed from the spectrum levels and timestamp\"\"\"\n",
    "        frequencies = np.linspace(self.start_mega, self.stop_mega, num=self.ndata)\n",
    "        data = pd.DataFrame(self.levels, index=self.timestamp, columns=frequencies)\n",
    "        data.columns.name = \"Frequencies\"\n",
    "        data.index.name = \"Time\"\n",
    "        return data"
   ]
  },
  {
   "cell_type": "code",
   "execution_count": null,
   "metadata": {},
   "outputs": [],
   "source": [
    "#export\n",
    "def classify_blocks(byte_blocks: Iterable) -> dict:\n",
    "    \"\"\"Receives an iterable with binary blocks and returns a dict with the metadata from file, the gps class and a list with the different spectrum classes\"\"\"\n",
    "    meta = {}\n",
    "    fluxos = {}\n",
    "    gps = CrfsGPS()\n",
    "    gps_attrs = [f'_{k}' for k in BLOCK_ATTRS.get(40, [])]\n",
    "    for byte_block in byte_blocks:\n",
    "        block = create_block(byte_block)\n",
    "        if not block: continue \n",
    "        if block.type  == 40:\n",
    "            for k in BLOCK_ATTRS.get(40, []):\n",
    "                getattr(gps, f'_{k}').append(getattr(block, k))\n",
    "            continue\n",
    "        attrs = getattrs(block, attrs=KEY_ATTRS.get(block.type, []))\n",
    "        if block.type in SPECTRAL_BLOCKS:\n",
    "            if tuple(attrs.values()) not in fluxos:\n",
    "                attributes = [a for a in attrs.keys()] + ['thresh', 'minimum']\n",
    "                metadata = namedtuple('SpecData', attributes)\n",
    "                attributes = list(attrs.values()) + [block.thresh, block.minimum]\n",
    "                fluxos[tuple(attrs.values())] = CrfsSpectrum(metadata(*attributes))\n",
    "            time = getattr(block, 'wallclock_datetime')\n",
    "            attr = 'raw_data' if block.type in (64, 68) else 'levels'\n",
    "            data = getattr(block, attr)\n",
    "            fluxos[tuple(attrs.values())].append(time, data)\n",
    "        else:\n",
    "            meta.update(attrs)\n",
    "    meta['gps'] = gps\n",
    "    meta['spectrum'] = L(fluxos.values())\n",
    "    return meta"
   ]
  },
  {
   "cell_type": "code",
   "execution_count": null,
   "metadata": {},
   "outputs": [],
   "source": [
    "\n",
    "\n",
    "\n"
   ]
  }
 ],
 "metadata": {
  "kernelspec": {
   "display_name": "Python [conda env:rfpye]",
   "language": "python",
   "name": "conda-env-rfpye-py"
  }
 },
 "nbformat": 4,
 "nbformat_minor": 4
}
