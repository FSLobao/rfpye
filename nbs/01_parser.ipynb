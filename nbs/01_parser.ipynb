{
 "cells": [
  {
   "cell_type": "code",
   "execution_count": null,
   "metadata": {},
   "outputs": [],
   "source": [
    "# default_exp parser"
   ]
  },
  {
   "cell_type": "markdown",
   "metadata": {},
   "source": [
    "# Parser\n",
    ">  Este módulo lida com o processamento e análise dos metadados e dados do espectro dos blocos"
   ]
  },
  {
   "cell_type": "code",
   "execution_count": null,
   "metadata": {},
   "outputs": [
    {
     "name": "stdout",
     "output_type": "stream",
     "text": [
      "The autoreload extension is already loaded. To reload it, use:\n",
      "  %reload_ext autoreload\n"
     ]
    }
   ],
   "source": [
    "#hide\n",
    "import sys, os\n",
    "from pathlib import Path\n",
    "\n",
    "# Insert in Path Project Directory\n",
    "sys.path.insert(0, str(Path().cwd().parent))\n",
    "\n",
    "%load_ext autoreload\n",
    "%autoreload 2 "
   ]
  },
  {
   "cell_type": "code",
   "execution_count": null,
   "metadata": {},
   "outputs": [],
   "source": [
    "#exporti\n",
    "import os\n",
    "from pathlib import Path\n",
    "from typing import *\n",
    "from datetime import datetime\n",
    "from collections import defaultdict\n",
    "from fastcore.basics import uniqueify, partialler, listify\n",
    "from fastcore.utils import parallel\n",
    "from fastcore.foundation import L\n",
    "from rich.progress import track\n",
    "from rfpye.blocks import *\n",
    "from rfpye.utils import *\n",
    "from rfpye.constants import *\n",
    "from rfpye.cyparser import cy_extract_compressed\n",
    "import pandas as pd\n",
    "import numpy as np\n",
    "\n",
    "path_type = Union[str, Any]\n",
    "bin_val = Union[int, bytes]\n",
    "bytes_encoded = Union[int, bytes]\n",
    "datetime_object = datetime"
   ]
  },
  {
   "cell_type": "markdown",
   "metadata": {},
   "source": [
    "## Processamento do Arquivo `.bin` e criação dos diferentes tipos de blocos\n",
    "A função seguinte `parse_bin` recebe um arquivo `.bin` e mapeia os blocos contidos nele retornando um dicionário:\n",
    " * `file_version`: Versão do arquivo `.bin`\n",
    " * `blocks`: Dicionário com os blocos do arquivo `.bin`. Cada tipo de bloco tem sua Classe Própria\n",
    " \n",
    " O dicionário `blocks` retornado tem como chave uma tupla (tipo de bloco, `thread_id`) e os valores como uma lista com os blocos ( classes ) extraídos sequencialmente.\n",
    "\n",
    "O tipo de bloco é a natureza do dado contido, por exemplo: 40 - GPS, 67 - Dado Espectral. O `thread_id` discrimina em geral diferentes \"faixas\" do mesmo tipo de dado. Para dados espectrais, por exemplo, diferentes thread_id representam varreduras de faixas de frequência distintas"
   ]
  },
  {
   "cell_type": "code",
   "execution_count": null,
   "metadata": {},
   "outputs": [],
   "source": [
    "#export\n",
    "def parse_bin(\n",
    "    bin_file: Union[str, Path],\n",
    "    btypes: Iterable = MAIN_BLOCKS.keys(),\n",
    "    slice_: slice = None,\n",
    "    bytes_header: int = BYTES_HEADER,\n",
    "    marker: bytes = ENDMARKER,\n",
    ") -> dict:\n",
    "    \"\"\"Receives a CRFS binfile and return a dictionary with its different blocks:\n",
    "\n",
    "\n",
    "    Args:\n",
    "        bin_file (Union[str, Path]): path to the bin file\n",
    "        btypes (Iterable, optional): Restrict processing to only these block types. Defaults to MAIN_BLOCKS.keys().\n",
    "        slice_ (slice, optional): Slice to cut the bin file if desired. Defaults to None.\n",
    "        bytes_header (int, optional): File Header Size. Defaults to BYTES_HEADER.\n",
    "        marker (bytes, optional): Byte marker delimiting the end of one block. Defaults to ENDMARKER.\n",
    "\n",
    "    Returns:\n",
    "        [type]: Dictionary with the bin_file version and dictionary of the different blocks.\n",
    "    \"\"\"\n",
    "\n",
    "    with open(bin_file, mode=\"rb\") as bfile:\n",
    "        # O primeiro bloco do arquivo é o cabeçalho e tem 36 bytes de tamanho.\n",
    "        header = bfile.read(bytes_header)\n",
    "        body = bfile.read()\n",
    "    if slice_ is not None:\n",
    "        assert (\n",
    "            slice_.start >= bytes_header\n",
    "        ), f\"The start of your slice has to be >= {bytes_header}, you passed {slice_.start} \"\n",
    "        body = body[slice_]\n",
    "    return {\n",
    "        \"file_version\": bin2int(header[:4]),\n",
    "        #         \"string\": bin2str(header[4:]),\n",
    "        \"blocks\": classify_blocks(body.split(marker), btypes=btypes),\n",
    "    }"
   ]
  },
  {
   "cell_type": "markdown",
   "metadata": {},
   "source": [
    "A função a seguir recebe os bytes lidos do arquivo `.bin` e mapeia esses bytes em diferentes classes de acordo com o tipo de bloco"
   ]
  },
  {
   "cell_type": "code",
   "execution_count": null,
   "metadata": {},
   "outputs": [],
   "source": [
    "#export\n",
    "def classify_blocks(\n",
    "    blocks: Iterable, btypes: Iterable = MAIN_BLOCKS.keys()\n",
    ") -> Mapping[Tuple, Tuple]:\n",
    "    \"\"\"Receives an iterable L with binary blocks and returns a defaultdict with a tuple (block types, thread_id) as keys and a list of the Class Blocks as values\n",
    "    :param file: A string or pathlib.Path like path to a `.bin`file generated by CFRS - Logger\n",
    "    :return: A Dictionary with block types as keys and a list of the Class Blocks available as values\n",
    "    \"\"\"\n",
    "    map_block: Mapping[Tuple, L] = defaultdict(L)\n",
    "    btypes = listify(btypes)\n",
    "#     index = BYTES_HEADER\n",
    "    for block in blocks:\n",
    "        if block == b'': continue\n",
    "        checksum = np.frombuffer(block[-4:], dtype=np.uint32).item()\n",
    "        calculated_checksum = np.frombuffer(block[:-4], dtype=np.uint8).sum().astype(np.uint32).item()\n",
    "        if calculated_checksum != checksum: continue\n",
    "        bloco_base = create_base_block(block, checksum)\n",
    "        btype, btid = bloco_base.type, bloco_base.thread_id\n",
    "#         stop = index + DATA_BLOCK_HEADER + len(bloco_base.data) + CHECKSUM\n",
    "        if btype not in btypes:\n",
    "            #             index = stop + LEN_MARKER\n",
    "            continue\n",
    "        bloco = block_constructor(btype, bloco_base)\n",
    "        if btype in SPECTRAL_BLOCKS:\n",
    "            gerror = getattr(bloco, \"gerror\", 0)\n",
    "            if gerror != -1:\n",
    "                continue\n",
    "#                index = stop + LEN_MARKER\n",
    "        if btype == GPS_BLOCK:\n",
    "            if not getattr(bloco, \"gps_status\"):\n",
    "                continue  # equals to zero\n",
    "\n",
    "        map_block[(btype, btid)].append(bloco)\n",
    "#         index = stop + LEN_MARKER\n",
    "    return map_block"
   ]
  },
  {
   "cell_type": "code",
   "execution_count": null,
   "metadata": {},
   "outputs": [],
   "source": [
    "#exporti\n",
    "def _extract_uncompressed(\n",
    "    blocks: Iterable, rows: int, cols: int, min_level: float, dtype=np.float16\n",
    "):\n",
    "    levels = np.full((rows, cols), min_level, dtype=dtype)\n",
    "    block_data = \"raw_data\" if dtype == np.uint8 else \"block_data\"\n",
    "    for b, block in enumerate(blocks):\n",
    "        levels[b] = getattr(block, block_data)\n",
    "    return levels"
   ]
  },
  {
   "cell_type": "code",
   "execution_count": null,
   "metadata": {},
   "outputs": [],
   "source": [
    "#export\n",
    "def extract_level(spectrum_blocks: L, dtype=np.float32) -> pd.DataFrame:\n",
    "    \"\"\"Receives a mapping `spectrum_blocks` and returns the Matrix with the Levels as values, Frequencies as columns and Block Number as index.\n",
    "    :param pivoted: If False, optionally returns an unpivoted version of the Matrix\n",
    "    \"\"\"\n",
    "    assert len(spectrum_blocks), f\"The spectrum block list is empty\"\n",
    "#     spectrum_blocks = spectrum_blocks.itemgot(1)\n",
    "    block = spectrum_blocks[0]\n",
    "    assert block.type in (63, 64, 67, 68), f\"The input blocks are not spectral blocks\"\n",
    "    rows = len(spectrum_blocks)\n",
    "    cols = min(len(block.data[block.start:block.stop]), block.ndata)\n",
    "    if dtype == np.uint8:\n",
    "        min_level = 0\n",
    "    else:\n",
    "        min_level = block.offset - 127.5\n",
    "    if block.type in (63, 67):\n",
    "#         frequencies = getattr(block, \"frequencies\")\n",
    "        return _extract_uncompressed(spectrum_blocks, rows, cols, min_level, dtype)\n",
    "    else:\n",
    "        thresh = block.thresh - 1\n",
    "        block_data = [b.raw_data for b in spectrum_blocks]\n",
    "#         frequencies = np.linspace(block.start_mega, block.stop_mega, num=cols)\n",
    "        levels = cy_extract_compressed(block_data, rows, cols, thresh, min_level)\n",
    "        if dtype != np.float32:\n",
    "            levels = levels.astype(dtype)\n",
    "        return levels"
   ]
  },
  {
   "cell_type": "code",
   "execution_count": null,
   "metadata": {},
   "outputs": [],
   "source": [
    "#exporti\n",
    "def meta2df(meta_list: Iterable, optimize: bool = True) -> pd.DataFrame:\n",
    "    \"\"\"Receives and Iterable `metalist` with metadata and converts it to a DataFrame\"\"\"\n",
    "    df = pd.DataFrame(meta_list)\n",
    "    dt_features = [\"wallclock_datetime\"] if \"wallclock_datetime\" in df.columns else []\n",
    "    if optimize:\n",
    "        df = df_optimize(df, dt_features)\n",
    "    if dt_features:\n",
    "        df = df.set_index(\"wallclock_datetime\")\n",
    "    return df"
   ]
  },
  {
   "cell_type": "code",
   "execution_count": null,
   "metadata": {},
   "outputs": [],
   "source": [
    "#exporti\n",
    "def rowattrs(row, attrs):\n",
    "    return {\n",
    "        **{\"start_byte\": row[0][0], \"stop_byte\": row[0][1]},\n",
    "        **getattrs(row[1], attrs),\n",
    "    }"
   ]
  },
  {
   "cell_type": "code",
   "execution_count": null,
   "metadata": {},
   "outputs": [],
   "source": [
    "#export\n",
    "def meta_from_blocks(blocks: L, attrs: list = None) -> pd.DataFrame:\n",
    "    \"\"\"Receives a list of blocks, extracts the metadata from them and return a DataFrame\"\"\"\n",
    "    func = partialler(getattrs, attrs=attrs)\n",
    "    df = meta2df(blocks.map(func))\n",
    "    return df"
   ]
  },
  {
   "cell_type": "code",
   "execution_count": null,
   "metadata": {},
   "outputs": [],
   "source": [
    "#exporti\n",
    "def _extract_metadata(\n",
    "    parsed_blocks: tuple,\n",
    "    attributes: Union[None, dict] = None,\n",
    ") -> Union[None, pd.DataFrame]:\n",
    "\n",
    "    (tipo, tid), blocos = parsed_blocks\n",
    "    if attributes is None:\n",
    "        attrs = None\n",
    "    elif isinstance(attributes, dict):\n",
    "        attrs = attributes.get(tipo)\n",
    "    else:\n",
    "        raise ValueError(\n",
    "            f\"Formato desconhecido do argumento {attributes}:{type(attributes)}, é esperado um dicionário\"\n",
    "        )\n",
    "    meta = meta_from_blocks(blocos, attrs)\n",
    "\n",
    "    return (tipo, tid), meta"
   ]
  },
  {
   "cell_type": "code",
   "execution_count": null,
   "metadata": {},
   "outputs": [],
   "source": [
    "def extract_metadata(blocks: dict, attributes: Union[None, dict] = None) -> dict:\n",
    "    if not isinstance(blocks, dict):\n",
    "        raise TypeError(\n",
    "            f\"It's expected the argument {blocks} to be a mapping (block type, thread_id) : List of Blocks\"\n",
    "        )\n",
    "\n",
    "    func = partialler(_extract_metadata, attributes=attributes)\n",
    "    func.__module__ = _extract_metadata.__module__\n",
    "    return dict(parallel(func, list(blocks.items()), n_workers=os.cpu_count()))"
   ]
  },
  {
   "cell_type": "code",
   "execution_count": null,
   "metadata": {},
   "outputs": [],
   "source": [
    "#exporti\n",
    "def _export_level(\n",
    "    parsed_blocks: tuple,\n",
    "    stem: Union[str, Path],\n",
    "    saida: Union[str, Path],\n",
    "    ext: str = \".fth\",\n",
    "    dtype: Union[str, np.dtype] = np.float16,\n",
    ") -> Union[None, pd.DataFrame]:\n",
    "\n",
    "    ((tipo, tid), blocos), index = parsed_blocks\n",
    "    assert (\n",
    "        tipo in SPECTRAL_BLOCKS\n",
    "    ), \"Tentativa de extrair espectro de um bloco que não é espectral\"\n",
    "\n",
    "    saida = Path(saida)\n",
    "    level = extract_level(blocos, dtype)\n",
    "    if index is not None:\n",
    "        level.index = index\n",
    "\n",
    "    name = f\"{stem}-B_{tipo}_TId_{tid}\"\n",
    "    if ext == \".fth\":\n",
    "        if index is not None:\n",
    "            level = level.reset_index()\n",
    "        level.columns = [str(c) for c in level.columns]\n",
    "        level.to_feather(f\"{saida}/{name}{ext}\")\n",
    "    else:\n",
    "        raise ValueError(f\"Extension {ext} not implemented\")"
   ]
  },
  {
   "cell_type": "code",
   "execution_count": null,
   "metadata": {},
   "outputs": [],
   "source": [
    "#export\n",
    "def export_level(\n",
    "    stem: Union[str, Path],\n",
    "    blocks: dict,\n",
    "    saida: Union[str, Path],\n",
    "    ext: str = \".fth\",\n",
    "    index: pd.DatetimeIndex = None,\n",
    "    dtype: Union[str, np.dtype] = np.float16,\n",
    ") -> None:\n",
    "\n",
    "    blocks = [((t, i), b) for (t, i), b in blocks.items() if t in SPECTRAL_BLOCKS]\n",
    "    if not index:\n",
    "        index = [None] * len(blocks)\n",
    "    items = list(zip(blocks, index))\n",
    "    func = partialler(_export_level, stem=stem, saida=saida, ext=ext, dtype=dtype)\n",
    "    func.__module__ = _export_meta.__module__\n",
    "    parallel(func, items, n_workers=os.cpu_count())"
   ]
  },
  {
   "cell_type": "code",
   "execution_count": null,
   "metadata": {},
   "outputs": [
    {
     "name": "stdout",
     "output_type": "stream",
     "text": [
      "Converted 00_filter.ipynb.\n",
      "Converted 01_parser.ipynb.\n",
      "Converted 02_utils.ipynb.\n",
      "Converted 03_blocks.ipynb.\n",
      "Converted 04_constants.ipynb.\n",
      "Converted index.ipynb.\n"
     ]
    }
   ],
   "source": [
    "#hide\n",
    "from nbdev.export import notebook2script; notebook2script()"
   ]
  },
  {
   "cell_type": "code",
   "execution_count": null,
   "metadata": {},
   "outputs": [],
   "source": []
  }
 ],
 "metadata": {
  "kernelspec": {
   "display_name": "Python 3",
   "language": "python",
   "name": "python3"
  }
 },
 "nbformat": 4,
 "nbformat_minor": 4
}
