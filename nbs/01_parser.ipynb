{
 "cells": [
  {
   "cell_type": "code",
   "execution_count": null,
   "metadata": {},
   "outputs": [],
   "source": [
    "# default_exp parser"
   ]
  },
  {
   "cell_type": "markdown",
   "metadata": {},
   "source": [
    "# Parser\n",
    "> Este módulo processa o arquivo bin e extrai os metadados e dados do espectro dos blocos, além de criar estatísticas das medições.\n",
    "  en: This module process the bin file extracting its metadata and spectrum levels besides extracting useful statistics.\n",
    "  fr: Ce module traite le fichier bin et extrait les métadonnées et les données spectrales des blocs, en plus de créer des statistiques de mesure."
   ]
  },
  {
   "cell_type": "code",
   "execution_count": null,
   "metadata": {},
   "outputs": [],
   "source": [
    "#export\n",
    "import sys, os\n",
    "from pathlib import Path\n",
    "\n",
    "# Insert in Path Project Directory\n",
    "sys.path.insert(0, str(Path().cwd().parent))"
   ]
  },
  {
   "cell_type": "code",
   "execution_count": null,
   "metadata": {},
   "outputs": [
    {
     "name": "stdout",
     "output_type": "stream",
     "text": [
      "The autoreload extension is already loaded. To reload it, use:\n",
      "  %reload_ext autoreload\n",
      "The line_profiler extension is already loaded. To reload it, use:\n",
      "  %reload_ext line_profiler\n",
      "The cython extension is already loaded. To reload it, use:\n",
      "  %reload_ext cython\n"
     ]
    }
   ],
   "source": [
    "%load_ext autoreload\n",
    "%load_ext line_profiler\n",
    "%load_ext cython\n",
    "%autoreload 2 "
   ]
  },
  {
   "cell_type": "code",
   "execution_count": null,
   "metadata": {},
   "outputs": [
    {
     "data": {
      "text/plain": [
       "[2]"
      ]
     },
     "execution_count": null,
     "metadata": {},
     "output_type": "execute_result"
    }
   ],
   "source": [
    "#exporti\n",
    "import os\n",
    "import gc\n",
    "from pathlib import Path\n",
    "from typing import *\n",
    "from dataclasses import make_dataclass\n",
    "from fastcore.basics import partialler\n",
    "from fastcore.utils import parallel\n",
    "from fastcore.foundation import L, GetAttr\n",
    "from rfpye.constants import *\n",
    "from rfpye.blocks import MAIN_BLOCKS, BaseBlock\n",
    "from rfpye.utils import get_files, getattrs, bin2int, bin2str, cached\n",
    "from rfpye.cyparser import cy_extract_compressed\n",
    "from loguru import logger\n",
    "import pandas as pd\n",
    "import numpy as np\n",
    "from rich import print\n",
    "\n",
    "# For scripts\n",
    "config = {\n",
    "    \"handlers\": [\n",
    "        {\n",
    "            \"sink\": \"parser.log\",\n",
    "            \"serialize\": True,\n",
    "            \"rotation\": \"1 month\",\n",
    "            \"compression\": \"zip\",\n",
    "            \"backtrace\": True,\n",
    "            \"diagnose\": True,\n",
    "        },\n",
    "    ],\n",
    "}\n",
    "logger.configure(**config)"
   ]
  },
  {
   "cell_type": "code",
   "execution_count": null,
   "metadata": {},
   "outputs": [],
   "source": [
    "#exports\n",
    "class CrfsGPS:\n",
    "    \"\"\"Class with the GPS Attributes from the CRFS Bin File\"\"\"\n",
    "    def __init__(self) -> None:\n",
    "        self._data: L = L()\n",
    "\n",
    "    def __len__(self):\n",
    "        return len(self._data)\n",
    "\n",
    "    def __getitem__(self, key):\n",
    "        return self._latitude[key], self._longitude[key], self._altitude[key], self._num_satellites[key]\n",
    "\n",
    "    def __iter__(self):\n",
    "        return zip(self._latitude, self._longitude, self._altitude, self._num_satellites)\n",
    "\n",
    "    @cached\n",
    "    def _gps_datetime(self):\n",
    "        return self._data.attrgot(\"gps_datetime\")\n",
    "\n",
    "    @cached\n",
    "    def _latitude(self):\n",
    "        return self._data.attrgot(\"latitude\")\n",
    "\n",
    "    @cached\n",
    "    def _longitude(self):\n",
    "        return self._data.attrgot(\"longitude\")\n",
    "\n",
    "    @cached\n",
    "    def _altitude(self):\n",
    "        return self._data.attrgot(\"altitude\")\n",
    "\n",
    "    @cached\n",
    "    def _num_satellites(self):\n",
    "        return self._data.attrgot(\"num_satellites\")\n",
    "\n",
    "    @property\n",
    "    def latitude(self) -> float:\n",
    "        return np.median(self._latitude) if self._latitude else -1\n",
    "\n",
    "    @property\n",
    "    def longitude(self) -> float:\n",
    "        return np.median(self._longitude) if self._longitude else -1\n",
    "\n",
    "    @property\n",
    "    def altitude(self) -> float:\n",
    "        return np.median(self._altitude) if self._altitude else -1\n",
    "\n",
    "    @property\n",
    "    def num_satellites(self) -> float:\n",
    "        return np.median(self._num_satellites) if self._num_satellites else 0\n",
    "\n",
    "    def __repr__(self):\n",
    "        return f\"GPS Data - Median of Coordinates: {self.latitude:.5f}:{self.longitude:.5f} Altitude: {self.altitude:.2f} #Satellites: {self.num_satellites:.1f}\"\n",
    "\n",
    "\n",
    "class CrfsSpectrum(GetAttr):\n",
    "    \"\"\"Class with the metadata and levels of a spectrum block from a CRFS Bin File\"\"\"\n",
    "\n",
    "    def __init__(self, metadata, precision=np.float32):\n",
    "        self.default = metadata\n",
    "        self._data: L = L()\n",
    "        self.precision = precision\n",
    "\n",
    "    def __getitem__(self, key):\n",
    "        return self.timestamp[key], self.levels[key]\n",
    "\n",
    "    def __iter__(self):\n",
    "        return zip(self.timestamp, self.levels)\n",
    "\n",
    "    def __len__(self):\n",
    "        return len(self._data)\n",
    "\n",
    "    def __repr__(self):\n",
    "        return repr(self.default)\n",
    "\n",
    "    def __str__(self):\n",
    "        return f\"\"\"Blocks of Type: {self.type}, Thread_id: {self.thread_id}, Start: {self.start_mega} MHz, Stop: {self.stop_mega} MHz\"\"\"\n",
    "\n",
    "    @cached\n",
    "    def timestamp(self):\n",
    "        return self._data.attrgot('wallclock_datetime')\n",
    "\n",
    "    @cached\n",
    "    def start_dateidx(self):\n",
    "        return getattr(self._data[0], 'wallclock_datetime').item()\n",
    "\n",
    "    @cached\n",
    "    def stop_dateidx(self):\n",
    "        return getattr(self._data[-1], 'wallclock_datetime').item()\n",
    "\n",
    "    @cached\n",
    "    def levels(self):\n",
    "        \"\"\"Return the spectrum levels\"\"\"\n",
    "        if self.type in UNCOMPRESSED:\n",
    "            levels = np.empty((len(self._data), self.ndata), dtype=self.precision)\n",
    "            for i, level in enumerate(self._data.attrgot('levels')):\n",
    "                levels[i,:] = level\n",
    "            # levels = np.concatenate(self._data.attrgot('levels')).reshape((-1, self.ndata))\n",
    "        elif self.type in COMPRESSED:\n",
    "            levels = cy_extract_compressed(\n",
    "                list(self._data.attrgot('levels')),\n",
    "                len(self._data),\n",
    "                int(self.ndata),\n",
    "                int(self.thresh),\n",
    "                float(self.minimum),\n",
    "            )\n",
    "        else:\n",
    "            raise ValueError(\n",
    "                \"The current block is not of type spectrum or it's not implemented yet\"\n",
    "            )\n",
    "        if self.precision != np.float32:\n",
    "            levels = levels.astype(self.precision)\n",
    "        return levels\n",
    "\n",
    "    @cached\n",
    "    def frequencies(self) -> np.ndarray:\n",
    "        return np.linspace(self.start_mega, self.stop_mega, num=self.ndata)\n",
    "\n",
    "    def matrix(self):\n",
    "        \"\"\"Returns the matrix formed from the spectrum levels and timestamp\"\"\"\n",
    "        index = self.timestamp if len(self.timestamp) == len(self) else None\n",
    "        data = pd.DataFrame(self.levels, index=index, columns=self.frequencies)\n",
    "        data.columns.name = \"Frequencies\"\n",
    "        data.index.name = \"Time\"\n",
    "        return data"
   ]
  },
  {
   "cell_type": "code",
   "execution_count": null,
   "metadata": {},
   "outputs": [],
   "source": [
    "#exporti\n",
    "def append_spec_data(block_type, fluxos, block, precision=np.float32) -> None:\n",
    "    \"\"\"Append the spectrum data to the fluxos dict\"\"\"\n",
    "    keys, vals = getattrs(block, KEY_ATTRS.get(block_type), as_tuple=True)\n",
    "    if vals not in fluxos:\n",
    "        metadata = make_dataclass('Spectrum', fields=[(k,type(k)) for k in keys], eq=True, frozen=True)\n",
    "        fluxos[vals] = CrfsSpectrum(metadata(*vals), precision)\n",
    "    fluxos[vals]._data.append(block)"
   ]
  },
  {
   "cell_type": "markdown",
   "metadata": {},
   "source": [
    "## Processamento do Arquivo `.bin` e criação dos diferentes tipos de blocos"
   ]
  },
  {
   "cell_type": "code",
   "execution_count": null,
   "metadata": {},
   "outputs": [],
   "source": [
    "#exporti\n",
    "def evaluate_checksum(file, next_block, data_size) -> int:\n",
    "    \"\"\"Receives a byte_block and verify if the calculated checksum is equal to the one registed in the specific byte\"\"\"\n",
    "    try:\n",
    "        checksum = np.frombuffer(file.read(4), np.uint32).item()\n",
    "    except ValueError:\n",
    "        logger.error(f\"Erro na leitura do checksum, posição: {file.tell()}\")\n",
    "        return None\n",
    "    block_size = file.tell() - next_block\n",
    "    file.seek(-block_size, 1) # Go back to the beginning of the block\n",
    "    calculated_checksum = (\n",
    "            np.frombuffer(file.read(12+data_size), dtype=np.uint8)\n",
    "            .sum()\n",
    "            .astype(np.uint32)\n",
    "            .item()\n",
    "        )\n",
    "    file.seek(4,1) # skip checksum\n",
    "    if checksum != calculated_checksum:\n",
    "        logger.error(f\"Checksum diferente: {checksum} != {calculated_checksum}. Posicao: {file.tell()}\")\n",
    "        return None\n",
    "    return checksum"
   ]
  },
  {
   "cell_type": "code",
   "execution_count": null,
   "metadata": {},
   "outputs": [],
   "source": [
    "#exporti\n",
    "def buffer2base_block(file, next_block: int) -> Union[BaseBlock, None]:\n",
    "    \"\"\"Receives an opened file buffer from the bin file and returns a dataclass with the attributes\n",
    "    'thread_id', 'size', 'type', 'data', 'checksum' or None in case any error is identified.\n",
    "    \"\"\"\n",
    "    start = file.tell()\n",
    "    thread_id = np.frombuffer(file.read(4), np.int32).item()\n",
    "    block_size = np.frombuffer(file.read(4), np.int32).item()\n",
    "    block_type = np.frombuffer(file.read(4), np.int32).item()\n",
    "    data_block = file.read(block_size)\n",
    "    if (checksum := evaluate_checksum(file, next_block, block_size)) is None:\n",
    "        file.seek(start, 0)\n",
    "        while file.read(4) not in (b'', b'UUUU'):\n",
    "            pass\n",
    "        return None, None \n",
    "    if (eof := file.read(4)) != b'UUUU':\n",
    "        logger.error(f\"EOF diferente de UUUU: {eof}, posicao: {file.tell()}\")\n",
    "        return None, None                      \n",
    "    return block_type, BaseBlock(thread_id, block_size, block_type, data_block, checksum)"
   ]
  },
  {
   "cell_type": "markdown",
   "metadata": {},
   "source": [
    "A função a seguir recebe os bytes lidos do arquivo `.bin` e mapeia esses bytes em diferentes classes de acordo com o tipo de bloco"
   ]
  },
  {
   "cell_type": "code",
   "execution_count": null,
   "metadata": {},
   "outputs": [],
   "source": [
    "#exporti\n",
    "def create_block(file, next_block) -> Tuple:\n",
    "    \"\"\"Receives a byte_block, and converts it into one of the main classes\n",
    "    Args: byte_block: A byte block directly returned from the file\n",
    "    Returns: The Instance of the Block Type or None in case of error\n",
    "    \"\"\"\n",
    "    block_type, base_block = buffer2base_block(file, next_block)\n",
    "    if block_type is None:\n",
    "        return None, None\n",
    "    constructor = MAIN_BLOCKS.get(block_type)\n",
    "    if not constructor:\n",
    "        logger.warning(f\"This block type constructor is not implemented: {block_type}\")\n",
    "        return None, None\n",
    "    block = constructor(base_block)\n",
    "    if getattr(block, \"gerror\", -1) != -1 or getattr(block, \"gps_status\", -1) == 0:\n",
    "        logger.error(\"INFO\", f\"Block with error: {block_type}\")\n",
    "        return None, None  # spectral or gps blocks with error\n",
    "    return block_type, block"
   ]
  },
  {
   "cell_type": "markdown",
   "metadata": {},
   "source": [
    "A função a seguir recebe os bytes lidos do arquivo `.bin` e mapeia esses bytes em diferentes classes de acordo com o tipo de bloco"
   ]
  },
  {
   "cell_type": "code",
   "execution_count": null,
   "metadata": {},
   "outputs": [],
   "source": [
    "#exports\n",
    "def parse_bin(bin_file: Union[str, Path], precision=np.float32) -> dict:\n",
    "    \"\"\"Receives a CRFS binfile and returns a dictionary with the file metadata, a GPS Class and a list with the different Spectrum Classes\n",
    "    A block is a piece of the .bin file with a known start and end and that contains different types of information.\n",
    "    It has several fields: file_type, header, data and footer.\n",
    "    Each field has lengths and information defined in the documentation.\n",
    "    Args:\n",
    "        bin_file (Union[str, Path]): path to the bin file\n",
    "\n",
    "    Returns:\n",
    "        Dictionary with the file metadata, file_version, string info, gps and spectrum blocks.\n",
    "    \"\"\"\n",
    "    bin_file = Path(bin_file)\n",
    "    meta = {}\n",
    "    fluxos = {}\n",
    "    gps = CrfsGPS()\n",
    "    with open(bin_file, mode=\"rb\") as file:\n",
    "        # The first block of the file is the header and is 36 bytes long.\n",
    "        header = file.read(BYTES_HEADER)\n",
    "        meta[\"filename\"] = bin_file.name\n",
    "        meta[\"file_version\"] = bin2int(header[:4])\n",
    "        meta[\"string\"] = bin2str(header[4:])\n",
    "        file_size = file.seek(0, 2)\n",
    "        file.seek(36, 0)\n",
    "        while (next_block := file.tell()) < file_size:\n",
    "            block_type, block = create_block(file, next_block)\n",
    "            if block is None: \n",
    "                continue\n",
    "            if block_type == 40:\n",
    "                gps._data.append(block)\n",
    "            elif block_type in VECTOR_BLOCKS:\n",
    "                append_spec_data(block_type,fluxos, block, precision)\n",
    "            else:\n",
    "                meta.update(getattrs(block, KEY_ATTRS.get(block_type)))\n",
    "    meta[\"gps\"] = gps\n",
    "    meta[\"spectrum\"] = L(fluxos.values())\n",
    "    return meta                 \n"
   ]
  },
  {
   "cell_type": "code",
   "execution_count": null,
   "metadata": {},
   "outputs": [],
   "source": [
    "files = get_files('binfiles/Erro')\n",
    "file = files[0]"
   ]
  },
  {
   "cell_type": "code",
   "execution_count": null,
   "metadata": {},
   "outputs": [
    {
     "data": {
      "text/plain": [
       "Path('binfiles/Erro/rfeye002213_CheckSum&EOF.bin')"
      ]
     },
     "execution_count": null,
     "metadata": {},
     "output_type": "execute_result"
    }
   ],
   "source": [
    "file"
   ]
  },
  {
   "cell_type": "code",
   "execution_count": null,
   "metadata": {},
   "outputs": [
    {
     "data": {
      "text/plain": [
       "(#20) [Spectrum(type=67, thread_id=300, description='PMEC 2021 (Faixa 1 de 10).', start_mega=105, stop_mega=140, dtype='dBm', ndata=3584, bw=18457, processing='peak', antuid=0),Spectrum(type=67, thread_id=310, description='PMEC 2021 (Faixa 2 de 10).', start_mega=155, stop_mega=165, dtype='dBm', ndata=1024, bw=18457, processing='peak', antuid=0),Spectrum(type=67, thread_id=100, description='PRD 2021 (Faixa principal 1 de 4).', start_mega=50, stop_mega=90, dtype='dBμV/m', ndata=1024, bw=73828, processing='peak', antuid=0),Spectrum(type=67, thread_id=110, description='PRD 2021 (Faixa principal 2 de 4).', start_mega=70, stop_mega=110, dtype='dBμV/m', ndata=1024, bw=73828, processing='peak', antuid=0),Spectrum(type=67, thread_id=120, description='PRD 2021 (Faixa principal 3 de 4).', start_mega=170, stop_mega=220, dtype='dBμV/m', ndata=1280, bw=73828, processing='peak', antuid=0),Spectrum(type=67, thread_id=130, description='PRD 2021 (Faixa principal 4 de 4).', start_mega=470, stop_mega=700, dtype='dBμV/m', ndata=5888, bw=73828, processing='peak', antuid=0),Spectrum(type=67, thread_id=200, description='PMEF 2021 (Faixa 1 de 6).', start_mega=700, stop_mega=960, dtype='dBm', ndata=6656, bw=73828, processing='peak', antuid=0),Spectrum(type=67, thread_id=210, description='PMEF 2021 (Faixa 2 de 6).', start_mega=1710, stop_mega=1980, dtype='dBm', ndata=6912, bw=73828, processing='peak', antuid=0),Spectrum(type=67, thread_id=220, description='PMEF 2021 (Faixa 3 de 6).', start_mega=2100, stop_mega=2169, dtype='dBm', ndata=1792, bw=73828, processing='peak', antuid=0),Spectrum(type=67, thread_id=230, description='PMEF 2021 (Faixa 4 de 6).', start_mega=2290, stop_mega=2390, dtype='dBm', ndata=2560, bw=73828, processing='peak', antuid=0)...]"
      ]
     },
     "execution_count": null,
     "metadata": {},
     "output_type": "execute_result"
    }
   ],
   "source": [
    "dados = parse_bin(file)\n",
    "dados['spectrum']"
   ]
  },
  {
   "cell_type": "code",
   "execution_count": null,
   "metadata": {},
   "outputs": [
    {
     "data": {
      "text/html": [
       "<pre style=\"white-space:pre;overflow-x:auto;line-height:normal;font-family:Menlo,'DejaVu Sans Mono',consolas,'Courier New',monospace\"><span style=\"font-weight: bold\">[</span><span style=\"color: #008080; text-decoration-color: #008080; font-weight: bold\">300</span>, <span style=\"color: #008080; text-decoration-color: #008080; font-weight: bold\">310</span>, <span style=\"color: #008080; text-decoration-color: #008080; font-weight: bold\">100</span>, <span style=\"color: #008080; text-decoration-color: #008080; font-weight: bold\">110</span>, <span style=\"color: #008080; text-decoration-color: #008080; font-weight: bold\">120</span>, <span style=\"color: #008080; text-decoration-color: #008080; font-weight: bold\">130</span>, <span style=\"color: #008080; text-decoration-color: #008080; font-weight: bold\">200</span>, <span style=\"color: #008080; text-decoration-color: #008080; font-weight: bold\">210</span>, <span style=\"color: #008080; text-decoration-color: #008080; font-weight: bold\">220</span>, <span style=\"color: #008080; text-decoration-color: #008080; font-weight: bold\">230</span>, <span style=\"color: #008080; text-decoration-color: #008080; font-weight: bold\">240</span>, <span style=\"color: #008080; text-decoration-color: #008080; font-weight: bold\">250</span>, <span style=\"color: #008080; text-decoration-color: #008080; font-weight: bold\">320</span>, <span style=\"color: #008080; text-decoration-color: #008080; font-weight: bold\">330</span>, <span style=\"color: #008080; text-decoration-color: #008080; font-weight: bold\">340</span>, <span style=\"color: #008080; text-decoration-color: #008080; font-weight: bold\">350</span>, <span style=\"color: #008080; text-decoration-color: #008080; font-weight: bold\">360</span>, <span style=\"color: #008080; text-decoration-color: #008080; font-weight: bold\">370</span>, \n",
       "<span style=\"color: #008080; text-decoration-color: #008080; font-weight: bold\">380</span>, <span style=\"color: #008080; text-decoration-color: #008080; font-weight: bold\">390</span><span style=\"font-weight: bold\">]</span>\n",
       "</pre>\n"
      ],
      "text/plain": [
       "\u001b[1m[\u001b[0m\u001b[1;36m300\u001b[0m, \u001b[1;36m310\u001b[0m, \u001b[1;36m100\u001b[0m, \u001b[1;36m110\u001b[0m, \u001b[1;36m120\u001b[0m, \u001b[1;36m130\u001b[0m, \u001b[1;36m200\u001b[0m, \u001b[1;36m210\u001b[0m, \u001b[1;36m220\u001b[0m, \u001b[1;36m230\u001b[0m, \u001b[1;36m240\u001b[0m, \u001b[1;36m250\u001b[0m, \u001b[1;36m320\u001b[0m, \u001b[1;36m330\u001b[0m, \u001b[1;36m340\u001b[0m, \u001b[1;36m350\u001b[0m, \u001b[1;36m360\u001b[0m, \u001b[1;36m370\u001b[0m, \n",
       "\u001b[1;36m380\u001b[0m, \u001b[1;36m390\u001b[0m\u001b[1m]\u001b[0m\n"
      ]
     },
     "metadata": {},
     "output_type": "display_data"
    },
    {
     "data": {
      "text/html": [
       "<pre style=\"white-space:pre;overflow-x:auto;line-height:normal;font-family:Menlo,'DejaVu Sans Mono',consolas,'Courier New',monospace\"><span style=\"font-weight: bold\">[</span><span style=\"color: #008080; text-decoration-color: #008080; font-weight: bold\">9026</span>, <span style=\"color: #008080; text-decoration-color: #008080; font-weight: bold\">9034</span>, <span style=\"color: #008080; text-decoration-color: #008080; font-weight: bold\">1809</span>, <span style=\"color: #008080; text-decoration-color: #008080; font-weight: bold\">1809</span>, <span style=\"color: #008080; text-decoration-color: #008080; font-weight: bold\">1810</span>, <span style=\"color: #008080; text-decoration-color: #008080; font-weight: bold\">1808</span>, <span style=\"color: #008080; text-decoration-color: #008080; font-weight: bold\">603</span>, <span style=\"color: #008080; text-decoration-color: #008080; font-weight: bold\">604</span>, <span style=\"color: #008080; text-decoration-color: #008080; font-weight: bold\">604</span>, <span style=\"color: #008080; text-decoration-color: #008080; font-weight: bold\">602</span>, <span style=\"color: #008080; text-decoration-color: #008080; font-weight: bold\">602</span>, <span style=\"color: #008080; text-decoration-color: #008080; font-weight: bold\">602</span>, <span style=\"color: #008080; text-decoration-color: #008080; font-weight: bold\">604</span>, <span style=\"color: #008080; text-decoration-color: #008080; font-weight: bold\">604</span>, <span style=\"color: #008080; text-decoration-color: #008080; font-weight: bold\">601</span>, <span style=\"color: #008080; text-decoration-color: #008080; font-weight: bold\">602</span>, <span style=\"color: #008080; text-decoration-color: #008080; font-weight: bold\">601</span>, \n",
       "<span style=\"color: #008080; text-decoration-color: #008080; font-weight: bold\">600</span>, <span style=\"color: #008080; text-decoration-color: #008080; font-weight: bold\">601</span>, <span style=\"color: #008080; text-decoration-color: #008080; font-weight: bold\">603</span><span style=\"font-weight: bold\">]</span>\n",
       "</pre>\n"
      ],
      "text/plain": [
       "\u001b[1m[\u001b[0m\u001b[1;36m9026\u001b[0m, \u001b[1;36m9034\u001b[0m, \u001b[1;36m1809\u001b[0m, \u001b[1;36m1809\u001b[0m, \u001b[1;36m1810\u001b[0m, \u001b[1;36m1808\u001b[0m, \u001b[1;36m603\u001b[0m, \u001b[1;36m604\u001b[0m, \u001b[1;36m604\u001b[0m, \u001b[1;36m602\u001b[0m, \u001b[1;36m602\u001b[0m, \u001b[1;36m602\u001b[0m, \u001b[1;36m604\u001b[0m, \u001b[1;36m604\u001b[0m, \u001b[1;36m601\u001b[0m, \u001b[1;36m602\u001b[0m, \u001b[1;36m601\u001b[0m, \n",
       "\u001b[1;36m600\u001b[0m, \u001b[1;36m601\u001b[0m, \u001b[1;36m603\u001b[0m\u001b[1m]\u001b[0m\n"
      ]
     },
     "metadata": {},
     "output_type": "display_data"
    }
   ],
   "source": [
    "print(dados['spectrum'].attrgot('thread_id'))\n",
    "print(dados['spectrum'].map(len))"
   ]
  },
  {
   "cell_type": "code",
   "execution_count": null,
   "metadata": {},
   "outputs": [
    {
     "data": {
      "text/plain": [
       "(numpy.datetime64('2021-08-21T12:03:01.699260'),\n",
       " array([ -88.5,  -82. ,  -73.5, ..., -102.5, -105. , -105.5], dtype=float32))"
      ]
     },
     "execution_count": null,
     "metadata": {},
     "output_type": "execute_result"
    }
   ],
   "source": [
    "dados['spectrum'][0][0]"
   ]
  },
  {
   "cell_type": "code",
   "execution_count": null,
   "metadata": {},
   "outputs": [
    {
     "name": "stderr",
     "output_type": "stream",
     "text": [
      "\n",
      "Error compiling Cython file:\n",
      "------------------------------------------------------------\n",
      "...\n",
      "\n",
      "ctypedef object CrfsGPS\n",
      "\n",
      "@cython.boundscheck(False)\n",
      "@cython.wraparound(False)\n",
      "^\n",
      "------------------------------------------------------------\n",
      "\n",
      "C:\\Users\\rsilva\\.ipython\\cython\\_cython_magic_98c655412a46cff311afb5f5b8b31186.pyx:7:0: Decorators can only be followed by functions or classes\n"
     ]
    }
   ],
   "source": [
    "%%cython --annotate\n",
    "cimport cython\n",
    "\n",
    "ctypedef object CrfsGPS\n",
    "\n",
    "@cython.boundscheck(False)\n",
    "@cython.wraparound(False)\n"
   ]
  }
 ],
 "metadata": {
  "kernelspec": {
   "display_name": "Python [conda env:rfpye]",
   "language": "python",
   "name": "python3"
  }
 },
 "nbformat": 4,
 "nbformat_minor": 4
}
