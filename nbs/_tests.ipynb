{
 "cells": [
  {
   "cell_type": "code",
   "execution_count": null,
   "metadata": {},
   "outputs": [],
   "source": [
    "#hide\n",
    "import sys, os\n",
    "from pathlib import Path\n",
    "\n",
    "# Insert in Path Project Directory\n",
    "sys.path.insert(0, str(Path().cwd().parent))\n",
    "\n",
    "%load_ext autoreload\n",
    "%autoreload 2 "
   ]
  },
  {
   "cell_type": "code",
   "execution_count": null,
   "metadata": {},
   "outputs": [],
   "source": [
    "#hide\n",
    "import warnings\n",
    "with warnings.catch_warnings():\n",
    "    warnings.simplefilter(\"ignore\")    "
   ]
  },
  {
   "cell_type": "markdown",
   "metadata": {},
   "source": [
    "# RFPYE\n",
    "> Este módulo tem como objetivo o processamento e extração otimizada de dados dos arquivos `.bin` de monitoramento do espectro provenientes do script Logger executados nas estações de Monitoramento CRFS RFeye Node. Para tal utilizamos as várias funcionalidades da biblioteca [fastcore](https://fastcore.fast.ai/basics.html), que expande e otimiza as estruturas de dados da linguagem python. "
   ]
  },
  {
   "cell_type": "markdown",
   "metadata": {},
   "source": [
    "## Instalação\n",
    "\n",
    "`Ubuntu`: \n",
    "\n",
    "```bash\n",
    "python -m pip install rfpye\n",
    "```\n",
    "\n",
    "`Windows`:\n",
    "\n",
    "Como parte dessa lib utiliza código c compilado com `Cython`, é preciso que um compilador `C` esteja instalado. Em Windows, uma opção é instalar a versão apropriada do Visual Studio seguindo as orientações do site da Microsoft. No entanto uma solução mais simples e a recomendada é utilizando o `conda`.\n",
    "\n",
    "Primeiramente instale o [miniconda](https://docs.conda.io/en/latest/miniconda.html). Com o conda instalado e disponível no seu `PATH` ou através do `Anaconda Prompt` execute o comando:\n",
    "\n",
    "```bash\n",
    "conda install -c intel libpython m2w64-toolchain -y\n",
    "\n",
    "echo [build] > %CONDA_PREFIX%\\Lib\\distutils\\distutils.cfg\n",
    "\n",
    "echo compiler = mingw32 >> %CONDA_PREFIX%\\Lib\\distutils\\distutils.cfg\n",
    "```"
   ]
  },
  {
   "cell_type": "markdown",
   "metadata": {},
   "source": [
    "Depois disso basta instalar normalmente a lib:\n",
    "`python -m pip install rfpye`"
   ]
  },
  {
   "cell_type": "markdown",
   "metadata": {},
   "source": [
    "Em Linux normalmente o sistema já possui o compilador `gcc` instalado então basta executar o comando `pip install` acima."
   ]
  },
  {
   "cell_type": "markdown",
   "metadata": {},
   "source": [
    "## Como utilizar\n",
    "Abaixo mostramos as funcionalidades principais dos módulos, utilizando-os dentro de algum outro script ou `REPL`"
   ]
  },
  {
   "cell_type": "markdown",
   "metadata": {},
   "source": [
    "Precisamos necessariamente de um diretório de entrada, contendo um ou mais arquivos `.bin`\n",
    "> Mude os caminhos abaixo para suas pastas locais"
   ]
  },
  {
   "cell_type": "code",
   "execution_count": null,
   "metadata": {},
   "outputs": [],
   "source": [
    "from fastcore.xtras import Path\n",
    "from rfpye.utils import get_files\n",
    "from rich import print"
   ]
  },
  {
   "cell_type": "markdown",
   "metadata": {},
   "source": [
    "A função abaixo baixa alguns arquivos de exemplo:"
   ]
  },
  {
   "cell_type": "code",
   "execution_count": null,
   "metadata": {},
   "outputs": [],
   "source": [
    "path = Path(r'binfiles')\n",
    "if not path.exists() or not len(get_files(path, extensions=['.bin'])):\n",
    "    path = Path('.')\n",
    "    !wget --header 'Host: raw.githubusercontent.com' --user-agent 'Mozilla/5.0 (Windows NT 10.0; Win64; x64; rv:89.0) Gecko/20100101 Firefox/89.0' --header 'Accept: text/html,application/xhtml+xml,application/xml;q=0.9,image/webp,*/*;q=0.8' --header 'Accept-Language: pt-BR,pt;q=0.8,en-US;q=0.5,en;q=0.3' --referer 'https://github.com/EricMagalhaesDelgado/SpecFiles/blob/main/Combo3%20(CRFS%20Bin%20-%20DataTypes%204%2C%207%2C%208%2C%2060-65%20e%2067-69)/rfeye002092_210208_T202310_CRFSBINv.5.bin' --header 'DNT: 1' --header 'Upgrade-Insecure-Requests: 1' 'https://raw.githubusercontent.com/EricMagalhaesDelgado/SpecFiles/main/Combo3%20(CRFS%20Bin%20-%20DataTypes%204%2C%207%2C%208%2C%2060-65%20e%2067-69)/rfeye002092_210208_T202310_CRFSBINv.5.bin' --output-document 'rfeye002092_210208_T202310_CRFSBINv.5.bin'\n",
    "    !wget --header 'Host: raw.githubusercontent.com' --user-agent 'Mozilla/5.0 (Windows NT 10.0; Win64; x64; rv:89.0) Gecko/20100101 Firefox/89.0' --header 'Accept: text/html,application/xhtml+xml,application/xml;q=0.9,image/webp,*/*;q=0.8' --header 'Accept-Language: pt-BR,pt;q=0.8,en-US;q=0.5,en;q=0.3' --referer 'https://github.com/EricMagalhaesDelgado/SpecFiles/blob/main/Combo3%20(CRFS%20Bin%20-%20DataTypes%204%2C%207%2C%208%2C%2060-65%20e%2067-69)/rfeye002092_210208_T203131_CRFSBINv.2.bin' --header 'DNT: 1' --header 'Upgrade-Insecure-Requests: 1' 'https://raw.githubusercontent.com/EricMagalhaesDelgado/SpecFiles/main/Combo3%20(CRFS%20Bin%20-%20DataTypes%204%2C%207%2C%208%2C%2060-65%20e%2067-69)/rfeye002092_210208_T203131_CRFSBINv.2.bin' --output-document 'rfeye002092_210208_T203131_CRFSBINv.2.bin'\n",
    "    !wget --header 'Host: raw.githubusercontent.com' --user-agent 'Mozilla/5.0 (Windows NT 10.0; Win64; x64; rv:89.0) Gecko/20100101 Firefox/89.0' --header 'Accept: text/html,application/xhtml+xml,application/xml;q=0.9,image/webp,*/*;q=0.8' --header 'Accept-Language: pt-BR,pt;q=0.8,en-US;q=0.5,en;q=0.3' --referer 'https://github.com/EricMagalhaesDelgado/SpecFiles/blob/main/Combo3%20(CRFS%20Bin%20-%20DataTypes%204%2C%207%2C%208%2C%2060-65%20e%2067-69)/rfeye002292_210208_T202215_CRFSBINv.4.bin' --header 'DNT: 1' --header 'Upgrade-Insecure-Requests: 1' 'https://raw.githubusercontent.com/EricMagalhaesDelgado/SpecFiles/main/Combo3%20(CRFS%20Bin%20-%20DataTypes%204%2C%207%2C%208%2C%2060-65%20e%2067-69)/rfeye002292_210208_T202215_CRFSBINv.4.bin' --output-document 'rfeye002292_210208_T202215_CRFSBINv.4.bin'\n",
    "    !wget --header 'Host: raw.githubusercontent.com' --user-agent 'Mozilla/5.0 (Windows NT 10.0; Win64; x64; rv:89.0) Gecko/20100101 Firefox/89.0' --header 'Accept: text/html,application/xhtml+xml,application/xml;q=0.9,image/webp,*/*;q=0.8' --header 'Accept-Language: pt-BR,pt;q=0.8,en-US;q=0.5,en;q=0.3' --referer 'https://github.com/EricMagalhaesDelgado/SpecFiles/blob/main/Combo3%20(CRFS%20Bin%20-%20DataTypes%204%2C%207%2C%208%2C%2060-65%20e%2067-69)/rfeye002292_210208_T203238_CRFSBINv.3.bin' --header 'DNT: 1' --header 'Upgrade-Insecure-Requests: 1' 'https://raw.githubusercontent.com/EricMagalhaesDelgado/SpecFiles/main/Combo3%20(CRFS%20Bin%20-%20DataTypes%204%2C%207%2C%208%2C%2060-65%20e%2067-69)/rfeye002292_210208_T203238_CRFSBINv.3.bin' --output-document 'rfeye002292_210208_T203238_CRFSBINv.3.bin'\n"
   ]
  },
  {
   "cell_type": "markdown",
   "metadata": {},
   "source": [
    "A função `parse_bin` é a função principal que encapsula o processamento dos arquivos bin."
   ]
  },
  {
   "cell_type": "code",
   "execution_count": null,
   "metadata": {},
   "outputs": [],
   "source": [
    "#hide\n",
    "from nbdev import show_doc"
   ]
  },
  {
   "cell_type": "code",
   "execution_count": null,
   "metadata": {},
   "outputs": [
    {
     "data": {
      "text/markdown": [
       "<h4 id=\"parse_bin\" class=\"doc_header\"><code>parse_bin</code><a href=\"https://github.com/ronaldokun/rfpye/tree/master/rfpye/parser.py#L252\" class=\"source_link\" style=\"float:right\">[source]</a></h4>\n",
       "\n",
       "> <code>parse_bin</code>(**`bin_file`**:`Union`\\[`str`, `Path`\\])\n",
       "\n",
       "Receives a CRFS binfile and returns a dictionary with the file metadata, a GPS Class and a list with the different Spectrum Classes\n",
       "A block is a piece of the .bin file with a known start and end and that contains different types of information.\n",
       "It has several fields: file_type, header, data and footer.\n",
       "Each field has lengths and information defined in the documentation.\n",
       "Args:\n",
       "    bin_file (Union[str, Path]): path to the bin file\n",
       "\n",
       "Returns:\n",
       "    Dictionary with the file metadata, file_version, string info, gps and spectrum blocks."
      ],
      "text/plain": [
       "<IPython.core.display.Markdown object>"
      ]
     },
     "metadata": {},
     "output_type": "display_data"
    }
   ],
   "source": [
    "from rfpye.parser import parse_bin\n",
    "show_doc(parse_bin)"
   ]
  },
  {
   "cell_type": "markdown",
   "metadata": {},
   "source": [
    "## CRFS Bin - Versão 5\n",
    "Vamos listar arquivos da última versão do script Logger, Versão 5"
   ]
  },
  {
   "cell_type": "code",
   "execution_count": null,
   "metadata": {},
   "outputs": [
    {
     "data": {
      "text/plain": [
       "(#65) [Path('D:/OneDrive - ANATEL/Sensores/rfeye002073/rfeye002073_210620_T231206.bin'),Path('D:/OneDrive - ANATEL/Sensores/rfeye002080/rfeye002080_691231_T210111.bin'),Path('D:/OneDrive - ANATEL/Sensores/rfeye002081/rfeye002081_210620_T232204.bin'),Path('D:/OneDrive - ANATEL/Sensores/rfeye002083/rfeye002083_210621_T160001.bin'),Path('D:/OneDrive - ANATEL/Sensores/rfeye002084/rfeye002084_210623_T144012.bin'),Path('D:/OneDrive - ANATEL/Sensores/rfeye002086/rfeye002086_210622_T004723.bin'),Path('D:/OneDrive - ANATEL/Sensores/rfeye002087/rfeye002087_210628_T224301.bin'),Path('D:/OneDrive - ANATEL/Sensores/RFeye002090-VCP/rfeye002090-VCP_210623_T024236.bin'),Path('D:/OneDrive - ANATEL/Sensores/rfeye002091/rfeye002091_210618_T145747.bin'),Path('D:/OneDrive - ANATEL/Sensores/rfeye002092/rfeye002092_210603_T205009.bin')...]"
      ]
     },
     "execution_count": null,
     "metadata": {},
     "output_type": "execute_result"
    }
   ],
   "source": [
    "files = get_files(r'D:\\OneDrive - ANATEL\\Sensores', extensions=['.bin'])\n",
    "files"
   ]
  },
  {
   "cell_type": "code",
   "execution_count": null,
   "metadata": {},
   "outputs": [],
   "source": [
    "file = files.shuffle()[0]"
   ]
  },
  {
   "cell_type": "code",
   "execution_count": null,
   "metadata": {},
   "outputs": [
    {
     "name": "stdout",
     "output_type": "stream",
     "text": [
      "Wall time: 10.7 s\n"
     ]
    }
   ],
   "source": [
    "%%time\n",
    "v5 = parse_bin(file)"
   ]
  },
  {
   "cell_type": "code",
   "execution_count": null,
   "metadata": {},
   "outputs": [
    {
     "data": {
      "text/html": [
       "<pre style=\"white-space:pre;overflow-x:auto;line-height:normal;font-family:Menlo,'DejaVu Sans Mono',consolas,'Courier New',monospace\"><span style=\"font-weight: bold\">{</span>\n",
       "    <span style=\"color: #008000; text-decoration-color: #008000\">'filename'</span>: <span style=\"color: #008000; text-decoration-color: #008000\">'rfeye002113_210626_T120001.bin'</span>,\n",
       "    <span style=\"color: #008000; text-decoration-color: #008000\">'file_version'</span>: <span style=\"color: #008080; text-decoration-color: #008080; font-weight: bold\">23</span>,\n",
       "    <span style=\"color: #008000; text-decoration-color: #008000\">'string'</span>: <span style=\"color: #008000; text-decoration-color: #008000\">'CRFS DATA FILE V023'</span>,\n",
       "    <span style=\"color: #008000; text-decoration-color: #008000\">'hostname'</span>: <span style=\"color: #008000; text-decoration-color: #008000\">'rfeye002113'</span>,\n",
       "    <span style=\"color: #008000; text-decoration-color: #008000\">'method'</span>: <span style=\"color: #008000; text-decoration-color: #008000\">'ScriptRFeye2021_v2.cfg'</span>,\n",
       "    <span style=\"color: #008000; text-decoration-color: #008000\">'unit_info'</span>: <span style=\"color: #008000; text-decoration-color: #008000\">'Stationary'</span>,\n",
       "    <span style=\"color: #008000; text-decoration-color: #008000\">'file_number'</span>: <span style=\"color: #008080; text-decoration-color: #008080; font-weight: bold\">0</span>,\n",
       "    <span style=\"color: #008000; text-decoration-color: #008000\">'identifier'</span>: <span style=\"color: #008000; text-decoration-color: #008000\">'INFO'</span>,\n",
       "    <span style=\"color: #008000; text-decoration-color: #008000\">'gps'</span>: GPS Data - Median of Coordinates: <span style=\"color: #008080; text-decoration-color: #008080; font-weight: bold\">-14.81416</span>:<span style=\"color: #008080; text-decoration-color: #008080; font-weight: bold\">-39.03184</span>, Altitude: <span style=\"color: #008080; text-decoration-color: #008080; font-weight: bold\">14.50</span> \n",
       "#Satellites: <span style=\"color: #008080; text-decoration-color: #008080; font-weight: bold\">12.0</span> ,\n",
       "    <span style=\"color: #008000; text-decoration-color: #008000\">'spectrum'</span>: <span style=\"font-weight: bold\">[</span><span style=\"color: #800080; text-decoration-color: #800080; font-weight: bold\">SpecData</span><span style=\"font-weight: bold\">(</span><span style=\"color: #808000; text-decoration-color: #808000\">type</span>=<span style=\"color: #008080; text-decoration-color: #008080; font-weight: bold\">67</span>, <span style=\"color: #808000; text-decoration-color: #808000\">thread_id</span>=<span style=\"color: #008080; text-decoration-color: #008080; font-weight: bold\">300</span>, <span style=\"color: #808000; text-decoration-color: #808000\">description</span>=<span style=\"color: #008000; text-decoration-color: #008000\">'PMEC 2021 (Faixa 1 de 10).'</span>, \n",
       "<span style=\"color: #808000; text-decoration-color: #808000\">start_mega</span>=<span style=\"color: #008080; text-decoration-color: #008080; font-weight: bold\">105.0</span>, <span style=\"color: #808000; text-decoration-color: #808000\">stop_mega</span>=<span style=\"color: #008080; text-decoration-color: #008080; font-weight: bold\">140.0</span>, <span style=\"color: #808000; text-decoration-color: #808000\">unit</span>=<span style=\"color: #008000; text-decoration-color: #008000\">'dBm'</span>, <span style=\"color: #808000; text-decoration-color: #808000\">ndata</span>=<span style=\"color: #008080; text-decoration-color: #008080; font-weight: bold\">3584</span>, <span style=\"color: #808000; text-decoration-color: #808000\">bw</span>=<span style=\"color: #008080; text-decoration-color: #008080; font-weight: bold\">18457</span>, <span style=\"color: #808000; text-decoration-color: #808000\">processing</span>=<span style=\"color: #008000; text-decoration-color: #008000\">'peak'</span>, \n",
       "<span style=\"color: #808000; text-decoration-color: #808000\">antenna_id</span>=<span style=\"color: #008080; text-decoration-color: #008080; font-weight: bold\">0</span>, <span style=\"color: #808000; text-decoration-color: #808000\">thresh</span>=<span style=\"color: #008080; text-decoration-color: #008080; font-weight: bold\">-147.5</span>, <span style=\"color: #808000; text-decoration-color: #808000\">minimum</span>=<span style=\"color: #008080; text-decoration-color: #008080; font-weight: bold\">-147.5</span><span style=\"font-weight: bold\">)</span>, <span style=\"color: #800080; text-decoration-color: #800080; font-weight: bold\">SpecData</span><span style=\"font-weight: bold\">(</span><span style=\"color: #808000; text-decoration-color: #808000\">type</span>=<span style=\"color: #008080; text-decoration-color: #008080; font-weight: bold\">67</span>, <span style=\"color: #808000; text-decoration-color: #808000\">thread_id</span>=<span style=\"color: #008080; text-decoration-color: #008080; font-weight: bold\">310</span>, \n",
       "<span style=\"color: #808000; text-decoration-color: #808000\">description</span>=<span style=\"color: #008000; text-decoration-color: #008000\">'PMEC 2021 (Faixa 2 de 10).'</span>, <span style=\"color: #808000; text-decoration-color: #808000\">start_mega</span>=<span style=\"color: #008080; text-decoration-color: #008080; font-weight: bold\">155.0</span>, <span style=\"color: #808000; text-decoration-color: #808000\">stop_mega</span>=<span style=\"color: #008080; text-decoration-color: #008080; font-weight: bold\">165.0</span>, <span style=\"color: #808000; text-decoration-color: #808000\">unit</span>=<span style=\"color: #008000; text-decoration-color: #008000\">'dBm'</span>, \n",
       "<span style=\"color: #808000; text-decoration-color: #808000\">ndata</span>=<span style=\"color: #008080; text-decoration-color: #008080; font-weight: bold\">1024</span>, <span style=\"color: #808000; text-decoration-color: #808000\">bw</span>=<span style=\"color: #008080; text-decoration-color: #008080; font-weight: bold\">18457</span>, <span style=\"color: #808000; text-decoration-color: #808000\">processing</span>=<span style=\"color: #008000; text-decoration-color: #008000\">'peak'</span>, <span style=\"color: #808000; text-decoration-color: #808000\">antenna_id</span>=<span style=\"color: #008080; text-decoration-color: #008080; font-weight: bold\">0</span>, <span style=\"color: #808000; text-decoration-color: #808000\">thresh</span>=<span style=\"color: #008080; text-decoration-color: #008080; font-weight: bold\">-147.5</span>, <span style=\"color: #808000; text-decoration-color: #808000\">minimum</span>=<span style=\"color: #008080; text-decoration-color: #008080; font-weight: bold\">-147.5</span><span style=\"font-weight: bold\">)</span>, \n",
       "<span style=\"color: #800080; text-decoration-color: #800080; font-weight: bold\">SpecData</span><span style=\"font-weight: bold\">(</span><span style=\"color: #808000; text-decoration-color: #808000\">type</span>=<span style=\"color: #008080; text-decoration-color: #008080; font-weight: bold\">67</span>, <span style=\"color: #808000; text-decoration-color: #808000\">thread_id</span>=<span style=\"color: #008080; text-decoration-color: #008080; font-weight: bold\">100</span>, <span style=\"color: #808000; text-decoration-color: #808000\">description</span>=<span style=\"color: #008000; text-decoration-color: #008000\">'PRD 2021 (Faixa principal 1 de 4).'</span>, \n",
       "<span style=\"color: #808000; text-decoration-color: #808000\">start_mega</span>=<span style=\"color: #008080; text-decoration-color: #008080; font-weight: bold\">50.0</span>, <span style=\"color: #808000; text-decoration-color: #808000\">stop_mega</span>=<span style=\"color: #008080; text-decoration-color: #008080; font-weight: bold\">90.0</span>, <span style=\"color: #808000; text-decoration-color: #808000\">unit</span>=<span style=\"color: #008000; text-decoration-color: #008000\">'dBμV/m'</span>, <span style=\"color: #808000; text-decoration-color: #808000\">ndata</span>=<span style=\"color: #008080; text-decoration-color: #008080; font-weight: bold\">1024</span>, <span style=\"color: #808000; text-decoration-color: #808000\">bw</span>=<span style=\"color: #008080; text-decoration-color: #008080; font-weight: bold\">73828</span>, <span style=\"color: #808000; text-decoration-color: #808000\">processing</span>=<span style=\"color: #008000; text-decoration-color: #008000\">'peak'</span>, \n",
       "<span style=\"color: #808000; text-decoration-color: #808000\">antenna_id</span>=<span style=\"color: #008080; text-decoration-color: #008080; font-weight: bold\">0</span>, <span style=\"color: #808000; text-decoration-color: #808000\">thresh</span>=<span style=\"color: #008080; text-decoration-color: #008080; font-weight: bold\">-90.5</span>, <span style=\"color: #808000; text-decoration-color: #808000\">minimum</span>=<span style=\"color: #008080; text-decoration-color: #008080; font-weight: bold\">-90.5</span><span style=\"font-weight: bold\">)</span>, <span style=\"color: #800080; text-decoration-color: #800080; font-weight: bold\">SpecData</span><span style=\"font-weight: bold\">(</span><span style=\"color: #808000; text-decoration-color: #808000\">type</span>=<span style=\"color: #008080; text-decoration-color: #008080; font-weight: bold\">67</span>, <span style=\"color: #808000; text-decoration-color: #808000\">thread_id</span>=<span style=\"color: #008080; text-decoration-color: #008080; font-weight: bold\">110</span>, <span style=\"color: #808000; text-decoration-color: #808000\">description</span>=<span style=\"color: #008000; text-decoration-color: #008000\">'PRD</span>\n",
       "<span style=\"color: #008000; text-decoration-color: #008000\">2021 (Faixa principal 2 de 4).'</span>, <span style=\"color: #808000; text-decoration-color: #808000\">start_mega</span>=<span style=\"color: #008080; text-decoration-color: #008080; font-weight: bold\">70.0</span>, <span style=\"color: #808000; text-decoration-color: #808000\">stop_mega</span>=<span style=\"color: #008080; text-decoration-color: #008080; font-weight: bold\">110.0</span>, <span style=\"color: #808000; text-decoration-color: #808000\">unit</span>=<span style=\"color: #008000; text-decoration-color: #008000\">'dBμV/m'</span>, <span style=\"color: #808000; text-decoration-color: #808000\">ndata</span>=<span style=\"color: #008080; text-decoration-color: #008080; font-weight: bold\">1024</span>,\n",
       "<span style=\"color: #808000; text-decoration-color: #808000\">bw</span>=<span style=\"color: #008080; text-decoration-color: #008080; font-weight: bold\">73828</span>, <span style=\"color: #808000; text-decoration-color: #808000\">processing</span>=<span style=\"color: #008000; text-decoration-color: #008000\">'peak'</span>, <span style=\"color: #808000; text-decoration-color: #808000\">antenna_id</span>=<span style=\"color: #008080; text-decoration-color: #008080; font-weight: bold\">0</span>, <span style=\"color: #808000; text-decoration-color: #808000\">thresh</span>=<span style=\"color: #008080; text-decoration-color: #008080; font-weight: bold\">-67.5</span>, <span style=\"color: #808000; text-decoration-color: #808000\">minimum</span>=<span style=\"color: #008080; text-decoration-color: #008080; font-weight: bold\">-67.5</span><span style=\"font-weight: bold\">)</span>, <span style=\"color: #800080; text-decoration-color: #800080; font-weight: bold\">SpecData</span><span style=\"font-weight: bold\">(</span><span style=\"color: #808000; text-decoration-color: #808000\">type</span>=<span style=\"color: #008080; text-decoration-color: #008080; font-weight: bold\">67</span>, \n",
       "<span style=\"color: #808000; text-decoration-color: #808000\">thread_id</span>=<span style=\"color: #008080; text-decoration-color: #008080; font-weight: bold\">120</span>, <span style=\"color: #808000; text-decoration-color: #808000\">description</span>=<span style=\"color: #008000; text-decoration-color: #008000\">'PRD 2021 (Faixa principal 3 de 4).'</span>, <span style=\"color: #808000; text-decoration-color: #808000\">start_mega</span>=<span style=\"color: #008080; text-decoration-color: #008080; font-weight: bold\">170.0</span>, \n",
       "<span style=\"color: #808000; text-decoration-color: #808000\">stop_mega</span>=<span style=\"color: #008080; text-decoration-color: #008080; font-weight: bold\">220.0</span>, <span style=\"color: #808000; text-decoration-color: #808000\">unit</span>=<span style=\"color: #008000; text-decoration-color: #008000\">'dBμV/m'</span>, <span style=\"color: #808000; text-decoration-color: #808000\">ndata</span>=<span style=\"color: #008080; text-decoration-color: #008080; font-weight: bold\">1280</span>, <span style=\"color: #808000; text-decoration-color: #808000\">bw</span>=<span style=\"color: #008080; text-decoration-color: #008080; font-weight: bold\">73828</span>, <span style=\"color: #808000; text-decoration-color: #808000\">processing</span>=<span style=\"color: #008000; text-decoration-color: #008000\">'peak'</span>, <span style=\"color: #808000; text-decoration-color: #808000\">antenna_id</span>=<span style=\"color: #008080; text-decoration-color: #008080; font-weight: bold\">0</span>, \n",
       "<span style=\"color: #808000; text-decoration-color: #808000\">thresh</span>=<span style=\"color: #008080; text-decoration-color: #008080; font-weight: bold\">-37.5</span>, <span style=\"color: #808000; text-decoration-color: #808000\">minimum</span>=<span style=\"color: #008080; text-decoration-color: #008080; font-weight: bold\">-37.5</span><span style=\"font-weight: bold\">)</span>, <span style=\"color: #800080; text-decoration-color: #800080; font-weight: bold\">SpecData</span><span style=\"font-weight: bold\">(</span><span style=\"color: #808000; text-decoration-color: #808000\">type</span>=<span style=\"color: #008080; text-decoration-color: #008080; font-weight: bold\">67</span>, <span style=\"color: #808000; text-decoration-color: #808000\">thread_id</span>=<span style=\"color: #008080; text-decoration-color: #008080; font-weight: bold\">130</span>, <span style=\"color: #808000; text-decoration-color: #808000\">description</span>=<span style=\"color: #008000; text-decoration-color: #008000\">'PRD 2021 (Faixa </span>\n",
       "<span style=\"color: #008000; text-decoration-color: #008000\">principal 4 de 4).'</span>, <span style=\"color: #808000; text-decoration-color: #808000\">start_mega</span>=<span style=\"color: #008080; text-decoration-color: #008080; font-weight: bold\">470.0</span>, <span style=\"color: #808000; text-decoration-color: #808000\">stop_mega</span>=<span style=\"color: #008080; text-decoration-color: #008080; font-weight: bold\">700.0</span>, <span style=\"color: #808000; text-decoration-color: #808000\">unit</span>=<span style=\"color: #008000; text-decoration-color: #008000\">'dBμV/m'</span>, <span style=\"color: #808000; text-decoration-color: #808000\">ndata</span>=<span style=\"color: #008080; text-decoration-color: #008080; font-weight: bold\">5888</span>, <span style=\"color: #808000; text-decoration-color: #808000\">bw</span>=<span style=\"color: #008080; text-decoration-color: #008080; font-weight: bold\">73828</span>, \n",
       "<span style=\"color: #808000; text-decoration-color: #808000\">processing</span>=<span style=\"color: #008000; text-decoration-color: #008000\">'peak'</span>, <span style=\"color: #808000; text-decoration-color: #808000\">antenna_id</span>=<span style=\"color: #008080; text-decoration-color: #008080; font-weight: bold\">0</span>, <span style=\"color: #808000; text-decoration-color: #808000\">thresh</span>=<span style=\"color: #008080; text-decoration-color: #008080; font-weight: bold\">-41.5</span>, <span style=\"color: #808000; text-decoration-color: #808000\">minimum</span>=<span style=\"color: #008080; text-decoration-color: #008080; font-weight: bold\">-41.5</span><span style=\"font-weight: bold\">)</span>, <span style=\"color: #800080; text-decoration-color: #800080; font-weight: bold\">SpecData</span><span style=\"font-weight: bold\">(</span><span style=\"color: #808000; text-decoration-color: #808000\">type</span>=<span style=\"color: #008080; text-decoration-color: #008080; font-weight: bold\">67</span>, \n",
       "<span style=\"color: #808000; text-decoration-color: #808000\">thread_id</span>=<span style=\"color: #008080; text-decoration-color: #008080; font-weight: bold\">200</span>, <span style=\"color: #808000; text-decoration-color: #808000\">description</span>=<span style=\"color: #008000; text-decoration-color: #008000\">'PMEF 2021 (Faixa 1 de 6).'</span>, <span style=\"color: #808000; text-decoration-color: #808000\">start_mega</span>=<span style=\"color: #008080; text-decoration-color: #008080; font-weight: bold\">700.0</span>, <span style=\"color: #808000; text-decoration-color: #808000\">stop_mega</span>=<span style=\"color: #008080; text-decoration-color: #008080; font-weight: bold\">960.0</span>, \n",
       "<span style=\"color: #808000; text-decoration-color: #808000\">unit</span>=<span style=\"color: #008000; text-decoration-color: #008000\">'dBm'</span>, <span style=\"color: #808000; text-decoration-color: #808000\">ndata</span>=<span style=\"color: #008080; text-decoration-color: #008080; font-weight: bold\">6656</span>, <span style=\"color: #808000; text-decoration-color: #808000\">bw</span>=<span style=\"color: #008080; text-decoration-color: #008080; font-weight: bold\">73828</span>, <span style=\"color: #808000; text-decoration-color: #808000\">processing</span>=<span style=\"color: #008000; text-decoration-color: #008000\">'peak'</span>, <span style=\"color: #808000; text-decoration-color: #808000\">antenna_id</span>=<span style=\"color: #008080; text-decoration-color: #008080; font-weight: bold\">0</span>, <span style=\"color: #808000; text-decoration-color: #808000\">thresh</span>=<span style=\"color: #008080; text-decoration-color: #008080; font-weight: bold\">-147.5</span>, \n",
       "<span style=\"color: #808000; text-decoration-color: #808000\">minimum</span>=<span style=\"color: #008080; text-decoration-color: #008080; font-weight: bold\">-147.5</span><span style=\"font-weight: bold\">)</span>, <span style=\"color: #800080; text-decoration-color: #800080; font-weight: bold\">SpecData</span><span style=\"font-weight: bold\">(</span><span style=\"color: #808000; text-decoration-color: #808000\">type</span>=<span style=\"color: #008080; text-decoration-color: #008080; font-weight: bold\">67</span>, <span style=\"color: #808000; text-decoration-color: #808000\">thread_id</span>=<span style=\"color: #008080; text-decoration-color: #008080; font-weight: bold\">210</span>, <span style=\"color: #808000; text-decoration-color: #808000\">description</span>=<span style=\"color: #008000; text-decoration-color: #008000\">'PMEF 2021 (Faixa 2 de 6).'</span>, \n",
       "<span style=\"color: #808000; text-decoration-color: #808000\">start_mega</span>=<span style=\"color: #008080; text-decoration-color: #008080; font-weight: bold\">1710.0</span>, <span style=\"color: #808000; text-decoration-color: #808000\">stop_mega</span>=<span style=\"color: #008080; text-decoration-color: #008080; font-weight: bold\">1980.0</span>, <span style=\"color: #808000; text-decoration-color: #808000\">unit</span>=<span style=\"color: #008000; text-decoration-color: #008000\">'dBm'</span>, <span style=\"color: #808000; text-decoration-color: #808000\">ndata</span>=<span style=\"color: #008080; text-decoration-color: #008080; font-weight: bold\">6912</span>, <span style=\"color: #808000; text-decoration-color: #808000\">bw</span>=<span style=\"color: #008080; text-decoration-color: #008080; font-weight: bold\">73828</span>, <span style=\"color: #808000; text-decoration-color: #808000\">processing</span>=<span style=\"color: #008000; text-decoration-color: #008000\">'peak'</span>, \n",
       "<span style=\"color: #808000; text-decoration-color: #808000\">antenna_id</span>=<span style=\"color: #008080; text-decoration-color: #008080; font-weight: bold\">0</span>, <span style=\"color: #808000; text-decoration-color: #808000\">thresh</span>=<span style=\"color: #008080; text-decoration-color: #008080; font-weight: bold\">-147.5</span>, <span style=\"color: #808000; text-decoration-color: #808000\">minimum</span>=<span style=\"color: #008080; text-decoration-color: #008080; font-weight: bold\">-147.5</span><span style=\"font-weight: bold\">)</span>, <span style=\"color: #800080; text-decoration-color: #800080; font-weight: bold\">SpecData</span><span style=\"font-weight: bold\">(</span><span style=\"color: #808000; text-decoration-color: #808000\">type</span>=<span style=\"color: #008080; text-decoration-color: #008080; font-weight: bold\">67</span>, <span style=\"color: #808000; text-decoration-color: #808000\">thread_id</span>=<span style=\"color: #008080; text-decoration-color: #008080; font-weight: bold\">220</span>, \n",
       "<span style=\"color: #808000; text-decoration-color: #808000\">description</span>=<span style=\"color: #008000; text-decoration-color: #008000\">'PMEF 2021 (Faixa 3 de 6).'</span>, <span style=\"color: #808000; text-decoration-color: #808000\">start_mega</span>=<span style=\"color: #008080; text-decoration-color: #008080; font-weight: bold\">2100.0</span>, <span style=\"color: #808000; text-decoration-color: #808000\">stop_mega</span>=<span style=\"color: #008080; text-decoration-color: #008080; font-weight: bold\">1002168.999</span>, \n",
       "<span style=\"color: #808000; text-decoration-color: #808000\">unit</span>=<span style=\"color: #008000; text-decoration-color: #008000\">'dBm'</span>, <span style=\"color: #808000; text-decoration-color: #808000\">ndata</span>=<span style=\"color: #008080; text-decoration-color: #008080; font-weight: bold\">1792</span>, <span style=\"color: #808000; text-decoration-color: #808000\">bw</span>=<span style=\"color: #008080; text-decoration-color: #008080; font-weight: bold\">73828</span>, <span style=\"color: #808000; text-decoration-color: #808000\">processing</span>=<span style=\"color: #008000; text-decoration-color: #008000\">'peak'</span>, <span style=\"color: #808000; text-decoration-color: #808000\">antenna_id</span>=<span style=\"color: #008080; text-decoration-color: #008080; font-weight: bold\">0</span>, <span style=\"color: #808000; text-decoration-color: #808000\">thresh</span>=<span style=\"color: #008080; text-decoration-color: #008080; font-weight: bold\">-147.5</span>, \n",
       "<span style=\"color: #808000; text-decoration-color: #808000\">minimum</span>=<span style=\"color: #008080; text-decoration-color: #008080; font-weight: bold\">-147.5</span><span style=\"font-weight: bold\">)</span>, <span style=\"color: #800080; text-decoration-color: #800080; font-weight: bold\">SpecData</span><span style=\"font-weight: bold\">(</span><span style=\"color: #808000; text-decoration-color: #808000\">type</span>=<span style=\"color: #008080; text-decoration-color: #008080; font-weight: bold\">67</span>, <span style=\"color: #808000; text-decoration-color: #808000\">thread_id</span>=<span style=\"color: #008080; text-decoration-color: #008080; font-weight: bold\">230</span>, <span style=\"color: #808000; text-decoration-color: #808000\">description</span>=<span style=\"color: #008000; text-decoration-color: #008000\">'PMEF 2021 (Faixa 4 de 6).'</span>, \n",
       "<span style=\"color: #808000; text-decoration-color: #808000\">start_mega</span>=<span style=\"color: #008080; text-decoration-color: #008080; font-weight: bold\">2290.0</span>, <span style=\"color: #808000; text-decoration-color: #808000\">stop_mega</span>=<span style=\"color: #008080; text-decoration-color: #008080; font-weight: bold\">2390.0</span>, <span style=\"color: #808000; text-decoration-color: #808000\">unit</span>=<span style=\"color: #008000; text-decoration-color: #008000\">'dBm'</span>, <span style=\"color: #808000; text-decoration-color: #808000\">ndata</span>=<span style=\"color: #008080; text-decoration-color: #008080; font-weight: bold\">2560</span>, <span style=\"color: #808000; text-decoration-color: #808000\">bw</span>=<span style=\"color: #008080; text-decoration-color: #008080; font-weight: bold\">73828</span>, <span style=\"color: #808000; text-decoration-color: #808000\">processing</span>=<span style=\"color: #008000; text-decoration-color: #008000\">'peak'</span>, \n",
       "<span style=\"color: #808000; text-decoration-color: #808000\">antenna_id</span>=<span style=\"color: #008080; text-decoration-color: #008080; font-weight: bold\">0</span>, <span style=\"color: #808000; text-decoration-color: #808000\">thresh</span>=<span style=\"color: #008080; text-decoration-color: #008080; font-weight: bold\">-147.5</span>, <span style=\"color: #808000; text-decoration-color: #808000\">minimum</span>=<span style=\"color: #008080; text-decoration-color: #008080; font-weight: bold\">-147.5</span><span style=\"font-weight: bold\">)</span>, <span style=\"color: #800080; text-decoration-color: #800080; font-weight: bold\">SpecData</span><span style=\"font-weight: bold\">(</span><span style=\"color: #808000; text-decoration-color: #808000\">type</span>=<span style=\"color: #008080; text-decoration-color: #008080; font-weight: bold\">67</span>, <span style=\"color: #808000; text-decoration-color: #808000\">thread_id</span>=<span style=\"color: #008080; text-decoration-color: #008080; font-weight: bold\">240</span>, \n",
       "<span style=\"color: #808000; text-decoration-color: #808000\">description</span>=<span style=\"color: #008000; text-decoration-color: #008000\">'PMEF 2021 (Faixa 5 de 6).'</span>, <span style=\"color: #808000; text-decoration-color: #808000\">start_mega</span>=<span style=\"color: #008080; text-decoration-color: #008080; font-weight: bold\">2500.0</span>, <span style=\"color: #808000; text-decoration-color: #808000\">stop_mega</span>=<span style=\"color: #008080; text-decoration-color: #008080; font-weight: bold\">2690.0</span>, <span style=\"color: #808000; text-decoration-color: #808000\">unit</span>=<span style=\"color: #008000; text-decoration-color: #008000\">'dBm'</span>, \n",
       "<span style=\"color: #808000; text-decoration-color: #808000\">ndata</span>=<span style=\"color: #008080; text-decoration-color: #008080; font-weight: bold\">4864</span>, <span style=\"color: #808000; text-decoration-color: #808000\">bw</span>=<span style=\"color: #008080; text-decoration-color: #008080; font-weight: bold\">73828</span>, <span style=\"color: #808000; text-decoration-color: #808000\">processing</span>=<span style=\"color: #008000; text-decoration-color: #008000\">'peak'</span>, <span style=\"color: #808000; text-decoration-color: #808000\">antenna_id</span>=<span style=\"color: #008080; text-decoration-color: #008080; font-weight: bold\">0</span>, <span style=\"color: #808000; text-decoration-color: #808000\">thresh</span>=<span style=\"color: #008080; text-decoration-color: #008080; font-weight: bold\">-147.5</span>, <span style=\"color: #808000; text-decoration-color: #808000\">minimum</span>=<span style=\"color: #008080; text-decoration-color: #008080; font-weight: bold\">-147.5</span><span style=\"font-weight: bold\">)</span>, \n",
       "<span style=\"color: #800080; text-decoration-color: #800080; font-weight: bold\">SpecData</span><span style=\"font-weight: bold\">(</span><span style=\"color: #808000; text-decoration-color: #808000\">type</span>=<span style=\"color: #008080; text-decoration-color: #008080; font-weight: bold\">67</span>, <span style=\"color: #808000; text-decoration-color: #808000\">thread_id</span>=<span style=\"color: #008080; text-decoration-color: #008080; font-weight: bold\">250</span>, <span style=\"color: #808000; text-decoration-color: #808000\">description</span>=<span style=\"color: #008000; text-decoration-color: #008000\">'PMEF 2021 (Faixa 6 de 6).'</span>, <span style=\"color: #808000; text-decoration-color: #808000\">start_mega</span>=<span style=\"color: #008080; text-decoration-color: #008080; font-weight: bold\">3290.0</span>, \n",
       "<span style=\"color: #808000; text-decoration-color: #808000\">stop_mega</span>=<span style=\"color: #008080; text-decoration-color: #008080; font-weight: bold\">3700.0</span>, <span style=\"color: #808000; text-decoration-color: #808000\">unit</span>=<span style=\"color: #008000; text-decoration-color: #008000\">'dBm'</span>, <span style=\"color: #808000; text-decoration-color: #808000\">ndata</span>=<span style=\"color: #008080; text-decoration-color: #008080; font-weight: bold\">10496</span>, <span style=\"color: #808000; text-decoration-color: #808000\">bw</span>=<span style=\"color: #008080; text-decoration-color: #008080; font-weight: bold\">73828</span>, <span style=\"color: #808000; text-decoration-color: #808000\">processing</span>=<span style=\"color: #008000; text-decoration-color: #008000\">'peak'</span>, <span style=\"color: #808000; text-decoration-color: #808000\">antenna_id</span>=<span style=\"color: #008080; text-decoration-color: #008080; font-weight: bold\">0</span>, \n",
       "<span style=\"color: #808000; text-decoration-color: #808000\">thresh</span>=<span style=\"color: #008080; text-decoration-color: #008080; font-weight: bold\">-147.5</span>, <span style=\"color: #808000; text-decoration-color: #808000\">minimum</span>=<span style=\"color: #008080; text-decoration-color: #008080; font-weight: bold\">-147.5</span><span style=\"font-weight: bold\">)</span>, <span style=\"color: #800080; text-decoration-color: #800080; font-weight: bold\">SpecData</span><span style=\"font-weight: bold\">(</span><span style=\"color: #808000; text-decoration-color: #808000\">type</span>=<span style=\"color: #008080; text-decoration-color: #008080; font-weight: bold\">67</span>, <span style=\"color: #808000; text-decoration-color: #808000\">thread_id</span>=<span style=\"color: #008080; text-decoration-color: #008080; font-weight: bold\">320</span>, <span style=\"color: #808000; text-decoration-color: #808000\">description</span>=<span style=\"color: #008000; text-decoration-color: #008000\">'PMEC 2021 </span>\n",
       "<span style=\"color: #008000; text-decoration-color: #008000\">(Faixa 3 de 10).'</span>, <span style=\"color: #808000; text-decoration-color: #808000\">start_mega</span>=<span style=\"color: #008080; text-decoration-color: #008080; font-weight: bold\">320.0</span>, <span style=\"color: #808000; text-decoration-color: #808000\">stop_mega</span>=<span style=\"color: #008080; text-decoration-color: #008080; font-weight: bold\">340.0</span>, <span style=\"color: #808000; text-decoration-color: #808000\">unit</span>=<span style=\"color: #008000; text-decoration-color: #008000\">'dBm'</span>, <span style=\"color: #808000; text-decoration-color: #808000\">ndata</span>=<span style=\"color: #008080; text-decoration-color: #008080; font-weight: bold\">512</span>, <span style=\"color: #808000; text-decoration-color: #808000\">bw</span>=<span style=\"color: #008080; text-decoration-color: #008080; font-weight: bold\">73828</span>, \n",
       "<span style=\"color: #808000; text-decoration-color: #808000\">processing</span>=<span style=\"color: #008000; text-decoration-color: #008000\">'peak'</span>, <span style=\"color: #808000; text-decoration-color: #808000\">antenna_id</span>=<span style=\"color: #008080; text-decoration-color: #008080; font-weight: bold\">0</span>, <span style=\"color: #808000; text-decoration-color: #808000\">thresh</span>=<span style=\"color: #008080; text-decoration-color: #008080; font-weight: bold\">-147.5</span>, <span style=\"color: #808000; text-decoration-color: #808000\">minimum</span>=<span style=\"color: #008080; text-decoration-color: #008080; font-weight: bold\">-147.5</span><span style=\"font-weight: bold\">)</span>, <span style=\"color: #800080; text-decoration-color: #800080; font-weight: bold\">SpecData</span><span style=\"font-weight: bold\">(</span><span style=\"color: #808000; text-decoration-color: #808000\">type</span>=<span style=\"color: #008080; text-decoration-color: #008080; font-weight: bold\">67</span>, \n",
       "<span style=\"color: #808000; text-decoration-color: #808000\">thread_id</span>=<span style=\"color: #008080; text-decoration-color: #008080; font-weight: bold\">330</span>, <span style=\"color: #808000; text-decoration-color: #808000\">description</span>=<span style=\"color: #008000; text-decoration-color: #008000\">'PMEC 2021 (Faixa 4 de 10).'</span>, <span style=\"color: #808000; text-decoration-color: #808000\">start_mega</span>=<span style=\"color: #008080; text-decoration-color: #008080; font-weight: bold\">400.0</span>, <span style=\"color: #808000; text-decoration-color: #808000\">stop_mega</span>=<span style=\"color: #008080; text-decoration-color: #008080; font-weight: bold\">410.0</span>, \n",
       "<span style=\"color: #808000; text-decoration-color: #808000\">unit</span>=<span style=\"color: #008000; text-decoration-color: #008000\">'dBm'</span>, <span style=\"color: #808000; text-decoration-color: #808000\">ndata</span>=<span style=\"color: #008080; text-decoration-color: #008080; font-weight: bold\">256</span>, <span style=\"color: #808000; text-decoration-color: #808000\">bw</span>=<span style=\"color: #008080; text-decoration-color: #008080; font-weight: bold\">73828</span>, <span style=\"color: #808000; text-decoration-color: #808000\">processing</span>=<span style=\"color: #008000; text-decoration-color: #008000\">'peak'</span>, <span style=\"color: #808000; text-decoration-color: #808000\">antenna_id</span>=<span style=\"color: #008080; text-decoration-color: #008080; font-weight: bold\">0</span>, <span style=\"color: #808000; text-decoration-color: #808000\">thresh</span>=<span style=\"color: #008080; text-decoration-color: #008080; font-weight: bold\">-147.5</span>, \n",
       "<span style=\"color: #808000; text-decoration-color: #808000\">minimum</span>=<span style=\"color: #008080; text-decoration-color: #008080; font-weight: bold\">-147.5</span><span style=\"font-weight: bold\">)</span>, <span style=\"color: #800080; text-decoration-color: #800080; font-weight: bold\">SpecData</span><span style=\"font-weight: bold\">(</span><span style=\"color: #808000; text-decoration-color: #808000\">type</span>=<span style=\"color: #008080; text-decoration-color: #008080; font-weight: bold\">67</span>, <span style=\"color: #808000; text-decoration-color: #808000\">thread_id</span>=<span style=\"color: #008080; text-decoration-color: #008080; font-weight: bold\">340</span>, <span style=\"color: #808000; text-decoration-color: #808000\">description</span>=<span style=\"color: #008000; text-decoration-color: #008000\">'PMEC 2021 (Faixa 5 de 10).'</span>, \n",
       "<span style=\"color: #808000; text-decoration-color: #808000\">start_mega</span>=<span style=\"color: #008080; text-decoration-color: #008080; font-weight: bold\">960.0</span>, <span style=\"color: #808000; text-decoration-color: #808000\">stop_mega</span>=<span style=\"color: #008080; text-decoration-color: #008080; font-weight: bold\">1001218.999</span>, <span style=\"color: #808000; text-decoration-color: #808000\">unit</span>=<span style=\"color: #008000; text-decoration-color: #008000\">'dBm'</span>, <span style=\"color: #808000; text-decoration-color: #808000\">ndata</span>=<span style=\"color: #008080; text-decoration-color: #008080; font-weight: bold\">6656</span>, <span style=\"color: #808000; text-decoration-color: #808000\">bw</span>=<span style=\"color: #008080; text-decoration-color: #008080; font-weight: bold\">73828</span>, <span style=\"color: #808000; text-decoration-color: #808000\">processing</span>=<span style=\"color: #008000; text-decoration-color: #008000\">'peak'</span>,\n",
       "<span style=\"color: #808000; text-decoration-color: #808000\">antenna_id</span>=<span style=\"color: #008080; text-decoration-color: #008080; font-weight: bold\">0</span>, <span style=\"color: #808000; text-decoration-color: #808000\">thresh</span>=<span style=\"color: #008080; text-decoration-color: #008080; font-weight: bold\">-147.5</span>, <span style=\"color: #808000; text-decoration-color: #808000\">minimum</span>=<span style=\"color: #008080; text-decoration-color: #008080; font-weight: bold\">-147.5</span><span style=\"font-weight: bold\">)</span>, <span style=\"color: #800080; text-decoration-color: #800080; font-weight: bold\">SpecData</span><span style=\"font-weight: bold\">(</span><span style=\"color: #808000; text-decoration-color: #808000\">type</span>=<span style=\"color: #008080; text-decoration-color: #008080; font-weight: bold\">67</span>, <span style=\"color: #808000; text-decoration-color: #808000\">thread_id</span>=<span style=\"color: #008080; text-decoration-color: #008080; font-weight: bold\">350</span>, \n",
       "<span style=\"color: #808000; text-decoration-color: #808000\">description</span>=<span style=\"color: #008000; text-decoration-color: #008000\">'PMEC 2021 (Faixa 6 de 10).'</span>, <span style=\"color: #808000; text-decoration-color: #808000\">start_mega</span>=<span style=\"color: #008080; text-decoration-color: #008080; font-weight: bold\">1001388.999</span>, <span style=\"color: #808000; text-decoration-color: #808000\">stop_mega</span>=<span style=\"color: #008080; text-decoration-color: #008080; font-weight: bold\">1001428.999</span>, \n",
       "<span style=\"color: #808000; text-decoration-color: #808000\">unit</span>=<span style=\"color: #008000; text-decoration-color: #008000\">'dBm'</span>, <span style=\"color: #808000; text-decoration-color: #808000\">ndata</span>=<span style=\"color: #008080; text-decoration-color: #008080; font-weight: bold\">1280</span>, <span style=\"color: #808000; text-decoration-color: #808000\">bw</span>=<span style=\"color: #008080; text-decoration-color: #008080; font-weight: bold\">73828</span>, <span style=\"color: #808000; text-decoration-color: #808000\">processing</span>=<span style=\"color: #008000; text-decoration-color: #008000\">'peak'</span>, <span style=\"color: #808000; text-decoration-color: #808000\">antenna_id</span>=<span style=\"color: #008080; text-decoration-color: #008080; font-weight: bold\">0</span>, <span style=\"color: #808000; text-decoration-color: #808000\">thresh</span>=<span style=\"color: #008080; text-decoration-color: #008080; font-weight: bold\">-147.5</span>, \n",
       "<span style=\"color: #808000; text-decoration-color: #808000\">minimum</span>=<span style=\"color: #008080; text-decoration-color: #008080; font-weight: bold\">-147.5</span><span style=\"font-weight: bold\">)</span>, <span style=\"color: #800080; text-decoration-color: #800080; font-weight: bold\">SpecData</span><span style=\"font-weight: bold\">(</span><span style=\"color: #808000; text-decoration-color: #808000\">type</span>=<span style=\"color: #008080; text-decoration-color: #008080; font-weight: bold\">67</span>, <span style=\"color: #808000; text-decoration-color: #808000\">thread_id</span>=<span style=\"color: #008080; text-decoration-color: #008080; font-weight: bold\">360</span>, <span style=\"color: #808000; text-decoration-color: #808000\">description</span>=<span style=\"color: #008000; text-decoration-color: #008000\">'PMEC 2021 (Faixa 7 de 10).'</span>, \n",
       "<span style=\"color: #808000; text-decoration-color: #808000\">start_mega</span>=<span style=\"color: #008080; text-decoration-color: #008080; font-weight: bold\">1530.0</span>, <span style=\"color: #808000; text-decoration-color: #808000\">stop_mega</span>=<span style=\"color: #008080; text-decoration-color: #008080; font-weight: bold\">1001648.999</span>, <span style=\"color: #808000; text-decoration-color: #808000\">unit</span>=<span style=\"color: #008000; text-decoration-color: #008000\">'dBm'</span>, <span style=\"color: #808000; text-decoration-color: #808000\">ndata</span>=<span style=\"color: #008080; text-decoration-color: #008080; font-weight: bold\">3072</span>, <span style=\"color: #808000; text-decoration-color: #808000\">bw</span>=<span style=\"color: #008080; text-decoration-color: #008080; font-weight: bold\">73828</span>, \n",
       "<span style=\"color: #808000; text-decoration-color: #808000\">processing</span>=<span style=\"color: #008000; text-decoration-color: #008000\">'peak'</span>, <span style=\"color: #808000; text-decoration-color: #808000\">antenna_id</span>=<span style=\"color: #008080; text-decoration-color: #008080; font-weight: bold\">0</span>, <span style=\"color: #808000; text-decoration-color: #808000\">thresh</span>=<span style=\"color: #008080; text-decoration-color: #008080; font-weight: bold\">-147.5</span>, <span style=\"color: #808000; text-decoration-color: #808000\">minimum</span>=<span style=\"color: #008080; text-decoration-color: #008080; font-weight: bold\">-147.5</span><span style=\"font-weight: bold\">)</span>, <span style=\"color: #800080; text-decoration-color: #800080; font-weight: bold\">SpecData</span><span style=\"font-weight: bold\">(</span><span style=\"color: #808000; text-decoration-color: #808000\">type</span>=<span style=\"color: #008080; text-decoration-color: #008080; font-weight: bold\">67</span>, \n",
       "<span style=\"color: #808000; text-decoration-color: #808000\">thread_id</span>=<span style=\"color: #008080; text-decoration-color: #008080; font-weight: bold\">370</span>, <span style=\"color: #808000; text-decoration-color: #808000\">description</span>=<span style=\"color: #008000; text-decoration-color: #008000\">'PMEC 2021 (Faixa 8 de 10).'</span>, <span style=\"color: #808000; text-decoration-color: #808000\">start_mega</span>=<span style=\"color: #008080; text-decoration-color: #008080; font-weight: bold\">2690.0</span>, \n",
       "<span style=\"color: #808000; text-decoration-color: #808000\">stop_mega</span>=<span style=\"color: #008080; text-decoration-color: #008080; font-weight: bold\">1002898.999</span>, <span style=\"color: #808000; text-decoration-color: #808000\">unit</span>=<span style=\"color: #008000; text-decoration-color: #008000\">'dBm'</span>, <span style=\"color: #808000; text-decoration-color: #808000\">ndata</span>=<span style=\"color: #008080; text-decoration-color: #008080; font-weight: bold\">5376</span>, <span style=\"color: #808000; text-decoration-color: #808000\">bw</span>=<span style=\"color: #008080; text-decoration-color: #008080; font-weight: bold\">73828</span>, <span style=\"color: #808000; text-decoration-color: #808000\">processing</span>=<span style=\"color: #008000; text-decoration-color: #008000\">'peak'</span>, <span style=\"color: #808000; text-decoration-color: #808000\">antenna_id</span>=<span style=\"color: #008080; text-decoration-color: #008080; font-weight: bold\">0</span>, \n",
       "<span style=\"color: #808000; text-decoration-color: #808000\">thresh</span>=<span style=\"color: #008080; text-decoration-color: #008080; font-weight: bold\">-147.5</span>, <span style=\"color: #808000; text-decoration-color: #808000\">minimum</span>=<span style=\"color: #008080; text-decoration-color: #008080; font-weight: bold\">-147.5</span><span style=\"font-weight: bold\">)</span>, <span style=\"color: #800080; text-decoration-color: #800080; font-weight: bold\">SpecData</span><span style=\"font-weight: bold\">(</span><span style=\"color: #808000; text-decoration-color: #808000\">type</span>=<span style=\"color: #008080; text-decoration-color: #008080; font-weight: bold\">67</span>, <span style=\"color: #808000; text-decoration-color: #808000\">thread_id</span>=<span style=\"color: #008080; text-decoration-color: #008080; font-weight: bold\">380</span>, <span style=\"color: #808000; text-decoration-color: #808000\">description</span>=<span style=\"color: #008000; text-decoration-color: #008000\">'PMEC 2021 </span>\n",
       "<span style=\"color: #008000; text-decoration-color: #008000\">(Faixa 9 de 10).'</span>, <span style=\"color: #808000; text-decoration-color: #808000\">start_mega</span>=<span style=\"color: #008080; text-decoration-color: #008080; font-weight: bold\">5000.0</span>, <span style=\"color: #808000; text-decoration-color: #808000\">stop_mega</span>=<span style=\"color: #008080; text-decoration-color: #008080; font-weight: bold\">5160.0</span>, <span style=\"color: #808000; text-decoration-color: #808000\">unit</span>=<span style=\"color: #008000; text-decoration-color: #008000\">'dBm'</span>, <span style=\"color: #808000; text-decoration-color: #808000\">ndata</span>=<span style=\"color: #008080; text-decoration-color: #008080; font-weight: bold\">4096</span>, <span style=\"color: #808000; text-decoration-color: #808000\">bw</span>=<span style=\"color: #008080; text-decoration-color: #008080; font-weight: bold\">73828</span>, \n",
       "<span style=\"color: #808000; text-decoration-color: #808000\">processing</span>=<span style=\"color: #008000; text-decoration-color: #008000\">'peak'</span>, <span style=\"color: #808000; text-decoration-color: #808000\">antenna_id</span>=<span style=\"color: #008080; text-decoration-color: #008080; font-weight: bold\">0</span>, <span style=\"color: #808000; text-decoration-color: #808000\">thresh</span>=<span style=\"color: #008080; text-decoration-color: #008080; font-weight: bold\">-147.5</span>, <span style=\"color: #808000; text-decoration-color: #808000\">minimum</span>=<span style=\"color: #008080; text-decoration-color: #008080; font-weight: bold\">-147.5</span><span style=\"font-weight: bold\">)</span>, <span style=\"color: #800080; text-decoration-color: #800080; font-weight: bold\">SpecData</span><span style=\"font-weight: bold\">(</span><span style=\"color: #808000; text-decoration-color: #808000\">type</span>=<span style=\"color: #008080; text-decoration-color: #008080; font-weight: bold\">67</span>, \n",
       "<span style=\"color: #808000; text-decoration-color: #808000\">thread_id</span>=<span style=\"color: #008080; text-decoration-color: #008080; font-weight: bold\">390</span>, <span style=\"color: #808000; text-decoration-color: #808000\">description</span>=<span style=\"color: #008000; text-decoration-color: #008000\">'PMEC 2021 (Faixa 10 de 10).'</span>, <span style=\"color: #808000; text-decoration-color: #808000\">start_mega</span>=<span style=\"color: #008080; text-decoration-color: #008080; font-weight: bold\">1005338.999</span>, \n",
       "<span style=\"color: #808000; text-decoration-color: #808000\">stop_mega</span>=<span style=\"color: #008080; text-decoration-color: #008080; font-weight: bold\">1005458.999</span>, <span style=\"color: #808000; text-decoration-color: #808000\">unit</span>=<span style=\"color: #008000; text-decoration-color: #008000\">'dBm'</span>, <span style=\"color: #808000; text-decoration-color: #808000\">ndata</span>=<span style=\"color: #008080; text-decoration-color: #008080; font-weight: bold\">3328</span>, <span style=\"color: #808000; text-decoration-color: #808000\">bw</span>=<span style=\"color: #008080; text-decoration-color: #008080; font-weight: bold\">73828</span>, <span style=\"color: #808000; text-decoration-color: #808000\">processing</span>=<span style=\"color: #008000; text-decoration-color: #008000\">'peak'</span>, <span style=\"color: #808000; text-decoration-color: #808000\">antenna_id</span>=<span style=\"color: #008080; text-decoration-color: #008080; font-weight: bold\">0</span>, \n",
       "<span style=\"color: #808000; text-decoration-color: #808000\">thresh</span>=<span style=\"color: #008080; text-decoration-color: #008080; font-weight: bold\">-147.5</span>, <span style=\"color: #808000; text-decoration-color: #808000\">minimum</span>=<span style=\"color: #008080; text-decoration-color: #008080; font-weight: bold\">-147.5</span><span style=\"font-weight: bold\">)]</span>\n",
       "<span style=\"font-weight: bold\">}</span>\n",
       "</pre>\n"
      ],
      "text/plain": [
       "\u001b[1m{\u001b[0m\n",
       "    \u001b[32m'filename'\u001b[0m: \u001b[32m'rfeye002113_210626_T120001.bin'\u001b[0m,\n",
       "    \u001b[32m'file_version'\u001b[0m: \u001b[1;36m23\u001b[0m,\n",
       "    \u001b[32m'string'\u001b[0m: \u001b[32m'CRFS DATA FILE V023'\u001b[0m,\n",
       "    \u001b[32m'hostname'\u001b[0m: \u001b[32m'rfeye002113'\u001b[0m,\n",
       "    \u001b[32m'method'\u001b[0m: \u001b[32m'ScriptRFeye2021_v2.cfg'\u001b[0m,\n",
       "    \u001b[32m'unit_info'\u001b[0m: \u001b[32m'Stationary'\u001b[0m,\n",
       "    \u001b[32m'file_number'\u001b[0m: \u001b[1;36m0\u001b[0m,\n",
       "    \u001b[32m'identifier'\u001b[0m: \u001b[32m'INFO'\u001b[0m,\n",
       "    \u001b[32m'gps'\u001b[0m: GPS Data - Median of Coordinates: \u001b[1;36m-14.81416\u001b[0m:\u001b[1;36m-39.03184\u001b[0m, Altitude: \u001b[1;36m14.50\u001b[0m \n",
       "#Satellites: \u001b[1;36m12.0\u001b[0m ,\n",
       "    \u001b[32m'spectrum'\u001b[0m: \u001b[1m[\u001b[0m\u001b[1;35mSpecData\u001b[0m\u001b[1m(\u001b[0m\u001b[33mtype\u001b[0m=\u001b[1;36m67\u001b[0m, \u001b[33mthread_id\u001b[0m=\u001b[1;36m300\u001b[0m, \u001b[33mdescription\u001b[0m=\u001b[32m'PMEC 2021 \u001b[0m\u001b[32m(\u001b[0m\u001b[32mFaixa 1 de 10\u001b[0m\u001b[32m)\u001b[0m\u001b[32m.'\u001b[0m, \n",
       "\u001b[33mstart_mega\u001b[0m=\u001b[1;36m105\u001b[0m\u001b[1;36m.0\u001b[0m, \u001b[33mstop_mega\u001b[0m=\u001b[1;36m140\u001b[0m\u001b[1;36m.0\u001b[0m, \u001b[33munit\u001b[0m=\u001b[32m'dBm'\u001b[0m, \u001b[33mndata\u001b[0m=\u001b[1;36m3584\u001b[0m, \u001b[33mbw\u001b[0m=\u001b[1;36m18457\u001b[0m, \u001b[33mprocessing\u001b[0m=\u001b[32m'peak'\u001b[0m, \n",
       "\u001b[33mantenna_id\u001b[0m=\u001b[1;36m0\u001b[0m, \u001b[33mthresh\u001b[0m=\u001b[1;36m-147.5\u001b[0m, \u001b[33mminimum\u001b[0m=\u001b[1;36m-147.5\u001b[0m\u001b[1m)\u001b[0m, \u001b[1;35mSpecData\u001b[0m\u001b[1m(\u001b[0m\u001b[33mtype\u001b[0m=\u001b[1;36m67\u001b[0m, \u001b[33mthread_id\u001b[0m=\u001b[1;36m310\u001b[0m, \n",
       "\u001b[33mdescription\u001b[0m=\u001b[32m'PMEC 2021 \u001b[0m\u001b[32m(\u001b[0m\u001b[32mFaixa 2 de 10\u001b[0m\u001b[32m)\u001b[0m\u001b[32m.'\u001b[0m, \u001b[33mstart_mega\u001b[0m=\u001b[1;36m155\u001b[0m\u001b[1;36m.0\u001b[0m, \u001b[33mstop_mega\u001b[0m=\u001b[1;36m165\u001b[0m\u001b[1;36m.0\u001b[0m, \u001b[33munit\u001b[0m=\u001b[32m'dBm'\u001b[0m, \n",
       "\u001b[33mndata\u001b[0m=\u001b[1;36m1024\u001b[0m, \u001b[33mbw\u001b[0m=\u001b[1;36m18457\u001b[0m, \u001b[33mprocessing\u001b[0m=\u001b[32m'peak'\u001b[0m, \u001b[33mantenna_id\u001b[0m=\u001b[1;36m0\u001b[0m, \u001b[33mthresh\u001b[0m=\u001b[1;36m-147.5\u001b[0m, \u001b[33mminimum\u001b[0m=\u001b[1;36m-147.5\u001b[0m\u001b[1m)\u001b[0m, \n",
       "\u001b[1;35mSpecData\u001b[0m\u001b[1m(\u001b[0m\u001b[33mtype\u001b[0m=\u001b[1;36m67\u001b[0m, \u001b[33mthread_id\u001b[0m=\u001b[1;36m100\u001b[0m, \u001b[33mdescription\u001b[0m=\u001b[32m'PRD 2021 \u001b[0m\u001b[32m(\u001b[0m\u001b[32mFaixa principal 1 de 4\u001b[0m\u001b[32m)\u001b[0m\u001b[32m.'\u001b[0m, \n",
       "\u001b[33mstart_mega\u001b[0m=\u001b[1;36m50\u001b[0m\u001b[1;36m.0\u001b[0m, \u001b[33mstop_mega\u001b[0m=\u001b[1;36m90\u001b[0m\u001b[1;36m.0\u001b[0m, \u001b[33munit\u001b[0m=\u001b[32m'dBμV/m'\u001b[0m, \u001b[33mndata\u001b[0m=\u001b[1;36m1024\u001b[0m, \u001b[33mbw\u001b[0m=\u001b[1;36m73828\u001b[0m, \u001b[33mprocessing\u001b[0m=\u001b[32m'peak'\u001b[0m, \n",
       "\u001b[33mantenna_id\u001b[0m=\u001b[1;36m0\u001b[0m, \u001b[33mthresh\u001b[0m=\u001b[1;36m-90.5\u001b[0m, \u001b[33mminimum\u001b[0m=\u001b[1;36m-90.5\u001b[0m\u001b[1m)\u001b[0m, \u001b[1;35mSpecData\u001b[0m\u001b[1m(\u001b[0m\u001b[33mtype\u001b[0m=\u001b[1;36m67\u001b[0m, \u001b[33mthread_id\u001b[0m=\u001b[1;36m110\u001b[0m, \u001b[33mdescription\u001b[0m=\u001b[32m'PRD\u001b[0m\n",
       "\u001b[32m2021 \u001b[0m\u001b[32m(\u001b[0m\u001b[32mFaixa principal 2 de 4\u001b[0m\u001b[32m)\u001b[0m\u001b[32m.'\u001b[0m, \u001b[33mstart_mega\u001b[0m=\u001b[1;36m70\u001b[0m\u001b[1;36m.0\u001b[0m, \u001b[33mstop_mega\u001b[0m=\u001b[1;36m110\u001b[0m\u001b[1;36m.0\u001b[0m, \u001b[33munit\u001b[0m=\u001b[32m'dBμV/m'\u001b[0m, \u001b[33mndata\u001b[0m=\u001b[1;36m1024\u001b[0m,\n",
       "\u001b[33mbw\u001b[0m=\u001b[1;36m73828\u001b[0m, \u001b[33mprocessing\u001b[0m=\u001b[32m'peak'\u001b[0m, \u001b[33mantenna_id\u001b[0m=\u001b[1;36m0\u001b[0m, \u001b[33mthresh\u001b[0m=\u001b[1;36m-67.5\u001b[0m, \u001b[33mminimum\u001b[0m=\u001b[1;36m-67.5\u001b[0m\u001b[1m)\u001b[0m, \u001b[1;35mSpecData\u001b[0m\u001b[1m(\u001b[0m\u001b[33mtype\u001b[0m=\u001b[1;36m67\u001b[0m, \n",
       "\u001b[33mthread_id\u001b[0m=\u001b[1;36m120\u001b[0m, \u001b[33mdescription\u001b[0m=\u001b[32m'PRD 2021 \u001b[0m\u001b[32m(\u001b[0m\u001b[32mFaixa principal 3 de 4\u001b[0m\u001b[32m)\u001b[0m\u001b[32m.'\u001b[0m, \u001b[33mstart_mega\u001b[0m=\u001b[1;36m170\u001b[0m\u001b[1;36m.0\u001b[0m, \n",
       "\u001b[33mstop_mega\u001b[0m=\u001b[1;36m220\u001b[0m\u001b[1;36m.0\u001b[0m, \u001b[33munit\u001b[0m=\u001b[32m'dBμV/m'\u001b[0m, \u001b[33mndata\u001b[0m=\u001b[1;36m1280\u001b[0m, \u001b[33mbw\u001b[0m=\u001b[1;36m73828\u001b[0m, \u001b[33mprocessing\u001b[0m=\u001b[32m'peak'\u001b[0m, \u001b[33mantenna_id\u001b[0m=\u001b[1;36m0\u001b[0m, \n",
       "\u001b[33mthresh\u001b[0m=\u001b[1;36m-37.5\u001b[0m, \u001b[33mminimum\u001b[0m=\u001b[1;36m-37.5\u001b[0m\u001b[1m)\u001b[0m, \u001b[1;35mSpecData\u001b[0m\u001b[1m(\u001b[0m\u001b[33mtype\u001b[0m=\u001b[1;36m67\u001b[0m, \u001b[33mthread_id\u001b[0m=\u001b[1;36m130\u001b[0m, \u001b[33mdescription\u001b[0m=\u001b[32m'PRD 2021 \u001b[0m\u001b[32m(\u001b[0m\u001b[32mFaixa \u001b[0m\n",
       "\u001b[32mprincipal 4 de 4\u001b[0m\u001b[32m)\u001b[0m\u001b[32m.'\u001b[0m, \u001b[33mstart_mega\u001b[0m=\u001b[1;36m470\u001b[0m\u001b[1;36m.0\u001b[0m, \u001b[33mstop_mega\u001b[0m=\u001b[1;36m700\u001b[0m\u001b[1;36m.0\u001b[0m, \u001b[33munit\u001b[0m=\u001b[32m'dBμV/m'\u001b[0m, \u001b[33mndata\u001b[0m=\u001b[1;36m5888\u001b[0m, \u001b[33mbw\u001b[0m=\u001b[1;36m73828\u001b[0m, \n",
       "\u001b[33mprocessing\u001b[0m=\u001b[32m'peak'\u001b[0m, \u001b[33mantenna_id\u001b[0m=\u001b[1;36m0\u001b[0m, \u001b[33mthresh\u001b[0m=\u001b[1;36m-41.5\u001b[0m, \u001b[33mminimum\u001b[0m=\u001b[1;36m-41.5\u001b[0m\u001b[1m)\u001b[0m, \u001b[1;35mSpecData\u001b[0m\u001b[1m(\u001b[0m\u001b[33mtype\u001b[0m=\u001b[1;36m67\u001b[0m, \n",
       "\u001b[33mthread_id\u001b[0m=\u001b[1;36m200\u001b[0m, \u001b[33mdescription\u001b[0m=\u001b[32m'PMEF 2021 \u001b[0m\u001b[32m(\u001b[0m\u001b[32mFaixa 1 de 6\u001b[0m\u001b[32m)\u001b[0m\u001b[32m.'\u001b[0m, \u001b[33mstart_mega\u001b[0m=\u001b[1;36m700\u001b[0m\u001b[1;36m.0\u001b[0m, \u001b[33mstop_mega\u001b[0m=\u001b[1;36m960\u001b[0m\u001b[1;36m.0\u001b[0m, \n",
       "\u001b[33munit\u001b[0m=\u001b[32m'dBm'\u001b[0m, \u001b[33mndata\u001b[0m=\u001b[1;36m6656\u001b[0m, \u001b[33mbw\u001b[0m=\u001b[1;36m73828\u001b[0m, \u001b[33mprocessing\u001b[0m=\u001b[32m'peak'\u001b[0m, \u001b[33mantenna_id\u001b[0m=\u001b[1;36m0\u001b[0m, \u001b[33mthresh\u001b[0m=\u001b[1;36m-147.5\u001b[0m, \n",
       "\u001b[33mminimum\u001b[0m=\u001b[1;36m-147.5\u001b[0m\u001b[1m)\u001b[0m, \u001b[1;35mSpecData\u001b[0m\u001b[1m(\u001b[0m\u001b[33mtype\u001b[0m=\u001b[1;36m67\u001b[0m, \u001b[33mthread_id\u001b[0m=\u001b[1;36m210\u001b[0m, \u001b[33mdescription\u001b[0m=\u001b[32m'PMEF 2021 \u001b[0m\u001b[32m(\u001b[0m\u001b[32mFaixa 2 de 6\u001b[0m\u001b[32m)\u001b[0m\u001b[32m.'\u001b[0m, \n",
       "\u001b[33mstart_mega\u001b[0m=\u001b[1;36m1710\u001b[0m\u001b[1;36m.0\u001b[0m, \u001b[33mstop_mega\u001b[0m=\u001b[1;36m1980\u001b[0m\u001b[1;36m.0\u001b[0m, \u001b[33munit\u001b[0m=\u001b[32m'dBm'\u001b[0m, \u001b[33mndata\u001b[0m=\u001b[1;36m6912\u001b[0m, \u001b[33mbw\u001b[0m=\u001b[1;36m73828\u001b[0m, \u001b[33mprocessing\u001b[0m=\u001b[32m'peak'\u001b[0m, \n",
       "\u001b[33mantenna_id\u001b[0m=\u001b[1;36m0\u001b[0m, \u001b[33mthresh\u001b[0m=\u001b[1;36m-147.5\u001b[0m, \u001b[33mminimum\u001b[0m=\u001b[1;36m-147.5\u001b[0m\u001b[1m)\u001b[0m, \u001b[1;35mSpecData\u001b[0m\u001b[1m(\u001b[0m\u001b[33mtype\u001b[0m=\u001b[1;36m67\u001b[0m, \u001b[33mthread_id\u001b[0m=\u001b[1;36m220\u001b[0m, \n",
       "\u001b[33mdescription\u001b[0m=\u001b[32m'PMEF 2021 \u001b[0m\u001b[32m(\u001b[0m\u001b[32mFaixa 3 de 6\u001b[0m\u001b[32m)\u001b[0m\u001b[32m.'\u001b[0m, \u001b[33mstart_mega\u001b[0m=\u001b[1;36m2100\u001b[0m\u001b[1;36m.0\u001b[0m, \u001b[33mstop_mega\u001b[0m=\u001b[1;36m1002168\u001b[0m\u001b[1;36m.999\u001b[0m, \n",
       "\u001b[33munit\u001b[0m=\u001b[32m'dBm'\u001b[0m, \u001b[33mndata\u001b[0m=\u001b[1;36m1792\u001b[0m, \u001b[33mbw\u001b[0m=\u001b[1;36m73828\u001b[0m, \u001b[33mprocessing\u001b[0m=\u001b[32m'peak'\u001b[0m, \u001b[33mantenna_id\u001b[0m=\u001b[1;36m0\u001b[0m, \u001b[33mthresh\u001b[0m=\u001b[1;36m-147.5\u001b[0m, \n",
       "\u001b[33mminimum\u001b[0m=\u001b[1;36m-147.5\u001b[0m\u001b[1m)\u001b[0m, \u001b[1;35mSpecData\u001b[0m\u001b[1m(\u001b[0m\u001b[33mtype\u001b[0m=\u001b[1;36m67\u001b[0m, \u001b[33mthread_id\u001b[0m=\u001b[1;36m230\u001b[0m, \u001b[33mdescription\u001b[0m=\u001b[32m'PMEF 2021 \u001b[0m\u001b[32m(\u001b[0m\u001b[32mFaixa 4 de 6\u001b[0m\u001b[32m)\u001b[0m\u001b[32m.'\u001b[0m, \n",
       "\u001b[33mstart_mega\u001b[0m=\u001b[1;36m2290\u001b[0m\u001b[1;36m.0\u001b[0m, \u001b[33mstop_mega\u001b[0m=\u001b[1;36m2390\u001b[0m\u001b[1;36m.0\u001b[0m, \u001b[33munit\u001b[0m=\u001b[32m'dBm'\u001b[0m, \u001b[33mndata\u001b[0m=\u001b[1;36m2560\u001b[0m, \u001b[33mbw\u001b[0m=\u001b[1;36m73828\u001b[0m, \u001b[33mprocessing\u001b[0m=\u001b[32m'peak'\u001b[0m, \n",
       "\u001b[33mantenna_id\u001b[0m=\u001b[1;36m0\u001b[0m, \u001b[33mthresh\u001b[0m=\u001b[1;36m-147.5\u001b[0m, \u001b[33mminimum\u001b[0m=\u001b[1;36m-147.5\u001b[0m\u001b[1m)\u001b[0m, \u001b[1;35mSpecData\u001b[0m\u001b[1m(\u001b[0m\u001b[33mtype\u001b[0m=\u001b[1;36m67\u001b[0m, \u001b[33mthread_id\u001b[0m=\u001b[1;36m240\u001b[0m, \n",
       "\u001b[33mdescription\u001b[0m=\u001b[32m'PMEF 2021 \u001b[0m\u001b[32m(\u001b[0m\u001b[32mFaixa 5 de 6\u001b[0m\u001b[32m)\u001b[0m\u001b[32m.'\u001b[0m, \u001b[33mstart_mega\u001b[0m=\u001b[1;36m2500\u001b[0m\u001b[1;36m.0\u001b[0m, \u001b[33mstop_mega\u001b[0m=\u001b[1;36m2690\u001b[0m\u001b[1;36m.0\u001b[0m, \u001b[33munit\u001b[0m=\u001b[32m'dBm'\u001b[0m, \n",
       "\u001b[33mndata\u001b[0m=\u001b[1;36m4864\u001b[0m, \u001b[33mbw\u001b[0m=\u001b[1;36m73828\u001b[0m, \u001b[33mprocessing\u001b[0m=\u001b[32m'peak'\u001b[0m, \u001b[33mantenna_id\u001b[0m=\u001b[1;36m0\u001b[0m, \u001b[33mthresh\u001b[0m=\u001b[1;36m-147.5\u001b[0m, \u001b[33mminimum\u001b[0m=\u001b[1;36m-147.5\u001b[0m\u001b[1m)\u001b[0m, \n",
       "\u001b[1;35mSpecData\u001b[0m\u001b[1m(\u001b[0m\u001b[33mtype\u001b[0m=\u001b[1;36m67\u001b[0m, \u001b[33mthread_id\u001b[0m=\u001b[1;36m250\u001b[0m, \u001b[33mdescription\u001b[0m=\u001b[32m'PMEF 2021 \u001b[0m\u001b[32m(\u001b[0m\u001b[32mFaixa 6 de 6\u001b[0m\u001b[32m)\u001b[0m\u001b[32m.'\u001b[0m, \u001b[33mstart_mega\u001b[0m=\u001b[1;36m3290\u001b[0m\u001b[1;36m.0\u001b[0m, \n",
       "\u001b[33mstop_mega\u001b[0m=\u001b[1;36m3700\u001b[0m\u001b[1;36m.0\u001b[0m, \u001b[33munit\u001b[0m=\u001b[32m'dBm'\u001b[0m, \u001b[33mndata\u001b[0m=\u001b[1;36m10496\u001b[0m, \u001b[33mbw\u001b[0m=\u001b[1;36m73828\u001b[0m, \u001b[33mprocessing\u001b[0m=\u001b[32m'peak'\u001b[0m, \u001b[33mantenna_id\u001b[0m=\u001b[1;36m0\u001b[0m, \n",
       "\u001b[33mthresh\u001b[0m=\u001b[1;36m-147.5\u001b[0m, \u001b[33mminimum\u001b[0m=\u001b[1;36m-147.5\u001b[0m\u001b[1m)\u001b[0m, \u001b[1;35mSpecData\u001b[0m\u001b[1m(\u001b[0m\u001b[33mtype\u001b[0m=\u001b[1;36m67\u001b[0m, \u001b[33mthread_id\u001b[0m=\u001b[1;36m320\u001b[0m, \u001b[33mdescription\u001b[0m=\u001b[32m'PMEC 2021 \u001b[0m\n",
       "\u001b[32m(\u001b[0m\u001b[32mFaixa 3 de 10\u001b[0m\u001b[32m)\u001b[0m\u001b[32m.'\u001b[0m, \u001b[33mstart_mega\u001b[0m=\u001b[1;36m320\u001b[0m\u001b[1;36m.0\u001b[0m, \u001b[33mstop_mega\u001b[0m=\u001b[1;36m340\u001b[0m\u001b[1;36m.0\u001b[0m, \u001b[33munit\u001b[0m=\u001b[32m'dBm'\u001b[0m, \u001b[33mndata\u001b[0m=\u001b[1;36m512\u001b[0m, \u001b[33mbw\u001b[0m=\u001b[1;36m73828\u001b[0m, \n",
       "\u001b[33mprocessing\u001b[0m=\u001b[32m'peak'\u001b[0m, \u001b[33mantenna_id\u001b[0m=\u001b[1;36m0\u001b[0m, \u001b[33mthresh\u001b[0m=\u001b[1;36m-147.5\u001b[0m, \u001b[33mminimum\u001b[0m=\u001b[1;36m-147.5\u001b[0m\u001b[1m)\u001b[0m, \u001b[1;35mSpecData\u001b[0m\u001b[1m(\u001b[0m\u001b[33mtype\u001b[0m=\u001b[1;36m67\u001b[0m, \n",
       "\u001b[33mthread_id\u001b[0m=\u001b[1;36m330\u001b[0m, \u001b[33mdescription\u001b[0m=\u001b[32m'PMEC 2021 \u001b[0m\u001b[32m(\u001b[0m\u001b[32mFaixa 4 de 10\u001b[0m\u001b[32m)\u001b[0m\u001b[32m.'\u001b[0m, \u001b[33mstart_mega\u001b[0m=\u001b[1;36m400\u001b[0m\u001b[1;36m.0\u001b[0m, \u001b[33mstop_mega\u001b[0m=\u001b[1;36m410\u001b[0m\u001b[1;36m.0\u001b[0m, \n",
       "\u001b[33munit\u001b[0m=\u001b[32m'dBm'\u001b[0m, \u001b[33mndata\u001b[0m=\u001b[1;36m256\u001b[0m, \u001b[33mbw\u001b[0m=\u001b[1;36m73828\u001b[0m, \u001b[33mprocessing\u001b[0m=\u001b[32m'peak'\u001b[0m, \u001b[33mantenna_id\u001b[0m=\u001b[1;36m0\u001b[0m, \u001b[33mthresh\u001b[0m=\u001b[1;36m-147.5\u001b[0m, \n",
       "\u001b[33mminimum\u001b[0m=\u001b[1;36m-147.5\u001b[0m\u001b[1m)\u001b[0m, \u001b[1;35mSpecData\u001b[0m\u001b[1m(\u001b[0m\u001b[33mtype\u001b[0m=\u001b[1;36m67\u001b[0m, \u001b[33mthread_id\u001b[0m=\u001b[1;36m340\u001b[0m, \u001b[33mdescription\u001b[0m=\u001b[32m'PMEC 2021 \u001b[0m\u001b[32m(\u001b[0m\u001b[32mFaixa 5 de 10\u001b[0m\u001b[32m)\u001b[0m\u001b[32m.'\u001b[0m, \n",
       "\u001b[33mstart_mega\u001b[0m=\u001b[1;36m960\u001b[0m\u001b[1;36m.0\u001b[0m, \u001b[33mstop_mega\u001b[0m=\u001b[1;36m1001218\u001b[0m\u001b[1;36m.999\u001b[0m, \u001b[33munit\u001b[0m=\u001b[32m'dBm'\u001b[0m, \u001b[33mndata\u001b[0m=\u001b[1;36m6656\u001b[0m, \u001b[33mbw\u001b[0m=\u001b[1;36m73828\u001b[0m, \u001b[33mprocessing\u001b[0m=\u001b[32m'peak'\u001b[0m,\n",
       "\u001b[33mantenna_id\u001b[0m=\u001b[1;36m0\u001b[0m, \u001b[33mthresh\u001b[0m=\u001b[1;36m-147.5\u001b[0m, \u001b[33mminimum\u001b[0m=\u001b[1;36m-147.5\u001b[0m\u001b[1m)\u001b[0m, \u001b[1;35mSpecData\u001b[0m\u001b[1m(\u001b[0m\u001b[33mtype\u001b[0m=\u001b[1;36m67\u001b[0m, \u001b[33mthread_id\u001b[0m=\u001b[1;36m350\u001b[0m, \n",
       "\u001b[33mdescription\u001b[0m=\u001b[32m'PMEC 2021 \u001b[0m\u001b[32m(\u001b[0m\u001b[32mFaixa 6 de 10\u001b[0m\u001b[32m)\u001b[0m\u001b[32m.'\u001b[0m, \u001b[33mstart_mega\u001b[0m=\u001b[1;36m1001388\u001b[0m\u001b[1;36m.999\u001b[0m, \u001b[33mstop_mega\u001b[0m=\u001b[1;36m1001428\u001b[0m\u001b[1;36m.999\u001b[0m, \n",
       "\u001b[33munit\u001b[0m=\u001b[32m'dBm'\u001b[0m, \u001b[33mndata\u001b[0m=\u001b[1;36m1280\u001b[0m, \u001b[33mbw\u001b[0m=\u001b[1;36m73828\u001b[0m, \u001b[33mprocessing\u001b[0m=\u001b[32m'peak'\u001b[0m, \u001b[33mantenna_id\u001b[0m=\u001b[1;36m0\u001b[0m, \u001b[33mthresh\u001b[0m=\u001b[1;36m-147.5\u001b[0m, \n",
       "\u001b[33mminimum\u001b[0m=\u001b[1;36m-147.5\u001b[0m\u001b[1m)\u001b[0m, \u001b[1;35mSpecData\u001b[0m\u001b[1m(\u001b[0m\u001b[33mtype\u001b[0m=\u001b[1;36m67\u001b[0m, \u001b[33mthread_id\u001b[0m=\u001b[1;36m360\u001b[0m, \u001b[33mdescription\u001b[0m=\u001b[32m'PMEC 2021 \u001b[0m\u001b[32m(\u001b[0m\u001b[32mFaixa 7 de 10\u001b[0m\u001b[32m)\u001b[0m\u001b[32m.'\u001b[0m, \n",
       "\u001b[33mstart_mega\u001b[0m=\u001b[1;36m1530\u001b[0m\u001b[1;36m.0\u001b[0m, \u001b[33mstop_mega\u001b[0m=\u001b[1;36m1001648\u001b[0m\u001b[1;36m.999\u001b[0m, \u001b[33munit\u001b[0m=\u001b[32m'dBm'\u001b[0m, \u001b[33mndata\u001b[0m=\u001b[1;36m3072\u001b[0m, \u001b[33mbw\u001b[0m=\u001b[1;36m73828\u001b[0m, \n",
       "\u001b[33mprocessing\u001b[0m=\u001b[32m'peak'\u001b[0m, \u001b[33mantenna_id\u001b[0m=\u001b[1;36m0\u001b[0m, \u001b[33mthresh\u001b[0m=\u001b[1;36m-147.5\u001b[0m, \u001b[33mminimum\u001b[0m=\u001b[1;36m-147.5\u001b[0m\u001b[1m)\u001b[0m, \u001b[1;35mSpecData\u001b[0m\u001b[1m(\u001b[0m\u001b[33mtype\u001b[0m=\u001b[1;36m67\u001b[0m, \n",
       "\u001b[33mthread_id\u001b[0m=\u001b[1;36m370\u001b[0m, \u001b[33mdescription\u001b[0m=\u001b[32m'PMEC 2021 \u001b[0m\u001b[32m(\u001b[0m\u001b[32mFaixa 8 de 10\u001b[0m\u001b[32m)\u001b[0m\u001b[32m.'\u001b[0m, \u001b[33mstart_mega\u001b[0m=\u001b[1;36m2690\u001b[0m\u001b[1;36m.0\u001b[0m, \n",
       "\u001b[33mstop_mega\u001b[0m=\u001b[1;36m1002898\u001b[0m\u001b[1;36m.999\u001b[0m, \u001b[33munit\u001b[0m=\u001b[32m'dBm'\u001b[0m, \u001b[33mndata\u001b[0m=\u001b[1;36m5376\u001b[0m, \u001b[33mbw\u001b[0m=\u001b[1;36m73828\u001b[0m, \u001b[33mprocessing\u001b[0m=\u001b[32m'peak'\u001b[0m, \u001b[33mantenna_id\u001b[0m=\u001b[1;36m0\u001b[0m, \n",
       "\u001b[33mthresh\u001b[0m=\u001b[1;36m-147.5\u001b[0m, \u001b[33mminimum\u001b[0m=\u001b[1;36m-147.5\u001b[0m\u001b[1m)\u001b[0m, \u001b[1;35mSpecData\u001b[0m\u001b[1m(\u001b[0m\u001b[33mtype\u001b[0m=\u001b[1;36m67\u001b[0m, \u001b[33mthread_id\u001b[0m=\u001b[1;36m380\u001b[0m, \u001b[33mdescription\u001b[0m=\u001b[32m'PMEC 2021 \u001b[0m\n",
       "\u001b[32m(\u001b[0m\u001b[32mFaixa 9 de 10\u001b[0m\u001b[32m)\u001b[0m\u001b[32m.'\u001b[0m, \u001b[33mstart_mega\u001b[0m=\u001b[1;36m5000\u001b[0m\u001b[1;36m.0\u001b[0m, \u001b[33mstop_mega\u001b[0m=\u001b[1;36m5160\u001b[0m\u001b[1;36m.0\u001b[0m, \u001b[33munit\u001b[0m=\u001b[32m'dBm'\u001b[0m, \u001b[33mndata\u001b[0m=\u001b[1;36m4096\u001b[0m, \u001b[33mbw\u001b[0m=\u001b[1;36m73828\u001b[0m, \n",
       "\u001b[33mprocessing\u001b[0m=\u001b[32m'peak'\u001b[0m, \u001b[33mantenna_id\u001b[0m=\u001b[1;36m0\u001b[0m, \u001b[33mthresh\u001b[0m=\u001b[1;36m-147.5\u001b[0m, \u001b[33mminimum\u001b[0m=\u001b[1;36m-147.5\u001b[0m\u001b[1m)\u001b[0m, \u001b[1;35mSpecData\u001b[0m\u001b[1m(\u001b[0m\u001b[33mtype\u001b[0m=\u001b[1;36m67\u001b[0m, \n",
       "\u001b[33mthread_id\u001b[0m=\u001b[1;36m390\u001b[0m, \u001b[33mdescription\u001b[0m=\u001b[32m'PMEC 2021 \u001b[0m\u001b[32m(\u001b[0m\u001b[32mFaixa 10 de 10\u001b[0m\u001b[32m)\u001b[0m\u001b[32m.'\u001b[0m, \u001b[33mstart_mega\u001b[0m=\u001b[1;36m1005338\u001b[0m\u001b[1;36m.999\u001b[0m, \n",
       "\u001b[33mstop_mega\u001b[0m=\u001b[1;36m1005458\u001b[0m\u001b[1;36m.999\u001b[0m, \u001b[33munit\u001b[0m=\u001b[32m'dBm'\u001b[0m, \u001b[33mndata\u001b[0m=\u001b[1;36m3328\u001b[0m, \u001b[33mbw\u001b[0m=\u001b[1;36m73828\u001b[0m, \u001b[33mprocessing\u001b[0m=\u001b[32m'peak'\u001b[0m, \u001b[33mantenna_id\u001b[0m=\u001b[1;36m0\u001b[0m, \n",
       "\u001b[33mthresh\u001b[0m=\u001b[1;36m-147.5\u001b[0m, \u001b[33mminimum\u001b[0m=\u001b[1;36m-147.5\u001b[0m\u001b[1m)\u001b[0m\u001b[1m]\u001b[0m\n",
       "\u001b[1m}\u001b[0m\n"
      ]
     },
     "metadata": {},
     "output_type": "display_data"
    }
   ],
   "source": [
    "print(v5)"
   ]
  },
  {
   "attachments": {
    "83a77abf-8623-4f82-ae74-8a0d077b1aa8.png": {
     "image/png": "[encoded data removed]"
    }
   },
   "cell_type": "markdown",
   "metadata": {},
   "source": [
    "A saída da função é um dicionário, com os metadados do arquivo:\n",
    "\n",
    "![image.png](attachment:83a77abf-8623-4f82-ae74-8a0d077b1aa8.png)"
   ]
  },
  {
   "cell_type": "markdown",
   "metadata": {},
   "source": [
    "No entanto as duas chaves mais importantes do dicionário retornado são `gps` e `spectrum`"
   ]
  },
  {
   "cell_type": "code",
   "execution_count": null,
   "metadata": {},
   "outputs": [
    {
     "data": {
      "text/html": [
       "<pre style=\"white-space:pre;overflow-x:auto;line-height:normal;font-family:Menlo,'DejaVu Sans Mono',consolas,'Courier New',monospace\"><span style=\"font-weight: bold\">{</span><span style=\"color: #008000; text-decoration-color: #008000\">'altitude'</span>: <span style=\"color: #008080; text-decoration-color: #008080; font-weight: bold\">14.5</span>, <span style=\"color: #008000; text-decoration-color: #008000\">'latitude'</span>: <span style=\"color: #008080; text-decoration-color: #008080; font-weight: bold\">-14.814161</span>, <span style=\"color: #008000; text-decoration-color: #008000\">'longitude'</span>: <span style=\"color: #008080; text-decoration-color: #008080; font-weight: bold\">-39.031841</span>, <span style=\"color: #008000; text-decoration-color: #008000\">'num_satellites'</span>: <span style=\"color: #008080; text-decoration-color: #008080; font-weight: bold\">12.0</span><span style=\"font-weight: bold\">}</span>\n",
       "</pre>\n"
      ],
      "text/plain": [
       "\u001b[1m{\u001b[0m\u001b[32m'altitude'\u001b[0m: \u001b[1;36m14.5\u001b[0m, \u001b[32m'latitude'\u001b[0m: \u001b[1;36m-14.814161\u001b[0m, \u001b[32m'longitude'\u001b[0m: \u001b[1;36m-39.031841\u001b[0m, \u001b[32m'num_satellites'\u001b[0m: \u001b[1;36m12.0\u001b[0m\u001b[1m}\u001b[0m\n"
      ]
     },
     "metadata": {},
     "output_type": "display_data"
    }
   ],
   "source": [
    "from rfpye.utils import getattrs\n",
    "print(getattrs(v5['gps']))"
   ]
  },
  {
   "cell_type": "markdown",
   "metadata": {},
   "source": [
    "Se você imprimir a classe retornada pela chave `gps` é retornado um resumo dos seus atributos:"
   ]
  },
  {
   "cell_type": "code",
   "execution_count": null,
   "metadata": {},
   "outputs": [
    {
     "data": {
      "text/html": [
       "<pre style=\"white-space:pre;overflow-x:auto;line-height:normal;font-family:Menlo,'DejaVu Sans Mono',consolas,'Courier New',monospace\">GPS Data - Median of Coordinates: <span style=\"color: #008080; text-decoration-color: #008080; font-weight: bold\">-14.81416</span>:<span style=\"color: #008080; text-decoration-color: #008080; font-weight: bold\">-39.03184</span>, Altitude: <span style=\"color: #008080; text-decoration-color: #008080; font-weight: bold\">14.50</span> #Satellites: <span style=\"color: #008080; text-decoration-color: #008080; font-weight: bold\">12.0</span> \n",
       "</pre>\n"
      ],
      "text/plain": [
       "GPS Data - Median of Coordinates: \u001b[1;36m-14.81416\u001b[0m:\u001b[1;36m-39.03184\u001b[0m, Altitude: \u001b[1;36m14.50\u001b[0m #Satellites: \u001b[1;36m12.0\u001b[0m \n"
      ]
     },
     "metadata": {},
     "output_type": "display_data"
    }
   ],
   "source": [
    "print(v5['gps'])"
   ]
  },
  {
   "cell_type": "markdown",
   "metadata": {},
   "source": [
    "Os atributos listados são os valores consolidados por meio da __mediana__ dos diversos blocos de GPS do arquivo. Caso desejar a lista original de valores, os atributos são os mesmos mas precedidos de `_`, o que os torna __atributos privados__ em python, isso somente quer dizer que não são explicitados em algus métodos como `getattrs`, pois normalmente não são acessíveis diretamente, mas nada impede que sejam acessados."
   ]
  },
  {
   "cell_type": "code",
   "execution_count": null,
   "metadata": {},
   "outputs": [
    {
     "data": {
      "text/plain": [
       "((#9060) [-14.814147,-14.814149,-14.814145,-14.814156,-14.814157,-14.814146,-14.814143,-14.814154,-14.814155,-14.814156...],\n",
       " (#9060) [-39.031852,-39.031857,-39.031859,-39.031857,-39.031851,-39.031846,-39.031839,-39.031822,-39.031811,-39.031814...],\n",
       " (#9060) [25.5,23.8,25.1,22.5,24.6,26.8,26.6,23.3,25.4,23.7...],\n",
       " (#9060) [12,12,12,12,12,12,12,12,12,12...])"
      ]
     },
     "execution_count": null,
     "metadata": {},
     "output_type": "execute_result"
    }
   ],
   "source": [
    "v5['gps']._latitude, v5['gps']._longitude, v5['gps']._altitude, v5['gps']._num_satellites "
   ]
  },
  {
   "cell_type": "markdown",
   "metadata": {},
   "source": [
    "Cada arquivo bin normalmente possui vários fluxos de espectro distintos, cada fluxo espectral é uma classe Python, na chave `spectrum` é retornado uma lista com todos os fluxos de espectro.\n",
    "vamos investigar alguns deles:"
   ]
  },
  {
   "cell_type": "code",
   "execution_count": null,
   "metadata": {},
   "outputs": [],
   "source": [
    "fluxo = v5['spectrum'][0]"
   ]
  },
  {
   "cell_type": "markdown",
   "metadata": {},
   "source": [
    "Ao imprimir um fluxo é mostrado informações mínimas sobre o seu conteúdo:"
   ]
  },
  {
   "cell_type": "code",
   "execution_count": null,
   "metadata": {},
   "outputs": [
    {
     "data": {
      "text/html": [
       "<pre style=\"white-space:pre;overflow-x:auto;line-height:normal;font-family:Menlo,'DejaVu Sans Mono',consolas,'Courier New',monospace\">Blocks of Type : <span style=\"color: #008080; text-decoration-color: #008080; font-weight: bold\">67</span>, Thread_id: <span style=\"color: #008080; text-decoration-color: #008080; font-weight: bold\">300</span> and Span <span style=\"color: #008080; text-decoration-color: #008080; font-weight: bold\">105.0</span> MHz - <span style=\"color: #008080; text-decoration-color: #008080; font-weight: bold\">140.0</span> MHz\n",
       "</pre>\n"
      ],
      "text/plain": [
       "Blocks of Type : \u001b[1;36m67\u001b[0m, Thread_id: \u001b[1;36m300\u001b[0m and Span \u001b[1;36m105.0\u001b[0m MHz - \u001b[1;36m140.0\u001b[0m MHz\n"
      ]
     },
     "metadata": {},
     "output_type": "display_data"
    }
   ],
   "source": [
    "print(fluxo)"
   ]
  },
  {
   "cell_type": "markdown",
   "metadata": {},
   "source": [
    "A função `repr` retorna uma representação com todos os metadados do fluxo:"
   ]
  },
  {
   "cell_type": "code",
   "execution_count": null,
   "metadata": {},
   "outputs": [
    {
     "data": {
      "text/plain": [
       "\"SpecData(type=67, thread_id=300, description='PMEC 2021 (Faixa 1 de 10).', start_mega=105.0, stop_mega=140.0, unit='dBm', ndata=3584, bw=18457, processing='peak', antenna_id=0, thresh=-147.5, minimum=-147.5)\""
      ]
     },
     "execution_count": null,
     "metadata": {},
     "output_type": "execute_result"
    }
   ],
   "source": [
    "repr(fluxo)"
   ]
  },
  {
   "cell_type": "markdown",
   "metadata": {},
   "source": [
    "No entanto o principal atributo de um fluxo de espectro são os valores de nível medidos:"
   ]
  },
  {
   "cell_type": "code",
   "execution_count": null,
   "metadata": {},
   "outputs": [
    {
     "data": {
      "text/html": [
       "<pre style=\"white-space:pre;overflow-x:auto;line-height:normal;font-family:Menlo,'DejaVu Sans Mono',consolas,'Courier New',monospace\"><span style=\"font-weight: bold\">[[</span><span style=\"color: #008080; text-decoration-color: #008080; font-weight: bold\">-112.5</span> <span style=\"color: #008080; text-decoration-color: #008080; font-weight: bold\">-117</span>.  <span style=\"color: #008080; text-decoration-color: #008080; font-weight: bold\">-111</span>.  <span style=\"color: #808000; text-decoration-color: #808000\">...</span> <span style=\"color: #008080; text-decoration-color: #008080; font-weight: bold\">-106</span>.  <span style=\"color: #008080; text-decoration-color: #008080; font-weight: bold\">-105</span>.   <span style=\"color: #008080; text-decoration-color: #008080; font-weight: bold\">-99.5</span><span style=\"font-weight: bold\">]</span>\n",
       " <span style=\"font-weight: bold\">[</span><span style=\"color: #008080; text-decoration-color: #008080; font-weight: bold\">-111.5</span> <span style=\"color: #008080; text-decoration-color: #008080; font-weight: bold\">-115.5</span> <span style=\"color: #008080; text-decoration-color: #008080; font-weight: bold\">-116.5</span> <span style=\"color: #808000; text-decoration-color: #808000\">...</span> <span style=\"color: #008080; text-decoration-color: #008080; font-weight: bold\">-103</span>.  <span style=\"color: #008080; text-decoration-color: #008080; font-weight: bold\">-101.5</span> <span style=\"color: #008080; text-decoration-color: #008080; font-weight: bold\">-101</span>. <span style=\"font-weight: bold\">]</span>\n",
       " <span style=\"font-weight: bold\">[</span><span style=\"color: #008080; text-decoration-color: #008080; font-weight: bold\">-116.5</span> <span style=\"color: #008080; text-decoration-color: #008080; font-weight: bold\">-113</span>.  <span style=\"color: #008080; text-decoration-color: #008080; font-weight: bold\">-113.5</span> <span style=\"color: #808000; text-decoration-color: #808000\">...</span> <span style=\"color: #008080; text-decoration-color: #008080; font-weight: bold\">-105.5</span> <span style=\"color: #008080; text-decoration-color: #008080; font-weight: bold\">-103.5</span> <span style=\"color: #008080; text-decoration-color: #008080; font-weight: bold\">-105</span>. <span style=\"font-weight: bold\">]</span>\n",
       " <span style=\"color: #808000; text-decoration-color: #808000\">...</span>\n",
       " <span style=\"font-weight: bold\">[</span><span style=\"color: #008080; text-decoration-color: #008080; font-weight: bold\">-113</span>.  <span style=\"color: #008080; text-decoration-color: #008080; font-weight: bold\">-111.5</span> <span style=\"color: #008080; text-decoration-color: #008080; font-weight: bold\">-111.5</span> <span style=\"color: #808000; text-decoration-color: #808000\">...</span>  <span style=\"color: #008080; text-decoration-color: #008080; font-weight: bold\">-99.5</span> <span style=\"color: #008080; text-decoration-color: #008080; font-weight: bold\">-101.5</span>  <span style=\"color: #008080; text-decoration-color: #008080; font-weight: bold\">-98.5</span><span style=\"font-weight: bold\">]</span>\n",
       " <span style=\"font-weight: bold\">[</span><span style=\"color: #008080; text-decoration-color: #008080; font-weight: bold\">-126</span>.  <span style=\"color: #008080; text-decoration-color: #008080; font-weight: bold\">-124</span>.  <span style=\"color: #008080; text-decoration-color: #008080; font-weight: bold\">-116</span>.  <span style=\"color: #808000; text-decoration-color: #808000\">...</span>  <span style=\"color: #008080; text-decoration-color: #008080; font-weight: bold\">-97</span>.   <span style=\"color: #008080; text-decoration-color: #008080; font-weight: bold\">-97.5</span>  <span style=\"color: #008080; text-decoration-color: #008080; font-weight: bold\">-98.5</span><span style=\"font-weight: bold\">]</span>\n",
       " <span style=\"font-weight: bold\">[</span><span style=\"color: #008080; text-decoration-color: #008080; font-weight: bold\">-108.5</span> <span style=\"color: #008080; text-decoration-color: #008080; font-weight: bold\">-110.5</span> <span style=\"color: #008080; text-decoration-color: #008080; font-weight: bold\">-111.5</span> <span style=\"color: #808000; text-decoration-color: #808000\">...</span>  <span style=\"color: #008080; text-decoration-color: #008080; font-weight: bold\">-98</span>.   <span style=\"color: #008080; text-decoration-color: #008080; font-weight: bold\">-97.5</span> <span style=\"color: #008080; text-decoration-color: #008080; font-weight: bold\">-103.5</span><span style=\"font-weight: bold\">]]</span>\n",
       "</pre>\n"
      ],
      "text/plain": [
       "\u001b[1m[\u001b[0m\u001b[1m[\u001b[0m\u001b[1;36m-112.5\u001b[0m \u001b[1;36m-117\u001b[0m.  \u001b[1;36m-111\u001b[0m.  \u001b[33m...\u001b[0m \u001b[1;36m-106\u001b[0m.  \u001b[1;36m-105\u001b[0m.   \u001b[1;36m-99.5\u001b[0m\u001b[1m]\u001b[0m\n",
       " \u001b[1m[\u001b[0m\u001b[1;36m-111.5\u001b[0m \u001b[1;36m-115.5\u001b[0m \u001b[1;36m-116.5\u001b[0m \u001b[33m...\u001b[0m \u001b[1;36m-103\u001b[0m.  \u001b[1;36m-101.5\u001b[0m \u001b[1;36m-101\u001b[0m. \u001b[1m]\u001b[0m\n",
       " \u001b[1m[\u001b[0m\u001b[1;36m-116.5\u001b[0m \u001b[1;36m-113\u001b[0m.  \u001b[1;36m-113.5\u001b[0m \u001b[33m...\u001b[0m \u001b[1;36m-105.5\u001b[0m \u001b[1;36m-103.5\u001b[0m \u001b[1;36m-105\u001b[0m. \u001b[1m]\u001b[0m\n",
       " \u001b[33m...\u001b[0m\n",
       " \u001b[1m[\u001b[0m\u001b[1;36m-113\u001b[0m.  \u001b[1;36m-111.5\u001b[0m \u001b[1;36m-111.5\u001b[0m \u001b[33m...\u001b[0m  \u001b[1;36m-99.5\u001b[0m \u001b[1;36m-101.5\u001b[0m  \u001b[1;36m-98.5\u001b[0m\u001b[1m]\u001b[0m\n",
       " \u001b[1m[\u001b[0m\u001b[1;36m-126\u001b[0m.  \u001b[1;36m-124\u001b[0m.  \u001b[1;36m-116\u001b[0m.  \u001b[33m...\u001b[0m  \u001b[1;36m-97\u001b[0m.   \u001b[1;36m-97.5\u001b[0m  \u001b[1;36m-98.5\u001b[0m\u001b[1m]\u001b[0m\n",
       " \u001b[1m[\u001b[0m\u001b[1;36m-108.5\u001b[0m \u001b[1;36m-110.5\u001b[0m \u001b[1;36m-111.5\u001b[0m \u001b[33m...\u001b[0m  \u001b[1;36m-98\u001b[0m.   \u001b[1;36m-97.5\u001b[0m \u001b[1;36m-103.5\u001b[0m\u001b[1m]\u001b[0m\u001b[1m]\u001b[0m\n"
      ]
     },
     "metadata": {},
     "output_type": "display_data"
    }
   ],
   "source": [
    "print(fluxo.levels)"
   ]
  },
  {
   "cell_type": "code",
   "execution_count": null,
   "metadata": {},
   "outputs": [
    {
     "data": {
      "text/html": [
       "<pre style=\"white-space:pre;overflow-x:auto;line-height:normal;font-family:Menlo,'DejaVu Sans Mono',consolas,'Courier New',monospace\">Formato da matriz com os níveis: <span style=\"font-weight: bold\">(</span><span style=\"color: #008080; text-decoration-color: #008080; font-weight: bold\">8715</span>, <span style=\"color: #008080; text-decoration-color: #008080; font-weight: bold\">3584</span><span style=\"font-weight: bold\">)</span>\n",
       "</pre>\n"
      ],
      "text/plain": [
       "Formato da matriz com os níveis: \u001b[1m(\u001b[0m\u001b[1;36m8715\u001b[0m, \u001b[1;36m3584\u001b[0m\u001b[1m)\u001b[0m\n"
      ]
     },
     "metadata": {},
     "output_type": "display_data"
    }
   ],
   "source": [
    "print(f'Formato da matriz com os níveis: {fluxo.levels.shape}')"
   ]
  },
  {
   "cell_type": "markdown",
   "metadata": {},
   "source": [
    "O nº de linhas da matriz nos dá o número de pontos daquele dado fluxo e as colunas o número de traços no qual o Span foi dividido. "
   ]
  },
  {
   "cell_type": "markdown",
   "metadata": {},
   "source": [
    "O atributo anterior retorna uma `numpy.ndarray`, um formato eficiente para processamento. No entanto temos adicionalmente o método `.matrix()` que retorna a matriz de dados como um _Pandas Dataframe_ formatada com a data da medição de cada traço. "
   ]
  },
  {
   "cell_type": "code",
   "execution_count": null,
   "metadata": {},
   "outputs": [
    {
     "data": {
      "text/html": [
       "<div>\n",
       "<style scoped>\n",
       "    .dataframe tbody tr th:only-of-type {\n",
       "        vertical-align: middle;\n",
       "    }\n",
       "\n",
       "    .dataframe tbody tr th {\n",
       "        vertical-align: top;\n",
       "    }\n",
       "\n",
       "    .dataframe thead th {\n",
       "        text-align: right;\n",
       "    }\n",
       "</style>\n",
       "<table border=\"1\" class=\"dataframe\">\n",
       "  <thead>\n",
       "    <tr style=\"text-align: right;\">\n",
       "      <th>Frequencies</th>\n",
       "      <th>105.000000</th>\n",
       "      <th>105.009768</th>\n",
       "      <th>105.019537</th>\n",
       "      <th>105.029305</th>\n",
       "      <th>105.039073</th>\n",
       "      <th>105.048842</th>\n",
       "      <th>105.058610</th>\n",
       "      <th>105.068378</th>\n",
       "      <th>105.078147</th>\n",
       "      <th>105.087915</th>\n",
       "      <th>...</th>\n",
       "      <th>139.912085</th>\n",
       "      <th>139.921853</th>\n",
       "      <th>139.931622</th>\n",
       "      <th>139.941390</th>\n",
       "      <th>139.951158</th>\n",
       "      <th>139.960927</th>\n",
       "      <th>139.970695</th>\n",
       "      <th>139.980463</th>\n",
       "      <th>139.990232</th>\n",
       "      <th>140.000000</th>\n",
       "    </tr>\n",
       "    <tr>\n",
       "      <th>Time</th>\n",
       "      <th></th>\n",
       "      <th></th>\n",
       "      <th></th>\n",
       "      <th></th>\n",
       "      <th></th>\n",
       "      <th></th>\n",
       "      <th></th>\n",
       "      <th></th>\n",
       "      <th></th>\n",
       "      <th></th>\n",
       "      <th></th>\n",
       "      <th></th>\n",
       "      <th></th>\n",
       "      <th></th>\n",
       "      <th></th>\n",
       "      <th></th>\n",
       "      <th></th>\n",
       "      <th></th>\n",
       "      <th></th>\n",
       "      <th></th>\n",
       "      <th></th>\n",
       "    </tr>\n",
       "  </thead>\n",
       "  <tbody>\n",
       "    <tr>\n",
       "      <th>2021-06-26 12:01:00.731405</th>\n",
       "      <td>-112.5</td>\n",
       "      <td>-117.0</td>\n",
       "      <td>-111.0</td>\n",
       "      <td>-111.5</td>\n",
       "      <td>-117.0</td>\n",
       "      <td>-115.5</td>\n",
       "      <td>-109.5</td>\n",
       "      <td>-111.0</td>\n",
       "      <td>-114.5</td>\n",
       "      <td>-110.5</td>\n",
       "      <td>...</td>\n",
       "      <td>-90.5</td>\n",
       "      <td>-82.0</td>\n",
       "      <td>-81.0</td>\n",
       "      <td>-87.0</td>\n",
       "      <td>-98.0</td>\n",
       "      <td>-100.0</td>\n",
       "      <td>-103.5</td>\n",
       "      <td>-106.0</td>\n",
       "      <td>-105.0</td>\n",
       "      <td>-99.5</td>\n",
       "    </tr>\n",
       "    <tr>\n",
       "      <th>2021-06-26 12:02:00.731287</th>\n",
       "      <td>-111.5</td>\n",
       "      <td>-115.5</td>\n",
       "      <td>-116.5</td>\n",
       "      <td>-112.5</td>\n",
       "      <td>-107.0</td>\n",
       "      <td>-107.5</td>\n",
       "      <td>-111.0</td>\n",
       "      <td>-115.0</td>\n",
       "      <td>-116.5</td>\n",
       "      <td>-109.0</td>\n",
       "      <td>...</td>\n",
       "      <td>-105.5</td>\n",
       "      <td>-101.0</td>\n",
       "      <td>-99.0</td>\n",
       "      <td>-98.0</td>\n",
       "      <td>-99.0</td>\n",
       "      <td>-105.0</td>\n",
       "      <td>-103.5</td>\n",
       "      <td>-103.0</td>\n",
       "      <td>-101.5</td>\n",
       "      <td>-101.0</td>\n",
       "    </tr>\n",
       "    <tr>\n",
       "      <th>2021-06-26 12:03:00.731107</th>\n",
       "      <td>-116.5</td>\n",
       "      <td>-113.0</td>\n",
       "      <td>-113.5</td>\n",
       "      <td>-109.5</td>\n",
       "      <td>-107.5</td>\n",
       "      <td>-108.5</td>\n",
       "      <td>-111.5</td>\n",
       "      <td>-111.5</td>\n",
       "      <td>-111.5</td>\n",
       "      <td>-111.0</td>\n",
       "      <td>...</td>\n",
       "      <td>-101.5</td>\n",
       "      <td>-104.0</td>\n",
       "      <td>-103.0</td>\n",
       "      <td>-100.0</td>\n",
       "      <td>-98.5</td>\n",
       "      <td>-99.0</td>\n",
       "      <td>-113.5</td>\n",
       "      <td>-105.5</td>\n",
       "      <td>-103.5</td>\n",
       "      <td>-105.0</td>\n",
       "    </tr>\n",
       "    <tr>\n",
       "      <th>2021-06-26 12:04:00.731401</th>\n",
       "      <td>-111.5</td>\n",
       "      <td>-112.0</td>\n",
       "      <td>-110.0</td>\n",
       "      <td>-110.5</td>\n",
       "      <td>-109.0</td>\n",
       "      <td>-109.5</td>\n",
       "      <td>-113.0</td>\n",
       "      <td>-117.0</td>\n",
       "      <td>-120.0</td>\n",
       "      <td>-114.0</td>\n",
       "      <td>...</td>\n",
       "      <td>-101.5</td>\n",
       "      <td>-101.5</td>\n",
       "      <td>-104.0</td>\n",
       "      <td>-100.0</td>\n",
       "      <td>-100.5</td>\n",
       "      <td>-103.5</td>\n",
       "      <td>-103.5</td>\n",
       "      <td>-109.5</td>\n",
       "      <td>-114.5</td>\n",
       "      <td>-106.5</td>\n",
       "    </tr>\n",
       "    <tr>\n",
       "      <th>2021-06-26 12:05:00.731532</th>\n",
       "      <td>-113.0</td>\n",
       "      <td>-115.0</td>\n",
       "      <td>-117.5</td>\n",
       "      <td>-110.0</td>\n",
       "      <td>-111.0</td>\n",
       "      <td>-115.5</td>\n",
       "      <td>-111.0</td>\n",
       "      <td>-112.0</td>\n",
       "      <td>-112.0</td>\n",
       "      <td>-111.0</td>\n",
       "      <td>...</td>\n",
       "      <td>-109.0</td>\n",
       "      <td>-100.5</td>\n",
       "      <td>-96.0</td>\n",
       "      <td>-97.5</td>\n",
       "      <td>-103.5</td>\n",
       "      <td>-105.0</td>\n",
       "      <td>-102.5</td>\n",
       "      <td>-101.5</td>\n",
       "      <td>-101.0</td>\n",
       "      <td>-99.5</td>\n",
       "    </tr>\n",
       "    <tr>\n",
       "      <th>...</th>\n",
       "      <td>...</td>\n",
       "      <td>...</td>\n",
       "      <td>...</td>\n",
       "      <td>...</td>\n",
       "      <td>...</td>\n",
       "      <td>...</td>\n",
       "      <td>...</td>\n",
       "      <td>...</td>\n",
       "      <td>...</td>\n",
       "      <td>...</td>\n",
       "      <td>...</td>\n",
       "      <td>...</td>\n",
       "      <td>...</td>\n",
       "      <td>...</td>\n",
       "      <td>...</td>\n",
       "      <td>...</td>\n",
       "      <td>...</td>\n",
       "      <td>...</td>\n",
       "      <td>...</td>\n",
       "      <td>...</td>\n",
       "      <td>...</td>\n",
       "    </tr>\n",
       "    <tr>\n",
       "      <th>2021-07-02 18:56:00.731317</th>\n",
       "      <td>-113.0</td>\n",
       "      <td>-111.5</td>\n",
       "      <td>-111.0</td>\n",
       "      <td>-110.0</td>\n",
       "      <td>-105.5</td>\n",
       "      <td>-110.0</td>\n",
       "      <td>-116.5</td>\n",
       "      <td>-110.5</td>\n",
       "      <td>-108.5</td>\n",
       "      <td>-107.5</td>\n",
       "      <td>...</td>\n",
       "      <td>-101.5</td>\n",
       "      <td>-102.5</td>\n",
       "      <td>-101.0</td>\n",
       "      <td>-102.5</td>\n",
       "      <td>-99.0</td>\n",
       "      <td>-96.0</td>\n",
       "      <td>-97.0</td>\n",
       "      <td>-104.0</td>\n",
       "      <td>-100.5</td>\n",
       "      <td>-102.5</td>\n",
       "    </tr>\n",
       "    <tr>\n",
       "      <th>2021-07-02 18:57:00.731239</th>\n",
       "      <td>-108.0</td>\n",
       "      <td>-111.5</td>\n",
       "      <td>-110.5</td>\n",
       "      <td>-107.0</td>\n",
       "      <td>-105.5</td>\n",
       "      <td>-111.5</td>\n",
       "      <td>-115.0</td>\n",
       "      <td>-113.0</td>\n",
       "      <td>-109.5</td>\n",
       "      <td>-108.5</td>\n",
       "      <td>...</td>\n",
       "      <td>-90.5</td>\n",
       "      <td>-82.5</td>\n",
       "      <td>-81.5</td>\n",
       "      <td>-88.5</td>\n",
       "      <td>-105.0</td>\n",
       "      <td>-99.5</td>\n",
       "      <td>-99.5</td>\n",
       "      <td>-101.0</td>\n",
       "      <td>-101.0</td>\n",
       "      <td>-98.5</td>\n",
       "    </tr>\n",
       "    <tr>\n",
       "      <th>2021-07-02 18:58:00.731138</th>\n",
       "      <td>-113.0</td>\n",
       "      <td>-111.5</td>\n",
       "      <td>-111.5</td>\n",
       "      <td>-109.5</td>\n",
       "      <td>-109.0</td>\n",
       "      <td>-115.0</td>\n",
       "      <td>-106.0</td>\n",
       "      <td>-106.0</td>\n",
       "      <td>-113.0</td>\n",
       "      <td>-116.5</td>\n",
       "      <td>...</td>\n",
       "      <td>-90.5</td>\n",
       "      <td>-83.0</td>\n",
       "      <td>-83.5</td>\n",
       "      <td>-93.0</td>\n",
       "      <td>-95.5</td>\n",
       "      <td>-95.0</td>\n",
       "      <td>-99.5</td>\n",
       "      <td>-99.5</td>\n",
       "      <td>-101.5</td>\n",
       "      <td>-98.5</td>\n",
       "    </tr>\n",
       "    <tr>\n",
       "      <th>2021-07-02 18:59:00.731242</th>\n",
       "      <td>-126.0</td>\n",
       "      <td>-124.0</td>\n",
       "      <td>-116.0</td>\n",
       "      <td>-106.0</td>\n",
       "      <td>-107.5</td>\n",
       "      <td>-107.0</td>\n",
       "      <td>-105.0</td>\n",
       "      <td>-106.0</td>\n",
       "      <td>-108.5</td>\n",
       "      <td>-109.0</td>\n",
       "      <td>...</td>\n",
       "      <td>-93.0</td>\n",
       "      <td>-84.5</td>\n",
       "      <td>-83.5</td>\n",
       "      <td>-89.0</td>\n",
       "      <td>-99.0</td>\n",
       "      <td>-99.5</td>\n",
       "      <td>-99.5</td>\n",
       "      <td>-97.0</td>\n",
       "      <td>-97.5</td>\n",
       "      <td>-98.5</td>\n",
       "    </tr>\n",
       "    <tr>\n",
       "      <th>2021-07-02 19:00:00.732413</th>\n",
       "      <td>-108.5</td>\n",
       "      <td>-110.5</td>\n",
       "      <td>-111.5</td>\n",
       "      <td>-107.5</td>\n",
       "      <td>-104.5</td>\n",
       "      <td>-111.5</td>\n",
       "      <td>-114.0</td>\n",
       "      <td>-108.5</td>\n",
       "      <td>-111.0</td>\n",
       "      <td>-110.5</td>\n",
       "      <td>...</td>\n",
       "      <td>-88.5</td>\n",
       "      <td>-80.0</td>\n",
       "      <td>-79.5</td>\n",
       "      <td>-86.5</td>\n",
       "      <td>-100.0</td>\n",
       "      <td>-95.5</td>\n",
       "      <td>-99.5</td>\n",
       "      <td>-98.0</td>\n",
       "      <td>-97.5</td>\n",
       "      <td>-103.5</td>\n",
       "    </tr>\n",
       "  </tbody>\n",
       "</table>\n",
       "<p>8715 rows × 3584 columns</p>\n",
       "</div>"
      ],
      "text/plain": [
       "Frequencies                 105.000000  105.009768  105.019537  105.029305  \\\n",
       "Time                                                                         \n",
       "2021-06-26 12:01:00.731405      -112.5      -117.0      -111.0      -111.5   \n",
       "2021-06-26 12:02:00.731287      -111.5      -115.5      -116.5      -112.5   \n",
       "2021-06-26 12:03:00.731107      -116.5      -113.0      -113.5      -109.5   \n",
       "2021-06-26 12:04:00.731401      -111.5      -112.0      -110.0      -110.5   \n",
       "2021-06-26 12:05:00.731532      -113.0      -115.0      -117.5      -110.0   \n",
       "...                                ...         ...         ...         ...   \n",
       "2021-07-02 18:56:00.731317      -113.0      -111.5      -111.0      -110.0   \n",
       "2021-07-02 18:57:00.731239      -108.0      -111.5      -110.5      -107.0   \n",
       "2021-07-02 18:58:00.731138      -113.0      -111.5      -111.5      -109.5   \n",
       "2021-07-02 18:59:00.731242      -126.0      -124.0      -116.0      -106.0   \n",
       "2021-07-02 19:00:00.732413      -108.5      -110.5      -111.5      -107.5   \n",
       "\n",
       "Frequencies                 105.039073  105.048842  105.058610  105.068378  \\\n",
       "Time                                                                         \n",
       "2021-06-26 12:01:00.731405      -117.0      -115.5      -109.5      -111.0   \n",
       "2021-06-26 12:02:00.731287      -107.0      -107.5      -111.0      -115.0   \n",
       "2021-06-26 12:03:00.731107      -107.5      -108.5      -111.5      -111.5   \n",
       "2021-06-26 12:04:00.731401      -109.0      -109.5      -113.0      -117.0   \n",
       "2021-06-26 12:05:00.731532      -111.0      -115.5      -111.0      -112.0   \n",
       "...                                ...         ...         ...         ...   \n",
       "2021-07-02 18:56:00.731317      -105.5      -110.0      -116.5      -110.5   \n",
       "2021-07-02 18:57:00.731239      -105.5      -111.5      -115.0      -113.0   \n",
       "2021-07-02 18:58:00.731138      -109.0      -115.0      -106.0      -106.0   \n",
       "2021-07-02 18:59:00.731242      -107.5      -107.0      -105.0      -106.0   \n",
       "2021-07-02 19:00:00.732413      -104.5      -111.5      -114.0      -108.5   \n",
       "\n",
       "Frequencies                 105.078147  105.087915  ...  139.912085  \\\n",
       "Time                                                ...               \n",
       "2021-06-26 12:01:00.731405      -114.5      -110.5  ...       -90.5   \n",
       "2021-06-26 12:02:00.731287      -116.5      -109.0  ...      -105.5   \n",
       "2021-06-26 12:03:00.731107      -111.5      -111.0  ...      -101.5   \n",
       "2021-06-26 12:04:00.731401      -120.0      -114.0  ...      -101.5   \n",
       "2021-06-26 12:05:00.731532      -112.0      -111.0  ...      -109.0   \n",
       "...                                ...         ...  ...         ...   \n",
       "2021-07-02 18:56:00.731317      -108.5      -107.5  ...      -101.5   \n",
       "2021-07-02 18:57:00.731239      -109.5      -108.5  ...       -90.5   \n",
       "2021-07-02 18:58:00.731138      -113.0      -116.5  ...       -90.5   \n",
       "2021-07-02 18:59:00.731242      -108.5      -109.0  ...       -93.0   \n",
       "2021-07-02 19:00:00.732413      -111.0      -110.5  ...       -88.5   \n",
       "\n",
       "Frequencies                 139.921853  139.931622  139.941390  139.951158  \\\n",
       "Time                                                                         \n",
       "2021-06-26 12:01:00.731405       -82.0       -81.0       -87.0       -98.0   \n",
       "2021-06-26 12:02:00.731287      -101.0       -99.0       -98.0       -99.0   \n",
       "2021-06-26 12:03:00.731107      -104.0      -103.0      -100.0       -98.5   \n",
       "2021-06-26 12:04:00.731401      -101.5      -104.0      -100.0      -100.5   \n",
       "2021-06-26 12:05:00.731532      -100.5       -96.0       -97.5      -103.5   \n",
       "...                                ...         ...         ...         ...   \n",
       "2021-07-02 18:56:00.731317      -102.5      -101.0      -102.5       -99.0   \n",
       "2021-07-02 18:57:00.731239       -82.5       -81.5       -88.5      -105.0   \n",
       "2021-07-02 18:58:00.731138       -83.0       -83.5       -93.0       -95.5   \n",
       "2021-07-02 18:59:00.731242       -84.5       -83.5       -89.0       -99.0   \n",
       "2021-07-02 19:00:00.732413       -80.0       -79.5       -86.5      -100.0   \n",
       "\n",
       "Frequencies                 139.960927  139.970695  139.980463  139.990232  \\\n",
       "Time                                                                         \n",
       "2021-06-26 12:01:00.731405      -100.0      -103.5      -106.0      -105.0   \n",
       "2021-06-26 12:02:00.731287      -105.0      -103.5      -103.0      -101.5   \n",
       "2021-06-26 12:03:00.731107       -99.0      -113.5      -105.5      -103.5   \n",
       "2021-06-26 12:04:00.731401      -103.5      -103.5      -109.5      -114.5   \n",
       "2021-06-26 12:05:00.731532      -105.0      -102.5      -101.5      -101.0   \n",
       "...                                ...         ...         ...         ...   \n",
       "2021-07-02 18:56:00.731317       -96.0       -97.0      -104.0      -100.5   \n",
       "2021-07-02 18:57:00.731239       -99.5       -99.5      -101.0      -101.0   \n",
       "2021-07-02 18:58:00.731138       -95.0       -99.5       -99.5      -101.5   \n",
       "2021-07-02 18:59:00.731242       -99.5       -99.5       -97.0       -97.5   \n",
       "2021-07-02 19:00:00.732413       -95.5       -99.5       -98.0       -97.5   \n",
       "\n",
       "Frequencies                 140.000000  \n",
       "Time                                    \n",
       "2021-06-26 12:01:00.731405       -99.5  \n",
       "2021-06-26 12:02:00.731287      -101.0  \n",
       "2021-06-26 12:03:00.731107      -105.0  \n",
       "2021-06-26 12:04:00.731401      -106.5  \n",
       "2021-06-26 12:05:00.731532       -99.5  \n",
       "...                                ...  \n",
       "2021-07-02 18:56:00.731317      -102.5  \n",
       "2021-07-02 18:57:00.731239       -98.5  \n",
       "2021-07-02 18:58:00.731138       -98.5  \n",
       "2021-07-02 18:59:00.731242       -98.5  \n",
       "2021-07-02 19:00:00.732413      -103.5  \n",
       "\n",
       "[8715 rows x 3584 columns]"
      ]
     },
     "execution_count": null,
     "metadata": {},
     "output_type": "execute_result"
    }
   ],
   "source": [
    "fluxo.matrix()"
   ]
  },
  {
   "cell_type": "code",
   "execution_count": null,
   "metadata": {},
   "outputs": [],
   "source": [
    "import pandas as pd"
   ]
  },
  {
   "cell_type": "code",
   "execution_count": null,
   "metadata": {},
   "outputs": [
    {
     "data": {
      "text/html": [
       "<div>\n",
       "<style scoped>\n",
       "    .dataframe tbody tr th:only-of-type {\n",
       "        vertical-align: middle;\n",
       "    }\n",
       "\n",
       "    .dataframe tbody tr th {\n",
       "        vertical-align: top;\n",
       "    }\n",
       "\n",
       "    .dataframe thead th {\n",
       "        text-align: right;\n",
       "    }\n",
       "</style>\n",
       "<table border=\"1\" class=\"dataframe\">\n",
       "  <thead>\n",
       "    <tr style=\"text-align: right;\">\n",
       "      <th></th>\n",
       "      <th>Time</th>\n",
       "      <th>Frequencies</th>\n",
       "      <th>Levels</th>\n",
       "    </tr>\n",
       "  </thead>\n",
       "  <tbody>\n",
       "    <tr>\n",
       "      <th>0</th>\n",
       "      <td>2021-06-26 12:01:00.731405</td>\n",
       "      <td>105.000000</td>\n",
       "      <td>-112.5</td>\n",
       "    </tr>\n",
       "    <tr>\n",
       "      <th>1</th>\n",
       "      <td>2021-06-26 12:01:00.731405</td>\n",
       "      <td>105.009768</td>\n",
       "      <td>-117.0</td>\n",
       "    </tr>\n",
       "    <tr>\n",
       "      <th>2</th>\n",
       "      <td>2021-06-26 12:01:00.731405</td>\n",
       "      <td>105.019537</td>\n",
       "      <td>-111.0</td>\n",
       "    </tr>\n",
       "    <tr>\n",
       "      <th>3</th>\n",
       "      <td>2021-06-26 12:01:00.731405</td>\n",
       "      <td>105.029305</td>\n",
       "      <td>-111.5</td>\n",
       "    </tr>\n",
       "    <tr>\n",
       "      <th>4</th>\n",
       "      <td>2021-06-26 12:01:00.731405</td>\n",
       "      <td>105.039073</td>\n",
       "      <td>-117.0</td>\n",
       "    </tr>\n",
       "  </tbody>\n",
       "</table>\n",
       "</div>"
      ],
      "text/plain": [
       "                        Time  Frequencies  Levels\n",
       "0 2021-06-26 12:01:00.731405   105.000000  -112.5\n",
       "1 2021-06-26 12:01:00.731405   105.009768  -117.0\n",
       "2 2021-06-26 12:01:00.731405   105.019537  -111.0\n",
       "3 2021-06-26 12:01:00.731405   105.029305  -111.5\n",
       "4 2021-06-26 12:01:00.731405   105.039073  -117.0"
      ]
     },
     "execution_count": null,
     "metadata": {},
     "output_type": "execute_result"
    }
   ],
   "source": [
    "df = pd.DataFrame(fluxo.matrix().stack(), columns=['Levels']).reset_index() ; df.head()"
   ]
  },
  {
   "cell_type": "code",
   "execution_count": null,
   "metadata": {},
   "outputs": [
    {
     "name": "stderr",
     "output_type": "stream",
     "text": [
      "[autoreload of jinja2.environment failed: Traceback (most recent call last):\n",
      "  File \"C:\\Users\\rsilva\\Miniconda3\\envs\\rfpye\\lib\\site-packages\\IPython\\extensions\\autoreload.py\", line 245, in check\n",
      "    superreload(m, reload, self.old_objects)\n",
      "  File \"C:\\Users\\rsilva\\Miniconda3\\envs\\rfpye\\lib\\site-packages\\IPython\\extensions\\autoreload.py\", line 410, in superreload\n",
      "    update_generic(old_obj, new_obj)\n",
      "  File \"C:\\Users\\rsilva\\Miniconda3\\envs\\rfpye\\lib\\site-packages\\IPython\\extensions\\autoreload.py\", line 347, in update_generic\n",
      "    update(a, b)\n",
      "  File \"C:\\Users\\rsilva\\Miniconda3\\envs\\rfpye\\lib\\site-packages\\IPython\\extensions\\autoreload.py\", line 302, in update_class\n",
      "    if update_generic(old_obj, new_obj): continue\n",
      "  File \"C:\\Users\\rsilva\\Miniconda3\\envs\\rfpye\\lib\\site-packages\\IPython\\extensions\\autoreload.py\", line 347, in update_generic\n",
      "    update(a, b)\n",
      "  File \"C:\\Users\\rsilva\\Miniconda3\\envs\\rfpye\\lib\\site-packages\\IPython\\extensions\\autoreload.py\", line 302, in update_class\n",
      "    if update_generic(old_obj, new_obj): continue\n",
      "  File \"C:\\Users\\rsilva\\Miniconda3\\envs\\rfpye\\lib\\site-packages\\IPython\\extensions\\autoreload.py\", line 347, in update_generic\n",
      "    update(a, b)\n",
      "  File \"C:\\Users\\rsilva\\Miniconda3\\envs\\rfpye\\lib\\site-packages\\IPython\\extensions\\autoreload.py\", line 302, in update_class\n",
      "    if update_generic(old_obj, new_obj): continue\n",
      "  File \"C:\\Users\\rsilva\\Miniconda3\\envs\\rfpye\\lib\\site-packages\\IPython\\extensions\\autoreload.py\", line 347, in update_generic\n",
      "    update(a, b)\n",
      "  File \"C:\\Users\\rsilva\\Miniconda3\\envs\\rfpye\\lib\\site-packages\\IPython\\extensions\\autoreload.py\", line 302, in update_class\n",
      "    if update_generic(old_obj, new_obj): continue\n",
      "RecursionError: maximum recursion depth exceeded\n",
      "]\n"
     ]
    },
    {
     "data": {
      "text/html": [
       "\n",
       "    <div class=\"bk-root\">\n",
       "        <a href=\"https://bokeh.org\" target=\"_blank\" class=\"bk-logo bk-logo-small bk-logo-notebook\"></a>\n",
       "        <span id=\"1002\">Loading BokehJS ...</span>\n",
       "    </div>"
      ]
     },
     "metadata": {},
     "output_type": "display_data"
    },
    {
     "data": {
      "application/javascript": [
       "\n",
       "(function(root) {\n",
       "  function now() {\n",
       "    return new Date();\n",
       "  }\n",
       "\n",
       "  const force = true;\n",
       "\n",
       "  if (typeof root._bokeh_onload_callbacks === \"undefined\" || force === true) {\n",
       "    root._bokeh_onload_callbacks = [];\n",
       "    root._bokeh_is_loading = undefined;\n",
       "  }\n",
       "\n",
       "  const JS_MIME_TYPE = 'application/javascript';\n",
       "  const HTML_MIME_TYPE = 'text/html';\n",
       "  const EXEC_MIME_TYPE = 'application/vnd.bokehjs_exec.v0+json';\n",
       "  const CLASS_NAME = 'output_bokeh rendered_html';\n",
       "\n",
       "  /**\n",
       "   * Render data to the DOM node\n",
       "   */\n",
       "  function render(props, node) {\n",
       "    const script = document.createElement(\"script\");\n",
       "    node.appendChild(script);\n",
       "  }\n",
       "\n",
       "  /**\n",
       "   * Handle when an output is cleared or removed\n",
       "   */\n",
       "  function handleClearOutput(event, handle) {\n",
       "    const cell = handle.cell;\n",
       "\n",
       "    const id = cell.output_area._bokeh_element_id;\n",
       "    const server_id = cell.output_area._bokeh_server_id;\n",
       "    // Clean up Bokeh references\n",
       "    if (id != null && id in Bokeh.index) {\n",
       "      Bokeh.index[id].model.document.clear();\n",
       "      delete Bokeh.index[id];\n",
       "    }\n",
       "\n",
       "    if (server_id !== undefined) {\n",
       "      // Clean up Bokeh references\n",
       "      const cmd_clean = \"from bokeh.io.state import curstate; print(curstate().uuid_to_server['\" + server_id + \"'].get_sessions()[0].document.roots[0]._id)\";\n",
       "      cell.notebook.kernel.execute(cmd_clean, {\n",
       "        iopub: {\n",
       "          output: function(msg) {\n",
       "            const id = msg.content.text.trim();\n",
       "            if (id in Bokeh.index) {\n",
       "              Bokeh.index[id].model.document.clear();\n",
       "              delete Bokeh.index[id];\n",
       "            }\n",
       "          }\n",
       "        }\n",
       "      });\n",
       "      // Destroy server and session\n",
       "      const cmd_destroy = \"import bokeh.io.notebook as ion; ion.destroy_server('\" + server_id + \"')\";\n",
       "      cell.notebook.kernel.execute(cmd_destroy);\n",
       "    }\n",
       "  }\n",
       "\n",
       "  /**\n",
       "   * Handle when a new output is added\n",
       "   */\n",
       "  function handleAddOutput(event, handle) {\n",
       "    const output_area = handle.output_area;\n",
       "    const output = handle.output;\n",
       "\n",
       "    // limit handleAddOutput to display_data with EXEC_MIME_TYPE content only\n",
       "    if ((output.output_type != \"display_data\") || (!Object.prototype.hasOwnProperty.call(output.data, EXEC_MIME_TYPE))) {\n",
       "      return\n",
       "    }\n",
       "\n",
       "    const toinsert = output_area.element.find(\".\" + CLASS_NAME.split(' ')[0]);\n",
       "\n",
       "    if (output.metadata[EXEC_MIME_TYPE][\"id\"] !== undefined) {\n",
       "      toinsert[toinsert.length - 1].firstChild.textContent = output.data[JS_MIME_TYPE];\n",
       "      // store reference to embed id on output_area\n",
       "      output_area._bokeh_element_id = output.metadata[EXEC_MIME_TYPE][\"id\"];\n",
       "    }\n",
       "    if (output.metadata[EXEC_MIME_TYPE][\"server_id\"] !== undefined) {\n",
       "      const bk_div = document.createElement(\"div\");\n",
       "      bk_div.innerHTML = output.data[HTML_MIME_TYPE];\n",
       "      const script_attrs = bk_div.children[0].attributes;\n",
       "      for (let i = 0; i < script_attrs.length; i++) {\n",
       "        toinsert[toinsert.length - 1].firstChild.setAttribute(script_attrs[i].name, script_attrs[i].value);\n",
       "        toinsert[toinsert.length - 1].firstChild.textContent = bk_div.children[0].textContent\n",
       "      }\n",
       "      // store reference to server id on output_area\n",
       "      output_area._bokeh_server_id = output.metadata[EXEC_MIME_TYPE][\"server_id\"];\n",
       "    }\n",
       "  }\n",
       "\n",
       "  function register_renderer(events, OutputArea) {\n",
       "\n",
       "    function append_mime(data, metadata, element) {\n",
       "      // create a DOM node to render to\n",
       "      const toinsert = this.create_output_subarea(\n",
       "        metadata,\n",
       "        CLASS_NAME,\n",
       "        EXEC_MIME_TYPE\n",
       "      );\n",
       "      this.keyboard_manager.register_events(toinsert);\n",
       "      // Render to node\n",
       "      const props = {data: data, metadata: metadata[EXEC_MIME_TYPE]};\n",
       "      render(props, toinsert[toinsert.length - 1]);\n",
       "      element.append(toinsert);\n",
       "      return toinsert\n",
       "    }\n",
       "\n",
       "    /* Handle when an output is cleared or removed */\n",
       "    events.on('clear_output.CodeCell', handleClearOutput);\n",
       "    events.on('delete.Cell', handleClearOutput);\n",
       "\n",
       "    /* Handle when a new output is added */\n",
       "    events.on('output_added.OutputArea', handleAddOutput);\n",
       "\n",
       "    /**\n",
       "     * Register the mime type and append_mime function with output_area\n",
       "     */\n",
       "    OutputArea.prototype.register_mime_type(EXEC_MIME_TYPE, append_mime, {\n",
       "      /* Is output safe? */\n",
       "      safe: true,\n",
       "      /* Index of renderer in `output_area.display_order` */\n",
       "      index: 0\n",
       "    });\n",
       "  }\n",
       "\n",
       "  // register the mime type if in Jupyter Notebook environment and previously unregistered\n",
       "  if (root.Jupyter !== undefined) {\n",
       "    const events = require('base/js/events');\n",
       "    const OutputArea = require('notebook/js/outputarea').OutputArea;\n",
       "\n",
       "    if (OutputArea.prototype.mime_types().indexOf(EXEC_MIME_TYPE) == -1) {\n",
       "      register_renderer(events, OutputArea);\n",
       "    }\n",
       "  }\n",
       "\n",
       "  \n",
       "  if (typeof (root._bokeh_timeout) === \"undefined\" || force === true) {\n",
       "    root._bokeh_timeout = Date.now() + 5000;\n",
       "    root._bokeh_failed_load = false;\n",
       "  }\n",
       "\n",
       "  const NB_LOAD_WARNING = {'data': {'text/html':\n",
       "     \"<div style='background-color: #fdd'>\\n\"+\n",
       "     \"<p>\\n\"+\n",
       "     \"BokehJS does not appear to have successfully loaded. If loading BokehJS from CDN, this \\n\"+\n",
       "     \"may be due to a slow or bad network connection. Possible fixes:\\n\"+\n",
       "     \"</p>\\n\"+\n",
       "     \"<ul>\\n\"+\n",
       "     \"<li>re-rerun `output_notebook()` to attempt to load from CDN again, or</li>\\n\"+\n",
       "     \"<li>use INLINE resources instead, as so:</li>\\n\"+\n",
       "     \"</ul>\\n\"+\n",
       "     \"<code>\\n\"+\n",
       "     \"from bokeh.resources import INLINE\\n\"+\n",
       "     \"output_notebook(resources=INLINE)\\n\"+\n",
       "     \"</code>\\n\"+\n",
       "     \"</div>\"}};\n",
       "\n",
       "  function display_loaded() {\n",
       "    const el = document.getElementById(\"1002\");\n",
       "    if (el != null) {\n",
       "      el.textContent = \"BokehJS is loading...\";\n",
       "    }\n",
       "    if (root.Bokeh !== undefined) {\n",
       "      if (el != null) {\n",
       "        el.textContent = \"BokehJS \" + root.Bokeh.version + \" successfully loaded.\";\n",
       "      }\n",
       "    } else if (Date.now() < root._bokeh_timeout) {\n",
       "      setTimeout(display_loaded, 100)\n",
       "    }\n",
       "  }\n",
       "\n",
       "\n",
       "  function run_callbacks() {\n",
       "    try {\n",
       "      root._bokeh_onload_callbacks.forEach(function(callback) {\n",
       "        if (callback != null)\n",
       "          callback();\n",
       "      });\n",
       "    } finally {\n",
       "      delete root._bokeh_onload_callbacks\n",
       "    }\n",
       "    console.debug(\"Bokeh: all callbacks have finished\");\n",
       "  }\n",
       "\n",
       "  function load_libs(css_urls, js_urls, callback) {\n",
       "    if (css_urls == null) css_urls = [];\n",
       "    if (js_urls == null) js_urls = [];\n",
       "\n",
       "    root._bokeh_onload_callbacks.push(callback);\n",
       "    if (root._bokeh_is_loading > 0) {\n",
       "      console.debug(\"Bokeh: BokehJS is being loaded, scheduling callback at\", now());\n",
       "      return null;\n",
       "    }\n",
       "    if (js_urls == null || js_urls.length === 0) {\n",
       "      run_callbacks();\n",
       "      return null;\n",
       "    }\n",
       "    console.debug(\"Bokeh: BokehJS not loaded, scheduling load and callback at\", now());\n",
       "    root._bokeh_is_loading = css_urls.length + js_urls.length;\n",
       "\n",
       "    function on_load() {\n",
       "      root._bokeh_is_loading--;\n",
       "      if (root._bokeh_is_loading === 0) {\n",
       "        console.debug(\"Bokeh: all BokehJS libraries/stylesheets loaded\");\n",
       "        run_callbacks()\n",
       "      }\n",
       "    }\n",
       "\n",
       "    function on_error(url) {\n",
       "      console.error(\"failed to load \" + url);\n",
       "    }\n",
       "\n",
       "    for (let i = 0; i < css_urls.length; i++) {\n",
       "      const url = css_urls[i];\n",
       "      const element = document.createElement(\"link\");\n",
       "      element.onload = on_load;\n",
       "      element.onerror = on_error.bind(null, url);\n",
       "      element.rel = \"stylesheet\";\n",
       "      element.type = \"text/css\";\n",
       "      element.href = url;\n",
       "      console.debug(\"Bokeh: injecting link tag for BokehJS stylesheet: \", url);\n",
       "      document.body.appendChild(element);\n",
       "    }\n",
       "\n",
       "    for (let i = 0; i < js_urls.length; i++) {\n",
       "      const url = js_urls[i];\n",
       "      const element = document.createElement('script');\n",
       "      element.onload = on_load;\n",
       "      element.onerror = on_error.bind(null, url);\n",
       "      element.async = false;\n",
       "      element.src = url;\n",
       "      console.debug(\"Bokeh: injecting script tag for BokehJS library: \", url);\n",
       "      document.head.appendChild(element);\n",
       "    }\n",
       "  };\n",
       "\n",
       "  function inject_raw_css(css) {\n",
       "    const element = document.createElement(\"style\");\n",
       "    element.appendChild(document.createTextNode(css));\n",
       "    document.body.appendChild(element);\n",
       "  }\n",
       "\n",
       "  \n",
       "  const js_urls = [\"https://cdn.bokeh.org/bokeh/release/bokeh-2.4.1.min.js\", \"https://cdn.bokeh.org/bokeh/release/bokeh-gl-2.4.1.min.js\", \"https://cdn.bokeh.org/bokeh/release/bokeh-widgets-2.4.1.min.js\", \"https://cdn.bokeh.org/bokeh/release/bokeh-tables-2.4.1.min.js\", \"https://cdn.bokeh.org/bokeh/release/bokeh-mathjax-2.4.1.min.js\"];\n",
       "  const css_urls = [];\n",
       "  \n",
       "\n",
       "  const inline_js = [\n",
       "    function(Bokeh) {\n",
       "      Bokeh.set_log_level(\"info\");\n",
       "    },\n",
       "    function(Bokeh) {\n",
       "    \n",
       "    \n",
       "    }\n",
       "  ];\n",
       "\n",
       "  function run_inline_js() {\n",
       "    \n",
       "    if (root.Bokeh !== undefined || force === true) {\n",
       "      \n",
       "    for (let i = 0; i < inline_js.length; i++) {\n",
       "      inline_js[i].call(root, root.Bokeh);\n",
       "    }\n",
       "    if (force === true) {\n",
       "        display_loaded();\n",
       "      }} else if (Date.now() < root._bokeh_timeout) {\n",
       "      setTimeout(run_inline_js, 100);\n",
       "    } else if (!root._bokeh_failed_load) {\n",
       "      console.log(\"Bokeh: BokehJS failed to load within specified timeout.\");\n",
       "      root._bokeh_failed_load = true;\n",
       "    } else if (force !== true) {\n",
       "      const cell = $(document.getElementById(\"1002\")).parents('.cell').data().cell;\n",
       "      cell.output_area.append_execute_result(NB_LOAD_WARNING)\n",
       "    }\n",
       "\n",
       "  }\n",
       "\n",
       "  if (root._bokeh_is_loading === 0) {\n",
       "    console.debug(\"Bokeh: BokehJS loaded, going straight to plotting\");\n",
       "    run_inline_js();\n",
       "  } else {\n",
       "    load_libs(css_urls, js_urls, function() {\n",
       "      console.debug(\"Bokeh: BokehJS plotting callback run at\", now());\n",
       "      run_inline_js();\n",
       "    });\n",
       "  }\n",
       "}(window));"
      ],
      "application/vnd.bokehjs_load.v0+json": "\n(function(root) {\n  function now() {\n    return new Date();\n  }\n\n  const force = true;\n\n  if (typeof root._bokeh_onload_callbacks === \"undefined\" || force === true) {\n    root._bokeh_onload_callbacks = [];\n    root._bokeh_is_loading = undefined;\n  }\n\n  \n\n  \n  if (typeof (root._bokeh_timeout) === \"undefined\" || force === true) {\n    root._bokeh_timeout = Date.now() + 5000;\n    root._bokeh_failed_load = false;\n  }\n\n  const NB_LOAD_WARNING = {'data': {'text/html':\n     \"<div style='background-color: #fdd'>\\n\"+\n     \"<p>\\n\"+\n     \"BokehJS does not appear to have successfully loaded. If loading BokehJS from CDN, this \\n\"+\n     \"may be due to a slow or bad network connection. Possible fixes:\\n\"+\n     \"</p>\\n\"+\n     \"<ul>\\n\"+\n     \"<li>re-rerun `output_notebook()` to attempt to load from CDN again, or</li>\\n\"+\n     \"<li>use INLINE resources instead, as so:</li>\\n\"+\n     \"</ul>\\n\"+\n     \"<code>\\n\"+\n     \"from bokeh.resources import INLINE\\n\"+\n     \"output_notebook(resources=INLINE)\\n\"+\n     \"</code>\\n\"+\n     \"</div>\"}};\n\n  function display_loaded() {\n    const el = document.getElementById(\"1002\");\n    if (el != null) {\n      el.textContent = \"BokehJS is loading...\";\n    }\n    if (root.Bokeh !== undefined) {\n      if (el != null) {\n        el.textContent = \"BokehJS \" + root.Bokeh.version + \" successfully loaded.\";\n      }\n    } else if (Date.now() < root._bokeh_timeout) {\n      setTimeout(display_loaded, 100)\n    }\n  }\n\n\n  function run_callbacks() {\n    try {\n      root._bokeh_onload_callbacks.forEach(function(callback) {\n        if (callback != null)\n          callback();\n      });\n    } finally {\n      delete root._bokeh_onload_callbacks\n    }\n    console.debug(\"Bokeh: all callbacks have finished\");\n  }\n\n  function load_libs(css_urls, js_urls, callback) {\n    if (css_urls == null) css_urls = [];\n    if (js_urls == null) js_urls = [];\n\n    root._bokeh_onload_callbacks.push(callback);\n    if (root._bokeh_is_loading > 0) {\n      console.debug(\"Bokeh: BokehJS is being loaded, scheduling callback at\", now());\n      return null;\n    }\n    if (js_urls == null || js_urls.length === 0) {\n      run_callbacks();\n      return null;\n    }\n    console.debug(\"Bokeh: BokehJS not loaded, scheduling load and callback at\", now());\n    root._bokeh_is_loading = css_urls.length + js_urls.length;\n\n    function on_load() {\n      root._bokeh_is_loading--;\n      if (root._bokeh_is_loading === 0) {\n        console.debug(\"Bokeh: all BokehJS libraries/stylesheets loaded\");\n        run_callbacks()\n      }\n    }\n\n    function on_error(url) {\n      console.error(\"failed to load \" + url);\n    }\n\n    for (let i = 0; i < css_urls.length; i++) {\n      const url = css_urls[i];\n      const element = document.createElement(\"link\");\n      element.onload = on_load;\n      element.onerror = on_error.bind(null, url);\n      element.rel = \"stylesheet\";\n      element.type = \"text/css\";\n      element.href = url;\n      console.debug(\"Bokeh: injecting link tag for BokehJS stylesheet: \", url);\n      document.body.appendChild(element);\n    }\n\n    for (let i = 0; i < js_urls.length; i++) {\n      const url = js_urls[i];\n      const element = document.createElement('script');\n      element.onload = on_load;\n      element.onerror = on_error.bind(null, url);\n      element.async = false;\n      element.src = url;\n      console.debug(\"Bokeh: injecting script tag for BokehJS library: \", url);\n      document.head.appendChild(element);\n    }\n  };\n\n  function inject_raw_css(css) {\n    const element = document.createElement(\"style\");\n    element.appendChild(document.createTextNode(css));\n    document.body.appendChild(element);\n  }\n\n  \n  const js_urls = [\"https://cdn.bokeh.org/bokeh/release/bokeh-2.4.1.min.js\", \"https://cdn.bokeh.org/bokeh/release/bokeh-gl-2.4.1.min.js\", \"https://cdn.bokeh.org/bokeh/release/bokeh-widgets-2.4.1.min.js\", \"https://cdn.bokeh.org/bokeh/release/bokeh-tables-2.4.1.min.js\", \"https://cdn.bokeh.org/bokeh/release/bokeh-mathjax-2.4.1.min.js\"];\n  const css_urls = [];\n  \n\n  const inline_js = [\n    function(Bokeh) {\n      Bokeh.set_log_level(\"info\");\n    },\n    function(Bokeh) {\n    \n    \n    }\n  ];\n\n  function run_inline_js() {\n    \n    if (root.Bokeh !== undefined || force === true) {\n      \n    for (let i = 0; i < inline_js.length; i++) {\n      inline_js[i].call(root, root.Bokeh);\n    }\n    if (force === true) {\n        display_loaded();\n      }} else if (Date.now() < root._bokeh_timeout) {\n      setTimeout(run_inline_js, 100);\n    } else if (!root._bokeh_failed_load) {\n      console.log(\"Bokeh: BokehJS failed to load within specified timeout.\");\n      root._bokeh_failed_load = true;\n    } else if (force !== true) {\n      const cell = $(document.getElementById(\"1002\")).parents('.cell').data().cell;\n      cell.output_area.append_execute_result(NB_LOAD_WARNING)\n    }\n\n  }\n\n  if (root._bokeh_is_loading === 0) {\n    console.debug(\"Bokeh: BokehJS loaded, going straight to plotting\");\n    run_inline_js();\n  } else {\n    load_libs(css_urls, js_urls, function() {\n      console.debug(\"Bokeh: BokehJS plotting callback run at\", now());\n      run_inline_js();\n    });\n  }\n}(window));"
     },
     "metadata": {},
     "output_type": "display_data"
    }
   ],
   "source": [
    "from math import pi\n",
    "from bokeh.io import show, output_notebook, export_svg\n",
    "from bokeh.models import BasicTicker, ColorBar, LinearColorMapper, PrintfTickFormatter\n",
    "from bokeh.plotting import figure, save, output_file\n",
    "output_notebook()"
   ]
  },
  {
   "cell_type": "code",
   "execution_count": null,
   "metadata": {},
   "outputs": [],
   "source": [
    "# this is the colormap from the original NYTimes plot\n",
    "colors = [\"#75968f\", \"#a5bab7\", \"#c9d9d3\", \"#e2e2e2\", \"#dfccce\", \"#ddb7b1\", \"#cc7878\", \"#933b41\", \"#550b1d\"]\n",
    "mapper = LinearColorMapper(palette=colors, low=df.Levels.min(), high=df.Levels.max())\n",
    "\n",
    "TOOLS = \"hover,save,pan,box_zoom,reset,wheel_zoom\"\n",
    "\n",
    "p = figure(title=\"Waterfall ({0} - {1})\".format(tempo[0], tempo[-1]),\n",
    "           x_range=frequencias, y_range=tempo,\n",
    "           x_axis_label = 'Frequências',\n",
    "           y_axis_label = 'Tempo',\n",
    "           x_axis_location=\"above\", plot_width=1080, plot_height=720,\n",
    "           tools=TOOLS, toolbar_location='below',\n",
    "           tooltips=[('Frequência', '@Frequencies'), ('Tempo', '@Time'), ('Nível', '@Levels')])\n",
    "\n",
    "p.grid.grid_line_color = None\n",
    "p.axis.axis_line_color = None\n",
    "p.axis.major_tick_line_color = None\n",
    "p.axis.major_tick_line_color = None\n",
    "p.axis.major_label_text_font_size = \"0px\"\n",
    "p.axis.major_label_standoff = 0\n",
    "p.xaxis.major_label_orientation = pi / 3\n",
    "\n",
    "p.rect(x=\"Frequencies\", \n",
    "       y=\"Time\", \n",
    "       width=1,\n",
    "       height=1, \n",
    "       source=df,\n",
    "       fill_color={'field': 'Levels', 'transform': mapper}, \n",
    "       line_color=None)\n",
    "\n",
    "\n",
    "\n",
    "color_bar = ColorBar(color_mapper=mapper, major_label_text_font_size=\"10px\",\n",
    "                 ticker=BasicTicker(desired_num_ticks=len(colors)),\n",
    "                 formatter=PrintfTickFormatter(format=\"%ddBm\"),\n",
    "                 label_standoff=6, border_line_color=None)\n",
    "\n",
    "p.add_layout(color_bar, 'right')\n",
    "\n",
    "show(p)   # plot is too big to show"
   ]
  }
 ],
 "metadata": {
  "kernelspec": {
   "display_name": "Python [conda env:rfpye]",
   "language": "python",
   "name": "conda-env-rfpye-py"
  }
 },
 "nbformat": 4,
 "nbformat_minor": 4
}
