{
 "cells": [
  {
   "cell_type": "code",
   "execution_count": null,
   "metadata": {},
   "outputs": [],
   "source": [
    "#hide   \n",
    "import warnings\n",
    "with warnings.catch_warnings():\n",
    "    warnings.simplefilter(\"ignore\")\n",
    "from pprint import pprint as pp\n",
    "from datetime import datetime as dt\n",
    "from typing import *\n",
    "import rfpye\n",
    "from rfpye.parser import *\n",
    "from rfpye.utils import *\n",
    "from rfpye.blocks import *\n",
    "from nbdev.showdoc import *\n",
    "from fastcore.xtras import Path\n",
    "from fastcore.foundation import L\n",
    "from fastcore.test import *\n",
    "import numpy as np\n",
    "import pandas as pd"
   ]
  },
  {
   "cell_type": "code",
   "execution_count": null,
   "metadata": {},
   "outputs": [],
   "source": [
    "#hide\n",
    "%load_ext autoreload\n",
    "%autoreload 2 "
   ]
  },
  {
   "cell_type": "markdown",
   "metadata": {},
   "source": [
    "Caminho das pastas de entrada e saída"
   ]
  },
  {
   "cell_type": "code",
   "execution_count": null,
   "metadata": {},
   "outputs": [],
   "source": [
    "entrada = Path(r'D:\\OneDrive - ANATEL\\Remote\\rfeye002223')\n",
    "saida = Path(r'C:\\Users\\rsilva\\Downloads\\saida')"
   ]
  },
  {
   "cell_type": "markdown",
   "metadata": {},
   "source": [
    "Função que mapeia os arquivos da pasta e retorna um lista generalizada `L`"
   ]
  },
  {
   "cell_type": "code",
   "execution_count": null,
   "metadata": {},
   "outputs": [
    {
     "data": {
      "text/plain": [
       "(#1) [Path('D:/OneDrive - ANATEL/Remote/rfeye002223/rfeye002223_210519_T182401.bin')]"
      ]
     },
     "execution_count": null,
     "metadata": {},
     "output_type": "execute_result"
    }
   ],
   "source": [
    "arquivos = get_files(entrada) ;  arquivos"
   ]
  },
  {
   "cell_type": "markdown",
   "metadata": {},
   "source": [
    "Peguemos 1 arquivo com somente 1 thread_id por bloco e 1 com múltiplos thread_ids por bloco."
   ]
  },
  {
   "cell_type": "code",
   "execution_count": null,
   "metadata": {},
   "outputs": [],
   "source": [
    "one_tid = arquivos[-1]\n",
    "#mult_tid = arquivos[1]"
   ]
  },
  {
   "cell_type": "code",
   "execution_count": null,
   "metadata": {},
   "outputs": [
    {
     "name": "stdout",
     "output_type": "stream",
     "text": [
      "Wall time: 3.06 s\n"
     ]
    }
   ],
   "source": [
    "%%time\n",
    "one = parse_bin(one_tid, btypes=[21,40,67])"
   ]
  },
  {
   "cell_type": "code",
   "execution_count": null,
   "metadata": {},
   "outputs": [
    {
     "data": {
      "text/plain": [
       "{'file_version': 23,\n",
       " 'string': 'CRFS DATA FILE V023',\n",
       " 'blocks': defaultdict(fastcore.foundation.L,\n",
       "             {(21,\n",
       "               0): (#1) [((36, 111), <rfpye.blocks.DType21 object at 0x0000020B1C68FA88>)],\n",
       "              (40,\n",
       "               1): (#9056) [((344, 399), <rfpye.blocks.DType40 object at 0x0000020B1C68FE48>),((15280, 15335), <rfpye.blocks.DType40 object at 0x0000020B1C998508>),((21000, 21055), <rfpye.blocks.DType40 object at 0x0000020B1C998748>),((25980, 26035), <rfpye.blocks.DType40 object at 0x0000020B1C998948>),((30960, 31015), <rfpye.blocks.DType40 object at 0x0000020B1C998C48>),((35940, 35995), <rfpye.blocks.DType40 object at 0x0000020B1C998FC8>),((111728, 111783), <rfpye.blocks.DType40 object at 0x0000020B1C9AEC08>),((116708, 116763), <rfpye.blocks.DType40 object at 0x0000020B1C250A08>),((121688, 121743), <rfpye.blocks.DType40 object at 0x0000020B1C9AEDC8>),((126668, 126723), <rfpye.blocks.DType40 object at 0x0000020B1C9B80C8>)...],\n",
       "              (67,\n",
       "               100): (#1812) [((404, 1583), <rfpye.blocks.DType67 object at 0x0000020B1C68FF48>),((36000, 37179), <rfpye.blocks.DType67 object at 0x0000020B1C9A6108>),((131708, 132887), <rfpye.blocks.DType67 object at 0x0000020B1C9B8488>),((166564, 167743), <rfpye.blocks.DType67 object at 0x0000020B1C9C2708>),((201420, 202599), <rfpye.blocks.DType67 object at 0x0000020B1C9CCBC8>),((297128, 298307), <rfpye.blocks.DType67 object at 0x0000020B2C1B9048>),((331984, 333163), <rfpye.blocks.DType67 object at 0x0000020B2C1BD2C8>),((366840, 368019), <rfpye.blocks.DType67 object at 0x0000020B2C1C0788>),((462548, 463727), <rfpye.blocks.DType67 object at 0x0000020B2C1C7988>),((497404, 498583), <rfpye.blocks.DType67 object at 0x0000020B2C1CAC08>)...],\n",
       "              (67,\n",
       "               110): (#1812) [((1588, 2767), <rfpye.blocks.DType67 object at 0x0000020B1C998088>),((37184, 38363), <rfpye.blocks.DType67 object at 0x0000020B1C9A6248>),((132892, 134071), <rfpye.blocks.DType67 object at 0x0000020B2C184F88>),((167748, 168927), <rfpye.blocks.DType67 object at 0x0000020B1C9C2848>),((202604, 203783), <rfpye.blocks.DType67 object at 0x0000020B1C9CCD48>),((298312, 299491), <rfpye.blocks.DType67 object at 0x0000020B2C194A88>),((333168, 334347), <rfpye.blocks.DType67 object at 0x0000020B2C1BD408>),((368024, 369203), <rfpye.blocks.DType67 object at 0x0000020B2C1C08C8>),((463732, 464911), <rfpye.blocks.DType67 object at 0x0000020B2C1C7A88>),((498588, 499767), <rfpye.blocks.DType67 object at 0x0000020B2C1CAD48>)...],\n",
       "              (67,\n",
       "               130): (#1812) [((4216, 10355), <rfpye.blocks.DType67 object at 0x0000020B1C998188>),((39812, 45951), <rfpye.blocks.DType67 object at 0x0000020B1C9A6448>),((135520, 141659), <rfpye.blocks.DType67 object at 0x0000020B1C9B8708>),((170376, 176515), <rfpye.blocks.DType67 object at 0x0000020B1C9C2988>),((205232, 211371), <rfpye.blocks.DType67 object at 0x0000020B1C9CCF88>),((300940, 307079), <rfpye.blocks.DType67 object at 0x0000020B2C1B92C8>),((335796, 341935), <rfpye.blocks.DType67 object at 0x0000020B2C1BD548>),((370652, 376791), <rfpye.blocks.DType67 object at 0x0000020B2C1C0AC8>),((466360, 472499), <rfpye.blocks.DType67 object at 0x0000020B2C1C7B88>),((501216, 507355), <rfpye.blocks.DType67 object at 0x0000020B2C1CAF48>)...],\n",
       "              (67,\n",
       "               300): (#9056) [((10360, 14107), <rfpye.blocks.DType67 object at 0x0000020B1C998288>),((15340, 19087), <rfpye.blocks.DType67 object at 0x0000020B1C9985C8>),((21060, 24807), <rfpye.blocks.DType67 object at 0x0000020B1C9987C8>),((26040, 29787), <rfpye.blocks.DType67 object at 0x0000020B1C9989C8>),((31020, 34767), <rfpye.blocks.DType67 object at 0x0000020B1C998D88>),((80696, 84443), <rfpye.blocks.DType67 object at 0x0000020B1C9A6F08>),((111788, 115535), <rfpye.blocks.DType67 object at 0x0000020B1BD63188>),((116768, 120515), <rfpye.blocks.DType67 object at 0x0000020B1C674648>),((121748, 125495), <rfpye.blocks.DType67 object at 0x0000020B1C9AEE88>),((126728, 130475), <rfpye.blocks.DType67 object at 0x0000020B1C9B81C8>)...],\n",
       "              (67,\n",
       "               310): (#9056) [((14112, 15275), <rfpye.blocks.DType67 object at 0x0000020B1C9983C8>),((19092, 20255), <rfpye.blocks.DType67 object at 0x0000020B1C998688>),((24812, 25975), <rfpye.blocks.DType67 object at 0x0000020B1C998888>),((29792, 30955), <rfpye.blocks.DType67 object at 0x0000020B1C998B08>),((34772, 35935), <rfpye.blocks.DType67 object at 0x0000020B1C998E48>),((84448, 85611), <rfpye.blocks.DType67 object at 0x0000020B1C9AE088>),((115540, 116703), <rfpye.blocks.DType67 object at 0x0000020B1BD63388>),((120520, 121683), <rfpye.blocks.DType67 object at 0x0000020B1C9AEC88>),((125500, 126663), <rfpye.blocks.DType67 object at 0x0000020B1C9AEF88>),((130480, 131643), <rfpye.blocks.DType67 object at 0x0000020B2C184D88>)...],\n",
       "              (67,\n",
       "               210): (#604) [((52888, 60063), <rfpye.blocks.DType67 object at 0x0000020B1C9A6648>),((218308, 225483), <rfpye.blocks.DType67 object at 0x0000020B2C1B1208>),((383728, 390903), <rfpye.blocks.DType67 object at 0x0000020B2C179388>),((549148, 556323), <rfpye.blocks.DType67 object at 0x0000020B2C186E88>),((715308, 722483), <rfpye.blocks.DType67 object at 0x0000020B2C198988>),((880728, 887903), <rfpye.blocks.DType67 object at 0x0000020B2C1CAE88>),((1046148, 1053323), <rfpye.blocks.DType67 object at 0x0000020B2C1DC988>),((1211568, 1218743), <rfpye.blocks.DType67 object at 0x0000020B2C1EB688>),((1377728, 1384903), <rfpye.blocks.DType67 object at 0x0000020B2C1FD188>),((1543148, 1550323), <rfpye.blocks.DType67 object at 0x0000020B2C20CC48>)...],\n",
       "              (67,\n",
       "               220): (#604) [((60068, 62023), <rfpye.blocks.DType67 object at 0x0000020B1C9A6848>),((225488, 227443), <rfpye.blocks.DType67 object at 0x0000020B2C1B1348>),((390908, 392863), <rfpye.blocks.DType67 object at 0x0000020B2C1C0D48>),((556328, 558283), <rfpye.blocks.DType67 object at 0x0000020B2C1D1788>),((722488, 724443), <rfpye.blocks.DType67 object at 0x0000020B2C1E12C8>),((887908, 889863), <rfpye.blocks.DType67 object at 0x0000020B2C1F0F48>),((1053328, 1055283), <rfpye.blocks.DType67 object at 0x0000020B2C201A48>),((1218748, 1220703), <rfpye.blocks.DType67 object at 0x0000020B2C213548>),((1384908, 1386863), <rfpye.blocks.DType67 object at 0x0000020B2C220FC8>),((1550328, 1552283), <rfpye.blocks.DType67 object at 0x0000020B2C233908>)...],\n",
       "              (67,\n",
       "               230): (#604) [((62028, 64767), <rfpye.blocks.DType67 object at 0x0000020B1C9A6A48>),((227448, 230187), <rfpye.blocks.DType67 object at 0x0000020B2C1B1488>),((392868, 395607), <rfpye.blocks.DType67 object at 0x0000020B2C1C0E88>),((558288, 561027), <rfpye.blocks.DType67 object at 0x0000020B2C1D18C8>),((724448, 727187), <rfpye.blocks.DType67 object at 0x0000020B2C1E1448>),((889868, 892607), <rfpye.blocks.DType67 object at 0x0000020B2C1F30C8>),((1055288, 1058027), <rfpye.blocks.DType67 object at 0x0000020B2C201B88>),((1220708, 1223447), <rfpye.blocks.DType67 object at 0x0000020B2C213688>),((1386868, 1389607), <rfpye.blocks.DType67 object at 0x0000020B2C225108>),((1552288, 1555027), <rfpye.blocks.DType67 object at 0x0000020B2C233A48>)...],\n",
       "              (67,\n",
       "               240): (#604) [((64772, 69859), <rfpye.blocks.DType67 object at 0x0000020B1C9A6C48>),((230192, 235279), <rfpye.blocks.DType67 object at 0x0000020B2C1B15C8>),((395612, 400699), <rfpye.blocks.DType67 object at 0x0000020B2C1C0FC8>),((561032, 566119), <rfpye.blocks.DType67 object at 0x0000020B2C1D1A08>),((727192, 732279), <rfpye.blocks.DType67 object at 0x0000020B2C1E15C8>),((892612, 897699), <rfpye.blocks.DType67 object at 0x0000020B2C1F3208>),((1058032, 1063119), <rfpye.blocks.DType67 object at 0x0000020B2C201CC8>),((1223452, 1228539), <rfpye.blocks.DType67 object at 0x0000020B2C2137C8>),((1389612, 1394699), <rfpye.blocks.DType67 object at 0x0000020B2C225208>),((1555032, 1560119), <rfpye.blocks.DType67 object at 0x0000020B2C233B88>)...],\n",
       "              (67,\n",
       "               320): (#604) [((85616, 86267), <rfpye.blocks.DType67 object at 0x0000020B1C9AE1C8>),((251036, 251687), <rfpye.blocks.DType67 object at 0x0000020B2C1B1A48>),((416456, 417107), <rfpye.blocks.DType67 object at 0x0000020B2C1C4488>),((581876, 582527), <rfpye.blocks.DType67 object at 0x0000020B2C1D1E88>),((748036, 748687), <rfpye.blocks.DType67 object at 0x0000020B2C1E1A88>),((913456, 914107), <rfpye.blocks.DType67 object at 0x0000020B2C1F3688>),((1078876, 1079527), <rfpye.blocks.DType67 object at 0x0000020B2C205188>),((1244296, 1244947), <rfpye.blocks.DType67 object at 0x0000020B2C213C48>),((1410456, 1411107), <rfpye.blocks.DType67 object at 0x0000020B2C225648>),((1575876, 1576527), <rfpye.blocks.DType67 object at 0x0000020B2C236048>)...],\n",
       "              (67,\n",
       "               340): (#604) [((86664, 93579), <rfpye.blocks.DType67 object at 0x0000020B1C9AE3C8>),((252084, 258999), <rfpye.blocks.DType67 object at 0x0000020B2C1B1B88>),((417504, 424419), <rfpye.blocks.DType67 object at 0x0000020B2C1C4688>),((582924, 589839), <rfpye.blocks.DType67 object at 0x0000020B2C1D40C8>),((749084, 755999), <rfpye.blocks.DType67 object at 0x0000020B2C1E1CC8>),((914504, 921419), <rfpye.blocks.DType67 object at 0x0000020B2C1F3888>),((1079924, 1086839), <rfpye.blocks.DType67 object at 0x0000020B2C205388>),((1245344, 1252259), <rfpye.blocks.DType67 object at 0x0000020B2C213E48>),((1411504, 1418419), <rfpye.blocks.DType67 object at 0x0000020B2C225808>),((1576924, 1583839), <rfpye.blocks.DType67 object at 0x0000020B2C236248>)...],\n",
       "              (67,\n",
       "               360): (#604) [((95020, 98279), <rfpye.blocks.DType67 object at 0x0000020B1C9AE688>),((260440, 263699), <rfpye.blocks.DType67 object at 0x0000020B2C1B1D88>),((425860, 429119), <rfpye.blocks.DType67 object at 0x0000020B2C1C4888>),((591280, 594539), <rfpye.blocks.DType67 object at 0x0000020B2C1D42C8>),((757440, 760699), <rfpye.blocks.DType67 object at 0x0000020B2C1E1F08>),((922860, 926119), <rfpye.blocks.DType67 object at 0x0000020B2C1F3A88>),((1088280, 1091539), <rfpye.blocks.DType67 object at 0x0000020B2C205588>),((1253700, 1256959), <rfpye.blocks.DType67 object at 0x0000020B2C215088>),((1419860, 1423119), <rfpye.blocks.DType67 object at 0x0000020B2C2259C8>),((1585280, 1588539), <rfpye.blocks.DType67 object at 0x0000020B2C236448>)...],\n",
       "              (67,\n",
       "               380): (#604) [((103896, 108199), <rfpye.blocks.DType67 object at 0x0000020B1C9AE948>),((269316, 273619), <rfpye.blocks.DType67 object at 0x0000020B2C1B1F88>),((434736, 439039), <rfpye.blocks.DType67 object at 0x0000020B2C1C4A88>),((600156, 604459), <rfpye.blocks.DType67 object at 0x0000020B2C1D44C8>),((766316, 770619), <rfpye.blocks.DType67 object at 0x0000020B2C1E6188>),((931736, 936039), <rfpye.blocks.DType67 object at 0x0000020B2C1F3C88>),((1097156, 1101459), <rfpye.blocks.DType67 object at 0x0000020B2C205788>),((1262576, 1266879), <rfpye.blocks.DType67 object at 0x0000020B2C215288>),((1428736, 1433039), <rfpye.blocks.DType67 object at 0x0000020B2C225B88>),((1594156, 1598459), <rfpye.blocks.DType67 object at 0x0000020B2C236648>)...]})}"
      ]
     },
     "execution_count": null,
     "metadata": {},
     "output_type": "execute_result"
    }
   ],
   "source": [
    "one"
   ]
  },
  {
   "cell_type": "markdown",
   "metadata": {},
   "source": [
    "On a normal conda environment the time of the following cell was\n",
    "```python\n",
    "%%timeit\n",
    "multi = process_bin(mult_tid)\n",
    "```\n",
    "1.29 s ± 73.2 ms per loop (mean ± std. dev. of 7 runs, 1 loop each)"
   ]
  },
  {
   "cell_type": "code",
   "execution_count": null,
   "metadata": {},
   "outputs": [
    {
     "name": "stdout",
     "output_type": "stream",
     "text": [
      "Wall time: 1.47 s\n"
     ]
    }
   ],
   "source": [
    "%%time\n",
    "multi = parse_bin(mult_tid)"
   ]
  },
  {
   "cell_type": "code",
   "execution_count": null,
   "metadata": {},
   "outputs": [],
   "source": [
    "multi.keys()"
   ]
  },
  {
   "cell_type": "code",
   "execution_count": null,
   "metadata": {},
   "outputs": [],
   "source": [
    "multi['file_version']"
   ]
  },
  {
   "cell_type": "code",
   "execution_count": null,
   "metadata": {},
   "outputs": [],
   "source": [
    "multi['string']"
   ]
  },
  {
   "cell_type": "code",
   "execution_count": null,
   "metadata": {},
   "outputs": [],
   "source": [
    "multi['blocos']"
   ]
  },
  {
   "cell_type": "code",
   "execution_count": null,
   "metadata": {},
   "outputs": [],
   "source": [
    "exemplo = multi['blocos'][(21,0)][0]"
   ]
  },
  {
   "cell_type": "code",
   "execution_count": null,
   "metadata": {},
   "outputs": [],
   "source": [
    "bytes_map = exemplo[0]\n",
    "bloco = exemplo[1]"
   ]
  },
  {
   "cell_type": "code",
   "execution_count": null,
   "metadata": {},
   "outputs": [],
   "source": [
    "bin_data = bloco.data ; bin_data"
   ]
  },
  {
   "cell_type": "code",
   "execution_count": null,
   "metadata": {},
   "outputs": [],
   "source": [
    "len(bin_data)"
   ]
  },
  {
   "cell_type": "code",
   "execution_count": null,
   "metadata": {},
   "outputs": [],
   "source": [
    "getattrs(bloco)"
   ]
  },
  {
   "cell_type": "markdown",
   "metadata": {},
   "source": [
    "### Mapeamento dos bytes do arquivo nos blocos\n",
    "\n",
    "Vamos testar se o mapeamento do bloco nos bytes do arquivo está correto, para tal vamos ler o arquivo novamente."
   ]
  },
  {
   "cell_type": "code",
   "execution_count": null,
   "metadata": {},
   "outputs": [],
   "source": [
    "with open(mult_tid, mode='rb') as bfile:\n",
    "    # O primeiro bloco do arquivo é o cabeçalho e tem 36 bytes de tamanho.\n",
    "    body = bfile.read()"
   ]
  },
  {
   "cell_type": "markdown",
   "metadata": {},
   "source": [
    "Primeiramente criamos um Bloco Base - Cabeçalho, Dados e Rodapé com a função `create_base_block`."
   ]
  },
  {
   "cell_type": "code",
   "execution_count": null,
   "metadata": {},
   "outputs": [],
   "source": [
    "show_doc(create_base_block)"
   ]
  },
  {
   "cell_type": "code",
   "execution_count": null,
   "metadata": {},
   "outputs": [],
   "source": [
    "block = create_base_block(body[slice(*bytes_map)])"
   ]
  },
  {
   "cell_type": "markdown",
   "metadata": {},
   "source": [
    "Como vemos na documentação da função acima ela aceita arquivos abertos lidos como `bytes`. Passamos para ela o arquivo aberto `body`, mas somente selecionando deste os índices de bytes `bytes_map` retornados acima.\n",
    "`body[slice(*bytes_map)]` é o mesmo que `body[bytes_map[0]:bytes_map[1]]` mas numa notação mais _pythônica_   "
   ]
  },
  {
   "cell_type": "code",
   "execution_count": null,
   "metadata": {},
   "outputs": [],
   "source": [
    "block.data"
   ]
  },
  {
   "cell_type": "markdown",
   "metadata": {},
   "source": [
    "A função de teste a seguir testa a igualdade do bloco de dados acima e do bloco de dados diretamente mapeado nos bins, o teste foi bem sucedido caso nada seja retornado"
   ]
  },
  {
   "cell_type": "code",
   "execution_count": null,
   "metadata": {},
   "outputs": [],
   "source": [
    "test_eq(bin_data, block.data)"
   ]
  },
  {
   "cell_type": "code",
   "execution_count": null,
   "metadata": {},
   "outputs": [],
   "source": [
    "%%time\n",
    "metadados = extract_metadata(multi)"
   ]
  },
  {
   "cell_type": "code",
   "execution_count": null,
   "metadata": {},
   "outputs": [],
   "source": [
    "metadados"
   ]
  },
  {
   "cell_type": "code",
   "execution_count": null,
   "metadata": {},
   "outputs": [],
   "source": [
    "export_metadata(entrada, saida)"
   ]
  },
  {
   "cell_type": "code",
   "execution_count": null,
   "metadata": {},
   "outputs": [],
   "source": []
  }
 ],
 "metadata": {
  "kernelspec": {
   "display_name": "Python 3",
   "language": "python",
   "name": "python3"
  }
 },
 "nbformat": 4,
 "nbformat_minor": 4
}
