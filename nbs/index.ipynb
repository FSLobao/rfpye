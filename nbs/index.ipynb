{
 "cells": [
  {
   "cell_type": "code",
   "execution_count": null,
   "metadata": {},
   "outputs": [],
   "source": [
    "#hide\n",
    "import sys, os\n",
    "from pathlib import Path\n",
    "\n",
    "# Insert in Path Project Directory\n",
    "sys.path.insert(0, str(Path().cwd().parent))\n",
    "\n",
    "%load_ext autoreload\n",
    "%autoreload 2 "
   ]
  },
  {
   "cell_type": "code",
   "execution_count": null,
   "metadata": {},
   "outputs": [],
   "source": [
    "#hide\n",
    "import warnings\n",
    "from nbdev import show_doc\n",
    "with warnings.catch_warnings():\n",
    "    warnings.simplefilter(\"ignore\")    "
   ]
  },
  {
   "cell_type": "markdown",
   "metadata": {},
   "source": [
    "# RFPYE\n",
    "> Este módulo tem como objetivo o processamento e extração otimizada de dados dos arquivos `.bin` de monitoramento do espectro provenientes do script Logger executados nas estações de Monitoramento CRFS RFeye Node. Para tal utilizamos as várias funcionalidades da biblioteca [fastcore](https://fastcore.fast.ai/basics.html), que expande e otimiza as estruturas de dados da linguagem python. "
   ]
  },
  {
   "cell_type": "markdown",
   "metadata": {},
   "source": [
    "## Instalação\n",
    "\n",
    "Como parte dessa lib utiliza código c compilado com `Cython`, é preciso que um compilador `C` esteja instalado. É recomendado a criação de um ambiente virtual para que a instalação das dependências não interfira com o a instalação base do python. Para tal é recomendamos o uso do conda. A seguir é mostrado instruções para a criação do ambiente virtual, com todas as dependências utilizando o conda.\n",
    "\n",
    "Instale o [miniconda](https://docs.conda.io/en/latest/miniconda.html). Com o conda instalado e disponível no seu `PATH` ou através do `Anaconda Prompt`, execute os comando:\n",
    "\n",
    "### Linux:\n",
    "\n",
    "Em Linux normalmente o sistema já possui o compilador `gcc` instalado.\n",
    "\n",
    "```bash\n",
    "conda create -n rfpye pip python=3.7 gcc -c intel -c conda-forge -y\n",
    "conda activate rfpye\n",
    "python -m pip install rfpye\n",
    "```\n",
    "\n",
    "### Windows\n",
    "\n",
    "É preciso ter o compilador `Microsoft Visual C++ 2015-2019 Redistributable x64` Versão 14.x instalado.    \n",
    "\n",
    "\n",
    "```bash\n",
    "conda create -n rfpye pip python=3.7 libpython m2w64-toolchain -c intel -y\n",
    "conda activate rfpye\n",
    "python -m pip install rfpye\n",
    "```\n",
    "\n",
    "O comando acima cria um ambiente virtual com o mesmo nome da biblioteca `rfpye`, instala as dependências básicas necessárias para a compilação, em seguida ativa o ambiente virtual e instala o módulo."
   ]
  },
  {
   "cell_type": "markdown",
   "metadata": {},
   "source": [
    "Depois disso basta instalar normalmente a lib:\n",
    "`python -m pip install rfpye`"
   ]
  },
  {
   "cell_type": "markdown",
   "metadata": {},
   "source": []
  },
  {
   "cell_type": "markdown",
   "metadata": {},
   "source": [
    "## Como utilizar\n",
    "Abaixo mostramos as funcionalidades principais dos módulos, utilizando-os dentro de algum outro script ou `REPL`"
   ]
  },
  {
   "cell_type": "markdown",
   "metadata": {},
   "source": [
    "Precisamos necessariamente de um diretório de entrada, contendo um ou mais arquivos `.bin`\n",
    "> Mude os caminhos abaixo para suas pastas locais"
   ]
  },
  {
   "cell_type": "code",
   "execution_count": null,
   "metadata": {},
   "outputs": [],
   "source": [
    "from fastcore.xtras import Path\n",
    "from rfpye.utils import get_files\n",
    "from rich import print"
   ]
  },
  {
   "cell_type": "markdown",
   "metadata": {},
   "source": [
    "A função abaixo baixa alguns arquivos de exemplo:"
   ]
  },
  {
   "cell_type": "code",
   "execution_count": null,
   "metadata": {},
   "outputs": [],
   "source": [
    "path = Path(r'binfiles')\n",
    "if not path.exists() or not len(get_files(path, extensions=['.bin'])):\n",
    "    path = Path('.')\n",
    "    !wget --header 'Host: raw.githubusercontent.com' --user-agent 'Mozilla/5.0 (Windows NT 10.0; Win64; x64; rv:89.0) Gecko/20100101 Firefox/89.0' --header 'Accept: text/html,application/xhtml+xml,application/xml;q=0.9,image/webp,*/*;q=0.8' --header 'Accept-Language: pt-BR,pt;q=0.8,en-US;q=0.5,en;q=0.3' --referer 'https://github.com/EricMagalhaesDelgado/SpecFiles/blob/main/Combo3%20(CRFS%20Bin%20-%20DataTypes%204%2C%207%2C%208%2C%2060-65%20e%2067-69)/rfeye002092_210208_T202310_CRFSBINv.5.bin' --header 'DNT: 1' --header 'Upgrade-Insecure-Requests: 1' 'https://raw.githubusercontent.com/EricMagalhaesDelgado/SpecFiles/main/Combo3%20(CRFS%20Bin%20-%20DataTypes%204%2C%207%2C%208%2C%2060-65%20e%2067-69)/rfeye002092_210208_T202310_CRFSBINv.5.bin' --output-document 'rfeye002092_210208_T202310_CRFSBINv.5.bin'\n",
    "    !wget --header 'Host: raw.githubusercontent.com' --user-agent 'Mozilla/5.0 (Windows NT 10.0; Win64; x64; rv:89.0) Gecko/20100101 Firefox/89.0' --header 'Accept: text/html,application/xhtml+xml,application/xml;q=0.9,image/webp,*/*;q=0.8' --header 'Accept-Language: pt-BR,pt;q=0.8,en-US;q=0.5,en;q=0.3' --referer 'https://github.com/EricMagalhaesDelgado/SpecFiles/blob/main/Combo3%20(CRFS%20Bin%20-%20DataTypes%204%2C%207%2C%208%2C%2060-65%20e%2067-69)/rfeye002092_210208_T203131_CRFSBINv.2.bin' --header 'DNT: 1' --header 'Upgrade-Insecure-Requests: 1' 'https://raw.githubusercontent.com/EricMagalhaesDelgado/SpecFiles/main/Combo3%20(CRFS%20Bin%20-%20DataTypes%204%2C%207%2C%208%2C%2060-65%20e%2067-69)/rfeye002092_210208_T203131_CRFSBINv.2.bin' --output-document 'rfeye002092_210208_T203131_CRFSBINv.2.bin'\n",
    "    !wget --header 'Host: raw.githubusercontent.com' --user-agent 'Mozilla/5.0 (Windows NT 10.0; Win64; x64; rv:89.0) Gecko/20100101 Firefox/89.0' --header 'Accept: text/html,application/xhtml+xml,application/xml;q=0.9,image/webp,*/*;q=0.8' --header 'Accept-Language: pt-BR,pt;q=0.8,en-US;q=0.5,en;q=0.3' --referer 'https://github.com/EricMagalhaesDelgado/SpecFiles/blob/main/Combo3%20(CRFS%20Bin%20-%20DataTypes%204%2C%207%2C%208%2C%2060-65%20e%2067-69)/rfeye002292_210208_T202215_CRFSBINv.4.bin' --header 'DNT: 1' --header 'Upgrade-Insecure-Requests: 1' 'https://raw.githubusercontent.com/EricMagalhaesDelgado/SpecFiles/main/Combo3%20(CRFS%20Bin%20-%20DataTypes%204%2C%207%2C%208%2C%2060-65%20e%2067-69)/rfeye002292_210208_T202215_CRFSBINv.4.bin' --output-document 'rfeye002292_210208_T202215_CRFSBINv.4.bin'\n",
    "    !wget --header 'Host: raw.githubusercontent.com' --user-agent 'Mozilla/5.0 (Windows NT 10.0; Win64; x64; rv:89.0) Gecko/20100101 Firefox/89.0' --header 'Accept: text/html,application/xhtml+xml,application/xml;q=0.9,image/webp,*/*;q=0.8' --header 'Accept-Language: pt-BR,pt;q=0.8,en-US;q=0.5,en;q=0.3' --referer 'https://github.com/EricMagalhaesDelgado/SpecFiles/blob/main/Combo3%20(CRFS%20Bin%20-%20DataTypes%204%2C%207%2C%208%2C%2060-65%20e%2067-69)/rfeye002292_210208_T203238_CRFSBINv.3.bin' --header 'DNT: 1' --header 'Upgrade-Insecure-Requests: 1' 'https://raw.githubusercontent.com/EricMagalhaesDelgado/SpecFiles/main/Combo3%20(CRFS%20Bin%20-%20DataTypes%204%2C%207%2C%208%2C%2060-65%20e%2067-69)/rfeye002292_210208_T203238_CRFSBINv.3.bin' --output-document 'rfeye002292_210208_T203238_CRFSBINv.3.bin'\n"
   ]
  },
  {
   "cell_type": "markdown",
   "metadata": {},
   "source": [
    "A função `parse_bin` é a função principal que encapsula o processamento dos arquivos bin."
   ]
  },
  {
   "cell_type": "code",
   "execution_count": null,
   "metadata": {},
   "outputs": [
    {
     "data": {
      "text/markdown": [
       "<h4 id=\"parse_bin\" class=\"doc_header\"><code>parse_bin</code><a href=\"https://github.com/ronaldokun/rfpye/tree/master/rfpye/parser.py#L103\" class=\"source_link\" style=\"float:right\">[source]</a></h4>\n",
       "\n",
       "> <code>parse_bin</code>(**`bin_file`**:`Union`\\[`str`, `Path`\\], **`precision`**=*`float32`*)\n",
       "\n",
       "Receives a CRFS binfile and returns a dictionary with the file metadata, a GPS Class and a list with the different Spectrum Classes\n",
       "A block is a piece of the .bin file with a known start and end and that contains different types of information.\n",
       "It has several fields: file_type, header, data and footer.\n",
       "Each field has lengths and information defined in the documentation.\n",
       "Args:\n",
       "    bin_file (Union[str, Path]): path to the bin file\n",
       "\n",
       "Returns:\n",
       "    Dictionary with the file metadata, file_version, string info, gps and spectrum blocks."
      ],
      "text/plain": [
       "<IPython.core.display.Markdown object>"
      ]
     },
     "metadata": {},
     "output_type": "display_data"
    }
   ],
   "source": [
    "from rfpye.parser import parse_bin\n",
    "show_doc(parse_bin)"
   ]
  },
  {
   "cell_type": "markdown",
   "metadata": {},
   "source": [
    "## Extração de Dados"
   ]
  },
  {
   "cell_type": "markdown",
   "metadata": {},
   "source": [
    "Vamos listar arquivos da última versão do script Logger, **CRFS Bin - Versão 5**"
   ]
  },
  {
   "cell_type": "code",
   "execution_count": null,
   "metadata": {},
   "outputs": [],
   "source": [
    "files = get_files(r'binfiles/v5', extensions=['.bin'])\n",
    "file = files.shuffle()[0]"
   ]
  },
  {
   "cell_type": "code",
   "execution_count": null,
   "metadata": {},
   "outputs": [
    {
     "name": "stdout",
     "output_type": "stream",
     "text": [
      "Wall time: 8.45 s\n"
     ]
    }
   ],
   "source": [
    "%%time\n",
    "dados = parse_bin(file)"
   ]
  },
  {
   "cell_type": "code",
   "execution_count": null,
   "metadata": {},
   "outputs": [
    {
     "data": {
      "text/html": [
       "<pre style=\"white-space:pre;overflow-x:auto;line-height:normal;font-family:Menlo,'DejaVu Sans Mono',consolas,'Courier New',monospace\"><span style=\"font-weight: bold\">{</span>\n",
       "    <span style=\"color: #008000; text-decoration-color: #008000\">'filename'</span>: <span style=\"color: #008000; text-decoration-color: #008000\">'rfeye002092_210630_T094705.bin'</span>,\n",
       "    <span style=\"color: #008000; text-decoration-color: #008000\">'file_version'</span>: <span style=\"color: #008080; text-decoration-color: #008080; font-weight: bold\">23</span>,\n",
       "    <span style=\"color: #008000; text-decoration-color: #008000\">'string'</span>: <span style=\"color: #008000; text-decoration-color: #008000\">'CRFS DATA FILE V023'</span>,\n",
       "    <span style=\"color: #008000; text-decoration-color: #008000\">'hostname'</span>: <span style=\"color: #008000; text-decoration-color: #008000\">'rfeye002092'</span>,\n",
       "    <span style=\"color: #008000; text-decoration-color: #008000\">'method'</span>: <span style=\"color: #008000; text-decoration-color: #008000\">'ScriptRFeye2021_v2.cfg'</span>,\n",
       "    <span style=\"color: #008000; text-decoration-color: #008000\">'unit_info'</span>: <span style=\"color: #008000; text-decoration-color: #008000\">'Stationary'</span>,\n",
       "    <span style=\"color: #008000; text-decoration-color: #008000\">'file_number'</span>: <span style=\"color: #008080; text-decoration-color: #008080; font-weight: bold\">0</span>,\n",
       "    <span style=\"color: #008000; text-decoration-color: #008000\">'identifier'</span>: <span style=\"color: #008000; text-decoration-color: #008000\">'INFO'</span>,\n",
       "    <span style=\"color: #008000; text-decoration-color: #008000\">'gps'</span>: GPS Data - Median of Coordinates: <span style=\"color: #008080; text-decoration-color: #008080; font-weight: bold\">-12.82684</span>:<span style=\"color: #008080; text-decoration-color: #008080; font-weight: bold\">-38.47805</span> Altitude: <span style=\"color: #008080; text-decoration-color: #008080; font-weight: bold\">120.80</span> \n",
       "#Satellites: <span style=\"color: #008080; text-decoration-color: #008080; font-weight: bold\">12.0</span>,\n",
       "    <span style=\"color: #008000; text-decoration-color: #008000\">'spectrum'</span>: <span style=\"font-weight: bold\">[</span><span style=\"color: #800080; text-decoration-color: #800080; font-weight: bold\">Spectrum</span><span style=\"font-weight: bold\">(</span><span style=\"color: #808000; text-decoration-color: #808000\">type</span>=<span style=\"color: #008080; text-decoration-color: #008080; font-weight: bold\">67</span>, <span style=\"color: #808000; text-decoration-color: #808000\">thread_id</span>=<span style=\"color: #008080; text-decoration-color: #008080; font-weight: bold\">300</span>, <span style=\"color: #808000; text-decoration-color: #808000\">description</span>=<span style=\"color: #008000; text-decoration-color: #008000\">'PMEC 2021 (Faixa 1 de 10).'</span>, \n",
       "<span style=\"color: #808000; text-decoration-color: #808000\">start_mega</span>=<span style=\"color: #008080; text-decoration-color: #008080; font-weight: bold\">105</span>, <span style=\"color: #808000; text-decoration-color: #808000\">stop_mega</span>=<span style=\"color: #008080; text-decoration-color: #008080; font-weight: bold\">140</span>, <span style=\"color: #808000; text-decoration-color: #808000\">dtype</span>=<span style=\"color: #008000; text-decoration-color: #008000\">'dBm'</span>, <span style=\"color: #808000; text-decoration-color: #808000\">ndata</span>=<span style=\"color: #008080; text-decoration-color: #008080; font-weight: bold\">3584</span>, <span style=\"color: #808000; text-decoration-color: #808000\">bw</span>=<span style=\"color: #008080; text-decoration-color: #008080; font-weight: bold\">18457</span>, <span style=\"color: #808000; text-decoration-color: #808000\">processing</span>=<span style=\"color: #008000; text-decoration-color: #008000\">'peak'</span>, \n",
       "<span style=\"color: #808000; text-decoration-color: #808000\">antuid</span>=<span style=\"color: #008080; text-decoration-color: #008080; font-weight: bold\">0</span><span style=\"font-weight: bold\">)</span>, <span style=\"color: #800080; text-decoration-color: #800080; font-weight: bold\">Spectrum</span><span style=\"font-weight: bold\">(</span><span style=\"color: #808000; text-decoration-color: #808000\">type</span>=<span style=\"color: #008080; text-decoration-color: #008080; font-weight: bold\">67</span>, <span style=\"color: #808000; text-decoration-color: #808000\">thread_id</span>=<span style=\"color: #008080; text-decoration-color: #008080; font-weight: bold\">310</span>, <span style=\"color: #808000; text-decoration-color: #808000\">description</span>=<span style=\"color: #008000; text-decoration-color: #008000\">'PMEC 2021 (Faixa 2 de 10).'</span>, \n",
       "<span style=\"color: #808000; text-decoration-color: #808000\">start_mega</span>=<span style=\"color: #008080; text-decoration-color: #008080; font-weight: bold\">155</span>, <span style=\"color: #808000; text-decoration-color: #808000\">stop_mega</span>=<span style=\"color: #008080; text-decoration-color: #008080; font-weight: bold\">165</span>, <span style=\"color: #808000; text-decoration-color: #808000\">dtype</span>=<span style=\"color: #008000; text-decoration-color: #008000\">'dBm'</span>, <span style=\"color: #808000; text-decoration-color: #808000\">ndata</span>=<span style=\"color: #008080; text-decoration-color: #008080; font-weight: bold\">1024</span>, <span style=\"color: #808000; text-decoration-color: #808000\">bw</span>=<span style=\"color: #008080; text-decoration-color: #008080; font-weight: bold\">18457</span>, <span style=\"color: #808000; text-decoration-color: #808000\">processing</span>=<span style=\"color: #008000; text-decoration-color: #008000\">'peak'</span>, \n",
       "<span style=\"color: #808000; text-decoration-color: #808000\">antuid</span>=<span style=\"color: #008080; text-decoration-color: #008080; font-weight: bold\">0</span><span style=\"font-weight: bold\">)</span>, <span style=\"color: #800080; text-decoration-color: #800080; font-weight: bold\">Spectrum</span><span style=\"font-weight: bold\">(</span><span style=\"color: #808000; text-decoration-color: #808000\">type</span>=<span style=\"color: #008080; text-decoration-color: #008080; font-weight: bold\">67</span>, <span style=\"color: #808000; text-decoration-color: #808000\">thread_id</span>=<span style=\"color: #008080; text-decoration-color: #008080; font-weight: bold\">100</span>, <span style=\"color: #808000; text-decoration-color: #808000\">description</span>=<span style=\"color: #008000; text-decoration-color: #008000\">'PRD 2021 (Faixa principal 1 de 4).'</span>,\n",
       "<span style=\"color: #808000; text-decoration-color: #808000\">start_mega</span>=<span style=\"color: #008080; text-decoration-color: #008080; font-weight: bold\">50</span>, <span style=\"color: #808000; text-decoration-color: #808000\">stop_mega</span>=<span style=\"color: #008080; text-decoration-color: #008080; font-weight: bold\">90</span>, <span style=\"color: #808000; text-decoration-color: #808000\">dtype</span>=<span style=\"color: #008000; text-decoration-color: #008000\">'dBμV/m'</span>, <span style=\"color: #808000; text-decoration-color: #808000\">ndata</span>=<span style=\"color: #008080; text-decoration-color: #008080; font-weight: bold\">1024</span>, <span style=\"color: #808000; text-decoration-color: #808000\">bw</span>=<span style=\"color: #008080; text-decoration-color: #008080; font-weight: bold\">73828</span>, <span style=\"color: #808000; text-decoration-color: #808000\">processing</span>=<span style=\"color: #008000; text-decoration-color: #008000\">'peak'</span>, \n",
       "<span style=\"color: #808000; text-decoration-color: #808000\">antuid</span>=<span style=\"color: #008080; text-decoration-color: #008080; font-weight: bold\">0</span><span style=\"font-weight: bold\">)</span>, <span style=\"color: #800080; text-decoration-color: #800080; font-weight: bold\">Spectrum</span><span style=\"font-weight: bold\">(</span><span style=\"color: #808000; text-decoration-color: #808000\">type</span>=<span style=\"color: #008080; text-decoration-color: #008080; font-weight: bold\">67</span>, <span style=\"color: #808000; text-decoration-color: #808000\">thread_id</span>=<span style=\"color: #008080; text-decoration-color: #008080; font-weight: bold\">110</span>, <span style=\"color: #808000; text-decoration-color: #808000\">description</span>=<span style=\"color: #008000; text-decoration-color: #008000\">'PRD 2021 (Faixa principal 2 de 4).'</span>,\n",
       "<span style=\"color: #808000; text-decoration-color: #808000\">start_mega</span>=<span style=\"color: #008080; text-decoration-color: #008080; font-weight: bold\">70</span>, <span style=\"color: #808000; text-decoration-color: #808000\">stop_mega</span>=<span style=\"color: #008080; text-decoration-color: #008080; font-weight: bold\">110</span>, <span style=\"color: #808000; text-decoration-color: #808000\">dtype</span>=<span style=\"color: #008000; text-decoration-color: #008000\">'dBμV/m'</span>, <span style=\"color: #808000; text-decoration-color: #808000\">ndata</span>=<span style=\"color: #008080; text-decoration-color: #008080; font-weight: bold\">1024</span>, <span style=\"color: #808000; text-decoration-color: #808000\">bw</span>=<span style=\"color: #008080; text-decoration-color: #008080; font-weight: bold\">73828</span>, <span style=\"color: #808000; text-decoration-color: #808000\">processing</span>=<span style=\"color: #008000; text-decoration-color: #008000\">'peak'</span>, \n",
       "<span style=\"color: #808000; text-decoration-color: #808000\">antuid</span>=<span style=\"color: #008080; text-decoration-color: #008080; font-weight: bold\">0</span><span style=\"font-weight: bold\">)</span>, <span style=\"color: #800080; text-decoration-color: #800080; font-weight: bold\">Spectrum</span><span style=\"font-weight: bold\">(</span><span style=\"color: #808000; text-decoration-color: #808000\">type</span>=<span style=\"color: #008080; text-decoration-color: #008080; font-weight: bold\">67</span>, <span style=\"color: #808000; text-decoration-color: #808000\">thread_id</span>=<span style=\"color: #008080; text-decoration-color: #008080; font-weight: bold\">120</span>, <span style=\"color: #808000; text-decoration-color: #808000\">description</span>=<span style=\"color: #008000; text-decoration-color: #008000\">'PRD 2021 (Faixa principal 3 de 4).'</span>,\n",
       "<span style=\"color: #808000; text-decoration-color: #808000\">start_mega</span>=<span style=\"color: #008080; text-decoration-color: #008080; font-weight: bold\">170</span>, <span style=\"color: #808000; text-decoration-color: #808000\">stop_mega</span>=<span style=\"color: #008080; text-decoration-color: #008080; font-weight: bold\">220</span>, <span style=\"color: #808000; text-decoration-color: #808000\">dtype</span>=<span style=\"color: #008000; text-decoration-color: #008000\">'dBμV/m'</span>, <span style=\"color: #808000; text-decoration-color: #808000\">ndata</span>=<span style=\"color: #008080; text-decoration-color: #008080; font-weight: bold\">1280</span>, <span style=\"color: #808000; text-decoration-color: #808000\">bw</span>=<span style=\"color: #008080; text-decoration-color: #008080; font-weight: bold\">73828</span>, <span style=\"color: #808000; text-decoration-color: #808000\">processing</span>=<span style=\"color: #008000; text-decoration-color: #008000\">'peak'</span>, \n",
       "<span style=\"color: #808000; text-decoration-color: #808000\">antuid</span>=<span style=\"color: #008080; text-decoration-color: #008080; font-weight: bold\">0</span><span style=\"font-weight: bold\">)</span>, <span style=\"color: #800080; text-decoration-color: #800080; font-weight: bold\">Spectrum</span><span style=\"font-weight: bold\">(</span><span style=\"color: #808000; text-decoration-color: #808000\">type</span>=<span style=\"color: #008080; text-decoration-color: #008080; font-weight: bold\">67</span>, <span style=\"color: #808000; text-decoration-color: #808000\">thread_id</span>=<span style=\"color: #008080; text-decoration-color: #008080; font-weight: bold\">130</span>, <span style=\"color: #808000; text-decoration-color: #808000\">description</span>=<span style=\"color: #008000; text-decoration-color: #008000\">'PRD 2021 (Faixa principal 4 de 4).'</span>,\n",
       "<span style=\"color: #808000; text-decoration-color: #808000\">start_mega</span>=<span style=\"color: #008080; text-decoration-color: #008080; font-weight: bold\">470</span>, <span style=\"color: #808000; text-decoration-color: #808000\">stop_mega</span>=<span style=\"color: #008080; text-decoration-color: #008080; font-weight: bold\">700</span>, <span style=\"color: #808000; text-decoration-color: #808000\">dtype</span>=<span style=\"color: #008000; text-decoration-color: #008000\">'dBμV/m'</span>, <span style=\"color: #808000; text-decoration-color: #808000\">ndata</span>=<span style=\"color: #008080; text-decoration-color: #008080; font-weight: bold\">5888</span>, <span style=\"color: #808000; text-decoration-color: #808000\">bw</span>=<span style=\"color: #008080; text-decoration-color: #008080; font-weight: bold\">73828</span>, <span style=\"color: #808000; text-decoration-color: #808000\">processing</span>=<span style=\"color: #008000; text-decoration-color: #008000\">'peak'</span>, \n",
       "<span style=\"color: #808000; text-decoration-color: #808000\">antuid</span>=<span style=\"color: #008080; text-decoration-color: #008080; font-weight: bold\">0</span><span style=\"font-weight: bold\">)</span>, <span style=\"color: #800080; text-decoration-color: #800080; font-weight: bold\">Spectrum</span><span style=\"font-weight: bold\">(</span><span style=\"color: #808000; text-decoration-color: #808000\">type</span>=<span style=\"color: #008080; text-decoration-color: #008080; font-weight: bold\">67</span>, <span style=\"color: #808000; text-decoration-color: #808000\">thread_id</span>=<span style=\"color: #008080; text-decoration-color: #008080; font-weight: bold\">200</span>, <span style=\"color: #808000; text-decoration-color: #808000\">description</span>=<span style=\"color: #008000; text-decoration-color: #008000\">'PMEF 2021 (Faixa 1 de 6).'</span>, \n",
       "<span style=\"color: #808000; text-decoration-color: #808000\">start_mega</span>=<span style=\"color: #008080; text-decoration-color: #008080; font-weight: bold\">700</span>, <span style=\"color: #808000; text-decoration-color: #808000\">stop_mega</span>=<span style=\"color: #008080; text-decoration-color: #008080; font-weight: bold\">960</span>, <span style=\"color: #808000; text-decoration-color: #808000\">dtype</span>=<span style=\"color: #008000; text-decoration-color: #008000\">'dBm'</span>, <span style=\"color: #808000; text-decoration-color: #808000\">ndata</span>=<span style=\"color: #008080; text-decoration-color: #008080; font-weight: bold\">6656</span>, <span style=\"color: #808000; text-decoration-color: #808000\">bw</span>=<span style=\"color: #008080; text-decoration-color: #008080; font-weight: bold\">73828</span>, <span style=\"color: #808000; text-decoration-color: #808000\">processing</span>=<span style=\"color: #008000; text-decoration-color: #008000\">'peak'</span>, \n",
       "<span style=\"color: #808000; text-decoration-color: #808000\">antuid</span>=<span style=\"color: #008080; text-decoration-color: #008080; font-weight: bold\">0</span><span style=\"font-weight: bold\">)</span>, <span style=\"color: #800080; text-decoration-color: #800080; font-weight: bold\">Spectrum</span><span style=\"font-weight: bold\">(</span><span style=\"color: #808000; text-decoration-color: #808000\">type</span>=<span style=\"color: #008080; text-decoration-color: #008080; font-weight: bold\">67</span>, <span style=\"color: #808000; text-decoration-color: #808000\">thread_id</span>=<span style=\"color: #008080; text-decoration-color: #008080; font-weight: bold\">210</span>, <span style=\"color: #808000; text-decoration-color: #808000\">description</span>=<span style=\"color: #008000; text-decoration-color: #008000\">'PMEF 2021 (Faixa 2 de 6).'</span>, \n",
       "<span style=\"color: #808000; text-decoration-color: #808000\">start_mega</span>=<span style=\"color: #008080; text-decoration-color: #008080; font-weight: bold\">1710</span>, <span style=\"color: #808000; text-decoration-color: #808000\">stop_mega</span>=<span style=\"color: #008080; text-decoration-color: #008080; font-weight: bold\">1980</span>, <span style=\"color: #808000; text-decoration-color: #808000\">dtype</span>=<span style=\"color: #008000; text-decoration-color: #008000\">'dBm'</span>, <span style=\"color: #808000; text-decoration-color: #808000\">ndata</span>=<span style=\"color: #008080; text-decoration-color: #008080; font-weight: bold\">6912</span>, <span style=\"color: #808000; text-decoration-color: #808000\">bw</span>=<span style=\"color: #008080; text-decoration-color: #008080; font-weight: bold\">73828</span>, <span style=\"color: #808000; text-decoration-color: #808000\">processing</span>=<span style=\"color: #008000; text-decoration-color: #008000\">'peak'</span>, \n",
       "<span style=\"color: #808000; text-decoration-color: #808000\">antuid</span>=<span style=\"color: #008080; text-decoration-color: #008080; font-weight: bold\">0</span><span style=\"font-weight: bold\">)</span>, <span style=\"color: #800080; text-decoration-color: #800080; font-weight: bold\">Spectrum</span><span style=\"font-weight: bold\">(</span><span style=\"color: #808000; text-decoration-color: #808000\">type</span>=<span style=\"color: #008080; text-decoration-color: #008080; font-weight: bold\">67</span>, <span style=\"color: #808000; text-decoration-color: #808000\">thread_id</span>=<span style=\"color: #008080; text-decoration-color: #008080; font-weight: bold\">220</span>, <span style=\"color: #808000; text-decoration-color: #808000\">description</span>=<span style=\"color: #008000; text-decoration-color: #008000\">'PMEF 2021 (Faixa 3 de 6).'</span>, \n",
       "<span style=\"color: #808000; text-decoration-color: #808000\">start_mega</span>=<span style=\"color: #008080; text-decoration-color: #008080; font-weight: bold\">2100</span>, <span style=\"color: #808000; text-decoration-color: #808000\">stop_mega</span>=<span style=\"color: #008080; text-decoration-color: #008080; font-weight: bold\">2169</span>, <span style=\"color: #808000; text-decoration-color: #808000\">dtype</span>=<span style=\"color: #008000; text-decoration-color: #008000\">'dBm'</span>, <span style=\"color: #808000; text-decoration-color: #808000\">ndata</span>=<span style=\"color: #008080; text-decoration-color: #008080; font-weight: bold\">1792</span>, <span style=\"color: #808000; text-decoration-color: #808000\">bw</span>=<span style=\"color: #008080; text-decoration-color: #008080; font-weight: bold\">73828</span>, <span style=\"color: #808000; text-decoration-color: #808000\">processing</span>=<span style=\"color: #008000; text-decoration-color: #008000\">'peak'</span>, \n",
       "<span style=\"color: #808000; text-decoration-color: #808000\">antuid</span>=<span style=\"color: #008080; text-decoration-color: #008080; font-weight: bold\">0</span><span style=\"font-weight: bold\">)</span>, <span style=\"color: #800080; text-decoration-color: #800080; font-weight: bold\">Spectrum</span><span style=\"font-weight: bold\">(</span><span style=\"color: #808000; text-decoration-color: #808000\">type</span>=<span style=\"color: #008080; text-decoration-color: #008080; font-weight: bold\">67</span>, <span style=\"color: #808000; text-decoration-color: #808000\">thread_id</span>=<span style=\"color: #008080; text-decoration-color: #008080; font-weight: bold\">230</span>, <span style=\"color: #808000; text-decoration-color: #808000\">description</span>=<span style=\"color: #008000; text-decoration-color: #008000\">'PMEF 2021 (Faixa 4 de 6).'</span>, \n",
       "<span style=\"color: #808000; text-decoration-color: #808000\">start_mega</span>=<span style=\"color: #008080; text-decoration-color: #008080; font-weight: bold\">2290</span>, <span style=\"color: #808000; text-decoration-color: #808000\">stop_mega</span>=<span style=\"color: #008080; text-decoration-color: #008080; font-weight: bold\">2390</span>, <span style=\"color: #808000; text-decoration-color: #808000\">dtype</span>=<span style=\"color: #008000; text-decoration-color: #008000\">'dBm'</span>, <span style=\"color: #808000; text-decoration-color: #808000\">ndata</span>=<span style=\"color: #008080; text-decoration-color: #008080; font-weight: bold\">2560</span>, <span style=\"color: #808000; text-decoration-color: #808000\">bw</span>=<span style=\"color: #008080; text-decoration-color: #008080; font-weight: bold\">73828</span>, <span style=\"color: #808000; text-decoration-color: #808000\">processing</span>=<span style=\"color: #008000; text-decoration-color: #008000\">'peak'</span>, \n",
       "<span style=\"color: #808000; text-decoration-color: #808000\">antuid</span>=<span style=\"color: #008080; text-decoration-color: #008080; font-weight: bold\">0</span><span style=\"font-weight: bold\">)</span>, <span style=\"color: #800080; text-decoration-color: #800080; font-weight: bold\">Spectrum</span><span style=\"font-weight: bold\">(</span><span style=\"color: #808000; text-decoration-color: #808000\">type</span>=<span style=\"color: #008080; text-decoration-color: #008080; font-weight: bold\">67</span>, <span style=\"color: #808000; text-decoration-color: #808000\">thread_id</span>=<span style=\"color: #008080; text-decoration-color: #008080; font-weight: bold\">240</span>, <span style=\"color: #808000; text-decoration-color: #808000\">description</span>=<span style=\"color: #008000; text-decoration-color: #008000\">'PMEF 2021 (Faixa 5 de 6).'</span>, \n",
       "<span style=\"color: #808000; text-decoration-color: #808000\">start_mega</span>=<span style=\"color: #008080; text-decoration-color: #008080; font-weight: bold\">2500</span>, <span style=\"color: #808000; text-decoration-color: #808000\">stop_mega</span>=<span style=\"color: #008080; text-decoration-color: #008080; font-weight: bold\">2690</span>, <span style=\"color: #808000; text-decoration-color: #808000\">dtype</span>=<span style=\"color: #008000; text-decoration-color: #008000\">'dBm'</span>, <span style=\"color: #808000; text-decoration-color: #808000\">ndata</span>=<span style=\"color: #008080; text-decoration-color: #008080; font-weight: bold\">4864</span>, <span style=\"color: #808000; text-decoration-color: #808000\">bw</span>=<span style=\"color: #008080; text-decoration-color: #008080; font-weight: bold\">73828</span>, <span style=\"color: #808000; text-decoration-color: #808000\">processing</span>=<span style=\"color: #008000; text-decoration-color: #008000\">'peak'</span>, \n",
       "<span style=\"color: #808000; text-decoration-color: #808000\">antuid</span>=<span style=\"color: #008080; text-decoration-color: #008080; font-weight: bold\">0</span><span style=\"font-weight: bold\">)</span>, <span style=\"color: #800080; text-decoration-color: #800080; font-weight: bold\">Spectrum</span><span style=\"font-weight: bold\">(</span><span style=\"color: #808000; text-decoration-color: #808000\">type</span>=<span style=\"color: #008080; text-decoration-color: #008080; font-weight: bold\">67</span>, <span style=\"color: #808000; text-decoration-color: #808000\">thread_id</span>=<span style=\"color: #008080; text-decoration-color: #008080; font-weight: bold\">250</span>, <span style=\"color: #808000; text-decoration-color: #808000\">description</span>=<span style=\"color: #008000; text-decoration-color: #008000\">'PMEF 2021 (Faixa 6 de 6).'</span>, \n",
       "<span style=\"color: #808000; text-decoration-color: #808000\">start_mega</span>=<span style=\"color: #008080; text-decoration-color: #008080; font-weight: bold\">3290</span>, <span style=\"color: #808000; text-decoration-color: #808000\">stop_mega</span>=<span style=\"color: #008080; text-decoration-color: #008080; font-weight: bold\">3700</span>, <span style=\"color: #808000; text-decoration-color: #808000\">dtype</span>=<span style=\"color: #008000; text-decoration-color: #008000\">'dBm'</span>, <span style=\"color: #808000; text-decoration-color: #808000\">ndata</span>=<span style=\"color: #008080; text-decoration-color: #008080; font-weight: bold\">10496</span>, <span style=\"color: #808000; text-decoration-color: #808000\">bw</span>=<span style=\"color: #008080; text-decoration-color: #008080; font-weight: bold\">73828</span>, <span style=\"color: #808000; text-decoration-color: #808000\">processing</span>=<span style=\"color: #008000; text-decoration-color: #008000\">'peak'</span>, \n",
       "<span style=\"color: #808000; text-decoration-color: #808000\">antuid</span>=<span style=\"color: #008080; text-decoration-color: #008080; font-weight: bold\">0</span><span style=\"font-weight: bold\">)</span>, <span style=\"color: #800080; text-decoration-color: #800080; font-weight: bold\">Spectrum</span><span style=\"font-weight: bold\">(</span><span style=\"color: #808000; text-decoration-color: #808000\">type</span>=<span style=\"color: #008080; text-decoration-color: #008080; font-weight: bold\">67</span>, <span style=\"color: #808000; text-decoration-color: #808000\">thread_id</span>=<span style=\"color: #008080; text-decoration-color: #008080; font-weight: bold\">320</span>, <span style=\"color: #808000; text-decoration-color: #808000\">description</span>=<span style=\"color: #008000; text-decoration-color: #008000\">'PMEC 2021 (Faixa 3 de 10).'</span>, \n",
       "<span style=\"color: #808000; text-decoration-color: #808000\">start_mega</span>=<span style=\"color: #008080; text-decoration-color: #008080; font-weight: bold\">320</span>, <span style=\"color: #808000; text-decoration-color: #808000\">stop_mega</span>=<span style=\"color: #008080; text-decoration-color: #008080; font-weight: bold\">340</span>, <span style=\"color: #808000; text-decoration-color: #808000\">dtype</span>=<span style=\"color: #008000; text-decoration-color: #008000\">'dBm'</span>, <span style=\"color: #808000; text-decoration-color: #808000\">ndata</span>=<span style=\"color: #008080; text-decoration-color: #008080; font-weight: bold\">512</span>, <span style=\"color: #808000; text-decoration-color: #808000\">bw</span>=<span style=\"color: #008080; text-decoration-color: #008080; font-weight: bold\">73828</span>, <span style=\"color: #808000; text-decoration-color: #808000\">processing</span>=<span style=\"color: #008000; text-decoration-color: #008000\">'peak'</span>, \n",
       "<span style=\"color: #808000; text-decoration-color: #808000\">antuid</span>=<span style=\"color: #008080; text-decoration-color: #008080; font-weight: bold\">0</span><span style=\"font-weight: bold\">)</span>, <span style=\"color: #800080; text-decoration-color: #800080; font-weight: bold\">Spectrum</span><span style=\"font-weight: bold\">(</span><span style=\"color: #808000; text-decoration-color: #808000\">type</span>=<span style=\"color: #008080; text-decoration-color: #008080; font-weight: bold\">67</span>, <span style=\"color: #808000; text-decoration-color: #808000\">thread_id</span>=<span style=\"color: #008080; text-decoration-color: #008080; font-weight: bold\">330</span>, <span style=\"color: #808000; text-decoration-color: #808000\">description</span>=<span style=\"color: #008000; text-decoration-color: #008000\">'PMEC 2021 (Faixa 4 de 10).'</span>, \n",
       "<span style=\"color: #808000; text-decoration-color: #808000\">start_mega</span>=<span style=\"color: #008080; text-decoration-color: #008080; font-weight: bold\">400</span>, <span style=\"color: #808000; text-decoration-color: #808000\">stop_mega</span>=<span style=\"color: #008080; text-decoration-color: #008080; font-weight: bold\">410</span>, <span style=\"color: #808000; text-decoration-color: #808000\">dtype</span>=<span style=\"color: #008000; text-decoration-color: #008000\">'dBm'</span>, <span style=\"color: #808000; text-decoration-color: #808000\">ndata</span>=<span style=\"color: #008080; text-decoration-color: #008080; font-weight: bold\">256</span>, <span style=\"color: #808000; text-decoration-color: #808000\">bw</span>=<span style=\"color: #008080; text-decoration-color: #008080; font-weight: bold\">73828</span>, <span style=\"color: #808000; text-decoration-color: #808000\">processing</span>=<span style=\"color: #008000; text-decoration-color: #008000\">'peak'</span>, \n",
       "<span style=\"color: #808000; text-decoration-color: #808000\">antuid</span>=<span style=\"color: #008080; text-decoration-color: #008080; font-weight: bold\">0</span><span style=\"font-weight: bold\">)</span>, <span style=\"color: #800080; text-decoration-color: #800080; font-weight: bold\">Spectrum</span><span style=\"font-weight: bold\">(</span><span style=\"color: #808000; text-decoration-color: #808000\">type</span>=<span style=\"color: #008080; text-decoration-color: #008080; font-weight: bold\">67</span>, <span style=\"color: #808000; text-decoration-color: #808000\">thread_id</span>=<span style=\"color: #008080; text-decoration-color: #008080; font-weight: bold\">340</span>, <span style=\"color: #808000; text-decoration-color: #808000\">description</span>=<span style=\"color: #008000; text-decoration-color: #008000\">'PMEC 2021 (Faixa 5 de 10).'</span>, \n",
       "<span style=\"color: #808000; text-decoration-color: #808000\">start_mega</span>=<span style=\"color: #008080; text-decoration-color: #008080; font-weight: bold\">960</span>, <span style=\"color: #808000; text-decoration-color: #808000\">stop_mega</span>=<span style=\"color: #008080; text-decoration-color: #008080; font-weight: bold\">1219</span>, <span style=\"color: #808000; text-decoration-color: #808000\">dtype</span>=<span style=\"color: #008000; text-decoration-color: #008000\">'dBm'</span>, <span style=\"color: #808000; text-decoration-color: #808000\">ndata</span>=<span style=\"color: #008080; text-decoration-color: #008080; font-weight: bold\">6656</span>, <span style=\"color: #808000; text-decoration-color: #808000\">bw</span>=<span style=\"color: #008080; text-decoration-color: #008080; font-weight: bold\">73828</span>, <span style=\"color: #808000; text-decoration-color: #808000\">processing</span>=<span style=\"color: #008000; text-decoration-color: #008000\">'peak'</span>, \n",
       "<span style=\"color: #808000; text-decoration-color: #808000\">antuid</span>=<span style=\"color: #008080; text-decoration-color: #008080; font-weight: bold\">0</span><span style=\"font-weight: bold\">)</span>, <span style=\"color: #800080; text-decoration-color: #800080; font-weight: bold\">Spectrum</span><span style=\"font-weight: bold\">(</span><span style=\"color: #808000; text-decoration-color: #808000\">type</span>=<span style=\"color: #008080; text-decoration-color: #008080; font-weight: bold\">67</span>, <span style=\"color: #808000; text-decoration-color: #808000\">thread_id</span>=<span style=\"color: #008080; text-decoration-color: #008080; font-weight: bold\">350</span>, <span style=\"color: #808000; text-decoration-color: #808000\">description</span>=<span style=\"color: #008000; text-decoration-color: #008000\">'PMEC 2021 (Faixa 6 de 10).'</span>, \n",
       "<span style=\"color: #808000; text-decoration-color: #808000\">start_mega</span>=<span style=\"color: #008080; text-decoration-color: #008080; font-weight: bold\">1389</span>, <span style=\"color: #808000; text-decoration-color: #808000\">stop_mega</span>=<span style=\"color: #008080; text-decoration-color: #008080; font-weight: bold\">1429</span>, <span style=\"color: #808000; text-decoration-color: #808000\">dtype</span>=<span style=\"color: #008000; text-decoration-color: #008000\">'dBm'</span>, <span style=\"color: #808000; text-decoration-color: #808000\">ndata</span>=<span style=\"color: #008080; text-decoration-color: #008080; font-weight: bold\">1280</span>, <span style=\"color: #808000; text-decoration-color: #808000\">bw</span>=<span style=\"color: #008080; text-decoration-color: #008080; font-weight: bold\">73828</span>, <span style=\"color: #808000; text-decoration-color: #808000\">processing</span>=<span style=\"color: #008000; text-decoration-color: #008000\">'peak'</span>, \n",
       "<span style=\"color: #808000; text-decoration-color: #808000\">antuid</span>=<span style=\"color: #008080; text-decoration-color: #008080; font-weight: bold\">0</span><span style=\"font-weight: bold\">)</span>, <span style=\"color: #800080; text-decoration-color: #800080; font-weight: bold\">Spectrum</span><span style=\"font-weight: bold\">(</span><span style=\"color: #808000; text-decoration-color: #808000\">type</span>=<span style=\"color: #008080; text-decoration-color: #008080; font-weight: bold\">67</span>, <span style=\"color: #808000; text-decoration-color: #808000\">thread_id</span>=<span style=\"color: #008080; text-decoration-color: #008080; font-weight: bold\">360</span>, <span style=\"color: #808000; text-decoration-color: #808000\">description</span>=<span style=\"color: #008000; text-decoration-color: #008000\">'PMEC 2021 (Faixa 7 de 10).'</span>, \n",
       "<span style=\"color: #808000; text-decoration-color: #808000\">start_mega</span>=<span style=\"color: #008080; text-decoration-color: #008080; font-weight: bold\">1530</span>, <span style=\"color: #808000; text-decoration-color: #808000\">stop_mega</span>=<span style=\"color: #008080; text-decoration-color: #008080; font-weight: bold\">1649</span>, <span style=\"color: #808000; text-decoration-color: #808000\">dtype</span>=<span style=\"color: #008000; text-decoration-color: #008000\">'dBm'</span>, <span style=\"color: #808000; text-decoration-color: #808000\">ndata</span>=<span style=\"color: #008080; text-decoration-color: #008080; font-weight: bold\">3072</span>, <span style=\"color: #808000; text-decoration-color: #808000\">bw</span>=<span style=\"color: #008080; text-decoration-color: #008080; font-weight: bold\">73828</span>, <span style=\"color: #808000; text-decoration-color: #808000\">processing</span>=<span style=\"color: #008000; text-decoration-color: #008000\">'peak'</span>, \n",
       "<span style=\"color: #808000; text-decoration-color: #808000\">antuid</span>=<span style=\"color: #008080; text-decoration-color: #008080; font-weight: bold\">0</span><span style=\"font-weight: bold\">)</span>, <span style=\"color: #800080; text-decoration-color: #800080; font-weight: bold\">Spectrum</span><span style=\"font-weight: bold\">(</span><span style=\"color: #808000; text-decoration-color: #808000\">type</span>=<span style=\"color: #008080; text-decoration-color: #008080; font-weight: bold\">67</span>, <span style=\"color: #808000; text-decoration-color: #808000\">thread_id</span>=<span style=\"color: #008080; text-decoration-color: #008080; font-weight: bold\">370</span>, <span style=\"color: #808000; text-decoration-color: #808000\">description</span>=<span style=\"color: #008000; text-decoration-color: #008000\">'PMEC 2021 (Faixa 8 de 10).'</span>, \n",
       "<span style=\"color: #808000; text-decoration-color: #808000\">start_mega</span>=<span style=\"color: #008080; text-decoration-color: #008080; font-weight: bold\">2690</span>, <span style=\"color: #808000; text-decoration-color: #808000\">stop_mega</span>=<span style=\"color: #008080; text-decoration-color: #008080; font-weight: bold\">2899</span>, <span style=\"color: #808000; text-decoration-color: #808000\">dtype</span>=<span style=\"color: #008000; text-decoration-color: #008000\">'dBm'</span>, <span style=\"color: #808000; text-decoration-color: #808000\">ndata</span>=<span style=\"color: #008080; text-decoration-color: #008080; font-weight: bold\">5376</span>, <span style=\"color: #808000; text-decoration-color: #808000\">bw</span>=<span style=\"color: #008080; text-decoration-color: #008080; font-weight: bold\">73828</span>, <span style=\"color: #808000; text-decoration-color: #808000\">processing</span>=<span style=\"color: #008000; text-decoration-color: #008000\">'peak'</span>, \n",
       "<span style=\"color: #808000; text-decoration-color: #808000\">antuid</span>=<span style=\"color: #008080; text-decoration-color: #008080; font-weight: bold\">0</span><span style=\"font-weight: bold\">)</span>, <span style=\"color: #800080; text-decoration-color: #800080; font-weight: bold\">Spectrum</span><span style=\"font-weight: bold\">(</span><span style=\"color: #808000; text-decoration-color: #808000\">type</span>=<span style=\"color: #008080; text-decoration-color: #008080; font-weight: bold\">67</span>, <span style=\"color: #808000; text-decoration-color: #808000\">thread_id</span>=<span style=\"color: #008080; text-decoration-color: #008080; font-weight: bold\">380</span>, <span style=\"color: #808000; text-decoration-color: #808000\">description</span>=<span style=\"color: #008000; text-decoration-color: #008000\">'PMEC 2021 (Faixa 9 de 10).'</span>, \n",
       "<span style=\"color: #808000; text-decoration-color: #808000\">start_mega</span>=<span style=\"color: #008080; text-decoration-color: #008080; font-weight: bold\">5000</span>, <span style=\"color: #808000; text-decoration-color: #808000\">stop_mega</span>=<span style=\"color: #008080; text-decoration-color: #008080; font-weight: bold\">5160</span>, <span style=\"color: #808000; text-decoration-color: #808000\">dtype</span>=<span style=\"color: #008000; text-decoration-color: #008000\">'dBm'</span>, <span style=\"color: #808000; text-decoration-color: #808000\">ndata</span>=<span style=\"color: #008080; text-decoration-color: #008080; font-weight: bold\">4096</span>, <span style=\"color: #808000; text-decoration-color: #808000\">bw</span>=<span style=\"color: #008080; text-decoration-color: #008080; font-weight: bold\">73828</span>, <span style=\"color: #808000; text-decoration-color: #808000\">processing</span>=<span style=\"color: #008000; text-decoration-color: #008000\">'peak'</span>, \n",
       "<span style=\"color: #808000; text-decoration-color: #808000\">antuid</span>=<span style=\"color: #008080; text-decoration-color: #008080; font-weight: bold\">0</span><span style=\"font-weight: bold\">)</span>, <span style=\"color: #800080; text-decoration-color: #800080; font-weight: bold\">Spectrum</span><span style=\"font-weight: bold\">(</span><span style=\"color: #808000; text-decoration-color: #808000\">type</span>=<span style=\"color: #008080; text-decoration-color: #008080; font-weight: bold\">67</span>, <span style=\"color: #808000; text-decoration-color: #808000\">thread_id</span>=<span style=\"color: #008080; text-decoration-color: #008080; font-weight: bold\">390</span>, <span style=\"color: #808000; text-decoration-color: #808000\">description</span>=<span style=\"color: #008000; text-decoration-color: #008000\">'PMEC 2021 (Faixa 10 de 10).'</span>, \n",
       "<span style=\"color: #808000; text-decoration-color: #808000\">start_mega</span>=<span style=\"color: #008080; text-decoration-color: #008080; font-weight: bold\">5339</span>, <span style=\"color: #808000; text-decoration-color: #808000\">stop_mega</span>=<span style=\"color: #008080; text-decoration-color: #008080; font-weight: bold\">5459</span>, <span style=\"color: #808000; text-decoration-color: #808000\">dtype</span>=<span style=\"color: #008000; text-decoration-color: #008000\">'dBm'</span>, <span style=\"color: #808000; text-decoration-color: #808000\">ndata</span>=<span style=\"color: #008080; text-decoration-color: #008080; font-weight: bold\">3328</span>, <span style=\"color: #808000; text-decoration-color: #808000\">bw</span>=<span style=\"color: #008080; text-decoration-color: #008080; font-weight: bold\">73828</span>, <span style=\"color: #808000; text-decoration-color: #808000\">processing</span>=<span style=\"color: #008000; text-decoration-color: #008000\">'peak'</span>, \n",
       "<span style=\"color: #808000; text-decoration-color: #808000\">antuid</span>=<span style=\"color: #008080; text-decoration-color: #008080; font-weight: bold\">0</span><span style=\"font-weight: bold\">)]</span>\n",
       "<span style=\"font-weight: bold\">}</span>\n",
       "</pre>\n"
      ],
      "text/plain": [
       "\u001b[1m{\u001b[0m\n",
       "    \u001b[32m'filename'\u001b[0m: \u001b[32m'rfeye002092_210630_T094705.bin'\u001b[0m,\n",
       "    \u001b[32m'file_version'\u001b[0m: \u001b[1;36m23\u001b[0m,\n",
       "    \u001b[32m'string'\u001b[0m: \u001b[32m'CRFS DATA FILE V023'\u001b[0m,\n",
       "    \u001b[32m'hostname'\u001b[0m: \u001b[32m'rfeye002092'\u001b[0m,\n",
       "    \u001b[32m'method'\u001b[0m: \u001b[32m'ScriptRFeye2021_v2.cfg'\u001b[0m,\n",
       "    \u001b[32m'unit_info'\u001b[0m: \u001b[32m'Stationary'\u001b[0m,\n",
       "    \u001b[32m'file_number'\u001b[0m: \u001b[1;36m0\u001b[0m,\n",
       "    \u001b[32m'identifier'\u001b[0m: \u001b[32m'INFO'\u001b[0m,\n",
       "    \u001b[32m'gps'\u001b[0m: GPS Data - Median of Coordinates: \u001b[1;36m-12.82684\u001b[0m:\u001b[1;36m-38.47805\u001b[0m Altitude: \u001b[1;36m120.80\u001b[0m \n",
       "#Satellites: \u001b[1;36m12.0\u001b[0m,\n",
       "    \u001b[32m'spectrum'\u001b[0m: \u001b[1m[\u001b[0m\u001b[1;35mSpectrum\u001b[0m\u001b[1m(\u001b[0m\u001b[33mtype\u001b[0m=\u001b[1;36m67\u001b[0m, \u001b[33mthread_id\u001b[0m=\u001b[1;36m300\u001b[0m, \u001b[33mdescription\u001b[0m=\u001b[32m'PMEC 2021 \u001b[0m\u001b[32m(\u001b[0m\u001b[32mFaixa 1 de 10\u001b[0m\u001b[32m)\u001b[0m\u001b[32m.'\u001b[0m, \n",
       "\u001b[33mstart_mega\u001b[0m=\u001b[1;36m105\u001b[0m, \u001b[33mstop_mega\u001b[0m=\u001b[1;36m140\u001b[0m, \u001b[33mdtype\u001b[0m=\u001b[32m'dBm'\u001b[0m, \u001b[33mndata\u001b[0m=\u001b[1;36m3584\u001b[0m, \u001b[33mbw\u001b[0m=\u001b[1;36m18457\u001b[0m, \u001b[33mprocessing\u001b[0m=\u001b[32m'peak'\u001b[0m, \n",
       "\u001b[33mantuid\u001b[0m=\u001b[1;36m0\u001b[0m\u001b[1m)\u001b[0m, \u001b[1;35mSpectrum\u001b[0m\u001b[1m(\u001b[0m\u001b[33mtype\u001b[0m=\u001b[1;36m67\u001b[0m, \u001b[33mthread_id\u001b[0m=\u001b[1;36m310\u001b[0m, \u001b[33mdescription\u001b[0m=\u001b[32m'PMEC 2021 \u001b[0m\u001b[32m(\u001b[0m\u001b[32mFaixa 2 de 10\u001b[0m\u001b[32m)\u001b[0m\u001b[32m.'\u001b[0m, \n",
       "\u001b[33mstart_mega\u001b[0m=\u001b[1;36m155\u001b[0m, \u001b[33mstop_mega\u001b[0m=\u001b[1;36m165\u001b[0m, \u001b[33mdtype\u001b[0m=\u001b[32m'dBm'\u001b[0m, \u001b[33mndata\u001b[0m=\u001b[1;36m1024\u001b[0m, \u001b[33mbw\u001b[0m=\u001b[1;36m18457\u001b[0m, \u001b[33mprocessing\u001b[0m=\u001b[32m'peak'\u001b[0m, \n",
       "\u001b[33mantuid\u001b[0m=\u001b[1;36m0\u001b[0m\u001b[1m)\u001b[0m, \u001b[1;35mSpectrum\u001b[0m\u001b[1m(\u001b[0m\u001b[33mtype\u001b[0m=\u001b[1;36m67\u001b[0m, \u001b[33mthread_id\u001b[0m=\u001b[1;36m100\u001b[0m, \u001b[33mdescription\u001b[0m=\u001b[32m'PRD 2021 \u001b[0m\u001b[32m(\u001b[0m\u001b[32mFaixa principal 1 de 4\u001b[0m\u001b[32m)\u001b[0m\u001b[32m.'\u001b[0m,\n",
       "\u001b[33mstart_mega\u001b[0m=\u001b[1;36m50\u001b[0m, \u001b[33mstop_mega\u001b[0m=\u001b[1;36m90\u001b[0m, \u001b[33mdtype\u001b[0m=\u001b[32m'dBμV/m'\u001b[0m, \u001b[33mndata\u001b[0m=\u001b[1;36m1024\u001b[0m, \u001b[33mbw\u001b[0m=\u001b[1;36m73828\u001b[0m, \u001b[33mprocessing\u001b[0m=\u001b[32m'peak'\u001b[0m, \n",
       "\u001b[33mantuid\u001b[0m=\u001b[1;36m0\u001b[0m\u001b[1m)\u001b[0m, \u001b[1;35mSpectrum\u001b[0m\u001b[1m(\u001b[0m\u001b[33mtype\u001b[0m=\u001b[1;36m67\u001b[0m, \u001b[33mthread_id\u001b[0m=\u001b[1;36m110\u001b[0m, \u001b[33mdescription\u001b[0m=\u001b[32m'PRD 2021 \u001b[0m\u001b[32m(\u001b[0m\u001b[32mFaixa principal 2 de 4\u001b[0m\u001b[32m)\u001b[0m\u001b[32m.'\u001b[0m,\n",
       "\u001b[33mstart_mega\u001b[0m=\u001b[1;36m70\u001b[0m, \u001b[33mstop_mega\u001b[0m=\u001b[1;36m110\u001b[0m, \u001b[33mdtype\u001b[0m=\u001b[32m'dBμV/m'\u001b[0m, \u001b[33mndata\u001b[0m=\u001b[1;36m1024\u001b[0m, \u001b[33mbw\u001b[0m=\u001b[1;36m73828\u001b[0m, \u001b[33mprocessing\u001b[0m=\u001b[32m'peak'\u001b[0m, \n",
       "\u001b[33mantuid\u001b[0m=\u001b[1;36m0\u001b[0m\u001b[1m)\u001b[0m, \u001b[1;35mSpectrum\u001b[0m\u001b[1m(\u001b[0m\u001b[33mtype\u001b[0m=\u001b[1;36m67\u001b[0m, \u001b[33mthread_id\u001b[0m=\u001b[1;36m120\u001b[0m, \u001b[33mdescription\u001b[0m=\u001b[32m'PRD 2021 \u001b[0m\u001b[32m(\u001b[0m\u001b[32mFaixa principal 3 de 4\u001b[0m\u001b[32m)\u001b[0m\u001b[32m.'\u001b[0m,\n",
       "\u001b[33mstart_mega\u001b[0m=\u001b[1;36m170\u001b[0m, \u001b[33mstop_mega\u001b[0m=\u001b[1;36m220\u001b[0m, \u001b[33mdtype\u001b[0m=\u001b[32m'dBμV/m'\u001b[0m, \u001b[33mndata\u001b[0m=\u001b[1;36m1280\u001b[0m, \u001b[33mbw\u001b[0m=\u001b[1;36m73828\u001b[0m, \u001b[33mprocessing\u001b[0m=\u001b[32m'peak'\u001b[0m, \n",
       "\u001b[33mantuid\u001b[0m=\u001b[1;36m0\u001b[0m\u001b[1m)\u001b[0m, \u001b[1;35mSpectrum\u001b[0m\u001b[1m(\u001b[0m\u001b[33mtype\u001b[0m=\u001b[1;36m67\u001b[0m, \u001b[33mthread_id\u001b[0m=\u001b[1;36m130\u001b[0m, \u001b[33mdescription\u001b[0m=\u001b[32m'PRD 2021 \u001b[0m\u001b[32m(\u001b[0m\u001b[32mFaixa principal 4 de 4\u001b[0m\u001b[32m)\u001b[0m\u001b[32m.'\u001b[0m,\n",
       "\u001b[33mstart_mega\u001b[0m=\u001b[1;36m470\u001b[0m, \u001b[33mstop_mega\u001b[0m=\u001b[1;36m700\u001b[0m, \u001b[33mdtype\u001b[0m=\u001b[32m'dBμV/m'\u001b[0m, \u001b[33mndata\u001b[0m=\u001b[1;36m5888\u001b[0m, \u001b[33mbw\u001b[0m=\u001b[1;36m73828\u001b[0m, \u001b[33mprocessing\u001b[0m=\u001b[32m'peak'\u001b[0m, \n",
       "\u001b[33mantuid\u001b[0m=\u001b[1;36m0\u001b[0m\u001b[1m)\u001b[0m, \u001b[1;35mSpectrum\u001b[0m\u001b[1m(\u001b[0m\u001b[33mtype\u001b[0m=\u001b[1;36m67\u001b[0m, \u001b[33mthread_id\u001b[0m=\u001b[1;36m200\u001b[0m, \u001b[33mdescription\u001b[0m=\u001b[32m'PMEF 2021 \u001b[0m\u001b[32m(\u001b[0m\u001b[32mFaixa 1 de 6\u001b[0m\u001b[32m)\u001b[0m\u001b[32m.'\u001b[0m, \n",
       "\u001b[33mstart_mega\u001b[0m=\u001b[1;36m700\u001b[0m, \u001b[33mstop_mega\u001b[0m=\u001b[1;36m960\u001b[0m, \u001b[33mdtype\u001b[0m=\u001b[32m'dBm'\u001b[0m, \u001b[33mndata\u001b[0m=\u001b[1;36m6656\u001b[0m, \u001b[33mbw\u001b[0m=\u001b[1;36m73828\u001b[0m, \u001b[33mprocessing\u001b[0m=\u001b[32m'peak'\u001b[0m, \n",
       "\u001b[33mantuid\u001b[0m=\u001b[1;36m0\u001b[0m\u001b[1m)\u001b[0m, \u001b[1;35mSpectrum\u001b[0m\u001b[1m(\u001b[0m\u001b[33mtype\u001b[0m=\u001b[1;36m67\u001b[0m, \u001b[33mthread_id\u001b[0m=\u001b[1;36m210\u001b[0m, \u001b[33mdescription\u001b[0m=\u001b[32m'PMEF 2021 \u001b[0m\u001b[32m(\u001b[0m\u001b[32mFaixa 2 de 6\u001b[0m\u001b[32m)\u001b[0m\u001b[32m.'\u001b[0m, \n",
       "\u001b[33mstart_mega\u001b[0m=\u001b[1;36m1710\u001b[0m, \u001b[33mstop_mega\u001b[0m=\u001b[1;36m1980\u001b[0m, \u001b[33mdtype\u001b[0m=\u001b[32m'dBm'\u001b[0m, \u001b[33mndata\u001b[0m=\u001b[1;36m6912\u001b[0m, \u001b[33mbw\u001b[0m=\u001b[1;36m73828\u001b[0m, \u001b[33mprocessing\u001b[0m=\u001b[32m'peak'\u001b[0m, \n",
       "\u001b[33mantuid\u001b[0m=\u001b[1;36m0\u001b[0m\u001b[1m)\u001b[0m, \u001b[1;35mSpectrum\u001b[0m\u001b[1m(\u001b[0m\u001b[33mtype\u001b[0m=\u001b[1;36m67\u001b[0m, \u001b[33mthread_id\u001b[0m=\u001b[1;36m220\u001b[0m, \u001b[33mdescription\u001b[0m=\u001b[32m'PMEF 2021 \u001b[0m\u001b[32m(\u001b[0m\u001b[32mFaixa 3 de 6\u001b[0m\u001b[32m)\u001b[0m\u001b[32m.'\u001b[0m, \n",
       "\u001b[33mstart_mega\u001b[0m=\u001b[1;36m2100\u001b[0m, \u001b[33mstop_mega\u001b[0m=\u001b[1;36m2169\u001b[0m, \u001b[33mdtype\u001b[0m=\u001b[32m'dBm'\u001b[0m, \u001b[33mndata\u001b[0m=\u001b[1;36m1792\u001b[0m, \u001b[33mbw\u001b[0m=\u001b[1;36m73828\u001b[0m, \u001b[33mprocessing\u001b[0m=\u001b[32m'peak'\u001b[0m, \n",
       "\u001b[33mantuid\u001b[0m=\u001b[1;36m0\u001b[0m\u001b[1m)\u001b[0m, \u001b[1;35mSpectrum\u001b[0m\u001b[1m(\u001b[0m\u001b[33mtype\u001b[0m=\u001b[1;36m67\u001b[0m, \u001b[33mthread_id\u001b[0m=\u001b[1;36m230\u001b[0m, \u001b[33mdescription\u001b[0m=\u001b[32m'PMEF 2021 \u001b[0m\u001b[32m(\u001b[0m\u001b[32mFaixa 4 de 6\u001b[0m\u001b[32m)\u001b[0m\u001b[32m.'\u001b[0m, \n",
       "\u001b[33mstart_mega\u001b[0m=\u001b[1;36m2290\u001b[0m, \u001b[33mstop_mega\u001b[0m=\u001b[1;36m2390\u001b[0m, \u001b[33mdtype\u001b[0m=\u001b[32m'dBm'\u001b[0m, \u001b[33mndata\u001b[0m=\u001b[1;36m2560\u001b[0m, \u001b[33mbw\u001b[0m=\u001b[1;36m73828\u001b[0m, \u001b[33mprocessing\u001b[0m=\u001b[32m'peak'\u001b[0m, \n",
       "\u001b[33mantuid\u001b[0m=\u001b[1;36m0\u001b[0m\u001b[1m)\u001b[0m, \u001b[1;35mSpectrum\u001b[0m\u001b[1m(\u001b[0m\u001b[33mtype\u001b[0m=\u001b[1;36m67\u001b[0m, \u001b[33mthread_id\u001b[0m=\u001b[1;36m240\u001b[0m, \u001b[33mdescription\u001b[0m=\u001b[32m'PMEF 2021 \u001b[0m\u001b[32m(\u001b[0m\u001b[32mFaixa 5 de 6\u001b[0m\u001b[32m)\u001b[0m\u001b[32m.'\u001b[0m, \n",
       "\u001b[33mstart_mega\u001b[0m=\u001b[1;36m2500\u001b[0m, \u001b[33mstop_mega\u001b[0m=\u001b[1;36m2690\u001b[0m, \u001b[33mdtype\u001b[0m=\u001b[32m'dBm'\u001b[0m, \u001b[33mndata\u001b[0m=\u001b[1;36m4864\u001b[0m, \u001b[33mbw\u001b[0m=\u001b[1;36m73828\u001b[0m, \u001b[33mprocessing\u001b[0m=\u001b[32m'peak'\u001b[0m, \n",
       "\u001b[33mantuid\u001b[0m=\u001b[1;36m0\u001b[0m\u001b[1m)\u001b[0m, \u001b[1;35mSpectrum\u001b[0m\u001b[1m(\u001b[0m\u001b[33mtype\u001b[0m=\u001b[1;36m67\u001b[0m, \u001b[33mthread_id\u001b[0m=\u001b[1;36m250\u001b[0m, \u001b[33mdescription\u001b[0m=\u001b[32m'PMEF 2021 \u001b[0m\u001b[32m(\u001b[0m\u001b[32mFaixa 6 de 6\u001b[0m\u001b[32m)\u001b[0m\u001b[32m.'\u001b[0m, \n",
       "\u001b[33mstart_mega\u001b[0m=\u001b[1;36m3290\u001b[0m, \u001b[33mstop_mega\u001b[0m=\u001b[1;36m3700\u001b[0m, \u001b[33mdtype\u001b[0m=\u001b[32m'dBm'\u001b[0m, \u001b[33mndata\u001b[0m=\u001b[1;36m10496\u001b[0m, \u001b[33mbw\u001b[0m=\u001b[1;36m73828\u001b[0m, \u001b[33mprocessing\u001b[0m=\u001b[32m'peak'\u001b[0m, \n",
       "\u001b[33mantuid\u001b[0m=\u001b[1;36m0\u001b[0m\u001b[1m)\u001b[0m, \u001b[1;35mSpectrum\u001b[0m\u001b[1m(\u001b[0m\u001b[33mtype\u001b[0m=\u001b[1;36m67\u001b[0m, \u001b[33mthread_id\u001b[0m=\u001b[1;36m320\u001b[0m, \u001b[33mdescription\u001b[0m=\u001b[32m'PMEC 2021 \u001b[0m\u001b[32m(\u001b[0m\u001b[32mFaixa 3 de 10\u001b[0m\u001b[32m)\u001b[0m\u001b[32m.'\u001b[0m, \n",
       "\u001b[33mstart_mega\u001b[0m=\u001b[1;36m320\u001b[0m, \u001b[33mstop_mega\u001b[0m=\u001b[1;36m340\u001b[0m, \u001b[33mdtype\u001b[0m=\u001b[32m'dBm'\u001b[0m, \u001b[33mndata\u001b[0m=\u001b[1;36m512\u001b[0m, \u001b[33mbw\u001b[0m=\u001b[1;36m73828\u001b[0m, \u001b[33mprocessing\u001b[0m=\u001b[32m'peak'\u001b[0m, \n",
       "\u001b[33mantuid\u001b[0m=\u001b[1;36m0\u001b[0m\u001b[1m)\u001b[0m, \u001b[1;35mSpectrum\u001b[0m\u001b[1m(\u001b[0m\u001b[33mtype\u001b[0m=\u001b[1;36m67\u001b[0m, \u001b[33mthread_id\u001b[0m=\u001b[1;36m330\u001b[0m, \u001b[33mdescription\u001b[0m=\u001b[32m'PMEC 2021 \u001b[0m\u001b[32m(\u001b[0m\u001b[32mFaixa 4 de 10\u001b[0m\u001b[32m)\u001b[0m\u001b[32m.'\u001b[0m, \n",
       "\u001b[33mstart_mega\u001b[0m=\u001b[1;36m400\u001b[0m, \u001b[33mstop_mega\u001b[0m=\u001b[1;36m410\u001b[0m, \u001b[33mdtype\u001b[0m=\u001b[32m'dBm'\u001b[0m, \u001b[33mndata\u001b[0m=\u001b[1;36m256\u001b[0m, \u001b[33mbw\u001b[0m=\u001b[1;36m73828\u001b[0m, \u001b[33mprocessing\u001b[0m=\u001b[32m'peak'\u001b[0m, \n",
       "\u001b[33mantuid\u001b[0m=\u001b[1;36m0\u001b[0m\u001b[1m)\u001b[0m, \u001b[1;35mSpectrum\u001b[0m\u001b[1m(\u001b[0m\u001b[33mtype\u001b[0m=\u001b[1;36m67\u001b[0m, \u001b[33mthread_id\u001b[0m=\u001b[1;36m340\u001b[0m, \u001b[33mdescription\u001b[0m=\u001b[32m'PMEC 2021 \u001b[0m\u001b[32m(\u001b[0m\u001b[32mFaixa 5 de 10\u001b[0m\u001b[32m)\u001b[0m\u001b[32m.'\u001b[0m, \n",
       "\u001b[33mstart_mega\u001b[0m=\u001b[1;36m960\u001b[0m, \u001b[33mstop_mega\u001b[0m=\u001b[1;36m1219\u001b[0m, \u001b[33mdtype\u001b[0m=\u001b[32m'dBm'\u001b[0m, \u001b[33mndata\u001b[0m=\u001b[1;36m6656\u001b[0m, \u001b[33mbw\u001b[0m=\u001b[1;36m73828\u001b[0m, \u001b[33mprocessing\u001b[0m=\u001b[32m'peak'\u001b[0m, \n",
       "\u001b[33mantuid\u001b[0m=\u001b[1;36m0\u001b[0m\u001b[1m)\u001b[0m, \u001b[1;35mSpectrum\u001b[0m\u001b[1m(\u001b[0m\u001b[33mtype\u001b[0m=\u001b[1;36m67\u001b[0m, \u001b[33mthread_id\u001b[0m=\u001b[1;36m350\u001b[0m, \u001b[33mdescription\u001b[0m=\u001b[32m'PMEC 2021 \u001b[0m\u001b[32m(\u001b[0m\u001b[32mFaixa 6 de 10\u001b[0m\u001b[32m)\u001b[0m\u001b[32m.'\u001b[0m, \n",
       "\u001b[33mstart_mega\u001b[0m=\u001b[1;36m1389\u001b[0m, \u001b[33mstop_mega\u001b[0m=\u001b[1;36m1429\u001b[0m, \u001b[33mdtype\u001b[0m=\u001b[32m'dBm'\u001b[0m, \u001b[33mndata\u001b[0m=\u001b[1;36m1280\u001b[0m, \u001b[33mbw\u001b[0m=\u001b[1;36m73828\u001b[0m, \u001b[33mprocessing\u001b[0m=\u001b[32m'peak'\u001b[0m, \n",
       "\u001b[33mantuid\u001b[0m=\u001b[1;36m0\u001b[0m\u001b[1m)\u001b[0m, \u001b[1;35mSpectrum\u001b[0m\u001b[1m(\u001b[0m\u001b[33mtype\u001b[0m=\u001b[1;36m67\u001b[0m, \u001b[33mthread_id\u001b[0m=\u001b[1;36m360\u001b[0m, \u001b[33mdescription\u001b[0m=\u001b[32m'PMEC 2021 \u001b[0m\u001b[32m(\u001b[0m\u001b[32mFaixa 7 de 10\u001b[0m\u001b[32m)\u001b[0m\u001b[32m.'\u001b[0m, \n",
       "\u001b[33mstart_mega\u001b[0m=\u001b[1;36m1530\u001b[0m, \u001b[33mstop_mega\u001b[0m=\u001b[1;36m1649\u001b[0m, \u001b[33mdtype\u001b[0m=\u001b[32m'dBm'\u001b[0m, \u001b[33mndata\u001b[0m=\u001b[1;36m3072\u001b[0m, \u001b[33mbw\u001b[0m=\u001b[1;36m73828\u001b[0m, \u001b[33mprocessing\u001b[0m=\u001b[32m'peak'\u001b[0m, \n",
       "\u001b[33mantuid\u001b[0m=\u001b[1;36m0\u001b[0m\u001b[1m)\u001b[0m, \u001b[1;35mSpectrum\u001b[0m\u001b[1m(\u001b[0m\u001b[33mtype\u001b[0m=\u001b[1;36m67\u001b[0m, \u001b[33mthread_id\u001b[0m=\u001b[1;36m370\u001b[0m, \u001b[33mdescription\u001b[0m=\u001b[32m'PMEC 2021 \u001b[0m\u001b[32m(\u001b[0m\u001b[32mFaixa 8 de 10\u001b[0m\u001b[32m)\u001b[0m\u001b[32m.'\u001b[0m, \n",
       "\u001b[33mstart_mega\u001b[0m=\u001b[1;36m2690\u001b[0m, \u001b[33mstop_mega\u001b[0m=\u001b[1;36m2899\u001b[0m, \u001b[33mdtype\u001b[0m=\u001b[32m'dBm'\u001b[0m, \u001b[33mndata\u001b[0m=\u001b[1;36m5376\u001b[0m, \u001b[33mbw\u001b[0m=\u001b[1;36m73828\u001b[0m, \u001b[33mprocessing\u001b[0m=\u001b[32m'peak'\u001b[0m, \n",
       "\u001b[33mantuid\u001b[0m=\u001b[1;36m0\u001b[0m\u001b[1m)\u001b[0m, \u001b[1;35mSpectrum\u001b[0m\u001b[1m(\u001b[0m\u001b[33mtype\u001b[0m=\u001b[1;36m67\u001b[0m, \u001b[33mthread_id\u001b[0m=\u001b[1;36m380\u001b[0m, \u001b[33mdescription\u001b[0m=\u001b[32m'PMEC 2021 \u001b[0m\u001b[32m(\u001b[0m\u001b[32mFaixa 9 de 10\u001b[0m\u001b[32m)\u001b[0m\u001b[32m.'\u001b[0m, \n",
       "\u001b[33mstart_mega\u001b[0m=\u001b[1;36m5000\u001b[0m, \u001b[33mstop_mega\u001b[0m=\u001b[1;36m5160\u001b[0m, \u001b[33mdtype\u001b[0m=\u001b[32m'dBm'\u001b[0m, \u001b[33mndata\u001b[0m=\u001b[1;36m4096\u001b[0m, \u001b[33mbw\u001b[0m=\u001b[1;36m73828\u001b[0m, \u001b[33mprocessing\u001b[0m=\u001b[32m'peak'\u001b[0m, \n",
       "\u001b[33mantuid\u001b[0m=\u001b[1;36m0\u001b[0m\u001b[1m)\u001b[0m, \u001b[1;35mSpectrum\u001b[0m\u001b[1m(\u001b[0m\u001b[33mtype\u001b[0m=\u001b[1;36m67\u001b[0m, \u001b[33mthread_id\u001b[0m=\u001b[1;36m390\u001b[0m, \u001b[33mdescription\u001b[0m=\u001b[32m'PMEC 2021 \u001b[0m\u001b[32m(\u001b[0m\u001b[32mFaixa 10 de 10\u001b[0m\u001b[32m)\u001b[0m\u001b[32m.'\u001b[0m, \n",
       "\u001b[33mstart_mega\u001b[0m=\u001b[1;36m5339\u001b[0m, \u001b[33mstop_mega\u001b[0m=\u001b[1;36m5459\u001b[0m, \u001b[33mdtype\u001b[0m=\u001b[32m'dBm'\u001b[0m, \u001b[33mndata\u001b[0m=\u001b[1;36m3328\u001b[0m, \u001b[33mbw\u001b[0m=\u001b[1;36m73828\u001b[0m, \u001b[33mprocessing\u001b[0m=\u001b[32m'peak'\u001b[0m, \n",
       "\u001b[33mantuid\u001b[0m=\u001b[1;36m0\u001b[0m\u001b[1m)\u001b[0m\u001b[1m]\u001b[0m\n",
       "\u001b[1m}\u001b[0m\n"
      ]
     },
     "metadata": {},
     "output_type": "display_data"
    }
   ],
   "source": [
    "print(dados)"
   ]
  },
  {
   "cell_type": "markdown",
   "metadata": {},
   "source": [
    "A saída da função é um dicionário, com os metadados do arquivo."
   ]
  },
  {
   "cell_type": "markdown",
   "metadata": {},
   "source": [
    "## GPS\n",
    "No entanto as duas chaves mais importantes do dicionário retornado são `gps` e `spectrum`"
   ]
  },
  {
   "cell_type": "markdown",
   "metadata": {},
   "source": [
    "Se você imprimir a classe retornada pela chave `gps` é retornado um resumo dos seus atributos:"
   ]
  },
  {
   "cell_type": "code",
   "execution_count": null,
   "metadata": {},
   "outputs": [
    {
     "data": {
      "text/html": [
       "<pre style=\"white-space:pre;overflow-x:auto;line-height:normal;font-family:Menlo,'DejaVu Sans Mono',consolas,'Courier New',monospace\">GPS Data - Median of Coordinates: <span style=\"color: #008080; text-decoration-color: #008080; font-weight: bold\">-12.82684</span>:<span style=\"color: #008080; text-decoration-color: #008080; font-weight: bold\">-38.47805</span> Altitude: <span style=\"color: #008080; text-decoration-color: #008080; font-weight: bold\">120.80</span> #Satellites: <span style=\"color: #008080; text-decoration-color: #008080; font-weight: bold\">12.0</span>\n",
       "</pre>\n"
      ],
      "text/plain": [
       "GPS Data - Median of Coordinates: \u001b[1;36m-12.82684\u001b[0m:\u001b[1;36m-38.47805\u001b[0m Altitude: \u001b[1;36m120.80\u001b[0m #Satellites: \u001b[1;36m12.0\u001b[0m\n"
      ]
     },
     "metadata": {},
     "output_type": "display_data"
    }
   ],
   "source": [
    "print(dados['gps'])"
   ]
  },
  {
   "cell_type": "markdown",
   "metadata": {},
   "source": [
    "> Para extrair os atributos em si de dado objeto e retorná-los todos num dicionário, o módulo utils tem a função auxiliar `getattrs`"
   ]
  },
  {
   "cell_type": "code",
   "execution_count": null,
   "metadata": {},
   "outputs": [
    {
     "data": {
      "text/markdown": [
       "<h4 id=\"getattrs\" class=\"doc_header\"><code>getattrs</code><a href=\"https://github.com/ronaldokun/rfpye/tree/master/rfpye/utils.py#L135\" class=\"source_link\" style=\"float:right\">[source]</a></h4>\n",
       "\n",
       "> <code>getattrs</code>(**`obj`**:`Any`, **`attrs`**:`Iterable`=*`None`*, **`as_tuple`**=*`False`*)\n",
       "\n",
       "Receives an object and return the atributes listed in `attrs`, if attrs is None return its public attributes"
      ],
      "text/plain": [
       "<IPython.core.display.Markdown object>"
      ]
     },
     "metadata": {},
     "output_type": "display_data"
    }
   ],
   "source": [
    "from rfpye.utils import getattrs\n",
    "show_doc(getattrs)"
   ]
  },
  {
   "cell_type": "code",
   "execution_count": null,
   "metadata": {},
   "outputs": [
    {
     "data": {
      "text/html": [
       "<pre style=\"white-space:pre;overflow-x:auto;line-height:normal;font-family:Menlo,'DejaVu Sans Mono',consolas,'Courier New',monospace\"><span style=\"font-weight: bold\">{</span><span style=\"color: #008000; text-decoration-color: #008000\">'altitude'</span>: <span style=\"color: #008080; text-decoration-color: #008080; font-weight: bold\">120.8</span>, <span style=\"color: #008000; text-decoration-color: #008000\">'latitude'</span>: <span style=\"color: #008080; text-decoration-color: #008080; font-weight: bold\">-12.826842</span>, <span style=\"color: #008000; text-decoration-color: #008000\">'longitude'</span>: <span style=\"color: #008080; text-decoration-color: #008080; font-weight: bold\">-38.478047</span>, <span style=\"color: #008000; text-decoration-color: #008000\">'num_satellites'</span>: <span style=\"color: #008080; text-decoration-color: #008080; font-weight: bold\">12.0</span><span style=\"font-weight: bold\">}</span>\n",
       "</pre>\n"
      ],
      "text/plain": [
       "\u001b[1m{\u001b[0m\u001b[32m'altitude'\u001b[0m: \u001b[1;36m120.8\u001b[0m, \u001b[32m'latitude'\u001b[0m: \u001b[1;36m-12.826842\u001b[0m, \u001b[32m'longitude'\u001b[0m: \u001b[1;36m-38.478047\u001b[0m, \u001b[32m'num_satellites'\u001b[0m: \u001b[1;36m12.0\u001b[0m\u001b[1m}\u001b[0m\n"
      ]
     },
     "metadata": {},
     "output_type": "display_data"
    }
   ],
   "source": [
    "print(getattrs(dados['gps']))"
   ]
  },
  {
   "cell_type": "markdown",
   "metadata": {},
   "source": [
    "Os atributos listados são os valores consolidados por meio da __mediana__ dos diversos blocos de GPS do arquivo. "
   ]
  },
  {
   "cell_type": "markdown",
   "metadata": {},
   "source": [
    "### Dados Brutos de GPS\n",
    "> Caso desejar a lista original de valores, a classe é iterável num loop normalmente e também é possível selecionar os índices individualmente."
   ]
  },
  {
   "cell_type": "code",
   "execution_count": null,
   "metadata": {},
   "outputs": [
    {
     "data": {
      "text/plain": [
       "((-12.826869, -38.478055, 119.9, 9), (-12.826869, -38.478037, 114.4, 12))"
      ]
     },
     "execution_count": null,
     "metadata": {},
     "output_type": "execute_result"
    }
   ],
   "source": [
    "dados['gps'][0] , dados['gps'][-1]"
   ]
  },
  {
   "cell_type": "code",
   "execution_count": null,
   "metadata": {},
   "outputs": [
    {
     "data": {
      "text/html": [
       "<pre style=\"white-space:pre;overflow-x:auto;line-height:normal;font-family:Menlo,'DejaVu Sans Mono',consolas,'Courier New',monospace\"><span style=\"color: #008080; text-decoration-color: #008080; font-weight: bold\">-12.826869</span> <span style=\"color: #008080; text-decoration-color: #008080; font-weight: bold\">-38.478055</span> <span style=\"color: #008080; text-decoration-color: #008080; font-weight: bold\">119.900000</span> <span style=\"color: #008080; text-decoration-color: #008080; font-weight: bold\">9</span>\n",
       "</pre>\n"
      ],
      "text/plain": [
       "\u001b[1;36m-12.826869\u001b[0m \u001b[1;36m-38.478055\u001b[0m \u001b[1;36m119.900000\u001b[0m \u001b[1;36m9\u001b[0m\n"
      ]
     },
     "metadata": {},
     "output_type": "display_data"
    }
   ],
   "source": [
    "for coords in dados['gps']:\n",
    "    lat, long, alt, num = coords\n",
    "    print(f'{lat:.6f} {long:.6f} {alt:.6f} {num}')\n",
    "    break"
   ]
  },
  {
   "cell_type": "markdown",
   "metadata": {},
   "source": [
    "Para saber quantos dados brutos existem, basta utilizar a função `len`:"
   ]
  },
  {
   "cell_type": "code",
   "execution_count": null,
   "metadata": {},
   "outputs": [
    {
     "data": {
      "text/plain": [
       "9060"
      ]
     },
     "execution_count": null,
     "metadata": {},
     "output_type": "execute_result"
    }
   ],
   "source": [
    "len(dados['gps'])"
   ]
  },
  {
   "cell_type": "markdown",
   "metadata": {},
   "source": [
    "## Dados de Nível Espectral\n",
    "Cada arquivo bin normalmente possui vários fluxos de espectro distintos, cada fluxo espectral é uma classe Python, na chave `spectrum` é retornado uma lista com todos os fluxos de espectro."
   ]
  },
  {
   "cell_type": "code",
   "execution_count": null,
   "metadata": {},
   "outputs": [
    {
     "data": {
      "text/html": [
       "<pre style=\"white-space:pre;overflow-x:auto;line-height:normal;font-family:Menlo,'DejaVu Sans Mono',consolas,'Courier New',monospace\"><span style=\"color: #008080; text-decoration-color: #008080; font-weight: bold\">20</span>\n",
       "</pre>\n"
      ],
      "text/plain": [
       "\u001b[1;36m20\u001b[0m\n"
      ]
     },
     "metadata": {},
     "output_type": "display_data"
    }
   ],
   "source": [
    "fluxos = dados['spectrum']\n",
    "print(len(fluxos))"
   ]
  },
  {
   "cell_type": "markdown",
   "metadata": {},
   "source": [
    "Vamos investigar um deles:"
   ]
  },
  {
   "cell_type": "code",
   "execution_count": null,
   "metadata": {},
   "outputs": [],
   "source": [
    "fluxo = fluxos[0]"
   ]
  },
  {
   "cell_type": "markdown",
   "metadata": {},
   "source": [
    "Ao imprimir um fluxo é mostrado informações mínimas sobre o seu conteúdo:"
   ]
  },
  {
   "cell_type": "code",
   "execution_count": null,
   "metadata": {},
   "outputs": [
    {
     "data": {
      "text/html": [
       "<pre style=\"white-space:pre;overflow-x:auto;line-height:normal;font-family:Menlo,'DejaVu Sans Mono',consolas,'Courier New',monospace\">Blocks of Type: <span style=\"color: #008080; text-decoration-color: #008080; font-weight: bold\">67</span>, Thread_id: <span style=\"color: #008080; text-decoration-color: #008080; font-weight: bold\">300</span>, Start: <span style=\"color: #008080; text-decoration-color: #008080; font-weight: bold\">105</span> MHz, Stop: <span style=\"color: #008080; text-decoration-color: #008080; font-weight: bold\">140</span> MHz\n",
       "</pre>\n"
      ],
      "text/plain": [
       "Blocks of Type: \u001b[1;36m67\u001b[0m, Thread_id: \u001b[1;36m300\u001b[0m, Start: \u001b[1;36m105\u001b[0m MHz, Stop: \u001b[1;36m140\u001b[0m MHz\n"
      ]
     },
     "metadata": {},
     "output_type": "display_data"
    }
   ],
   "source": [
    "print(fluxo)"
   ]
  },
  {
   "cell_type": "markdown",
   "metadata": {},
   "source": [
    "A função `repr` retorna uma representação com todos os metadados do fluxo:"
   ]
  },
  {
   "cell_type": "code",
   "execution_count": null,
   "metadata": {},
   "outputs": [
    {
     "data": {
      "text/html": [
       "<pre style=\"white-space:pre;overflow-x:auto;line-height:normal;font-family:Menlo,'DejaVu Sans Mono',consolas,'Courier New',monospace\"><span style=\"color: #800080; text-decoration-color: #800080; font-weight: bold\">Spectrum</span><span style=\"font-weight: bold\">(</span><span style=\"color: #808000; text-decoration-color: #808000\">type</span>=<span style=\"color: #008080; text-decoration-color: #008080; font-weight: bold\">67</span>, <span style=\"color: #808000; text-decoration-color: #808000\">thread_id</span>=<span style=\"color: #008080; text-decoration-color: #008080; font-weight: bold\">300</span>, <span style=\"color: #808000; text-decoration-color: #808000\">description</span>=<span style=\"color: #008000; text-decoration-color: #008000\">'PMEC 2021 (Faixa 1 de 10).'</span>, <span style=\"color: #808000; text-decoration-color: #808000\">start_mega</span>=<span style=\"color: #008080; text-decoration-color: #008080; font-weight: bold\">105</span>, \n",
       "<span style=\"color: #808000; text-decoration-color: #808000\">stop_mega</span>=<span style=\"color: #008080; text-decoration-color: #008080; font-weight: bold\">140</span>, <span style=\"color: #808000; text-decoration-color: #808000\">dtype</span>=<span style=\"color: #008000; text-decoration-color: #008000\">'dBm'</span>, <span style=\"color: #808000; text-decoration-color: #808000\">ndata</span>=<span style=\"color: #008080; text-decoration-color: #008080; font-weight: bold\">3584</span>, <span style=\"color: #808000; text-decoration-color: #808000\">bw</span>=<span style=\"color: #008080; text-decoration-color: #008080; font-weight: bold\">18457</span>, <span style=\"color: #808000; text-decoration-color: #808000\">processing</span>=<span style=\"color: #008000; text-decoration-color: #008000\">'peak'</span>, <span style=\"color: #808000; text-decoration-color: #808000\">antuid</span>=<span style=\"color: #008080; text-decoration-color: #008080; font-weight: bold\">0</span><span style=\"font-weight: bold\">)</span>\n",
       "</pre>\n"
      ],
      "text/plain": [
       "\u001b[1;35mSpectrum\u001b[0m\u001b[1m(\u001b[0m\u001b[33mtype\u001b[0m=\u001b[1;36m67\u001b[0m, \u001b[33mthread_id\u001b[0m=\u001b[1;36m300\u001b[0m, \u001b[33mdescription\u001b[0m=\u001b[32m'PMEC 2021 \u001b[0m\u001b[32m(\u001b[0m\u001b[32mFaixa 1 de 10\u001b[0m\u001b[32m)\u001b[0m\u001b[32m.'\u001b[0m, \u001b[33mstart_mega\u001b[0m=\u001b[1;36m105\u001b[0m, \n",
       "\u001b[33mstop_mega\u001b[0m=\u001b[1;36m140\u001b[0m, \u001b[33mdtype\u001b[0m=\u001b[32m'dBm'\u001b[0m, \u001b[33mndata\u001b[0m=\u001b[1;36m3584\u001b[0m, \u001b[33mbw\u001b[0m=\u001b[1;36m18457\u001b[0m, \u001b[33mprocessing\u001b[0m=\u001b[32m'peak'\u001b[0m, \u001b[33mantuid\u001b[0m=\u001b[1;36m0\u001b[0m\u001b[1m)\u001b[0m\n"
      ]
     },
     "metadata": {},
     "output_type": "display_data"
    }
   ],
   "source": [
    "print(repr(fluxo))"
   ]
  },
  {
   "cell_type": "markdown",
   "metadata": {},
   "source": [
    "Qualquer um dos atributos listados podem ser acessados diretamente:"
   ]
  },
  {
   "cell_type": "code",
   "execution_count": null,
   "metadata": {},
   "outputs": [
    {
     "data": {
      "text/html": [
       "<pre style=\"white-space:pre;overflow-x:auto;line-height:normal;font-family:Menlo,'DejaVu Sans Mono',consolas,'Courier New',monospace\">PMEC <span style=\"color: #008080; text-decoration-color: #008080; font-weight: bold\">2021</span> <span style=\"font-weight: bold\">(</span>Faixa <span style=\"color: #008080; text-decoration-color: #008080; font-weight: bold\">1</span> de <span style=\"color: #008080; text-decoration-color: #008080; font-weight: bold\">10</span><span style=\"font-weight: bold\">)</span>.\n",
       "</pre>\n"
      ],
      "text/plain": [
       "PMEC \u001b[1;36m2021\u001b[0m \u001b[1m(\u001b[0mFaixa \u001b[1;36m1\u001b[0m de \u001b[1;36m10\u001b[0m\u001b[1m)\u001b[0m.\n"
      ]
     },
     "metadata": {},
     "output_type": "display_data"
    },
    {
     "data": {
      "text/html": [
       "<pre style=\"white-space:pre;overflow-x:auto;line-height:normal;font-family:Menlo,'DejaVu Sans Mono',consolas,'Courier New',monospace\"><span style=\"color: #008080; text-decoration-color: #008080; font-weight: bold\">18457</span>\n",
       "</pre>\n"
      ],
      "text/plain": [
       "\u001b[1;36m18457\u001b[0m\n"
      ]
     },
     "metadata": {},
     "output_type": "display_data"
    },
    {
     "data": {
      "text/plain": [
       "(None, None)"
      ]
     },
     "execution_count": null,
     "metadata": {},
     "output_type": "execute_result"
    }
   ],
   "source": [
    "print(fluxo.description) , print(fluxo.bw)"
   ]
  },
  {
   "cell_type": "markdown",
   "metadata": {},
   "source": [
    "No entanto o principal atributo de um fluxo de espectro são os valores de nível medidos, os valores medidos são retornados por meio do atributo `levels`:"
   ]
  },
  {
   "cell_type": "code",
   "execution_count": null,
   "metadata": {},
   "outputs": [
    {
     "data": {
      "text/html": [
       "<pre style=\"white-space:pre;overflow-x:auto;line-height:normal;font-family:Menlo,'DejaVu Sans Mono',consolas,'Courier New',monospace\"><span style=\"font-weight: bold\">[[</span> <span style=\"color: #008080; text-decoration-color: #008080; font-weight: bold\">-88.5</span>  <span style=\"color: #008080; text-decoration-color: #008080; font-weight: bold\">-86</span>.   <span style=\"color: #008080; text-decoration-color: #008080; font-weight: bold\">-84</span>.  <span style=\"color: #808000; text-decoration-color: #808000\">...</span> <span style=\"color: #008080; text-decoration-color: #008080; font-weight: bold\">-100</span>.  <span style=\"color: #008080; text-decoration-color: #008080; font-weight: bold\">-101</span>.  <span style=\"color: #008080; text-decoration-color: #008080; font-weight: bold\">-107.5</span><span style=\"font-weight: bold\">]</span>\n",
       " <span style=\"font-weight: bold\">[</span> <span style=\"color: #008080; text-decoration-color: #008080; font-weight: bold\">-85</span>.   <span style=\"color: #008080; text-decoration-color: #008080; font-weight: bold\">-84</span>.   <span style=\"color: #008080; text-decoration-color: #008080; font-weight: bold\">-85</span>.  <span style=\"color: #808000; text-decoration-color: #808000\">...</span>  <span style=\"color: #008080; text-decoration-color: #008080; font-weight: bold\">-97</span>.  <span style=\"color: #008080; text-decoration-color: #008080; font-weight: bold\">-101.5</span> <span style=\"color: #008080; text-decoration-color: #008080; font-weight: bold\">-103</span>. <span style=\"font-weight: bold\">]</span>\n",
       " <span style=\"font-weight: bold\">[</span> <span style=\"color: #008080; text-decoration-color: #008080; font-weight: bold\">-83</span>.   <span style=\"color: #008080; text-decoration-color: #008080; font-weight: bold\">-83</span>.   <span style=\"color: #008080; text-decoration-color: #008080; font-weight: bold\">-84.5</span> <span style=\"color: #808000; text-decoration-color: #808000\">...</span> <span style=\"color: #008080; text-decoration-color: #008080; font-weight: bold\">-103.5</span> <span style=\"color: #008080; text-decoration-color: #008080; font-weight: bold\">-100</span>.   <span style=\"color: #008080; text-decoration-color: #008080; font-weight: bold\">-99</span>. <span style=\"font-weight: bold\">]</span>\n",
       " <span style=\"color: #808000; text-decoration-color: #808000\">...</span>\n",
       " <span style=\"font-weight: bold\">[</span> <span style=\"color: #008080; text-decoration-color: #008080; font-weight: bold\">-89.5</span>  <span style=\"color: #008080; text-decoration-color: #008080; font-weight: bold\">-88</span>.   <span style=\"color: #008080; text-decoration-color: #008080; font-weight: bold\">-87</span>.  <span style=\"color: #808000; text-decoration-color: #808000\">...</span>  <span style=\"color: #008080; text-decoration-color: #008080; font-weight: bold\">-99.5</span> <span style=\"color: #008080; text-decoration-color: #008080; font-weight: bold\">-102.5</span> <span style=\"color: #008080; text-decoration-color: #008080; font-weight: bold\">-114</span>. <span style=\"font-weight: bold\">]</span>\n",
       " <span style=\"font-weight: bold\">[</span> <span style=\"color: #008080; text-decoration-color: #008080; font-weight: bold\">-87.5</span>  <span style=\"color: #008080; text-decoration-color: #008080; font-weight: bold\">-86.5</span>  <span style=\"color: #008080; text-decoration-color: #008080; font-weight: bold\">-87.5</span> <span style=\"color: #808000; text-decoration-color: #808000\">...</span>  <span style=\"color: #008080; text-decoration-color: #008080; font-weight: bold\">-99.5</span> <span style=\"color: #008080; text-decoration-color: #008080; font-weight: bold\">-103.5</span> <span style=\"color: #008080; text-decoration-color: #008080; font-weight: bold\">-105</span>. <span style=\"font-weight: bold\">]</span>\n",
       " <span style=\"font-weight: bold\">[</span> <span style=\"color: #008080; text-decoration-color: #008080; font-weight: bold\">-92.5</span>  <span style=\"color: #008080; text-decoration-color: #008080; font-weight: bold\">-91.5</span>  <span style=\"color: #008080; text-decoration-color: #008080; font-weight: bold\">-90</span>.  <span style=\"color: #808000; text-decoration-color: #808000\">...</span> <span style=\"color: #008080; text-decoration-color: #008080; font-weight: bold\">-104.5</span>  <span style=\"color: #008080; text-decoration-color: #008080; font-weight: bold\">-99.5</span>  <span style=\"color: #008080; text-decoration-color: #008080; font-weight: bold\">-99</span>. <span style=\"font-weight: bold\">]]</span>\n",
       "</pre>\n"
      ],
      "text/plain": [
       "\u001b[1m[\u001b[0m\u001b[1m[\u001b[0m \u001b[1;36m-88.5\u001b[0m  \u001b[1;36m-86\u001b[0m.   \u001b[1;36m-84\u001b[0m.  \u001b[33m...\u001b[0m \u001b[1;36m-100\u001b[0m.  \u001b[1;36m-101\u001b[0m.  \u001b[1;36m-107.5\u001b[0m\u001b[1m]\u001b[0m\n",
       " \u001b[1m[\u001b[0m \u001b[1;36m-85\u001b[0m.   \u001b[1;36m-84\u001b[0m.   \u001b[1;36m-85\u001b[0m.  \u001b[33m...\u001b[0m  \u001b[1;36m-97\u001b[0m.  \u001b[1;36m-101.5\u001b[0m \u001b[1;36m-103\u001b[0m. \u001b[1m]\u001b[0m\n",
       " \u001b[1m[\u001b[0m \u001b[1;36m-83\u001b[0m.   \u001b[1;36m-83\u001b[0m.   \u001b[1;36m-84.5\u001b[0m \u001b[33m...\u001b[0m \u001b[1;36m-103.5\u001b[0m \u001b[1;36m-100\u001b[0m.   \u001b[1;36m-99\u001b[0m. \u001b[1m]\u001b[0m\n",
       " \u001b[33m...\u001b[0m\n",
       " \u001b[1m[\u001b[0m \u001b[1;36m-89.5\u001b[0m  \u001b[1;36m-88\u001b[0m.   \u001b[1;36m-87\u001b[0m.  \u001b[33m...\u001b[0m  \u001b[1;36m-99.5\u001b[0m \u001b[1;36m-102.5\u001b[0m \u001b[1;36m-114\u001b[0m. \u001b[1m]\u001b[0m\n",
       " \u001b[1m[\u001b[0m \u001b[1;36m-87.5\u001b[0m  \u001b[1;36m-86.5\u001b[0m  \u001b[1;36m-87.5\u001b[0m \u001b[33m...\u001b[0m  \u001b[1;36m-99.5\u001b[0m \u001b[1;36m-103.5\u001b[0m \u001b[1;36m-105\u001b[0m. \u001b[1m]\u001b[0m\n",
       " \u001b[1m[\u001b[0m \u001b[1;36m-92.5\u001b[0m  \u001b[1;36m-91.5\u001b[0m  \u001b[1;36m-90\u001b[0m.  \u001b[33m...\u001b[0m \u001b[1;36m-104.5\u001b[0m  \u001b[1;36m-99.5\u001b[0m  \u001b[1;36m-99\u001b[0m. \u001b[1m]\u001b[0m\u001b[1m]\u001b[0m\n"
      ]
     },
     "metadata": {},
     "output_type": "display_data"
    }
   ],
   "source": [
    "print(fluxo.levels)"
   ]
  },
  {
   "cell_type": "code",
   "execution_count": null,
   "metadata": {},
   "outputs": [
    {
     "data": {
      "text/html": [
       "<pre style=\"white-space:pre;overflow-x:auto;line-height:normal;font-family:Menlo,'DejaVu Sans Mono',consolas,'Courier New',monospace\">Formato da matriz com os níveis: <span style=\"font-weight: bold\">(</span><span style=\"color: #008080; text-decoration-color: #008080; font-weight: bold\">9060</span>, <span style=\"color: #008080; text-decoration-color: #008080; font-weight: bold\">3584</span><span style=\"font-weight: bold\">)</span>\n",
       "</pre>\n"
      ],
      "text/plain": [
       "Formato da matriz com os níveis: \u001b[1m(\u001b[0m\u001b[1;36m9060\u001b[0m, \u001b[1;36m3584\u001b[0m\u001b[1m)\u001b[0m\n"
      ]
     },
     "metadata": {},
     "output_type": "display_data"
    }
   ],
   "source": [
    "print(f'Formato da matriz com os níveis: {fluxo.levels.shape}')"
   ]
  },
  {
   "cell_type": "markdown",
   "metadata": {},
   "source": [
    "O nº de linhas da matriz nos dá o número de pontos medidos naquele dado fluxo e as colunas o número de traços no qual o Span ( Stop - Start ) foi dividido. O número de traços pode ser retornada também por meio da função `len`"
   ]
  },
  {
   "cell_type": "code",
   "execution_count": null,
   "metadata": {},
   "outputs": [
    {
     "data": {
      "text/html": [
       "<pre style=\"white-space:pre;overflow-x:auto;line-height:normal;font-family:Menlo,'DejaVu Sans Mono',consolas,'Courier New',monospace\"><span style=\"color: #008080; text-decoration-color: #008080; font-weight: bold\">9060</span>\n",
       "</pre>\n"
      ],
      "text/plain": [
       "\u001b[1;36m9060\u001b[0m\n"
      ]
     },
     "metadata": {},
     "output_type": "display_data"
    }
   ],
   "source": [
    "print(len(fluxo))"
   ]
  },
  {
   "cell_type": "markdown",
   "metadata": {},
   "source": [
    "A classe `Spectrum` é iterável, ou seja, pode ser acessada como uma lista, é retornada uma tupla com o timestamp e os pontos daquele traço:"
   ]
  },
  {
   "cell_type": "code",
   "execution_count": null,
   "metadata": {},
   "outputs": [
    {
     "data": {
      "text/html": [
       "<pre style=\"white-space:pre;overflow-x:auto;line-height:normal;font-family:Menlo,'DejaVu Sans Mono',consolas,'Courier New',monospace\"><span style=\"color: #008080; text-decoration-color: #008080; font-weight: bold\">2021</span>-<span style=\"color: #008080; text-decoration-color: #008080; font-weight: bold\">06</span>-30T<span style=\"color: #00ff00; text-decoration-color: #00ff00; font-weight: bold\">09:46:11</span>.<span style=\"color: #008080; text-decoration-color: #008080; font-weight: bold\">447522</span>\n",
       "</pre>\n"
      ],
      "text/plain": [
       "\u001b[1;36m2021\u001b[0m-\u001b[1;36m06\u001b[0m-30T\u001b[1;92m09:46:11\u001b[0m.\u001b[1;36m447522\u001b[0m\n"
      ]
     },
     "metadata": {},
     "output_type": "display_data"
    },
    {
     "data": {
      "text/html": [
       "<pre style=\"white-space:pre;overflow-x:auto;line-height:normal;font-family:Menlo,'DejaVu Sans Mono',consolas,'Courier New',monospace\"><span style=\"font-weight: bold\">[</span> <span style=\"color: #008080; text-decoration-color: #008080; font-weight: bold\">-88.5</span>  <span style=\"color: #008080; text-decoration-color: #008080; font-weight: bold\">-86</span>.   <span style=\"color: #008080; text-decoration-color: #008080; font-weight: bold\">-84</span>.  <span style=\"color: #808000; text-decoration-color: #808000\">...</span> <span style=\"color: #008080; text-decoration-color: #008080; font-weight: bold\">-100</span>.  <span style=\"color: #008080; text-decoration-color: #008080; font-weight: bold\">-101</span>.  <span style=\"color: #008080; text-decoration-color: #008080; font-weight: bold\">-107.5</span><span style=\"font-weight: bold\">]</span>\n",
       "</pre>\n"
      ],
      "text/plain": [
       "\u001b[1m[\u001b[0m \u001b[1;36m-88.5\u001b[0m  \u001b[1;36m-86\u001b[0m.   \u001b[1;36m-84\u001b[0m.  \u001b[33m...\u001b[0m \u001b[1;36m-100\u001b[0m.  \u001b[1;36m-101\u001b[0m.  \u001b[1;36m-107.5\u001b[0m\u001b[1m]\u001b[0m\n"
      ]
     },
     "metadata": {},
     "output_type": "display_data"
    }
   ],
   "source": [
    "for time, traço in fluxo:\n",
    "    print(time)\n",
    "    print(traço)\n",
    "    break"
   ]
  },
  {
   "cell_type": "markdown",
   "metadata": {},
   "source": [
    "O atributo anterior retorna uma `numpy.ndarray`, que é um formato eficiente para processamento. \n",
    "\n",
    "### Medidas de nível como pandas dataframe\n",
    "No entanto temos adicionalmente o método `.matrix()` que retorna a matriz de dados como um _Pandas Dataframe_ formatada com o tempo da medição de cada traço como índice das linhas e as frequências de cada traço como coluna.\n",
    "\n",
    "Vamos mostrar as cinco primeiras e cinco últimas linhas e colunas. "
   ]
  },
  {
   "cell_type": "code",
   "execution_count": null,
   "metadata": {},
   "outputs": [
    {
     "data": {
      "text/html": [
       "<div>\n",
       "<style scoped>\n",
       "    .dataframe tbody tr th:only-of-type {\n",
       "        vertical-align: middle;\n",
       "    }\n",
       "\n",
       "    .dataframe tbody tr th {\n",
       "        vertical-align: top;\n",
       "    }\n",
       "\n",
       "    .dataframe thead th {\n",
       "        text-align: right;\n",
       "    }\n",
       "</style>\n",
       "<table border=\"1\" class=\"dataframe\">\n",
       "  <thead>\n",
       "    <tr style=\"text-align: right;\">\n",
       "      <th>Frequencies</th>\n",
       "      <th>105.000000</th>\n",
       "      <th>105.009768</th>\n",
       "      <th>105.019537</th>\n",
       "      <th>105.029305</th>\n",
       "      <th>105.039073</th>\n",
       "    </tr>\n",
       "    <tr>\n",
       "      <th>Time</th>\n",
       "      <th></th>\n",
       "      <th></th>\n",
       "      <th></th>\n",
       "      <th></th>\n",
       "      <th></th>\n",
       "    </tr>\n",
       "  </thead>\n",
       "  <tbody>\n",
       "    <tr>\n",
       "      <th>2021-06-30 09:46:11.447522</th>\n",
       "      <td>-88.5</td>\n",
       "      <td>-86.0</td>\n",
       "      <td>-84.0</td>\n",
       "      <td>-80.5</td>\n",
       "      <td>-82.5</td>\n",
       "    </tr>\n",
       "    <tr>\n",
       "      <th>2021-06-30 09:47:00.736878</th>\n",
       "      <td>-85.0</td>\n",
       "      <td>-84.0</td>\n",
       "      <td>-85.0</td>\n",
       "      <td>-88.0</td>\n",
       "      <td>-90.5</td>\n",
       "    </tr>\n",
       "    <tr>\n",
       "      <th>2021-06-30 09:48:00.736849</th>\n",
       "      <td>-83.0</td>\n",
       "      <td>-83.0</td>\n",
       "      <td>-84.5</td>\n",
       "      <td>-92.0</td>\n",
       "      <td>-87.0</td>\n",
       "    </tr>\n",
       "    <tr>\n",
       "      <th>2021-06-30 09:49:00.736763</th>\n",
       "      <td>-90.5</td>\n",
       "      <td>-96.5</td>\n",
       "      <td>-90.5</td>\n",
       "      <td>-85.5</td>\n",
       "      <td>-87.5</td>\n",
       "    </tr>\n",
       "    <tr>\n",
       "      <th>2021-06-30 09:50:00.736788</th>\n",
       "      <td>-86.5</td>\n",
       "      <td>-86.0</td>\n",
       "      <td>-86.5</td>\n",
       "      <td>-84.5</td>\n",
       "      <td>-85.0</td>\n",
       "    </tr>\n",
       "  </tbody>\n",
       "</table>\n",
       "</div>"
      ],
      "text/plain": [
       "Frequencies                 105.000000  105.009768  105.019537  105.029305  \\\n",
       "Time                                                                         \n",
       "2021-06-30 09:46:11.447522       -88.5       -86.0       -84.0       -80.5   \n",
       "2021-06-30 09:47:00.736878       -85.0       -84.0       -85.0       -88.0   \n",
       "2021-06-30 09:48:00.736849       -83.0       -83.0       -84.5       -92.0   \n",
       "2021-06-30 09:49:00.736763       -90.5       -96.5       -90.5       -85.5   \n",
       "2021-06-30 09:50:00.736788       -86.5       -86.0       -86.5       -84.5   \n",
       "\n",
       "Frequencies                 105.039073  \n",
       "Time                                    \n",
       "2021-06-30 09:46:11.447522       -82.5  \n",
       "2021-06-30 09:47:00.736878       -90.5  \n",
       "2021-06-30 09:48:00.736849       -87.0  \n",
       "2021-06-30 09:49:00.736763       -87.5  \n",
       "2021-06-30 09:50:00.736788       -85.0  "
      ]
     },
     "execution_count": null,
     "metadata": {},
     "output_type": "execute_result"
    }
   ],
   "source": [
    "fluxo.matrix().iloc[:5, :5]"
   ]
  },
  {
   "cell_type": "code",
   "execution_count": null,
   "metadata": {},
   "outputs": [
    {
     "data": {
      "text/html": [
       "<div>\n",
       "<style scoped>\n",
       "    .dataframe tbody tr th:only-of-type {\n",
       "        vertical-align: middle;\n",
       "    }\n",
       "\n",
       "    .dataframe tbody tr th {\n",
       "        vertical-align: top;\n",
       "    }\n",
       "\n",
       "    .dataframe thead th {\n",
       "        text-align: right;\n",
       "    }\n",
       "</style>\n",
       "<table border=\"1\" class=\"dataframe\">\n",
       "  <thead>\n",
       "    <tr style=\"text-align: right;\">\n",
       "      <th>Frequencies</th>\n",
       "      <th>139.960927</th>\n",
       "      <th>139.970695</th>\n",
       "      <th>139.980463</th>\n",
       "      <th>139.990232</th>\n",
       "      <th>140.000000</th>\n",
       "    </tr>\n",
       "    <tr>\n",
       "      <th>Time</th>\n",
       "      <th></th>\n",
       "      <th></th>\n",
       "      <th></th>\n",
       "      <th></th>\n",
       "      <th></th>\n",
       "    </tr>\n",
       "  </thead>\n",
       "  <tbody>\n",
       "    <tr>\n",
       "      <th>2021-07-06 16:41:00.741214</th>\n",
       "      <td>-96.5</td>\n",
       "      <td>-96.5</td>\n",
       "      <td>-97.0</td>\n",
       "      <td>-97.0</td>\n",
       "      <td>-101.0</td>\n",
       "    </tr>\n",
       "    <tr>\n",
       "      <th>2021-07-06 16:42:00.781447</th>\n",
       "      <td>-111.0</td>\n",
       "      <td>-103.0</td>\n",
       "      <td>-102.0</td>\n",
       "      <td>-102.0</td>\n",
       "      <td>-105.0</td>\n",
       "    </tr>\n",
       "    <tr>\n",
       "      <th>2021-07-06 16:43:00.751170</th>\n",
       "      <td>-95.0</td>\n",
       "      <td>-98.0</td>\n",
       "      <td>-99.5</td>\n",
       "      <td>-102.5</td>\n",
       "      <td>-114.0</td>\n",
       "    </tr>\n",
       "    <tr>\n",
       "      <th>2021-07-06 16:44:00.761445</th>\n",
       "      <td>-98.0</td>\n",
       "      <td>-100.0</td>\n",
       "      <td>-99.5</td>\n",
       "      <td>-103.5</td>\n",
       "      <td>-105.0</td>\n",
       "    </tr>\n",
       "    <tr>\n",
       "      <th>2021-07-06 16:45:00.862489</th>\n",
       "      <td>-96.5</td>\n",
       "      <td>-101.0</td>\n",
       "      <td>-104.5</td>\n",
       "      <td>-99.5</td>\n",
       "      <td>-99.0</td>\n",
       "    </tr>\n",
       "  </tbody>\n",
       "</table>\n",
       "</div>"
      ],
      "text/plain": [
       "Frequencies                 139.960927  139.970695  139.980463  139.990232  \\\n",
       "Time                                                                         \n",
       "2021-07-06 16:41:00.741214       -96.5       -96.5       -97.0       -97.0   \n",
       "2021-07-06 16:42:00.781447      -111.0      -103.0      -102.0      -102.0   \n",
       "2021-07-06 16:43:00.751170       -95.0       -98.0       -99.5      -102.5   \n",
       "2021-07-06 16:44:00.761445       -98.0      -100.0       -99.5      -103.5   \n",
       "2021-07-06 16:45:00.862489       -96.5      -101.0      -104.5       -99.5   \n",
       "\n",
       "Frequencies                 140.000000  \n",
       "Time                                    \n",
       "2021-07-06 16:41:00.741214      -101.0  \n",
       "2021-07-06 16:42:00.781447      -105.0  \n",
       "2021-07-06 16:43:00.751170      -114.0  \n",
       "2021-07-06 16:44:00.761445      -105.0  \n",
       "2021-07-06 16:45:00.862489       -99.0  "
      ]
     },
     "execution_count": null,
     "metadata": {},
     "output_type": "execute_result"
    }
   ],
   "source": [
    "fluxo.matrix().iloc[-5:, -5:]"
   ]
  },
  {
   "cell_type": "markdown",
   "metadata": {},
   "source": [
    "Novamente, caso desejado acessar todos os atributos de um fluxo no formato de dicionário, basta utilizar a função `getattrs`"
   ]
  },
  {
   "cell_type": "code",
   "execution_count": null,
   "metadata": {},
   "outputs": [
    {
     "data": {
      "text/html": [
       "<pre style=\"white-space:pre;overflow-x:auto;line-height:normal;font-family:Menlo,'DejaVu Sans Mono',consolas,'Courier New',monospace\"><span style=\"font-weight: bold\">{</span>\n",
       "    <span style=\"color: #008000; text-decoration-color: #008000\">'antuid'</span>: <span style=\"color: #008080; text-decoration-color: #008080; font-weight: bold\">0</span>,\n",
       "    <span style=\"color: #008000; text-decoration-color: #008000\">'bw'</span>: <span style=\"color: #008080; text-decoration-color: #008080; font-weight: bold\">18457</span>,\n",
       "    <span style=\"color: #008000; text-decoration-color: #008000\">'description'</span>: <span style=\"color: #008000; text-decoration-color: #008000\">'PMEC 2021 (Faixa 1 de 10).'</span>,\n",
       "    <span style=\"color: #008000; text-decoration-color: #008000\">'dtype'</span>: <span style=\"color: #008000; text-decoration-color: #008000\">'dBm'</span>,\n",
       "    <span style=\"color: #008000; text-decoration-color: #008000\">'ndata'</span>: <span style=\"color: #008080; text-decoration-color: #008080; font-weight: bold\">3584</span>,\n",
       "    <span style=\"color: #008000; text-decoration-color: #008000\">'precision'</span>: <span style=\"font-weight: bold\">&lt;</span><span style=\"color: #ff00ff; text-decoration-color: #ff00ff; font-weight: bold\">class</span><span style=\"color: #000000; text-decoration-color: #000000\"> </span><span style=\"color: #008000; text-decoration-color: #008000\">'numpy.float32'</span><span style=\"font-weight: bold\">&gt;</span>,\n",
       "    <span style=\"color: #008000; text-decoration-color: #008000\">'processing'</span>: <span style=\"color: #008000; text-decoration-color: #008000\">'peak'</span>,\n",
       "    <span style=\"color: #008000; text-decoration-color: #008000\">'start_dateidx'</span>: <span style=\"color: #800080; text-decoration-color: #800080; font-weight: bold\">datetime.datetime</span><span style=\"font-weight: bold\">(</span><span style=\"color: #008080; text-decoration-color: #008080; font-weight: bold\">2021</span>, <span style=\"color: #008080; text-decoration-color: #008080; font-weight: bold\">6</span>, <span style=\"color: #008080; text-decoration-color: #008080; font-weight: bold\">30</span>, <span style=\"color: #008080; text-decoration-color: #008080; font-weight: bold\">9</span>, <span style=\"color: #008080; text-decoration-color: #008080; font-weight: bold\">46</span>, <span style=\"color: #008080; text-decoration-color: #008080; font-weight: bold\">11</span>, <span style=\"color: #008080; text-decoration-color: #008080; font-weight: bold\">447522</span><span style=\"font-weight: bold\">)</span>,\n",
       "    <span style=\"color: #008000; text-decoration-color: #008000\">'start_mega'</span>: <span style=\"color: #008080; text-decoration-color: #008080; font-weight: bold\">105</span>,\n",
       "    <span style=\"color: #008000; text-decoration-color: #008000\">'stop_dateidx'</span>: <span style=\"color: #800080; text-decoration-color: #800080; font-weight: bold\">datetime.datetime</span><span style=\"font-weight: bold\">(</span><span style=\"color: #008080; text-decoration-color: #008080; font-weight: bold\">2021</span>, <span style=\"color: #008080; text-decoration-color: #008080; font-weight: bold\">7</span>, <span style=\"color: #008080; text-decoration-color: #008080; font-weight: bold\">6</span>, <span style=\"color: #008080; text-decoration-color: #008080; font-weight: bold\">16</span>, <span style=\"color: #008080; text-decoration-color: #008080; font-weight: bold\">45</span>, <span style=\"color: #008080; text-decoration-color: #008080; font-weight: bold\">0</span>, <span style=\"color: #008080; text-decoration-color: #008080; font-weight: bold\">862489</span><span style=\"font-weight: bold\">)</span>,\n",
       "    <span style=\"color: #008000; text-decoration-color: #008000\">'stop_mega'</span>: <span style=\"color: #008080; text-decoration-color: #008080; font-weight: bold\">140</span>,\n",
       "    <span style=\"color: #008000; text-decoration-color: #008000\">'thread_id'</span>: <span style=\"color: #008080; text-decoration-color: #008080; font-weight: bold\">300</span>,\n",
       "    <span style=\"color: #008000; text-decoration-color: #008000\">'type'</span>: <span style=\"color: #008080; text-decoration-color: #008080; font-weight: bold\">67</span>\n",
       "<span style=\"font-weight: bold\">}</span>\n",
       "</pre>\n"
      ],
      "text/plain": [
       "\u001b[1m{\u001b[0m\n",
       "    \u001b[32m'antuid'\u001b[0m: \u001b[1;36m0\u001b[0m,\n",
       "    \u001b[32m'bw'\u001b[0m: \u001b[1;36m18457\u001b[0m,\n",
       "    \u001b[32m'description'\u001b[0m: \u001b[32m'PMEC 2021 \u001b[0m\u001b[32m(\u001b[0m\u001b[32mFaixa 1 de 10\u001b[0m\u001b[32m)\u001b[0m\u001b[32m.'\u001b[0m,\n",
       "    \u001b[32m'dtype'\u001b[0m: \u001b[32m'dBm'\u001b[0m,\n",
       "    \u001b[32m'ndata'\u001b[0m: \u001b[1;36m3584\u001b[0m,\n",
       "    \u001b[32m'precision'\u001b[0m: \u001b[1m<\u001b[0m\u001b[1;95mclass\u001b[0m\u001b[39m \u001b[0m\u001b[32m'numpy.float32'\u001b[0m\u001b[1m>\u001b[0m,\n",
       "    \u001b[32m'processing'\u001b[0m: \u001b[32m'peak'\u001b[0m,\n",
       "    \u001b[32m'start_dateidx'\u001b[0m: \u001b[1;35mdatetime.datetime\u001b[0m\u001b[1m(\u001b[0m\u001b[1;36m2021\u001b[0m, \u001b[1;36m6\u001b[0m, \u001b[1;36m30\u001b[0m, \u001b[1;36m9\u001b[0m, \u001b[1;36m46\u001b[0m, \u001b[1;36m11\u001b[0m, \u001b[1;36m447522\u001b[0m\u001b[1m)\u001b[0m,\n",
       "    \u001b[32m'start_mega'\u001b[0m: \u001b[1;36m105\u001b[0m,\n",
       "    \u001b[32m'stop_dateidx'\u001b[0m: \u001b[1;35mdatetime.datetime\u001b[0m\u001b[1m(\u001b[0m\u001b[1;36m2021\u001b[0m, \u001b[1;36m7\u001b[0m, \u001b[1;36m6\u001b[0m, \u001b[1;36m16\u001b[0m, \u001b[1;36m45\u001b[0m, \u001b[1;36m0\u001b[0m, \u001b[1;36m862489\u001b[0m\u001b[1m)\u001b[0m,\n",
       "    \u001b[32m'stop_mega'\u001b[0m: \u001b[1;36m140\u001b[0m,\n",
       "    \u001b[32m'thread_id'\u001b[0m: \u001b[1;36m300\u001b[0m,\n",
       "    \u001b[32m'type'\u001b[0m: \u001b[1;36m67\u001b[0m\n",
       "\u001b[1m}\u001b[0m\n"
      ]
     },
     "metadata": {},
     "output_type": "display_data"
    }
   ],
   "source": [
    "print(getattrs(fluxo))"
   ]
  },
  {
   "cell_type": "markdown",
   "metadata": {},
   "source": [
    "### CRFS Bin - Versão 5 - Arquivos Comprimidos\n",
    "Vamos listar arquivos da última versão do script Logger, Versão 5, arquivos comprimidos onde o piso de ruído é suprimido."
   ]
  },
  {
   "cell_type": "code",
   "execution_count": null,
   "metadata": {},
   "outputs": [],
   "source": [
    "file = r'binfiles\\Comprimidos\\rfeye002290_210922_T204046_MaskBroken.bin'"
   ]
  },
  {
   "cell_type": "code",
   "execution_count": null,
   "metadata": {},
   "outputs": [
    {
     "name": "stdout",
     "output_type": "stream",
     "text": [
      "Wall time: 5.91 s\n"
     ]
    }
   ],
   "source": [
    "%%time\n",
    "compressed = parse_bin(file)"
   ]
  },
  {
   "cell_type": "code",
   "execution_count": null,
   "metadata": {},
   "outputs": [
    {
     "data": {
      "text/html": [
       "<pre style=\"white-space:pre;overflow-x:auto;line-height:normal;font-family:Menlo,'DejaVu Sans Mono',consolas,'Courier New',monospace\"><span style=\"font-weight: bold\">{</span>\n",
       "    <span style=\"color: #008000; text-decoration-color: #008000\">'filename'</span>: <span style=\"color: #008000; text-decoration-color: #008000\">'rfeye002290_210922_T204046_MaskBroken.bin'</span>,\n",
       "    <span style=\"color: #008000; text-decoration-color: #008000\">'file_version'</span>: <span style=\"color: #008080; text-decoration-color: #008080; font-weight: bold\">23</span>,\n",
       "    <span style=\"color: #008000; text-decoration-color: #008000\">'string'</span>: <span style=\"color: #008000; text-decoration-color: #008000\">'CRFS DATA FILE V023'</span>,\n",
       "    <span style=\"color: #008000; text-decoration-color: #008000\">'hostname'</span>: <span style=\"color: #008000; text-decoration-color: #008000\">'rfeye002290'</span>,\n",
       "    <span style=\"color: #008000; text-decoration-color: #008000\">'method'</span>: <span style=\"color: #008000; text-decoration-color: #008000\">'ScriptRFeye2021_v2.cfg'</span>,\n",
       "    <span style=\"color: #008000; text-decoration-color: #008000\">'unit_info'</span>: <span style=\"color: #008000; text-decoration-color: #008000\">'Stationary'</span>,\n",
       "    <span style=\"color: #008000; text-decoration-color: #008000\">'file_number'</span>: <span style=\"color: #008080; text-decoration-color: #008080; font-weight: bold\">0</span>,\n",
       "    <span style=\"color: #008000; text-decoration-color: #008000\">'identifier'</span>: <span style=\"color: #008000; text-decoration-color: #008000\">'INFO'</span>,\n",
       "    <span style=\"color: #008000; text-decoration-color: #008000\">'gps'</span>: GPS Data - Median of Coordinates: <span style=\"color: #008080; text-decoration-color: #008080; font-weight: bold\">-23.95765</span>:<span style=\"color: #008080; text-decoration-color: #008080; font-weight: bold\">-46.37637</span> Altitude: <span style=\"color: #008080; text-decoration-color: #008080; font-weight: bold\">19.70</span> #Satellites:\n",
       "<span style=\"color: #008080; text-decoration-color: #008080; font-weight: bold\">11.0</span>,\n",
       "    <span style=\"color: #008000; text-decoration-color: #008000\">'spectrum'</span>: <span style=\"font-weight: bold\">[</span><span style=\"color: #800080; text-decoration-color: #800080; font-weight: bold\">Spectrum</span><span style=\"font-weight: bold\">(</span><span style=\"color: #808000; text-decoration-color: #808000\">type</span>=<span style=\"color: #008080; text-decoration-color: #008080; font-weight: bold\">68</span>, <span style=\"color: #808000; text-decoration-color: #808000\">thread_id</span>=<span style=\"color: #008080; text-decoration-color: #008080; font-weight: bold\">321</span>, <span style=\"color: #808000; text-decoration-color: #808000\">thresh</span>=<span style=\"color: #008080; text-decoration-color: #008080; font-weight: bold\">-100</span>, <span style=\"color: #808000; text-decoration-color: #808000\">description</span>=<span style=\"color: #008000; text-decoration-color: #008000\">'PMEC 2021 (Faixa </span>\n",
       "<span style=\"color: #008000; text-decoration-color: #008000\">3 de 10). @ -80dBm, 100kHz.'</span>, <span style=\"color: #808000; text-decoration-color: #808000\">start_mega</span>=<span style=\"color: #008080; text-decoration-color: #008080; font-weight: bold\">320</span>, <span style=\"color: #808000; text-decoration-color: #808000\">stop_mega</span>=<span style=\"color: #008080; text-decoration-color: #008080; font-weight: bold\">340</span>, <span style=\"color: #808000; text-decoration-color: #808000\">minimum</span>=<span style=\"color: #008080; text-decoration-color: #008080; font-weight: bold\">-147.5</span>, <span style=\"color: #808000; text-decoration-color: #808000\">dtype</span>=<span style=\"color: #008000; text-decoration-color: #008000\">'dBm'</span>, \n",
       "<span style=\"color: #808000; text-decoration-color: #808000\">ndata</span>=<span style=\"color: #008080; text-decoration-color: #008080; font-weight: bold\">512</span>, <span style=\"color: #808000; text-decoration-color: #808000\">bw</span>=<span style=\"color: #008080; text-decoration-color: #008080; font-weight: bold\">73828</span>, <span style=\"color: #808000; text-decoration-color: #808000\">processing</span>=<span style=\"color: #008000; text-decoration-color: #008000\">'peak'</span>, <span style=\"color: #808000; text-decoration-color: #808000\">antuid</span>=<span style=\"color: #008080; text-decoration-color: #008080; font-weight: bold\">0</span><span style=\"font-weight: bold\">)</span>, <span style=\"color: #800080; text-decoration-color: #800080; font-weight: bold\">Spectrum</span><span style=\"font-weight: bold\">(</span><span style=\"color: #808000; text-decoration-color: #808000\">type</span>=<span style=\"color: #008080; text-decoration-color: #008080; font-weight: bold\">68</span>, <span style=\"color: #808000; text-decoration-color: #808000\">thread_id</span>=<span style=\"color: #008080; text-decoration-color: #008080; font-weight: bold\">301</span>, \n",
       "<span style=\"color: #808000; text-decoration-color: #808000\">thresh</span>=<span style=\"color: #008080; text-decoration-color: #008080; font-weight: bold\">-100</span>, <span style=\"color: #808000; text-decoration-color: #808000\">description</span>=<span style=\"color: #008000; text-decoration-color: #008000\">'PMEC 2021 (Faixa 1 de 10). @ -80dBm, 10kHz.'</span>, <span style=\"color: #808000; text-decoration-color: #808000\">start_mega</span>=<span style=\"color: #008080; text-decoration-color: #008080; font-weight: bold\">108</span>, \n",
       "<span style=\"color: #808000; text-decoration-color: #808000\">stop_mega</span>=<span style=\"color: #008080; text-decoration-color: #008080; font-weight: bold\">137</span>, <span style=\"color: #808000; text-decoration-color: #808000\">minimum</span>=<span style=\"color: #008080; text-decoration-color: #008080; font-weight: bold\">-147.5</span>, <span style=\"color: #808000; text-decoration-color: #808000\">dtype</span>=<span style=\"color: #008000; text-decoration-color: #008000\">'dBm'</span>, <span style=\"color: #808000; text-decoration-color: #808000\">ndata</span>=<span style=\"color: #008080; text-decoration-color: #008080; font-weight: bold\">14848</span>, <span style=\"color: #808000; text-decoration-color: #808000\">bw</span>=<span style=\"color: #008080; text-decoration-color: #008080; font-weight: bold\">3690</span>, <span style=\"color: #808000; text-decoration-color: #808000\">processing</span>=<span style=\"color: #008000; text-decoration-color: #008000\">'peak'</span>, \n",
       "<span style=\"color: #808000; text-decoration-color: #808000\">antuid</span>=<span style=\"color: #008080; text-decoration-color: #008080; font-weight: bold\">0</span><span style=\"font-weight: bold\">)</span>, <span style=\"color: #800080; text-decoration-color: #800080; font-weight: bold\">Spectrum</span><span style=\"font-weight: bold\">(</span><span style=\"color: #808000; text-decoration-color: #808000\">type</span>=<span style=\"color: #008080; text-decoration-color: #008080; font-weight: bold\">68</span>, <span style=\"color: #808000; text-decoration-color: #808000\">thread_id</span>=<span style=\"color: #008080; text-decoration-color: #008080; font-weight: bold\">341</span>, <span style=\"color: #808000; text-decoration-color: #808000\">thresh</span>=<span style=\"color: #008080; text-decoration-color: #008080; font-weight: bold\">-100</span>, <span style=\"color: #808000; text-decoration-color: #808000\">description</span>=<span style=\"color: #008000; text-decoration-color: #008000\">'PMEC 2021 (Faixa 5 de </span>\n",
       "<span style=\"color: #008000; text-decoration-color: #008000\">10). @ -80dBm, 100kHz.'</span>, <span style=\"color: #808000; text-decoration-color: #808000\">start_mega</span>=<span style=\"color: #008080; text-decoration-color: #008080; font-weight: bold\">960</span>, <span style=\"color: #808000; text-decoration-color: #808000\">stop_mega</span>=<span style=\"color: #008080; text-decoration-color: #008080; font-weight: bold\">1219</span>, <span style=\"color: #808000; text-decoration-color: #808000\">minimum</span>=<span style=\"color: #008080; text-decoration-color: #008080; font-weight: bold\">-147.5</span>, <span style=\"color: #808000; text-decoration-color: #808000\">dtype</span>=<span style=\"color: #008000; text-decoration-color: #008000\">'dBm'</span>, \n",
       "<span style=\"color: #808000; text-decoration-color: #808000\">ndata</span>=<span style=\"color: #008080; text-decoration-color: #008080; font-weight: bold\">6656</span>, <span style=\"color: #808000; text-decoration-color: #808000\">bw</span>=<span style=\"color: #008080; text-decoration-color: #008080; font-weight: bold\">73828</span>, <span style=\"color: #808000; text-decoration-color: #808000\">processing</span>=<span style=\"color: #008000; text-decoration-color: #008000\">'peak'</span>, <span style=\"color: #808000; text-decoration-color: #808000\">antuid</span>=<span style=\"color: #008080; text-decoration-color: #008080; font-weight: bold\">0</span><span style=\"font-weight: bold\">)</span>, <span style=\"color: #800080; text-decoration-color: #800080; font-weight: bold\">Spectrum</span><span style=\"font-weight: bold\">(</span><span style=\"color: #808000; text-decoration-color: #808000\">type</span>=<span style=\"color: #008080; text-decoration-color: #008080; font-weight: bold\">68</span>, <span style=\"color: #808000; text-decoration-color: #808000\">thread_id</span>=<span style=\"color: #008080; text-decoration-color: #008080; font-weight: bold\">311</span>, \n",
       "<span style=\"color: #808000; text-decoration-color: #808000\">thresh</span>=<span style=\"color: #008080; text-decoration-color: #008080; font-weight: bold\">-100</span>, <span style=\"color: #808000; text-decoration-color: #808000\">description</span>=<span style=\"color: #008000; text-decoration-color: #008000\">'PMEC 2021 (Faixa 2 de 10). @ -80dBm, 10kHz.'</span>, <span style=\"color: #808000; text-decoration-color: #808000\">start_mega</span>=<span style=\"color: #008080; text-decoration-color: #008080; font-weight: bold\">156</span>, \n",
       "<span style=\"color: #808000; text-decoration-color: #808000\">stop_mega</span>=<span style=\"color: #008080; text-decoration-color: #008080; font-weight: bold\">163</span>, <span style=\"color: #808000; text-decoration-color: #808000\">minimum</span>=<span style=\"color: #008080; text-decoration-color: #008080; font-weight: bold\">-147.5</span>, <span style=\"color: #808000; text-decoration-color: #808000\">dtype</span>=<span style=\"color: #008000; text-decoration-color: #008000\">'dBm'</span>, <span style=\"color: #808000; text-decoration-color: #808000\">ndata</span>=<span style=\"color: #008080; text-decoration-color: #008080; font-weight: bold\">3584</span>, <span style=\"color: #808000; text-decoration-color: #808000\">bw</span>=<span style=\"color: #008080; text-decoration-color: #008080; font-weight: bold\">3690</span>, <span style=\"color: #808000; text-decoration-color: #808000\">processing</span>=<span style=\"color: #008000; text-decoration-color: #008000\">'peak'</span>, \n",
       "<span style=\"color: #808000; text-decoration-color: #808000\">antuid</span>=<span style=\"color: #008080; text-decoration-color: #008080; font-weight: bold\">0</span><span style=\"font-weight: bold\">)</span>, <span style=\"color: #800080; text-decoration-color: #800080; font-weight: bold\">Spectrum</span><span style=\"font-weight: bold\">(</span><span style=\"color: #808000; text-decoration-color: #808000\">type</span>=<span style=\"color: #008080; text-decoration-color: #008080; font-weight: bold\">68</span>, <span style=\"color: #808000; text-decoration-color: #808000\">thread_id</span>=<span style=\"color: #008080; text-decoration-color: #008080; font-weight: bold\">371</span>, <span style=\"color: #808000; text-decoration-color: #808000\">thresh</span>=<span style=\"color: #008080; text-decoration-color: #008080; font-weight: bold\">-100</span>, <span style=\"color: #808000; text-decoration-color: #808000\">description</span>=<span style=\"color: #008000; text-decoration-color: #008000\">'PMEC 2021 (Faixa 8 de </span>\n",
       "<span style=\"color: #008000; text-decoration-color: #008000\">10). @ -80dBm, 100kHz.'</span>, <span style=\"color: #808000; text-decoration-color: #808000\">start_mega</span>=<span style=\"color: #008080; text-decoration-color: #008080; font-weight: bold\">2690</span>, <span style=\"color: #808000; text-decoration-color: #808000\">stop_mega</span>=<span style=\"color: #008080; text-decoration-color: #008080; font-weight: bold\">2899</span>, <span style=\"color: #808000; text-decoration-color: #808000\">minimum</span>=<span style=\"color: #008080; text-decoration-color: #008080; font-weight: bold\">-147.5</span>, <span style=\"color: #808000; text-decoration-color: #808000\">dtype</span>=<span style=\"color: #008000; text-decoration-color: #008000\">'dBm'</span>, \n",
       "<span style=\"color: #808000; text-decoration-color: #808000\">ndata</span>=<span style=\"color: #008080; text-decoration-color: #008080; font-weight: bold\">5376</span>, <span style=\"color: #808000; text-decoration-color: #808000\">bw</span>=<span style=\"color: #008080; text-decoration-color: #008080; font-weight: bold\">73828</span>, <span style=\"color: #808000; text-decoration-color: #808000\">processing</span>=<span style=\"color: #008000; text-decoration-color: #008000\">'peak'</span>, <span style=\"color: #808000; text-decoration-color: #808000\">antuid</span>=<span style=\"color: #008080; text-decoration-color: #008080; font-weight: bold\">0</span><span style=\"font-weight: bold\">)</span>, <span style=\"color: #800080; text-decoration-color: #800080; font-weight: bold\">Spectrum</span><span style=\"font-weight: bold\">(</span><span style=\"color: #808000; text-decoration-color: #808000\">type</span>=<span style=\"color: #008080; text-decoration-color: #008080; font-weight: bold\">68</span>, <span style=\"color: #808000; text-decoration-color: #808000\">thread_id</span>=<span style=\"color: #008080; text-decoration-color: #008080; font-weight: bold\">351</span>, \n",
       "<span style=\"color: #808000; text-decoration-color: #808000\">thresh</span>=<span style=\"color: #008080; text-decoration-color: #008080; font-weight: bold\">-100</span>, <span style=\"color: #808000; text-decoration-color: #808000\">description</span>=<span style=\"color: #008000; text-decoration-color: #008000\">'PMEC 2021 (Faixa 6 de 10). @ -80dBm, 100kHz.'</span>, <span style=\"color: #808000; text-decoration-color: #808000\">start_mega</span>=<span style=\"color: #008080; text-decoration-color: #008080; font-weight: bold\">1389</span>, \n",
       "<span style=\"color: #808000; text-decoration-color: #808000\">stop_mega</span>=<span style=\"color: #008080; text-decoration-color: #008080; font-weight: bold\">1429</span>, <span style=\"color: #808000; text-decoration-color: #808000\">minimum</span>=<span style=\"color: #008080; text-decoration-color: #008080; font-weight: bold\">-147.5</span>, <span style=\"color: #808000; text-decoration-color: #808000\">dtype</span>=<span style=\"color: #008000; text-decoration-color: #008000\">'dBm'</span>, <span style=\"color: #808000; text-decoration-color: #808000\">ndata</span>=<span style=\"color: #008080; text-decoration-color: #008080; font-weight: bold\">1280</span>, <span style=\"color: #808000; text-decoration-color: #808000\">bw</span>=<span style=\"color: #008080; text-decoration-color: #008080; font-weight: bold\">73828</span>, <span style=\"color: #808000; text-decoration-color: #808000\">processing</span>=<span style=\"color: #008000; text-decoration-color: #008000\">'peak'</span>, \n",
       "<span style=\"color: #808000; text-decoration-color: #808000\">antuid</span>=<span style=\"color: #008080; text-decoration-color: #008080; font-weight: bold\">0</span><span style=\"font-weight: bold\">)</span>, <span style=\"color: #800080; text-decoration-color: #800080; font-weight: bold\">Spectrum</span><span style=\"font-weight: bold\">(</span><span style=\"color: #808000; text-decoration-color: #808000\">type</span>=<span style=\"color: #008080; text-decoration-color: #008080; font-weight: bold\">68</span>, <span style=\"color: #808000; text-decoration-color: #808000\">thread_id</span>=<span style=\"color: #008080; text-decoration-color: #008080; font-weight: bold\">331</span>, <span style=\"color: #808000; text-decoration-color: #808000\">thresh</span>=<span style=\"color: #008080; text-decoration-color: #008080; font-weight: bold\">-100</span>, <span style=\"color: #808000; text-decoration-color: #808000\">description</span>=<span style=\"color: #008000; text-decoration-color: #008000\">'PMEC 2021 (Faixa 4 de </span>\n",
       "<span style=\"color: #008000; text-decoration-color: #008000\">10). @ -80dBm, 100kHz.'</span>, <span style=\"color: #808000; text-decoration-color: #808000\">start_mega</span>=<span style=\"color: #008080; text-decoration-color: #008080; font-weight: bold\">400</span>, <span style=\"color: #808000; text-decoration-color: #808000\">stop_mega</span>=<span style=\"color: #008080; text-decoration-color: #008080; font-weight: bold\">410</span>, <span style=\"color: #808000; text-decoration-color: #808000\">minimum</span>=<span style=\"color: #008080; text-decoration-color: #008080; font-weight: bold\">-147.5</span>, <span style=\"color: #808000; text-decoration-color: #808000\">dtype</span>=<span style=\"color: #008000; text-decoration-color: #008000\">'dBm'</span>, \n",
       "<span style=\"color: #808000; text-decoration-color: #808000\">ndata</span>=<span style=\"color: #008080; text-decoration-color: #008080; font-weight: bold\">256</span>, <span style=\"color: #808000; text-decoration-color: #808000\">bw</span>=<span style=\"color: #008080; text-decoration-color: #008080; font-weight: bold\">73828</span>, <span style=\"color: #808000; text-decoration-color: #808000\">processing</span>=<span style=\"color: #008000; text-decoration-color: #008000\">'peak'</span>, <span style=\"color: #808000; text-decoration-color: #808000\">antuid</span>=<span style=\"color: #008080; text-decoration-color: #008080; font-weight: bold\">0</span><span style=\"font-weight: bold\">)</span>, <span style=\"color: #800080; text-decoration-color: #800080; font-weight: bold\">Spectrum</span><span style=\"font-weight: bold\">(</span><span style=\"color: #808000; text-decoration-color: #808000\">type</span>=<span style=\"color: #008080; text-decoration-color: #008080; font-weight: bold\">68</span>, <span style=\"color: #808000; text-decoration-color: #808000\">thread_id</span>=<span style=\"color: #008080; text-decoration-color: #008080; font-weight: bold\">361</span>, \n",
       "<span style=\"color: #808000; text-decoration-color: #808000\">thresh</span>=<span style=\"color: #008080; text-decoration-color: #008080; font-weight: bold\">-100</span>, <span style=\"color: #808000; text-decoration-color: #808000\">description</span>=<span style=\"color: #008000; text-decoration-color: #008000\">'PMEC 2021 (Faixa 7 de 10). @ -80dBm, 100kHz.'</span>, <span style=\"color: #808000; text-decoration-color: #808000\">start_mega</span>=<span style=\"color: #008080; text-decoration-color: #008080; font-weight: bold\">1530</span>, \n",
       "<span style=\"color: #808000; text-decoration-color: #808000\">stop_mega</span>=<span style=\"color: #008080; text-decoration-color: #008080; font-weight: bold\">1649</span>, <span style=\"color: #808000; text-decoration-color: #808000\">minimum</span>=<span style=\"color: #008080; text-decoration-color: #008080; font-weight: bold\">-147.5</span>, <span style=\"color: #808000; text-decoration-color: #808000\">dtype</span>=<span style=\"color: #008000; text-decoration-color: #008000\">'dBm'</span>, <span style=\"color: #808000; text-decoration-color: #808000\">ndata</span>=<span style=\"color: #008080; text-decoration-color: #008080; font-weight: bold\">3072</span>, <span style=\"color: #808000; text-decoration-color: #808000\">bw</span>=<span style=\"color: #008080; text-decoration-color: #008080; font-weight: bold\">73828</span>, <span style=\"color: #808000; text-decoration-color: #808000\">processing</span>=<span style=\"color: #008000; text-decoration-color: #008000\">'peak'</span>, \n",
       "<span style=\"color: #808000; text-decoration-color: #808000\">antuid</span>=<span style=\"color: #008080; text-decoration-color: #008080; font-weight: bold\">0</span><span style=\"font-weight: bold\">)]</span>\n",
       "<span style=\"font-weight: bold\">}</span>\n",
       "</pre>\n"
      ],
      "text/plain": [
       "\u001b[1m{\u001b[0m\n",
       "    \u001b[32m'filename'\u001b[0m: \u001b[32m'rfeye002290_210922_T204046_MaskBroken.bin'\u001b[0m,\n",
       "    \u001b[32m'file_version'\u001b[0m: \u001b[1;36m23\u001b[0m,\n",
       "    \u001b[32m'string'\u001b[0m: \u001b[32m'CRFS DATA FILE V023'\u001b[0m,\n",
       "    \u001b[32m'hostname'\u001b[0m: \u001b[32m'rfeye002290'\u001b[0m,\n",
       "    \u001b[32m'method'\u001b[0m: \u001b[32m'ScriptRFeye2021_v2.cfg'\u001b[0m,\n",
       "    \u001b[32m'unit_info'\u001b[0m: \u001b[32m'Stationary'\u001b[0m,\n",
       "    \u001b[32m'file_number'\u001b[0m: \u001b[1;36m0\u001b[0m,\n",
       "    \u001b[32m'identifier'\u001b[0m: \u001b[32m'INFO'\u001b[0m,\n",
       "    \u001b[32m'gps'\u001b[0m: GPS Data - Median of Coordinates: \u001b[1;36m-23.95765\u001b[0m:\u001b[1;36m-46.37637\u001b[0m Altitude: \u001b[1;36m19.70\u001b[0m #Satellites:\n",
       "\u001b[1;36m11.0\u001b[0m,\n",
       "    \u001b[32m'spectrum'\u001b[0m: \u001b[1m[\u001b[0m\u001b[1;35mSpectrum\u001b[0m\u001b[1m(\u001b[0m\u001b[33mtype\u001b[0m=\u001b[1;36m68\u001b[0m, \u001b[33mthread_id\u001b[0m=\u001b[1;36m321\u001b[0m, \u001b[33mthresh\u001b[0m=\u001b[1;36m-100\u001b[0m, \u001b[33mdescription\u001b[0m=\u001b[32m'PMEC 2021 \u001b[0m\u001b[32m(\u001b[0m\u001b[32mFaixa \u001b[0m\n",
       "\u001b[32m3 de 10\u001b[0m\u001b[32m)\u001b[0m\u001b[32m. @ -80dBm, 100kHz.'\u001b[0m, \u001b[33mstart_mega\u001b[0m=\u001b[1;36m320\u001b[0m, \u001b[33mstop_mega\u001b[0m=\u001b[1;36m340\u001b[0m, \u001b[33mminimum\u001b[0m=\u001b[1;36m-147.5\u001b[0m, \u001b[33mdtype\u001b[0m=\u001b[32m'dBm'\u001b[0m, \n",
       "\u001b[33mndata\u001b[0m=\u001b[1;36m512\u001b[0m, \u001b[33mbw\u001b[0m=\u001b[1;36m73828\u001b[0m, \u001b[33mprocessing\u001b[0m=\u001b[32m'peak'\u001b[0m, \u001b[33mantuid\u001b[0m=\u001b[1;36m0\u001b[0m\u001b[1m)\u001b[0m, \u001b[1;35mSpectrum\u001b[0m\u001b[1m(\u001b[0m\u001b[33mtype\u001b[0m=\u001b[1;36m68\u001b[0m, \u001b[33mthread_id\u001b[0m=\u001b[1;36m301\u001b[0m, \n",
       "\u001b[33mthresh\u001b[0m=\u001b[1;36m-100\u001b[0m, \u001b[33mdescription\u001b[0m=\u001b[32m'PMEC 2021 \u001b[0m\u001b[32m(\u001b[0m\u001b[32mFaixa 1 de 10\u001b[0m\u001b[32m)\u001b[0m\u001b[32m. @ -80dBm, 10kHz.'\u001b[0m, \u001b[33mstart_mega\u001b[0m=\u001b[1;36m108\u001b[0m, \n",
       "\u001b[33mstop_mega\u001b[0m=\u001b[1;36m137\u001b[0m, \u001b[33mminimum\u001b[0m=\u001b[1;36m-147.5\u001b[0m, \u001b[33mdtype\u001b[0m=\u001b[32m'dBm'\u001b[0m, \u001b[33mndata\u001b[0m=\u001b[1;36m14848\u001b[0m, \u001b[33mbw\u001b[0m=\u001b[1;36m3690\u001b[0m, \u001b[33mprocessing\u001b[0m=\u001b[32m'peak'\u001b[0m, \n",
       "\u001b[33mantuid\u001b[0m=\u001b[1;36m0\u001b[0m\u001b[1m)\u001b[0m, \u001b[1;35mSpectrum\u001b[0m\u001b[1m(\u001b[0m\u001b[33mtype\u001b[0m=\u001b[1;36m68\u001b[0m, \u001b[33mthread_id\u001b[0m=\u001b[1;36m341\u001b[0m, \u001b[33mthresh\u001b[0m=\u001b[1;36m-100\u001b[0m, \u001b[33mdescription\u001b[0m=\u001b[32m'PMEC 2021 \u001b[0m\u001b[32m(\u001b[0m\u001b[32mFaixa 5 de \u001b[0m\n",
       "\u001b[32m10\u001b[0m\u001b[32m)\u001b[0m\u001b[32m. @ -80dBm, 100kHz.'\u001b[0m, \u001b[33mstart_mega\u001b[0m=\u001b[1;36m960\u001b[0m, \u001b[33mstop_mega\u001b[0m=\u001b[1;36m1219\u001b[0m, \u001b[33mminimum\u001b[0m=\u001b[1;36m-147.5\u001b[0m, \u001b[33mdtype\u001b[0m=\u001b[32m'dBm'\u001b[0m, \n",
       "\u001b[33mndata\u001b[0m=\u001b[1;36m6656\u001b[0m, \u001b[33mbw\u001b[0m=\u001b[1;36m73828\u001b[0m, \u001b[33mprocessing\u001b[0m=\u001b[32m'peak'\u001b[0m, \u001b[33mantuid\u001b[0m=\u001b[1;36m0\u001b[0m\u001b[1m)\u001b[0m, \u001b[1;35mSpectrum\u001b[0m\u001b[1m(\u001b[0m\u001b[33mtype\u001b[0m=\u001b[1;36m68\u001b[0m, \u001b[33mthread_id\u001b[0m=\u001b[1;36m311\u001b[0m, \n",
       "\u001b[33mthresh\u001b[0m=\u001b[1;36m-100\u001b[0m, \u001b[33mdescription\u001b[0m=\u001b[32m'PMEC 2021 \u001b[0m\u001b[32m(\u001b[0m\u001b[32mFaixa 2 de 10\u001b[0m\u001b[32m)\u001b[0m\u001b[32m. @ -80dBm, 10kHz.'\u001b[0m, \u001b[33mstart_mega\u001b[0m=\u001b[1;36m156\u001b[0m, \n",
       "\u001b[33mstop_mega\u001b[0m=\u001b[1;36m163\u001b[0m, \u001b[33mminimum\u001b[0m=\u001b[1;36m-147.5\u001b[0m, \u001b[33mdtype\u001b[0m=\u001b[32m'dBm'\u001b[0m, \u001b[33mndata\u001b[0m=\u001b[1;36m3584\u001b[0m, \u001b[33mbw\u001b[0m=\u001b[1;36m3690\u001b[0m, \u001b[33mprocessing\u001b[0m=\u001b[32m'peak'\u001b[0m, \n",
       "\u001b[33mantuid\u001b[0m=\u001b[1;36m0\u001b[0m\u001b[1m)\u001b[0m, \u001b[1;35mSpectrum\u001b[0m\u001b[1m(\u001b[0m\u001b[33mtype\u001b[0m=\u001b[1;36m68\u001b[0m, \u001b[33mthread_id\u001b[0m=\u001b[1;36m371\u001b[0m, \u001b[33mthresh\u001b[0m=\u001b[1;36m-100\u001b[0m, \u001b[33mdescription\u001b[0m=\u001b[32m'PMEC 2021 \u001b[0m\u001b[32m(\u001b[0m\u001b[32mFaixa 8 de \u001b[0m\n",
       "\u001b[32m10\u001b[0m\u001b[32m)\u001b[0m\u001b[32m. @ -80dBm, 100kHz.'\u001b[0m, \u001b[33mstart_mega\u001b[0m=\u001b[1;36m2690\u001b[0m, \u001b[33mstop_mega\u001b[0m=\u001b[1;36m2899\u001b[0m, \u001b[33mminimum\u001b[0m=\u001b[1;36m-147.5\u001b[0m, \u001b[33mdtype\u001b[0m=\u001b[32m'dBm'\u001b[0m, \n",
       "\u001b[33mndata\u001b[0m=\u001b[1;36m5376\u001b[0m, \u001b[33mbw\u001b[0m=\u001b[1;36m73828\u001b[0m, \u001b[33mprocessing\u001b[0m=\u001b[32m'peak'\u001b[0m, \u001b[33mantuid\u001b[0m=\u001b[1;36m0\u001b[0m\u001b[1m)\u001b[0m, \u001b[1;35mSpectrum\u001b[0m\u001b[1m(\u001b[0m\u001b[33mtype\u001b[0m=\u001b[1;36m68\u001b[0m, \u001b[33mthread_id\u001b[0m=\u001b[1;36m351\u001b[0m, \n",
       "\u001b[33mthresh\u001b[0m=\u001b[1;36m-100\u001b[0m, \u001b[33mdescription\u001b[0m=\u001b[32m'PMEC 2021 \u001b[0m\u001b[32m(\u001b[0m\u001b[32mFaixa 6 de 10\u001b[0m\u001b[32m)\u001b[0m\u001b[32m. @ -80dBm, 100kHz.'\u001b[0m, \u001b[33mstart_mega\u001b[0m=\u001b[1;36m1389\u001b[0m, \n",
       "\u001b[33mstop_mega\u001b[0m=\u001b[1;36m1429\u001b[0m, \u001b[33mminimum\u001b[0m=\u001b[1;36m-147.5\u001b[0m, \u001b[33mdtype\u001b[0m=\u001b[32m'dBm'\u001b[0m, \u001b[33mndata\u001b[0m=\u001b[1;36m1280\u001b[0m, \u001b[33mbw\u001b[0m=\u001b[1;36m73828\u001b[0m, \u001b[33mprocessing\u001b[0m=\u001b[32m'peak'\u001b[0m, \n",
       "\u001b[33mantuid\u001b[0m=\u001b[1;36m0\u001b[0m\u001b[1m)\u001b[0m, \u001b[1;35mSpectrum\u001b[0m\u001b[1m(\u001b[0m\u001b[33mtype\u001b[0m=\u001b[1;36m68\u001b[0m, \u001b[33mthread_id\u001b[0m=\u001b[1;36m331\u001b[0m, \u001b[33mthresh\u001b[0m=\u001b[1;36m-100\u001b[0m, \u001b[33mdescription\u001b[0m=\u001b[32m'PMEC 2021 \u001b[0m\u001b[32m(\u001b[0m\u001b[32mFaixa 4 de \u001b[0m\n",
       "\u001b[32m10\u001b[0m\u001b[32m)\u001b[0m\u001b[32m. @ -80dBm, 100kHz.'\u001b[0m, \u001b[33mstart_mega\u001b[0m=\u001b[1;36m400\u001b[0m, \u001b[33mstop_mega\u001b[0m=\u001b[1;36m410\u001b[0m, \u001b[33mminimum\u001b[0m=\u001b[1;36m-147.5\u001b[0m, \u001b[33mdtype\u001b[0m=\u001b[32m'dBm'\u001b[0m, \n",
       "\u001b[33mndata\u001b[0m=\u001b[1;36m256\u001b[0m, \u001b[33mbw\u001b[0m=\u001b[1;36m73828\u001b[0m, \u001b[33mprocessing\u001b[0m=\u001b[32m'peak'\u001b[0m, \u001b[33mantuid\u001b[0m=\u001b[1;36m0\u001b[0m\u001b[1m)\u001b[0m, \u001b[1;35mSpectrum\u001b[0m\u001b[1m(\u001b[0m\u001b[33mtype\u001b[0m=\u001b[1;36m68\u001b[0m, \u001b[33mthread_id\u001b[0m=\u001b[1;36m361\u001b[0m, \n",
       "\u001b[33mthresh\u001b[0m=\u001b[1;36m-100\u001b[0m, \u001b[33mdescription\u001b[0m=\u001b[32m'PMEC 2021 \u001b[0m\u001b[32m(\u001b[0m\u001b[32mFaixa 7 de 10\u001b[0m\u001b[32m)\u001b[0m\u001b[32m. @ -80dBm, 100kHz.'\u001b[0m, \u001b[33mstart_mega\u001b[0m=\u001b[1;36m1530\u001b[0m, \n",
       "\u001b[33mstop_mega\u001b[0m=\u001b[1;36m1649\u001b[0m, \u001b[33mminimum\u001b[0m=\u001b[1;36m-147.5\u001b[0m, \u001b[33mdtype\u001b[0m=\u001b[32m'dBm'\u001b[0m, \u001b[33mndata\u001b[0m=\u001b[1;36m3072\u001b[0m, \u001b[33mbw\u001b[0m=\u001b[1;36m73828\u001b[0m, \u001b[33mprocessing\u001b[0m=\u001b[32m'peak'\u001b[0m, \n",
       "\u001b[33mantuid\u001b[0m=\u001b[1;36m0\u001b[0m\u001b[1m)\u001b[0m\u001b[1m]\u001b[0m\n",
       "\u001b[1m}\u001b[0m\n"
      ]
     },
     "metadata": {},
     "output_type": "display_data"
    }
   ],
   "source": [
    "print(compressed)"
   ]
  },
  {
   "cell_type": "code",
   "execution_count": null,
   "metadata": {},
   "outputs": [
    {
     "data": {
      "text/plain": [
       "(#20) [Spectrum(type=67, thread_id=300, description='PMEC 2021 (Faixa 1 de 10).', start_mega=105, stop_mega=140, dtype='dBm', ndata=3584, bw=18457, processing='peak', antuid=0),Spectrum(type=67, thread_id=310, description='PMEC 2021 (Faixa 2 de 10).', start_mega=155, stop_mega=165, dtype='dBm', ndata=1024, bw=18457, processing='peak', antuid=0),Spectrum(type=67, thread_id=100, description='PRD 2021 (Faixa principal 1 de 4).', start_mega=50, stop_mega=90, dtype='dBμV/m', ndata=1024, bw=73828, processing='peak', antuid=0),Spectrum(type=67, thread_id=110, description='PRD 2021 (Faixa principal 2 de 4).', start_mega=70, stop_mega=110, dtype='dBμV/m', ndata=1024, bw=73828, processing='peak', antuid=0),Spectrum(type=67, thread_id=120, description='PRD 2021 (Faixa principal 3 de 4).', start_mega=170, stop_mega=220, dtype='dBμV/m', ndata=1280, bw=73828, processing='peak', antuid=0),Spectrum(type=67, thread_id=130, description='PRD 2021 (Faixa principal 4 de 4).', start_mega=470, stop_mega=700, dtype='dBμV/m', ndata=5888, bw=73828, processing='peak', antuid=0),Spectrum(type=67, thread_id=200, description='PMEF 2021 (Faixa 1 de 6).', start_mega=700, stop_mega=960, dtype='dBm', ndata=6656, bw=73828, processing='peak', antuid=0),Spectrum(type=67, thread_id=210, description='PMEF 2021 (Faixa 2 de 6).', start_mega=1710, stop_mega=1980, dtype='dBm', ndata=6912, bw=73828, processing='peak', antuid=0),Spectrum(type=67, thread_id=220, description='PMEF 2021 (Faixa 3 de 6).', start_mega=2100, stop_mega=2169, dtype='dBm', ndata=1792, bw=73828, processing='peak', antuid=0),Spectrum(type=67, thread_id=230, description='PMEF 2021 (Faixa 4 de 6).', start_mega=2290, stop_mega=2390, dtype='dBm', ndata=2560, bw=73828, processing='peak', antuid=0)...]"
      ]
     },
     "execution_count": null,
     "metadata": {},
     "output_type": "execute_result"
    }
   ],
   "source": [
    "fluxo = compressed['spectrum'] ; fluxos"
   ]
  },
  {
   "cell_type": "code",
   "execution_count": null,
   "metadata": {},
   "outputs": [
    {
     "data": {
      "text/html": [
       "<div>\n",
       "<style scoped>\n",
       "    .dataframe tbody tr th:only-of-type {\n",
       "        vertical-align: middle;\n",
       "    }\n",
       "\n",
       "    .dataframe tbody tr th {\n",
       "        vertical-align: top;\n",
       "    }\n",
       "\n",
       "    .dataframe thead th {\n",
       "        text-align: right;\n",
       "    }\n",
       "</style>\n",
       "<table border=\"1\" class=\"dataframe\">\n",
       "  <thead>\n",
       "    <tr style=\"text-align: right;\">\n",
       "      <th>Frequencies</th>\n",
       "      <th>105.000000</th>\n",
       "      <th>105.009768</th>\n",
       "      <th>105.019537</th>\n",
       "      <th>139.980463</th>\n",
       "      <th>139.990232</th>\n",
       "      <th>140.000000</th>\n",
       "    </tr>\n",
       "    <tr>\n",
       "      <th>Time</th>\n",
       "      <th></th>\n",
       "      <th></th>\n",
       "      <th></th>\n",
       "      <th></th>\n",
       "      <th></th>\n",
       "      <th></th>\n",
       "    </tr>\n",
       "  </thead>\n",
       "  <tbody>\n",
       "    <tr>\n",
       "      <th>2021-06-30 09:46:11.447522</th>\n",
       "      <td>-88.5</td>\n",
       "      <td>-86.0</td>\n",
       "      <td>-84.0</td>\n",
       "      <td>-100.0</td>\n",
       "      <td>-101.0</td>\n",
       "      <td>-107.5</td>\n",
       "    </tr>\n",
       "    <tr>\n",
       "      <th>2021-06-30 09:47:00.736878</th>\n",
       "      <td>-85.0</td>\n",
       "      <td>-84.0</td>\n",
       "      <td>-85.0</td>\n",
       "      <td>-97.0</td>\n",
       "      <td>-101.5</td>\n",
       "      <td>-103.0</td>\n",
       "    </tr>\n",
       "    <tr>\n",
       "      <th>2021-06-30 09:48:00.736849</th>\n",
       "      <td>-83.0</td>\n",
       "      <td>-83.0</td>\n",
       "      <td>-84.5</td>\n",
       "      <td>-103.5</td>\n",
       "      <td>-100.0</td>\n",
       "      <td>-99.0</td>\n",
       "    </tr>\n",
       "    <tr>\n",
       "      <th>2021-06-30 09:49:00.736763</th>\n",
       "      <td>-90.5</td>\n",
       "      <td>-96.5</td>\n",
       "      <td>-90.5</td>\n",
       "      <td>-103.5</td>\n",
       "      <td>-105.0</td>\n",
       "      <td>-101.5</td>\n",
       "    </tr>\n",
       "    <tr>\n",
       "      <th>2021-06-30 09:50:00.736788</th>\n",
       "      <td>-86.5</td>\n",
       "      <td>-86.0</td>\n",
       "      <td>-86.5</td>\n",
       "      <td>-104.5</td>\n",
       "      <td>-101.5</td>\n",
       "      <td>-99.5</td>\n",
       "    </tr>\n",
       "  </tbody>\n",
       "</table>\n",
       "</div>"
      ],
      "text/plain": [
       "Frequencies                 105.000000  105.009768  105.019537  139.980463  \\\n",
       "Time                                                                         \n",
       "2021-06-30 09:46:11.447522       -88.5       -86.0       -84.0      -100.0   \n",
       "2021-06-30 09:47:00.736878       -85.0       -84.0       -85.0       -97.0   \n",
       "2021-06-30 09:48:00.736849       -83.0       -83.0       -84.5      -103.5   \n",
       "2021-06-30 09:49:00.736763       -90.5       -96.5       -90.5      -103.5   \n",
       "2021-06-30 09:50:00.736788       -86.5       -86.0       -86.5      -104.5   \n",
       "\n",
       "Frequencies                 139.990232  140.000000  \n",
       "Time                                                \n",
       "2021-06-30 09:46:11.447522      -101.0      -107.5  \n",
       "2021-06-30 09:47:00.736878      -101.5      -103.0  \n",
       "2021-06-30 09:48:00.736849      -100.0       -99.0  \n",
       "2021-06-30 09:49:00.736763      -105.0      -101.5  \n",
       "2021-06-30 09:50:00.736788      -101.5       -99.5  "
      ]
     },
     "execution_count": null,
     "metadata": {},
     "output_type": "execute_result"
    }
   ],
   "source": [
    "fluxo = fluxos[0]\n",
    "fluxo.matrix().iloc[:5, [0, 1, 2, -3, -2, -1]]"
   ]
  },
  {
   "cell_type": "code",
   "execution_count": null,
   "metadata": {},
   "outputs": [
    {
     "data": {
      "text/html": [
       "<pre style=\"white-space:pre;overflow-x:auto;line-height:normal;font-family:Menlo,'DejaVu Sans Mono',consolas,'Courier New',monospace\"><span style=\"color: #008080; text-decoration-color: #008080; font-weight: bold\">9060</span>\n",
       "</pre>\n"
      ],
      "text/plain": [
       "\u001b[1;36m9060\u001b[0m\n"
      ]
     },
     "metadata": {},
     "output_type": "display_data"
    }
   ],
   "source": [
    "print(len(fluxo))"
   ]
  },
  {
   "cell_type": "markdown",
   "metadata": {},
   "source": [
    "### CRFS Bin - Versão 4"
   ]
  },
  {
   "cell_type": "code",
   "execution_count": null,
   "metadata": {},
   "outputs": [
    {
     "data": {
      "text/html": [
       "<pre style=\"white-space:pre;overflow-x:auto;line-height:normal;font-family:Menlo,'DejaVu Sans Mono',consolas,'Courier New',monospace\"><span style=\"font-weight: bold\">{</span>\n",
       "    <span style=\"color: #008000; text-decoration-color: #008000\">'filename'</span>: <span style=\"color: #008000; text-decoration-color: #008000\">'rfeye002292_210208_T202215_CRFSBINv.4.bin'</span>,\n",
       "    <span style=\"color: #008000; text-decoration-color: #008000\">'file_version'</span>: <span style=\"color: #008080; text-decoration-color: #008080; font-weight: bold\">22</span>,\n",
       "    <span style=\"color: #008000; text-decoration-color: #008000\">'string'</span>: <span style=\"color: #008000; text-decoration-color: #008000\">'CRFS DATA FILE V022'</span>,\n",
       "    <span style=\"color: #008000; text-decoration-color: #008000\">'hostname'</span>: <span style=\"color: #008000; text-decoration-color: #008000\">'rfeye002292'</span>,\n",
       "    <span style=\"color: #008000; text-decoration-color: #008000\">'method'</span>: <span style=\"color: #008000; text-decoration-color: #008000\">'Script_CRFSBINv4'</span>,\n",
       "    <span style=\"color: #008000; text-decoration-color: #008000\">'unit_info'</span>: <span style=\"color: #008000; text-decoration-color: #008000\">'Stationary'</span>,\n",
       "    <span style=\"color: #008000; text-decoration-color: #008000\">'file_number'</span>: <span style=\"color: #008080; text-decoration-color: #008080; font-weight: bold\">0</span>,\n",
       "    <span style=\"color: #008000; text-decoration-color: #008000\">'identifier'</span>: <span style=\"color: #008000; text-decoration-color: #008000\">'LOGGER_VERSION'</span>,\n",
       "    <span style=\"color: #008000; text-decoration-color: #008000\">'description'</span>: <span style=\"color: #008000; text-decoration-color: #008000\">'ClearWrite. Peak.'</span>,\n",
       "    <span style=\"color: #008000; text-decoration-color: #008000\">'gps'</span>: GPS Data - Median of Coordinates: <span style=\"color: #008080; text-decoration-color: #008080; font-weight: bold\">-12.97163</span>:<span style=\"color: #008080; text-decoration-color: #008080; font-weight: bold\">-38.48149</span> Altitude: <span style=\"color: #008080; text-decoration-color: #008080; font-weight: bold\">151.65</span> \n",
       "#Satellites: <span style=\"color: #008080; text-decoration-color: #008080; font-weight: bold\">12.0</span>,\n",
       "    <span style=\"color: #008000; text-decoration-color: #008000\">'spectrum'</span>: <span style=\"font-weight: bold\">[</span><span style=\"color: #800080; text-decoration-color: #800080; font-weight: bold\">Spectrum</span><span style=\"font-weight: bold\">(</span><span style=\"color: #808000; text-decoration-color: #808000\">type</span>=<span style=\"color: #008080; text-decoration-color: #008080; font-weight: bold\">63</span>, <span style=\"color: #808000; text-decoration-color: #808000\">thread_id</span>=<span style=\"color: #008080; text-decoration-color: #008080; font-weight: bold\">20</span>, <span style=\"color: #808000; text-decoration-color: #808000\">description</span>=<span style=\"color: #008000; text-decoration-color: #008000\">'Peak'</span>, <span style=\"color: #808000; text-decoration-color: #808000\">start_mega</span>=<span style=\"color: #008080; text-decoration-color: #008080; font-weight: bold\">76</span>, \n",
       "<span style=\"color: #808000; text-decoration-color: #808000\">stop_mega</span>=<span style=\"color: #008080; text-decoration-color: #008080; font-weight: bold\">108</span>, <span style=\"color: #808000; text-decoration-color: #808000\">dtype</span>=<span style=\"color: #008000; text-decoration-color: #008000\">'dBm'</span>, <span style=\"color: #808000; text-decoration-color: #808000\">ndata</span>=<span style=\"color: #008080; text-decoration-color: #008080; font-weight: bold\">8192</span>, <span style=\"color: #808000; text-decoration-color: #808000\">processing</span>=<span style=\"color: #008000; text-decoration-color: #008000\">'peak'</span>, <span style=\"color: #808000; text-decoration-color: #808000\">antuid</span>=<span style=\"color: #008080; text-decoration-color: #008080; font-weight: bold\">0</span><span style=\"font-weight: bold\">)</span>, <span style=\"color: #800080; text-decoration-color: #800080; font-weight: bold\">Spectrum</span><span style=\"font-weight: bold\">(</span><span style=\"color: #808000; text-decoration-color: #808000\">type</span>=<span style=\"color: #008080; text-decoration-color: #008080; font-weight: bold\">63</span>, \n",
       "<span style=\"color: #808000; text-decoration-color: #808000\">thread_id</span>=<span style=\"color: #008080; text-decoration-color: #008080; font-weight: bold\">30</span>, <span style=\"color: #808000; text-decoration-color: #808000\">description</span>=<span style=\"color: #008000; text-decoration-color: #008000\">'Peak'</span>, <span style=\"color: #808000; text-decoration-color: #808000\">start_mega</span>=<span style=\"color: #008080; text-decoration-color: #008080; font-weight: bold\">70</span>, <span style=\"color: #808000; text-decoration-color: #808000\">stop_mega</span>=<span style=\"color: #008080; text-decoration-color: #008080; font-weight: bold\">110</span>, <span style=\"color: #808000; text-decoration-color: #808000\">dtype</span>=<span style=\"color: #008000; text-decoration-color: #008000\">'dBm'</span>, <span style=\"color: #808000; text-decoration-color: #808000\">ndata</span>=<span style=\"color: #008080; text-decoration-color: #008080; font-weight: bold\">1024</span>, \n",
       "<span style=\"color: #808000; text-decoration-color: #808000\">processing</span>=<span style=\"color: #008000; text-decoration-color: #008000\">'peak'</span>, <span style=\"color: #808000; text-decoration-color: #808000\">antuid</span>=<span style=\"color: #008080; text-decoration-color: #008080; font-weight: bold\">0</span><span style=\"font-weight: bold\">)</span>, <span style=\"color: #800080; text-decoration-color: #800080; font-weight: bold\">Spectrum</span><span style=\"font-weight: bold\">(</span><span style=\"color: #808000; text-decoration-color: #808000\">type</span>=<span style=\"color: #008080; text-decoration-color: #008080; font-weight: bold\">63</span>, <span style=\"color: #808000; text-decoration-color: #808000\">thread_id</span>=<span style=\"color: #008080; text-decoration-color: #008080; font-weight: bold\">10</span>, <span style=\"color: #808000; text-decoration-color: #808000\">description</span>=<span style=\"color: #008000; text-decoration-color: #008000\">'Peak'</span>, \n",
       "<span style=\"color: #808000; text-decoration-color: #808000\">start_mega</span>=<span style=\"color: #008080; text-decoration-color: #008080; font-weight: bold\">105</span>, <span style=\"color: #808000; text-decoration-color: #808000\">stop_mega</span>=<span style=\"color: #008080; text-decoration-color: #008080; font-weight: bold\">140</span>, <span style=\"color: #808000; text-decoration-color: #808000\">dtype</span>=<span style=\"color: #008000; text-decoration-color: #008000\">'dBm'</span>, <span style=\"color: #808000; text-decoration-color: #808000\">ndata</span>=<span style=\"color: #008080; text-decoration-color: #008080; font-weight: bold\">3584</span>, <span style=\"color: #808000; text-decoration-color: #808000\">processing</span>=<span style=\"color: #008000; text-decoration-color: #008000\">'peak'</span>, <span style=\"color: #808000; text-decoration-color: #808000\">antuid</span>=<span style=\"color: #008080; text-decoration-color: #008080; font-weight: bold\">0</span><span style=\"font-weight: bold\">)</span>, \n",
       "<span style=\"color: #800080; text-decoration-color: #800080; font-weight: bold\">Spectrum</span><span style=\"font-weight: bold\">(</span><span style=\"color: #808000; text-decoration-color: #808000\">type</span>=<span style=\"color: #008080; text-decoration-color: #008080; font-weight: bold\">63</span>, <span style=\"color: #808000; text-decoration-color: #808000\">thread_id</span>=<span style=\"color: #008080; text-decoration-color: #008080; font-weight: bold\">11</span>, <span style=\"color: #808000; text-decoration-color: #808000\">description</span>=<span style=\"color: #008000; text-decoration-color: #008000\">'Peak'</span>, <span style=\"color: #808000; text-decoration-color: #808000\">start_mega</span>=<span style=\"color: #008080; text-decoration-color: #008080; font-weight: bold\">105</span>, <span style=\"color: #808000; text-decoration-color: #808000\">stop_mega</span>=<span style=\"color: #008080; text-decoration-color: #008080; font-weight: bold\">140</span>, \n",
       "<span style=\"color: #808000; text-decoration-color: #808000\">dtype</span>=<span style=\"color: #008000; text-decoration-color: #008000\">'dBm'</span>, <span style=\"color: #808000; text-decoration-color: #808000\">ndata</span>=<span style=\"color: #008080; text-decoration-color: #008080; font-weight: bold\">3584</span>, <span style=\"color: #808000; text-decoration-color: #808000\">processing</span>=<span style=\"color: #008000; text-decoration-color: #008000\">'average'</span>, <span style=\"color: #808000; text-decoration-color: #808000\">antuid</span>=<span style=\"color: #008080; text-decoration-color: #008080; font-weight: bold\">0</span><span style=\"font-weight: bold\">)</span>, <span style=\"color: #800080; text-decoration-color: #800080; font-weight: bold\">Spectrum</span><span style=\"font-weight: bold\">(</span><span style=\"color: #808000; text-decoration-color: #808000\">type</span>=<span style=\"color: #008080; text-decoration-color: #008080; font-weight: bold\">63</span>, <span style=\"color: #808000; text-decoration-color: #808000\">thread_id</span>=<span style=\"color: #008080; text-decoration-color: #008080; font-weight: bold\">12</span>, \n",
       "<span style=\"color: #808000; text-decoration-color: #808000\">description</span>=<span style=\"color: #008000; text-decoration-color: #008000\">'Peak'</span>, <span style=\"color: #808000; text-decoration-color: #808000\">start_mega</span>=<span style=\"color: #008080; text-decoration-color: #008080; font-weight: bold\">105</span>, <span style=\"color: #808000; text-decoration-color: #808000\">stop_mega</span>=<span style=\"color: #008080; text-decoration-color: #008080; font-weight: bold\">140</span>, <span style=\"color: #808000; text-decoration-color: #808000\">dtype</span>=<span style=\"color: #008000; text-decoration-color: #008000\">'dBm'</span>, <span style=\"color: #808000; text-decoration-color: #808000\">ndata</span>=<span style=\"color: #008080; text-decoration-color: #008080; font-weight: bold\">3584</span>, \n",
       "<span style=\"color: #808000; text-decoration-color: #808000\">processing</span>=<span style=\"color: #008000; text-decoration-color: #008000\">'peak'</span>, <span style=\"color: #808000; text-decoration-color: #808000\">antuid</span>=<span style=\"color: #008080; text-decoration-color: #008080; font-weight: bold\">0</span><span style=\"font-weight: bold\">)</span>, <span style=\"color: #800080; text-decoration-color: #800080; font-weight: bold\">Spectrum</span><span style=\"font-weight: bold\">(</span><span style=\"color: #808000; text-decoration-color: #808000\">type</span>=<span style=\"color: #008080; text-decoration-color: #008080; font-weight: bold\">63</span>, <span style=\"color: #808000; text-decoration-color: #808000\">thread_id</span>=<span style=\"color: #008080; text-decoration-color: #008080; font-weight: bold\">13</span>, <span style=\"color: #808000; text-decoration-color: #808000\">description</span>=<span style=\"color: #008000; text-decoration-color: #008000\">'Peak'</span>, \n",
       "<span style=\"color: #808000; text-decoration-color: #808000\">start_mega</span>=<span style=\"color: #008080; text-decoration-color: #008080; font-weight: bold\">105</span>, <span style=\"color: #808000; text-decoration-color: #808000\">stop_mega</span>=<span style=\"color: #008080; text-decoration-color: #008080; font-weight: bold\">140</span>, <span style=\"color: #808000; text-decoration-color: #808000\">dtype</span>=<span style=\"color: #008000; text-decoration-color: #008000\">'dBm'</span>, <span style=\"color: #808000; text-decoration-color: #808000\">ndata</span>=<span style=\"color: #008080; text-decoration-color: #008080; font-weight: bold\">3584</span>, <span style=\"color: #808000; text-decoration-color: #808000\">processing</span>=<span style=\"color: #008000; text-decoration-color: #008000\">'average'</span>, <span style=\"color: #808000; text-decoration-color: #808000\">antuid</span>=<span style=\"color: #008080; text-decoration-color: #008080; font-weight: bold\">0</span><span style=\"font-weight: bold\">)</span>, \n",
       "<span style=\"color: #800080; text-decoration-color: #800080; font-weight: bold\">Spectrum</span><span style=\"font-weight: bold\">(</span><span style=\"color: #808000; text-decoration-color: #808000\">type</span>=<span style=\"color: #008080; text-decoration-color: #008080; font-weight: bold\">64</span>, <span style=\"color: #808000; text-decoration-color: #808000\">thread_id</span>=<span style=\"color: #008080; text-decoration-color: #008080; font-weight: bold\">14</span>, <span style=\"color: #808000; text-decoration-color: #808000\">thresh</span>=<span style=\"color: #008080; text-decoration-color: #008080; font-weight: bold\">-90</span>, <span style=\"color: #808000; text-decoration-color: #808000\">minimum</span>=<span style=\"color: #008080; text-decoration-color: #008080; font-weight: bold\">-147.5</span>, <span style=\"color: #808000; text-decoration-color: #808000\">description</span>=<span style=\"color: #008000; text-decoration-color: #008000\">'Peak'</span>, \n",
       "<span style=\"color: #808000; text-decoration-color: #808000\">start_mega</span>=<span style=\"color: #008080; text-decoration-color: #008080; font-weight: bold\">105</span>, <span style=\"color: #808000; text-decoration-color: #808000\">stop_mega</span>=<span style=\"color: #008080; text-decoration-color: #008080; font-weight: bold\">140</span>, <span style=\"color: #808000; text-decoration-color: #808000\">dtype</span>=<span style=\"color: #008000; text-decoration-color: #008000\">'dBm'</span>, <span style=\"color: #808000; text-decoration-color: #808000\">ndata</span>=<span style=\"color: #008080; text-decoration-color: #008080; font-weight: bold\">3584</span>, <span style=\"color: #808000; text-decoration-color: #808000\">processing</span>=<span style=\"color: #008000; text-decoration-color: #008000\">'average'</span>, <span style=\"color: #808000; text-decoration-color: #808000\">antuid</span>=<span style=\"color: #008080; text-decoration-color: #008080; font-weight: bold\">0</span><span style=\"font-weight: bold\">)</span>, \n",
       "<span style=\"color: #800080; text-decoration-color: #800080; font-weight: bold\">Spectrum</span><span style=\"font-weight: bold\">(</span><span style=\"color: #808000; text-decoration-color: #808000\">type</span>=<span style=\"color: #008080; text-decoration-color: #008080; font-weight: bold\">65</span>, <span style=\"color: #808000; text-decoration-color: #808000\">thread_id</span>=<span style=\"color: #008080; text-decoration-color: #008080; font-weight: bold\">15</span>, <span style=\"color: #808000; text-decoration-color: #808000\">start_mega</span>=<span style=\"color: #008080; text-decoration-color: #008080; font-weight: bold\">105</span>, <span style=\"color: #808000; text-decoration-color: #808000\">stop_mega</span>=<span style=\"color: #008080; text-decoration-color: #008080; font-weight: bold\">140</span>, <span style=\"color: #808000; text-decoration-color: #808000\">dtype</span>=<span style=\"color: #008000; text-decoration-color: #008000\">'dBm'</span>, <span style=\"color: #808000; text-decoration-color: #808000\">ndata</span>=<span style=\"color: #008080; text-decoration-color: #008080; font-weight: bold\">3584</span>, \n",
       "<span style=\"color: #808000; text-decoration-color: #808000\">processing</span>=<span style=\"color: #008000; text-decoration-color: #008000\">'peak'</span>, <span style=\"color: #808000; text-decoration-color: #808000\">antuid</span>=<span style=\"color: #008080; text-decoration-color: #008080; font-weight: bold\">0</span><span style=\"font-weight: bold\">)]</span>\n",
       "<span style=\"font-weight: bold\">}</span>\n",
       "</pre>\n"
      ],
      "text/plain": [
       "\u001b[1m{\u001b[0m\n",
       "    \u001b[32m'filename'\u001b[0m: \u001b[32m'rfeye002292_210208_T202215_CRFSBINv.4.bin'\u001b[0m,\n",
       "    \u001b[32m'file_version'\u001b[0m: \u001b[1;36m22\u001b[0m,\n",
       "    \u001b[32m'string'\u001b[0m: \u001b[32m'CRFS DATA FILE V022'\u001b[0m,\n",
       "    \u001b[32m'hostname'\u001b[0m: \u001b[32m'rfeye002292'\u001b[0m,\n",
       "    \u001b[32m'method'\u001b[0m: \u001b[32m'Script_CRFSBINv4'\u001b[0m,\n",
       "    \u001b[32m'unit_info'\u001b[0m: \u001b[32m'Stationary'\u001b[0m,\n",
       "    \u001b[32m'file_number'\u001b[0m: \u001b[1;36m0\u001b[0m,\n",
       "    \u001b[32m'identifier'\u001b[0m: \u001b[32m'LOGGER_VERSION'\u001b[0m,\n",
       "    \u001b[32m'description'\u001b[0m: \u001b[32m'ClearWrite. Peak.'\u001b[0m,\n",
       "    \u001b[32m'gps'\u001b[0m: GPS Data - Median of Coordinates: \u001b[1;36m-12.97163\u001b[0m:\u001b[1;36m-38.48149\u001b[0m Altitude: \u001b[1;36m151.65\u001b[0m \n",
       "#Satellites: \u001b[1;36m12.0\u001b[0m,\n",
       "    \u001b[32m'spectrum'\u001b[0m: \u001b[1m[\u001b[0m\u001b[1;35mSpectrum\u001b[0m\u001b[1m(\u001b[0m\u001b[33mtype\u001b[0m=\u001b[1;36m63\u001b[0m, \u001b[33mthread_id\u001b[0m=\u001b[1;36m20\u001b[0m, \u001b[33mdescription\u001b[0m=\u001b[32m'Peak'\u001b[0m, \u001b[33mstart_mega\u001b[0m=\u001b[1;36m76\u001b[0m, \n",
       "\u001b[33mstop_mega\u001b[0m=\u001b[1;36m108\u001b[0m, \u001b[33mdtype\u001b[0m=\u001b[32m'dBm'\u001b[0m, \u001b[33mndata\u001b[0m=\u001b[1;36m8192\u001b[0m, \u001b[33mprocessing\u001b[0m=\u001b[32m'peak'\u001b[0m, \u001b[33mantuid\u001b[0m=\u001b[1;36m0\u001b[0m\u001b[1m)\u001b[0m, \u001b[1;35mSpectrum\u001b[0m\u001b[1m(\u001b[0m\u001b[33mtype\u001b[0m=\u001b[1;36m63\u001b[0m, \n",
       "\u001b[33mthread_id\u001b[0m=\u001b[1;36m30\u001b[0m, \u001b[33mdescription\u001b[0m=\u001b[32m'Peak'\u001b[0m, \u001b[33mstart_mega\u001b[0m=\u001b[1;36m70\u001b[0m, \u001b[33mstop_mega\u001b[0m=\u001b[1;36m110\u001b[0m, \u001b[33mdtype\u001b[0m=\u001b[32m'dBm'\u001b[0m, \u001b[33mndata\u001b[0m=\u001b[1;36m1024\u001b[0m, \n",
       "\u001b[33mprocessing\u001b[0m=\u001b[32m'peak'\u001b[0m, \u001b[33mantuid\u001b[0m=\u001b[1;36m0\u001b[0m\u001b[1m)\u001b[0m, \u001b[1;35mSpectrum\u001b[0m\u001b[1m(\u001b[0m\u001b[33mtype\u001b[0m=\u001b[1;36m63\u001b[0m, \u001b[33mthread_id\u001b[0m=\u001b[1;36m10\u001b[0m, \u001b[33mdescription\u001b[0m=\u001b[32m'Peak'\u001b[0m, \n",
       "\u001b[33mstart_mega\u001b[0m=\u001b[1;36m105\u001b[0m, \u001b[33mstop_mega\u001b[0m=\u001b[1;36m140\u001b[0m, \u001b[33mdtype\u001b[0m=\u001b[32m'dBm'\u001b[0m, \u001b[33mndata\u001b[0m=\u001b[1;36m3584\u001b[0m, \u001b[33mprocessing\u001b[0m=\u001b[32m'peak'\u001b[0m, \u001b[33mantuid\u001b[0m=\u001b[1;36m0\u001b[0m\u001b[1m)\u001b[0m, \n",
       "\u001b[1;35mSpectrum\u001b[0m\u001b[1m(\u001b[0m\u001b[33mtype\u001b[0m=\u001b[1;36m63\u001b[0m, \u001b[33mthread_id\u001b[0m=\u001b[1;36m11\u001b[0m, \u001b[33mdescription\u001b[0m=\u001b[32m'Peak'\u001b[0m, \u001b[33mstart_mega\u001b[0m=\u001b[1;36m105\u001b[0m, \u001b[33mstop_mega\u001b[0m=\u001b[1;36m140\u001b[0m, \n",
       "\u001b[33mdtype\u001b[0m=\u001b[32m'dBm'\u001b[0m, \u001b[33mndata\u001b[0m=\u001b[1;36m3584\u001b[0m, \u001b[33mprocessing\u001b[0m=\u001b[32m'average'\u001b[0m, \u001b[33mantuid\u001b[0m=\u001b[1;36m0\u001b[0m\u001b[1m)\u001b[0m, \u001b[1;35mSpectrum\u001b[0m\u001b[1m(\u001b[0m\u001b[33mtype\u001b[0m=\u001b[1;36m63\u001b[0m, \u001b[33mthread_id\u001b[0m=\u001b[1;36m12\u001b[0m, \n",
       "\u001b[33mdescription\u001b[0m=\u001b[32m'Peak'\u001b[0m, \u001b[33mstart_mega\u001b[0m=\u001b[1;36m105\u001b[0m, \u001b[33mstop_mega\u001b[0m=\u001b[1;36m140\u001b[0m, \u001b[33mdtype\u001b[0m=\u001b[32m'dBm'\u001b[0m, \u001b[33mndata\u001b[0m=\u001b[1;36m3584\u001b[0m, \n",
       "\u001b[33mprocessing\u001b[0m=\u001b[32m'peak'\u001b[0m, \u001b[33mantuid\u001b[0m=\u001b[1;36m0\u001b[0m\u001b[1m)\u001b[0m, \u001b[1;35mSpectrum\u001b[0m\u001b[1m(\u001b[0m\u001b[33mtype\u001b[0m=\u001b[1;36m63\u001b[0m, \u001b[33mthread_id\u001b[0m=\u001b[1;36m13\u001b[0m, \u001b[33mdescription\u001b[0m=\u001b[32m'Peak'\u001b[0m, \n",
       "\u001b[33mstart_mega\u001b[0m=\u001b[1;36m105\u001b[0m, \u001b[33mstop_mega\u001b[0m=\u001b[1;36m140\u001b[0m, \u001b[33mdtype\u001b[0m=\u001b[32m'dBm'\u001b[0m, \u001b[33mndata\u001b[0m=\u001b[1;36m3584\u001b[0m, \u001b[33mprocessing\u001b[0m=\u001b[32m'average'\u001b[0m, \u001b[33mantuid\u001b[0m=\u001b[1;36m0\u001b[0m\u001b[1m)\u001b[0m, \n",
       "\u001b[1;35mSpectrum\u001b[0m\u001b[1m(\u001b[0m\u001b[33mtype\u001b[0m=\u001b[1;36m64\u001b[0m, \u001b[33mthread_id\u001b[0m=\u001b[1;36m14\u001b[0m, \u001b[33mthresh\u001b[0m=\u001b[1;36m-90\u001b[0m, \u001b[33mminimum\u001b[0m=\u001b[1;36m-147.5\u001b[0m, \u001b[33mdescription\u001b[0m=\u001b[32m'Peak'\u001b[0m, \n",
       "\u001b[33mstart_mega\u001b[0m=\u001b[1;36m105\u001b[0m, \u001b[33mstop_mega\u001b[0m=\u001b[1;36m140\u001b[0m, \u001b[33mdtype\u001b[0m=\u001b[32m'dBm'\u001b[0m, \u001b[33mndata\u001b[0m=\u001b[1;36m3584\u001b[0m, \u001b[33mprocessing\u001b[0m=\u001b[32m'average'\u001b[0m, \u001b[33mantuid\u001b[0m=\u001b[1;36m0\u001b[0m\u001b[1m)\u001b[0m, \n",
       "\u001b[1;35mSpectrum\u001b[0m\u001b[1m(\u001b[0m\u001b[33mtype\u001b[0m=\u001b[1;36m65\u001b[0m, \u001b[33mthread_id\u001b[0m=\u001b[1;36m15\u001b[0m, \u001b[33mstart_mega\u001b[0m=\u001b[1;36m105\u001b[0m, \u001b[33mstop_mega\u001b[0m=\u001b[1;36m140\u001b[0m, \u001b[33mdtype\u001b[0m=\u001b[32m'dBm'\u001b[0m, \u001b[33mndata\u001b[0m=\u001b[1;36m3584\u001b[0m, \n",
       "\u001b[33mprocessing\u001b[0m=\u001b[32m'peak'\u001b[0m, \u001b[33mantuid\u001b[0m=\u001b[1;36m0\u001b[0m\u001b[1m)\u001b[0m\u001b[1m]\u001b[0m\n",
       "\u001b[1m}\u001b[0m\n"
      ]
     },
     "metadata": {},
     "output_type": "display_data"
    }
   ],
   "source": [
    "file = r'binfiles\\v4\\rfeye002292_210208_T202215_CRFSBINv.4.bin'\n",
    "blocks = parse_bin(file)\n",
    "print(blocks)"
   ]
  },
  {
   "cell_type": "code",
   "execution_count": null,
   "metadata": {},
   "outputs": [
    {
     "data": {
      "text/html": [
       "<div>\n",
       "<style scoped>\n",
       "    .dataframe tbody tr th:only-of-type {\n",
       "        vertical-align: middle;\n",
       "    }\n",
       "\n",
       "    .dataframe tbody tr th {\n",
       "        vertical-align: top;\n",
       "    }\n",
       "\n",
       "    .dataframe thead th {\n",
       "        text-align: right;\n",
       "    }\n",
       "</style>\n",
       "<table border=\"1\" class=\"dataframe\">\n",
       "  <thead>\n",
       "    <tr style=\"text-align: right;\">\n",
       "      <th>Frequencies</th>\n",
       "      <th>76.000000</th>\n",
       "      <th>76.003907</th>\n",
       "      <th>76.007813</th>\n",
       "      <th>107.992187</th>\n",
       "      <th>107.996093</th>\n",
       "      <th>108.000000</th>\n",
       "    </tr>\n",
       "    <tr>\n",
       "      <th>Time</th>\n",
       "      <th></th>\n",
       "      <th></th>\n",
       "      <th></th>\n",
       "      <th></th>\n",
       "      <th></th>\n",
       "      <th></th>\n",
       "    </tr>\n",
       "  </thead>\n",
       "  <tbody>\n",
       "    <tr>\n",
       "      <th>2021-02-08 20:22:15.500658</th>\n",
       "      <td>-110.0</td>\n",
       "      <td>-100.5</td>\n",
       "      <td>-99.0</td>\n",
       "      <td>-103.0</td>\n",
       "      <td>-99.0</td>\n",
       "      <td>-96.0</td>\n",
       "    </tr>\n",
       "    <tr>\n",
       "      <th>2021-02-08 20:22:16.142770</th>\n",
       "      <td>-105.5</td>\n",
       "      <td>-100.0</td>\n",
       "      <td>-97.5</td>\n",
       "      <td>-94.5</td>\n",
       "      <td>-95.0</td>\n",
       "      <td>-98.0</td>\n",
       "    </tr>\n",
       "    <tr>\n",
       "      <th>2021-02-08 20:22:16.500750</th>\n",
       "      <td>-104.0</td>\n",
       "      <td>-102.5</td>\n",
       "      <td>-105.5</td>\n",
       "      <td>-95.5</td>\n",
       "      <td>-98.5</td>\n",
       "      <td>-93.0</td>\n",
       "    </tr>\n",
       "    <tr>\n",
       "      <th>2021-02-08 20:22:17.132990</th>\n",
       "      <td>-105.0</td>\n",
       "      <td>-107.0</td>\n",
       "      <td>-103.0</td>\n",
       "      <td>-99.5</td>\n",
       "      <td>-99.5</td>\n",
       "      <td>-102.5</td>\n",
       "    </tr>\n",
       "    <tr>\n",
       "      <th>2021-02-08 20:22:17.501352</th>\n",
       "      <td>-97.5</td>\n",
       "      <td>-101.5</td>\n",
       "      <td>-97.0</td>\n",
       "      <td>-104.5</td>\n",
       "      <td>-102.0</td>\n",
       "      <td>-99.5</td>\n",
       "    </tr>\n",
       "  </tbody>\n",
       "</table>\n",
       "</div>"
      ],
      "text/plain": [
       "Frequencies                 76.000000   76.003907   76.007813   107.992187  \\\n",
       "Time                                                                         \n",
       "2021-02-08 20:22:15.500658      -110.0      -100.5       -99.0      -103.0   \n",
       "2021-02-08 20:22:16.142770      -105.5      -100.0       -97.5       -94.5   \n",
       "2021-02-08 20:22:16.500750      -104.0      -102.5      -105.5       -95.5   \n",
       "2021-02-08 20:22:17.132990      -105.0      -107.0      -103.0       -99.5   \n",
       "2021-02-08 20:22:17.501352       -97.5      -101.5       -97.0      -104.5   \n",
       "\n",
       "Frequencies                 107.996093  108.000000  \n",
       "Time                                                \n",
       "2021-02-08 20:22:15.500658       -99.0       -96.0  \n",
       "2021-02-08 20:22:16.142770       -95.0       -98.0  \n",
       "2021-02-08 20:22:16.500750       -98.5       -93.0  \n",
       "2021-02-08 20:22:17.132990       -99.5      -102.5  \n",
       "2021-02-08 20:22:17.501352      -102.0       -99.5  "
      ]
     },
     "execution_count": null,
     "metadata": {},
     "output_type": "execute_result"
    }
   ],
   "source": [
    "blocks['spectrum'][0].matrix().iloc[:5, [0, 1, 2, -3, -2, -1]]"
   ]
  },
  {
   "cell_type": "markdown",
   "metadata": {},
   "source": [
    "### CRFS Bin - Versão 3"
   ]
  },
  {
   "cell_type": "code",
   "execution_count": null,
   "metadata": {},
   "outputs": [
    {
     "data": {
      "text/html": [
       "<pre style=\"white-space:pre;overflow-x:auto;line-height:normal;font-family:Menlo,'DejaVu Sans Mono',consolas,'Courier New',monospace\"><span style=\"font-weight: bold\">{</span>\n",
       "    <span style=\"color: #008000; text-decoration-color: #008000\">'filename'</span>: <span style=\"color: #008000; text-decoration-color: #008000\">'rfeye002292_210208_T203238_CRFSBINv.3.bin'</span>,\n",
       "    <span style=\"color: #008000; text-decoration-color: #008000\">'file_version'</span>: <span style=\"color: #008080; text-decoration-color: #008080; font-weight: bold\">21</span>,\n",
       "    <span style=\"color: #008000; text-decoration-color: #008000\">'string'</span>: <span style=\"color: #008000; text-decoration-color: #008000\">'CRFS DATA FILE V021'</span>,\n",
       "    <span style=\"color: #008000; text-decoration-color: #008000\">'hostname'</span>: <span style=\"color: #008000; text-decoration-color: #008000\">'rfeye002292'</span>,\n",
       "    <span style=\"color: #008000; text-decoration-color: #008000\">'method'</span>: <span style=\"color: #008000; text-decoration-color: #008000\">'Script_CRFSBINv3'</span>,\n",
       "    <span style=\"color: #008000; text-decoration-color: #008000\">'unit_info'</span>: <span style=\"color: #008000; text-decoration-color: #008000\">'Stationary'</span>,\n",
       "    <span style=\"color: #008000; text-decoration-color: #008000\">'file_number'</span>: <span style=\"color: #008080; text-decoration-color: #008080; font-weight: bold\">0</span>,\n",
       "    <span style=\"color: #008000; text-decoration-color: #008000\">'identifier'</span>: <span style=\"color: #008000; text-decoration-color: #008000\">'LOGGER_VERSION'</span>,\n",
       "    <span style=\"color: #008000; text-decoration-color: #008000\">'description'</span>: <span style=\"color: #008000; text-decoration-color: #008000\">'ClearWrite. Peak.'</span>,\n",
       "    <span style=\"color: #008000; text-decoration-color: #008000\">'gps'</span>: GPS Data - Median of Coordinates: <span style=\"color: #008080; text-decoration-color: #008080; font-weight: bold\">-12.97163</span>:<span style=\"color: #008080; text-decoration-color: #008080; font-weight: bold\">-38.48149</span> Altitude: <span style=\"color: #008080; text-decoration-color: #008080; font-weight: bold\">150.60</span> \n",
       "#Satellites: <span style=\"color: #008080; text-decoration-color: #008080; font-weight: bold\">12.0</span>,\n",
       "    <span style=\"color: #008000; text-decoration-color: #008000\">'spectrum'</span>: <span style=\"font-weight: bold\">[</span><span style=\"color: #800080; text-decoration-color: #800080; font-weight: bold\">Spectrum</span><span style=\"font-weight: bold\">(</span><span style=\"color: #808000; text-decoration-color: #808000\">type</span>=<span style=\"color: #008080; text-decoration-color: #008080; font-weight: bold\">60</span>, <span style=\"color: #808000; text-decoration-color: #808000\">thread_id</span>=<span style=\"color: #008080; text-decoration-color: #008080; font-weight: bold\">10</span>, <span style=\"color: #808000; text-decoration-color: #808000\">start_mega</span>=<span style=\"color: #008080; text-decoration-color: #008080; font-weight: bold\">105</span>, <span style=\"color: #808000; text-decoration-color: #808000\">stop_mega</span>=<span style=\"color: #008080; text-decoration-color: #008080; font-weight: bold\">140</span>, <span style=\"color: #808000; text-decoration-color: #808000\">ndata</span>=<span style=\"color: #008080; text-decoration-color: #008080; font-weight: bold\">3584</span>, \n",
       "<span style=\"color: #808000; text-decoration-color: #808000\">nloops</span>=<span style=\"color: #008080; text-decoration-color: #008080; font-weight: bold\">1</span>, <span style=\"color: #808000; text-decoration-color: #808000\">processing</span>=<span style=\"color: #008000; text-decoration-color: #008000\">'peak'</span>, <span style=\"color: #808000; text-decoration-color: #808000\">antuid</span>=<span style=\"color: #008080; text-decoration-color: #008080; font-weight: bold\">0</span><span style=\"font-weight: bold\">)</span>, <span style=\"color: #800080; text-decoration-color: #800080; font-weight: bold\">Spectrum</span><span style=\"font-weight: bold\">(</span><span style=\"color: #808000; text-decoration-color: #808000\">type</span>=<span style=\"color: #008080; text-decoration-color: #008080; font-weight: bold\">60</span>, <span style=\"color: #808000; text-decoration-color: #808000\">thread_id</span>=<span style=\"color: #008080; text-decoration-color: #008080; font-weight: bold\">11</span>, <span style=\"color: #808000; text-decoration-color: #808000\">start_mega</span>=<span style=\"color: #008080; text-decoration-color: #008080; font-weight: bold\">105</span>, \n",
       "<span style=\"color: #808000; text-decoration-color: #808000\">stop_mega</span>=<span style=\"color: #008080; text-decoration-color: #008080; font-weight: bold\">140</span>, <span style=\"color: #808000; text-decoration-color: #808000\">ndata</span>=<span style=\"color: #008080; text-decoration-color: #008080; font-weight: bold\">3584</span>, <span style=\"color: #808000; text-decoration-color: #808000\">nloops</span>=<span style=\"color: #008080; text-decoration-color: #008080; font-weight: bold\">1</span>, <span style=\"color: #808000; text-decoration-color: #808000\">processing</span>=<span style=\"color: #008000; text-decoration-color: #008000\">'average'</span>, <span style=\"color: #808000; text-decoration-color: #808000\">antuid</span>=<span style=\"color: #008080; text-decoration-color: #008080; font-weight: bold\">0</span><span style=\"font-weight: bold\">)</span>, <span style=\"color: #800080; text-decoration-color: #800080; font-weight: bold\">Spectrum</span><span style=\"font-weight: bold\">(</span><span style=\"color: #808000; text-decoration-color: #808000\">type</span>=<span style=\"color: #008080; text-decoration-color: #008080; font-weight: bold\">60</span>, \n",
       "<span style=\"color: #808000; text-decoration-color: #808000\">thread_id</span>=<span style=\"color: #008080; text-decoration-color: #008080; font-weight: bold\">20</span>, <span style=\"color: #808000; text-decoration-color: #808000\">start_mega</span>=<span style=\"color: #008080; text-decoration-color: #008080; font-weight: bold\">76</span>, <span style=\"color: #808000; text-decoration-color: #808000\">stop_mega</span>=<span style=\"color: #008080; text-decoration-color: #008080; font-weight: bold\">108</span>, <span style=\"color: #808000; text-decoration-color: #808000\">ndata</span>=<span style=\"color: #008080; text-decoration-color: #008080; font-weight: bold\">8192</span>, <span style=\"color: #808000; text-decoration-color: #808000\">nloops</span>=<span style=\"color: #008080; text-decoration-color: #008080; font-weight: bold\">1</span>, <span style=\"color: #808000; text-decoration-color: #808000\">processing</span>=<span style=\"color: #008000; text-decoration-color: #008000\">'peak'</span>, \n",
       "<span style=\"color: #808000; text-decoration-color: #808000\">antuid</span>=<span style=\"color: #008080; text-decoration-color: #008080; font-weight: bold\">0</span><span style=\"font-weight: bold\">)</span>, <span style=\"color: #800080; text-decoration-color: #800080; font-weight: bold\">Spectrum</span><span style=\"font-weight: bold\">(</span><span style=\"color: #808000; text-decoration-color: #808000\">type</span>=<span style=\"color: #008080; text-decoration-color: #008080; font-weight: bold\">60</span>, <span style=\"color: #808000; text-decoration-color: #808000\">thread_id</span>=<span style=\"color: #008080; text-decoration-color: #008080; font-weight: bold\">30</span>, <span style=\"color: #808000; text-decoration-color: #808000\">start_mega</span>=<span style=\"color: #008080; text-decoration-color: #008080; font-weight: bold\">70</span>, <span style=\"color: #808000; text-decoration-color: #808000\">stop_mega</span>=<span style=\"color: #008080; text-decoration-color: #008080; font-weight: bold\">110</span>, <span style=\"color: #808000; text-decoration-color: #808000\">ndata</span>=<span style=\"color: #008080; text-decoration-color: #008080; font-weight: bold\">1024</span>, \n",
       "<span style=\"color: #808000; text-decoration-color: #808000\">nloops</span>=<span style=\"color: #008080; text-decoration-color: #008080; font-weight: bold\">4</span>, <span style=\"color: #808000; text-decoration-color: #808000\">processing</span>=<span style=\"color: #008000; text-decoration-color: #008000\">'peak'</span>, <span style=\"color: #808000; text-decoration-color: #808000\">antuid</span>=<span style=\"color: #008080; text-decoration-color: #008080; font-weight: bold\">0</span><span style=\"font-weight: bold\">)</span>, <span style=\"color: #800080; text-decoration-color: #800080; font-weight: bold\">Spectrum</span><span style=\"font-weight: bold\">(</span><span style=\"color: #808000; text-decoration-color: #808000\">type</span>=<span style=\"color: #008080; text-decoration-color: #008080; font-weight: bold\">60</span>, <span style=\"color: #808000; text-decoration-color: #808000\">thread_id</span>=<span style=\"color: #008080; text-decoration-color: #008080; font-weight: bold\">12</span>, <span style=\"color: #808000; text-decoration-color: #808000\">start_mega</span>=<span style=\"color: #008080; text-decoration-color: #008080; font-weight: bold\">105</span>, \n",
       "<span style=\"color: #808000; text-decoration-color: #808000\">stop_mega</span>=<span style=\"color: #008080; text-decoration-color: #008080; font-weight: bold\">140</span>, <span style=\"color: #808000; text-decoration-color: #808000\">ndata</span>=<span style=\"color: #008080; text-decoration-color: #008080; font-weight: bold\">3584</span>, <span style=\"color: #808000; text-decoration-color: #808000\">nloops</span>=<span style=\"color: #008080; text-decoration-color: #008080; font-weight: bold\">1</span>, <span style=\"color: #808000; text-decoration-color: #808000\">processing</span>=<span style=\"color: #008000; text-decoration-color: #008000\">'peak'</span>, <span style=\"color: #808000; text-decoration-color: #808000\">antuid</span>=<span style=\"color: #008080; text-decoration-color: #008080; font-weight: bold\">0</span><span style=\"font-weight: bold\">)</span>, <span style=\"color: #800080; text-decoration-color: #800080; font-weight: bold\">Spectrum</span><span style=\"font-weight: bold\">(</span><span style=\"color: #808000; text-decoration-color: #808000\">type</span>=<span style=\"color: #008080; text-decoration-color: #008080; font-weight: bold\">60</span>, \n",
       "<span style=\"color: #808000; text-decoration-color: #808000\">thread_id</span>=<span style=\"color: #008080; text-decoration-color: #008080; font-weight: bold\">13</span>, <span style=\"color: #808000; text-decoration-color: #808000\">start_mega</span>=<span style=\"color: #008080; text-decoration-color: #008080; font-weight: bold\">105</span>, <span style=\"color: #808000; text-decoration-color: #808000\">stop_mega</span>=<span style=\"color: #008080; text-decoration-color: #008080; font-weight: bold\">140</span>, <span style=\"color: #808000; text-decoration-color: #808000\">ndata</span>=<span style=\"color: #008080; text-decoration-color: #008080; font-weight: bold\">3584</span>, <span style=\"color: #808000; text-decoration-color: #808000\">nloops</span>=<span style=\"color: #008080; text-decoration-color: #008080; font-weight: bold\">1</span>, <span style=\"color: #808000; text-decoration-color: #808000\">processing</span>=<span style=\"color: #008000; text-decoration-color: #008000\">'average'</span>, \n",
       "<span style=\"color: #808000; text-decoration-color: #808000\">antuid</span>=<span style=\"color: #008080; text-decoration-color: #008080; font-weight: bold\">0</span><span style=\"font-weight: bold\">)</span>, <span style=\"color: #800080; text-decoration-color: #800080; font-weight: bold\">Spectrum</span><span style=\"font-weight: bold\">(</span><span style=\"color: #808000; text-decoration-color: #808000\">type</span>=<span style=\"color: #008080; text-decoration-color: #008080; font-weight: bold\">61</span>, <span style=\"color: #808000; text-decoration-color: #808000\">thread_id</span>=<span style=\"color: #008080; text-decoration-color: #008080; font-weight: bold\">14</span>, <span style=\"color: #808000; text-decoration-color: #808000\">thresh</span>=<span style=\"color: #008080; text-decoration-color: #008080; font-weight: bold\">-90</span>, <span style=\"color: #808000; text-decoration-color: #808000\">minimum</span>=<span style=\"color: #008080; text-decoration-color: #008080; font-weight: bold\">-147.5</span>, <span style=\"color: #808000; text-decoration-color: #808000\">start_mega</span>=<span style=\"color: #008080; text-decoration-color: #008080; font-weight: bold\">105</span>, \n",
       "<span style=\"color: #808000; text-decoration-color: #808000\">stop_mega</span>=<span style=\"color: #008080; text-decoration-color: #008080; font-weight: bold\">140</span>, <span style=\"color: #808000; text-decoration-color: #808000\">ndata</span>=<span style=\"color: #008080; text-decoration-color: #008080; font-weight: bold\">3584</span>, <span style=\"color: #808000; text-decoration-color: #808000\">nloops</span>=<span style=\"color: #008080; text-decoration-color: #008080; font-weight: bold\">1</span>, <span style=\"color: #808000; text-decoration-color: #808000\">processing</span>=<span style=\"color: #008000; text-decoration-color: #008000\">'average'</span>, <span style=\"color: #808000; text-decoration-color: #808000\">antuid</span>=<span style=\"color: #008080; text-decoration-color: #008080; font-weight: bold\">0</span><span style=\"font-weight: bold\">)</span>, <span style=\"color: #800080; text-decoration-color: #800080; font-weight: bold\">Spectrum</span><span style=\"font-weight: bold\">(</span><span style=\"color: #808000; text-decoration-color: #808000\">type</span>=<span style=\"color: #008080; text-decoration-color: #008080; font-weight: bold\">62</span>, \n",
       "<span style=\"color: #808000; text-decoration-color: #808000\">thread_id</span>=<span style=\"color: #008080; text-decoration-color: #008080; font-weight: bold\">15</span>, <span style=\"color: #808000; text-decoration-color: #808000\">start_mega</span>=<span style=\"color: #008080; text-decoration-color: #008080; font-weight: bold\">105</span>, <span style=\"color: #808000; text-decoration-color: #808000\">stop_mega</span>=<span style=\"color: #008080; text-decoration-color: #008080; font-weight: bold\">140</span>, <span style=\"color: #808000; text-decoration-color: #808000\">thresh</span>=<span style=\"color: #008080; text-decoration-color: #008080; font-weight: bold\">-90</span>, <span style=\"color: #808000; text-decoration-color: #808000\">sampling</span>=<span style=\"color: #008080; text-decoration-color: #008080; font-weight: bold\">9</span>, <span style=\"color: #808000; text-decoration-color: #808000\">ndata</span>=<span style=\"color: #008080; text-decoration-color: #008080; font-weight: bold\">3584</span>, <span style=\"color: #808000; text-decoration-color: #808000\">antuid</span>=<span style=\"color: #008080; text-decoration-color: #008080; font-weight: bold\">0</span><span style=\"font-weight: bold\">)</span>, \n",
       "<span style=\"color: #800080; text-decoration-color: #800080; font-weight: bold\">Spectrum</span><span style=\"font-weight: bold\">(</span><span style=\"color: #808000; text-decoration-color: #808000\">type</span>=<span style=\"color: #008080; text-decoration-color: #008080; font-weight: bold\">62</span>, <span style=\"color: #808000; text-decoration-color: #808000\">thread_id</span>=<span style=\"color: #008080; text-decoration-color: #008080; font-weight: bold\">15</span>, <span style=\"color: #808000; text-decoration-color: #808000\">start_mega</span>=<span style=\"color: #008080; text-decoration-color: #008080; font-weight: bold\">105</span>, <span style=\"color: #808000; text-decoration-color: #808000\">stop_mega</span>=<span style=\"color: #008080; text-decoration-color: #008080; font-weight: bold\">140</span>, <span style=\"color: #808000; text-decoration-color: #808000\">thresh</span>=<span style=\"color: #008080; text-decoration-color: #008080; font-weight: bold\">-90</span>, <span style=\"color: #808000; text-decoration-color: #808000\">sampling</span>=<span style=\"color: #008080; text-decoration-color: #008080; font-weight: bold\">10</span>, \n",
       "<span style=\"color: #808000; text-decoration-color: #808000\">ndata</span>=<span style=\"color: #008080; text-decoration-color: #008080; font-weight: bold\">3584</span>, <span style=\"color: #808000; text-decoration-color: #808000\">antuid</span>=<span style=\"color: #008080; text-decoration-color: #008080; font-weight: bold\">0</span><span style=\"font-weight: bold\">)]</span>\n",
       "<span style=\"font-weight: bold\">}</span>\n",
       "</pre>\n"
      ],
      "text/plain": [
       "\u001b[1m{\u001b[0m\n",
       "    \u001b[32m'filename'\u001b[0m: \u001b[32m'rfeye002292_210208_T203238_CRFSBINv.3.bin'\u001b[0m,\n",
       "    \u001b[32m'file_version'\u001b[0m: \u001b[1;36m21\u001b[0m,\n",
       "    \u001b[32m'string'\u001b[0m: \u001b[32m'CRFS DATA FILE V021'\u001b[0m,\n",
       "    \u001b[32m'hostname'\u001b[0m: \u001b[32m'rfeye002292'\u001b[0m,\n",
       "    \u001b[32m'method'\u001b[0m: \u001b[32m'Script_CRFSBINv3'\u001b[0m,\n",
       "    \u001b[32m'unit_info'\u001b[0m: \u001b[32m'Stationary'\u001b[0m,\n",
       "    \u001b[32m'file_number'\u001b[0m: \u001b[1;36m0\u001b[0m,\n",
       "    \u001b[32m'identifier'\u001b[0m: \u001b[32m'LOGGER_VERSION'\u001b[0m,\n",
       "    \u001b[32m'description'\u001b[0m: \u001b[32m'ClearWrite. Peak.'\u001b[0m,\n",
       "    \u001b[32m'gps'\u001b[0m: GPS Data - Median of Coordinates: \u001b[1;36m-12.97163\u001b[0m:\u001b[1;36m-38.48149\u001b[0m Altitude: \u001b[1;36m150.60\u001b[0m \n",
       "#Satellites: \u001b[1;36m12.0\u001b[0m,\n",
       "    \u001b[32m'spectrum'\u001b[0m: \u001b[1m[\u001b[0m\u001b[1;35mSpectrum\u001b[0m\u001b[1m(\u001b[0m\u001b[33mtype\u001b[0m=\u001b[1;36m60\u001b[0m, \u001b[33mthread_id\u001b[0m=\u001b[1;36m10\u001b[0m, \u001b[33mstart_mega\u001b[0m=\u001b[1;36m105\u001b[0m, \u001b[33mstop_mega\u001b[0m=\u001b[1;36m140\u001b[0m, \u001b[33mndata\u001b[0m=\u001b[1;36m3584\u001b[0m, \n",
       "\u001b[33mnloops\u001b[0m=\u001b[1;36m1\u001b[0m, \u001b[33mprocessing\u001b[0m=\u001b[32m'peak'\u001b[0m, \u001b[33mantuid\u001b[0m=\u001b[1;36m0\u001b[0m\u001b[1m)\u001b[0m, \u001b[1;35mSpectrum\u001b[0m\u001b[1m(\u001b[0m\u001b[33mtype\u001b[0m=\u001b[1;36m60\u001b[0m, \u001b[33mthread_id\u001b[0m=\u001b[1;36m11\u001b[0m, \u001b[33mstart_mega\u001b[0m=\u001b[1;36m105\u001b[0m, \n",
       "\u001b[33mstop_mega\u001b[0m=\u001b[1;36m140\u001b[0m, \u001b[33mndata\u001b[0m=\u001b[1;36m3584\u001b[0m, \u001b[33mnloops\u001b[0m=\u001b[1;36m1\u001b[0m, \u001b[33mprocessing\u001b[0m=\u001b[32m'average'\u001b[0m, \u001b[33mantuid\u001b[0m=\u001b[1;36m0\u001b[0m\u001b[1m)\u001b[0m, \u001b[1;35mSpectrum\u001b[0m\u001b[1m(\u001b[0m\u001b[33mtype\u001b[0m=\u001b[1;36m60\u001b[0m, \n",
       "\u001b[33mthread_id\u001b[0m=\u001b[1;36m20\u001b[0m, \u001b[33mstart_mega\u001b[0m=\u001b[1;36m76\u001b[0m, \u001b[33mstop_mega\u001b[0m=\u001b[1;36m108\u001b[0m, \u001b[33mndata\u001b[0m=\u001b[1;36m8192\u001b[0m, \u001b[33mnloops\u001b[0m=\u001b[1;36m1\u001b[0m, \u001b[33mprocessing\u001b[0m=\u001b[32m'peak'\u001b[0m, \n",
       "\u001b[33mantuid\u001b[0m=\u001b[1;36m0\u001b[0m\u001b[1m)\u001b[0m, \u001b[1;35mSpectrum\u001b[0m\u001b[1m(\u001b[0m\u001b[33mtype\u001b[0m=\u001b[1;36m60\u001b[0m, \u001b[33mthread_id\u001b[0m=\u001b[1;36m30\u001b[0m, \u001b[33mstart_mega\u001b[0m=\u001b[1;36m70\u001b[0m, \u001b[33mstop_mega\u001b[0m=\u001b[1;36m110\u001b[0m, \u001b[33mndata\u001b[0m=\u001b[1;36m1024\u001b[0m, \n",
       "\u001b[33mnloops\u001b[0m=\u001b[1;36m4\u001b[0m, \u001b[33mprocessing\u001b[0m=\u001b[32m'peak'\u001b[0m, \u001b[33mantuid\u001b[0m=\u001b[1;36m0\u001b[0m\u001b[1m)\u001b[0m, \u001b[1;35mSpectrum\u001b[0m\u001b[1m(\u001b[0m\u001b[33mtype\u001b[0m=\u001b[1;36m60\u001b[0m, \u001b[33mthread_id\u001b[0m=\u001b[1;36m12\u001b[0m, \u001b[33mstart_mega\u001b[0m=\u001b[1;36m105\u001b[0m, \n",
       "\u001b[33mstop_mega\u001b[0m=\u001b[1;36m140\u001b[0m, \u001b[33mndata\u001b[0m=\u001b[1;36m3584\u001b[0m, \u001b[33mnloops\u001b[0m=\u001b[1;36m1\u001b[0m, \u001b[33mprocessing\u001b[0m=\u001b[32m'peak'\u001b[0m, \u001b[33mantuid\u001b[0m=\u001b[1;36m0\u001b[0m\u001b[1m)\u001b[0m, \u001b[1;35mSpectrum\u001b[0m\u001b[1m(\u001b[0m\u001b[33mtype\u001b[0m=\u001b[1;36m60\u001b[0m, \n",
       "\u001b[33mthread_id\u001b[0m=\u001b[1;36m13\u001b[0m, \u001b[33mstart_mega\u001b[0m=\u001b[1;36m105\u001b[0m, \u001b[33mstop_mega\u001b[0m=\u001b[1;36m140\u001b[0m, \u001b[33mndata\u001b[0m=\u001b[1;36m3584\u001b[0m, \u001b[33mnloops\u001b[0m=\u001b[1;36m1\u001b[0m, \u001b[33mprocessing\u001b[0m=\u001b[32m'average'\u001b[0m, \n",
       "\u001b[33mantuid\u001b[0m=\u001b[1;36m0\u001b[0m\u001b[1m)\u001b[0m, \u001b[1;35mSpectrum\u001b[0m\u001b[1m(\u001b[0m\u001b[33mtype\u001b[0m=\u001b[1;36m61\u001b[0m, \u001b[33mthread_id\u001b[0m=\u001b[1;36m14\u001b[0m, \u001b[33mthresh\u001b[0m=\u001b[1;36m-90\u001b[0m, \u001b[33mminimum\u001b[0m=\u001b[1;36m-147.5\u001b[0m, \u001b[33mstart_mega\u001b[0m=\u001b[1;36m105\u001b[0m, \n",
       "\u001b[33mstop_mega\u001b[0m=\u001b[1;36m140\u001b[0m, \u001b[33mndata\u001b[0m=\u001b[1;36m3584\u001b[0m, \u001b[33mnloops\u001b[0m=\u001b[1;36m1\u001b[0m, \u001b[33mprocessing\u001b[0m=\u001b[32m'average'\u001b[0m, \u001b[33mantuid\u001b[0m=\u001b[1;36m0\u001b[0m\u001b[1m)\u001b[0m, \u001b[1;35mSpectrum\u001b[0m\u001b[1m(\u001b[0m\u001b[33mtype\u001b[0m=\u001b[1;36m62\u001b[0m, \n",
       "\u001b[33mthread_id\u001b[0m=\u001b[1;36m15\u001b[0m, \u001b[33mstart_mega\u001b[0m=\u001b[1;36m105\u001b[0m, \u001b[33mstop_mega\u001b[0m=\u001b[1;36m140\u001b[0m, \u001b[33mthresh\u001b[0m=\u001b[1;36m-90\u001b[0m, \u001b[33msampling\u001b[0m=\u001b[1;36m9\u001b[0m, \u001b[33mndata\u001b[0m=\u001b[1;36m3584\u001b[0m, \u001b[33mantuid\u001b[0m=\u001b[1;36m0\u001b[0m\u001b[1m)\u001b[0m, \n",
       "\u001b[1;35mSpectrum\u001b[0m\u001b[1m(\u001b[0m\u001b[33mtype\u001b[0m=\u001b[1;36m62\u001b[0m, \u001b[33mthread_id\u001b[0m=\u001b[1;36m15\u001b[0m, \u001b[33mstart_mega\u001b[0m=\u001b[1;36m105\u001b[0m, \u001b[33mstop_mega\u001b[0m=\u001b[1;36m140\u001b[0m, \u001b[33mthresh\u001b[0m=\u001b[1;36m-90\u001b[0m, \u001b[33msampling\u001b[0m=\u001b[1;36m10\u001b[0m, \n",
       "\u001b[33mndata\u001b[0m=\u001b[1;36m3584\u001b[0m, \u001b[33mantuid\u001b[0m=\u001b[1;36m0\u001b[0m\u001b[1m)\u001b[0m\u001b[1m]\u001b[0m\n",
       "\u001b[1m}\u001b[0m\n"
      ]
     },
     "metadata": {},
     "output_type": "display_data"
    }
   ],
   "source": [
    "file = r'binfiles\\v3\\rfeye002292_210208_T203238_CRFSBINv.3.bin'\n",
    "blocks = parse_bin(file)\n",
    "print(blocks)"
   ]
  },
  {
   "cell_type": "code",
   "execution_count": null,
   "metadata": {},
   "outputs": [
    {
     "data": {
      "text/html": [
       "<div>\n",
       "<style scoped>\n",
       "    .dataframe tbody tr th:only-of-type {\n",
       "        vertical-align: middle;\n",
       "    }\n",
       "\n",
       "    .dataframe tbody tr th {\n",
       "        vertical-align: top;\n",
       "    }\n",
       "\n",
       "    .dataframe thead th {\n",
       "        text-align: right;\n",
       "    }\n",
       "</style>\n",
       "<table border=\"1\" class=\"dataframe\">\n",
       "  <thead>\n",
       "    <tr style=\"text-align: right;\">\n",
       "      <th>Frequencies</th>\n",
       "      <th>105.000000</th>\n",
       "      <th>105.009768</th>\n",
       "      <th>105.019537</th>\n",
       "      <th>139.980463</th>\n",
       "      <th>139.990232</th>\n",
       "      <th>140.000000</th>\n",
       "    </tr>\n",
       "    <tr>\n",
       "      <th>Time</th>\n",
       "      <th></th>\n",
       "      <th></th>\n",
       "      <th></th>\n",
       "      <th></th>\n",
       "      <th></th>\n",
       "      <th></th>\n",
       "    </tr>\n",
       "  </thead>\n",
       "  <tbody>\n",
       "    <tr>\n",
       "      <th>2021-02-08 20:32:39.548000</th>\n",
       "      <td>-76.5</td>\n",
       "      <td>-76.0</td>\n",
       "      <td>-76.5</td>\n",
       "      <td>-94.5</td>\n",
       "      <td>-91.0</td>\n",
       "      <td>-90.0</td>\n",
       "    </tr>\n",
       "    <tr>\n",
       "      <th>2021-02-08 20:32:40.133600</th>\n",
       "      <td>-79.5</td>\n",
       "      <td>-80.5</td>\n",
       "      <td>-79.5</td>\n",
       "      <td>-99.0</td>\n",
       "      <td>-94.5</td>\n",
       "      <td>-92.5</td>\n",
       "    </tr>\n",
       "    <tr>\n",
       "      <th>2021-02-08 20:32:41.858000</th>\n",
       "      <td>-69.0</td>\n",
       "      <td>-69.0</td>\n",
       "      <td>-69.0</td>\n",
       "      <td>-97.5</td>\n",
       "      <td>-92.5</td>\n",
       "      <td>-90.0</td>\n",
       "    </tr>\n",
       "    <tr>\n",
       "      <th>2021-02-08 20:32:42.137500</th>\n",
       "      <td>-70.5</td>\n",
       "      <td>-71.0</td>\n",
       "      <td>-71.5</td>\n",
       "      <td>-97.0</td>\n",
       "      <td>-98.0</td>\n",
       "      <td>-94.5</td>\n",
       "    </tr>\n",
       "    <tr>\n",
       "      <th>2021-02-08 20:32:43.716000</th>\n",
       "      <td>-71.0</td>\n",
       "      <td>-69.5</td>\n",
       "      <td>-70.0</td>\n",
       "      <td>-97.0</td>\n",
       "      <td>-89.0</td>\n",
       "      <td>-87.0</td>\n",
       "    </tr>\n",
       "  </tbody>\n",
       "</table>\n",
       "</div>"
      ],
      "text/plain": [
       "Frequencies                 105.000000  105.009768  105.019537  139.980463  \\\n",
       "Time                                                                         \n",
       "2021-02-08 20:32:39.548000       -76.5       -76.0       -76.5       -94.5   \n",
       "2021-02-08 20:32:40.133600       -79.5       -80.5       -79.5       -99.0   \n",
       "2021-02-08 20:32:41.858000       -69.0       -69.0       -69.0       -97.5   \n",
       "2021-02-08 20:32:42.137500       -70.5       -71.0       -71.5       -97.0   \n",
       "2021-02-08 20:32:43.716000       -71.0       -69.5       -70.0       -97.0   \n",
       "\n",
       "Frequencies                 139.990232  140.000000  \n",
       "Time                                                \n",
       "2021-02-08 20:32:39.548000       -91.0       -90.0  \n",
       "2021-02-08 20:32:40.133600       -94.5       -92.5  \n",
       "2021-02-08 20:32:41.858000       -92.5       -90.0  \n",
       "2021-02-08 20:32:42.137500       -98.0       -94.5  \n",
       "2021-02-08 20:32:43.716000       -89.0       -87.0  "
      ]
     },
     "execution_count": null,
     "metadata": {},
     "output_type": "execute_result"
    }
   ],
   "source": [
    "blocks['spectrum'][0].matrix().iloc[:5, [0, 1, 2, -3, -2, -1]]"
   ]
  },
  {
   "cell_type": "markdown",
   "metadata": {},
   "source": [
    "### CRFS Bin Versão 2"
   ]
  },
  {
   "cell_type": "code",
   "execution_count": null,
   "metadata": {},
   "outputs": [
    {
     "data": {
      "text/html": [
       "<pre style=\"white-space:pre;overflow-x:auto;line-height:normal;font-family:Menlo,'DejaVu Sans Mono',consolas,'Courier New',monospace\"><span style=\"font-weight: bold\">{</span>\n",
       "    <span style=\"color: #008000; text-decoration-color: #008000\">'filename'</span>: <span style=\"color: #008000; text-decoration-color: #008000\">'rfeye002092_210208_T203131_CRFSBINv.2.bin'</span>,\n",
       "    <span style=\"color: #008000; text-decoration-color: #008000\">'file_version'</span>: <span style=\"color: #008080; text-decoration-color: #008080; font-weight: bold\">21</span>,\n",
       "    <span style=\"color: #008000; text-decoration-color: #008000\">'string'</span>: <span style=\"color: #008000; text-decoration-color: #008000\">'CRFS DATA FILE V021'</span>,\n",
       "    <span style=\"color: #008000; text-decoration-color: #008000\">'description'</span>: <span style=\"color: #008000; text-decoration-color: #008000\">'ClearWrite. Peak.'</span>,\n",
       "    <span style=\"color: #008000; text-decoration-color: #008000\">'gps'</span>: GPS Data - Median of Coordinates: <span style=\"color: #008080; text-decoration-color: #008080; font-weight: bold\">-1.00000</span>:<span style=\"color: #008080; text-decoration-color: #008080; font-weight: bold\">-1.00000</span> Altitude: <span style=\"color: #008080; text-decoration-color: #008080; font-weight: bold\">-1.00</span> #Satellites: \n",
       "<span style=\"color: #008080; text-decoration-color: #008080; font-weight: bold\">0.0</span>,\n",
       "    <span style=\"color: #008000; text-decoration-color: #008000\">'spectrum'</span>: <span style=\"font-weight: bold\">[</span><span style=\"color: #800080; text-decoration-color: #800080; font-weight: bold\">Spectrum</span><span style=\"font-weight: bold\">(</span><span style=\"color: #808000; text-decoration-color: #808000\">type</span>=<span style=\"color: #008080; text-decoration-color: #008080; font-weight: bold\">4</span>, <span style=\"color: #808000; text-decoration-color: #808000\">thread_id</span>=<span style=\"color: #008080; text-decoration-color: #008080; font-weight: bold\">20</span>, <span style=\"color: #808000; text-decoration-color: #808000\">start_mega</span>=<span style=\"color: #008080; text-decoration-color: #008080; font-weight: bold\">76</span>, <span style=\"color: #808000; text-decoration-color: #808000\">stop_mega</span>=<span style=\"color: #008080; text-decoration-color: #008080; font-weight: bold\">108</span>, <span style=\"color: #808000; text-decoration-color: #808000\">ndata</span>=<span style=\"color: #008080; text-decoration-color: #008080; font-weight: bold\">8192</span>, \n",
       "<span style=\"color: #808000; text-decoration-color: #808000\">processing</span>=<span style=\"color: #008000; text-decoration-color: #008000\">'Peak'</span><span style=\"font-weight: bold\">)</span>, <span style=\"color: #800080; text-decoration-color: #800080; font-weight: bold\">Spectrum</span><span style=\"font-weight: bold\">(</span><span style=\"color: #808000; text-decoration-color: #808000\">type</span>=<span style=\"color: #008080; text-decoration-color: #008080; font-weight: bold\">4</span>, <span style=\"color: #808000; text-decoration-color: #808000\">thread_id</span>=<span style=\"color: #008080; text-decoration-color: #008080; font-weight: bold\">30</span>, <span style=\"color: #808000; text-decoration-color: #808000\">start_mega</span>=<span style=\"color: #008080; text-decoration-color: #008080; font-weight: bold\">70</span>, <span style=\"color: #808000; text-decoration-color: #808000\">stop_mega</span>=<span style=\"color: #008080; text-decoration-color: #008080; font-weight: bold\">110</span>, <span style=\"color: #808000; text-decoration-color: #808000\">ndata</span>=<span style=\"color: #008080; text-decoration-color: #008080; font-weight: bold\">1024</span>, \n",
       "<span style=\"color: #808000; text-decoration-color: #808000\">processing</span>=<span style=\"color: #008000; text-decoration-color: #008000\">'Peak'</span><span style=\"font-weight: bold\">)</span>, <span style=\"color: #800080; text-decoration-color: #800080; font-weight: bold\">Spectrum</span><span style=\"font-weight: bold\">(</span><span style=\"color: #808000; text-decoration-color: #808000\">type</span>=<span style=\"color: #008080; text-decoration-color: #008080; font-weight: bold\">4</span>, <span style=\"color: #808000; text-decoration-color: #808000\">thread_id</span>=<span style=\"color: #008080; text-decoration-color: #008080; font-weight: bold\">10</span>, <span style=\"color: #808000; text-decoration-color: #808000\">start_mega</span>=<span style=\"color: #008080; text-decoration-color: #008080; font-weight: bold\">105</span>, <span style=\"color: #808000; text-decoration-color: #808000\">stop_mega</span>=<span style=\"color: #008080; text-decoration-color: #008080; font-weight: bold\">140</span>, <span style=\"color: #808000; text-decoration-color: #808000\">ndata</span>=<span style=\"color: #008080; text-decoration-color: #008080; font-weight: bold\">3584</span>,\n",
       "<span style=\"color: #808000; text-decoration-color: #808000\">processing</span>=<span style=\"color: #008000; text-decoration-color: #008000\">'Peak'</span><span style=\"font-weight: bold\">)</span>, <span style=\"color: #800080; text-decoration-color: #800080; font-weight: bold\">Spectrum</span><span style=\"font-weight: bold\">(</span><span style=\"color: #808000; text-decoration-color: #808000\">type</span>=<span style=\"color: #008080; text-decoration-color: #008080; font-weight: bold\">4</span>, <span style=\"color: #808000; text-decoration-color: #808000\">thread_id</span>=<span style=\"color: #008080; text-decoration-color: #008080; font-weight: bold\">11</span>, <span style=\"color: #808000; text-decoration-color: #808000\">start_mega</span>=<span style=\"color: #008080; text-decoration-color: #008080; font-weight: bold\">105</span>, <span style=\"color: #808000; text-decoration-color: #808000\">stop_mega</span>=<span style=\"color: #008080; text-decoration-color: #008080; font-weight: bold\">140</span>, <span style=\"color: #808000; text-decoration-color: #808000\">ndata</span>=<span style=\"color: #008080; text-decoration-color: #008080; font-weight: bold\">3584</span>,\n",
       "<span style=\"color: #808000; text-decoration-color: #808000\">processing</span>=<span style=\"color: #008000; text-decoration-color: #008000\">'Average'</span><span style=\"font-weight: bold\">)</span>, <span style=\"color: #800080; text-decoration-color: #800080; font-weight: bold\">Spectrum</span><span style=\"font-weight: bold\">(</span><span style=\"color: #808000; text-decoration-color: #808000\">type</span>=<span style=\"color: #008080; text-decoration-color: #008080; font-weight: bold\">4</span>, <span style=\"color: #808000; text-decoration-color: #808000\">thread_id</span>=<span style=\"color: #008080; text-decoration-color: #008080; font-weight: bold\">12</span>, <span style=\"color: #808000; text-decoration-color: #808000\">start_mega</span>=<span style=\"color: #008080; text-decoration-color: #008080; font-weight: bold\">105</span>, <span style=\"color: #808000; text-decoration-color: #808000\">stop_mega</span>=<span style=\"color: #008080; text-decoration-color: #008080; font-weight: bold\">140</span>, \n",
       "<span style=\"color: #808000; text-decoration-color: #808000\">ndata</span>=<span style=\"color: #008080; text-decoration-color: #008080; font-weight: bold\">3584</span>, <span style=\"color: #808000; text-decoration-color: #808000\">processing</span>=<span style=\"color: #008000; text-decoration-color: #008000\">'Peak'</span><span style=\"font-weight: bold\">)</span>, <span style=\"color: #800080; text-decoration-color: #800080; font-weight: bold\">Spectrum</span><span style=\"font-weight: bold\">(</span><span style=\"color: #808000; text-decoration-color: #808000\">type</span>=<span style=\"color: #008080; text-decoration-color: #008080; font-weight: bold\">4</span>, <span style=\"color: #808000; text-decoration-color: #808000\">thread_id</span>=<span style=\"color: #008080; text-decoration-color: #008080; font-weight: bold\">13</span>, <span style=\"color: #808000; text-decoration-color: #808000\">start_mega</span>=<span style=\"color: #008080; text-decoration-color: #008080; font-weight: bold\">105</span>, <span style=\"color: #808000; text-decoration-color: #808000\">stop_mega</span>=<span style=\"color: #008080; text-decoration-color: #008080; font-weight: bold\">140</span>,\n",
       "<span style=\"color: #808000; text-decoration-color: #808000\">ndata</span>=<span style=\"color: #008080; text-decoration-color: #008080; font-weight: bold\">3584</span>, <span style=\"color: #808000; text-decoration-color: #808000\">processing</span>=<span style=\"color: #008000; text-decoration-color: #008000\">'Average'</span><span style=\"font-weight: bold\">)</span>, <span style=\"color: #800080; text-decoration-color: #800080; font-weight: bold\">Spectrum</span><span style=\"font-weight: bold\">(</span><span style=\"color: #808000; text-decoration-color: #808000\">type</span>=<span style=\"color: #008080; text-decoration-color: #008080; font-weight: bold\">7</span>, <span style=\"color: #808000; text-decoration-color: #808000\">thread_id</span>=<span style=\"color: #008080; text-decoration-color: #008080; font-weight: bold\">14</span>, <span style=\"color: #808000; text-decoration-color: #808000\">thresh</span>=<span style=\"color: #008080; text-decoration-color: #008080; font-weight: bold\">-90</span>, <span style=\"color: #808000; text-decoration-color: #808000\">minimum</span>=<span style=\"color: #008080; text-decoration-color: #008080; font-weight: bold\">-147.5</span>,\n",
       "<span style=\"color: #808000; text-decoration-color: #808000\">start_mega</span>=<span style=\"color: #008080; text-decoration-color: #008080; font-weight: bold\">105</span>, <span style=\"color: #808000; text-decoration-color: #808000\">stop_mega</span>=<span style=\"color: #008080; text-decoration-color: #008080; font-weight: bold\">140</span>, <span style=\"color: #808000; text-decoration-color: #808000\">ndata</span>=<span style=\"color: #008080; text-decoration-color: #008080; font-weight: bold\">3584</span><span style=\"font-weight: bold\">)</span>, <span style=\"color: #800080; text-decoration-color: #800080; font-weight: bold\">Spectrum</span><span style=\"font-weight: bold\">(</span><span style=\"color: #808000; text-decoration-color: #808000\">type</span>=<span style=\"color: #008080; text-decoration-color: #008080; font-weight: bold\">8</span>, <span style=\"color: #808000; text-decoration-color: #808000\">thread_id</span>=<span style=\"color: #008080; text-decoration-color: #008080; font-weight: bold\">15</span>, <span style=\"color: #808000; text-decoration-color: #808000\">start_mega</span>=<span style=\"color: #008080; text-decoration-color: #008080; font-weight: bold\">105</span>, \n",
       "<span style=\"color: #808000; text-decoration-color: #808000\">stop_mega</span>=<span style=\"color: #008080; text-decoration-color: #008080; font-weight: bold\">140</span>, <span style=\"color: #808000; text-decoration-color: #808000\">sampling</span>=<span style=\"color: #008080; text-decoration-color: #008080; font-weight: bold\">9</span>, <span style=\"color: #808000; text-decoration-color: #808000\">ndata</span>=<span style=\"color: #008080; text-decoration-color: #008080; font-weight: bold\">3584</span><span style=\"font-weight: bold\">)</span>, <span style=\"color: #800080; text-decoration-color: #800080; font-weight: bold\">Spectrum</span><span style=\"font-weight: bold\">(</span><span style=\"color: #808000; text-decoration-color: #808000\">type</span>=<span style=\"color: #008080; text-decoration-color: #008080; font-weight: bold\">8</span>, <span style=\"color: #808000; text-decoration-color: #808000\">thread_id</span>=<span style=\"color: #008080; text-decoration-color: #008080; font-weight: bold\">15</span>, <span style=\"color: #808000; text-decoration-color: #808000\">start_mega</span>=<span style=\"color: #008080; text-decoration-color: #008080; font-weight: bold\">105</span>, \n",
       "<span style=\"color: #808000; text-decoration-color: #808000\">stop_mega</span>=<span style=\"color: #008080; text-decoration-color: #008080; font-weight: bold\">140</span>, <span style=\"color: #808000; text-decoration-color: #808000\">sampling</span>=<span style=\"color: #008080; text-decoration-color: #008080; font-weight: bold\">10</span>, <span style=\"color: #808000; text-decoration-color: #808000\">ndata</span>=<span style=\"color: #008080; text-decoration-color: #008080; font-weight: bold\">3584</span><span style=\"font-weight: bold\">)]</span>\n",
       "<span style=\"font-weight: bold\">}</span>\n",
       "</pre>\n"
      ],
      "text/plain": [
       "\u001b[1m{\u001b[0m\n",
       "    \u001b[32m'filename'\u001b[0m: \u001b[32m'rfeye002092_210208_T203131_CRFSBINv.2.bin'\u001b[0m,\n",
       "    \u001b[32m'file_version'\u001b[0m: \u001b[1;36m21\u001b[0m,\n",
       "    \u001b[32m'string'\u001b[0m: \u001b[32m'CRFS DATA FILE V021'\u001b[0m,\n",
       "    \u001b[32m'description'\u001b[0m: \u001b[32m'ClearWrite. Peak.'\u001b[0m,\n",
       "    \u001b[32m'gps'\u001b[0m: GPS Data - Median of Coordinates: \u001b[1;36m-1.00000\u001b[0m:\u001b[1;36m-1.00000\u001b[0m Altitude: \u001b[1;36m-1.00\u001b[0m #Satellites: \n",
       "\u001b[1;36m0.0\u001b[0m,\n",
       "    \u001b[32m'spectrum'\u001b[0m: \u001b[1m[\u001b[0m\u001b[1;35mSpectrum\u001b[0m\u001b[1m(\u001b[0m\u001b[33mtype\u001b[0m=\u001b[1;36m4\u001b[0m, \u001b[33mthread_id\u001b[0m=\u001b[1;36m20\u001b[0m, \u001b[33mstart_mega\u001b[0m=\u001b[1;36m76\u001b[0m, \u001b[33mstop_mega\u001b[0m=\u001b[1;36m108\u001b[0m, \u001b[33mndata\u001b[0m=\u001b[1;36m8192\u001b[0m, \n",
       "\u001b[33mprocessing\u001b[0m=\u001b[32m'Peak'\u001b[0m\u001b[1m)\u001b[0m, \u001b[1;35mSpectrum\u001b[0m\u001b[1m(\u001b[0m\u001b[33mtype\u001b[0m=\u001b[1;36m4\u001b[0m, \u001b[33mthread_id\u001b[0m=\u001b[1;36m30\u001b[0m, \u001b[33mstart_mega\u001b[0m=\u001b[1;36m70\u001b[0m, \u001b[33mstop_mega\u001b[0m=\u001b[1;36m110\u001b[0m, \u001b[33mndata\u001b[0m=\u001b[1;36m1024\u001b[0m, \n",
       "\u001b[33mprocessing\u001b[0m=\u001b[32m'Peak'\u001b[0m\u001b[1m)\u001b[0m, \u001b[1;35mSpectrum\u001b[0m\u001b[1m(\u001b[0m\u001b[33mtype\u001b[0m=\u001b[1;36m4\u001b[0m, \u001b[33mthread_id\u001b[0m=\u001b[1;36m10\u001b[0m, \u001b[33mstart_mega\u001b[0m=\u001b[1;36m105\u001b[0m, \u001b[33mstop_mega\u001b[0m=\u001b[1;36m140\u001b[0m, \u001b[33mndata\u001b[0m=\u001b[1;36m3584\u001b[0m,\n",
       "\u001b[33mprocessing\u001b[0m=\u001b[32m'Peak'\u001b[0m\u001b[1m)\u001b[0m, \u001b[1;35mSpectrum\u001b[0m\u001b[1m(\u001b[0m\u001b[33mtype\u001b[0m=\u001b[1;36m4\u001b[0m, \u001b[33mthread_id\u001b[0m=\u001b[1;36m11\u001b[0m, \u001b[33mstart_mega\u001b[0m=\u001b[1;36m105\u001b[0m, \u001b[33mstop_mega\u001b[0m=\u001b[1;36m140\u001b[0m, \u001b[33mndata\u001b[0m=\u001b[1;36m3584\u001b[0m,\n",
       "\u001b[33mprocessing\u001b[0m=\u001b[32m'Average'\u001b[0m\u001b[1m)\u001b[0m, \u001b[1;35mSpectrum\u001b[0m\u001b[1m(\u001b[0m\u001b[33mtype\u001b[0m=\u001b[1;36m4\u001b[0m, \u001b[33mthread_id\u001b[0m=\u001b[1;36m12\u001b[0m, \u001b[33mstart_mega\u001b[0m=\u001b[1;36m105\u001b[0m, \u001b[33mstop_mega\u001b[0m=\u001b[1;36m140\u001b[0m, \n",
       "\u001b[33mndata\u001b[0m=\u001b[1;36m3584\u001b[0m, \u001b[33mprocessing\u001b[0m=\u001b[32m'Peak'\u001b[0m\u001b[1m)\u001b[0m, \u001b[1;35mSpectrum\u001b[0m\u001b[1m(\u001b[0m\u001b[33mtype\u001b[0m=\u001b[1;36m4\u001b[0m, \u001b[33mthread_id\u001b[0m=\u001b[1;36m13\u001b[0m, \u001b[33mstart_mega\u001b[0m=\u001b[1;36m105\u001b[0m, \u001b[33mstop_mega\u001b[0m=\u001b[1;36m140\u001b[0m,\n",
       "\u001b[33mndata\u001b[0m=\u001b[1;36m3584\u001b[0m, \u001b[33mprocessing\u001b[0m=\u001b[32m'Average'\u001b[0m\u001b[1m)\u001b[0m, \u001b[1;35mSpectrum\u001b[0m\u001b[1m(\u001b[0m\u001b[33mtype\u001b[0m=\u001b[1;36m7\u001b[0m, \u001b[33mthread_id\u001b[0m=\u001b[1;36m14\u001b[0m, \u001b[33mthresh\u001b[0m=\u001b[1;36m-90\u001b[0m, \u001b[33mminimum\u001b[0m=\u001b[1;36m-147.5\u001b[0m,\n",
       "\u001b[33mstart_mega\u001b[0m=\u001b[1;36m105\u001b[0m, \u001b[33mstop_mega\u001b[0m=\u001b[1;36m140\u001b[0m, \u001b[33mndata\u001b[0m=\u001b[1;36m3584\u001b[0m\u001b[1m)\u001b[0m, \u001b[1;35mSpectrum\u001b[0m\u001b[1m(\u001b[0m\u001b[33mtype\u001b[0m=\u001b[1;36m8\u001b[0m, \u001b[33mthread_id\u001b[0m=\u001b[1;36m15\u001b[0m, \u001b[33mstart_mega\u001b[0m=\u001b[1;36m105\u001b[0m, \n",
       "\u001b[33mstop_mega\u001b[0m=\u001b[1;36m140\u001b[0m, \u001b[33msampling\u001b[0m=\u001b[1;36m9\u001b[0m, \u001b[33mndata\u001b[0m=\u001b[1;36m3584\u001b[0m\u001b[1m)\u001b[0m, \u001b[1;35mSpectrum\u001b[0m\u001b[1m(\u001b[0m\u001b[33mtype\u001b[0m=\u001b[1;36m8\u001b[0m, \u001b[33mthread_id\u001b[0m=\u001b[1;36m15\u001b[0m, \u001b[33mstart_mega\u001b[0m=\u001b[1;36m105\u001b[0m, \n",
       "\u001b[33mstop_mega\u001b[0m=\u001b[1;36m140\u001b[0m, \u001b[33msampling\u001b[0m=\u001b[1;36m10\u001b[0m, \u001b[33mndata\u001b[0m=\u001b[1;36m3584\u001b[0m\u001b[1m)\u001b[0m\u001b[1m]\u001b[0m\n",
       "\u001b[1m}\u001b[0m\n"
      ]
     },
     "metadata": {},
     "output_type": "display_data"
    }
   ],
   "source": [
    "from rfpye.parser import parse_bin\n",
    "file = r'binfiles\\v2\\rfeye002092_210208_T203131_CRFSBINv.2.bin'\n",
    "blocks = parse_bin(file)\n",
    "print(blocks)"
   ]
  },
  {
   "cell_type": "code",
   "execution_count": null,
   "metadata": {},
   "outputs": [
    {
     "data": {
      "text/html": [
       "<div>\n",
       "<style scoped>\n",
       "    .dataframe tbody tr th:only-of-type {\n",
       "        vertical-align: middle;\n",
       "    }\n",
       "\n",
       "    .dataframe tbody tr th {\n",
       "        vertical-align: top;\n",
       "    }\n",
       "\n",
       "    .dataframe thead th {\n",
       "        text-align: right;\n",
       "    }\n",
       "</style>\n",
       "<table border=\"1\" class=\"dataframe\">\n",
       "  <thead>\n",
       "    <tr style=\"text-align: right;\">\n",
       "      <th>Frequencies</th>\n",
       "      <th>76.000000</th>\n",
       "      <th>76.003907</th>\n",
       "      <th>76.007813</th>\n",
       "      <th>107.992187</th>\n",
       "      <th>107.996093</th>\n",
       "      <th>108.000000</th>\n",
       "    </tr>\n",
       "    <tr>\n",
       "      <th>Time</th>\n",
       "      <th></th>\n",
       "      <th></th>\n",
       "      <th></th>\n",
       "      <th></th>\n",
       "      <th></th>\n",
       "      <th></th>\n",
       "    </tr>\n",
       "  </thead>\n",
       "  <tbody>\n",
       "    <tr>\n",
       "      <th>NaN</th>\n",
       "      <td>10.5</td>\n",
       "      <td>11.5</td>\n",
       "      <td>13.0</td>\n",
       "      <td>31.0</td>\n",
       "      <td>26.0</td>\n",
       "      <td>22.5</td>\n",
       "    </tr>\n",
       "    <tr>\n",
       "      <th>NaN</th>\n",
       "      <td>18.0</td>\n",
       "      <td>19.5</td>\n",
       "      <td>16.5</td>\n",
       "      <td>27.5</td>\n",
       "      <td>29.5</td>\n",
       "      <td>25.5</td>\n",
       "    </tr>\n",
       "    <tr>\n",
       "      <th>NaN</th>\n",
       "      <td>11.5</td>\n",
       "      <td>5.0</td>\n",
       "      <td>8.0</td>\n",
       "      <td>30.5</td>\n",
       "      <td>28.5</td>\n",
       "      <td>30.0</td>\n",
       "    </tr>\n",
       "    <tr>\n",
       "      <th>NaN</th>\n",
       "      <td>4.5</td>\n",
       "      <td>4.5</td>\n",
       "      <td>13.5</td>\n",
       "      <td>27.5</td>\n",
       "      <td>31.0</td>\n",
       "      <td>31.0</td>\n",
       "    </tr>\n",
       "    <tr>\n",
       "      <th>NaN</th>\n",
       "      <td>17.5</td>\n",
       "      <td>15.5</td>\n",
       "      <td>11.0</td>\n",
       "      <td>33.5</td>\n",
       "      <td>29.5</td>\n",
       "      <td>30.0</td>\n",
       "    </tr>\n",
       "  </tbody>\n",
       "</table>\n",
       "</div>"
      ],
      "text/plain": [
       "Frequencies  76.000000   76.003907   76.007813   107.992187  107.996093  \\\n",
       "Time                                                                      \n",
       "NaN                10.5        11.5        13.0        31.0        26.0   \n",
       "NaN                18.0        19.5        16.5        27.5        29.5   \n",
       "NaN                11.5         5.0         8.0        30.5        28.5   \n",
       "NaN                 4.5         4.5        13.5        27.5        31.0   \n",
       "NaN                17.5        15.5        11.0        33.5        29.5   \n",
       "\n",
       "Frequencies  108.000000  \n",
       "Time                     \n",
       "NaN                22.5  \n",
       "NaN                25.5  \n",
       "NaN                30.0  \n",
       "NaN                31.0  \n",
       "NaN                30.0  "
      ]
     },
     "execution_count": null,
     "metadata": {},
     "output_type": "execute_result"
    }
   ],
   "source": [
    "blocks['spectrum'][0].matrix().iloc[:5, [0, 1, 2, -3, -2, -1]]"
   ]
  },
  {
   "cell_type": "markdown",
   "metadata": {},
   "source": [
    "### Fluxo de Ocupação"
   ]
  },
  {
   "cell_type": "code",
   "execution_count": null,
   "metadata": {},
   "outputs": [
    {
     "data": {
      "text/html": [
       "<pre style=\"white-space:pre;overflow-x:auto;line-height:normal;font-family:Menlo,'DejaVu Sans Mono',consolas,'Courier New',monospace\"><span style=\"font-weight: bold\">{</span>\n",
       "    <span style=\"color: #008000; text-decoration-color: #008000\">'filename'</span>: <span style=\"color: #008000; text-decoration-color: #008000\">'rfeye002090-VCP_FM_occ15min_191221_085803.bin'</span>,\n",
       "    <span style=\"color: #008000; text-decoration-color: #008000\">'file_version'</span>: <span style=\"color: #008080; text-decoration-color: #008080; font-weight: bold\">22</span>,\n",
       "    <span style=\"color: #008000; text-decoration-color: #008000\">'string'</span>: <span style=\"color: #008000; text-decoration-color: #008000\">'CRFS DATA FILE V022'</span>,\n",
       "    <span style=\"color: #008000; text-decoration-color: #008000\">'hostname'</span>: <span style=\"color: #008000; text-decoration-color: #008000\">'rfeye002090-VCP'</span>,\n",
       "    <span style=\"color: #008000; text-decoration-color: #008000\">'method'</span>: <span style=\"color: #008000; text-decoration-color: #008000\">'CRFS default method'</span>,\n",
       "    <span style=\"color: #008000; text-decoration-color: #008000\">'unit_info'</span>: <span style=\"color: #008000; text-decoration-color: #008000\">'RFeye002090'</span>,\n",
       "    <span style=\"color: #008000; text-decoration-color: #008000\">'file_number'</span>: <span style=\"color: #008080; text-decoration-color: #008080; font-weight: bold\">0</span>,\n",
       "    <span style=\"color: #008000; text-decoration-color: #008000\">'identifier'</span>: <span style=\"color: #008000; text-decoration-color: #008000\">'LOGGER_VERSION'</span>,\n",
       "    <span style=\"color: #008000; text-decoration-color: #008000\">'description'</span>: <span style=\"color: #008000; text-decoration-color: #008000\">'Ocupacao em 15 minutos na faixa FM'</span>,\n",
       "    <span style=\"color: #008000; text-decoration-color: #008000\">'gps'</span>: GPS Data - Median of Coordinates: <span style=\"color: #008080; text-decoration-color: #008080; font-weight: bold\">-1.00000</span>:<span style=\"color: #008080; text-decoration-color: #008080; font-weight: bold\">-1.00000</span> Altitude: <span style=\"color: #008080; text-decoration-color: #008080; font-weight: bold\">-1.00</span> #Satellites: \n",
       "<span style=\"color: #008080; text-decoration-color: #008080; font-weight: bold\">0.0</span>,\n",
       "    <span style=\"color: #008000; text-decoration-color: #008000\">'spectrum'</span>: <span style=\"font-weight: bold\">[</span><span style=\"color: #800080; text-decoration-color: #800080; font-weight: bold\">Spectrum</span><span style=\"font-weight: bold\">(</span><span style=\"color: #808000; text-decoration-color: #808000\">type</span>=<span style=\"color: #008080; text-decoration-color: #008080; font-weight: bold\">65</span>, <span style=\"color: #808000; text-decoration-color: #808000\">thread_id</span>=<span style=\"color: #008080; text-decoration-color: #008080; font-weight: bold\">121</span>, <span style=\"color: #808000; text-decoration-color: #808000\">start_mega</span>=<span style=\"color: #008080; text-decoration-color: #008080; font-weight: bold\">80</span>, <span style=\"color: #808000; text-decoration-color: #808000\">stop_mega</span>=<span style=\"color: #008080; text-decoration-color: #008080; font-weight: bold\">110</span>, <span style=\"color: #808000; text-decoration-color: #808000\">dtype</span>=<span style=\"color: #008000; text-decoration-color: #008000\">'dBm'</span>, \n",
       "<span style=\"color: #808000; text-decoration-color: #808000\">ndata</span>=<span style=\"color: #008080; text-decoration-color: #008080; font-weight: bold\">1536</span>, <span style=\"color: #808000; text-decoration-color: #808000\">processing</span>=<span style=\"color: #008000; text-decoration-color: #008000\">'peak'</span>, <span style=\"color: #808000; text-decoration-color: #808000\">antuid</span>=<span style=\"color: #008080; text-decoration-color: #008080; font-weight: bold\">0</span><span style=\"font-weight: bold\">)]</span>\n",
       "<span style=\"font-weight: bold\">}</span>\n",
       "</pre>\n"
      ],
      "text/plain": [
       "\u001b[1m{\u001b[0m\n",
       "    \u001b[32m'filename'\u001b[0m: \u001b[32m'rfeye002090-VCP_FM_occ15min_191221_085803.bin'\u001b[0m,\n",
       "    \u001b[32m'file_version'\u001b[0m: \u001b[1;36m22\u001b[0m,\n",
       "    \u001b[32m'string'\u001b[0m: \u001b[32m'CRFS DATA FILE V022'\u001b[0m,\n",
       "    \u001b[32m'hostname'\u001b[0m: \u001b[32m'rfeye002090-VCP'\u001b[0m,\n",
       "    \u001b[32m'method'\u001b[0m: \u001b[32m'CRFS default method'\u001b[0m,\n",
       "    \u001b[32m'unit_info'\u001b[0m: \u001b[32m'RFeye002090'\u001b[0m,\n",
       "    \u001b[32m'file_number'\u001b[0m: \u001b[1;36m0\u001b[0m,\n",
       "    \u001b[32m'identifier'\u001b[0m: \u001b[32m'LOGGER_VERSION'\u001b[0m,\n",
       "    \u001b[32m'description'\u001b[0m: \u001b[32m'Ocupacao em 15 minutos na faixa FM'\u001b[0m,\n",
       "    \u001b[32m'gps'\u001b[0m: GPS Data - Median of Coordinates: \u001b[1;36m-1.00000\u001b[0m:\u001b[1;36m-1.00000\u001b[0m Altitude: \u001b[1;36m-1.00\u001b[0m #Satellites: \n",
       "\u001b[1;36m0.0\u001b[0m,\n",
       "    \u001b[32m'spectrum'\u001b[0m: \u001b[1m[\u001b[0m\u001b[1;35mSpectrum\u001b[0m\u001b[1m(\u001b[0m\u001b[33mtype\u001b[0m=\u001b[1;36m65\u001b[0m, \u001b[33mthread_id\u001b[0m=\u001b[1;36m121\u001b[0m, \u001b[33mstart_mega\u001b[0m=\u001b[1;36m80\u001b[0m, \u001b[33mstop_mega\u001b[0m=\u001b[1;36m110\u001b[0m, \u001b[33mdtype\u001b[0m=\u001b[32m'dBm'\u001b[0m, \n",
       "\u001b[33mndata\u001b[0m=\u001b[1;36m1536\u001b[0m, \u001b[33mprocessing\u001b[0m=\u001b[32m'peak'\u001b[0m, \u001b[33mantuid\u001b[0m=\u001b[1;36m0\u001b[0m\u001b[1m)\u001b[0m\u001b[1m]\u001b[0m\n",
       "\u001b[1m}\u001b[0m\n"
      ]
     },
     "metadata": {},
     "output_type": "display_data"
    }
   ],
   "source": [
    "from rfpye.parser import parse_bin\n",
    "file = r'binfiles\\occ\\rfeye002090-VCP_FM_occ15min_191221_085803.bin'\n",
    "blocks = parse_bin(file)\n",
    "print(blocks)"
   ]
  },
  {
   "cell_type": "code",
   "execution_count": null,
   "metadata": {},
   "outputs": [
    {
     "data": {
      "text/html": [
       "<div>\n",
       "<style scoped>\n",
       "    .dataframe tbody tr th:only-of-type {\n",
       "        vertical-align: middle;\n",
       "    }\n",
       "\n",
       "    .dataframe tbody tr th {\n",
       "        vertical-align: top;\n",
       "    }\n",
       "\n",
       "    .dataframe thead th {\n",
       "        text-align: right;\n",
       "    }\n",
       "</style>\n",
       "<table border=\"1\" class=\"dataframe\">\n",
       "  <thead>\n",
       "    <tr style=\"text-align: right;\">\n",
       "      <th>Frequencies</th>\n",
       "      <th>99.602606</th>\n",
       "      <th>99.622150</th>\n",
       "      <th>99.641694</th>\n",
       "      <th>99.661238</th>\n",
       "      <th>99.680782</th>\n",
       "      <th>99.700326</th>\n",
       "      <th>99.719870</th>\n",
       "    </tr>\n",
       "    <tr>\n",
       "      <th>Time</th>\n",
       "      <th></th>\n",
       "      <th></th>\n",
       "      <th></th>\n",
       "      <th></th>\n",
       "      <th></th>\n",
       "      <th></th>\n",
       "      <th></th>\n",
       "    </tr>\n",
       "  </thead>\n",
       "  <tbody>\n",
       "    <tr>\n",
       "      <th>2019-12-21 09:00:01.367337</th>\n",
       "      <td>17.5</td>\n",
       "      <td>36.0</td>\n",
       "      <td>53.5</td>\n",
       "      <td>62.5</td>\n",
       "      <td>76.5</td>\n",
       "      <td>80.0</td>\n",
       "      <td>72.5</td>\n",
       "    </tr>\n",
       "    <tr>\n",
       "      <th>2019-12-21 09:15:01.357259</th>\n",
       "      <td>15.0</td>\n",
       "      <td>29.5</td>\n",
       "      <td>48.0</td>\n",
       "      <td>61.0</td>\n",
       "      <td>76.5</td>\n",
       "      <td>78.5</td>\n",
       "      <td>71.0</td>\n",
       "    </tr>\n",
       "    <tr>\n",
       "      <th>2019-12-21 09:30:01.357357</th>\n",
       "      <td>16.0</td>\n",
       "      <td>28.5</td>\n",
       "      <td>46.5</td>\n",
       "      <td>61.0</td>\n",
       "      <td>76.5</td>\n",
       "      <td>77.5</td>\n",
       "      <td>70.0</td>\n",
       "    </tr>\n",
       "    <tr>\n",
       "      <th>2019-12-21 09:45:01.357273</th>\n",
       "      <td>15.0</td>\n",
       "      <td>33.0</td>\n",
       "      <td>49.0</td>\n",
       "      <td>66.0</td>\n",
       "      <td>76.0</td>\n",
       "      <td>78.0</td>\n",
       "      <td>70.0</td>\n",
       "    </tr>\n",
       "    <tr>\n",
       "      <th>2019-12-21 10:00:01.419225</th>\n",
       "      <td>15.5</td>\n",
       "      <td>35.0</td>\n",
       "      <td>50.0</td>\n",
       "      <td>62.0</td>\n",
       "      <td>74.0</td>\n",
       "      <td>77.0</td>\n",
       "      <td>67.5</td>\n",
       "    </tr>\n",
       "  </tbody>\n",
       "</table>\n",
       "</div>"
      ],
      "text/plain": [
       "Frequencies                 99.602606  99.622150  99.641694  99.661238  \\\n",
       "Time                                                                     \n",
       "2019-12-21 09:00:01.367337       17.5       36.0       53.5       62.5   \n",
       "2019-12-21 09:15:01.357259       15.0       29.5       48.0       61.0   \n",
       "2019-12-21 09:30:01.357357       16.0       28.5       46.5       61.0   \n",
       "2019-12-21 09:45:01.357273       15.0       33.0       49.0       66.0   \n",
       "2019-12-21 10:00:01.419225       15.5       35.0       50.0       62.0   \n",
       "\n",
       "Frequencies                 99.680782  99.700326  99.719870  \n",
       "Time                                                         \n",
       "2019-12-21 09:00:01.367337       76.5       80.0       72.5  \n",
       "2019-12-21 09:15:01.357259       76.5       78.5       71.0  \n",
       "2019-12-21 09:30:01.357357       76.5       77.5       70.0  \n",
       "2019-12-21 09:45:01.357273       76.0       78.0       70.0  \n",
       "2019-12-21 10:00:01.419225       74.0       77.0       67.5  "
      ]
     },
     "execution_count": null,
     "metadata": {},
     "output_type": "execute_result"
    }
   ],
   "source": [
    "blocks['spectrum'][-1].matrix().iloc[:5, 1003:1010]"
   ]
  }
 ],
 "metadata": {
  "kernelspec": {
   "display_name": "Python [conda env:rfpye]",
   "language": "python",
   "name": "python3"
  }
 },
 "nbformat": 4,
 "nbformat_minor": 4
}
