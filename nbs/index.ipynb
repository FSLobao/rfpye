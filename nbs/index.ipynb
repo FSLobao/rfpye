{
 "cells": [
  {
   "cell_type": "code",
   "execution_count": null,
   "metadata": {},
   "outputs": [],
   "source": [
    "#hide\n",
    "import sys, os\n",
    "from pathlib import Path\n",
    "\n",
    "# Insert in Path Project Directory\n",
    "sys.path.insert(0, str(Path().cwd().parent))\n",
    "\n",
    "%load_ext autoreload\n",
    "%autoreload 2 "
   ]
  },
  {
   "cell_type": "code",
   "execution_count": null,
   "metadata": {},
   "outputs": [],
   "source": [
    "#hide\n",
    "import warnings\n",
    "from nbdev import show_doc\n",
    "with warnings.catch_warnings():\n",
    "    warnings.simplefilter(\"ignore\")    "
   ]
  },
  {
   "cell_type": "markdown",
   "metadata": {},
   "source": [
    "# RFPYE\n",
    "> Este módulo tem como objetivo o processamento e extração otimizada de dados dos arquivos `.bin` de monitoramento do espectro provenientes do script Logger executados nas estações de Monitoramento CRFS RFeye Node. Para tal utilizamos as várias funcionalidades da biblioteca [fastcore](https://fastcore.fast.ai/basics.html), que expande e otimiza as estruturas de dados da linguagem python. "
   ]
  },
  {
   "cell_type": "markdown",
   "metadata": {},
   "source": [
    "## Instalação\n",
    "\n",
    "Como parte dessa lib utiliza código c compilado com `Cython`, é preciso que um compilador `C` esteja instalado. No entanto é recomendado a criação de um ambiente virtual para que a instalação das dependências não interfira com o a instalação base do python. Para tal é recomendamos o uso do conda. A seguir é mostrado instruções para a criação do ambiente virtual, com todas as dependências, inclusive o compilador C, utilizando o conda.\n",
    "\n",
    "Instale o [miniconda](https://docs.conda.io/en/latest/miniconda.html). Com o conda instalado e disponível no seu `PATH` ou através do `Anaconda Prompt`, execute os comando:\n",
    "\n",
    "### Linux:\n",
    "\n",
    "```bash\n",
    "conda create -n rfpye pip python=3.7 gcc -c intel -c conda-forge -y\n",
    "conda activate rfpye\n",
    "python -m pip install rfpye\n",
    "```\n",
    "\n",
    "### Windows\n",
    "\n",
    "```bash\n",
    "conda create -n rfpye pip python=3.7 libpython m2w64-toolchain -c intel -y\n",
    "conda activate rfpye\n",
    "echo [build] > %CONDA_PREFIX%\\Lib\\distutils\\distutils.cfg\n",
    "echo compiler = mingw32 >> %CONDA_PREFIX%\\Lib\\distutils\\distutils.cfg\n",
    "python -m pip install rfpye\n",
    "```\n",
    "\n",
    "O comando acima cria um ambiente virtual com o mesmo nome da biblioteca `rfpye`, instala as dependências básicas necessárias para a compilação, em seguida ativa o ambiente virtual e instala o módulo.\n",
    "As duas linhas adicionais em Windows cria um arquivo de configuração `distutils.cfg` para o compilador `m2w64`, que é utilizado pelo conda para compilar o código."
   ]
  },
  {
   "cell_type": "markdown",
   "metadata": {},
   "source": [
    "Depois disso basta instalar normalmente a lib:\n",
    "`python -m pip install rfpye`"
   ]
  },
  {
   "cell_type": "markdown",
   "metadata": {},
   "source": [
    "Em Linux normalmente o sistema já possui o compilador `gcc` instalado então basta executar o comando `pip install` acima."
   ]
  },
  {
   "cell_type": "markdown",
   "metadata": {},
   "source": [
    "## Como utilizar\n",
    "Abaixo mostramos as funcionalidades principais dos módulos, utilizando-os dentro de algum outro script ou `REPL`"
   ]
  },
  {
   "cell_type": "markdown",
   "metadata": {},
   "source": [
    "Precisamos necessariamente de um diretório de entrada, contendo um ou mais arquivos `.bin`\n",
    "> Mude os caminhos abaixo para suas pastas locais"
   ]
  },
  {
   "cell_type": "code",
   "execution_count": null,
   "metadata": {},
   "outputs": [],
   "source": [
    "from fastcore.xtras import Path\n",
    "from rfpye.utils import get_files\n",
    "from rich import print"
   ]
  },
  {
   "cell_type": "markdown",
   "metadata": {},
   "source": [
    "A função abaixo baixa alguns arquivos de exemplo:"
   ]
  },
  {
   "cell_type": "code",
   "execution_count": null,
   "metadata": {},
   "outputs": [],
   "source": [
    "path = Path(r'binfiles')\n",
    "if not path.exists() or not len(get_files(path, extensions=['.bin'])):\n",
    "    path = Path('.')\n",
    "    !wget --header 'Host: raw.githubusercontent.com' --user-agent 'Mozilla/5.0 (Windows NT 10.0; Win64; x64; rv:89.0) Gecko/20100101 Firefox/89.0' --header 'Accept: text/html,application/xhtml+xml,application/xml;q=0.9,image/webp,*/*;q=0.8' --header 'Accept-Language: pt-BR,pt;q=0.8,en-US;q=0.5,en;q=0.3' --referer 'https://github.com/EricMagalhaesDelgado/SpecFiles/blob/main/Combo3%20(CRFS%20Bin%20-%20DataTypes%204%2C%207%2C%208%2C%2060-65%20e%2067-69)/rfeye002092_210208_T202310_CRFSBINv.5.bin' --header 'DNT: 1' --header 'Upgrade-Insecure-Requests: 1' 'https://raw.githubusercontent.com/EricMagalhaesDelgado/SpecFiles/main/Combo3%20(CRFS%20Bin%20-%20DataTypes%204%2C%207%2C%208%2C%2060-65%20e%2067-69)/rfeye002092_210208_T202310_CRFSBINv.5.bin' --output-document 'rfeye002092_210208_T202310_CRFSBINv.5.bin'\n",
    "    !wget --header 'Host: raw.githubusercontent.com' --user-agent 'Mozilla/5.0 (Windows NT 10.0; Win64; x64; rv:89.0) Gecko/20100101 Firefox/89.0' --header 'Accept: text/html,application/xhtml+xml,application/xml;q=0.9,image/webp,*/*;q=0.8' --header 'Accept-Language: pt-BR,pt;q=0.8,en-US;q=0.5,en;q=0.3' --referer 'https://github.com/EricMagalhaesDelgado/SpecFiles/blob/main/Combo3%20(CRFS%20Bin%20-%20DataTypes%204%2C%207%2C%208%2C%2060-65%20e%2067-69)/rfeye002092_210208_T203131_CRFSBINv.2.bin' --header 'DNT: 1' --header 'Upgrade-Insecure-Requests: 1' 'https://raw.githubusercontent.com/EricMagalhaesDelgado/SpecFiles/main/Combo3%20(CRFS%20Bin%20-%20DataTypes%204%2C%207%2C%208%2C%2060-65%20e%2067-69)/rfeye002092_210208_T203131_CRFSBINv.2.bin' --output-document 'rfeye002092_210208_T203131_CRFSBINv.2.bin'\n",
    "    !wget --header 'Host: raw.githubusercontent.com' --user-agent 'Mozilla/5.0 (Windows NT 10.0; Win64; x64; rv:89.0) Gecko/20100101 Firefox/89.0' --header 'Accept: text/html,application/xhtml+xml,application/xml;q=0.9,image/webp,*/*;q=0.8' --header 'Accept-Language: pt-BR,pt;q=0.8,en-US;q=0.5,en;q=0.3' --referer 'https://github.com/EricMagalhaesDelgado/SpecFiles/blob/main/Combo3%20(CRFS%20Bin%20-%20DataTypes%204%2C%207%2C%208%2C%2060-65%20e%2067-69)/rfeye002292_210208_T202215_CRFSBINv.4.bin' --header 'DNT: 1' --header 'Upgrade-Insecure-Requests: 1' 'https://raw.githubusercontent.com/EricMagalhaesDelgado/SpecFiles/main/Combo3%20(CRFS%20Bin%20-%20DataTypes%204%2C%207%2C%208%2C%2060-65%20e%2067-69)/rfeye002292_210208_T202215_CRFSBINv.4.bin' --output-document 'rfeye002292_210208_T202215_CRFSBINv.4.bin'\n",
    "    !wget --header 'Host: raw.githubusercontent.com' --user-agent 'Mozilla/5.0 (Windows NT 10.0; Win64; x64; rv:89.0) Gecko/20100101 Firefox/89.0' --header 'Accept: text/html,application/xhtml+xml,application/xml;q=0.9,image/webp,*/*;q=0.8' --header 'Accept-Language: pt-BR,pt;q=0.8,en-US;q=0.5,en;q=0.3' --referer 'https://github.com/EricMagalhaesDelgado/SpecFiles/blob/main/Combo3%20(CRFS%20Bin%20-%20DataTypes%204%2C%207%2C%208%2C%2060-65%20e%2067-69)/rfeye002292_210208_T203238_CRFSBINv.3.bin' --header 'DNT: 1' --header 'Upgrade-Insecure-Requests: 1' 'https://raw.githubusercontent.com/EricMagalhaesDelgado/SpecFiles/main/Combo3%20(CRFS%20Bin%20-%20DataTypes%204%2C%207%2C%208%2C%2060-65%20e%2067-69)/rfeye002292_210208_T203238_CRFSBINv.3.bin' --output-document 'rfeye002292_210208_T203238_CRFSBINv.3.bin'\n"
   ]
  },
  {
   "cell_type": "markdown",
   "metadata": {},
   "source": [
    "A função `parse_bin` é a função principal que encapsula o processamento dos arquivos bin."
   ]
  },
  {
   "cell_type": "code",
   "execution_count": null,
   "metadata": {},
   "outputs": [
    {
     "data": {
      "text/markdown": [
       "<h4 id=\"parse_bin\" class=\"doc_header\"><code>parse_bin</code><a href=\"https://github.com/ronaldokun/rfpye/tree/master/rfpye/parser.py#L358\" class=\"source_link\" style=\"float:right\">[source]</a></h4>\n",
       "\n",
       "> <code>parse_bin</code>(**`bin_file`**:`Union`\\[`str`, `Path`\\], **`precision`**=*`float32`*)\n",
       "\n",
       "Receives a CRFS binfile and returns a dictionary with the file metadata, a GPS Class and a list with the different Spectrum Classes\n",
       "A block is a piece of the .bin file with a known start and end and that contains different types of information.\n",
       "It has several fields: file_type, header, data and footer.\n",
       "Each field has lengths and information defined in the documentation.\n",
       "Args:\n",
       "    bin_file (Union[str, Path]): path to the bin file\n",
       "\n",
       "Returns:\n",
       "    Dictionary with the file metadata, file_version, string info, gps and spectrum blocks."
      ],
      "text/plain": [
       "<IPython.core.display.Markdown object>"
      ]
     },
     "metadata": {},
     "output_type": "display_data"
    }
   ],
   "source": [
    "from rfpye.parser import parse_bin\n",
    "show_doc(parse_bin)"
   ]
  },
  {
   "cell_type": "markdown",
   "metadata": {},
   "source": [
    "## Extração de Dados"
   ]
  },
  {
   "cell_type": "markdown",
   "metadata": {},
   "source": [
    "Vamos listar arquivos da última versão do script Logger, **CRFS Bin - Versão 5**"
   ]
  },
  {
   "cell_type": "code",
   "execution_count": null,
   "metadata": {},
   "outputs": [],
   "source": [
    "files = get_files(r'D:\\OneDrive - ANATEL\\Sensores', extensions=['.bin'])\n",
    "file = files.shuffle()[0]"
   ]
  },
  {
   "cell_type": "code",
   "execution_count": null,
   "metadata": {},
   "outputs": [
    {
     "name": "stdout",
     "output_type": "stream",
     "text": [
      "Wall time: 15.1 s\n"
     ]
    }
   ],
   "source": [
    "%%time\n",
    "dados = parse_bin(file)"
   ]
  },
  {
   "cell_type": "code",
   "execution_count": null,
   "metadata": {},
   "outputs": [
    {
     "data": {
      "text/html": [
       "<pre style=\"white-space:pre;overflow-x:auto;line-height:normal;font-family:Menlo,'DejaVu Sans Mono',consolas,'Courier New',monospace\"><span style=\"font-weight: bold\">{</span>\n",
       "    <span style=\"color: #008000; text-decoration-color: #008000\">'filename'</span>: <span style=\"color: #008000; text-decoration-color: #008000\">'rfeye002263_210618_T210255.bin'</span>,\n",
       "    <span style=\"color: #008000; text-decoration-color: #008000\">'file_version'</span>: <span style=\"color: #008080; text-decoration-color: #008080; font-weight: bold\">23</span>,\n",
       "    <span style=\"color: #008000; text-decoration-color: #008000\">'string'</span>: <span style=\"color: #008000; text-decoration-color: #008000\">'CRFS DATA FILE V023'</span>,\n",
       "    <span style=\"color: #008000; text-decoration-color: #008000\">'hostname'</span>: <span style=\"color: #008000; text-decoration-color: #008000\">'rfeye002263'</span>,\n",
       "    <span style=\"color: #008000; text-decoration-color: #008000\">'method'</span>: <span style=\"color: #008000; text-decoration-color: #008000\">'ScriptRFeye2021_v.1'</span>,\n",
       "    <span style=\"color: #008000; text-decoration-color: #008000\">'unit_info'</span>: <span style=\"color: #008000; text-decoration-color: #008000\">'Stationary'</span>,\n",
       "    <span style=\"color: #008000; text-decoration-color: #008000\">'file_number'</span>: <span style=\"color: #008080; text-decoration-color: #008080; font-weight: bold\">0</span>,\n",
       "    <span style=\"color: #008000; text-decoration-color: #008000\">'identifier'</span>: <span style=\"color: #008000; text-decoration-color: #008000\">'INFO'</span>,\n",
       "    <span style=\"color: #008000; text-decoration-color: #008000\">'gps'</span>: GPS Data - Median of Coordinates: <span style=\"color: #008080; text-decoration-color: #008080; font-weight: bold\">-23.32905</span>:<span style=\"color: #008080; text-decoration-color: #008080; font-weight: bold\">-51.13701</span> Altitude: <span style=\"color: #008080; text-decoration-color: #008080; font-weight: bold\">591.30</span> \n",
       "#Satellites: <span style=\"color: #008080; text-decoration-color: #008080; font-weight: bold\">11.0</span>,\n",
       "    <span style=\"color: #008000; text-decoration-color: #008000\">'spectrum'</span>: <span style=\"font-weight: bold\">[</span><span style=\"color: #800080; text-decoration-color: #800080; font-weight: bold\">SpecData</span><span style=\"font-weight: bold\">(</span><span style=\"color: #808000; text-decoration-color: #808000\">type</span>=<span style=\"color: #008080; text-decoration-color: #008080; font-weight: bold\">67</span>, <span style=\"color: #808000; text-decoration-color: #808000\">thread_id</span>=<span style=\"color: #008080; text-decoration-color: #008080; font-weight: bold\">300</span>, <span style=\"color: #808000; text-decoration-color: #808000\">description</span>=<span style=\"color: #008000; text-decoration-color: #008000\">'PMEC 2021 (Faixa 1 de 10).'</span>, \n",
       "<span style=\"color: #808000; text-decoration-color: #808000\">start_mega</span>=<span style=\"color: #008080; text-decoration-color: #008080; font-weight: bold\">105.0</span>, <span style=\"color: #808000; text-decoration-color: #808000\">stop_mega</span>=<span style=\"color: #008080; text-decoration-color: #008080; font-weight: bold\">140.0</span>, <span style=\"color: #808000; text-decoration-color: #808000\">dtype</span>=<span style=\"color: #008000; text-decoration-color: #008000\">'dBm'</span>, <span style=\"color: #808000; text-decoration-color: #808000\">ndata</span>=<span style=\"color: #008080; text-decoration-color: #008080; font-weight: bold\">3584</span>, <span style=\"color: #808000; text-decoration-color: #808000\">bw</span>=<span style=\"color: #008080; text-decoration-color: #008080; font-weight: bold\">18457</span>, <span style=\"color: #808000; text-decoration-color: #808000\">processing</span>=<span style=\"color: #008000; text-decoration-color: #008000\">'peak'</span>, \n",
       "<span style=\"color: #808000; text-decoration-color: #808000\">antuid</span>=<span style=\"color: #008080; text-decoration-color: #008080; font-weight: bold\">0</span>, <span style=\"color: #808000; text-decoration-color: #808000\">thresh</span>=<span style=\"color: #008080; text-decoration-color: #008080; font-weight: bold\">-147.5</span>, <span style=\"color: #808000; text-decoration-color: #808000\">minimum</span>=<span style=\"color: #008080; text-decoration-color: #008080; font-weight: bold\">-147.5</span><span style=\"font-weight: bold\">)</span>, <span style=\"color: #800080; text-decoration-color: #800080; font-weight: bold\">SpecData</span><span style=\"font-weight: bold\">(</span><span style=\"color: #808000; text-decoration-color: #808000\">type</span>=<span style=\"color: #008080; text-decoration-color: #008080; font-weight: bold\">67</span>, <span style=\"color: #808000; text-decoration-color: #808000\">thread_id</span>=<span style=\"color: #008080; text-decoration-color: #008080; font-weight: bold\">310</span>, <span style=\"color: #808000; text-decoration-color: #808000\">description</span>=<span style=\"color: #008000; text-decoration-color: #008000\">'PMEC </span>\n",
       "<span style=\"color: #008000; text-decoration-color: #008000\">2021 (Faixa 2 de 10).'</span>, <span style=\"color: #808000; text-decoration-color: #808000\">start_mega</span>=<span style=\"color: #008080; text-decoration-color: #008080; font-weight: bold\">155.0</span>, <span style=\"color: #808000; text-decoration-color: #808000\">stop_mega</span>=<span style=\"color: #008080; text-decoration-color: #008080; font-weight: bold\">165.0</span>, <span style=\"color: #808000; text-decoration-color: #808000\">dtype</span>=<span style=\"color: #008000; text-decoration-color: #008000\">'dBm'</span>, <span style=\"color: #808000; text-decoration-color: #808000\">ndata</span>=<span style=\"color: #008080; text-decoration-color: #008080; font-weight: bold\">1024</span>, <span style=\"color: #808000; text-decoration-color: #808000\">bw</span>=<span style=\"color: #008080; text-decoration-color: #008080; font-weight: bold\">18457</span>,\n",
       "<span style=\"color: #808000; text-decoration-color: #808000\">processing</span>=<span style=\"color: #008000; text-decoration-color: #008000\">'peak'</span>, <span style=\"color: #808000; text-decoration-color: #808000\">antuid</span>=<span style=\"color: #008080; text-decoration-color: #008080; font-weight: bold\">0</span>, <span style=\"color: #808000; text-decoration-color: #808000\">thresh</span>=<span style=\"color: #008080; text-decoration-color: #008080; font-weight: bold\">-147.5</span>, <span style=\"color: #808000; text-decoration-color: #808000\">minimum</span>=<span style=\"color: #008080; text-decoration-color: #008080; font-weight: bold\">-147.5</span><span style=\"font-weight: bold\">)</span>, <span style=\"color: #800080; text-decoration-color: #800080; font-weight: bold\">SpecData</span><span style=\"font-weight: bold\">(</span><span style=\"color: #808000; text-decoration-color: #808000\">type</span>=<span style=\"color: #008080; text-decoration-color: #008080; font-weight: bold\">67</span>, <span style=\"color: #808000; text-decoration-color: #808000\">thread_id</span>=<span style=\"color: #008080; text-decoration-color: #008080; font-weight: bold\">100</span>,\n",
       "<span style=\"color: #808000; text-decoration-color: #808000\">description</span>=<span style=\"color: #008000; text-decoration-color: #008000\">'PRD 2021 (Faixa principal 1 de 4).'</span>, <span style=\"color: #808000; text-decoration-color: #808000\">start_mega</span>=<span style=\"color: #008080; text-decoration-color: #008080; font-weight: bold\">50.0</span>, <span style=\"color: #808000; text-decoration-color: #808000\">stop_mega</span>=<span style=\"color: #008080; text-decoration-color: #008080; font-weight: bold\">90.0</span>, \n",
       "<span style=\"color: #808000; text-decoration-color: #808000\">dtype</span>=<span style=\"color: #008000; text-decoration-color: #008000\">'dBμV/m'</span>, <span style=\"color: #808000; text-decoration-color: #808000\">ndata</span>=<span style=\"color: #008080; text-decoration-color: #008080; font-weight: bold\">1024</span>, <span style=\"color: #808000; text-decoration-color: #808000\">bw</span>=<span style=\"color: #008080; text-decoration-color: #008080; font-weight: bold\">73828</span>, <span style=\"color: #808000; text-decoration-color: #808000\">processing</span>=<span style=\"color: #008000; text-decoration-color: #008000\">'peak'</span>, <span style=\"color: #808000; text-decoration-color: #808000\">antuid</span>=<span style=\"color: #008080; text-decoration-color: #008080; font-weight: bold\">0</span>, <span style=\"color: #808000; text-decoration-color: #808000\">thresh</span>=<span style=\"color: #008080; text-decoration-color: #008080; font-weight: bold\">-45.5</span>, \n",
       "<span style=\"color: #808000; text-decoration-color: #808000\">minimum</span>=<span style=\"color: #008080; text-decoration-color: #008080; font-weight: bold\">-45.5</span><span style=\"font-weight: bold\">)</span>, <span style=\"color: #800080; text-decoration-color: #800080; font-weight: bold\">SpecData</span><span style=\"font-weight: bold\">(</span><span style=\"color: #808000; text-decoration-color: #808000\">type</span>=<span style=\"color: #008080; text-decoration-color: #008080; font-weight: bold\">67</span>, <span style=\"color: #808000; text-decoration-color: #808000\">thread_id</span>=<span style=\"color: #008080; text-decoration-color: #008080; font-weight: bold\">110</span>, <span style=\"color: #808000; text-decoration-color: #808000\">description</span>=<span style=\"color: #008000; text-decoration-color: #008000\">'PRD 2021 (Faixa principal 2 de </span>\n",
       "<span style=\"color: #008000; text-decoration-color: #008000\">4).'</span>, <span style=\"color: #808000; text-decoration-color: #808000\">start_mega</span>=<span style=\"color: #008080; text-decoration-color: #008080; font-weight: bold\">70.0</span>, <span style=\"color: #808000; text-decoration-color: #808000\">stop_mega</span>=<span style=\"color: #008080; text-decoration-color: #008080; font-weight: bold\">110.0</span>, <span style=\"color: #808000; text-decoration-color: #808000\">dtype</span>=<span style=\"color: #008000; text-decoration-color: #008000\">'dBμV/m'</span>, <span style=\"color: #808000; text-decoration-color: #808000\">ndata</span>=<span style=\"color: #008080; text-decoration-color: #008080; font-weight: bold\">1024</span>, <span style=\"color: #808000; text-decoration-color: #808000\">bw</span>=<span style=\"color: #008080; text-decoration-color: #008080; font-weight: bold\">73828</span>, \n",
       "<span style=\"color: #808000; text-decoration-color: #808000\">processing</span>=<span style=\"color: #008000; text-decoration-color: #008000\">'peak'</span>, <span style=\"color: #808000; text-decoration-color: #808000\">antuid</span>=<span style=\"color: #008080; text-decoration-color: #008080; font-weight: bold\">0</span>, <span style=\"color: #808000; text-decoration-color: #808000\">thresh</span>=<span style=\"color: #008080; text-decoration-color: #008080; font-weight: bold\">-29.5</span>, <span style=\"color: #808000; text-decoration-color: #808000\">minimum</span>=<span style=\"color: #008080; text-decoration-color: #008080; font-weight: bold\">-29.5</span><span style=\"font-weight: bold\">)</span>, <span style=\"color: #800080; text-decoration-color: #800080; font-weight: bold\">SpecData</span><span style=\"font-weight: bold\">(</span><span style=\"color: #808000; text-decoration-color: #808000\">type</span>=<span style=\"color: #008080; text-decoration-color: #008080; font-weight: bold\">67</span>, <span style=\"color: #808000; text-decoration-color: #808000\">thread_id</span>=<span style=\"color: #008080; text-decoration-color: #008080; font-weight: bold\">120</span>, \n",
       "<span style=\"color: #808000; text-decoration-color: #808000\">description</span>=<span style=\"color: #008000; text-decoration-color: #008000\">'PRD 2021 (Faixa principal 3 de 4).'</span>, <span style=\"color: #808000; text-decoration-color: #808000\">start_mega</span>=<span style=\"color: #008080; text-decoration-color: #008080; font-weight: bold\">170.0</span>, <span style=\"color: #808000; text-decoration-color: #808000\">stop_mega</span>=<span style=\"color: #008080; text-decoration-color: #008080; font-weight: bold\">220.0</span>, \n",
       "<span style=\"color: #808000; text-decoration-color: #808000\">dtype</span>=<span style=\"color: #008000; text-decoration-color: #008000\">'dBμV/m'</span>, <span style=\"color: #808000; text-decoration-color: #808000\">ndata</span>=<span style=\"color: #008080; text-decoration-color: #008080; font-weight: bold\">1280</span>, <span style=\"color: #808000; text-decoration-color: #808000\">bw</span>=<span style=\"color: #008080; text-decoration-color: #008080; font-weight: bold\">73828</span>, <span style=\"color: #808000; text-decoration-color: #808000\">processing</span>=<span style=\"color: #008000; text-decoration-color: #008000\">'peak'</span>, <span style=\"color: #808000; text-decoration-color: #808000\">antuid</span>=<span style=\"color: #008080; text-decoration-color: #008080; font-weight: bold\">0</span>, <span style=\"color: #808000; text-decoration-color: #808000\">thresh</span>=<span style=\"color: #008080; text-decoration-color: #008080; font-weight: bold\">-51.5</span>, \n",
       "<span style=\"color: #808000; text-decoration-color: #808000\">minimum</span>=<span style=\"color: #008080; text-decoration-color: #008080; font-weight: bold\">-51.5</span><span style=\"font-weight: bold\">)</span>, <span style=\"color: #800080; text-decoration-color: #800080; font-weight: bold\">SpecData</span><span style=\"font-weight: bold\">(</span><span style=\"color: #808000; text-decoration-color: #808000\">type</span>=<span style=\"color: #008080; text-decoration-color: #008080; font-weight: bold\">67</span>, <span style=\"color: #808000; text-decoration-color: #808000\">thread_id</span>=<span style=\"color: #008080; text-decoration-color: #008080; font-weight: bold\">130</span>, <span style=\"color: #808000; text-decoration-color: #808000\">description</span>=<span style=\"color: #008000; text-decoration-color: #008000\">'PRD 2021 (Faixa principal 4 de </span>\n",
       "<span style=\"color: #008000; text-decoration-color: #008000\">4).'</span>, <span style=\"color: #808000; text-decoration-color: #808000\">start_mega</span>=<span style=\"color: #008080; text-decoration-color: #008080; font-weight: bold\">470.0</span>, <span style=\"color: #808000; text-decoration-color: #808000\">stop_mega</span>=<span style=\"color: #008080; text-decoration-color: #008080; font-weight: bold\">700.0</span>, <span style=\"color: #808000; text-decoration-color: #808000\">dtype</span>=<span style=\"color: #008000; text-decoration-color: #008000\">'dBμV/m'</span>, <span style=\"color: #808000; text-decoration-color: #808000\">ndata</span>=<span style=\"color: #008080; text-decoration-color: #008080; font-weight: bold\">5888</span>, <span style=\"color: #808000; text-decoration-color: #808000\">bw</span>=<span style=\"color: #008080; text-decoration-color: #008080; font-weight: bold\">73828</span>, \n",
       "<span style=\"color: #808000; text-decoration-color: #808000\">processing</span>=<span style=\"color: #008000; text-decoration-color: #008000\">'peak'</span>, <span style=\"color: #808000; text-decoration-color: #808000\">antuid</span>=<span style=\"color: #008080; text-decoration-color: #008080; font-weight: bold\">0</span>, <span style=\"color: #808000; text-decoration-color: #808000\">thresh</span>=<span style=\"color: #008080; text-decoration-color: #008080; font-weight: bold\">-39.5</span>, <span style=\"color: #808000; text-decoration-color: #808000\">minimum</span>=<span style=\"color: #008080; text-decoration-color: #008080; font-weight: bold\">-39.5</span><span style=\"font-weight: bold\">)</span>, <span style=\"color: #800080; text-decoration-color: #800080; font-weight: bold\">SpecData</span><span style=\"font-weight: bold\">(</span><span style=\"color: #808000; text-decoration-color: #808000\">type</span>=<span style=\"color: #008080; text-decoration-color: #008080; font-weight: bold\">67</span>, <span style=\"color: #808000; text-decoration-color: #808000\">thread_id</span>=<span style=\"color: #008080; text-decoration-color: #008080; font-weight: bold\">200</span>, \n",
       "<span style=\"color: #808000; text-decoration-color: #808000\">description</span>=<span style=\"color: #008000; text-decoration-color: #008000\">'PMEF 2021 (Faixa 1 de 6).'</span>, <span style=\"color: #808000; text-decoration-color: #808000\">start_mega</span>=<span style=\"color: #008080; text-decoration-color: #008080; font-weight: bold\">700.0</span>, <span style=\"color: #808000; text-decoration-color: #808000\">stop_mega</span>=<span style=\"color: #008080; text-decoration-color: #008080; font-weight: bold\">960.0</span>, <span style=\"color: #808000; text-decoration-color: #808000\">dtype</span>=<span style=\"color: #008000; text-decoration-color: #008000\">'dBm'</span>, \n",
       "<span style=\"color: #808000; text-decoration-color: #808000\">ndata</span>=<span style=\"color: #008080; text-decoration-color: #008080; font-weight: bold\">6656</span>, <span style=\"color: #808000; text-decoration-color: #808000\">bw</span>=<span style=\"color: #008080; text-decoration-color: #008080; font-weight: bold\">73828</span>, <span style=\"color: #808000; text-decoration-color: #808000\">processing</span>=<span style=\"color: #008000; text-decoration-color: #008000\">'peak'</span>, <span style=\"color: #808000; text-decoration-color: #808000\">antuid</span>=<span style=\"color: #008080; text-decoration-color: #008080; font-weight: bold\">0</span>, <span style=\"color: #808000; text-decoration-color: #808000\">thresh</span>=<span style=\"color: #008080; text-decoration-color: #008080; font-weight: bold\">-147.5</span>, <span style=\"color: #808000; text-decoration-color: #808000\">minimum</span>=<span style=\"color: #008080; text-decoration-color: #008080; font-weight: bold\">-147.5</span><span style=\"font-weight: bold\">)</span>, \n",
       "<span style=\"color: #800080; text-decoration-color: #800080; font-weight: bold\">SpecData</span><span style=\"font-weight: bold\">(</span><span style=\"color: #808000; text-decoration-color: #808000\">type</span>=<span style=\"color: #008080; text-decoration-color: #008080; font-weight: bold\">67</span>, <span style=\"color: #808000; text-decoration-color: #808000\">thread_id</span>=<span style=\"color: #008080; text-decoration-color: #008080; font-weight: bold\">210</span>, <span style=\"color: #808000; text-decoration-color: #808000\">description</span>=<span style=\"color: #008000; text-decoration-color: #008000\">'PMEF 2021 (Faixa 2 de 6).'</span>, <span style=\"color: #808000; text-decoration-color: #808000\">start_mega</span>=<span style=\"color: #008080; text-decoration-color: #008080; font-weight: bold\">1710.0</span>, \n",
       "<span style=\"color: #808000; text-decoration-color: #808000\">stop_mega</span>=<span style=\"color: #008080; text-decoration-color: #008080; font-weight: bold\">1980.0</span>, <span style=\"color: #808000; text-decoration-color: #808000\">dtype</span>=<span style=\"color: #008000; text-decoration-color: #008000\">'dBm'</span>, <span style=\"color: #808000; text-decoration-color: #808000\">ndata</span>=<span style=\"color: #008080; text-decoration-color: #008080; font-weight: bold\">6912</span>, <span style=\"color: #808000; text-decoration-color: #808000\">bw</span>=<span style=\"color: #008080; text-decoration-color: #008080; font-weight: bold\">73828</span>, <span style=\"color: #808000; text-decoration-color: #808000\">processing</span>=<span style=\"color: #008000; text-decoration-color: #008000\">'peak'</span>, <span style=\"color: #808000; text-decoration-color: #808000\">antuid</span>=<span style=\"color: #008080; text-decoration-color: #008080; font-weight: bold\">0</span>, \n",
       "<span style=\"color: #808000; text-decoration-color: #808000\">thresh</span>=<span style=\"color: #008080; text-decoration-color: #008080; font-weight: bold\">-147.5</span>, <span style=\"color: #808000; text-decoration-color: #808000\">minimum</span>=<span style=\"color: #008080; text-decoration-color: #008080; font-weight: bold\">-147.5</span><span style=\"font-weight: bold\">)</span>, <span style=\"color: #800080; text-decoration-color: #800080; font-weight: bold\">SpecData</span><span style=\"font-weight: bold\">(</span><span style=\"color: #808000; text-decoration-color: #808000\">type</span>=<span style=\"color: #008080; text-decoration-color: #008080; font-weight: bold\">67</span>, <span style=\"color: #808000; text-decoration-color: #808000\">thread_id</span>=<span style=\"color: #008080; text-decoration-color: #008080; font-weight: bold\">220</span>, <span style=\"color: #808000; text-decoration-color: #808000\">description</span>=<span style=\"color: #008000; text-decoration-color: #008000\">'PMEF 2021 </span>\n",
       "<span style=\"color: #008000; text-decoration-color: #008000\">(Faixa 3 de 6).'</span>, <span style=\"color: #808000; text-decoration-color: #808000\">start_mega</span>=<span style=\"color: #008080; text-decoration-color: #008080; font-weight: bold\">2100.0</span>, <span style=\"color: #808000; text-decoration-color: #808000\">stop_mega</span>=<span style=\"color: #008080; text-decoration-color: #008080; font-weight: bold\">1002168.999</span>, <span style=\"color: #808000; text-decoration-color: #808000\">dtype</span>=<span style=\"color: #008000; text-decoration-color: #008000\">'dBm'</span>, <span style=\"color: #808000; text-decoration-color: #808000\">ndata</span>=<span style=\"color: #008080; text-decoration-color: #008080; font-weight: bold\">1792</span>, \n",
       "<span style=\"color: #808000; text-decoration-color: #808000\">bw</span>=<span style=\"color: #008080; text-decoration-color: #008080; font-weight: bold\">73828</span>, <span style=\"color: #808000; text-decoration-color: #808000\">processing</span>=<span style=\"color: #008000; text-decoration-color: #008000\">'peak'</span>, <span style=\"color: #808000; text-decoration-color: #808000\">antuid</span>=<span style=\"color: #008080; text-decoration-color: #008080; font-weight: bold\">0</span>, <span style=\"color: #808000; text-decoration-color: #808000\">thresh</span>=<span style=\"color: #008080; text-decoration-color: #008080; font-weight: bold\">-147.5</span>, <span style=\"color: #808000; text-decoration-color: #808000\">minimum</span>=<span style=\"color: #008080; text-decoration-color: #008080; font-weight: bold\">-147.5</span><span style=\"font-weight: bold\">)</span>, <span style=\"color: #800080; text-decoration-color: #800080; font-weight: bold\">SpecData</span><span style=\"font-weight: bold\">(</span><span style=\"color: #808000; text-decoration-color: #808000\">type</span>=<span style=\"color: #008080; text-decoration-color: #008080; font-weight: bold\">67</span>, \n",
       "<span style=\"color: #808000; text-decoration-color: #808000\">thread_id</span>=<span style=\"color: #008080; text-decoration-color: #008080; font-weight: bold\">230</span>, <span style=\"color: #808000; text-decoration-color: #808000\">description</span>=<span style=\"color: #008000; text-decoration-color: #008000\">'PMEF 2021 (Faixa 4 de 6).'</span>, <span style=\"color: #808000; text-decoration-color: #808000\">start_mega</span>=<span style=\"color: #008080; text-decoration-color: #008080; font-weight: bold\">2290.0</span>, <span style=\"color: #808000; text-decoration-color: #808000\">stop_mega</span>=<span style=\"color: #008080; text-decoration-color: #008080; font-weight: bold\">2390.0</span>, \n",
       "<span style=\"color: #808000; text-decoration-color: #808000\">dtype</span>=<span style=\"color: #008000; text-decoration-color: #008000\">'dBm'</span>, <span style=\"color: #808000; text-decoration-color: #808000\">ndata</span>=<span style=\"color: #008080; text-decoration-color: #008080; font-weight: bold\">2560</span>, <span style=\"color: #808000; text-decoration-color: #808000\">bw</span>=<span style=\"color: #008080; text-decoration-color: #008080; font-weight: bold\">73828</span>, <span style=\"color: #808000; text-decoration-color: #808000\">processing</span>=<span style=\"color: #008000; text-decoration-color: #008000\">'peak'</span>, <span style=\"color: #808000; text-decoration-color: #808000\">antuid</span>=<span style=\"color: #008080; text-decoration-color: #008080; font-weight: bold\">0</span>, <span style=\"color: #808000; text-decoration-color: #808000\">thresh</span>=<span style=\"color: #008080; text-decoration-color: #008080; font-weight: bold\">-147.5</span>, \n",
       "<span style=\"color: #808000; text-decoration-color: #808000\">minimum</span>=<span style=\"color: #008080; text-decoration-color: #008080; font-weight: bold\">-147.5</span><span style=\"font-weight: bold\">)</span>, <span style=\"color: #800080; text-decoration-color: #800080; font-weight: bold\">SpecData</span><span style=\"font-weight: bold\">(</span><span style=\"color: #808000; text-decoration-color: #808000\">type</span>=<span style=\"color: #008080; text-decoration-color: #008080; font-weight: bold\">67</span>, <span style=\"color: #808000; text-decoration-color: #808000\">thread_id</span>=<span style=\"color: #008080; text-decoration-color: #008080; font-weight: bold\">240</span>, <span style=\"color: #808000; text-decoration-color: #808000\">description</span>=<span style=\"color: #008000; text-decoration-color: #008000\">'PMEF 2021 (Faixa 5 de 6).'</span>, \n",
       "<span style=\"color: #808000; text-decoration-color: #808000\">start_mega</span>=<span style=\"color: #008080; text-decoration-color: #008080; font-weight: bold\">2500.0</span>, <span style=\"color: #808000; text-decoration-color: #808000\">stop_mega</span>=<span style=\"color: #008080; text-decoration-color: #008080; font-weight: bold\">2690.0</span>, <span style=\"color: #808000; text-decoration-color: #808000\">dtype</span>=<span style=\"color: #008000; text-decoration-color: #008000\">'dBm'</span>, <span style=\"color: #808000; text-decoration-color: #808000\">ndata</span>=<span style=\"color: #008080; text-decoration-color: #008080; font-weight: bold\">4864</span>, <span style=\"color: #808000; text-decoration-color: #808000\">bw</span>=<span style=\"color: #008080; text-decoration-color: #008080; font-weight: bold\">73828</span>, <span style=\"color: #808000; text-decoration-color: #808000\">processing</span>=<span style=\"color: #008000; text-decoration-color: #008000\">'peak'</span>, \n",
       "<span style=\"color: #808000; text-decoration-color: #808000\">antuid</span>=<span style=\"color: #008080; text-decoration-color: #008080; font-weight: bold\">0</span>, <span style=\"color: #808000; text-decoration-color: #808000\">thresh</span>=<span style=\"color: #008080; text-decoration-color: #008080; font-weight: bold\">-147.5</span>, <span style=\"color: #808000; text-decoration-color: #808000\">minimum</span>=<span style=\"color: #008080; text-decoration-color: #008080; font-weight: bold\">-147.5</span><span style=\"font-weight: bold\">)</span>, <span style=\"color: #800080; text-decoration-color: #800080; font-weight: bold\">SpecData</span><span style=\"font-weight: bold\">(</span><span style=\"color: #808000; text-decoration-color: #808000\">type</span>=<span style=\"color: #008080; text-decoration-color: #008080; font-weight: bold\">67</span>, <span style=\"color: #808000; text-decoration-color: #808000\">thread_id</span>=<span style=\"color: #008080; text-decoration-color: #008080; font-weight: bold\">320</span>, <span style=\"color: #808000; text-decoration-color: #808000\">description</span>=<span style=\"color: #008000; text-decoration-color: #008000\">'PMEC </span>\n",
       "<span style=\"color: #008000; text-decoration-color: #008000\">2021 (Faixa 3 de 10).'</span>, <span style=\"color: #808000; text-decoration-color: #808000\">start_mega</span>=<span style=\"color: #008080; text-decoration-color: #008080; font-weight: bold\">320.0</span>, <span style=\"color: #808000; text-decoration-color: #808000\">stop_mega</span>=<span style=\"color: #008080; text-decoration-color: #008080; font-weight: bold\">340.0</span>, <span style=\"color: #808000; text-decoration-color: #808000\">dtype</span>=<span style=\"color: #008000; text-decoration-color: #008000\">'dBm'</span>, <span style=\"color: #808000; text-decoration-color: #808000\">ndata</span>=<span style=\"color: #008080; text-decoration-color: #008080; font-weight: bold\">512</span>, <span style=\"color: #808000; text-decoration-color: #808000\">bw</span>=<span style=\"color: #008080; text-decoration-color: #008080; font-weight: bold\">73828</span>, \n",
       "<span style=\"color: #808000; text-decoration-color: #808000\">processing</span>=<span style=\"color: #008000; text-decoration-color: #008000\">'peak'</span>, <span style=\"color: #808000; text-decoration-color: #808000\">antuid</span>=<span style=\"color: #008080; text-decoration-color: #008080; font-weight: bold\">0</span>, <span style=\"color: #808000; text-decoration-color: #808000\">thresh</span>=<span style=\"color: #008080; text-decoration-color: #008080; font-weight: bold\">-147.5</span>, <span style=\"color: #808000; text-decoration-color: #808000\">minimum</span>=<span style=\"color: #008080; text-decoration-color: #008080; font-weight: bold\">-147.5</span><span style=\"font-weight: bold\">)</span>, <span style=\"color: #800080; text-decoration-color: #800080; font-weight: bold\">SpecData</span><span style=\"font-weight: bold\">(</span><span style=\"color: #808000; text-decoration-color: #808000\">type</span>=<span style=\"color: #008080; text-decoration-color: #008080; font-weight: bold\">67</span>, <span style=\"color: #808000; text-decoration-color: #808000\">thread_id</span>=<span style=\"color: #008080; text-decoration-color: #008080; font-weight: bold\">330</span>,\n",
       "<span style=\"color: #808000; text-decoration-color: #808000\">description</span>=<span style=\"color: #008000; text-decoration-color: #008000\">'PMEC 2021 (Faixa 4 de 10).'</span>, <span style=\"color: #808000; text-decoration-color: #808000\">start_mega</span>=<span style=\"color: #008080; text-decoration-color: #008080; font-weight: bold\">400.0</span>, <span style=\"color: #808000; text-decoration-color: #808000\">stop_mega</span>=<span style=\"color: #008080; text-decoration-color: #008080; font-weight: bold\">410.0</span>, <span style=\"color: #808000; text-decoration-color: #808000\">dtype</span>=<span style=\"color: #008000; text-decoration-color: #008000\">'dBm'</span>, \n",
       "<span style=\"color: #808000; text-decoration-color: #808000\">ndata</span>=<span style=\"color: #008080; text-decoration-color: #008080; font-weight: bold\">256</span>, <span style=\"color: #808000; text-decoration-color: #808000\">bw</span>=<span style=\"color: #008080; text-decoration-color: #008080; font-weight: bold\">73828</span>, <span style=\"color: #808000; text-decoration-color: #808000\">processing</span>=<span style=\"color: #008000; text-decoration-color: #008000\">'peak'</span>, <span style=\"color: #808000; text-decoration-color: #808000\">antuid</span>=<span style=\"color: #008080; text-decoration-color: #008080; font-weight: bold\">0</span>, <span style=\"color: #808000; text-decoration-color: #808000\">thresh</span>=<span style=\"color: #008080; text-decoration-color: #008080; font-weight: bold\">-147.5</span>, <span style=\"color: #808000; text-decoration-color: #808000\">minimum</span>=<span style=\"color: #008080; text-decoration-color: #008080; font-weight: bold\">-147.5</span><span style=\"font-weight: bold\">)</span>, \n",
       "<span style=\"color: #800080; text-decoration-color: #800080; font-weight: bold\">SpecData</span><span style=\"font-weight: bold\">(</span><span style=\"color: #808000; text-decoration-color: #808000\">type</span>=<span style=\"color: #008080; text-decoration-color: #008080; font-weight: bold\">67</span>, <span style=\"color: #808000; text-decoration-color: #808000\">thread_id</span>=<span style=\"color: #008080; text-decoration-color: #008080; font-weight: bold\">340</span>, <span style=\"color: #808000; text-decoration-color: #808000\">description</span>=<span style=\"color: #008000; text-decoration-color: #008000\">'PMEC 2021 (Faixa 5 de 10).'</span>, <span style=\"color: #808000; text-decoration-color: #808000\">start_mega</span>=<span style=\"color: #008080; text-decoration-color: #008080; font-weight: bold\">960.0</span>, \n",
       "<span style=\"color: #808000; text-decoration-color: #808000\">stop_mega</span>=<span style=\"color: #008080; text-decoration-color: #008080; font-weight: bold\">1001218.999</span>, <span style=\"color: #808000; text-decoration-color: #808000\">dtype</span>=<span style=\"color: #008000; text-decoration-color: #008000\">'dBm'</span>, <span style=\"color: #808000; text-decoration-color: #808000\">ndata</span>=<span style=\"color: #008080; text-decoration-color: #008080; font-weight: bold\">6656</span>, <span style=\"color: #808000; text-decoration-color: #808000\">bw</span>=<span style=\"color: #008080; text-decoration-color: #008080; font-weight: bold\">73828</span>, <span style=\"color: #808000; text-decoration-color: #808000\">processing</span>=<span style=\"color: #008000; text-decoration-color: #008000\">'peak'</span>, <span style=\"color: #808000; text-decoration-color: #808000\">antuid</span>=<span style=\"color: #008080; text-decoration-color: #008080; font-weight: bold\">0</span>, \n",
       "<span style=\"color: #808000; text-decoration-color: #808000\">thresh</span>=<span style=\"color: #008080; text-decoration-color: #008080; font-weight: bold\">-147.5</span>, <span style=\"color: #808000; text-decoration-color: #808000\">minimum</span>=<span style=\"color: #008080; text-decoration-color: #008080; font-weight: bold\">-147.5</span><span style=\"font-weight: bold\">)</span>, <span style=\"color: #800080; text-decoration-color: #800080; font-weight: bold\">SpecData</span><span style=\"font-weight: bold\">(</span><span style=\"color: #808000; text-decoration-color: #808000\">type</span>=<span style=\"color: #008080; text-decoration-color: #008080; font-weight: bold\">67</span>, <span style=\"color: #808000; text-decoration-color: #808000\">thread_id</span>=<span style=\"color: #008080; text-decoration-color: #008080; font-weight: bold\">350</span>, <span style=\"color: #808000; text-decoration-color: #808000\">description</span>=<span style=\"color: #008000; text-decoration-color: #008000\">'PMEC 2021 </span>\n",
       "<span style=\"color: #008000; text-decoration-color: #008000\">(Faixa 6 de 10).'</span>, <span style=\"color: #808000; text-decoration-color: #808000\">start_mega</span>=<span style=\"color: #008080; text-decoration-color: #008080; font-weight: bold\">1001388.999</span>, <span style=\"color: #808000; text-decoration-color: #808000\">stop_mega</span>=<span style=\"color: #008080; text-decoration-color: #008080; font-weight: bold\">1001428.999</span>, <span style=\"color: #808000; text-decoration-color: #808000\">dtype</span>=<span style=\"color: #008000; text-decoration-color: #008000\">'dBm'</span>, <span style=\"color: #808000; text-decoration-color: #808000\">ndata</span>=<span style=\"color: #008080; text-decoration-color: #008080; font-weight: bold\">1280</span>, \n",
       "<span style=\"color: #808000; text-decoration-color: #808000\">bw</span>=<span style=\"color: #008080; text-decoration-color: #008080; font-weight: bold\">73828</span>, <span style=\"color: #808000; text-decoration-color: #808000\">processing</span>=<span style=\"color: #008000; text-decoration-color: #008000\">'peak'</span>, <span style=\"color: #808000; text-decoration-color: #808000\">antuid</span>=<span style=\"color: #008080; text-decoration-color: #008080; font-weight: bold\">0</span>, <span style=\"color: #808000; text-decoration-color: #808000\">thresh</span>=<span style=\"color: #008080; text-decoration-color: #008080; font-weight: bold\">-147.5</span>, <span style=\"color: #808000; text-decoration-color: #808000\">minimum</span>=<span style=\"color: #008080; text-decoration-color: #008080; font-weight: bold\">-147.5</span><span style=\"font-weight: bold\">)</span>, <span style=\"color: #800080; text-decoration-color: #800080; font-weight: bold\">SpecData</span><span style=\"font-weight: bold\">(</span><span style=\"color: #808000; text-decoration-color: #808000\">type</span>=<span style=\"color: #008080; text-decoration-color: #008080; font-weight: bold\">67</span>, \n",
       "<span style=\"color: #808000; text-decoration-color: #808000\">thread_id</span>=<span style=\"color: #008080; text-decoration-color: #008080; font-weight: bold\">360</span>, <span style=\"color: #808000; text-decoration-color: #808000\">description</span>=<span style=\"color: #008000; text-decoration-color: #008000\">'PMEC 2021 (Faixa 7 de 10).'</span>, <span style=\"color: #808000; text-decoration-color: #808000\">start_mega</span>=<span style=\"color: #008080; text-decoration-color: #008080; font-weight: bold\">1530.0</span>, \n",
       "<span style=\"color: #808000; text-decoration-color: #808000\">stop_mega</span>=<span style=\"color: #008080; text-decoration-color: #008080; font-weight: bold\">1001648.999</span>, <span style=\"color: #808000; text-decoration-color: #808000\">dtype</span>=<span style=\"color: #008000; text-decoration-color: #008000\">'dBm'</span>, <span style=\"color: #808000; text-decoration-color: #808000\">ndata</span>=<span style=\"color: #008080; text-decoration-color: #008080; font-weight: bold\">3072</span>, <span style=\"color: #808000; text-decoration-color: #808000\">bw</span>=<span style=\"color: #008080; text-decoration-color: #008080; font-weight: bold\">73828</span>, <span style=\"color: #808000; text-decoration-color: #808000\">processing</span>=<span style=\"color: #008000; text-decoration-color: #008000\">'peak'</span>, <span style=\"color: #808000; text-decoration-color: #808000\">antuid</span>=<span style=\"color: #008080; text-decoration-color: #008080; font-weight: bold\">0</span>, \n",
       "<span style=\"color: #808000; text-decoration-color: #808000\">thresh</span>=<span style=\"color: #008080; text-decoration-color: #008080; font-weight: bold\">-147.5</span>, <span style=\"color: #808000; text-decoration-color: #808000\">minimum</span>=<span style=\"color: #008080; text-decoration-color: #008080; font-weight: bold\">-147.5</span><span style=\"font-weight: bold\">)</span>, <span style=\"color: #800080; text-decoration-color: #800080; font-weight: bold\">SpecData</span><span style=\"font-weight: bold\">(</span><span style=\"color: #808000; text-decoration-color: #808000\">type</span>=<span style=\"color: #008080; text-decoration-color: #008080; font-weight: bold\">67</span>, <span style=\"color: #808000; text-decoration-color: #808000\">thread_id</span>=<span style=\"color: #008080; text-decoration-color: #008080; font-weight: bold\">370</span>, <span style=\"color: #808000; text-decoration-color: #808000\">description</span>=<span style=\"color: #008000; text-decoration-color: #008000\">'PMEC 2021 </span>\n",
       "<span style=\"color: #008000; text-decoration-color: #008000\">(Faixa 8 de 10).'</span>, <span style=\"color: #808000; text-decoration-color: #808000\">start_mega</span>=<span style=\"color: #008080; text-decoration-color: #008080; font-weight: bold\">2690.0</span>, <span style=\"color: #808000; text-decoration-color: #808000\">stop_mega</span>=<span style=\"color: #008080; text-decoration-color: #008080; font-weight: bold\">1002898.999</span>, <span style=\"color: #808000; text-decoration-color: #808000\">dtype</span>=<span style=\"color: #008000; text-decoration-color: #008000\">'dBm'</span>, <span style=\"color: #808000; text-decoration-color: #808000\">ndata</span>=<span style=\"color: #008080; text-decoration-color: #008080; font-weight: bold\">5376</span>, \n",
       "<span style=\"color: #808000; text-decoration-color: #808000\">bw</span>=<span style=\"color: #008080; text-decoration-color: #008080; font-weight: bold\">73828</span>, <span style=\"color: #808000; text-decoration-color: #808000\">processing</span>=<span style=\"color: #008000; text-decoration-color: #008000\">'peak'</span>, <span style=\"color: #808000; text-decoration-color: #808000\">antuid</span>=<span style=\"color: #008080; text-decoration-color: #008080; font-weight: bold\">0</span>, <span style=\"color: #808000; text-decoration-color: #808000\">thresh</span>=<span style=\"color: #008080; text-decoration-color: #008080; font-weight: bold\">-147.5</span>, <span style=\"color: #808000; text-decoration-color: #808000\">minimum</span>=<span style=\"color: #008080; text-decoration-color: #008080; font-weight: bold\">-147.5</span><span style=\"font-weight: bold\">)</span>, <span style=\"color: #800080; text-decoration-color: #800080; font-weight: bold\">SpecData</span><span style=\"font-weight: bold\">(</span><span style=\"color: #808000; text-decoration-color: #808000\">type</span>=<span style=\"color: #008080; text-decoration-color: #008080; font-weight: bold\">67</span>, \n",
       "<span style=\"color: #808000; text-decoration-color: #808000\">thread_id</span>=<span style=\"color: #008080; text-decoration-color: #008080; font-weight: bold\">380</span>, <span style=\"color: #808000; text-decoration-color: #808000\">description</span>=<span style=\"color: #008000; text-decoration-color: #008000\">'PMEC 2021 (Faixa 9 de 10).'</span>, <span style=\"color: #808000; text-decoration-color: #808000\">start_mega</span>=<span style=\"color: #008080; text-decoration-color: #008080; font-weight: bold\">5000.0</span>, <span style=\"color: #808000; text-decoration-color: #808000\">stop_mega</span>=<span style=\"color: #008080; text-decoration-color: #008080; font-weight: bold\">5160.0</span>,\n",
       "<span style=\"color: #808000; text-decoration-color: #808000\">dtype</span>=<span style=\"color: #008000; text-decoration-color: #008000\">'dBm'</span>, <span style=\"color: #808000; text-decoration-color: #808000\">ndata</span>=<span style=\"color: #008080; text-decoration-color: #008080; font-weight: bold\">4096</span>, <span style=\"color: #808000; text-decoration-color: #808000\">bw</span>=<span style=\"color: #008080; text-decoration-color: #008080; font-weight: bold\">73828</span>, <span style=\"color: #808000; text-decoration-color: #808000\">processing</span>=<span style=\"color: #008000; text-decoration-color: #008000\">'peak'</span>, <span style=\"color: #808000; text-decoration-color: #808000\">antuid</span>=<span style=\"color: #008080; text-decoration-color: #008080; font-weight: bold\">0</span>, <span style=\"color: #808000; text-decoration-color: #808000\">thresh</span>=<span style=\"color: #008080; text-decoration-color: #008080; font-weight: bold\">-147.5</span>, \n",
       "<span style=\"color: #808000; text-decoration-color: #808000\">minimum</span>=<span style=\"color: #008080; text-decoration-color: #008080; font-weight: bold\">-147.5</span><span style=\"font-weight: bold\">)</span>, <span style=\"color: #800080; text-decoration-color: #800080; font-weight: bold\">SpecData</span><span style=\"font-weight: bold\">(</span><span style=\"color: #808000; text-decoration-color: #808000\">type</span>=<span style=\"color: #008080; text-decoration-color: #008080; font-weight: bold\">67</span>, <span style=\"color: #808000; text-decoration-color: #808000\">thread_id</span>=<span style=\"color: #008080; text-decoration-color: #008080; font-weight: bold\">390</span>, <span style=\"color: #808000; text-decoration-color: #808000\">description</span>=<span style=\"color: #008000; text-decoration-color: #008000\">'PMEC 2021 (Faixa 10 de 10).'</span>, \n",
       "<span style=\"color: #808000; text-decoration-color: #808000\">start_mega</span>=<span style=\"color: #008080; text-decoration-color: #008080; font-weight: bold\">1005338.999</span>, <span style=\"color: #808000; text-decoration-color: #808000\">stop_mega</span>=<span style=\"color: #008080; text-decoration-color: #008080; font-weight: bold\">1005458.999</span>, <span style=\"color: #808000; text-decoration-color: #808000\">dtype</span>=<span style=\"color: #008000; text-decoration-color: #008000\">'dBm'</span>, <span style=\"color: #808000; text-decoration-color: #808000\">ndata</span>=<span style=\"color: #008080; text-decoration-color: #008080; font-weight: bold\">3328</span>, <span style=\"color: #808000; text-decoration-color: #808000\">bw</span>=<span style=\"color: #008080; text-decoration-color: #008080; font-weight: bold\">73828</span>, \n",
       "<span style=\"color: #808000; text-decoration-color: #808000\">processing</span>=<span style=\"color: #008000; text-decoration-color: #008000\">'peak'</span>, <span style=\"color: #808000; text-decoration-color: #808000\">antuid</span>=<span style=\"color: #008080; text-decoration-color: #008080; font-weight: bold\">0</span>, <span style=\"color: #808000; text-decoration-color: #808000\">thresh</span>=<span style=\"color: #008080; text-decoration-color: #008080; font-weight: bold\">-147.5</span>, <span style=\"color: #808000; text-decoration-color: #808000\">minimum</span>=<span style=\"color: #008080; text-decoration-color: #008080; font-weight: bold\">-147.5</span><span style=\"font-weight: bold\">)</span>, <span style=\"color: #800080; text-decoration-color: #800080; font-weight: bold\">SpecData</span><span style=\"font-weight: bold\">(</span><span style=\"color: #808000; text-decoration-color: #808000\">type</span>=<span style=\"color: #008080; text-decoration-color: #008080; font-weight: bold\">67</span>, <span style=\"color: #808000; text-decoration-color: #808000\">thread_id</span>=<span style=\"color: #008080; text-decoration-color: #008080; font-weight: bold\">250</span>,\n",
       "<span style=\"color: #808000; text-decoration-color: #808000\">description</span>=<span style=\"color: #008000; text-decoration-color: #008000\">'PMEF 2021 (Faixa 6 de 6).'</span>, <span style=\"color: #808000; text-decoration-color: #808000\">start_mega</span>=<span style=\"color: #008080; text-decoration-color: #008080; font-weight: bold\">3290.0</span>, <span style=\"color: #808000; text-decoration-color: #808000\">stop_mega</span>=<span style=\"color: #008080; text-decoration-color: #008080; font-weight: bold\">3700.0</span>, <span style=\"color: #808000; text-decoration-color: #808000\">dtype</span>=<span style=\"color: #008000; text-decoration-color: #008000\">'dBm'</span>, \n",
       "<span style=\"color: #808000; text-decoration-color: #808000\">ndata</span>=<span style=\"color: #008080; text-decoration-color: #008080; font-weight: bold\">10496</span>, <span style=\"color: #808000; text-decoration-color: #808000\">bw</span>=<span style=\"color: #008080; text-decoration-color: #008080; font-weight: bold\">73828</span>, <span style=\"color: #808000; text-decoration-color: #808000\">processing</span>=<span style=\"color: #008000; text-decoration-color: #008000\">'peak'</span>, <span style=\"color: #808000; text-decoration-color: #808000\">antuid</span>=<span style=\"color: #008080; text-decoration-color: #008080; font-weight: bold\">0</span>, <span style=\"color: #808000; text-decoration-color: #808000\">thresh</span>=<span style=\"color: #008080; text-decoration-color: #008080; font-weight: bold\">-147.5</span>, <span style=\"color: #808000; text-decoration-color: #808000\">minimum</span>=<span style=\"color: #008080; text-decoration-color: #008080; font-weight: bold\">-147.5</span><span style=\"font-weight: bold\">)]</span>\n",
       "<span style=\"font-weight: bold\">}</span>\n",
       "</pre>\n"
      ],
      "text/plain": [
       "\u001b[1m{\u001b[0m\n",
       "    \u001b[32m'filename'\u001b[0m: \u001b[32m'rfeye002263_210618_T210255.bin'\u001b[0m,\n",
       "    \u001b[32m'file_version'\u001b[0m: \u001b[1;36m23\u001b[0m,\n",
       "    \u001b[32m'string'\u001b[0m: \u001b[32m'CRFS DATA FILE V023'\u001b[0m,\n",
       "    \u001b[32m'hostname'\u001b[0m: \u001b[32m'rfeye002263'\u001b[0m,\n",
       "    \u001b[32m'method'\u001b[0m: \u001b[32m'ScriptRFeye2021_v.1'\u001b[0m,\n",
       "    \u001b[32m'unit_info'\u001b[0m: \u001b[32m'Stationary'\u001b[0m,\n",
       "    \u001b[32m'file_number'\u001b[0m: \u001b[1;36m0\u001b[0m,\n",
       "    \u001b[32m'identifier'\u001b[0m: \u001b[32m'INFO'\u001b[0m,\n",
       "    \u001b[32m'gps'\u001b[0m: GPS Data - Median of Coordinates: \u001b[1;36m-23.32905\u001b[0m:\u001b[1;36m-51.13701\u001b[0m Altitude: \u001b[1;36m591.30\u001b[0m \n",
       "#Satellites: \u001b[1;36m11.0\u001b[0m,\n",
       "    \u001b[32m'spectrum'\u001b[0m: \u001b[1m[\u001b[0m\u001b[1;35mSpecData\u001b[0m\u001b[1m(\u001b[0m\u001b[33mtype\u001b[0m=\u001b[1;36m67\u001b[0m, \u001b[33mthread_id\u001b[0m=\u001b[1;36m300\u001b[0m, \u001b[33mdescription\u001b[0m=\u001b[32m'PMEC 2021 \u001b[0m\u001b[32m(\u001b[0m\u001b[32mFaixa 1 de 10\u001b[0m\u001b[32m)\u001b[0m\u001b[32m.'\u001b[0m, \n",
       "\u001b[33mstart_mega\u001b[0m=\u001b[1;36m105\u001b[0m\u001b[1;36m.0\u001b[0m, \u001b[33mstop_mega\u001b[0m=\u001b[1;36m140\u001b[0m\u001b[1;36m.0\u001b[0m, \u001b[33mdtype\u001b[0m=\u001b[32m'dBm'\u001b[0m, \u001b[33mndata\u001b[0m=\u001b[1;36m3584\u001b[0m, \u001b[33mbw\u001b[0m=\u001b[1;36m18457\u001b[0m, \u001b[33mprocessing\u001b[0m=\u001b[32m'peak'\u001b[0m, \n",
       "\u001b[33mantuid\u001b[0m=\u001b[1;36m0\u001b[0m, \u001b[33mthresh\u001b[0m=\u001b[1;36m-147.5\u001b[0m, \u001b[33mminimum\u001b[0m=\u001b[1;36m-147.5\u001b[0m\u001b[1m)\u001b[0m, \u001b[1;35mSpecData\u001b[0m\u001b[1m(\u001b[0m\u001b[33mtype\u001b[0m=\u001b[1;36m67\u001b[0m, \u001b[33mthread_id\u001b[0m=\u001b[1;36m310\u001b[0m, \u001b[33mdescription\u001b[0m=\u001b[32m'PMEC \u001b[0m\n",
       "\u001b[32m2021 \u001b[0m\u001b[32m(\u001b[0m\u001b[32mFaixa 2 de 10\u001b[0m\u001b[32m)\u001b[0m\u001b[32m.'\u001b[0m, \u001b[33mstart_mega\u001b[0m=\u001b[1;36m155\u001b[0m\u001b[1;36m.0\u001b[0m, \u001b[33mstop_mega\u001b[0m=\u001b[1;36m165\u001b[0m\u001b[1;36m.0\u001b[0m, \u001b[33mdtype\u001b[0m=\u001b[32m'dBm'\u001b[0m, \u001b[33mndata\u001b[0m=\u001b[1;36m1024\u001b[0m, \u001b[33mbw\u001b[0m=\u001b[1;36m18457\u001b[0m,\n",
       "\u001b[33mprocessing\u001b[0m=\u001b[32m'peak'\u001b[0m, \u001b[33mantuid\u001b[0m=\u001b[1;36m0\u001b[0m, \u001b[33mthresh\u001b[0m=\u001b[1;36m-147.5\u001b[0m, \u001b[33mminimum\u001b[0m=\u001b[1;36m-147.5\u001b[0m\u001b[1m)\u001b[0m, \u001b[1;35mSpecData\u001b[0m\u001b[1m(\u001b[0m\u001b[33mtype\u001b[0m=\u001b[1;36m67\u001b[0m, \u001b[33mthread_id\u001b[0m=\u001b[1;36m100\u001b[0m,\n",
       "\u001b[33mdescription\u001b[0m=\u001b[32m'PRD 2021 \u001b[0m\u001b[32m(\u001b[0m\u001b[32mFaixa principal 1 de 4\u001b[0m\u001b[32m)\u001b[0m\u001b[32m.'\u001b[0m, \u001b[33mstart_mega\u001b[0m=\u001b[1;36m50\u001b[0m\u001b[1;36m.0\u001b[0m, \u001b[33mstop_mega\u001b[0m=\u001b[1;36m90\u001b[0m\u001b[1;36m.0\u001b[0m, \n",
       "\u001b[33mdtype\u001b[0m=\u001b[32m'dBμV/m'\u001b[0m, \u001b[33mndata\u001b[0m=\u001b[1;36m1024\u001b[0m, \u001b[33mbw\u001b[0m=\u001b[1;36m73828\u001b[0m, \u001b[33mprocessing\u001b[0m=\u001b[32m'peak'\u001b[0m, \u001b[33mantuid\u001b[0m=\u001b[1;36m0\u001b[0m, \u001b[33mthresh\u001b[0m=\u001b[1;36m-45.5\u001b[0m, \n",
       "\u001b[33mminimum\u001b[0m=\u001b[1;36m-45.5\u001b[0m\u001b[1m)\u001b[0m, \u001b[1;35mSpecData\u001b[0m\u001b[1m(\u001b[0m\u001b[33mtype\u001b[0m=\u001b[1;36m67\u001b[0m, \u001b[33mthread_id\u001b[0m=\u001b[1;36m110\u001b[0m, \u001b[33mdescription\u001b[0m=\u001b[32m'PRD 2021 \u001b[0m\u001b[32m(\u001b[0m\u001b[32mFaixa principal 2 de \u001b[0m\n",
       "\u001b[32m4\u001b[0m\u001b[32m)\u001b[0m\u001b[32m.'\u001b[0m, \u001b[33mstart_mega\u001b[0m=\u001b[1;36m70\u001b[0m\u001b[1;36m.0\u001b[0m, \u001b[33mstop_mega\u001b[0m=\u001b[1;36m110\u001b[0m\u001b[1;36m.0\u001b[0m, \u001b[33mdtype\u001b[0m=\u001b[32m'dBμV/m'\u001b[0m, \u001b[33mndata\u001b[0m=\u001b[1;36m1024\u001b[0m, \u001b[33mbw\u001b[0m=\u001b[1;36m73828\u001b[0m, \n",
       "\u001b[33mprocessing\u001b[0m=\u001b[32m'peak'\u001b[0m, \u001b[33mantuid\u001b[0m=\u001b[1;36m0\u001b[0m, \u001b[33mthresh\u001b[0m=\u001b[1;36m-29.5\u001b[0m, \u001b[33mminimum\u001b[0m=\u001b[1;36m-29.5\u001b[0m\u001b[1m)\u001b[0m, \u001b[1;35mSpecData\u001b[0m\u001b[1m(\u001b[0m\u001b[33mtype\u001b[0m=\u001b[1;36m67\u001b[0m, \u001b[33mthread_id\u001b[0m=\u001b[1;36m120\u001b[0m, \n",
       "\u001b[33mdescription\u001b[0m=\u001b[32m'PRD 2021 \u001b[0m\u001b[32m(\u001b[0m\u001b[32mFaixa principal 3 de 4\u001b[0m\u001b[32m)\u001b[0m\u001b[32m.'\u001b[0m, \u001b[33mstart_mega\u001b[0m=\u001b[1;36m170\u001b[0m\u001b[1;36m.0\u001b[0m, \u001b[33mstop_mega\u001b[0m=\u001b[1;36m220\u001b[0m\u001b[1;36m.0\u001b[0m, \n",
       "\u001b[33mdtype\u001b[0m=\u001b[32m'dBμV/m'\u001b[0m, \u001b[33mndata\u001b[0m=\u001b[1;36m1280\u001b[0m, \u001b[33mbw\u001b[0m=\u001b[1;36m73828\u001b[0m, \u001b[33mprocessing\u001b[0m=\u001b[32m'peak'\u001b[0m, \u001b[33mantuid\u001b[0m=\u001b[1;36m0\u001b[0m, \u001b[33mthresh\u001b[0m=\u001b[1;36m-51.5\u001b[0m, \n",
       "\u001b[33mminimum\u001b[0m=\u001b[1;36m-51.5\u001b[0m\u001b[1m)\u001b[0m, \u001b[1;35mSpecData\u001b[0m\u001b[1m(\u001b[0m\u001b[33mtype\u001b[0m=\u001b[1;36m67\u001b[0m, \u001b[33mthread_id\u001b[0m=\u001b[1;36m130\u001b[0m, \u001b[33mdescription\u001b[0m=\u001b[32m'PRD 2021 \u001b[0m\u001b[32m(\u001b[0m\u001b[32mFaixa principal 4 de \u001b[0m\n",
       "\u001b[32m4\u001b[0m\u001b[32m)\u001b[0m\u001b[32m.'\u001b[0m, \u001b[33mstart_mega\u001b[0m=\u001b[1;36m470\u001b[0m\u001b[1;36m.0\u001b[0m, \u001b[33mstop_mega\u001b[0m=\u001b[1;36m700\u001b[0m\u001b[1;36m.0\u001b[0m, \u001b[33mdtype\u001b[0m=\u001b[32m'dBμV/m'\u001b[0m, \u001b[33mndata\u001b[0m=\u001b[1;36m5888\u001b[0m, \u001b[33mbw\u001b[0m=\u001b[1;36m73828\u001b[0m, \n",
       "\u001b[33mprocessing\u001b[0m=\u001b[32m'peak'\u001b[0m, \u001b[33mantuid\u001b[0m=\u001b[1;36m0\u001b[0m, \u001b[33mthresh\u001b[0m=\u001b[1;36m-39.5\u001b[0m, \u001b[33mminimum\u001b[0m=\u001b[1;36m-39.5\u001b[0m\u001b[1m)\u001b[0m, \u001b[1;35mSpecData\u001b[0m\u001b[1m(\u001b[0m\u001b[33mtype\u001b[0m=\u001b[1;36m67\u001b[0m, \u001b[33mthread_id\u001b[0m=\u001b[1;36m200\u001b[0m, \n",
       "\u001b[33mdescription\u001b[0m=\u001b[32m'PMEF 2021 \u001b[0m\u001b[32m(\u001b[0m\u001b[32mFaixa 1 de 6\u001b[0m\u001b[32m)\u001b[0m\u001b[32m.'\u001b[0m, \u001b[33mstart_mega\u001b[0m=\u001b[1;36m700\u001b[0m\u001b[1;36m.0\u001b[0m, \u001b[33mstop_mega\u001b[0m=\u001b[1;36m960\u001b[0m\u001b[1;36m.0\u001b[0m, \u001b[33mdtype\u001b[0m=\u001b[32m'dBm'\u001b[0m, \n",
       "\u001b[33mndata\u001b[0m=\u001b[1;36m6656\u001b[0m, \u001b[33mbw\u001b[0m=\u001b[1;36m73828\u001b[0m, \u001b[33mprocessing\u001b[0m=\u001b[32m'peak'\u001b[0m, \u001b[33mantuid\u001b[0m=\u001b[1;36m0\u001b[0m, \u001b[33mthresh\u001b[0m=\u001b[1;36m-147.5\u001b[0m, \u001b[33mminimum\u001b[0m=\u001b[1;36m-147.5\u001b[0m\u001b[1m)\u001b[0m, \n",
       "\u001b[1;35mSpecData\u001b[0m\u001b[1m(\u001b[0m\u001b[33mtype\u001b[0m=\u001b[1;36m67\u001b[0m, \u001b[33mthread_id\u001b[0m=\u001b[1;36m210\u001b[0m, \u001b[33mdescription\u001b[0m=\u001b[32m'PMEF 2021 \u001b[0m\u001b[32m(\u001b[0m\u001b[32mFaixa 2 de 6\u001b[0m\u001b[32m)\u001b[0m\u001b[32m.'\u001b[0m, \u001b[33mstart_mega\u001b[0m=\u001b[1;36m1710\u001b[0m\u001b[1;36m.0\u001b[0m, \n",
       "\u001b[33mstop_mega\u001b[0m=\u001b[1;36m1980\u001b[0m\u001b[1;36m.0\u001b[0m, \u001b[33mdtype\u001b[0m=\u001b[32m'dBm'\u001b[0m, \u001b[33mndata\u001b[0m=\u001b[1;36m6912\u001b[0m, \u001b[33mbw\u001b[0m=\u001b[1;36m73828\u001b[0m, \u001b[33mprocessing\u001b[0m=\u001b[32m'peak'\u001b[0m, \u001b[33mantuid\u001b[0m=\u001b[1;36m0\u001b[0m, \n",
       "\u001b[33mthresh\u001b[0m=\u001b[1;36m-147.5\u001b[0m, \u001b[33mminimum\u001b[0m=\u001b[1;36m-147.5\u001b[0m\u001b[1m)\u001b[0m, \u001b[1;35mSpecData\u001b[0m\u001b[1m(\u001b[0m\u001b[33mtype\u001b[0m=\u001b[1;36m67\u001b[0m, \u001b[33mthread_id\u001b[0m=\u001b[1;36m220\u001b[0m, \u001b[33mdescription\u001b[0m=\u001b[32m'PMEF 2021 \u001b[0m\n",
       "\u001b[32m(\u001b[0m\u001b[32mFaixa 3 de 6\u001b[0m\u001b[32m)\u001b[0m\u001b[32m.'\u001b[0m, \u001b[33mstart_mega\u001b[0m=\u001b[1;36m2100\u001b[0m\u001b[1;36m.0\u001b[0m, \u001b[33mstop_mega\u001b[0m=\u001b[1;36m1002168\u001b[0m\u001b[1;36m.999\u001b[0m, \u001b[33mdtype\u001b[0m=\u001b[32m'dBm'\u001b[0m, \u001b[33mndata\u001b[0m=\u001b[1;36m1792\u001b[0m, \n",
       "\u001b[33mbw\u001b[0m=\u001b[1;36m73828\u001b[0m, \u001b[33mprocessing\u001b[0m=\u001b[32m'peak'\u001b[0m, \u001b[33mantuid\u001b[0m=\u001b[1;36m0\u001b[0m, \u001b[33mthresh\u001b[0m=\u001b[1;36m-147.5\u001b[0m, \u001b[33mminimum\u001b[0m=\u001b[1;36m-147.5\u001b[0m\u001b[1m)\u001b[0m, \u001b[1;35mSpecData\u001b[0m\u001b[1m(\u001b[0m\u001b[33mtype\u001b[0m=\u001b[1;36m67\u001b[0m, \n",
       "\u001b[33mthread_id\u001b[0m=\u001b[1;36m230\u001b[0m, \u001b[33mdescription\u001b[0m=\u001b[32m'PMEF 2021 \u001b[0m\u001b[32m(\u001b[0m\u001b[32mFaixa 4 de 6\u001b[0m\u001b[32m)\u001b[0m\u001b[32m.'\u001b[0m, \u001b[33mstart_mega\u001b[0m=\u001b[1;36m2290\u001b[0m\u001b[1;36m.0\u001b[0m, \u001b[33mstop_mega\u001b[0m=\u001b[1;36m2390\u001b[0m\u001b[1;36m.0\u001b[0m, \n",
       "\u001b[33mdtype\u001b[0m=\u001b[32m'dBm'\u001b[0m, \u001b[33mndata\u001b[0m=\u001b[1;36m2560\u001b[0m, \u001b[33mbw\u001b[0m=\u001b[1;36m73828\u001b[0m, \u001b[33mprocessing\u001b[0m=\u001b[32m'peak'\u001b[0m, \u001b[33mantuid\u001b[0m=\u001b[1;36m0\u001b[0m, \u001b[33mthresh\u001b[0m=\u001b[1;36m-147.5\u001b[0m, \n",
       "\u001b[33mminimum\u001b[0m=\u001b[1;36m-147.5\u001b[0m\u001b[1m)\u001b[0m, \u001b[1;35mSpecData\u001b[0m\u001b[1m(\u001b[0m\u001b[33mtype\u001b[0m=\u001b[1;36m67\u001b[0m, \u001b[33mthread_id\u001b[0m=\u001b[1;36m240\u001b[0m, \u001b[33mdescription\u001b[0m=\u001b[32m'PMEF 2021 \u001b[0m\u001b[32m(\u001b[0m\u001b[32mFaixa 5 de 6\u001b[0m\u001b[32m)\u001b[0m\u001b[32m.'\u001b[0m, \n",
       "\u001b[33mstart_mega\u001b[0m=\u001b[1;36m2500\u001b[0m\u001b[1;36m.0\u001b[0m, \u001b[33mstop_mega\u001b[0m=\u001b[1;36m2690\u001b[0m\u001b[1;36m.0\u001b[0m, \u001b[33mdtype\u001b[0m=\u001b[32m'dBm'\u001b[0m, \u001b[33mndata\u001b[0m=\u001b[1;36m4864\u001b[0m, \u001b[33mbw\u001b[0m=\u001b[1;36m73828\u001b[0m, \u001b[33mprocessing\u001b[0m=\u001b[32m'peak'\u001b[0m, \n",
       "\u001b[33mantuid\u001b[0m=\u001b[1;36m0\u001b[0m, \u001b[33mthresh\u001b[0m=\u001b[1;36m-147.5\u001b[0m, \u001b[33mminimum\u001b[0m=\u001b[1;36m-147.5\u001b[0m\u001b[1m)\u001b[0m, \u001b[1;35mSpecData\u001b[0m\u001b[1m(\u001b[0m\u001b[33mtype\u001b[0m=\u001b[1;36m67\u001b[0m, \u001b[33mthread_id\u001b[0m=\u001b[1;36m320\u001b[0m, \u001b[33mdescription\u001b[0m=\u001b[32m'PMEC \u001b[0m\n",
       "\u001b[32m2021 \u001b[0m\u001b[32m(\u001b[0m\u001b[32mFaixa 3 de 10\u001b[0m\u001b[32m)\u001b[0m\u001b[32m.'\u001b[0m, \u001b[33mstart_mega\u001b[0m=\u001b[1;36m320\u001b[0m\u001b[1;36m.0\u001b[0m, \u001b[33mstop_mega\u001b[0m=\u001b[1;36m340\u001b[0m\u001b[1;36m.0\u001b[0m, \u001b[33mdtype\u001b[0m=\u001b[32m'dBm'\u001b[0m, \u001b[33mndata\u001b[0m=\u001b[1;36m512\u001b[0m, \u001b[33mbw\u001b[0m=\u001b[1;36m73828\u001b[0m, \n",
       "\u001b[33mprocessing\u001b[0m=\u001b[32m'peak'\u001b[0m, \u001b[33mantuid\u001b[0m=\u001b[1;36m0\u001b[0m, \u001b[33mthresh\u001b[0m=\u001b[1;36m-147.5\u001b[0m, \u001b[33mminimum\u001b[0m=\u001b[1;36m-147.5\u001b[0m\u001b[1m)\u001b[0m, \u001b[1;35mSpecData\u001b[0m\u001b[1m(\u001b[0m\u001b[33mtype\u001b[0m=\u001b[1;36m67\u001b[0m, \u001b[33mthread_id\u001b[0m=\u001b[1;36m330\u001b[0m,\n",
       "\u001b[33mdescription\u001b[0m=\u001b[32m'PMEC 2021 \u001b[0m\u001b[32m(\u001b[0m\u001b[32mFaixa 4 de 10\u001b[0m\u001b[32m)\u001b[0m\u001b[32m.'\u001b[0m, \u001b[33mstart_mega\u001b[0m=\u001b[1;36m400\u001b[0m\u001b[1;36m.0\u001b[0m, \u001b[33mstop_mega\u001b[0m=\u001b[1;36m410\u001b[0m\u001b[1;36m.0\u001b[0m, \u001b[33mdtype\u001b[0m=\u001b[32m'dBm'\u001b[0m, \n",
       "\u001b[33mndata\u001b[0m=\u001b[1;36m256\u001b[0m, \u001b[33mbw\u001b[0m=\u001b[1;36m73828\u001b[0m, \u001b[33mprocessing\u001b[0m=\u001b[32m'peak'\u001b[0m, \u001b[33mantuid\u001b[0m=\u001b[1;36m0\u001b[0m, \u001b[33mthresh\u001b[0m=\u001b[1;36m-147.5\u001b[0m, \u001b[33mminimum\u001b[0m=\u001b[1;36m-147.5\u001b[0m\u001b[1m)\u001b[0m, \n",
       "\u001b[1;35mSpecData\u001b[0m\u001b[1m(\u001b[0m\u001b[33mtype\u001b[0m=\u001b[1;36m67\u001b[0m, \u001b[33mthread_id\u001b[0m=\u001b[1;36m340\u001b[0m, \u001b[33mdescription\u001b[0m=\u001b[32m'PMEC 2021 \u001b[0m\u001b[32m(\u001b[0m\u001b[32mFaixa 5 de 10\u001b[0m\u001b[32m)\u001b[0m\u001b[32m.'\u001b[0m, \u001b[33mstart_mega\u001b[0m=\u001b[1;36m960\u001b[0m\u001b[1;36m.0\u001b[0m, \n",
       "\u001b[33mstop_mega\u001b[0m=\u001b[1;36m1001218\u001b[0m\u001b[1;36m.999\u001b[0m, \u001b[33mdtype\u001b[0m=\u001b[32m'dBm'\u001b[0m, \u001b[33mndata\u001b[0m=\u001b[1;36m6656\u001b[0m, \u001b[33mbw\u001b[0m=\u001b[1;36m73828\u001b[0m, \u001b[33mprocessing\u001b[0m=\u001b[32m'peak'\u001b[0m, \u001b[33mantuid\u001b[0m=\u001b[1;36m0\u001b[0m, \n",
       "\u001b[33mthresh\u001b[0m=\u001b[1;36m-147.5\u001b[0m, \u001b[33mminimum\u001b[0m=\u001b[1;36m-147.5\u001b[0m\u001b[1m)\u001b[0m, \u001b[1;35mSpecData\u001b[0m\u001b[1m(\u001b[0m\u001b[33mtype\u001b[0m=\u001b[1;36m67\u001b[0m, \u001b[33mthread_id\u001b[0m=\u001b[1;36m350\u001b[0m, \u001b[33mdescription\u001b[0m=\u001b[32m'PMEC 2021 \u001b[0m\n",
       "\u001b[32m(\u001b[0m\u001b[32mFaixa 6 de 10\u001b[0m\u001b[32m)\u001b[0m\u001b[32m.'\u001b[0m, \u001b[33mstart_mega\u001b[0m=\u001b[1;36m1001388\u001b[0m\u001b[1;36m.999\u001b[0m, \u001b[33mstop_mega\u001b[0m=\u001b[1;36m1001428\u001b[0m\u001b[1;36m.999\u001b[0m, \u001b[33mdtype\u001b[0m=\u001b[32m'dBm'\u001b[0m, \u001b[33mndata\u001b[0m=\u001b[1;36m1280\u001b[0m, \n",
       "\u001b[33mbw\u001b[0m=\u001b[1;36m73828\u001b[0m, \u001b[33mprocessing\u001b[0m=\u001b[32m'peak'\u001b[0m, \u001b[33mantuid\u001b[0m=\u001b[1;36m0\u001b[0m, \u001b[33mthresh\u001b[0m=\u001b[1;36m-147.5\u001b[0m, \u001b[33mminimum\u001b[0m=\u001b[1;36m-147.5\u001b[0m\u001b[1m)\u001b[0m, \u001b[1;35mSpecData\u001b[0m\u001b[1m(\u001b[0m\u001b[33mtype\u001b[0m=\u001b[1;36m67\u001b[0m, \n",
       "\u001b[33mthread_id\u001b[0m=\u001b[1;36m360\u001b[0m, \u001b[33mdescription\u001b[0m=\u001b[32m'PMEC 2021 \u001b[0m\u001b[32m(\u001b[0m\u001b[32mFaixa 7 de 10\u001b[0m\u001b[32m)\u001b[0m\u001b[32m.'\u001b[0m, \u001b[33mstart_mega\u001b[0m=\u001b[1;36m1530\u001b[0m\u001b[1;36m.0\u001b[0m, \n",
       "\u001b[33mstop_mega\u001b[0m=\u001b[1;36m1001648\u001b[0m\u001b[1;36m.999\u001b[0m, \u001b[33mdtype\u001b[0m=\u001b[32m'dBm'\u001b[0m, \u001b[33mndata\u001b[0m=\u001b[1;36m3072\u001b[0m, \u001b[33mbw\u001b[0m=\u001b[1;36m73828\u001b[0m, \u001b[33mprocessing\u001b[0m=\u001b[32m'peak'\u001b[0m, \u001b[33mantuid\u001b[0m=\u001b[1;36m0\u001b[0m, \n",
       "\u001b[33mthresh\u001b[0m=\u001b[1;36m-147.5\u001b[0m, \u001b[33mminimum\u001b[0m=\u001b[1;36m-147.5\u001b[0m\u001b[1m)\u001b[0m, \u001b[1;35mSpecData\u001b[0m\u001b[1m(\u001b[0m\u001b[33mtype\u001b[0m=\u001b[1;36m67\u001b[0m, \u001b[33mthread_id\u001b[0m=\u001b[1;36m370\u001b[0m, \u001b[33mdescription\u001b[0m=\u001b[32m'PMEC 2021 \u001b[0m\n",
       "\u001b[32m(\u001b[0m\u001b[32mFaixa 8 de 10\u001b[0m\u001b[32m)\u001b[0m\u001b[32m.'\u001b[0m, \u001b[33mstart_mega\u001b[0m=\u001b[1;36m2690\u001b[0m\u001b[1;36m.0\u001b[0m, \u001b[33mstop_mega\u001b[0m=\u001b[1;36m1002898\u001b[0m\u001b[1;36m.999\u001b[0m, \u001b[33mdtype\u001b[0m=\u001b[32m'dBm'\u001b[0m, \u001b[33mndata\u001b[0m=\u001b[1;36m5376\u001b[0m, \n",
       "\u001b[33mbw\u001b[0m=\u001b[1;36m73828\u001b[0m, \u001b[33mprocessing\u001b[0m=\u001b[32m'peak'\u001b[0m, \u001b[33mantuid\u001b[0m=\u001b[1;36m0\u001b[0m, \u001b[33mthresh\u001b[0m=\u001b[1;36m-147.5\u001b[0m, \u001b[33mminimum\u001b[0m=\u001b[1;36m-147.5\u001b[0m\u001b[1m)\u001b[0m, \u001b[1;35mSpecData\u001b[0m\u001b[1m(\u001b[0m\u001b[33mtype\u001b[0m=\u001b[1;36m67\u001b[0m, \n",
       "\u001b[33mthread_id\u001b[0m=\u001b[1;36m380\u001b[0m, \u001b[33mdescription\u001b[0m=\u001b[32m'PMEC 2021 \u001b[0m\u001b[32m(\u001b[0m\u001b[32mFaixa 9 de 10\u001b[0m\u001b[32m)\u001b[0m\u001b[32m.'\u001b[0m, \u001b[33mstart_mega\u001b[0m=\u001b[1;36m5000\u001b[0m\u001b[1;36m.0\u001b[0m, \u001b[33mstop_mega\u001b[0m=\u001b[1;36m5160\u001b[0m\u001b[1;36m.0\u001b[0m,\n",
       "\u001b[33mdtype\u001b[0m=\u001b[32m'dBm'\u001b[0m, \u001b[33mndata\u001b[0m=\u001b[1;36m4096\u001b[0m, \u001b[33mbw\u001b[0m=\u001b[1;36m73828\u001b[0m, \u001b[33mprocessing\u001b[0m=\u001b[32m'peak'\u001b[0m, \u001b[33mantuid\u001b[0m=\u001b[1;36m0\u001b[0m, \u001b[33mthresh\u001b[0m=\u001b[1;36m-147.5\u001b[0m, \n",
       "\u001b[33mminimum\u001b[0m=\u001b[1;36m-147.5\u001b[0m\u001b[1m)\u001b[0m, \u001b[1;35mSpecData\u001b[0m\u001b[1m(\u001b[0m\u001b[33mtype\u001b[0m=\u001b[1;36m67\u001b[0m, \u001b[33mthread_id\u001b[0m=\u001b[1;36m390\u001b[0m, \u001b[33mdescription\u001b[0m=\u001b[32m'PMEC 2021 \u001b[0m\u001b[32m(\u001b[0m\u001b[32mFaixa 10 de 10\u001b[0m\u001b[32m)\u001b[0m\u001b[32m.'\u001b[0m, \n",
       "\u001b[33mstart_mega\u001b[0m=\u001b[1;36m1005338\u001b[0m\u001b[1;36m.999\u001b[0m, \u001b[33mstop_mega\u001b[0m=\u001b[1;36m1005458\u001b[0m\u001b[1;36m.999\u001b[0m, \u001b[33mdtype\u001b[0m=\u001b[32m'dBm'\u001b[0m, \u001b[33mndata\u001b[0m=\u001b[1;36m3328\u001b[0m, \u001b[33mbw\u001b[0m=\u001b[1;36m73828\u001b[0m, \n",
       "\u001b[33mprocessing\u001b[0m=\u001b[32m'peak'\u001b[0m, \u001b[33mantuid\u001b[0m=\u001b[1;36m0\u001b[0m, \u001b[33mthresh\u001b[0m=\u001b[1;36m-147.5\u001b[0m, \u001b[33mminimum\u001b[0m=\u001b[1;36m-147.5\u001b[0m\u001b[1m)\u001b[0m, \u001b[1;35mSpecData\u001b[0m\u001b[1m(\u001b[0m\u001b[33mtype\u001b[0m=\u001b[1;36m67\u001b[0m, \u001b[33mthread_id\u001b[0m=\u001b[1;36m250\u001b[0m,\n",
       "\u001b[33mdescription\u001b[0m=\u001b[32m'PMEF 2021 \u001b[0m\u001b[32m(\u001b[0m\u001b[32mFaixa 6 de 6\u001b[0m\u001b[32m)\u001b[0m\u001b[32m.'\u001b[0m, \u001b[33mstart_mega\u001b[0m=\u001b[1;36m3290\u001b[0m\u001b[1;36m.0\u001b[0m, \u001b[33mstop_mega\u001b[0m=\u001b[1;36m3700\u001b[0m\u001b[1;36m.0\u001b[0m, \u001b[33mdtype\u001b[0m=\u001b[32m'dBm'\u001b[0m, \n",
       "\u001b[33mndata\u001b[0m=\u001b[1;36m10496\u001b[0m, \u001b[33mbw\u001b[0m=\u001b[1;36m73828\u001b[0m, \u001b[33mprocessing\u001b[0m=\u001b[32m'peak'\u001b[0m, \u001b[33mantuid\u001b[0m=\u001b[1;36m0\u001b[0m, \u001b[33mthresh\u001b[0m=\u001b[1;36m-147.5\u001b[0m, \u001b[33mminimum\u001b[0m=\u001b[1;36m-147.5\u001b[0m\u001b[1m)\u001b[0m\u001b[1m]\u001b[0m\n",
       "\u001b[1m}\u001b[0m\n"
      ]
     },
     "metadata": {},
     "output_type": "display_data"
    }
   ],
   "source": [
    "print(dados)"
   ]
  },
  {
   "cell_type": "markdown",
   "metadata": {},
   "source": [
    "A saída da função é um dicionário, com os metadados do arquivo."
   ]
  },
  {
   "cell_type": "markdown",
   "metadata": {},
   "source": [
    "## GPS\n",
    "No entanto as duas chaves mais importantes do dicionário retornado são `gps` e `spectrum`"
   ]
  },
  {
   "cell_type": "markdown",
   "metadata": {},
   "source": [
    "Se você imprimir a classe retornada pela chave `gps` é retornado um resumo dos seus atributos:"
   ]
  },
  {
   "cell_type": "code",
   "execution_count": null,
   "metadata": {},
   "outputs": [
    {
     "data": {
      "text/html": [
       "<pre style=\"white-space:pre;overflow-x:auto;line-height:normal;font-family:Menlo,'DejaVu Sans Mono',consolas,'Courier New',monospace\">GPS Data - Median of Coordinates: <span style=\"color: #008080; text-decoration-color: #008080; font-weight: bold\">-23.32905</span>:<span style=\"color: #008080; text-decoration-color: #008080; font-weight: bold\">-51.13701</span> Altitude: <span style=\"color: #008080; text-decoration-color: #008080; font-weight: bold\">591.30</span> #Satellites: <span style=\"color: #008080; text-decoration-color: #008080; font-weight: bold\">11.0</span>\n",
       "</pre>\n"
      ],
      "text/plain": [
       "GPS Data - Median of Coordinates: \u001b[1;36m-23.32905\u001b[0m:\u001b[1;36m-51.13701\u001b[0m Altitude: \u001b[1;36m591.30\u001b[0m #Satellites: \u001b[1;36m11.0\u001b[0m\n"
      ]
     },
     "metadata": {},
     "output_type": "display_data"
    }
   ],
   "source": [
    "print(dados['gps'])"
   ]
  },
  {
   "cell_type": "markdown",
   "metadata": {},
   "source": [
    "> Para extrair os atributos em si de dado objeto e retorná-los todos num dicionário, o módulo utils tem a função auxiliar `getattrs`"
   ]
  },
  {
   "cell_type": "code",
   "execution_count": null,
   "metadata": {},
   "outputs": [
    {
     "data": {
      "text/markdown": [
       "<h4 id=\"getattrs\" class=\"doc_header\"><code>getattrs</code><a href=\"https://github.com/ronaldokun/rfpye/tree/master/rfpye/utils.py#L146\" class=\"source_link\" style=\"float:right\">[source]</a></h4>\n",
       "\n",
       "> <code>getattrs</code>(**`obj`**:`Any`, **`attrs`**:`Iterable`\\[`T_co`\\]=*`None`*)\n",
       "\n",
       "Receives an object and return the atributes listed in `attrs`, if attrs is None return its public attributes"
      ],
      "text/plain": [
       "<IPython.core.display.Markdown object>"
      ]
     },
     "metadata": {},
     "output_type": "display_data"
    }
   ],
   "source": [
    "from rfpye.utils import getattrs\n",
    "show_doc(getattrs)"
   ]
  },
  {
   "cell_type": "code",
   "execution_count": null,
   "metadata": {},
   "outputs": [
    {
     "data": {
      "text/html": [
       "<pre style=\"white-space:pre;overflow-x:auto;line-height:normal;font-family:Menlo,'DejaVu Sans Mono',consolas,'Courier New',monospace\"><span style=\"font-weight: bold\">{</span><span style=\"color: #008000; text-decoration-color: #008000\">'altitude'</span>: <span style=\"color: #008080; text-decoration-color: #008080; font-weight: bold\">807.8</span>, <span style=\"color: #008000; text-decoration-color: #008000\">'latitude'</span>: <span style=\"color: #008080; text-decoration-color: #008080; font-weight: bold\">-23.44242</span>, <span style=\"color: #008000; text-decoration-color: #008000\">'longitude'</span>: <span style=\"color: #008080; text-decoration-color: #008080; font-weight: bold\">-46.472522</span>, <span style=\"color: #008000; text-decoration-color: #008000\">'num_satellites'</span>: <span style=\"color: #008080; text-decoration-color: #008080; font-weight: bold\">11.0</span><span style=\"font-weight: bold\">}</span>\n",
       "</pre>\n"
      ],
      "text/plain": [
       "\u001b[1m{\u001b[0m\u001b[32m'altitude'\u001b[0m: \u001b[1;36m807.8\u001b[0m, \u001b[32m'latitude'\u001b[0m: \u001b[1;36m-23.44242\u001b[0m, \u001b[32m'longitude'\u001b[0m: \u001b[1;36m-46.472522\u001b[0m, \u001b[32m'num_satellites'\u001b[0m: \u001b[1;36m11.0\u001b[0m\u001b[1m}\u001b[0m\n"
      ]
     },
     "metadata": {},
     "output_type": "display_data"
    }
   ],
   "source": [
    "print(getattrs(dados['gps']))"
   ]
  },
  {
   "cell_type": "markdown",
   "metadata": {},
   "source": [
    "Os atributos listados são os valores consolidados por meio da __mediana__ dos diversos blocos de GPS do arquivo. "
   ]
  },
  {
   "cell_type": "markdown",
   "metadata": {},
   "source": [
    "### Dados Brutos de GPS\n",
    "> Caso desejar a lista original de valores, os atributos são os mesmos mas precedidos de `_`, o que os torna __atributos privados__ em python, isso somente quer dizer que não são explicitados em algus métodos como `getattrs`, pois normalmente não são acessíveis diretamente, mas nada impede que sejam acessados."
   ]
  },
  {
   "cell_type": "code",
   "execution_count": null,
   "metadata": {},
   "outputs": [
    {
     "data": {
      "text/plain": [
       "(#9058) [-23.329051,-23.329054,-23.329058,-23.329051,-23.329052,-23.329054,-23.32904,-23.329055,-23.329057,-23.32906...]"
      ]
     },
     "execution_count": null,
     "metadata": {},
     "output_type": "execute_result"
    }
   ],
   "source": [
    "dados['gps']._latitude"
   ]
  },
  {
   "cell_type": "code",
   "execution_count": null,
   "metadata": {},
   "outputs": [
    {
     "data": {
      "text/plain": [
       "(#9058) [-51.137013,-51.137008,-51.137002,-51.137009,-51.137008,-51.137005,-51.137015,-51.137019,-51.137025,-51.13702...]"
      ]
     },
     "execution_count": null,
     "metadata": {},
     "output_type": "execute_result"
    }
   ],
   "source": [
    "dados['gps']._longitude"
   ]
  },
  {
   "cell_type": "code",
   "execution_count": null,
   "metadata": {},
   "outputs": [
    {
     "data": {
      "text/plain": [
       "(#9058) [590.8,589.9,589.9,590.6,590.7,589.8,590.3,589.7,589.0,589.5...]"
      ]
     },
     "execution_count": null,
     "metadata": {},
     "output_type": "execute_result"
    }
   ],
   "source": [
    "dados['gps']._altitude"
   ]
  },
  {
   "cell_type": "code",
   "execution_count": null,
   "metadata": {},
   "outputs": [
    {
     "data": {
      "text/plain": [
       "(#9058) [11,11,11,11,11,11,11,11,11,11...]"
      ]
     },
     "execution_count": null,
     "metadata": {},
     "output_type": "execute_result"
    }
   ],
   "source": [
    "dados['gps']._num_satellites "
   ]
  },
  {
   "cell_type": "markdown",
   "metadata": {},
   "source": [
    "## Dados de Nível Espectral\n",
    "Cada arquivo bin normalmente possui vários fluxos de espectro distintos, cada fluxo espectral é uma classe Python, na chave `spectrum` é retornado uma lista com todos os fluxos de espectro."
   ]
  },
  {
   "cell_type": "code",
   "execution_count": null,
   "metadata": {},
   "outputs": [
    {
     "data": {
      "text/html": [
       "<pre style=\"white-space:pre;overflow-x:auto;line-height:normal;font-family:Menlo,'DejaVu Sans Mono',consolas,'Courier New',monospace\"><span style=\"color: #008080; text-decoration-color: #008080; font-weight: bold\">20</span>\n",
       "</pre>\n"
      ],
      "text/plain": [
       "\u001b[1;36m20\u001b[0m\n"
      ]
     },
     "metadata": {},
     "output_type": "display_data"
    }
   ],
   "source": [
    "fluxos = dados['spectrum']\n",
    "print(len(fluxos))"
   ]
  },
  {
   "cell_type": "markdown",
   "metadata": {},
   "source": [
    "Vamos investigar um deles:"
   ]
  },
  {
   "cell_type": "code",
   "execution_count": null,
   "metadata": {},
   "outputs": [],
   "source": [
    "fluxo = fluxos[0]"
   ]
  },
  {
   "cell_type": "markdown",
   "metadata": {},
   "source": [
    "Ao imprimir um fluxo é mostrado informações mínimas sobre o seu conteúdo:"
   ]
  },
  {
   "cell_type": "code",
   "execution_count": null,
   "metadata": {},
   "outputs": [
    {
     "data": {
      "text/html": [
       "<pre style=\"white-space:pre;overflow-x:auto;line-height:normal;font-family:Menlo,'DejaVu Sans Mono',consolas,'Courier New',monospace\">Blocks of Type: <span style=\"color: #008080; text-decoration-color: #008080; font-weight: bold\">67</span>, Thread_id: <span style=\"color: #008080; text-decoration-color: #008080; font-weight: bold\">300</span>, Start: <span style=\"color: #008080; text-decoration-color: #008080; font-weight: bold\">105.0</span> MHz, Stop: <span style=\"color: #008080; text-decoration-color: #008080; font-weight: bold\">140.0</span> MHz\n",
       "</pre>\n"
      ],
      "text/plain": [
       "Blocks of Type: \u001b[1;36m67\u001b[0m, Thread_id: \u001b[1;36m300\u001b[0m, Start: \u001b[1;36m105.0\u001b[0m MHz, Stop: \u001b[1;36m140.0\u001b[0m MHz\n"
      ]
     },
     "metadata": {},
     "output_type": "display_data"
    }
   ],
   "source": [
    "print(fluxo)"
   ]
  },
  {
   "cell_type": "markdown",
   "metadata": {},
   "source": [
    "A função `repr` retorna uma representação com todos os metadados do fluxo:"
   ]
  },
  {
   "cell_type": "code",
   "execution_count": null,
   "metadata": {},
   "outputs": [
    {
     "data": {
      "text/html": [
       "<pre style=\"white-space:pre;overflow-x:auto;line-height:normal;font-family:Menlo,'DejaVu Sans Mono',consolas,'Courier New',monospace\"><span style=\"color: #800080; text-decoration-color: #800080; font-weight: bold\">SpecData</span><span style=\"font-weight: bold\">(</span><span style=\"color: #808000; text-decoration-color: #808000\">type</span>=<span style=\"color: #008080; text-decoration-color: #008080; font-weight: bold\">67</span>, <span style=\"color: #808000; text-decoration-color: #808000\">thread_id</span>=<span style=\"color: #008080; text-decoration-color: #008080; font-weight: bold\">300</span>, <span style=\"color: #808000; text-decoration-color: #808000\">description</span>=<span style=\"color: #008000; text-decoration-color: #008000\">'PMEC 2021 (Faixa 1 de 10).'</span>, <span style=\"color: #808000; text-decoration-color: #808000\">start_mega</span>=<span style=\"color: #008080; text-decoration-color: #008080; font-weight: bold\">105.0</span>, \n",
       "<span style=\"color: #808000; text-decoration-color: #808000\">stop_mega</span>=<span style=\"color: #008080; text-decoration-color: #008080; font-weight: bold\">140.0</span>, <span style=\"color: #808000; text-decoration-color: #808000\">dtype</span>=<span style=\"color: #008000; text-decoration-color: #008000\">'dBm'</span>, <span style=\"color: #808000; text-decoration-color: #808000\">ndata</span>=<span style=\"color: #008080; text-decoration-color: #008080; font-weight: bold\">3584</span>, <span style=\"color: #808000; text-decoration-color: #808000\">bw</span>=<span style=\"color: #008080; text-decoration-color: #008080; font-weight: bold\">18457</span>, <span style=\"color: #808000; text-decoration-color: #808000\">processing</span>=<span style=\"color: #008000; text-decoration-color: #008000\">'peak'</span>, <span style=\"color: #808000; text-decoration-color: #808000\">antuid</span>=<span style=\"color: #008080; text-decoration-color: #008080; font-weight: bold\">0</span>, \n",
       "<span style=\"color: #808000; text-decoration-color: #808000\">thresh</span>=<span style=\"color: #008080; text-decoration-color: #008080; font-weight: bold\">-147.5</span>, <span style=\"color: #808000; text-decoration-color: #808000\">minimum</span>=<span style=\"color: #008080; text-decoration-color: #008080; font-weight: bold\">-147.5</span><span style=\"font-weight: bold\">)</span>\n",
       "</pre>\n"
      ],
      "text/plain": [
       "\u001b[1;35mSpecData\u001b[0m\u001b[1m(\u001b[0m\u001b[33mtype\u001b[0m=\u001b[1;36m67\u001b[0m, \u001b[33mthread_id\u001b[0m=\u001b[1;36m300\u001b[0m, \u001b[33mdescription\u001b[0m=\u001b[32m'PMEC 2021 \u001b[0m\u001b[32m(\u001b[0m\u001b[32mFaixa 1 de 10\u001b[0m\u001b[32m)\u001b[0m\u001b[32m.'\u001b[0m, \u001b[33mstart_mega\u001b[0m=\u001b[1;36m105\u001b[0m\u001b[1;36m.0\u001b[0m, \n",
       "\u001b[33mstop_mega\u001b[0m=\u001b[1;36m140\u001b[0m\u001b[1;36m.0\u001b[0m, \u001b[33mdtype\u001b[0m=\u001b[32m'dBm'\u001b[0m, \u001b[33mndata\u001b[0m=\u001b[1;36m3584\u001b[0m, \u001b[33mbw\u001b[0m=\u001b[1;36m18457\u001b[0m, \u001b[33mprocessing\u001b[0m=\u001b[32m'peak'\u001b[0m, \u001b[33mantuid\u001b[0m=\u001b[1;36m0\u001b[0m, \n",
       "\u001b[33mthresh\u001b[0m=\u001b[1;36m-147.5\u001b[0m, \u001b[33mminimum\u001b[0m=\u001b[1;36m-147.5\u001b[0m\u001b[1m)\u001b[0m\n"
      ]
     },
     "metadata": {},
     "output_type": "display_data"
    }
   ],
   "source": [
    "print(repr(fluxo))"
   ]
  },
  {
   "cell_type": "markdown",
   "metadata": {},
   "source": [
    "Qualquer um dos atributos listados podem ser acessados diretamente:"
   ]
  },
  {
   "cell_type": "code",
   "execution_count": null,
   "metadata": {},
   "outputs": [
    {
     "data": {
      "text/html": [
       "<pre style=\"white-space:pre;overflow-x:auto;line-height:normal;font-family:Menlo,'DejaVu Sans Mono',consolas,'Courier New',monospace\">PMEC <span style=\"color: #008080; text-decoration-color: #008080; font-weight: bold\">2021</span> <span style=\"font-weight: bold\">(</span>Faixa <span style=\"color: #008080; text-decoration-color: #008080; font-weight: bold\">1</span> de <span style=\"color: #008080; text-decoration-color: #008080; font-weight: bold\">10</span><span style=\"font-weight: bold\">)</span>.\n",
       "</pre>\n"
      ],
      "text/plain": [
       "PMEC \u001b[1;36m2021\u001b[0m \u001b[1m(\u001b[0mFaixa \u001b[1;36m1\u001b[0m de \u001b[1;36m10\u001b[0m\u001b[1m)\u001b[0m.\n"
      ]
     },
     "metadata": {},
     "output_type": "display_data"
    },
    {
     "data": {
      "text/html": [
       "<pre style=\"white-space:pre;overflow-x:auto;line-height:normal;font-family:Menlo,'DejaVu Sans Mono',consolas,'Courier New',monospace\"><span style=\"color: #008080; text-decoration-color: #008080; font-weight: bold\">18457</span>\n",
       "</pre>\n"
      ],
      "text/plain": [
       "\u001b[1;36m18457\u001b[0m\n"
      ]
     },
     "metadata": {},
     "output_type": "display_data"
    },
    {
     "data": {
      "text/plain": [
       "(None, None)"
      ]
     },
     "execution_count": null,
     "metadata": {},
     "output_type": "execute_result"
    }
   ],
   "source": [
    "print(fluxo.description) , print(fluxo.bw)"
   ]
  },
  {
   "cell_type": "markdown",
   "metadata": {},
   "source": [
    "No entanto o principal atributo de um fluxo de espectro são os valores de nível medidos, os valores medidos são retornados por meio do atributo `levels`:"
   ]
  },
  {
   "cell_type": "code",
   "execution_count": null,
   "metadata": {},
   "outputs": [
    {
     "data": {
      "text/html": [
       "<pre style=\"white-space:pre;overflow-x:auto;line-height:normal;font-family:Menlo,'DejaVu Sans Mono',consolas,'Courier New',monospace\"><span style=\"font-weight: bold\">[[</span> <span style=\"color: #008080; text-decoration-color: #008080; font-weight: bold\">-95</span>.   <span style=\"color: #008080; text-decoration-color: #008080; font-weight: bold\">-87.5</span>  <span style=\"color: #008080; text-decoration-color: #008080; font-weight: bold\">-86</span>.  <span style=\"color: #808000; text-decoration-color: #808000\">...</span>  <span style=\"color: #008080; text-decoration-color: #008080; font-weight: bold\">-91.5</span>  <span style=\"color: #008080; text-decoration-color: #008080; font-weight: bold\">-90.5</span>  <span style=\"color: #008080; text-decoration-color: #008080; font-weight: bold\">-91.5</span><span style=\"font-weight: bold\">]</span>\n",
       " <span style=\"font-weight: bold\">[</span> <span style=\"color: #008080; text-decoration-color: #008080; font-weight: bold\">-85.5</span>  <span style=\"color: #008080; text-decoration-color: #008080; font-weight: bold\">-86</span>.   <span style=\"color: #008080; text-decoration-color: #008080; font-weight: bold\">-87</span>.  <span style=\"color: #808000; text-decoration-color: #808000\">...</span>  <span style=\"color: #008080; text-decoration-color: #008080; font-weight: bold\">-90.5</span>  <span style=\"color: #008080; text-decoration-color: #008080; font-weight: bold\">-92</span>.   <span style=\"color: #008080; text-decoration-color: #008080; font-weight: bold\">-96</span>. <span style=\"font-weight: bold\">]</span>\n",
       " <span style=\"font-weight: bold\">[</span> <span style=\"color: #008080; text-decoration-color: #008080; font-weight: bold\">-86</span>.   <span style=\"color: #008080; text-decoration-color: #008080; font-weight: bold\">-90</span>.   <span style=\"color: #008080; text-decoration-color: #008080; font-weight: bold\">-95.5</span> <span style=\"color: #808000; text-decoration-color: #808000\">...</span> <span style=\"color: #008080; text-decoration-color: #008080; font-weight: bold\">-100</span>.   <span style=\"color: #008080; text-decoration-color: #008080; font-weight: bold\">-91</span>.   <span style=\"color: #008080; text-decoration-color: #008080; font-weight: bold\">-91.5</span><span style=\"font-weight: bold\">]</span>\n",
       " <span style=\"color: #808000; text-decoration-color: #808000\">...</span>\n",
       " <span style=\"font-weight: bold\">[</span> <span style=\"color: #008080; text-decoration-color: #008080; font-weight: bold\">-89.5</span>  <span style=\"color: #008080; text-decoration-color: #008080; font-weight: bold\">-90</span>.   <span style=\"color: #008080; text-decoration-color: #008080; font-weight: bold\">-85.5</span> <span style=\"color: #808000; text-decoration-color: #808000\">...</span>  <span style=\"color: #008080; text-decoration-color: #008080; font-weight: bold\">-96.5</span>  <span style=\"color: #008080; text-decoration-color: #008080; font-weight: bold\">-91</span>.   <span style=\"color: #008080; text-decoration-color: #008080; font-weight: bold\">-91</span>. <span style=\"font-weight: bold\">]</span>\n",
       " <span style=\"font-weight: bold\">[</span> <span style=\"color: #008080; text-decoration-color: #008080; font-weight: bold\">-91</span>.   <span style=\"color: #008080; text-decoration-color: #008080; font-weight: bold\">-94</span>.   <span style=\"color: #008080; text-decoration-color: #008080; font-weight: bold\">-92.5</span> <span style=\"color: #808000; text-decoration-color: #808000\">...</span>  <span style=\"color: #008080; text-decoration-color: #008080; font-weight: bold\">-91</span>.   <span style=\"color: #008080; text-decoration-color: #008080; font-weight: bold\">-96.5</span>  <span style=\"color: #008080; text-decoration-color: #008080; font-weight: bold\">-98.5</span><span style=\"font-weight: bold\">]</span>\n",
       " <span style=\"font-weight: bold\">[</span> <span style=\"color: #008080; text-decoration-color: #008080; font-weight: bold\">-83</span>.   <span style=\"color: #008080; text-decoration-color: #008080; font-weight: bold\">-83.5</span>  <span style=\"color: #008080; text-decoration-color: #008080; font-weight: bold\">-91</span>.  <span style=\"color: #808000; text-decoration-color: #808000\">...</span>  <span style=\"color: #008080; text-decoration-color: #008080; font-weight: bold\">-99</span>.   <span style=\"color: #008080; text-decoration-color: #008080; font-weight: bold\">-99.5</span>  <span style=\"color: #008080; text-decoration-color: #008080; font-weight: bold\">-95.5</span><span style=\"font-weight: bold\">]]</span>\n",
       "</pre>\n"
      ],
      "text/plain": [
       "\u001b[1m[\u001b[0m\u001b[1m[\u001b[0m \u001b[1;36m-95\u001b[0m.   \u001b[1;36m-87.5\u001b[0m  \u001b[1;36m-86\u001b[0m.  \u001b[33m...\u001b[0m  \u001b[1;36m-91.5\u001b[0m  \u001b[1;36m-90.5\u001b[0m  \u001b[1;36m-91.5\u001b[0m\u001b[1m]\u001b[0m\n",
       " \u001b[1m[\u001b[0m \u001b[1;36m-85.5\u001b[0m  \u001b[1;36m-86\u001b[0m.   \u001b[1;36m-87\u001b[0m.  \u001b[33m...\u001b[0m  \u001b[1;36m-90.5\u001b[0m  \u001b[1;36m-92\u001b[0m.   \u001b[1;36m-96\u001b[0m. \u001b[1m]\u001b[0m\n",
       " \u001b[1m[\u001b[0m \u001b[1;36m-86\u001b[0m.   \u001b[1;36m-90\u001b[0m.   \u001b[1;36m-95.5\u001b[0m \u001b[33m...\u001b[0m \u001b[1;36m-100\u001b[0m.   \u001b[1;36m-91\u001b[0m.   \u001b[1;36m-91.5\u001b[0m\u001b[1m]\u001b[0m\n",
       " \u001b[33m...\u001b[0m\n",
       " \u001b[1m[\u001b[0m \u001b[1;36m-89.5\u001b[0m  \u001b[1;36m-90\u001b[0m.   \u001b[1;36m-85.5\u001b[0m \u001b[33m...\u001b[0m  \u001b[1;36m-96.5\u001b[0m  \u001b[1;36m-91\u001b[0m.   \u001b[1;36m-91\u001b[0m. \u001b[1m]\u001b[0m\n",
       " \u001b[1m[\u001b[0m \u001b[1;36m-91\u001b[0m.   \u001b[1;36m-94\u001b[0m.   \u001b[1;36m-92.5\u001b[0m \u001b[33m...\u001b[0m  \u001b[1;36m-91\u001b[0m.   \u001b[1;36m-96.5\u001b[0m  \u001b[1;36m-98.5\u001b[0m\u001b[1m]\u001b[0m\n",
       " \u001b[1m[\u001b[0m \u001b[1;36m-83\u001b[0m.   \u001b[1;36m-83.5\u001b[0m  \u001b[1;36m-91\u001b[0m.  \u001b[33m...\u001b[0m  \u001b[1;36m-99\u001b[0m.   \u001b[1;36m-99.5\u001b[0m  \u001b[1;36m-95.5\u001b[0m\u001b[1m]\u001b[0m\u001b[1m]\u001b[0m\n"
      ]
     },
     "metadata": {},
     "output_type": "display_data"
    }
   ],
   "source": [
    "print(fluxo.levels)"
   ]
  },
  {
   "cell_type": "code",
   "execution_count": null,
   "metadata": {},
   "outputs": [
    {
     "data": {
      "text/html": [
       "<pre style=\"white-space:pre;overflow-x:auto;line-height:normal;font-family:Menlo,'DejaVu Sans Mono',consolas,'Courier New',monospace\">Formato da matriz com os níveis: <span style=\"font-weight: bold\">(</span><span style=\"color: #008080; text-decoration-color: #008080; font-weight: bold\">2576</span>, <span style=\"color: #008080; text-decoration-color: #008080; font-weight: bold\">1024</span><span style=\"font-weight: bold\">)</span>\n",
       "</pre>\n"
      ],
      "text/plain": [
       "Formato da matriz com os níveis: \u001b[1m(\u001b[0m\u001b[1;36m2576\u001b[0m, \u001b[1;36m1024\u001b[0m\u001b[1m)\u001b[0m\n"
      ]
     },
     "metadata": {},
     "output_type": "display_data"
    }
   ],
   "source": [
    "print(f'Formato da matriz com os níveis: {fluxo.levels.shape}')"
   ]
  },
  {
   "cell_type": "markdown",
   "metadata": {},
   "source": [
    "O nº de linhas da matriz nos dá o número de pontos medidos naquele dado fluxo e as colunas o número de traços no qual o Span ( Stop - Start ) foi dividido. O número de traços pode ser retornada também por meio da função `len`"
   ]
  },
  {
   "cell_type": "code",
   "execution_count": null,
   "metadata": {},
   "outputs": [
    {
     "data": {
      "text/html": [
       "<pre style=\"white-space:pre;overflow-x:auto;line-height:normal;font-family:Menlo,'DejaVu Sans Mono',consolas,'Courier New',monospace\"><span style=\"color: #008080; text-decoration-color: #008080; font-weight: bold\">9058</span>\n",
       "</pre>\n"
      ],
      "text/plain": [
       "\u001b[1;36m9058\u001b[0m\n"
      ]
     },
     "metadata": {},
     "output_type": "display_data"
    }
   ],
   "source": [
    "print(len(fluxo))"
   ]
  },
  {
   "cell_type": "markdown",
   "metadata": {},
   "source": [
    "O atributo anterior retorna uma `numpy.ndarray`, que é um formato eficiente para processamento. \n",
    "\n",
    "### Medidas de nível como pandas dataframe\n",
    "No entanto temos adicionalmente o método `.matrix()` que retorna a matriz de dados como um _Pandas Dataframe_ formatada com o tempo da medição de cada traço como índice das linhas e as frequências de cada traço como coluna.\n",
    "\n",
    "Vamos mostrar as cinco primeiras e cinco últimas linhas e colunas. "
   ]
  },
  {
   "cell_type": "code",
   "execution_count": null,
   "metadata": {},
   "outputs": [
    {
     "data": {
      "text/html": [
       "<div>\n",
       "<style scoped>\n",
       "    .dataframe tbody tr th:only-of-type {\n",
       "        vertical-align: middle;\n",
       "    }\n",
       "\n",
       "    .dataframe tbody tr th {\n",
       "        vertical-align: top;\n",
       "    }\n",
       "\n",
       "    .dataframe thead th {\n",
       "        text-align: right;\n",
       "    }\n",
       "</style>\n",
       "<table border=\"1\" class=\"dataframe\">\n",
       "  <thead>\n",
       "    <tr style=\"text-align: right;\">\n",
       "      <th>Frequencies</th>\n",
       "      <th>105.000000</th>\n",
       "      <th>105.009768</th>\n",
       "      <th>105.019537</th>\n",
       "      <th>105.029305</th>\n",
       "      <th>105.039073</th>\n",
       "    </tr>\n",
       "    <tr>\n",
       "      <th>Time</th>\n",
       "      <th></th>\n",
       "      <th></th>\n",
       "      <th></th>\n",
       "      <th></th>\n",
       "      <th></th>\n",
       "    </tr>\n",
       "  </thead>\n",
       "  <tbody>\n",
       "    <tr>\n",
       "      <th>2021-06-18 21:03:00.762503</th>\n",
       "      <td>-95.0</td>\n",
       "      <td>-87.5</td>\n",
       "      <td>-86.0</td>\n",
       "      <td>-90.0</td>\n",
       "      <td>-92.5</td>\n",
       "    </tr>\n",
       "    <tr>\n",
       "      <th>2021-06-18 21:04:01.432664</th>\n",
       "      <td>-85.5</td>\n",
       "      <td>-86.0</td>\n",
       "      <td>-87.0</td>\n",
       "      <td>-84.0</td>\n",
       "      <td>-77.5</td>\n",
       "    </tr>\n",
       "    <tr>\n",
       "      <th>2021-06-18 21:05:01.182570</th>\n",
       "      <td>-86.0</td>\n",
       "      <td>-90.0</td>\n",
       "      <td>-95.5</td>\n",
       "      <td>-85.0</td>\n",
       "      <td>-84.5</td>\n",
       "    </tr>\n",
       "    <tr>\n",
       "      <th>2021-06-18 21:06:00.812513</th>\n",
       "      <td>-86.0</td>\n",
       "      <td>-87.5</td>\n",
       "      <td>-91.5</td>\n",
       "      <td>-96.5</td>\n",
       "      <td>-93.5</td>\n",
       "    </tr>\n",
       "    <tr>\n",
       "      <th>2021-06-18 21:07:01.402635</th>\n",
       "      <td>-90.0</td>\n",
       "      <td>-83.0</td>\n",
       "      <td>-84.5</td>\n",
       "      <td>-88.5</td>\n",
       "      <td>-85.5</td>\n",
       "    </tr>\n",
       "  </tbody>\n",
       "</table>\n",
       "</div>"
      ],
      "text/plain": [
       "Frequencies                 105.000000  105.009768  105.019537  105.029305  \\\n",
       "Time                                                                         \n",
       "2021-06-18 21:03:00.762503       -95.0       -87.5       -86.0       -90.0   \n",
       "2021-06-18 21:04:01.432664       -85.5       -86.0       -87.0       -84.0   \n",
       "2021-06-18 21:05:01.182570       -86.0       -90.0       -95.5       -85.0   \n",
       "2021-06-18 21:06:00.812513       -86.0       -87.5       -91.5       -96.5   \n",
       "2021-06-18 21:07:01.402635       -90.0       -83.0       -84.5       -88.5   \n",
       "\n",
       "Frequencies                 105.039073  \n",
       "Time                                    \n",
       "2021-06-18 21:03:00.762503       -92.5  \n",
       "2021-06-18 21:04:01.432664       -77.5  \n",
       "2021-06-18 21:05:01.182570       -84.5  \n",
       "2021-06-18 21:06:00.812513       -93.5  \n",
       "2021-06-18 21:07:01.402635       -85.5  "
      ]
     },
     "execution_count": null,
     "metadata": {},
     "output_type": "execute_result"
    }
   ],
   "source": [
    "fluxo.matrix().iloc[:5, :5]"
   ]
  },
  {
   "cell_type": "code",
   "execution_count": null,
   "metadata": {},
   "outputs": [
    {
     "data": {
      "text/html": [
       "<div>\n",
       "<style scoped>\n",
       "    .dataframe tbody tr th:only-of-type {\n",
       "        vertical-align: middle;\n",
       "    }\n",
       "\n",
       "    .dataframe tbody tr th {\n",
       "        vertical-align: top;\n",
       "    }\n",
       "\n",
       "    .dataframe thead th {\n",
       "        text-align: right;\n",
       "    }\n",
       "</style>\n",
       "<table border=\"1\" class=\"dataframe\">\n",
       "  <thead>\n",
       "    <tr style=\"text-align: right;\">\n",
       "      <th>Frequencies</th>\n",
       "      <th>139.960927</th>\n",
       "      <th>139.970695</th>\n",
       "      <th>139.980463</th>\n",
       "      <th>139.990232</th>\n",
       "      <th>140.000000</th>\n",
       "    </tr>\n",
       "    <tr>\n",
       "      <th>Time</th>\n",
       "      <th></th>\n",
       "      <th></th>\n",
       "      <th></th>\n",
       "      <th></th>\n",
       "      <th></th>\n",
       "    </tr>\n",
       "  </thead>\n",
       "  <tbody>\n",
       "    <tr>\n",
       "      <th>2021-07-02 18:56:00.731317</th>\n",
       "      <td>-96.0</td>\n",
       "      <td>-97.0</td>\n",
       "      <td>-104.0</td>\n",
       "      <td>-100.5</td>\n",
       "      <td>-102.5</td>\n",
       "    </tr>\n",
       "    <tr>\n",
       "      <th>2021-07-02 18:57:00.731239</th>\n",
       "      <td>-99.5</td>\n",
       "      <td>-99.5</td>\n",
       "      <td>-101.0</td>\n",
       "      <td>-101.0</td>\n",
       "      <td>-98.5</td>\n",
       "    </tr>\n",
       "    <tr>\n",
       "      <th>2021-07-02 18:58:00.731138</th>\n",
       "      <td>-95.0</td>\n",
       "      <td>-99.5</td>\n",
       "      <td>-99.5</td>\n",
       "      <td>-101.5</td>\n",
       "      <td>-98.5</td>\n",
       "    </tr>\n",
       "    <tr>\n",
       "      <th>2021-07-02 18:59:00.731242</th>\n",
       "      <td>-99.5</td>\n",
       "      <td>-99.5</td>\n",
       "      <td>-97.0</td>\n",
       "      <td>-97.5</td>\n",
       "      <td>-98.5</td>\n",
       "    </tr>\n",
       "    <tr>\n",
       "      <th>2021-07-02 19:00:00.732413</th>\n",
       "      <td>-95.5</td>\n",
       "      <td>-99.5</td>\n",
       "      <td>-98.0</td>\n",
       "      <td>-97.5</td>\n",
       "      <td>-103.5</td>\n",
       "    </tr>\n",
       "  </tbody>\n",
       "</table>\n",
       "</div>"
      ],
      "text/plain": [
       "Frequencies                 139.960927  139.970695  139.980463  139.990232  \\\n",
       "Time                                                                         \n",
       "2021-07-02 18:56:00.731317       -96.0       -97.0      -104.0      -100.5   \n",
       "2021-07-02 18:57:00.731239       -99.5       -99.5      -101.0      -101.0   \n",
       "2021-07-02 18:58:00.731138       -95.0       -99.5       -99.5      -101.5   \n",
       "2021-07-02 18:59:00.731242       -99.5       -99.5       -97.0       -97.5   \n",
       "2021-07-02 19:00:00.732413       -95.5       -99.5       -98.0       -97.5   \n",
       "\n",
       "Frequencies                 140.000000  \n",
       "Time                                    \n",
       "2021-07-02 18:56:00.731317      -102.5  \n",
       "2021-07-02 18:57:00.731239       -98.5  \n",
       "2021-07-02 18:58:00.731138       -98.5  \n",
       "2021-07-02 18:59:00.731242       -98.5  \n",
       "2021-07-02 19:00:00.732413      -103.5  "
      ]
     },
     "execution_count": null,
     "metadata": {},
     "output_type": "execute_result"
    }
   ],
   "source": [
    "fluxo.matrix().iloc[-5:, -5:]"
   ]
  },
  {
   "cell_type": "markdown",
   "metadata": {},
   "source": [
    "Novamente, caso desejado acessar todos os atributos de um fluxo no formato de dicionário, basta utilizar a função `getattrs`"
   ]
  },
  {
   "cell_type": "code",
   "execution_count": null,
   "metadata": {},
   "outputs": [
    {
     "data": {
      "text/html": [
       "<pre style=\"white-space:pre;overflow-x:auto;line-height:normal;font-family:Menlo,'DejaVu Sans Mono',consolas,'Courier New',monospace\"><span style=\"font-weight: bold\">{</span>\n",
       "    <span style=\"color: #008000; text-decoration-color: #008000\">'antuid'</span>: <span style=\"color: #008080; text-decoration-color: #008080; font-weight: bold\">0</span>,\n",
       "    <span style=\"color: #008000; text-decoration-color: #008000\">'bw'</span>: <span style=\"color: #008080; text-decoration-color: #008080; font-weight: bold\">18457</span>,\n",
       "    <span style=\"color: #008000; text-decoration-color: #008000\">'description'</span>: <span style=\"color: #008000; text-decoration-color: #008000\">'PMEC 2021 (Faixa 1 de 10).'</span>,\n",
       "    <span style=\"color: #008000; text-decoration-color: #008000\">'dtype'</span>: <span style=\"color: #008000; text-decoration-color: #008000\">'dBm'</span>,\n",
       "    <span style=\"color: #008000; text-decoration-color: #008000\">'minimum'</span>: <span style=\"color: #008080; text-decoration-color: #008080; font-weight: bold\">-147.5</span>,\n",
       "    <span style=\"color: #008000; text-decoration-color: #008000\">'ndata'</span>: <span style=\"color: #008080; text-decoration-color: #008080; font-weight: bold\">3584</span>,\n",
       "    <span style=\"color: #008000; text-decoration-color: #008000\">'processing'</span>: <span style=\"color: #008000; text-decoration-color: #008000\">'peak'</span>,\n",
       "    <span style=\"color: #008000; text-decoration-color: #008000\">'start_mega'</span>: <span style=\"color: #008080; text-decoration-color: #008080; font-weight: bold\">105.0</span>,\n",
       "    <span style=\"color: #008000; text-decoration-color: #008000\">'stop_mega'</span>: <span style=\"color: #008080; text-decoration-color: #008080; font-weight: bold\">140.0</span>,\n",
       "    <span style=\"color: #008000; text-decoration-color: #008000\">'thread_id'</span>: <span style=\"color: #008080; text-decoration-color: #008080; font-weight: bold\">300</span>,\n",
       "    <span style=\"color: #008000; text-decoration-color: #008000\">'thresh'</span>: <span style=\"color: #008080; text-decoration-color: #008080; font-weight: bold\">-147.5</span>,\n",
       "    <span style=\"color: #008000; text-decoration-color: #008000\">'type'</span>: <span style=\"color: #008080; text-decoration-color: #008080; font-weight: bold\">67</span>\n",
       "<span style=\"font-weight: bold\">}</span>\n",
       "</pre>\n"
      ],
      "text/plain": [
       "\u001b[1m{\u001b[0m\n",
       "    \u001b[32m'antuid'\u001b[0m: \u001b[1;36m0\u001b[0m,\n",
       "    \u001b[32m'bw'\u001b[0m: \u001b[1;36m18457\u001b[0m,\n",
       "    \u001b[32m'description'\u001b[0m: \u001b[32m'PMEC 2021 \u001b[0m\u001b[32m(\u001b[0m\u001b[32mFaixa 1 de 10\u001b[0m\u001b[32m)\u001b[0m\u001b[32m.'\u001b[0m,\n",
       "    \u001b[32m'dtype'\u001b[0m: \u001b[32m'dBm'\u001b[0m,\n",
       "    \u001b[32m'minimum'\u001b[0m: \u001b[1;36m-147.5\u001b[0m,\n",
       "    \u001b[32m'ndata'\u001b[0m: \u001b[1;36m3584\u001b[0m,\n",
       "    \u001b[32m'processing'\u001b[0m: \u001b[32m'peak'\u001b[0m,\n",
       "    \u001b[32m'start_mega'\u001b[0m: \u001b[1;36m105.0\u001b[0m,\n",
       "    \u001b[32m'stop_mega'\u001b[0m: \u001b[1;36m140.0\u001b[0m,\n",
       "    \u001b[32m'thread_id'\u001b[0m: \u001b[1;36m300\u001b[0m,\n",
       "    \u001b[32m'thresh'\u001b[0m: \u001b[1;36m-147.5\u001b[0m,\n",
       "    \u001b[32m'type'\u001b[0m: \u001b[1;36m67\u001b[0m\n",
       "\u001b[1m}\u001b[0m\n"
      ]
     },
     "metadata": {},
     "output_type": "display_data"
    }
   ],
   "source": [
    "print(getattrs(fluxo))"
   ]
  },
  {
   "cell_type": "markdown",
   "metadata": {},
   "source": [
    "### CRFS Bin - Versão 5 - Arquivos Comprimidos\n",
    "Vamos listar arquivos da última versão do script Logger, Versão 5, arquivos comprimidos onde o piso de ruído é suprimido."
   ]
  },
  {
   "cell_type": "code",
   "execution_count": null,
   "metadata": {},
   "outputs": [],
   "source": [
    "file = r'binfiles\\compressed\\rfeye002290_210922_T204046_MaskBroken.bin'"
   ]
  },
  {
   "cell_type": "code",
   "execution_count": null,
   "metadata": {},
   "outputs": [
    {
     "name": "stdout",
     "output_type": "stream",
     "text": [
      "Wall time: 8.76 s\n"
     ]
    }
   ],
   "source": [
    "%%time\n",
    "compressed = parse_bin(file)"
   ]
  },
  {
   "cell_type": "code",
   "execution_count": null,
   "metadata": {},
   "outputs": [
    {
     "data": {
      "text/html": [
       "<pre style=\"white-space:pre;overflow-x:auto;line-height:normal;font-family:Menlo,'DejaVu Sans Mono',consolas,'Courier New',monospace\"><span style=\"font-weight: bold\">{</span>\n",
       "    <span style=\"color: #008000; text-decoration-color: #008000\">'filename'</span>: <span style=\"color: #008000; text-decoration-color: #008000\">'rfeye002290_210922_T204046_MaskBroken.bin'</span>,\n",
       "    <span style=\"color: #008000; text-decoration-color: #008000\">'file_version'</span>: <span style=\"color: #008080; text-decoration-color: #008080; font-weight: bold\">23</span>,\n",
       "    <span style=\"color: #008000; text-decoration-color: #008000\">'string'</span>: <span style=\"color: #008000; text-decoration-color: #008000\">'CRFS DATA FILE V023'</span>,\n",
       "    <span style=\"color: #008000; text-decoration-color: #008000\">'hostname'</span>: <span style=\"color: #008000; text-decoration-color: #008000\">'rfeye002290'</span>,\n",
       "    <span style=\"color: #008000; text-decoration-color: #008000\">'method'</span>: <span style=\"color: #008000; text-decoration-color: #008000\">'ScriptRFeye2021_v2.cfg'</span>,\n",
       "    <span style=\"color: #008000; text-decoration-color: #008000\">'unit_info'</span>: <span style=\"color: #008000; text-decoration-color: #008000\">'Stationary'</span>,\n",
       "    <span style=\"color: #008000; text-decoration-color: #008000\">'file_number'</span>: <span style=\"color: #008080; text-decoration-color: #008080; font-weight: bold\">0</span>,\n",
       "    <span style=\"color: #008000; text-decoration-color: #008000\">'identifier'</span>: <span style=\"color: #008000; text-decoration-color: #008000\">'INFO'</span>,\n",
       "    <span style=\"color: #008000; text-decoration-color: #008000\">'gps'</span>: GPS Data - Median of Coordinates: <span style=\"color: #008080; text-decoration-color: #008080; font-weight: bold\">-14.81416</span>:<span style=\"color: #008080; text-decoration-color: #008080; font-weight: bold\">-39.03184</span> Altitude: <span style=\"color: #008080; text-decoration-color: #008080; font-weight: bold\">15.50</span> #Satellites:\n",
       "<span style=\"color: #008080; text-decoration-color: #008080; font-weight: bold\">11.0</span>,\n",
       "    <span style=\"color: #008000; text-decoration-color: #008000\">'spectrum'</span>: <span style=\"font-weight: bold\">[</span><span style=\"color: #800080; text-decoration-color: #800080; font-weight: bold\">SpecData</span><span style=\"font-weight: bold\">(</span><span style=\"color: #808000; text-decoration-color: #808000\">type</span>=<span style=\"color: #008080; text-decoration-color: #008080; font-weight: bold\">68</span>, <span style=\"color: #808000; text-decoration-color: #808000\">thread_id</span>=<span style=\"color: #008080; text-decoration-color: #008080; font-weight: bold\">321</span>, <span style=\"color: #808000; text-decoration-color: #808000\">description</span>=<span style=\"color: #008000; text-decoration-color: #008000\">'PMEC 2021 (Faixa 3 de 10). @ </span>\n",
       "<span style=\"color: #008000; text-decoration-color: #008000\">-80dBm, 100kHz.'</span>, <span style=\"color: #808000; text-decoration-color: #808000\">start_mega</span>=<span style=\"color: #008080; text-decoration-color: #008080; font-weight: bold\">320.0</span>, <span style=\"color: #808000; text-decoration-color: #808000\">stop_mega</span>=<span style=\"color: #008080; text-decoration-color: #008080; font-weight: bold\">340.0</span>, <span style=\"color: #808000; text-decoration-color: #808000\">dtype</span>=<span style=\"color: #008000; text-decoration-color: #008000\">'dBm'</span>, <span style=\"color: #808000; text-decoration-color: #808000\">ndata</span>=<span style=\"color: #008080; text-decoration-color: #008080; font-weight: bold\">512</span>, <span style=\"color: #808000; text-decoration-color: #808000\">bw</span>=<span style=\"color: #008080; text-decoration-color: #008080; font-weight: bold\">73828</span>, \n",
       "<span style=\"color: #808000; text-decoration-color: #808000\">processing</span>=<span style=\"color: #008000; text-decoration-color: #008000\">'peak'</span>, <span style=\"color: #808000; text-decoration-color: #808000\">antuid</span>=<span style=\"color: #008080; text-decoration-color: #008080; font-weight: bold\">0</span>, <span style=\"color: #808000; text-decoration-color: #808000\">thresh</span>=<span style=\"color: #008080; text-decoration-color: #008080; font-weight: bold\">-100</span>, <span style=\"color: #808000; text-decoration-color: #808000\">minimum</span>=<span style=\"color: #008080; text-decoration-color: #008080; font-weight: bold\">-147.5</span><span style=\"font-weight: bold\">)</span>, <span style=\"color: #800080; text-decoration-color: #800080; font-weight: bold\">SpecData</span><span style=\"font-weight: bold\">(</span><span style=\"color: #808000; text-decoration-color: #808000\">type</span>=<span style=\"color: #008080; text-decoration-color: #008080; font-weight: bold\">68</span>, <span style=\"color: #808000; text-decoration-color: #808000\">thread_id</span>=<span style=\"color: #008080; text-decoration-color: #008080; font-weight: bold\">301</span>, \n",
       "<span style=\"color: #808000; text-decoration-color: #808000\">description</span>=<span style=\"color: #008000; text-decoration-color: #008000\">'PMEC 2021 (Faixa 1 de 10). @ -80dBm, 10kHz.'</span>, <span style=\"color: #808000; text-decoration-color: #808000\">start_mega</span>=<span style=\"color: #008080; text-decoration-color: #008080; font-weight: bold\">108.0</span>, <span style=\"color: #808000; text-decoration-color: #808000\">stop_mega</span>=<span style=\"color: #008080; text-decoration-color: #008080; font-weight: bold\">137.0</span>,\n",
       "<span style=\"color: #808000; text-decoration-color: #808000\">dtype</span>=<span style=\"color: #008000; text-decoration-color: #008000\">'dBm'</span>, <span style=\"color: #808000; text-decoration-color: #808000\">ndata</span>=<span style=\"color: #008080; text-decoration-color: #008080; font-weight: bold\">14848</span>, <span style=\"color: #808000; text-decoration-color: #808000\">bw</span>=<span style=\"color: #008080; text-decoration-color: #008080; font-weight: bold\">3690</span>, <span style=\"color: #808000; text-decoration-color: #808000\">processing</span>=<span style=\"color: #008000; text-decoration-color: #008000\">'peak'</span>, <span style=\"color: #808000; text-decoration-color: #808000\">antuid</span>=<span style=\"color: #008080; text-decoration-color: #008080; font-weight: bold\">0</span>, <span style=\"color: #808000; text-decoration-color: #808000\">thresh</span>=<span style=\"color: #008080; text-decoration-color: #008080; font-weight: bold\">-100</span>, <span style=\"color: #808000; text-decoration-color: #808000\">minimum</span>=<span style=\"color: #008080; text-decoration-color: #008080; font-weight: bold\">-147.5</span><span style=\"font-weight: bold\">)</span>,\n",
       "<span style=\"color: #800080; text-decoration-color: #800080; font-weight: bold\">SpecData</span><span style=\"font-weight: bold\">(</span><span style=\"color: #808000; text-decoration-color: #808000\">type</span>=<span style=\"color: #008080; text-decoration-color: #008080; font-weight: bold\">68</span>, <span style=\"color: #808000; text-decoration-color: #808000\">thread_id</span>=<span style=\"color: #008080; text-decoration-color: #008080; font-weight: bold\">341</span>, <span style=\"color: #808000; text-decoration-color: #808000\">description</span>=<span style=\"color: #008000; text-decoration-color: #008000\">'PMEC 2021 (Faixa 5 de 10). @ -80dBm, 100kHz.'</span>, \n",
       "<span style=\"color: #808000; text-decoration-color: #808000\">start_mega</span>=<span style=\"color: #008080; text-decoration-color: #008080; font-weight: bold\">960.0</span>, <span style=\"color: #808000; text-decoration-color: #808000\">stop_mega</span>=<span style=\"color: #008080; text-decoration-color: #008080; font-weight: bold\">1001218.999</span>, <span style=\"color: #808000; text-decoration-color: #808000\">dtype</span>=<span style=\"color: #008000; text-decoration-color: #008000\">'dBm'</span>, <span style=\"color: #808000; text-decoration-color: #808000\">ndata</span>=<span style=\"color: #008080; text-decoration-color: #008080; font-weight: bold\">6656</span>, <span style=\"color: #808000; text-decoration-color: #808000\">bw</span>=<span style=\"color: #008080; text-decoration-color: #008080; font-weight: bold\">73828</span>, \n",
       "<span style=\"color: #808000; text-decoration-color: #808000\">processing</span>=<span style=\"color: #008000; text-decoration-color: #008000\">'peak'</span>, <span style=\"color: #808000; text-decoration-color: #808000\">antuid</span>=<span style=\"color: #008080; text-decoration-color: #008080; font-weight: bold\">0</span>, <span style=\"color: #808000; text-decoration-color: #808000\">thresh</span>=<span style=\"color: #008080; text-decoration-color: #008080; font-weight: bold\">-100</span>, <span style=\"color: #808000; text-decoration-color: #808000\">minimum</span>=<span style=\"color: #008080; text-decoration-color: #008080; font-weight: bold\">-147.5</span><span style=\"font-weight: bold\">)</span>, <span style=\"color: #800080; text-decoration-color: #800080; font-weight: bold\">SpecData</span><span style=\"font-weight: bold\">(</span><span style=\"color: #808000; text-decoration-color: #808000\">type</span>=<span style=\"color: #008080; text-decoration-color: #008080; font-weight: bold\">68</span>, <span style=\"color: #808000; text-decoration-color: #808000\">thread_id</span>=<span style=\"color: #008080; text-decoration-color: #008080; font-weight: bold\">311</span>, \n",
       "<span style=\"color: #808000; text-decoration-color: #808000\">description</span>=<span style=\"color: #008000; text-decoration-color: #008000\">'PMEC 2021 (Faixa 2 de 10). @ -80dBm, 10kHz.'</span>, <span style=\"color: #808000; text-decoration-color: #808000\">start_mega</span>=<span style=\"color: #008080; text-decoration-color: #008080; font-weight: bold\">156.0</span>, <span style=\"color: #808000; text-decoration-color: #808000\">stop_mega</span>=<span style=\"color: #008080; text-decoration-color: #008080; font-weight: bold\">163.0</span>,\n",
       "<span style=\"color: #808000; text-decoration-color: #808000\">dtype</span>=<span style=\"color: #008000; text-decoration-color: #008000\">'dBm'</span>, <span style=\"color: #808000; text-decoration-color: #808000\">ndata</span>=<span style=\"color: #008080; text-decoration-color: #008080; font-weight: bold\">3584</span>, <span style=\"color: #808000; text-decoration-color: #808000\">bw</span>=<span style=\"color: #008080; text-decoration-color: #008080; font-weight: bold\">3690</span>, <span style=\"color: #808000; text-decoration-color: #808000\">processing</span>=<span style=\"color: #008000; text-decoration-color: #008000\">'peak'</span>, <span style=\"color: #808000; text-decoration-color: #808000\">antuid</span>=<span style=\"color: #008080; text-decoration-color: #008080; font-weight: bold\">0</span>, <span style=\"color: #808000; text-decoration-color: #808000\">thresh</span>=<span style=\"color: #008080; text-decoration-color: #008080; font-weight: bold\">-100</span>, <span style=\"color: #808000; text-decoration-color: #808000\">minimum</span>=<span style=\"color: #008080; text-decoration-color: #008080; font-weight: bold\">-147.5</span><span style=\"font-weight: bold\">)</span>, \n",
       "<span style=\"color: #800080; text-decoration-color: #800080; font-weight: bold\">SpecData</span><span style=\"font-weight: bold\">(</span><span style=\"color: #808000; text-decoration-color: #808000\">type</span>=<span style=\"color: #008080; text-decoration-color: #008080; font-weight: bold\">68</span>, <span style=\"color: #808000; text-decoration-color: #808000\">thread_id</span>=<span style=\"color: #008080; text-decoration-color: #008080; font-weight: bold\">371</span>, <span style=\"color: #808000; text-decoration-color: #808000\">description</span>=<span style=\"color: #008000; text-decoration-color: #008000\">'PMEC 2021 (Faixa 8 de 10). @ -80dBm, 100kHz.'</span>, \n",
       "<span style=\"color: #808000; text-decoration-color: #808000\">start_mega</span>=<span style=\"color: #008080; text-decoration-color: #008080; font-weight: bold\">2690.0</span>, <span style=\"color: #808000; text-decoration-color: #808000\">stop_mega</span>=<span style=\"color: #008080; text-decoration-color: #008080; font-weight: bold\">1002898.999</span>, <span style=\"color: #808000; text-decoration-color: #808000\">dtype</span>=<span style=\"color: #008000; text-decoration-color: #008000\">'dBm'</span>, <span style=\"color: #808000; text-decoration-color: #808000\">ndata</span>=<span style=\"color: #008080; text-decoration-color: #008080; font-weight: bold\">5376</span>, <span style=\"color: #808000; text-decoration-color: #808000\">bw</span>=<span style=\"color: #008080; text-decoration-color: #008080; font-weight: bold\">73828</span>, \n",
       "<span style=\"color: #808000; text-decoration-color: #808000\">processing</span>=<span style=\"color: #008000; text-decoration-color: #008000\">'peak'</span>, <span style=\"color: #808000; text-decoration-color: #808000\">antuid</span>=<span style=\"color: #008080; text-decoration-color: #008080; font-weight: bold\">0</span>, <span style=\"color: #808000; text-decoration-color: #808000\">thresh</span>=<span style=\"color: #008080; text-decoration-color: #008080; font-weight: bold\">-100</span>, <span style=\"color: #808000; text-decoration-color: #808000\">minimum</span>=<span style=\"color: #008080; text-decoration-color: #008080; font-weight: bold\">-147.5</span><span style=\"font-weight: bold\">)</span>, <span style=\"color: #800080; text-decoration-color: #800080; font-weight: bold\">SpecData</span><span style=\"font-weight: bold\">(</span><span style=\"color: #808000; text-decoration-color: #808000\">type</span>=<span style=\"color: #008080; text-decoration-color: #008080; font-weight: bold\">68</span>, <span style=\"color: #808000; text-decoration-color: #808000\">thread_id</span>=<span style=\"color: #008080; text-decoration-color: #008080; font-weight: bold\">351</span>, \n",
       "<span style=\"color: #808000; text-decoration-color: #808000\">description</span>=<span style=\"color: #008000; text-decoration-color: #008000\">'PMEC 2021 (Faixa 6 de 10). @ -80dBm, 100kHz.'</span>, <span style=\"color: #808000; text-decoration-color: #808000\">start_mega</span>=<span style=\"color: #008080; text-decoration-color: #008080; font-weight: bold\">1001388.999</span>, \n",
       "<span style=\"color: #808000; text-decoration-color: #808000\">stop_mega</span>=<span style=\"color: #008080; text-decoration-color: #008080; font-weight: bold\">1001428.999</span>, <span style=\"color: #808000; text-decoration-color: #808000\">dtype</span>=<span style=\"color: #008000; text-decoration-color: #008000\">'dBm'</span>, <span style=\"color: #808000; text-decoration-color: #808000\">ndata</span>=<span style=\"color: #008080; text-decoration-color: #008080; font-weight: bold\">1280</span>, <span style=\"color: #808000; text-decoration-color: #808000\">bw</span>=<span style=\"color: #008080; text-decoration-color: #008080; font-weight: bold\">73828</span>, <span style=\"color: #808000; text-decoration-color: #808000\">processing</span>=<span style=\"color: #008000; text-decoration-color: #008000\">'peak'</span>, <span style=\"color: #808000; text-decoration-color: #808000\">antuid</span>=<span style=\"color: #008080; text-decoration-color: #008080; font-weight: bold\">0</span>, \n",
       "<span style=\"color: #808000; text-decoration-color: #808000\">thresh</span>=<span style=\"color: #008080; text-decoration-color: #008080; font-weight: bold\">-100</span>, <span style=\"color: #808000; text-decoration-color: #808000\">minimum</span>=<span style=\"color: #008080; text-decoration-color: #008080; font-weight: bold\">-147.5</span><span style=\"font-weight: bold\">)</span>, <span style=\"color: #800080; text-decoration-color: #800080; font-weight: bold\">SpecData</span><span style=\"font-weight: bold\">(</span><span style=\"color: #808000; text-decoration-color: #808000\">type</span>=<span style=\"color: #008080; text-decoration-color: #008080; font-weight: bold\">68</span>, <span style=\"color: #808000; text-decoration-color: #808000\">thread_id</span>=<span style=\"color: #008080; text-decoration-color: #008080; font-weight: bold\">331</span>, <span style=\"color: #808000; text-decoration-color: #808000\">description</span>=<span style=\"color: #008000; text-decoration-color: #008000\">'PMEC 2021 (Faixa </span>\n",
       "<span style=\"color: #008000; text-decoration-color: #008000\">4 de 10). @ -80dBm, 100kHz.'</span>, <span style=\"color: #808000; text-decoration-color: #808000\">start_mega</span>=<span style=\"color: #008080; text-decoration-color: #008080; font-weight: bold\">400.0</span>, <span style=\"color: #808000; text-decoration-color: #808000\">stop_mega</span>=<span style=\"color: #008080; text-decoration-color: #008080; font-weight: bold\">410.0</span>, <span style=\"color: #808000; text-decoration-color: #808000\">dtype</span>=<span style=\"color: #008000; text-decoration-color: #008000\">'dBm'</span>, <span style=\"color: #808000; text-decoration-color: #808000\">ndata</span>=<span style=\"color: #008080; text-decoration-color: #008080; font-weight: bold\">256</span>, \n",
       "<span style=\"color: #808000; text-decoration-color: #808000\">bw</span>=<span style=\"color: #008080; text-decoration-color: #008080; font-weight: bold\">73828</span>, <span style=\"color: #808000; text-decoration-color: #808000\">processing</span>=<span style=\"color: #008000; text-decoration-color: #008000\">'peak'</span>, <span style=\"color: #808000; text-decoration-color: #808000\">antuid</span>=<span style=\"color: #008080; text-decoration-color: #008080; font-weight: bold\">0</span>, <span style=\"color: #808000; text-decoration-color: #808000\">thresh</span>=<span style=\"color: #008080; text-decoration-color: #008080; font-weight: bold\">-100</span>, <span style=\"color: #808000; text-decoration-color: #808000\">minimum</span>=<span style=\"color: #008080; text-decoration-color: #008080; font-weight: bold\">-147.5</span><span style=\"font-weight: bold\">)</span>, <span style=\"color: #800080; text-decoration-color: #800080; font-weight: bold\">SpecData</span><span style=\"font-weight: bold\">(</span><span style=\"color: #808000; text-decoration-color: #808000\">type</span>=<span style=\"color: #008080; text-decoration-color: #008080; font-weight: bold\">68</span>, \n",
       "<span style=\"color: #808000; text-decoration-color: #808000\">thread_id</span>=<span style=\"color: #008080; text-decoration-color: #008080; font-weight: bold\">361</span>, <span style=\"color: #808000; text-decoration-color: #808000\">description</span>=<span style=\"color: #008000; text-decoration-color: #008000\">'PMEC 2021 (Faixa 7 de 10). @ -80dBm, 100kHz.'</span>, <span style=\"color: #808000; text-decoration-color: #808000\">start_mega</span>=<span style=\"color: #008080; text-decoration-color: #008080; font-weight: bold\">1530.0</span>,\n",
       "<span style=\"color: #808000; text-decoration-color: #808000\">stop_mega</span>=<span style=\"color: #008080; text-decoration-color: #008080; font-weight: bold\">1001648.999</span>, <span style=\"color: #808000; text-decoration-color: #808000\">dtype</span>=<span style=\"color: #008000; text-decoration-color: #008000\">'dBm'</span>, <span style=\"color: #808000; text-decoration-color: #808000\">ndata</span>=<span style=\"color: #008080; text-decoration-color: #008080; font-weight: bold\">3072</span>, <span style=\"color: #808000; text-decoration-color: #808000\">bw</span>=<span style=\"color: #008080; text-decoration-color: #008080; font-weight: bold\">73828</span>, <span style=\"color: #808000; text-decoration-color: #808000\">processing</span>=<span style=\"color: #008000; text-decoration-color: #008000\">'peak'</span>, <span style=\"color: #808000; text-decoration-color: #808000\">antuid</span>=<span style=\"color: #008080; text-decoration-color: #008080; font-weight: bold\">0</span>, \n",
       "<span style=\"color: #808000; text-decoration-color: #808000\">thresh</span>=<span style=\"color: #008080; text-decoration-color: #008080; font-weight: bold\">-100</span>, <span style=\"color: #808000; text-decoration-color: #808000\">minimum</span>=<span style=\"color: #008080; text-decoration-color: #008080; font-weight: bold\">-147.5</span><span style=\"font-weight: bold\">)]</span>\n",
       "<span style=\"font-weight: bold\">}</span>\n",
       "</pre>\n"
      ],
      "text/plain": [
       "\u001b[1m{\u001b[0m\n",
       "    \u001b[32m'filename'\u001b[0m: \u001b[32m'rfeye002290_210922_T204046_MaskBroken.bin'\u001b[0m,\n",
       "    \u001b[32m'file_version'\u001b[0m: \u001b[1;36m23\u001b[0m,\n",
       "    \u001b[32m'string'\u001b[0m: \u001b[32m'CRFS DATA FILE V023'\u001b[0m,\n",
       "    \u001b[32m'hostname'\u001b[0m: \u001b[32m'rfeye002290'\u001b[0m,\n",
       "    \u001b[32m'method'\u001b[0m: \u001b[32m'ScriptRFeye2021_v2.cfg'\u001b[0m,\n",
       "    \u001b[32m'unit_info'\u001b[0m: \u001b[32m'Stationary'\u001b[0m,\n",
       "    \u001b[32m'file_number'\u001b[0m: \u001b[1;36m0\u001b[0m,\n",
       "    \u001b[32m'identifier'\u001b[0m: \u001b[32m'INFO'\u001b[0m,\n",
       "    \u001b[32m'gps'\u001b[0m: GPS Data - Median of Coordinates: \u001b[1;36m-14.81416\u001b[0m:\u001b[1;36m-39.03184\u001b[0m Altitude: \u001b[1;36m15.50\u001b[0m #Satellites:\n",
       "\u001b[1;36m11.0\u001b[0m,\n",
       "    \u001b[32m'spectrum'\u001b[0m: \u001b[1m[\u001b[0m\u001b[1;35mSpecData\u001b[0m\u001b[1m(\u001b[0m\u001b[33mtype\u001b[0m=\u001b[1;36m68\u001b[0m, \u001b[33mthread_id\u001b[0m=\u001b[1;36m321\u001b[0m, \u001b[33mdescription\u001b[0m=\u001b[32m'PMEC 2021 \u001b[0m\u001b[32m(\u001b[0m\u001b[32mFaixa 3 de 10\u001b[0m\u001b[32m)\u001b[0m\u001b[32m. @ \u001b[0m\n",
       "\u001b[32m-80dBm, 100kHz.'\u001b[0m, \u001b[33mstart_mega\u001b[0m=\u001b[1;36m320\u001b[0m\u001b[1;36m.0\u001b[0m, \u001b[33mstop_mega\u001b[0m=\u001b[1;36m340\u001b[0m\u001b[1;36m.0\u001b[0m, \u001b[33mdtype\u001b[0m=\u001b[32m'dBm'\u001b[0m, \u001b[33mndata\u001b[0m=\u001b[1;36m512\u001b[0m, \u001b[33mbw\u001b[0m=\u001b[1;36m73828\u001b[0m, \n",
       "\u001b[33mprocessing\u001b[0m=\u001b[32m'peak'\u001b[0m, \u001b[33mantuid\u001b[0m=\u001b[1;36m0\u001b[0m, \u001b[33mthresh\u001b[0m=\u001b[1;36m-100\u001b[0m, \u001b[33mminimum\u001b[0m=\u001b[1;36m-147.5\u001b[0m\u001b[1m)\u001b[0m, \u001b[1;35mSpecData\u001b[0m\u001b[1m(\u001b[0m\u001b[33mtype\u001b[0m=\u001b[1;36m68\u001b[0m, \u001b[33mthread_id\u001b[0m=\u001b[1;36m301\u001b[0m, \n",
       "\u001b[33mdescription\u001b[0m=\u001b[32m'PMEC 2021 \u001b[0m\u001b[32m(\u001b[0m\u001b[32mFaixa 1 de 10\u001b[0m\u001b[32m)\u001b[0m\u001b[32m. @ -80dBm, 10kHz.'\u001b[0m, \u001b[33mstart_mega\u001b[0m=\u001b[1;36m108\u001b[0m\u001b[1;36m.0\u001b[0m, \u001b[33mstop_mega\u001b[0m=\u001b[1;36m137\u001b[0m\u001b[1;36m.0\u001b[0m,\n",
       "\u001b[33mdtype\u001b[0m=\u001b[32m'dBm'\u001b[0m, \u001b[33mndata\u001b[0m=\u001b[1;36m14848\u001b[0m, \u001b[33mbw\u001b[0m=\u001b[1;36m3690\u001b[0m, \u001b[33mprocessing\u001b[0m=\u001b[32m'peak'\u001b[0m, \u001b[33mantuid\u001b[0m=\u001b[1;36m0\u001b[0m, \u001b[33mthresh\u001b[0m=\u001b[1;36m-100\u001b[0m, \u001b[33mminimum\u001b[0m=\u001b[1;36m-147.5\u001b[0m\u001b[1m)\u001b[0m,\n",
       "\u001b[1;35mSpecData\u001b[0m\u001b[1m(\u001b[0m\u001b[33mtype\u001b[0m=\u001b[1;36m68\u001b[0m, \u001b[33mthread_id\u001b[0m=\u001b[1;36m341\u001b[0m, \u001b[33mdescription\u001b[0m=\u001b[32m'PMEC 2021 \u001b[0m\u001b[32m(\u001b[0m\u001b[32mFaixa 5 de 10\u001b[0m\u001b[32m)\u001b[0m\u001b[32m. @ -80dBm, 100kHz.'\u001b[0m, \n",
       "\u001b[33mstart_mega\u001b[0m=\u001b[1;36m960\u001b[0m\u001b[1;36m.0\u001b[0m, \u001b[33mstop_mega\u001b[0m=\u001b[1;36m1001218\u001b[0m\u001b[1;36m.999\u001b[0m, \u001b[33mdtype\u001b[0m=\u001b[32m'dBm'\u001b[0m, \u001b[33mndata\u001b[0m=\u001b[1;36m6656\u001b[0m, \u001b[33mbw\u001b[0m=\u001b[1;36m73828\u001b[0m, \n",
       "\u001b[33mprocessing\u001b[0m=\u001b[32m'peak'\u001b[0m, \u001b[33mantuid\u001b[0m=\u001b[1;36m0\u001b[0m, \u001b[33mthresh\u001b[0m=\u001b[1;36m-100\u001b[0m, \u001b[33mminimum\u001b[0m=\u001b[1;36m-147.5\u001b[0m\u001b[1m)\u001b[0m, \u001b[1;35mSpecData\u001b[0m\u001b[1m(\u001b[0m\u001b[33mtype\u001b[0m=\u001b[1;36m68\u001b[0m, \u001b[33mthread_id\u001b[0m=\u001b[1;36m311\u001b[0m, \n",
       "\u001b[33mdescription\u001b[0m=\u001b[32m'PMEC 2021 \u001b[0m\u001b[32m(\u001b[0m\u001b[32mFaixa 2 de 10\u001b[0m\u001b[32m)\u001b[0m\u001b[32m. @ -80dBm, 10kHz.'\u001b[0m, \u001b[33mstart_mega\u001b[0m=\u001b[1;36m156\u001b[0m\u001b[1;36m.0\u001b[0m, \u001b[33mstop_mega\u001b[0m=\u001b[1;36m163\u001b[0m\u001b[1;36m.0\u001b[0m,\n",
       "\u001b[33mdtype\u001b[0m=\u001b[32m'dBm'\u001b[0m, \u001b[33mndata\u001b[0m=\u001b[1;36m3584\u001b[0m, \u001b[33mbw\u001b[0m=\u001b[1;36m3690\u001b[0m, \u001b[33mprocessing\u001b[0m=\u001b[32m'peak'\u001b[0m, \u001b[33mantuid\u001b[0m=\u001b[1;36m0\u001b[0m, \u001b[33mthresh\u001b[0m=\u001b[1;36m-100\u001b[0m, \u001b[33mminimum\u001b[0m=\u001b[1;36m-147.5\u001b[0m\u001b[1m)\u001b[0m, \n",
       "\u001b[1;35mSpecData\u001b[0m\u001b[1m(\u001b[0m\u001b[33mtype\u001b[0m=\u001b[1;36m68\u001b[0m, \u001b[33mthread_id\u001b[0m=\u001b[1;36m371\u001b[0m, \u001b[33mdescription\u001b[0m=\u001b[32m'PMEC 2021 \u001b[0m\u001b[32m(\u001b[0m\u001b[32mFaixa 8 de 10\u001b[0m\u001b[32m)\u001b[0m\u001b[32m. @ -80dBm, 100kHz.'\u001b[0m, \n",
       "\u001b[33mstart_mega\u001b[0m=\u001b[1;36m2690\u001b[0m\u001b[1;36m.0\u001b[0m, \u001b[33mstop_mega\u001b[0m=\u001b[1;36m1002898\u001b[0m\u001b[1;36m.999\u001b[0m, \u001b[33mdtype\u001b[0m=\u001b[32m'dBm'\u001b[0m, \u001b[33mndata\u001b[0m=\u001b[1;36m5376\u001b[0m, \u001b[33mbw\u001b[0m=\u001b[1;36m73828\u001b[0m, \n",
       "\u001b[33mprocessing\u001b[0m=\u001b[32m'peak'\u001b[0m, \u001b[33mantuid\u001b[0m=\u001b[1;36m0\u001b[0m, \u001b[33mthresh\u001b[0m=\u001b[1;36m-100\u001b[0m, \u001b[33mminimum\u001b[0m=\u001b[1;36m-147.5\u001b[0m\u001b[1m)\u001b[0m, \u001b[1;35mSpecData\u001b[0m\u001b[1m(\u001b[0m\u001b[33mtype\u001b[0m=\u001b[1;36m68\u001b[0m, \u001b[33mthread_id\u001b[0m=\u001b[1;36m351\u001b[0m, \n",
       "\u001b[33mdescription\u001b[0m=\u001b[32m'PMEC 2021 \u001b[0m\u001b[32m(\u001b[0m\u001b[32mFaixa 6 de 10\u001b[0m\u001b[32m)\u001b[0m\u001b[32m. @ -80dBm, 100kHz.'\u001b[0m, \u001b[33mstart_mega\u001b[0m=\u001b[1;36m1001388\u001b[0m\u001b[1;36m.999\u001b[0m, \n",
       "\u001b[33mstop_mega\u001b[0m=\u001b[1;36m1001428\u001b[0m\u001b[1;36m.999\u001b[0m, \u001b[33mdtype\u001b[0m=\u001b[32m'dBm'\u001b[0m, \u001b[33mndata\u001b[0m=\u001b[1;36m1280\u001b[0m, \u001b[33mbw\u001b[0m=\u001b[1;36m73828\u001b[0m, \u001b[33mprocessing\u001b[0m=\u001b[32m'peak'\u001b[0m, \u001b[33mantuid\u001b[0m=\u001b[1;36m0\u001b[0m, \n",
       "\u001b[33mthresh\u001b[0m=\u001b[1;36m-100\u001b[0m, \u001b[33mminimum\u001b[0m=\u001b[1;36m-147.5\u001b[0m\u001b[1m)\u001b[0m, \u001b[1;35mSpecData\u001b[0m\u001b[1m(\u001b[0m\u001b[33mtype\u001b[0m=\u001b[1;36m68\u001b[0m, \u001b[33mthread_id\u001b[0m=\u001b[1;36m331\u001b[0m, \u001b[33mdescription\u001b[0m=\u001b[32m'PMEC 2021 \u001b[0m\u001b[32m(\u001b[0m\u001b[32mFaixa \u001b[0m\n",
       "\u001b[32m4 de 10\u001b[0m\u001b[32m)\u001b[0m\u001b[32m. @ -80dBm, 100kHz.'\u001b[0m, \u001b[33mstart_mega\u001b[0m=\u001b[1;36m400\u001b[0m\u001b[1;36m.0\u001b[0m, \u001b[33mstop_mega\u001b[0m=\u001b[1;36m410\u001b[0m\u001b[1;36m.0\u001b[0m, \u001b[33mdtype\u001b[0m=\u001b[32m'dBm'\u001b[0m, \u001b[33mndata\u001b[0m=\u001b[1;36m256\u001b[0m, \n",
       "\u001b[33mbw\u001b[0m=\u001b[1;36m73828\u001b[0m, \u001b[33mprocessing\u001b[0m=\u001b[32m'peak'\u001b[0m, \u001b[33mantuid\u001b[0m=\u001b[1;36m0\u001b[0m, \u001b[33mthresh\u001b[0m=\u001b[1;36m-100\u001b[0m, \u001b[33mminimum\u001b[0m=\u001b[1;36m-147.5\u001b[0m\u001b[1m)\u001b[0m, \u001b[1;35mSpecData\u001b[0m\u001b[1m(\u001b[0m\u001b[33mtype\u001b[0m=\u001b[1;36m68\u001b[0m, \n",
       "\u001b[33mthread_id\u001b[0m=\u001b[1;36m361\u001b[0m, \u001b[33mdescription\u001b[0m=\u001b[32m'PMEC 2021 \u001b[0m\u001b[32m(\u001b[0m\u001b[32mFaixa 7 de 10\u001b[0m\u001b[32m)\u001b[0m\u001b[32m. @ -80dBm, 100kHz.'\u001b[0m, \u001b[33mstart_mega\u001b[0m=\u001b[1;36m1530\u001b[0m\u001b[1;36m.0\u001b[0m,\n",
       "\u001b[33mstop_mega\u001b[0m=\u001b[1;36m1001648\u001b[0m\u001b[1;36m.999\u001b[0m, \u001b[33mdtype\u001b[0m=\u001b[32m'dBm'\u001b[0m, \u001b[33mndata\u001b[0m=\u001b[1;36m3072\u001b[0m, \u001b[33mbw\u001b[0m=\u001b[1;36m73828\u001b[0m, \u001b[33mprocessing\u001b[0m=\u001b[32m'peak'\u001b[0m, \u001b[33mantuid\u001b[0m=\u001b[1;36m0\u001b[0m, \n",
       "\u001b[33mthresh\u001b[0m=\u001b[1;36m-100\u001b[0m, \u001b[33mminimum\u001b[0m=\u001b[1;36m-147.5\u001b[0m\u001b[1m)\u001b[0m\u001b[1m]\u001b[0m\n",
       "\u001b[1m}\u001b[0m\n"
      ]
     },
     "metadata": {},
     "output_type": "display_data"
    }
   ],
   "source": [
    "print(compressed)"
   ]
  },
  {
   "cell_type": "code",
   "execution_count": null,
   "metadata": {},
   "outputs": [
    {
     "data": {
      "text/plain": [
       "(#20) [SpecData(type=67, thread_id=300, description='PMEC 2021 (Faixa 1 de 10).', start_mega=105.0, stop_mega=140.0, dtype='dBm', ndata=3584, bw=18457, processing='peak', antuid=0, thresh=-147.5, minimum=-147.5),SpecData(type=67, thread_id=310, description='PMEC 2021 (Faixa 2 de 10).', start_mega=155.0, stop_mega=165.0, dtype='dBm', ndata=1024, bw=18457, processing='peak', antuid=0, thresh=-147.5, minimum=-147.5),SpecData(type=67, thread_id=100, description='PRD 2021 (Faixa principal 1 de 4).', start_mega=50.0, stop_mega=90.0, dtype='dBμV/m', ndata=1024, bw=73828, processing='peak', antuid=0, thresh=-90.5, minimum=-90.5),SpecData(type=67, thread_id=110, description='PRD 2021 (Faixa principal 2 de 4).', start_mega=70.0, stop_mega=110.0, dtype='dBμV/m', ndata=1024, bw=73828, processing='peak', antuid=0, thresh=-67.5, minimum=-67.5),SpecData(type=67, thread_id=120, description='PRD 2021 (Faixa principal 3 de 4).', start_mega=170.0, stop_mega=220.0, dtype='dBμV/m', ndata=1280, bw=73828, processing='peak', antuid=0, thresh=-37.5, minimum=-37.5),SpecData(type=67, thread_id=130, description='PRD 2021 (Faixa principal 4 de 4).', start_mega=470.0, stop_mega=700.0, dtype='dBμV/m', ndata=5888, bw=73828, processing='peak', antuid=0, thresh=-41.5, minimum=-41.5),SpecData(type=67, thread_id=200, description='PMEF 2021 (Faixa 1 de 6).', start_mega=700.0, stop_mega=960.0, dtype='dBm', ndata=6656, bw=73828, processing='peak', antuid=0, thresh=-147.5, minimum=-147.5),SpecData(type=67, thread_id=210, description='PMEF 2021 (Faixa 2 de 6).', start_mega=1710.0, stop_mega=1980.0, dtype='dBm', ndata=6912, bw=73828, processing='peak', antuid=0, thresh=-147.5, minimum=-147.5),SpecData(type=67, thread_id=220, description='PMEF 2021 (Faixa 3 de 6).', start_mega=2100.0, stop_mega=1002168.999, dtype='dBm', ndata=1792, bw=73828, processing='peak', antuid=0, thresh=-147.5, minimum=-147.5),SpecData(type=67, thread_id=230, description='PMEF 2021 (Faixa 4 de 6).', start_mega=2290.0, stop_mega=2390.0, dtype='dBm', ndata=2560, bw=73828, processing='peak', antuid=0, thresh=-147.5, minimum=-147.5)...]"
      ]
     },
     "execution_count": null,
     "metadata": {},
     "output_type": "execute_result"
    }
   ],
   "source": [
    "fluxo = compressed['spectrum'] ; fluxos"
   ]
  },
  {
   "cell_type": "code",
   "execution_count": null,
   "metadata": {},
   "outputs": [
    {
     "data": {
      "text/html": [
       "<div>\n",
       "<style scoped>\n",
       "    .dataframe tbody tr th:only-of-type {\n",
       "        vertical-align: middle;\n",
       "    }\n",
       "\n",
       "    .dataframe tbody tr th {\n",
       "        vertical-align: top;\n",
       "    }\n",
       "\n",
       "    .dataframe thead th {\n",
       "        text-align: right;\n",
       "    }\n",
       "</style>\n",
       "<table border=\"1\" class=\"dataframe\">\n",
       "  <thead>\n",
       "    <tr style=\"text-align: right;\">\n",
       "      <th>Frequencies</th>\n",
       "      <th>105.000000</th>\n",
       "      <th>105.009768</th>\n",
       "      <th>105.019537</th>\n",
       "      <th>139.980463</th>\n",
       "      <th>139.990232</th>\n",
       "      <th>140.000000</th>\n",
       "    </tr>\n",
       "    <tr>\n",
       "      <th>Time</th>\n",
       "      <th></th>\n",
       "      <th></th>\n",
       "      <th></th>\n",
       "      <th></th>\n",
       "      <th></th>\n",
       "      <th></th>\n",
       "    </tr>\n",
       "  </thead>\n",
       "  <tbody>\n",
       "    <tr>\n",
       "      <th>2021-06-26 12:01:00.731405</th>\n",
       "      <td>-112.5</td>\n",
       "      <td>-117.0</td>\n",
       "      <td>-111.0</td>\n",
       "      <td>-106.0</td>\n",
       "      <td>-105.0</td>\n",
       "      <td>-99.5</td>\n",
       "    </tr>\n",
       "    <tr>\n",
       "      <th>2021-06-26 12:02:00.731287</th>\n",
       "      <td>-111.5</td>\n",
       "      <td>-115.5</td>\n",
       "      <td>-116.5</td>\n",
       "      <td>-103.0</td>\n",
       "      <td>-101.5</td>\n",
       "      <td>-101.0</td>\n",
       "    </tr>\n",
       "    <tr>\n",
       "      <th>2021-06-26 12:03:00.731107</th>\n",
       "      <td>-116.5</td>\n",
       "      <td>-113.0</td>\n",
       "      <td>-113.5</td>\n",
       "      <td>-105.5</td>\n",
       "      <td>-103.5</td>\n",
       "      <td>-105.0</td>\n",
       "    </tr>\n",
       "    <tr>\n",
       "      <th>2021-06-26 12:04:00.731401</th>\n",
       "      <td>-111.5</td>\n",
       "      <td>-112.0</td>\n",
       "      <td>-110.0</td>\n",
       "      <td>-109.5</td>\n",
       "      <td>-114.5</td>\n",
       "      <td>-106.5</td>\n",
       "    </tr>\n",
       "    <tr>\n",
       "      <th>2021-06-26 12:05:00.731532</th>\n",
       "      <td>-113.0</td>\n",
       "      <td>-115.0</td>\n",
       "      <td>-117.5</td>\n",
       "      <td>-101.5</td>\n",
       "      <td>-101.0</td>\n",
       "      <td>-99.5</td>\n",
       "    </tr>\n",
       "  </tbody>\n",
       "</table>\n",
       "</div>"
      ],
      "text/plain": [
       "Frequencies                 105.000000  105.009768  105.019537  139.980463  \\\n",
       "Time                                                                         \n",
       "2021-06-26 12:01:00.731405      -112.5      -117.0      -111.0      -106.0   \n",
       "2021-06-26 12:02:00.731287      -111.5      -115.5      -116.5      -103.0   \n",
       "2021-06-26 12:03:00.731107      -116.5      -113.0      -113.5      -105.5   \n",
       "2021-06-26 12:04:00.731401      -111.5      -112.0      -110.0      -109.5   \n",
       "2021-06-26 12:05:00.731532      -113.0      -115.0      -117.5      -101.5   \n",
       "\n",
       "Frequencies                 139.990232  140.000000  \n",
       "Time                                                \n",
       "2021-06-26 12:01:00.731405      -105.0       -99.5  \n",
       "2021-06-26 12:02:00.731287      -101.5      -101.0  \n",
       "2021-06-26 12:03:00.731107      -103.5      -105.0  \n",
       "2021-06-26 12:04:00.731401      -114.5      -106.5  \n",
       "2021-06-26 12:05:00.731532      -101.0       -99.5  "
      ]
     },
     "execution_count": null,
     "metadata": {},
     "output_type": "execute_result"
    }
   ],
   "source": [
    "fluxo = fluxos[0]\n",
    "fluxo.matrix().iloc[:5, [0, 1, 2, -3, -2, -1]]"
   ]
  },
  {
   "cell_type": "code",
   "execution_count": null,
   "metadata": {},
   "outputs": [
    {
     "data": {
      "text/html": [
       "<pre style=\"white-space:pre;overflow-x:auto;line-height:normal;font-family:Menlo,'DejaVu Sans Mono',consolas,'Courier New',monospace\"><span style=\"color: #008080; text-decoration-color: #008080; font-weight: bold\">8715</span>\n",
       "</pre>\n"
      ],
      "text/plain": [
       "\u001b[1;36m8715\u001b[0m\n"
      ]
     },
     "metadata": {},
     "output_type": "display_data"
    }
   ],
   "source": [
    "print(len(fluxo))"
   ]
  },
  {
   "cell_type": "markdown",
   "metadata": {},
   "source": [
    "### CRFS Bin - Versão 4"
   ]
  },
  {
   "cell_type": "code",
   "execution_count": null,
   "metadata": {},
   "outputs": [
    {
     "data": {
      "text/html": [
       "<pre style=\"white-space:pre;overflow-x:auto;line-height:normal;font-family:Menlo,'DejaVu Sans Mono',consolas,'Courier New',monospace\"><span style=\"font-weight: bold\">{</span>\n",
       "    <span style=\"color: #008000; text-decoration-color: #008000\">'filename'</span>: <span style=\"color: #008000; text-decoration-color: #008000\">'rfeye002292_210208_T202215_CRFSBINv.4.bin'</span>,\n",
       "    <span style=\"color: #008000; text-decoration-color: #008000\">'file_version'</span>: <span style=\"color: #008080; text-decoration-color: #008080; font-weight: bold\">22</span>,\n",
       "    <span style=\"color: #008000; text-decoration-color: #008000\">'string'</span>: <span style=\"color: #008000; text-decoration-color: #008000\">'CRFS DATA FILE V022'</span>,\n",
       "    <span style=\"color: #008000; text-decoration-color: #008000\">'hostname'</span>: <span style=\"color: #008000; text-decoration-color: #008000\">'rfeye002292'</span>,\n",
       "    <span style=\"color: #008000; text-decoration-color: #008000\">'method'</span>: <span style=\"color: #008000; text-decoration-color: #008000\">'Script_CRFSBINv4'</span>,\n",
       "    <span style=\"color: #008000; text-decoration-color: #008000\">'unit_info'</span>: <span style=\"color: #008000; text-decoration-color: #008000\">'Stationary'</span>,\n",
       "    <span style=\"color: #008000; text-decoration-color: #008000\">'file_number'</span>: <span style=\"color: #008080; text-decoration-color: #008080; font-weight: bold\">0</span>,\n",
       "    <span style=\"color: #008000; text-decoration-color: #008000\">'identifier'</span>: <span style=\"color: #008000; text-decoration-color: #008000\">'LOGGER_VERSION'</span>,\n",
       "    <span style=\"color: #008000; text-decoration-color: #008000\">'group_id'</span>: <span style=\"color: #008080; text-decoration-color: #008080; font-weight: bold\">0</span>,\n",
       "    <span style=\"color: #008000; text-decoration-color: #008000\">'text'</span>: <span style=\"color: #008000; text-decoration-color: #008000\">'ClearWrite. Peak.'</span>,\n",
       "    <span style=\"color: #008000; text-decoration-color: #008000\">'gps'</span>: GPS Data - Median of Coordinates: <span style=\"color: #008080; text-decoration-color: #008080; font-weight: bold\">-14.81416</span>:<span style=\"color: #008080; text-decoration-color: #008080; font-weight: bold\">-39.03184</span> Altitude: <span style=\"color: #008080; text-decoration-color: #008080; font-weight: bold\">15.50</span> #Satellites:\n",
       "<span style=\"color: #008080; text-decoration-color: #008080; font-weight: bold\">11.0</span>,\n",
       "    <span style=\"color: #008000; text-decoration-color: #008000\">'spectrum'</span>: <span style=\"font-weight: bold\">[</span><span style=\"color: #800080; text-decoration-color: #800080; font-weight: bold\">SpecData</span><span style=\"font-weight: bold\">(</span><span style=\"color: #808000; text-decoration-color: #808000\">type</span>=<span style=\"color: #008080; text-decoration-color: #008080; font-weight: bold\">63</span>, <span style=\"color: #808000; text-decoration-color: #808000\">thread_id</span>=<span style=\"color: #008080; text-decoration-color: #008080; font-weight: bold\">20</span>, <span style=\"color: #808000; text-decoration-color: #808000\">description</span>=<span style=\"color: #008000; text-decoration-color: #008000\">'Peak'</span>, <span style=\"color: #808000; text-decoration-color: #808000\">start_mega</span>=<span style=\"color: #008080; text-decoration-color: #008080; font-weight: bold\">76.0</span>, \n",
       "<span style=\"color: #808000; text-decoration-color: #808000\">stop_mega</span>=<span style=\"color: #008080; text-decoration-color: #008080; font-weight: bold\">108.0</span>, <span style=\"color: #808000; text-decoration-color: #808000\">dtype</span>=<span style=\"color: #008000; text-decoration-color: #008000\">'dBm'</span>, <span style=\"color: #808000; text-decoration-color: #808000\">ndata</span>=<span style=\"color: #008080; text-decoration-color: #008080; font-weight: bold\">8192</span>, <span style=\"color: #808000; text-decoration-color: #808000\">bw</span>=<span style=\"color: #008080; text-decoration-color: #008080; font-weight: bold\">3</span>, <span style=\"color: #808000; text-decoration-color: #808000\">processing</span>=<span style=\"color: #008000; text-decoration-color: #008000\">'peak'</span>, <span style=\"color: #808000; text-decoration-color: #808000\">antuid</span>=<span style=\"color: #008080; text-decoration-color: #008080; font-weight: bold\">0</span>, <span style=\"color: #808000; text-decoration-color: #808000\">thresh</span>=<span style=\"color: #008080; text-decoration-color: #008080; font-weight: bold\">-147.5</span>, \n",
       "<span style=\"color: #808000; text-decoration-color: #808000\">minimum</span>=<span style=\"color: #008080; text-decoration-color: #008080; font-weight: bold\">-147.5</span><span style=\"font-weight: bold\">)</span>, <span style=\"color: #800080; text-decoration-color: #800080; font-weight: bold\">SpecData</span><span style=\"font-weight: bold\">(</span><span style=\"color: #808000; text-decoration-color: #808000\">type</span>=<span style=\"color: #008080; text-decoration-color: #008080; font-weight: bold\">63</span>, <span style=\"color: #808000; text-decoration-color: #808000\">thread_id</span>=<span style=\"color: #008080; text-decoration-color: #008080; font-weight: bold\">30</span>, <span style=\"color: #808000; text-decoration-color: #808000\">description</span>=<span style=\"color: #008000; text-decoration-color: #008000\">'Peak'</span>, <span style=\"color: #808000; text-decoration-color: #808000\">start_mega</span>=<span style=\"color: #008080; text-decoration-color: #008080; font-weight: bold\">70.0</span>, \n",
       "<span style=\"color: #808000; text-decoration-color: #808000\">stop_mega</span>=<span style=\"color: #008080; text-decoration-color: #008080; font-weight: bold\">110.0</span>, <span style=\"color: #808000; text-decoration-color: #808000\">dtype</span>=<span style=\"color: #008000; text-decoration-color: #008000\">'dBm'</span>, <span style=\"color: #808000; text-decoration-color: #808000\">ndata</span>=<span style=\"color: #008080; text-decoration-color: #008080; font-weight: bold\">1024</span>, <span style=\"color: #808000; text-decoration-color: #808000\">bw</span>=<span style=\"color: #008080; text-decoration-color: #008080; font-weight: bold\">39</span>, <span style=\"color: #808000; text-decoration-color: #808000\">processing</span>=<span style=\"color: #008000; text-decoration-color: #008000\">'peak'</span>, <span style=\"color: #808000; text-decoration-color: #808000\">antuid</span>=<span style=\"color: #008080; text-decoration-color: #008080; font-weight: bold\">0</span>, <span style=\"color: #808000; text-decoration-color: #808000\">thresh</span>=<span style=\"color: #008080; text-decoration-color: #008080; font-weight: bold\">-147.5</span>, \n",
       "<span style=\"color: #808000; text-decoration-color: #808000\">minimum</span>=<span style=\"color: #008080; text-decoration-color: #008080; font-weight: bold\">-147.5</span><span style=\"font-weight: bold\">)</span>, <span style=\"color: #800080; text-decoration-color: #800080; font-weight: bold\">SpecData</span><span style=\"font-weight: bold\">(</span><span style=\"color: #808000; text-decoration-color: #808000\">type</span>=<span style=\"color: #008080; text-decoration-color: #008080; font-weight: bold\">63</span>, <span style=\"color: #808000; text-decoration-color: #808000\">thread_id</span>=<span style=\"color: #008080; text-decoration-color: #008080; font-weight: bold\">10</span>, <span style=\"color: #808000; text-decoration-color: #808000\">description</span>=<span style=\"color: #008000; text-decoration-color: #008000\">'Peak'</span>, <span style=\"color: #808000; text-decoration-color: #808000\">start_mega</span>=<span style=\"color: #008080; text-decoration-color: #008080; font-weight: bold\">105.0</span>, \n",
       "<span style=\"color: #808000; text-decoration-color: #808000\">stop_mega</span>=<span style=\"color: #008080; text-decoration-color: #008080; font-weight: bold\">140.0</span>, <span style=\"color: #808000; text-decoration-color: #808000\">dtype</span>=<span style=\"color: #008000; text-decoration-color: #008000\">'dBm'</span>, <span style=\"color: #808000; text-decoration-color: #808000\">ndata</span>=<span style=\"color: #008080; text-decoration-color: #008080; font-weight: bold\">3584</span>, <span style=\"color: #808000; text-decoration-color: #808000\">bw</span>=<span style=\"color: #008080; text-decoration-color: #008080; font-weight: bold\">9</span>, <span style=\"color: #808000; text-decoration-color: #808000\">processing</span>=<span style=\"color: #008000; text-decoration-color: #008000\">'peak'</span>, <span style=\"color: #808000; text-decoration-color: #808000\">antuid</span>=<span style=\"color: #008080; text-decoration-color: #008080; font-weight: bold\">0</span>, <span style=\"color: #808000; text-decoration-color: #808000\">thresh</span>=<span style=\"color: #008080; text-decoration-color: #008080; font-weight: bold\">-147.5</span>, \n",
       "<span style=\"color: #808000; text-decoration-color: #808000\">minimum</span>=<span style=\"color: #008080; text-decoration-color: #008080; font-weight: bold\">-147.5</span><span style=\"font-weight: bold\">)</span>, <span style=\"color: #800080; text-decoration-color: #800080; font-weight: bold\">SpecData</span><span style=\"font-weight: bold\">(</span><span style=\"color: #808000; text-decoration-color: #808000\">type</span>=<span style=\"color: #008080; text-decoration-color: #008080; font-weight: bold\">63</span>, <span style=\"color: #808000; text-decoration-color: #808000\">thread_id</span>=<span style=\"color: #008080; text-decoration-color: #008080; font-weight: bold\">11</span>, <span style=\"color: #808000; text-decoration-color: #808000\">description</span>=<span style=\"color: #008000; text-decoration-color: #008000\">'Peak'</span>, <span style=\"color: #808000; text-decoration-color: #808000\">start_mega</span>=<span style=\"color: #008080; text-decoration-color: #008080; font-weight: bold\">105.0</span>, \n",
       "<span style=\"color: #808000; text-decoration-color: #808000\">stop_mega</span>=<span style=\"color: #008080; text-decoration-color: #008080; font-weight: bold\">140.0</span>, <span style=\"color: #808000; text-decoration-color: #808000\">dtype</span>=<span style=\"color: #008000; text-decoration-color: #008000\">'dBm'</span>, <span style=\"color: #808000; text-decoration-color: #808000\">ndata</span>=<span style=\"color: #008080; text-decoration-color: #008080; font-weight: bold\">3584</span>, <span style=\"color: #808000; text-decoration-color: #808000\">bw</span>=<span style=\"color: #008080; text-decoration-color: #008080; font-weight: bold\">9</span>, <span style=\"color: #808000; text-decoration-color: #808000\">processing</span>=<span style=\"color: #008000; text-decoration-color: #008000\">'average'</span>, <span style=\"color: #808000; text-decoration-color: #808000\">antuid</span>=<span style=\"color: #008080; text-decoration-color: #008080; font-weight: bold\">0</span>, \n",
       "<span style=\"color: #808000; text-decoration-color: #808000\">thresh</span>=<span style=\"color: #008080; text-decoration-color: #008080; font-weight: bold\">-147.5</span>, <span style=\"color: #808000; text-decoration-color: #808000\">minimum</span>=<span style=\"color: #008080; text-decoration-color: #008080; font-weight: bold\">-147.5</span><span style=\"font-weight: bold\">)</span>, <span style=\"color: #800080; text-decoration-color: #800080; font-weight: bold\">SpecData</span><span style=\"font-weight: bold\">(</span><span style=\"color: #808000; text-decoration-color: #808000\">type</span>=<span style=\"color: #008080; text-decoration-color: #008080; font-weight: bold\">63</span>, <span style=\"color: #808000; text-decoration-color: #808000\">thread_id</span>=<span style=\"color: #008080; text-decoration-color: #008080; font-weight: bold\">12</span>, <span style=\"color: #808000; text-decoration-color: #808000\">description</span>=<span style=\"color: #008000; text-decoration-color: #008000\">'Peak'</span>, \n",
       "<span style=\"color: #808000; text-decoration-color: #808000\">start_mega</span>=<span style=\"color: #008080; text-decoration-color: #008080; font-weight: bold\">105.0</span>, <span style=\"color: #808000; text-decoration-color: #808000\">stop_mega</span>=<span style=\"color: #008080; text-decoration-color: #008080; font-weight: bold\">140.0</span>, <span style=\"color: #808000; text-decoration-color: #808000\">dtype</span>=<span style=\"color: #008000; text-decoration-color: #008000\">'dBm'</span>, <span style=\"color: #808000; text-decoration-color: #808000\">ndata</span>=<span style=\"color: #008080; text-decoration-color: #008080; font-weight: bold\">3584</span>, <span style=\"color: #808000; text-decoration-color: #808000\">bw</span>=<span style=\"color: #008080; text-decoration-color: #008080; font-weight: bold\">9</span>, <span style=\"color: #808000; text-decoration-color: #808000\">processing</span>=<span style=\"color: #008000; text-decoration-color: #008000\">'peak'</span>, \n",
       "<span style=\"color: #808000; text-decoration-color: #808000\">antuid</span>=<span style=\"color: #008080; text-decoration-color: #008080; font-weight: bold\">0</span>, <span style=\"color: #808000; text-decoration-color: #808000\">thresh</span>=<span style=\"color: #008080; text-decoration-color: #008080; font-weight: bold\">-147.5</span>, <span style=\"color: #808000; text-decoration-color: #808000\">minimum</span>=<span style=\"color: #008080; text-decoration-color: #008080; font-weight: bold\">-147.5</span><span style=\"font-weight: bold\">)</span>, <span style=\"color: #800080; text-decoration-color: #800080; font-weight: bold\">SpecData</span><span style=\"font-weight: bold\">(</span><span style=\"color: #808000; text-decoration-color: #808000\">type</span>=<span style=\"color: #008080; text-decoration-color: #008080; font-weight: bold\">63</span>, <span style=\"color: #808000; text-decoration-color: #808000\">thread_id</span>=<span style=\"color: #008080; text-decoration-color: #008080; font-weight: bold\">13</span>, <span style=\"color: #808000; text-decoration-color: #808000\">description</span>=<span style=\"color: #008000; text-decoration-color: #008000\">'Peak'</span>,\n",
       "<span style=\"color: #808000; text-decoration-color: #808000\">start_mega</span>=<span style=\"color: #008080; text-decoration-color: #008080; font-weight: bold\">105.0</span>, <span style=\"color: #808000; text-decoration-color: #808000\">stop_mega</span>=<span style=\"color: #008080; text-decoration-color: #008080; font-weight: bold\">140.0</span>, <span style=\"color: #808000; text-decoration-color: #808000\">dtype</span>=<span style=\"color: #008000; text-decoration-color: #008000\">'dBm'</span>, <span style=\"color: #808000; text-decoration-color: #808000\">ndata</span>=<span style=\"color: #008080; text-decoration-color: #008080; font-weight: bold\">3584</span>, <span style=\"color: #808000; text-decoration-color: #808000\">bw</span>=<span style=\"color: #008080; text-decoration-color: #008080; font-weight: bold\">9</span>, <span style=\"color: #808000; text-decoration-color: #808000\">processing</span>=<span style=\"color: #008000; text-decoration-color: #008000\">'average'</span>, \n",
       "<span style=\"color: #808000; text-decoration-color: #808000\">antuid</span>=<span style=\"color: #008080; text-decoration-color: #008080; font-weight: bold\">0</span>, <span style=\"color: #808000; text-decoration-color: #808000\">thresh</span>=<span style=\"color: #008080; text-decoration-color: #008080; font-weight: bold\">-147.5</span>, <span style=\"color: #808000; text-decoration-color: #808000\">minimum</span>=<span style=\"color: #008080; text-decoration-color: #008080; font-weight: bold\">-147.5</span><span style=\"font-weight: bold\">)</span>, <span style=\"color: #800080; text-decoration-color: #800080; font-weight: bold\">SpecData</span><span style=\"font-weight: bold\">(</span><span style=\"color: #808000; text-decoration-color: #808000\">type</span>=<span style=\"color: #008080; text-decoration-color: #008080; font-weight: bold\">64</span>, <span style=\"color: #808000; text-decoration-color: #808000\">thread_id</span>=<span style=\"color: #008080; text-decoration-color: #008080; font-weight: bold\">14</span>, <span style=\"color: #808000; text-decoration-color: #808000\">description</span>=<span style=\"color: #008000; text-decoration-color: #008000\">'Peak'</span>,\n",
       "<span style=\"color: #808000; text-decoration-color: #808000\">start_mega</span>=<span style=\"color: #008080; text-decoration-color: #008080; font-weight: bold\">105.0</span>, <span style=\"color: #808000; text-decoration-color: #808000\">stop_mega</span>=<span style=\"color: #008080; text-decoration-color: #008080; font-weight: bold\">140.0</span>, <span style=\"color: #808000; text-decoration-color: #808000\">dtype</span>=<span style=\"color: #008000; text-decoration-color: #008000\">'dBm'</span>, <span style=\"color: #808000; text-decoration-color: #808000\">ndata</span>=<span style=\"color: #008080; text-decoration-color: #008080; font-weight: bold\">3584</span>, <span style=\"color: #808000; text-decoration-color: #808000\">bw</span>=<span style=\"color: #008080; text-decoration-color: #008080; font-weight: bold\">48</span>, <span style=\"color: #808000; text-decoration-color: #808000\">processing</span>=<span style=\"color: #008000; text-decoration-color: #008000\">'average'</span>, \n",
       "<span style=\"color: #808000; text-decoration-color: #808000\">antuid</span>=<span style=\"color: #008080; text-decoration-color: #008080; font-weight: bold\">0</span>, <span style=\"color: #808000; text-decoration-color: #808000\">thresh</span>=<span style=\"color: #008080; text-decoration-color: #008080; font-weight: bold\">-90</span>, <span style=\"color: #808000; text-decoration-color: #808000\">minimum</span>=<span style=\"color: #008080; text-decoration-color: #008080; font-weight: bold\">-147.5</span><span style=\"font-weight: bold\">)</span>, <span style=\"color: #800080; text-decoration-color: #800080; font-weight: bold\">SpecData</span><span style=\"font-weight: bold\">(</span><span style=\"color: #808000; text-decoration-color: #808000\">type</span>=<span style=\"color: #008080; text-decoration-color: #008080; font-weight: bold\">65</span>, <span style=\"color: #808000; text-decoration-color: #808000\">thread_id</span>=<span style=\"color: #008080; text-decoration-color: #008080; font-weight: bold\">15</span>, <span style=\"color: #808000; text-decoration-color: #808000\">start_mega</span>=<span style=\"color: #008080; text-decoration-color: #008080; font-weight: bold\">105.0</span>, \n",
       "<span style=\"color: #808000; text-decoration-color: #808000\">stop_mega</span>=<span style=\"color: #008080; text-decoration-color: #008080; font-weight: bold\">140.0</span>, <span style=\"color: #808000; text-decoration-color: #808000\">dtype</span>=<span style=\"color: #008000; text-decoration-color: #008000\">'dBm'</span>, <span style=\"color: #808000; text-decoration-color: #808000\">ndata</span>=<span style=\"color: #008080; text-decoration-color: #008080; font-weight: bold\">3584</span>, <span style=\"color: #808000; text-decoration-color: #808000\">processing</span>=<span style=\"color: #008000; text-decoration-color: #008000\">'peak'</span>, <span style=\"color: #808000; text-decoration-color: #808000\">antuid</span>=<span style=\"color: #008080; text-decoration-color: #008080; font-weight: bold\">0</span>, <span style=\"color: #808000; text-decoration-color: #808000\">thresh</span>=<span style=\"color: #008080; text-decoration-color: #008080; font-weight: bold\">-90</span><span style=\"font-weight: bold\">)</span>, \n",
       "<span style=\"color: #800080; text-decoration-color: #800080; font-weight: bold\">SpecData</span><span style=\"font-weight: bold\">(</span><span style=\"color: #808000; text-decoration-color: #808000\">type</span>=<span style=\"color: #008080; text-decoration-color: #008080; font-weight: bold\">64</span>, <span style=\"color: #808000; text-decoration-color: #808000\">thread_id</span>=<span style=\"color: #008080; text-decoration-color: #008080; font-weight: bold\">14</span>, <span style=\"color: #808000; text-decoration-color: #808000\">description</span>=<span style=\"color: #008000; text-decoration-color: #008000\">'Peak'</span>, <span style=\"color: #808000; text-decoration-color: #808000\">start_mega</span>=<span style=\"color: #008080; text-decoration-color: #008080; font-weight: bold\">105.0</span>, <span style=\"color: #808000; text-decoration-color: #808000\">stop_mega</span>=<span style=\"color: #008080; text-decoration-color: #008080; font-weight: bold\">140.0</span>, \n",
       "<span style=\"color: #808000; text-decoration-color: #808000\">dtype</span>=<span style=\"color: #008000; text-decoration-color: #008000\">'dBm'</span>, <span style=\"color: #808000; text-decoration-color: #808000\">ndata</span>=<span style=\"color: #008080; text-decoration-color: #008080; font-weight: bold\">3584</span>, <span style=\"color: #808000; text-decoration-color: #808000\">bw</span>=<span style=\"color: #008080; text-decoration-color: #008080; font-weight: bold\">51</span>, <span style=\"color: #808000; text-decoration-color: #808000\">processing</span>=<span style=\"color: #008000; text-decoration-color: #008000\">'average'</span>, <span style=\"color: #808000; text-decoration-color: #808000\">antuid</span>=<span style=\"color: #008080; text-decoration-color: #008080; font-weight: bold\">0</span>, <span style=\"color: #808000; text-decoration-color: #808000\">thresh</span>=<span style=\"color: #008080; text-decoration-color: #008080; font-weight: bold\">-90</span>, <span style=\"color: #808000; text-decoration-color: #808000\">minimum</span>=<span style=\"color: #008080; text-decoration-color: #008080; font-weight: bold\">-147.5</span><span style=\"font-weight: bold\">)</span>, \n",
       "<span style=\"color: #800080; text-decoration-color: #800080; font-weight: bold\">SpecData</span><span style=\"font-weight: bold\">(</span><span style=\"color: #808000; text-decoration-color: #808000\">type</span>=<span style=\"color: #008080; text-decoration-color: #008080; font-weight: bold\">64</span>, <span style=\"color: #808000; text-decoration-color: #808000\">thread_id</span>=<span style=\"color: #008080; text-decoration-color: #008080; font-weight: bold\">14</span>, <span style=\"color: #808000; text-decoration-color: #808000\">description</span>=<span style=\"color: #008000; text-decoration-color: #008000\">'Peak'</span>, <span style=\"color: #808000; text-decoration-color: #808000\">start_mega</span>=<span style=\"color: #008080; text-decoration-color: #008080; font-weight: bold\">105.0</span>, <span style=\"color: #808000; text-decoration-color: #808000\">stop_mega</span>=<span style=\"color: #008080; text-decoration-color: #008080; font-weight: bold\">140.0</span>, \n",
       "<span style=\"color: #808000; text-decoration-color: #808000\">dtype</span>=<span style=\"color: #008000; text-decoration-color: #008000\">'dBm'</span>, <span style=\"color: #808000; text-decoration-color: #808000\">ndata</span>=<span style=\"color: #008080; text-decoration-color: #008080; font-weight: bold\">3584</span>, <span style=\"color: #808000; text-decoration-color: #808000\">bw</span>=<span style=\"color: #008080; text-decoration-color: #008080; font-weight: bold\">47</span>, <span style=\"color: #808000; text-decoration-color: #808000\">processing</span>=<span style=\"color: #008000; text-decoration-color: #008000\">'average'</span>, <span style=\"color: #808000; text-decoration-color: #808000\">antuid</span>=<span style=\"color: #008080; text-decoration-color: #008080; font-weight: bold\">0</span>, <span style=\"color: #808000; text-decoration-color: #808000\">thresh</span>=<span style=\"color: #008080; text-decoration-color: #008080; font-weight: bold\">-90</span>, <span style=\"color: #808000; text-decoration-color: #808000\">minimum</span>=<span style=\"color: #008080; text-decoration-color: #008080; font-weight: bold\">-147.5</span><span style=\"font-weight: bold\">)</span>, \n",
       "<span style=\"color: #800080; text-decoration-color: #800080; font-weight: bold\">SpecData</span><span style=\"font-weight: bold\">(</span><span style=\"color: #808000; text-decoration-color: #808000\">type</span>=<span style=\"color: #008080; text-decoration-color: #008080; font-weight: bold\">64</span>, <span style=\"color: #808000; text-decoration-color: #808000\">thread_id</span>=<span style=\"color: #008080; text-decoration-color: #008080; font-weight: bold\">14</span>, <span style=\"color: #808000; text-decoration-color: #808000\">description</span>=<span style=\"color: #008000; text-decoration-color: #008000\">'Peak'</span>, <span style=\"color: #808000; text-decoration-color: #808000\">start_mega</span>=<span style=\"color: #008080; text-decoration-color: #008080; font-weight: bold\">105.0</span>, <span style=\"color: #808000; text-decoration-color: #808000\">stop_mega</span>=<span style=\"color: #008080; text-decoration-color: #008080; font-weight: bold\">140.0</span>, \n",
       "<span style=\"color: #808000; text-decoration-color: #808000\">dtype</span>=<span style=\"color: #008000; text-decoration-color: #008000\">'dBm'</span>, <span style=\"color: #808000; text-decoration-color: #808000\">ndata</span>=<span style=\"color: #008080; text-decoration-color: #008080; font-weight: bold\">3584</span>, <span style=\"color: #808000; text-decoration-color: #808000\">bw</span>=<span style=\"color: #008080; text-decoration-color: #008080; font-weight: bold\">46</span>, <span style=\"color: #808000; text-decoration-color: #808000\">processing</span>=<span style=\"color: #008000; text-decoration-color: #008000\">'average'</span>, <span style=\"color: #808000; text-decoration-color: #808000\">antuid</span>=<span style=\"color: #008080; text-decoration-color: #008080; font-weight: bold\">0</span>, <span style=\"color: #808000; text-decoration-color: #808000\">thresh</span>=<span style=\"color: #008080; text-decoration-color: #008080; font-weight: bold\">-90</span>, <span style=\"color: #808000; text-decoration-color: #808000\">minimum</span>=<span style=\"color: #008080; text-decoration-color: #008080; font-weight: bold\">-147.5</span><span style=\"font-weight: bold\">)</span>, \n",
       "<span style=\"color: #800080; text-decoration-color: #800080; font-weight: bold\">SpecData</span><span style=\"font-weight: bold\">(</span><span style=\"color: #808000; text-decoration-color: #808000\">type</span>=<span style=\"color: #008080; text-decoration-color: #008080; font-weight: bold\">64</span>, <span style=\"color: #808000; text-decoration-color: #808000\">thread_id</span>=<span style=\"color: #008080; text-decoration-color: #008080; font-weight: bold\">14</span>, <span style=\"color: #808000; text-decoration-color: #808000\">description</span>=<span style=\"color: #008000; text-decoration-color: #008000\">'Peak'</span>, <span style=\"color: #808000; text-decoration-color: #808000\">start_mega</span>=<span style=\"color: #008080; text-decoration-color: #008080; font-weight: bold\">105.0</span>, <span style=\"color: #808000; text-decoration-color: #808000\">stop_mega</span>=<span style=\"color: #008080; text-decoration-color: #008080; font-weight: bold\">140.0</span>, \n",
       "<span style=\"color: #808000; text-decoration-color: #808000\">dtype</span>=<span style=\"color: #008000; text-decoration-color: #008000\">'dBm'</span>, <span style=\"color: #808000; text-decoration-color: #808000\">ndata</span>=<span style=\"color: #008080; text-decoration-color: #008080; font-weight: bold\">3584</span>, <span style=\"color: #808000; text-decoration-color: #808000\">bw</span>=<span style=\"color: #008080; text-decoration-color: #008080; font-weight: bold\">59</span>, <span style=\"color: #808000; text-decoration-color: #808000\">processing</span>=<span style=\"color: #008000; text-decoration-color: #008000\">'average'</span>, <span style=\"color: #808000; text-decoration-color: #808000\">antuid</span>=<span style=\"color: #008080; text-decoration-color: #008080; font-weight: bold\">0</span>, <span style=\"color: #808000; text-decoration-color: #808000\">thresh</span>=<span style=\"color: #008080; text-decoration-color: #008080; font-weight: bold\">-90</span>, <span style=\"color: #808000; text-decoration-color: #808000\">minimum</span>=<span style=\"color: #008080; text-decoration-color: #008080; font-weight: bold\">-147.5</span><span style=\"font-weight: bold\">)</span>, \n",
       "<span style=\"color: #800080; text-decoration-color: #800080; font-weight: bold\">SpecData</span><span style=\"font-weight: bold\">(</span><span style=\"color: #808000; text-decoration-color: #808000\">type</span>=<span style=\"color: #008080; text-decoration-color: #008080; font-weight: bold\">64</span>, <span style=\"color: #808000; text-decoration-color: #808000\">thread_id</span>=<span style=\"color: #008080; text-decoration-color: #008080; font-weight: bold\">14</span>, <span style=\"color: #808000; text-decoration-color: #808000\">description</span>=<span style=\"color: #008000; text-decoration-color: #008000\">'Peak'</span>, <span style=\"color: #808000; text-decoration-color: #808000\">start_mega</span>=<span style=\"color: #008080; text-decoration-color: #008080; font-weight: bold\">105.0</span>, <span style=\"color: #808000; text-decoration-color: #808000\">stop_mega</span>=<span style=\"color: #008080; text-decoration-color: #008080; font-weight: bold\">140.0</span>, \n",
       "<span style=\"color: #808000; text-decoration-color: #808000\">dtype</span>=<span style=\"color: #008000; text-decoration-color: #008000\">'dBm'</span>, <span style=\"color: #808000; text-decoration-color: #808000\">ndata</span>=<span style=\"color: #008080; text-decoration-color: #008080; font-weight: bold\">3584</span>, <span style=\"color: #808000; text-decoration-color: #808000\">bw</span>=<span style=\"color: #008080; text-decoration-color: #008080; font-weight: bold\">44</span>, <span style=\"color: #808000; text-decoration-color: #808000\">processing</span>=<span style=\"color: #008000; text-decoration-color: #008000\">'average'</span>, <span style=\"color: #808000; text-decoration-color: #808000\">antuid</span>=<span style=\"color: #008080; text-decoration-color: #008080; font-weight: bold\">0</span>, <span style=\"color: #808000; text-decoration-color: #808000\">thresh</span>=<span style=\"color: #008080; text-decoration-color: #008080; font-weight: bold\">-90</span>, <span style=\"color: #808000; text-decoration-color: #808000\">minimum</span>=<span style=\"color: #008080; text-decoration-color: #008080; font-weight: bold\">-147.5</span><span style=\"font-weight: bold\">)</span>, \n",
       "<span style=\"color: #800080; text-decoration-color: #800080; font-weight: bold\">SpecData</span><span style=\"font-weight: bold\">(</span><span style=\"color: #808000; text-decoration-color: #808000\">type</span>=<span style=\"color: #008080; text-decoration-color: #008080; font-weight: bold\">64</span>, <span style=\"color: #808000; text-decoration-color: #808000\">thread_id</span>=<span style=\"color: #008080; text-decoration-color: #008080; font-weight: bold\">14</span>, <span style=\"color: #808000; text-decoration-color: #808000\">description</span>=<span style=\"color: #008000; text-decoration-color: #008000\">'Peak'</span>, <span style=\"color: #808000; text-decoration-color: #808000\">start_mega</span>=<span style=\"color: #008080; text-decoration-color: #008080; font-weight: bold\">105.0</span>, <span style=\"color: #808000; text-decoration-color: #808000\">stop_mega</span>=<span style=\"color: #008080; text-decoration-color: #008080; font-weight: bold\">140.0</span>, \n",
       "<span style=\"color: #808000; text-decoration-color: #808000\">dtype</span>=<span style=\"color: #008000; text-decoration-color: #008000\">'dBm'</span>, <span style=\"color: #808000; text-decoration-color: #808000\">ndata</span>=<span style=\"color: #008080; text-decoration-color: #008080; font-weight: bold\">3584</span>, <span style=\"color: #808000; text-decoration-color: #808000\">bw</span>=<span style=\"color: #008080; text-decoration-color: #008080; font-weight: bold\">62</span>, <span style=\"color: #808000; text-decoration-color: #808000\">processing</span>=<span style=\"color: #008000; text-decoration-color: #008000\">'average'</span>, <span style=\"color: #808000; text-decoration-color: #808000\">antuid</span>=<span style=\"color: #008080; text-decoration-color: #008080; font-weight: bold\">0</span>, <span style=\"color: #808000; text-decoration-color: #808000\">thresh</span>=<span style=\"color: #008080; text-decoration-color: #008080; font-weight: bold\">-90</span>, <span style=\"color: #808000; text-decoration-color: #808000\">minimum</span>=<span style=\"color: #008080; text-decoration-color: #008080; font-weight: bold\">-147.5</span><span style=\"font-weight: bold\">)</span>, \n",
       "<span style=\"color: #800080; text-decoration-color: #800080; font-weight: bold\">SpecData</span><span style=\"font-weight: bold\">(</span><span style=\"color: #808000; text-decoration-color: #808000\">type</span>=<span style=\"color: #008080; text-decoration-color: #008080; font-weight: bold\">64</span>, <span style=\"color: #808000; text-decoration-color: #808000\">thread_id</span>=<span style=\"color: #008080; text-decoration-color: #008080; font-weight: bold\">14</span>, <span style=\"color: #808000; text-decoration-color: #808000\">description</span>=<span style=\"color: #008000; text-decoration-color: #008000\">'Peak'</span>, <span style=\"color: #808000; text-decoration-color: #808000\">start_mega</span>=<span style=\"color: #008080; text-decoration-color: #008080; font-weight: bold\">105.0</span>, <span style=\"color: #808000; text-decoration-color: #808000\">stop_mega</span>=<span style=\"color: #008080; text-decoration-color: #008080; font-weight: bold\">140.0</span>, \n",
       "<span style=\"color: #808000; text-decoration-color: #808000\">dtype</span>=<span style=\"color: #008000; text-decoration-color: #008000\">'dBm'</span>, <span style=\"color: #808000; text-decoration-color: #808000\">ndata</span>=<span style=\"color: #008080; text-decoration-color: #008080; font-weight: bold\">3584</span>, <span style=\"color: #808000; text-decoration-color: #808000\">bw</span>=<span style=\"color: #008080; text-decoration-color: #008080; font-weight: bold\">50</span>, <span style=\"color: #808000; text-decoration-color: #808000\">processing</span>=<span style=\"color: #008000; text-decoration-color: #008000\">'average'</span>, <span style=\"color: #808000; text-decoration-color: #808000\">antuid</span>=<span style=\"color: #008080; text-decoration-color: #008080; font-weight: bold\">0</span>, <span style=\"color: #808000; text-decoration-color: #808000\">thresh</span>=<span style=\"color: #008080; text-decoration-color: #008080; font-weight: bold\">-90</span>, <span style=\"color: #808000; text-decoration-color: #808000\">minimum</span>=<span style=\"color: #008080; text-decoration-color: #008080; font-weight: bold\">-147.5</span><span style=\"font-weight: bold\">)</span>, \n",
       "<span style=\"color: #800080; text-decoration-color: #800080; font-weight: bold\">SpecData</span><span style=\"font-weight: bold\">(</span><span style=\"color: #808000; text-decoration-color: #808000\">type</span>=<span style=\"color: #008080; text-decoration-color: #008080; font-weight: bold\">64</span>, <span style=\"color: #808000; text-decoration-color: #808000\">thread_id</span>=<span style=\"color: #008080; text-decoration-color: #008080; font-weight: bold\">14</span>, <span style=\"color: #808000; text-decoration-color: #808000\">description</span>=<span style=\"color: #008000; text-decoration-color: #008000\">'Peak'</span>, <span style=\"color: #808000; text-decoration-color: #808000\">start_mega</span>=<span style=\"color: #008080; text-decoration-color: #008080; font-weight: bold\">105.0</span>, <span style=\"color: #808000; text-decoration-color: #808000\">stop_mega</span>=<span style=\"color: #008080; text-decoration-color: #008080; font-weight: bold\">140.0</span>, \n",
       "<span style=\"color: #808000; text-decoration-color: #808000\">dtype</span>=<span style=\"color: #008000; text-decoration-color: #008000\">'dBm'</span>, <span style=\"color: #808000; text-decoration-color: #808000\">ndata</span>=<span style=\"color: #008080; text-decoration-color: #008080; font-weight: bold\">3584</span>, <span style=\"color: #808000; text-decoration-color: #808000\">bw</span>=<span style=\"color: #008080; text-decoration-color: #008080; font-weight: bold\">49</span>, <span style=\"color: #808000; text-decoration-color: #808000\">processing</span>=<span style=\"color: #008000; text-decoration-color: #008000\">'average'</span>, <span style=\"color: #808000; text-decoration-color: #808000\">antuid</span>=<span style=\"color: #008080; text-decoration-color: #008080; font-weight: bold\">0</span>, <span style=\"color: #808000; text-decoration-color: #808000\">thresh</span>=<span style=\"color: #008080; text-decoration-color: #008080; font-weight: bold\">-90</span>, <span style=\"color: #808000; text-decoration-color: #808000\">minimum</span>=<span style=\"color: #008080; text-decoration-color: #008080; font-weight: bold\">-147.5</span><span style=\"font-weight: bold\">)</span>, \n",
       "<span style=\"color: #800080; text-decoration-color: #800080; font-weight: bold\">SpecData</span><span style=\"font-weight: bold\">(</span><span style=\"color: #808000; text-decoration-color: #808000\">type</span>=<span style=\"color: #008080; text-decoration-color: #008080; font-weight: bold\">64</span>, <span style=\"color: #808000; text-decoration-color: #808000\">thread_id</span>=<span style=\"color: #008080; text-decoration-color: #008080; font-weight: bold\">14</span>, <span style=\"color: #808000; text-decoration-color: #808000\">description</span>=<span style=\"color: #008000; text-decoration-color: #008000\">'Peak'</span>, <span style=\"color: #808000; text-decoration-color: #808000\">start_mega</span>=<span style=\"color: #008080; text-decoration-color: #008080; font-weight: bold\">105.0</span>, <span style=\"color: #808000; text-decoration-color: #808000\">stop_mega</span>=<span style=\"color: #008080; text-decoration-color: #008080; font-weight: bold\">140.0</span>, \n",
       "<span style=\"color: #808000; text-decoration-color: #808000\">dtype</span>=<span style=\"color: #008000; text-decoration-color: #008000\">'dBm'</span>, <span style=\"color: #808000; text-decoration-color: #808000\">ndata</span>=<span style=\"color: #008080; text-decoration-color: #008080; font-weight: bold\">3584</span>, <span style=\"color: #808000; text-decoration-color: #808000\">bw</span>=<span style=\"color: #008080; text-decoration-color: #008080; font-weight: bold\">43</span>, <span style=\"color: #808000; text-decoration-color: #808000\">processing</span>=<span style=\"color: #008000; text-decoration-color: #008000\">'average'</span>, <span style=\"color: #808000; text-decoration-color: #808000\">antuid</span>=<span style=\"color: #008080; text-decoration-color: #008080; font-weight: bold\">0</span>, <span style=\"color: #808000; text-decoration-color: #808000\">thresh</span>=<span style=\"color: #008080; text-decoration-color: #008080; font-weight: bold\">-90</span>, <span style=\"color: #808000; text-decoration-color: #808000\">minimum</span>=<span style=\"color: #008080; text-decoration-color: #008080; font-weight: bold\">-147.5</span><span style=\"font-weight: bold\">)</span>, \n",
       "<span style=\"color: #800080; text-decoration-color: #800080; font-weight: bold\">SpecData</span><span style=\"font-weight: bold\">(</span><span style=\"color: #808000; text-decoration-color: #808000\">type</span>=<span style=\"color: #008080; text-decoration-color: #008080; font-weight: bold\">64</span>, <span style=\"color: #808000; text-decoration-color: #808000\">thread_id</span>=<span style=\"color: #008080; text-decoration-color: #008080; font-weight: bold\">14</span>, <span style=\"color: #808000; text-decoration-color: #808000\">description</span>=<span style=\"color: #008000; text-decoration-color: #008000\">'Peak'</span>, <span style=\"color: #808000; text-decoration-color: #808000\">start_mega</span>=<span style=\"color: #008080; text-decoration-color: #008080; font-weight: bold\">105.0</span>, <span style=\"color: #808000; text-decoration-color: #808000\">stop_mega</span>=<span style=\"color: #008080; text-decoration-color: #008080; font-weight: bold\">140.0</span>, \n",
       "<span style=\"color: #808000; text-decoration-color: #808000\">dtype</span>=<span style=\"color: #008000; text-decoration-color: #008000\">'dBm'</span>, <span style=\"color: #808000; text-decoration-color: #808000\">ndata</span>=<span style=\"color: #008080; text-decoration-color: #008080; font-weight: bold\">3584</span>, <span style=\"color: #808000; text-decoration-color: #808000\">bw</span>=<span style=\"color: #008080; text-decoration-color: #008080; font-weight: bold\">52</span>, <span style=\"color: #808000; text-decoration-color: #808000\">processing</span>=<span style=\"color: #008000; text-decoration-color: #008000\">'average'</span>, <span style=\"color: #808000; text-decoration-color: #808000\">antuid</span>=<span style=\"color: #008080; text-decoration-color: #008080; font-weight: bold\">0</span>, <span style=\"color: #808000; text-decoration-color: #808000\">thresh</span>=<span style=\"color: #008080; text-decoration-color: #008080; font-weight: bold\">-90</span>, <span style=\"color: #808000; text-decoration-color: #808000\">minimum</span>=<span style=\"color: #008080; text-decoration-color: #008080; font-weight: bold\">-147.5</span><span style=\"font-weight: bold\">)</span>, \n",
       "<span style=\"color: #800080; text-decoration-color: #800080; font-weight: bold\">SpecData</span><span style=\"font-weight: bold\">(</span><span style=\"color: #808000; text-decoration-color: #808000\">type</span>=<span style=\"color: #008080; text-decoration-color: #008080; font-weight: bold\">64</span>, <span style=\"color: #808000; text-decoration-color: #808000\">thread_id</span>=<span style=\"color: #008080; text-decoration-color: #008080; font-weight: bold\">14</span>, <span style=\"color: #808000; text-decoration-color: #808000\">description</span>=<span style=\"color: #008000; text-decoration-color: #008000\">'Peak'</span>, <span style=\"color: #808000; text-decoration-color: #808000\">start_mega</span>=<span style=\"color: #008080; text-decoration-color: #008080; font-weight: bold\">105.0</span>, <span style=\"color: #808000; text-decoration-color: #808000\">stop_mega</span>=<span style=\"color: #008080; text-decoration-color: #008080; font-weight: bold\">140.0</span>, \n",
       "<span style=\"color: #808000; text-decoration-color: #808000\">dtype</span>=<span style=\"color: #008000; text-decoration-color: #008000\">'dBm'</span>, <span style=\"color: #808000; text-decoration-color: #808000\">ndata</span>=<span style=\"color: #008080; text-decoration-color: #008080; font-weight: bold\">3584</span>, <span style=\"color: #808000; text-decoration-color: #808000\">bw</span>=<span style=\"color: #008080; text-decoration-color: #008080; font-weight: bold\">54</span>, <span style=\"color: #808000; text-decoration-color: #808000\">processing</span>=<span style=\"color: #008000; text-decoration-color: #008000\">'average'</span>, <span style=\"color: #808000; text-decoration-color: #808000\">antuid</span>=<span style=\"color: #008080; text-decoration-color: #008080; font-weight: bold\">0</span>, <span style=\"color: #808000; text-decoration-color: #808000\">thresh</span>=<span style=\"color: #008080; text-decoration-color: #008080; font-weight: bold\">-90</span>, <span style=\"color: #808000; text-decoration-color: #808000\">minimum</span>=<span style=\"color: #008080; text-decoration-color: #008080; font-weight: bold\">-147.5</span><span style=\"font-weight: bold\">)</span>, \n",
       "<span style=\"color: #800080; text-decoration-color: #800080; font-weight: bold\">SpecData</span><span style=\"font-weight: bold\">(</span><span style=\"color: #808000; text-decoration-color: #808000\">type</span>=<span style=\"color: #008080; text-decoration-color: #008080; font-weight: bold\">64</span>, <span style=\"color: #808000; text-decoration-color: #808000\">thread_id</span>=<span style=\"color: #008080; text-decoration-color: #008080; font-weight: bold\">14</span>, <span style=\"color: #808000; text-decoration-color: #808000\">description</span>=<span style=\"color: #008000; text-decoration-color: #008000\">'Peak'</span>, <span style=\"color: #808000; text-decoration-color: #808000\">start_mega</span>=<span style=\"color: #008080; text-decoration-color: #008080; font-weight: bold\">105.0</span>, <span style=\"color: #808000; text-decoration-color: #808000\">stop_mega</span>=<span style=\"color: #008080; text-decoration-color: #008080; font-weight: bold\">140.0</span>, \n",
       "<span style=\"color: #808000; text-decoration-color: #808000\">dtype</span>=<span style=\"color: #008000; text-decoration-color: #008000\">'dBm'</span>, <span style=\"color: #808000; text-decoration-color: #808000\">ndata</span>=<span style=\"color: #008080; text-decoration-color: #008080; font-weight: bold\">3584</span>, <span style=\"color: #808000; text-decoration-color: #808000\">bw</span>=<span style=\"color: #008080; text-decoration-color: #008080; font-weight: bold\">42</span>, <span style=\"color: #808000; text-decoration-color: #808000\">processing</span>=<span style=\"color: #008000; text-decoration-color: #008000\">'average'</span>, <span style=\"color: #808000; text-decoration-color: #808000\">antuid</span>=<span style=\"color: #008080; text-decoration-color: #008080; font-weight: bold\">0</span>, <span style=\"color: #808000; text-decoration-color: #808000\">thresh</span>=<span style=\"color: #008080; text-decoration-color: #008080; font-weight: bold\">-90</span>, <span style=\"color: #808000; text-decoration-color: #808000\">minimum</span>=<span style=\"color: #008080; text-decoration-color: #008080; font-weight: bold\">-147.5</span><span style=\"font-weight: bold\">)</span>, \n",
       "<span style=\"color: #800080; text-decoration-color: #800080; font-weight: bold\">SpecData</span><span style=\"font-weight: bold\">(</span><span style=\"color: #808000; text-decoration-color: #808000\">type</span>=<span style=\"color: #008080; text-decoration-color: #008080; font-weight: bold\">64</span>, <span style=\"color: #808000; text-decoration-color: #808000\">thread_id</span>=<span style=\"color: #008080; text-decoration-color: #008080; font-weight: bold\">14</span>, <span style=\"color: #808000; text-decoration-color: #808000\">description</span>=<span style=\"color: #008000; text-decoration-color: #008000\">'Peak'</span>, <span style=\"color: #808000; text-decoration-color: #808000\">start_mega</span>=<span style=\"color: #008080; text-decoration-color: #008080; font-weight: bold\">105.0</span>, <span style=\"color: #808000; text-decoration-color: #808000\">stop_mega</span>=<span style=\"color: #008080; text-decoration-color: #008080; font-weight: bold\">140.0</span>, \n",
       "<span style=\"color: #808000; text-decoration-color: #808000\">dtype</span>=<span style=\"color: #008000; text-decoration-color: #008000\">'dBm'</span>, <span style=\"color: #808000; text-decoration-color: #808000\">ndata</span>=<span style=\"color: #008080; text-decoration-color: #008080; font-weight: bold\">3584</span>, <span style=\"color: #808000; text-decoration-color: #808000\">bw</span>=<span style=\"color: #008080; text-decoration-color: #008080; font-weight: bold\">37</span>, <span style=\"color: #808000; text-decoration-color: #808000\">processing</span>=<span style=\"color: #008000; text-decoration-color: #008000\">'average'</span>, <span style=\"color: #808000; text-decoration-color: #808000\">antuid</span>=<span style=\"color: #008080; text-decoration-color: #008080; font-weight: bold\">0</span>, <span style=\"color: #808000; text-decoration-color: #808000\">thresh</span>=<span style=\"color: #008080; text-decoration-color: #008080; font-weight: bold\">-90</span>, <span style=\"color: #808000; text-decoration-color: #808000\">minimum</span>=<span style=\"color: #008080; text-decoration-color: #008080; font-weight: bold\">-147.5</span><span style=\"font-weight: bold\">)</span>, \n",
       "<span style=\"color: #800080; text-decoration-color: #800080; font-weight: bold\">SpecData</span><span style=\"font-weight: bold\">(</span><span style=\"color: #808000; text-decoration-color: #808000\">type</span>=<span style=\"color: #008080; text-decoration-color: #008080; font-weight: bold\">64</span>, <span style=\"color: #808000; text-decoration-color: #808000\">thread_id</span>=<span style=\"color: #008080; text-decoration-color: #008080; font-weight: bold\">14</span>, <span style=\"color: #808000; text-decoration-color: #808000\">description</span>=<span style=\"color: #008000; text-decoration-color: #008000\">'Peak'</span>, <span style=\"color: #808000; text-decoration-color: #808000\">start_mega</span>=<span style=\"color: #008080; text-decoration-color: #008080; font-weight: bold\">105.0</span>, <span style=\"color: #808000; text-decoration-color: #808000\">stop_mega</span>=<span style=\"color: #008080; text-decoration-color: #008080; font-weight: bold\">140.0</span>, \n",
       "<span style=\"color: #808000; text-decoration-color: #808000\">dtype</span>=<span style=\"color: #008000; text-decoration-color: #008000\">'dBm'</span>, <span style=\"color: #808000; text-decoration-color: #808000\">ndata</span>=<span style=\"color: #008080; text-decoration-color: #008080; font-weight: bold\">3584</span>, <span style=\"color: #808000; text-decoration-color: #808000\">bw</span>=<span style=\"color: #008080; text-decoration-color: #008080; font-weight: bold\">53</span>, <span style=\"color: #808000; text-decoration-color: #808000\">processing</span>=<span style=\"color: #008000; text-decoration-color: #008000\">'average'</span>, <span style=\"color: #808000; text-decoration-color: #808000\">antuid</span>=<span style=\"color: #008080; text-decoration-color: #008080; font-weight: bold\">0</span>, <span style=\"color: #808000; text-decoration-color: #808000\">thresh</span>=<span style=\"color: #008080; text-decoration-color: #008080; font-weight: bold\">-90</span>, <span style=\"color: #808000; text-decoration-color: #808000\">minimum</span>=<span style=\"color: #008080; text-decoration-color: #008080; font-weight: bold\">-147.5</span><span style=\"font-weight: bold\">)</span>, \n",
       "<span style=\"color: #800080; text-decoration-color: #800080; font-weight: bold\">SpecData</span><span style=\"font-weight: bold\">(</span><span style=\"color: #808000; text-decoration-color: #808000\">type</span>=<span style=\"color: #008080; text-decoration-color: #008080; font-weight: bold\">64</span>, <span style=\"color: #808000; text-decoration-color: #808000\">thread_id</span>=<span style=\"color: #008080; text-decoration-color: #008080; font-weight: bold\">14</span>, <span style=\"color: #808000; text-decoration-color: #808000\">description</span>=<span style=\"color: #008000; text-decoration-color: #008000\">'Peak'</span>, <span style=\"color: #808000; text-decoration-color: #808000\">start_mega</span>=<span style=\"color: #008080; text-decoration-color: #008080; font-weight: bold\">105.0</span>, <span style=\"color: #808000; text-decoration-color: #808000\">stop_mega</span>=<span style=\"color: #008080; text-decoration-color: #008080; font-weight: bold\">140.0</span>, \n",
       "<span style=\"color: #808000; text-decoration-color: #808000\">dtype</span>=<span style=\"color: #008000; text-decoration-color: #008000\">'dBm'</span>, <span style=\"color: #808000; text-decoration-color: #808000\">ndata</span>=<span style=\"color: #008080; text-decoration-color: #008080; font-weight: bold\">3584</span>, <span style=\"color: #808000; text-decoration-color: #808000\">bw</span>=<span style=\"color: #008080; text-decoration-color: #008080; font-weight: bold\">45</span>, <span style=\"color: #808000; text-decoration-color: #808000\">processing</span>=<span style=\"color: #008000; text-decoration-color: #008000\">'average'</span>, <span style=\"color: #808000; text-decoration-color: #808000\">antuid</span>=<span style=\"color: #008080; text-decoration-color: #008080; font-weight: bold\">0</span>, <span style=\"color: #808000; text-decoration-color: #808000\">thresh</span>=<span style=\"color: #008080; text-decoration-color: #008080; font-weight: bold\">-90</span>, <span style=\"color: #808000; text-decoration-color: #808000\">minimum</span>=<span style=\"color: #008080; text-decoration-color: #008080; font-weight: bold\">-147.5</span><span style=\"font-weight: bold\">)</span>, \n",
       "<span style=\"color: #800080; text-decoration-color: #800080; font-weight: bold\">SpecData</span><span style=\"font-weight: bold\">(</span><span style=\"color: #808000; text-decoration-color: #808000\">type</span>=<span style=\"color: #008080; text-decoration-color: #008080; font-weight: bold\">64</span>, <span style=\"color: #808000; text-decoration-color: #808000\">thread_id</span>=<span style=\"color: #008080; text-decoration-color: #008080; font-weight: bold\">14</span>, <span style=\"color: #808000; text-decoration-color: #808000\">description</span>=<span style=\"color: #008000; text-decoration-color: #008000\">'Peak'</span>, <span style=\"color: #808000; text-decoration-color: #808000\">start_mega</span>=<span style=\"color: #008080; text-decoration-color: #008080; font-weight: bold\">105.0</span>, <span style=\"color: #808000; text-decoration-color: #808000\">stop_mega</span>=<span style=\"color: #008080; text-decoration-color: #008080; font-weight: bold\">140.0</span>, \n",
       "<span style=\"color: #808000; text-decoration-color: #808000\">dtype</span>=<span style=\"color: #008000; text-decoration-color: #008000\">'dBm'</span>, <span style=\"color: #808000; text-decoration-color: #808000\">ndata</span>=<span style=\"color: #008080; text-decoration-color: #008080; font-weight: bold\">3584</span>, <span style=\"color: #808000; text-decoration-color: #808000\">bw</span>=<span style=\"color: #008080; text-decoration-color: #008080; font-weight: bold\">55</span>, <span style=\"color: #808000; text-decoration-color: #808000\">processing</span>=<span style=\"color: #008000; text-decoration-color: #008000\">'average'</span>, <span style=\"color: #808000; text-decoration-color: #808000\">antuid</span>=<span style=\"color: #008080; text-decoration-color: #008080; font-weight: bold\">0</span>, <span style=\"color: #808000; text-decoration-color: #808000\">thresh</span>=<span style=\"color: #008080; text-decoration-color: #008080; font-weight: bold\">-90</span>, <span style=\"color: #808000; text-decoration-color: #808000\">minimum</span>=<span style=\"color: #008080; text-decoration-color: #008080; font-weight: bold\">-147.5</span><span style=\"font-weight: bold\">)</span>, \n",
       "<span style=\"color: #800080; text-decoration-color: #800080; font-weight: bold\">SpecData</span><span style=\"font-weight: bold\">(</span><span style=\"color: #808000; text-decoration-color: #808000\">type</span>=<span style=\"color: #008080; text-decoration-color: #008080; font-weight: bold\">64</span>, <span style=\"color: #808000; text-decoration-color: #808000\">thread_id</span>=<span style=\"color: #008080; text-decoration-color: #008080; font-weight: bold\">14</span>, <span style=\"color: #808000; text-decoration-color: #808000\">description</span>=<span style=\"color: #008000; text-decoration-color: #008000\">'Peak'</span>, <span style=\"color: #808000; text-decoration-color: #808000\">start_mega</span>=<span style=\"color: #008080; text-decoration-color: #008080; font-weight: bold\">105.0</span>, <span style=\"color: #808000; text-decoration-color: #808000\">stop_mega</span>=<span style=\"color: #008080; text-decoration-color: #008080; font-weight: bold\">140.0</span>, \n",
       "<span style=\"color: #808000; text-decoration-color: #808000\">dtype</span>=<span style=\"color: #008000; text-decoration-color: #008000\">'dBm'</span>, <span style=\"color: #808000; text-decoration-color: #808000\">ndata</span>=<span style=\"color: #008080; text-decoration-color: #008080; font-weight: bold\">3584</span>, <span style=\"color: #808000; text-decoration-color: #808000\">bw</span>=<span style=\"color: #008080; text-decoration-color: #008080; font-weight: bold\">58</span>, <span style=\"color: #808000; text-decoration-color: #808000\">processing</span>=<span style=\"color: #008000; text-decoration-color: #008000\">'average'</span>, <span style=\"color: #808000; text-decoration-color: #808000\">antuid</span>=<span style=\"color: #008080; text-decoration-color: #008080; font-weight: bold\">0</span>, <span style=\"color: #808000; text-decoration-color: #808000\">thresh</span>=<span style=\"color: #008080; text-decoration-color: #008080; font-weight: bold\">-90</span>, <span style=\"color: #808000; text-decoration-color: #808000\">minimum</span>=<span style=\"color: #008080; text-decoration-color: #008080; font-weight: bold\">-147.5</span><span style=\"font-weight: bold\">)</span>, \n",
       "<span style=\"color: #800080; text-decoration-color: #800080; font-weight: bold\">SpecData</span><span style=\"font-weight: bold\">(</span><span style=\"color: #808000; text-decoration-color: #808000\">type</span>=<span style=\"color: #008080; text-decoration-color: #008080; font-weight: bold\">64</span>, <span style=\"color: #808000; text-decoration-color: #808000\">thread_id</span>=<span style=\"color: #008080; text-decoration-color: #008080; font-weight: bold\">14</span>, <span style=\"color: #808000; text-decoration-color: #808000\">description</span>=<span style=\"color: #008000; text-decoration-color: #008000\">'Peak'</span>, <span style=\"color: #808000; text-decoration-color: #808000\">start_mega</span>=<span style=\"color: #008080; text-decoration-color: #008080; font-weight: bold\">105.0</span>, <span style=\"color: #808000; text-decoration-color: #808000\">stop_mega</span>=<span style=\"color: #008080; text-decoration-color: #008080; font-weight: bold\">140.0</span>, \n",
       "<span style=\"color: #808000; text-decoration-color: #808000\">dtype</span>=<span style=\"color: #008000; text-decoration-color: #008000\">'dBm'</span>, <span style=\"color: #808000; text-decoration-color: #808000\">ndata</span>=<span style=\"color: #008080; text-decoration-color: #008080; font-weight: bold\">3584</span>, <span style=\"color: #808000; text-decoration-color: #808000\">bw</span>=<span style=\"color: #008080; text-decoration-color: #008080; font-weight: bold\">39</span>, <span style=\"color: #808000; text-decoration-color: #808000\">processing</span>=<span style=\"color: #008000; text-decoration-color: #008000\">'average'</span>, <span style=\"color: #808000; text-decoration-color: #808000\">antuid</span>=<span style=\"color: #008080; text-decoration-color: #008080; font-weight: bold\">0</span>, <span style=\"color: #808000; text-decoration-color: #808000\">thresh</span>=<span style=\"color: #008080; text-decoration-color: #008080; font-weight: bold\">-90</span>, <span style=\"color: #808000; text-decoration-color: #808000\">minimum</span>=<span style=\"color: #008080; text-decoration-color: #008080; font-weight: bold\">-147.5</span><span style=\"font-weight: bold\">)]</span>\n",
       "<span style=\"font-weight: bold\">}</span>\n",
       "</pre>\n"
      ],
      "text/plain": [
       "\u001b[1m{\u001b[0m\n",
       "    \u001b[32m'filename'\u001b[0m: \u001b[32m'rfeye002292_210208_T202215_CRFSBINv.4.bin'\u001b[0m,\n",
       "    \u001b[32m'file_version'\u001b[0m: \u001b[1;36m22\u001b[0m,\n",
       "    \u001b[32m'string'\u001b[0m: \u001b[32m'CRFS DATA FILE V022'\u001b[0m,\n",
       "    \u001b[32m'hostname'\u001b[0m: \u001b[32m'rfeye002292'\u001b[0m,\n",
       "    \u001b[32m'method'\u001b[0m: \u001b[32m'Script_CRFSBINv4'\u001b[0m,\n",
       "    \u001b[32m'unit_info'\u001b[0m: \u001b[32m'Stationary'\u001b[0m,\n",
       "    \u001b[32m'file_number'\u001b[0m: \u001b[1;36m0\u001b[0m,\n",
       "    \u001b[32m'identifier'\u001b[0m: \u001b[32m'LOGGER_VERSION'\u001b[0m,\n",
       "    \u001b[32m'group_id'\u001b[0m: \u001b[1;36m0\u001b[0m,\n",
       "    \u001b[32m'text'\u001b[0m: \u001b[32m'ClearWrite. Peak.'\u001b[0m,\n",
       "    \u001b[32m'gps'\u001b[0m: GPS Data - Median of Coordinates: \u001b[1;36m-14.81416\u001b[0m:\u001b[1;36m-39.03184\u001b[0m Altitude: \u001b[1;36m15.50\u001b[0m #Satellites:\n",
       "\u001b[1;36m11.0\u001b[0m,\n",
       "    \u001b[32m'spectrum'\u001b[0m: \u001b[1m[\u001b[0m\u001b[1;35mSpecData\u001b[0m\u001b[1m(\u001b[0m\u001b[33mtype\u001b[0m=\u001b[1;36m63\u001b[0m, \u001b[33mthread_id\u001b[0m=\u001b[1;36m20\u001b[0m, \u001b[33mdescription\u001b[0m=\u001b[32m'Peak'\u001b[0m, \u001b[33mstart_mega\u001b[0m=\u001b[1;36m76\u001b[0m\u001b[1;36m.0\u001b[0m, \n",
       "\u001b[33mstop_mega\u001b[0m=\u001b[1;36m108\u001b[0m\u001b[1;36m.0\u001b[0m, \u001b[33mdtype\u001b[0m=\u001b[32m'dBm'\u001b[0m, \u001b[33mndata\u001b[0m=\u001b[1;36m8192\u001b[0m, \u001b[33mbw\u001b[0m=\u001b[1;36m3\u001b[0m, \u001b[33mprocessing\u001b[0m=\u001b[32m'peak'\u001b[0m, \u001b[33mantuid\u001b[0m=\u001b[1;36m0\u001b[0m, \u001b[33mthresh\u001b[0m=\u001b[1;36m-147.5\u001b[0m, \n",
       "\u001b[33mminimum\u001b[0m=\u001b[1;36m-147.5\u001b[0m\u001b[1m)\u001b[0m, \u001b[1;35mSpecData\u001b[0m\u001b[1m(\u001b[0m\u001b[33mtype\u001b[0m=\u001b[1;36m63\u001b[0m, \u001b[33mthread_id\u001b[0m=\u001b[1;36m30\u001b[0m, \u001b[33mdescription\u001b[0m=\u001b[32m'Peak'\u001b[0m, \u001b[33mstart_mega\u001b[0m=\u001b[1;36m70\u001b[0m\u001b[1;36m.0\u001b[0m, \n",
       "\u001b[33mstop_mega\u001b[0m=\u001b[1;36m110\u001b[0m\u001b[1;36m.0\u001b[0m, \u001b[33mdtype\u001b[0m=\u001b[32m'dBm'\u001b[0m, \u001b[33mndata\u001b[0m=\u001b[1;36m1024\u001b[0m, \u001b[33mbw\u001b[0m=\u001b[1;36m39\u001b[0m, \u001b[33mprocessing\u001b[0m=\u001b[32m'peak'\u001b[0m, \u001b[33mantuid\u001b[0m=\u001b[1;36m0\u001b[0m, \u001b[33mthresh\u001b[0m=\u001b[1;36m-147.5\u001b[0m, \n",
       "\u001b[33mminimum\u001b[0m=\u001b[1;36m-147.5\u001b[0m\u001b[1m)\u001b[0m, \u001b[1;35mSpecData\u001b[0m\u001b[1m(\u001b[0m\u001b[33mtype\u001b[0m=\u001b[1;36m63\u001b[0m, \u001b[33mthread_id\u001b[0m=\u001b[1;36m10\u001b[0m, \u001b[33mdescription\u001b[0m=\u001b[32m'Peak'\u001b[0m, \u001b[33mstart_mega\u001b[0m=\u001b[1;36m105\u001b[0m\u001b[1;36m.0\u001b[0m, \n",
       "\u001b[33mstop_mega\u001b[0m=\u001b[1;36m140\u001b[0m\u001b[1;36m.0\u001b[0m, \u001b[33mdtype\u001b[0m=\u001b[32m'dBm'\u001b[0m, \u001b[33mndata\u001b[0m=\u001b[1;36m3584\u001b[0m, \u001b[33mbw\u001b[0m=\u001b[1;36m9\u001b[0m, \u001b[33mprocessing\u001b[0m=\u001b[32m'peak'\u001b[0m, \u001b[33mantuid\u001b[0m=\u001b[1;36m0\u001b[0m, \u001b[33mthresh\u001b[0m=\u001b[1;36m-147.5\u001b[0m, \n",
       "\u001b[33mminimum\u001b[0m=\u001b[1;36m-147.5\u001b[0m\u001b[1m)\u001b[0m, \u001b[1;35mSpecData\u001b[0m\u001b[1m(\u001b[0m\u001b[33mtype\u001b[0m=\u001b[1;36m63\u001b[0m, \u001b[33mthread_id\u001b[0m=\u001b[1;36m11\u001b[0m, \u001b[33mdescription\u001b[0m=\u001b[32m'Peak'\u001b[0m, \u001b[33mstart_mega\u001b[0m=\u001b[1;36m105\u001b[0m\u001b[1;36m.0\u001b[0m, \n",
       "\u001b[33mstop_mega\u001b[0m=\u001b[1;36m140\u001b[0m\u001b[1;36m.0\u001b[0m, \u001b[33mdtype\u001b[0m=\u001b[32m'dBm'\u001b[0m, \u001b[33mndata\u001b[0m=\u001b[1;36m3584\u001b[0m, \u001b[33mbw\u001b[0m=\u001b[1;36m9\u001b[0m, \u001b[33mprocessing\u001b[0m=\u001b[32m'average'\u001b[0m, \u001b[33mantuid\u001b[0m=\u001b[1;36m0\u001b[0m, \n",
       "\u001b[33mthresh\u001b[0m=\u001b[1;36m-147.5\u001b[0m, \u001b[33mminimum\u001b[0m=\u001b[1;36m-147.5\u001b[0m\u001b[1m)\u001b[0m, \u001b[1;35mSpecData\u001b[0m\u001b[1m(\u001b[0m\u001b[33mtype\u001b[0m=\u001b[1;36m63\u001b[0m, \u001b[33mthread_id\u001b[0m=\u001b[1;36m12\u001b[0m, \u001b[33mdescription\u001b[0m=\u001b[32m'Peak'\u001b[0m, \n",
       "\u001b[33mstart_mega\u001b[0m=\u001b[1;36m105\u001b[0m\u001b[1;36m.0\u001b[0m, \u001b[33mstop_mega\u001b[0m=\u001b[1;36m140\u001b[0m\u001b[1;36m.0\u001b[0m, \u001b[33mdtype\u001b[0m=\u001b[32m'dBm'\u001b[0m, \u001b[33mndata\u001b[0m=\u001b[1;36m3584\u001b[0m, \u001b[33mbw\u001b[0m=\u001b[1;36m9\u001b[0m, \u001b[33mprocessing\u001b[0m=\u001b[32m'peak'\u001b[0m, \n",
       "\u001b[33mantuid\u001b[0m=\u001b[1;36m0\u001b[0m, \u001b[33mthresh\u001b[0m=\u001b[1;36m-147.5\u001b[0m, \u001b[33mminimum\u001b[0m=\u001b[1;36m-147.5\u001b[0m\u001b[1m)\u001b[0m, \u001b[1;35mSpecData\u001b[0m\u001b[1m(\u001b[0m\u001b[33mtype\u001b[0m=\u001b[1;36m63\u001b[0m, \u001b[33mthread_id\u001b[0m=\u001b[1;36m13\u001b[0m, \u001b[33mdescription\u001b[0m=\u001b[32m'Peak'\u001b[0m,\n",
       "\u001b[33mstart_mega\u001b[0m=\u001b[1;36m105\u001b[0m\u001b[1;36m.0\u001b[0m, \u001b[33mstop_mega\u001b[0m=\u001b[1;36m140\u001b[0m\u001b[1;36m.0\u001b[0m, \u001b[33mdtype\u001b[0m=\u001b[32m'dBm'\u001b[0m, \u001b[33mndata\u001b[0m=\u001b[1;36m3584\u001b[0m, \u001b[33mbw\u001b[0m=\u001b[1;36m9\u001b[0m, \u001b[33mprocessing\u001b[0m=\u001b[32m'average'\u001b[0m, \n",
       "\u001b[33mantuid\u001b[0m=\u001b[1;36m0\u001b[0m, \u001b[33mthresh\u001b[0m=\u001b[1;36m-147.5\u001b[0m, \u001b[33mminimum\u001b[0m=\u001b[1;36m-147.5\u001b[0m\u001b[1m)\u001b[0m, \u001b[1;35mSpecData\u001b[0m\u001b[1m(\u001b[0m\u001b[33mtype\u001b[0m=\u001b[1;36m64\u001b[0m, \u001b[33mthread_id\u001b[0m=\u001b[1;36m14\u001b[0m, \u001b[33mdescription\u001b[0m=\u001b[32m'Peak'\u001b[0m,\n",
       "\u001b[33mstart_mega\u001b[0m=\u001b[1;36m105\u001b[0m\u001b[1;36m.0\u001b[0m, \u001b[33mstop_mega\u001b[0m=\u001b[1;36m140\u001b[0m\u001b[1;36m.0\u001b[0m, \u001b[33mdtype\u001b[0m=\u001b[32m'dBm'\u001b[0m, \u001b[33mndata\u001b[0m=\u001b[1;36m3584\u001b[0m, \u001b[33mbw\u001b[0m=\u001b[1;36m48\u001b[0m, \u001b[33mprocessing\u001b[0m=\u001b[32m'average'\u001b[0m, \n",
       "\u001b[33mantuid\u001b[0m=\u001b[1;36m0\u001b[0m, \u001b[33mthresh\u001b[0m=\u001b[1;36m-90\u001b[0m, \u001b[33mminimum\u001b[0m=\u001b[1;36m-147.5\u001b[0m\u001b[1m)\u001b[0m, \u001b[1;35mSpecData\u001b[0m\u001b[1m(\u001b[0m\u001b[33mtype\u001b[0m=\u001b[1;36m65\u001b[0m, \u001b[33mthread_id\u001b[0m=\u001b[1;36m15\u001b[0m, \u001b[33mstart_mega\u001b[0m=\u001b[1;36m105\u001b[0m\u001b[1;36m.0\u001b[0m, \n",
       "\u001b[33mstop_mega\u001b[0m=\u001b[1;36m140\u001b[0m\u001b[1;36m.0\u001b[0m, \u001b[33mdtype\u001b[0m=\u001b[32m'dBm'\u001b[0m, \u001b[33mndata\u001b[0m=\u001b[1;36m3584\u001b[0m, \u001b[33mprocessing\u001b[0m=\u001b[32m'peak'\u001b[0m, \u001b[33mantuid\u001b[0m=\u001b[1;36m0\u001b[0m, \u001b[33mthresh\u001b[0m=\u001b[1;36m-90\u001b[0m\u001b[1m)\u001b[0m, \n",
       "\u001b[1;35mSpecData\u001b[0m\u001b[1m(\u001b[0m\u001b[33mtype\u001b[0m=\u001b[1;36m64\u001b[0m, \u001b[33mthread_id\u001b[0m=\u001b[1;36m14\u001b[0m, \u001b[33mdescription\u001b[0m=\u001b[32m'Peak'\u001b[0m, \u001b[33mstart_mega\u001b[0m=\u001b[1;36m105\u001b[0m\u001b[1;36m.0\u001b[0m, \u001b[33mstop_mega\u001b[0m=\u001b[1;36m140\u001b[0m\u001b[1;36m.0\u001b[0m, \n",
       "\u001b[33mdtype\u001b[0m=\u001b[32m'dBm'\u001b[0m, \u001b[33mndata\u001b[0m=\u001b[1;36m3584\u001b[0m, \u001b[33mbw\u001b[0m=\u001b[1;36m51\u001b[0m, \u001b[33mprocessing\u001b[0m=\u001b[32m'average'\u001b[0m, \u001b[33mantuid\u001b[0m=\u001b[1;36m0\u001b[0m, \u001b[33mthresh\u001b[0m=\u001b[1;36m-90\u001b[0m, \u001b[33mminimum\u001b[0m=\u001b[1;36m-147.5\u001b[0m\u001b[1m)\u001b[0m, \n",
       "\u001b[1;35mSpecData\u001b[0m\u001b[1m(\u001b[0m\u001b[33mtype\u001b[0m=\u001b[1;36m64\u001b[0m, \u001b[33mthread_id\u001b[0m=\u001b[1;36m14\u001b[0m, \u001b[33mdescription\u001b[0m=\u001b[32m'Peak'\u001b[0m, \u001b[33mstart_mega\u001b[0m=\u001b[1;36m105\u001b[0m\u001b[1;36m.0\u001b[0m, \u001b[33mstop_mega\u001b[0m=\u001b[1;36m140\u001b[0m\u001b[1;36m.0\u001b[0m, \n",
       "\u001b[33mdtype\u001b[0m=\u001b[32m'dBm'\u001b[0m, \u001b[33mndata\u001b[0m=\u001b[1;36m3584\u001b[0m, \u001b[33mbw\u001b[0m=\u001b[1;36m47\u001b[0m, \u001b[33mprocessing\u001b[0m=\u001b[32m'average'\u001b[0m, \u001b[33mantuid\u001b[0m=\u001b[1;36m0\u001b[0m, \u001b[33mthresh\u001b[0m=\u001b[1;36m-90\u001b[0m, \u001b[33mminimum\u001b[0m=\u001b[1;36m-147.5\u001b[0m\u001b[1m)\u001b[0m, \n",
       "\u001b[1;35mSpecData\u001b[0m\u001b[1m(\u001b[0m\u001b[33mtype\u001b[0m=\u001b[1;36m64\u001b[0m, \u001b[33mthread_id\u001b[0m=\u001b[1;36m14\u001b[0m, \u001b[33mdescription\u001b[0m=\u001b[32m'Peak'\u001b[0m, \u001b[33mstart_mega\u001b[0m=\u001b[1;36m105\u001b[0m\u001b[1;36m.0\u001b[0m, \u001b[33mstop_mega\u001b[0m=\u001b[1;36m140\u001b[0m\u001b[1;36m.0\u001b[0m, \n",
       "\u001b[33mdtype\u001b[0m=\u001b[32m'dBm'\u001b[0m, \u001b[33mndata\u001b[0m=\u001b[1;36m3584\u001b[0m, \u001b[33mbw\u001b[0m=\u001b[1;36m46\u001b[0m, \u001b[33mprocessing\u001b[0m=\u001b[32m'average'\u001b[0m, \u001b[33mantuid\u001b[0m=\u001b[1;36m0\u001b[0m, \u001b[33mthresh\u001b[0m=\u001b[1;36m-90\u001b[0m, \u001b[33mminimum\u001b[0m=\u001b[1;36m-147.5\u001b[0m\u001b[1m)\u001b[0m, \n",
       "\u001b[1;35mSpecData\u001b[0m\u001b[1m(\u001b[0m\u001b[33mtype\u001b[0m=\u001b[1;36m64\u001b[0m, \u001b[33mthread_id\u001b[0m=\u001b[1;36m14\u001b[0m, \u001b[33mdescription\u001b[0m=\u001b[32m'Peak'\u001b[0m, \u001b[33mstart_mega\u001b[0m=\u001b[1;36m105\u001b[0m\u001b[1;36m.0\u001b[0m, \u001b[33mstop_mega\u001b[0m=\u001b[1;36m140\u001b[0m\u001b[1;36m.0\u001b[0m, \n",
       "\u001b[33mdtype\u001b[0m=\u001b[32m'dBm'\u001b[0m, \u001b[33mndata\u001b[0m=\u001b[1;36m3584\u001b[0m, \u001b[33mbw\u001b[0m=\u001b[1;36m59\u001b[0m, \u001b[33mprocessing\u001b[0m=\u001b[32m'average'\u001b[0m, \u001b[33mantuid\u001b[0m=\u001b[1;36m0\u001b[0m, \u001b[33mthresh\u001b[0m=\u001b[1;36m-90\u001b[0m, \u001b[33mminimum\u001b[0m=\u001b[1;36m-147.5\u001b[0m\u001b[1m)\u001b[0m, \n",
       "\u001b[1;35mSpecData\u001b[0m\u001b[1m(\u001b[0m\u001b[33mtype\u001b[0m=\u001b[1;36m64\u001b[0m, \u001b[33mthread_id\u001b[0m=\u001b[1;36m14\u001b[0m, \u001b[33mdescription\u001b[0m=\u001b[32m'Peak'\u001b[0m, \u001b[33mstart_mega\u001b[0m=\u001b[1;36m105\u001b[0m\u001b[1;36m.0\u001b[0m, \u001b[33mstop_mega\u001b[0m=\u001b[1;36m140\u001b[0m\u001b[1;36m.0\u001b[0m, \n",
       "\u001b[33mdtype\u001b[0m=\u001b[32m'dBm'\u001b[0m, \u001b[33mndata\u001b[0m=\u001b[1;36m3584\u001b[0m, \u001b[33mbw\u001b[0m=\u001b[1;36m44\u001b[0m, \u001b[33mprocessing\u001b[0m=\u001b[32m'average'\u001b[0m, \u001b[33mantuid\u001b[0m=\u001b[1;36m0\u001b[0m, \u001b[33mthresh\u001b[0m=\u001b[1;36m-90\u001b[0m, \u001b[33mminimum\u001b[0m=\u001b[1;36m-147.5\u001b[0m\u001b[1m)\u001b[0m, \n",
       "\u001b[1;35mSpecData\u001b[0m\u001b[1m(\u001b[0m\u001b[33mtype\u001b[0m=\u001b[1;36m64\u001b[0m, \u001b[33mthread_id\u001b[0m=\u001b[1;36m14\u001b[0m, \u001b[33mdescription\u001b[0m=\u001b[32m'Peak'\u001b[0m, \u001b[33mstart_mega\u001b[0m=\u001b[1;36m105\u001b[0m\u001b[1;36m.0\u001b[0m, \u001b[33mstop_mega\u001b[0m=\u001b[1;36m140\u001b[0m\u001b[1;36m.0\u001b[0m, \n",
       "\u001b[33mdtype\u001b[0m=\u001b[32m'dBm'\u001b[0m, \u001b[33mndata\u001b[0m=\u001b[1;36m3584\u001b[0m, \u001b[33mbw\u001b[0m=\u001b[1;36m62\u001b[0m, \u001b[33mprocessing\u001b[0m=\u001b[32m'average'\u001b[0m, \u001b[33mantuid\u001b[0m=\u001b[1;36m0\u001b[0m, \u001b[33mthresh\u001b[0m=\u001b[1;36m-90\u001b[0m, \u001b[33mminimum\u001b[0m=\u001b[1;36m-147.5\u001b[0m\u001b[1m)\u001b[0m, \n",
       "\u001b[1;35mSpecData\u001b[0m\u001b[1m(\u001b[0m\u001b[33mtype\u001b[0m=\u001b[1;36m64\u001b[0m, \u001b[33mthread_id\u001b[0m=\u001b[1;36m14\u001b[0m, \u001b[33mdescription\u001b[0m=\u001b[32m'Peak'\u001b[0m, \u001b[33mstart_mega\u001b[0m=\u001b[1;36m105\u001b[0m\u001b[1;36m.0\u001b[0m, \u001b[33mstop_mega\u001b[0m=\u001b[1;36m140\u001b[0m\u001b[1;36m.0\u001b[0m, \n",
       "\u001b[33mdtype\u001b[0m=\u001b[32m'dBm'\u001b[0m, \u001b[33mndata\u001b[0m=\u001b[1;36m3584\u001b[0m, \u001b[33mbw\u001b[0m=\u001b[1;36m50\u001b[0m, \u001b[33mprocessing\u001b[0m=\u001b[32m'average'\u001b[0m, \u001b[33mantuid\u001b[0m=\u001b[1;36m0\u001b[0m, \u001b[33mthresh\u001b[0m=\u001b[1;36m-90\u001b[0m, \u001b[33mminimum\u001b[0m=\u001b[1;36m-147.5\u001b[0m\u001b[1m)\u001b[0m, \n",
       "\u001b[1;35mSpecData\u001b[0m\u001b[1m(\u001b[0m\u001b[33mtype\u001b[0m=\u001b[1;36m64\u001b[0m, \u001b[33mthread_id\u001b[0m=\u001b[1;36m14\u001b[0m, \u001b[33mdescription\u001b[0m=\u001b[32m'Peak'\u001b[0m, \u001b[33mstart_mega\u001b[0m=\u001b[1;36m105\u001b[0m\u001b[1;36m.0\u001b[0m, \u001b[33mstop_mega\u001b[0m=\u001b[1;36m140\u001b[0m\u001b[1;36m.0\u001b[0m, \n",
       "\u001b[33mdtype\u001b[0m=\u001b[32m'dBm'\u001b[0m, \u001b[33mndata\u001b[0m=\u001b[1;36m3584\u001b[0m, \u001b[33mbw\u001b[0m=\u001b[1;36m49\u001b[0m, \u001b[33mprocessing\u001b[0m=\u001b[32m'average'\u001b[0m, \u001b[33mantuid\u001b[0m=\u001b[1;36m0\u001b[0m, \u001b[33mthresh\u001b[0m=\u001b[1;36m-90\u001b[0m, \u001b[33mminimum\u001b[0m=\u001b[1;36m-147.5\u001b[0m\u001b[1m)\u001b[0m, \n",
       "\u001b[1;35mSpecData\u001b[0m\u001b[1m(\u001b[0m\u001b[33mtype\u001b[0m=\u001b[1;36m64\u001b[0m, \u001b[33mthread_id\u001b[0m=\u001b[1;36m14\u001b[0m, \u001b[33mdescription\u001b[0m=\u001b[32m'Peak'\u001b[0m, \u001b[33mstart_mega\u001b[0m=\u001b[1;36m105\u001b[0m\u001b[1;36m.0\u001b[0m, \u001b[33mstop_mega\u001b[0m=\u001b[1;36m140\u001b[0m\u001b[1;36m.0\u001b[0m, \n",
       "\u001b[33mdtype\u001b[0m=\u001b[32m'dBm'\u001b[0m, \u001b[33mndata\u001b[0m=\u001b[1;36m3584\u001b[0m, \u001b[33mbw\u001b[0m=\u001b[1;36m43\u001b[0m, \u001b[33mprocessing\u001b[0m=\u001b[32m'average'\u001b[0m, \u001b[33mantuid\u001b[0m=\u001b[1;36m0\u001b[0m, \u001b[33mthresh\u001b[0m=\u001b[1;36m-90\u001b[0m, \u001b[33mminimum\u001b[0m=\u001b[1;36m-147.5\u001b[0m\u001b[1m)\u001b[0m, \n",
       "\u001b[1;35mSpecData\u001b[0m\u001b[1m(\u001b[0m\u001b[33mtype\u001b[0m=\u001b[1;36m64\u001b[0m, \u001b[33mthread_id\u001b[0m=\u001b[1;36m14\u001b[0m, \u001b[33mdescription\u001b[0m=\u001b[32m'Peak'\u001b[0m, \u001b[33mstart_mega\u001b[0m=\u001b[1;36m105\u001b[0m\u001b[1;36m.0\u001b[0m, \u001b[33mstop_mega\u001b[0m=\u001b[1;36m140\u001b[0m\u001b[1;36m.0\u001b[0m, \n",
       "\u001b[33mdtype\u001b[0m=\u001b[32m'dBm'\u001b[0m, \u001b[33mndata\u001b[0m=\u001b[1;36m3584\u001b[0m, \u001b[33mbw\u001b[0m=\u001b[1;36m52\u001b[0m, \u001b[33mprocessing\u001b[0m=\u001b[32m'average'\u001b[0m, \u001b[33mantuid\u001b[0m=\u001b[1;36m0\u001b[0m, \u001b[33mthresh\u001b[0m=\u001b[1;36m-90\u001b[0m, \u001b[33mminimum\u001b[0m=\u001b[1;36m-147.5\u001b[0m\u001b[1m)\u001b[0m, \n",
       "\u001b[1;35mSpecData\u001b[0m\u001b[1m(\u001b[0m\u001b[33mtype\u001b[0m=\u001b[1;36m64\u001b[0m, \u001b[33mthread_id\u001b[0m=\u001b[1;36m14\u001b[0m, \u001b[33mdescription\u001b[0m=\u001b[32m'Peak'\u001b[0m, \u001b[33mstart_mega\u001b[0m=\u001b[1;36m105\u001b[0m\u001b[1;36m.0\u001b[0m, \u001b[33mstop_mega\u001b[0m=\u001b[1;36m140\u001b[0m\u001b[1;36m.0\u001b[0m, \n",
       "\u001b[33mdtype\u001b[0m=\u001b[32m'dBm'\u001b[0m, \u001b[33mndata\u001b[0m=\u001b[1;36m3584\u001b[0m, \u001b[33mbw\u001b[0m=\u001b[1;36m54\u001b[0m, \u001b[33mprocessing\u001b[0m=\u001b[32m'average'\u001b[0m, \u001b[33mantuid\u001b[0m=\u001b[1;36m0\u001b[0m, \u001b[33mthresh\u001b[0m=\u001b[1;36m-90\u001b[0m, \u001b[33mminimum\u001b[0m=\u001b[1;36m-147.5\u001b[0m\u001b[1m)\u001b[0m, \n",
       "\u001b[1;35mSpecData\u001b[0m\u001b[1m(\u001b[0m\u001b[33mtype\u001b[0m=\u001b[1;36m64\u001b[0m, \u001b[33mthread_id\u001b[0m=\u001b[1;36m14\u001b[0m, \u001b[33mdescription\u001b[0m=\u001b[32m'Peak'\u001b[0m, \u001b[33mstart_mega\u001b[0m=\u001b[1;36m105\u001b[0m\u001b[1;36m.0\u001b[0m, \u001b[33mstop_mega\u001b[0m=\u001b[1;36m140\u001b[0m\u001b[1;36m.0\u001b[0m, \n",
       "\u001b[33mdtype\u001b[0m=\u001b[32m'dBm'\u001b[0m, \u001b[33mndata\u001b[0m=\u001b[1;36m3584\u001b[0m, \u001b[33mbw\u001b[0m=\u001b[1;36m42\u001b[0m, \u001b[33mprocessing\u001b[0m=\u001b[32m'average'\u001b[0m, \u001b[33mantuid\u001b[0m=\u001b[1;36m0\u001b[0m, \u001b[33mthresh\u001b[0m=\u001b[1;36m-90\u001b[0m, \u001b[33mminimum\u001b[0m=\u001b[1;36m-147.5\u001b[0m\u001b[1m)\u001b[0m, \n",
       "\u001b[1;35mSpecData\u001b[0m\u001b[1m(\u001b[0m\u001b[33mtype\u001b[0m=\u001b[1;36m64\u001b[0m, \u001b[33mthread_id\u001b[0m=\u001b[1;36m14\u001b[0m, \u001b[33mdescription\u001b[0m=\u001b[32m'Peak'\u001b[0m, \u001b[33mstart_mega\u001b[0m=\u001b[1;36m105\u001b[0m\u001b[1;36m.0\u001b[0m, \u001b[33mstop_mega\u001b[0m=\u001b[1;36m140\u001b[0m\u001b[1;36m.0\u001b[0m, \n",
       "\u001b[33mdtype\u001b[0m=\u001b[32m'dBm'\u001b[0m, \u001b[33mndata\u001b[0m=\u001b[1;36m3584\u001b[0m, \u001b[33mbw\u001b[0m=\u001b[1;36m37\u001b[0m, \u001b[33mprocessing\u001b[0m=\u001b[32m'average'\u001b[0m, \u001b[33mantuid\u001b[0m=\u001b[1;36m0\u001b[0m, \u001b[33mthresh\u001b[0m=\u001b[1;36m-90\u001b[0m, \u001b[33mminimum\u001b[0m=\u001b[1;36m-147.5\u001b[0m\u001b[1m)\u001b[0m, \n",
       "\u001b[1;35mSpecData\u001b[0m\u001b[1m(\u001b[0m\u001b[33mtype\u001b[0m=\u001b[1;36m64\u001b[0m, \u001b[33mthread_id\u001b[0m=\u001b[1;36m14\u001b[0m, \u001b[33mdescription\u001b[0m=\u001b[32m'Peak'\u001b[0m, \u001b[33mstart_mega\u001b[0m=\u001b[1;36m105\u001b[0m\u001b[1;36m.0\u001b[0m, \u001b[33mstop_mega\u001b[0m=\u001b[1;36m140\u001b[0m\u001b[1;36m.0\u001b[0m, \n",
       "\u001b[33mdtype\u001b[0m=\u001b[32m'dBm'\u001b[0m, \u001b[33mndata\u001b[0m=\u001b[1;36m3584\u001b[0m, \u001b[33mbw\u001b[0m=\u001b[1;36m53\u001b[0m, \u001b[33mprocessing\u001b[0m=\u001b[32m'average'\u001b[0m, \u001b[33mantuid\u001b[0m=\u001b[1;36m0\u001b[0m, \u001b[33mthresh\u001b[0m=\u001b[1;36m-90\u001b[0m, \u001b[33mminimum\u001b[0m=\u001b[1;36m-147.5\u001b[0m\u001b[1m)\u001b[0m, \n",
       "\u001b[1;35mSpecData\u001b[0m\u001b[1m(\u001b[0m\u001b[33mtype\u001b[0m=\u001b[1;36m64\u001b[0m, \u001b[33mthread_id\u001b[0m=\u001b[1;36m14\u001b[0m, \u001b[33mdescription\u001b[0m=\u001b[32m'Peak'\u001b[0m, \u001b[33mstart_mega\u001b[0m=\u001b[1;36m105\u001b[0m\u001b[1;36m.0\u001b[0m, \u001b[33mstop_mega\u001b[0m=\u001b[1;36m140\u001b[0m\u001b[1;36m.0\u001b[0m, \n",
       "\u001b[33mdtype\u001b[0m=\u001b[32m'dBm'\u001b[0m, \u001b[33mndata\u001b[0m=\u001b[1;36m3584\u001b[0m, \u001b[33mbw\u001b[0m=\u001b[1;36m45\u001b[0m, \u001b[33mprocessing\u001b[0m=\u001b[32m'average'\u001b[0m, \u001b[33mantuid\u001b[0m=\u001b[1;36m0\u001b[0m, \u001b[33mthresh\u001b[0m=\u001b[1;36m-90\u001b[0m, \u001b[33mminimum\u001b[0m=\u001b[1;36m-147.5\u001b[0m\u001b[1m)\u001b[0m, \n",
       "\u001b[1;35mSpecData\u001b[0m\u001b[1m(\u001b[0m\u001b[33mtype\u001b[0m=\u001b[1;36m64\u001b[0m, \u001b[33mthread_id\u001b[0m=\u001b[1;36m14\u001b[0m, \u001b[33mdescription\u001b[0m=\u001b[32m'Peak'\u001b[0m, \u001b[33mstart_mega\u001b[0m=\u001b[1;36m105\u001b[0m\u001b[1;36m.0\u001b[0m, \u001b[33mstop_mega\u001b[0m=\u001b[1;36m140\u001b[0m\u001b[1;36m.0\u001b[0m, \n",
       "\u001b[33mdtype\u001b[0m=\u001b[32m'dBm'\u001b[0m, \u001b[33mndata\u001b[0m=\u001b[1;36m3584\u001b[0m, \u001b[33mbw\u001b[0m=\u001b[1;36m55\u001b[0m, \u001b[33mprocessing\u001b[0m=\u001b[32m'average'\u001b[0m, \u001b[33mantuid\u001b[0m=\u001b[1;36m0\u001b[0m, \u001b[33mthresh\u001b[0m=\u001b[1;36m-90\u001b[0m, \u001b[33mminimum\u001b[0m=\u001b[1;36m-147.5\u001b[0m\u001b[1m)\u001b[0m, \n",
       "\u001b[1;35mSpecData\u001b[0m\u001b[1m(\u001b[0m\u001b[33mtype\u001b[0m=\u001b[1;36m64\u001b[0m, \u001b[33mthread_id\u001b[0m=\u001b[1;36m14\u001b[0m, \u001b[33mdescription\u001b[0m=\u001b[32m'Peak'\u001b[0m, \u001b[33mstart_mega\u001b[0m=\u001b[1;36m105\u001b[0m\u001b[1;36m.0\u001b[0m, \u001b[33mstop_mega\u001b[0m=\u001b[1;36m140\u001b[0m\u001b[1;36m.0\u001b[0m, \n",
       "\u001b[33mdtype\u001b[0m=\u001b[32m'dBm'\u001b[0m, \u001b[33mndata\u001b[0m=\u001b[1;36m3584\u001b[0m, \u001b[33mbw\u001b[0m=\u001b[1;36m58\u001b[0m, \u001b[33mprocessing\u001b[0m=\u001b[32m'average'\u001b[0m, \u001b[33mantuid\u001b[0m=\u001b[1;36m0\u001b[0m, \u001b[33mthresh\u001b[0m=\u001b[1;36m-90\u001b[0m, \u001b[33mminimum\u001b[0m=\u001b[1;36m-147.5\u001b[0m\u001b[1m)\u001b[0m, \n",
       "\u001b[1;35mSpecData\u001b[0m\u001b[1m(\u001b[0m\u001b[33mtype\u001b[0m=\u001b[1;36m64\u001b[0m, \u001b[33mthread_id\u001b[0m=\u001b[1;36m14\u001b[0m, \u001b[33mdescription\u001b[0m=\u001b[32m'Peak'\u001b[0m, \u001b[33mstart_mega\u001b[0m=\u001b[1;36m105\u001b[0m\u001b[1;36m.0\u001b[0m, \u001b[33mstop_mega\u001b[0m=\u001b[1;36m140\u001b[0m\u001b[1;36m.0\u001b[0m, \n",
       "\u001b[33mdtype\u001b[0m=\u001b[32m'dBm'\u001b[0m, \u001b[33mndata\u001b[0m=\u001b[1;36m3584\u001b[0m, \u001b[33mbw\u001b[0m=\u001b[1;36m39\u001b[0m, \u001b[33mprocessing\u001b[0m=\u001b[32m'average'\u001b[0m, \u001b[33mantuid\u001b[0m=\u001b[1;36m0\u001b[0m, \u001b[33mthresh\u001b[0m=\u001b[1;36m-90\u001b[0m, \u001b[33mminimum\u001b[0m=\u001b[1;36m-147.5\u001b[0m\u001b[1m)\u001b[0m\u001b[1m]\u001b[0m\n",
       "\u001b[1m}\u001b[0m\n"
      ]
     },
     "metadata": {},
     "output_type": "display_data"
    }
   ],
   "source": [
    "file = r'binfiles\\v4\\rfeye002292_210208_T202215_CRFSBINv.4.bin'\n",
    "blocks = parse_bin(file)\n",
    "print(blocks)"
   ]
  },
  {
   "cell_type": "code",
   "execution_count": null,
   "metadata": {},
   "outputs": [
    {
     "data": {
      "text/html": [
       "<div>\n",
       "<style scoped>\n",
       "    .dataframe tbody tr th:only-of-type {\n",
       "        vertical-align: middle;\n",
       "    }\n",
       "\n",
       "    .dataframe tbody tr th {\n",
       "        vertical-align: top;\n",
       "    }\n",
       "\n",
       "    .dataframe thead th {\n",
       "        text-align: right;\n",
       "    }\n",
       "</style>\n",
       "<table border=\"1\" class=\"dataframe\">\n",
       "  <thead>\n",
       "    <tr style=\"text-align: right;\">\n",
       "      <th>Frequencies</th>\n",
       "      <th>76.000000</th>\n",
       "      <th>76.003907</th>\n",
       "      <th>76.007813</th>\n",
       "      <th>107.992187</th>\n",
       "      <th>107.996093</th>\n",
       "      <th>108.000000</th>\n",
       "    </tr>\n",
       "    <tr>\n",
       "      <th>Time</th>\n",
       "      <th></th>\n",
       "      <th></th>\n",
       "      <th></th>\n",
       "      <th></th>\n",
       "      <th></th>\n",
       "      <th></th>\n",
       "    </tr>\n",
       "  </thead>\n",
       "  <tbody>\n",
       "    <tr>\n",
       "      <th>2021-02-08 20:22:15.500658</th>\n",
       "      <td>-110.0</td>\n",
       "      <td>-100.5</td>\n",
       "      <td>-99.0</td>\n",
       "      <td>-103.0</td>\n",
       "      <td>-99.0</td>\n",
       "      <td>-96.0</td>\n",
       "    </tr>\n",
       "    <tr>\n",
       "      <th>2021-02-08 20:22:16.142770</th>\n",
       "      <td>-105.5</td>\n",
       "      <td>-100.0</td>\n",
       "      <td>-97.5</td>\n",
       "      <td>-94.5</td>\n",
       "      <td>-95.0</td>\n",
       "      <td>-98.0</td>\n",
       "    </tr>\n",
       "    <tr>\n",
       "      <th>2021-02-08 20:22:16.500750</th>\n",
       "      <td>-104.0</td>\n",
       "      <td>-102.5</td>\n",
       "      <td>-105.5</td>\n",
       "      <td>-95.5</td>\n",
       "      <td>-98.5</td>\n",
       "      <td>-93.0</td>\n",
       "    </tr>\n",
       "    <tr>\n",
       "      <th>2021-02-08 20:22:17.132990</th>\n",
       "      <td>-105.0</td>\n",
       "      <td>-107.0</td>\n",
       "      <td>-103.0</td>\n",
       "      <td>-99.5</td>\n",
       "      <td>-99.5</td>\n",
       "      <td>-102.5</td>\n",
       "    </tr>\n",
       "    <tr>\n",
       "      <th>2021-02-08 20:22:17.501352</th>\n",
       "      <td>-97.5</td>\n",
       "      <td>-101.5</td>\n",
       "      <td>-97.0</td>\n",
       "      <td>-104.5</td>\n",
       "      <td>-102.0</td>\n",
       "      <td>-99.5</td>\n",
       "    </tr>\n",
       "  </tbody>\n",
       "</table>\n",
       "</div>"
      ],
      "text/plain": [
       "Frequencies                 76.000000   76.003907   76.007813   107.992187  \\\n",
       "Time                                                                         \n",
       "2021-02-08 20:22:15.500658      -110.0      -100.5       -99.0      -103.0   \n",
       "2021-02-08 20:22:16.142770      -105.5      -100.0       -97.5       -94.5   \n",
       "2021-02-08 20:22:16.500750      -104.0      -102.5      -105.5       -95.5   \n",
       "2021-02-08 20:22:17.132990      -105.0      -107.0      -103.0       -99.5   \n",
       "2021-02-08 20:22:17.501352       -97.5      -101.5       -97.0      -104.5   \n",
       "\n",
       "Frequencies                 107.996093  108.000000  \n",
       "Time                                                \n",
       "2021-02-08 20:22:15.500658       -99.0       -96.0  \n",
       "2021-02-08 20:22:16.142770       -95.0       -98.0  \n",
       "2021-02-08 20:22:16.500750       -98.5       -93.0  \n",
       "2021-02-08 20:22:17.132990       -99.5      -102.5  \n",
       "2021-02-08 20:22:17.501352      -102.0       -99.5  "
      ]
     },
     "execution_count": null,
     "metadata": {},
     "output_type": "execute_result"
    }
   ],
   "source": [
    "blocks['spectrum'][0].matrix().iloc[:5, [0, 1, 2, -3, -2, -1]]"
   ]
  },
  {
   "cell_type": "markdown",
   "metadata": {},
   "source": [
    "### CRFS Bin - Versão 3"
   ]
  },
  {
   "cell_type": "code",
   "execution_count": null,
   "metadata": {},
   "outputs": [
    {
     "data": {
      "text/html": [
       "<pre style=\"white-space:pre;overflow-x:auto;line-height:normal;font-family:Menlo,'DejaVu Sans Mono',consolas,'Courier New',monospace\"><span style=\"font-weight: bold\">{</span>\n",
       "    <span style=\"color: #008000; text-decoration-color: #008000\">'filename'</span>: <span style=\"color: #008000; text-decoration-color: #008000\">'rfeye002292_210208_T203238_CRFSBINv.3.bin'</span>,\n",
       "    <span style=\"color: #008000; text-decoration-color: #008000\">'file_version'</span>: <span style=\"color: #008080; text-decoration-color: #008080; font-weight: bold\">21</span>,\n",
       "    <span style=\"color: #008000; text-decoration-color: #008000\">'string'</span>: <span style=\"color: #008000; text-decoration-color: #008000\">'CRFS DATA FILE V021'</span>,\n",
       "    <span style=\"color: #008000; text-decoration-color: #008000\">'hostname'</span>: <span style=\"color: #008000; text-decoration-color: #008000\">'rfeye002292'</span>,\n",
       "    <span style=\"color: #008000; text-decoration-color: #008000\">'method'</span>: <span style=\"color: #008000; text-decoration-color: #008000\">'Script_CRFSBINv3'</span>,\n",
       "    <span style=\"color: #008000; text-decoration-color: #008000\">'unit_info'</span>: <span style=\"color: #008000; text-decoration-color: #008000\">'Stationary'</span>,\n",
       "    <span style=\"color: #008000; text-decoration-color: #008000\">'file_number'</span>: <span style=\"color: #008080; text-decoration-color: #008080; font-weight: bold\">0</span>,\n",
       "    <span style=\"color: #008000; text-decoration-color: #008000\">'identifier'</span>: <span style=\"color: #008000; text-decoration-color: #008000\">'LOGGER_VERSION'</span>,\n",
       "    <span style=\"color: #008000; text-decoration-color: #008000\">'gps'</span>: GPS Data - Median of Coordinates: <span style=\"color: #008080; text-decoration-color: #008080; font-weight: bold\">-14.81416</span>:<span style=\"color: #008080; text-decoration-color: #008080; font-weight: bold\">-39.03184</span> Altitude: <span style=\"color: #008080; text-decoration-color: #008080; font-weight: bold\">15.50</span> #Satellites:\n",
       "<span style=\"color: #008080; text-decoration-color: #008080; font-weight: bold\">11.0</span>,\n",
       "    <span style=\"color: #008000; text-decoration-color: #008000\">'spectrum'</span>: <span style=\"font-weight: bold\">[</span><span style=\"color: #800080; text-decoration-color: #800080; font-weight: bold\">SpecData</span><span style=\"font-weight: bold\">(</span><span style=\"color: #808000; text-decoration-color: #808000\">type</span>=<span style=\"color: #008080; text-decoration-color: #008080; font-weight: bold\">60</span>, <span style=\"color: #808000; text-decoration-color: #808000\">thread_id</span>=<span style=\"color: #008080; text-decoration-color: #008080; font-weight: bold\">10</span>, <span style=\"color: #808000; text-decoration-color: #808000\">start_mega</span>=<span style=\"color: #008080; text-decoration-color: #008080; font-weight: bold\">105</span>, <span style=\"color: #808000; text-decoration-color: #808000\">stop_mega</span>=<span style=\"color: #008080; text-decoration-color: #008080; font-weight: bold\">140</span>, <span style=\"color: #808000; text-decoration-color: #808000\">ndata</span>=<span style=\"color: #008080; text-decoration-color: #008080; font-weight: bold\">3584</span>, \n",
       "<span style=\"color: #808000; text-decoration-color: #808000\">nloops</span>=<span style=\"color: #008080; text-decoration-color: #008080; font-weight: bold\">1</span>, <span style=\"color: #808000; text-decoration-color: #808000\">processing</span>=<span style=\"color: #008000; text-decoration-color: #008000\">'peak'</span>, <span style=\"color: #808000; text-decoration-color: #808000\">antuid</span>=<span style=\"color: #008080; text-decoration-color: #008080; font-weight: bold\">0</span>, <span style=\"color: #808000; text-decoration-color: #808000\">minimum</span>=<span style=\"color: #008080; text-decoration-color: #008080; font-weight: bold\">-147.5</span><span style=\"font-weight: bold\">)</span>, <span style=\"color: #800080; text-decoration-color: #800080; font-weight: bold\">SpecData</span><span style=\"font-weight: bold\">(</span><span style=\"color: #808000; text-decoration-color: #808000\">type</span>=<span style=\"color: #008080; text-decoration-color: #008080; font-weight: bold\">60</span>, <span style=\"color: #808000; text-decoration-color: #808000\">thread_id</span>=<span style=\"color: #008080; text-decoration-color: #008080; font-weight: bold\">11</span>, \n",
       "<span style=\"color: #808000; text-decoration-color: #808000\">start_mega</span>=<span style=\"color: #008080; text-decoration-color: #008080; font-weight: bold\">105</span>, <span style=\"color: #808000; text-decoration-color: #808000\">stop_mega</span>=<span style=\"color: #008080; text-decoration-color: #008080; font-weight: bold\">140</span>, <span style=\"color: #808000; text-decoration-color: #808000\">ndata</span>=<span style=\"color: #008080; text-decoration-color: #008080; font-weight: bold\">3584</span>, <span style=\"color: #808000; text-decoration-color: #808000\">nloops</span>=<span style=\"color: #008080; text-decoration-color: #008080; font-weight: bold\">1</span>, <span style=\"color: #808000; text-decoration-color: #808000\">processing</span>=<span style=\"color: #008000; text-decoration-color: #008000\">'average'</span>, <span style=\"color: #808000; text-decoration-color: #808000\">antuid</span>=<span style=\"color: #008080; text-decoration-color: #008080; font-weight: bold\">0</span>, \n",
       "<span style=\"color: #808000; text-decoration-color: #808000\">minimum</span>=<span style=\"color: #008080; text-decoration-color: #008080; font-weight: bold\">-147.5</span><span style=\"font-weight: bold\">)</span>, <span style=\"color: #800080; text-decoration-color: #800080; font-weight: bold\">SpecData</span><span style=\"font-weight: bold\">(</span><span style=\"color: #808000; text-decoration-color: #808000\">type</span>=<span style=\"color: #008080; text-decoration-color: #008080; font-weight: bold\">60</span>, <span style=\"color: #808000; text-decoration-color: #808000\">thread_id</span>=<span style=\"color: #008080; text-decoration-color: #008080; font-weight: bold\">20</span>, <span style=\"color: #808000; text-decoration-color: #808000\">start_mega</span>=<span style=\"color: #008080; text-decoration-color: #008080; font-weight: bold\">76</span>, <span style=\"color: #808000; text-decoration-color: #808000\">stop_mega</span>=<span style=\"color: #008080; text-decoration-color: #008080; font-weight: bold\">108</span>, <span style=\"color: #808000; text-decoration-color: #808000\">ndata</span>=<span style=\"color: #008080; text-decoration-color: #008080; font-weight: bold\">8192</span>, \n",
       "<span style=\"color: #808000; text-decoration-color: #808000\">nloops</span>=<span style=\"color: #008080; text-decoration-color: #008080; font-weight: bold\">1</span>, <span style=\"color: #808000; text-decoration-color: #808000\">processing</span>=<span style=\"color: #008000; text-decoration-color: #008000\">'peak'</span>, <span style=\"color: #808000; text-decoration-color: #808000\">antuid</span>=<span style=\"color: #008080; text-decoration-color: #008080; font-weight: bold\">0</span>, <span style=\"color: #808000; text-decoration-color: #808000\">minimum</span>=<span style=\"color: #008080; text-decoration-color: #008080; font-weight: bold\">-147.5</span><span style=\"font-weight: bold\">)</span>, <span style=\"color: #800080; text-decoration-color: #800080; font-weight: bold\">SpecData</span><span style=\"font-weight: bold\">(</span><span style=\"color: #808000; text-decoration-color: #808000\">type</span>=<span style=\"color: #008080; text-decoration-color: #008080; font-weight: bold\">60</span>, <span style=\"color: #808000; text-decoration-color: #808000\">thread_id</span>=<span style=\"color: #008080; text-decoration-color: #008080; font-weight: bold\">30</span>, \n",
       "<span style=\"color: #808000; text-decoration-color: #808000\">start_mega</span>=<span style=\"color: #008080; text-decoration-color: #008080; font-weight: bold\">70</span>, <span style=\"color: #808000; text-decoration-color: #808000\">stop_mega</span>=<span style=\"color: #008080; text-decoration-color: #008080; font-weight: bold\">110</span>, <span style=\"color: #808000; text-decoration-color: #808000\">ndata</span>=<span style=\"color: #008080; text-decoration-color: #008080; font-weight: bold\">1024</span>, <span style=\"color: #808000; text-decoration-color: #808000\">nloops</span>=<span style=\"color: #008080; text-decoration-color: #008080; font-weight: bold\">4</span>, <span style=\"color: #808000; text-decoration-color: #808000\">processing</span>=<span style=\"color: #008000; text-decoration-color: #008000\">'peak'</span>, <span style=\"color: #808000; text-decoration-color: #808000\">antuid</span>=<span style=\"color: #008080; text-decoration-color: #008080; font-weight: bold\">0</span>, \n",
       "<span style=\"color: #808000; text-decoration-color: #808000\">minimum</span>=<span style=\"color: #008080; text-decoration-color: #008080; font-weight: bold\">-147.5</span><span style=\"font-weight: bold\">)</span>, <span style=\"color: #800080; text-decoration-color: #800080; font-weight: bold\">SpecData</span><span style=\"font-weight: bold\">(</span><span style=\"color: #808000; text-decoration-color: #808000\">type</span>=<span style=\"color: #008080; text-decoration-color: #008080; font-weight: bold\">60</span>, <span style=\"color: #808000; text-decoration-color: #808000\">thread_id</span>=<span style=\"color: #008080; text-decoration-color: #008080; font-weight: bold\">12</span>, <span style=\"color: #808000; text-decoration-color: #808000\">start_mega</span>=<span style=\"color: #008080; text-decoration-color: #008080; font-weight: bold\">105</span>, <span style=\"color: #808000; text-decoration-color: #808000\">stop_mega</span>=<span style=\"color: #008080; text-decoration-color: #008080; font-weight: bold\">140</span>, <span style=\"color: #808000; text-decoration-color: #808000\">ndata</span>=<span style=\"color: #008080; text-decoration-color: #008080; font-weight: bold\">3584</span>, \n",
       "<span style=\"color: #808000; text-decoration-color: #808000\">nloops</span>=<span style=\"color: #008080; text-decoration-color: #008080; font-weight: bold\">1</span>, <span style=\"color: #808000; text-decoration-color: #808000\">processing</span>=<span style=\"color: #008000; text-decoration-color: #008000\">'peak'</span>, <span style=\"color: #808000; text-decoration-color: #808000\">antuid</span>=<span style=\"color: #008080; text-decoration-color: #008080; font-weight: bold\">0</span>, <span style=\"color: #808000; text-decoration-color: #808000\">minimum</span>=<span style=\"color: #008080; text-decoration-color: #008080; font-weight: bold\">-147.5</span><span style=\"font-weight: bold\">)</span>, <span style=\"color: #800080; text-decoration-color: #800080; font-weight: bold\">SpecData</span><span style=\"font-weight: bold\">(</span><span style=\"color: #808000; text-decoration-color: #808000\">type</span>=<span style=\"color: #008080; text-decoration-color: #008080; font-weight: bold\">60</span>, <span style=\"color: #808000; text-decoration-color: #808000\">thread_id</span>=<span style=\"color: #008080; text-decoration-color: #008080; font-weight: bold\">13</span>, \n",
       "<span style=\"color: #808000; text-decoration-color: #808000\">start_mega</span>=<span style=\"color: #008080; text-decoration-color: #008080; font-weight: bold\">105</span>, <span style=\"color: #808000; text-decoration-color: #808000\">stop_mega</span>=<span style=\"color: #008080; text-decoration-color: #008080; font-weight: bold\">140</span>, <span style=\"color: #808000; text-decoration-color: #808000\">ndata</span>=<span style=\"color: #008080; text-decoration-color: #008080; font-weight: bold\">3584</span>, <span style=\"color: #808000; text-decoration-color: #808000\">nloops</span>=<span style=\"color: #008080; text-decoration-color: #008080; font-weight: bold\">1</span>, <span style=\"color: #808000; text-decoration-color: #808000\">processing</span>=<span style=\"color: #008000; text-decoration-color: #008000\">'average'</span>, <span style=\"color: #808000; text-decoration-color: #808000\">antuid</span>=<span style=\"color: #008080; text-decoration-color: #008080; font-weight: bold\">0</span>, \n",
       "<span style=\"color: #808000; text-decoration-color: #808000\">minimum</span>=<span style=\"color: #008080; text-decoration-color: #008080; font-weight: bold\">-147.5</span><span style=\"font-weight: bold\">)</span>, <span style=\"color: #800080; text-decoration-color: #800080; font-weight: bold\">SpecData</span><span style=\"font-weight: bold\">(</span><span style=\"color: #808000; text-decoration-color: #808000\">type</span>=<span style=\"color: #008080; text-decoration-color: #008080; font-weight: bold\">61</span>, <span style=\"color: #808000; text-decoration-color: #808000\">thread_id</span>=<span style=\"color: #008080; text-decoration-color: #008080; font-weight: bold\">14</span>, <span style=\"color: #808000; text-decoration-color: #808000\">start_mega</span>=<span style=\"color: #008080; text-decoration-color: #008080; font-weight: bold\">105</span>, <span style=\"color: #808000; text-decoration-color: #808000\">stop_mega</span>=<span style=\"color: #008080; text-decoration-color: #008080; font-weight: bold\">140</span>, <span style=\"color: #808000; text-decoration-color: #808000\">ndata</span>=<span style=\"color: #008080; text-decoration-color: #008080; font-weight: bold\">3584</span>, \n",
       "<span style=\"color: #808000; text-decoration-color: #808000\">nloops</span>=<span style=\"color: #008080; text-decoration-color: #008080; font-weight: bold\">1</span>, <span style=\"color: #808000; text-decoration-color: #808000\">processing</span>=<span style=\"color: #008000; text-decoration-color: #008000\">'average'</span>, <span style=\"color: #808000; text-decoration-color: #808000\">antuid</span>=<span style=\"color: #008080; text-decoration-color: #008080; font-weight: bold\">0</span>, <span style=\"color: #808000; text-decoration-color: #808000\">thresh</span>=<span style=\"color: #008080; text-decoration-color: #008080; font-weight: bold\">-90</span>, <span style=\"color: #808000; text-decoration-color: #808000\">minimum</span>=<span style=\"color: #008080; text-decoration-color: #008080; font-weight: bold\">-147.5</span><span style=\"font-weight: bold\">)</span>, <span style=\"color: #800080; text-decoration-color: #800080; font-weight: bold\">SpecData</span><span style=\"font-weight: bold\">(</span><span style=\"color: #808000; text-decoration-color: #808000\">type</span>=<span style=\"color: #008080; text-decoration-color: #008080; font-weight: bold\">62</span>, \n",
       "<span style=\"color: #808000; text-decoration-color: #808000\">thread_id</span>=<span style=\"color: #008080; text-decoration-color: #008080; font-weight: bold\">15</span>, <span style=\"color: #808000; text-decoration-color: #808000\">start_mega</span>=<span style=\"color: #008080; text-decoration-color: #008080; font-weight: bold\">105000000</span>, <span style=\"color: #808000; text-decoration-color: #808000\">stop_mega</span>=<span style=\"color: #008080; text-decoration-color: #008080; font-weight: bold\">140000000</span>, <span style=\"color: #808000; text-decoration-color: #808000\">sampling</span>=<span style=\"color: #008080; text-decoration-color: #008080; font-weight: bold\">9</span>, <span style=\"color: #808000; text-decoration-color: #808000\">ndata</span>=<span style=\"color: #008080; text-decoration-color: #008080; font-weight: bold\">3584</span>, <span style=\"color: #808000; text-decoration-color: #808000\">antuid</span>=<span style=\"color: #008080; text-decoration-color: #008080; font-weight: bold\">0</span>, \n",
       "<span style=\"color: #808000; text-decoration-color: #808000\">thresh</span>=<span style=\"color: #008080; text-decoration-color: #008080; font-weight: bold\">-90</span><span style=\"font-weight: bold\">)</span>, <span style=\"color: #800080; text-decoration-color: #800080; font-weight: bold\">SpecData</span><span style=\"font-weight: bold\">(</span><span style=\"color: #808000; text-decoration-color: #808000\">type</span>=<span style=\"color: #008080; text-decoration-color: #008080; font-weight: bold\">62</span>, <span style=\"color: #808000; text-decoration-color: #808000\">thread_id</span>=<span style=\"color: #008080; text-decoration-color: #008080; font-weight: bold\">15</span>, <span style=\"color: #808000; text-decoration-color: #808000\">start_mega</span>=<span style=\"color: #008080; text-decoration-color: #008080; font-weight: bold\">105000000</span>, <span style=\"color: #808000; text-decoration-color: #808000\">stop_mega</span>=<span style=\"color: #008080; text-decoration-color: #008080; font-weight: bold\">140000000</span>, \n",
       "<span style=\"color: #808000; text-decoration-color: #808000\">sampling</span>=<span style=\"color: #008080; text-decoration-color: #008080; font-weight: bold\">10</span>, <span style=\"color: #808000; text-decoration-color: #808000\">ndata</span>=<span style=\"color: #008080; text-decoration-color: #008080; font-weight: bold\">3584</span>, <span style=\"color: #808000; text-decoration-color: #808000\">antuid</span>=<span style=\"color: #008080; text-decoration-color: #008080; font-weight: bold\">0</span>, <span style=\"color: #808000; text-decoration-color: #808000\">thresh</span>=<span style=\"color: #008080; text-decoration-color: #008080; font-weight: bold\">-90</span><span style=\"font-weight: bold\">)]</span>\n",
       "<span style=\"font-weight: bold\">}</span>\n",
       "</pre>\n"
      ],
      "text/plain": [
       "\u001b[1m{\u001b[0m\n",
       "    \u001b[32m'filename'\u001b[0m: \u001b[32m'rfeye002292_210208_T203238_CRFSBINv.3.bin'\u001b[0m,\n",
       "    \u001b[32m'file_version'\u001b[0m: \u001b[1;36m21\u001b[0m,\n",
       "    \u001b[32m'string'\u001b[0m: \u001b[32m'CRFS DATA FILE V021'\u001b[0m,\n",
       "    \u001b[32m'hostname'\u001b[0m: \u001b[32m'rfeye002292'\u001b[0m,\n",
       "    \u001b[32m'method'\u001b[0m: \u001b[32m'Script_CRFSBINv3'\u001b[0m,\n",
       "    \u001b[32m'unit_info'\u001b[0m: \u001b[32m'Stationary'\u001b[0m,\n",
       "    \u001b[32m'file_number'\u001b[0m: \u001b[1;36m0\u001b[0m,\n",
       "    \u001b[32m'identifier'\u001b[0m: \u001b[32m'LOGGER_VERSION'\u001b[0m,\n",
       "    \u001b[32m'gps'\u001b[0m: GPS Data - Median of Coordinates: \u001b[1;36m-14.81416\u001b[0m:\u001b[1;36m-39.03184\u001b[0m Altitude: \u001b[1;36m15.50\u001b[0m #Satellites:\n",
       "\u001b[1;36m11.0\u001b[0m,\n",
       "    \u001b[32m'spectrum'\u001b[0m: \u001b[1m[\u001b[0m\u001b[1;35mSpecData\u001b[0m\u001b[1m(\u001b[0m\u001b[33mtype\u001b[0m=\u001b[1;36m60\u001b[0m, \u001b[33mthread_id\u001b[0m=\u001b[1;36m10\u001b[0m, \u001b[33mstart_mega\u001b[0m=\u001b[1;36m105\u001b[0m, \u001b[33mstop_mega\u001b[0m=\u001b[1;36m140\u001b[0m, \u001b[33mndata\u001b[0m=\u001b[1;36m3584\u001b[0m, \n",
       "\u001b[33mnloops\u001b[0m=\u001b[1;36m1\u001b[0m, \u001b[33mprocessing\u001b[0m=\u001b[32m'peak'\u001b[0m, \u001b[33mantuid\u001b[0m=\u001b[1;36m0\u001b[0m, \u001b[33mminimum\u001b[0m=\u001b[1;36m-147.5\u001b[0m\u001b[1m)\u001b[0m, \u001b[1;35mSpecData\u001b[0m\u001b[1m(\u001b[0m\u001b[33mtype\u001b[0m=\u001b[1;36m60\u001b[0m, \u001b[33mthread_id\u001b[0m=\u001b[1;36m11\u001b[0m, \n",
       "\u001b[33mstart_mega\u001b[0m=\u001b[1;36m105\u001b[0m, \u001b[33mstop_mega\u001b[0m=\u001b[1;36m140\u001b[0m, \u001b[33mndata\u001b[0m=\u001b[1;36m3584\u001b[0m, \u001b[33mnloops\u001b[0m=\u001b[1;36m1\u001b[0m, \u001b[33mprocessing\u001b[0m=\u001b[32m'average'\u001b[0m, \u001b[33mantuid\u001b[0m=\u001b[1;36m0\u001b[0m, \n",
       "\u001b[33mminimum\u001b[0m=\u001b[1;36m-147.5\u001b[0m\u001b[1m)\u001b[0m, \u001b[1;35mSpecData\u001b[0m\u001b[1m(\u001b[0m\u001b[33mtype\u001b[0m=\u001b[1;36m60\u001b[0m, \u001b[33mthread_id\u001b[0m=\u001b[1;36m20\u001b[0m, \u001b[33mstart_mega\u001b[0m=\u001b[1;36m76\u001b[0m, \u001b[33mstop_mega\u001b[0m=\u001b[1;36m108\u001b[0m, \u001b[33mndata\u001b[0m=\u001b[1;36m8192\u001b[0m, \n",
       "\u001b[33mnloops\u001b[0m=\u001b[1;36m1\u001b[0m, \u001b[33mprocessing\u001b[0m=\u001b[32m'peak'\u001b[0m, \u001b[33mantuid\u001b[0m=\u001b[1;36m0\u001b[0m, \u001b[33mminimum\u001b[0m=\u001b[1;36m-147.5\u001b[0m\u001b[1m)\u001b[0m, \u001b[1;35mSpecData\u001b[0m\u001b[1m(\u001b[0m\u001b[33mtype\u001b[0m=\u001b[1;36m60\u001b[0m, \u001b[33mthread_id\u001b[0m=\u001b[1;36m30\u001b[0m, \n",
       "\u001b[33mstart_mega\u001b[0m=\u001b[1;36m70\u001b[0m, \u001b[33mstop_mega\u001b[0m=\u001b[1;36m110\u001b[0m, \u001b[33mndata\u001b[0m=\u001b[1;36m1024\u001b[0m, \u001b[33mnloops\u001b[0m=\u001b[1;36m4\u001b[0m, \u001b[33mprocessing\u001b[0m=\u001b[32m'peak'\u001b[0m, \u001b[33mantuid\u001b[0m=\u001b[1;36m0\u001b[0m, \n",
       "\u001b[33mminimum\u001b[0m=\u001b[1;36m-147.5\u001b[0m\u001b[1m)\u001b[0m, \u001b[1;35mSpecData\u001b[0m\u001b[1m(\u001b[0m\u001b[33mtype\u001b[0m=\u001b[1;36m60\u001b[0m, \u001b[33mthread_id\u001b[0m=\u001b[1;36m12\u001b[0m, \u001b[33mstart_mega\u001b[0m=\u001b[1;36m105\u001b[0m, \u001b[33mstop_mega\u001b[0m=\u001b[1;36m140\u001b[0m, \u001b[33mndata\u001b[0m=\u001b[1;36m3584\u001b[0m, \n",
       "\u001b[33mnloops\u001b[0m=\u001b[1;36m1\u001b[0m, \u001b[33mprocessing\u001b[0m=\u001b[32m'peak'\u001b[0m, \u001b[33mantuid\u001b[0m=\u001b[1;36m0\u001b[0m, \u001b[33mminimum\u001b[0m=\u001b[1;36m-147.5\u001b[0m\u001b[1m)\u001b[0m, \u001b[1;35mSpecData\u001b[0m\u001b[1m(\u001b[0m\u001b[33mtype\u001b[0m=\u001b[1;36m60\u001b[0m, \u001b[33mthread_id\u001b[0m=\u001b[1;36m13\u001b[0m, \n",
       "\u001b[33mstart_mega\u001b[0m=\u001b[1;36m105\u001b[0m, \u001b[33mstop_mega\u001b[0m=\u001b[1;36m140\u001b[0m, \u001b[33mndata\u001b[0m=\u001b[1;36m3584\u001b[0m, \u001b[33mnloops\u001b[0m=\u001b[1;36m1\u001b[0m, \u001b[33mprocessing\u001b[0m=\u001b[32m'average'\u001b[0m, \u001b[33mantuid\u001b[0m=\u001b[1;36m0\u001b[0m, \n",
       "\u001b[33mminimum\u001b[0m=\u001b[1;36m-147.5\u001b[0m\u001b[1m)\u001b[0m, \u001b[1;35mSpecData\u001b[0m\u001b[1m(\u001b[0m\u001b[33mtype\u001b[0m=\u001b[1;36m61\u001b[0m, \u001b[33mthread_id\u001b[0m=\u001b[1;36m14\u001b[0m, \u001b[33mstart_mega\u001b[0m=\u001b[1;36m105\u001b[0m, \u001b[33mstop_mega\u001b[0m=\u001b[1;36m140\u001b[0m, \u001b[33mndata\u001b[0m=\u001b[1;36m3584\u001b[0m, \n",
       "\u001b[33mnloops\u001b[0m=\u001b[1;36m1\u001b[0m, \u001b[33mprocessing\u001b[0m=\u001b[32m'average'\u001b[0m, \u001b[33mantuid\u001b[0m=\u001b[1;36m0\u001b[0m, \u001b[33mthresh\u001b[0m=\u001b[1;36m-90\u001b[0m, \u001b[33mminimum\u001b[0m=\u001b[1;36m-147.5\u001b[0m\u001b[1m)\u001b[0m, \u001b[1;35mSpecData\u001b[0m\u001b[1m(\u001b[0m\u001b[33mtype\u001b[0m=\u001b[1;36m62\u001b[0m, \n",
       "\u001b[33mthread_id\u001b[0m=\u001b[1;36m15\u001b[0m, \u001b[33mstart_mega\u001b[0m=\u001b[1;36m105000000\u001b[0m, \u001b[33mstop_mega\u001b[0m=\u001b[1;36m140000000\u001b[0m, \u001b[33msampling\u001b[0m=\u001b[1;36m9\u001b[0m, \u001b[33mndata\u001b[0m=\u001b[1;36m3584\u001b[0m, \u001b[33mantuid\u001b[0m=\u001b[1;36m0\u001b[0m, \n",
       "\u001b[33mthresh\u001b[0m=\u001b[1;36m-90\u001b[0m\u001b[1m)\u001b[0m, \u001b[1;35mSpecData\u001b[0m\u001b[1m(\u001b[0m\u001b[33mtype\u001b[0m=\u001b[1;36m62\u001b[0m, \u001b[33mthread_id\u001b[0m=\u001b[1;36m15\u001b[0m, \u001b[33mstart_mega\u001b[0m=\u001b[1;36m105000000\u001b[0m, \u001b[33mstop_mega\u001b[0m=\u001b[1;36m140000000\u001b[0m, \n",
       "\u001b[33msampling\u001b[0m=\u001b[1;36m10\u001b[0m, \u001b[33mndata\u001b[0m=\u001b[1;36m3584\u001b[0m, \u001b[33mantuid\u001b[0m=\u001b[1;36m0\u001b[0m, \u001b[33mthresh\u001b[0m=\u001b[1;36m-90\u001b[0m\u001b[1m)\u001b[0m\u001b[1m]\u001b[0m\n",
       "\u001b[1m}\u001b[0m\n"
      ]
     },
     "metadata": {},
     "output_type": "display_data"
    }
   ],
   "source": [
    "file = r'binfiles\\v3\\rfeye002292_210208_T203238_CRFSBINv.3.bin'\n",
    "blocks = parse_bin(file)\n",
    "print(blocks)"
   ]
  },
  {
   "cell_type": "code",
   "execution_count": null,
   "metadata": {},
   "outputs": [
    {
     "data": {
      "text/html": [
       "<div>\n",
       "<style scoped>\n",
       "    .dataframe tbody tr th:only-of-type {\n",
       "        vertical-align: middle;\n",
       "    }\n",
       "\n",
       "    .dataframe tbody tr th {\n",
       "        vertical-align: top;\n",
       "    }\n",
       "\n",
       "    .dataframe thead th {\n",
       "        text-align: right;\n",
       "    }\n",
       "</style>\n",
       "<table border=\"1\" class=\"dataframe\">\n",
       "  <thead>\n",
       "    <tr style=\"text-align: right;\">\n",
       "      <th>Frequencies</th>\n",
       "      <th>105.000000</th>\n",
       "      <th>105.009768</th>\n",
       "      <th>105.019537</th>\n",
       "      <th>139.980463</th>\n",
       "      <th>139.990232</th>\n",
       "      <th>140.000000</th>\n",
       "    </tr>\n",
       "    <tr>\n",
       "      <th>Time</th>\n",
       "      <th></th>\n",
       "      <th></th>\n",
       "      <th></th>\n",
       "      <th></th>\n",
       "      <th></th>\n",
       "      <th></th>\n",
       "    </tr>\n",
       "  </thead>\n",
       "  <tbody>\n",
       "    <tr>\n",
       "      <th>2021-02-08 20:32:39.548000</th>\n",
       "      <td>-76.5</td>\n",
       "      <td>-76.0</td>\n",
       "      <td>-76.5</td>\n",
       "      <td>-94.5</td>\n",
       "      <td>-91.0</td>\n",
       "      <td>-90.0</td>\n",
       "    </tr>\n",
       "    <tr>\n",
       "      <th>2021-02-08 20:32:40.133600</th>\n",
       "      <td>-79.5</td>\n",
       "      <td>-80.5</td>\n",
       "      <td>-79.5</td>\n",
       "      <td>-99.0</td>\n",
       "      <td>-94.5</td>\n",
       "      <td>-92.5</td>\n",
       "    </tr>\n",
       "    <tr>\n",
       "      <th>2021-02-08 20:32:41.858000</th>\n",
       "      <td>-69.0</td>\n",
       "      <td>-69.0</td>\n",
       "      <td>-69.0</td>\n",
       "      <td>-97.5</td>\n",
       "      <td>-92.5</td>\n",
       "      <td>-90.0</td>\n",
       "    </tr>\n",
       "    <tr>\n",
       "      <th>2021-02-08 20:32:42.137500</th>\n",
       "      <td>-70.5</td>\n",
       "      <td>-71.0</td>\n",
       "      <td>-71.5</td>\n",
       "      <td>-97.0</td>\n",
       "      <td>-98.0</td>\n",
       "      <td>-94.5</td>\n",
       "    </tr>\n",
       "    <tr>\n",
       "      <th>2021-02-08 20:32:43.716000</th>\n",
       "      <td>-71.0</td>\n",
       "      <td>-69.5</td>\n",
       "      <td>-70.0</td>\n",
       "      <td>-97.0</td>\n",
       "      <td>-89.0</td>\n",
       "      <td>-87.0</td>\n",
       "    </tr>\n",
       "  </tbody>\n",
       "</table>\n",
       "</div>"
      ],
      "text/plain": [
       "Frequencies                 105.000000  105.009768  105.019537  139.980463  \\\n",
       "Time                                                                         \n",
       "2021-02-08 20:32:39.548000       -76.5       -76.0       -76.5       -94.5   \n",
       "2021-02-08 20:32:40.133600       -79.5       -80.5       -79.5       -99.0   \n",
       "2021-02-08 20:32:41.858000       -69.0       -69.0       -69.0       -97.5   \n",
       "2021-02-08 20:32:42.137500       -70.5       -71.0       -71.5       -97.0   \n",
       "2021-02-08 20:32:43.716000       -71.0       -69.5       -70.0       -97.0   \n",
       "\n",
       "Frequencies                 139.990232  140.000000  \n",
       "Time                                                \n",
       "2021-02-08 20:32:39.548000       -91.0       -90.0  \n",
       "2021-02-08 20:32:40.133600       -94.5       -92.5  \n",
       "2021-02-08 20:32:41.858000       -92.5       -90.0  \n",
       "2021-02-08 20:32:42.137500       -98.0       -94.5  \n",
       "2021-02-08 20:32:43.716000       -89.0       -87.0  "
      ]
     },
     "execution_count": null,
     "metadata": {},
     "output_type": "execute_result"
    }
   ],
   "source": [
    "blocks['spectrum'][0].matrix().iloc[:5, [0, 1, 2, -3, -2, -1]]"
   ]
  },
  {
   "cell_type": "markdown",
   "metadata": {},
   "source": [
    "### CRFS Bin Versão 2"
   ]
  },
  {
   "cell_type": "code",
   "execution_count": null,
   "metadata": {},
   "outputs": [
    {
     "data": {
      "text/html": [
       "<pre style=\"white-space:pre;overflow-x:auto;line-height:normal;font-family:Menlo,'DejaVu Sans Mono',consolas,'Courier New',monospace\"><span style=\"font-weight: bold\">{</span>\n",
       "    <span style=\"color: #008000; text-decoration-color: #008000\">'filename'</span>: <span style=\"color: #008000; text-decoration-color: #008000\">'rfeye002092_210208_T203131_CRFSBINv.2.bin'</span>,\n",
       "    <span style=\"color: #008000; text-decoration-color: #008000\">'file_version'</span>: <span style=\"color: #008080; text-decoration-color: #008080; font-weight: bold\">21</span>,\n",
       "    <span style=\"color: #008000; text-decoration-color: #008000\">'string'</span>: <span style=\"color: #008000; text-decoration-color: #008000\">'CRFS DATA FILE V021'</span>,\n",
       "    <span style=\"color: #008000; text-decoration-color: #008000\">'size'</span>: <span style=\"color: #008080; text-decoration-color: #008080; font-weight: bold\">24</span>,\n",
       "    <span style=\"color: #008000; text-decoration-color: #008000\">'text'</span>: <span style=\"color: #008000; text-decoration-color: #008000\">'ClearWrite. Peak.'</span>,\n",
       "    <span style=\"color: #008000; text-decoration-color: #008000\">'textlen'</span>: <span style=\"color: #008080; text-decoration-color: #008080; font-weight: bold\">20</span>,\n",
       "    <span style=\"color: #008000; text-decoration-color: #008000\">'thread_id'</span>: <span style=\"color: #008080; text-decoration-color: #008080; font-weight: bold\">30</span>,\n",
       "    <span style=\"color: #008000; text-decoration-color: #008000\">'type'</span>: <span style=\"color: #008080; text-decoration-color: #008080; font-weight: bold\">3</span>,\n",
       "    <span style=\"color: #008000; text-decoration-color: #008000\">'gps'</span>: GPS Data - Median of Coordinates: <span style=\"color: #008080; text-decoration-color: #008080; font-weight: bold\">-14.81416</span>:<span style=\"color: #008080; text-decoration-color: #008080; font-weight: bold\">-39.03184</span> Altitude: <span style=\"color: #008080; text-decoration-color: #008080; font-weight: bold\">15.50</span> #Satellites:\n",
       "<span style=\"color: #008080; text-decoration-color: #008080; font-weight: bold\">11.0</span>,\n",
       "    <span style=\"color: #008000; text-decoration-color: #008000\">'spectrum'</span>: <span style=\"font-weight: bold\">[</span><span style=\"color: #800080; text-decoration-color: #800080; font-weight: bold\">SpecData</span><span style=\"font-weight: bold\">(</span><span style=\"color: #808000; text-decoration-color: #808000\">type</span>=<span style=\"color: #008080; text-decoration-color: #008080; font-weight: bold\">4</span>, <span style=\"color: #808000; text-decoration-color: #808000\">thread_id</span>=<span style=\"color: #008080; text-decoration-color: #008080; font-weight: bold\">20</span>, <span style=\"color: #808000; text-decoration-color: #808000\">start_mega</span>=<span style=\"color: #008080; text-decoration-color: #008080; font-weight: bold\">76</span>, <span style=\"color: #808000; text-decoration-color: #808000\">stop_mega</span>=<span style=\"color: #008080; text-decoration-color: #008080; font-weight: bold\">108</span>, <span style=\"color: #808000; text-decoration-color: #808000\">ndata</span>=<span style=\"color: #008080; text-decoration-color: #008080; font-weight: bold\">8192</span>, \n",
       "<span style=\"color: #808000; text-decoration-color: #808000\">processing</span>=<span style=\"color: #008000; text-decoration-color: #008000\">'Peak'</span><span style=\"font-weight: bold\">)</span>, <span style=\"color: #800080; text-decoration-color: #800080; font-weight: bold\">SpecData</span><span style=\"font-weight: bold\">(</span><span style=\"color: #808000; text-decoration-color: #808000\">type</span>=<span style=\"color: #008080; text-decoration-color: #008080; font-weight: bold\">4</span>, <span style=\"color: #808000; text-decoration-color: #808000\">thread_id</span>=<span style=\"color: #008080; text-decoration-color: #008080; font-weight: bold\">30</span>, <span style=\"color: #808000; text-decoration-color: #808000\">start_mega</span>=<span style=\"color: #008080; text-decoration-color: #008080; font-weight: bold\">70</span>, <span style=\"color: #808000; text-decoration-color: #808000\">stop_mega</span>=<span style=\"color: #008080; text-decoration-color: #008080; font-weight: bold\">110</span>, <span style=\"color: #808000; text-decoration-color: #808000\">ndata</span>=<span style=\"color: #008080; text-decoration-color: #008080; font-weight: bold\">1024</span>, \n",
       "<span style=\"color: #808000; text-decoration-color: #808000\">processing</span>=<span style=\"color: #008000; text-decoration-color: #008000\">'Peak'</span><span style=\"font-weight: bold\">)</span>, <span style=\"color: #800080; text-decoration-color: #800080; font-weight: bold\">SpecData</span><span style=\"font-weight: bold\">(</span><span style=\"color: #808000; text-decoration-color: #808000\">type</span>=<span style=\"color: #008080; text-decoration-color: #008080; font-weight: bold\">4</span>, <span style=\"color: #808000; text-decoration-color: #808000\">thread_id</span>=<span style=\"color: #008080; text-decoration-color: #008080; font-weight: bold\">10</span>, <span style=\"color: #808000; text-decoration-color: #808000\">start_mega</span>=<span style=\"color: #008080; text-decoration-color: #008080; font-weight: bold\">105</span>, <span style=\"color: #808000; text-decoration-color: #808000\">stop_mega</span>=<span style=\"color: #008080; text-decoration-color: #008080; font-weight: bold\">140</span>, <span style=\"color: #808000; text-decoration-color: #808000\">ndata</span>=<span style=\"color: #008080; text-decoration-color: #008080; font-weight: bold\">3584</span>,\n",
       "<span style=\"color: #808000; text-decoration-color: #808000\">processing</span>=<span style=\"color: #008000; text-decoration-color: #008000\">'Peak'</span><span style=\"font-weight: bold\">)</span>, <span style=\"color: #800080; text-decoration-color: #800080; font-weight: bold\">SpecData</span><span style=\"font-weight: bold\">(</span><span style=\"color: #808000; text-decoration-color: #808000\">type</span>=<span style=\"color: #008080; text-decoration-color: #008080; font-weight: bold\">4</span>, <span style=\"color: #808000; text-decoration-color: #808000\">thread_id</span>=<span style=\"color: #008080; text-decoration-color: #008080; font-weight: bold\">11</span>, <span style=\"color: #808000; text-decoration-color: #808000\">start_mega</span>=<span style=\"color: #008080; text-decoration-color: #008080; font-weight: bold\">105</span>, <span style=\"color: #808000; text-decoration-color: #808000\">stop_mega</span>=<span style=\"color: #008080; text-decoration-color: #008080; font-weight: bold\">140</span>, <span style=\"color: #808000; text-decoration-color: #808000\">ndata</span>=<span style=\"color: #008080; text-decoration-color: #008080; font-weight: bold\">3584</span>,\n",
       "<span style=\"color: #808000; text-decoration-color: #808000\">processing</span>=<span style=\"color: #008000; text-decoration-color: #008000\">'Average'</span><span style=\"font-weight: bold\">)</span>, <span style=\"color: #800080; text-decoration-color: #800080; font-weight: bold\">SpecData</span><span style=\"font-weight: bold\">(</span><span style=\"color: #808000; text-decoration-color: #808000\">type</span>=<span style=\"color: #008080; text-decoration-color: #008080; font-weight: bold\">4</span>, <span style=\"color: #808000; text-decoration-color: #808000\">thread_id</span>=<span style=\"color: #008080; text-decoration-color: #008080; font-weight: bold\">12</span>, <span style=\"color: #808000; text-decoration-color: #808000\">start_mega</span>=<span style=\"color: #008080; text-decoration-color: #008080; font-weight: bold\">105</span>, <span style=\"color: #808000; text-decoration-color: #808000\">stop_mega</span>=<span style=\"color: #008080; text-decoration-color: #008080; font-weight: bold\">140</span>, \n",
       "<span style=\"color: #808000; text-decoration-color: #808000\">ndata</span>=<span style=\"color: #008080; text-decoration-color: #008080; font-weight: bold\">3584</span>, <span style=\"color: #808000; text-decoration-color: #808000\">processing</span>=<span style=\"color: #008000; text-decoration-color: #008000\">'Peak'</span><span style=\"font-weight: bold\">)</span>, <span style=\"color: #800080; text-decoration-color: #800080; font-weight: bold\">SpecData</span><span style=\"font-weight: bold\">(</span><span style=\"color: #808000; text-decoration-color: #808000\">type</span>=<span style=\"color: #008080; text-decoration-color: #008080; font-weight: bold\">4</span>, <span style=\"color: #808000; text-decoration-color: #808000\">thread_id</span>=<span style=\"color: #008080; text-decoration-color: #008080; font-weight: bold\">13</span>, <span style=\"color: #808000; text-decoration-color: #808000\">start_mega</span>=<span style=\"color: #008080; text-decoration-color: #008080; font-weight: bold\">105</span>, <span style=\"color: #808000; text-decoration-color: #808000\">stop_mega</span>=<span style=\"color: #008080; text-decoration-color: #008080; font-weight: bold\">140</span>,\n",
       "<span style=\"color: #808000; text-decoration-color: #808000\">ndata</span>=<span style=\"color: #008080; text-decoration-color: #008080; font-weight: bold\">3584</span>, <span style=\"color: #808000; text-decoration-color: #808000\">processing</span>=<span style=\"color: #008000; text-decoration-color: #008000\">'Average'</span><span style=\"font-weight: bold\">)</span>, <span style=\"color: #800080; text-decoration-color: #800080; font-weight: bold\">SpecData</span><span style=\"font-weight: bold\">(</span><span style=\"color: #808000; text-decoration-color: #808000\">type</span>=<span style=\"color: #008080; text-decoration-color: #008080; font-weight: bold\">7</span>, <span style=\"color: #808000; text-decoration-color: #808000\">thread_id</span>=<span style=\"color: #008080; text-decoration-color: #008080; font-weight: bold\">14</span>, <span style=\"color: #808000; text-decoration-color: #808000\">start_mega</span>=<span style=\"color: #008080; text-decoration-color: #008080; font-weight: bold\">105</span>, \n",
       "<span style=\"color: #808000; text-decoration-color: #808000\">stop_mega</span>=<span style=\"color: #008080; text-decoration-color: #008080; font-weight: bold\">140</span>, <span style=\"color: #808000; text-decoration-color: #808000\">namal</span>=<span style=\"color: #008080; text-decoration-color: #008080; font-weight: bold\">203</span>, <span style=\"color: #808000; text-decoration-color: #808000\">ndata</span>=<span style=\"color: #008080; text-decoration-color: #008080; font-weight: bold\">3584</span>, <span style=\"color: #808000; text-decoration-color: #808000\">thresh</span>=<span style=\"color: #008080; text-decoration-color: #008080; font-weight: bold\">-90</span><span style=\"font-weight: bold\">)</span>, <span style=\"color: #800080; text-decoration-color: #800080; font-weight: bold\">SpecData</span><span style=\"font-weight: bold\">(</span><span style=\"color: #808000; text-decoration-color: #808000\">type</span>=<span style=\"color: #008080; text-decoration-color: #008080; font-weight: bold\">8</span>, <span style=\"color: #808000; text-decoration-color: #808000\">thread_id</span>=<span style=\"color: #008080; text-decoration-color: #008080; font-weight: bold\">15</span>, \n",
       "<span style=\"color: #808000; text-decoration-color: #808000\">start_mega</span>=<span style=\"color: #008080; text-decoration-color: #008080; font-weight: bold\">105</span>, <span style=\"color: #808000; text-decoration-color: #808000\">stop_mega</span>=<span style=\"color: #008080; text-decoration-color: #008080; font-weight: bold\">140</span>, <span style=\"color: #808000; text-decoration-color: #808000\">sampling</span>=<span style=\"color: #008080; text-decoration-color: #008080; font-weight: bold\">9</span>, <span style=\"color: #808000; text-decoration-color: #808000\">namal</span>=<span style=\"color: #008080; text-decoration-color: #008080; font-weight: bold\">10</span>, <span style=\"color: #808000; text-decoration-color: #808000\">ndata</span>=<span style=\"color: #008080; text-decoration-color: #008080; font-weight: bold\">3584</span>, <span style=\"color: #808000; text-decoration-color: #808000\">thresh</span>=<span style=\"color: #008080; text-decoration-color: #008080; font-weight: bold\">-90</span><span style=\"font-weight: bold\">)</span>, \n",
       "<span style=\"color: #800080; text-decoration-color: #800080; font-weight: bold\">SpecData</span><span style=\"font-weight: bold\">(</span><span style=\"color: #808000; text-decoration-color: #808000\">type</span>=<span style=\"color: #008080; text-decoration-color: #008080; font-weight: bold\">7</span>, <span style=\"color: #808000; text-decoration-color: #808000\">thread_id</span>=<span style=\"color: #008080; text-decoration-color: #008080; font-weight: bold\">14</span>, <span style=\"color: #808000; text-decoration-color: #808000\">start_mega</span>=<span style=\"color: #008080; text-decoration-color: #008080; font-weight: bold\">105</span>, <span style=\"color: #808000; text-decoration-color: #808000\">stop_mega</span>=<span style=\"color: #008080; text-decoration-color: #008080; font-weight: bold\">140</span>, <span style=\"color: #808000; text-decoration-color: #808000\">namal</span>=<span style=\"color: #008080; text-decoration-color: #008080; font-weight: bold\">204</span>, <span style=\"color: #808000; text-decoration-color: #808000\">ndata</span>=<span style=\"color: #008080; text-decoration-color: #008080; font-weight: bold\">3584</span>, \n",
       "<span style=\"color: #808000; text-decoration-color: #808000\">thresh</span>=<span style=\"color: #008080; text-decoration-color: #008080; font-weight: bold\">-90</span><span style=\"font-weight: bold\">)</span>, <span style=\"color: #800080; text-decoration-color: #800080; font-weight: bold\">SpecData</span><span style=\"font-weight: bold\">(</span><span style=\"color: #808000; text-decoration-color: #808000\">type</span>=<span style=\"color: #008080; text-decoration-color: #008080; font-weight: bold\">8</span>, <span style=\"color: #808000; text-decoration-color: #808000\">thread_id</span>=<span style=\"color: #008080; text-decoration-color: #008080; font-weight: bold\">15</span>, <span style=\"color: #808000; text-decoration-color: #808000\">start_mega</span>=<span style=\"color: #008080; text-decoration-color: #008080; font-weight: bold\">105</span>, <span style=\"color: #808000; text-decoration-color: #808000\">stop_mega</span>=<span style=\"color: #008080; text-decoration-color: #008080; font-weight: bold\">140</span>, <span style=\"color: #808000; text-decoration-color: #808000\">sampling</span>=<span style=\"color: #008080; text-decoration-color: #008080; font-weight: bold\">10</span>, \n",
       "<span style=\"color: #808000; text-decoration-color: #808000\">namal</span>=<span style=\"color: #008080; text-decoration-color: #008080; font-weight: bold\">10</span>, <span style=\"color: #808000; text-decoration-color: #808000\">ndata</span>=<span style=\"color: #008080; text-decoration-color: #008080; font-weight: bold\">3584</span>, <span style=\"color: #808000; text-decoration-color: #808000\">thresh</span>=<span style=\"color: #008080; text-decoration-color: #008080; font-weight: bold\">-90</span><span style=\"font-weight: bold\">)</span>, <span style=\"color: #800080; text-decoration-color: #800080; font-weight: bold\">SpecData</span><span style=\"font-weight: bold\">(</span><span style=\"color: #808000; text-decoration-color: #808000\">type</span>=<span style=\"color: #008080; text-decoration-color: #008080; font-weight: bold\">7</span>, <span style=\"color: #808000; text-decoration-color: #808000\">thread_id</span>=<span style=\"color: #008080; text-decoration-color: #008080; font-weight: bold\">14</span>, <span style=\"color: #808000; text-decoration-color: #808000\">start_mega</span>=<span style=\"color: #008080; text-decoration-color: #008080; font-weight: bold\">105</span>, \n",
       "<span style=\"color: #808000; text-decoration-color: #808000\">stop_mega</span>=<span style=\"color: #008080; text-decoration-color: #008080; font-weight: bold\">140</span>, <span style=\"color: #808000; text-decoration-color: #808000\">namal</span>=<span style=\"color: #008080; text-decoration-color: #008080; font-weight: bold\">221</span>, <span style=\"color: #808000; text-decoration-color: #808000\">ndata</span>=<span style=\"color: #008080; text-decoration-color: #008080; font-weight: bold\">3584</span>, <span style=\"color: #808000; text-decoration-color: #808000\">thresh</span>=<span style=\"color: #008080; text-decoration-color: #008080; font-weight: bold\">-90</span><span style=\"font-weight: bold\">)</span>, <span style=\"color: #800080; text-decoration-color: #800080; font-weight: bold\">SpecData</span><span style=\"font-weight: bold\">(</span><span style=\"color: #808000; text-decoration-color: #808000\">type</span>=<span style=\"color: #008080; text-decoration-color: #008080; font-weight: bold\">7</span>, <span style=\"color: #808000; text-decoration-color: #808000\">thread_id</span>=<span style=\"color: #008080; text-decoration-color: #008080; font-weight: bold\">14</span>, \n",
       "<span style=\"color: #808000; text-decoration-color: #808000\">start_mega</span>=<span style=\"color: #008080; text-decoration-color: #008080; font-weight: bold\">105</span>, <span style=\"color: #808000; text-decoration-color: #808000\">stop_mega</span>=<span style=\"color: #008080; text-decoration-color: #008080; font-weight: bold\">140</span>, <span style=\"color: #808000; text-decoration-color: #808000\">namal</span>=<span style=\"color: #008080; text-decoration-color: #008080; font-weight: bold\">206</span>, <span style=\"color: #808000; text-decoration-color: #808000\">ndata</span>=<span style=\"color: #008080; text-decoration-color: #008080; font-weight: bold\">3584</span>, <span style=\"color: #808000; text-decoration-color: #808000\">thresh</span>=<span style=\"color: #008080; text-decoration-color: #008080; font-weight: bold\">-90</span><span style=\"font-weight: bold\">)</span>, <span style=\"color: #800080; text-decoration-color: #800080; font-weight: bold\">SpecData</span><span style=\"font-weight: bold\">(</span><span style=\"color: #808000; text-decoration-color: #808000\">type</span>=<span style=\"color: #008080; text-decoration-color: #008080; font-weight: bold\">7</span>, \n",
       "<span style=\"color: #808000; text-decoration-color: #808000\">thread_id</span>=<span style=\"color: #008080; text-decoration-color: #008080; font-weight: bold\">14</span>, <span style=\"color: #808000; text-decoration-color: #808000\">start_mega</span>=<span style=\"color: #008080; text-decoration-color: #008080; font-weight: bold\">105</span>, <span style=\"color: #808000; text-decoration-color: #808000\">stop_mega</span>=<span style=\"color: #008080; text-decoration-color: #008080; font-weight: bold\">140</span>, <span style=\"color: #808000; text-decoration-color: #808000\">namal</span>=<span style=\"color: #008080; text-decoration-color: #008080; font-weight: bold\">207</span>, <span style=\"color: #808000; text-decoration-color: #808000\">ndata</span>=<span style=\"color: #008080; text-decoration-color: #008080; font-weight: bold\">3584</span>, <span style=\"color: #808000; text-decoration-color: #808000\">thresh</span>=<span style=\"color: #008080; text-decoration-color: #008080; font-weight: bold\">-90</span><span style=\"font-weight: bold\">)</span>, \n",
       "<span style=\"color: #800080; text-decoration-color: #800080; font-weight: bold\">SpecData</span><span style=\"font-weight: bold\">(</span><span style=\"color: #808000; text-decoration-color: #808000\">type</span>=<span style=\"color: #008080; text-decoration-color: #008080; font-weight: bold\">7</span>, <span style=\"color: #808000; text-decoration-color: #808000\">thread_id</span>=<span style=\"color: #008080; text-decoration-color: #008080; font-weight: bold\">14</span>, <span style=\"color: #808000; text-decoration-color: #808000\">start_mega</span>=<span style=\"color: #008080; text-decoration-color: #008080; font-weight: bold\">105</span>, <span style=\"color: #808000; text-decoration-color: #808000\">stop_mega</span>=<span style=\"color: #008080; text-decoration-color: #008080; font-weight: bold\">140</span>, <span style=\"color: #808000; text-decoration-color: #808000\">namal</span>=<span style=\"color: #008080; text-decoration-color: #008080; font-weight: bold\">213</span>, <span style=\"color: #808000; text-decoration-color: #808000\">ndata</span>=<span style=\"color: #008080; text-decoration-color: #008080; font-weight: bold\">3584</span>, \n",
       "<span style=\"color: #808000; text-decoration-color: #808000\">thresh</span>=<span style=\"color: #008080; text-decoration-color: #008080; font-weight: bold\">-90</span><span style=\"font-weight: bold\">)</span>, <span style=\"color: #800080; text-decoration-color: #800080; font-weight: bold\">SpecData</span><span style=\"font-weight: bold\">(</span><span style=\"color: #808000; text-decoration-color: #808000\">type</span>=<span style=\"color: #008080; text-decoration-color: #008080; font-weight: bold\">7</span>, <span style=\"color: #808000; text-decoration-color: #808000\">thread_id</span>=<span style=\"color: #008080; text-decoration-color: #008080; font-weight: bold\">14</span>, <span style=\"color: #808000; text-decoration-color: #808000\">start_mega</span>=<span style=\"color: #008080; text-decoration-color: #008080; font-weight: bold\">105</span>, <span style=\"color: #808000; text-decoration-color: #808000\">stop_mega</span>=<span style=\"color: #008080; text-decoration-color: #008080; font-weight: bold\">140</span>, <span style=\"color: #808000; text-decoration-color: #808000\">namal</span>=<span style=\"color: #008080; text-decoration-color: #008080; font-weight: bold\">209</span>, \n",
       "<span style=\"color: #808000; text-decoration-color: #808000\">ndata</span>=<span style=\"color: #008080; text-decoration-color: #008080; font-weight: bold\">3584</span>, <span style=\"color: #808000; text-decoration-color: #808000\">thresh</span>=<span style=\"color: #008080; text-decoration-color: #008080; font-weight: bold\">-90</span><span style=\"font-weight: bold\">)</span>, <span style=\"color: #800080; text-decoration-color: #800080; font-weight: bold\">SpecData</span><span style=\"font-weight: bold\">(</span><span style=\"color: #808000; text-decoration-color: #808000\">type</span>=<span style=\"color: #008080; text-decoration-color: #008080; font-weight: bold\">7</span>, <span style=\"color: #808000; text-decoration-color: #808000\">thread_id</span>=<span style=\"color: #008080; text-decoration-color: #008080; font-weight: bold\">14</span>, <span style=\"color: #808000; text-decoration-color: #808000\">start_mega</span>=<span style=\"color: #008080; text-decoration-color: #008080; font-weight: bold\">105</span>, <span style=\"color: #808000; text-decoration-color: #808000\">stop_mega</span>=<span style=\"color: #008080; text-decoration-color: #008080; font-weight: bold\">140</span>, \n",
       "<span style=\"color: #808000; text-decoration-color: #808000\">namal</span>=<span style=\"color: #008080; text-decoration-color: #008080; font-weight: bold\">226</span>, <span style=\"color: #808000; text-decoration-color: #808000\">ndata</span>=<span style=\"color: #008080; text-decoration-color: #008080; font-weight: bold\">3584</span>, <span style=\"color: #808000; text-decoration-color: #808000\">thresh</span>=<span style=\"color: #008080; text-decoration-color: #008080; font-weight: bold\">-90</span><span style=\"font-weight: bold\">)</span>, <span style=\"color: #800080; text-decoration-color: #800080; font-weight: bold\">SpecData</span><span style=\"font-weight: bold\">(</span><span style=\"color: #808000; text-decoration-color: #808000\">type</span>=<span style=\"color: #008080; text-decoration-color: #008080; font-weight: bold\">7</span>, <span style=\"color: #808000; text-decoration-color: #808000\">thread_id</span>=<span style=\"color: #008080; text-decoration-color: #008080; font-weight: bold\">14</span>, <span style=\"color: #808000; text-decoration-color: #808000\">start_mega</span>=<span style=\"color: #008080; text-decoration-color: #008080; font-weight: bold\">105</span>, \n",
       "<span style=\"color: #808000; text-decoration-color: #808000\">stop_mega</span>=<span style=\"color: #008080; text-decoration-color: #008080; font-weight: bold\">140</span>, <span style=\"color: #808000; text-decoration-color: #808000\">namal</span>=<span style=\"color: #008080; text-decoration-color: #008080; font-weight: bold\">212</span>, <span style=\"color: #808000; text-decoration-color: #808000\">ndata</span>=<span style=\"color: #008080; text-decoration-color: #008080; font-weight: bold\">3584</span>, <span style=\"color: #808000; text-decoration-color: #808000\">thresh</span>=<span style=\"color: #008080; text-decoration-color: #008080; font-weight: bold\">-90</span><span style=\"font-weight: bold\">)</span>, <span style=\"color: #800080; text-decoration-color: #800080; font-weight: bold\">SpecData</span><span style=\"font-weight: bold\">(</span><span style=\"color: #808000; text-decoration-color: #808000\">type</span>=<span style=\"color: #008080; text-decoration-color: #008080; font-weight: bold\">7</span>, <span style=\"color: #808000; text-decoration-color: #808000\">thread_id</span>=<span style=\"color: #008080; text-decoration-color: #008080; font-weight: bold\">14</span>, \n",
       "<span style=\"color: #808000; text-decoration-color: #808000\">start_mega</span>=<span style=\"color: #008080; text-decoration-color: #008080; font-weight: bold\">105</span>, <span style=\"color: #808000; text-decoration-color: #808000\">stop_mega</span>=<span style=\"color: #008080; text-decoration-color: #008080; font-weight: bold\">140</span>, <span style=\"color: #808000; text-decoration-color: #808000\">namal</span>=<span style=\"color: #008080; text-decoration-color: #008080; font-weight: bold\">215</span>, <span style=\"color: #808000; text-decoration-color: #808000\">ndata</span>=<span style=\"color: #008080; text-decoration-color: #008080; font-weight: bold\">3584</span>, <span style=\"color: #808000; text-decoration-color: #808000\">thresh</span>=<span style=\"color: #008080; text-decoration-color: #008080; font-weight: bold\">-90</span><span style=\"font-weight: bold\">)</span>, <span style=\"color: #800080; text-decoration-color: #800080; font-weight: bold\">SpecData</span><span style=\"font-weight: bold\">(</span><span style=\"color: #808000; text-decoration-color: #808000\">type</span>=<span style=\"color: #008080; text-decoration-color: #008080; font-weight: bold\">7</span>, \n",
       "<span style=\"color: #808000; text-decoration-color: #808000\">thread_id</span>=<span style=\"color: #008080; text-decoration-color: #008080; font-weight: bold\">14</span>, <span style=\"color: #808000; text-decoration-color: #808000\">start_mega</span>=<span style=\"color: #008080; text-decoration-color: #008080; font-weight: bold\">105</span>, <span style=\"color: #808000; text-decoration-color: #808000\">stop_mega</span>=<span style=\"color: #008080; text-decoration-color: #008080; font-weight: bold\">140</span>, <span style=\"color: #808000; text-decoration-color: #808000\">namal</span>=<span style=\"color: #008080; text-decoration-color: #008080; font-weight: bold\">208</span>, <span style=\"color: #808000; text-decoration-color: #808000\">ndata</span>=<span style=\"color: #008080; text-decoration-color: #008080; font-weight: bold\">3584</span>, <span style=\"color: #808000; text-decoration-color: #808000\">thresh</span>=<span style=\"color: #008080; text-decoration-color: #008080; font-weight: bold\">-90</span><span style=\"font-weight: bold\">)</span>, \n",
       "<span style=\"color: #800080; text-decoration-color: #800080; font-weight: bold\">SpecData</span><span style=\"font-weight: bold\">(</span><span style=\"color: #808000; text-decoration-color: #808000\">type</span>=<span style=\"color: #008080; text-decoration-color: #008080; font-weight: bold\">7</span>, <span style=\"color: #808000; text-decoration-color: #808000\">thread_id</span>=<span style=\"color: #008080; text-decoration-color: #008080; font-weight: bold\">14</span>, <span style=\"color: #808000; text-decoration-color: #808000\">start_mega</span>=<span style=\"color: #008080; text-decoration-color: #008080; font-weight: bold\">105</span>, <span style=\"color: #808000; text-decoration-color: #808000\">stop_mega</span>=<span style=\"color: #008080; text-decoration-color: #008080; font-weight: bold\">140</span>, <span style=\"color: #808000; text-decoration-color: #808000\">namal</span>=<span style=\"color: #008080; text-decoration-color: #008080; font-weight: bold\">210</span>, <span style=\"color: #808000; text-decoration-color: #808000\">ndata</span>=<span style=\"color: #008080; text-decoration-color: #008080; font-weight: bold\">3584</span>, \n",
       "<span style=\"color: #808000; text-decoration-color: #808000\">thresh</span>=<span style=\"color: #008080; text-decoration-color: #008080; font-weight: bold\">-90</span><span style=\"font-weight: bold\">)</span>, <span style=\"color: #800080; text-decoration-color: #800080; font-weight: bold\">SpecData</span><span style=\"font-weight: bold\">(</span><span style=\"color: #808000; text-decoration-color: #808000\">type</span>=<span style=\"color: #008080; text-decoration-color: #008080; font-weight: bold\">7</span>, <span style=\"color: #808000; text-decoration-color: #808000\">thread_id</span>=<span style=\"color: #008080; text-decoration-color: #008080; font-weight: bold\">14</span>, <span style=\"color: #808000; text-decoration-color: #808000\">start_mega</span>=<span style=\"color: #008080; text-decoration-color: #008080; font-weight: bold\">105</span>, <span style=\"color: #808000; text-decoration-color: #808000\">stop_mega</span>=<span style=\"color: #008080; text-decoration-color: #008080; font-weight: bold\">140</span>, <span style=\"color: #808000; text-decoration-color: #808000\">namal</span>=<span style=\"color: #008080; text-decoration-color: #008080; font-weight: bold\">201</span>, \n",
       "<span style=\"color: #808000; text-decoration-color: #808000\">ndata</span>=<span style=\"color: #008080; text-decoration-color: #008080; font-weight: bold\">3584</span>, <span style=\"color: #808000; text-decoration-color: #808000\">thresh</span>=<span style=\"color: #008080; text-decoration-color: #008080; font-weight: bold\">-90</span><span style=\"font-weight: bold\">)</span>, <span style=\"color: #800080; text-decoration-color: #800080; font-weight: bold\">SpecData</span><span style=\"font-weight: bold\">(</span><span style=\"color: #808000; text-decoration-color: #808000\">type</span>=<span style=\"color: #008080; text-decoration-color: #008080; font-weight: bold\">7</span>, <span style=\"color: #808000; text-decoration-color: #808000\">thread_id</span>=<span style=\"color: #008080; text-decoration-color: #008080; font-weight: bold\">14</span>, <span style=\"color: #808000; text-decoration-color: #808000\">start_mega</span>=<span style=\"color: #008080; text-decoration-color: #008080; font-weight: bold\">105</span>, <span style=\"color: #808000; text-decoration-color: #808000\">stop_mega</span>=<span style=\"color: #008080; text-decoration-color: #008080; font-weight: bold\">140</span>, \n",
       "<span style=\"color: #808000; text-decoration-color: #808000\">namal</span>=<span style=\"color: #008080; text-decoration-color: #008080; font-weight: bold\">219</span>, <span style=\"color: #808000; text-decoration-color: #808000\">ndata</span>=<span style=\"color: #008080; text-decoration-color: #008080; font-weight: bold\">3584</span>, <span style=\"color: #808000; text-decoration-color: #808000\">thresh</span>=<span style=\"color: #008080; text-decoration-color: #008080; font-weight: bold\">-90</span><span style=\"font-weight: bold\">)</span>, <span style=\"color: #800080; text-decoration-color: #800080; font-weight: bold\">SpecData</span><span style=\"font-weight: bold\">(</span><span style=\"color: #808000; text-decoration-color: #808000\">type</span>=<span style=\"color: #008080; text-decoration-color: #008080; font-weight: bold\">7</span>, <span style=\"color: #808000; text-decoration-color: #808000\">thread_id</span>=<span style=\"color: #008080; text-decoration-color: #008080; font-weight: bold\">14</span>, <span style=\"color: #808000; text-decoration-color: #808000\">start_mega</span>=<span style=\"color: #008080; text-decoration-color: #008080; font-weight: bold\">105</span>, \n",
       "<span style=\"color: #808000; text-decoration-color: #808000\">stop_mega</span>=<span style=\"color: #008080; text-decoration-color: #008080; font-weight: bold\">140</span>, <span style=\"color: #808000; text-decoration-color: #808000\">namal</span>=<span style=\"color: #008080; text-decoration-color: #008080; font-weight: bold\">202</span>, <span style=\"color: #808000; text-decoration-color: #808000\">ndata</span>=<span style=\"color: #008080; text-decoration-color: #008080; font-weight: bold\">3584</span>, <span style=\"color: #808000; text-decoration-color: #808000\">thresh</span>=<span style=\"color: #008080; text-decoration-color: #008080; font-weight: bold\">-90</span><span style=\"font-weight: bold\">)</span>, <span style=\"color: #800080; text-decoration-color: #800080; font-weight: bold\">SpecData</span><span style=\"font-weight: bold\">(</span><span style=\"color: #808000; text-decoration-color: #808000\">type</span>=<span style=\"color: #008080; text-decoration-color: #008080; font-weight: bold\">7</span>, <span style=\"color: #808000; text-decoration-color: #808000\">thread_id</span>=<span style=\"color: #008080; text-decoration-color: #008080; font-weight: bold\">14</span>, \n",
       "<span style=\"color: #808000; text-decoration-color: #808000\">start_mega</span>=<span style=\"color: #008080; text-decoration-color: #008080; font-weight: bold\">105</span>, <span style=\"color: #808000; text-decoration-color: #808000\">stop_mega</span>=<span style=\"color: #008080; text-decoration-color: #008080; font-weight: bold\">140</span>, <span style=\"color: #808000; text-decoration-color: #808000\">namal</span>=<span style=\"color: #008080; text-decoration-color: #008080; font-weight: bold\">222</span>, <span style=\"color: #808000; text-decoration-color: #808000\">ndata</span>=<span style=\"color: #008080; text-decoration-color: #008080; font-weight: bold\">3584</span>, <span style=\"color: #808000; text-decoration-color: #808000\">thresh</span>=<span style=\"color: #008080; text-decoration-color: #008080; font-weight: bold\">-90</span><span style=\"font-weight: bold\">)</span>, <span style=\"color: #800080; text-decoration-color: #800080; font-weight: bold\">SpecData</span><span style=\"font-weight: bold\">(</span><span style=\"color: #808000; text-decoration-color: #808000\">type</span>=<span style=\"color: #008080; text-decoration-color: #008080; font-weight: bold\">7</span>, \n",
       "<span style=\"color: #808000; text-decoration-color: #808000\">thread_id</span>=<span style=\"color: #008080; text-decoration-color: #008080; font-weight: bold\">14</span>, <span style=\"color: #808000; text-decoration-color: #808000\">start_mega</span>=<span style=\"color: #008080; text-decoration-color: #008080; font-weight: bold\">105</span>, <span style=\"color: #808000; text-decoration-color: #808000\">stop_mega</span>=<span style=\"color: #008080; text-decoration-color: #008080; font-weight: bold\">140</span>, <span style=\"color: #808000; text-decoration-color: #808000\">namal</span>=<span style=\"color: #008080; text-decoration-color: #008080; font-weight: bold\">220</span>, <span style=\"color: #808000; text-decoration-color: #808000\">ndata</span>=<span style=\"color: #008080; text-decoration-color: #008080; font-weight: bold\">3584</span>, <span style=\"color: #808000; text-decoration-color: #808000\">thresh</span>=<span style=\"color: #008080; text-decoration-color: #008080; font-weight: bold\">-90</span><span style=\"font-weight: bold\">)</span>, \n",
       "<span style=\"color: #800080; text-decoration-color: #800080; font-weight: bold\">SpecData</span><span style=\"font-weight: bold\">(</span><span style=\"color: #808000; text-decoration-color: #808000\">type</span>=<span style=\"color: #008080; text-decoration-color: #008080; font-weight: bold\">7</span>, <span style=\"color: #808000; text-decoration-color: #808000\">thread_id</span>=<span style=\"color: #008080; text-decoration-color: #008080; font-weight: bold\">14</span>, <span style=\"color: #808000; text-decoration-color: #808000\">start_mega</span>=<span style=\"color: #008080; text-decoration-color: #008080; font-weight: bold\">105</span>, <span style=\"color: #808000; text-decoration-color: #808000\">stop_mega</span>=<span style=\"color: #008080; text-decoration-color: #008080; font-weight: bold\">140</span>, <span style=\"color: #808000; text-decoration-color: #808000\">namal</span>=<span style=\"color: #008080; text-decoration-color: #008080; font-weight: bold\">216</span>, <span style=\"color: #808000; text-decoration-color: #808000\">ndata</span>=<span style=\"color: #008080; text-decoration-color: #008080; font-weight: bold\">3584</span>, \n",
       "<span style=\"color: #808000; text-decoration-color: #808000\">thresh</span>=<span style=\"color: #008080; text-decoration-color: #008080; font-weight: bold\">-90</span><span style=\"font-weight: bold\">)</span>, <span style=\"color: #800080; text-decoration-color: #800080; font-weight: bold\">SpecData</span><span style=\"font-weight: bold\">(</span><span style=\"color: #808000; text-decoration-color: #808000\">type</span>=<span style=\"color: #008080; text-decoration-color: #008080; font-weight: bold\">7</span>, <span style=\"color: #808000; text-decoration-color: #808000\">thread_id</span>=<span style=\"color: #008080; text-decoration-color: #008080; font-weight: bold\">14</span>, <span style=\"color: #808000; text-decoration-color: #808000\">start_mega</span>=<span style=\"color: #008080; text-decoration-color: #008080; font-weight: bold\">105</span>, <span style=\"color: #808000; text-decoration-color: #808000\">stop_mega</span>=<span style=\"color: #008080; text-decoration-color: #008080; font-weight: bold\">140</span>, <span style=\"color: #808000; text-decoration-color: #808000\">namal</span>=<span style=\"color: #008080; text-decoration-color: #008080; font-weight: bold\">224</span>, \n",
       "<span style=\"color: #808000; text-decoration-color: #808000\">ndata</span>=<span style=\"color: #008080; text-decoration-color: #008080; font-weight: bold\">3584</span>, <span style=\"color: #808000; text-decoration-color: #808000\">thresh</span>=<span style=\"color: #008080; text-decoration-color: #008080; font-weight: bold\">-90</span><span style=\"font-weight: bold\">)</span>, <span style=\"color: #800080; text-decoration-color: #800080; font-weight: bold\">SpecData</span><span style=\"font-weight: bold\">(</span><span style=\"color: #808000; text-decoration-color: #808000\">type</span>=<span style=\"color: #008080; text-decoration-color: #008080; font-weight: bold\">7</span>, <span style=\"color: #808000; text-decoration-color: #808000\">thread_id</span>=<span style=\"color: #008080; text-decoration-color: #008080; font-weight: bold\">14</span>, <span style=\"color: #808000; text-decoration-color: #808000\">start_mega</span>=<span style=\"color: #008080; text-decoration-color: #008080; font-weight: bold\">105</span>, <span style=\"color: #808000; text-decoration-color: #808000\">stop_mega</span>=<span style=\"color: #008080; text-decoration-color: #008080; font-weight: bold\">140</span>, \n",
       "<span style=\"color: #808000; text-decoration-color: #808000\">namal</span>=<span style=\"color: #008080; text-decoration-color: #008080; font-weight: bold\">229</span>, <span style=\"color: #808000; text-decoration-color: #808000\">ndata</span>=<span style=\"color: #008080; text-decoration-color: #008080; font-weight: bold\">3584</span>, <span style=\"color: #808000; text-decoration-color: #808000\">thresh</span>=<span style=\"color: #008080; text-decoration-color: #008080; font-weight: bold\">-90</span><span style=\"font-weight: bold\">)</span>, <span style=\"color: #800080; text-decoration-color: #800080; font-weight: bold\">SpecData</span><span style=\"font-weight: bold\">(</span><span style=\"color: #808000; text-decoration-color: #808000\">type</span>=<span style=\"color: #008080; text-decoration-color: #008080; font-weight: bold\">7</span>, <span style=\"color: #808000; text-decoration-color: #808000\">thread_id</span>=<span style=\"color: #008080; text-decoration-color: #008080; font-weight: bold\">14</span>, <span style=\"color: #808000; text-decoration-color: #808000\">start_mega</span>=<span style=\"color: #008080; text-decoration-color: #008080; font-weight: bold\">105</span>, \n",
       "<span style=\"color: #808000; text-decoration-color: #808000\">stop_mega</span>=<span style=\"color: #008080; text-decoration-color: #008080; font-weight: bold\">140</span>, <span style=\"color: #808000; text-decoration-color: #808000\">namal</span>=<span style=\"color: #008080; text-decoration-color: #008080; font-weight: bold\">218</span>, <span style=\"color: #808000; text-decoration-color: #808000\">ndata</span>=<span style=\"color: #008080; text-decoration-color: #008080; font-weight: bold\">3584</span>, <span style=\"color: #808000; text-decoration-color: #808000\">thresh</span>=<span style=\"color: #008080; text-decoration-color: #008080; font-weight: bold\">-90</span><span style=\"font-weight: bold\">)</span>, <span style=\"color: #800080; text-decoration-color: #800080; font-weight: bold\">SpecData</span><span style=\"font-weight: bold\">(</span><span style=\"color: #808000; text-decoration-color: #808000\">type</span>=<span style=\"color: #008080; text-decoration-color: #008080; font-weight: bold\">7</span>, <span style=\"color: #808000; text-decoration-color: #808000\">thread_id</span>=<span style=\"color: #008080; text-decoration-color: #008080; font-weight: bold\">14</span>, \n",
       "<span style=\"color: #808000; text-decoration-color: #808000\">start_mega</span>=<span style=\"color: #008080; text-decoration-color: #008080; font-weight: bold\">105</span>, <span style=\"color: #808000; text-decoration-color: #808000\">stop_mega</span>=<span style=\"color: #008080; text-decoration-color: #008080; font-weight: bold\">140</span>, <span style=\"color: #808000; text-decoration-color: #808000\">namal</span>=<span style=\"color: #008080; text-decoration-color: #008080; font-weight: bold\">211</span>, <span style=\"color: #808000; text-decoration-color: #808000\">ndata</span>=<span style=\"color: #008080; text-decoration-color: #008080; font-weight: bold\">3584</span>, <span style=\"color: #808000; text-decoration-color: #808000\">thresh</span>=<span style=\"color: #008080; text-decoration-color: #008080; font-weight: bold\">-90</span><span style=\"font-weight: bold\">)</span>, <span style=\"color: #800080; text-decoration-color: #800080; font-weight: bold\">SpecData</span><span style=\"font-weight: bold\">(</span><span style=\"color: #808000; text-decoration-color: #808000\">type</span>=<span style=\"color: #008080; text-decoration-color: #008080; font-weight: bold\">7</span>, \n",
       "<span style=\"color: #808000; text-decoration-color: #808000\">thread_id</span>=<span style=\"color: #008080; text-decoration-color: #008080; font-weight: bold\">14</span>, <span style=\"color: #808000; text-decoration-color: #808000\">start_mega</span>=<span style=\"color: #008080; text-decoration-color: #008080; font-weight: bold\">105</span>, <span style=\"color: #808000; text-decoration-color: #808000\">stop_mega</span>=<span style=\"color: #008080; text-decoration-color: #008080; font-weight: bold\">140</span>, <span style=\"color: #808000; text-decoration-color: #808000\">namal</span>=<span style=\"color: #008080; text-decoration-color: #008080; font-weight: bold\">223</span>, <span style=\"color: #808000; text-decoration-color: #808000\">ndata</span>=<span style=\"color: #008080; text-decoration-color: #008080; font-weight: bold\">3584</span>, <span style=\"color: #808000; text-decoration-color: #808000\">thresh</span>=<span style=\"color: #008080; text-decoration-color: #008080; font-weight: bold\">-90</span><span style=\"font-weight: bold\">)</span>, \n",
       "<span style=\"color: #800080; text-decoration-color: #800080; font-weight: bold\">SpecData</span><span style=\"font-weight: bold\">(</span><span style=\"color: #808000; text-decoration-color: #808000\">type</span>=<span style=\"color: #008080; text-decoration-color: #008080; font-weight: bold\">7</span>, <span style=\"color: #808000; text-decoration-color: #808000\">thread_id</span>=<span style=\"color: #008080; text-decoration-color: #008080; font-weight: bold\">14</span>, <span style=\"color: #808000; text-decoration-color: #808000\">start_mega</span>=<span style=\"color: #008080; text-decoration-color: #008080; font-weight: bold\">105</span>, <span style=\"color: #808000; text-decoration-color: #808000\">stop_mega</span>=<span style=\"color: #008080; text-decoration-color: #008080; font-weight: bold\">140</span>, <span style=\"color: #808000; text-decoration-color: #808000\">namal</span>=<span style=\"color: #008080; text-decoration-color: #008080; font-weight: bold\">205</span>, <span style=\"color: #808000; text-decoration-color: #808000\">ndata</span>=<span style=\"color: #008080; text-decoration-color: #008080; font-weight: bold\">3584</span>, \n",
       "<span style=\"color: #808000; text-decoration-color: #808000\">thresh</span>=<span style=\"color: #008080; text-decoration-color: #008080; font-weight: bold\">-90</span><span style=\"font-weight: bold\">)</span>, <span style=\"color: #800080; text-decoration-color: #800080; font-weight: bold\">SpecData</span><span style=\"font-weight: bold\">(</span><span style=\"color: #808000; text-decoration-color: #808000\">type</span>=<span style=\"color: #008080; text-decoration-color: #008080; font-weight: bold\">7</span>, <span style=\"color: #808000; text-decoration-color: #808000\">thread_id</span>=<span style=\"color: #008080; text-decoration-color: #008080; font-weight: bold\">14</span>, <span style=\"color: #808000; text-decoration-color: #808000\">start_mega</span>=<span style=\"color: #008080; text-decoration-color: #008080; font-weight: bold\">105</span>, <span style=\"color: #808000; text-decoration-color: #808000\">stop_mega</span>=<span style=\"color: #008080; text-decoration-color: #008080; font-weight: bold\">140</span>, <span style=\"color: #808000; text-decoration-color: #808000\">namal</span>=<span style=\"color: #008080; text-decoration-color: #008080; font-weight: bold\">214</span>, \n",
       "<span style=\"color: #808000; text-decoration-color: #808000\">ndata</span>=<span style=\"color: #008080; text-decoration-color: #008080; font-weight: bold\">3584</span>, <span style=\"color: #808000; text-decoration-color: #808000\">thresh</span>=<span style=\"color: #008080; text-decoration-color: #008080; font-weight: bold\">-90</span><span style=\"font-weight: bold\">)</span>, <span style=\"color: #800080; text-decoration-color: #800080; font-weight: bold\">SpecData</span><span style=\"font-weight: bold\">(</span><span style=\"color: #808000; text-decoration-color: #808000\">type</span>=<span style=\"color: #008080; text-decoration-color: #008080; font-weight: bold\">7</span>, <span style=\"color: #808000; text-decoration-color: #808000\">thread_id</span>=<span style=\"color: #008080; text-decoration-color: #008080; font-weight: bold\">14</span>, <span style=\"color: #808000; text-decoration-color: #808000\">start_mega</span>=<span style=\"color: #008080; text-decoration-color: #008080; font-weight: bold\">105</span>, <span style=\"color: #808000; text-decoration-color: #808000\">stop_mega</span>=<span style=\"color: #008080; text-decoration-color: #008080; font-weight: bold\">140</span>, \n",
       "<span style=\"color: #808000; text-decoration-color: #808000\">namal</span>=<span style=\"color: #008080; text-decoration-color: #008080; font-weight: bold\">228</span>, <span style=\"color: #808000; text-decoration-color: #808000\">ndata</span>=<span style=\"color: #008080; text-decoration-color: #008080; font-weight: bold\">3584</span>, <span style=\"color: #808000; text-decoration-color: #808000\">thresh</span>=<span style=\"color: #008080; text-decoration-color: #008080; font-weight: bold\">-90</span><span style=\"font-weight: bold\">)</span>, <span style=\"color: #800080; text-decoration-color: #800080; font-weight: bold\">SpecData</span><span style=\"font-weight: bold\">(</span><span style=\"color: #808000; text-decoration-color: #808000\">type</span>=<span style=\"color: #008080; text-decoration-color: #008080; font-weight: bold\">7</span>, <span style=\"color: #808000; text-decoration-color: #808000\">thread_id</span>=<span style=\"color: #008080; text-decoration-color: #008080; font-weight: bold\">14</span>, <span style=\"color: #808000; text-decoration-color: #808000\">start_mega</span>=<span style=\"color: #008080; text-decoration-color: #008080; font-weight: bold\">105</span>, \n",
       "<span style=\"color: #808000; text-decoration-color: #808000\">stop_mega</span>=<span style=\"color: #008080; text-decoration-color: #008080; font-weight: bold\">140</span>, <span style=\"color: #808000; text-decoration-color: #808000\">namal</span>=<span style=\"color: #008080; text-decoration-color: #008080; font-weight: bold\">230</span>, <span style=\"color: #808000; text-decoration-color: #808000\">ndata</span>=<span style=\"color: #008080; text-decoration-color: #008080; font-weight: bold\">3584</span>, <span style=\"color: #808000; text-decoration-color: #808000\">thresh</span>=<span style=\"color: #008080; text-decoration-color: #008080; font-weight: bold\">-90</span><span style=\"font-weight: bold\">)]</span>\n",
       "<span style=\"font-weight: bold\">}</span>\n",
       "</pre>\n"
      ],
      "text/plain": [
       "\u001b[1m{\u001b[0m\n",
       "    \u001b[32m'filename'\u001b[0m: \u001b[32m'rfeye002092_210208_T203131_CRFSBINv.2.bin'\u001b[0m,\n",
       "    \u001b[32m'file_version'\u001b[0m: \u001b[1;36m21\u001b[0m,\n",
       "    \u001b[32m'string'\u001b[0m: \u001b[32m'CRFS DATA FILE V021'\u001b[0m,\n",
       "    \u001b[32m'size'\u001b[0m: \u001b[1;36m24\u001b[0m,\n",
       "    \u001b[32m'text'\u001b[0m: \u001b[32m'ClearWrite. Peak.'\u001b[0m,\n",
       "    \u001b[32m'textlen'\u001b[0m: \u001b[1;36m20\u001b[0m,\n",
       "    \u001b[32m'thread_id'\u001b[0m: \u001b[1;36m30\u001b[0m,\n",
       "    \u001b[32m'type'\u001b[0m: \u001b[1;36m3\u001b[0m,\n",
       "    \u001b[32m'gps'\u001b[0m: GPS Data - Median of Coordinates: \u001b[1;36m-14.81416\u001b[0m:\u001b[1;36m-39.03184\u001b[0m Altitude: \u001b[1;36m15.50\u001b[0m #Satellites:\n",
       "\u001b[1;36m11.0\u001b[0m,\n",
       "    \u001b[32m'spectrum'\u001b[0m: \u001b[1m[\u001b[0m\u001b[1;35mSpecData\u001b[0m\u001b[1m(\u001b[0m\u001b[33mtype\u001b[0m=\u001b[1;36m4\u001b[0m, \u001b[33mthread_id\u001b[0m=\u001b[1;36m20\u001b[0m, \u001b[33mstart_mega\u001b[0m=\u001b[1;36m76\u001b[0m, \u001b[33mstop_mega\u001b[0m=\u001b[1;36m108\u001b[0m, \u001b[33mndata\u001b[0m=\u001b[1;36m8192\u001b[0m, \n",
       "\u001b[33mprocessing\u001b[0m=\u001b[32m'Peak'\u001b[0m\u001b[1m)\u001b[0m, \u001b[1;35mSpecData\u001b[0m\u001b[1m(\u001b[0m\u001b[33mtype\u001b[0m=\u001b[1;36m4\u001b[0m, \u001b[33mthread_id\u001b[0m=\u001b[1;36m30\u001b[0m, \u001b[33mstart_mega\u001b[0m=\u001b[1;36m70\u001b[0m, \u001b[33mstop_mega\u001b[0m=\u001b[1;36m110\u001b[0m, \u001b[33mndata\u001b[0m=\u001b[1;36m1024\u001b[0m, \n",
       "\u001b[33mprocessing\u001b[0m=\u001b[32m'Peak'\u001b[0m\u001b[1m)\u001b[0m, \u001b[1;35mSpecData\u001b[0m\u001b[1m(\u001b[0m\u001b[33mtype\u001b[0m=\u001b[1;36m4\u001b[0m, \u001b[33mthread_id\u001b[0m=\u001b[1;36m10\u001b[0m, \u001b[33mstart_mega\u001b[0m=\u001b[1;36m105\u001b[0m, \u001b[33mstop_mega\u001b[0m=\u001b[1;36m140\u001b[0m, \u001b[33mndata\u001b[0m=\u001b[1;36m3584\u001b[0m,\n",
       "\u001b[33mprocessing\u001b[0m=\u001b[32m'Peak'\u001b[0m\u001b[1m)\u001b[0m, \u001b[1;35mSpecData\u001b[0m\u001b[1m(\u001b[0m\u001b[33mtype\u001b[0m=\u001b[1;36m4\u001b[0m, \u001b[33mthread_id\u001b[0m=\u001b[1;36m11\u001b[0m, \u001b[33mstart_mega\u001b[0m=\u001b[1;36m105\u001b[0m, \u001b[33mstop_mega\u001b[0m=\u001b[1;36m140\u001b[0m, \u001b[33mndata\u001b[0m=\u001b[1;36m3584\u001b[0m,\n",
       "\u001b[33mprocessing\u001b[0m=\u001b[32m'Average'\u001b[0m\u001b[1m)\u001b[0m, \u001b[1;35mSpecData\u001b[0m\u001b[1m(\u001b[0m\u001b[33mtype\u001b[0m=\u001b[1;36m4\u001b[0m, \u001b[33mthread_id\u001b[0m=\u001b[1;36m12\u001b[0m, \u001b[33mstart_mega\u001b[0m=\u001b[1;36m105\u001b[0m, \u001b[33mstop_mega\u001b[0m=\u001b[1;36m140\u001b[0m, \n",
       "\u001b[33mndata\u001b[0m=\u001b[1;36m3584\u001b[0m, \u001b[33mprocessing\u001b[0m=\u001b[32m'Peak'\u001b[0m\u001b[1m)\u001b[0m, \u001b[1;35mSpecData\u001b[0m\u001b[1m(\u001b[0m\u001b[33mtype\u001b[0m=\u001b[1;36m4\u001b[0m, \u001b[33mthread_id\u001b[0m=\u001b[1;36m13\u001b[0m, \u001b[33mstart_mega\u001b[0m=\u001b[1;36m105\u001b[0m, \u001b[33mstop_mega\u001b[0m=\u001b[1;36m140\u001b[0m,\n",
       "\u001b[33mndata\u001b[0m=\u001b[1;36m3584\u001b[0m, \u001b[33mprocessing\u001b[0m=\u001b[32m'Average'\u001b[0m\u001b[1m)\u001b[0m, \u001b[1;35mSpecData\u001b[0m\u001b[1m(\u001b[0m\u001b[33mtype\u001b[0m=\u001b[1;36m7\u001b[0m, \u001b[33mthread_id\u001b[0m=\u001b[1;36m14\u001b[0m, \u001b[33mstart_mega\u001b[0m=\u001b[1;36m105\u001b[0m, \n",
       "\u001b[33mstop_mega\u001b[0m=\u001b[1;36m140\u001b[0m, \u001b[33mnamal\u001b[0m=\u001b[1;36m203\u001b[0m, \u001b[33mndata\u001b[0m=\u001b[1;36m3584\u001b[0m, \u001b[33mthresh\u001b[0m=\u001b[1;36m-90\u001b[0m\u001b[1m)\u001b[0m, \u001b[1;35mSpecData\u001b[0m\u001b[1m(\u001b[0m\u001b[33mtype\u001b[0m=\u001b[1;36m8\u001b[0m, \u001b[33mthread_id\u001b[0m=\u001b[1;36m15\u001b[0m, \n",
       "\u001b[33mstart_mega\u001b[0m=\u001b[1;36m105\u001b[0m, \u001b[33mstop_mega\u001b[0m=\u001b[1;36m140\u001b[0m, \u001b[33msampling\u001b[0m=\u001b[1;36m9\u001b[0m, \u001b[33mnamal\u001b[0m=\u001b[1;36m10\u001b[0m, \u001b[33mndata\u001b[0m=\u001b[1;36m3584\u001b[0m, \u001b[33mthresh\u001b[0m=\u001b[1;36m-90\u001b[0m\u001b[1m)\u001b[0m, \n",
       "\u001b[1;35mSpecData\u001b[0m\u001b[1m(\u001b[0m\u001b[33mtype\u001b[0m=\u001b[1;36m7\u001b[0m, \u001b[33mthread_id\u001b[0m=\u001b[1;36m14\u001b[0m, \u001b[33mstart_mega\u001b[0m=\u001b[1;36m105\u001b[0m, \u001b[33mstop_mega\u001b[0m=\u001b[1;36m140\u001b[0m, \u001b[33mnamal\u001b[0m=\u001b[1;36m204\u001b[0m, \u001b[33mndata\u001b[0m=\u001b[1;36m3584\u001b[0m, \n",
       "\u001b[33mthresh\u001b[0m=\u001b[1;36m-90\u001b[0m\u001b[1m)\u001b[0m, \u001b[1;35mSpecData\u001b[0m\u001b[1m(\u001b[0m\u001b[33mtype\u001b[0m=\u001b[1;36m8\u001b[0m, \u001b[33mthread_id\u001b[0m=\u001b[1;36m15\u001b[0m, \u001b[33mstart_mega\u001b[0m=\u001b[1;36m105\u001b[0m, \u001b[33mstop_mega\u001b[0m=\u001b[1;36m140\u001b[0m, \u001b[33msampling\u001b[0m=\u001b[1;36m10\u001b[0m, \n",
       "\u001b[33mnamal\u001b[0m=\u001b[1;36m10\u001b[0m, \u001b[33mndata\u001b[0m=\u001b[1;36m3584\u001b[0m, \u001b[33mthresh\u001b[0m=\u001b[1;36m-90\u001b[0m\u001b[1m)\u001b[0m, \u001b[1;35mSpecData\u001b[0m\u001b[1m(\u001b[0m\u001b[33mtype\u001b[0m=\u001b[1;36m7\u001b[0m, \u001b[33mthread_id\u001b[0m=\u001b[1;36m14\u001b[0m, \u001b[33mstart_mega\u001b[0m=\u001b[1;36m105\u001b[0m, \n",
       "\u001b[33mstop_mega\u001b[0m=\u001b[1;36m140\u001b[0m, \u001b[33mnamal\u001b[0m=\u001b[1;36m221\u001b[0m, \u001b[33mndata\u001b[0m=\u001b[1;36m3584\u001b[0m, \u001b[33mthresh\u001b[0m=\u001b[1;36m-90\u001b[0m\u001b[1m)\u001b[0m, \u001b[1;35mSpecData\u001b[0m\u001b[1m(\u001b[0m\u001b[33mtype\u001b[0m=\u001b[1;36m7\u001b[0m, \u001b[33mthread_id\u001b[0m=\u001b[1;36m14\u001b[0m, \n",
       "\u001b[33mstart_mega\u001b[0m=\u001b[1;36m105\u001b[0m, \u001b[33mstop_mega\u001b[0m=\u001b[1;36m140\u001b[0m, \u001b[33mnamal\u001b[0m=\u001b[1;36m206\u001b[0m, \u001b[33mndata\u001b[0m=\u001b[1;36m3584\u001b[0m, \u001b[33mthresh\u001b[0m=\u001b[1;36m-90\u001b[0m\u001b[1m)\u001b[0m, \u001b[1;35mSpecData\u001b[0m\u001b[1m(\u001b[0m\u001b[33mtype\u001b[0m=\u001b[1;36m7\u001b[0m, \n",
       "\u001b[33mthread_id\u001b[0m=\u001b[1;36m14\u001b[0m, \u001b[33mstart_mega\u001b[0m=\u001b[1;36m105\u001b[0m, \u001b[33mstop_mega\u001b[0m=\u001b[1;36m140\u001b[0m, \u001b[33mnamal\u001b[0m=\u001b[1;36m207\u001b[0m, \u001b[33mndata\u001b[0m=\u001b[1;36m3584\u001b[0m, \u001b[33mthresh\u001b[0m=\u001b[1;36m-90\u001b[0m\u001b[1m)\u001b[0m, \n",
       "\u001b[1;35mSpecData\u001b[0m\u001b[1m(\u001b[0m\u001b[33mtype\u001b[0m=\u001b[1;36m7\u001b[0m, \u001b[33mthread_id\u001b[0m=\u001b[1;36m14\u001b[0m, \u001b[33mstart_mega\u001b[0m=\u001b[1;36m105\u001b[0m, \u001b[33mstop_mega\u001b[0m=\u001b[1;36m140\u001b[0m, \u001b[33mnamal\u001b[0m=\u001b[1;36m213\u001b[0m, \u001b[33mndata\u001b[0m=\u001b[1;36m3584\u001b[0m, \n",
       "\u001b[33mthresh\u001b[0m=\u001b[1;36m-90\u001b[0m\u001b[1m)\u001b[0m, \u001b[1;35mSpecData\u001b[0m\u001b[1m(\u001b[0m\u001b[33mtype\u001b[0m=\u001b[1;36m7\u001b[0m, \u001b[33mthread_id\u001b[0m=\u001b[1;36m14\u001b[0m, \u001b[33mstart_mega\u001b[0m=\u001b[1;36m105\u001b[0m, \u001b[33mstop_mega\u001b[0m=\u001b[1;36m140\u001b[0m, \u001b[33mnamal\u001b[0m=\u001b[1;36m209\u001b[0m, \n",
       "\u001b[33mndata\u001b[0m=\u001b[1;36m3584\u001b[0m, \u001b[33mthresh\u001b[0m=\u001b[1;36m-90\u001b[0m\u001b[1m)\u001b[0m, \u001b[1;35mSpecData\u001b[0m\u001b[1m(\u001b[0m\u001b[33mtype\u001b[0m=\u001b[1;36m7\u001b[0m, \u001b[33mthread_id\u001b[0m=\u001b[1;36m14\u001b[0m, \u001b[33mstart_mega\u001b[0m=\u001b[1;36m105\u001b[0m, \u001b[33mstop_mega\u001b[0m=\u001b[1;36m140\u001b[0m, \n",
       "\u001b[33mnamal\u001b[0m=\u001b[1;36m226\u001b[0m, \u001b[33mndata\u001b[0m=\u001b[1;36m3584\u001b[0m, \u001b[33mthresh\u001b[0m=\u001b[1;36m-90\u001b[0m\u001b[1m)\u001b[0m, \u001b[1;35mSpecData\u001b[0m\u001b[1m(\u001b[0m\u001b[33mtype\u001b[0m=\u001b[1;36m7\u001b[0m, \u001b[33mthread_id\u001b[0m=\u001b[1;36m14\u001b[0m, \u001b[33mstart_mega\u001b[0m=\u001b[1;36m105\u001b[0m, \n",
       "\u001b[33mstop_mega\u001b[0m=\u001b[1;36m140\u001b[0m, \u001b[33mnamal\u001b[0m=\u001b[1;36m212\u001b[0m, \u001b[33mndata\u001b[0m=\u001b[1;36m3584\u001b[0m, \u001b[33mthresh\u001b[0m=\u001b[1;36m-90\u001b[0m\u001b[1m)\u001b[0m, \u001b[1;35mSpecData\u001b[0m\u001b[1m(\u001b[0m\u001b[33mtype\u001b[0m=\u001b[1;36m7\u001b[0m, \u001b[33mthread_id\u001b[0m=\u001b[1;36m14\u001b[0m, \n",
       "\u001b[33mstart_mega\u001b[0m=\u001b[1;36m105\u001b[0m, \u001b[33mstop_mega\u001b[0m=\u001b[1;36m140\u001b[0m, \u001b[33mnamal\u001b[0m=\u001b[1;36m215\u001b[0m, \u001b[33mndata\u001b[0m=\u001b[1;36m3584\u001b[0m, \u001b[33mthresh\u001b[0m=\u001b[1;36m-90\u001b[0m\u001b[1m)\u001b[0m, \u001b[1;35mSpecData\u001b[0m\u001b[1m(\u001b[0m\u001b[33mtype\u001b[0m=\u001b[1;36m7\u001b[0m, \n",
       "\u001b[33mthread_id\u001b[0m=\u001b[1;36m14\u001b[0m, \u001b[33mstart_mega\u001b[0m=\u001b[1;36m105\u001b[0m, \u001b[33mstop_mega\u001b[0m=\u001b[1;36m140\u001b[0m, \u001b[33mnamal\u001b[0m=\u001b[1;36m208\u001b[0m, \u001b[33mndata\u001b[0m=\u001b[1;36m3584\u001b[0m, \u001b[33mthresh\u001b[0m=\u001b[1;36m-90\u001b[0m\u001b[1m)\u001b[0m, \n",
       "\u001b[1;35mSpecData\u001b[0m\u001b[1m(\u001b[0m\u001b[33mtype\u001b[0m=\u001b[1;36m7\u001b[0m, \u001b[33mthread_id\u001b[0m=\u001b[1;36m14\u001b[0m, \u001b[33mstart_mega\u001b[0m=\u001b[1;36m105\u001b[0m, \u001b[33mstop_mega\u001b[0m=\u001b[1;36m140\u001b[0m, \u001b[33mnamal\u001b[0m=\u001b[1;36m210\u001b[0m, \u001b[33mndata\u001b[0m=\u001b[1;36m3584\u001b[0m, \n",
       "\u001b[33mthresh\u001b[0m=\u001b[1;36m-90\u001b[0m\u001b[1m)\u001b[0m, \u001b[1;35mSpecData\u001b[0m\u001b[1m(\u001b[0m\u001b[33mtype\u001b[0m=\u001b[1;36m7\u001b[0m, \u001b[33mthread_id\u001b[0m=\u001b[1;36m14\u001b[0m, \u001b[33mstart_mega\u001b[0m=\u001b[1;36m105\u001b[0m, \u001b[33mstop_mega\u001b[0m=\u001b[1;36m140\u001b[0m, \u001b[33mnamal\u001b[0m=\u001b[1;36m201\u001b[0m, \n",
       "\u001b[33mndata\u001b[0m=\u001b[1;36m3584\u001b[0m, \u001b[33mthresh\u001b[0m=\u001b[1;36m-90\u001b[0m\u001b[1m)\u001b[0m, \u001b[1;35mSpecData\u001b[0m\u001b[1m(\u001b[0m\u001b[33mtype\u001b[0m=\u001b[1;36m7\u001b[0m, \u001b[33mthread_id\u001b[0m=\u001b[1;36m14\u001b[0m, \u001b[33mstart_mega\u001b[0m=\u001b[1;36m105\u001b[0m, \u001b[33mstop_mega\u001b[0m=\u001b[1;36m140\u001b[0m, \n",
       "\u001b[33mnamal\u001b[0m=\u001b[1;36m219\u001b[0m, \u001b[33mndata\u001b[0m=\u001b[1;36m3584\u001b[0m, \u001b[33mthresh\u001b[0m=\u001b[1;36m-90\u001b[0m\u001b[1m)\u001b[0m, \u001b[1;35mSpecData\u001b[0m\u001b[1m(\u001b[0m\u001b[33mtype\u001b[0m=\u001b[1;36m7\u001b[0m, \u001b[33mthread_id\u001b[0m=\u001b[1;36m14\u001b[0m, \u001b[33mstart_mega\u001b[0m=\u001b[1;36m105\u001b[0m, \n",
       "\u001b[33mstop_mega\u001b[0m=\u001b[1;36m140\u001b[0m, \u001b[33mnamal\u001b[0m=\u001b[1;36m202\u001b[0m, \u001b[33mndata\u001b[0m=\u001b[1;36m3584\u001b[0m, \u001b[33mthresh\u001b[0m=\u001b[1;36m-90\u001b[0m\u001b[1m)\u001b[0m, \u001b[1;35mSpecData\u001b[0m\u001b[1m(\u001b[0m\u001b[33mtype\u001b[0m=\u001b[1;36m7\u001b[0m, \u001b[33mthread_id\u001b[0m=\u001b[1;36m14\u001b[0m, \n",
       "\u001b[33mstart_mega\u001b[0m=\u001b[1;36m105\u001b[0m, \u001b[33mstop_mega\u001b[0m=\u001b[1;36m140\u001b[0m, \u001b[33mnamal\u001b[0m=\u001b[1;36m222\u001b[0m, \u001b[33mndata\u001b[0m=\u001b[1;36m3584\u001b[0m, \u001b[33mthresh\u001b[0m=\u001b[1;36m-90\u001b[0m\u001b[1m)\u001b[0m, \u001b[1;35mSpecData\u001b[0m\u001b[1m(\u001b[0m\u001b[33mtype\u001b[0m=\u001b[1;36m7\u001b[0m, \n",
       "\u001b[33mthread_id\u001b[0m=\u001b[1;36m14\u001b[0m, \u001b[33mstart_mega\u001b[0m=\u001b[1;36m105\u001b[0m, \u001b[33mstop_mega\u001b[0m=\u001b[1;36m140\u001b[0m, \u001b[33mnamal\u001b[0m=\u001b[1;36m220\u001b[0m, \u001b[33mndata\u001b[0m=\u001b[1;36m3584\u001b[0m, \u001b[33mthresh\u001b[0m=\u001b[1;36m-90\u001b[0m\u001b[1m)\u001b[0m, \n",
       "\u001b[1;35mSpecData\u001b[0m\u001b[1m(\u001b[0m\u001b[33mtype\u001b[0m=\u001b[1;36m7\u001b[0m, \u001b[33mthread_id\u001b[0m=\u001b[1;36m14\u001b[0m, \u001b[33mstart_mega\u001b[0m=\u001b[1;36m105\u001b[0m, \u001b[33mstop_mega\u001b[0m=\u001b[1;36m140\u001b[0m, \u001b[33mnamal\u001b[0m=\u001b[1;36m216\u001b[0m, \u001b[33mndata\u001b[0m=\u001b[1;36m3584\u001b[0m, \n",
       "\u001b[33mthresh\u001b[0m=\u001b[1;36m-90\u001b[0m\u001b[1m)\u001b[0m, \u001b[1;35mSpecData\u001b[0m\u001b[1m(\u001b[0m\u001b[33mtype\u001b[0m=\u001b[1;36m7\u001b[0m, \u001b[33mthread_id\u001b[0m=\u001b[1;36m14\u001b[0m, \u001b[33mstart_mega\u001b[0m=\u001b[1;36m105\u001b[0m, \u001b[33mstop_mega\u001b[0m=\u001b[1;36m140\u001b[0m, \u001b[33mnamal\u001b[0m=\u001b[1;36m224\u001b[0m, \n",
       "\u001b[33mndata\u001b[0m=\u001b[1;36m3584\u001b[0m, \u001b[33mthresh\u001b[0m=\u001b[1;36m-90\u001b[0m\u001b[1m)\u001b[0m, \u001b[1;35mSpecData\u001b[0m\u001b[1m(\u001b[0m\u001b[33mtype\u001b[0m=\u001b[1;36m7\u001b[0m, \u001b[33mthread_id\u001b[0m=\u001b[1;36m14\u001b[0m, \u001b[33mstart_mega\u001b[0m=\u001b[1;36m105\u001b[0m, \u001b[33mstop_mega\u001b[0m=\u001b[1;36m140\u001b[0m, \n",
       "\u001b[33mnamal\u001b[0m=\u001b[1;36m229\u001b[0m, \u001b[33mndata\u001b[0m=\u001b[1;36m3584\u001b[0m, \u001b[33mthresh\u001b[0m=\u001b[1;36m-90\u001b[0m\u001b[1m)\u001b[0m, \u001b[1;35mSpecData\u001b[0m\u001b[1m(\u001b[0m\u001b[33mtype\u001b[0m=\u001b[1;36m7\u001b[0m, \u001b[33mthread_id\u001b[0m=\u001b[1;36m14\u001b[0m, \u001b[33mstart_mega\u001b[0m=\u001b[1;36m105\u001b[0m, \n",
       "\u001b[33mstop_mega\u001b[0m=\u001b[1;36m140\u001b[0m, \u001b[33mnamal\u001b[0m=\u001b[1;36m218\u001b[0m, \u001b[33mndata\u001b[0m=\u001b[1;36m3584\u001b[0m, \u001b[33mthresh\u001b[0m=\u001b[1;36m-90\u001b[0m\u001b[1m)\u001b[0m, \u001b[1;35mSpecData\u001b[0m\u001b[1m(\u001b[0m\u001b[33mtype\u001b[0m=\u001b[1;36m7\u001b[0m, \u001b[33mthread_id\u001b[0m=\u001b[1;36m14\u001b[0m, \n",
       "\u001b[33mstart_mega\u001b[0m=\u001b[1;36m105\u001b[0m, \u001b[33mstop_mega\u001b[0m=\u001b[1;36m140\u001b[0m, \u001b[33mnamal\u001b[0m=\u001b[1;36m211\u001b[0m, \u001b[33mndata\u001b[0m=\u001b[1;36m3584\u001b[0m, \u001b[33mthresh\u001b[0m=\u001b[1;36m-90\u001b[0m\u001b[1m)\u001b[0m, \u001b[1;35mSpecData\u001b[0m\u001b[1m(\u001b[0m\u001b[33mtype\u001b[0m=\u001b[1;36m7\u001b[0m, \n",
       "\u001b[33mthread_id\u001b[0m=\u001b[1;36m14\u001b[0m, \u001b[33mstart_mega\u001b[0m=\u001b[1;36m105\u001b[0m, \u001b[33mstop_mega\u001b[0m=\u001b[1;36m140\u001b[0m, \u001b[33mnamal\u001b[0m=\u001b[1;36m223\u001b[0m, \u001b[33mndata\u001b[0m=\u001b[1;36m3584\u001b[0m, \u001b[33mthresh\u001b[0m=\u001b[1;36m-90\u001b[0m\u001b[1m)\u001b[0m, \n",
       "\u001b[1;35mSpecData\u001b[0m\u001b[1m(\u001b[0m\u001b[33mtype\u001b[0m=\u001b[1;36m7\u001b[0m, \u001b[33mthread_id\u001b[0m=\u001b[1;36m14\u001b[0m, \u001b[33mstart_mega\u001b[0m=\u001b[1;36m105\u001b[0m, \u001b[33mstop_mega\u001b[0m=\u001b[1;36m140\u001b[0m, \u001b[33mnamal\u001b[0m=\u001b[1;36m205\u001b[0m, \u001b[33mndata\u001b[0m=\u001b[1;36m3584\u001b[0m, \n",
       "\u001b[33mthresh\u001b[0m=\u001b[1;36m-90\u001b[0m\u001b[1m)\u001b[0m, \u001b[1;35mSpecData\u001b[0m\u001b[1m(\u001b[0m\u001b[33mtype\u001b[0m=\u001b[1;36m7\u001b[0m, \u001b[33mthread_id\u001b[0m=\u001b[1;36m14\u001b[0m, \u001b[33mstart_mega\u001b[0m=\u001b[1;36m105\u001b[0m, \u001b[33mstop_mega\u001b[0m=\u001b[1;36m140\u001b[0m, \u001b[33mnamal\u001b[0m=\u001b[1;36m214\u001b[0m, \n",
       "\u001b[33mndata\u001b[0m=\u001b[1;36m3584\u001b[0m, \u001b[33mthresh\u001b[0m=\u001b[1;36m-90\u001b[0m\u001b[1m)\u001b[0m, \u001b[1;35mSpecData\u001b[0m\u001b[1m(\u001b[0m\u001b[33mtype\u001b[0m=\u001b[1;36m7\u001b[0m, \u001b[33mthread_id\u001b[0m=\u001b[1;36m14\u001b[0m, \u001b[33mstart_mega\u001b[0m=\u001b[1;36m105\u001b[0m, \u001b[33mstop_mega\u001b[0m=\u001b[1;36m140\u001b[0m, \n",
       "\u001b[33mnamal\u001b[0m=\u001b[1;36m228\u001b[0m, \u001b[33mndata\u001b[0m=\u001b[1;36m3584\u001b[0m, \u001b[33mthresh\u001b[0m=\u001b[1;36m-90\u001b[0m\u001b[1m)\u001b[0m, \u001b[1;35mSpecData\u001b[0m\u001b[1m(\u001b[0m\u001b[33mtype\u001b[0m=\u001b[1;36m7\u001b[0m, \u001b[33mthread_id\u001b[0m=\u001b[1;36m14\u001b[0m, \u001b[33mstart_mega\u001b[0m=\u001b[1;36m105\u001b[0m, \n",
       "\u001b[33mstop_mega\u001b[0m=\u001b[1;36m140\u001b[0m, \u001b[33mnamal\u001b[0m=\u001b[1;36m230\u001b[0m, \u001b[33mndata\u001b[0m=\u001b[1;36m3584\u001b[0m, \u001b[33mthresh\u001b[0m=\u001b[1;36m-90\u001b[0m\u001b[1m)\u001b[0m\u001b[1m]\u001b[0m\n",
       "\u001b[1m}\u001b[0m\n"
      ]
     },
     "metadata": {},
     "output_type": "display_data"
    }
   ],
   "source": [
    "from rfpye.parser import parse_bin\n",
    "file = r'binfiles\\v2\\rfeye002092_210208_T203131_CRFSBINv.2.bin'\n",
    "blocks = parse_bin(file)\n",
    "print(blocks)"
   ]
  },
  {
   "cell_type": "code",
   "execution_count": null,
   "metadata": {},
   "outputs": [
    {
     "data": {
      "text/html": [
       "<div>\n",
       "<style scoped>\n",
       "    .dataframe tbody tr th:only-of-type {\n",
       "        vertical-align: middle;\n",
       "    }\n",
       "\n",
       "    .dataframe tbody tr th {\n",
       "        vertical-align: top;\n",
       "    }\n",
       "\n",
       "    .dataframe thead th {\n",
       "        text-align: right;\n",
       "    }\n",
       "</style>\n",
       "<table border=\"1\" class=\"dataframe\">\n",
       "  <thead>\n",
       "    <tr style=\"text-align: right;\">\n",
       "      <th>Frequencies</th>\n",
       "      <th>76.000000</th>\n",
       "      <th>76.003907</th>\n",
       "      <th>76.007813</th>\n",
       "      <th>107.992187</th>\n",
       "      <th>107.996093</th>\n",
       "      <th>108.000000</th>\n",
       "    </tr>\n",
       "    <tr>\n",
       "      <th>Time</th>\n",
       "      <th></th>\n",
       "      <th></th>\n",
       "      <th></th>\n",
       "      <th></th>\n",
       "      <th></th>\n",
       "      <th></th>\n",
       "    </tr>\n",
       "  </thead>\n",
       "  <tbody>\n",
       "    <tr>\n",
       "      <th>0</th>\n",
       "      <td>10.5</td>\n",
       "      <td>11.5</td>\n",
       "      <td>13.0</td>\n",
       "      <td>31.0</td>\n",
       "      <td>26.0</td>\n",
       "      <td>22.5</td>\n",
       "    </tr>\n",
       "    <tr>\n",
       "      <th>1</th>\n",
       "      <td>18.0</td>\n",
       "      <td>19.5</td>\n",
       "      <td>16.5</td>\n",
       "      <td>27.5</td>\n",
       "      <td>29.5</td>\n",
       "      <td>25.5</td>\n",
       "    </tr>\n",
       "    <tr>\n",
       "      <th>2</th>\n",
       "      <td>11.5</td>\n",
       "      <td>5.0</td>\n",
       "      <td>8.0</td>\n",
       "      <td>30.5</td>\n",
       "      <td>28.5</td>\n",
       "      <td>30.0</td>\n",
       "    </tr>\n",
       "    <tr>\n",
       "      <th>3</th>\n",
       "      <td>17.5</td>\n",
       "      <td>15.5</td>\n",
       "      <td>11.0</td>\n",
       "      <td>33.5</td>\n",
       "      <td>29.5</td>\n",
       "      <td>30.0</td>\n",
       "    </tr>\n",
       "    <tr>\n",
       "      <th>4</th>\n",
       "      <td>13.0</td>\n",
       "      <td>12.5</td>\n",
       "      <td>14.0</td>\n",
       "      <td>30.0</td>\n",
       "      <td>29.5</td>\n",
       "      <td>28.5</td>\n",
       "    </tr>\n",
       "  </tbody>\n",
       "</table>\n",
       "</div>"
      ],
      "text/plain": [
       "Frequencies  76.000000   76.003907   76.007813   107.992187  107.996093  \\\n",
       "Time                                                                      \n",
       "0                  10.5        11.5        13.0        31.0        26.0   \n",
       "1                  18.0        19.5        16.5        27.5        29.5   \n",
       "2                  11.5         5.0         8.0        30.5        28.5   \n",
       "3                  17.5        15.5        11.0        33.5        29.5   \n",
       "4                  13.0        12.5        14.0        30.0        29.5   \n",
       "\n",
       "Frequencies  108.000000  \n",
       "Time                     \n",
       "0                  22.5  \n",
       "1                  25.5  \n",
       "2                  30.0  \n",
       "3                  30.0  \n",
       "4                  28.5  "
      ]
     },
     "execution_count": null,
     "metadata": {},
     "output_type": "execute_result"
    }
   ],
   "source": [
    "blocks['spectrum'][0].matrix().iloc[:5, [0, 1, 2, -3, -2, -1]]"
   ]
  },
  {
   "cell_type": "markdown",
   "metadata": {},
   "source": [
    "### Fluxo de Ocupação"
   ]
  },
  {
   "cell_type": "code",
   "execution_count": null,
   "metadata": {},
   "outputs": [
    {
     "data": {
      "text/html": [
       "<pre style=\"white-space:pre;overflow-x:auto;line-height:normal;font-family:Menlo,'DejaVu Sans Mono',consolas,'Courier New',monospace\"><span style=\"font-weight: bold\">{</span>\n",
       "    <span style=\"color: #008000; text-decoration-color: #008000\">'filename'</span>: <span style=\"color: #008000; text-decoration-color: #008000\">'rfeye002090-VCP_FM_occ15min_191221_085803.bin'</span>,\n",
       "    <span style=\"color: #008000; text-decoration-color: #008000\">'file_version'</span>: <span style=\"color: #008080; text-decoration-color: #008080; font-weight: bold\">22</span>,\n",
       "    <span style=\"color: #008000; text-decoration-color: #008000\">'string'</span>: <span style=\"color: #008000; text-decoration-color: #008000\">'CRFS DATA FILE V022'</span>,\n",
       "    <span style=\"color: #008000; text-decoration-color: #008000\">'hostname'</span>: <span style=\"color: #008000; text-decoration-color: #008000\">'rfeye002090-VCP'</span>,\n",
       "    <span style=\"color: #008000; text-decoration-color: #008000\">'method'</span>: <span style=\"color: #008000; text-decoration-color: #008000\">'CRFS default method'</span>,\n",
       "    <span style=\"color: #008000; text-decoration-color: #008000\">'unit_info'</span>: <span style=\"color: #008000; text-decoration-color: #008000\">'RFeye002090'</span>,\n",
       "    <span style=\"color: #008000; text-decoration-color: #008000\">'file_number'</span>: <span style=\"color: #008080; text-decoration-color: #008080; font-weight: bold\">0</span>,\n",
       "    <span style=\"color: #008000; text-decoration-color: #008000\">'identifier'</span>: <span style=\"color: #008000; text-decoration-color: #008000\">'LOGGER_VERSION'</span>,\n",
       "    <span style=\"color: #008000; text-decoration-color: #008000\">'group_id'</span>: <span style=\"color: #008080; text-decoration-color: #008080; font-weight: bold\">0</span>,\n",
       "    <span style=\"color: #008000; text-decoration-color: #008000\">'text'</span>: <span style=\"color: #008000; text-decoration-color: #008000\">'Ocupacao em 15 minutos na faixa FM'</span>,\n",
       "    <span style=\"color: #008000; text-decoration-color: #008000\">'gps'</span>: GPS Data - Median of Coordinates: <span style=\"color: #008080; text-decoration-color: #008080; font-weight: bold\">-1.00000</span>:<span style=\"color: #008080; text-decoration-color: #008080; font-weight: bold\">-1.00000</span> Altitude: <span style=\"color: #008080; text-decoration-color: #008080; font-weight: bold\">-1.00</span> #Satellites: \n",
       "<span style=\"color: #008080; text-decoration-color: #008080; font-weight: bold\">0.0</span>,\n",
       "    <span style=\"color: #008000; text-decoration-color: #008000\">'spectrum'</span>: <span style=\"font-weight: bold\">[</span><span style=\"color: #800080; text-decoration-color: #800080; font-weight: bold\">SpecData</span><span style=\"font-weight: bold\">(</span><span style=\"color: #808000; text-decoration-color: #808000\">type</span>=<span style=\"color: #008080; text-decoration-color: #008080; font-weight: bold\">65</span>, <span style=\"color: #808000; text-decoration-color: #808000\">thread_id</span>=<span style=\"color: #008080; text-decoration-color: #008080; font-weight: bold\">121</span>, <span style=\"color: #808000; text-decoration-color: #808000\">start_mega</span>=<span style=\"color: #008080; text-decoration-color: #008080; font-weight: bold\">80.0</span>, <span style=\"color: #808000; text-decoration-color: #808000\">stop_mega</span>=<span style=\"color: #008080; text-decoration-color: #008080; font-weight: bold\">110.0</span>, \n",
       "<span style=\"color: #808000; text-decoration-color: #808000\">dtype</span>=<span style=\"color: #008000; text-decoration-color: #008000\">'dBm'</span>, <span style=\"color: #808000; text-decoration-color: #808000\">ndata</span>=<span style=\"color: #008080; text-decoration-color: #008080; font-weight: bold\">1536</span>, <span style=\"color: #808000; text-decoration-color: #808000\">processing</span>=<span style=\"color: #008000; text-decoration-color: #008000\">'peak'</span>, <span style=\"color: #808000; text-decoration-color: #808000\">antuid</span>=<span style=\"color: #008080; text-decoration-color: #008080; font-weight: bold\">0</span>, <span style=\"color: #808000; text-decoration-color: #808000\">thresh</span>=<span style=\"color: #008080; text-decoration-color: #008080; font-weight: bold\">-60</span><span style=\"font-weight: bold\">)]</span>\n",
       "<span style=\"font-weight: bold\">}</span>\n",
       "</pre>\n"
      ],
      "text/plain": [
       "\u001b[1m{\u001b[0m\n",
       "    \u001b[32m'filename'\u001b[0m: \u001b[32m'rfeye002090-VCP_FM_occ15min_191221_085803.bin'\u001b[0m,\n",
       "    \u001b[32m'file_version'\u001b[0m: \u001b[1;36m22\u001b[0m,\n",
       "    \u001b[32m'string'\u001b[0m: \u001b[32m'CRFS DATA FILE V022'\u001b[0m,\n",
       "    \u001b[32m'hostname'\u001b[0m: \u001b[32m'rfeye002090-VCP'\u001b[0m,\n",
       "    \u001b[32m'method'\u001b[0m: \u001b[32m'CRFS default method'\u001b[0m,\n",
       "    \u001b[32m'unit_info'\u001b[0m: \u001b[32m'RFeye002090'\u001b[0m,\n",
       "    \u001b[32m'file_number'\u001b[0m: \u001b[1;36m0\u001b[0m,\n",
       "    \u001b[32m'identifier'\u001b[0m: \u001b[32m'LOGGER_VERSION'\u001b[0m,\n",
       "    \u001b[32m'group_id'\u001b[0m: \u001b[1;36m0\u001b[0m,\n",
       "    \u001b[32m'text'\u001b[0m: \u001b[32m'Ocupacao em 15 minutos na faixa FM'\u001b[0m,\n",
       "    \u001b[32m'gps'\u001b[0m: GPS Data - Median of Coordinates: \u001b[1;36m-1.00000\u001b[0m:\u001b[1;36m-1.00000\u001b[0m Altitude: \u001b[1;36m-1.00\u001b[0m #Satellites: \n",
       "\u001b[1;36m0.0\u001b[0m,\n",
       "    \u001b[32m'spectrum'\u001b[0m: \u001b[1m[\u001b[0m\u001b[1;35mSpecData\u001b[0m\u001b[1m(\u001b[0m\u001b[33mtype\u001b[0m=\u001b[1;36m65\u001b[0m, \u001b[33mthread_id\u001b[0m=\u001b[1;36m121\u001b[0m, \u001b[33mstart_mega\u001b[0m=\u001b[1;36m80\u001b[0m\u001b[1;36m.0\u001b[0m, \u001b[33mstop_mega\u001b[0m=\u001b[1;36m110\u001b[0m\u001b[1;36m.0\u001b[0m, \n",
       "\u001b[33mdtype\u001b[0m=\u001b[32m'dBm'\u001b[0m, \u001b[33mndata\u001b[0m=\u001b[1;36m1536\u001b[0m, \u001b[33mprocessing\u001b[0m=\u001b[32m'peak'\u001b[0m, \u001b[33mantuid\u001b[0m=\u001b[1;36m0\u001b[0m, \u001b[33mthresh\u001b[0m=\u001b[1;36m-60\u001b[0m\u001b[1m)\u001b[0m\u001b[1m]\u001b[0m\n",
       "\u001b[1m}\u001b[0m\n"
      ]
     },
     "metadata": {},
     "output_type": "display_data"
    }
   ],
   "source": [
    "from rfpye.parser import parse_bin\n",
    "file = r'binfiles\\occ\\rfeye002090-VCP_FM_occ15min_191221_085803.bin'\n",
    "blocks = parse_bin(file)\n",
    "print(blocks)"
   ]
  },
  {
   "cell_type": "code",
   "execution_count": null,
   "metadata": {},
   "outputs": [
    {
     "data": {
      "text/html": [
       "<div>\n",
       "<style scoped>\n",
       "    .dataframe tbody tr th:only-of-type {\n",
       "        vertical-align: middle;\n",
       "    }\n",
       "\n",
       "    .dataframe tbody tr th {\n",
       "        vertical-align: top;\n",
       "    }\n",
       "\n",
       "    .dataframe thead th {\n",
       "        text-align: right;\n",
       "    }\n",
       "</style>\n",
       "<table border=\"1\" class=\"dataframe\">\n",
       "  <thead>\n",
       "    <tr style=\"text-align: right;\">\n",
       "      <th>Frequencies</th>\n",
       "      <th>99.602606</th>\n",
       "      <th>99.622150</th>\n",
       "      <th>99.641694</th>\n",
       "      <th>99.661238</th>\n",
       "      <th>99.680782</th>\n",
       "      <th>99.700326</th>\n",
       "      <th>99.719870</th>\n",
       "    </tr>\n",
       "    <tr>\n",
       "      <th>Time</th>\n",
       "      <th></th>\n",
       "      <th></th>\n",
       "      <th></th>\n",
       "      <th></th>\n",
       "      <th></th>\n",
       "      <th></th>\n",
       "      <th></th>\n",
       "    </tr>\n",
       "  </thead>\n",
       "  <tbody>\n",
       "    <tr>\n",
       "      <th>2019-12-21 09:00:01.367337</th>\n",
       "      <td>17.5</td>\n",
       "      <td>36.0</td>\n",
       "      <td>53.5</td>\n",
       "      <td>62.5</td>\n",
       "      <td>76.5</td>\n",
       "      <td>80.0</td>\n",
       "      <td>72.5</td>\n",
       "    </tr>\n",
       "    <tr>\n",
       "      <th>2019-12-21 09:15:01.357259</th>\n",
       "      <td>15.0</td>\n",
       "      <td>29.5</td>\n",
       "      <td>48.0</td>\n",
       "      <td>61.0</td>\n",
       "      <td>76.5</td>\n",
       "      <td>78.5</td>\n",
       "      <td>71.0</td>\n",
       "    </tr>\n",
       "    <tr>\n",
       "      <th>2019-12-21 09:30:01.357357</th>\n",
       "      <td>16.0</td>\n",
       "      <td>28.5</td>\n",
       "      <td>46.5</td>\n",
       "      <td>61.0</td>\n",
       "      <td>76.5</td>\n",
       "      <td>77.5</td>\n",
       "      <td>70.0</td>\n",
       "    </tr>\n",
       "    <tr>\n",
       "      <th>2019-12-21 09:45:01.357273</th>\n",
       "      <td>15.0</td>\n",
       "      <td>33.0</td>\n",
       "      <td>49.0</td>\n",
       "      <td>66.0</td>\n",
       "      <td>76.0</td>\n",
       "      <td>78.0</td>\n",
       "      <td>70.0</td>\n",
       "    </tr>\n",
       "    <tr>\n",
       "      <th>2019-12-21 10:00:01.419225</th>\n",
       "      <td>15.5</td>\n",
       "      <td>35.0</td>\n",
       "      <td>50.0</td>\n",
       "      <td>62.0</td>\n",
       "      <td>74.0</td>\n",
       "      <td>77.0</td>\n",
       "      <td>67.5</td>\n",
       "    </tr>\n",
       "  </tbody>\n",
       "</table>\n",
       "</div>"
      ],
      "text/plain": [
       "Frequencies                 99.602606  99.622150  99.641694  99.661238  \\\n",
       "Time                                                                     \n",
       "2019-12-21 09:00:01.367337       17.5       36.0       53.5       62.5   \n",
       "2019-12-21 09:15:01.357259       15.0       29.5       48.0       61.0   \n",
       "2019-12-21 09:30:01.357357       16.0       28.5       46.5       61.0   \n",
       "2019-12-21 09:45:01.357273       15.0       33.0       49.0       66.0   \n",
       "2019-12-21 10:00:01.419225       15.5       35.0       50.0       62.0   \n",
       "\n",
       "Frequencies                 99.680782  99.700326  99.719870  \n",
       "Time                                                         \n",
       "2019-12-21 09:00:01.367337       76.5       80.0       72.5  \n",
       "2019-12-21 09:15:01.357259       76.5       78.5       71.0  \n",
       "2019-12-21 09:30:01.357357       76.5       77.5       70.0  \n",
       "2019-12-21 09:45:01.357273       76.0       78.0       70.0  \n",
       "2019-12-21 10:00:01.419225       74.0       77.0       67.5  "
      ]
     },
     "execution_count": null,
     "metadata": {},
     "output_type": "execute_result"
    }
   ],
   "source": [
    "blocks['spectrum'][-1].matrix().iloc[:5, 1003:1010]"
   ]
  }
 ],
 "metadata": {
  "kernelspec": {
   "display_name": "Python [conda env:rfpye]",
   "language": "python",
   "name": "python3"
  }
 },
 "nbformat": 4,
 "nbformat_minor": 4
}
