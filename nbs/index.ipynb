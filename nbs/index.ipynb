{
 "cells": [
  {
   "cell_type": "code",
   "execution_count": null,
   "metadata": {},
   "outputs": [],
   "source": [
    "#hide\n",
    "%load_ext autoreload\n",
    "%autoreload 2 "
   ]
  },
  {
   "cell_type": "code",
   "execution_count": null,
   "metadata": {},
   "outputs": [],
   "source": [
    "import warnings\n",
    "with warnings.catch_warnings():\n",
    "    warnings.simplefilter(\"ignore\")\n",
    "from rich import print"
   ]
  },
  {
   "cell_type": "markdown",
   "metadata": {},
   "source": [
    "# RFPYE\n",
    "> Este módulo tem como objetivo o processamento e extração otimizada de dados dos arquivos `.bin` de monitoramento do espectro provenientes do script Logger executados nas estações de Monitoramento CRFS RFeye Node. Para tal utilizamos as várias funcionalidades da biblioteca [fastcore](https://fastcore.fast.ai/basics.html), que expande e otimiza as estruturas de dados da linguagem python. "
   ]
  },
  {
   "cell_type": "markdown",
   "metadata": {},
   "source": [
    "## Instalação\n",
    "\n",
    "`Ubuntu`: \n",
    "\n",
    "```bash\n",
    "python -m pip install rfpye\n",
    "```\n",
    "\n",
    "`Windows`:\n",
    "\n",
    "Como parte dessa lib utiliza código c compilado com `Cython`, é preciso que um compilador `C` esteja instalado. Em Windows, uma opção é instalar a versão apropriada do Visual Studio seguindo as orientações do site da Microsoft. No entanto uma solução mais simples e a recomendada é utilizando o `conda`.\n",
    "\n",
    "Primeiramente instale o [miniconda](https://docs.conda.io/en/latest/miniconda.html). Com o conda instalado e disponível no seu `PATH` ou através do `Anaconda Prompt` execute o comando:\n",
    "\n",
    "```bash\n",
    "conda install -c intel libpython m2w64-toolchain -y\n",
    "\n",
    "echo [build] > %CONDA_PREFIX%\\Lib\\distutils\\distutils.cfg\n",
    "\n",
    "echo compiler = mingw32 >> %CONDA_PREFIX%\\Lib\\distutils\\distutils.cfg\n",
    "```"
   ]
  },
  {
   "cell_type": "markdown",
   "metadata": {},
   "source": [
    "Depois disso basta instalar normalmente a lib:\n",
    "`python -m pip install rfpye`"
   ]
  },
  {
   "cell_type": "markdown",
   "metadata": {},
   "source": [
    "Em Linux normalmente o sistema já possui o compilador `gcc` instalado então basta executar o comando `pip install` acima."
   ]
  },
  {
   "cell_type": "markdown",
   "metadata": {},
   "source": [
    "## Como utilizar\n",
    "Abaixo mostramos as funcionalidades principais dos módulos, utilizando-os dentro de algum outro script ou `REPL`"
   ]
  },
  {
   "cell_type": "markdown",
   "metadata": {},
   "source": [
    "Precisamos necessariamente de um diretório de entrada, contendo um ou mais arquivos `.bin` e um diretório de saída no qual iremos salvar os arquivos processados. \n",
    "> Mude os caminhos abaixo para suas pastas locais caso for executar o exemplo.\n",
    "\n",
    "Ao utilizar o script `process_bin`, as pastas `entrada` e `saída` esses serão repassadas como parâmetros na linha de comando."
   ]
  },
  {
   "cell_type": "code",
   "execution_count": null,
   "metadata": {},
   "outputs": [],
   "source": [
    "from fastcore.xtras import Path\n",
    "VERBOSE = True\n",
    "entrada = Path(r'D:\\OneDrive - ANATEL\\Backup_Rfeye_SP\\CGH\\2021')\n",
    "saida = Path(r'C:\\Users\\rsilva\\Downloads\\saida')"
   ]
  },
  {
   "cell_type": "markdown",
   "metadata": {},
   "source": [
    "## Leitura de Arquivos"
   ]
  },
  {
   "cell_type": "markdown",
   "metadata": {},
   "source": [
    "No módulo `parser.py`, há funções auxiliares para lidar com os arquivos `.bin`, pastas e para processar tais arquivos em formatos úteis. Nesse caso utilizaremos a função `get_files` que busca de maneira recursiva arquivos de dada extensão, inclusive links simbólicos se existirem\n",
    "O caráter recursivo e a busca em links, `recurse` e `followlinks` simbólicos pode ser desativados por meio dos parâmetros e opcionalmente pode ser varrido somente o conjunto de pastas indicado em `folders` "
   ]
  },
  {
   "cell_type": "code",
   "execution_count": null,
   "metadata": {},
   "outputs": [
    {
     "data": {
      "text/html": [
       "<pre style=\"white-space:pre;overflow-x:auto;line-height:normal;font-family:Menlo,'DejaVu Sans Mono',consolas,'Courier New',monospace\"><span style=\"font-weight: bold\">[</span>Path<span style=\"font-weight: bold\">(</span><span style=\"color: #008000; text-decoration-color: #008000\">'D:/OneDrive - </span>\n",
       "<span style=\"color: #008000; text-decoration-color: #008000\">ANATEL/Backup_Rfeye_SP/CGH/2021/rfeye002279-SP-Congonhas_210319_T160137.bin'</span><span style=\"font-weight: bold\">)</span>, \n",
       "Path<span style=\"font-weight: bold\">(</span><span style=\"color: #008000; text-decoration-color: #008000\">'D:/OneDrive - </span>\n",
       "<span style=\"color: #008000; text-decoration-color: #008000\">ANATEL/Backup_Rfeye_SP/CGH/2021/rfeye002279-SP-Congonhas_210325_T230001.bin'</span><span style=\"font-weight: bold\">)</span>, \n",
       "Path<span style=\"font-weight: bold\">(</span><span style=\"color: #008000; text-decoration-color: #008000\">'D:/OneDrive - </span>\n",
       "<span style=\"color: #008000; text-decoration-color: #008000\">ANATEL/Backup_Rfeye_SP/CGH/2021/rfeye002279-SP-Congonhas_210401_T060001.bin'</span><span style=\"font-weight: bold\">)</span>, \n",
       "Path<span style=\"font-weight: bold\">(</span><span style=\"color: #008000; text-decoration-color: #008000\">'D:/OneDrive - </span>\n",
       "<span style=\"color: #008000; text-decoration-color: #008000\">ANATEL/Backup_Rfeye_SP/CGH/2021/rfeye002279-SP-Congonhas_210404_T152752.bin'</span><span style=\"font-weight: bold\">)</span>, \n",
       "Path<span style=\"font-weight: bold\">(</span><span style=\"color: #008000; text-decoration-color: #008000\">'D:/OneDrive - </span>\n",
       "<span style=\"color: #008000; text-decoration-color: #008000\">ANATEL/Backup_Rfeye_SP/CGH/2021/rfeye002279-SP-Congonhas_210410_T222501.bin'</span><span style=\"font-weight: bold\">)</span>, \n",
       "Path<span style=\"font-weight: bold\">(</span><span style=\"color: #008000; text-decoration-color: #008000\">'D:/OneDrive - </span>\n",
       "<span style=\"color: #008000; text-decoration-color: #008000\">ANATEL/Backup_Rfeye_SP/CGH/2021/rfeye002279-SP-Congonhas_210416_T104037.bin'</span><span style=\"font-weight: bold\">)</span>, \n",
       "Path<span style=\"font-weight: bold\">(</span><span style=\"color: #008000; text-decoration-color: #008000\">'D:/OneDrive - </span>\n",
       "<span style=\"color: #008000; text-decoration-color: #008000\">ANATEL/Backup_Rfeye_SP/CGH/2021/rfeye002279-SP-Congonhas_210422_T113942.bin'</span><span style=\"font-weight: bold\">)</span>, \n",
       "Path<span style=\"font-weight: bold\">(</span><span style=\"color: #008000; text-decoration-color: #008000\">'D:/OneDrive - </span>\n",
       "<span style=\"color: #008000; text-decoration-color: #008000\">ANATEL/Backup_Rfeye_SP/CGH/2021/rfeye002279-SP-Congonhas_210428_T183501.bin'</span><span style=\"font-weight: bold\">)</span>, \n",
       "Path<span style=\"font-weight: bold\">(</span><span style=\"color: #008000; text-decoration-color: #008000\">'D:/OneDrive - </span>\n",
       "<span style=\"color: #008000; text-decoration-color: #008000\">ANATEL/Backup_Rfeye_SP/CGH/2021/rfeye002279-SP-Congonhas_210505_T013201.bin'</span><span style=\"font-weight: bold\">)</span>, \n",
       "Path<span style=\"font-weight: bold\">(</span><span style=\"color: #008000; text-decoration-color: #008000\">'D:/OneDrive - </span>\n",
       "<span style=\"color: #008000; text-decoration-color: #008000\">ANATEL/Backup_Rfeye_SP/CGH/2021/rfeye002279-SP-Congonhas_210511_T083001.bin'</span><span style=\"font-weight: bold\">)]</span>\n",
       "</pre>\n"
      ],
      "text/plain": [
       "\u001b[1m[\u001b[0mPath\u001b[1m(\u001b[0m\u001b[32m'D:/OneDrive - \u001b[0m\n",
       "\u001b[32mANATEL/Backup_Rfeye_SP/CGH/2021/rfeye002279-SP-Congonhas_210319_T160137.bin'\u001b[0m\u001b[1m)\u001b[0m, \n",
       "Path\u001b[1m(\u001b[0m\u001b[32m'D:/OneDrive - \u001b[0m\n",
       "\u001b[32mANATEL/Backup_Rfeye_SP/CGH/2021/rfeye002279-SP-Congonhas_210325_T230001.bin'\u001b[0m\u001b[1m)\u001b[0m, \n",
       "Path\u001b[1m(\u001b[0m\u001b[32m'D:/OneDrive - \u001b[0m\n",
       "\u001b[32mANATEL/Backup_Rfeye_SP/CGH/2021/rfeye002279-SP-Congonhas_210401_T060001.bin'\u001b[0m\u001b[1m)\u001b[0m, \n",
       "Path\u001b[1m(\u001b[0m\u001b[32m'D:/OneDrive - \u001b[0m\n",
       "\u001b[32mANATEL/Backup_Rfeye_SP/CGH/2021/rfeye002279-SP-Congonhas_210404_T152752.bin'\u001b[0m\u001b[1m)\u001b[0m, \n",
       "Path\u001b[1m(\u001b[0m\u001b[32m'D:/OneDrive - \u001b[0m\n",
       "\u001b[32mANATEL/Backup_Rfeye_SP/CGH/2021/rfeye002279-SP-Congonhas_210410_T222501.bin'\u001b[0m\u001b[1m)\u001b[0m, \n",
       "Path\u001b[1m(\u001b[0m\u001b[32m'D:/OneDrive - \u001b[0m\n",
       "\u001b[32mANATEL/Backup_Rfeye_SP/CGH/2021/rfeye002279-SP-Congonhas_210416_T104037.bin'\u001b[0m\u001b[1m)\u001b[0m, \n",
       "Path\u001b[1m(\u001b[0m\u001b[32m'D:/OneDrive - \u001b[0m\n",
       "\u001b[32mANATEL/Backup_Rfeye_SP/CGH/2021/rfeye002279-SP-Congonhas_210422_T113942.bin'\u001b[0m\u001b[1m)\u001b[0m, \n",
       "Path\u001b[1m(\u001b[0m\u001b[32m'D:/OneDrive - \u001b[0m\n",
       "\u001b[32mANATEL/Backup_Rfeye_SP/CGH/2021/rfeye002279-SP-Congonhas_210428_T183501.bin'\u001b[0m\u001b[1m)\u001b[0m, \n",
       "Path\u001b[1m(\u001b[0m\u001b[32m'D:/OneDrive - \u001b[0m\n",
       "\u001b[32mANATEL/Backup_Rfeye_SP/CGH/2021/rfeye002279-SP-Congonhas_210505_T013201.bin'\u001b[0m\u001b[1m)\u001b[0m, \n",
       "Path\u001b[1m(\u001b[0m\u001b[32m'D:/OneDrive - \u001b[0m\n",
       "\u001b[32mANATEL/Backup_Rfeye_SP/CGH/2021/rfeye002279-SP-Congonhas_210511_T083001.bin'\u001b[0m\u001b[1m)\u001b[0m\u001b[1m]\u001b[0m\n"
      ]
     },
     "metadata": {},
     "output_type": "display_data"
    }
   ],
   "source": [
    "from rfpye.utils import get_files\n",
    "arquivos = get_files(entrada, extensions=['.bin']) ; print(arquivos[:10])"
   ]
  },
  {
   "cell_type": "markdown",
   "metadata": {},
   "source": [
    "> O Objeto retornado `L` é uma extensão da lista python com funcionalidades adicionais, uma delas como  podemos ver é que a representação da lista impressa mostra o comprimento da lista. Esse objeto pode ser usado de maneira idêntica à uma lista em python e sem substituição desta."
   ]
  },
  {
   "cell_type": "code",
   "execution_count": null,
   "metadata": {},
   "outputs": [
    {
     "data": {
      "text/html": [
       "<pre style=\"white-space:pre;overflow-x:auto;line-height:normal;font-family:Menlo,'DejaVu Sans Mono',consolas,'Courier New',monospace\">rfeye002279-SP-Congonhas_210516_T144208.bin\n",
       "</pre>\n"
      ],
      "text/plain": [
       "rfeye002279-SP-Congonhas_210516_T144208.bin\n"
      ]
     },
     "metadata": {},
     "output_type": "display_data"
    }
   ],
   "source": [
    "bin_file = arquivos[-3] ; print(bin_file.name)"
   ]
  },
  {
   "cell_type": "code",
   "execution_count": null,
   "metadata": {},
   "outputs": [],
   "source": [
    "from rfpye.parser import parse_bin, extract_metadata, extract_level"
   ]
  },
  {
   "cell_type": "markdown",
   "metadata": {},
   "source": [
    "## Processamento dos blocos\n",
    "A função seguinte `parse_bin` recebe um arquivo `.bin` e mapeia os blocos contidos nele retornando um dicionário que tem como chave o tipo de bloco e os valores como uma lista com os blocos extraídos sequencialmente."
   ]
  },
  {
   "cell_type": "code",
   "execution_count": null,
   "metadata": {},
   "outputs": [
    {
     "name": "stdout",
     "output_type": "stream",
     "text": [
      "Wall time: 5.26 s\n"
     ]
    }
   ],
   "source": [
    "%%time\n",
    "map_bin = parse_bin(bin_file)['blocks']"
   ]
  },
  {
   "cell_type": "code",
   "execution_count": null,
   "metadata": {},
   "outputs": [
    {
     "data": {
      "text/html": [
       "<pre style=\"white-space:pre;overflow-x:auto;line-height:normal;font-family:Menlo,'DejaVu Sans Mono',consolas,'Courier New',monospace\">Tipo de Bloco: <span style=\"color: #008080; text-decoration-color: #008080; font-weight: bold\">21</span>, Fluxo <span style=\"font-weight: bold\">(</span>Thread ID<span style=\"font-weight: bold\">)</span>: <span style=\"color: #008080; text-decoration-color: #008080; font-weight: bold\">0</span>, #Blocos: <span style=\"color: #008080; text-decoration-color: #008080; font-weight: bold\">1</span>\n",
       "</pre>\n"
      ],
      "text/plain": [
       "Tipo de Bloco: \u001b[1;36m21\u001b[0m, Fluxo \u001b[1m(\u001b[0mThread ID\u001b[1m)\u001b[0m: \u001b[1;36m0\u001b[0m, #Blocos: \u001b[1;36m1\u001b[0m\n"
      ]
     },
     "metadata": {},
     "output_type": "display_data"
    },
    {
     "data": {
      "text/html": [
       "<pre style=\"white-space:pre;overflow-x:auto;line-height:normal;font-family:Menlo,'DejaVu Sans Mono',consolas,'Courier New',monospace\">Tipo de Bloco: <span style=\"color: #008080; text-decoration-color: #008080; font-weight: bold\">42</span>, Fluxo <span style=\"font-weight: bold\">(</span>Thread ID<span style=\"font-weight: bold\">)</span>: <span style=\"color: #008080; text-decoration-color: #008080; font-weight: bold\">0</span>, #Blocos: <span style=\"color: #008080; text-decoration-color: #008080; font-weight: bold\">2</span>\n",
       "</pre>\n"
      ],
      "text/plain": [
       "Tipo de Bloco: \u001b[1;36m42\u001b[0m, Fluxo \u001b[1m(\u001b[0mThread ID\u001b[1m)\u001b[0m: \u001b[1;36m0\u001b[0m, #Blocos: \u001b[1;36m2\u001b[0m\n"
      ]
     },
     "metadata": {},
     "output_type": "display_data"
    },
    {
     "data": {
      "text/html": [
       "<pre style=\"white-space:pre;overflow-x:auto;line-height:normal;font-family:Menlo,'DejaVu Sans Mono',consolas,'Courier New',monospace\">Tipo de Bloco: <span style=\"color: #008080; text-decoration-color: #008080; font-weight: bold\">40</span>, Fluxo <span style=\"font-weight: bold\">(</span>Thread ID<span style=\"font-weight: bold\">)</span>: <span style=\"color: #008080; text-decoration-color: #008080; font-weight: bold\">1</span>, #Blocos: <span style=\"color: #008080; text-decoration-color: #008080; font-weight: bold\">6341</span>\n",
       "</pre>\n"
      ],
      "text/plain": [
       "Tipo de Bloco: \u001b[1;36m40\u001b[0m, Fluxo \u001b[1m(\u001b[0mThread ID\u001b[1m)\u001b[0m: \u001b[1;36m1\u001b[0m, #Blocos: \u001b[1;36m6341\u001b[0m\n"
      ]
     },
     "metadata": {},
     "output_type": "display_data"
    },
    {
     "data": {
      "text/html": [
       "<pre style=\"white-space:pre;overflow-x:auto;line-height:normal;font-family:Menlo,'DejaVu Sans Mono',consolas,'Courier New',monospace\">Tipo de Bloco: <span style=\"color: #008080; text-decoration-color: #008080; font-weight: bold\">67</span>, Fluxo <span style=\"font-weight: bold\">(</span>Thread ID<span style=\"font-weight: bold\">)</span>: <span style=\"color: #008080; text-decoration-color: #008080; font-weight: bold\">300</span>, #Blocos: <span style=\"color: #008080; text-decoration-color: #008080; font-weight: bold\">6341</span>\n",
       "</pre>\n"
      ],
      "text/plain": [
       "Tipo de Bloco: \u001b[1;36m67\u001b[0m, Fluxo \u001b[1m(\u001b[0mThread ID\u001b[1m)\u001b[0m: \u001b[1;36m300\u001b[0m, #Blocos: \u001b[1;36m6341\u001b[0m\n"
      ]
     },
     "metadata": {},
     "output_type": "display_data"
    },
    {
     "data": {
      "text/html": [
       "<pre style=\"white-space:pre;overflow-x:auto;line-height:normal;font-family:Menlo,'DejaVu Sans Mono',consolas,'Courier New',monospace\">Tipo de Bloco: <span style=\"color: #008080; text-decoration-color: #008080; font-weight: bold\">67</span>, Fluxo <span style=\"font-weight: bold\">(</span>Thread ID<span style=\"font-weight: bold\">)</span>: <span style=\"color: #008080; text-decoration-color: #008080; font-weight: bold\">310</span>, #Blocos: <span style=\"color: #008080; text-decoration-color: #008080; font-weight: bold\">6341</span>\n",
       "</pre>\n"
      ],
      "text/plain": [
       "Tipo de Bloco: \u001b[1;36m67\u001b[0m, Fluxo \u001b[1m(\u001b[0mThread ID\u001b[1m)\u001b[0m: \u001b[1;36m310\u001b[0m, #Blocos: \u001b[1;36m6341\u001b[0m\n"
      ]
     },
     "metadata": {},
     "output_type": "display_data"
    },
    {
     "data": {
      "text/html": [
       "<pre style=\"white-space:pre;overflow-x:auto;line-height:normal;font-family:Menlo,'DejaVu Sans Mono',consolas,'Courier New',monospace\">Tipo de Bloco: <span style=\"color: #008080; text-decoration-color: #008080; font-weight: bold\">67</span>, Fluxo <span style=\"font-weight: bold\">(</span>Thread ID<span style=\"font-weight: bold\">)</span>: <span style=\"color: #008080; text-decoration-color: #008080; font-weight: bold\">100</span>, #Blocos: <span style=\"color: #008080; text-decoration-color: #008080; font-weight: bold\">1268</span>\n",
       "</pre>\n"
      ],
      "text/plain": [
       "Tipo de Bloco: \u001b[1;36m67\u001b[0m, Fluxo \u001b[1m(\u001b[0mThread ID\u001b[1m)\u001b[0m: \u001b[1;36m100\u001b[0m, #Blocos: \u001b[1;36m1268\u001b[0m\n"
      ]
     },
     "metadata": {},
     "output_type": "display_data"
    },
    {
     "data": {
      "text/html": [
       "<pre style=\"white-space:pre;overflow-x:auto;line-height:normal;font-family:Menlo,'DejaVu Sans Mono',consolas,'Courier New',monospace\">Tipo de Bloco: <span style=\"color: #008080; text-decoration-color: #008080; font-weight: bold\">67</span>, Fluxo <span style=\"font-weight: bold\">(</span>Thread ID<span style=\"font-weight: bold\">)</span>: <span style=\"color: #008080; text-decoration-color: #008080; font-weight: bold\">110</span>, #Blocos: <span style=\"color: #008080; text-decoration-color: #008080; font-weight: bold\">1268</span>\n",
       "</pre>\n"
      ],
      "text/plain": [
       "Tipo de Bloco: \u001b[1;36m67\u001b[0m, Fluxo \u001b[1m(\u001b[0mThread ID\u001b[1m)\u001b[0m: \u001b[1;36m110\u001b[0m, #Blocos: \u001b[1;36m1268\u001b[0m\n"
      ]
     },
     "metadata": {},
     "output_type": "display_data"
    },
    {
     "data": {
      "text/html": [
       "<pre style=\"white-space:pre;overflow-x:auto;line-height:normal;font-family:Menlo,'DejaVu Sans Mono',consolas,'Courier New',monospace\">Tipo de Bloco: <span style=\"color: #008080; text-decoration-color: #008080; font-weight: bold\">67</span>, Fluxo <span style=\"font-weight: bold\">(</span>Thread ID<span style=\"font-weight: bold\">)</span>: <span style=\"color: #008080; text-decoration-color: #008080; font-weight: bold\">130</span>, #Blocos: <span style=\"color: #008080; text-decoration-color: #008080; font-weight: bold\">1268</span>\n",
       "</pre>\n"
      ],
      "text/plain": [
       "Tipo de Bloco: \u001b[1;36m67\u001b[0m, Fluxo \u001b[1m(\u001b[0mThread ID\u001b[1m)\u001b[0m: \u001b[1;36m130\u001b[0m, #Blocos: \u001b[1;36m1268\u001b[0m\n"
      ]
     },
     "metadata": {},
     "output_type": "display_data"
    },
    {
     "data": {
      "text/html": [
       "<pre style=\"white-space:pre;overflow-x:auto;line-height:normal;font-family:Menlo,'DejaVu Sans Mono',consolas,'Courier New',monospace\">Tipo de Bloco: <span style=\"color: #008080; text-decoration-color: #008080; font-weight: bold\">67</span>, Fluxo <span style=\"font-weight: bold\">(</span>Thread ID<span style=\"font-weight: bold\">)</span>: <span style=\"color: #008080; text-decoration-color: #008080; font-weight: bold\">210</span>, #Blocos: <span style=\"color: #008080; text-decoration-color: #008080; font-weight: bold\">423</span>\n",
       "</pre>\n"
      ],
      "text/plain": [
       "Tipo de Bloco: \u001b[1;36m67\u001b[0m, Fluxo \u001b[1m(\u001b[0mThread ID\u001b[1m)\u001b[0m: \u001b[1;36m210\u001b[0m, #Blocos: \u001b[1;36m423\u001b[0m\n"
      ]
     },
     "metadata": {},
     "output_type": "display_data"
    },
    {
     "data": {
      "text/html": [
       "<pre style=\"white-space:pre;overflow-x:auto;line-height:normal;font-family:Menlo,'DejaVu Sans Mono',consolas,'Courier New',monospace\">Tipo de Bloco: <span style=\"color: #008080; text-decoration-color: #008080; font-weight: bold\">67</span>, Fluxo <span style=\"font-weight: bold\">(</span>Thread ID<span style=\"font-weight: bold\">)</span>: <span style=\"color: #008080; text-decoration-color: #008080; font-weight: bold\">220</span>, #Blocos: <span style=\"color: #008080; text-decoration-color: #008080; font-weight: bold\">423</span>\n",
       "</pre>\n"
      ],
      "text/plain": [
       "Tipo de Bloco: \u001b[1;36m67\u001b[0m, Fluxo \u001b[1m(\u001b[0mThread ID\u001b[1m)\u001b[0m: \u001b[1;36m220\u001b[0m, #Blocos: \u001b[1;36m423\u001b[0m\n"
      ]
     },
     "metadata": {},
     "output_type": "display_data"
    },
    {
     "data": {
      "text/html": [
       "<pre style=\"white-space:pre;overflow-x:auto;line-height:normal;font-family:Menlo,'DejaVu Sans Mono',consolas,'Courier New',monospace\">Tipo de Bloco: <span style=\"color: #008080; text-decoration-color: #008080; font-weight: bold\">67</span>, Fluxo <span style=\"font-weight: bold\">(</span>Thread ID<span style=\"font-weight: bold\">)</span>: <span style=\"color: #008080; text-decoration-color: #008080; font-weight: bold\">230</span>, #Blocos: <span style=\"color: #008080; text-decoration-color: #008080; font-weight: bold\">423</span>\n",
       "</pre>\n"
      ],
      "text/plain": [
       "Tipo de Bloco: \u001b[1;36m67\u001b[0m, Fluxo \u001b[1m(\u001b[0mThread ID\u001b[1m)\u001b[0m: \u001b[1;36m230\u001b[0m, #Blocos: \u001b[1;36m423\u001b[0m\n"
      ]
     },
     "metadata": {},
     "output_type": "display_data"
    },
    {
     "data": {
      "text/html": [
       "<pre style=\"white-space:pre;overflow-x:auto;line-height:normal;font-family:Menlo,'DejaVu Sans Mono',consolas,'Courier New',monospace\">Tipo de Bloco: <span style=\"color: #008080; text-decoration-color: #008080; font-weight: bold\">67</span>, Fluxo <span style=\"font-weight: bold\">(</span>Thread ID<span style=\"font-weight: bold\">)</span>: <span style=\"color: #008080; text-decoration-color: #008080; font-weight: bold\">240</span>, #Blocos: <span style=\"color: #008080; text-decoration-color: #008080; font-weight: bold\">423</span>\n",
       "</pre>\n"
      ],
      "text/plain": [
       "Tipo de Bloco: \u001b[1;36m67\u001b[0m, Fluxo \u001b[1m(\u001b[0mThread ID\u001b[1m)\u001b[0m: \u001b[1;36m240\u001b[0m, #Blocos: \u001b[1;36m423\u001b[0m\n"
      ]
     },
     "metadata": {},
     "output_type": "display_data"
    },
    {
     "data": {
      "text/html": [
       "<pre style=\"white-space:pre;overflow-x:auto;line-height:normal;font-family:Menlo,'DejaVu Sans Mono',consolas,'Courier New',monospace\">Tipo de Bloco: <span style=\"color: #008080; text-decoration-color: #008080; font-weight: bold\">67</span>, Fluxo <span style=\"font-weight: bold\">(</span>Thread ID<span style=\"font-weight: bold\">)</span>: <span style=\"color: #008080; text-decoration-color: #008080; font-weight: bold\">320</span>, #Blocos: <span style=\"color: #008080; text-decoration-color: #008080; font-weight: bold\">423</span>\n",
       "</pre>\n"
      ],
      "text/plain": [
       "Tipo de Bloco: \u001b[1;36m67\u001b[0m, Fluxo \u001b[1m(\u001b[0mThread ID\u001b[1m)\u001b[0m: \u001b[1;36m320\u001b[0m, #Blocos: \u001b[1;36m423\u001b[0m\n"
      ]
     },
     "metadata": {},
     "output_type": "display_data"
    },
    {
     "data": {
      "text/html": [
       "<pre style=\"white-space:pre;overflow-x:auto;line-height:normal;font-family:Menlo,'DejaVu Sans Mono',consolas,'Courier New',monospace\">Tipo de Bloco: <span style=\"color: #008080; text-decoration-color: #008080; font-weight: bold\">67</span>, Fluxo <span style=\"font-weight: bold\">(</span>Thread ID<span style=\"font-weight: bold\">)</span>: <span style=\"color: #008080; text-decoration-color: #008080; font-weight: bold\">340</span>, #Blocos: <span style=\"color: #008080; text-decoration-color: #008080; font-weight: bold\">423</span>\n",
       "</pre>\n"
      ],
      "text/plain": [
       "Tipo de Bloco: \u001b[1;36m67\u001b[0m, Fluxo \u001b[1m(\u001b[0mThread ID\u001b[1m)\u001b[0m: \u001b[1;36m340\u001b[0m, #Blocos: \u001b[1;36m423\u001b[0m\n"
      ]
     },
     "metadata": {},
     "output_type": "display_data"
    },
    {
     "data": {
      "text/html": [
       "<pre style=\"white-space:pre;overflow-x:auto;line-height:normal;font-family:Menlo,'DejaVu Sans Mono',consolas,'Courier New',monospace\">Tipo de Bloco: <span style=\"color: #008080; text-decoration-color: #008080; font-weight: bold\">67</span>, Fluxo <span style=\"font-weight: bold\">(</span>Thread ID<span style=\"font-weight: bold\">)</span>: <span style=\"color: #008080; text-decoration-color: #008080; font-weight: bold\">360</span>, #Blocos: <span style=\"color: #008080; text-decoration-color: #008080; font-weight: bold\">423</span>\n",
       "</pre>\n"
      ],
      "text/plain": [
       "Tipo de Bloco: \u001b[1;36m67\u001b[0m, Fluxo \u001b[1m(\u001b[0mThread ID\u001b[1m)\u001b[0m: \u001b[1;36m360\u001b[0m, #Blocos: \u001b[1;36m423\u001b[0m\n"
      ]
     },
     "metadata": {},
     "output_type": "display_data"
    },
    {
     "data": {
      "text/html": [
       "<pre style=\"white-space:pre;overflow-x:auto;line-height:normal;font-family:Menlo,'DejaVu Sans Mono',consolas,'Courier New',monospace\">Tipo de Bloco: <span style=\"color: #008080; text-decoration-color: #008080; font-weight: bold\">67</span>, Fluxo <span style=\"font-weight: bold\">(</span>Thread ID<span style=\"font-weight: bold\">)</span>: <span style=\"color: #008080; text-decoration-color: #008080; font-weight: bold\">380</span>, #Blocos: <span style=\"color: #008080; text-decoration-color: #008080; font-weight: bold\">423</span>\n",
       "</pre>\n"
      ],
      "text/plain": [
       "Tipo de Bloco: \u001b[1;36m67\u001b[0m, Fluxo \u001b[1m(\u001b[0mThread ID\u001b[1m)\u001b[0m: \u001b[1;36m380\u001b[0m, #Blocos: \u001b[1;36m423\u001b[0m\n"
      ]
     },
     "metadata": {},
     "output_type": "display_data"
    },
    {
     "data": {
      "text/html": [
       "<pre style=\"white-space:pre;overflow-x:auto;line-height:normal;font-family:Menlo,'DejaVu Sans Mono',consolas,'Courier New',monospace\">Tipo de Bloco: <span style=\"color: #008080; text-decoration-color: #008080; font-weight: bold\">42</span>, Fluxo <span style=\"font-weight: bold\">(</span>Thread ID<span style=\"font-weight: bold\">)</span>: <span style=\"color: #008080; text-decoration-color: #008080; font-weight: bold\">1</span>, #Blocos: <span style=\"color: #008080; text-decoration-color: #008080; font-weight: bold\">105</span>\n",
       "</pre>\n"
      ],
      "text/plain": [
       "Tipo de Bloco: \u001b[1;36m42\u001b[0m, Fluxo \u001b[1m(\u001b[0mThread ID\u001b[1m)\u001b[0m: \u001b[1;36m1\u001b[0m, #Blocos: \u001b[1;36m105\u001b[0m\n"
      ]
     },
     "metadata": {},
     "output_type": "display_data"
    }
   ],
   "source": [
    "for k, b in map_bin.items():\n",
    "    print(f'Tipo de Bloco: {k[0]}, Fluxo (Thread ID): {k[1]}, #Blocos: {len(b)}')"
   ]
  },
  {
   "cell_type": "code",
   "execution_count": null,
   "metadata": {},
   "outputs": [],
   "source": [
    "gps = map_bin[(40,1)]\n",
    "spec = map_bin[(67,110)]"
   ]
  },
  {
   "cell_type": "markdown",
   "metadata": {},
   "source": [
    "A seguir é mostrado um exemplo dos atributos contidos num bloco de gps e num bloco de espectro"
   ]
  },
  {
   "cell_type": "code",
   "execution_count": null,
   "metadata": {},
   "outputs": [
    {
     "data": {
      "text/html": [
       "<pre style=\"white-space:pre;overflow-x:auto;line-height:normal;font-family:Menlo,'DejaVu Sans Mono',consolas,'Courier New',monospace\"><span style=\"font-weight: bold\">{</span>\n",
       "    <span style=\"color: #008000; text-decoration-color: #008000\">'altitude'</span>: <span style=\"color: #008080; text-decoration-color: #008080; font-weight: bold\">815.3</span>,\n",
       "    <span style=\"color: #008000; text-decoration-color: #008000\">'data_size'</span>: <span style=\"color: #008080; text-decoration-color: #008080; font-weight: bold\">40</span>,\n",
       "    <span style=\"color: #008000; text-decoration-color: #008000\">'gps_datetime'</span>: datetime.datetime<span style=\"font-weight: bold\">(</span><span style=\"color: #008080; text-decoration-color: #008080; font-weight: bold\">2021</span>, <span style=\"color: #008080; text-decoration-color: #008080; font-weight: bold\">5</span>, <span style=\"color: #008080; text-decoration-color: #008080; font-weight: bold\">16</span>, <span style=\"color: #008080; text-decoration-color: #008080; font-weight: bold\">14</span>, <span style=\"color: #008080; text-decoration-color: #008080; font-weight: bold\">43</span><span style=\"font-weight: bold\">)</span>,\n",
       "    <span style=\"color: #008000; text-decoration-color: #008000\">'gps_status'</span>: <span style=\"color: #008000; text-decoration-color: #008000\">'Differential GPS'</span>,\n",
       "    <span style=\"color: #008000; text-decoration-color: #008000\">'heading'</span>: <span style=\"color: #008080; text-decoration-color: #008080; font-weight: bold\">0.0</span>,\n",
       "    <span style=\"color: #008000; text-decoration-color: #008000\">'latitude'</span>: <span style=\"color: #008080; text-decoration-color: #008080; font-weight: bold\">-23.635858</span>,\n",
       "    <span style=\"color: #008000; text-decoration-color: #008000\">'longitude'</span>: <span style=\"color: #008080; text-decoration-color: #008080; font-weight: bold\">-46.654255</span>,\n",
       "    <span style=\"color: #008000; text-decoration-color: #008000\">'num_satellites'</span>: <span style=\"color: #008080; text-decoration-color: #008080; font-weight: bold\">12</span>,\n",
       "    <span style=\"color: #008000; text-decoration-color: #008000\">'speed'</span>: <span style=\"color: #008080; text-decoration-color: #008080; font-weight: bold\">0.014</span>,\n",
       "    <span style=\"color: #008000; text-decoration-color: #008000\">'thread_id'</span>: <span style=\"color: #008080; text-decoration-color: #008080; font-weight: bold\">1</span>,\n",
       "    <span style=\"color: #008000; text-decoration-color: #008000\">'type'</span>: <span style=\"color: #008080; text-decoration-color: #008080; font-weight: bold\">40</span>,\n",
       "    <span style=\"color: #008000; text-decoration-color: #008000\">'wallclock_datetime'</span>: numpy.datetime64<span style=\"font-weight: bold\">(</span><span style=\"color: #008000; text-decoration-color: #008000\">'2021-05-16T14:43:00.532926'</span><span style=\"font-weight: bold\">)</span>\n",
       "<span style=\"font-weight: bold\">}</span>\n",
       "</pre>\n"
      ],
      "text/plain": [
       "\u001b[1m{\u001b[0m\n",
       "    \u001b[32m'altitude'\u001b[0m: \u001b[1;36m815.3\u001b[0m,\n",
       "    \u001b[32m'data_size'\u001b[0m: \u001b[1;36m40\u001b[0m,\n",
       "    \u001b[32m'gps_datetime'\u001b[0m: datetime.datetime\u001b[1m(\u001b[0m\u001b[1;36m2021\u001b[0m, \u001b[1;36m5\u001b[0m, \u001b[1;36m16\u001b[0m, \u001b[1;36m14\u001b[0m, \u001b[1;36m43\u001b[0m\u001b[1m)\u001b[0m,\n",
       "    \u001b[32m'gps_status'\u001b[0m: \u001b[32m'Differential GPS'\u001b[0m,\n",
       "    \u001b[32m'heading'\u001b[0m: \u001b[1;36m0.0\u001b[0m,\n",
       "    \u001b[32m'latitude'\u001b[0m: \u001b[1;36m-23.635858\u001b[0m,\n",
       "    \u001b[32m'longitude'\u001b[0m: \u001b[1;36m-46.654255\u001b[0m,\n",
       "    \u001b[32m'num_satellites'\u001b[0m: \u001b[1;36m12\u001b[0m,\n",
       "    \u001b[32m'speed'\u001b[0m: \u001b[1;36m0.014\u001b[0m,\n",
       "    \u001b[32m'thread_id'\u001b[0m: \u001b[1;36m1\u001b[0m,\n",
       "    \u001b[32m'type'\u001b[0m: \u001b[1;36m40\u001b[0m,\n",
       "    \u001b[32m'wallclock_datetime'\u001b[0m: numpy.datetime64\u001b[1m(\u001b[0m\u001b[32m'2021-05-16T14:43:00.532926'\u001b[0m\u001b[1m)\u001b[0m\n",
       "\u001b[1m}\u001b[0m\n"
      ]
     },
     "metadata": {},
     "output_type": "display_data"
    }
   ],
   "source": [
    "from rfpye.utils import getattrs\n",
    "print(getattrs(gps[0][1]))"
   ]
  },
  {
   "cell_type": "code",
   "execution_count": null,
   "metadata": {},
   "outputs": [
    {
     "data": {
      "text/html": [
       "<pre style=\"white-space:pre;overflow-x:auto;line-height:normal;font-family:Menlo,'DejaVu Sans Mono',consolas,'Courier New',monospace\"><span style=\"font-weight: bold\">{</span>\n",
       "    <span style=\"color: #008000; text-decoration-color: #008000\">'antenna_id'</span>: <span style=\"color: #008080; text-decoration-color: #008080; font-weight: bold\">0</span>,\n",
       "    <span style=\"color: #008000; text-decoration-color: #008000\">'bw'</span>: <span style=\"color: #008080; text-decoration-color: #008080; font-weight: bold\">40</span>,\n",
       "    <span style=\"color: #008000; text-decoration-color: #008000\">'data_size'</span>: <span style=\"color: #008080; text-decoration-color: #008080; font-weight: bold\">1164</span>,\n",
       "    <span style=\"color: #008000; text-decoration-color: #008000\">'data_type'</span>: <span style=\"color: #008080; text-decoration-color: #008080; font-weight: bold\">1</span>,\n",
       "    <span style=\"color: #008000; text-decoration-color: #008000\">'desclen'</span>: <span style=\"color: #008080; text-decoration-color: #008080; font-weight: bold\">36</span>,\n",
       "    <span style=\"color: #008000; text-decoration-color: #008000\">'description'</span>: <span style=\"color: #008000; text-decoration-color: #008000\">'PRD 2021 (Faixa principal 2 de 4).'</span>,\n",
       "    <span style=\"color: #008000; text-decoration-color: #008000\">'dynamic_id'</span>: <span style=\"color: #008080; text-decoration-color: #008080; font-weight: bold\">0</span>,\n",
       "    <span style=\"color: #008000; text-decoration-color: #008000\">'gerror'</span>: <span style=\"color: #008080; text-decoration-color: #008080; font-weight: bold\">-1</span>,\n",
       "    <span style=\"color: #008000; text-decoration-color: #008000\">'gflags'</span>: <span style=\"color: #008080; text-decoration-color: #008080; font-weight: bold\">-1</span>,\n",
       "    <span style=\"color: #008000; text-decoration-color: #008000\">'group_id'</span>: <span style=\"color: #008080; text-decoration-color: #008080; font-weight: bold\">0</span>,\n",
       "    <span style=\"color: #008000; text-decoration-color: #008000\">'minimum'</span>: <span style=\"color: #008080; text-decoration-color: #008080; font-weight: bold\">-32.5</span>,\n",
       "    <span style=\"color: #008000; text-decoration-color: #008000\">'n_agc'</span>: <span style=\"color: #008080; text-decoration-color: #008080; font-weight: bold\">7</span>,\n",
       "    <span style=\"color: #008000; text-decoration-color: #008000\">'n_tunning'</span>: <span style=\"color: #008080; text-decoration-color: #008080; font-weight: bold\">7</span>,\n",
       "    <span style=\"color: #008000; text-decoration-color: #008000\">'namal'</span>: <span style=\"color: #008080; text-decoration-color: #008080; font-weight: bold\">1</span>,\n",
       "    <span style=\"color: #008000; text-decoration-color: #008000\">'ndata'</span>: <span style=\"color: #008080; text-decoration-color: #008080; font-weight: bold\">1024</span>,\n",
       "    <span style=\"color: #008000; text-decoration-color: #008000\">'npad'</span>: <span style=\"color: #008080; text-decoration-color: #008080; font-weight: bold\">1</span>,\n",
       "    <span style=\"color: #008000; text-decoration-color: #008000\">'offset'</span>: <span style=\"color: #008080; text-decoration-color: #008080; font-weight: bold\">95</span>,\n",
       "    <span style=\"color: #008000; text-decoration-color: #008000\">'padding'</span>: <span style=\"color: #008080; text-decoration-color: #008080; font-weight: bold\">0</span>,\n",
       "    <span style=\"color: #008000; text-decoration-color: #008000\">'processing'</span>: <span style=\"color: #008000; text-decoration-color: #008000\">'peak'</span>,\n",
       "    <span style=\"color: #008000; text-decoration-color: #008000\">'resolution_bw'</span>: <span style=\"color: #008080; text-decoration-color: #008080; font-weight: bold\">73828</span>,\n",
       "    <span style=\"color: #008000; text-decoration-color: #008000\">'sample'</span>: <span style=\"color: #008080; text-decoration-color: #008080; font-weight: bold\">6230</span>,\n",
       "    <span style=\"color: #008000; text-decoration-color: #008000\">'start'</span>: <span style=\"color: #008080; text-decoration-color: #008080; font-weight: bold\">139</span>,\n",
       "    <span style=\"color: #008000; text-decoration-color: #008000\">'start_channel'</span>: <span style=\"color: #008080; text-decoration-color: #008080; font-weight: bold\">0</span>,\n",
       "    <span style=\"color: #008000; text-decoration-color: #008000\">'start_mega'</span>: <span style=\"color: #008080; text-decoration-color: #008080; font-weight: bold\">70</span>,\n",
       "    <span style=\"color: #008000; text-decoration-color: #008000\">'start_mili'</span>: <span style=\"color: #008080; text-decoration-color: #008080; font-weight: bold\">0</span>,\n",
       "    <span style=\"color: #008000; text-decoration-color: #008000\">'step'</span>: <span style=\"color: #008080; text-decoration-color: #008080; font-weight: bold\">0.039100684261974585</span>,\n",
       "    <span style=\"color: #008000; text-decoration-color: #008000\">'stop'</span>: <span style=\"color: #008080; text-decoration-color: #008080; font-weight: bold\">1163</span>,\n",
       "    <span style=\"color: #008000; text-decoration-color: #008000\">'stop_channel'</span>: <span style=\"color: #008080; text-decoration-color: #008080; font-weight: bold\">0</span>,\n",
       "    <span style=\"color: #008000; text-decoration-color: #008000\">'stop_mega'</span>: <span style=\"color: #008080; text-decoration-color: #008080; font-weight: bold\">110</span>,\n",
       "    <span style=\"color: #008000; text-decoration-color: #008000\">'stop_mili'</span>: <span style=\"color: #008080; text-decoration-color: #008080; font-weight: bold\">0</span>,\n",
       "    <span style=\"color: #008000; text-decoration-color: #008000\">'thread_id'</span>: <span style=\"color: #008080; text-decoration-color: #008080; font-weight: bold\">110</span>,\n",
       "    <span style=\"color: #008000; text-decoration-color: #008000\">'type'</span>: <span style=\"color: #008080; text-decoration-color: #008080; font-weight: bold\">67</span>,\n",
       "    <span style=\"color: #008000; text-decoration-color: #008000\">'wallclock_datetime'</span>: numpy.datetime64<span style=\"font-weight: bold\">(</span><span style=\"color: #008000; text-decoration-color: #008000\">'2021-05-16T14:45:00.790881'</span><span style=\"font-weight: bold\">)</span>\n",
       "<span style=\"font-weight: bold\">}</span>\n",
       "</pre>\n"
      ],
      "text/plain": [
       "\u001b[1m{\u001b[0m\n",
       "    \u001b[32m'antenna_id'\u001b[0m: \u001b[1;36m0\u001b[0m,\n",
       "    \u001b[32m'bw'\u001b[0m: \u001b[1;36m40\u001b[0m,\n",
       "    \u001b[32m'data_size'\u001b[0m: \u001b[1;36m1164\u001b[0m,\n",
       "    \u001b[32m'data_type'\u001b[0m: \u001b[1;36m1\u001b[0m,\n",
       "    \u001b[32m'desclen'\u001b[0m: \u001b[1;36m36\u001b[0m,\n",
       "    \u001b[32m'description'\u001b[0m: \u001b[32m'PRD 2021 (Faixa principal 2 de 4).'\u001b[0m,\n",
       "    \u001b[32m'dynamic_id'\u001b[0m: \u001b[1;36m0\u001b[0m,\n",
       "    \u001b[32m'gerror'\u001b[0m: \u001b[1;36m-1\u001b[0m,\n",
       "    \u001b[32m'gflags'\u001b[0m: \u001b[1;36m-1\u001b[0m,\n",
       "    \u001b[32m'group_id'\u001b[0m: \u001b[1;36m0\u001b[0m,\n",
       "    \u001b[32m'minimum'\u001b[0m: \u001b[1;36m-32.5\u001b[0m,\n",
       "    \u001b[32m'n_agc'\u001b[0m: \u001b[1;36m7\u001b[0m,\n",
       "    \u001b[32m'n_tunning'\u001b[0m: \u001b[1;36m7\u001b[0m,\n",
       "    \u001b[32m'namal'\u001b[0m: \u001b[1;36m1\u001b[0m,\n",
       "    \u001b[32m'ndata'\u001b[0m: \u001b[1;36m1024\u001b[0m,\n",
       "    \u001b[32m'npad'\u001b[0m: \u001b[1;36m1\u001b[0m,\n",
       "    \u001b[32m'offset'\u001b[0m: \u001b[1;36m95\u001b[0m,\n",
       "    \u001b[32m'padding'\u001b[0m: \u001b[1;36m0\u001b[0m,\n",
       "    \u001b[32m'processing'\u001b[0m: \u001b[32m'peak'\u001b[0m,\n",
       "    \u001b[32m'resolution_bw'\u001b[0m: \u001b[1;36m73828\u001b[0m,\n",
       "    \u001b[32m'sample'\u001b[0m: \u001b[1;36m6230\u001b[0m,\n",
       "    \u001b[32m'start'\u001b[0m: \u001b[1;36m139\u001b[0m,\n",
       "    \u001b[32m'start_channel'\u001b[0m: \u001b[1;36m0\u001b[0m,\n",
       "    \u001b[32m'start_mega'\u001b[0m: \u001b[1;36m70\u001b[0m,\n",
       "    \u001b[32m'start_mili'\u001b[0m: \u001b[1;36m0\u001b[0m,\n",
       "    \u001b[32m'step'\u001b[0m: \u001b[1;36m0.039100684261974585\u001b[0m,\n",
       "    \u001b[32m'stop'\u001b[0m: \u001b[1;36m1163\u001b[0m,\n",
       "    \u001b[32m'stop_channel'\u001b[0m: \u001b[1;36m0\u001b[0m,\n",
       "    \u001b[32m'stop_mega'\u001b[0m: \u001b[1;36m110\u001b[0m,\n",
       "    \u001b[32m'stop_mili'\u001b[0m: \u001b[1;36m0\u001b[0m,\n",
       "    \u001b[32m'thread_id'\u001b[0m: \u001b[1;36m110\u001b[0m,\n",
       "    \u001b[32m'type'\u001b[0m: \u001b[1;36m67\u001b[0m,\n",
       "    \u001b[32m'wallclock_datetime'\u001b[0m: numpy.datetime64\u001b[1m(\u001b[0m\u001b[32m'2021-05-16T14:45:00.790881'\u001b[0m\u001b[1m)\u001b[0m\n",
       "\u001b[1m}\u001b[0m\n"
      ]
     },
     "metadata": {},
     "output_type": "display_data"
    }
   ],
   "source": [
    "print(getattrs(spec[0][1]))"
   ]
  },
  {
   "cell_type": "markdown",
   "metadata": {},
   "source": [
    "## Metadados\n",
    "A função seguinte extrai os metadados `META` definidos no cabeçalho do arquivo `constants.py` e retorna um DataFrame."
   ]
  },
  {
   "cell_type": "code",
   "execution_count": null,
   "metadata": {},
   "outputs": [
    {
     "data": {
      "text/html": [
       "<div>\n",
       "<style scoped>\n",
       "    .dataframe tbody tr th:only-of-type {\n",
       "        vertical-align: middle;\n",
       "    }\n",
       "\n",
       "    .dataframe tbody tr th {\n",
       "        vertical-align: top;\n",
       "    }\n",
       "\n",
       "    .dataframe thead th {\n",
       "        text-align: right;\n",
       "    }\n",
       "</style>\n",
       "<table border=\"1\" class=\"dataframe\">\n",
       "  <thead>\n",
       "    <tr style=\"text-align: right;\">\n",
       "      <th></th>\n",
       "      <th>start_byte</th>\n",
       "      <th>stop_byte</th>\n",
       "      <th>altitude</th>\n",
       "      <th>data_size</th>\n",
       "      <th>gps_datetime</th>\n",
       "      <th>gps_status</th>\n",
       "      <th>heading</th>\n",
       "      <th>latitude</th>\n",
       "      <th>longitude</th>\n",
       "      <th>num_satellites</th>\n",
       "      <th>speed</th>\n",
       "      <th>thread_id</th>\n",
       "      <th>type</th>\n",
       "    </tr>\n",
       "    <tr>\n",
       "      <th>wallclock_datetime</th>\n",
       "      <th></th>\n",
       "      <th></th>\n",
       "      <th></th>\n",
       "      <th></th>\n",
       "      <th></th>\n",
       "      <th></th>\n",
       "      <th></th>\n",
       "      <th></th>\n",
       "      <th></th>\n",
       "      <th></th>\n",
       "      <th></th>\n",
       "      <th></th>\n",
       "      <th></th>\n",
       "    </tr>\n",
       "  </thead>\n",
       "  <tbody>\n",
       "    <tr>\n",
       "      <th>2021-05-16 14:43:00.532926</th>\n",
       "      <td>344</td>\n",
       "      <td>399</td>\n",
       "      <td>815.299988</td>\n",
       "      <td>40</td>\n",
       "      <td>2021-05-16 14:43:00</td>\n",
       "      <td>Differential GPS</td>\n",
       "      <td>0.0</td>\n",
       "      <td>-23.635859</td>\n",
       "      <td>-46.654255</td>\n",
       "      <td>12</td>\n",
       "      <td>0.014</td>\n",
       "      <td>1</td>\n",
       "      <td>40</td>\n",
       "    </tr>\n",
       "    <tr>\n",
       "      <th>2021-05-16 14:44:00.330070</th>\n",
       "      <td>5324</td>\n",
       "      <td>5379</td>\n",
       "      <td>817.299988</td>\n",
       "      <td>40</td>\n",
       "      <td>2021-05-16 14:43:59</td>\n",
       "      <td>Differential GPS</td>\n",
       "      <td>0.0</td>\n",
       "      <td>-23.635857</td>\n",
       "      <td>-46.654263</td>\n",
       "      <td>12</td>\n",
       "      <td>0.025</td>\n",
       "      <td>1</td>\n",
       "      <td>40</td>\n",
       "    </tr>\n",
       "    <tr>\n",
       "      <th>2021-05-16 14:45:00.752895</th>\n",
       "      <td>10304</td>\n",
       "      <td>10359</td>\n",
       "      <td>816.200012</td>\n",
       "      <td>40</td>\n",
       "      <td>2021-05-16 14:45:00</td>\n",
       "      <td>Differential GPS</td>\n",
       "      <td>0.0</td>\n",
       "      <td>-23.635859</td>\n",
       "      <td>-46.654266</td>\n",
       "      <td>12</td>\n",
       "      <td>0.007</td>\n",
       "      <td>1</td>\n",
       "      <td>40</td>\n",
       "    </tr>\n",
       "    <tr>\n",
       "      <th>2021-05-16 14:46:00.402776</th>\n",
       "      <td>86092</td>\n",
       "      <td>86147</td>\n",
       "      <td>815.299988</td>\n",
       "      <td>40</td>\n",
       "      <td>2021-05-16 14:46:00</td>\n",
       "      <td>Differential GPS</td>\n",
       "      <td>0.0</td>\n",
       "      <td>-23.635864</td>\n",
       "      <td>-46.654263</td>\n",
       "      <td>12</td>\n",
       "      <td>0.005</td>\n",
       "      <td>1</td>\n",
       "      <td>40</td>\n",
       "    </tr>\n",
       "    <tr>\n",
       "      <th>2021-05-16 14:47:00.302816</th>\n",
       "      <td>91072</td>\n",
       "      <td>91127</td>\n",
       "      <td>818.099976</td>\n",
       "      <td>40</td>\n",
       "      <td>2021-05-16 14:47:00</td>\n",
       "      <td>Differential GPS</td>\n",
       "      <td>0.0</td>\n",
       "      <td>-23.635859</td>\n",
       "      <td>-46.654266</td>\n",
       "      <td>12</td>\n",
       "      <td>0.025</td>\n",
       "      <td>1</td>\n",
       "      <td>40</td>\n",
       "    </tr>\n",
       "  </tbody>\n",
       "</table>\n",
       "</div>"
      ],
      "text/plain": [
       "                            start_byte  stop_byte    altitude  data_size  \\\n",
       "wallclock_datetime                                                         \n",
       "2021-05-16 14:43:00.532926         344        399  815.299988         40   \n",
       "2021-05-16 14:44:00.330070        5324       5379  817.299988         40   \n",
       "2021-05-16 14:45:00.752895       10304      10359  816.200012         40   \n",
       "2021-05-16 14:46:00.402776       86092      86147  815.299988         40   \n",
       "2021-05-16 14:47:00.302816       91072      91127  818.099976         40   \n",
       "\n",
       "                                  gps_datetime        gps_status  heading  \\\n",
       "wallclock_datetime                                                          \n",
       "2021-05-16 14:43:00.532926 2021-05-16 14:43:00  Differential GPS      0.0   \n",
       "2021-05-16 14:44:00.330070 2021-05-16 14:43:59  Differential GPS      0.0   \n",
       "2021-05-16 14:45:00.752895 2021-05-16 14:45:00  Differential GPS      0.0   \n",
       "2021-05-16 14:46:00.402776 2021-05-16 14:46:00  Differential GPS      0.0   \n",
       "2021-05-16 14:47:00.302816 2021-05-16 14:47:00  Differential GPS      0.0   \n",
       "\n",
       "                             latitude  longitude  num_satellites  speed  \\\n",
       "wallclock_datetime                                                        \n",
       "2021-05-16 14:43:00.532926 -23.635859 -46.654255              12  0.014   \n",
       "2021-05-16 14:44:00.330070 -23.635857 -46.654263              12  0.025   \n",
       "2021-05-16 14:45:00.752895 -23.635859 -46.654266              12  0.007   \n",
       "2021-05-16 14:46:00.402776 -23.635864 -46.654263              12  0.005   \n",
       "2021-05-16 14:47:00.302816 -23.635859 -46.654266              12  0.025   \n",
       "\n",
       "                            thread_id  type  \n",
       "wallclock_datetime                           \n",
       "2021-05-16 14:43:00.532926          1    40  \n",
       "2021-05-16 14:44:00.330070          1    40  \n",
       "2021-05-16 14:45:00.752895          1    40  \n",
       "2021-05-16 14:46:00.402776          1    40  \n",
       "2021-05-16 14:47:00.302816          1    40  "
      ]
     },
     "execution_count": null,
     "metadata": {},
     "output_type": "execute_result"
    }
   ],
   "source": [
    "gps_meta = extract_metadata(gps)\n",
    "gps_meta.head()"
   ]
  },
  {
   "cell_type": "code",
   "execution_count": null,
   "metadata": {},
   "outputs": [
    {
     "data": {
      "text/html": [
       "<div>\n",
       "<style scoped>\n",
       "    .dataframe tbody tr th:only-of-type {\n",
       "        vertical-align: middle;\n",
       "    }\n",
       "\n",
       "    .dataframe tbody tr th {\n",
       "        vertical-align: top;\n",
       "    }\n",
       "\n",
       "    .dataframe thead th {\n",
       "        text-align: right;\n",
       "    }\n",
       "</style>\n",
       "<table border=\"1\" class=\"dataframe\">\n",
       "  <thead>\n",
       "    <tr style=\"text-align: right;\">\n",
       "      <th></th>\n",
       "      <th>start_byte</th>\n",
       "      <th>stop_byte</th>\n",
       "      <th>antenna_id</th>\n",
       "      <th>bw</th>\n",
       "      <th>data_size</th>\n",
       "      <th>data_type</th>\n",
       "      <th>desclen</th>\n",
       "      <th>description</th>\n",
       "      <th>dynamic_id</th>\n",
       "      <th>gerror</th>\n",
       "      <th>...</th>\n",
       "      <th>start_channel</th>\n",
       "      <th>start_mega</th>\n",
       "      <th>start_mili</th>\n",
       "      <th>step</th>\n",
       "      <th>stop</th>\n",
       "      <th>stop_channel</th>\n",
       "      <th>stop_mega</th>\n",
       "      <th>stop_mili</th>\n",
       "      <th>thread_id</th>\n",
       "      <th>type</th>\n",
       "    </tr>\n",
       "    <tr>\n",
       "      <th>wallclock_datetime</th>\n",
       "      <th></th>\n",
       "      <th></th>\n",
       "      <th></th>\n",
       "      <th></th>\n",
       "      <th></th>\n",
       "      <th></th>\n",
       "      <th></th>\n",
       "      <th></th>\n",
       "      <th></th>\n",
       "      <th></th>\n",
       "      <th></th>\n",
       "      <th></th>\n",
       "      <th></th>\n",
       "      <th></th>\n",
       "      <th></th>\n",
       "      <th></th>\n",
       "      <th></th>\n",
       "      <th></th>\n",
       "      <th></th>\n",
       "      <th></th>\n",
       "      <th></th>\n",
       "    </tr>\n",
       "  </thead>\n",
       "  <tbody>\n",
       "    <tr>\n",
       "      <th>2021-05-21 00:00:00.695624</th>\n",
       "      <td>69731068</td>\n",
       "      <td>69732247</td>\n",
       "      <td>0</td>\n",
       "      <td>40</td>\n",
       "      <td>1164</td>\n",
       "      <td>1</td>\n",
       "      <td>36</td>\n",
       "      <td>PRD 2021 (Faixa principal 2 de 4).</td>\n",
       "      <td>0</td>\n",
       "      <td>-1</td>\n",
       "      <td>...</td>\n",
       "      <td>0</td>\n",
       "      <td>70</td>\n",
       "      <td>0</td>\n",
       "      <td>0.039101</td>\n",
       "      <td>1163</td>\n",
       "      <td>0</td>\n",
       "      <td>110</td>\n",
       "      <td>0</td>\n",
       "      <td>110</td>\n",
       "      <td>67</td>\n",
       "    </tr>\n",
       "    <tr>\n",
       "      <th>2021-05-21 00:05:00.635638</th>\n",
       "      <td>69826776</td>\n",
       "      <td>69827955</td>\n",
       "      <td>0</td>\n",
       "      <td>40</td>\n",
       "      <td>1164</td>\n",
       "      <td>1</td>\n",
       "      <td>36</td>\n",
       "      <td>PRD 2021 (Faixa principal 2 de 4).</td>\n",
       "      <td>0</td>\n",
       "      <td>-1</td>\n",
       "      <td>...</td>\n",
       "      <td>0</td>\n",
       "      <td>70</td>\n",
       "      <td>0</td>\n",
       "      <td>0.039101</td>\n",
       "      <td>1163</td>\n",
       "      <td>0</td>\n",
       "      <td>110</td>\n",
       "      <td>0</td>\n",
       "      <td>110</td>\n",
       "      <td>67</td>\n",
       "    </tr>\n",
       "    <tr>\n",
       "      <th>2021-05-21 00:10:00.606404</th>\n",
       "      <td>69861632</td>\n",
       "      <td>69862811</td>\n",
       "      <td>0</td>\n",
       "      <td>40</td>\n",
       "      <td>1164</td>\n",
       "      <td>1</td>\n",
       "      <td>36</td>\n",
       "      <td>PRD 2021 (Faixa principal 2 de 4).</td>\n",
       "      <td>0</td>\n",
       "      <td>-1</td>\n",
       "      <td>...</td>\n",
       "      <td>0</td>\n",
       "      <td>70</td>\n",
       "      <td>0</td>\n",
       "      <td>0.039101</td>\n",
       "      <td>1163</td>\n",
       "      <td>0</td>\n",
       "      <td>110</td>\n",
       "      <td>0</td>\n",
       "      <td>110</td>\n",
       "      <td>67</td>\n",
       "    </tr>\n",
       "    <tr>\n",
       "      <th>2021-05-21 00:15:00.355210</th>\n",
       "      <td>69896488</td>\n",
       "      <td>69897667</td>\n",
       "      <td>0</td>\n",
       "      <td>40</td>\n",
       "      <td>1164</td>\n",
       "      <td>1</td>\n",
       "      <td>36</td>\n",
       "      <td>PRD 2021 (Faixa principal 2 de 4).</td>\n",
       "      <td>0</td>\n",
       "      <td>-1</td>\n",
       "      <td>...</td>\n",
       "      <td>0</td>\n",
       "      <td>70</td>\n",
       "      <td>0</td>\n",
       "      <td>0.039101</td>\n",
       "      <td>1163</td>\n",
       "      <td>0</td>\n",
       "      <td>110</td>\n",
       "      <td>0</td>\n",
       "      <td>110</td>\n",
       "      <td>67</td>\n",
       "    </tr>\n",
       "    <tr>\n",
       "      <th>2021-05-21 00:20:00.385654</th>\n",
       "      <td>69992196</td>\n",
       "      <td>69993375</td>\n",
       "      <td>0</td>\n",
       "      <td>40</td>\n",
       "      <td>1164</td>\n",
       "      <td>1</td>\n",
       "      <td>36</td>\n",
       "      <td>PRD 2021 (Faixa principal 2 de 4).</td>\n",
       "      <td>0</td>\n",
       "      <td>-1</td>\n",
       "      <td>...</td>\n",
       "      <td>0</td>\n",
       "      <td>70</td>\n",
       "      <td>0</td>\n",
       "      <td>0.039101</td>\n",
       "      <td>1163</td>\n",
       "      <td>0</td>\n",
       "      <td>110</td>\n",
       "      <td>0</td>\n",
       "      <td>110</td>\n",
       "      <td>67</td>\n",
       "    </tr>\n",
       "  </tbody>\n",
       "</table>\n",
       "<p>5 rows × 34 columns</p>\n",
       "</div>"
      ],
      "text/plain": [
       "                            start_byte  stop_byte  antenna_id  bw  data_size  \\\n",
       "wallclock_datetime                                                             \n",
       "2021-05-21 00:00:00.695624    69731068   69732247           0  40       1164   \n",
       "2021-05-21 00:05:00.635638    69826776   69827955           0  40       1164   \n",
       "2021-05-21 00:10:00.606404    69861632   69862811           0  40       1164   \n",
       "2021-05-21 00:15:00.355210    69896488   69897667           0  40       1164   \n",
       "2021-05-21 00:20:00.385654    69992196   69993375           0  40       1164   \n",
       "\n",
       "                            data_type  desclen  \\\n",
       "wallclock_datetime                               \n",
       "2021-05-21 00:00:00.695624          1       36   \n",
       "2021-05-21 00:05:00.635638          1       36   \n",
       "2021-05-21 00:10:00.606404          1       36   \n",
       "2021-05-21 00:15:00.355210          1       36   \n",
       "2021-05-21 00:20:00.385654          1       36   \n",
       "\n",
       "                                                   description  dynamic_id  \\\n",
       "wallclock_datetime                                                           \n",
       "2021-05-21 00:00:00.695624  PRD 2021 (Faixa principal 2 de 4).           0   \n",
       "2021-05-21 00:05:00.635638  PRD 2021 (Faixa principal 2 de 4).           0   \n",
       "2021-05-21 00:10:00.606404  PRD 2021 (Faixa principal 2 de 4).           0   \n",
       "2021-05-21 00:15:00.355210  PRD 2021 (Faixa principal 2 de 4).           0   \n",
       "2021-05-21 00:20:00.385654  PRD 2021 (Faixa principal 2 de 4).           0   \n",
       "\n",
       "                            gerror  ...  start_channel  start_mega  \\\n",
       "wallclock_datetime                  ...                              \n",
       "2021-05-21 00:00:00.695624      -1  ...              0          70   \n",
       "2021-05-21 00:05:00.635638      -1  ...              0          70   \n",
       "2021-05-21 00:10:00.606404      -1  ...              0          70   \n",
       "2021-05-21 00:15:00.355210      -1  ...              0          70   \n",
       "2021-05-21 00:20:00.385654      -1  ...              0          70   \n",
       "\n",
       "                            start_mili      step  stop  stop_channel  \\\n",
       "wallclock_datetime                                                     \n",
       "2021-05-21 00:00:00.695624           0  0.039101  1163             0   \n",
       "2021-05-21 00:05:00.635638           0  0.039101  1163             0   \n",
       "2021-05-21 00:10:00.606404           0  0.039101  1163             0   \n",
       "2021-05-21 00:15:00.355210           0  0.039101  1163             0   \n",
       "2021-05-21 00:20:00.385654           0  0.039101  1163             0   \n",
       "\n",
       "                            stop_mega  stop_mili  thread_id  type  \n",
       "wallclock_datetime                                                 \n",
       "2021-05-21 00:00:00.695624        110          0        110    67  \n",
       "2021-05-21 00:05:00.635638        110          0        110    67  \n",
       "2021-05-21 00:10:00.606404        110          0        110    67  \n",
       "2021-05-21 00:15:00.355210        110          0        110    67  \n",
       "2021-05-21 00:20:00.385654        110          0        110    67  \n",
       "\n",
       "[5 rows x 34 columns]"
      ]
     },
     "execution_count": null,
     "metadata": {},
     "output_type": "execute_result"
    }
   ],
   "source": [
    "spec_meta = extract_metadata(spec)\n",
    "spec_meta.tail()"
   ]
  },
  {
   "cell_type": "markdown",
   "metadata": {},
   "source": [
    "## Frequência e Nível\n",
    "A função seguinte extrai as frequências e nível num formato de Tabela Dinâmica:\n",
    "* Colunas: Frequências (MHz)\n",
    "* Índice: Números de Bloco\n",
    "* Valores: Níveis (dBm ou dBuV/m)"
   ]
  },
  {
   "cell_type": "code",
   "execution_count": null,
   "metadata": {},
   "outputs": [
    {
     "data": {
      "text/html": [
       "<div>\n",
       "<style scoped>\n",
       "    .dataframe tbody tr th:only-of-type {\n",
       "        vertical-align: middle;\n",
       "    }\n",
       "\n",
       "    .dataframe tbody tr th {\n",
       "        vertical-align: top;\n",
       "    }\n",
       "\n",
       "    .dataframe thead th {\n",
       "        text-align: right;\n",
       "    }\n",
       "</style>\n",
       "<table border=\"1\" class=\"dataframe\">\n",
       "  <thead>\n",
       "    <tr style=\"text-align: right;\">\n",
       "      <th></th>\n",
       "      <th>70.000000</th>\n",
       "      <th>70.039101</th>\n",
       "      <th>70.078201</th>\n",
       "      <th>70.117302</th>\n",
       "      <th>70.156403</th>\n",
       "      <th>70.195503</th>\n",
       "      <th>70.234604</th>\n",
       "      <th>70.273705</th>\n",
       "      <th>70.312805</th>\n",
       "      <th>70.351906</th>\n",
       "      <th>...</th>\n",
       "      <th>109.648094</th>\n",
       "      <th>109.687195</th>\n",
       "      <th>109.726295</th>\n",
       "      <th>109.765396</th>\n",
       "      <th>109.804497</th>\n",
       "      <th>109.843597</th>\n",
       "      <th>109.882698</th>\n",
       "      <th>109.921799</th>\n",
       "      <th>109.960899</th>\n",
       "      <th>110.000000</th>\n",
       "    </tr>\n",
       "  </thead>\n",
       "  <tbody>\n",
       "    <tr>\n",
       "      <th>0</th>\n",
       "      <td>48.5</td>\n",
       "      <td>47.5</td>\n",
       "      <td>46.0</td>\n",
       "      <td>42.5</td>\n",
       "      <td>32.0</td>\n",
       "      <td>39.0</td>\n",
       "      <td>32.5</td>\n",
       "      <td>41.0</td>\n",
       "      <td>44.5</td>\n",
       "      <td>45.5</td>\n",
       "      <td>...</td>\n",
       "      <td>34.0</td>\n",
       "      <td>37.0</td>\n",
       "      <td>38.5</td>\n",
       "      <td>38.0</td>\n",
       "      <td>32.5</td>\n",
       "      <td>28.0</td>\n",
       "      <td>36.0</td>\n",
       "      <td>34.5</td>\n",
       "      <td>27.5</td>\n",
       "      <td>34.5</td>\n",
       "    </tr>\n",
       "    <tr>\n",
       "      <th>1</th>\n",
       "      <td>35.5</td>\n",
       "      <td>35.5</td>\n",
       "      <td>36.5</td>\n",
       "      <td>46.0</td>\n",
       "      <td>43.0</td>\n",
       "      <td>44.5</td>\n",
       "      <td>47.0</td>\n",
       "      <td>45.5</td>\n",
       "      <td>40.0</td>\n",
       "      <td>38.5</td>\n",
       "      <td>...</td>\n",
       "      <td>35.5</td>\n",
       "      <td>34.5</td>\n",
       "      <td>31.0</td>\n",
       "      <td>34.5</td>\n",
       "      <td>35.5</td>\n",
       "      <td>28.5</td>\n",
       "      <td>21.5</td>\n",
       "      <td>28.5</td>\n",
       "      <td>27.0</td>\n",
       "      <td>37.5</td>\n",
       "    </tr>\n",
       "    <tr>\n",
       "      <th>2</th>\n",
       "      <td>47.0</td>\n",
       "      <td>44.5</td>\n",
       "      <td>44.0</td>\n",
       "      <td>41.5</td>\n",
       "      <td>40.5</td>\n",
       "      <td>42.0</td>\n",
       "      <td>40.0</td>\n",
       "      <td>40.0</td>\n",
       "      <td>43.0</td>\n",
       "      <td>39.5</td>\n",
       "      <td>...</td>\n",
       "      <td>31.0</td>\n",
       "      <td>38.0</td>\n",
       "      <td>41.5</td>\n",
       "      <td>38.5</td>\n",
       "      <td>31.0</td>\n",
       "      <td>31.0</td>\n",
       "      <td>31.0</td>\n",
       "      <td>39.5</td>\n",
       "      <td>39.5</td>\n",
       "      <td>37.5</td>\n",
       "    </tr>\n",
       "    <tr>\n",
       "      <th>3</th>\n",
       "      <td>40.0</td>\n",
       "      <td>43.0</td>\n",
       "      <td>42.0</td>\n",
       "      <td>46.5</td>\n",
       "      <td>45.5</td>\n",
       "      <td>40.5</td>\n",
       "      <td>35.0</td>\n",
       "      <td>35.0</td>\n",
       "      <td>37.5</td>\n",
       "      <td>37.0</td>\n",
       "      <td>...</td>\n",
       "      <td>37.0</td>\n",
       "      <td>38.5</td>\n",
       "      <td>39.0</td>\n",
       "      <td>35.5</td>\n",
       "      <td>36.5</td>\n",
       "      <td>32.5</td>\n",
       "      <td>26.5</td>\n",
       "      <td>33.5</td>\n",
       "      <td>35.5</td>\n",
       "      <td>33.0</td>\n",
       "    </tr>\n",
       "    <tr>\n",
       "      <th>4</th>\n",
       "      <td>40.0</td>\n",
       "      <td>35.0</td>\n",
       "      <td>32.0</td>\n",
       "      <td>42.0</td>\n",
       "      <td>41.0</td>\n",
       "      <td>40.5</td>\n",
       "      <td>36.5</td>\n",
       "      <td>32.5</td>\n",
       "      <td>46.0</td>\n",
       "      <td>47.5</td>\n",
       "      <td>...</td>\n",
       "      <td>31.0</td>\n",
       "      <td>28.0</td>\n",
       "      <td>41.0</td>\n",
       "      <td>42.5</td>\n",
       "      <td>39.0</td>\n",
       "      <td>31.0</td>\n",
       "      <td>25.0</td>\n",
       "      <td>16.5</td>\n",
       "      <td>23.0</td>\n",
       "      <td>23.0</td>\n",
       "    </tr>\n",
       "  </tbody>\n",
       "</table>\n",
       "<p>5 rows × 1024 columns</p>\n",
       "</div>"
      ],
      "text/plain": [
       "   70.000000   70.039101   70.078201   70.117302   70.156403   70.195503   \\\n",
       "0        48.5        47.5        46.0        42.5        32.0        39.0   \n",
       "1        35.5        35.5        36.5        46.0        43.0        44.5   \n",
       "2        47.0        44.5        44.0        41.5        40.5        42.0   \n",
       "3        40.0        43.0        42.0        46.5        45.5        40.5   \n",
       "4        40.0        35.0        32.0        42.0        41.0        40.5   \n",
       "\n",
       "   70.234604   70.273705   70.312805   70.351906   ...  109.648094  \\\n",
       "0        32.5        41.0        44.5        45.5  ...        34.0   \n",
       "1        47.0        45.5        40.0        38.5  ...        35.5   \n",
       "2        40.0        40.0        43.0        39.5  ...        31.0   \n",
       "3        35.0        35.0        37.5        37.0  ...        37.0   \n",
       "4        36.5        32.5        46.0        47.5  ...        31.0   \n",
       "\n",
       "   109.687195  109.726295  109.765396  109.804497  109.843597  109.882698  \\\n",
       "0        37.0        38.5        38.0        32.5        28.0        36.0   \n",
       "1        34.5        31.0        34.5        35.5        28.5        21.5   \n",
       "2        38.0        41.5        38.5        31.0        31.0        31.0   \n",
       "3        38.5        39.0        35.5        36.5        32.5        26.5   \n",
       "4        28.0        41.0        42.5        39.0        31.0        25.0   \n",
       "\n",
       "   109.921799  109.960899  110.000000  \n",
       "0        34.5        27.5        34.5  \n",
       "1        28.5        27.0        37.5  \n",
       "2        39.5        39.5        37.5  \n",
       "3        33.5        35.5        33.0  \n",
       "4        16.5        23.0        23.0  \n",
       "\n",
       "[5 rows x 1024 columns]"
      ]
     },
     "execution_count": null,
     "metadata": {},
     "output_type": "execute_result"
    }
   ],
   "source": [
    "levels = extract_level(spec, dtype='float16')\n",
    "levels.head()"
   ]
  },
  {
   "cell_type": "markdown",
   "metadata": {},
   "source": [
    "## Processamento, Extração e Salvamento dos Metadados e Espectro \n",
    "A função a seguir é um wrapper de toda funcionalidade desta biblioteca. Ela recebe o caminho `entrada` para um arquivo `.bin` ou pasta contendo vários arquivos `.bin`, extrai os metadados e os dados de espectro. Mescla o timestamp dos metadados com o arquivo de espectro e salva ambos na pasta `saida`. Essa pasta é usada como repositório e cache dos dados processados que serão utilizados pela função `extract_bin_stats`."
   ]
  },
  {
   "cell_type": "code",
   "execution_count": null,
   "metadata": {},
   "outputs": [],
   "source": [
    "from rfpye.filter import process_bin, extract_bin_stats"
   ]
  },
  {
   "cell_type": "code",
   "execution_count": null,
   "metadata": {},
   "outputs": [
    {
     "data": {
      "text/html": [
       "<pre style=\"white-space:pre;overflow-x:auto;line-height:normal;font-family:Menlo,'DejaVu Sans Mono',consolas,'Courier New',monospace\"><span style=\"color: #800000; text-decoration-color: #800000; font-weight: bold\">─────────────────────────── </span>Lista de Arquivos a serem processados<span style=\"color: #800000; text-decoration-color: #800000; font-weight: bold\"> ───────────────────────────</span>\n",
       "</pre>\n"
      ],
      "text/plain": [
       "\u001b[1;31m─────────────────────────── \u001b[0mLista de Arquivos a serem processados\u001b[1;31m ───────────────────────────\u001b[0m\n"
      ]
     },
     "metadata": {},
     "output_type": "display_data"
    },
    {
     "data": {
      "text/html": [
       "<pre style=\"white-space:pre;overflow-x:auto;line-height:normal;font-family:Menlo,'DejaVu Sans Mono',consolas,'Courier New',monospace\"><span style=\"color: #c0c0c0; text-decoration-color: #c0c0c0; font-weight: bold\">[</span><span style=\"color: #008000; text-decoration-color: #008000\">'rfeye002279-SP-Congonhas_210516_T144208.bin'</span><span style=\"color: #c0c0c0; text-decoration-color: #c0c0c0; font-weight: bold\">]                                              </span>\n",
       "</pre>\n"
      ],
      "text/plain": [
       "\u001b[1;37m[\u001b[0m\u001b[32m'rfeye002279-SP-Congonhas_210516_T144208.bin'\u001b[0m\u001b[1;37m]\u001b[0m\u001b[1;37m                                              \u001b[0m\n"
      ]
     },
     "metadata": {},
     "output_type": "display_data"
    },
    {
     "data": {
      "application/vnd.jupyter.widget-view+json": {
       "model_id": "",
       "version_major": 2,
       "version_minor": 0
      },
      "text/plain": [
       "Output()"
      ]
     },
     "metadata": {},
     "output_type": "display_data"
    },
    {
     "data": {
      "text/html": [
       "<pre style=\"white-space:pre;overflow-x:auto;line-height:normal;font-family:Menlo,'DejaVu Sans Mono',consolas,'Courier New',monospace\"><span style=\"color: #008080; text-decoration-color: #008080\">Processando Blocos de: </span><span style=\"color: #800000; text-decoration-color: #800000\">rfeye002279-SP-Congonhas_210516_T144208.bin</span>\n",
       "</pre>\n"
      ],
      "text/plain": [
       "\u001b[36mProcessando Blocos de: \u001b[0m\u001b[31mrfeye002279-SP-Congonhas_210516_T144208.bin\u001b[0m\n"
      ]
     },
     "metadata": {},
     "output_type": "display_data"
    },
    {
     "data": {
      "text/html": [
       "<pre style=\"white-space:pre;overflow-x:auto;line-height:normal;font-family:Menlo,'DejaVu Sans Mono',consolas,'Courier New',monospace\"><span style=\"color: #008080; text-decoration-color: #008080\">Extraindo Metadados de: </span><span style=\"color: #800000; text-decoration-color: #800000\">rfeye002279-SP-Congonhas_210516_T144208.bin</span>\n",
       "</pre>\n"
      ],
      "text/plain": [
       "\u001b[36mExtraindo Metadados de: \u001b[0m\u001b[31mrfeye002279-SP-Congonhas_210516_T144208.bin\u001b[0m\n"
      ]
     },
     "metadata": {},
     "output_type": "display_data"
    },
    {
     "data": {
      "text/html": [
       "<pre style=\"white-space:pre;overflow-x:auto;line-height:normal;font-family:Menlo,'DejaVu Sans Mono',consolas,'Courier New',monospace\"></pre>\n"
      ],
      "text/plain": []
     },
     "metadata": {},
     "output_type": "display_data"
    },
    {
     "data": {
      "text/html": [
       "<pre style=\"white-space:pre;overflow-x:auto;line-height:normal;font-family:Menlo,'DejaVu Sans Mono',consolas,'Courier New',monospace\">kbô 😆\n",
       "</pre>\n"
      ],
      "text/plain": [
       "kbô 😆\n"
      ]
     },
     "metadata": {},
     "output_type": "display_data"
    }
   ],
   "source": [
    "process_bin(bin_file, saida)"
   ]
  },
  {
   "cell_type": "markdown",
   "metadata": {},
   "source": [
    "Se chamarmos a função novamente:"
   ]
  },
  {
   "cell_type": "code",
   "execution_count": null,
   "metadata": {},
   "outputs": [
    {
     "data": {
      "text/html": [
       "<pre style=\"white-space:pre;overflow-x:auto;line-height:normal;font-family:Menlo,'DejaVu Sans Mono',consolas,'Courier New',monospace\"><span style=\"color: #800000; text-decoration-color: #800000; font-weight: bold\">─────────────────────────── </span>Lista de Arquivos a serem processados<span style=\"color: #800000; text-decoration-color: #800000; font-weight: bold\"> ───────────────────────────</span>\n",
       "</pre>\n"
      ],
      "text/plain": [
       "\u001b[1;31m─────────────────────────── \u001b[0mLista de Arquivos a serem processados\u001b[1;31m ───────────────────────────\u001b[0m\n"
      ]
     },
     "metadata": {},
     "output_type": "display_data"
    },
    {
     "data": {
      "text/html": [
       "<pre style=\"white-space:pre;overflow-x:auto;line-height:normal;font-family:Menlo,'DejaVu Sans Mono',consolas,'Courier New',monospace\"><span style=\"color: #c0c0c0; text-decoration-color: #c0c0c0; font-weight: bold\">[</span><span style=\"color: #008000; text-decoration-color: #008000\">'rfeye002279-SP-Congonhas_210516_T144208.bin'</span><span style=\"color: #c0c0c0; text-decoration-color: #c0c0c0; font-weight: bold\">]                                              </span>\n",
       "</pre>\n"
      ],
      "text/plain": [
       "\u001b[1;37m[\u001b[0m\u001b[32m'rfeye002279-SP-Congonhas_210516_T144208.bin'\u001b[0m\u001b[1;37m]\u001b[0m\u001b[1;37m                                              \u001b[0m\n"
      ]
     },
     "metadata": {},
     "output_type": "display_data"
    },
    {
     "data": {
      "text/html": [
       "<pre style=\"white-space:pre;overflow-x:auto;line-height:normal;font-family:Menlo,'DejaVu Sans Mono',consolas,'Courier New',monospace\">😴 Nenhum arquivo novo a processar 💤\n",
       "</pre>\n"
      ],
      "text/plain": [
       "😴 Nenhum arquivo novo a processar 💤\n"
      ]
     },
     "metadata": {},
     "output_type": "display_data"
    },
    {
     "data": {
      "text/html": [
       "<pre style=\"white-space:pre;overflow-x:auto;line-height:normal;font-family:Menlo,'DejaVu Sans Mono',consolas,'Courier New',monospace\">☝ use --substituir no terminal ou <span style=\"color: #808000; text-decoration-color: #808000\">substituir</span>=<span style=\"color: #00ff00; text-decoration-color: #00ff00; font-style: italic\">True</span> na chamada caso queira reprocessar os bins \n",
       "e sobrepôr os arquivos existentes 😉\n",
       "</pre>\n"
      ],
      "text/plain": [
       "☝ use --substituir no terminal ou \u001b[33msubstituir\u001b[0m=\u001b[3;92mTrue\u001b[0m na chamada caso queira reprocessar os bins \n",
       "e sobrepôr os arquivos existentes 😉\n"
      ]
     },
     "metadata": {},
     "output_type": "display_data"
    }
   ],
   "source": [
    "process_bin(bin_file, saida)"
   ]
  },
  {
   "cell_type": "markdown",
   "metadata": {},
   "source": [
    "Como vemos pela mensagem de saída, nada foi feito porque esse arquivo já foi processado anteriormente e todos os arquivos de metadados e espectros presentes já foram salvos na pasta `saida`"
   ]
  },
  {
   "cell_type": "markdown",
   "metadata": {},
   "source": [
    "## Resumo do arquivo\n",
    "Se o que interessa é somente os dados estatísticos do arquivo como `Min`, `Max` e `Mean` basta utilizar:"
   ]
  },
  {
   "cell_type": "code",
   "execution_count": null,
   "metadata": {},
   "outputs": [
    {
     "data": {
      "text/html": [
       "<div>\n",
       "<style scoped>\n",
       "    .dataframe tbody tr th:only-of-type {\n",
       "        vertical-align: middle;\n",
       "    }\n",
       "\n",
       "    .dataframe tbody tr th {\n",
       "        vertical-align: top;\n",
       "    }\n",
       "\n",
       "    .dataframe thead th {\n",
       "        text-align: right;\n",
       "    }\n",
       "</style>\n",
       "<table border=\"1\" class=\"dataframe\">\n",
       "  <thead>\n",
       "    <tr style=\"text-align: right;\">\n",
       "      <th></th>\n",
       "      <th>Frequency</th>\n",
       "      <th>Min</th>\n",
       "      <th>Max</th>\n",
       "      <th>Mean</th>\n",
       "    </tr>\n",
       "  </thead>\n",
       "  <tbody>\n",
       "    <tr>\n",
       "      <th>0</th>\n",
       "      <td>50.000000</td>\n",
       "      <td>18.0</td>\n",
       "      <td>48.5</td>\n",
       "      <td>37.81250</td>\n",
       "    </tr>\n",
       "    <tr>\n",
       "      <th>1</th>\n",
       "      <td>50.039101</td>\n",
       "      <td>10.5</td>\n",
       "      <td>49.0</td>\n",
       "      <td>37.62500</td>\n",
       "    </tr>\n",
       "    <tr>\n",
       "      <th>2</th>\n",
       "      <td>50.078201</td>\n",
       "      <td>8.5</td>\n",
       "      <td>48.5</td>\n",
       "      <td>37.59375</td>\n",
       "    </tr>\n",
       "    <tr>\n",
       "      <th>3</th>\n",
       "      <td>50.117302</td>\n",
       "      <td>17.5</td>\n",
       "      <td>49.5</td>\n",
       "      <td>37.96875</td>\n",
       "    </tr>\n",
       "    <tr>\n",
       "      <th>4</th>\n",
       "      <td>50.156403</td>\n",
       "      <td>17.5</td>\n",
       "      <td>50.0</td>\n",
       "      <td>38.00000</td>\n",
       "    </tr>\n",
       "    <tr>\n",
       "      <th>...</th>\n",
       "      <td>...</td>\n",
       "      <td>...</td>\n",
       "      <td>...</td>\n",
       "      <td>...</td>\n",
       "    </tr>\n",
       "    <tr>\n",
       "      <th>43003</th>\n",
       "      <td>5159.843750</td>\n",
       "      <td>-128.5</td>\n",
       "      <td>-104.0</td>\n",
       "      <td>-112.43750</td>\n",
       "    </tr>\n",
       "    <tr>\n",
       "      <th>43004</th>\n",
       "      <td>5159.882812</td>\n",
       "      <td>-125.0</td>\n",
       "      <td>-103.5</td>\n",
       "      <td>-112.25000</td>\n",
       "    </tr>\n",
       "    <tr>\n",
       "      <th>43005</th>\n",
       "      <td>5159.921875</td>\n",
       "      <td>-127.0</td>\n",
       "      <td>-101.5</td>\n",
       "      <td>-111.37500</td>\n",
       "    </tr>\n",
       "    <tr>\n",
       "      <th>43006</th>\n",
       "      <td>5159.960938</td>\n",
       "      <td>-123.5</td>\n",
       "      <td>-101.0</td>\n",
       "      <td>-111.12500</td>\n",
       "    </tr>\n",
       "    <tr>\n",
       "      <th>43007</th>\n",
       "      <td>5160.000000</td>\n",
       "      <td>-125.5</td>\n",
       "      <td>-103.5</td>\n",
       "      <td>-112.06250</td>\n",
       "    </tr>\n",
       "  </tbody>\n",
       "</table>\n",
       "<p>43008 rows × 4 columns</p>\n",
       "</div>"
      ],
      "text/plain": [
       "         Frequency    Min    Max       Mean\n",
       "0        50.000000   18.0   48.5   37.81250\n",
       "1        50.039101   10.5   49.0   37.62500\n",
       "2        50.078201    8.5   48.5   37.59375\n",
       "3        50.117302   17.5   49.5   37.96875\n",
       "4        50.156403   17.5   50.0   38.00000\n",
       "...            ...    ...    ...        ...\n",
       "43003  5159.843750 -128.5 -104.0 -112.43750\n",
       "43004  5159.882812 -125.0 -103.5 -112.25000\n",
       "43005  5159.921875 -127.0 -101.5 -111.37500\n",
       "43006  5159.960938 -123.5 -101.0 -111.12500\n",
       "43007  5160.000000 -125.5 -103.5 -112.06250\n",
       "\n",
       "[43008 rows x 4 columns]"
      ]
     },
     "execution_count": null,
     "metadata": {},
     "output_type": "execute_result"
    }
   ],
   "source": [
    "stats = extract_bin_stats(bin_file, cache=saida)\n",
    "stats"
   ]
  },
  {
   "cell_type": "markdown",
   "metadata": {},
   "source": [
    "Podemos filtrar o intervalo tanto de frequência quanto de tempo da extração:"
   ]
  },
  {
   "cell_type": "code",
   "execution_count": null,
   "metadata": {},
   "outputs": [
    {
     "data": {
      "text/html": [
       "<pre style=\"white-space:pre;overflow-x:auto;line-height:normal;font-family:Menlo,'DejaVu Sans Mono',consolas,'Courier New',monospace\">    Frequency   Min   Max      Mean\n",
       "<span style=\"color: #008080; text-decoration-color: #008080; font-weight: bold\">0</span>   <span style=\"color: #008080; text-decoration-color: #008080; font-weight: bold\">88.123169</span>  <span style=\"color: #008080; text-decoration-color: #008080; font-weight: bold\">69.0</span>  <span style=\"color: #008080; text-decoration-color: #008080; font-weight: bold\">96.0</span>  <span style=\"color: #008080; text-decoration-color: #008080; font-weight: bold\">89.43750</span>\n",
       "<span style=\"color: #008080; text-decoration-color: #008080; font-weight: bold\">1</span>   <span style=\"color: #008080; text-decoration-color: #008080; font-weight: bold\">88.162270</span>  <span style=\"color: #008080; text-decoration-color: #008080; font-weight: bold\">65.0</span>  <span style=\"color: #008080; text-decoration-color: #008080; font-weight: bold\">96.0</span>  <span style=\"color: #008080; text-decoration-color: #008080; font-weight: bold\">89.43750</span>\n",
       "<span style=\"color: #008080; text-decoration-color: #008080; font-weight: bold\">2</span>   <span style=\"color: #008080; text-decoration-color: #008080; font-weight: bold\">88.201370</span>  <span style=\"color: #008080; text-decoration-color: #008080; font-weight: bold\">53.5</span>  <span style=\"color: #008080; text-decoration-color: #008080; font-weight: bold\">96.0</span>  <span style=\"color: #008080; text-decoration-color: #008080; font-weight: bold\">83.62500</span>\n",
       "<span style=\"color: #008080; text-decoration-color: #008080; font-weight: bold\">3</span>   <span style=\"color: #008080; text-decoration-color: #008080; font-weight: bold\">88.240471</span>  <span style=\"color: #008080; text-decoration-color: #008080; font-weight: bold\">46.5</span>  <span style=\"color: #008080; text-decoration-color: #008080; font-weight: bold\">95.5</span>  <span style=\"color: #008080; text-decoration-color: #008080; font-weight: bold\">83.81250</span>\n",
       "<span style=\"color: #008080; text-decoration-color: #008080; font-weight: bold\">4</span>   <span style=\"color: #008080; text-decoration-color: #008080; font-weight: bold\">88.279572</span>  <span style=\"color: #008080; text-decoration-color: #008080; font-weight: bold\">37.5</span>  <span style=\"color: #008080; text-decoration-color: #008080; font-weight: bold\">95.0</span>  <span style=\"color: #008080; text-decoration-color: #008080; font-weight: bold\">71.93750</span>\n",
       "<span style=\"color: #008080; text-decoration-color: #008080; font-weight: bold\">5</span>   <span style=\"color: #008080; text-decoration-color: #008080; font-weight: bold\">88.318672</span>  <span style=\"color: #008080; text-decoration-color: #008080; font-weight: bold\">34.0</span>  <span style=\"color: #008080; text-decoration-color: #008080; font-weight: bold\">94.0</span>  <span style=\"color: #008080; text-decoration-color: #008080; font-weight: bold\">72.37500</span>\n",
       "<span style=\"color: #008080; text-decoration-color: #008080; font-weight: bold\">6</span>   <span style=\"color: #008080; text-decoration-color: #008080; font-weight: bold\">88.357773</span>  <span style=\"color: #008080; text-decoration-color: #008080; font-weight: bold\">28.0</span>  <span style=\"color: #008080; text-decoration-color: #008080; font-weight: bold\">87.0</span>  <span style=\"color: #008080; text-decoration-color: #008080; font-weight: bold\">57.40625</span>\n",
       "<span style=\"color: #008080; text-decoration-color: #008080; font-weight: bold\">7</span>   <span style=\"color: #008080; text-decoration-color: #008080; font-weight: bold\">88.396873</span>  <span style=\"color: #008080; text-decoration-color: #008080; font-weight: bold\">21.5</span>  <span style=\"color: #008080; text-decoration-color: #008080; font-weight: bold\">85.0</span>  <span style=\"color: #008080; text-decoration-color: #008080; font-weight: bold\">57.90625</span>\n",
       "<span style=\"color: #008080; text-decoration-color: #008080; font-weight: bold\">8</span>   <span style=\"color: #008080; text-decoration-color: #008080; font-weight: bold\">88.435974</span>  <span style=\"color: #008080; text-decoration-color: #008080; font-weight: bold\">24.0</span>  <span style=\"color: #008080; text-decoration-color: #008080; font-weight: bold\">71.0</span>  <span style=\"color: #008080; text-decoration-color: #008080; font-weight: bold\">46.00000</span>\n",
       "<span style=\"color: #008080; text-decoration-color: #008080; font-weight: bold\">9</span>   <span style=\"color: #008080; text-decoration-color: #008080; font-weight: bold\">88.475075</span>  <span style=\"color: #008080; text-decoration-color: #008080; font-weight: bold\">24.5</span>  <span style=\"color: #008080; text-decoration-color: #008080; font-weight: bold\">70.0</span>  <span style=\"color: #008080; text-decoration-color: #008080; font-weight: bold\">46.40625</span>\n",
       "<span style=\"color: #008080; text-decoration-color: #008080; font-weight: bold\">10</span>  <span style=\"color: #008080; text-decoration-color: #008080; font-weight: bold\">88.514175</span>  <span style=\"color: #008080; text-decoration-color: #008080; font-weight: bold\">12.5</span>  <span style=\"color: #008080; text-decoration-color: #008080; font-weight: bold\">55.0</span>  <span style=\"color: #008080; text-decoration-color: #008080; font-weight: bold\">40.71875</span>\n",
       "<span style=\"color: #008080; text-decoration-color: #008080; font-weight: bold\">11</span>  <span style=\"color: #008080; text-decoration-color: #008080; font-weight: bold\">88.553276</span>   <span style=\"color: #008080; text-decoration-color: #008080; font-weight: bold\">9.5</span>  <span style=\"color: #008080; text-decoration-color: #008080; font-weight: bold\">55.0</span>  <span style=\"color: #008080; text-decoration-color: #008080; font-weight: bold\">40.93750</span>\n",
       "<span style=\"color: #008080; text-decoration-color: #008080; font-weight: bold\">12</span>  <span style=\"color: #008080; text-decoration-color: #008080; font-weight: bold\">88.592377</span>  <span style=\"color: #008080; text-decoration-color: #008080; font-weight: bold\">20.0</span>  <span style=\"color: #008080; text-decoration-color: #008080; font-weight: bold\">53.5</span>  <span style=\"color: #008080; text-decoration-color: #008080; font-weight: bold\">38.06250</span>\n",
       "<span style=\"color: #008080; text-decoration-color: #008080; font-weight: bold\">13</span>  <span style=\"color: #008080; text-decoration-color: #008080; font-weight: bold\">88.631477</span>  <span style=\"color: #008080; text-decoration-color: #008080; font-weight: bold\">17.5</span>  <span style=\"color: #008080; text-decoration-color: #008080; font-weight: bold\">56.5</span>  <span style=\"color: #008080; text-decoration-color: #008080; font-weight: bold\">38.28125</span>\n",
       "<span style=\"color: #008080; text-decoration-color: #008080; font-weight: bold\">14</span>  <span style=\"color: #008080; text-decoration-color: #008080; font-weight: bold\">88.670578</span>  <span style=\"color: #008080; text-decoration-color: #008080; font-weight: bold\">16.5</span>  <span style=\"color: #008080; text-decoration-color: #008080; font-weight: bold\">60.0</span>  <span style=\"color: #008080; text-decoration-color: #008080; font-weight: bold\">41.59375</span>\n",
       "<span style=\"color: #008080; text-decoration-color: #008080; font-weight: bold\">15</span>  <span style=\"color: #008080; text-decoration-color: #008080; font-weight: bold\">88.709679</span>  <span style=\"color: #008080; text-decoration-color: #008080; font-weight: bold\">10.0</span>  <span style=\"color: #008080; text-decoration-color: #008080; font-weight: bold\">60.5</span>  <span style=\"color: #008080; text-decoration-color: #008080; font-weight: bold\">41.90625</span>\n",
       "<span style=\"color: #008080; text-decoration-color: #008080; font-weight: bold\">16</span>  <span style=\"color: #008080; text-decoration-color: #008080; font-weight: bold\">88.748779</span>  <span style=\"color: #008080; text-decoration-color: #008080; font-weight: bold\">12.5</span>  <span style=\"color: #008080; text-decoration-color: #008080; font-weight: bold\">62.0</span>  <span style=\"color: #008080; text-decoration-color: #008080; font-weight: bold\">49.96875</span>\n",
       "<span style=\"color: #008080; text-decoration-color: #008080; font-weight: bold\">17</span>  <span style=\"color: #008080; text-decoration-color: #008080; font-weight: bold\">88.787880</span>  <span style=\"color: #008080; text-decoration-color: #008080; font-weight: bold\">17.5</span>  <span style=\"color: #008080; text-decoration-color: #008080; font-weight: bold\">62.5</span>  <span style=\"color: #008080; text-decoration-color: #008080; font-weight: bold\">50.25000</span>\n",
       "<span style=\"color: #008080; text-decoration-color: #008080; font-weight: bold\">18</span>  <span style=\"color: #008080; text-decoration-color: #008080; font-weight: bold\">88.826981</span>  <span style=\"color: #008080; text-decoration-color: #008080; font-weight: bold\">28.0</span>  <span style=\"color: #008080; text-decoration-color: #008080; font-weight: bold\">64.0</span>  <span style=\"color: #008080; text-decoration-color: #008080; font-weight: bold\">54.37500</span>\n",
       "<span style=\"color: #008080; text-decoration-color: #008080; font-weight: bold\">19</span>  <span style=\"color: #008080; text-decoration-color: #008080; font-weight: bold\">88.866081</span>  <span style=\"color: #008080; text-decoration-color: #008080; font-weight: bold\">31.5</span>  <span style=\"color: #008080; text-decoration-color: #008080; font-weight: bold\">63.5</span>  <span style=\"color: #008080; text-decoration-color: #008080; font-weight: bold\">54.68750</span>\n",
       "</pre>\n"
      ],
      "text/plain": [
       "    Frequency   Min   Max      Mean\n",
       "\u001b[1;36m0\u001b[0m   \u001b[1;36m88.123169\u001b[0m  \u001b[1;36m69.0\u001b[0m  \u001b[1;36m96.0\u001b[0m  \u001b[1;36m89.43750\u001b[0m\n",
       "\u001b[1;36m1\u001b[0m   \u001b[1;36m88.162270\u001b[0m  \u001b[1;36m65.0\u001b[0m  \u001b[1;36m96.0\u001b[0m  \u001b[1;36m89.43750\u001b[0m\n",
       "\u001b[1;36m2\u001b[0m   \u001b[1;36m88.201370\u001b[0m  \u001b[1;36m53.5\u001b[0m  \u001b[1;36m96.0\u001b[0m  \u001b[1;36m83.62500\u001b[0m\n",
       "\u001b[1;36m3\u001b[0m   \u001b[1;36m88.240471\u001b[0m  \u001b[1;36m46.5\u001b[0m  \u001b[1;36m95.5\u001b[0m  \u001b[1;36m83.81250\u001b[0m\n",
       "\u001b[1;36m4\u001b[0m   \u001b[1;36m88.279572\u001b[0m  \u001b[1;36m37.5\u001b[0m  \u001b[1;36m95.0\u001b[0m  \u001b[1;36m71.93750\u001b[0m\n",
       "\u001b[1;36m5\u001b[0m   \u001b[1;36m88.318672\u001b[0m  \u001b[1;36m34.0\u001b[0m  \u001b[1;36m94.0\u001b[0m  \u001b[1;36m72.37500\u001b[0m\n",
       "\u001b[1;36m6\u001b[0m   \u001b[1;36m88.357773\u001b[0m  \u001b[1;36m28.0\u001b[0m  \u001b[1;36m87.0\u001b[0m  \u001b[1;36m57.40625\u001b[0m\n",
       "\u001b[1;36m7\u001b[0m   \u001b[1;36m88.396873\u001b[0m  \u001b[1;36m21.5\u001b[0m  \u001b[1;36m85.0\u001b[0m  \u001b[1;36m57.90625\u001b[0m\n",
       "\u001b[1;36m8\u001b[0m   \u001b[1;36m88.435974\u001b[0m  \u001b[1;36m24.0\u001b[0m  \u001b[1;36m71.0\u001b[0m  \u001b[1;36m46.00000\u001b[0m\n",
       "\u001b[1;36m9\u001b[0m   \u001b[1;36m88.475075\u001b[0m  \u001b[1;36m24.5\u001b[0m  \u001b[1;36m70.0\u001b[0m  \u001b[1;36m46.40625\u001b[0m\n",
       "\u001b[1;36m10\u001b[0m  \u001b[1;36m88.514175\u001b[0m  \u001b[1;36m12.5\u001b[0m  \u001b[1;36m55.0\u001b[0m  \u001b[1;36m40.71875\u001b[0m\n",
       "\u001b[1;36m11\u001b[0m  \u001b[1;36m88.553276\u001b[0m   \u001b[1;36m9.5\u001b[0m  \u001b[1;36m55.0\u001b[0m  \u001b[1;36m40.93750\u001b[0m\n",
       "\u001b[1;36m12\u001b[0m  \u001b[1;36m88.592377\u001b[0m  \u001b[1;36m20.0\u001b[0m  \u001b[1;36m53.5\u001b[0m  \u001b[1;36m38.06250\u001b[0m\n",
       "\u001b[1;36m13\u001b[0m  \u001b[1;36m88.631477\u001b[0m  \u001b[1;36m17.5\u001b[0m  \u001b[1;36m56.5\u001b[0m  \u001b[1;36m38.28125\u001b[0m\n",
       "\u001b[1;36m14\u001b[0m  \u001b[1;36m88.670578\u001b[0m  \u001b[1;36m16.5\u001b[0m  \u001b[1;36m60.0\u001b[0m  \u001b[1;36m41.59375\u001b[0m\n",
       "\u001b[1;36m15\u001b[0m  \u001b[1;36m88.709679\u001b[0m  \u001b[1;36m10.0\u001b[0m  \u001b[1;36m60.5\u001b[0m  \u001b[1;36m41.90625\u001b[0m\n",
       "\u001b[1;36m16\u001b[0m  \u001b[1;36m88.748779\u001b[0m  \u001b[1;36m12.5\u001b[0m  \u001b[1;36m62.0\u001b[0m  \u001b[1;36m49.96875\u001b[0m\n",
       "\u001b[1;36m17\u001b[0m  \u001b[1;36m88.787880\u001b[0m  \u001b[1;36m17.5\u001b[0m  \u001b[1;36m62.5\u001b[0m  \u001b[1;36m50.25000\u001b[0m\n",
       "\u001b[1;36m18\u001b[0m  \u001b[1;36m88.826981\u001b[0m  \u001b[1;36m28.0\u001b[0m  \u001b[1;36m64.0\u001b[0m  \u001b[1;36m54.37500\u001b[0m\n",
       "\u001b[1;36m19\u001b[0m  \u001b[1;36m88.866081\u001b[0m  \u001b[1;36m31.5\u001b[0m  \u001b[1;36m63.5\u001b[0m  \u001b[1;36m54.68750\u001b[0m\n"
      ]
     },
     "metadata": {},
     "output_type": "display_data"
    }
   ],
   "source": [
    "stats = extract_bin_stats(bin_file, cache=saida, freq_start=88.1, freq_stop=107.9)\n",
    "print(stats.head(20))"
   ]
  },
  {
   "cell_type": "code",
   "execution_count": null,
   "metadata": {},
   "outputs": [
    {
     "data": {
      "text/html": [
       "<pre style=\"white-space:pre;overflow-x:auto;line-height:normal;font-family:Menlo,'DejaVu Sans Mono',consolas,'Courier New',monospace\">      Frequency    Min   Max      Mean\n",
       "<span style=\"color: #008080; text-decoration-color: #008080; font-weight: bold\">833</span>  <span style=\"color: #008080; text-decoration-color: #008080; font-weight: bold\">107.705833</span> <span style=\"color: #008080; text-decoration-color: #008080; font-weight: bold\">-133.0</span> <span style=\"color: #008080; text-decoration-color: #008080; font-weight: bold\">-64.0</span> <span style=\"color: #008080; text-decoration-color: #008080; font-weight: bold\">-90.00000</span>\n",
       "<span style=\"color: #008080; text-decoration-color: #008080; font-weight: bold\">834</span>  <span style=\"color: #008080; text-decoration-color: #008080; font-weight: bold\">107.715599</span> <span style=\"color: #008080; text-decoration-color: #008080; font-weight: bold\">-120.5</span> <span style=\"color: #008080; text-decoration-color: #008080; font-weight: bold\">-62.0</span> <span style=\"color: #008080; text-decoration-color: #008080; font-weight: bold\">-88.81250</span>\n",
       "<span style=\"color: #008080; text-decoration-color: #008080; font-weight: bold\">835</span>  <span style=\"color: #008080; text-decoration-color: #008080; font-weight: bold\">107.725372</span> <span style=\"color: #008080; text-decoration-color: #008080; font-weight: bold\">-117.5</span> <span style=\"color: #008080; text-decoration-color: #008080; font-weight: bold\">-60.5</span> <span style=\"color: #008080; text-decoration-color: #008080; font-weight: bold\">-88.00000</span>\n",
       "<span style=\"color: #008080; text-decoration-color: #008080; font-weight: bold\">836</span>  <span style=\"color: #008080; text-decoration-color: #008080; font-weight: bold\">107.735138</span>   <span style=\"color: #008080; text-decoration-color: #008080; font-weight: bold\">19.0</span>  <span style=\"color: #008080; text-decoration-color: #008080; font-weight: bold\">75.0</span>  <span style=\"color: #008080; text-decoration-color: #008080; font-weight: bold\">46.31250</span>\n",
       "<span style=\"color: #008080; text-decoration-color: #008080; font-weight: bold\">837</span>  <span style=\"color: #008080; text-decoration-color: #008080; font-weight: bold\">107.744904</span> <span style=\"color: #008080; text-decoration-color: #008080; font-weight: bold\">-128.5</span> <span style=\"color: #008080; text-decoration-color: #008080; font-weight: bold\">-58.5</span> <span style=\"color: #008080; text-decoration-color: #008080; font-weight: bold\">-86.68750</span>\n",
       "<span style=\"color: #008080; text-decoration-color: #008080; font-weight: bold\">838</span>  <span style=\"color: #008080; text-decoration-color: #008080; font-weight: bold\">107.754677</span> <span style=\"color: #008080; text-decoration-color: #008080; font-weight: bold\">-121.0</span> <span style=\"color: #008080; text-decoration-color: #008080; font-weight: bold\">-57.0</span> <span style=\"color: #008080; text-decoration-color: #008080; font-weight: bold\">-84.31250</span>\n",
       "<span style=\"color: #008080; text-decoration-color: #008080; font-weight: bold\">839</span>  <span style=\"color: #008080; text-decoration-color: #008080; font-weight: bold\">107.764442</span> <span style=\"color: #008080; text-decoration-color: #008080; font-weight: bold\">-116.5</span> <span style=\"color: #008080; text-decoration-color: #008080; font-weight: bold\">-49.0</span> <span style=\"color: #008080; text-decoration-color: #008080; font-weight: bold\">-80.68750</span>\n",
       "<span style=\"color: #008080; text-decoration-color: #008080; font-weight: bold\">840</span>  <span style=\"color: #008080; text-decoration-color: #008080; font-weight: bold\">107.774208</span> <span style=\"color: #008080; text-decoration-color: #008080; font-weight: bold\">-120.5</span> <span style=\"color: #008080; text-decoration-color: #008080; font-weight: bold\">-41.0</span> <span style=\"color: #008080; text-decoration-color: #008080; font-weight: bold\">-76.37500</span>\n",
       "<span style=\"color: #008080; text-decoration-color: #008080; font-weight: bold\">841</span>  <span style=\"color: #008080; text-decoration-color: #008080; font-weight: bold\">107.783981</span>   <span style=\"color: #008080; text-decoration-color: #008080; font-weight: bold\">18.0</span>  <span style=\"color: #008080; text-decoration-color: #008080; font-weight: bold\">79.5</span>  <span style=\"color: #008080; text-decoration-color: #008080; font-weight: bold\">59.62500</span>\n",
       "<span style=\"color: #008080; text-decoration-color: #008080; font-weight: bold\">842</span>  <span style=\"color: #008080; text-decoration-color: #008080; font-weight: bold\">107.793747</span> <span style=\"color: #008080; text-decoration-color: #008080; font-weight: bold\">-121.5</span> <span style=\"color: #008080; text-decoration-color: #008080; font-weight: bold\">-38.5</span> <span style=\"color: #008080; text-decoration-color: #008080; font-weight: bold\">-72.37500</span>\n",
       "<span style=\"color: #008080; text-decoration-color: #008080; font-weight: bold\">843</span>  <span style=\"color: #008080; text-decoration-color: #008080; font-weight: bold\">107.803520</span> <span style=\"color: #008080; text-decoration-color: #008080; font-weight: bold\">-115.0</span> <span style=\"color: #008080; text-decoration-color: #008080; font-weight: bold\">-38.5</span> <span style=\"color: #008080; text-decoration-color: #008080; font-weight: bold\">-69.00000</span>\n",
       "<span style=\"color: #008080; text-decoration-color: #008080; font-weight: bold\">844</span>  <span style=\"color: #008080; text-decoration-color: #008080; font-weight: bold\">107.813286</span> <span style=\"color: #008080; text-decoration-color: #008080; font-weight: bold\">-116.5</span> <span style=\"color: #008080; text-decoration-color: #008080; font-weight: bold\">-38.5</span> <span style=\"color: #008080; text-decoration-color: #008080; font-weight: bold\">-66.68750</span>\n",
       "<span style=\"color: #008080; text-decoration-color: #008080; font-weight: bold\">845</span>  <span style=\"color: #008080; text-decoration-color: #008080; font-weight: bold\">107.823051</span> <span style=\"color: #008080; text-decoration-color: #008080; font-weight: bold\">-118.0</span> <span style=\"color: #008080; text-decoration-color: #008080; font-weight: bold\">-40.5</span> <span style=\"color: #008080; text-decoration-color: #008080; font-weight: bold\">-65.12500</span>\n",
       "<span style=\"color: #008080; text-decoration-color: #008080; font-weight: bold\">846</span>  <span style=\"color: #008080; text-decoration-color: #008080; font-weight: bold\">107.832825</span>   <span style=\"color: #008080; text-decoration-color: #008080; font-weight: bold\">25.0</span>  <span style=\"color: #008080; text-decoration-color: #008080; font-weight: bold\">79.5</span>  <span style=\"color: #008080; text-decoration-color: #008080; font-weight: bold\">69.31250</span>\n",
       "<span style=\"color: #008080; text-decoration-color: #008080; font-weight: bold\">847</span>  <span style=\"color: #008080; text-decoration-color: #008080; font-weight: bold\">107.842590</span> <span style=\"color: #008080; text-decoration-color: #008080; font-weight: bold\">-124.5</span> <span style=\"color: #008080; text-decoration-color: #008080; font-weight: bold\">-42.5</span> <span style=\"color: #008080; text-decoration-color: #008080; font-weight: bold\">-62.59375</span>\n",
       "<span style=\"color: #008080; text-decoration-color: #008080; font-weight: bold\">848</span>  <span style=\"color: #008080; text-decoration-color: #008080; font-weight: bold\">107.852356</span> <span style=\"color: #008080; text-decoration-color: #008080; font-weight: bold\">-111.0</span> <span style=\"color: #008080; text-decoration-color: #008080; font-weight: bold\">-41.5</span> <span style=\"color: #008080; text-decoration-color: #008080; font-weight: bold\">-59.12500</span>\n",
       "<span style=\"color: #008080; text-decoration-color: #008080; font-weight: bold\">849</span>  <span style=\"color: #008080; text-decoration-color: #008080; font-weight: bold\">107.862129</span> <span style=\"color: #008080; text-decoration-color: #008080; font-weight: bold\">-119.5</span> <span style=\"color: #008080; text-decoration-color: #008080; font-weight: bold\">-39.5</span> <span style=\"color: #008080; text-decoration-color: #008080; font-weight: bold\">-55.75000</span>\n",
       "<span style=\"color: #008080; text-decoration-color: #008080; font-weight: bold\">850</span>  <span style=\"color: #008080; text-decoration-color: #008080; font-weight: bold\">107.871895</span> <span style=\"color: #008080; text-decoration-color: #008080; font-weight: bold\">-110.5</span> <span style=\"color: #008080; text-decoration-color: #008080; font-weight: bold\">-38.0</span> <span style=\"color: #008080; text-decoration-color: #008080; font-weight: bold\">-53.15625</span>\n",
       "<span style=\"color: #008080; text-decoration-color: #008080; font-weight: bold\">851</span>  <span style=\"color: #008080; text-decoration-color: #008080; font-weight: bold\">107.881660</span>   <span style=\"color: #008080; text-decoration-color: #008080; font-weight: bold\">43.0</span>  <span style=\"color: #008080; text-decoration-color: #008080; font-weight: bold\">81.5</span>  <span style=\"color: #008080; text-decoration-color: #008080; font-weight: bold\">73.25000</span>\n",
       "<span style=\"color: #008080; text-decoration-color: #008080; font-weight: bold\">852</span>  <span style=\"color: #008080; text-decoration-color: #008080; font-weight: bold\">107.891434</span> <span style=\"color: #008080; text-decoration-color: #008080; font-weight: bold\">-111.0</span> <span style=\"color: #008080; text-decoration-color: #008080; font-weight: bold\">-37.0</span> <span style=\"color: #008080; text-decoration-color: #008080; font-weight: bold\">-51.71875</span>\n",
       "</pre>\n"
      ],
      "text/plain": [
       "      Frequency    Min   Max      Mean\n",
       "\u001b[1;36m833\u001b[0m  \u001b[1;36m107.705833\u001b[0m \u001b[1;36m-133.0\u001b[0m \u001b[1;36m-64.0\u001b[0m \u001b[1;36m-90.00000\u001b[0m\n",
       "\u001b[1;36m834\u001b[0m  \u001b[1;36m107.715599\u001b[0m \u001b[1;36m-120.5\u001b[0m \u001b[1;36m-62.0\u001b[0m \u001b[1;36m-88.81250\u001b[0m\n",
       "\u001b[1;36m835\u001b[0m  \u001b[1;36m107.725372\u001b[0m \u001b[1;36m-117.5\u001b[0m \u001b[1;36m-60.5\u001b[0m \u001b[1;36m-88.00000\u001b[0m\n",
       "\u001b[1;36m836\u001b[0m  \u001b[1;36m107.735138\u001b[0m   \u001b[1;36m19.0\u001b[0m  \u001b[1;36m75.0\u001b[0m  \u001b[1;36m46.31250\u001b[0m\n",
       "\u001b[1;36m837\u001b[0m  \u001b[1;36m107.744904\u001b[0m \u001b[1;36m-128.5\u001b[0m \u001b[1;36m-58.5\u001b[0m \u001b[1;36m-86.68750\u001b[0m\n",
       "\u001b[1;36m838\u001b[0m  \u001b[1;36m107.754677\u001b[0m \u001b[1;36m-121.0\u001b[0m \u001b[1;36m-57.0\u001b[0m \u001b[1;36m-84.31250\u001b[0m\n",
       "\u001b[1;36m839\u001b[0m  \u001b[1;36m107.764442\u001b[0m \u001b[1;36m-116.5\u001b[0m \u001b[1;36m-49.0\u001b[0m \u001b[1;36m-80.68750\u001b[0m\n",
       "\u001b[1;36m840\u001b[0m  \u001b[1;36m107.774208\u001b[0m \u001b[1;36m-120.5\u001b[0m \u001b[1;36m-41.0\u001b[0m \u001b[1;36m-76.37500\u001b[0m\n",
       "\u001b[1;36m841\u001b[0m  \u001b[1;36m107.783981\u001b[0m   \u001b[1;36m18.0\u001b[0m  \u001b[1;36m79.5\u001b[0m  \u001b[1;36m59.62500\u001b[0m\n",
       "\u001b[1;36m842\u001b[0m  \u001b[1;36m107.793747\u001b[0m \u001b[1;36m-121.5\u001b[0m \u001b[1;36m-38.5\u001b[0m \u001b[1;36m-72.37500\u001b[0m\n",
       "\u001b[1;36m843\u001b[0m  \u001b[1;36m107.803520\u001b[0m \u001b[1;36m-115.0\u001b[0m \u001b[1;36m-38.5\u001b[0m \u001b[1;36m-69.00000\u001b[0m\n",
       "\u001b[1;36m844\u001b[0m  \u001b[1;36m107.813286\u001b[0m \u001b[1;36m-116.5\u001b[0m \u001b[1;36m-38.5\u001b[0m \u001b[1;36m-66.68750\u001b[0m\n",
       "\u001b[1;36m845\u001b[0m  \u001b[1;36m107.823051\u001b[0m \u001b[1;36m-118.0\u001b[0m \u001b[1;36m-40.5\u001b[0m \u001b[1;36m-65.12500\u001b[0m\n",
       "\u001b[1;36m846\u001b[0m  \u001b[1;36m107.832825\u001b[0m   \u001b[1;36m25.0\u001b[0m  \u001b[1;36m79.5\u001b[0m  \u001b[1;36m69.31250\u001b[0m\n",
       "\u001b[1;36m847\u001b[0m  \u001b[1;36m107.842590\u001b[0m \u001b[1;36m-124.5\u001b[0m \u001b[1;36m-42.5\u001b[0m \u001b[1;36m-62.59375\u001b[0m\n",
       "\u001b[1;36m848\u001b[0m  \u001b[1;36m107.852356\u001b[0m \u001b[1;36m-111.0\u001b[0m \u001b[1;36m-41.5\u001b[0m \u001b[1;36m-59.12500\u001b[0m\n",
       "\u001b[1;36m849\u001b[0m  \u001b[1;36m107.862129\u001b[0m \u001b[1;36m-119.5\u001b[0m \u001b[1;36m-39.5\u001b[0m \u001b[1;36m-55.75000\u001b[0m\n",
       "\u001b[1;36m850\u001b[0m  \u001b[1;36m107.871895\u001b[0m \u001b[1;36m-110.5\u001b[0m \u001b[1;36m-38.0\u001b[0m \u001b[1;36m-53.15625\u001b[0m\n",
       "\u001b[1;36m851\u001b[0m  \u001b[1;36m107.881660\u001b[0m   \u001b[1;36m43.0\u001b[0m  \u001b[1;36m81.5\u001b[0m  \u001b[1;36m73.25000\u001b[0m\n",
       "\u001b[1;36m852\u001b[0m  \u001b[1;36m107.891434\u001b[0m \u001b[1;36m-111.0\u001b[0m \u001b[1;36m-37.0\u001b[0m \u001b[1;36m-51.71875\u001b[0m\n"
      ]
     },
     "metadata": {},
     "output_type": "display_data"
    }
   ],
   "source": [
    "print(stats.tail(20))"
   ]
  }
 ],
 "metadata": {
  "kernelspec": {
   "display_name": "Python [conda env:rfpy]",
   "language": "python",
   "name": "conda-env-rfpy-py"
  }
 },
 "nbformat": 4,
 "nbformat_minor": 4
}
