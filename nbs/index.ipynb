{
 "cells": [
  {
   "cell_type": "code",
   "execution_count": null,
   "metadata": {},
   "outputs": [],
   "source": [
    "#hide\n",
    "%load_ext autoreload\n",
    "%autoreload 2 "
   ]
  },
  {
   "cell_type": "code",
   "execution_count": null,
   "metadata": {},
   "outputs": [],
   "source": [
    "import warnings\n",
    "with warnings.catch_warnings():\n",
    "    warnings.simplefilter(\"ignore\")\n",
    "from rich import print"
   ]
  },
  {
   "cell_type": "markdown",
   "metadata": {},
   "source": [
    "# RFPYE\n",
    "> Este módulo tem como objetivo o processamento e extração otimizada de dados dos arquivos `.bin` de monitoramento do espectro provenientes do script Logger executados nas estações de Monitoramento CRFS RFeye Node. Para tal utilizamos as várias funcionalidades da biblioteca [fastcore](https://fastcore.fast.ai/basics.html), que expande e otimiza as estruturas de dados da linguagem python. "
   ]
  },
  {
   "cell_type": "markdown",
   "metadata": {},
   "source": [
    "## Instalação\n",
    "Como parte dessa lib utiliza código c compilado com `Cython`, é preciso que um compilador `C` esteja instalado. Em Windows, uma opção é instalar a versão apropriada do Visual Studio seguindo as orientações do site da Microsoft. No entanto uma solução mais simples e a recomendada é utilizando o `conda`.\n",
    "\n",
    "Primeiramente instale o [miniconda](https://docs.conda.io/en/latest/miniconda.html). Com o conda instalado e disponível no seu `PATH` ou através do `Anaconda Prompt` execute o comando:\n",
    "\n",
    "```bash\n",
    "conda install -c intel libpython m2w64-toolchain -y\n",
    "\n",
    "echo [build] > %CONDA_PREFIX%\\Lib\\distutils\\distutils.cfg\n",
    "\n",
    "echo compiler = mingw32 >> %CONDA_PREFIX%\\Lib\\distutils\\distutils.cfg\n",
    "```"
   ]
  },
  {
   "cell_type": "markdown",
   "metadata": {},
   "source": [
    "Depois disso basta instalar normalmente a lib:\n",
    "`python -m pip install rfpye`"
   ]
  },
  {
   "cell_type": "markdown",
   "metadata": {},
   "source": [
    "Em Linux normalmente o sistema já possui o compilador `gcc` instalado então basta executar o comando `pip install` acima."
   ]
  },
  {
   "cell_type": "markdown",
   "metadata": {},
   "source": [
    "## Como utilizar\n",
    "Abaixo mostramos as funcionalidades principais dos módulos, utilizando-os dentro de algum outro script ou `REPL`"
   ]
  },
  {
   "cell_type": "markdown",
   "metadata": {},
   "source": [
    "Precisamos necessariamente de um diretório de entrada, contendo um ou mais arquivos `.bin` e um diretório de saída no qual iremos salvar os arquivos processados. \n",
    "> Mude os caminhos abaixo para suas pastas locais caso for executar o exemplo.\n",
    "\n",
    "Ao utilizar o script `process_bin`, as pastas `entrada` e `saída` esses serão repassadas como parâmetros na linha de comando."
   ]
  },
  {
   "cell_type": "code",
   "execution_count": null,
   "metadata": {},
   "outputs": [],
   "source": [
    "from fastcore.xtras import Path\n",
    "VERBOSE = True\n",
    "entrada = Path(r'D:\\OneDrive - ANATEL\\Backup_Rfeye_SP\\CPV\\2021')\n",
    "saida = Path(r'C:\\Users\\rsilva\\Downloads\\saida')"
   ]
  },
  {
   "cell_type": "markdown",
   "metadata": {},
   "source": [
    "## Leitura de Arquivos"
   ]
  },
  {
   "cell_type": "markdown",
   "metadata": {},
   "source": [
    "No módulo `parser.py`, há funções auxiliares para lidar com os arquivos `.bin`, pastas e para processar tais arquivos em formatos úteis. Nesse caso utilizaremos a função `get_files` que busca de maneira recursiva arquivos de dada extensão, inclusive links simbólicos se existirem\n",
    "O caráter recursivo e a busca em links, `recurse` e `followlinks` simbólicos pode ser desativados por meio dos parâmetros e opcionalmente pode ser varrido somente o conjunto de pastas indicado em `folders` "
   ]
  },
  {
   "cell_type": "code",
   "execution_count": null,
   "metadata": {},
   "outputs": [
    {
     "data": {
      "text/html": [
       "<pre style=\"white-space:pre;overflow-x:auto;line-height:normal;font-family:Menlo,'DejaVu Sans Mono',consolas,'Courier New',monospace\"><span style=\"font-weight: bold\">[</span>Path<span style=\"font-weight: bold\">(</span><span style=\"color: #008000; text-decoration-color: #008000\">'D:/OneDrive - ANATEL/Backup_Rfeye_SP/CPV/2021/rfeye002310_210204_T184230.bin'</span><span style=\"font-weight: bold\">)</span>, \n",
       "Path<span style=\"font-weight: bold\">(</span><span style=\"color: #008000; text-decoration-color: #008000\">'D:/OneDrive - </span>\n",
       "<span style=\"color: #008000; text-decoration-color: #008000\">ANATEL/Backup_Rfeye_SP/CPV/2021/rfeye002310_210204_T184230_MaskBroken.bin'</span><span style=\"font-weight: bold\">)</span>, \n",
       "Path<span style=\"font-weight: bold\">(</span><span style=\"color: #008000; text-decoration-color: #008000\">'D:/OneDrive - ANATEL/Backup_Rfeye_SP/CPV/2021/rfeye002310_210204_T184431.bin'</span><span style=\"font-weight: bold\">)</span>, \n",
       "Path<span style=\"font-weight: bold\">(</span><span style=\"color: #008000; text-decoration-color: #008000\">'D:/OneDrive - </span>\n",
       "<span style=\"color: #008000; text-decoration-color: #008000\">ANATEL/Backup_Rfeye_SP/CPV/2021/rfeye002310_210204_T184431_MaskBroken.bin'</span><span style=\"font-weight: bold\">)</span>, \n",
       "Path<span style=\"font-weight: bold\">(</span><span style=\"color: #008000; text-decoration-color: #008000\">'D:/OneDrive - ANATEL/Backup_Rfeye_SP/CPV/2021/rfeye002310_210206_T210901.bin'</span><span style=\"font-weight: bold\">)</span>, \n",
       "Path<span style=\"font-weight: bold\">(</span><span style=\"color: #008000; text-decoration-color: #008000\">'D:/OneDrive - ANATEL/Backup_Rfeye_SP/CPV/2021/rfeye002310_210208_T233102.bin'</span><span style=\"font-weight: bold\">)</span>, \n",
       "Path<span style=\"font-weight: bold\">(</span><span style=\"color: #008000; text-decoration-color: #008000\">'D:/OneDrive - ANATEL/Backup_Rfeye_SP/CPV/2021/rfeye002310_210211_T004502.bin'</span><span style=\"font-weight: bold\">)</span>, \n",
       "Path<span style=\"font-weight: bold\">(</span><span style=\"color: #008000; text-decoration-color: #008000\">'D:/OneDrive - </span>\n",
       "<span style=\"color: #008000; text-decoration-color: #008000\">ANATEL/Backup_Rfeye_SP/CPV/2021/rfeye002310_210211_T004502_MaskBroken.bin'</span><span style=\"font-weight: bold\">)</span>, \n",
       "Path<span style=\"font-weight: bold\">(</span><span style=\"color: #008000; text-decoration-color: #008000\">'D:/OneDrive - ANATEL/Backup_Rfeye_SP/CPV/2021/RFeye002310_210211_T011350.bin'</span><span style=\"font-weight: bold\">)</span>, \n",
       "Path<span style=\"font-weight: bold\">(</span><span style=\"color: #008000; text-decoration-color: #008000\">'D:/OneDrive - ANATEL/Backup_Rfeye_SP/CPV/2021/RFeye002310_210213_T033501.bin'</span><span style=\"font-weight: bold\">)]</span>\n",
       "</pre>\n"
      ],
      "text/plain": [
       "\u001b[1m[\u001b[0mPath\u001b[1m(\u001b[0m\u001b[32m'D:/OneDrive - ANATEL/Backup_Rfeye_SP/CPV/2021/rfeye002310_210204_T184230.bin'\u001b[0m\u001b[1m)\u001b[0m, \n",
       "Path\u001b[1m(\u001b[0m\u001b[32m'D:/OneDrive - \u001b[0m\n",
       "\u001b[32mANATEL/Backup_Rfeye_SP/CPV/2021/rfeye002310_210204_T184230_MaskBroken.bin'\u001b[0m\u001b[1m)\u001b[0m, \n",
       "Path\u001b[1m(\u001b[0m\u001b[32m'D:/OneDrive - ANATEL/Backup_Rfeye_SP/CPV/2021/rfeye002310_210204_T184431.bin'\u001b[0m\u001b[1m)\u001b[0m, \n",
       "Path\u001b[1m(\u001b[0m\u001b[32m'D:/OneDrive - \u001b[0m\n",
       "\u001b[32mANATEL/Backup_Rfeye_SP/CPV/2021/rfeye002310_210204_T184431_MaskBroken.bin'\u001b[0m\u001b[1m)\u001b[0m, \n",
       "Path\u001b[1m(\u001b[0m\u001b[32m'D:/OneDrive - ANATEL/Backup_Rfeye_SP/CPV/2021/rfeye002310_210206_T210901.bin'\u001b[0m\u001b[1m)\u001b[0m, \n",
       "Path\u001b[1m(\u001b[0m\u001b[32m'D:/OneDrive - ANATEL/Backup_Rfeye_SP/CPV/2021/rfeye002310_210208_T233102.bin'\u001b[0m\u001b[1m)\u001b[0m, \n",
       "Path\u001b[1m(\u001b[0m\u001b[32m'D:/OneDrive - ANATEL/Backup_Rfeye_SP/CPV/2021/rfeye002310_210211_T004502.bin'\u001b[0m\u001b[1m)\u001b[0m, \n",
       "Path\u001b[1m(\u001b[0m\u001b[32m'D:/OneDrive - \u001b[0m\n",
       "\u001b[32mANATEL/Backup_Rfeye_SP/CPV/2021/rfeye002310_210211_T004502_MaskBroken.bin'\u001b[0m\u001b[1m)\u001b[0m, \n",
       "Path\u001b[1m(\u001b[0m\u001b[32m'D:/OneDrive - ANATEL/Backup_Rfeye_SP/CPV/2021/RFeye002310_210211_T011350.bin'\u001b[0m\u001b[1m)\u001b[0m, \n",
       "Path\u001b[1m(\u001b[0m\u001b[32m'D:/OneDrive - ANATEL/Backup_Rfeye_SP/CPV/2021/RFeye002310_210213_T033501.bin'\u001b[0m\u001b[1m)\u001b[0m\u001b[1m]\u001b[0m\n"
      ]
     },
     "metadata": {},
     "output_type": "display_data"
    }
   ],
   "source": [
    "from rfpye.utils import get_files\n",
    "arquivos = get_files(entrada, extensions=['.bin']) ; print(arquivos[:10])"
   ]
  },
  {
   "cell_type": "markdown",
   "metadata": {},
   "source": [
    "> O Objeto retornado `L` é uma extensão da lista python com funcionalidades adicionais, uma delas como  podemos ver é que a representação da lista impressa mostra o comprimento da lista. Esse objeto pode ser usado de maneira idêntica à uma lista em python e sem substituição desta."
   ]
  },
  {
   "cell_type": "code",
   "execution_count": null,
   "metadata": {},
   "outputs": [
    {
     "data": {
      "text/html": [
       "<pre style=\"white-space:pre;overflow-x:auto;line-height:normal;font-family:Menlo,'DejaVu Sans Mono',consolas,'Courier New',monospace\">RFeye002310_210520_T181500.bin\n",
       "</pre>\n"
      ],
      "text/plain": [
       "RFeye002310_210520_T181500.bin\n"
      ]
     },
     "metadata": {},
     "output_type": "display_data"
    }
   ],
   "source": [
    "bin_file = arquivos[-1] ; print(bin_file.name)"
   ]
  },
  {
   "cell_type": "code",
   "execution_count": null,
   "metadata": {},
   "outputs": [],
   "source": [
    "from rfpye.parser import parse_bin, extract_metadata, extract_level"
   ]
  },
  {
   "cell_type": "markdown",
   "metadata": {},
   "source": [
    "## Processamento dos blocos\n",
    "A função seguinte `parse_bin` recebe um arquivo `.bin` e mapeia os blocos contidos nele retornando um dicionário que tem como chave o tipo de bloco e os valores como uma lista com os blocos extraídos sequencialmente."
   ]
  },
  {
   "cell_type": "code",
   "execution_count": null,
   "metadata": {},
   "outputs": [
    {
     "name": "stdout",
     "output_type": "stream",
     "text": [
      "Wall time: 4.48 s\n"
     ]
    }
   ],
   "source": [
    "%%time\n",
    "map_bin = parse_bin(bin_file)['blocks']"
   ]
  },
  {
   "cell_type": "code",
   "execution_count": null,
   "metadata": {},
   "outputs": [
    {
     "data": {
      "text/html": [
       "<pre style=\"white-space:pre;overflow-x:auto;line-height:normal;font-family:Menlo,'DejaVu Sans Mono',consolas,'Courier New',monospace\">Tipo de Bloco: <span style=\"color: #008080; text-decoration-color: #008080; font-weight: bold\">21</span>, Fluxo <span style=\"font-weight: bold\">(</span>Thread ID<span style=\"font-weight: bold\">)</span>: <span style=\"color: #008080; text-decoration-color: #008080; font-weight: bold\">0</span>, #Blocos: <span style=\"color: #008080; text-decoration-color: #008080; font-weight: bold\">1</span>\n",
       "</pre>\n"
      ],
      "text/plain": [
       "Tipo de Bloco: \u001b[1;36m21\u001b[0m, Fluxo \u001b[1m(\u001b[0mThread ID\u001b[1m)\u001b[0m: \u001b[1;36m0\u001b[0m, #Blocos: \u001b[1;36m1\u001b[0m\n"
      ]
     },
     "metadata": {},
     "output_type": "display_data"
    },
    {
     "data": {
      "text/html": [
       "<pre style=\"white-space:pre;overflow-x:auto;line-height:normal;font-family:Menlo,'DejaVu Sans Mono',consolas,'Courier New',monospace\">Tipo de Bloco: <span style=\"color: #008080; text-decoration-color: #008080; font-weight: bold\">42</span>, Fluxo <span style=\"font-weight: bold\">(</span>Thread ID<span style=\"font-weight: bold\">)</span>: <span style=\"color: #008080; text-decoration-color: #008080; font-weight: bold\">0</span>, #Blocos: <span style=\"color: #008080; text-decoration-color: #008080; font-weight: bold\">2</span>\n",
       "</pre>\n"
      ],
      "text/plain": [
       "Tipo de Bloco: \u001b[1;36m42\u001b[0m, Fluxo \u001b[1m(\u001b[0mThread ID\u001b[1m)\u001b[0m: \u001b[1;36m0\u001b[0m, #Blocos: \u001b[1;36m2\u001b[0m\n"
      ]
     },
     "metadata": {},
     "output_type": "display_data"
    },
    {
     "data": {
      "text/html": [
       "<pre style=\"white-space:pre;overflow-x:auto;line-height:normal;font-family:Menlo,'DejaVu Sans Mono',consolas,'Courier New',monospace\">Tipo de Bloco: <span style=\"color: #008080; text-decoration-color: #008080; font-weight: bold\">40</span>, Fluxo <span style=\"font-weight: bold\">(</span>Thread ID<span style=\"font-weight: bold\">)</span>: <span style=\"color: #008080; text-decoration-color: #008080; font-weight: bold\">1</span>, #Blocos: <span style=\"color: #008080; text-decoration-color: #008080; font-weight: bold\">3023</span>\n",
       "</pre>\n"
      ],
      "text/plain": [
       "Tipo de Bloco: \u001b[1;36m40\u001b[0m, Fluxo \u001b[1m(\u001b[0mThread ID\u001b[1m)\u001b[0m: \u001b[1;36m1\u001b[0m, #Blocos: \u001b[1;36m3023\u001b[0m\n"
      ]
     },
     "metadata": {},
     "output_type": "display_data"
    },
    {
     "data": {
      "text/html": [
       "<pre style=\"white-space:pre;overflow-x:auto;line-height:normal;font-family:Menlo,'DejaVu Sans Mono',consolas,'Courier New',monospace\">Tipo de Bloco: <span style=\"color: #008080; text-decoration-color: #008080; font-weight: bold\">67</span>, Fluxo <span style=\"font-weight: bold\">(</span>Thread ID<span style=\"font-weight: bold\">)</span>: <span style=\"color: #008080; text-decoration-color: #008080; font-weight: bold\">50</span>, #Blocos: <span style=\"color: #008080; text-decoration-color: #008080; font-weight: bold\">3023</span>\n",
       "</pre>\n"
      ],
      "text/plain": [
       "Tipo de Bloco: \u001b[1;36m67\u001b[0m, Fluxo \u001b[1m(\u001b[0mThread ID\u001b[1m)\u001b[0m: \u001b[1;36m50\u001b[0m, #Blocos: \u001b[1;36m3023\u001b[0m\n"
      ]
     },
     "metadata": {},
     "output_type": "display_data"
    },
    {
     "data": {
      "text/html": [
       "<pre style=\"white-space:pre;overflow-x:auto;line-height:normal;font-family:Menlo,'DejaVu Sans Mono',consolas,'Courier New',monospace\">Tipo de Bloco: <span style=\"color: #008080; text-decoration-color: #008080; font-weight: bold\">67</span>, Fluxo <span style=\"font-weight: bold\">(</span>Thread ID<span style=\"font-weight: bold\">)</span>: <span style=\"color: #008080; text-decoration-color: #008080; font-weight: bold\">60</span>, #Blocos: <span style=\"color: #008080; text-decoration-color: #008080; font-weight: bold\">3023</span>\n",
       "</pre>\n"
      ],
      "text/plain": [
       "Tipo de Bloco: \u001b[1;36m67\u001b[0m, Fluxo \u001b[1m(\u001b[0mThread ID\u001b[1m)\u001b[0m: \u001b[1;36m60\u001b[0m, #Blocos: \u001b[1;36m3023\u001b[0m\n"
      ]
     },
     "metadata": {},
     "output_type": "display_data"
    },
    {
     "data": {
      "text/html": [
       "<pre style=\"white-space:pre;overflow-x:auto;line-height:normal;font-family:Menlo,'DejaVu Sans Mono',consolas,'Courier New',monospace\">Tipo de Bloco: <span style=\"color: #008080; text-decoration-color: #008080; font-weight: bold\">67</span>, Fluxo <span style=\"font-weight: bold\">(</span>Thread ID<span style=\"font-weight: bold\">)</span>: <span style=\"color: #008080; text-decoration-color: #008080; font-weight: bold\">70</span>, #Blocos: <span style=\"color: #008080; text-decoration-color: #008080; font-weight: bold\">3023</span>\n",
       "</pre>\n"
      ],
      "text/plain": [
       "Tipo de Bloco: \u001b[1;36m67\u001b[0m, Fluxo \u001b[1m(\u001b[0mThread ID\u001b[1m)\u001b[0m: \u001b[1;36m70\u001b[0m, #Blocos: \u001b[1;36m3023\u001b[0m\n"
      ]
     },
     "metadata": {},
     "output_type": "display_data"
    },
    {
     "data": {
      "text/html": [
       "<pre style=\"white-space:pre;overflow-x:auto;line-height:normal;font-family:Menlo,'DejaVu Sans Mono',consolas,'Courier New',monospace\">Tipo de Bloco: <span style=\"color: #008080; text-decoration-color: #008080; font-weight: bold\">67</span>, Fluxo <span style=\"font-weight: bold\">(</span>Thread ID<span style=\"font-weight: bold\">)</span>: <span style=\"color: #008080; text-decoration-color: #008080; font-weight: bold\">90</span>, #Blocos: <span style=\"color: #008080; text-decoration-color: #008080; font-weight: bold\">3023</span>\n",
       "</pre>\n"
      ],
      "text/plain": [
       "Tipo de Bloco: \u001b[1;36m67\u001b[0m, Fluxo \u001b[1m(\u001b[0mThread ID\u001b[1m)\u001b[0m: \u001b[1;36m90\u001b[0m, #Blocos: \u001b[1;36m3023\u001b[0m\n"
      ]
     },
     "metadata": {},
     "output_type": "display_data"
    },
    {
     "data": {
      "text/html": [
       "<pre style=\"white-space:pre;overflow-x:auto;line-height:normal;font-family:Menlo,'DejaVu Sans Mono',consolas,'Courier New',monospace\">Tipo de Bloco: <span style=\"color: #008080; text-decoration-color: #008080; font-weight: bold\">67</span>, Fluxo <span style=\"font-weight: bold\">(</span>Thread ID<span style=\"font-weight: bold\">)</span>: <span style=\"color: #008080; text-decoration-color: #008080; font-weight: bold\">110</span>, #Blocos: <span style=\"color: #008080; text-decoration-color: #008080; font-weight: bold\">3023</span>\n",
       "</pre>\n"
      ],
      "text/plain": [
       "Tipo de Bloco: \u001b[1;36m67\u001b[0m, Fluxo \u001b[1m(\u001b[0mThread ID\u001b[1m)\u001b[0m: \u001b[1;36m110\u001b[0m, #Blocos: \u001b[1;36m3023\u001b[0m\n"
      ]
     },
     "metadata": {},
     "output_type": "display_data"
    },
    {
     "data": {
      "text/html": [
       "<pre style=\"white-space:pre;overflow-x:auto;line-height:normal;font-family:Menlo,'DejaVu Sans Mono',consolas,'Courier New',monospace\">Tipo de Bloco: <span style=\"color: #008080; text-decoration-color: #008080; font-weight: bold\">67</span>, Fluxo <span style=\"font-weight: bold\">(</span>Thread ID<span style=\"font-weight: bold\">)</span>: <span style=\"color: #008080; text-decoration-color: #008080; font-weight: bold\">130</span>, #Blocos: <span style=\"color: #008080; text-decoration-color: #008080; font-weight: bold\">3023</span>\n",
       "</pre>\n"
      ],
      "text/plain": [
       "Tipo de Bloco: \u001b[1;36m67\u001b[0m, Fluxo \u001b[1m(\u001b[0mThread ID\u001b[1m)\u001b[0m: \u001b[1;36m130\u001b[0m, #Blocos: \u001b[1;36m3023\u001b[0m\n"
      ]
     },
     "metadata": {},
     "output_type": "display_data"
    },
    {
     "data": {
      "text/html": [
       "<pre style=\"white-space:pre;overflow-x:auto;line-height:normal;font-family:Menlo,'DejaVu Sans Mono',consolas,'Courier New',monospace\">Tipo de Bloco: <span style=\"color: #008080; text-decoration-color: #008080; font-weight: bold\">67</span>, Fluxo <span style=\"font-weight: bold\">(</span>Thread ID<span style=\"font-weight: bold\">)</span>: <span style=\"color: #008080; text-decoration-color: #008080; font-weight: bold\">10</span>, #Blocos: <span style=\"color: #008080; text-decoration-color: #008080; font-weight: bold\">604</span>\n",
       "</pre>\n"
      ],
      "text/plain": [
       "Tipo de Bloco: \u001b[1;36m67\u001b[0m, Fluxo \u001b[1m(\u001b[0mThread ID\u001b[1m)\u001b[0m: \u001b[1;36m10\u001b[0m, #Blocos: \u001b[1;36m604\u001b[0m\n"
      ]
     },
     "metadata": {},
     "output_type": "display_data"
    },
    {
     "data": {
      "text/html": [
       "<pre style=\"white-space:pre;overflow-x:auto;line-height:normal;font-family:Menlo,'DejaVu Sans Mono',consolas,'Courier New',monospace\">Tipo de Bloco: <span style=\"color: #008080; text-decoration-color: #008080; font-weight: bold\">67</span>, Fluxo <span style=\"font-weight: bold\">(</span>Thread ID<span style=\"font-weight: bold\">)</span>: <span style=\"color: #008080; text-decoration-color: #008080; font-weight: bold\">20</span>, #Blocos: <span style=\"color: #008080; text-decoration-color: #008080; font-weight: bold\">604</span>\n",
       "</pre>\n"
      ],
      "text/plain": [
       "Tipo de Bloco: \u001b[1;36m67\u001b[0m, Fluxo \u001b[1m(\u001b[0mThread ID\u001b[1m)\u001b[0m: \u001b[1;36m20\u001b[0m, #Blocos: \u001b[1;36m604\u001b[0m\n"
      ]
     },
     "metadata": {},
     "output_type": "display_data"
    },
    {
     "data": {
      "text/html": [
       "<pre style=\"white-space:pre;overflow-x:auto;line-height:normal;font-family:Menlo,'DejaVu Sans Mono',consolas,'Courier New',monospace\">Tipo de Bloco: <span style=\"color: #008080; text-decoration-color: #008080; font-weight: bold\">67</span>, Fluxo <span style=\"font-weight: bold\">(</span>Thread ID<span style=\"font-weight: bold\">)</span>: <span style=\"color: #008080; text-decoration-color: #008080; font-weight: bold\">40</span>, #Blocos: <span style=\"color: #008080; text-decoration-color: #008080; font-weight: bold\">604</span>\n",
       "</pre>\n"
      ],
      "text/plain": [
       "Tipo de Bloco: \u001b[1;36m67\u001b[0m, Fluxo \u001b[1m(\u001b[0mThread ID\u001b[1m)\u001b[0m: \u001b[1;36m40\u001b[0m, #Blocos: \u001b[1;36m604\u001b[0m\n"
      ]
     },
     "metadata": {},
     "output_type": "display_data"
    },
    {
     "data": {
      "text/html": [
       "<pre style=\"white-space:pre;overflow-x:auto;line-height:normal;font-family:Menlo,'DejaVu Sans Mono',consolas,'Courier New',monospace\">Tipo de Bloco: <span style=\"color: #008080; text-decoration-color: #008080; font-weight: bold\">42</span>, Fluxo <span style=\"font-weight: bold\">(</span>Thread ID<span style=\"font-weight: bold\">)</span>: <span style=\"color: #008080; text-decoration-color: #008080; font-weight: bold\">1</span>, #Blocos: <span style=\"color: #008080; text-decoration-color: #008080; font-weight: bold\">50</span>\n",
       "</pre>\n"
      ],
      "text/plain": [
       "Tipo de Bloco: \u001b[1;36m42\u001b[0m, Fluxo \u001b[1m(\u001b[0mThread ID\u001b[1m)\u001b[0m: \u001b[1;36m1\u001b[0m, #Blocos: \u001b[1;36m50\u001b[0m\n"
      ]
     },
     "metadata": {},
     "output_type": "display_data"
    }
   ],
   "source": [
    "for k, b in map_bin.items():\n",
    "    print(f'Tipo de Bloco: {k[0]}, Fluxo (Thread ID): {k[1]}, #Blocos: {len(b)}')"
   ]
  },
  {
   "cell_type": "code",
   "execution_count": null,
   "metadata": {},
   "outputs": [],
   "source": [
    "gps = map_bin[(40,1)]\n",
    "spec = map_bin[(67,20)]"
   ]
  },
  {
   "cell_type": "markdown",
   "metadata": {},
   "source": [
    "A seguir é mostrado um exemplo dos atributos contidos num bloco de gps e num bloco de espectro"
   ]
  },
  {
   "cell_type": "code",
   "execution_count": null,
   "metadata": {},
   "outputs": [
    {
     "data": {
      "text/html": [
       "<pre style=\"white-space:pre;overflow-x:auto;line-height:normal;font-family:Menlo,'DejaVu Sans Mono',consolas,'Courier New',monospace\"><span style=\"font-weight: bold\">{</span>\n",
       "    <span style=\"color: #008000; text-decoration-color: #008000\">'altitude'</span>: <span style=\"color: #008080; text-decoration-color: #008080; font-weight: bold\">571.6</span>,\n",
       "    <span style=\"color: #008000; text-decoration-color: #008000\">'data_size'</span>: <span style=\"color: #008080; text-decoration-color: #008080; font-weight: bold\">40</span>,\n",
       "    <span style=\"color: #008000; text-decoration-color: #008000\">'gps_datetime'</span>: datetime.datetime<span style=\"font-weight: bold\">(</span><span style=\"color: #008080; text-decoration-color: #008080; font-weight: bold\">2021</span>, <span style=\"color: #008080; text-decoration-color: #008080; font-weight: bold\">5</span>, <span style=\"color: #008080; text-decoration-color: #008080; font-weight: bold\">20</span>, <span style=\"color: #008080; text-decoration-color: #008080; font-weight: bold\">18</span>, <span style=\"color: #008080; text-decoration-color: #008080; font-weight: bold\">16</span><span style=\"font-weight: bold\">)</span>,\n",
       "    <span style=\"color: #008000; text-decoration-color: #008000\">'gps_status'</span>: <span style=\"color: #008000; text-decoration-color: #008000\">'Standard GPS'</span>,\n",
       "    <span style=\"color: #008000; text-decoration-color: #008000\">'heading'</span>: <span style=\"color: #008080; text-decoration-color: #008080; font-weight: bold\">0.0</span>,\n",
       "    <span style=\"color: #008000; text-decoration-color: #008000\">'latitude'</span>: <span style=\"color: #008080; text-decoration-color: #008080; font-weight: bold\">-23.101629</span>,\n",
       "    <span style=\"color: #008000; text-decoration-color: #008000\">'longitude'</span>: <span style=\"color: #008080; text-decoration-color: #008080; font-weight: bold\">-45.7066</span>,\n",
       "    <span style=\"color: #008000; text-decoration-color: #008000\">'num_satellites'</span>: <span style=\"color: #008080; text-decoration-color: #008080; font-weight: bold\">11</span>,\n",
       "    <span style=\"color: #008000; text-decoration-color: #008000\">'speed'</span>: <span style=\"color: #008080; text-decoration-color: #008080; font-weight: bold\">0.04</span>,\n",
       "    <span style=\"color: #008000; text-decoration-color: #008000\">'thread_id'</span>: <span style=\"color: #008080; text-decoration-color: #008080; font-weight: bold\">1</span>,\n",
       "    <span style=\"color: #008000; text-decoration-color: #008000\">'type'</span>: <span style=\"color: #008080; text-decoration-color: #008080; font-weight: bold\">40</span>,\n",
       "    <span style=\"color: #008000; text-decoration-color: #008000\">'wallclock_datetime'</span>: numpy.datetime64<span style=\"font-weight: bold\">(</span><span style=\"color: #008000; text-decoration-color: #008000\">'2021-05-20T18:16:00.785620'</span><span style=\"font-weight: bold\">)</span>\n",
       "<span style=\"font-weight: bold\">}</span>\n",
       "</pre>\n"
      ],
      "text/plain": [
       "\u001b[1m{\u001b[0m\n",
       "    \u001b[32m'altitude'\u001b[0m: \u001b[1;36m571.6\u001b[0m,\n",
       "    \u001b[32m'data_size'\u001b[0m: \u001b[1;36m40\u001b[0m,\n",
       "    \u001b[32m'gps_datetime'\u001b[0m: datetime.datetime\u001b[1m(\u001b[0m\u001b[1;36m2021\u001b[0m, \u001b[1;36m5\u001b[0m, \u001b[1;36m20\u001b[0m, \u001b[1;36m18\u001b[0m, \u001b[1;36m16\u001b[0m\u001b[1m)\u001b[0m,\n",
       "    \u001b[32m'gps_status'\u001b[0m: \u001b[32m'Standard GPS'\u001b[0m,\n",
       "    \u001b[32m'heading'\u001b[0m: \u001b[1;36m0.0\u001b[0m,\n",
       "    \u001b[32m'latitude'\u001b[0m: \u001b[1;36m-23.101629\u001b[0m,\n",
       "    \u001b[32m'longitude'\u001b[0m: \u001b[1;36m-45.7066\u001b[0m,\n",
       "    \u001b[32m'num_satellites'\u001b[0m: \u001b[1;36m11\u001b[0m,\n",
       "    \u001b[32m'speed'\u001b[0m: \u001b[1;36m0.04\u001b[0m,\n",
       "    \u001b[32m'thread_id'\u001b[0m: \u001b[1;36m1\u001b[0m,\n",
       "    \u001b[32m'type'\u001b[0m: \u001b[1;36m40\u001b[0m,\n",
       "    \u001b[32m'wallclock_datetime'\u001b[0m: numpy.datetime64\u001b[1m(\u001b[0m\u001b[32m'2021-05-20T18:16:00.785620'\u001b[0m\u001b[1m)\u001b[0m\n",
       "\u001b[1m}\u001b[0m\n"
      ]
     },
     "metadata": {},
     "output_type": "display_data"
    }
   ],
   "source": [
    "from rfpye.utils import getattrs\n",
    "print(getattrs(gps[0][1]))"
   ]
  },
  {
   "cell_type": "code",
   "execution_count": null,
   "metadata": {},
   "outputs": [
    {
     "data": {
      "text/html": [
       "<pre style=\"white-space:pre;overflow-x:auto;line-height:normal;font-family:Menlo,'DejaVu Sans Mono',consolas,'Courier New',monospace\"><span style=\"font-weight: bold\">{</span>\n",
       "    <span style=\"color: #008000; text-decoration-color: #008000\">'antenna_id'</span>: <span style=\"color: #008080; text-decoration-color: #008080; font-weight: bold\">0</span>,\n",
       "    <span style=\"color: #008000; text-decoration-color: #008000\">'bw'</span>: <span style=\"color: #008080; text-decoration-color: #008080; font-weight: bold\">40</span>,\n",
       "    <span style=\"color: #008000; text-decoration-color: #008000\">'data_size'</span>: <span style=\"color: #008080; text-decoration-color: #008080; font-weight: bold\">1156</span>,\n",
       "    <span style=\"color: #008000; text-decoration-color: #008000\">'data_type'</span>: <span style=\"color: #008080; text-decoration-color: #008080; font-weight: bold\">1</span>,\n",
       "    <span style=\"color: #008000; text-decoration-color: #008000\">'desclen'</span>: <span style=\"color: #008080; text-decoration-color: #008080; font-weight: bold\">28</span>,\n",
       "    <span style=\"color: #008000; text-decoration-color: #008000\">'description'</span>: <span style=\"color: #008000; text-decoration-color: #008000\">'PRD 2021 (Faixa 2 de 4).'</span>,\n",
       "    <span style=\"color: #008000; text-decoration-color: #008000\">'dynamic_id'</span>: <span style=\"color: #008080; text-decoration-color: #008080; font-weight: bold\">0</span>,\n",
       "    <span style=\"color: #008000; text-decoration-color: #008000\">'gerror'</span>: <span style=\"color: #008080; text-decoration-color: #008080; font-weight: bold\">-1</span>,\n",
       "    <span style=\"color: #008000; text-decoration-color: #008000\">'gflags'</span>: <span style=\"color: #008080; text-decoration-color: #008080; font-weight: bold\">-1</span>,\n",
       "    <span style=\"color: #008000; text-decoration-color: #008000\">'group_id'</span>: <span style=\"color: #008080; text-decoration-color: #008080; font-weight: bold\">0</span>,\n",
       "    <span style=\"color: #008000; text-decoration-color: #008000\">'minimum'</span>: <span style=\"color: #008080; text-decoration-color: #008080; font-weight: bold\">-56.5</span>,\n",
       "    <span style=\"color: #008000; text-decoration-color: #008000\">'n_agc'</span>: <span style=\"color: #008080; text-decoration-color: #008080; font-weight: bold\">7</span>,\n",
       "    <span style=\"color: #008000; text-decoration-color: #008000\">'n_tunning'</span>: <span style=\"color: #008080; text-decoration-color: #008080; font-weight: bold\">7</span>,\n",
       "    <span style=\"color: #008000; text-decoration-color: #008000\">'namal'</span>: <span style=\"color: #008080; text-decoration-color: #008080; font-weight: bold\">1</span>,\n",
       "    <span style=\"color: #008000; text-decoration-color: #008000\">'ndata'</span>: <span style=\"color: #008080; text-decoration-color: #008080; font-weight: bold\">1024</span>,\n",
       "    <span style=\"color: #008000; text-decoration-color: #008000\">'npad'</span>: <span style=\"color: #008080; text-decoration-color: #008080; font-weight: bold\">1</span>,\n",
       "    <span style=\"color: #008000; text-decoration-color: #008000\">'offset'</span>: <span style=\"color: #008080; text-decoration-color: #008080; font-weight: bold\">71</span>,\n",
       "    <span style=\"color: #008000; text-decoration-color: #008000\">'padding'</span>: <span style=\"color: #008080; text-decoration-color: #008080; font-weight: bold\">0</span>,\n",
       "    <span style=\"color: #008000; text-decoration-color: #008000\">'processing'</span>: <span style=\"color: #008000; text-decoration-color: #008000\">'peak'</span>,\n",
       "    <span style=\"color: #008000; text-decoration-color: #008000\">'resolution_bw'</span>: <span style=\"color: #008080; text-decoration-color: #008080; font-weight: bold\">73828</span>,\n",
       "    <span style=\"color: #008000; text-decoration-color: #008000\">'sample'</span>: <span style=\"color: #008080; text-decoration-color: #008080; font-weight: bold\">5316</span>,\n",
       "    <span style=\"color: #008000; text-decoration-color: #008000\">'start'</span>: <span style=\"color: #008080; text-decoration-color: #008080; font-weight: bold\">131</span>,\n",
       "    <span style=\"color: #008000; text-decoration-color: #008000\">'start_channel'</span>: <span style=\"color: #008080; text-decoration-color: #008080; font-weight: bold\">0</span>,\n",
       "    <span style=\"color: #008000; text-decoration-color: #008000\">'start_mega'</span>: <span style=\"color: #008080; text-decoration-color: #008080; font-weight: bold\">70</span>,\n",
       "    <span style=\"color: #008000; text-decoration-color: #008000\">'start_mili'</span>: <span style=\"color: #008080; text-decoration-color: #008080; font-weight: bold\">0</span>,\n",
       "    <span style=\"color: #008000; text-decoration-color: #008000\">'step'</span>: <span style=\"color: #008080; text-decoration-color: #008080; font-weight: bold\">0.039100684261974585</span>,\n",
       "    <span style=\"color: #008000; text-decoration-color: #008000\">'stop'</span>: <span style=\"color: #008080; text-decoration-color: #008080; font-weight: bold\">1155</span>,\n",
       "    <span style=\"color: #008000; text-decoration-color: #008000\">'stop_channel'</span>: <span style=\"color: #008080; text-decoration-color: #008080; font-weight: bold\">0</span>,\n",
       "    <span style=\"color: #008000; text-decoration-color: #008000\">'stop_mega'</span>: <span style=\"color: #008080; text-decoration-color: #008080; font-weight: bold\">110</span>,\n",
       "    <span style=\"color: #008000; text-decoration-color: #008000\">'stop_mili'</span>: <span style=\"color: #008080; text-decoration-color: #008080; font-weight: bold\">0</span>,\n",
       "    <span style=\"color: #008000; text-decoration-color: #008000\">'thread_id'</span>: <span style=\"color: #008080; text-decoration-color: #008080; font-weight: bold\">20</span>,\n",
       "    <span style=\"color: #008000; text-decoration-color: #008000\">'type'</span>: <span style=\"color: #008080; text-decoration-color: #008080; font-weight: bold\">67</span>,\n",
       "    <span style=\"color: #008000; text-decoration-color: #008000\">'wallclock_datetime'</span>: numpy.datetime64<span style=\"font-weight: bold\">(</span><span style=\"color: #008000; text-decoration-color: #008000\">'2021-05-20T18:20:00.107910'</span><span style=\"font-weight: bold\">)</span>\n",
       "<span style=\"font-weight: bold\">}</span>\n",
       "</pre>\n"
      ],
      "text/plain": [
       "\u001b[1m{\u001b[0m\n",
       "    \u001b[32m'antenna_id'\u001b[0m: \u001b[1;36m0\u001b[0m,\n",
       "    \u001b[32m'bw'\u001b[0m: \u001b[1;36m40\u001b[0m,\n",
       "    \u001b[32m'data_size'\u001b[0m: \u001b[1;36m1156\u001b[0m,\n",
       "    \u001b[32m'data_type'\u001b[0m: \u001b[1;36m1\u001b[0m,\n",
       "    \u001b[32m'desclen'\u001b[0m: \u001b[1;36m28\u001b[0m,\n",
       "    \u001b[32m'description'\u001b[0m: \u001b[32m'PRD 2021 (Faixa 2 de 4).'\u001b[0m,\n",
       "    \u001b[32m'dynamic_id'\u001b[0m: \u001b[1;36m0\u001b[0m,\n",
       "    \u001b[32m'gerror'\u001b[0m: \u001b[1;36m-1\u001b[0m,\n",
       "    \u001b[32m'gflags'\u001b[0m: \u001b[1;36m-1\u001b[0m,\n",
       "    \u001b[32m'group_id'\u001b[0m: \u001b[1;36m0\u001b[0m,\n",
       "    \u001b[32m'minimum'\u001b[0m: \u001b[1;36m-56.5\u001b[0m,\n",
       "    \u001b[32m'n_agc'\u001b[0m: \u001b[1;36m7\u001b[0m,\n",
       "    \u001b[32m'n_tunning'\u001b[0m: \u001b[1;36m7\u001b[0m,\n",
       "    \u001b[32m'namal'\u001b[0m: \u001b[1;36m1\u001b[0m,\n",
       "    \u001b[32m'ndata'\u001b[0m: \u001b[1;36m1024\u001b[0m,\n",
       "    \u001b[32m'npad'\u001b[0m: \u001b[1;36m1\u001b[0m,\n",
       "    \u001b[32m'offset'\u001b[0m: \u001b[1;36m71\u001b[0m,\n",
       "    \u001b[32m'padding'\u001b[0m: \u001b[1;36m0\u001b[0m,\n",
       "    \u001b[32m'processing'\u001b[0m: \u001b[32m'peak'\u001b[0m,\n",
       "    \u001b[32m'resolution_bw'\u001b[0m: \u001b[1;36m73828\u001b[0m,\n",
       "    \u001b[32m'sample'\u001b[0m: \u001b[1;36m5316\u001b[0m,\n",
       "    \u001b[32m'start'\u001b[0m: \u001b[1;36m131\u001b[0m,\n",
       "    \u001b[32m'start_channel'\u001b[0m: \u001b[1;36m0\u001b[0m,\n",
       "    \u001b[32m'start_mega'\u001b[0m: \u001b[1;36m70\u001b[0m,\n",
       "    \u001b[32m'start_mili'\u001b[0m: \u001b[1;36m0\u001b[0m,\n",
       "    \u001b[32m'step'\u001b[0m: \u001b[1;36m0.039100684261974585\u001b[0m,\n",
       "    \u001b[32m'stop'\u001b[0m: \u001b[1;36m1155\u001b[0m,\n",
       "    \u001b[32m'stop_channel'\u001b[0m: \u001b[1;36m0\u001b[0m,\n",
       "    \u001b[32m'stop_mega'\u001b[0m: \u001b[1;36m110\u001b[0m,\n",
       "    \u001b[32m'stop_mili'\u001b[0m: \u001b[1;36m0\u001b[0m,\n",
       "    \u001b[32m'thread_id'\u001b[0m: \u001b[1;36m20\u001b[0m,\n",
       "    \u001b[32m'type'\u001b[0m: \u001b[1;36m67\u001b[0m,\n",
       "    \u001b[32m'wallclock_datetime'\u001b[0m: numpy.datetime64\u001b[1m(\u001b[0m\u001b[32m'2021-05-20T18:20:00.107910'\u001b[0m\u001b[1m)\u001b[0m\n",
       "\u001b[1m}\u001b[0m\n"
      ]
     },
     "metadata": {},
     "output_type": "display_data"
    }
   ],
   "source": [
    "print(getattrs(spec[0][1]))"
   ]
  },
  {
   "cell_type": "markdown",
   "metadata": {},
   "source": [
    "## Metadados\n",
    "A função seguinte extrai os metadados `META` definidos no cabeçalho do arquivo `constants.py` e retorna um DataFrame."
   ]
  },
  {
   "cell_type": "code",
   "execution_count": null,
   "metadata": {},
   "outputs": [
    {
     "data": {
      "text/html": [
       "<div>\n",
       "<style scoped>\n",
       "    .dataframe tbody tr th:only-of-type {\n",
       "        vertical-align: middle;\n",
       "    }\n",
       "\n",
       "    .dataframe tbody tr th {\n",
       "        vertical-align: top;\n",
       "    }\n",
       "\n",
       "    .dataframe thead th {\n",
       "        text-align: right;\n",
       "    }\n",
       "</style>\n",
       "<table border=\"1\" class=\"dataframe\">\n",
       "  <thead>\n",
       "    <tr style=\"text-align: right;\">\n",
       "      <th></th>\n",
       "      <th>start_byte</th>\n",
       "      <th>stop_byte</th>\n",
       "      <th>altitude</th>\n",
       "      <th>data_size</th>\n",
       "      <th>gps_datetime</th>\n",
       "      <th>gps_status</th>\n",
       "      <th>heading</th>\n",
       "      <th>latitude</th>\n",
       "      <th>longitude</th>\n",
       "      <th>num_satellites</th>\n",
       "      <th>speed</th>\n",
       "      <th>thread_id</th>\n",
       "      <th>type</th>\n",
       "    </tr>\n",
       "    <tr>\n",
       "      <th>wallclock_datetime</th>\n",
       "      <th></th>\n",
       "      <th></th>\n",
       "      <th></th>\n",
       "      <th></th>\n",
       "      <th></th>\n",
       "      <th></th>\n",
       "      <th></th>\n",
       "      <th></th>\n",
       "      <th></th>\n",
       "      <th></th>\n",
       "      <th></th>\n",
       "      <th></th>\n",
       "      <th></th>\n",
       "    </tr>\n",
       "  </thead>\n",
       "  <tbody>\n",
       "    <tr>\n",
       "      <th>2021-05-20 18:16:00.785620</th>\n",
       "      <td>344</td>\n",
       "      <td>399</td>\n",
       "      <td>571.599976</td>\n",
       "      <td>40</td>\n",
       "      <td>2021-05-20 18:16:00</td>\n",
       "      <td>Standard GPS</td>\n",
       "      <td>0.0</td>\n",
       "      <td>-23.101629</td>\n",
       "      <td>-45.706600</td>\n",
       "      <td>11</td>\n",
       "      <td>0.040</td>\n",
       "      <td>1</td>\n",
       "      <td>40</td>\n",
       "    </tr>\n",
       "    <tr>\n",
       "      <th>2021-05-20 18:17:00.283280</th>\n",
       "      <td>31436</td>\n",
       "      <td>31491</td>\n",
       "      <td>574.799988</td>\n",
       "      <td>40</td>\n",
       "      <td>2021-05-20 18:17:00</td>\n",
       "      <td>Standard GPS</td>\n",
       "      <td>0.0</td>\n",
       "      <td>-23.101616</td>\n",
       "      <td>-45.706612</td>\n",
       "      <td>11</td>\n",
       "      <td>0.033</td>\n",
       "      <td>1</td>\n",
       "      <td>40</td>\n",
       "    </tr>\n",
       "    <tr>\n",
       "      <th>2021-05-20 18:18:00.183600</th>\n",
       "      <td>62528</td>\n",
       "      <td>62583</td>\n",
       "      <td>574.299988</td>\n",
       "      <td>40</td>\n",
       "      <td>2021-05-20 18:18:00</td>\n",
       "      <td>Standard GPS</td>\n",
       "      <td>0.0</td>\n",
       "      <td>-23.101612</td>\n",
       "      <td>-45.706612</td>\n",
       "      <td>11</td>\n",
       "      <td>0.037</td>\n",
       "      <td>1</td>\n",
       "      <td>40</td>\n",
       "    </tr>\n",
       "    <tr>\n",
       "      <th>2021-05-20 18:19:00.219400</th>\n",
       "      <td>93620</td>\n",
       "      <td>93675</td>\n",
       "      <td>577.200012</td>\n",
       "      <td>40</td>\n",
       "      <td>2021-05-20 18:19:00</td>\n",
       "      <td>Standard GPS</td>\n",
       "      <td>0.0</td>\n",
       "      <td>-23.101606</td>\n",
       "      <td>-45.706612</td>\n",
       "      <td>11</td>\n",
       "      <td>0.025</td>\n",
       "      <td>1</td>\n",
       "      <td>40</td>\n",
       "    </tr>\n",
       "    <tr>\n",
       "      <th>2021-05-20 18:20:00.683610</th>\n",
       "      <td>124712</td>\n",
       "      <td>124767</td>\n",
       "      <td>573.599976</td>\n",
       "      <td>40</td>\n",
       "      <td>2021-05-20 18:20:00</td>\n",
       "      <td>Standard GPS</td>\n",
       "      <td>0.0</td>\n",
       "      <td>-23.101625</td>\n",
       "      <td>-45.706608</td>\n",
       "      <td>11</td>\n",
       "      <td>0.053</td>\n",
       "      <td>1</td>\n",
       "      <td>40</td>\n",
       "    </tr>\n",
       "  </tbody>\n",
       "</table>\n",
       "</div>"
      ],
      "text/plain": [
       "                            start_byte  stop_byte    altitude  data_size  \\\n",
       "wallclock_datetime                                                         \n",
       "2021-05-20 18:16:00.785620         344        399  571.599976         40   \n",
       "2021-05-20 18:17:00.283280       31436      31491  574.799988         40   \n",
       "2021-05-20 18:18:00.183600       62528      62583  574.299988         40   \n",
       "2021-05-20 18:19:00.219400       93620      93675  577.200012         40   \n",
       "2021-05-20 18:20:00.683610      124712     124767  573.599976         40   \n",
       "\n",
       "                                  gps_datetime    gps_status  heading  \\\n",
       "wallclock_datetime                                                      \n",
       "2021-05-20 18:16:00.785620 2021-05-20 18:16:00  Standard GPS      0.0   \n",
       "2021-05-20 18:17:00.283280 2021-05-20 18:17:00  Standard GPS      0.0   \n",
       "2021-05-20 18:18:00.183600 2021-05-20 18:18:00  Standard GPS      0.0   \n",
       "2021-05-20 18:19:00.219400 2021-05-20 18:19:00  Standard GPS      0.0   \n",
       "2021-05-20 18:20:00.683610 2021-05-20 18:20:00  Standard GPS      0.0   \n",
       "\n",
       "                             latitude  longitude  num_satellites  speed  \\\n",
       "wallclock_datetime                                                        \n",
       "2021-05-20 18:16:00.785620 -23.101629 -45.706600              11  0.040   \n",
       "2021-05-20 18:17:00.283280 -23.101616 -45.706612              11  0.033   \n",
       "2021-05-20 18:18:00.183600 -23.101612 -45.706612              11  0.037   \n",
       "2021-05-20 18:19:00.219400 -23.101606 -45.706612              11  0.025   \n",
       "2021-05-20 18:20:00.683610 -23.101625 -45.706608              11  0.053   \n",
       "\n",
       "                            thread_id  type  \n",
       "wallclock_datetime                           \n",
       "2021-05-20 18:16:00.785620          1    40  \n",
       "2021-05-20 18:17:00.283280          1    40  \n",
       "2021-05-20 18:18:00.183600          1    40  \n",
       "2021-05-20 18:19:00.219400          1    40  \n",
       "2021-05-20 18:20:00.683610          1    40  "
      ]
     },
     "execution_count": null,
     "metadata": {},
     "output_type": "execute_result"
    }
   ],
   "source": [
    "gps_meta = extract_metadata(gps)\n",
    "gps_meta.head()"
   ]
  },
  {
   "cell_type": "code",
   "execution_count": null,
   "metadata": {},
   "outputs": [
    {
     "data": {
      "text/html": [
       "<div>\n",
       "<style scoped>\n",
       "    .dataframe tbody tr th:only-of-type {\n",
       "        vertical-align: middle;\n",
       "    }\n",
       "\n",
       "    .dataframe tbody tr th {\n",
       "        vertical-align: top;\n",
       "    }\n",
       "\n",
       "    .dataframe thead th {\n",
       "        text-align: right;\n",
       "    }\n",
       "</style>\n",
       "<table border=\"1\" class=\"dataframe\">\n",
       "  <thead>\n",
       "    <tr style=\"text-align: right;\">\n",
       "      <th></th>\n",
       "      <th>start_byte</th>\n",
       "      <th>stop_byte</th>\n",
       "      <th>antenna_id</th>\n",
       "      <th>bw</th>\n",
       "      <th>data_size</th>\n",
       "      <th>data_type</th>\n",
       "      <th>desclen</th>\n",
       "      <th>description</th>\n",
       "      <th>dynamic_id</th>\n",
       "      <th>gerror</th>\n",
       "      <th>...</th>\n",
       "      <th>start_channel</th>\n",
       "      <th>start_mega</th>\n",
       "      <th>start_mili</th>\n",
       "      <th>step</th>\n",
       "      <th>stop</th>\n",
       "      <th>stop_channel</th>\n",
       "      <th>stop_mega</th>\n",
       "      <th>stop_mili</th>\n",
       "      <th>thread_id</th>\n",
       "      <th>type</th>\n",
       "    </tr>\n",
       "    <tr>\n",
       "      <th>wallclock_datetime</th>\n",
       "      <th></th>\n",
       "      <th></th>\n",
       "      <th></th>\n",
       "      <th></th>\n",
       "      <th></th>\n",
       "      <th></th>\n",
       "      <th></th>\n",
       "      <th></th>\n",
       "      <th></th>\n",
       "      <th></th>\n",
       "      <th></th>\n",
       "      <th></th>\n",
       "      <th></th>\n",
       "      <th></th>\n",
       "      <th></th>\n",
       "      <th></th>\n",
       "      <th></th>\n",
       "      <th></th>\n",
       "      <th></th>\n",
       "      <th></th>\n",
       "      <th></th>\n",
       "    </tr>\n",
       "  </thead>\n",
       "  <tbody>\n",
       "    <tr>\n",
       "      <th>2021-05-22 20:15:00.160846</th>\n",
       "      <td>99227964</td>\n",
       "      <td>99229135</td>\n",
       "      <td>0</td>\n",
       "      <td>40</td>\n",
       "      <td>1156</td>\n",
       "      <td>1</td>\n",
       "      <td>28</td>\n",
       "      <td>PRD 2021 (Faixa 2 de 4).</td>\n",
       "      <td>0</td>\n",
       "      <td>-1</td>\n",
       "      <td>...</td>\n",
       "      <td>0</td>\n",
       "      <td>70</td>\n",
       "      <td>0</td>\n",
       "      <td>0.039101</td>\n",
       "      <td>1155</td>\n",
       "      <td>0</td>\n",
       "      <td>110</td>\n",
       "      <td>0</td>\n",
       "      <td>20</td>\n",
       "      <td>67</td>\n",
       "    </tr>\n",
       "    <tr>\n",
       "      <th>2021-05-22 20:20:00.708650</th>\n",
       "      <td>99393348</td>\n",
       "      <td>99394519</td>\n",
       "      <td>0</td>\n",
       "      <td>40</td>\n",
       "      <td>1156</td>\n",
       "      <td>1</td>\n",
       "      <td>28</td>\n",
       "      <td>PRD 2021 (Faixa 2 de 4).</td>\n",
       "      <td>0</td>\n",
       "      <td>-1</td>\n",
       "      <td>...</td>\n",
       "      <td>0</td>\n",
       "      <td>70</td>\n",
       "      <td>0</td>\n",
       "      <td>0.039101</td>\n",
       "      <td>1155</td>\n",
       "      <td>0</td>\n",
       "      <td>110</td>\n",
       "      <td>0</td>\n",
       "      <td>20</td>\n",
       "      <td>67</td>\n",
       "    </tr>\n",
       "    <tr>\n",
       "      <th>2021-05-22 20:25:00.230842</th>\n",
       "      <td>99558732</td>\n",
       "      <td>99559903</td>\n",
       "      <td>0</td>\n",
       "      <td>40</td>\n",
       "      <td>1156</td>\n",
       "      <td>1</td>\n",
       "      <td>28</td>\n",
       "      <td>PRD 2021 (Faixa 2 de 4).</td>\n",
       "      <td>0</td>\n",
       "      <td>-1</td>\n",
       "      <td>...</td>\n",
       "      <td>0</td>\n",
       "      <td>70</td>\n",
       "      <td>0</td>\n",
       "      <td>0.039101</td>\n",
       "      <td>1155</td>\n",
       "      <td>0</td>\n",
       "      <td>110</td>\n",
       "      <td>0</td>\n",
       "      <td>20</td>\n",
       "      <td>67</td>\n",
       "    </tr>\n",
       "    <tr>\n",
       "      <th>2021-05-22 20:30:00.408390</th>\n",
       "      <td>99724116</td>\n",
       "      <td>99725287</td>\n",
       "      <td>0</td>\n",
       "      <td>40</td>\n",
       "      <td>1156</td>\n",
       "      <td>1</td>\n",
       "      <td>28</td>\n",
       "      <td>PRD 2021 (Faixa 2 de 4).</td>\n",
       "      <td>0</td>\n",
       "      <td>-1</td>\n",
       "      <td>...</td>\n",
       "      <td>0</td>\n",
       "      <td>70</td>\n",
       "      <td>0</td>\n",
       "      <td>0.039101</td>\n",
       "      <td>1155</td>\n",
       "      <td>0</td>\n",
       "      <td>110</td>\n",
       "      <td>0</td>\n",
       "      <td>20</td>\n",
       "      <td>67</td>\n",
       "    </tr>\n",
       "    <tr>\n",
       "      <th>2021-05-22 20:35:00.180936</th>\n",
       "      <td>99889500</td>\n",
       "      <td>99890671</td>\n",
       "      <td>0</td>\n",
       "      <td>40</td>\n",
       "      <td>1156</td>\n",
       "      <td>1</td>\n",
       "      <td>28</td>\n",
       "      <td>PRD 2021 (Faixa 2 de 4).</td>\n",
       "      <td>0</td>\n",
       "      <td>-1</td>\n",
       "      <td>...</td>\n",
       "      <td>0</td>\n",
       "      <td>70</td>\n",
       "      <td>0</td>\n",
       "      <td>0.039101</td>\n",
       "      <td>1155</td>\n",
       "      <td>0</td>\n",
       "      <td>110</td>\n",
       "      <td>0</td>\n",
       "      <td>20</td>\n",
       "      <td>67</td>\n",
       "    </tr>\n",
       "  </tbody>\n",
       "</table>\n",
       "<p>5 rows × 34 columns</p>\n",
       "</div>"
      ],
      "text/plain": [
       "                            start_byte  stop_byte  antenna_id  bw  data_size  \\\n",
       "wallclock_datetime                                                             \n",
       "2021-05-22 20:15:00.160846    99227964   99229135           0  40       1156   \n",
       "2021-05-22 20:20:00.708650    99393348   99394519           0  40       1156   \n",
       "2021-05-22 20:25:00.230842    99558732   99559903           0  40       1156   \n",
       "2021-05-22 20:30:00.408390    99724116   99725287           0  40       1156   \n",
       "2021-05-22 20:35:00.180936    99889500   99890671           0  40       1156   \n",
       "\n",
       "                            data_type  desclen               description  \\\n",
       "wallclock_datetime                                                         \n",
       "2021-05-22 20:15:00.160846          1       28  PRD 2021 (Faixa 2 de 4).   \n",
       "2021-05-22 20:20:00.708650          1       28  PRD 2021 (Faixa 2 de 4).   \n",
       "2021-05-22 20:25:00.230842          1       28  PRD 2021 (Faixa 2 de 4).   \n",
       "2021-05-22 20:30:00.408390          1       28  PRD 2021 (Faixa 2 de 4).   \n",
       "2021-05-22 20:35:00.180936          1       28  PRD 2021 (Faixa 2 de 4).   \n",
       "\n",
       "                            dynamic_id  gerror  ...  start_channel  \\\n",
       "wallclock_datetime                              ...                  \n",
       "2021-05-22 20:15:00.160846           0      -1  ...              0   \n",
       "2021-05-22 20:20:00.708650           0      -1  ...              0   \n",
       "2021-05-22 20:25:00.230842           0      -1  ...              0   \n",
       "2021-05-22 20:30:00.408390           0      -1  ...              0   \n",
       "2021-05-22 20:35:00.180936           0      -1  ...              0   \n",
       "\n",
       "                            start_mega  start_mili      step  stop  \\\n",
       "wallclock_datetime                                                   \n",
       "2021-05-22 20:15:00.160846          70           0  0.039101  1155   \n",
       "2021-05-22 20:20:00.708650          70           0  0.039101  1155   \n",
       "2021-05-22 20:25:00.230842          70           0  0.039101  1155   \n",
       "2021-05-22 20:30:00.408390          70           0  0.039101  1155   \n",
       "2021-05-22 20:35:00.180936          70           0  0.039101  1155   \n",
       "\n",
       "                            stop_channel  stop_mega  stop_mili  thread_id  \\\n",
       "wallclock_datetime                                                          \n",
       "2021-05-22 20:15:00.160846             0        110          0         20   \n",
       "2021-05-22 20:20:00.708650             0        110          0         20   \n",
       "2021-05-22 20:25:00.230842             0        110          0         20   \n",
       "2021-05-22 20:30:00.408390             0        110          0         20   \n",
       "2021-05-22 20:35:00.180936             0        110          0         20   \n",
       "\n",
       "                            type  \n",
       "wallclock_datetime                \n",
       "2021-05-22 20:15:00.160846    67  \n",
       "2021-05-22 20:20:00.708650    67  \n",
       "2021-05-22 20:25:00.230842    67  \n",
       "2021-05-22 20:30:00.408390    67  \n",
       "2021-05-22 20:35:00.180936    67  \n",
       "\n",
       "[5 rows x 34 columns]"
      ]
     },
     "execution_count": null,
     "metadata": {},
     "output_type": "execute_result"
    }
   ],
   "source": [
    "spec_meta = extract_metadata(spec)\n",
    "spec_meta.tail()"
   ]
  },
  {
   "cell_type": "markdown",
   "metadata": {},
   "source": [
    "## Frequência e Nível\n",
    "A função seguinte extrai as frequências e nível num formato de Tabela Dinâmica:\n",
    "* Colunas: Frequências (MHz)\n",
    "* Índice: Números de Bloco\n",
    "* Valores: Níveis (dBm ou dBuV/m)"
   ]
  },
  {
   "cell_type": "code",
   "execution_count": null,
   "metadata": {},
   "outputs": [
    {
     "data": {
      "text/html": [
       "<div>\n",
       "<style scoped>\n",
       "    .dataframe tbody tr th:only-of-type {\n",
       "        vertical-align: middle;\n",
       "    }\n",
       "\n",
       "    .dataframe tbody tr th {\n",
       "        vertical-align: top;\n",
       "    }\n",
       "\n",
       "    .dataframe thead th {\n",
       "        text-align: right;\n",
       "    }\n",
       "</style>\n",
       "<table border=\"1\" class=\"dataframe\">\n",
       "  <thead>\n",
       "    <tr style=\"text-align: right;\">\n",
       "      <th></th>\n",
       "      <th>70.000000</th>\n",
       "      <th>70.039101</th>\n",
       "      <th>70.078201</th>\n",
       "      <th>70.117302</th>\n",
       "      <th>70.156403</th>\n",
       "      <th>70.195503</th>\n",
       "      <th>70.234604</th>\n",
       "      <th>70.273705</th>\n",
       "      <th>70.312805</th>\n",
       "      <th>70.351906</th>\n",
       "      <th>...</th>\n",
       "      <th>109.648094</th>\n",
       "      <th>109.687195</th>\n",
       "      <th>109.726295</th>\n",
       "      <th>109.765396</th>\n",
       "      <th>109.804497</th>\n",
       "      <th>109.843597</th>\n",
       "      <th>109.882698</th>\n",
       "      <th>109.921799</th>\n",
       "      <th>109.960899</th>\n",
       "      <th>110.000000</th>\n",
       "    </tr>\n",
       "  </thead>\n",
       "  <tbody>\n",
       "    <tr>\n",
       "      <th>0</th>\n",
       "      <td>31.5</td>\n",
       "      <td>30.5</td>\n",
       "      <td>32.0</td>\n",
       "      <td>37.5</td>\n",
       "      <td>36.5</td>\n",
       "      <td>34.5</td>\n",
       "      <td>35.0</td>\n",
       "      <td>33.5</td>\n",
       "      <td>33.0</td>\n",
       "      <td>33.5</td>\n",
       "      <td>...</td>\n",
       "      <td>19.0</td>\n",
       "      <td>19.0</td>\n",
       "      <td>20.5</td>\n",
       "      <td>21.0</td>\n",
       "      <td>19.5</td>\n",
       "      <td>8.0</td>\n",
       "      <td>1.0</td>\n",
       "      <td>19.5</td>\n",
       "      <td>22.5</td>\n",
       "      <td>23.0</td>\n",
       "    </tr>\n",
       "    <tr>\n",
       "      <th>1</th>\n",
       "      <td>30.5</td>\n",
       "      <td>32.0</td>\n",
       "      <td>31.5</td>\n",
       "      <td>27.5</td>\n",
       "      <td>29.5</td>\n",
       "      <td>29.0</td>\n",
       "      <td>27.5</td>\n",
       "      <td>27.5</td>\n",
       "      <td>27.5</td>\n",
       "      <td>29.5</td>\n",
       "      <td>...</td>\n",
       "      <td>16.5</td>\n",
       "      <td>11.5</td>\n",
       "      <td>20.0</td>\n",
       "      <td>20.5</td>\n",
       "      <td>14.5</td>\n",
       "      <td>17.0</td>\n",
       "      <td>20.0</td>\n",
       "      <td>19.5</td>\n",
       "      <td>18.0</td>\n",
       "      <td>19.5</td>\n",
       "    </tr>\n",
       "    <tr>\n",
       "      <th>2</th>\n",
       "      <td>31.5</td>\n",
       "      <td>28.5</td>\n",
       "      <td>29.0</td>\n",
       "      <td>33.0</td>\n",
       "      <td>31.0</td>\n",
       "      <td>29.0</td>\n",
       "      <td>29.5</td>\n",
       "      <td>31.0</td>\n",
       "      <td>30.0</td>\n",
       "      <td>33.0</td>\n",
       "      <td>...</td>\n",
       "      <td>13.5</td>\n",
       "      <td>14.5</td>\n",
       "      <td>17.5</td>\n",
       "      <td>16.5</td>\n",
       "      <td>6.0</td>\n",
       "      <td>20.5</td>\n",
       "      <td>20.5</td>\n",
       "      <td>20.5</td>\n",
       "      <td>19.5</td>\n",
       "      <td>17.5</td>\n",
       "    </tr>\n",
       "    <tr>\n",
       "      <th>3</th>\n",
       "      <td>31.5</td>\n",
       "      <td>31.5</td>\n",
       "      <td>31.5</td>\n",
       "      <td>32.0</td>\n",
       "      <td>33.5</td>\n",
       "      <td>35.0</td>\n",
       "      <td>34.0</td>\n",
       "      <td>33.5</td>\n",
       "      <td>33.0</td>\n",
       "      <td>33.5</td>\n",
       "      <td>...</td>\n",
       "      <td>21.0</td>\n",
       "      <td>19.5</td>\n",
       "      <td>21.0</td>\n",
       "      <td>23.5</td>\n",
       "      <td>20.5</td>\n",
       "      <td>20.0</td>\n",
       "      <td>23.0</td>\n",
       "      <td>22.0</td>\n",
       "      <td>19.5</td>\n",
       "      <td>16.5</td>\n",
       "    </tr>\n",
       "    <tr>\n",
       "      <th>4</th>\n",
       "      <td>27.5</td>\n",
       "      <td>26.5</td>\n",
       "      <td>31.0</td>\n",
       "      <td>30.0</td>\n",
       "      <td>30.0</td>\n",
       "      <td>31.0</td>\n",
       "      <td>30.5</td>\n",
       "      <td>27.5</td>\n",
       "      <td>26.0</td>\n",
       "      <td>27.5</td>\n",
       "      <td>...</td>\n",
       "      <td>10.0</td>\n",
       "      <td>0.5</td>\n",
       "      <td>9.5</td>\n",
       "      <td>14.0</td>\n",
       "      <td>19.0</td>\n",
       "      <td>21.0</td>\n",
       "      <td>10.5</td>\n",
       "      <td>20.0</td>\n",
       "      <td>23.0</td>\n",
       "      <td>22.0</td>\n",
       "    </tr>\n",
       "  </tbody>\n",
       "</table>\n",
       "<p>5 rows × 1024 columns</p>\n",
       "</div>"
      ],
      "text/plain": [
       "   70.000000   70.039101   70.078201   70.117302   70.156403   70.195503   \\\n",
       "0        31.5        30.5        32.0        37.5        36.5        34.5   \n",
       "1        30.5        32.0        31.5        27.5        29.5        29.0   \n",
       "2        31.5        28.5        29.0        33.0        31.0        29.0   \n",
       "3        31.5        31.5        31.5        32.0        33.5        35.0   \n",
       "4        27.5        26.5        31.0        30.0        30.0        31.0   \n",
       "\n",
       "   70.234604   70.273705   70.312805   70.351906   ...  109.648094  \\\n",
       "0        35.0        33.5        33.0        33.5  ...        19.0   \n",
       "1        27.5        27.5        27.5        29.5  ...        16.5   \n",
       "2        29.5        31.0        30.0        33.0  ...        13.5   \n",
       "3        34.0        33.5        33.0        33.5  ...        21.0   \n",
       "4        30.5        27.5        26.0        27.5  ...        10.0   \n",
       "\n",
       "   109.687195  109.726295  109.765396  109.804497  109.843597  109.882698  \\\n",
       "0        19.0        20.5        21.0        19.5         8.0         1.0   \n",
       "1        11.5        20.0        20.5        14.5        17.0        20.0   \n",
       "2        14.5        17.5        16.5         6.0        20.5        20.5   \n",
       "3        19.5        21.0        23.5        20.5        20.0        23.0   \n",
       "4         0.5         9.5        14.0        19.0        21.0        10.5   \n",
       "\n",
       "   109.921799  109.960899  110.000000  \n",
       "0        19.5        22.5        23.0  \n",
       "1        19.5        18.0        19.5  \n",
       "2        20.5        19.5        17.5  \n",
       "3        22.0        19.5        16.5  \n",
       "4        20.0        23.0        22.0  \n",
       "\n",
       "[5 rows x 1024 columns]"
      ]
     },
     "execution_count": null,
     "metadata": {},
     "output_type": "execute_result"
    }
   ],
   "source": [
    "levels = extract_level(spec, dtype='float16')\n",
    "levels.head()"
   ]
  },
  {
   "cell_type": "markdown",
   "metadata": {},
   "source": [
    "## Processamento, Extração e Salvamento dos Metadados e Espectro \n",
    "A função a seguir é um wrapper de toda funcionalidade desta biblioteca. Ela recebe o caminho `entrada` para um arquivo `.bin` ou pasta contendo vários arquivos `.bin`, extrai os metadados e os dados de espectro. Mescla o timestamp dos metadados com o arquivo de espectro e salva ambos na pasta `saida`. Essa pasta é usada como repositório e cache dos dados processados que serão utilizados pela função `extract_bin_stats`."
   ]
  },
  {
   "cell_type": "code",
   "execution_count": null,
   "metadata": {},
   "outputs": [],
   "source": [
    "from rfpye.filter import process_bin, extract_bin_stats"
   ]
  },
  {
   "cell_type": "code",
   "execution_count": null,
   "metadata": {},
   "outputs": [
    {
     "data": {
      "text/html": [
       "<pre style=\"white-space:pre;overflow-x:auto;line-height:normal;font-family:Menlo,'DejaVu Sans Mono',consolas,'Courier New',monospace\"><span style=\"color: #800000; text-decoration-color: #800000; font-weight: bold\">─────────────────────────── </span>Lista de Arquivos a serem processados<span style=\"color: #800000; text-decoration-color: #800000; font-weight: bold\"> ───────────────────────────</span>\n",
       "</pre>\n"
      ],
      "text/plain": [
       "\u001b[1;31m─────────────────────────── \u001b[0mLista de Arquivos a serem processados\u001b[1;31m ───────────────────────────\u001b[0m\n"
      ]
     },
     "metadata": {},
     "output_type": "display_data"
    },
    {
     "data": {
      "text/html": [
       "<pre style=\"white-space:pre;overflow-x:auto;line-height:normal;font-family:Menlo,'DejaVu Sans Mono',consolas,'Courier New',monospace\"><span style=\"color: #c0c0c0; text-decoration-color: #c0c0c0; font-weight: bold\">[</span><span style=\"color: #008000; text-decoration-color: #008000\">'RFeye002310_210520_T181500.bin'</span><span style=\"color: #c0c0c0; text-decoration-color: #c0c0c0; font-weight: bold\">]                                                           </span>\n",
       "</pre>\n"
      ],
      "text/plain": [
       "\u001b[1;37m[\u001b[0m\u001b[32m'RFeye002310_210520_T181500.bin'\u001b[0m\u001b[1;37m]\u001b[0m\u001b[1;37m                                                           \u001b[0m\n"
      ]
     },
     "metadata": {},
     "output_type": "display_data"
    },
    {
     "data": {
      "text/html": [
       "<pre style=\"white-space:pre;overflow-x:auto;line-height:normal;font-family:Menlo,'DejaVu Sans Mono',consolas,'Courier New',monospace\">😴 Nenhum arquivo novo a processar 💤\n",
       "</pre>\n"
      ],
      "text/plain": [
       "😴 Nenhum arquivo novo a processar 💤\n"
      ]
     },
     "metadata": {},
     "output_type": "display_data"
    },
    {
     "data": {
      "text/html": [
       "<pre style=\"white-space:pre;overflow-x:auto;line-height:normal;font-family:Menlo,'DejaVu Sans Mono',consolas,'Courier New',monospace\">☝ use --substituir no terminal ou <span style=\"color: #808000; text-decoration-color: #808000\">substituir</span>=<span style=\"color: #00ff00; text-decoration-color: #00ff00; font-style: italic\">True</span> na chamada caso queira reprocessar os bins \n",
       "e sobrepôr os arquivos existentes 😉\n",
       "</pre>\n"
      ],
      "text/plain": [
       "☝ use --substituir no terminal ou \u001b[33msubstituir\u001b[0m=\u001b[3;92mTrue\u001b[0m na chamada caso queira reprocessar os bins \n",
       "e sobrepôr os arquivos existentes 😉\n"
      ]
     },
     "metadata": {},
     "output_type": "display_data"
    }
   ],
   "source": [
    "process_bin(bin_file, saida)"
   ]
  },
  {
   "cell_type": "markdown",
   "metadata": {},
   "source": [
    "Como vemos pela mensagem de saída, nada foi feito porque esse arquivo já foi processado anteriormente e todos os arquivos de metadados e espectros presentes já foram salvos na pasta `saida`"
   ]
  },
  {
   "cell_type": "markdown",
   "metadata": {},
   "source": [
    "## Resumo do arquivo\n",
    "Se o que interessa é somente os dados estatísticos do arquivo como `Min`, `Max` e `Mean` basta utilizar:"
   ]
  },
  {
   "cell_type": "code",
   "execution_count": null,
   "metadata": {},
   "outputs": [
    {
     "data": {
      "text/html": [
       "<div>\n",
       "<style scoped>\n",
       "    .dataframe tbody tr th:only-of-type {\n",
       "        vertical-align: middle;\n",
       "    }\n",
       "\n",
       "    .dataframe tbody tr th {\n",
       "        vertical-align: top;\n",
       "    }\n",
       "\n",
       "    .dataframe thead th {\n",
       "        text-align: right;\n",
       "    }\n",
       "</style>\n",
       "<table border=\"1\" class=\"dataframe\">\n",
       "  <thead>\n",
       "    <tr style=\"text-align: right;\">\n",
       "      <th></th>\n",
       "      <th>Frequency</th>\n",
       "      <th>Min</th>\n",
       "      <th>Max</th>\n",
       "      <th>Mean</th>\n",
       "    </tr>\n",
       "  </thead>\n",
       "  <tbody>\n",
       "    <tr>\n",
       "      <th>0</th>\n",
       "      <td>50.000000</td>\n",
       "      <td>-7.0</td>\n",
       "      <td>36.0</td>\n",
       "      <td>22.484375</td>\n",
       "    </tr>\n",
       "    <tr>\n",
       "      <th>1</th>\n",
       "      <td>50.039101</td>\n",
       "      <td>3.0</td>\n",
       "      <td>37.5</td>\n",
       "      <td>22.640625</td>\n",
       "    </tr>\n",
       "    <tr>\n",
       "      <th>2</th>\n",
       "      <td>50.078201</td>\n",
       "      <td>-3.5</td>\n",
       "      <td>38.5</td>\n",
       "      <td>22.593750</td>\n",
       "    </tr>\n",
       "    <tr>\n",
       "      <th>3</th>\n",
       "      <td>50.117302</td>\n",
       "      <td>-2.0</td>\n",
       "      <td>35.0</td>\n",
       "      <td>22.765625</td>\n",
       "    </tr>\n",
       "    <tr>\n",
       "      <th>4</th>\n",
       "      <td>50.156403</td>\n",
       "      <td>5.5</td>\n",
       "      <td>33.0</td>\n",
       "      <td>22.781250</td>\n",
       "    </tr>\n",
       "    <tr>\n",
       "      <th>...</th>\n",
       "      <td>...</td>\n",
       "      <td>...</td>\n",
       "      <td>...</td>\n",
       "      <td>...</td>\n",
       "    </tr>\n",
       "    <tr>\n",
       "      <th>26875</th>\n",
       "      <td>1218.844360</td>\n",
       "      <td>-137.0</td>\n",
       "      <td>-102.5</td>\n",
       "      <td>-112.500000</td>\n",
       "    </tr>\n",
       "    <tr>\n",
       "      <th>26876</th>\n",
       "      <td>1218.883301</td>\n",
       "      <td>-146.5</td>\n",
       "      <td>-101.0</td>\n",
       "      <td>-113.000000</td>\n",
       "    </tr>\n",
       "    <tr>\n",
       "      <th>26877</th>\n",
       "      <td>1218.922119</td>\n",
       "      <td>-136.5</td>\n",
       "      <td>-96.5</td>\n",
       "      <td>-112.500000</td>\n",
       "    </tr>\n",
       "    <tr>\n",
       "      <th>26878</th>\n",
       "      <td>1218.961060</td>\n",
       "      <td>-142.0</td>\n",
       "      <td>-95.0</td>\n",
       "      <td>-112.312500</td>\n",
       "    </tr>\n",
       "    <tr>\n",
       "      <th>26879</th>\n",
       "      <td>1219.000000</td>\n",
       "      <td>-146.0</td>\n",
       "      <td>-96.5</td>\n",
       "      <td>-112.500000</td>\n",
       "    </tr>\n",
       "  </tbody>\n",
       "</table>\n",
       "<p>26880 rows × 4 columns</p>\n",
       "</div>"
      ],
      "text/plain": [
       "         Frequency    Min    Max        Mean\n",
       "0        50.000000   -7.0   36.0   22.484375\n",
       "1        50.039101    3.0   37.5   22.640625\n",
       "2        50.078201   -3.5   38.5   22.593750\n",
       "3        50.117302   -2.0   35.0   22.765625\n",
       "4        50.156403    5.5   33.0   22.781250\n",
       "...            ...    ...    ...         ...\n",
       "26875  1218.844360 -137.0 -102.5 -112.500000\n",
       "26876  1218.883301 -146.5 -101.0 -113.000000\n",
       "26877  1218.922119 -136.5  -96.5 -112.500000\n",
       "26878  1218.961060 -142.0  -95.0 -112.312500\n",
       "26879  1219.000000 -146.0  -96.5 -112.500000\n",
       "\n",
       "[26880 rows x 4 columns]"
      ]
     },
     "execution_count": null,
     "metadata": {},
     "output_type": "execute_result"
    }
   ],
   "source": [
    "stats = extract_bin_stats(bin_file, cache=saida)\n",
    "stats"
   ]
  },
  {
   "cell_type": "markdown",
   "metadata": {},
   "source": [
    "Podemos filtrar o intervalo tanto de frequência quanto de tempo da extração:"
   ]
  },
  {
   "cell_type": "code",
   "execution_count": null,
   "metadata": {},
   "outputs": [
    {
     "data": {
      "text/html": [
       "<div>\n",
       "<style scoped>\n",
       "    .dataframe tbody tr th:only-of-type {\n",
       "        vertical-align: middle;\n",
       "    }\n",
       "\n",
       "    .dataframe tbody tr th {\n",
       "        vertical-align: top;\n",
       "    }\n",
       "\n",
       "    .dataframe thead th {\n",
       "        text-align: right;\n",
       "    }\n",
       "</style>\n",
       "<table border=\"1\" class=\"dataframe\">\n",
       "  <thead>\n",
       "    <tr style=\"text-align: right;\">\n",
       "      <th></th>\n",
       "      <th>Frequency</th>\n",
       "      <th>Min</th>\n",
       "      <th>Max</th>\n",
       "      <th>Mean</th>\n",
       "    </tr>\n",
       "  </thead>\n",
       "  <tbody>\n",
       "    <tr>\n",
       "      <th>0</th>\n",
       "      <td>88.005867</td>\n",
       "      <td>1.0</td>\n",
       "      <td>33.0</td>\n",
       "      <td>21.109375</td>\n",
       "    </tr>\n",
       "    <tr>\n",
       "      <th>1</th>\n",
       "      <td>88.044968</td>\n",
       "      <td>-6.5</td>\n",
       "      <td>37.5</td>\n",
       "      <td>24.031250</td>\n",
       "    </tr>\n",
       "    <tr>\n",
       "      <th>2</th>\n",
       "      <td>88.084068</td>\n",
       "      <td>4.5</td>\n",
       "      <td>36.5</td>\n",
       "      <td>24.234375</td>\n",
       "    </tr>\n",
       "    <tr>\n",
       "      <th>3</th>\n",
       "      <td>88.123169</td>\n",
       "      <td>2.0</td>\n",
       "      <td>41.0</td>\n",
       "      <td>26.328125</td>\n",
       "    </tr>\n",
       "    <tr>\n",
       "      <th>4</th>\n",
       "      <td>88.162270</td>\n",
       "      <td>2.0</td>\n",
       "      <td>37.5</td>\n",
       "      <td>26.421875</td>\n",
       "    </tr>\n",
       "    <tr>\n",
       "      <th>...</th>\n",
       "      <td>...</td>\n",
       "      <td>...</td>\n",
       "      <td>...</td>\n",
       "      <td>...</td>\n",
       "    </tr>\n",
       "    <tr>\n",
       "      <th>866</th>\n",
       "      <td>107.959808</td>\n",
       "      <td>-6.0</td>\n",
       "      <td>30.0</td>\n",
       "      <td>18.140625</td>\n",
       "    </tr>\n",
       "    <tr>\n",
       "      <th>867</th>\n",
       "      <td>107.969582</td>\n",
       "      <td>-140.0</td>\n",
       "      <td>-87.5</td>\n",
       "      <td>-105.562500</td>\n",
       "    </tr>\n",
       "    <tr>\n",
       "      <th>868</th>\n",
       "      <td>107.979347</td>\n",
       "      <td>-143.5</td>\n",
       "      <td>-92.0</td>\n",
       "      <td>-105.875000</td>\n",
       "    </tr>\n",
       "    <tr>\n",
       "      <th>869</th>\n",
       "      <td>107.989113</td>\n",
       "      <td>-140.5</td>\n",
       "      <td>-94.0</td>\n",
       "      <td>-105.875000</td>\n",
       "    </tr>\n",
       "    <tr>\n",
       "      <th>870</th>\n",
       "      <td>107.998886</td>\n",
       "      <td>-133.5</td>\n",
       "      <td>-94.5</td>\n",
       "      <td>-106.000000</td>\n",
       "    </tr>\n",
       "  </tbody>\n",
       "</table>\n",
       "<p>871 rows × 4 columns</p>\n",
       "</div>"
      ],
      "text/plain": [
       "      Frequency    Min   Max        Mean\n",
       "0     88.005867    1.0  33.0   21.109375\n",
       "1     88.044968   -6.5  37.5   24.031250\n",
       "2     88.084068    4.5  36.5   24.234375\n",
       "3     88.123169    2.0  41.0   26.328125\n",
       "4     88.162270    2.0  37.5   26.421875\n",
       "..          ...    ...   ...         ...\n",
       "866  107.959808   -6.0  30.0   18.140625\n",
       "867  107.969582 -140.0 -87.5 -105.562500\n",
       "868  107.979347 -143.5 -92.0 -105.875000\n",
       "869  107.989113 -140.5 -94.0 -105.875000\n",
       "870  107.998886 -133.5 -94.5 -106.000000\n",
       "\n",
       "[871 rows x 4 columns]"
      ]
     },
     "execution_count": null,
     "metadata": {},
     "output_type": "execute_result"
    }
   ],
   "source": [
    "stats = extract_bin_stats(bin_file, cache=saida, freq_start=88, freq_stop=108)\n",
    "stats"
   ]
  }
 ],
 "metadata": {
  "kernelspec": {
   "display_name": "Python [conda env:rfpy]",
   "language": "python",
   "name": "conda-env-rfpy-py"
  }
 },
 "nbformat": 4,
 "nbformat_minor": 4
}
