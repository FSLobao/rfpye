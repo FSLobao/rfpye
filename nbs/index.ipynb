{
 "cells": [
  {
   "cell_type": "code",
   "execution_count": null,
   "metadata": {},
   "outputs": [],
   "source": [
    "#hide\n",
    "import sys, os\n",
    "from pathlib import Path\n",
    "\n",
    "# Insert in Path Project Directory\n",
    "sys.path.insert(0, str(Path().cwd().parent))\n",
    "\n",
    "%load_ext autoreload\n",
    "%autoreload 2 "
   ]
  },
  {
   "cell_type": "code",
   "execution_count": null,
   "metadata": {},
   "outputs": [],
   "source": [
    "#hide\n",
    "import warnings\n",
    "with warnings.catch_warnings():\n",
    "    warnings.simplefilter(\"ignore\")    "
   ]
  },
  {
   "cell_type": "markdown",
   "metadata": {},
   "source": [
    "# RFPYE\n",
    "> Este módulo tem como objetivo o processamento e extração otimizada de dados dos arquivos `.bin` de monitoramento do espectro provenientes do script Logger executados nas estações de Monitoramento CRFS RFeye Node. Para tal utilizamos as várias funcionalidades da biblioteca [fastcore](https://fastcore.fast.ai/basics.html), que expande e otimiza as estruturas de dados da linguagem python. "
   ]
  },
  {
   "cell_type": "markdown",
   "metadata": {},
   "source": [
    "## Instalação\n",
    "\n",
    "`Ubuntu`: \n",
    "\n",
    "```bash\n",
    "python -m pip install rfpye\n",
    "```\n",
    "\n",
    "`Windows`:\n",
    "\n",
    "Como parte dessa lib utiliza código c compilado com `Cython`, é preciso que um compilador `C` esteja instalado. Em Windows, uma opção é instalar a versão apropriada do Visual Studio seguindo as orientações do site da Microsoft. No entanto uma solução mais simples e a recomendada é utilizando o `conda`.\n",
    "\n",
    "Primeiramente instale o [miniconda](https://docs.conda.io/en/latest/miniconda.html). Com o conda instalado e disponível no seu `PATH` ou através do `Anaconda Prompt` execute o comando:\n",
    "\n",
    "```bash\n",
    "conda install -c intel libpython m2w64-toolchain -y\n",
    "\n",
    "echo [build] > %CONDA_PREFIX%\\Lib\\distutils\\distutils.cfg\n",
    "\n",
    "echo compiler = mingw32 >> %CONDA_PREFIX%\\Lib\\distutils\\distutils.cfg\n",
    "```"
   ]
  },
  {
   "cell_type": "markdown",
   "metadata": {},
   "source": [
    "Depois disso basta instalar normalmente a lib:\n",
    "`python -m pip install rfpye`"
   ]
  },
  {
   "cell_type": "markdown",
   "metadata": {},
   "source": [
    "Em Linux normalmente o sistema já possui o compilador `gcc` instalado então basta executar o comando `pip install` acima."
   ]
  },
  {
   "cell_type": "markdown",
   "metadata": {},
   "source": [
    "## Como utilizar\n",
    "Abaixo mostramos as funcionalidades principais dos módulos, utilizando-os dentro de algum outro script ou `REPL`"
   ]
  },
  {
   "cell_type": "markdown",
   "metadata": {},
   "source": [
    "Precisamos necessariamente de um diretório de entrada, contendo um ou mais arquivos `.bin`\n",
    "> Mude os caminhos abaixo para suas pastas locais"
   ]
  },
  {
   "cell_type": "code",
   "execution_count": null,
   "metadata": {},
   "outputs": [],
   "source": [
    "from fastcore.xtras import Path\n",
    "from rfpye.utils import get_files\n",
    "from rich import print"
   ]
  },
  {
   "cell_type": "markdown",
   "metadata": {},
   "source": [
    "A função abaixo baixa alguns arquivos de exemplo:"
   ]
  },
  {
   "cell_type": "code",
   "execution_count": null,
   "metadata": {},
   "outputs": [],
   "source": [
    "path = Path(r'binfiles')\n",
    "if not path.exists() or not len(get_files(path, extensions=['.bin'])):\n",
    "    path = Path('.')\n",
    "    !wget --header 'Host: raw.githubusercontent.com' --user-agent 'Mozilla/5.0 (Windows NT 10.0; Win64; x64; rv:89.0) Gecko/20100101 Firefox/89.0' --header 'Accept: text/html,application/xhtml+xml,application/xml;q=0.9,image/webp,*/*;q=0.8' --header 'Accept-Language: pt-BR,pt;q=0.8,en-US;q=0.5,en;q=0.3' --referer 'https://github.com/EricMagalhaesDelgado/SpecFiles/blob/main/Combo3%20(CRFS%20Bin%20-%20DataTypes%204%2C%207%2C%208%2C%2060-65%20e%2067-69)/rfeye002092_210208_T202310_CRFSBINv.5.bin' --header 'DNT: 1' --header 'Upgrade-Insecure-Requests: 1' 'https://raw.githubusercontent.com/EricMagalhaesDelgado/SpecFiles/main/Combo3%20(CRFS%20Bin%20-%20DataTypes%204%2C%207%2C%208%2C%2060-65%20e%2067-69)/rfeye002092_210208_T202310_CRFSBINv.5.bin' --output-document 'rfeye002092_210208_T202310_CRFSBINv.5.bin'\n",
    "    !wget --header 'Host: raw.githubusercontent.com' --user-agent 'Mozilla/5.0 (Windows NT 10.0; Win64; x64; rv:89.0) Gecko/20100101 Firefox/89.0' --header 'Accept: text/html,application/xhtml+xml,application/xml;q=0.9,image/webp,*/*;q=0.8' --header 'Accept-Language: pt-BR,pt;q=0.8,en-US;q=0.5,en;q=0.3' --referer 'https://github.com/EricMagalhaesDelgado/SpecFiles/blob/main/Combo3%20(CRFS%20Bin%20-%20DataTypes%204%2C%207%2C%208%2C%2060-65%20e%2067-69)/rfeye002092_210208_T203131_CRFSBINv.2.bin' --header 'DNT: 1' --header 'Upgrade-Insecure-Requests: 1' 'https://raw.githubusercontent.com/EricMagalhaesDelgado/SpecFiles/main/Combo3%20(CRFS%20Bin%20-%20DataTypes%204%2C%207%2C%208%2C%2060-65%20e%2067-69)/rfeye002092_210208_T203131_CRFSBINv.2.bin' --output-document 'rfeye002092_210208_T203131_CRFSBINv.2.bin'\n",
    "    !wget --header 'Host: raw.githubusercontent.com' --user-agent 'Mozilla/5.0 (Windows NT 10.0; Win64; x64; rv:89.0) Gecko/20100101 Firefox/89.0' --header 'Accept: text/html,application/xhtml+xml,application/xml;q=0.9,image/webp,*/*;q=0.8' --header 'Accept-Language: pt-BR,pt;q=0.8,en-US;q=0.5,en;q=0.3' --referer 'https://github.com/EricMagalhaesDelgado/SpecFiles/blob/main/Combo3%20(CRFS%20Bin%20-%20DataTypes%204%2C%207%2C%208%2C%2060-65%20e%2067-69)/rfeye002292_210208_T202215_CRFSBINv.4.bin' --header 'DNT: 1' --header 'Upgrade-Insecure-Requests: 1' 'https://raw.githubusercontent.com/EricMagalhaesDelgado/SpecFiles/main/Combo3%20(CRFS%20Bin%20-%20DataTypes%204%2C%207%2C%208%2C%2060-65%20e%2067-69)/rfeye002292_210208_T202215_CRFSBINv.4.bin' --output-document 'rfeye002292_210208_T202215_CRFSBINv.4.bin'\n",
    "    !wget --header 'Host: raw.githubusercontent.com' --user-agent 'Mozilla/5.0 (Windows NT 10.0; Win64; x64; rv:89.0) Gecko/20100101 Firefox/89.0' --header 'Accept: text/html,application/xhtml+xml,application/xml;q=0.9,image/webp,*/*;q=0.8' --header 'Accept-Language: pt-BR,pt;q=0.8,en-US;q=0.5,en;q=0.3' --referer 'https://github.com/EricMagalhaesDelgado/SpecFiles/blob/main/Combo3%20(CRFS%20Bin%20-%20DataTypes%204%2C%207%2C%208%2C%2060-65%20e%2067-69)/rfeye002292_210208_T203238_CRFSBINv.3.bin' --header 'DNT: 1' --header 'Upgrade-Insecure-Requests: 1' 'https://raw.githubusercontent.com/EricMagalhaesDelgado/SpecFiles/main/Combo3%20(CRFS%20Bin%20-%20DataTypes%204%2C%207%2C%208%2C%2060-65%20e%2067-69)/rfeye002292_210208_T203238_CRFSBINv.3.bin' --output-document 'rfeye002292_210208_T203238_CRFSBINv.3.bin'\n"
   ]
  },
  {
   "cell_type": "markdown",
   "metadata": {},
   "source": [
    "A função `parse_bin` é a função principal que encapsula o processamento dos arquivos bin."
   ]
  },
  {
   "cell_type": "code",
   "execution_count": null,
   "metadata": {},
   "outputs": [],
   "source": [
    "#hide\n",
    "from nbdev import show_doc"
   ]
  },
  {
   "cell_type": "code",
   "execution_count": null,
   "metadata": {},
   "outputs": [
    {
     "data": {
      "text/markdown": [
       "<h4 id=\"parse_bin\" class=\"doc_header\"><code>parse_bin</code><a href=\"https://github.com/ronaldokun/rfpye/tree/master/rfpye/parser.py#L35\" class=\"source_link\" style=\"float:right\">[source]</a></h4>\n",
       "\n",
       "> <code>parse_bin</code>(**`bin_file`**:`Union`\\[`str`, `Path`\\])\n",
       "\n",
       "Receives a CRFS binfile and returns a dictionary with the file metadata, a GPS Class and a list with the different Spectrum Classes\n",
       "A block is a piece of the .bin file with a known start and end and that contains different types of information.\n",
       "It has several fields: file_type, header, data and footer.\n",
       "Each field has lengths and information defined in the documentation.\n",
       "Args:\n",
       "    bin_file (Union[str, Path]): path to the bin file\n",
       "\n",
       "Returns:\n",
       "    Dictionary with the file metadata, file_version, string info, gps and spectrum blocks."
      ],
      "text/plain": [
       "<IPython.core.display.Markdown object>"
      ]
     },
     "metadata": {},
     "output_type": "display_data"
    }
   ],
   "source": [
    "from rfpye.parser import parse_bin\n",
    "show_doc(parse_bin)"
   ]
  },
  {
   "cell_type": "markdown",
   "metadata": {},
   "source": [
    "## CRFS Bin - Versão 5\n",
    "Vamos listar arquivos da última versão do script Logger, Versão 5"
   ]
  },
  {
   "cell_type": "code",
   "execution_count": null,
   "metadata": {},
   "outputs": [
    {
     "data": {
      "text/plain": [
       "(#65) [Path('D:/OneDrive - ANATEL/Sensores/rfeye002073/rfeye002073_210620_T231206.bin'),Path('D:/OneDrive - ANATEL/Sensores/rfeye002080/rfeye002080_691231_T210111.bin'),Path('D:/OneDrive - ANATEL/Sensores/rfeye002081/rfeye002081_210620_T232204.bin'),Path('D:/OneDrive - ANATEL/Sensores/rfeye002083/rfeye002083_210621_T160001.bin'),Path('D:/OneDrive - ANATEL/Sensores/rfeye002084/rfeye002084_210623_T144012.bin'),Path('D:/OneDrive - ANATEL/Sensores/rfeye002086/rfeye002086_210622_T004723.bin'),Path('D:/OneDrive - ANATEL/Sensores/rfeye002087/rfeye002087_210628_T224301.bin'),Path('D:/OneDrive - ANATEL/Sensores/RFeye002090-VCP/rfeye002090-VCP_210623_T024236.bin'),Path('D:/OneDrive - ANATEL/Sensores/rfeye002091/rfeye002091_210618_T145747.bin'),Path('D:/OneDrive - ANATEL/Sensores/rfeye002092/rfeye002092_210603_T205009.bin')...]"
      ]
     },
     "execution_count": null,
     "metadata": {},
     "output_type": "execute_result"
    }
   ],
   "source": [
    "files = get_files(r'D:\\OneDrive - ANATEL\\Sensores', extensions=['.bin'])\n",
    "files"
   ]
  },
  {
   "cell_type": "code",
   "execution_count": null,
   "metadata": {},
   "outputs": [],
   "source": [
    "file = files.shuffle()[0]"
   ]
  },
  {
   "cell_type": "code",
   "execution_count": null,
   "metadata": {},
   "outputs": [
    {
     "name": "stdout",
     "output_type": "stream",
     "text": [
      "Wall time: 11.4 s\n"
     ]
    }
   ],
   "source": [
    "%%time\n",
    "v5 = parse_bin(file)"
   ]
  },
  {
   "cell_type": "code",
   "execution_count": null,
   "metadata": {},
   "outputs": [
    {
     "data": {
      "text/html": [
       "<pre style=\"white-space:pre;overflow-x:auto;line-height:normal;font-family:Menlo,'DejaVu Sans Mono',consolas,'Courier New',monospace\"><span style=\"font-weight: bold\">{</span>\n",
       "    <span style=\"color: #008000; text-decoration-color: #008000\">'filename'</span>: <span style=\"color: #008000; text-decoration-color: #008000\">'rfeye002283-PAA_210412_T183800.bin'</span>,\n",
       "    <span style=\"color: #008000; text-decoration-color: #008000\">'file_version'</span>: <span style=\"color: #008080; text-decoration-color: #008080; font-weight: bold\">23</span>,\n",
       "    <span style=\"color: #008000; text-decoration-color: #008000\">'string'</span>: <span style=\"color: #008000; text-decoration-color: #008000\">'CRFS DATA FILE V023'</span>,\n",
       "    <span style=\"color: #008000; text-decoration-color: #008000\">'hostname'</span>: <span style=\"color: #008000; text-decoration-color: #008000\">'rfeye002283-PAA'</span>,\n",
       "    <span style=\"color: #008000; text-decoration-color: #008000\">'method'</span>: <span style=\"color: #008000; text-decoration-color: #008000\">'ScriptRFeye2021_v.1'</span>,\n",
       "    <span style=\"color: #008000; text-decoration-color: #008000\">'unit_info'</span>: <span style=\"color: #008000; text-decoration-color: #008000\">'Stationary'</span>,\n",
       "    <span style=\"color: #008000; text-decoration-color: #008000\">'file_number'</span>: <span style=\"color: #008080; text-decoration-color: #008080; font-weight: bold\">0</span>,\n",
       "    <span style=\"color: #008000; text-decoration-color: #008000\">'identifier'</span>: <span style=\"color: #008000; text-decoration-color: #008000\">'INFO'</span>,\n",
       "    <span style=\"color: #008000; text-decoration-color: #008000\">'gps'</span>: GPS Data - Median of Coordinates: <span style=\"color: #008080; text-decoration-color: #008080; font-weight: bold\">-22.70005</span>:<span style=\"color: #008080; text-decoration-color: #008080; font-weight: bold\">-47.66686</span>, Altitude: <span style=\"color: #008080; text-decoration-color: #008080; font-weight: bold\">522.10</span> \n",
       "#Satellites: <span style=\"color: #008080; text-decoration-color: #008080; font-weight: bold\">11.0</span> ,\n",
       "    <span style=\"color: #008000; text-decoration-color: #008000\">'spectrum'</span>: <span style=\"font-weight: bold\">[</span><span style=\"color: #800080; text-decoration-color: #800080; font-weight: bold\">SpecData</span><span style=\"font-weight: bold\">(</span><span style=\"color: #808000; text-decoration-color: #808000\">type</span>=<span style=\"color: #008080; text-decoration-color: #008080; font-weight: bold\">67</span>, <span style=\"color: #808000; text-decoration-color: #808000\">thread_id</span>=<span style=\"color: #008080; text-decoration-color: #008080; font-weight: bold\">50</span>, <span style=\"color: #808000; text-decoration-color: #808000\">description</span>=<span style=\"color: #008000; text-decoration-color: #008000\">'PMEC 2021 (Faixa 1 de 10).'</span>, \n",
       "<span style=\"color: #808000; text-decoration-color: #808000\">start_mega</span>=<span style=\"color: #008080; text-decoration-color: #008080; font-weight: bold\">105.0</span>, <span style=\"color: #808000; text-decoration-color: #808000\">stop_mega</span>=<span style=\"color: #008080; text-decoration-color: #008080; font-weight: bold\">140.0</span>, <span style=\"color: #808000; text-decoration-color: #808000\">unit</span>=<span style=\"color: #008000; text-decoration-color: #008000\">'dBm'</span>, <span style=\"color: #808000; text-decoration-color: #808000\">ndata</span>=<span style=\"color: #008080; text-decoration-color: #008080; font-weight: bold\">3584</span>, <span style=\"color: #808000; text-decoration-color: #808000\">bw</span>=<span style=\"color: #008080; text-decoration-color: #008080; font-weight: bold\">18457</span>, <span style=\"color: #808000; text-decoration-color: #808000\">processing</span>=<span style=\"color: #008000; text-decoration-color: #008000\">'peak'</span>, \n",
       "<span style=\"color: #808000; text-decoration-color: #808000\">antenna_id</span>=<span style=\"color: #008080; text-decoration-color: #008080; font-weight: bold\">0</span>, <span style=\"color: #808000; text-decoration-color: #808000\">thresh</span>=<span style=\"color: #008080; text-decoration-color: #008080; font-weight: bold\">-147.5</span>, <span style=\"color: #808000; text-decoration-color: #808000\">minimum</span>=<span style=\"color: #008080; text-decoration-color: #008080; font-weight: bold\">-147.5</span><span style=\"font-weight: bold\">)</span>, <span style=\"color: #800080; text-decoration-color: #800080; font-weight: bold\">SpecData</span><span style=\"font-weight: bold\">(</span><span style=\"color: #808000; text-decoration-color: #808000\">type</span>=<span style=\"color: #008080; text-decoration-color: #008080; font-weight: bold\">67</span>, <span style=\"color: #808000; text-decoration-color: #808000\">thread_id</span>=<span style=\"color: #008080; text-decoration-color: #008080; font-weight: bold\">60</span>, \n",
       "<span style=\"color: #808000; text-decoration-color: #808000\">description</span>=<span style=\"color: #008000; text-decoration-color: #008000\">'PMEC 2021 (Faixa 2 de 10).'</span>, <span style=\"color: #808000; text-decoration-color: #808000\">start_mega</span>=<span style=\"color: #008080; text-decoration-color: #008080; font-weight: bold\">155.0</span>, <span style=\"color: #808000; text-decoration-color: #808000\">stop_mega</span>=<span style=\"color: #008080; text-decoration-color: #008080; font-weight: bold\">165.0</span>, <span style=\"color: #808000; text-decoration-color: #808000\">unit</span>=<span style=\"color: #008000; text-decoration-color: #008000\">'dBm'</span>, \n",
       "<span style=\"color: #808000; text-decoration-color: #808000\">ndata</span>=<span style=\"color: #008080; text-decoration-color: #008080; font-weight: bold\">1024</span>, <span style=\"color: #808000; text-decoration-color: #808000\">bw</span>=<span style=\"color: #008080; text-decoration-color: #008080; font-weight: bold\">18457</span>, <span style=\"color: #808000; text-decoration-color: #808000\">processing</span>=<span style=\"color: #008000; text-decoration-color: #008000\">'peak'</span>, <span style=\"color: #808000; text-decoration-color: #808000\">antenna_id</span>=<span style=\"color: #008080; text-decoration-color: #008080; font-weight: bold\">0</span>, <span style=\"color: #808000; text-decoration-color: #808000\">thresh</span>=<span style=\"color: #008080; text-decoration-color: #008080; font-weight: bold\">-147.5</span>, <span style=\"color: #808000; text-decoration-color: #808000\">minimum</span>=<span style=\"color: #008080; text-decoration-color: #008080; font-weight: bold\">-147.5</span><span style=\"font-weight: bold\">)</span>, \n",
       "<span style=\"color: #800080; text-decoration-color: #800080; font-weight: bold\">SpecData</span><span style=\"font-weight: bold\">(</span><span style=\"color: #808000; text-decoration-color: #808000\">type</span>=<span style=\"color: #008080; text-decoration-color: #008080; font-weight: bold\">67</span>, <span style=\"color: #808000; text-decoration-color: #808000\">thread_id</span>=<span style=\"color: #008080; text-decoration-color: #008080; font-weight: bold\">70</span>, <span style=\"color: #808000; text-decoration-color: #808000\">description</span>=<span style=\"color: #008000; text-decoration-color: #008000\">'PMEC 2021 (Faixa 3 de 10).'</span>, <span style=\"color: #808000; text-decoration-color: #808000\">start_mega</span>=<span style=\"color: #008080; text-decoration-color: #008080; font-weight: bold\">320.0</span>, \n",
       "<span style=\"color: #808000; text-decoration-color: #808000\">stop_mega</span>=<span style=\"color: #008080; text-decoration-color: #008080; font-weight: bold\">340.0</span>, <span style=\"color: #808000; text-decoration-color: #808000\">unit</span>=<span style=\"color: #008000; text-decoration-color: #008000\">'dBm'</span>, <span style=\"color: #808000; text-decoration-color: #808000\">ndata</span>=<span style=\"color: #008080; text-decoration-color: #008080; font-weight: bold\">512</span>, <span style=\"color: #808000; text-decoration-color: #808000\">bw</span>=<span style=\"color: #008080; text-decoration-color: #008080; font-weight: bold\">73828</span>, <span style=\"color: #808000; text-decoration-color: #808000\">processing</span>=<span style=\"color: #008000; text-decoration-color: #008000\">'peak'</span>, <span style=\"color: #808000; text-decoration-color: #808000\">antenna_id</span>=<span style=\"color: #008080; text-decoration-color: #008080; font-weight: bold\">0</span>, \n",
       "<span style=\"color: #808000; text-decoration-color: #808000\">thresh</span>=<span style=\"color: #008080; text-decoration-color: #008080; font-weight: bold\">-147.5</span>, <span style=\"color: #808000; text-decoration-color: #808000\">minimum</span>=<span style=\"color: #008080; text-decoration-color: #008080; font-weight: bold\">-147.5</span><span style=\"font-weight: bold\">)</span>, <span style=\"color: #800080; text-decoration-color: #800080; font-weight: bold\">SpecData</span><span style=\"font-weight: bold\">(</span><span style=\"color: #808000; text-decoration-color: #808000\">type</span>=<span style=\"color: #008080; text-decoration-color: #008080; font-weight: bold\">67</span>, <span style=\"color: #808000; text-decoration-color: #808000\">thread_id</span>=<span style=\"color: #008080; text-decoration-color: #008080; font-weight: bold\">80</span>, <span style=\"color: #808000; text-decoration-color: #808000\">description</span>=<span style=\"color: #008000; text-decoration-color: #008000\">'PMEC 2021 (Faixa</span>\n",
       "<span style=\"color: #008000; text-decoration-color: #008000\">4 de 10).'</span>, <span style=\"color: #808000; text-decoration-color: #808000\">start_mega</span>=<span style=\"color: #008080; text-decoration-color: #008080; font-weight: bold\">400.0</span>, <span style=\"color: #808000; text-decoration-color: #808000\">stop_mega</span>=<span style=\"color: #008080; text-decoration-color: #008080; font-weight: bold\">410.0</span>, <span style=\"color: #808000; text-decoration-color: #808000\">unit</span>=<span style=\"color: #008000; text-decoration-color: #008000\">'dBm'</span>, <span style=\"color: #808000; text-decoration-color: #808000\">ndata</span>=<span style=\"color: #008080; text-decoration-color: #008080; font-weight: bold\">256</span>, <span style=\"color: #808000; text-decoration-color: #808000\">bw</span>=<span style=\"color: #008080; text-decoration-color: #008080; font-weight: bold\">73828</span>, \n",
       "<span style=\"color: #808000; text-decoration-color: #808000\">processing</span>=<span style=\"color: #008000; text-decoration-color: #008000\">'peak'</span>, <span style=\"color: #808000; text-decoration-color: #808000\">antenna_id</span>=<span style=\"color: #008080; text-decoration-color: #008080; font-weight: bold\">0</span>, <span style=\"color: #808000; text-decoration-color: #808000\">thresh</span>=<span style=\"color: #008080; text-decoration-color: #008080; font-weight: bold\">-147.5</span>, <span style=\"color: #808000; text-decoration-color: #808000\">minimum</span>=<span style=\"color: #008080; text-decoration-color: #008080; font-weight: bold\">-147.5</span><span style=\"font-weight: bold\">)</span>, <span style=\"color: #800080; text-decoration-color: #800080; font-weight: bold\">SpecData</span><span style=\"font-weight: bold\">(</span><span style=\"color: #808000; text-decoration-color: #808000\">type</span>=<span style=\"color: #008080; text-decoration-color: #008080; font-weight: bold\">67</span>, \n",
       "<span style=\"color: #808000; text-decoration-color: #808000\">thread_id</span>=<span style=\"color: #008080; text-decoration-color: #008080; font-weight: bold\">90</span>, <span style=\"color: #808000; text-decoration-color: #808000\">description</span>=<span style=\"color: #008000; text-decoration-color: #008000\">'PMEC 2021 (Faixa 5 de 10).'</span>, <span style=\"color: #808000; text-decoration-color: #808000\">start_mega</span>=<span style=\"color: #008080; text-decoration-color: #008080; font-weight: bold\">960.0</span>, \n",
       "<span style=\"color: #808000; text-decoration-color: #808000\">stop_mega</span>=<span style=\"color: #008080; text-decoration-color: #008080; font-weight: bold\">1001218.999</span>, <span style=\"color: #808000; text-decoration-color: #808000\">unit</span>=<span style=\"color: #008000; text-decoration-color: #008000\">'dBm'</span>, <span style=\"color: #808000; text-decoration-color: #808000\">ndata</span>=<span style=\"color: #008080; text-decoration-color: #008080; font-weight: bold\">6656</span>, <span style=\"color: #808000; text-decoration-color: #808000\">bw</span>=<span style=\"color: #008080; text-decoration-color: #008080; font-weight: bold\">73828</span>, <span style=\"color: #808000; text-decoration-color: #808000\">processing</span>=<span style=\"color: #008000; text-decoration-color: #008000\">'peak'</span>, <span style=\"color: #808000; text-decoration-color: #808000\">antenna_id</span>=<span style=\"color: #008080; text-decoration-color: #008080; font-weight: bold\">0</span>, \n",
       "<span style=\"color: #808000; text-decoration-color: #808000\">thresh</span>=<span style=\"color: #008080; text-decoration-color: #008080; font-weight: bold\">-147.5</span>, <span style=\"color: #808000; text-decoration-color: #808000\">minimum</span>=<span style=\"color: #008080; text-decoration-color: #008080; font-weight: bold\">-147.5</span><span style=\"font-weight: bold\">)</span>, <span style=\"color: #800080; text-decoration-color: #800080; font-weight: bold\">SpecData</span><span style=\"font-weight: bold\">(</span><span style=\"color: #808000; text-decoration-color: #808000\">type</span>=<span style=\"color: #008080; text-decoration-color: #008080; font-weight: bold\">67</span>, <span style=\"color: #808000; text-decoration-color: #808000\">thread_id</span>=<span style=\"color: #008080; text-decoration-color: #008080; font-weight: bold\">100</span>, <span style=\"color: #808000; text-decoration-color: #808000\">description</span>=<span style=\"color: #008000; text-decoration-color: #008000\">'PMEC 2021 </span>\n",
       "<span style=\"color: #008000; text-decoration-color: #008000\">(Faixa 6 de 10).'</span>, <span style=\"color: #808000; text-decoration-color: #808000\">start_mega</span>=<span style=\"color: #008080; text-decoration-color: #008080; font-weight: bold\">1001388.999</span>, <span style=\"color: #808000; text-decoration-color: #808000\">stop_mega</span>=<span style=\"color: #008080; text-decoration-color: #008080; font-weight: bold\">1001428.999</span>, <span style=\"color: #808000; text-decoration-color: #808000\">unit</span>=<span style=\"color: #008000; text-decoration-color: #008000\">'dBm'</span>, <span style=\"color: #808000; text-decoration-color: #808000\">ndata</span>=<span style=\"color: #008080; text-decoration-color: #008080; font-weight: bold\">1280</span>, \n",
       "<span style=\"color: #808000; text-decoration-color: #808000\">bw</span>=<span style=\"color: #008080; text-decoration-color: #008080; font-weight: bold\">73828</span>, <span style=\"color: #808000; text-decoration-color: #808000\">processing</span>=<span style=\"color: #008000; text-decoration-color: #008000\">'peak'</span>, <span style=\"color: #808000; text-decoration-color: #808000\">antenna_id</span>=<span style=\"color: #008080; text-decoration-color: #008080; font-weight: bold\">0</span>, <span style=\"color: #808000; text-decoration-color: #808000\">thresh</span>=<span style=\"color: #008080; text-decoration-color: #008080; font-weight: bold\">-147.5</span>, <span style=\"color: #808000; text-decoration-color: #808000\">minimum</span>=<span style=\"color: #008080; text-decoration-color: #008080; font-weight: bold\">-147.5</span><span style=\"font-weight: bold\">)</span>, <span style=\"color: #800080; text-decoration-color: #800080; font-weight: bold\">SpecData</span><span style=\"font-weight: bold\">(</span><span style=\"color: #808000; text-decoration-color: #808000\">type</span>=<span style=\"color: #008080; text-decoration-color: #008080; font-weight: bold\">67</span>, \n",
       "<span style=\"color: #808000; text-decoration-color: #808000\">thread_id</span>=<span style=\"color: #008080; text-decoration-color: #008080; font-weight: bold\">110</span>, <span style=\"color: #808000; text-decoration-color: #808000\">description</span>=<span style=\"color: #008000; text-decoration-color: #008000\">'PMEC 2021 (Faixa 7 de 10).'</span>, <span style=\"color: #808000; text-decoration-color: #808000\">start_mega</span>=<span style=\"color: #008080; text-decoration-color: #008080; font-weight: bold\">1530.0</span>, \n",
       "<span style=\"color: #808000; text-decoration-color: #808000\">stop_mega</span>=<span style=\"color: #008080; text-decoration-color: #008080; font-weight: bold\">1001648.999</span>, <span style=\"color: #808000; text-decoration-color: #808000\">unit</span>=<span style=\"color: #008000; text-decoration-color: #008000\">'dBm'</span>, <span style=\"color: #808000; text-decoration-color: #808000\">ndata</span>=<span style=\"color: #008080; text-decoration-color: #008080; font-weight: bold\">3072</span>, <span style=\"color: #808000; text-decoration-color: #808000\">bw</span>=<span style=\"color: #008080; text-decoration-color: #008080; font-weight: bold\">73828</span>, <span style=\"color: #808000; text-decoration-color: #808000\">processing</span>=<span style=\"color: #008000; text-decoration-color: #008000\">'peak'</span>, <span style=\"color: #808000; text-decoration-color: #808000\">antenna_id</span>=<span style=\"color: #008080; text-decoration-color: #008080; font-weight: bold\">0</span>, \n",
       "<span style=\"color: #808000; text-decoration-color: #808000\">thresh</span>=<span style=\"color: #008080; text-decoration-color: #008080; font-weight: bold\">-147.5</span>, <span style=\"color: #808000; text-decoration-color: #808000\">minimum</span>=<span style=\"color: #008080; text-decoration-color: #008080; font-weight: bold\">-147.5</span><span style=\"font-weight: bold\">)</span>, <span style=\"color: #800080; text-decoration-color: #800080; font-weight: bold\">SpecData</span><span style=\"font-weight: bold\">(</span><span style=\"color: #808000; text-decoration-color: #808000\">type</span>=<span style=\"color: #008080; text-decoration-color: #008080; font-weight: bold\">67</span>, <span style=\"color: #808000; text-decoration-color: #808000\">thread_id</span>=<span style=\"color: #008080; text-decoration-color: #008080; font-weight: bold\">130</span>, <span style=\"color: #808000; text-decoration-color: #808000\">description</span>=<span style=\"color: #008000; text-decoration-color: #008000\">'PMEC 2021 </span>\n",
       "<span style=\"color: #008000; text-decoration-color: #008000\">(Faixa 9 de 10).'</span>, <span style=\"color: #808000; text-decoration-color: #808000\">start_mega</span>=<span style=\"color: #008080; text-decoration-color: #008080; font-weight: bold\">5000.0</span>, <span style=\"color: #808000; text-decoration-color: #808000\">stop_mega</span>=<span style=\"color: #008080; text-decoration-color: #008080; font-weight: bold\">5160.0</span>, <span style=\"color: #808000; text-decoration-color: #808000\">unit</span>=<span style=\"color: #008000; text-decoration-color: #008000\">'dBm'</span>, <span style=\"color: #808000; text-decoration-color: #808000\">ndata</span>=<span style=\"color: #008080; text-decoration-color: #008080; font-weight: bold\">4096</span>, <span style=\"color: #808000; text-decoration-color: #808000\">bw</span>=<span style=\"color: #008080; text-decoration-color: #008080; font-weight: bold\">73828</span>, \n",
       "<span style=\"color: #808000; text-decoration-color: #808000\">processing</span>=<span style=\"color: #008000; text-decoration-color: #008000\">'peak'</span>, <span style=\"color: #808000; text-decoration-color: #808000\">antenna_id</span>=<span style=\"color: #008080; text-decoration-color: #008080; font-weight: bold\">0</span>, <span style=\"color: #808000; text-decoration-color: #808000\">thresh</span>=<span style=\"color: #008080; text-decoration-color: #008080; font-weight: bold\">-147.5</span>, <span style=\"color: #808000; text-decoration-color: #808000\">minimum</span>=<span style=\"color: #008080; text-decoration-color: #008080; font-weight: bold\">-147.5</span><span style=\"font-weight: bold\">)</span>, <span style=\"color: #800080; text-decoration-color: #800080; font-weight: bold\">SpecData</span><span style=\"font-weight: bold\">(</span><span style=\"color: #808000; text-decoration-color: #808000\">type</span>=<span style=\"color: #008080; text-decoration-color: #008080; font-weight: bold\">67</span>, \n",
       "<span style=\"color: #808000; text-decoration-color: #808000\">thread_id</span>=<span style=\"color: #008080; text-decoration-color: #008080; font-weight: bold\">140</span>, <span style=\"color: #808000; text-decoration-color: #808000\">description</span>=<span style=\"color: #008000; text-decoration-color: #008000\">'PMEC 2021 (Faixa 10 de 10).'</span>, <span style=\"color: #808000; text-decoration-color: #808000\">start_mega</span>=<span style=\"color: #008080; text-decoration-color: #008080; font-weight: bold\">1005338.999</span>, \n",
       "<span style=\"color: #808000; text-decoration-color: #808000\">stop_mega</span>=<span style=\"color: #008080; text-decoration-color: #008080; font-weight: bold\">1005458.999</span>, <span style=\"color: #808000; text-decoration-color: #808000\">unit</span>=<span style=\"color: #008000; text-decoration-color: #008000\">'dBm'</span>, <span style=\"color: #808000; text-decoration-color: #808000\">ndata</span>=<span style=\"color: #008080; text-decoration-color: #008080; font-weight: bold\">3328</span>, <span style=\"color: #808000; text-decoration-color: #808000\">bw</span>=<span style=\"color: #008080; text-decoration-color: #008080; font-weight: bold\">73828</span>, <span style=\"color: #808000; text-decoration-color: #808000\">processing</span>=<span style=\"color: #008000; text-decoration-color: #008000\">'peak'</span>, <span style=\"color: #808000; text-decoration-color: #808000\">antenna_id</span>=<span style=\"color: #008080; text-decoration-color: #008080; font-weight: bold\">0</span>, \n",
       "<span style=\"color: #808000; text-decoration-color: #808000\">thresh</span>=<span style=\"color: #008080; text-decoration-color: #008080; font-weight: bold\">-147.5</span>, <span style=\"color: #808000; text-decoration-color: #808000\">minimum</span>=<span style=\"color: #008080; text-decoration-color: #008080; font-weight: bold\">-147.5</span><span style=\"font-weight: bold\">)</span>, <span style=\"color: #800080; text-decoration-color: #800080; font-weight: bold\">SpecData</span><span style=\"font-weight: bold\">(</span><span style=\"color: #808000; text-decoration-color: #808000\">type</span>=<span style=\"color: #008080; text-decoration-color: #008080; font-weight: bold\">67</span>, <span style=\"color: #808000; text-decoration-color: #808000\">thread_id</span>=<span style=\"color: #008080; text-decoration-color: #008080; font-weight: bold\">10</span>, <span style=\"color: #808000; text-decoration-color: #808000\">description</span>=<span style=\"color: #008000; text-decoration-color: #008000\">'PRD 2021 (Faixa </span>\n",
       "<span style=\"color: #008000; text-decoration-color: #008000\">1 de 4).'</span>, <span style=\"color: #808000; text-decoration-color: #808000\">start_mega</span>=<span style=\"color: #008080; text-decoration-color: #008080; font-weight: bold\">50.0</span>, <span style=\"color: #808000; text-decoration-color: #808000\">stop_mega</span>=<span style=\"color: #008080; text-decoration-color: #008080; font-weight: bold\">90.0</span>, <span style=\"color: #808000; text-decoration-color: #808000\">unit</span>=<span style=\"color: #008000; text-decoration-color: #008000\">'dBμV/m'</span>, <span style=\"color: #808000; text-decoration-color: #808000\">ndata</span>=<span style=\"color: #008080; text-decoration-color: #008080; font-weight: bold\">1024</span>, <span style=\"color: #808000; text-decoration-color: #808000\">bw</span>=<span style=\"color: #008080; text-decoration-color: #008080; font-weight: bold\">73828</span>, \n",
       "<span style=\"color: #808000; text-decoration-color: #808000\">processing</span>=<span style=\"color: #008000; text-decoration-color: #008000\">'peak'</span>, <span style=\"color: #808000; text-decoration-color: #808000\">antenna_id</span>=<span style=\"color: #008080; text-decoration-color: #008080; font-weight: bold\">0</span>, <span style=\"color: #808000; text-decoration-color: #808000\">thresh</span>=<span style=\"color: #008080; text-decoration-color: #008080; font-weight: bold\">-48.5</span>, <span style=\"color: #808000; text-decoration-color: #808000\">minimum</span>=<span style=\"color: #008080; text-decoration-color: #008080; font-weight: bold\">-48.5</span><span style=\"font-weight: bold\">)</span>, <span style=\"color: #800080; text-decoration-color: #800080; font-weight: bold\">SpecData</span><span style=\"font-weight: bold\">(</span><span style=\"color: #808000; text-decoration-color: #808000\">type</span>=<span style=\"color: #008080; text-decoration-color: #008080; font-weight: bold\">67</span>, \n",
       "<span style=\"color: #808000; text-decoration-color: #808000\">thread_id</span>=<span style=\"color: #008080; text-decoration-color: #008080; font-weight: bold\">20</span>, <span style=\"color: #808000; text-decoration-color: #808000\">description</span>=<span style=\"color: #008000; text-decoration-color: #008000\">'PRD 2021 (Faixa 2 de 4).'</span>, <span style=\"color: #808000; text-decoration-color: #808000\">start_mega</span>=<span style=\"color: #008080; text-decoration-color: #008080; font-weight: bold\">70.0</span>, <span style=\"color: #808000; text-decoration-color: #808000\">stop_mega</span>=<span style=\"color: #008080; text-decoration-color: #008080; font-weight: bold\">110.0</span>, \n",
       "<span style=\"color: #808000; text-decoration-color: #808000\">unit</span>=<span style=\"color: #008000; text-decoration-color: #008000\">'dBμV/m'</span>, <span style=\"color: #808000; text-decoration-color: #808000\">ndata</span>=<span style=\"color: #008080; text-decoration-color: #008080; font-weight: bold\">1024</span>, <span style=\"color: #808000; text-decoration-color: #808000\">bw</span>=<span style=\"color: #008080; text-decoration-color: #008080; font-weight: bold\">73828</span>, <span style=\"color: #808000; text-decoration-color: #808000\">processing</span>=<span style=\"color: #008000; text-decoration-color: #008000\">'peak'</span>, <span style=\"color: #808000; text-decoration-color: #808000\">antenna_id</span>=<span style=\"color: #008080; text-decoration-color: #008080; font-weight: bold\">0</span>, <span style=\"color: #808000; text-decoration-color: #808000\">thresh</span>=<span style=\"color: #008080; text-decoration-color: #008080; font-weight: bold\">-38.5</span>, \n",
       "<span style=\"color: #808000; text-decoration-color: #808000\">minimum</span>=<span style=\"color: #008080; text-decoration-color: #008080; font-weight: bold\">-38.5</span><span style=\"font-weight: bold\">)</span>, <span style=\"color: #800080; text-decoration-color: #800080; font-weight: bold\">SpecData</span><span style=\"font-weight: bold\">(</span><span style=\"color: #808000; text-decoration-color: #808000\">type</span>=<span style=\"color: #008080; text-decoration-color: #008080; font-weight: bold\">67</span>, <span style=\"color: #808000; text-decoration-color: #808000\">thread_id</span>=<span style=\"color: #008080; text-decoration-color: #008080; font-weight: bold\">30</span>, <span style=\"color: #808000; text-decoration-color: #808000\">description</span>=<span style=\"color: #008000; text-decoration-color: #008000\">'PRD 2021 (Faixa 3 de 4).'</span>, \n",
       "<span style=\"color: #808000; text-decoration-color: #808000\">start_mega</span>=<span style=\"color: #008080; text-decoration-color: #008080; font-weight: bold\">170.0</span>, <span style=\"color: #808000; text-decoration-color: #808000\">stop_mega</span>=<span style=\"color: #008080; text-decoration-color: #008080; font-weight: bold\">220.0</span>, <span style=\"color: #808000; text-decoration-color: #808000\">unit</span>=<span style=\"color: #008000; text-decoration-color: #008000\">'dBμV/m'</span>, <span style=\"color: #808000; text-decoration-color: #808000\">ndata</span>=<span style=\"color: #008080; text-decoration-color: #008080; font-weight: bold\">1280</span>, <span style=\"color: #808000; text-decoration-color: #808000\">bw</span>=<span style=\"color: #008080; text-decoration-color: #008080; font-weight: bold\">73828</span>, <span style=\"color: #808000; text-decoration-color: #808000\">processing</span>=<span style=\"color: #008000; text-decoration-color: #008000\">'peak'</span>, \n",
       "<span style=\"color: #808000; text-decoration-color: #808000\">antenna_id</span>=<span style=\"color: #008080; text-decoration-color: #008080; font-weight: bold\">0</span>, <span style=\"color: #808000; text-decoration-color: #808000\">thresh</span>=<span style=\"color: #008080; text-decoration-color: #008080; font-weight: bold\">-59.5</span>, <span style=\"color: #808000; text-decoration-color: #808000\">minimum</span>=<span style=\"color: #008080; text-decoration-color: #008080; font-weight: bold\">-59.5</span><span style=\"font-weight: bold\">)</span>, <span style=\"color: #800080; text-decoration-color: #800080; font-weight: bold\">SpecData</span><span style=\"font-weight: bold\">(</span><span style=\"color: #808000; text-decoration-color: #808000\">type</span>=<span style=\"color: #008080; text-decoration-color: #008080; font-weight: bold\">67</span>, <span style=\"color: #808000; text-decoration-color: #808000\">thread_id</span>=<span style=\"color: #008080; text-decoration-color: #008080; font-weight: bold\">40</span>, <span style=\"color: #808000; text-decoration-color: #808000\">description</span>=<span style=\"color: #008000; text-decoration-color: #008000\">'PRD </span>\n",
       "<span style=\"color: #008000; text-decoration-color: #008000\">2021 (Faixa 4 de 4).'</span>, <span style=\"color: #808000; text-decoration-color: #808000\">start_mega</span>=<span style=\"color: #008080; text-decoration-color: #008080; font-weight: bold\">470.0</span>, <span style=\"color: #808000; text-decoration-color: #808000\">stop_mega</span>=<span style=\"color: #008080; text-decoration-color: #008080; font-weight: bold\">700.0</span>, <span style=\"color: #808000; text-decoration-color: #808000\">unit</span>=<span style=\"color: #008000; text-decoration-color: #008000\">'dBμV/m'</span>, <span style=\"color: #808000; text-decoration-color: #808000\">ndata</span>=<span style=\"color: #008080; text-decoration-color: #008080; font-weight: bold\">5888</span>, \n",
       "<span style=\"color: #808000; text-decoration-color: #808000\">bw</span>=<span style=\"color: #008080; text-decoration-color: #008080; font-weight: bold\">73828</span>, <span style=\"color: #808000; text-decoration-color: #808000\">processing</span>=<span style=\"color: #008000; text-decoration-color: #008000\">'peak'</span>, <span style=\"color: #808000; text-decoration-color: #808000\">antenna_id</span>=<span style=\"color: #008080; text-decoration-color: #008080; font-weight: bold\">0</span>, <span style=\"color: #808000; text-decoration-color: #808000\">thresh</span>=<span style=\"color: #008080; text-decoration-color: #008080; font-weight: bold\">-59.5</span>, <span style=\"color: #808000; text-decoration-color: #808000\">minimum</span>=<span style=\"color: #008080; text-decoration-color: #008080; font-weight: bold\">-59.5</span><span style=\"font-weight: bold\">)</span>, <span style=\"color: #800080; text-decoration-color: #800080; font-weight: bold\">SpecData</span><span style=\"font-weight: bold\">(</span><span style=\"color: #808000; text-decoration-color: #808000\">type</span>=<span style=\"color: #008080; text-decoration-color: #008080; font-weight: bold\">67</span>, \n",
       "<span style=\"color: #808000; text-decoration-color: #808000\">thread_id</span>=<span style=\"color: #008080; text-decoration-color: #008080; font-weight: bold\">120</span>, <span style=\"color: #808000; text-decoration-color: #808000\">description</span>=<span style=\"color: #008000; text-decoration-color: #008000\">'PMEC 2021 (Faixa 8 de 10).'</span>, <span style=\"color: #808000; text-decoration-color: #808000\">start_mega</span>=<span style=\"color: #008080; text-decoration-color: #008080; font-weight: bold\">2690.0</span>, \n",
       "<span style=\"color: #808000; text-decoration-color: #808000\">stop_mega</span>=<span style=\"color: #008080; text-decoration-color: #008080; font-weight: bold\">1002898.999</span>, <span style=\"color: #808000; text-decoration-color: #808000\">unit</span>=<span style=\"color: #008000; text-decoration-color: #008000\">'dBm'</span>, <span style=\"color: #808000; text-decoration-color: #808000\">ndata</span>=<span style=\"color: #008080; text-decoration-color: #008080; font-weight: bold\">5376</span>, <span style=\"color: #808000; text-decoration-color: #808000\">bw</span>=<span style=\"color: #008080; text-decoration-color: #008080; font-weight: bold\">73828</span>, <span style=\"color: #808000; text-decoration-color: #808000\">processing</span>=<span style=\"color: #008000; text-decoration-color: #008000\">'peak'</span>, <span style=\"color: #808000; text-decoration-color: #808000\">antenna_id</span>=<span style=\"color: #008080; text-decoration-color: #008080; font-weight: bold\">0</span>, \n",
       "<span style=\"color: #808000; text-decoration-color: #808000\">thresh</span>=<span style=\"color: #008080; text-decoration-color: #008080; font-weight: bold\">-147.5</span>, <span style=\"color: #808000; text-decoration-color: #808000\">minimum</span>=<span style=\"color: #008080; text-decoration-color: #008080; font-weight: bold\">-147.5</span><span style=\"font-weight: bold\">)]</span>\n",
       "<span style=\"font-weight: bold\">}</span>\n",
       "</pre>\n"
      ],
      "text/plain": [
       "\u001b[1m{\u001b[0m\n",
       "    \u001b[32m'filename'\u001b[0m: \u001b[32m'rfeye002283-PAA_210412_T183800.bin'\u001b[0m,\n",
       "    \u001b[32m'file_version'\u001b[0m: \u001b[1;36m23\u001b[0m,\n",
       "    \u001b[32m'string'\u001b[0m: \u001b[32m'CRFS DATA FILE V023'\u001b[0m,\n",
       "    \u001b[32m'hostname'\u001b[0m: \u001b[32m'rfeye002283-PAA'\u001b[0m,\n",
       "    \u001b[32m'method'\u001b[0m: \u001b[32m'ScriptRFeye2021_v.1'\u001b[0m,\n",
       "    \u001b[32m'unit_info'\u001b[0m: \u001b[32m'Stationary'\u001b[0m,\n",
       "    \u001b[32m'file_number'\u001b[0m: \u001b[1;36m0\u001b[0m,\n",
       "    \u001b[32m'identifier'\u001b[0m: \u001b[32m'INFO'\u001b[0m,\n",
       "    \u001b[32m'gps'\u001b[0m: GPS Data - Median of Coordinates: \u001b[1;36m-22.70005\u001b[0m:\u001b[1;36m-47.66686\u001b[0m, Altitude: \u001b[1;36m522.10\u001b[0m \n",
       "#Satellites: \u001b[1;36m11.0\u001b[0m ,\n",
       "    \u001b[32m'spectrum'\u001b[0m: \u001b[1m[\u001b[0m\u001b[1;35mSpecData\u001b[0m\u001b[1m(\u001b[0m\u001b[33mtype\u001b[0m=\u001b[1;36m67\u001b[0m, \u001b[33mthread_id\u001b[0m=\u001b[1;36m50\u001b[0m, \u001b[33mdescription\u001b[0m=\u001b[32m'PMEC 2021 \u001b[0m\u001b[32m(\u001b[0m\u001b[32mFaixa 1 de 10\u001b[0m\u001b[32m)\u001b[0m\u001b[32m.'\u001b[0m, \n",
       "\u001b[33mstart_mega\u001b[0m=\u001b[1;36m105\u001b[0m\u001b[1;36m.0\u001b[0m, \u001b[33mstop_mega\u001b[0m=\u001b[1;36m140\u001b[0m\u001b[1;36m.0\u001b[0m, \u001b[33munit\u001b[0m=\u001b[32m'dBm'\u001b[0m, \u001b[33mndata\u001b[0m=\u001b[1;36m3584\u001b[0m, \u001b[33mbw\u001b[0m=\u001b[1;36m18457\u001b[0m, \u001b[33mprocessing\u001b[0m=\u001b[32m'peak'\u001b[0m, \n",
       "\u001b[33mantenna_id\u001b[0m=\u001b[1;36m0\u001b[0m, \u001b[33mthresh\u001b[0m=\u001b[1;36m-147.5\u001b[0m, \u001b[33mminimum\u001b[0m=\u001b[1;36m-147.5\u001b[0m\u001b[1m)\u001b[0m, \u001b[1;35mSpecData\u001b[0m\u001b[1m(\u001b[0m\u001b[33mtype\u001b[0m=\u001b[1;36m67\u001b[0m, \u001b[33mthread_id\u001b[0m=\u001b[1;36m60\u001b[0m, \n",
       "\u001b[33mdescription\u001b[0m=\u001b[32m'PMEC 2021 \u001b[0m\u001b[32m(\u001b[0m\u001b[32mFaixa 2 de 10\u001b[0m\u001b[32m)\u001b[0m\u001b[32m.'\u001b[0m, \u001b[33mstart_mega\u001b[0m=\u001b[1;36m155\u001b[0m\u001b[1;36m.0\u001b[0m, \u001b[33mstop_mega\u001b[0m=\u001b[1;36m165\u001b[0m\u001b[1;36m.0\u001b[0m, \u001b[33munit\u001b[0m=\u001b[32m'dBm'\u001b[0m, \n",
       "\u001b[33mndata\u001b[0m=\u001b[1;36m1024\u001b[0m, \u001b[33mbw\u001b[0m=\u001b[1;36m18457\u001b[0m, \u001b[33mprocessing\u001b[0m=\u001b[32m'peak'\u001b[0m, \u001b[33mantenna_id\u001b[0m=\u001b[1;36m0\u001b[0m, \u001b[33mthresh\u001b[0m=\u001b[1;36m-147.5\u001b[0m, \u001b[33mminimum\u001b[0m=\u001b[1;36m-147.5\u001b[0m\u001b[1m)\u001b[0m, \n",
       "\u001b[1;35mSpecData\u001b[0m\u001b[1m(\u001b[0m\u001b[33mtype\u001b[0m=\u001b[1;36m67\u001b[0m, \u001b[33mthread_id\u001b[0m=\u001b[1;36m70\u001b[0m, \u001b[33mdescription\u001b[0m=\u001b[32m'PMEC 2021 \u001b[0m\u001b[32m(\u001b[0m\u001b[32mFaixa 3 de 10\u001b[0m\u001b[32m)\u001b[0m\u001b[32m.'\u001b[0m, \u001b[33mstart_mega\u001b[0m=\u001b[1;36m320\u001b[0m\u001b[1;36m.0\u001b[0m, \n",
       "\u001b[33mstop_mega\u001b[0m=\u001b[1;36m340\u001b[0m\u001b[1;36m.0\u001b[0m, \u001b[33munit\u001b[0m=\u001b[32m'dBm'\u001b[0m, \u001b[33mndata\u001b[0m=\u001b[1;36m512\u001b[0m, \u001b[33mbw\u001b[0m=\u001b[1;36m73828\u001b[0m, \u001b[33mprocessing\u001b[0m=\u001b[32m'peak'\u001b[0m, \u001b[33mantenna_id\u001b[0m=\u001b[1;36m0\u001b[0m, \n",
       "\u001b[33mthresh\u001b[0m=\u001b[1;36m-147.5\u001b[0m, \u001b[33mminimum\u001b[0m=\u001b[1;36m-147.5\u001b[0m\u001b[1m)\u001b[0m, \u001b[1;35mSpecData\u001b[0m\u001b[1m(\u001b[0m\u001b[33mtype\u001b[0m=\u001b[1;36m67\u001b[0m, \u001b[33mthread_id\u001b[0m=\u001b[1;36m80\u001b[0m, \u001b[33mdescription\u001b[0m=\u001b[32m'PMEC 2021 \u001b[0m\u001b[32m(\u001b[0m\u001b[32mFaixa\u001b[0m\n",
       "\u001b[32m4 de 10\u001b[0m\u001b[32m)\u001b[0m\u001b[32m.'\u001b[0m, \u001b[33mstart_mega\u001b[0m=\u001b[1;36m400\u001b[0m\u001b[1;36m.0\u001b[0m, \u001b[33mstop_mega\u001b[0m=\u001b[1;36m410\u001b[0m\u001b[1;36m.0\u001b[0m, \u001b[33munit\u001b[0m=\u001b[32m'dBm'\u001b[0m, \u001b[33mndata\u001b[0m=\u001b[1;36m256\u001b[0m, \u001b[33mbw\u001b[0m=\u001b[1;36m73828\u001b[0m, \n",
       "\u001b[33mprocessing\u001b[0m=\u001b[32m'peak'\u001b[0m, \u001b[33mantenna_id\u001b[0m=\u001b[1;36m0\u001b[0m, \u001b[33mthresh\u001b[0m=\u001b[1;36m-147.5\u001b[0m, \u001b[33mminimum\u001b[0m=\u001b[1;36m-147.5\u001b[0m\u001b[1m)\u001b[0m, \u001b[1;35mSpecData\u001b[0m\u001b[1m(\u001b[0m\u001b[33mtype\u001b[0m=\u001b[1;36m67\u001b[0m, \n",
       "\u001b[33mthread_id\u001b[0m=\u001b[1;36m90\u001b[0m, \u001b[33mdescription\u001b[0m=\u001b[32m'PMEC 2021 \u001b[0m\u001b[32m(\u001b[0m\u001b[32mFaixa 5 de 10\u001b[0m\u001b[32m)\u001b[0m\u001b[32m.'\u001b[0m, \u001b[33mstart_mega\u001b[0m=\u001b[1;36m960\u001b[0m\u001b[1;36m.0\u001b[0m, \n",
       "\u001b[33mstop_mega\u001b[0m=\u001b[1;36m1001218\u001b[0m\u001b[1;36m.999\u001b[0m, \u001b[33munit\u001b[0m=\u001b[32m'dBm'\u001b[0m, \u001b[33mndata\u001b[0m=\u001b[1;36m6656\u001b[0m, \u001b[33mbw\u001b[0m=\u001b[1;36m73828\u001b[0m, \u001b[33mprocessing\u001b[0m=\u001b[32m'peak'\u001b[0m, \u001b[33mantenna_id\u001b[0m=\u001b[1;36m0\u001b[0m, \n",
       "\u001b[33mthresh\u001b[0m=\u001b[1;36m-147.5\u001b[0m, \u001b[33mminimum\u001b[0m=\u001b[1;36m-147.5\u001b[0m\u001b[1m)\u001b[0m, \u001b[1;35mSpecData\u001b[0m\u001b[1m(\u001b[0m\u001b[33mtype\u001b[0m=\u001b[1;36m67\u001b[0m, \u001b[33mthread_id\u001b[0m=\u001b[1;36m100\u001b[0m, \u001b[33mdescription\u001b[0m=\u001b[32m'PMEC 2021 \u001b[0m\n",
       "\u001b[32m(\u001b[0m\u001b[32mFaixa 6 de 10\u001b[0m\u001b[32m)\u001b[0m\u001b[32m.'\u001b[0m, \u001b[33mstart_mega\u001b[0m=\u001b[1;36m1001388\u001b[0m\u001b[1;36m.999\u001b[0m, \u001b[33mstop_mega\u001b[0m=\u001b[1;36m1001428\u001b[0m\u001b[1;36m.999\u001b[0m, \u001b[33munit\u001b[0m=\u001b[32m'dBm'\u001b[0m, \u001b[33mndata\u001b[0m=\u001b[1;36m1280\u001b[0m, \n",
       "\u001b[33mbw\u001b[0m=\u001b[1;36m73828\u001b[0m, \u001b[33mprocessing\u001b[0m=\u001b[32m'peak'\u001b[0m, \u001b[33mantenna_id\u001b[0m=\u001b[1;36m0\u001b[0m, \u001b[33mthresh\u001b[0m=\u001b[1;36m-147.5\u001b[0m, \u001b[33mminimum\u001b[0m=\u001b[1;36m-147.5\u001b[0m\u001b[1m)\u001b[0m, \u001b[1;35mSpecData\u001b[0m\u001b[1m(\u001b[0m\u001b[33mtype\u001b[0m=\u001b[1;36m67\u001b[0m, \n",
       "\u001b[33mthread_id\u001b[0m=\u001b[1;36m110\u001b[0m, \u001b[33mdescription\u001b[0m=\u001b[32m'PMEC 2021 \u001b[0m\u001b[32m(\u001b[0m\u001b[32mFaixa 7 de 10\u001b[0m\u001b[32m)\u001b[0m\u001b[32m.'\u001b[0m, \u001b[33mstart_mega\u001b[0m=\u001b[1;36m1530\u001b[0m\u001b[1;36m.0\u001b[0m, \n",
       "\u001b[33mstop_mega\u001b[0m=\u001b[1;36m1001648\u001b[0m\u001b[1;36m.999\u001b[0m, \u001b[33munit\u001b[0m=\u001b[32m'dBm'\u001b[0m, \u001b[33mndata\u001b[0m=\u001b[1;36m3072\u001b[0m, \u001b[33mbw\u001b[0m=\u001b[1;36m73828\u001b[0m, \u001b[33mprocessing\u001b[0m=\u001b[32m'peak'\u001b[0m, \u001b[33mantenna_id\u001b[0m=\u001b[1;36m0\u001b[0m, \n",
       "\u001b[33mthresh\u001b[0m=\u001b[1;36m-147.5\u001b[0m, \u001b[33mminimum\u001b[0m=\u001b[1;36m-147.5\u001b[0m\u001b[1m)\u001b[0m, \u001b[1;35mSpecData\u001b[0m\u001b[1m(\u001b[0m\u001b[33mtype\u001b[0m=\u001b[1;36m67\u001b[0m, \u001b[33mthread_id\u001b[0m=\u001b[1;36m130\u001b[0m, \u001b[33mdescription\u001b[0m=\u001b[32m'PMEC 2021 \u001b[0m\n",
       "\u001b[32m(\u001b[0m\u001b[32mFaixa 9 de 10\u001b[0m\u001b[32m)\u001b[0m\u001b[32m.'\u001b[0m, \u001b[33mstart_mega\u001b[0m=\u001b[1;36m5000\u001b[0m\u001b[1;36m.0\u001b[0m, \u001b[33mstop_mega\u001b[0m=\u001b[1;36m5160\u001b[0m\u001b[1;36m.0\u001b[0m, \u001b[33munit\u001b[0m=\u001b[32m'dBm'\u001b[0m, \u001b[33mndata\u001b[0m=\u001b[1;36m4096\u001b[0m, \u001b[33mbw\u001b[0m=\u001b[1;36m73828\u001b[0m, \n",
       "\u001b[33mprocessing\u001b[0m=\u001b[32m'peak'\u001b[0m, \u001b[33mantenna_id\u001b[0m=\u001b[1;36m0\u001b[0m, \u001b[33mthresh\u001b[0m=\u001b[1;36m-147.5\u001b[0m, \u001b[33mminimum\u001b[0m=\u001b[1;36m-147.5\u001b[0m\u001b[1m)\u001b[0m, \u001b[1;35mSpecData\u001b[0m\u001b[1m(\u001b[0m\u001b[33mtype\u001b[0m=\u001b[1;36m67\u001b[0m, \n",
       "\u001b[33mthread_id\u001b[0m=\u001b[1;36m140\u001b[0m, \u001b[33mdescription\u001b[0m=\u001b[32m'PMEC 2021 \u001b[0m\u001b[32m(\u001b[0m\u001b[32mFaixa 10 de 10\u001b[0m\u001b[32m)\u001b[0m\u001b[32m.'\u001b[0m, \u001b[33mstart_mega\u001b[0m=\u001b[1;36m1005338\u001b[0m\u001b[1;36m.999\u001b[0m, \n",
       "\u001b[33mstop_mega\u001b[0m=\u001b[1;36m1005458\u001b[0m\u001b[1;36m.999\u001b[0m, \u001b[33munit\u001b[0m=\u001b[32m'dBm'\u001b[0m, \u001b[33mndata\u001b[0m=\u001b[1;36m3328\u001b[0m, \u001b[33mbw\u001b[0m=\u001b[1;36m73828\u001b[0m, \u001b[33mprocessing\u001b[0m=\u001b[32m'peak'\u001b[0m, \u001b[33mantenna_id\u001b[0m=\u001b[1;36m0\u001b[0m, \n",
       "\u001b[33mthresh\u001b[0m=\u001b[1;36m-147.5\u001b[0m, \u001b[33mminimum\u001b[0m=\u001b[1;36m-147.5\u001b[0m\u001b[1m)\u001b[0m, \u001b[1;35mSpecData\u001b[0m\u001b[1m(\u001b[0m\u001b[33mtype\u001b[0m=\u001b[1;36m67\u001b[0m, \u001b[33mthread_id\u001b[0m=\u001b[1;36m10\u001b[0m, \u001b[33mdescription\u001b[0m=\u001b[32m'PRD 2021 \u001b[0m\u001b[32m(\u001b[0m\u001b[32mFaixa \u001b[0m\n",
       "\u001b[32m1 de 4\u001b[0m\u001b[32m)\u001b[0m\u001b[32m.'\u001b[0m, \u001b[33mstart_mega\u001b[0m=\u001b[1;36m50\u001b[0m\u001b[1;36m.0\u001b[0m, \u001b[33mstop_mega\u001b[0m=\u001b[1;36m90\u001b[0m\u001b[1;36m.0\u001b[0m, \u001b[33munit\u001b[0m=\u001b[32m'dBμV/m'\u001b[0m, \u001b[33mndata\u001b[0m=\u001b[1;36m1024\u001b[0m, \u001b[33mbw\u001b[0m=\u001b[1;36m73828\u001b[0m, \n",
       "\u001b[33mprocessing\u001b[0m=\u001b[32m'peak'\u001b[0m, \u001b[33mantenna_id\u001b[0m=\u001b[1;36m0\u001b[0m, \u001b[33mthresh\u001b[0m=\u001b[1;36m-48.5\u001b[0m, \u001b[33mminimum\u001b[0m=\u001b[1;36m-48.5\u001b[0m\u001b[1m)\u001b[0m, \u001b[1;35mSpecData\u001b[0m\u001b[1m(\u001b[0m\u001b[33mtype\u001b[0m=\u001b[1;36m67\u001b[0m, \n",
       "\u001b[33mthread_id\u001b[0m=\u001b[1;36m20\u001b[0m, \u001b[33mdescription\u001b[0m=\u001b[32m'PRD 2021 \u001b[0m\u001b[32m(\u001b[0m\u001b[32mFaixa 2 de 4\u001b[0m\u001b[32m)\u001b[0m\u001b[32m.'\u001b[0m, \u001b[33mstart_mega\u001b[0m=\u001b[1;36m70\u001b[0m\u001b[1;36m.0\u001b[0m, \u001b[33mstop_mega\u001b[0m=\u001b[1;36m110\u001b[0m\u001b[1;36m.0\u001b[0m, \n",
       "\u001b[33munit\u001b[0m=\u001b[32m'dBμV/m'\u001b[0m, \u001b[33mndata\u001b[0m=\u001b[1;36m1024\u001b[0m, \u001b[33mbw\u001b[0m=\u001b[1;36m73828\u001b[0m, \u001b[33mprocessing\u001b[0m=\u001b[32m'peak'\u001b[0m, \u001b[33mantenna_id\u001b[0m=\u001b[1;36m0\u001b[0m, \u001b[33mthresh\u001b[0m=\u001b[1;36m-38.5\u001b[0m, \n",
       "\u001b[33mminimum\u001b[0m=\u001b[1;36m-38.5\u001b[0m\u001b[1m)\u001b[0m, \u001b[1;35mSpecData\u001b[0m\u001b[1m(\u001b[0m\u001b[33mtype\u001b[0m=\u001b[1;36m67\u001b[0m, \u001b[33mthread_id\u001b[0m=\u001b[1;36m30\u001b[0m, \u001b[33mdescription\u001b[0m=\u001b[32m'PRD 2021 \u001b[0m\u001b[32m(\u001b[0m\u001b[32mFaixa 3 de 4\u001b[0m\u001b[32m)\u001b[0m\u001b[32m.'\u001b[0m, \n",
       "\u001b[33mstart_mega\u001b[0m=\u001b[1;36m170\u001b[0m\u001b[1;36m.0\u001b[0m, \u001b[33mstop_mega\u001b[0m=\u001b[1;36m220\u001b[0m\u001b[1;36m.0\u001b[0m, \u001b[33munit\u001b[0m=\u001b[32m'dBμV/m'\u001b[0m, \u001b[33mndata\u001b[0m=\u001b[1;36m1280\u001b[0m, \u001b[33mbw\u001b[0m=\u001b[1;36m73828\u001b[0m, \u001b[33mprocessing\u001b[0m=\u001b[32m'peak'\u001b[0m, \n",
       "\u001b[33mantenna_id\u001b[0m=\u001b[1;36m0\u001b[0m, \u001b[33mthresh\u001b[0m=\u001b[1;36m-59.5\u001b[0m, \u001b[33mminimum\u001b[0m=\u001b[1;36m-59.5\u001b[0m\u001b[1m)\u001b[0m, \u001b[1;35mSpecData\u001b[0m\u001b[1m(\u001b[0m\u001b[33mtype\u001b[0m=\u001b[1;36m67\u001b[0m, \u001b[33mthread_id\u001b[0m=\u001b[1;36m40\u001b[0m, \u001b[33mdescription\u001b[0m=\u001b[32m'PRD \u001b[0m\n",
       "\u001b[32m2021 \u001b[0m\u001b[32m(\u001b[0m\u001b[32mFaixa 4 de 4\u001b[0m\u001b[32m)\u001b[0m\u001b[32m.'\u001b[0m, \u001b[33mstart_mega\u001b[0m=\u001b[1;36m470\u001b[0m\u001b[1;36m.0\u001b[0m, \u001b[33mstop_mega\u001b[0m=\u001b[1;36m700\u001b[0m\u001b[1;36m.0\u001b[0m, \u001b[33munit\u001b[0m=\u001b[32m'dBμV/m'\u001b[0m, \u001b[33mndata\u001b[0m=\u001b[1;36m5888\u001b[0m, \n",
       "\u001b[33mbw\u001b[0m=\u001b[1;36m73828\u001b[0m, \u001b[33mprocessing\u001b[0m=\u001b[32m'peak'\u001b[0m, \u001b[33mantenna_id\u001b[0m=\u001b[1;36m0\u001b[0m, \u001b[33mthresh\u001b[0m=\u001b[1;36m-59.5\u001b[0m, \u001b[33mminimum\u001b[0m=\u001b[1;36m-59.5\u001b[0m\u001b[1m)\u001b[0m, \u001b[1;35mSpecData\u001b[0m\u001b[1m(\u001b[0m\u001b[33mtype\u001b[0m=\u001b[1;36m67\u001b[0m, \n",
       "\u001b[33mthread_id\u001b[0m=\u001b[1;36m120\u001b[0m, \u001b[33mdescription\u001b[0m=\u001b[32m'PMEC 2021 \u001b[0m\u001b[32m(\u001b[0m\u001b[32mFaixa 8 de 10\u001b[0m\u001b[32m)\u001b[0m\u001b[32m.'\u001b[0m, \u001b[33mstart_mega\u001b[0m=\u001b[1;36m2690\u001b[0m\u001b[1;36m.0\u001b[0m, \n",
       "\u001b[33mstop_mega\u001b[0m=\u001b[1;36m1002898\u001b[0m\u001b[1;36m.999\u001b[0m, \u001b[33munit\u001b[0m=\u001b[32m'dBm'\u001b[0m, \u001b[33mndata\u001b[0m=\u001b[1;36m5376\u001b[0m, \u001b[33mbw\u001b[0m=\u001b[1;36m73828\u001b[0m, \u001b[33mprocessing\u001b[0m=\u001b[32m'peak'\u001b[0m, \u001b[33mantenna_id\u001b[0m=\u001b[1;36m0\u001b[0m, \n",
       "\u001b[33mthresh\u001b[0m=\u001b[1;36m-147.5\u001b[0m, \u001b[33mminimum\u001b[0m=\u001b[1;36m-147.5\u001b[0m\u001b[1m)\u001b[0m\u001b[1m]\u001b[0m\n",
       "\u001b[1m}\u001b[0m\n"
      ]
     },
     "metadata": {},
     "output_type": "display_data"
    }
   ],
   "source": [
    "print(v5)"
   ]
  },
  {
   "cell_type": "markdown",
   "metadata": {},
   "source": [
    "A saída da função é um dicionário, com os metadados do arquivo:"
   ]
  },
  {
   "cell_type": "markdown",
   "metadata": {},
   "source": [
    "No entanto as duas chaves mais importantes do dicionário retornado são `gps` e `spectrum`"
   ]
  },
  {
   "cell_type": "code",
   "execution_count": null,
   "metadata": {},
   "outputs": [
    {
     "data": {
      "text/html": [
       "<pre style=\"white-space:pre;overflow-x:auto;line-height:normal;font-family:Menlo,'DejaVu Sans Mono',consolas,'Courier New',monospace\"><span style=\"font-weight: bold\">{</span><span style=\"color: #008000; text-decoration-color: #008000\">'altitude'</span>: <span style=\"color: #008080; text-decoration-color: #008080; font-weight: bold\">522.1</span>, <span style=\"color: #008000; text-decoration-color: #008000\">'latitude'</span>: <span style=\"color: #008080; text-decoration-color: #008080; font-weight: bold\">-22.700053</span>, <span style=\"color: #008000; text-decoration-color: #008000\">'longitude'</span>: <span style=\"color: #008080; text-decoration-color: #008080; font-weight: bold\">-47.666856</span>, <span style=\"color: #008000; text-decoration-color: #008000\">'num_satellites'</span>: <span style=\"color: #008080; text-decoration-color: #008080; font-weight: bold\">11.0</span><span style=\"font-weight: bold\">}</span>\n",
       "</pre>\n"
      ],
      "text/plain": [
       "\u001b[1m{\u001b[0m\u001b[32m'altitude'\u001b[0m: \u001b[1;36m522.1\u001b[0m, \u001b[32m'latitude'\u001b[0m: \u001b[1;36m-22.700053\u001b[0m, \u001b[32m'longitude'\u001b[0m: \u001b[1;36m-47.666856\u001b[0m, \u001b[32m'num_satellites'\u001b[0m: \u001b[1;36m11.0\u001b[0m\u001b[1m}\u001b[0m\n"
      ]
     },
     "metadata": {},
     "output_type": "display_data"
    }
   ],
   "source": [
    "from rfpye.utils import getattrs\n",
    "\n",
    "print(getattrs(v5['gps']))"
   ]
  },
  {
   "cell_type": "markdown",
   "metadata": {},
   "source": [
    "Se você imprimir a classe retornada pela chave `gps` é retornado um resumo dos seus atributos:"
   ]
  },
  {
   "cell_type": "code",
   "execution_count": null,
   "metadata": {},
   "outputs": [
    {
     "data": {
      "text/html": [
       "<pre style=\"white-space:pre;overflow-x:auto;line-height:normal;font-family:Menlo,'DejaVu Sans Mono',consolas,'Courier New',monospace\">GPS Data - Median of Coordinates: <span style=\"color: #008080; text-decoration-color: #008080; font-weight: bold\">-22.70005</span>:<span style=\"color: #008080; text-decoration-color: #008080; font-weight: bold\">-47.66686</span>, Altitude: <span style=\"color: #008080; text-decoration-color: #008080; font-weight: bold\">522.10</span> #Satellites: <span style=\"color: #008080; text-decoration-color: #008080; font-weight: bold\">11.0</span> \n",
       "</pre>\n"
      ],
      "text/plain": [
       "GPS Data - Median of Coordinates: \u001b[1;36m-22.70005\u001b[0m:\u001b[1;36m-47.66686\u001b[0m, Altitude: \u001b[1;36m522.10\u001b[0m #Satellites: \u001b[1;36m11.0\u001b[0m \n"
      ]
     },
     "metadata": {},
     "output_type": "display_data"
    }
   ],
   "source": [
    "print(v5['gps'])"
   ]
  },
  {
   "cell_type": "markdown",
   "metadata": {},
   "source": [
    "Os atributos listados são os valores consolidados por meio da __mediana__ dos diversos blocos de GPS do arquivo. \n",
    "\n",
    "> Caso desejar a lista original de valores, os atributos são os mesmos mas precedidos de `_`, o que os torna __atributos privados__ em python, isso somente quer dizer que não são explicitados em algus métodos como `getattrs`, pois normalmente não são acessíveis diretamente, mas nada impede que sejam acessados."
   ]
  },
  {
   "cell_type": "code",
   "execution_count": null,
   "metadata": {},
   "outputs": [
    {
     "data": {
      "text/plain": [
       "(#3022) [-22.70006,-22.70006,-22.700088,-22.700063,-22.700061,-22.700059,-22.700044,-22.700065,-22.700083,-22.700046...]"
      ]
     },
     "execution_count": null,
     "metadata": {},
     "output_type": "execute_result"
    }
   ],
   "source": [
    "v5['gps']._latitude"
   ]
  },
  {
   "cell_type": "code",
   "execution_count": null,
   "metadata": {},
   "outputs": [
    {
     "data": {
      "text/plain": [
       "(#3022) [-47.66686,-47.666857,-47.666851,-47.666857,-47.666873,-47.666864,-47.66687,-47.666864,-47.666839,-47.666865...]"
      ]
     },
     "execution_count": null,
     "metadata": {},
     "output_type": "execute_result"
    }
   ],
   "source": [
    " v5['gps']._longitude"
   ]
  },
  {
   "cell_type": "code",
   "execution_count": null,
   "metadata": {},
   "outputs": [
    {
     "data": {
      "text/plain": [
       "(#3022) [519.799,519.4,526.7,521.1,520.4,519.2,520.799,520.6,522.7,521.4...]"
      ]
     },
     "execution_count": null,
     "metadata": {},
     "output_type": "execute_result"
    }
   ],
   "source": [
    "v5['gps']._altitude"
   ]
  },
  {
   "cell_type": "code",
   "execution_count": null,
   "metadata": {},
   "outputs": [
    {
     "data": {
      "text/plain": [
       "(#3022) [10,9,9,9,9,9,9,10,10,10...]"
      ]
     },
     "execution_count": null,
     "metadata": {},
     "output_type": "execute_result"
    }
   ],
   "source": [
    "v5['gps']._num_satellites "
   ]
  },
  {
   "cell_type": "markdown",
   "metadata": {},
   "source": [
    "Cada arquivo bin normalmente possui vários fluxos de espectro distintos, cada fluxo espectral é uma classe Python, na chave `spectrum` é retornado uma lista com todos os fluxos de espectro.\n",
    "\n",
    "Vamos investigar alguns deles:"
   ]
  },
  {
   "cell_type": "code",
   "execution_count": null,
   "metadata": {},
   "outputs": [],
   "source": [
    "fluxo = v5['spectrum'][0]"
   ]
  },
  {
   "cell_type": "markdown",
   "metadata": {},
   "source": [
    "Ao imprimir um fluxo é mostrado informações mínimas sobre o seu conteúdo:"
   ]
  },
  {
   "cell_type": "code",
   "execution_count": null,
   "metadata": {},
   "outputs": [
    {
     "data": {
      "text/html": [
       "<pre style=\"white-space:pre;overflow-x:auto;line-height:normal;font-family:Menlo,'DejaVu Sans Mono',consolas,'Courier New',monospace\">Blocks of Type: <span style=\"color: #008080; text-decoration-color: #008080; font-weight: bold\">67</span>, Thread_id: <span style=\"color: #008080; text-decoration-color: #008080; font-weight: bold\">50</span>, Start: <span style=\"color: #008080; text-decoration-color: #008080; font-weight: bold\">105.0</span> MHz, Stop: <span style=\"color: #008080; text-decoration-color: #008080; font-weight: bold\">140.0</span> MHz\n",
       "</pre>\n"
      ],
      "text/plain": [
       "Blocks of Type: \u001b[1;36m67\u001b[0m, Thread_id: \u001b[1;36m50\u001b[0m, Start: \u001b[1;36m105.0\u001b[0m MHz, Stop: \u001b[1;36m140.0\u001b[0m MHz\n"
      ]
     },
     "metadata": {},
     "output_type": "display_data"
    }
   ],
   "source": [
    "print(fluxo)"
   ]
  },
  {
   "cell_type": "markdown",
   "metadata": {},
   "source": [
    "A função `repr` retorna uma representação com todos os metadados do fluxo:"
   ]
  },
  {
   "cell_type": "code",
   "execution_count": null,
   "metadata": {},
   "outputs": [
    {
     "data": {
      "text/html": [
       "<pre style=\"white-space:pre;overflow-x:auto;line-height:normal;font-family:Menlo,'DejaVu Sans Mono',consolas,'Courier New',monospace\"><span style=\"color: #800080; text-decoration-color: #800080; font-weight: bold\">SpecData</span><span style=\"font-weight: bold\">(</span><span style=\"color: #808000; text-decoration-color: #808000\">type</span>=<span style=\"color: #008080; text-decoration-color: #008080; font-weight: bold\">67</span>, <span style=\"color: #808000; text-decoration-color: #808000\">thread_id</span>=<span style=\"color: #008080; text-decoration-color: #008080; font-weight: bold\">50</span>, <span style=\"color: #808000; text-decoration-color: #808000\">description</span>=<span style=\"color: #008000; text-decoration-color: #008000\">'PMEC 2021 (Faixa 1 de 10).'</span>, <span style=\"color: #808000; text-decoration-color: #808000\">start_mega</span>=<span style=\"color: #008080; text-decoration-color: #008080; font-weight: bold\">105.0</span>, \n",
       "<span style=\"color: #808000; text-decoration-color: #808000\">stop_mega</span>=<span style=\"color: #008080; text-decoration-color: #008080; font-weight: bold\">140.0</span>, <span style=\"color: #808000; text-decoration-color: #808000\">unit</span>=<span style=\"color: #008000; text-decoration-color: #008000\">'dBm'</span>, <span style=\"color: #808000; text-decoration-color: #808000\">ndata</span>=<span style=\"color: #008080; text-decoration-color: #008080; font-weight: bold\">3584</span>, <span style=\"color: #808000; text-decoration-color: #808000\">bw</span>=<span style=\"color: #008080; text-decoration-color: #008080; font-weight: bold\">18457</span>, <span style=\"color: #808000; text-decoration-color: #808000\">processing</span>=<span style=\"color: #008000; text-decoration-color: #008000\">'peak'</span>, <span style=\"color: #808000; text-decoration-color: #808000\">antenna_id</span>=<span style=\"color: #008080; text-decoration-color: #008080; font-weight: bold\">0</span>, \n",
       "<span style=\"color: #808000; text-decoration-color: #808000\">thresh</span>=<span style=\"color: #008080; text-decoration-color: #008080; font-weight: bold\">-147.5</span>, <span style=\"color: #808000; text-decoration-color: #808000\">minimum</span>=<span style=\"color: #008080; text-decoration-color: #008080; font-weight: bold\">-147.5</span><span style=\"font-weight: bold\">)</span>\n",
       "</pre>\n"
      ],
      "text/plain": [
       "\u001b[1;35mSpecData\u001b[0m\u001b[1m(\u001b[0m\u001b[33mtype\u001b[0m=\u001b[1;36m67\u001b[0m, \u001b[33mthread_id\u001b[0m=\u001b[1;36m50\u001b[0m, \u001b[33mdescription\u001b[0m=\u001b[32m'PMEC 2021 \u001b[0m\u001b[32m(\u001b[0m\u001b[32mFaixa 1 de 10\u001b[0m\u001b[32m)\u001b[0m\u001b[32m.'\u001b[0m, \u001b[33mstart_mega\u001b[0m=\u001b[1;36m105\u001b[0m\u001b[1;36m.0\u001b[0m, \n",
       "\u001b[33mstop_mega\u001b[0m=\u001b[1;36m140\u001b[0m\u001b[1;36m.0\u001b[0m, \u001b[33munit\u001b[0m=\u001b[32m'dBm'\u001b[0m, \u001b[33mndata\u001b[0m=\u001b[1;36m3584\u001b[0m, \u001b[33mbw\u001b[0m=\u001b[1;36m18457\u001b[0m, \u001b[33mprocessing\u001b[0m=\u001b[32m'peak'\u001b[0m, \u001b[33mantenna_id\u001b[0m=\u001b[1;36m0\u001b[0m, \n",
       "\u001b[33mthresh\u001b[0m=\u001b[1;36m-147.5\u001b[0m, \u001b[33mminimum\u001b[0m=\u001b[1;36m-147.5\u001b[0m\u001b[1m)\u001b[0m\n"
      ]
     },
     "metadata": {},
     "output_type": "display_data"
    }
   ],
   "source": [
    "print(repr(fluxo))"
   ]
  },
  {
   "cell_type": "markdown",
   "metadata": {},
   "source": [
    "No entanto o principal atributo de um fluxo de espectro são os valores de nível medidos, os valores medidos são retornados por meio do atributo: `levels`:"
   ]
  },
  {
   "cell_type": "code",
   "execution_count": null,
   "metadata": {},
   "outputs": [
    {
     "data": {
      "text/html": [
       "<pre style=\"white-space:pre;overflow-x:auto;line-height:normal;font-family:Menlo,'DejaVu Sans Mono',consolas,'Courier New',monospace\"><span style=\"font-weight: bold\">[[</span><span style=\"color: #008080; text-decoration-color: #008080; font-weight: bold\">-102</span>.  <span style=\"color: #008080; text-decoration-color: #008080; font-weight: bold\">-102.5</span> <span style=\"color: #008080; text-decoration-color: #008080; font-weight: bold\">-101</span>.  <span style=\"color: #808000; text-decoration-color: #808000\">...</span> <span style=\"color: #008080; text-decoration-color: #008080; font-weight: bold\">-111.5</span> <span style=\"color: #008080; text-decoration-color: #008080; font-weight: bold\">-108</span>.  <span style=\"color: #008080; text-decoration-color: #008080; font-weight: bold\">-107.5</span><span style=\"font-weight: bold\">]</span>\n",
       " <span style=\"font-weight: bold\">[</span> <span style=\"color: #008080; text-decoration-color: #008080; font-weight: bold\">-98.5</span>  <span style=\"color: #008080; text-decoration-color: #008080; font-weight: bold\">-99</span>.   <span style=\"color: #008080; text-decoration-color: #008080; font-weight: bold\">-97</span>.  <span style=\"color: #808000; text-decoration-color: #808000\">...</span> <span style=\"color: #008080; text-decoration-color: #008080; font-weight: bold\">-113.5</span> <span style=\"color: #008080; text-decoration-color: #008080; font-weight: bold\">-107</span>.  <span style=\"color: #008080; text-decoration-color: #008080; font-weight: bold\">-104.5</span><span style=\"font-weight: bold\">]</span>\n",
       " <span style=\"font-weight: bold\">[</span><span style=\"color: #008080; text-decoration-color: #008080; font-weight: bold\">-107</span>.  <span style=\"color: #008080; text-decoration-color: #008080; font-weight: bold\">-111</span>.  <span style=\"color: #008080; text-decoration-color: #008080; font-weight: bold\">-106</span>.  <span style=\"color: #808000; text-decoration-color: #808000\">...</span> <span style=\"color: #008080; text-decoration-color: #008080; font-weight: bold\">-117.5</span> <span style=\"color: #008080; text-decoration-color: #008080; font-weight: bold\">-111.5</span> <span style=\"color: #008080; text-decoration-color: #008080; font-weight: bold\">-108.5</span><span style=\"font-weight: bold\">]</span>\n",
       " <span style=\"color: #808000; text-decoration-color: #808000\">...</span>\n",
       " <span style=\"font-weight: bold\">[</span> <span style=\"color: #008080; text-decoration-color: #008080; font-weight: bold\">-89.5</span>  <span style=\"color: #008080; text-decoration-color: #008080; font-weight: bold\">-81.5</span>  <span style=\"color: #008080; text-decoration-color: #008080; font-weight: bold\">-74.5</span> <span style=\"color: #808000; text-decoration-color: #808000\">...</span> <span style=\"color: #008080; text-decoration-color: #008080; font-weight: bold\">-114</span>.  <span style=\"color: #008080; text-decoration-color: #008080; font-weight: bold\">-112</span>.  <span style=\"color: #008080; text-decoration-color: #008080; font-weight: bold\">-112</span>. <span style=\"font-weight: bold\">]</span>\n",
       " <span style=\"font-weight: bold\">[</span> <span style=\"color: #008080; text-decoration-color: #008080; font-weight: bold\">-85</span>.   <span style=\"color: #008080; text-decoration-color: #008080; font-weight: bold\">-81.5</span>  <span style=\"color: #008080; text-decoration-color: #008080; font-weight: bold\">-74</span>.  <span style=\"color: #808000; text-decoration-color: #808000\">...</span> <span style=\"color: #008080; text-decoration-color: #008080; font-weight: bold\">-107</span>.  <span style=\"color: #008080; text-decoration-color: #008080; font-weight: bold\">-108.5</span> <span style=\"color: #008080; text-decoration-color: #008080; font-weight: bold\">-106.5</span><span style=\"font-weight: bold\">]</span>\n",
       " <span style=\"font-weight: bold\">[</span><span style=\"color: #008080; text-decoration-color: #008080; font-weight: bold\">-103.5</span> <span style=\"color: #008080; text-decoration-color: #008080; font-weight: bold\">-105.5</span> <span style=\"color: #008080; text-decoration-color: #008080; font-weight: bold\">-108</span>.  <span style=\"color: #808000; text-decoration-color: #808000\">...</span> <span style=\"color: #008080; text-decoration-color: #008080; font-weight: bold\">-111.5</span> <span style=\"color: #008080; text-decoration-color: #008080; font-weight: bold\">-110</span>.  <span style=\"color: #008080; text-decoration-color: #008080; font-weight: bold\">-107</span>. <span style=\"font-weight: bold\">]]</span>\n",
       "</pre>\n"
      ],
      "text/plain": [
       "\u001b[1m[\u001b[0m\u001b[1m[\u001b[0m\u001b[1;36m-102\u001b[0m.  \u001b[1;36m-102.5\u001b[0m \u001b[1;36m-101\u001b[0m.  \u001b[33m...\u001b[0m \u001b[1;36m-111.5\u001b[0m \u001b[1;36m-108\u001b[0m.  \u001b[1;36m-107.5\u001b[0m\u001b[1m]\u001b[0m\n",
       " \u001b[1m[\u001b[0m \u001b[1;36m-98.5\u001b[0m  \u001b[1;36m-99\u001b[0m.   \u001b[1;36m-97\u001b[0m.  \u001b[33m...\u001b[0m \u001b[1;36m-113.5\u001b[0m \u001b[1;36m-107\u001b[0m.  \u001b[1;36m-104.5\u001b[0m\u001b[1m]\u001b[0m\n",
       " \u001b[1m[\u001b[0m\u001b[1;36m-107\u001b[0m.  \u001b[1;36m-111\u001b[0m.  \u001b[1;36m-106\u001b[0m.  \u001b[33m...\u001b[0m \u001b[1;36m-117.5\u001b[0m \u001b[1;36m-111.5\u001b[0m \u001b[1;36m-108.5\u001b[0m\u001b[1m]\u001b[0m\n",
       " \u001b[33m...\u001b[0m\n",
       " \u001b[1m[\u001b[0m \u001b[1;36m-89.5\u001b[0m  \u001b[1;36m-81.5\u001b[0m  \u001b[1;36m-74.5\u001b[0m \u001b[33m...\u001b[0m \u001b[1;36m-114\u001b[0m.  \u001b[1;36m-112\u001b[0m.  \u001b[1;36m-112\u001b[0m. \u001b[1m]\u001b[0m\n",
       " \u001b[1m[\u001b[0m \u001b[1;36m-85\u001b[0m.   \u001b[1;36m-81.5\u001b[0m  \u001b[1;36m-74\u001b[0m.  \u001b[33m...\u001b[0m \u001b[1;36m-107\u001b[0m.  \u001b[1;36m-108.5\u001b[0m \u001b[1;36m-106.5\u001b[0m\u001b[1m]\u001b[0m\n",
       " \u001b[1m[\u001b[0m\u001b[1;36m-103.5\u001b[0m \u001b[1;36m-105.5\u001b[0m \u001b[1;36m-108\u001b[0m.  \u001b[33m...\u001b[0m \u001b[1;36m-111.5\u001b[0m \u001b[1;36m-110\u001b[0m.  \u001b[1;36m-107\u001b[0m. \u001b[1m]\u001b[0m\u001b[1m]\u001b[0m\n"
      ]
     },
     "metadata": {},
     "output_type": "display_data"
    }
   ],
   "source": [
    "print(fluxo.levels)"
   ]
  },
  {
   "cell_type": "code",
   "execution_count": null,
   "metadata": {},
   "outputs": [
    {
     "data": {
      "text/html": [
       "<pre style=\"white-space:pre;overflow-x:auto;line-height:normal;font-family:Menlo,'DejaVu Sans Mono',consolas,'Courier New',monospace\">Formato da matriz com os níveis: <span style=\"font-weight: bold\">(</span><span style=\"color: #008080; text-decoration-color: #008080; font-weight: bold\">2855</span>, <span style=\"color: #008080; text-decoration-color: #008080; font-weight: bold\">3584</span><span style=\"font-weight: bold\">)</span>\n",
       "</pre>\n"
      ],
      "text/plain": [
       "Formato da matriz com os níveis: \u001b[1m(\u001b[0m\u001b[1;36m2855\u001b[0m, \u001b[1;36m3584\u001b[0m\u001b[1m)\u001b[0m\n"
      ]
     },
     "metadata": {},
     "output_type": "display_data"
    }
   ],
   "source": [
    "print(f'Formato da matriz com os níveis: {fluxo.levels.shape}')"
   ]
  },
  {
   "cell_type": "markdown",
   "metadata": {},
   "source": [
    "O nº de linhas da matriz nos dá o número de pontos medidos naquele dado fluxo e as colunas o número de traços no qual o Span ( Stop - Start ) foi dividido. O número de traços pode ser retornada também por meio da função `len`"
   ]
  },
  {
   "cell_type": "code",
   "execution_count": null,
   "metadata": {},
   "outputs": [
    {
     "data": {
      "text/html": [
       "<pre style=\"white-space:pre;overflow-x:auto;line-height:normal;font-family:Menlo,'DejaVu Sans Mono',consolas,'Courier New',monospace\"><span style=\"color: #008080; text-decoration-color: #008080; font-weight: bold\">2855</span>\n",
       "</pre>\n"
      ],
      "text/plain": [
       "\u001b[1;36m2855\u001b[0m\n"
      ]
     },
     "metadata": {},
     "output_type": "display_data"
    }
   ],
   "source": [
    "print(len(fluxo))"
   ]
  },
  {
   "cell_type": "markdown",
   "metadata": {},
   "source": [
    "O atributo anterior retorna uma `numpy.ndarray`, que é um formato eficiente para processamento. \n",
    "\n",
    "No entanto temos adicionalmente o método `.matrix()` que retorna a matriz de dados como um _Pandas Dataframe_ formatada com o tempo da medição de cada traço como índice das linhas e as frequências de cada traço como coluna.\n",
    "\n",
    "Vamos mostrar as cinco primeiras e cinco últimas linhas e colunas. "
   ]
  },
  {
   "cell_type": "code",
   "execution_count": null,
   "metadata": {},
   "outputs": [
    {
     "data": {
      "text/html": [
       "<div>\n",
       "<style scoped>\n",
       "    .dataframe tbody tr th:only-of-type {\n",
       "        vertical-align: middle;\n",
       "    }\n",
       "\n",
       "    .dataframe tbody tr th {\n",
       "        vertical-align: top;\n",
       "    }\n",
       "\n",
       "    .dataframe thead th {\n",
       "        text-align: right;\n",
       "    }\n",
       "</style>\n",
       "<table border=\"1\" class=\"dataframe\">\n",
       "  <thead>\n",
       "    <tr style=\"text-align: right;\">\n",
       "      <th>Frequencies</th>\n",
       "      <th>105.000000</th>\n",
       "      <th>105.009768</th>\n",
       "      <th>105.019537</th>\n",
       "      <th>105.029305</th>\n",
       "      <th>105.039073</th>\n",
       "    </tr>\n",
       "    <tr>\n",
       "      <th>Time</th>\n",
       "      <th></th>\n",
       "      <th></th>\n",
       "      <th></th>\n",
       "      <th></th>\n",
       "      <th></th>\n",
       "    </tr>\n",
       "  </thead>\n",
       "  <tbody>\n",
       "    <tr>\n",
       "      <th>2021-04-12 18:39:00.163138</th>\n",
       "      <td>-102.0</td>\n",
       "      <td>-102.5</td>\n",
       "      <td>-101.0</td>\n",
       "      <td>-99.0</td>\n",
       "      <td>-98.0</td>\n",
       "    </tr>\n",
       "    <tr>\n",
       "      <th>2021-04-12 18:40:00.168588</th>\n",
       "      <td>-98.5</td>\n",
       "      <td>-99.0</td>\n",
       "      <td>-97.0</td>\n",
       "      <td>-85.0</td>\n",
       "      <td>-76.0</td>\n",
       "    </tr>\n",
       "    <tr>\n",
       "      <th>2021-04-12 18:41:00.163138</th>\n",
       "      <td>-107.0</td>\n",
       "      <td>-111.0</td>\n",
       "      <td>-106.0</td>\n",
       "      <td>-104.0</td>\n",
       "      <td>-104.5</td>\n",
       "    </tr>\n",
       "    <tr>\n",
       "      <th>2021-04-12 18:42:00.164156</th>\n",
       "      <td>-107.0</td>\n",
       "      <td>-104.0</td>\n",
       "      <td>-99.0</td>\n",
       "      <td>-100.5</td>\n",
       "      <td>-98.0</td>\n",
       "    </tr>\n",
       "    <tr>\n",
       "      <th>2021-04-12 18:43:00.163627</th>\n",
       "      <td>-99.0</td>\n",
       "      <td>-100.5</td>\n",
       "      <td>-99.5</td>\n",
       "      <td>-98.5</td>\n",
       "      <td>-102.5</td>\n",
       "    </tr>\n",
       "  </tbody>\n",
       "</table>\n",
       "</div>"
      ],
      "text/plain": [
       "Frequencies                 105.000000  105.009768  105.019537  105.029305  \\\n",
       "Time                                                                         \n",
       "2021-04-12 18:39:00.163138      -102.0      -102.5      -101.0       -99.0   \n",
       "2021-04-12 18:40:00.168588       -98.5       -99.0       -97.0       -85.0   \n",
       "2021-04-12 18:41:00.163138      -107.0      -111.0      -106.0      -104.0   \n",
       "2021-04-12 18:42:00.164156      -107.0      -104.0       -99.0      -100.5   \n",
       "2021-04-12 18:43:00.163627       -99.0      -100.5       -99.5       -98.5   \n",
       "\n",
       "Frequencies                 105.039073  \n",
       "Time                                    \n",
       "2021-04-12 18:39:00.163138       -98.0  \n",
       "2021-04-12 18:40:00.168588       -76.0  \n",
       "2021-04-12 18:41:00.163138      -104.5  \n",
       "2021-04-12 18:42:00.164156       -98.0  \n",
       "2021-04-12 18:43:00.163627      -102.5  "
      ]
     },
     "execution_count": null,
     "metadata": {},
     "output_type": "execute_result"
    }
   ],
   "source": [
    "fluxo.matrix().iloc[:5, :5]"
   ]
  },
  {
   "cell_type": "code",
   "execution_count": null,
   "metadata": {},
   "outputs": [
    {
     "data": {
      "text/html": [
       "<div>\n",
       "<style scoped>\n",
       "    .dataframe tbody tr th:only-of-type {\n",
       "        vertical-align: middle;\n",
       "    }\n",
       "\n",
       "    .dataframe tbody tr th {\n",
       "        vertical-align: top;\n",
       "    }\n",
       "\n",
       "    .dataframe thead th {\n",
       "        text-align: right;\n",
       "    }\n",
       "</style>\n",
       "<table border=\"1\" class=\"dataframe\">\n",
       "  <thead>\n",
       "    <tr style=\"text-align: right;\">\n",
       "      <th>Frequencies</th>\n",
       "      <th>139.960927</th>\n",
       "      <th>139.970695</th>\n",
       "      <th>139.980463</th>\n",
       "      <th>139.990232</th>\n",
       "      <th>140.000000</th>\n",
       "    </tr>\n",
       "    <tr>\n",
       "      <th>Time</th>\n",
       "      <th></th>\n",
       "      <th></th>\n",
       "      <th></th>\n",
       "      <th></th>\n",
       "      <th></th>\n",
       "    </tr>\n",
       "  </thead>\n",
       "  <tbody>\n",
       "    <tr>\n",
       "      <th>2021-04-14 20:56:00.165806</th>\n",
       "      <td>-110.5</td>\n",
       "      <td>-111.5</td>\n",
       "      <td>-113.0</td>\n",
       "      <td>-109.5</td>\n",
       "      <td>-107.5</td>\n",
       "    </tr>\n",
       "    <tr>\n",
       "      <th>2021-04-14 20:57:00.165900</th>\n",
       "      <td>-114.5</td>\n",
       "      <td>-110.5</td>\n",
       "      <td>-110.5</td>\n",
       "      <td>-109.5</td>\n",
       "      <td>-111.0</td>\n",
       "    </tr>\n",
       "    <tr>\n",
       "      <th>2021-04-14 20:58:00.165813</th>\n",
       "      <td>-111.5</td>\n",
       "      <td>-110.0</td>\n",
       "      <td>-114.0</td>\n",
       "      <td>-112.0</td>\n",
       "      <td>-112.0</td>\n",
       "    </tr>\n",
       "    <tr>\n",
       "      <th>2021-04-14 20:59:00.165928</th>\n",
       "      <td>-114.0</td>\n",
       "      <td>-107.0</td>\n",
       "      <td>-107.0</td>\n",
       "      <td>-108.5</td>\n",
       "      <td>-106.5</td>\n",
       "    </tr>\n",
       "    <tr>\n",
       "      <th>2021-04-14 21:00:00.166689</th>\n",
       "      <td>-111.5</td>\n",
       "      <td>-111.5</td>\n",
       "      <td>-111.5</td>\n",
       "      <td>-110.0</td>\n",
       "      <td>-107.0</td>\n",
       "    </tr>\n",
       "  </tbody>\n",
       "</table>\n",
       "</div>"
      ],
      "text/plain": [
       "Frequencies                 139.960927  139.970695  139.980463  139.990232  \\\n",
       "Time                                                                         \n",
       "2021-04-14 20:56:00.165806      -110.5      -111.5      -113.0      -109.5   \n",
       "2021-04-14 20:57:00.165900      -114.5      -110.5      -110.5      -109.5   \n",
       "2021-04-14 20:58:00.165813      -111.5      -110.0      -114.0      -112.0   \n",
       "2021-04-14 20:59:00.165928      -114.0      -107.0      -107.0      -108.5   \n",
       "2021-04-14 21:00:00.166689      -111.5      -111.5      -111.5      -110.0   \n",
       "\n",
       "Frequencies                 140.000000  \n",
       "Time                                    \n",
       "2021-04-14 20:56:00.165806      -107.5  \n",
       "2021-04-14 20:57:00.165900      -111.0  \n",
       "2021-04-14 20:58:00.165813      -112.0  \n",
       "2021-04-14 20:59:00.165928      -106.5  \n",
       "2021-04-14 21:00:00.166689      -107.0  "
      ]
     },
     "execution_count": null,
     "metadata": {},
     "output_type": "execute_result"
    }
   ],
   "source": [
    "fluxo.matrix().iloc[-5:, -5:]"
   ]
  },
  {
   "cell_type": "markdown",
   "metadata": {},
   "source": [
    "## CRFS Bin - Versão 5 - Arquivos Comprimidos\n",
    "Vamos listar arquivos da última versão do script Logger, Versão 5, arquivos comprimidos onde o piso de ruído é suprimido."
   ]
  },
  {
   "cell_type": "code",
   "execution_count": null,
   "metadata": {},
   "outputs": [],
   "source": [
    "file = r'binfiles\\compressed\\rfeye002290_210922_T204046_MaskBroken.bin'"
   ]
  },
  {
   "cell_type": "code",
   "execution_count": null,
   "metadata": {},
   "outputs": [
    {
     "name": "stdout",
     "output_type": "stream",
     "text": [
      "Wall time: 9.97 s\n"
     ]
    }
   ],
   "source": [
    "%%time\n",
    "compressed = parse_bin(file)"
   ]
  },
  {
   "cell_type": "code",
   "execution_count": null,
   "metadata": {},
   "outputs": [
    {
     "data": {
      "text/html": [
       "<pre style=\"white-space:pre;overflow-x:auto;line-height:normal;font-family:Menlo,'DejaVu Sans Mono',consolas,'Courier New',monospace\"><span style=\"font-weight: bold\">{</span>\n",
       "    <span style=\"color: #008000; text-decoration-color: #008000\">'filename'</span>: <span style=\"color: #008000; text-decoration-color: #008000\">'rfeye002290_210922_T204046_MaskBroken.bin'</span>,\n",
       "    <span style=\"color: #008000; text-decoration-color: #008000\">'file_version'</span>: <span style=\"color: #008080; text-decoration-color: #008080; font-weight: bold\">23</span>,\n",
       "    <span style=\"color: #008000; text-decoration-color: #008000\">'string'</span>: <span style=\"color: #008000; text-decoration-color: #008000\">'CRFS DATA FILE V023'</span>,\n",
       "    <span style=\"color: #008000; text-decoration-color: #008000\">'hostname'</span>: <span style=\"color: #008000; text-decoration-color: #008000\">'rfeye002290'</span>,\n",
       "    <span style=\"color: #008000; text-decoration-color: #008000\">'method'</span>: <span style=\"color: #008000; text-decoration-color: #008000\">'ScriptRFeye2021_v2.cfg'</span>,\n",
       "    <span style=\"color: #008000; text-decoration-color: #008000\">'unit_info'</span>: <span style=\"color: #008000; text-decoration-color: #008000\">'Stationary'</span>,\n",
       "    <span style=\"color: #008000; text-decoration-color: #008000\">'file_number'</span>: <span style=\"color: #008080; text-decoration-color: #008080; font-weight: bold\">0</span>,\n",
       "    <span style=\"color: #008000; text-decoration-color: #008000\">'identifier'</span>: <span style=\"color: #008000; text-decoration-color: #008000\">'INFO'</span>,\n",
       "    <span style=\"color: #008000; text-decoration-color: #008000\">'gps'</span>: GPS Data - Median of Coordinates: <span style=\"color: #008080; text-decoration-color: #008080; font-weight: bold\">-22.70008</span>:<span style=\"color: #008080; text-decoration-color: #008080; font-weight: bold\">-47.66684</span>, Altitude: <span style=\"color: #008080; text-decoration-color: #008080; font-weight: bold\">518.40</span> \n",
       "#Satellites: <span style=\"color: #008080; text-decoration-color: #008080; font-weight: bold\">11.0</span> ,\n",
       "    <span style=\"color: #008000; text-decoration-color: #008000\">'spectrum'</span>: <span style=\"font-weight: bold\">[</span><span style=\"color: #800080; text-decoration-color: #800080; font-weight: bold\">SpecData</span><span style=\"font-weight: bold\">(</span><span style=\"color: #808000; text-decoration-color: #808000\">type</span>=<span style=\"color: #008080; text-decoration-color: #008080; font-weight: bold\">68</span>, <span style=\"color: #808000; text-decoration-color: #808000\">thread_id</span>=<span style=\"color: #008080; text-decoration-color: #008080; font-weight: bold\">321</span>, <span style=\"color: #808000; text-decoration-color: #808000\">description</span>=<span style=\"color: #008000; text-decoration-color: #008000\">'PMEC 2021 (Faixa 3 de 10). @ </span>\n",
       "<span style=\"color: #008000; text-decoration-color: #008000\">-80dBm, 100kHz.'</span>, <span style=\"color: #808000; text-decoration-color: #808000\">start_mega</span>=<span style=\"color: #008080; text-decoration-color: #008080; font-weight: bold\">320.0</span>, <span style=\"color: #808000; text-decoration-color: #808000\">stop_mega</span>=<span style=\"color: #008080; text-decoration-color: #008080; font-weight: bold\">340.0</span>, <span style=\"color: #808000; text-decoration-color: #808000\">unit</span>=<span style=\"color: #008000; text-decoration-color: #008000\">'dBm'</span>, <span style=\"color: #808000; text-decoration-color: #808000\">ndata</span>=<span style=\"color: #008080; text-decoration-color: #008080; font-weight: bold\">512</span>, <span style=\"color: #808000; text-decoration-color: #808000\">bw</span>=<span style=\"color: #008080; text-decoration-color: #008080; font-weight: bold\">73828</span>, \n",
       "<span style=\"color: #808000; text-decoration-color: #808000\">processing</span>=<span style=\"color: #008000; text-decoration-color: #008000\">'peak'</span>, <span style=\"color: #808000; text-decoration-color: #808000\">antenna_id</span>=<span style=\"color: #008080; text-decoration-color: #008080; font-weight: bold\">0</span>, <span style=\"color: #808000; text-decoration-color: #808000\">thresh</span>=<span style=\"color: #008080; text-decoration-color: #008080; font-weight: bold\">-100</span>, <span style=\"color: #808000; text-decoration-color: #808000\">minimum</span>=<span style=\"color: #008080; text-decoration-color: #008080; font-weight: bold\">-147.5</span><span style=\"font-weight: bold\">)</span>, <span style=\"color: #800080; text-decoration-color: #800080; font-weight: bold\">SpecData</span><span style=\"font-weight: bold\">(</span><span style=\"color: #808000; text-decoration-color: #808000\">type</span>=<span style=\"color: #008080; text-decoration-color: #008080; font-weight: bold\">68</span>, \n",
       "<span style=\"color: #808000; text-decoration-color: #808000\">thread_id</span>=<span style=\"color: #008080; text-decoration-color: #008080; font-weight: bold\">301</span>, <span style=\"color: #808000; text-decoration-color: #808000\">description</span>=<span style=\"color: #008000; text-decoration-color: #008000\">'PMEC 2021 (Faixa 1 de 10). @ -80dBm, 10kHz.'</span>, <span style=\"color: #808000; text-decoration-color: #808000\">start_mega</span>=<span style=\"color: #008080; text-decoration-color: #008080; font-weight: bold\">108.0</span>, \n",
       "<span style=\"color: #808000; text-decoration-color: #808000\">stop_mega</span>=<span style=\"color: #008080; text-decoration-color: #008080; font-weight: bold\">137.0</span>, <span style=\"color: #808000; text-decoration-color: #808000\">unit</span>=<span style=\"color: #008000; text-decoration-color: #008000\">'dBm'</span>, <span style=\"color: #808000; text-decoration-color: #808000\">ndata</span>=<span style=\"color: #008080; text-decoration-color: #008080; font-weight: bold\">14848</span>, <span style=\"color: #808000; text-decoration-color: #808000\">bw</span>=<span style=\"color: #008080; text-decoration-color: #008080; font-weight: bold\">3690</span>, <span style=\"color: #808000; text-decoration-color: #808000\">processing</span>=<span style=\"color: #008000; text-decoration-color: #008000\">'peak'</span>, <span style=\"color: #808000; text-decoration-color: #808000\">antenna_id</span>=<span style=\"color: #008080; text-decoration-color: #008080; font-weight: bold\">0</span>, \n",
       "<span style=\"color: #808000; text-decoration-color: #808000\">thresh</span>=<span style=\"color: #008080; text-decoration-color: #008080; font-weight: bold\">-100</span>, <span style=\"color: #808000; text-decoration-color: #808000\">minimum</span>=<span style=\"color: #008080; text-decoration-color: #008080; font-weight: bold\">-147.5</span><span style=\"font-weight: bold\">)</span>, <span style=\"color: #800080; text-decoration-color: #800080; font-weight: bold\">SpecData</span><span style=\"font-weight: bold\">(</span><span style=\"color: #808000; text-decoration-color: #808000\">type</span>=<span style=\"color: #008080; text-decoration-color: #008080; font-weight: bold\">68</span>, <span style=\"color: #808000; text-decoration-color: #808000\">thread_id</span>=<span style=\"color: #008080; text-decoration-color: #008080; font-weight: bold\">341</span>, <span style=\"color: #808000; text-decoration-color: #808000\">description</span>=<span style=\"color: #008000; text-decoration-color: #008000\">'PMEC 2021 (Faixa </span>\n",
       "<span style=\"color: #008000; text-decoration-color: #008000\">5 de 10). @ -80dBm, 100kHz.'</span>, <span style=\"color: #808000; text-decoration-color: #808000\">start_mega</span>=<span style=\"color: #008080; text-decoration-color: #008080; font-weight: bold\">960.0</span>, <span style=\"color: #808000; text-decoration-color: #808000\">stop_mega</span>=<span style=\"color: #008080; text-decoration-color: #008080; font-weight: bold\">1001218.999</span>, <span style=\"color: #808000; text-decoration-color: #808000\">unit</span>=<span style=\"color: #008000; text-decoration-color: #008000\">'dBm'</span>, \n",
       "<span style=\"color: #808000; text-decoration-color: #808000\">ndata</span>=<span style=\"color: #008080; text-decoration-color: #008080; font-weight: bold\">6656</span>, <span style=\"color: #808000; text-decoration-color: #808000\">bw</span>=<span style=\"color: #008080; text-decoration-color: #008080; font-weight: bold\">73828</span>, <span style=\"color: #808000; text-decoration-color: #808000\">processing</span>=<span style=\"color: #008000; text-decoration-color: #008000\">'peak'</span>, <span style=\"color: #808000; text-decoration-color: #808000\">antenna_id</span>=<span style=\"color: #008080; text-decoration-color: #008080; font-weight: bold\">0</span>, <span style=\"color: #808000; text-decoration-color: #808000\">thresh</span>=<span style=\"color: #008080; text-decoration-color: #008080; font-weight: bold\">-100</span>, <span style=\"color: #808000; text-decoration-color: #808000\">minimum</span>=<span style=\"color: #008080; text-decoration-color: #008080; font-weight: bold\">-147.5</span><span style=\"font-weight: bold\">)</span>, \n",
       "<span style=\"color: #800080; text-decoration-color: #800080; font-weight: bold\">SpecData</span><span style=\"font-weight: bold\">(</span><span style=\"color: #808000; text-decoration-color: #808000\">type</span>=<span style=\"color: #008080; text-decoration-color: #008080; font-weight: bold\">68</span>, <span style=\"color: #808000; text-decoration-color: #808000\">thread_id</span>=<span style=\"color: #008080; text-decoration-color: #008080; font-weight: bold\">311</span>, <span style=\"color: #808000; text-decoration-color: #808000\">description</span>=<span style=\"color: #008000; text-decoration-color: #008000\">'PMEC 2021 (Faixa 2 de 10). @ -80dBm, 10kHz.'</span>, \n",
       "<span style=\"color: #808000; text-decoration-color: #808000\">start_mega</span>=<span style=\"color: #008080; text-decoration-color: #008080; font-weight: bold\">156.0</span>, <span style=\"color: #808000; text-decoration-color: #808000\">stop_mega</span>=<span style=\"color: #008080; text-decoration-color: #008080; font-weight: bold\">163.0</span>, <span style=\"color: #808000; text-decoration-color: #808000\">unit</span>=<span style=\"color: #008000; text-decoration-color: #008000\">'dBm'</span>, <span style=\"color: #808000; text-decoration-color: #808000\">ndata</span>=<span style=\"color: #008080; text-decoration-color: #008080; font-weight: bold\">3584</span>, <span style=\"color: #808000; text-decoration-color: #808000\">bw</span>=<span style=\"color: #008080; text-decoration-color: #008080; font-weight: bold\">3690</span>, <span style=\"color: #808000; text-decoration-color: #808000\">processing</span>=<span style=\"color: #008000; text-decoration-color: #008000\">'peak'</span>, \n",
       "<span style=\"color: #808000; text-decoration-color: #808000\">antenna_id</span>=<span style=\"color: #008080; text-decoration-color: #008080; font-weight: bold\">0</span>, <span style=\"color: #808000; text-decoration-color: #808000\">thresh</span>=<span style=\"color: #008080; text-decoration-color: #008080; font-weight: bold\">-100</span>, <span style=\"color: #808000; text-decoration-color: #808000\">minimum</span>=<span style=\"color: #008080; text-decoration-color: #008080; font-weight: bold\">-147.5</span><span style=\"font-weight: bold\">)</span>, <span style=\"color: #800080; text-decoration-color: #800080; font-weight: bold\">SpecData</span><span style=\"font-weight: bold\">(</span><span style=\"color: #808000; text-decoration-color: #808000\">type</span>=<span style=\"color: #008080; text-decoration-color: #008080; font-weight: bold\">68</span>, <span style=\"color: #808000; text-decoration-color: #808000\">thread_id</span>=<span style=\"color: #008080; text-decoration-color: #008080; font-weight: bold\">371</span>, \n",
       "<span style=\"color: #808000; text-decoration-color: #808000\">description</span>=<span style=\"color: #008000; text-decoration-color: #008000\">'PMEC 2021 (Faixa 8 de 10). @ -80dBm, 100kHz.'</span>, <span style=\"color: #808000; text-decoration-color: #808000\">start_mega</span>=<span style=\"color: #008080; text-decoration-color: #008080; font-weight: bold\">2690.0</span>, \n",
       "<span style=\"color: #808000; text-decoration-color: #808000\">stop_mega</span>=<span style=\"color: #008080; text-decoration-color: #008080; font-weight: bold\">1002898.999</span>, <span style=\"color: #808000; text-decoration-color: #808000\">unit</span>=<span style=\"color: #008000; text-decoration-color: #008000\">'dBm'</span>, <span style=\"color: #808000; text-decoration-color: #808000\">ndata</span>=<span style=\"color: #008080; text-decoration-color: #008080; font-weight: bold\">5376</span>, <span style=\"color: #808000; text-decoration-color: #808000\">bw</span>=<span style=\"color: #008080; text-decoration-color: #008080; font-weight: bold\">73828</span>, <span style=\"color: #808000; text-decoration-color: #808000\">processing</span>=<span style=\"color: #008000; text-decoration-color: #008000\">'peak'</span>, <span style=\"color: #808000; text-decoration-color: #808000\">antenna_id</span>=<span style=\"color: #008080; text-decoration-color: #008080; font-weight: bold\">0</span>, \n",
       "<span style=\"color: #808000; text-decoration-color: #808000\">thresh</span>=<span style=\"color: #008080; text-decoration-color: #008080; font-weight: bold\">-100</span>, <span style=\"color: #808000; text-decoration-color: #808000\">minimum</span>=<span style=\"color: #008080; text-decoration-color: #008080; font-weight: bold\">-147.5</span><span style=\"font-weight: bold\">)</span>, <span style=\"color: #800080; text-decoration-color: #800080; font-weight: bold\">SpecData</span><span style=\"font-weight: bold\">(</span><span style=\"color: #808000; text-decoration-color: #808000\">type</span>=<span style=\"color: #008080; text-decoration-color: #008080; font-weight: bold\">68</span>, <span style=\"color: #808000; text-decoration-color: #808000\">thread_id</span>=<span style=\"color: #008080; text-decoration-color: #008080; font-weight: bold\">351</span>, <span style=\"color: #808000; text-decoration-color: #808000\">description</span>=<span style=\"color: #008000; text-decoration-color: #008000\">'PMEC 2021 (Faixa </span>\n",
       "<span style=\"color: #008000; text-decoration-color: #008000\">6 de 10). @ -80dBm, 100kHz.'</span>, <span style=\"color: #808000; text-decoration-color: #808000\">start_mega</span>=<span style=\"color: #008080; text-decoration-color: #008080; font-weight: bold\">1001388.999</span>, <span style=\"color: #808000; text-decoration-color: #808000\">stop_mega</span>=<span style=\"color: #008080; text-decoration-color: #008080; font-weight: bold\">1001428.999</span>, <span style=\"color: #808000; text-decoration-color: #808000\">unit</span>=<span style=\"color: #008000; text-decoration-color: #008000\">'dBm'</span>, \n",
       "<span style=\"color: #808000; text-decoration-color: #808000\">ndata</span>=<span style=\"color: #008080; text-decoration-color: #008080; font-weight: bold\">1280</span>, <span style=\"color: #808000; text-decoration-color: #808000\">bw</span>=<span style=\"color: #008080; text-decoration-color: #008080; font-weight: bold\">73828</span>, <span style=\"color: #808000; text-decoration-color: #808000\">processing</span>=<span style=\"color: #008000; text-decoration-color: #008000\">'peak'</span>, <span style=\"color: #808000; text-decoration-color: #808000\">antenna_id</span>=<span style=\"color: #008080; text-decoration-color: #008080; font-weight: bold\">0</span>, <span style=\"color: #808000; text-decoration-color: #808000\">thresh</span>=<span style=\"color: #008080; text-decoration-color: #008080; font-weight: bold\">-100</span>, <span style=\"color: #808000; text-decoration-color: #808000\">minimum</span>=<span style=\"color: #008080; text-decoration-color: #008080; font-weight: bold\">-147.5</span><span style=\"font-weight: bold\">)</span>, \n",
       "<span style=\"color: #800080; text-decoration-color: #800080; font-weight: bold\">SpecData</span><span style=\"font-weight: bold\">(</span><span style=\"color: #808000; text-decoration-color: #808000\">type</span>=<span style=\"color: #008080; text-decoration-color: #008080; font-weight: bold\">68</span>, <span style=\"color: #808000; text-decoration-color: #808000\">thread_id</span>=<span style=\"color: #008080; text-decoration-color: #008080; font-weight: bold\">331</span>, <span style=\"color: #808000; text-decoration-color: #808000\">description</span>=<span style=\"color: #008000; text-decoration-color: #008000\">'PMEC 2021 (Faixa 4 de 10). @ -80dBm, 100kHz.'</span>, \n",
       "<span style=\"color: #808000; text-decoration-color: #808000\">start_mega</span>=<span style=\"color: #008080; text-decoration-color: #008080; font-weight: bold\">400.0</span>, <span style=\"color: #808000; text-decoration-color: #808000\">stop_mega</span>=<span style=\"color: #008080; text-decoration-color: #008080; font-weight: bold\">410.0</span>, <span style=\"color: #808000; text-decoration-color: #808000\">unit</span>=<span style=\"color: #008000; text-decoration-color: #008000\">'dBm'</span>, <span style=\"color: #808000; text-decoration-color: #808000\">ndata</span>=<span style=\"color: #008080; text-decoration-color: #008080; font-weight: bold\">256</span>, <span style=\"color: #808000; text-decoration-color: #808000\">bw</span>=<span style=\"color: #008080; text-decoration-color: #008080; font-weight: bold\">73828</span>, <span style=\"color: #808000; text-decoration-color: #808000\">processing</span>=<span style=\"color: #008000; text-decoration-color: #008000\">'peak'</span>, \n",
       "<span style=\"color: #808000; text-decoration-color: #808000\">antenna_id</span>=<span style=\"color: #008080; text-decoration-color: #008080; font-weight: bold\">0</span>, <span style=\"color: #808000; text-decoration-color: #808000\">thresh</span>=<span style=\"color: #008080; text-decoration-color: #008080; font-weight: bold\">-100</span>, <span style=\"color: #808000; text-decoration-color: #808000\">minimum</span>=<span style=\"color: #008080; text-decoration-color: #008080; font-weight: bold\">-147.5</span><span style=\"font-weight: bold\">)</span>, <span style=\"color: #800080; text-decoration-color: #800080; font-weight: bold\">SpecData</span><span style=\"font-weight: bold\">(</span><span style=\"color: #808000; text-decoration-color: #808000\">type</span>=<span style=\"color: #008080; text-decoration-color: #008080; font-weight: bold\">68</span>, <span style=\"color: #808000; text-decoration-color: #808000\">thread_id</span>=<span style=\"color: #008080; text-decoration-color: #008080; font-weight: bold\">361</span>, \n",
       "<span style=\"color: #808000; text-decoration-color: #808000\">description</span>=<span style=\"color: #008000; text-decoration-color: #008000\">'PMEC 2021 (Faixa 7 de 10). @ -80dBm, 100kHz.'</span>, <span style=\"color: #808000; text-decoration-color: #808000\">start_mega</span>=<span style=\"color: #008080; text-decoration-color: #008080; font-weight: bold\">1530.0</span>, \n",
       "<span style=\"color: #808000; text-decoration-color: #808000\">stop_mega</span>=<span style=\"color: #008080; text-decoration-color: #008080; font-weight: bold\">1001648.999</span>, <span style=\"color: #808000; text-decoration-color: #808000\">unit</span>=<span style=\"color: #008000; text-decoration-color: #008000\">'dBm'</span>, <span style=\"color: #808000; text-decoration-color: #808000\">ndata</span>=<span style=\"color: #008080; text-decoration-color: #008080; font-weight: bold\">3072</span>, <span style=\"color: #808000; text-decoration-color: #808000\">bw</span>=<span style=\"color: #008080; text-decoration-color: #008080; font-weight: bold\">73828</span>, <span style=\"color: #808000; text-decoration-color: #808000\">processing</span>=<span style=\"color: #008000; text-decoration-color: #008000\">'peak'</span>, <span style=\"color: #808000; text-decoration-color: #808000\">antenna_id</span>=<span style=\"color: #008080; text-decoration-color: #008080; font-weight: bold\">0</span>, \n",
       "<span style=\"color: #808000; text-decoration-color: #808000\">thresh</span>=<span style=\"color: #008080; text-decoration-color: #008080; font-weight: bold\">-100</span>, <span style=\"color: #808000; text-decoration-color: #808000\">minimum</span>=<span style=\"color: #008080; text-decoration-color: #008080; font-weight: bold\">-147.5</span><span style=\"font-weight: bold\">)]</span>\n",
       "<span style=\"font-weight: bold\">}</span>\n",
       "</pre>\n"
      ],
      "text/plain": [
       "\u001b[1m{\u001b[0m\n",
       "    \u001b[32m'filename'\u001b[0m: \u001b[32m'rfeye002290_210922_T204046_MaskBroken.bin'\u001b[0m,\n",
       "    \u001b[32m'file_version'\u001b[0m: \u001b[1;36m23\u001b[0m,\n",
       "    \u001b[32m'string'\u001b[0m: \u001b[32m'CRFS DATA FILE V023'\u001b[0m,\n",
       "    \u001b[32m'hostname'\u001b[0m: \u001b[32m'rfeye002290'\u001b[0m,\n",
       "    \u001b[32m'method'\u001b[0m: \u001b[32m'ScriptRFeye2021_v2.cfg'\u001b[0m,\n",
       "    \u001b[32m'unit_info'\u001b[0m: \u001b[32m'Stationary'\u001b[0m,\n",
       "    \u001b[32m'file_number'\u001b[0m: \u001b[1;36m0\u001b[0m,\n",
       "    \u001b[32m'identifier'\u001b[0m: \u001b[32m'INFO'\u001b[0m,\n",
       "    \u001b[32m'gps'\u001b[0m: GPS Data - Median of Coordinates: \u001b[1;36m-22.70008\u001b[0m:\u001b[1;36m-47.66684\u001b[0m, Altitude: \u001b[1;36m518.40\u001b[0m \n",
       "#Satellites: \u001b[1;36m11.0\u001b[0m ,\n",
       "    \u001b[32m'spectrum'\u001b[0m: \u001b[1m[\u001b[0m\u001b[1;35mSpecData\u001b[0m\u001b[1m(\u001b[0m\u001b[33mtype\u001b[0m=\u001b[1;36m68\u001b[0m, \u001b[33mthread_id\u001b[0m=\u001b[1;36m321\u001b[0m, \u001b[33mdescription\u001b[0m=\u001b[32m'PMEC 2021 \u001b[0m\u001b[32m(\u001b[0m\u001b[32mFaixa 3 de 10\u001b[0m\u001b[32m)\u001b[0m\u001b[32m. @ \u001b[0m\n",
       "\u001b[32m-80dBm, 100kHz.'\u001b[0m, \u001b[33mstart_mega\u001b[0m=\u001b[1;36m320\u001b[0m\u001b[1;36m.0\u001b[0m, \u001b[33mstop_mega\u001b[0m=\u001b[1;36m340\u001b[0m\u001b[1;36m.0\u001b[0m, \u001b[33munit\u001b[0m=\u001b[32m'dBm'\u001b[0m, \u001b[33mndata\u001b[0m=\u001b[1;36m512\u001b[0m, \u001b[33mbw\u001b[0m=\u001b[1;36m73828\u001b[0m, \n",
       "\u001b[33mprocessing\u001b[0m=\u001b[32m'peak'\u001b[0m, \u001b[33mantenna_id\u001b[0m=\u001b[1;36m0\u001b[0m, \u001b[33mthresh\u001b[0m=\u001b[1;36m-100\u001b[0m, \u001b[33mminimum\u001b[0m=\u001b[1;36m-147.5\u001b[0m\u001b[1m)\u001b[0m, \u001b[1;35mSpecData\u001b[0m\u001b[1m(\u001b[0m\u001b[33mtype\u001b[0m=\u001b[1;36m68\u001b[0m, \n",
       "\u001b[33mthread_id\u001b[0m=\u001b[1;36m301\u001b[0m, \u001b[33mdescription\u001b[0m=\u001b[32m'PMEC 2021 \u001b[0m\u001b[32m(\u001b[0m\u001b[32mFaixa 1 de 10\u001b[0m\u001b[32m)\u001b[0m\u001b[32m. @ -80dBm, 10kHz.'\u001b[0m, \u001b[33mstart_mega\u001b[0m=\u001b[1;36m108\u001b[0m\u001b[1;36m.0\u001b[0m, \n",
       "\u001b[33mstop_mega\u001b[0m=\u001b[1;36m137\u001b[0m\u001b[1;36m.0\u001b[0m, \u001b[33munit\u001b[0m=\u001b[32m'dBm'\u001b[0m, \u001b[33mndata\u001b[0m=\u001b[1;36m14848\u001b[0m, \u001b[33mbw\u001b[0m=\u001b[1;36m3690\u001b[0m, \u001b[33mprocessing\u001b[0m=\u001b[32m'peak'\u001b[0m, \u001b[33mantenna_id\u001b[0m=\u001b[1;36m0\u001b[0m, \n",
       "\u001b[33mthresh\u001b[0m=\u001b[1;36m-100\u001b[0m, \u001b[33mminimum\u001b[0m=\u001b[1;36m-147.5\u001b[0m\u001b[1m)\u001b[0m, \u001b[1;35mSpecData\u001b[0m\u001b[1m(\u001b[0m\u001b[33mtype\u001b[0m=\u001b[1;36m68\u001b[0m, \u001b[33mthread_id\u001b[0m=\u001b[1;36m341\u001b[0m, \u001b[33mdescription\u001b[0m=\u001b[32m'PMEC 2021 \u001b[0m\u001b[32m(\u001b[0m\u001b[32mFaixa \u001b[0m\n",
       "\u001b[32m5 de 10\u001b[0m\u001b[32m)\u001b[0m\u001b[32m. @ -80dBm, 100kHz.'\u001b[0m, \u001b[33mstart_mega\u001b[0m=\u001b[1;36m960\u001b[0m\u001b[1;36m.0\u001b[0m, \u001b[33mstop_mega\u001b[0m=\u001b[1;36m1001218\u001b[0m\u001b[1;36m.999\u001b[0m, \u001b[33munit\u001b[0m=\u001b[32m'dBm'\u001b[0m, \n",
       "\u001b[33mndata\u001b[0m=\u001b[1;36m6656\u001b[0m, \u001b[33mbw\u001b[0m=\u001b[1;36m73828\u001b[0m, \u001b[33mprocessing\u001b[0m=\u001b[32m'peak'\u001b[0m, \u001b[33mantenna_id\u001b[0m=\u001b[1;36m0\u001b[0m, \u001b[33mthresh\u001b[0m=\u001b[1;36m-100\u001b[0m, \u001b[33mminimum\u001b[0m=\u001b[1;36m-147.5\u001b[0m\u001b[1m)\u001b[0m, \n",
       "\u001b[1;35mSpecData\u001b[0m\u001b[1m(\u001b[0m\u001b[33mtype\u001b[0m=\u001b[1;36m68\u001b[0m, \u001b[33mthread_id\u001b[0m=\u001b[1;36m311\u001b[0m, \u001b[33mdescription\u001b[0m=\u001b[32m'PMEC 2021 \u001b[0m\u001b[32m(\u001b[0m\u001b[32mFaixa 2 de 10\u001b[0m\u001b[32m)\u001b[0m\u001b[32m. @ -80dBm, 10kHz.'\u001b[0m, \n",
       "\u001b[33mstart_mega\u001b[0m=\u001b[1;36m156\u001b[0m\u001b[1;36m.0\u001b[0m, \u001b[33mstop_mega\u001b[0m=\u001b[1;36m163\u001b[0m\u001b[1;36m.0\u001b[0m, \u001b[33munit\u001b[0m=\u001b[32m'dBm'\u001b[0m, \u001b[33mndata\u001b[0m=\u001b[1;36m3584\u001b[0m, \u001b[33mbw\u001b[0m=\u001b[1;36m3690\u001b[0m, \u001b[33mprocessing\u001b[0m=\u001b[32m'peak'\u001b[0m, \n",
       "\u001b[33mantenna_id\u001b[0m=\u001b[1;36m0\u001b[0m, \u001b[33mthresh\u001b[0m=\u001b[1;36m-100\u001b[0m, \u001b[33mminimum\u001b[0m=\u001b[1;36m-147.5\u001b[0m\u001b[1m)\u001b[0m, \u001b[1;35mSpecData\u001b[0m\u001b[1m(\u001b[0m\u001b[33mtype\u001b[0m=\u001b[1;36m68\u001b[0m, \u001b[33mthread_id\u001b[0m=\u001b[1;36m371\u001b[0m, \n",
       "\u001b[33mdescription\u001b[0m=\u001b[32m'PMEC 2021 \u001b[0m\u001b[32m(\u001b[0m\u001b[32mFaixa 8 de 10\u001b[0m\u001b[32m)\u001b[0m\u001b[32m. @ -80dBm, 100kHz.'\u001b[0m, \u001b[33mstart_mega\u001b[0m=\u001b[1;36m2690\u001b[0m\u001b[1;36m.0\u001b[0m, \n",
       "\u001b[33mstop_mega\u001b[0m=\u001b[1;36m1002898\u001b[0m\u001b[1;36m.999\u001b[0m, \u001b[33munit\u001b[0m=\u001b[32m'dBm'\u001b[0m, \u001b[33mndata\u001b[0m=\u001b[1;36m5376\u001b[0m, \u001b[33mbw\u001b[0m=\u001b[1;36m73828\u001b[0m, \u001b[33mprocessing\u001b[0m=\u001b[32m'peak'\u001b[0m, \u001b[33mantenna_id\u001b[0m=\u001b[1;36m0\u001b[0m, \n",
       "\u001b[33mthresh\u001b[0m=\u001b[1;36m-100\u001b[0m, \u001b[33mminimum\u001b[0m=\u001b[1;36m-147.5\u001b[0m\u001b[1m)\u001b[0m, \u001b[1;35mSpecData\u001b[0m\u001b[1m(\u001b[0m\u001b[33mtype\u001b[0m=\u001b[1;36m68\u001b[0m, \u001b[33mthread_id\u001b[0m=\u001b[1;36m351\u001b[0m, \u001b[33mdescription\u001b[0m=\u001b[32m'PMEC 2021 \u001b[0m\u001b[32m(\u001b[0m\u001b[32mFaixa \u001b[0m\n",
       "\u001b[32m6 de 10\u001b[0m\u001b[32m)\u001b[0m\u001b[32m. @ -80dBm, 100kHz.'\u001b[0m, \u001b[33mstart_mega\u001b[0m=\u001b[1;36m1001388\u001b[0m\u001b[1;36m.999\u001b[0m, \u001b[33mstop_mega\u001b[0m=\u001b[1;36m1001428\u001b[0m\u001b[1;36m.999\u001b[0m, \u001b[33munit\u001b[0m=\u001b[32m'dBm'\u001b[0m, \n",
       "\u001b[33mndata\u001b[0m=\u001b[1;36m1280\u001b[0m, \u001b[33mbw\u001b[0m=\u001b[1;36m73828\u001b[0m, \u001b[33mprocessing\u001b[0m=\u001b[32m'peak'\u001b[0m, \u001b[33mantenna_id\u001b[0m=\u001b[1;36m0\u001b[0m, \u001b[33mthresh\u001b[0m=\u001b[1;36m-100\u001b[0m, \u001b[33mminimum\u001b[0m=\u001b[1;36m-147.5\u001b[0m\u001b[1m)\u001b[0m, \n",
       "\u001b[1;35mSpecData\u001b[0m\u001b[1m(\u001b[0m\u001b[33mtype\u001b[0m=\u001b[1;36m68\u001b[0m, \u001b[33mthread_id\u001b[0m=\u001b[1;36m331\u001b[0m, \u001b[33mdescription\u001b[0m=\u001b[32m'PMEC 2021 \u001b[0m\u001b[32m(\u001b[0m\u001b[32mFaixa 4 de 10\u001b[0m\u001b[32m)\u001b[0m\u001b[32m. @ -80dBm, 100kHz.'\u001b[0m, \n",
       "\u001b[33mstart_mega\u001b[0m=\u001b[1;36m400\u001b[0m\u001b[1;36m.0\u001b[0m, \u001b[33mstop_mega\u001b[0m=\u001b[1;36m410\u001b[0m\u001b[1;36m.0\u001b[0m, \u001b[33munit\u001b[0m=\u001b[32m'dBm'\u001b[0m, \u001b[33mndata\u001b[0m=\u001b[1;36m256\u001b[0m, \u001b[33mbw\u001b[0m=\u001b[1;36m73828\u001b[0m, \u001b[33mprocessing\u001b[0m=\u001b[32m'peak'\u001b[0m, \n",
       "\u001b[33mantenna_id\u001b[0m=\u001b[1;36m0\u001b[0m, \u001b[33mthresh\u001b[0m=\u001b[1;36m-100\u001b[0m, \u001b[33mminimum\u001b[0m=\u001b[1;36m-147.5\u001b[0m\u001b[1m)\u001b[0m, \u001b[1;35mSpecData\u001b[0m\u001b[1m(\u001b[0m\u001b[33mtype\u001b[0m=\u001b[1;36m68\u001b[0m, \u001b[33mthread_id\u001b[0m=\u001b[1;36m361\u001b[0m, \n",
       "\u001b[33mdescription\u001b[0m=\u001b[32m'PMEC 2021 \u001b[0m\u001b[32m(\u001b[0m\u001b[32mFaixa 7 de 10\u001b[0m\u001b[32m)\u001b[0m\u001b[32m. @ -80dBm, 100kHz.'\u001b[0m, \u001b[33mstart_mega\u001b[0m=\u001b[1;36m1530\u001b[0m\u001b[1;36m.0\u001b[0m, \n",
       "\u001b[33mstop_mega\u001b[0m=\u001b[1;36m1001648\u001b[0m\u001b[1;36m.999\u001b[0m, \u001b[33munit\u001b[0m=\u001b[32m'dBm'\u001b[0m, \u001b[33mndata\u001b[0m=\u001b[1;36m3072\u001b[0m, \u001b[33mbw\u001b[0m=\u001b[1;36m73828\u001b[0m, \u001b[33mprocessing\u001b[0m=\u001b[32m'peak'\u001b[0m, \u001b[33mantenna_id\u001b[0m=\u001b[1;36m0\u001b[0m, \n",
       "\u001b[33mthresh\u001b[0m=\u001b[1;36m-100\u001b[0m, \u001b[33mminimum\u001b[0m=\u001b[1;36m-147.5\u001b[0m\u001b[1m)\u001b[0m\u001b[1m]\u001b[0m\n",
       "\u001b[1m}\u001b[0m\n"
      ]
     },
     "metadata": {},
     "output_type": "display_data"
    }
   ],
   "source": [
    "print(compressed)"
   ]
  },
  {
   "cell_type": "code",
   "execution_count": null,
   "metadata": {},
   "outputs": [
    {
     "data": {
      "text/plain": [
       "(#8) [SpecData(type=68, thread_id=321, description='PMEC 2021 (Faixa 3 de 10). @ -80dBm, 100kHz.', start_mega=320.0, stop_mega=340.0, unit='dBm', ndata=512, bw=73828, processing='peak', antenna_id=0, thresh=-100, minimum=-147.5),SpecData(type=68, thread_id=301, description='PMEC 2021 (Faixa 1 de 10). @ -80dBm, 10kHz.', start_mega=108.0, stop_mega=137.0, unit='dBm', ndata=14848, bw=3690, processing='peak', antenna_id=0, thresh=-100, minimum=-147.5),SpecData(type=68, thread_id=341, description='PMEC 2021 (Faixa 5 de 10). @ -80dBm, 100kHz.', start_mega=960.0, stop_mega=1001218.999, unit='dBm', ndata=6656, bw=73828, processing='peak', antenna_id=0, thresh=-100, minimum=-147.5),SpecData(type=68, thread_id=311, description='PMEC 2021 (Faixa 2 de 10). @ -80dBm, 10kHz.', start_mega=156.0, stop_mega=163.0, unit='dBm', ndata=3584, bw=3690, processing='peak', antenna_id=0, thresh=-100, minimum=-147.5),SpecData(type=68, thread_id=371, description='PMEC 2021 (Faixa 8 de 10). @ -80dBm, 100kHz.', start_mega=2690.0, stop_mega=1002898.999, unit='dBm', ndata=5376, bw=73828, processing='peak', antenna_id=0, thresh=-100, minimum=-147.5),SpecData(type=68, thread_id=351, description='PMEC 2021 (Faixa 6 de 10). @ -80dBm, 100kHz.', start_mega=1001388.999, stop_mega=1001428.999, unit='dBm', ndata=1280, bw=73828, processing='peak', antenna_id=0, thresh=-100, minimum=-147.5),SpecData(type=68, thread_id=331, description='PMEC 2021 (Faixa 4 de 10). @ -80dBm, 100kHz.', start_mega=400.0, stop_mega=410.0, unit='dBm', ndata=256, bw=73828, processing='peak', antenna_id=0, thresh=-100, minimum=-147.5),SpecData(type=68, thread_id=361, description='PMEC 2021 (Faixa 7 de 10). @ -80dBm, 100kHz.', start_mega=1530.0, stop_mega=1001648.999, unit='dBm', ndata=3072, bw=73828, processing='peak', antenna_id=0, thresh=-100, minimum=-147.5)]"
      ]
     },
     "execution_count": null,
     "metadata": {},
     "output_type": "execute_result"
    }
   ],
   "source": [
    "fluxo = compressed['spectrum'] ; fluxos"
   ]
  },
  {
   "cell_type": "code",
   "execution_count": null,
   "metadata": {},
   "outputs": [
    {
     "data": {
      "text/html": [
       "<div>\n",
       "<style scoped>\n",
       "    .dataframe tbody tr th:only-of-type {\n",
       "        vertical-align: middle;\n",
       "    }\n",
       "\n",
       "    .dataframe tbody tr th {\n",
       "        vertical-align: top;\n",
       "    }\n",
       "\n",
       "    .dataframe thead th {\n",
       "        text-align: right;\n",
       "    }\n",
       "</style>\n",
       "<table border=\"1\" class=\"dataframe\">\n",
       "  <thead>\n",
       "    <tr style=\"text-align: right;\">\n",
       "      <th>Frequencies</th>\n",
       "      <th>320.000000</th>\n",
       "      <th>320.039139</th>\n",
       "      <th>320.078278</th>\n",
       "      <th>339.921722</th>\n",
       "      <th>339.960861</th>\n",
       "      <th>340.000000</th>\n",
       "    </tr>\n",
       "    <tr>\n",
       "      <th>Time</th>\n",
       "      <th></th>\n",
       "      <th></th>\n",
       "      <th></th>\n",
       "      <th></th>\n",
       "      <th></th>\n",
       "      <th></th>\n",
       "    </tr>\n",
       "  </thead>\n",
       "  <tbody>\n",
       "    <tr>\n",
       "      <th>2021-09-22 20:41:05.113032</th>\n",
       "      <td>-87.5</td>\n",
       "      <td>-91.5</td>\n",
       "      <td>-92.5</td>\n",
       "      <td>-87.5</td>\n",
       "      <td>-87.0</td>\n",
       "      <td>-84.5</td>\n",
       "    </tr>\n",
       "    <tr>\n",
       "      <th>2021-09-22 20:41:07.283024</th>\n",
       "      <td>-82.0</td>\n",
       "      <td>-82.0</td>\n",
       "      <td>-84.5</td>\n",
       "      <td>-89.0</td>\n",
       "      <td>-84.0</td>\n",
       "      <td>-84.0</td>\n",
       "    </tr>\n",
       "    <tr>\n",
       "      <th>2021-09-22 20:41:09.630510</th>\n",
       "      <td>-84.0</td>\n",
       "      <td>-85.0</td>\n",
       "      <td>-88.5</td>\n",
       "      <td>-88.0</td>\n",
       "      <td>-86.5</td>\n",
       "      <td>-87.5</td>\n",
       "    </tr>\n",
       "    <tr>\n",
       "      <th>2021-09-22 20:41:13.863041</th>\n",
       "      <td>-85.5</td>\n",
       "      <td>-84.5</td>\n",
       "      <td>-88.5</td>\n",
       "      <td>-85.0</td>\n",
       "      <td>-81.5</td>\n",
       "      <td>-83.0</td>\n",
       "    </tr>\n",
       "    <tr>\n",
       "      <th>2021-09-22 20:41:21.673136</th>\n",
       "      <td>-83.5</td>\n",
       "      <td>-85.0</td>\n",
       "      <td>-87.0</td>\n",
       "      <td>-84.5</td>\n",
       "      <td>-85.5</td>\n",
       "      <td>-89.5</td>\n",
       "    </tr>\n",
       "  </tbody>\n",
       "</table>\n",
       "</div>"
      ],
      "text/plain": [
       "Frequencies                 320.000000  320.039139  320.078278  339.921722  \\\n",
       "Time                                                                         \n",
       "2021-09-22 20:41:05.113032       -87.5       -91.5       -92.5       -87.5   \n",
       "2021-09-22 20:41:07.283024       -82.0       -82.0       -84.5       -89.0   \n",
       "2021-09-22 20:41:09.630510       -84.0       -85.0       -88.5       -88.0   \n",
       "2021-09-22 20:41:13.863041       -85.5       -84.5       -88.5       -85.0   \n",
       "2021-09-22 20:41:21.673136       -83.5       -85.0       -87.0       -84.5   \n",
       "\n",
       "Frequencies                 339.960861  340.000000  \n",
       "Time                                                \n",
       "2021-09-22 20:41:05.113032       -87.0       -84.5  \n",
       "2021-09-22 20:41:07.283024       -84.0       -84.0  \n",
       "2021-09-22 20:41:09.630510       -86.5       -87.5  \n",
       "2021-09-22 20:41:13.863041       -81.5       -83.0  \n",
       "2021-09-22 20:41:21.673136       -85.5       -89.5  "
      ]
     },
     "execution_count": null,
     "metadata": {},
     "output_type": "execute_result"
    }
   ],
   "source": [
    "fluxo = fluxos[0]\n",
    "fluxo.matrix().iloc[:5, [0, 1, 2, -3, -2, -1]]"
   ]
  },
  {
   "cell_type": "code",
   "execution_count": null,
   "metadata": {},
   "outputs": [
    {
     "data": {
      "text/html": [
       "<pre style=\"white-space:pre;overflow-x:auto;line-height:normal;font-family:Menlo,'DejaVu Sans Mono',consolas,'Courier New',monospace\"><span style=\"color: #008080; text-decoration-color: #008080; font-weight: bold\">9788</span>\n",
       "</pre>\n"
      ],
      "text/plain": [
       "\u001b[1;36m9788\u001b[0m\n"
      ]
     },
     "metadata": {},
     "output_type": "display_data"
    }
   ],
   "source": [
    "print(len(fluxo))"
   ]
  },
  {
   "cell_type": "markdown",
   "metadata": {},
   "source": [
    "## CRFS Bin - Versão 4"
   ]
  },
  {
   "cell_type": "code",
   "execution_count": null,
   "metadata": {},
   "outputs": [
    {
     "data": {
      "text/html": [
       "<pre style=\"white-space:pre;overflow-x:auto;line-height:normal;font-family:Menlo,'DejaVu Sans Mono',consolas,'Courier New',monospace\"><span style=\"font-weight: bold\">{</span>\n",
       "    <span style=\"color: #008000; text-decoration-color: #008000\">'filename'</span>: <span style=\"color: #008000; text-decoration-color: #008000\">'rfeye002292_210208_T202215_CRFSBINv.4.bin'</span>,\n",
       "    <span style=\"color: #008000; text-decoration-color: #008000\">'file_version'</span>: <span style=\"color: #008080; text-decoration-color: #008080; font-weight: bold\">22</span>,\n",
       "    <span style=\"color: #008000; text-decoration-color: #008000\">'string'</span>: <span style=\"color: #008000; text-decoration-color: #008000\">'CRFS DATA FILE V022'</span>,\n",
       "    <span style=\"color: #008000; text-decoration-color: #008000\">'hostname'</span>: <span style=\"color: #008000; text-decoration-color: #008000\">'rfeye002292'</span>,\n",
       "    <span style=\"color: #008000; text-decoration-color: #008000\">'method'</span>: <span style=\"color: #008000; text-decoration-color: #008000\">'Script_CRFSBINv4'</span>,\n",
       "    <span style=\"color: #008000; text-decoration-color: #008000\">'unit_info'</span>: <span style=\"color: #008000; text-decoration-color: #008000\">'Stationary'</span>,\n",
       "    <span style=\"color: #008000; text-decoration-color: #008000\">'file_number'</span>: <span style=\"color: #008080; text-decoration-color: #008080; font-weight: bold\">0</span>,\n",
       "    <span style=\"color: #008000; text-decoration-color: #008000\">'identifier'</span>: <span style=\"color: #008000; text-decoration-color: #008000\">'LOGGER_VERSION'</span>,\n",
       "    <span style=\"color: #008000; text-decoration-color: #008000\">'group_id'</span>: <span style=\"color: #008080; text-decoration-color: #008080; font-weight: bold\">0</span>,\n",
       "    <span style=\"color: #008000; text-decoration-color: #008000\">'text'</span>: <span style=\"color: #008000; text-decoration-color: #008000\">'ClearWrite. Peak.'</span>,\n",
       "    <span style=\"color: #008000; text-decoration-color: #008000\">'gps'</span>: GPS Data - Median of Coordinates: <span style=\"color: #008080; text-decoration-color: #008080; font-weight: bold\">-22.70008</span>:<span style=\"color: #008080; text-decoration-color: #008080; font-weight: bold\">-47.66684</span>, Altitude: <span style=\"color: #008080; text-decoration-color: #008080; font-weight: bold\">518.30</span> \n",
       "#Satellites: <span style=\"color: #008080; text-decoration-color: #008080; font-weight: bold\">11.0</span> ,\n",
       "    <span style=\"color: #008000; text-decoration-color: #008000\">'spectrum'</span>: <span style=\"font-weight: bold\">[</span><span style=\"color: #800080; text-decoration-color: #800080; font-weight: bold\">SpecData</span><span style=\"font-weight: bold\">(</span><span style=\"color: #808000; text-decoration-color: #808000\">type</span>=<span style=\"color: #008080; text-decoration-color: #008080; font-weight: bold\">63</span>, <span style=\"color: #808000; text-decoration-color: #808000\">thread_id</span>=<span style=\"color: #008080; text-decoration-color: #008080; font-weight: bold\">20</span>, <span style=\"color: #808000; text-decoration-color: #808000\">description</span>=<span style=\"color: #008000; text-decoration-color: #008000\">'Peak'</span>, <span style=\"color: #808000; text-decoration-color: #808000\">start_mega</span>=<span style=\"color: #008080; text-decoration-color: #008080; font-weight: bold\">76.0</span>, \n",
       "<span style=\"color: #808000; text-decoration-color: #808000\">stop_mega</span>=<span style=\"color: #008080; text-decoration-color: #008080; font-weight: bold\">108.0</span>, <span style=\"color: #808000; text-decoration-color: #808000\">unit</span>=<span style=\"color: #008000; text-decoration-color: #008000\">'dBm'</span>, <span style=\"color: #808000; text-decoration-color: #808000\">ndata</span>=<span style=\"color: #008080; text-decoration-color: #008080; font-weight: bold\">8192</span>, <span style=\"color: #808000; text-decoration-color: #808000\">bw</span>=<span style=\"color: #008080; text-decoration-color: #008080; font-weight: bold\">3</span>, <span style=\"color: #808000; text-decoration-color: #808000\">processing</span>=<span style=\"color: #008000; text-decoration-color: #008000\">'peak'</span>, <span style=\"color: #808000; text-decoration-color: #808000\">antenna_id</span>=<span style=\"color: #008080; text-decoration-color: #008080; font-weight: bold\">0</span>, \n",
       "<span style=\"color: #808000; text-decoration-color: #808000\">thresh</span>=<span style=\"color: #008080; text-decoration-color: #008080; font-weight: bold\">-147.5</span>, <span style=\"color: #808000; text-decoration-color: #808000\">minimum</span>=<span style=\"color: #008080; text-decoration-color: #008080; font-weight: bold\">-147.5</span><span style=\"font-weight: bold\">)</span>, <span style=\"color: #800080; text-decoration-color: #800080; font-weight: bold\">SpecData</span><span style=\"font-weight: bold\">(</span><span style=\"color: #808000; text-decoration-color: #808000\">type</span>=<span style=\"color: #008080; text-decoration-color: #008080; font-weight: bold\">63</span>, <span style=\"color: #808000; text-decoration-color: #808000\">thread_id</span>=<span style=\"color: #008080; text-decoration-color: #008080; font-weight: bold\">30</span>, <span style=\"color: #808000; text-decoration-color: #808000\">description</span>=<span style=\"color: #008000; text-decoration-color: #008000\">'Peak'</span>, \n",
       "<span style=\"color: #808000; text-decoration-color: #808000\">start_mega</span>=<span style=\"color: #008080; text-decoration-color: #008080; font-weight: bold\">70.0</span>, <span style=\"color: #808000; text-decoration-color: #808000\">stop_mega</span>=<span style=\"color: #008080; text-decoration-color: #008080; font-weight: bold\">110.0</span>, <span style=\"color: #808000; text-decoration-color: #808000\">unit</span>=<span style=\"color: #008000; text-decoration-color: #008000\">'dBm'</span>, <span style=\"color: #808000; text-decoration-color: #808000\">ndata</span>=<span style=\"color: #008080; text-decoration-color: #008080; font-weight: bold\">1024</span>, <span style=\"color: #808000; text-decoration-color: #808000\">bw</span>=<span style=\"color: #008080; text-decoration-color: #008080; font-weight: bold\">39</span>, <span style=\"color: #808000; text-decoration-color: #808000\">processing</span>=<span style=\"color: #008000; text-decoration-color: #008000\">'peak'</span>, \n",
       "<span style=\"color: #808000; text-decoration-color: #808000\">antenna_id</span>=<span style=\"color: #008080; text-decoration-color: #008080; font-weight: bold\">0</span>, <span style=\"color: #808000; text-decoration-color: #808000\">thresh</span>=<span style=\"color: #008080; text-decoration-color: #008080; font-weight: bold\">-147.5</span>, <span style=\"color: #808000; text-decoration-color: #808000\">minimum</span>=<span style=\"color: #008080; text-decoration-color: #008080; font-weight: bold\">-147.5</span><span style=\"font-weight: bold\">)</span>, <span style=\"color: #800080; text-decoration-color: #800080; font-weight: bold\">SpecData</span><span style=\"font-weight: bold\">(</span><span style=\"color: #808000; text-decoration-color: #808000\">type</span>=<span style=\"color: #008080; text-decoration-color: #008080; font-weight: bold\">63</span>, <span style=\"color: #808000; text-decoration-color: #808000\">thread_id</span>=<span style=\"color: #008080; text-decoration-color: #008080; font-weight: bold\">10</span>, \n",
       "<span style=\"color: #808000; text-decoration-color: #808000\">description</span>=<span style=\"color: #008000; text-decoration-color: #008000\">'Peak'</span>, <span style=\"color: #808000; text-decoration-color: #808000\">start_mega</span>=<span style=\"color: #008080; text-decoration-color: #008080; font-weight: bold\">105.0</span>, <span style=\"color: #808000; text-decoration-color: #808000\">stop_mega</span>=<span style=\"color: #008080; text-decoration-color: #008080; font-weight: bold\">140.0</span>, <span style=\"color: #808000; text-decoration-color: #808000\">unit</span>=<span style=\"color: #008000; text-decoration-color: #008000\">'dBm'</span>, <span style=\"color: #808000; text-decoration-color: #808000\">ndata</span>=<span style=\"color: #008080; text-decoration-color: #008080; font-weight: bold\">3584</span>, <span style=\"color: #808000; text-decoration-color: #808000\">bw</span>=<span style=\"color: #008080; text-decoration-color: #008080; font-weight: bold\">9</span>, \n",
       "<span style=\"color: #808000; text-decoration-color: #808000\">processing</span>=<span style=\"color: #008000; text-decoration-color: #008000\">'peak'</span>, <span style=\"color: #808000; text-decoration-color: #808000\">antenna_id</span>=<span style=\"color: #008080; text-decoration-color: #008080; font-weight: bold\">0</span>, <span style=\"color: #808000; text-decoration-color: #808000\">thresh</span>=<span style=\"color: #008080; text-decoration-color: #008080; font-weight: bold\">-147.5</span>, <span style=\"color: #808000; text-decoration-color: #808000\">minimum</span>=<span style=\"color: #008080; text-decoration-color: #008080; font-weight: bold\">-147.5</span><span style=\"font-weight: bold\">)</span>, <span style=\"color: #800080; text-decoration-color: #800080; font-weight: bold\">SpecData</span><span style=\"font-weight: bold\">(</span><span style=\"color: #808000; text-decoration-color: #808000\">type</span>=<span style=\"color: #008080; text-decoration-color: #008080; font-weight: bold\">63</span>, \n",
       "<span style=\"color: #808000; text-decoration-color: #808000\">thread_id</span>=<span style=\"color: #008080; text-decoration-color: #008080; font-weight: bold\">11</span>, <span style=\"color: #808000; text-decoration-color: #808000\">description</span>=<span style=\"color: #008000; text-decoration-color: #008000\">'Peak'</span>, <span style=\"color: #808000; text-decoration-color: #808000\">start_mega</span>=<span style=\"color: #008080; text-decoration-color: #008080; font-weight: bold\">105.0</span>, <span style=\"color: #808000; text-decoration-color: #808000\">stop_mega</span>=<span style=\"color: #008080; text-decoration-color: #008080; font-weight: bold\">140.0</span>, <span style=\"color: #808000; text-decoration-color: #808000\">unit</span>=<span style=\"color: #008000; text-decoration-color: #008000\">'dBm'</span>, <span style=\"color: #808000; text-decoration-color: #808000\">ndata</span>=<span style=\"color: #008080; text-decoration-color: #008080; font-weight: bold\">3584</span>, \n",
       "<span style=\"color: #808000; text-decoration-color: #808000\">bw</span>=<span style=\"color: #008080; text-decoration-color: #008080; font-weight: bold\">9</span>, <span style=\"color: #808000; text-decoration-color: #808000\">processing</span>=<span style=\"color: #008000; text-decoration-color: #008000\">'average'</span>, <span style=\"color: #808000; text-decoration-color: #808000\">antenna_id</span>=<span style=\"color: #008080; text-decoration-color: #008080; font-weight: bold\">0</span>, <span style=\"color: #808000; text-decoration-color: #808000\">thresh</span>=<span style=\"color: #008080; text-decoration-color: #008080; font-weight: bold\">-147.5</span>, <span style=\"color: #808000; text-decoration-color: #808000\">minimum</span>=<span style=\"color: #008080; text-decoration-color: #008080; font-weight: bold\">-147.5</span><span style=\"font-weight: bold\">)</span>, <span style=\"color: #800080; text-decoration-color: #800080; font-weight: bold\">SpecData</span><span style=\"font-weight: bold\">(</span><span style=\"color: #808000; text-decoration-color: #808000\">type</span>=<span style=\"color: #008080; text-decoration-color: #008080; font-weight: bold\">63</span>, \n",
       "<span style=\"color: #808000; text-decoration-color: #808000\">thread_id</span>=<span style=\"color: #008080; text-decoration-color: #008080; font-weight: bold\">12</span>, <span style=\"color: #808000; text-decoration-color: #808000\">description</span>=<span style=\"color: #008000; text-decoration-color: #008000\">'Peak'</span>, <span style=\"color: #808000; text-decoration-color: #808000\">start_mega</span>=<span style=\"color: #008080; text-decoration-color: #008080; font-weight: bold\">105.0</span>, <span style=\"color: #808000; text-decoration-color: #808000\">stop_mega</span>=<span style=\"color: #008080; text-decoration-color: #008080; font-weight: bold\">140.0</span>, <span style=\"color: #808000; text-decoration-color: #808000\">unit</span>=<span style=\"color: #008000; text-decoration-color: #008000\">'dBm'</span>, <span style=\"color: #808000; text-decoration-color: #808000\">ndata</span>=<span style=\"color: #008080; text-decoration-color: #008080; font-weight: bold\">3584</span>, \n",
       "<span style=\"color: #808000; text-decoration-color: #808000\">bw</span>=<span style=\"color: #008080; text-decoration-color: #008080; font-weight: bold\">9</span>, <span style=\"color: #808000; text-decoration-color: #808000\">processing</span>=<span style=\"color: #008000; text-decoration-color: #008000\">'peak'</span>, <span style=\"color: #808000; text-decoration-color: #808000\">antenna_id</span>=<span style=\"color: #008080; text-decoration-color: #008080; font-weight: bold\">0</span>, <span style=\"color: #808000; text-decoration-color: #808000\">thresh</span>=<span style=\"color: #008080; text-decoration-color: #008080; font-weight: bold\">-147.5</span>, <span style=\"color: #808000; text-decoration-color: #808000\">minimum</span>=<span style=\"color: #008080; text-decoration-color: #008080; font-weight: bold\">-147.5</span><span style=\"font-weight: bold\">)</span>, <span style=\"color: #800080; text-decoration-color: #800080; font-weight: bold\">SpecData</span><span style=\"font-weight: bold\">(</span><span style=\"color: #808000; text-decoration-color: #808000\">type</span>=<span style=\"color: #008080; text-decoration-color: #008080; font-weight: bold\">63</span>, \n",
       "<span style=\"color: #808000; text-decoration-color: #808000\">thread_id</span>=<span style=\"color: #008080; text-decoration-color: #008080; font-weight: bold\">13</span>, <span style=\"color: #808000; text-decoration-color: #808000\">description</span>=<span style=\"color: #008000; text-decoration-color: #008000\">'Peak'</span>, <span style=\"color: #808000; text-decoration-color: #808000\">start_mega</span>=<span style=\"color: #008080; text-decoration-color: #008080; font-weight: bold\">105.0</span>, <span style=\"color: #808000; text-decoration-color: #808000\">stop_mega</span>=<span style=\"color: #008080; text-decoration-color: #008080; font-weight: bold\">140.0</span>, <span style=\"color: #808000; text-decoration-color: #808000\">unit</span>=<span style=\"color: #008000; text-decoration-color: #008000\">'dBm'</span>, <span style=\"color: #808000; text-decoration-color: #808000\">ndata</span>=<span style=\"color: #008080; text-decoration-color: #008080; font-weight: bold\">3584</span>, \n",
       "<span style=\"color: #808000; text-decoration-color: #808000\">bw</span>=<span style=\"color: #008080; text-decoration-color: #008080; font-weight: bold\">9</span>, <span style=\"color: #808000; text-decoration-color: #808000\">processing</span>=<span style=\"color: #008000; text-decoration-color: #008000\">'average'</span>, <span style=\"color: #808000; text-decoration-color: #808000\">antenna_id</span>=<span style=\"color: #008080; text-decoration-color: #008080; font-weight: bold\">0</span>, <span style=\"color: #808000; text-decoration-color: #808000\">thresh</span>=<span style=\"color: #008080; text-decoration-color: #008080; font-weight: bold\">-147.5</span>, <span style=\"color: #808000; text-decoration-color: #808000\">minimum</span>=<span style=\"color: #008080; text-decoration-color: #008080; font-weight: bold\">-147.5</span><span style=\"font-weight: bold\">)</span>, <span style=\"color: #800080; text-decoration-color: #800080; font-weight: bold\">SpecData</span><span style=\"font-weight: bold\">(</span><span style=\"color: #808000; text-decoration-color: #808000\">type</span>=<span style=\"color: #008080; text-decoration-color: #008080; font-weight: bold\">64</span>, \n",
       "<span style=\"color: #808000; text-decoration-color: #808000\">thread_id</span>=<span style=\"color: #008080; text-decoration-color: #008080; font-weight: bold\">14</span>, <span style=\"color: #808000; text-decoration-color: #808000\">description</span>=<span style=\"color: #008000; text-decoration-color: #008000\">'Peak'</span>, <span style=\"color: #808000; text-decoration-color: #808000\">start_mega</span>=<span style=\"color: #008080; text-decoration-color: #008080; font-weight: bold\">105.0</span>, <span style=\"color: #808000; text-decoration-color: #808000\">stop_mega</span>=<span style=\"color: #008080; text-decoration-color: #008080; font-weight: bold\">140.0</span>, <span style=\"color: #808000; text-decoration-color: #808000\">unit</span>=<span style=\"color: #008000; text-decoration-color: #008000\">'dBm'</span>, <span style=\"color: #808000; text-decoration-color: #808000\">ndata</span>=<span style=\"color: #008080; text-decoration-color: #008080; font-weight: bold\">3584</span>, \n",
       "<span style=\"color: #808000; text-decoration-color: #808000\">bw</span>=<span style=\"color: #008080; text-decoration-color: #008080; font-weight: bold\">48</span>, <span style=\"color: #808000; text-decoration-color: #808000\">processing</span>=<span style=\"color: #008000; text-decoration-color: #008000\">'average'</span>, <span style=\"color: #808000; text-decoration-color: #808000\">antenna_id</span>=<span style=\"color: #008080; text-decoration-color: #008080; font-weight: bold\">0</span>, <span style=\"color: #808000; text-decoration-color: #808000\">thresh</span>=<span style=\"color: #008080; text-decoration-color: #008080; font-weight: bold\">-90</span>, <span style=\"color: #808000; text-decoration-color: #808000\">minimum</span>=<span style=\"color: #008080; text-decoration-color: #008080; font-weight: bold\">-147.5</span><span style=\"font-weight: bold\">)</span>, <span style=\"color: #800080; text-decoration-color: #800080; font-weight: bold\">SpecData</span><span style=\"font-weight: bold\">(</span><span style=\"color: #808000; text-decoration-color: #808000\">type</span>=<span style=\"color: #008080; text-decoration-color: #008080; font-weight: bold\">64</span>, \n",
       "<span style=\"color: #808000; text-decoration-color: #808000\">thread_id</span>=<span style=\"color: #008080; text-decoration-color: #008080; font-weight: bold\">14</span>, <span style=\"color: #808000; text-decoration-color: #808000\">description</span>=<span style=\"color: #008000; text-decoration-color: #008000\">'Peak'</span>, <span style=\"color: #808000; text-decoration-color: #808000\">start_mega</span>=<span style=\"color: #008080; text-decoration-color: #008080; font-weight: bold\">105.0</span>, <span style=\"color: #808000; text-decoration-color: #808000\">stop_mega</span>=<span style=\"color: #008080; text-decoration-color: #008080; font-weight: bold\">140.0</span>, <span style=\"color: #808000; text-decoration-color: #808000\">unit</span>=<span style=\"color: #008000; text-decoration-color: #008000\">'dBm'</span>, <span style=\"color: #808000; text-decoration-color: #808000\">ndata</span>=<span style=\"color: #008080; text-decoration-color: #008080; font-weight: bold\">3584</span>, \n",
       "<span style=\"color: #808000; text-decoration-color: #808000\">bw</span>=<span style=\"color: #008080; text-decoration-color: #008080; font-weight: bold\">51</span>, <span style=\"color: #808000; text-decoration-color: #808000\">processing</span>=<span style=\"color: #008000; text-decoration-color: #008000\">'average'</span>, <span style=\"color: #808000; text-decoration-color: #808000\">antenna_id</span>=<span style=\"color: #008080; text-decoration-color: #008080; font-weight: bold\">0</span>, <span style=\"color: #808000; text-decoration-color: #808000\">thresh</span>=<span style=\"color: #008080; text-decoration-color: #008080; font-weight: bold\">-90</span>, <span style=\"color: #808000; text-decoration-color: #808000\">minimum</span>=<span style=\"color: #008080; text-decoration-color: #008080; font-weight: bold\">-147.5</span><span style=\"font-weight: bold\">)</span>, <span style=\"color: #800080; text-decoration-color: #800080; font-weight: bold\">SpecData</span><span style=\"font-weight: bold\">(</span><span style=\"color: #808000; text-decoration-color: #808000\">type</span>=<span style=\"color: #008080; text-decoration-color: #008080; font-weight: bold\">64</span>, \n",
       "<span style=\"color: #808000; text-decoration-color: #808000\">thread_id</span>=<span style=\"color: #008080; text-decoration-color: #008080; font-weight: bold\">14</span>, <span style=\"color: #808000; text-decoration-color: #808000\">description</span>=<span style=\"color: #008000; text-decoration-color: #008000\">'Peak'</span>, <span style=\"color: #808000; text-decoration-color: #808000\">start_mega</span>=<span style=\"color: #008080; text-decoration-color: #008080; font-weight: bold\">105.0</span>, <span style=\"color: #808000; text-decoration-color: #808000\">stop_mega</span>=<span style=\"color: #008080; text-decoration-color: #008080; font-weight: bold\">140.0</span>, <span style=\"color: #808000; text-decoration-color: #808000\">unit</span>=<span style=\"color: #008000; text-decoration-color: #008000\">'dBm'</span>, <span style=\"color: #808000; text-decoration-color: #808000\">ndata</span>=<span style=\"color: #008080; text-decoration-color: #008080; font-weight: bold\">3584</span>, \n",
       "<span style=\"color: #808000; text-decoration-color: #808000\">bw</span>=<span style=\"color: #008080; text-decoration-color: #008080; font-weight: bold\">47</span>, <span style=\"color: #808000; text-decoration-color: #808000\">processing</span>=<span style=\"color: #008000; text-decoration-color: #008000\">'average'</span>, <span style=\"color: #808000; text-decoration-color: #808000\">antenna_id</span>=<span style=\"color: #008080; text-decoration-color: #008080; font-weight: bold\">0</span>, <span style=\"color: #808000; text-decoration-color: #808000\">thresh</span>=<span style=\"color: #008080; text-decoration-color: #008080; font-weight: bold\">-90</span>, <span style=\"color: #808000; text-decoration-color: #808000\">minimum</span>=<span style=\"color: #008080; text-decoration-color: #008080; font-weight: bold\">-147.5</span><span style=\"font-weight: bold\">)</span>, <span style=\"color: #800080; text-decoration-color: #800080; font-weight: bold\">SpecData</span><span style=\"font-weight: bold\">(</span><span style=\"color: #808000; text-decoration-color: #808000\">type</span>=<span style=\"color: #008080; text-decoration-color: #008080; font-weight: bold\">64</span>, \n",
       "<span style=\"color: #808000; text-decoration-color: #808000\">thread_id</span>=<span style=\"color: #008080; text-decoration-color: #008080; font-weight: bold\">14</span>, <span style=\"color: #808000; text-decoration-color: #808000\">description</span>=<span style=\"color: #008000; text-decoration-color: #008000\">'Peak'</span>, <span style=\"color: #808000; text-decoration-color: #808000\">start_mega</span>=<span style=\"color: #008080; text-decoration-color: #008080; font-weight: bold\">105.0</span>, <span style=\"color: #808000; text-decoration-color: #808000\">stop_mega</span>=<span style=\"color: #008080; text-decoration-color: #008080; font-weight: bold\">140.0</span>, <span style=\"color: #808000; text-decoration-color: #808000\">unit</span>=<span style=\"color: #008000; text-decoration-color: #008000\">'dBm'</span>, <span style=\"color: #808000; text-decoration-color: #808000\">ndata</span>=<span style=\"color: #008080; text-decoration-color: #008080; font-weight: bold\">3584</span>, \n",
       "<span style=\"color: #808000; text-decoration-color: #808000\">bw</span>=<span style=\"color: #008080; text-decoration-color: #008080; font-weight: bold\">46</span>, <span style=\"color: #808000; text-decoration-color: #808000\">processing</span>=<span style=\"color: #008000; text-decoration-color: #008000\">'average'</span>, <span style=\"color: #808000; text-decoration-color: #808000\">antenna_id</span>=<span style=\"color: #008080; text-decoration-color: #008080; font-weight: bold\">0</span>, <span style=\"color: #808000; text-decoration-color: #808000\">thresh</span>=<span style=\"color: #008080; text-decoration-color: #008080; font-weight: bold\">-90</span>, <span style=\"color: #808000; text-decoration-color: #808000\">minimum</span>=<span style=\"color: #008080; text-decoration-color: #008080; font-weight: bold\">-147.5</span><span style=\"font-weight: bold\">)</span>, <span style=\"color: #800080; text-decoration-color: #800080; font-weight: bold\">SpecData</span><span style=\"font-weight: bold\">(</span><span style=\"color: #808000; text-decoration-color: #808000\">type</span>=<span style=\"color: #008080; text-decoration-color: #008080; font-weight: bold\">64</span>, \n",
       "<span style=\"color: #808000; text-decoration-color: #808000\">thread_id</span>=<span style=\"color: #008080; text-decoration-color: #008080; font-weight: bold\">14</span>, <span style=\"color: #808000; text-decoration-color: #808000\">description</span>=<span style=\"color: #008000; text-decoration-color: #008000\">'Peak'</span>, <span style=\"color: #808000; text-decoration-color: #808000\">start_mega</span>=<span style=\"color: #008080; text-decoration-color: #008080; font-weight: bold\">105.0</span>, <span style=\"color: #808000; text-decoration-color: #808000\">stop_mega</span>=<span style=\"color: #008080; text-decoration-color: #008080; font-weight: bold\">140.0</span>, <span style=\"color: #808000; text-decoration-color: #808000\">unit</span>=<span style=\"color: #008000; text-decoration-color: #008000\">'dBm'</span>, <span style=\"color: #808000; text-decoration-color: #808000\">ndata</span>=<span style=\"color: #008080; text-decoration-color: #008080; font-weight: bold\">3584</span>, \n",
       "<span style=\"color: #808000; text-decoration-color: #808000\">bw</span>=<span style=\"color: #008080; text-decoration-color: #008080; font-weight: bold\">59</span>, <span style=\"color: #808000; text-decoration-color: #808000\">processing</span>=<span style=\"color: #008000; text-decoration-color: #008000\">'average'</span>, <span style=\"color: #808000; text-decoration-color: #808000\">antenna_id</span>=<span style=\"color: #008080; text-decoration-color: #008080; font-weight: bold\">0</span>, <span style=\"color: #808000; text-decoration-color: #808000\">thresh</span>=<span style=\"color: #008080; text-decoration-color: #008080; font-weight: bold\">-90</span>, <span style=\"color: #808000; text-decoration-color: #808000\">minimum</span>=<span style=\"color: #008080; text-decoration-color: #008080; font-weight: bold\">-147.5</span><span style=\"font-weight: bold\">)</span>, <span style=\"color: #800080; text-decoration-color: #800080; font-weight: bold\">SpecData</span><span style=\"font-weight: bold\">(</span><span style=\"color: #808000; text-decoration-color: #808000\">type</span>=<span style=\"color: #008080; text-decoration-color: #008080; font-weight: bold\">64</span>, \n",
       "<span style=\"color: #808000; text-decoration-color: #808000\">thread_id</span>=<span style=\"color: #008080; text-decoration-color: #008080; font-weight: bold\">14</span>, <span style=\"color: #808000; text-decoration-color: #808000\">description</span>=<span style=\"color: #008000; text-decoration-color: #008000\">'Peak'</span>, <span style=\"color: #808000; text-decoration-color: #808000\">start_mega</span>=<span style=\"color: #008080; text-decoration-color: #008080; font-weight: bold\">105.0</span>, <span style=\"color: #808000; text-decoration-color: #808000\">stop_mega</span>=<span style=\"color: #008080; text-decoration-color: #008080; font-weight: bold\">140.0</span>, <span style=\"color: #808000; text-decoration-color: #808000\">unit</span>=<span style=\"color: #008000; text-decoration-color: #008000\">'dBm'</span>, <span style=\"color: #808000; text-decoration-color: #808000\">ndata</span>=<span style=\"color: #008080; text-decoration-color: #008080; font-weight: bold\">3584</span>, \n",
       "<span style=\"color: #808000; text-decoration-color: #808000\">bw</span>=<span style=\"color: #008080; text-decoration-color: #008080; font-weight: bold\">44</span>, <span style=\"color: #808000; text-decoration-color: #808000\">processing</span>=<span style=\"color: #008000; text-decoration-color: #008000\">'average'</span>, <span style=\"color: #808000; text-decoration-color: #808000\">antenna_id</span>=<span style=\"color: #008080; text-decoration-color: #008080; font-weight: bold\">0</span>, <span style=\"color: #808000; text-decoration-color: #808000\">thresh</span>=<span style=\"color: #008080; text-decoration-color: #008080; font-weight: bold\">-90</span>, <span style=\"color: #808000; text-decoration-color: #808000\">minimum</span>=<span style=\"color: #008080; text-decoration-color: #008080; font-weight: bold\">-147.5</span><span style=\"font-weight: bold\">)</span>, <span style=\"color: #800080; text-decoration-color: #800080; font-weight: bold\">SpecData</span><span style=\"font-weight: bold\">(</span><span style=\"color: #808000; text-decoration-color: #808000\">type</span>=<span style=\"color: #008080; text-decoration-color: #008080; font-weight: bold\">64</span>, \n",
       "<span style=\"color: #808000; text-decoration-color: #808000\">thread_id</span>=<span style=\"color: #008080; text-decoration-color: #008080; font-weight: bold\">14</span>, <span style=\"color: #808000; text-decoration-color: #808000\">description</span>=<span style=\"color: #008000; text-decoration-color: #008000\">'Peak'</span>, <span style=\"color: #808000; text-decoration-color: #808000\">start_mega</span>=<span style=\"color: #008080; text-decoration-color: #008080; font-weight: bold\">105.0</span>, <span style=\"color: #808000; text-decoration-color: #808000\">stop_mega</span>=<span style=\"color: #008080; text-decoration-color: #008080; font-weight: bold\">140.0</span>, <span style=\"color: #808000; text-decoration-color: #808000\">unit</span>=<span style=\"color: #008000; text-decoration-color: #008000\">'dBm'</span>, <span style=\"color: #808000; text-decoration-color: #808000\">ndata</span>=<span style=\"color: #008080; text-decoration-color: #008080; font-weight: bold\">3584</span>, \n",
       "<span style=\"color: #808000; text-decoration-color: #808000\">bw</span>=<span style=\"color: #008080; text-decoration-color: #008080; font-weight: bold\">62</span>, <span style=\"color: #808000; text-decoration-color: #808000\">processing</span>=<span style=\"color: #008000; text-decoration-color: #008000\">'average'</span>, <span style=\"color: #808000; text-decoration-color: #808000\">antenna_id</span>=<span style=\"color: #008080; text-decoration-color: #008080; font-weight: bold\">0</span>, <span style=\"color: #808000; text-decoration-color: #808000\">thresh</span>=<span style=\"color: #008080; text-decoration-color: #008080; font-weight: bold\">-90</span>, <span style=\"color: #808000; text-decoration-color: #808000\">minimum</span>=<span style=\"color: #008080; text-decoration-color: #008080; font-weight: bold\">-147.5</span><span style=\"font-weight: bold\">)</span>, <span style=\"color: #800080; text-decoration-color: #800080; font-weight: bold\">SpecData</span><span style=\"font-weight: bold\">(</span><span style=\"color: #808000; text-decoration-color: #808000\">type</span>=<span style=\"color: #008080; text-decoration-color: #008080; font-weight: bold\">64</span>, \n",
       "<span style=\"color: #808000; text-decoration-color: #808000\">thread_id</span>=<span style=\"color: #008080; text-decoration-color: #008080; font-weight: bold\">14</span>, <span style=\"color: #808000; text-decoration-color: #808000\">description</span>=<span style=\"color: #008000; text-decoration-color: #008000\">'Peak'</span>, <span style=\"color: #808000; text-decoration-color: #808000\">start_mega</span>=<span style=\"color: #008080; text-decoration-color: #008080; font-weight: bold\">105.0</span>, <span style=\"color: #808000; text-decoration-color: #808000\">stop_mega</span>=<span style=\"color: #008080; text-decoration-color: #008080; font-weight: bold\">140.0</span>, <span style=\"color: #808000; text-decoration-color: #808000\">unit</span>=<span style=\"color: #008000; text-decoration-color: #008000\">'dBm'</span>, <span style=\"color: #808000; text-decoration-color: #808000\">ndata</span>=<span style=\"color: #008080; text-decoration-color: #008080; font-weight: bold\">3584</span>, \n",
       "<span style=\"color: #808000; text-decoration-color: #808000\">bw</span>=<span style=\"color: #008080; text-decoration-color: #008080; font-weight: bold\">50</span>, <span style=\"color: #808000; text-decoration-color: #808000\">processing</span>=<span style=\"color: #008000; text-decoration-color: #008000\">'average'</span>, <span style=\"color: #808000; text-decoration-color: #808000\">antenna_id</span>=<span style=\"color: #008080; text-decoration-color: #008080; font-weight: bold\">0</span>, <span style=\"color: #808000; text-decoration-color: #808000\">thresh</span>=<span style=\"color: #008080; text-decoration-color: #008080; font-weight: bold\">-90</span>, <span style=\"color: #808000; text-decoration-color: #808000\">minimum</span>=<span style=\"color: #008080; text-decoration-color: #008080; font-weight: bold\">-147.5</span><span style=\"font-weight: bold\">)</span>, <span style=\"color: #800080; text-decoration-color: #800080; font-weight: bold\">SpecData</span><span style=\"font-weight: bold\">(</span><span style=\"color: #808000; text-decoration-color: #808000\">type</span>=<span style=\"color: #008080; text-decoration-color: #008080; font-weight: bold\">64</span>, \n",
       "<span style=\"color: #808000; text-decoration-color: #808000\">thread_id</span>=<span style=\"color: #008080; text-decoration-color: #008080; font-weight: bold\">14</span>, <span style=\"color: #808000; text-decoration-color: #808000\">description</span>=<span style=\"color: #008000; text-decoration-color: #008000\">'Peak'</span>, <span style=\"color: #808000; text-decoration-color: #808000\">start_mega</span>=<span style=\"color: #008080; text-decoration-color: #008080; font-weight: bold\">105.0</span>, <span style=\"color: #808000; text-decoration-color: #808000\">stop_mega</span>=<span style=\"color: #008080; text-decoration-color: #008080; font-weight: bold\">140.0</span>, <span style=\"color: #808000; text-decoration-color: #808000\">unit</span>=<span style=\"color: #008000; text-decoration-color: #008000\">'dBm'</span>, <span style=\"color: #808000; text-decoration-color: #808000\">ndata</span>=<span style=\"color: #008080; text-decoration-color: #008080; font-weight: bold\">3584</span>, \n",
       "<span style=\"color: #808000; text-decoration-color: #808000\">bw</span>=<span style=\"color: #008080; text-decoration-color: #008080; font-weight: bold\">49</span>, <span style=\"color: #808000; text-decoration-color: #808000\">processing</span>=<span style=\"color: #008000; text-decoration-color: #008000\">'average'</span>, <span style=\"color: #808000; text-decoration-color: #808000\">antenna_id</span>=<span style=\"color: #008080; text-decoration-color: #008080; font-weight: bold\">0</span>, <span style=\"color: #808000; text-decoration-color: #808000\">thresh</span>=<span style=\"color: #008080; text-decoration-color: #008080; font-weight: bold\">-90</span>, <span style=\"color: #808000; text-decoration-color: #808000\">minimum</span>=<span style=\"color: #008080; text-decoration-color: #008080; font-weight: bold\">-147.5</span><span style=\"font-weight: bold\">)</span>, <span style=\"color: #800080; text-decoration-color: #800080; font-weight: bold\">SpecData</span><span style=\"font-weight: bold\">(</span><span style=\"color: #808000; text-decoration-color: #808000\">type</span>=<span style=\"color: #008080; text-decoration-color: #008080; font-weight: bold\">64</span>, \n",
       "<span style=\"color: #808000; text-decoration-color: #808000\">thread_id</span>=<span style=\"color: #008080; text-decoration-color: #008080; font-weight: bold\">14</span>, <span style=\"color: #808000; text-decoration-color: #808000\">description</span>=<span style=\"color: #008000; text-decoration-color: #008000\">'Peak'</span>, <span style=\"color: #808000; text-decoration-color: #808000\">start_mega</span>=<span style=\"color: #008080; text-decoration-color: #008080; font-weight: bold\">105.0</span>, <span style=\"color: #808000; text-decoration-color: #808000\">stop_mega</span>=<span style=\"color: #008080; text-decoration-color: #008080; font-weight: bold\">140.0</span>, <span style=\"color: #808000; text-decoration-color: #808000\">unit</span>=<span style=\"color: #008000; text-decoration-color: #008000\">'dBm'</span>, <span style=\"color: #808000; text-decoration-color: #808000\">ndata</span>=<span style=\"color: #008080; text-decoration-color: #008080; font-weight: bold\">3584</span>, \n",
       "<span style=\"color: #808000; text-decoration-color: #808000\">bw</span>=<span style=\"color: #008080; text-decoration-color: #008080; font-weight: bold\">43</span>, <span style=\"color: #808000; text-decoration-color: #808000\">processing</span>=<span style=\"color: #008000; text-decoration-color: #008000\">'average'</span>, <span style=\"color: #808000; text-decoration-color: #808000\">antenna_id</span>=<span style=\"color: #008080; text-decoration-color: #008080; font-weight: bold\">0</span>, <span style=\"color: #808000; text-decoration-color: #808000\">thresh</span>=<span style=\"color: #008080; text-decoration-color: #008080; font-weight: bold\">-90</span>, <span style=\"color: #808000; text-decoration-color: #808000\">minimum</span>=<span style=\"color: #008080; text-decoration-color: #008080; font-weight: bold\">-147.5</span><span style=\"font-weight: bold\">)</span>, <span style=\"color: #800080; text-decoration-color: #800080; font-weight: bold\">SpecData</span><span style=\"font-weight: bold\">(</span><span style=\"color: #808000; text-decoration-color: #808000\">type</span>=<span style=\"color: #008080; text-decoration-color: #008080; font-weight: bold\">64</span>, \n",
       "<span style=\"color: #808000; text-decoration-color: #808000\">thread_id</span>=<span style=\"color: #008080; text-decoration-color: #008080; font-weight: bold\">14</span>, <span style=\"color: #808000; text-decoration-color: #808000\">description</span>=<span style=\"color: #008000; text-decoration-color: #008000\">'Peak'</span>, <span style=\"color: #808000; text-decoration-color: #808000\">start_mega</span>=<span style=\"color: #008080; text-decoration-color: #008080; font-weight: bold\">105.0</span>, <span style=\"color: #808000; text-decoration-color: #808000\">stop_mega</span>=<span style=\"color: #008080; text-decoration-color: #008080; font-weight: bold\">140.0</span>, <span style=\"color: #808000; text-decoration-color: #808000\">unit</span>=<span style=\"color: #008000; text-decoration-color: #008000\">'dBm'</span>, <span style=\"color: #808000; text-decoration-color: #808000\">ndata</span>=<span style=\"color: #008080; text-decoration-color: #008080; font-weight: bold\">3584</span>, \n",
       "<span style=\"color: #808000; text-decoration-color: #808000\">bw</span>=<span style=\"color: #008080; text-decoration-color: #008080; font-weight: bold\">52</span>, <span style=\"color: #808000; text-decoration-color: #808000\">processing</span>=<span style=\"color: #008000; text-decoration-color: #008000\">'average'</span>, <span style=\"color: #808000; text-decoration-color: #808000\">antenna_id</span>=<span style=\"color: #008080; text-decoration-color: #008080; font-weight: bold\">0</span>, <span style=\"color: #808000; text-decoration-color: #808000\">thresh</span>=<span style=\"color: #008080; text-decoration-color: #008080; font-weight: bold\">-90</span>, <span style=\"color: #808000; text-decoration-color: #808000\">minimum</span>=<span style=\"color: #008080; text-decoration-color: #008080; font-weight: bold\">-147.5</span><span style=\"font-weight: bold\">)</span>, <span style=\"color: #800080; text-decoration-color: #800080; font-weight: bold\">SpecData</span><span style=\"font-weight: bold\">(</span><span style=\"color: #808000; text-decoration-color: #808000\">type</span>=<span style=\"color: #008080; text-decoration-color: #008080; font-weight: bold\">64</span>, \n",
       "<span style=\"color: #808000; text-decoration-color: #808000\">thread_id</span>=<span style=\"color: #008080; text-decoration-color: #008080; font-weight: bold\">14</span>, <span style=\"color: #808000; text-decoration-color: #808000\">description</span>=<span style=\"color: #008000; text-decoration-color: #008000\">'Peak'</span>, <span style=\"color: #808000; text-decoration-color: #808000\">start_mega</span>=<span style=\"color: #008080; text-decoration-color: #008080; font-weight: bold\">105.0</span>, <span style=\"color: #808000; text-decoration-color: #808000\">stop_mega</span>=<span style=\"color: #008080; text-decoration-color: #008080; font-weight: bold\">140.0</span>, <span style=\"color: #808000; text-decoration-color: #808000\">unit</span>=<span style=\"color: #008000; text-decoration-color: #008000\">'dBm'</span>, <span style=\"color: #808000; text-decoration-color: #808000\">ndata</span>=<span style=\"color: #008080; text-decoration-color: #008080; font-weight: bold\">3584</span>, \n",
       "<span style=\"color: #808000; text-decoration-color: #808000\">bw</span>=<span style=\"color: #008080; text-decoration-color: #008080; font-weight: bold\">54</span>, <span style=\"color: #808000; text-decoration-color: #808000\">processing</span>=<span style=\"color: #008000; text-decoration-color: #008000\">'average'</span>, <span style=\"color: #808000; text-decoration-color: #808000\">antenna_id</span>=<span style=\"color: #008080; text-decoration-color: #008080; font-weight: bold\">0</span>, <span style=\"color: #808000; text-decoration-color: #808000\">thresh</span>=<span style=\"color: #008080; text-decoration-color: #008080; font-weight: bold\">-90</span>, <span style=\"color: #808000; text-decoration-color: #808000\">minimum</span>=<span style=\"color: #008080; text-decoration-color: #008080; font-weight: bold\">-147.5</span><span style=\"font-weight: bold\">)</span>, <span style=\"color: #800080; text-decoration-color: #800080; font-weight: bold\">SpecData</span><span style=\"font-weight: bold\">(</span><span style=\"color: #808000; text-decoration-color: #808000\">type</span>=<span style=\"color: #008080; text-decoration-color: #008080; font-weight: bold\">64</span>, \n",
       "<span style=\"color: #808000; text-decoration-color: #808000\">thread_id</span>=<span style=\"color: #008080; text-decoration-color: #008080; font-weight: bold\">14</span>, <span style=\"color: #808000; text-decoration-color: #808000\">description</span>=<span style=\"color: #008000; text-decoration-color: #008000\">'Peak'</span>, <span style=\"color: #808000; text-decoration-color: #808000\">start_mega</span>=<span style=\"color: #008080; text-decoration-color: #008080; font-weight: bold\">105.0</span>, <span style=\"color: #808000; text-decoration-color: #808000\">stop_mega</span>=<span style=\"color: #008080; text-decoration-color: #008080; font-weight: bold\">140.0</span>, <span style=\"color: #808000; text-decoration-color: #808000\">unit</span>=<span style=\"color: #008000; text-decoration-color: #008000\">'dBm'</span>, <span style=\"color: #808000; text-decoration-color: #808000\">ndata</span>=<span style=\"color: #008080; text-decoration-color: #008080; font-weight: bold\">3584</span>, \n",
       "<span style=\"color: #808000; text-decoration-color: #808000\">bw</span>=<span style=\"color: #008080; text-decoration-color: #008080; font-weight: bold\">42</span>, <span style=\"color: #808000; text-decoration-color: #808000\">processing</span>=<span style=\"color: #008000; text-decoration-color: #008000\">'average'</span>, <span style=\"color: #808000; text-decoration-color: #808000\">antenna_id</span>=<span style=\"color: #008080; text-decoration-color: #008080; font-weight: bold\">0</span>, <span style=\"color: #808000; text-decoration-color: #808000\">thresh</span>=<span style=\"color: #008080; text-decoration-color: #008080; font-weight: bold\">-90</span>, <span style=\"color: #808000; text-decoration-color: #808000\">minimum</span>=<span style=\"color: #008080; text-decoration-color: #008080; font-weight: bold\">-147.5</span><span style=\"font-weight: bold\">)</span>, <span style=\"color: #800080; text-decoration-color: #800080; font-weight: bold\">SpecData</span><span style=\"font-weight: bold\">(</span><span style=\"color: #808000; text-decoration-color: #808000\">type</span>=<span style=\"color: #008080; text-decoration-color: #008080; font-weight: bold\">64</span>, \n",
       "<span style=\"color: #808000; text-decoration-color: #808000\">thread_id</span>=<span style=\"color: #008080; text-decoration-color: #008080; font-weight: bold\">14</span>, <span style=\"color: #808000; text-decoration-color: #808000\">description</span>=<span style=\"color: #008000; text-decoration-color: #008000\">'Peak'</span>, <span style=\"color: #808000; text-decoration-color: #808000\">start_mega</span>=<span style=\"color: #008080; text-decoration-color: #008080; font-weight: bold\">105.0</span>, <span style=\"color: #808000; text-decoration-color: #808000\">stop_mega</span>=<span style=\"color: #008080; text-decoration-color: #008080; font-weight: bold\">140.0</span>, <span style=\"color: #808000; text-decoration-color: #808000\">unit</span>=<span style=\"color: #008000; text-decoration-color: #008000\">'dBm'</span>, <span style=\"color: #808000; text-decoration-color: #808000\">ndata</span>=<span style=\"color: #008080; text-decoration-color: #008080; font-weight: bold\">3584</span>, \n",
       "<span style=\"color: #808000; text-decoration-color: #808000\">bw</span>=<span style=\"color: #008080; text-decoration-color: #008080; font-weight: bold\">37</span>, <span style=\"color: #808000; text-decoration-color: #808000\">processing</span>=<span style=\"color: #008000; text-decoration-color: #008000\">'average'</span>, <span style=\"color: #808000; text-decoration-color: #808000\">antenna_id</span>=<span style=\"color: #008080; text-decoration-color: #008080; font-weight: bold\">0</span>, <span style=\"color: #808000; text-decoration-color: #808000\">thresh</span>=<span style=\"color: #008080; text-decoration-color: #008080; font-weight: bold\">-90</span>, <span style=\"color: #808000; text-decoration-color: #808000\">minimum</span>=<span style=\"color: #008080; text-decoration-color: #008080; font-weight: bold\">-147.5</span><span style=\"font-weight: bold\">)</span>, <span style=\"color: #800080; text-decoration-color: #800080; font-weight: bold\">SpecData</span><span style=\"font-weight: bold\">(</span><span style=\"color: #808000; text-decoration-color: #808000\">type</span>=<span style=\"color: #008080; text-decoration-color: #008080; font-weight: bold\">64</span>, \n",
       "<span style=\"color: #808000; text-decoration-color: #808000\">thread_id</span>=<span style=\"color: #008080; text-decoration-color: #008080; font-weight: bold\">14</span>, <span style=\"color: #808000; text-decoration-color: #808000\">description</span>=<span style=\"color: #008000; text-decoration-color: #008000\">'Peak'</span>, <span style=\"color: #808000; text-decoration-color: #808000\">start_mega</span>=<span style=\"color: #008080; text-decoration-color: #008080; font-weight: bold\">105.0</span>, <span style=\"color: #808000; text-decoration-color: #808000\">stop_mega</span>=<span style=\"color: #008080; text-decoration-color: #008080; font-weight: bold\">140.0</span>, <span style=\"color: #808000; text-decoration-color: #808000\">unit</span>=<span style=\"color: #008000; text-decoration-color: #008000\">'dBm'</span>, <span style=\"color: #808000; text-decoration-color: #808000\">ndata</span>=<span style=\"color: #008080; text-decoration-color: #008080; font-weight: bold\">3584</span>, \n",
       "<span style=\"color: #808000; text-decoration-color: #808000\">bw</span>=<span style=\"color: #008080; text-decoration-color: #008080; font-weight: bold\">53</span>, <span style=\"color: #808000; text-decoration-color: #808000\">processing</span>=<span style=\"color: #008000; text-decoration-color: #008000\">'average'</span>, <span style=\"color: #808000; text-decoration-color: #808000\">antenna_id</span>=<span style=\"color: #008080; text-decoration-color: #008080; font-weight: bold\">0</span>, <span style=\"color: #808000; text-decoration-color: #808000\">thresh</span>=<span style=\"color: #008080; text-decoration-color: #008080; font-weight: bold\">-90</span>, <span style=\"color: #808000; text-decoration-color: #808000\">minimum</span>=<span style=\"color: #008080; text-decoration-color: #008080; font-weight: bold\">-147.5</span><span style=\"font-weight: bold\">)</span>, <span style=\"color: #800080; text-decoration-color: #800080; font-weight: bold\">SpecData</span><span style=\"font-weight: bold\">(</span><span style=\"color: #808000; text-decoration-color: #808000\">type</span>=<span style=\"color: #008080; text-decoration-color: #008080; font-weight: bold\">64</span>, \n",
       "<span style=\"color: #808000; text-decoration-color: #808000\">thread_id</span>=<span style=\"color: #008080; text-decoration-color: #008080; font-weight: bold\">14</span>, <span style=\"color: #808000; text-decoration-color: #808000\">description</span>=<span style=\"color: #008000; text-decoration-color: #008000\">'Peak'</span>, <span style=\"color: #808000; text-decoration-color: #808000\">start_mega</span>=<span style=\"color: #008080; text-decoration-color: #008080; font-weight: bold\">105.0</span>, <span style=\"color: #808000; text-decoration-color: #808000\">stop_mega</span>=<span style=\"color: #008080; text-decoration-color: #008080; font-weight: bold\">140.0</span>, <span style=\"color: #808000; text-decoration-color: #808000\">unit</span>=<span style=\"color: #008000; text-decoration-color: #008000\">'dBm'</span>, <span style=\"color: #808000; text-decoration-color: #808000\">ndata</span>=<span style=\"color: #008080; text-decoration-color: #008080; font-weight: bold\">3584</span>, \n",
       "<span style=\"color: #808000; text-decoration-color: #808000\">bw</span>=<span style=\"color: #008080; text-decoration-color: #008080; font-weight: bold\">45</span>, <span style=\"color: #808000; text-decoration-color: #808000\">processing</span>=<span style=\"color: #008000; text-decoration-color: #008000\">'average'</span>, <span style=\"color: #808000; text-decoration-color: #808000\">antenna_id</span>=<span style=\"color: #008080; text-decoration-color: #008080; font-weight: bold\">0</span>, <span style=\"color: #808000; text-decoration-color: #808000\">thresh</span>=<span style=\"color: #008080; text-decoration-color: #008080; font-weight: bold\">-90</span>, <span style=\"color: #808000; text-decoration-color: #808000\">minimum</span>=<span style=\"color: #008080; text-decoration-color: #008080; font-weight: bold\">-147.5</span><span style=\"font-weight: bold\">)</span>, <span style=\"color: #800080; text-decoration-color: #800080; font-weight: bold\">SpecData</span><span style=\"font-weight: bold\">(</span><span style=\"color: #808000; text-decoration-color: #808000\">type</span>=<span style=\"color: #008080; text-decoration-color: #008080; font-weight: bold\">64</span>, \n",
       "<span style=\"color: #808000; text-decoration-color: #808000\">thread_id</span>=<span style=\"color: #008080; text-decoration-color: #008080; font-weight: bold\">14</span>, <span style=\"color: #808000; text-decoration-color: #808000\">description</span>=<span style=\"color: #008000; text-decoration-color: #008000\">'Peak'</span>, <span style=\"color: #808000; text-decoration-color: #808000\">start_mega</span>=<span style=\"color: #008080; text-decoration-color: #008080; font-weight: bold\">105.0</span>, <span style=\"color: #808000; text-decoration-color: #808000\">stop_mega</span>=<span style=\"color: #008080; text-decoration-color: #008080; font-weight: bold\">140.0</span>, <span style=\"color: #808000; text-decoration-color: #808000\">unit</span>=<span style=\"color: #008000; text-decoration-color: #008000\">'dBm'</span>, <span style=\"color: #808000; text-decoration-color: #808000\">ndata</span>=<span style=\"color: #008080; text-decoration-color: #008080; font-weight: bold\">3584</span>, \n",
       "<span style=\"color: #808000; text-decoration-color: #808000\">bw</span>=<span style=\"color: #008080; text-decoration-color: #008080; font-weight: bold\">55</span>, <span style=\"color: #808000; text-decoration-color: #808000\">processing</span>=<span style=\"color: #008000; text-decoration-color: #008000\">'average'</span>, <span style=\"color: #808000; text-decoration-color: #808000\">antenna_id</span>=<span style=\"color: #008080; text-decoration-color: #008080; font-weight: bold\">0</span>, <span style=\"color: #808000; text-decoration-color: #808000\">thresh</span>=<span style=\"color: #008080; text-decoration-color: #008080; font-weight: bold\">-90</span>, <span style=\"color: #808000; text-decoration-color: #808000\">minimum</span>=<span style=\"color: #008080; text-decoration-color: #008080; font-weight: bold\">-147.5</span><span style=\"font-weight: bold\">)</span>, <span style=\"color: #800080; text-decoration-color: #800080; font-weight: bold\">SpecData</span><span style=\"font-weight: bold\">(</span><span style=\"color: #808000; text-decoration-color: #808000\">type</span>=<span style=\"color: #008080; text-decoration-color: #008080; font-weight: bold\">64</span>, \n",
       "<span style=\"color: #808000; text-decoration-color: #808000\">thread_id</span>=<span style=\"color: #008080; text-decoration-color: #008080; font-weight: bold\">14</span>, <span style=\"color: #808000; text-decoration-color: #808000\">description</span>=<span style=\"color: #008000; text-decoration-color: #008000\">'Peak'</span>, <span style=\"color: #808000; text-decoration-color: #808000\">start_mega</span>=<span style=\"color: #008080; text-decoration-color: #008080; font-weight: bold\">105.0</span>, <span style=\"color: #808000; text-decoration-color: #808000\">stop_mega</span>=<span style=\"color: #008080; text-decoration-color: #008080; font-weight: bold\">140.0</span>, <span style=\"color: #808000; text-decoration-color: #808000\">unit</span>=<span style=\"color: #008000; text-decoration-color: #008000\">'dBm'</span>, <span style=\"color: #808000; text-decoration-color: #808000\">ndata</span>=<span style=\"color: #008080; text-decoration-color: #008080; font-weight: bold\">3584</span>, \n",
       "<span style=\"color: #808000; text-decoration-color: #808000\">bw</span>=<span style=\"color: #008080; text-decoration-color: #008080; font-weight: bold\">58</span>, <span style=\"color: #808000; text-decoration-color: #808000\">processing</span>=<span style=\"color: #008000; text-decoration-color: #008000\">'average'</span>, <span style=\"color: #808000; text-decoration-color: #808000\">antenna_id</span>=<span style=\"color: #008080; text-decoration-color: #008080; font-weight: bold\">0</span>, <span style=\"color: #808000; text-decoration-color: #808000\">thresh</span>=<span style=\"color: #008080; text-decoration-color: #008080; font-weight: bold\">-90</span>, <span style=\"color: #808000; text-decoration-color: #808000\">minimum</span>=<span style=\"color: #008080; text-decoration-color: #008080; font-weight: bold\">-147.5</span><span style=\"font-weight: bold\">)</span>, <span style=\"color: #800080; text-decoration-color: #800080; font-weight: bold\">SpecData</span><span style=\"font-weight: bold\">(</span><span style=\"color: #808000; text-decoration-color: #808000\">type</span>=<span style=\"color: #008080; text-decoration-color: #008080; font-weight: bold\">64</span>, \n",
       "<span style=\"color: #808000; text-decoration-color: #808000\">thread_id</span>=<span style=\"color: #008080; text-decoration-color: #008080; font-weight: bold\">14</span>, <span style=\"color: #808000; text-decoration-color: #808000\">description</span>=<span style=\"color: #008000; text-decoration-color: #008000\">'Peak'</span>, <span style=\"color: #808000; text-decoration-color: #808000\">start_mega</span>=<span style=\"color: #008080; text-decoration-color: #008080; font-weight: bold\">105.0</span>, <span style=\"color: #808000; text-decoration-color: #808000\">stop_mega</span>=<span style=\"color: #008080; text-decoration-color: #008080; font-weight: bold\">140.0</span>, <span style=\"color: #808000; text-decoration-color: #808000\">unit</span>=<span style=\"color: #008000; text-decoration-color: #008000\">'dBm'</span>, <span style=\"color: #808000; text-decoration-color: #808000\">ndata</span>=<span style=\"color: #008080; text-decoration-color: #008080; font-weight: bold\">3584</span>, \n",
       "<span style=\"color: #808000; text-decoration-color: #808000\">bw</span>=<span style=\"color: #008080; text-decoration-color: #008080; font-weight: bold\">39</span>, <span style=\"color: #808000; text-decoration-color: #808000\">processing</span>=<span style=\"color: #008000; text-decoration-color: #008000\">'average'</span>, <span style=\"color: #808000; text-decoration-color: #808000\">antenna_id</span>=<span style=\"color: #008080; text-decoration-color: #008080; font-weight: bold\">0</span>, <span style=\"color: #808000; text-decoration-color: #808000\">thresh</span>=<span style=\"color: #008080; text-decoration-color: #008080; font-weight: bold\">-90</span>, <span style=\"color: #808000; text-decoration-color: #808000\">minimum</span>=<span style=\"color: #008080; text-decoration-color: #008080; font-weight: bold\">-147.5</span><span style=\"font-weight: bold\">)]</span>\n",
       "<span style=\"font-weight: bold\">}</span>\n",
       "</pre>\n"
      ],
      "text/plain": [
       "\u001b[1m{\u001b[0m\n",
       "    \u001b[32m'filename'\u001b[0m: \u001b[32m'rfeye002292_210208_T202215_CRFSBINv.4.bin'\u001b[0m,\n",
       "    \u001b[32m'file_version'\u001b[0m: \u001b[1;36m22\u001b[0m,\n",
       "    \u001b[32m'string'\u001b[0m: \u001b[32m'CRFS DATA FILE V022'\u001b[0m,\n",
       "    \u001b[32m'hostname'\u001b[0m: \u001b[32m'rfeye002292'\u001b[0m,\n",
       "    \u001b[32m'method'\u001b[0m: \u001b[32m'Script_CRFSBINv4'\u001b[0m,\n",
       "    \u001b[32m'unit_info'\u001b[0m: \u001b[32m'Stationary'\u001b[0m,\n",
       "    \u001b[32m'file_number'\u001b[0m: \u001b[1;36m0\u001b[0m,\n",
       "    \u001b[32m'identifier'\u001b[0m: \u001b[32m'LOGGER_VERSION'\u001b[0m,\n",
       "    \u001b[32m'group_id'\u001b[0m: \u001b[1;36m0\u001b[0m,\n",
       "    \u001b[32m'text'\u001b[0m: \u001b[32m'ClearWrite. Peak.'\u001b[0m,\n",
       "    \u001b[32m'gps'\u001b[0m: GPS Data - Median of Coordinates: \u001b[1;36m-22.70008\u001b[0m:\u001b[1;36m-47.66684\u001b[0m, Altitude: \u001b[1;36m518.30\u001b[0m \n",
       "#Satellites: \u001b[1;36m11.0\u001b[0m ,\n",
       "    \u001b[32m'spectrum'\u001b[0m: \u001b[1m[\u001b[0m\u001b[1;35mSpecData\u001b[0m\u001b[1m(\u001b[0m\u001b[33mtype\u001b[0m=\u001b[1;36m63\u001b[0m, \u001b[33mthread_id\u001b[0m=\u001b[1;36m20\u001b[0m, \u001b[33mdescription\u001b[0m=\u001b[32m'Peak'\u001b[0m, \u001b[33mstart_mega\u001b[0m=\u001b[1;36m76\u001b[0m\u001b[1;36m.0\u001b[0m, \n",
       "\u001b[33mstop_mega\u001b[0m=\u001b[1;36m108\u001b[0m\u001b[1;36m.0\u001b[0m, \u001b[33munit\u001b[0m=\u001b[32m'dBm'\u001b[0m, \u001b[33mndata\u001b[0m=\u001b[1;36m8192\u001b[0m, \u001b[33mbw\u001b[0m=\u001b[1;36m3\u001b[0m, \u001b[33mprocessing\u001b[0m=\u001b[32m'peak'\u001b[0m, \u001b[33mantenna_id\u001b[0m=\u001b[1;36m0\u001b[0m, \n",
       "\u001b[33mthresh\u001b[0m=\u001b[1;36m-147.5\u001b[0m, \u001b[33mminimum\u001b[0m=\u001b[1;36m-147.5\u001b[0m\u001b[1m)\u001b[0m, \u001b[1;35mSpecData\u001b[0m\u001b[1m(\u001b[0m\u001b[33mtype\u001b[0m=\u001b[1;36m63\u001b[0m, \u001b[33mthread_id\u001b[0m=\u001b[1;36m30\u001b[0m, \u001b[33mdescription\u001b[0m=\u001b[32m'Peak'\u001b[0m, \n",
       "\u001b[33mstart_mega\u001b[0m=\u001b[1;36m70\u001b[0m\u001b[1;36m.0\u001b[0m, \u001b[33mstop_mega\u001b[0m=\u001b[1;36m110\u001b[0m\u001b[1;36m.0\u001b[0m, \u001b[33munit\u001b[0m=\u001b[32m'dBm'\u001b[0m, \u001b[33mndata\u001b[0m=\u001b[1;36m1024\u001b[0m, \u001b[33mbw\u001b[0m=\u001b[1;36m39\u001b[0m, \u001b[33mprocessing\u001b[0m=\u001b[32m'peak'\u001b[0m, \n",
       "\u001b[33mantenna_id\u001b[0m=\u001b[1;36m0\u001b[0m, \u001b[33mthresh\u001b[0m=\u001b[1;36m-147.5\u001b[0m, \u001b[33mminimum\u001b[0m=\u001b[1;36m-147.5\u001b[0m\u001b[1m)\u001b[0m, \u001b[1;35mSpecData\u001b[0m\u001b[1m(\u001b[0m\u001b[33mtype\u001b[0m=\u001b[1;36m63\u001b[0m, \u001b[33mthread_id\u001b[0m=\u001b[1;36m10\u001b[0m, \n",
       "\u001b[33mdescription\u001b[0m=\u001b[32m'Peak'\u001b[0m, \u001b[33mstart_mega\u001b[0m=\u001b[1;36m105\u001b[0m\u001b[1;36m.0\u001b[0m, \u001b[33mstop_mega\u001b[0m=\u001b[1;36m140\u001b[0m\u001b[1;36m.0\u001b[0m, \u001b[33munit\u001b[0m=\u001b[32m'dBm'\u001b[0m, \u001b[33mndata\u001b[0m=\u001b[1;36m3584\u001b[0m, \u001b[33mbw\u001b[0m=\u001b[1;36m9\u001b[0m, \n",
       "\u001b[33mprocessing\u001b[0m=\u001b[32m'peak'\u001b[0m, \u001b[33mantenna_id\u001b[0m=\u001b[1;36m0\u001b[0m, \u001b[33mthresh\u001b[0m=\u001b[1;36m-147.5\u001b[0m, \u001b[33mminimum\u001b[0m=\u001b[1;36m-147.5\u001b[0m\u001b[1m)\u001b[0m, \u001b[1;35mSpecData\u001b[0m\u001b[1m(\u001b[0m\u001b[33mtype\u001b[0m=\u001b[1;36m63\u001b[0m, \n",
       "\u001b[33mthread_id\u001b[0m=\u001b[1;36m11\u001b[0m, \u001b[33mdescription\u001b[0m=\u001b[32m'Peak'\u001b[0m, \u001b[33mstart_mega\u001b[0m=\u001b[1;36m105\u001b[0m\u001b[1;36m.0\u001b[0m, \u001b[33mstop_mega\u001b[0m=\u001b[1;36m140\u001b[0m\u001b[1;36m.0\u001b[0m, \u001b[33munit\u001b[0m=\u001b[32m'dBm'\u001b[0m, \u001b[33mndata\u001b[0m=\u001b[1;36m3584\u001b[0m, \n",
       "\u001b[33mbw\u001b[0m=\u001b[1;36m9\u001b[0m, \u001b[33mprocessing\u001b[0m=\u001b[32m'average'\u001b[0m, \u001b[33mantenna_id\u001b[0m=\u001b[1;36m0\u001b[0m, \u001b[33mthresh\u001b[0m=\u001b[1;36m-147.5\u001b[0m, \u001b[33mminimum\u001b[0m=\u001b[1;36m-147.5\u001b[0m\u001b[1m)\u001b[0m, \u001b[1;35mSpecData\u001b[0m\u001b[1m(\u001b[0m\u001b[33mtype\u001b[0m=\u001b[1;36m63\u001b[0m, \n",
       "\u001b[33mthread_id\u001b[0m=\u001b[1;36m12\u001b[0m, \u001b[33mdescription\u001b[0m=\u001b[32m'Peak'\u001b[0m, \u001b[33mstart_mega\u001b[0m=\u001b[1;36m105\u001b[0m\u001b[1;36m.0\u001b[0m, \u001b[33mstop_mega\u001b[0m=\u001b[1;36m140\u001b[0m\u001b[1;36m.0\u001b[0m, \u001b[33munit\u001b[0m=\u001b[32m'dBm'\u001b[0m, \u001b[33mndata\u001b[0m=\u001b[1;36m3584\u001b[0m, \n",
       "\u001b[33mbw\u001b[0m=\u001b[1;36m9\u001b[0m, \u001b[33mprocessing\u001b[0m=\u001b[32m'peak'\u001b[0m, \u001b[33mantenna_id\u001b[0m=\u001b[1;36m0\u001b[0m, \u001b[33mthresh\u001b[0m=\u001b[1;36m-147.5\u001b[0m, \u001b[33mminimum\u001b[0m=\u001b[1;36m-147.5\u001b[0m\u001b[1m)\u001b[0m, \u001b[1;35mSpecData\u001b[0m\u001b[1m(\u001b[0m\u001b[33mtype\u001b[0m=\u001b[1;36m63\u001b[0m, \n",
       "\u001b[33mthread_id\u001b[0m=\u001b[1;36m13\u001b[0m, \u001b[33mdescription\u001b[0m=\u001b[32m'Peak'\u001b[0m, \u001b[33mstart_mega\u001b[0m=\u001b[1;36m105\u001b[0m\u001b[1;36m.0\u001b[0m, \u001b[33mstop_mega\u001b[0m=\u001b[1;36m140\u001b[0m\u001b[1;36m.0\u001b[0m, \u001b[33munit\u001b[0m=\u001b[32m'dBm'\u001b[0m, \u001b[33mndata\u001b[0m=\u001b[1;36m3584\u001b[0m, \n",
       "\u001b[33mbw\u001b[0m=\u001b[1;36m9\u001b[0m, \u001b[33mprocessing\u001b[0m=\u001b[32m'average'\u001b[0m, \u001b[33mantenna_id\u001b[0m=\u001b[1;36m0\u001b[0m, \u001b[33mthresh\u001b[0m=\u001b[1;36m-147.5\u001b[0m, \u001b[33mminimum\u001b[0m=\u001b[1;36m-147.5\u001b[0m\u001b[1m)\u001b[0m, \u001b[1;35mSpecData\u001b[0m\u001b[1m(\u001b[0m\u001b[33mtype\u001b[0m=\u001b[1;36m64\u001b[0m, \n",
       "\u001b[33mthread_id\u001b[0m=\u001b[1;36m14\u001b[0m, \u001b[33mdescription\u001b[0m=\u001b[32m'Peak'\u001b[0m, \u001b[33mstart_mega\u001b[0m=\u001b[1;36m105\u001b[0m\u001b[1;36m.0\u001b[0m, \u001b[33mstop_mega\u001b[0m=\u001b[1;36m140\u001b[0m\u001b[1;36m.0\u001b[0m, \u001b[33munit\u001b[0m=\u001b[32m'dBm'\u001b[0m, \u001b[33mndata\u001b[0m=\u001b[1;36m3584\u001b[0m, \n",
       "\u001b[33mbw\u001b[0m=\u001b[1;36m48\u001b[0m, \u001b[33mprocessing\u001b[0m=\u001b[32m'average'\u001b[0m, \u001b[33mantenna_id\u001b[0m=\u001b[1;36m0\u001b[0m, \u001b[33mthresh\u001b[0m=\u001b[1;36m-90\u001b[0m, \u001b[33mminimum\u001b[0m=\u001b[1;36m-147.5\u001b[0m\u001b[1m)\u001b[0m, \u001b[1;35mSpecData\u001b[0m\u001b[1m(\u001b[0m\u001b[33mtype\u001b[0m=\u001b[1;36m64\u001b[0m, \n",
       "\u001b[33mthread_id\u001b[0m=\u001b[1;36m14\u001b[0m, \u001b[33mdescription\u001b[0m=\u001b[32m'Peak'\u001b[0m, \u001b[33mstart_mega\u001b[0m=\u001b[1;36m105\u001b[0m\u001b[1;36m.0\u001b[0m, \u001b[33mstop_mega\u001b[0m=\u001b[1;36m140\u001b[0m\u001b[1;36m.0\u001b[0m, \u001b[33munit\u001b[0m=\u001b[32m'dBm'\u001b[0m, \u001b[33mndata\u001b[0m=\u001b[1;36m3584\u001b[0m, \n",
       "\u001b[33mbw\u001b[0m=\u001b[1;36m51\u001b[0m, \u001b[33mprocessing\u001b[0m=\u001b[32m'average'\u001b[0m, \u001b[33mantenna_id\u001b[0m=\u001b[1;36m0\u001b[0m, \u001b[33mthresh\u001b[0m=\u001b[1;36m-90\u001b[0m, \u001b[33mminimum\u001b[0m=\u001b[1;36m-147.5\u001b[0m\u001b[1m)\u001b[0m, \u001b[1;35mSpecData\u001b[0m\u001b[1m(\u001b[0m\u001b[33mtype\u001b[0m=\u001b[1;36m64\u001b[0m, \n",
       "\u001b[33mthread_id\u001b[0m=\u001b[1;36m14\u001b[0m, \u001b[33mdescription\u001b[0m=\u001b[32m'Peak'\u001b[0m, \u001b[33mstart_mega\u001b[0m=\u001b[1;36m105\u001b[0m\u001b[1;36m.0\u001b[0m, \u001b[33mstop_mega\u001b[0m=\u001b[1;36m140\u001b[0m\u001b[1;36m.0\u001b[0m, \u001b[33munit\u001b[0m=\u001b[32m'dBm'\u001b[0m, \u001b[33mndata\u001b[0m=\u001b[1;36m3584\u001b[0m, \n",
       "\u001b[33mbw\u001b[0m=\u001b[1;36m47\u001b[0m, \u001b[33mprocessing\u001b[0m=\u001b[32m'average'\u001b[0m, \u001b[33mantenna_id\u001b[0m=\u001b[1;36m0\u001b[0m, \u001b[33mthresh\u001b[0m=\u001b[1;36m-90\u001b[0m, \u001b[33mminimum\u001b[0m=\u001b[1;36m-147.5\u001b[0m\u001b[1m)\u001b[0m, \u001b[1;35mSpecData\u001b[0m\u001b[1m(\u001b[0m\u001b[33mtype\u001b[0m=\u001b[1;36m64\u001b[0m, \n",
       "\u001b[33mthread_id\u001b[0m=\u001b[1;36m14\u001b[0m, \u001b[33mdescription\u001b[0m=\u001b[32m'Peak'\u001b[0m, \u001b[33mstart_mega\u001b[0m=\u001b[1;36m105\u001b[0m\u001b[1;36m.0\u001b[0m, \u001b[33mstop_mega\u001b[0m=\u001b[1;36m140\u001b[0m\u001b[1;36m.0\u001b[0m, \u001b[33munit\u001b[0m=\u001b[32m'dBm'\u001b[0m, \u001b[33mndata\u001b[0m=\u001b[1;36m3584\u001b[0m, \n",
       "\u001b[33mbw\u001b[0m=\u001b[1;36m46\u001b[0m, \u001b[33mprocessing\u001b[0m=\u001b[32m'average'\u001b[0m, \u001b[33mantenna_id\u001b[0m=\u001b[1;36m0\u001b[0m, \u001b[33mthresh\u001b[0m=\u001b[1;36m-90\u001b[0m, \u001b[33mminimum\u001b[0m=\u001b[1;36m-147.5\u001b[0m\u001b[1m)\u001b[0m, \u001b[1;35mSpecData\u001b[0m\u001b[1m(\u001b[0m\u001b[33mtype\u001b[0m=\u001b[1;36m64\u001b[0m, \n",
       "\u001b[33mthread_id\u001b[0m=\u001b[1;36m14\u001b[0m, \u001b[33mdescription\u001b[0m=\u001b[32m'Peak'\u001b[0m, \u001b[33mstart_mega\u001b[0m=\u001b[1;36m105\u001b[0m\u001b[1;36m.0\u001b[0m, \u001b[33mstop_mega\u001b[0m=\u001b[1;36m140\u001b[0m\u001b[1;36m.0\u001b[0m, \u001b[33munit\u001b[0m=\u001b[32m'dBm'\u001b[0m, \u001b[33mndata\u001b[0m=\u001b[1;36m3584\u001b[0m, \n",
       "\u001b[33mbw\u001b[0m=\u001b[1;36m59\u001b[0m, \u001b[33mprocessing\u001b[0m=\u001b[32m'average'\u001b[0m, \u001b[33mantenna_id\u001b[0m=\u001b[1;36m0\u001b[0m, \u001b[33mthresh\u001b[0m=\u001b[1;36m-90\u001b[0m, \u001b[33mminimum\u001b[0m=\u001b[1;36m-147.5\u001b[0m\u001b[1m)\u001b[0m, \u001b[1;35mSpecData\u001b[0m\u001b[1m(\u001b[0m\u001b[33mtype\u001b[0m=\u001b[1;36m64\u001b[0m, \n",
       "\u001b[33mthread_id\u001b[0m=\u001b[1;36m14\u001b[0m, \u001b[33mdescription\u001b[0m=\u001b[32m'Peak'\u001b[0m, \u001b[33mstart_mega\u001b[0m=\u001b[1;36m105\u001b[0m\u001b[1;36m.0\u001b[0m, \u001b[33mstop_mega\u001b[0m=\u001b[1;36m140\u001b[0m\u001b[1;36m.0\u001b[0m, \u001b[33munit\u001b[0m=\u001b[32m'dBm'\u001b[0m, \u001b[33mndata\u001b[0m=\u001b[1;36m3584\u001b[0m, \n",
       "\u001b[33mbw\u001b[0m=\u001b[1;36m44\u001b[0m, \u001b[33mprocessing\u001b[0m=\u001b[32m'average'\u001b[0m, \u001b[33mantenna_id\u001b[0m=\u001b[1;36m0\u001b[0m, \u001b[33mthresh\u001b[0m=\u001b[1;36m-90\u001b[0m, \u001b[33mminimum\u001b[0m=\u001b[1;36m-147.5\u001b[0m\u001b[1m)\u001b[0m, \u001b[1;35mSpecData\u001b[0m\u001b[1m(\u001b[0m\u001b[33mtype\u001b[0m=\u001b[1;36m64\u001b[0m, \n",
       "\u001b[33mthread_id\u001b[0m=\u001b[1;36m14\u001b[0m, \u001b[33mdescription\u001b[0m=\u001b[32m'Peak'\u001b[0m, \u001b[33mstart_mega\u001b[0m=\u001b[1;36m105\u001b[0m\u001b[1;36m.0\u001b[0m, \u001b[33mstop_mega\u001b[0m=\u001b[1;36m140\u001b[0m\u001b[1;36m.0\u001b[0m, \u001b[33munit\u001b[0m=\u001b[32m'dBm'\u001b[0m, \u001b[33mndata\u001b[0m=\u001b[1;36m3584\u001b[0m, \n",
       "\u001b[33mbw\u001b[0m=\u001b[1;36m62\u001b[0m, \u001b[33mprocessing\u001b[0m=\u001b[32m'average'\u001b[0m, \u001b[33mantenna_id\u001b[0m=\u001b[1;36m0\u001b[0m, \u001b[33mthresh\u001b[0m=\u001b[1;36m-90\u001b[0m, \u001b[33mminimum\u001b[0m=\u001b[1;36m-147.5\u001b[0m\u001b[1m)\u001b[0m, \u001b[1;35mSpecData\u001b[0m\u001b[1m(\u001b[0m\u001b[33mtype\u001b[0m=\u001b[1;36m64\u001b[0m, \n",
       "\u001b[33mthread_id\u001b[0m=\u001b[1;36m14\u001b[0m, \u001b[33mdescription\u001b[0m=\u001b[32m'Peak'\u001b[0m, \u001b[33mstart_mega\u001b[0m=\u001b[1;36m105\u001b[0m\u001b[1;36m.0\u001b[0m, \u001b[33mstop_mega\u001b[0m=\u001b[1;36m140\u001b[0m\u001b[1;36m.0\u001b[0m, \u001b[33munit\u001b[0m=\u001b[32m'dBm'\u001b[0m, \u001b[33mndata\u001b[0m=\u001b[1;36m3584\u001b[0m, \n",
       "\u001b[33mbw\u001b[0m=\u001b[1;36m50\u001b[0m, \u001b[33mprocessing\u001b[0m=\u001b[32m'average'\u001b[0m, \u001b[33mantenna_id\u001b[0m=\u001b[1;36m0\u001b[0m, \u001b[33mthresh\u001b[0m=\u001b[1;36m-90\u001b[0m, \u001b[33mminimum\u001b[0m=\u001b[1;36m-147.5\u001b[0m\u001b[1m)\u001b[0m, \u001b[1;35mSpecData\u001b[0m\u001b[1m(\u001b[0m\u001b[33mtype\u001b[0m=\u001b[1;36m64\u001b[0m, \n",
       "\u001b[33mthread_id\u001b[0m=\u001b[1;36m14\u001b[0m, \u001b[33mdescription\u001b[0m=\u001b[32m'Peak'\u001b[0m, \u001b[33mstart_mega\u001b[0m=\u001b[1;36m105\u001b[0m\u001b[1;36m.0\u001b[0m, \u001b[33mstop_mega\u001b[0m=\u001b[1;36m140\u001b[0m\u001b[1;36m.0\u001b[0m, \u001b[33munit\u001b[0m=\u001b[32m'dBm'\u001b[0m, \u001b[33mndata\u001b[0m=\u001b[1;36m3584\u001b[0m, \n",
       "\u001b[33mbw\u001b[0m=\u001b[1;36m49\u001b[0m, \u001b[33mprocessing\u001b[0m=\u001b[32m'average'\u001b[0m, \u001b[33mantenna_id\u001b[0m=\u001b[1;36m0\u001b[0m, \u001b[33mthresh\u001b[0m=\u001b[1;36m-90\u001b[0m, \u001b[33mminimum\u001b[0m=\u001b[1;36m-147.5\u001b[0m\u001b[1m)\u001b[0m, \u001b[1;35mSpecData\u001b[0m\u001b[1m(\u001b[0m\u001b[33mtype\u001b[0m=\u001b[1;36m64\u001b[0m, \n",
       "\u001b[33mthread_id\u001b[0m=\u001b[1;36m14\u001b[0m, \u001b[33mdescription\u001b[0m=\u001b[32m'Peak'\u001b[0m, \u001b[33mstart_mega\u001b[0m=\u001b[1;36m105\u001b[0m\u001b[1;36m.0\u001b[0m, \u001b[33mstop_mega\u001b[0m=\u001b[1;36m140\u001b[0m\u001b[1;36m.0\u001b[0m, \u001b[33munit\u001b[0m=\u001b[32m'dBm'\u001b[0m, \u001b[33mndata\u001b[0m=\u001b[1;36m3584\u001b[0m, \n",
       "\u001b[33mbw\u001b[0m=\u001b[1;36m43\u001b[0m, \u001b[33mprocessing\u001b[0m=\u001b[32m'average'\u001b[0m, \u001b[33mantenna_id\u001b[0m=\u001b[1;36m0\u001b[0m, \u001b[33mthresh\u001b[0m=\u001b[1;36m-90\u001b[0m, \u001b[33mminimum\u001b[0m=\u001b[1;36m-147.5\u001b[0m\u001b[1m)\u001b[0m, \u001b[1;35mSpecData\u001b[0m\u001b[1m(\u001b[0m\u001b[33mtype\u001b[0m=\u001b[1;36m64\u001b[0m, \n",
       "\u001b[33mthread_id\u001b[0m=\u001b[1;36m14\u001b[0m, \u001b[33mdescription\u001b[0m=\u001b[32m'Peak'\u001b[0m, \u001b[33mstart_mega\u001b[0m=\u001b[1;36m105\u001b[0m\u001b[1;36m.0\u001b[0m, \u001b[33mstop_mega\u001b[0m=\u001b[1;36m140\u001b[0m\u001b[1;36m.0\u001b[0m, \u001b[33munit\u001b[0m=\u001b[32m'dBm'\u001b[0m, \u001b[33mndata\u001b[0m=\u001b[1;36m3584\u001b[0m, \n",
       "\u001b[33mbw\u001b[0m=\u001b[1;36m52\u001b[0m, \u001b[33mprocessing\u001b[0m=\u001b[32m'average'\u001b[0m, \u001b[33mantenna_id\u001b[0m=\u001b[1;36m0\u001b[0m, \u001b[33mthresh\u001b[0m=\u001b[1;36m-90\u001b[0m, \u001b[33mminimum\u001b[0m=\u001b[1;36m-147.5\u001b[0m\u001b[1m)\u001b[0m, \u001b[1;35mSpecData\u001b[0m\u001b[1m(\u001b[0m\u001b[33mtype\u001b[0m=\u001b[1;36m64\u001b[0m, \n",
       "\u001b[33mthread_id\u001b[0m=\u001b[1;36m14\u001b[0m, \u001b[33mdescription\u001b[0m=\u001b[32m'Peak'\u001b[0m, \u001b[33mstart_mega\u001b[0m=\u001b[1;36m105\u001b[0m\u001b[1;36m.0\u001b[0m, \u001b[33mstop_mega\u001b[0m=\u001b[1;36m140\u001b[0m\u001b[1;36m.0\u001b[0m, \u001b[33munit\u001b[0m=\u001b[32m'dBm'\u001b[0m, \u001b[33mndata\u001b[0m=\u001b[1;36m3584\u001b[0m, \n",
       "\u001b[33mbw\u001b[0m=\u001b[1;36m54\u001b[0m, \u001b[33mprocessing\u001b[0m=\u001b[32m'average'\u001b[0m, \u001b[33mantenna_id\u001b[0m=\u001b[1;36m0\u001b[0m, \u001b[33mthresh\u001b[0m=\u001b[1;36m-90\u001b[0m, \u001b[33mminimum\u001b[0m=\u001b[1;36m-147.5\u001b[0m\u001b[1m)\u001b[0m, \u001b[1;35mSpecData\u001b[0m\u001b[1m(\u001b[0m\u001b[33mtype\u001b[0m=\u001b[1;36m64\u001b[0m, \n",
       "\u001b[33mthread_id\u001b[0m=\u001b[1;36m14\u001b[0m, \u001b[33mdescription\u001b[0m=\u001b[32m'Peak'\u001b[0m, \u001b[33mstart_mega\u001b[0m=\u001b[1;36m105\u001b[0m\u001b[1;36m.0\u001b[0m, \u001b[33mstop_mega\u001b[0m=\u001b[1;36m140\u001b[0m\u001b[1;36m.0\u001b[0m, \u001b[33munit\u001b[0m=\u001b[32m'dBm'\u001b[0m, \u001b[33mndata\u001b[0m=\u001b[1;36m3584\u001b[0m, \n",
       "\u001b[33mbw\u001b[0m=\u001b[1;36m42\u001b[0m, \u001b[33mprocessing\u001b[0m=\u001b[32m'average'\u001b[0m, \u001b[33mantenna_id\u001b[0m=\u001b[1;36m0\u001b[0m, \u001b[33mthresh\u001b[0m=\u001b[1;36m-90\u001b[0m, \u001b[33mminimum\u001b[0m=\u001b[1;36m-147.5\u001b[0m\u001b[1m)\u001b[0m, \u001b[1;35mSpecData\u001b[0m\u001b[1m(\u001b[0m\u001b[33mtype\u001b[0m=\u001b[1;36m64\u001b[0m, \n",
       "\u001b[33mthread_id\u001b[0m=\u001b[1;36m14\u001b[0m, \u001b[33mdescription\u001b[0m=\u001b[32m'Peak'\u001b[0m, \u001b[33mstart_mega\u001b[0m=\u001b[1;36m105\u001b[0m\u001b[1;36m.0\u001b[0m, \u001b[33mstop_mega\u001b[0m=\u001b[1;36m140\u001b[0m\u001b[1;36m.0\u001b[0m, \u001b[33munit\u001b[0m=\u001b[32m'dBm'\u001b[0m, \u001b[33mndata\u001b[0m=\u001b[1;36m3584\u001b[0m, \n",
       "\u001b[33mbw\u001b[0m=\u001b[1;36m37\u001b[0m, \u001b[33mprocessing\u001b[0m=\u001b[32m'average'\u001b[0m, \u001b[33mantenna_id\u001b[0m=\u001b[1;36m0\u001b[0m, \u001b[33mthresh\u001b[0m=\u001b[1;36m-90\u001b[0m, \u001b[33mminimum\u001b[0m=\u001b[1;36m-147.5\u001b[0m\u001b[1m)\u001b[0m, \u001b[1;35mSpecData\u001b[0m\u001b[1m(\u001b[0m\u001b[33mtype\u001b[0m=\u001b[1;36m64\u001b[0m, \n",
       "\u001b[33mthread_id\u001b[0m=\u001b[1;36m14\u001b[0m, \u001b[33mdescription\u001b[0m=\u001b[32m'Peak'\u001b[0m, \u001b[33mstart_mega\u001b[0m=\u001b[1;36m105\u001b[0m\u001b[1;36m.0\u001b[0m, \u001b[33mstop_mega\u001b[0m=\u001b[1;36m140\u001b[0m\u001b[1;36m.0\u001b[0m, \u001b[33munit\u001b[0m=\u001b[32m'dBm'\u001b[0m, \u001b[33mndata\u001b[0m=\u001b[1;36m3584\u001b[0m, \n",
       "\u001b[33mbw\u001b[0m=\u001b[1;36m53\u001b[0m, \u001b[33mprocessing\u001b[0m=\u001b[32m'average'\u001b[0m, \u001b[33mantenna_id\u001b[0m=\u001b[1;36m0\u001b[0m, \u001b[33mthresh\u001b[0m=\u001b[1;36m-90\u001b[0m, \u001b[33mminimum\u001b[0m=\u001b[1;36m-147.5\u001b[0m\u001b[1m)\u001b[0m, \u001b[1;35mSpecData\u001b[0m\u001b[1m(\u001b[0m\u001b[33mtype\u001b[0m=\u001b[1;36m64\u001b[0m, \n",
       "\u001b[33mthread_id\u001b[0m=\u001b[1;36m14\u001b[0m, \u001b[33mdescription\u001b[0m=\u001b[32m'Peak'\u001b[0m, \u001b[33mstart_mega\u001b[0m=\u001b[1;36m105\u001b[0m\u001b[1;36m.0\u001b[0m, \u001b[33mstop_mega\u001b[0m=\u001b[1;36m140\u001b[0m\u001b[1;36m.0\u001b[0m, \u001b[33munit\u001b[0m=\u001b[32m'dBm'\u001b[0m, \u001b[33mndata\u001b[0m=\u001b[1;36m3584\u001b[0m, \n",
       "\u001b[33mbw\u001b[0m=\u001b[1;36m45\u001b[0m, \u001b[33mprocessing\u001b[0m=\u001b[32m'average'\u001b[0m, \u001b[33mantenna_id\u001b[0m=\u001b[1;36m0\u001b[0m, \u001b[33mthresh\u001b[0m=\u001b[1;36m-90\u001b[0m, \u001b[33mminimum\u001b[0m=\u001b[1;36m-147.5\u001b[0m\u001b[1m)\u001b[0m, \u001b[1;35mSpecData\u001b[0m\u001b[1m(\u001b[0m\u001b[33mtype\u001b[0m=\u001b[1;36m64\u001b[0m, \n",
       "\u001b[33mthread_id\u001b[0m=\u001b[1;36m14\u001b[0m, \u001b[33mdescription\u001b[0m=\u001b[32m'Peak'\u001b[0m, \u001b[33mstart_mega\u001b[0m=\u001b[1;36m105\u001b[0m\u001b[1;36m.0\u001b[0m, \u001b[33mstop_mega\u001b[0m=\u001b[1;36m140\u001b[0m\u001b[1;36m.0\u001b[0m, \u001b[33munit\u001b[0m=\u001b[32m'dBm'\u001b[0m, \u001b[33mndata\u001b[0m=\u001b[1;36m3584\u001b[0m, \n",
       "\u001b[33mbw\u001b[0m=\u001b[1;36m55\u001b[0m, \u001b[33mprocessing\u001b[0m=\u001b[32m'average'\u001b[0m, \u001b[33mantenna_id\u001b[0m=\u001b[1;36m0\u001b[0m, \u001b[33mthresh\u001b[0m=\u001b[1;36m-90\u001b[0m, \u001b[33mminimum\u001b[0m=\u001b[1;36m-147.5\u001b[0m\u001b[1m)\u001b[0m, \u001b[1;35mSpecData\u001b[0m\u001b[1m(\u001b[0m\u001b[33mtype\u001b[0m=\u001b[1;36m64\u001b[0m, \n",
       "\u001b[33mthread_id\u001b[0m=\u001b[1;36m14\u001b[0m, \u001b[33mdescription\u001b[0m=\u001b[32m'Peak'\u001b[0m, \u001b[33mstart_mega\u001b[0m=\u001b[1;36m105\u001b[0m\u001b[1;36m.0\u001b[0m, \u001b[33mstop_mega\u001b[0m=\u001b[1;36m140\u001b[0m\u001b[1;36m.0\u001b[0m, \u001b[33munit\u001b[0m=\u001b[32m'dBm'\u001b[0m, \u001b[33mndata\u001b[0m=\u001b[1;36m3584\u001b[0m, \n",
       "\u001b[33mbw\u001b[0m=\u001b[1;36m58\u001b[0m, \u001b[33mprocessing\u001b[0m=\u001b[32m'average'\u001b[0m, \u001b[33mantenna_id\u001b[0m=\u001b[1;36m0\u001b[0m, \u001b[33mthresh\u001b[0m=\u001b[1;36m-90\u001b[0m, \u001b[33mminimum\u001b[0m=\u001b[1;36m-147.5\u001b[0m\u001b[1m)\u001b[0m, \u001b[1;35mSpecData\u001b[0m\u001b[1m(\u001b[0m\u001b[33mtype\u001b[0m=\u001b[1;36m64\u001b[0m, \n",
       "\u001b[33mthread_id\u001b[0m=\u001b[1;36m14\u001b[0m, \u001b[33mdescription\u001b[0m=\u001b[32m'Peak'\u001b[0m, \u001b[33mstart_mega\u001b[0m=\u001b[1;36m105\u001b[0m\u001b[1;36m.0\u001b[0m, \u001b[33mstop_mega\u001b[0m=\u001b[1;36m140\u001b[0m\u001b[1;36m.0\u001b[0m, \u001b[33munit\u001b[0m=\u001b[32m'dBm'\u001b[0m, \u001b[33mndata\u001b[0m=\u001b[1;36m3584\u001b[0m, \n",
       "\u001b[33mbw\u001b[0m=\u001b[1;36m39\u001b[0m, \u001b[33mprocessing\u001b[0m=\u001b[32m'average'\u001b[0m, \u001b[33mantenna_id\u001b[0m=\u001b[1;36m0\u001b[0m, \u001b[33mthresh\u001b[0m=\u001b[1;36m-90\u001b[0m, \u001b[33mminimum\u001b[0m=\u001b[1;36m-147.5\u001b[0m\u001b[1m)\u001b[0m\u001b[1m]\u001b[0m\n",
       "\u001b[1m}\u001b[0m\n"
      ]
     },
     "metadata": {},
     "output_type": "display_data"
    }
   ],
   "source": [
    "file = r'binfiles\\rfeye002292_210208_T202215_CRFSBINv.4.bin'\n",
    "blocks = parse_bin(file)\n",
    "print(blocks)"
   ]
  },
  {
   "cell_type": "code",
   "execution_count": null,
   "metadata": {},
   "outputs": [
    {
     "data": {
      "text/html": [
       "<div>\n",
       "<style scoped>\n",
       "    .dataframe tbody tr th:only-of-type {\n",
       "        vertical-align: middle;\n",
       "    }\n",
       "\n",
       "    .dataframe tbody tr th {\n",
       "        vertical-align: top;\n",
       "    }\n",
       "\n",
       "    .dataframe thead th {\n",
       "        text-align: right;\n",
       "    }\n",
       "</style>\n",
       "<table border=\"1\" class=\"dataframe\">\n",
       "  <thead>\n",
       "    <tr style=\"text-align: right;\">\n",
       "      <th>Frequencies</th>\n",
       "      <th>76.000000</th>\n",
       "      <th>76.003907</th>\n",
       "      <th>76.007813</th>\n",
       "      <th>107.992187</th>\n",
       "      <th>107.996093</th>\n",
       "      <th>108.000000</th>\n",
       "    </tr>\n",
       "    <tr>\n",
       "      <th>Time</th>\n",
       "      <th></th>\n",
       "      <th></th>\n",
       "      <th></th>\n",
       "      <th></th>\n",
       "      <th></th>\n",
       "      <th></th>\n",
       "    </tr>\n",
       "  </thead>\n",
       "  <tbody>\n",
       "    <tr>\n",
       "      <th>2021-02-08 20:22:15.500658</th>\n",
       "      <td>-110.0</td>\n",
       "      <td>-100.5</td>\n",
       "      <td>-99.0</td>\n",
       "      <td>-103.0</td>\n",
       "      <td>-99.0</td>\n",
       "      <td>-96.0</td>\n",
       "    </tr>\n",
       "    <tr>\n",
       "      <th>2021-02-08 20:22:16.142770</th>\n",
       "      <td>-105.5</td>\n",
       "      <td>-100.0</td>\n",
       "      <td>-97.5</td>\n",
       "      <td>-94.5</td>\n",
       "      <td>-95.0</td>\n",
       "      <td>-98.0</td>\n",
       "    </tr>\n",
       "    <tr>\n",
       "      <th>2021-02-08 20:22:16.500750</th>\n",
       "      <td>-104.0</td>\n",
       "      <td>-102.5</td>\n",
       "      <td>-105.5</td>\n",
       "      <td>-95.5</td>\n",
       "      <td>-98.5</td>\n",
       "      <td>-93.0</td>\n",
       "    </tr>\n",
       "    <tr>\n",
       "      <th>2021-02-08 20:22:17.132990</th>\n",
       "      <td>-105.0</td>\n",
       "      <td>-107.0</td>\n",
       "      <td>-103.0</td>\n",
       "      <td>-99.5</td>\n",
       "      <td>-99.5</td>\n",
       "      <td>-102.5</td>\n",
       "    </tr>\n",
       "    <tr>\n",
       "      <th>2021-02-08 20:22:17.501352</th>\n",
       "      <td>-97.5</td>\n",
       "      <td>-101.5</td>\n",
       "      <td>-97.0</td>\n",
       "      <td>-104.5</td>\n",
       "      <td>-102.0</td>\n",
       "      <td>-99.5</td>\n",
       "    </tr>\n",
       "  </tbody>\n",
       "</table>\n",
       "</div>"
      ],
      "text/plain": [
       "Frequencies                 76.000000   76.003907   76.007813   107.992187  \\\n",
       "Time                                                                         \n",
       "2021-02-08 20:22:15.500658      -110.0      -100.5       -99.0      -103.0   \n",
       "2021-02-08 20:22:16.142770      -105.5      -100.0       -97.5       -94.5   \n",
       "2021-02-08 20:22:16.500750      -104.0      -102.5      -105.5       -95.5   \n",
       "2021-02-08 20:22:17.132990      -105.0      -107.0      -103.0       -99.5   \n",
       "2021-02-08 20:22:17.501352       -97.5      -101.5       -97.0      -104.5   \n",
       "\n",
       "Frequencies                 107.996093  108.000000  \n",
       "Time                                                \n",
       "2021-02-08 20:22:15.500658       -99.0       -96.0  \n",
       "2021-02-08 20:22:16.142770       -95.0       -98.0  \n",
       "2021-02-08 20:22:16.500750       -98.5       -93.0  \n",
       "2021-02-08 20:22:17.132990       -99.5      -102.5  \n",
       "2021-02-08 20:22:17.501352      -102.0       -99.5  "
      ]
     },
     "execution_count": null,
     "metadata": {},
     "output_type": "execute_result"
    }
   ],
   "source": [
    "blocks['spectrum'][0].matrix().iloc[:5, [0, 1, 2, -3, -2, -1]]"
   ]
  },
  {
   "cell_type": "markdown",
   "metadata": {},
   "source": [
    "## CRFS Bin - Versão 3"
   ]
  },
  {
   "cell_type": "code",
   "execution_count": null,
   "metadata": {},
   "outputs": [
    {
     "data": {
      "text/html": [
       "<pre style=\"white-space:pre;overflow-x:auto;line-height:normal;font-family:Menlo,'DejaVu Sans Mono',consolas,'Courier New',monospace\"><span style=\"font-weight: bold\">{</span>\n",
       "    <span style=\"color: #008000; text-decoration-color: #008000\">'filename'</span>: <span style=\"color: #008000; text-decoration-color: #008000\">'rfeye002292_210208_T203238_CRFSBINv.3.bin'</span>,\n",
       "    <span style=\"color: #008000; text-decoration-color: #008000\">'file_version'</span>: <span style=\"color: #008080; text-decoration-color: #008080; font-weight: bold\">21</span>,\n",
       "    <span style=\"color: #008000; text-decoration-color: #008000\">'string'</span>: <span style=\"color: #008000; text-decoration-color: #008000\">'CRFS DATA FILE V021'</span>,\n",
       "    <span style=\"color: #008000; text-decoration-color: #008000\">'hostname'</span>: <span style=\"color: #008000; text-decoration-color: #008000\">'rfeye002292'</span>,\n",
       "    <span style=\"color: #008000; text-decoration-color: #008000\">'method'</span>: <span style=\"color: #008000; text-decoration-color: #008000\">'Script_CRFSBINv3'</span>,\n",
       "    <span style=\"color: #008000; text-decoration-color: #008000\">'unit_info'</span>: <span style=\"color: #008000; text-decoration-color: #008000\">'Stationary'</span>,\n",
       "    <span style=\"color: #008000; text-decoration-color: #008000\">'file_number'</span>: <span style=\"color: #008080; text-decoration-color: #008080; font-weight: bold\">0</span>,\n",
       "    <span style=\"color: #008000; text-decoration-color: #008000\">'identifier'</span>: <span style=\"color: #008000; text-decoration-color: #008000\">'LOGGER_VERSION'</span>,\n",
       "    <span style=\"color: #008000; text-decoration-color: #008000\">'gps'</span>: GPS Data - Median of Coordinates: <span style=\"color: #008080; text-decoration-color: #008080; font-weight: bold\">-22.70008</span>:<span style=\"color: #008080; text-decoration-color: #008080; font-weight: bold\">-47.66684</span>, Altitude: <span style=\"color: #008080; text-decoration-color: #008080; font-weight: bold\">518.30</span> \n",
       "#Satellites: <span style=\"color: #008080; text-decoration-color: #008080; font-weight: bold\">11.0</span> ,\n",
       "    <span style=\"color: #008000; text-decoration-color: #008000\">'spectrum'</span>: <span style=\"font-weight: bold\">[]</span>\n",
       "<span style=\"font-weight: bold\">}</span>\n",
       "</pre>\n"
      ],
      "text/plain": [
       "\u001b[1m{\u001b[0m\n",
       "    \u001b[32m'filename'\u001b[0m: \u001b[32m'rfeye002292_210208_T203238_CRFSBINv.3.bin'\u001b[0m,\n",
       "    \u001b[32m'file_version'\u001b[0m: \u001b[1;36m21\u001b[0m,\n",
       "    \u001b[32m'string'\u001b[0m: \u001b[32m'CRFS DATA FILE V021'\u001b[0m,\n",
       "    \u001b[32m'hostname'\u001b[0m: \u001b[32m'rfeye002292'\u001b[0m,\n",
       "    \u001b[32m'method'\u001b[0m: \u001b[32m'Script_CRFSBINv3'\u001b[0m,\n",
       "    \u001b[32m'unit_info'\u001b[0m: \u001b[32m'Stationary'\u001b[0m,\n",
       "    \u001b[32m'file_number'\u001b[0m: \u001b[1;36m0\u001b[0m,\n",
       "    \u001b[32m'identifier'\u001b[0m: \u001b[32m'LOGGER_VERSION'\u001b[0m,\n",
       "    \u001b[32m'gps'\u001b[0m: GPS Data - Median of Coordinates: \u001b[1;36m-22.70008\u001b[0m:\u001b[1;36m-47.66684\u001b[0m, Altitude: \u001b[1;36m518.30\u001b[0m \n",
       "#Satellites: \u001b[1;36m11.0\u001b[0m ,\n",
       "    \u001b[32m'spectrum'\u001b[0m: \u001b[1m[\u001b[0m\u001b[1m]\u001b[0m\n",
       "\u001b[1m}\u001b[0m\n"
      ]
     },
     "metadata": {},
     "output_type": "display_data"
    }
   ],
   "source": [
    "file = r'binfiles\\rfeye002292_210208_T203238_CRFSBINv.3.bin'\n",
    "blocks = parse_bin(file)\n",
    "print(blocks)"
   ]
  }
 ],
 "metadata": {
  "kernelspec": {
   "display_name": "Python [conda env:rfpye]",
   "language": "python",
   "name": "conda-env-rfpye-py"
  }
 },
 "nbformat": 4,
 "nbformat_minor": 4
}
