{
 "cells": [
  {
   "cell_type": "code",
   "execution_count": null,
   "metadata": {},
   "outputs": [
    {
     "name": "stdout",
     "output_type": "stream",
     "text": [
      "The autoreload extension is already loaded. To reload it, use:\n",
      "  %reload_ext autoreload\n"
     ]
    }
   ],
   "source": [
    "#hide\n",
    "import sys, os\n",
    "from pathlib import Path\n",
    "\n",
    "# Insert in Path Project Directory\n",
    "sys.path.insert(0, str(Path().cwd().parent))\n",
    "\n",
    "%load_ext autoreload\n",
    "%autoreload 2 "
   ]
  },
  {
   "cell_type": "code",
   "execution_count": null,
   "metadata": {},
   "outputs": [],
   "source": [
    "#hide\n",
    "import warnings\n",
    "from nbdev import show_doc\n",
    "with warnings.catch_warnings():\n",
    "    warnings.simplefilter(\"ignore\")    "
   ]
  },
  {
   "cell_type": "markdown",
   "metadata": {},
   "source": [
    "# RFPYE\n",
    "> Este módulo tem como objetivo o processamento e extração otimizada de dados dos arquivos `.bin` de monitoramento do espectro provenientes do script Logger executados nas estações de Monitoramento CRFS RFeye Node. Para tal utilizamos as várias funcionalidades da biblioteca [fastcore](https://fastcore.fast.ai/basics.html), que expande e otimiza as estruturas de dados da linguagem python. "
   ]
  },
  {
   "cell_type": "markdown",
   "metadata": {},
   "source": [
    "## Instalação\n",
    "\n",
    "`Ubuntu`: \n",
    "\n",
    "```bash\n",
    "python -m pip install rfpye\n",
    "```\n",
    "\n",
    "`Windows`:\n",
    "\n",
    "Como parte dessa lib utiliza código c compilado com `Cython`, é preciso que um compilador `C` esteja instalado. Em Windows, uma opção é instalar a versão apropriada do Visual Studio seguindo as orientações do site da Microsoft. No entanto uma solução mais simples e a recomendada é utilizando o `conda`.\n",
    "\n",
    "Primeiramente instale o [miniconda](https://docs.conda.io/en/latest/miniconda.html). Com o conda instalado e disponível no seu `PATH` ou através do `Anaconda Prompt` execute o comando:\n",
    "\n",
    "```bash\n",
    "conda install -c intel libpython m2w64-toolchain -y\n",
    "\n",
    "echo [build] > %CONDA_PREFIX%\\Lib\\distutils\\distutils.cfg\n",
    "\n",
    "echo compiler = mingw32 >> %CONDA_PREFIX%\\Lib\\distutils\\distutils.cfg\n",
    "```"
   ]
  },
  {
   "cell_type": "markdown",
   "metadata": {},
   "source": [
    "Depois disso basta instalar normalmente a lib:\n",
    "`python -m pip install rfpye`"
   ]
  },
  {
   "cell_type": "markdown",
   "metadata": {},
   "source": [
    "Em Linux normalmente o sistema já possui o compilador `gcc` instalado então basta executar o comando `pip install` acima."
   ]
  },
  {
   "cell_type": "markdown",
   "metadata": {},
   "source": [
    "## Como utilizar\n",
    "Abaixo mostramos as funcionalidades principais dos módulos, utilizando-os dentro de algum outro script ou `REPL`"
   ]
  },
  {
   "cell_type": "markdown",
   "metadata": {},
   "source": [
    "Precisamos necessariamente de um diretório de entrada, contendo um ou mais arquivos `.bin`\n",
    "> Mude os caminhos abaixo para suas pastas locais"
   ]
  },
  {
   "cell_type": "code",
   "execution_count": null,
   "metadata": {},
   "outputs": [],
   "source": [
    "from fastcore.xtras import Path\n",
    "from rfpye.utils import get_files\n",
    "from rich import print"
   ]
  },
  {
   "cell_type": "markdown",
   "metadata": {},
   "source": [
    "A função abaixo baixa alguns arquivos de exemplo:"
   ]
  },
  {
   "cell_type": "code",
   "execution_count": null,
   "metadata": {},
   "outputs": [],
   "source": [
    "path = Path(r'binfiles')\n",
    "if not path.exists() or not len(get_files(path, extensions=['.bin'])):\n",
    "    path = Path('.')\n",
    "    !wget --header 'Host: raw.githubusercontent.com' --user-agent 'Mozilla/5.0 (Windows NT 10.0; Win64; x64; rv:89.0) Gecko/20100101 Firefox/89.0' --header 'Accept: text/html,application/xhtml+xml,application/xml;q=0.9,image/webp,*/*;q=0.8' --header 'Accept-Language: pt-BR,pt;q=0.8,en-US;q=0.5,en;q=0.3' --referer 'https://github.com/EricMagalhaesDelgado/SpecFiles/blob/main/Combo3%20(CRFS%20Bin%20-%20DataTypes%204%2C%207%2C%208%2C%2060-65%20e%2067-69)/rfeye002092_210208_T202310_CRFSBINv.5.bin' --header 'DNT: 1' --header 'Upgrade-Insecure-Requests: 1' 'https://raw.githubusercontent.com/EricMagalhaesDelgado/SpecFiles/main/Combo3%20(CRFS%20Bin%20-%20DataTypes%204%2C%207%2C%208%2C%2060-65%20e%2067-69)/rfeye002092_210208_T202310_CRFSBINv.5.bin' --output-document 'rfeye002092_210208_T202310_CRFSBINv.5.bin'\n",
    "    !wget --header 'Host: raw.githubusercontent.com' --user-agent 'Mozilla/5.0 (Windows NT 10.0; Win64; x64; rv:89.0) Gecko/20100101 Firefox/89.0' --header 'Accept: text/html,application/xhtml+xml,application/xml;q=0.9,image/webp,*/*;q=0.8' --header 'Accept-Language: pt-BR,pt;q=0.8,en-US;q=0.5,en;q=0.3' --referer 'https://github.com/EricMagalhaesDelgado/SpecFiles/blob/main/Combo3%20(CRFS%20Bin%20-%20DataTypes%204%2C%207%2C%208%2C%2060-65%20e%2067-69)/rfeye002092_210208_T203131_CRFSBINv.2.bin' --header 'DNT: 1' --header 'Upgrade-Insecure-Requests: 1' 'https://raw.githubusercontent.com/EricMagalhaesDelgado/SpecFiles/main/Combo3%20(CRFS%20Bin%20-%20DataTypes%204%2C%207%2C%208%2C%2060-65%20e%2067-69)/rfeye002092_210208_T203131_CRFSBINv.2.bin' --output-document 'rfeye002092_210208_T203131_CRFSBINv.2.bin'\n",
    "    !wget --header 'Host: raw.githubusercontent.com' --user-agent 'Mozilla/5.0 (Windows NT 10.0; Win64; x64; rv:89.0) Gecko/20100101 Firefox/89.0' --header 'Accept: text/html,application/xhtml+xml,application/xml;q=0.9,image/webp,*/*;q=0.8' --header 'Accept-Language: pt-BR,pt;q=0.8,en-US;q=0.5,en;q=0.3' --referer 'https://github.com/EricMagalhaesDelgado/SpecFiles/blob/main/Combo3%20(CRFS%20Bin%20-%20DataTypes%204%2C%207%2C%208%2C%2060-65%20e%2067-69)/rfeye002292_210208_T202215_CRFSBINv.4.bin' --header 'DNT: 1' --header 'Upgrade-Insecure-Requests: 1' 'https://raw.githubusercontent.com/EricMagalhaesDelgado/SpecFiles/main/Combo3%20(CRFS%20Bin%20-%20DataTypes%204%2C%207%2C%208%2C%2060-65%20e%2067-69)/rfeye002292_210208_T202215_CRFSBINv.4.bin' --output-document 'rfeye002292_210208_T202215_CRFSBINv.4.bin'\n",
    "    !wget --header 'Host: raw.githubusercontent.com' --user-agent 'Mozilla/5.0 (Windows NT 10.0; Win64; x64; rv:89.0) Gecko/20100101 Firefox/89.0' --header 'Accept: text/html,application/xhtml+xml,application/xml;q=0.9,image/webp,*/*;q=0.8' --header 'Accept-Language: pt-BR,pt;q=0.8,en-US;q=0.5,en;q=0.3' --referer 'https://github.com/EricMagalhaesDelgado/SpecFiles/blob/main/Combo3%20(CRFS%20Bin%20-%20DataTypes%204%2C%207%2C%208%2C%2060-65%20e%2067-69)/rfeye002292_210208_T203238_CRFSBINv.3.bin' --header 'DNT: 1' --header 'Upgrade-Insecure-Requests: 1' 'https://raw.githubusercontent.com/EricMagalhaesDelgado/SpecFiles/main/Combo3%20(CRFS%20Bin%20-%20DataTypes%204%2C%207%2C%208%2C%2060-65%20e%2067-69)/rfeye002292_210208_T203238_CRFSBINv.3.bin' --output-document 'rfeye002292_210208_T203238_CRFSBINv.3.bin'\n"
   ]
  },
  {
   "cell_type": "markdown",
   "metadata": {},
   "source": [
    "A função `parse_bin` é a função principal que encapsula o processamento dos arquivos bin."
   ]
  },
  {
   "cell_type": "code",
   "execution_count": null,
   "metadata": {},
   "outputs": [
    {
     "data": {
      "text/markdown": [
       "<h4 id=\"parse_bin\" class=\"doc_header\"><code>parse_bin</code><a href=\"https://github.com/ronaldokun/rfpye/tree/master/rfpye/parser.py#L35\" class=\"source_link\" style=\"float:right\">[source]</a></h4>\n",
       "\n",
       "> <code>parse_bin</code>(**`bin_file`**:`Union`\\[`str`, `Path`\\])\n",
       "\n",
       "Receives a CRFS binfile and returns a dictionary with the file metadata, a GPS Class and a list with the different Spectrum Classes\n",
       "A block is a piece of the .bin file with a known start and end and that contains different types of information.\n",
       "It has several fields: file_type, header, data and footer.\n",
       "Each field has lengths and information defined in the documentation.\n",
       "Args:\n",
       "    bin_file (Union[str, Path]): path to the bin file\n",
       "\n",
       "Returns:\n",
       "    Dictionary with the file metadata, file_version, string info, gps and spectrum blocks."
      ],
      "text/plain": [
       "<IPython.core.display.Markdown object>"
      ]
     },
     "metadata": {},
     "output_type": "display_data"
    }
   ],
   "source": [
    "from rfpye.parser import parse_bin\n",
    "show_doc(parse_bin)"
   ]
  },
  {
   "cell_type": "markdown",
   "metadata": {},
   "source": [
    "## Extração de Dados"
   ]
  },
  {
   "cell_type": "markdown",
   "metadata": {},
   "source": [
    "Vamos listar arquivos da última versão do script Logger, **CRFS Bin - Versão 5**"
   ]
  },
  {
   "cell_type": "code",
   "execution_count": null,
   "metadata": {},
   "outputs": [],
   "source": [
    "files = get_files(r'D:\\OneDrive - ANATEL\\Sensores', extensions=['.bin'])\n",
    "file = files.shuffle()[0]"
   ]
  },
  {
   "cell_type": "code",
   "execution_count": null,
   "metadata": {},
   "outputs": [
    {
     "name": "stdout",
     "output_type": "stream",
     "text": [
      "Wall time: 13.2 s\n"
     ]
    }
   ],
   "source": [
    "%%time\n",
    "dados = parse_bin(file)"
   ]
  },
  {
   "cell_type": "code",
   "execution_count": null,
   "metadata": {},
   "outputs": [
    {
     "data": {
      "text/html": [
       "<pre style=\"white-space:pre;overflow-x:auto;line-height:normal;font-family:Menlo,'DejaVu Sans Mono',consolas,'Courier New',monospace\"><span style=\"font-weight: bold\">{</span>\n",
       "    <span style=\"color: #008000; text-decoration-color: #008000\">'filename'</span>: <span style=\"color: #008000; text-decoration-color: #008000\">'rfeye002130_210622_T151702.bin'</span>,\n",
       "    <span style=\"color: #008000; text-decoration-color: #008000\">'file_version'</span>: <span style=\"color: #008080; text-decoration-color: #008080; font-weight: bold\">23</span>,\n",
       "    <span style=\"color: #008000; text-decoration-color: #008000\">'string'</span>: <span style=\"color: #008000; text-decoration-color: #008000\">'CRFS DATA FILE V023'</span>,\n",
       "    <span style=\"color: #008000; text-decoration-color: #008000\">'hostname'</span>: <span style=\"color: #008000; text-decoration-color: #008000\">'rfeye002130'</span>,\n",
       "    <span style=\"color: #008000; text-decoration-color: #008000\">'method'</span>: <span style=\"color: #008000; text-decoration-color: #008000\">'ScriptRFeye2021_v.1'</span>,\n",
       "    <span style=\"color: #008000; text-decoration-color: #008000\">'unit_info'</span>: <span style=\"color: #008000; text-decoration-color: #008000\">'Stationary'</span>,\n",
       "    <span style=\"color: #008000; text-decoration-color: #008000\">'file_number'</span>: <span style=\"color: #008080; text-decoration-color: #008080; font-weight: bold\">0</span>,\n",
       "    <span style=\"color: #008000; text-decoration-color: #008000\">'identifier'</span>: <span style=\"color: #008000; text-decoration-color: #008000\">'INFO'</span>,\n",
       "    <span style=\"color: #008000; text-decoration-color: #008000\">'gps'</span>: GPS Data - Median of Coordinates: <span style=\"color: #008080; text-decoration-color: #008080; font-weight: bold\">-10.68619</span>:<span style=\"color: #008080; text-decoration-color: #008080; font-weight: bold\">-37.43918</span>, Altitude: <span style=\"color: #008080; text-decoration-color: #008080; font-weight: bold\">210.10</span> \n",
       "#Satellites: <span style=\"color: #008080; text-decoration-color: #008080; font-weight: bold\">11.0</span> ,\n",
       "    <span style=\"color: #008000; text-decoration-color: #008000\">'spectrum'</span>: <span style=\"font-weight: bold\">[</span><span style=\"color: #800080; text-decoration-color: #800080; font-weight: bold\">SpecData</span><span style=\"font-weight: bold\">(</span><span style=\"color: #808000; text-decoration-color: #808000\">type</span>=<span style=\"color: #008080; text-decoration-color: #008080; font-weight: bold\">67</span>, <span style=\"color: #808000; text-decoration-color: #808000\">thread_id</span>=<span style=\"color: #008080; text-decoration-color: #008080; font-weight: bold\">300</span>, <span style=\"color: #808000; text-decoration-color: #808000\">description</span>=<span style=\"color: #008000; text-decoration-color: #008000\">'PMEC 2021 (Faixa 1 de 10).'</span>, \n",
       "<span style=\"color: #808000; text-decoration-color: #808000\">start_mega</span>=<span style=\"color: #008080; text-decoration-color: #008080; font-weight: bold\">105.0</span>, <span style=\"color: #808000; text-decoration-color: #808000\">stop_mega</span>=<span style=\"color: #008080; text-decoration-color: #008080; font-weight: bold\">140.0</span>, <span style=\"color: #808000; text-decoration-color: #808000\">unit</span>=<span style=\"color: #008000; text-decoration-color: #008000\">'dBm'</span>, <span style=\"color: #808000; text-decoration-color: #808000\">ndata</span>=<span style=\"color: #008080; text-decoration-color: #008080; font-weight: bold\">3584</span>, <span style=\"color: #808000; text-decoration-color: #808000\">bw</span>=<span style=\"color: #008080; text-decoration-color: #008080; font-weight: bold\">18457</span>, <span style=\"color: #808000; text-decoration-color: #808000\">processing</span>=<span style=\"color: #008000; text-decoration-color: #008000\">'peak'</span>, \n",
       "<span style=\"color: #808000; text-decoration-color: #808000\">antenna_id</span>=<span style=\"color: #008080; text-decoration-color: #008080; font-weight: bold\">0</span>, <span style=\"color: #808000; text-decoration-color: #808000\">thresh</span>=<span style=\"color: #008080; text-decoration-color: #008080; font-weight: bold\">-147.5</span>, <span style=\"color: #808000; text-decoration-color: #808000\">minimum</span>=<span style=\"color: #008080; text-decoration-color: #008080; font-weight: bold\">-147.5</span><span style=\"font-weight: bold\">)</span>, <span style=\"color: #800080; text-decoration-color: #800080; font-weight: bold\">SpecData</span><span style=\"font-weight: bold\">(</span><span style=\"color: #808000; text-decoration-color: #808000\">type</span>=<span style=\"color: #008080; text-decoration-color: #008080; font-weight: bold\">67</span>, <span style=\"color: #808000; text-decoration-color: #808000\">thread_id</span>=<span style=\"color: #008080; text-decoration-color: #008080; font-weight: bold\">310</span>, \n",
       "<span style=\"color: #808000; text-decoration-color: #808000\">description</span>=<span style=\"color: #008000; text-decoration-color: #008000\">'PMEC 2021 (Faixa 2 de 10).'</span>, <span style=\"color: #808000; text-decoration-color: #808000\">start_mega</span>=<span style=\"color: #008080; text-decoration-color: #008080; font-weight: bold\">155.0</span>, <span style=\"color: #808000; text-decoration-color: #808000\">stop_mega</span>=<span style=\"color: #008080; text-decoration-color: #008080; font-weight: bold\">165.0</span>, <span style=\"color: #808000; text-decoration-color: #808000\">unit</span>=<span style=\"color: #008000; text-decoration-color: #008000\">'dBm'</span>, \n",
       "<span style=\"color: #808000; text-decoration-color: #808000\">ndata</span>=<span style=\"color: #008080; text-decoration-color: #008080; font-weight: bold\">1024</span>, <span style=\"color: #808000; text-decoration-color: #808000\">bw</span>=<span style=\"color: #008080; text-decoration-color: #008080; font-weight: bold\">18457</span>, <span style=\"color: #808000; text-decoration-color: #808000\">processing</span>=<span style=\"color: #008000; text-decoration-color: #008000\">'peak'</span>, <span style=\"color: #808000; text-decoration-color: #808000\">antenna_id</span>=<span style=\"color: #008080; text-decoration-color: #008080; font-weight: bold\">0</span>, <span style=\"color: #808000; text-decoration-color: #808000\">thresh</span>=<span style=\"color: #008080; text-decoration-color: #008080; font-weight: bold\">-147.5</span>, <span style=\"color: #808000; text-decoration-color: #808000\">minimum</span>=<span style=\"color: #008080; text-decoration-color: #008080; font-weight: bold\">-147.5</span><span style=\"font-weight: bold\">)</span>, \n",
       "<span style=\"color: #800080; text-decoration-color: #800080; font-weight: bold\">SpecData</span><span style=\"font-weight: bold\">(</span><span style=\"color: #808000; text-decoration-color: #808000\">type</span>=<span style=\"color: #008080; text-decoration-color: #008080; font-weight: bold\">67</span>, <span style=\"color: #808000; text-decoration-color: #808000\">thread_id</span>=<span style=\"color: #008080; text-decoration-color: #008080; font-weight: bold\">100</span>, <span style=\"color: #808000; text-decoration-color: #808000\">description</span>=<span style=\"color: #008000; text-decoration-color: #008000\">'PRD 2021 (Faixa principal 1 de 4).'</span>, \n",
       "<span style=\"color: #808000; text-decoration-color: #808000\">start_mega</span>=<span style=\"color: #008080; text-decoration-color: #008080; font-weight: bold\">50.0</span>, <span style=\"color: #808000; text-decoration-color: #808000\">stop_mega</span>=<span style=\"color: #008080; text-decoration-color: #008080; font-weight: bold\">90.0</span>, <span style=\"color: #808000; text-decoration-color: #808000\">unit</span>=<span style=\"color: #008000; text-decoration-color: #008000\">'dBμV/m'</span>, <span style=\"color: #808000; text-decoration-color: #808000\">ndata</span>=<span style=\"color: #008080; text-decoration-color: #008080; font-weight: bold\">1024</span>, <span style=\"color: #808000; text-decoration-color: #808000\">bw</span>=<span style=\"color: #008080; text-decoration-color: #008080; font-weight: bold\">73828</span>, <span style=\"color: #808000; text-decoration-color: #808000\">processing</span>=<span style=\"color: #008000; text-decoration-color: #008000\">'peak'</span>, \n",
       "<span style=\"color: #808000; text-decoration-color: #808000\">antenna_id</span>=<span style=\"color: #008080; text-decoration-color: #008080; font-weight: bold\">0</span>, <span style=\"color: #808000; text-decoration-color: #808000\">thresh</span>=<span style=\"color: #008080; text-decoration-color: #008080; font-weight: bold\">-70.5</span>, <span style=\"color: #808000; text-decoration-color: #808000\">minimum</span>=<span style=\"color: #008080; text-decoration-color: #008080; font-weight: bold\">-70.5</span><span style=\"font-weight: bold\">)</span>, <span style=\"color: #800080; text-decoration-color: #800080; font-weight: bold\">SpecData</span><span style=\"font-weight: bold\">(</span><span style=\"color: #808000; text-decoration-color: #808000\">type</span>=<span style=\"color: #008080; text-decoration-color: #008080; font-weight: bold\">67</span>, <span style=\"color: #808000; text-decoration-color: #808000\">thread_id</span>=<span style=\"color: #008080; text-decoration-color: #008080; font-weight: bold\">110</span>, <span style=\"color: #808000; text-decoration-color: #808000\">description</span>=<span style=\"color: #008000; text-decoration-color: #008000\">'PRD</span>\n",
       "<span style=\"color: #008000; text-decoration-color: #008000\">2021 (Faixa principal 2 de 4).'</span>, <span style=\"color: #808000; text-decoration-color: #808000\">start_mega</span>=<span style=\"color: #008080; text-decoration-color: #008080; font-weight: bold\">70.0</span>, <span style=\"color: #808000; text-decoration-color: #808000\">stop_mega</span>=<span style=\"color: #008080; text-decoration-color: #008080; font-weight: bold\">110.0</span>, <span style=\"color: #808000; text-decoration-color: #808000\">unit</span>=<span style=\"color: #008000; text-decoration-color: #008000\">'dBμV/m'</span>, <span style=\"color: #808000; text-decoration-color: #808000\">ndata</span>=<span style=\"color: #008080; text-decoration-color: #008080; font-weight: bold\">1024</span>,\n",
       "<span style=\"color: #808000; text-decoration-color: #808000\">bw</span>=<span style=\"color: #008080; text-decoration-color: #008080; font-weight: bold\">73828</span>, <span style=\"color: #808000; text-decoration-color: #808000\">processing</span>=<span style=\"color: #008000; text-decoration-color: #008000\">'peak'</span>, <span style=\"color: #808000; text-decoration-color: #808000\">antenna_id</span>=<span style=\"color: #008080; text-decoration-color: #008080; font-weight: bold\">0</span>, <span style=\"color: #808000; text-decoration-color: #808000\">thresh</span>=<span style=\"color: #008080; text-decoration-color: #008080; font-weight: bold\">-29.5</span>, <span style=\"color: #808000; text-decoration-color: #808000\">minimum</span>=<span style=\"color: #008080; text-decoration-color: #008080; font-weight: bold\">-29.5</span><span style=\"font-weight: bold\">)</span>, <span style=\"color: #800080; text-decoration-color: #800080; font-weight: bold\">SpecData</span><span style=\"font-weight: bold\">(</span><span style=\"color: #808000; text-decoration-color: #808000\">type</span>=<span style=\"color: #008080; text-decoration-color: #008080; font-weight: bold\">67</span>, \n",
       "<span style=\"color: #808000; text-decoration-color: #808000\">thread_id</span>=<span style=\"color: #008080; text-decoration-color: #008080; font-weight: bold\">120</span>, <span style=\"color: #808000; text-decoration-color: #808000\">description</span>=<span style=\"color: #008000; text-decoration-color: #008000\">'PRD 2021 (Faixa principal 3 de 4).'</span>, <span style=\"color: #808000; text-decoration-color: #808000\">start_mega</span>=<span style=\"color: #008080; text-decoration-color: #008080; font-weight: bold\">170.0</span>, \n",
       "<span style=\"color: #808000; text-decoration-color: #808000\">stop_mega</span>=<span style=\"color: #008080; text-decoration-color: #008080; font-weight: bold\">220.0</span>, <span style=\"color: #808000; text-decoration-color: #808000\">unit</span>=<span style=\"color: #008000; text-decoration-color: #008000\">'dBμV/m'</span>, <span style=\"color: #808000; text-decoration-color: #808000\">ndata</span>=<span style=\"color: #008080; text-decoration-color: #008080; font-weight: bold\">1280</span>, <span style=\"color: #808000; text-decoration-color: #808000\">bw</span>=<span style=\"color: #008080; text-decoration-color: #008080; font-weight: bold\">73828</span>, <span style=\"color: #808000; text-decoration-color: #808000\">processing</span>=<span style=\"color: #008000; text-decoration-color: #008000\">'peak'</span>, <span style=\"color: #808000; text-decoration-color: #808000\">antenna_id</span>=<span style=\"color: #008080; text-decoration-color: #008080; font-weight: bold\">0</span>, \n",
       "<span style=\"color: #808000; text-decoration-color: #808000\">thresh</span>=<span style=\"color: #008080; text-decoration-color: #008080; font-weight: bold\">-69.5</span>, <span style=\"color: #808000; text-decoration-color: #808000\">minimum</span>=<span style=\"color: #008080; text-decoration-color: #008080; font-weight: bold\">-69.5</span><span style=\"font-weight: bold\">)</span>, <span style=\"color: #800080; text-decoration-color: #800080; font-weight: bold\">SpecData</span><span style=\"font-weight: bold\">(</span><span style=\"color: #808000; text-decoration-color: #808000\">type</span>=<span style=\"color: #008080; text-decoration-color: #008080; font-weight: bold\">67</span>, <span style=\"color: #808000; text-decoration-color: #808000\">thread_id</span>=<span style=\"color: #008080; text-decoration-color: #008080; font-weight: bold\">130</span>, <span style=\"color: #808000; text-decoration-color: #808000\">description</span>=<span style=\"color: #008000; text-decoration-color: #008000\">'PRD 2021 (Faixa </span>\n",
       "<span style=\"color: #008000; text-decoration-color: #008000\">principal 4 de 4).'</span>, <span style=\"color: #808000; text-decoration-color: #808000\">start_mega</span>=<span style=\"color: #008080; text-decoration-color: #008080; font-weight: bold\">470.0</span>, <span style=\"color: #808000; text-decoration-color: #808000\">stop_mega</span>=<span style=\"color: #008080; text-decoration-color: #008080; font-weight: bold\">700.0</span>, <span style=\"color: #808000; text-decoration-color: #808000\">unit</span>=<span style=\"color: #008000; text-decoration-color: #008000\">'dBμV/m'</span>, <span style=\"color: #808000; text-decoration-color: #808000\">ndata</span>=<span style=\"color: #008080; text-decoration-color: #008080; font-weight: bold\">5888</span>, <span style=\"color: #808000; text-decoration-color: #808000\">bw</span>=<span style=\"color: #008080; text-decoration-color: #008080; font-weight: bold\">73828</span>, \n",
       "<span style=\"color: #808000; text-decoration-color: #808000\">processing</span>=<span style=\"color: #008000; text-decoration-color: #008000\">'peak'</span>, <span style=\"color: #808000; text-decoration-color: #808000\">antenna_id</span>=<span style=\"color: #008080; text-decoration-color: #008080; font-weight: bold\">0</span>, <span style=\"color: #808000; text-decoration-color: #808000\">thresh</span>=<span style=\"color: #008080; text-decoration-color: #008080; font-weight: bold\">-42.5</span>, <span style=\"color: #808000; text-decoration-color: #808000\">minimum</span>=<span style=\"color: #008080; text-decoration-color: #008080; font-weight: bold\">-42.5</span><span style=\"font-weight: bold\">)</span>, <span style=\"color: #800080; text-decoration-color: #800080; font-weight: bold\">SpecData</span><span style=\"font-weight: bold\">(</span><span style=\"color: #808000; text-decoration-color: #808000\">type</span>=<span style=\"color: #008080; text-decoration-color: #008080; font-weight: bold\">67</span>, \n",
       "<span style=\"color: #808000; text-decoration-color: #808000\">thread_id</span>=<span style=\"color: #008080; text-decoration-color: #008080; font-weight: bold\">200</span>, <span style=\"color: #808000; text-decoration-color: #808000\">description</span>=<span style=\"color: #008000; text-decoration-color: #008000\">'PMEF 2021 (Faixa 1 de 6).'</span>, <span style=\"color: #808000; text-decoration-color: #808000\">start_mega</span>=<span style=\"color: #008080; text-decoration-color: #008080; font-weight: bold\">700.0</span>, <span style=\"color: #808000; text-decoration-color: #808000\">stop_mega</span>=<span style=\"color: #008080; text-decoration-color: #008080; font-weight: bold\">960.0</span>, \n",
       "<span style=\"color: #808000; text-decoration-color: #808000\">unit</span>=<span style=\"color: #008000; text-decoration-color: #008000\">'dBm'</span>, <span style=\"color: #808000; text-decoration-color: #808000\">ndata</span>=<span style=\"color: #008080; text-decoration-color: #008080; font-weight: bold\">6656</span>, <span style=\"color: #808000; text-decoration-color: #808000\">bw</span>=<span style=\"color: #008080; text-decoration-color: #008080; font-weight: bold\">73828</span>, <span style=\"color: #808000; text-decoration-color: #808000\">processing</span>=<span style=\"color: #008000; text-decoration-color: #008000\">'peak'</span>, <span style=\"color: #808000; text-decoration-color: #808000\">antenna_id</span>=<span style=\"color: #008080; text-decoration-color: #008080; font-weight: bold\">0</span>, <span style=\"color: #808000; text-decoration-color: #808000\">thresh</span>=<span style=\"color: #008080; text-decoration-color: #008080; font-weight: bold\">-147.5</span>, \n",
       "<span style=\"color: #808000; text-decoration-color: #808000\">minimum</span>=<span style=\"color: #008080; text-decoration-color: #008080; font-weight: bold\">-147.5</span><span style=\"font-weight: bold\">)</span>, <span style=\"color: #800080; text-decoration-color: #800080; font-weight: bold\">SpecData</span><span style=\"font-weight: bold\">(</span><span style=\"color: #808000; text-decoration-color: #808000\">type</span>=<span style=\"color: #008080; text-decoration-color: #008080; font-weight: bold\">67</span>, <span style=\"color: #808000; text-decoration-color: #808000\">thread_id</span>=<span style=\"color: #008080; text-decoration-color: #008080; font-weight: bold\">210</span>, <span style=\"color: #808000; text-decoration-color: #808000\">description</span>=<span style=\"color: #008000; text-decoration-color: #008000\">'PMEF 2021 (Faixa 2 de 6).'</span>, \n",
       "<span style=\"color: #808000; text-decoration-color: #808000\">start_mega</span>=<span style=\"color: #008080; text-decoration-color: #008080; font-weight: bold\">1710.0</span>, <span style=\"color: #808000; text-decoration-color: #808000\">stop_mega</span>=<span style=\"color: #008080; text-decoration-color: #008080; font-weight: bold\">1980.0</span>, <span style=\"color: #808000; text-decoration-color: #808000\">unit</span>=<span style=\"color: #008000; text-decoration-color: #008000\">'dBm'</span>, <span style=\"color: #808000; text-decoration-color: #808000\">ndata</span>=<span style=\"color: #008080; text-decoration-color: #008080; font-weight: bold\">6912</span>, <span style=\"color: #808000; text-decoration-color: #808000\">bw</span>=<span style=\"color: #008080; text-decoration-color: #008080; font-weight: bold\">73828</span>, <span style=\"color: #808000; text-decoration-color: #808000\">processing</span>=<span style=\"color: #008000; text-decoration-color: #008000\">'peak'</span>, \n",
       "<span style=\"color: #808000; text-decoration-color: #808000\">antenna_id</span>=<span style=\"color: #008080; text-decoration-color: #008080; font-weight: bold\">0</span>, <span style=\"color: #808000; text-decoration-color: #808000\">thresh</span>=<span style=\"color: #008080; text-decoration-color: #008080; font-weight: bold\">-147.5</span>, <span style=\"color: #808000; text-decoration-color: #808000\">minimum</span>=<span style=\"color: #008080; text-decoration-color: #008080; font-weight: bold\">-147.5</span><span style=\"font-weight: bold\">)</span>, <span style=\"color: #800080; text-decoration-color: #800080; font-weight: bold\">SpecData</span><span style=\"font-weight: bold\">(</span><span style=\"color: #808000; text-decoration-color: #808000\">type</span>=<span style=\"color: #008080; text-decoration-color: #008080; font-weight: bold\">67</span>, <span style=\"color: #808000; text-decoration-color: #808000\">thread_id</span>=<span style=\"color: #008080; text-decoration-color: #008080; font-weight: bold\">220</span>, \n",
       "<span style=\"color: #808000; text-decoration-color: #808000\">description</span>=<span style=\"color: #008000; text-decoration-color: #008000\">'PMEF 2021 (Faixa 3 de 6).'</span>, <span style=\"color: #808000; text-decoration-color: #808000\">start_mega</span>=<span style=\"color: #008080; text-decoration-color: #008080; font-weight: bold\">2100.0</span>, <span style=\"color: #808000; text-decoration-color: #808000\">stop_mega</span>=<span style=\"color: #008080; text-decoration-color: #008080; font-weight: bold\">1002168.999</span>, \n",
       "<span style=\"color: #808000; text-decoration-color: #808000\">unit</span>=<span style=\"color: #008000; text-decoration-color: #008000\">'dBm'</span>, <span style=\"color: #808000; text-decoration-color: #808000\">ndata</span>=<span style=\"color: #008080; text-decoration-color: #008080; font-weight: bold\">1792</span>, <span style=\"color: #808000; text-decoration-color: #808000\">bw</span>=<span style=\"color: #008080; text-decoration-color: #008080; font-weight: bold\">73828</span>, <span style=\"color: #808000; text-decoration-color: #808000\">processing</span>=<span style=\"color: #008000; text-decoration-color: #008000\">'peak'</span>, <span style=\"color: #808000; text-decoration-color: #808000\">antenna_id</span>=<span style=\"color: #008080; text-decoration-color: #008080; font-weight: bold\">0</span>, <span style=\"color: #808000; text-decoration-color: #808000\">thresh</span>=<span style=\"color: #008080; text-decoration-color: #008080; font-weight: bold\">-147.5</span>, \n",
       "<span style=\"color: #808000; text-decoration-color: #808000\">minimum</span>=<span style=\"color: #008080; text-decoration-color: #008080; font-weight: bold\">-147.5</span><span style=\"font-weight: bold\">)</span>, <span style=\"color: #800080; text-decoration-color: #800080; font-weight: bold\">SpecData</span><span style=\"font-weight: bold\">(</span><span style=\"color: #808000; text-decoration-color: #808000\">type</span>=<span style=\"color: #008080; text-decoration-color: #008080; font-weight: bold\">67</span>, <span style=\"color: #808000; text-decoration-color: #808000\">thread_id</span>=<span style=\"color: #008080; text-decoration-color: #008080; font-weight: bold\">230</span>, <span style=\"color: #808000; text-decoration-color: #808000\">description</span>=<span style=\"color: #008000; text-decoration-color: #008000\">'PMEF 2021 (Faixa 4 de 6).'</span>, \n",
       "<span style=\"color: #808000; text-decoration-color: #808000\">start_mega</span>=<span style=\"color: #008080; text-decoration-color: #008080; font-weight: bold\">2290.0</span>, <span style=\"color: #808000; text-decoration-color: #808000\">stop_mega</span>=<span style=\"color: #008080; text-decoration-color: #008080; font-weight: bold\">2390.0</span>, <span style=\"color: #808000; text-decoration-color: #808000\">unit</span>=<span style=\"color: #008000; text-decoration-color: #008000\">'dBm'</span>, <span style=\"color: #808000; text-decoration-color: #808000\">ndata</span>=<span style=\"color: #008080; text-decoration-color: #008080; font-weight: bold\">2560</span>, <span style=\"color: #808000; text-decoration-color: #808000\">bw</span>=<span style=\"color: #008080; text-decoration-color: #008080; font-weight: bold\">73828</span>, <span style=\"color: #808000; text-decoration-color: #808000\">processing</span>=<span style=\"color: #008000; text-decoration-color: #008000\">'peak'</span>, \n",
       "<span style=\"color: #808000; text-decoration-color: #808000\">antenna_id</span>=<span style=\"color: #008080; text-decoration-color: #008080; font-weight: bold\">0</span>, <span style=\"color: #808000; text-decoration-color: #808000\">thresh</span>=<span style=\"color: #008080; text-decoration-color: #008080; font-weight: bold\">-147.5</span>, <span style=\"color: #808000; text-decoration-color: #808000\">minimum</span>=<span style=\"color: #008080; text-decoration-color: #008080; font-weight: bold\">-147.5</span><span style=\"font-weight: bold\">)</span>, <span style=\"color: #800080; text-decoration-color: #800080; font-weight: bold\">SpecData</span><span style=\"font-weight: bold\">(</span><span style=\"color: #808000; text-decoration-color: #808000\">type</span>=<span style=\"color: #008080; text-decoration-color: #008080; font-weight: bold\">67</span>, <span style=\"color: #808000; text-decoration-color: #808000\">thread_id</span>=<span style=\"color: #008080; text-decoration-color: #008080; font-weight: bold\">240</span>, \n",
       "<span style=\"color: #808000; text-decoration-color: #808000\">description</span>=<span style=\"color: #008000; text-decoration-color: #008000\">'PMEF 2021 (Faixa 5 de 6).'</span>, <span style=\"color: #808000; text-decoration-color: #808000\">start_mega</span>=<span style=\"color: #008080; text-decoration-color: #008080; font-weight: bold\">2500.0</span>, <span style=\"color: #808000; text-decoration-color: #808000\">stop_mega</span>=<span style=\"color: #008080; text-decoration-color: #008080; font-weight: bold\">2690.0</span>, <span style=\"color: #808000; text-decoration-color: #808000\">unit</span>=<span style=\"color: #008000; text-decoration-color: #008000\">'dBm'</span>, \n",
       "<span style=\"color: #808000; text-decoration-color: #808000\">ndata</span>=<span style=\"color: #008080; text-decoration-color: #008080; font-weight: bold\">4864</span>, <span style=\"color: #808000; text-decoration-color: #808000\">bw</span>=<span style=\"color: #008080; text-decoration-color: #008080; font-weight: bold\">73828</span>, <span style=\"color: #808000; text-decoration-color: #808000\">processing</span>=<span style=\"color: #008000; text-decoration-color: #008000\">'peak'</span>, <span style=\"color: #808000; text-decoration-color: #808000\">antenna_id</span>=<span style=\"color: #008080; text-decoration-color: #008080; font-weight: bold\">0</span>, <span style=\"color: #808000; text-decoration-color: #808000\">thresh</span>=<span style=\"color: #008080; text-decoration-color: #008080; font-weight: bold\">-147.5</span>, <span style=\"color: #808000; text-decoration-color: #808000\">minimum</span>=<span style=\"color: #008080; text-decoration-color: #008080; font-weight: bold\">-147.5</span><span style=\"font-weight: bold\">)</span>, \n",
       "<span style=\"color: #800080; text-decoration-color: #800080; font-weight: bold\">SpecData</span><span style=\"font-weight: bold\">(</span><span style=\"color: #808000; text-decoration-color: #808000\">type</span>=<span style=\"color: #008080; text-decoration-color: #008080; font-weight: bold\">67</span>, <span style=\"color: #808000; text-decoration-color: #808000\">thread_id</span>=<span style=\"color: #008080; text-decoration-color: #008080; font-weight: bold\">250</span>, <span style=\"color: #808000; text-decoration-color: #808000\">description</span>=<span style=\"color: #008000; text-decoration-color: #008000\">'PMEF 2021 (Faixa 6 de 6).'</span>, <span style=\"color: #808000; text-decoration-color: #808000\">start_mega</span>=<span style=\"color: #008080; text-decoration-color: #008080; font-weight: bold\">3290.0</span>, \n",
       "<span style=\"color: #808000; text-decoration-color: #808000\">stop_mega</span>=<span style=\"color: #008080; text-decoration-color: #008080; font-weight: bold\">3700.0</span>, <span style=\"color: #808000; text-decoration-color: #808000\">unit</span>=<span style=\"color: #008000; text-decoration-color: #008000\">'dBm'</span>, <span style=\"color: #808000; text-decoration-color: #808000\">ndata</span>=<span style=\"color: #008080; text-decoration-color: #008080; font-weight: bold\">10496</span>, <span style=\"color: #808000; text-decoration-color: #808000\">bw</span>=<span style=\"color: #008080; text-decoration-color: #008080; font-weight: bold\">73828</span>, <span style=\"color: #808000; text-decoration-color: #808000\">processing</span>=<span style=\"color: #008000; text-decoration-color: #008000\">'peak'</span>, <span style=\"color: #808000; text-decoration-color: #808000\">antenna_id</span>=<span style=\"color: #008080; text-decoration-color: #008080; font-weight: bold\">0</span>, \n",
       "<span style=\"color: #808000; text-decoration-color: #808000\">thresh</span>=<span style=\"color: #008080; text-decoration-color: #008080; font-weight: bold\">-147.5</span>, <span style=\"color: #808000; text-decoration-color: #808000\">minimum</span>=<span style=\"color: #008080; text-decoration-color: #008080; font-weight: bold\">-147.5</span><span style=\"font-weight: bold\">)</span>, <span style=\"color: #800080; text-decoration-color: #800080; font-weight: bold\">SpecData</span><span style=\"font-weight: bold\">(</span><span style=\"color: #808000; text-decoration-color: #808000\">type</span>=<span style=\"color: #008080; text-decoration-color: #008080; font-weight: bold\">67</span>, <span style=\"color: #808000; text-decoration-color: #808000\">thread_id</span>=<span style=\"color: #008080; text-decoration-color: #008080; font-weight: bold\">320</span>, <span style=\"color: #808000; text-decoration-color: #808000\">description</span>=<span style=\"color: #008000; text-decoration-color: #008000\">'PMEC 2021 </span>\n",
       "<span style=\"color: #008000; text-decoration-color: #008000\">(Faixa 3 de 10).'</span>, <span style=\"color: #808000; text-decoration-color: #808000\">start_mega</span>=<span style=\"color: #008080; text-decoration-color: #008080; font-weight: bold\">320.0</span>, <span style=\"color: #808000; text-decoration-color: #808000\">stop_mega</span>=<span style=\"color: #008080; text-decoration-color: #008080; font-weight: bold\">340.0</span>, <span style=\"color: #808000; text-decoration-color: #808000\">unit</span>=<span style=\"color: #008000; text-decoration-color: #008000\">'dBm'</span>, <span style=\"color: #808000; text-decoration-color: #808000\">ndata</span>=<span style=\"color: #008080; text-decoration-color: #008080; font-weight: bold\">512</span>, <span style=\"color: #808000; text-decoration-color: #808000\">bw</span>=<span style=\"color: #008080; text-decoration-color: #008080; font-weight: bold\">73828</span>, \n",
       "<span style=\"color: #808000; text-decoration-color: #808000\">processing</span>=<span style=\"color: #008000; text-decoration-color: #008000\">'peak'</span>, <span style=\"color: #808000; text-decoration-color: #808000\">antenna_id</span>=<span style=\"color: #008080; text-decoration-color: #008080; font-weight: bold\">0</span>, <span style=\"color: #808000; text-decoration-color: #808000\">thresh</span>=<span style=\"color: #008080; text-decoration-color: #008080; font-weight: bold\">-147.5</span>, <span style=\"color: #808000; text-decoration-color: #808000\">minimum</span>=<span style=\"color: #008080; text-decoration-color: #008080; font-weight: bold\">-147.5</span><span style=\"font-weight: bold\">)</span>, <span style=\"color: #800080; text-decoration-color: #800080; font-weight: bold\">SpecData</span><span style=\"font-weight: bold\">(</span><span style=\"color: #808000; text-decoration-color: #808000\">type</span>=<span style=\"color: #008080; text-decoration-color: #008080; font-weight: bold\">67</span>, \n",
       "<span style=\"color: #808000; text-decoration-color: #808000\">thread_id</span>=<span style=\"color: #008080; text-decoration-color: #008080; font-weight: bold\">330</span>, <span style=\"color: #808000; text-decoration-color: #808000\">description</span>=<span style=\"color: #008000; text-decoration-color: #008000\">'PMEC 2021 (Faixa 4 de 10).'</span>, <span style=\"color: #808000; text-decoration-color: #808000\">start_mega</span>=<span style=\"color: #008080; text-decoration-color: #008080; font-weight: bold\">400.0</span>, <span style=\"color: #808000; text-decoration-color: #808000\">stop_mega</span>=<span style=\"color: #008080; text-decoration-color: #008080; font-weight: bold\">410.0</span>, \n",
       "<span style=\"color: #808000; text-decoration-color: #808000\">unit</span>=<span style=\"color: #008000; text-decoration-color: #008000\">'dBm'</span>, <span style=\"color: #808000; text-decoration-color: #808000\">ndata</span>=<span style=\"color: #008080; text-decoration-color: #008080; font-weight: bold\">256</span>, <span style=\"color: #808000; text-decoration-color: #808000\">bw</span>=<span style=\"color: #008080; text-decoration-color: #008080; font-weight: bold\">73828</span>, <span style=\"color: #808000; text-decoration-color: #808000\">processing</span>=<span style=\"color: #008000; text-decoration-color: #008000\">'peak'</span>, <span style=\"color: #808000; text-decoration-color: #808000\">antenna_id</span>=<span style=\"color: #008080; text-decoration-color: #008080; font-weight: bold\">0</span>, <span style=\"color: #808000; text-decoration-color: #808000\">thresh</span>=<span style=\"color: #008080; text-decoration-color: #008080; font-weight: bold\">-147.5</span>, \n",
       "<span style=\"color: #808000; text-decoration-color: #808000\">minimum</span>=<span style=\"color: #008080; text-decoration-color: #008080; font-weight: bold\">-147.5</span><span style=\"font-weight: bold\">)</span>, <span style=\"color: #800080; text-decoration-color: #800080; font-weight: bold\">SpecData</span><span style=\"font-weight: bold\">(</span><span style=\"color: #808000; text-decoration-color: #808000\">type</span>=<span style=\"color: #008080; text-decoration-color: #008080; font-weight: bold\">67</span>, <span style=\"color: #808000; text-decoration-color: #808000\">thread_id</span>=<span style=\"color: #008080; text-decoration-color: #008080; font-weight: bold\">340</span>, <span style=\"color: #808000; text-decoration-color: #808000\">description</span>=<span style=\"color: #008000; text-decoration-color: #008000\">'PMEC 2021 (Faixa 5 de 10).'</span>, \n",
       "<span style=\"color: #808000; text-decoration-color: #808000\">start_mega</span>=<span style=\"color: #008080; text-decoration-color: #008080; font-weight: bold\">960.0</span>, <span style=\"color: #808000; text-decoration-color: #808000\">stop_mega</span>=<span style=\"color: #008080; text-decoration-color: #008080; font-weight: bold\">1001218.999</span>, <span style=\"color: #808000; text-decoration-color: #808000\">unit</span>=<span style=\"color: #008000; text-decoration-color: #008000\">'dBm'</span>, <span style=\"color: #808000; text-decoration-color: #808000\">ndata</span>=<span style=\"color: #008080; text-decoration-color: #008080; font-weight: bold\">6656</span>, <span style=\"color: #808000; text-decoration-color: #808000\">bw</span>=<span style=\"color: #008080; text-decoration-color: #008080; font-weight: bold\">73828</span>, <span style=\"color: #808000; text-decoration-color: #808000\">processing</span>=<span style=\"color: #008000; text-decoration-color: #008000\">'peak'</span>,\n",
       "<span style=\"color: #808000; text-decoration-color: #808000\">antenna_id</span>=<span style=\"color: #008080; text-decoration-color: #008080; font-weight: bold\">0</span>, <span style=\"color: #808000; text-decoration-color: #808000\">thresh</span>=<span style=\"color: #008080; text-decoration-color: #008080; font-weight: bold\">-147.5</span>, <span style=\"color: #808000; text-decoration-color: #808000\">minimum</span>=<span style=\"color: #008080; text-decoration-color: #008080; font-weight: bold\">-147.5</span><span style=\"font-weight: bold\">)</span>, <span style=\"color: #800080; text-decoration-color: #800080; font-weight: bold\">SpecData</span><span style=\"font-weight: bold\">(</span><span style=\"color: #808000; text-decoration-color: #808000\">type</span>=<span style=\"color: #008080; text-decoration-color: #008080; font-weight: bold\">67</span>, <span style=\"color: #808000; text-decoration-color: #808000\">thread_id</span>=<span style=\"color: #008080; text-decoration-color: #008080; font-weight: bold\">350</span>, \n",
       "<span style=\"color: #808000; text-decoration-color: #808000\">description</span>=<span style=\"color: #008000; text-decoration-color: #008000\">'PMEC 2021 (Faixa 6 de 10).'</span>, <span style=\"color: #808000; text-decoration-color: #808000\">start_mega</span>=<span style=\"color: #008080; text-decoration-color: #008080; font-weight: bold\">1001388.999</span>, <span style=\"color: #808000; text-decoration-color: #808000\">stop_mega</span>=<span style=\"color: #008080; text-decoration-color: #008080; font-weight: bold\">1001428.999</span>, \n",
       "<span style=\"color: #808000; text-decoration-color: #808000\">unit</span>=<span style=\"color: #008000; text-decoration-color: #008000\">'dBm'</span>, <span style=\"color: #808000; text-decoration-color: #808000\">ndata</span>=<span style=\"color: #008080; text-decoration-color: #008080; font-weight: bold\">1280</span>, <span style=\"color: #808000; text-decoration-color: #808000\">bw</span>=<span style=\"color: #008080; text-decoration-color: #008080; font-weight: bold\">73828</span>, <span style=\"color: #808000; text-decoration-color: #808000\">processing</span>=<span style=\"color: #008000; text-decoration-color: #008000\">'peak'</span>, <span style=\"color: #808000; text-decoration-color: #808000\">antenna_id</span>=<span style=\"color: #008080; text-decoration-color: #008080; font-weight: bold\">0</span>, <span style=\"color: #808000; text-decoration-color: #808000\">thresh</span>=<span style=\"color: #008080; text-decoration-color: #008080; font-weight: bold\">-147.5</span>, \n",
       "<span style=\"color: #808000; text-decoration-color: #808000\">minimum</span>=<span style=\"color: #008080; text-decoration-color: #008080; font-weight: bold\">-147.5</span><span style=\"font-weight: bold\">)</span>, <span style=\"color: #800080; text-decoration-color: #800080; font-weight: bold\">SpecData</span><span style=\"font-weight: bold\">(</span><span style=\"color: #808000; text-decoration-color: #808000\">type</span>=<span style=\"color: #008080; text-decoration-color: #008080; font-weight: bold\">67</span>, <span style=\"color: #808000; text-decoration-color: #808000\">thread_id</span>=<span style=\"color: #008080; text-decoration-color: #008080; font-weight: bold\">360</span>, <span style=\"color: #808000; text-decoration-color: #808000\">description</span>=<span style=\"color: #008000; text-decoration-color: #008000\">'PMEC 2021 (Faixa 7 de 10).'</span>, \n",
       "<span style=\"color: #808000; text-decoration-color: #808000\">start_mega</span>=<span style=\"color: #008080; text-decoration-color: #008080; font-weight: bold\">1530.0</span>, <span style=\"color: #808000; text-decoration-color: #808000\">stop_mega</span>=<span style=\"color: #008080; text-decoration-color: #008080; font-weight: bold\">1001648.999</span>, <span style=\"color: #808000; text-decoration-color: #808000\">unit</span>=<span style=\"color: #008000; text-decoration-color: #008000\">'dBm'</span>, <span style=\"color: #808000; text-decoration-color: #808000\">ndata</span>=<span style=\"color: #008080; text-decoration-color: #008080; font-weight: bold\">3072</span>, <span style=\"color: #808000; text-decoration-color: #808000\">bw</span>=<span style=\"color: #008080; text-decoration-color: #008080; font-weight: bold\">73828</span>, \n",
       "<span style=\"color: #808000; text-decoration-color: #808000\">processing</span>=<span style=\"color: #008000; text-decoration-color: #008000\">'peak'</span>, <span style=\"color: #808000; text-decoration-color: #808000\">antenna_id</span>=<span style=\"color: #008080; text-decoration-color: #008080; font-weight: bold\">0</span>, <span style=\"color: #808000; text-decoration-color: #808000\">thresh</span>=<span style=\"color: #008080; text-decoration-color: #008080; font-weight: bold\">-147.5</span>, <span style=\"color: #808000; text-decoration-color: #808000\">minimum</span>=<span style=\"color: #008080; text-decoration-color: #008080; font-weight: bold\">-147.5</span><span style=\"font-weight: bold\">)</span>, <span style=\"color: #800080; text-decoration-color: #800080; font-weight: bold\">SpecData</span><span style=\"font-weight: bold\">(</span><span style=\"color: #808000; text-decoration-color: #808000\">type</span>=<span style=\"color: #008080; text-decoration-color: #008080; font-weight: bold\">67</span>, \n",
       "<span style=\"color: #808000; text-decoration-color: #808000\">thread_id</span>=<span style=\"color: #008080; text-decoration-color: #008080; font-weight: bold\">370</span>, <span style=\"color: #808000; text-decoration-color: #808000\">description</span>=<span style=\"color: #008000; text-decoration-color: #008000\">'PMEC 2021 (Faixa 8 de 10).'</span>, <span style=\"color: #808000; text-decoration-color: #808000\">start_mega</span>=<span style=\"color: #008080; text-decoration-color: #008080; font-weight: bold\">2690.0</span>, \n",
       "<span style=\"color: #808000; text-decoration-color: #808000\">stop_mega</span>=<span style=\"color: #008080; text-decoration-color: #008080; font-weight: bold\">1002898.999</span>, <span style=\"color: #808000; text-decoration-color: #808000\">unit</span>=<span style=\"color: #008000; text-decoration-color: #008000\">'dBm'</span>, <span style=\"color: #808000; text-decoration-color: #808000\">ndata</span>=<span style=\"color: #008080; text-decoration-color: #008080; font-weight: bold\">5376</span>, <span style=\"color: #808000; text-decoration-color: #808000\">bw</span>=<span style=\"color: #008080; text-decoration-color: #008080; font-weight: bold\">73828</span>, <span style=\"color: #808000; text-decoration-color: #808000\">processing</span>=<span style=\"color: #008000; text-decoration-color: #008000\">'peak'</span>, <span style=\"color: #808000; text-decoration-color: #808000\">antenna_id</span>=<span style=\"color: #008080; text-decoration-color: #008080; font-weight: bold\">0</span>, \n",
       "<span style=\"color: #808000; text-decoration-color: #808000\">thresh</span>=<span style=\"color: #008080; text-decoration-color: #008080; font-weight: bold\">-147.5</span>, <span style=\"color: #808000; text-decoration-color: #808000\">minimum</span>=<span style=\"color: #008080; text-decoration-color: #008080; font-weight: bold\">-147.5</span><span style=\"font-weight: bold\">)</span>, <span style=\"color: #800080; text-decoration-color: #800080; font-weight: bold\">SpecData</span><span style=\"font-weight: bold\">(</span><span style=\"color: #808000; text-decoration-color: #808000\">type</span>=<span style=\"color: #008080; text-decoration-color: #008080; font-weight: bold\">67</span>, <span style=\"color: #808000; text-decoration-color: #808000\">thread_id</span>=<span style=\"color: #008080; text-decoration-color: #008080; font-weight: bold\">380</span>, <span style=\"color: #808000; text-decoration-color: #808000\">description</span>=<span style=\"color: #008000; text-decoration-color: #008000\">'PMEC 2021 </span>\n",
       "<span style=\"color: #008000; text-decoration-color: #008000\">(Faixa 9 de 10).'</span>, <span style=\"color: #808000; text-decoration-color: #808000\">start_mega</span>=<span style=\"color: #008080; text-decoration-color: #008080; font-weight: bold\">5000.0</span>, <span style=\"color: #808000; text-decoration-color: #808000\">stop_mega</span>=<span style=\"color: #008080; text-decoration-color: #008080; font-weight: bold\">5160.0</span>, <span style=\"color: #808000; text-decoration-color: #808000\">unit</span>=<span style=\"color: #008000; text-decoration-color: #008000\">'dBm'</span>, <span style=\"color: #808000; text-decoration-color: #808000\">ndata</span>=<span style=\"color: #008080; text-decoration-color: #008080; font-weight: bold\">4096</span>, <span style=\"color: #808000; text-decoration-color: #808000\">bw</span>=<span style=\"color: #008080; text-decoration-color: #008080; font-weight: bold\">73828</span>, \n",
       "<span style=\"color: #808000; text-decoration-color: #808000\">processing</span>=<span style=\"color: #008000; text-decoration-color: #008000\">'peak'</span>, <span style=\"color: #808000; text-decoration-color: #808000\">antenna_id</span>=<span style=\"color: #008080; text-decoration-color: #008080; font-weight: bold\">0</span>, <span style=\"color: #808000; text-decoration-color: #808000\">thresh</span>=<span style=\"color: #008080; text-decoration-color: #008080; font-weight: bold\">-147.5</span>, <span style=\"color: #808000; text-decoration-color: #808000\">minimum</span>=<span style=\"color: #008080; text-decoration-color: #008080; font-weight: bold\">-147.5</span><span style=\"font-weight: bold\">)</span>, <span style=\"color: #800080; text-decoration-color: #800080; font-weight: bold\">SpecData</span><span style=\"font-weight: bold\">(</span><span style=\"color: #808000; text-decoration-color: #808000\">type</span>=<span style=\"color: #008080; text-decoration-color: #008080; font-weight: bold\">67</span>, \n",
       "<span style=\"color: #808000; text-decoration-color: #808000\">thread_id</span>=<span style=\"color: #008080; text-decoration-color: #008080; font-weight: bold\">390</span>, <span style=\"color: #808000; text-decoration-color: #808000\">description</span>=<span style=\"color: #008000; text-decoration-color: #008000\">'PMEC 2021 (Faixa 10 de 10).'</span>, <span style=\"color: #808000; text-decoration-color: #808000\">start_mega</span>=<span style=\"color: #008080; text-decoration-color: #008080; font-weight: bold\">1005338.999</span>, \n",
       "<span style=\"color: #808000; text-decoration-color: #808000\">stop_mega</span>=<span style=\"color: #008080; text-decoration-color: #008080; font-weight: bold\">1005458.999</span>, <span style=\"color: #808000; text-decoration-color: #808000\">unit</span>=<span style=\"color: #008000; text-decoration-color: #008000\">'dBm'</span>, <span style=\"color: #808000; text-decoration-color: #808000\">ndata</span>=<span style=\"color: #008080; text-decoration-color: #008080; font-weight: bold\">3328</span>, <span style=\"color: #808000; text-decoration-color: #808000\">bw</span>=<span style=\"color: #008080; text-decoration-color: #008080; font-weight: bold\">73828</span>, <span style=\"color: #808000; text-decoration-color: #808000\">processing</span>=<span style=\"color: #008000; text-decoration-color: #008000\">'peak'</span>, <span style=\"color: #808000; text-decoration-color: #808000\">antenna_id</span>=<span style=\"color: #008080; text-decoration-color: #008080; font-weight: bold\">0</span>, \n",
       "<span style=\"color: #808000; text-decoration-color: #808000\">thresh</span>=<span style=\"color: #008080; text-decoration-color: #008080; font-weight: bold\">-147.5</span>, <span style=\"color: #808000; text-decoration-color: #808000\">minimum</span>=<span style=\"color: #008080; text-decoration-color: #008080; font-weight: bold\">-147.5</span><span style=\"font-weight: bold\">)]</span>\n",
       "<span style=\"font-weight: bold\">}</span>\n",
       "</pre>\n"
      ],
      "text/plain": [
       "\u001b[1m{\u001b[0m\n",
       "    \u001b[32m'filename'\u001b[0m: \u001b[32m'rfeye002130_210622_T151702.bin'\u001b[0m,\n",
       "    \u001b[32m'file_version'\u001b[0m: \u001b[1;36m23\u001b[0m,\n",
       "    \u001b[32m'string'\u001b[0m: \u001b[32m'CRFS DATA FILE V023'\u001b[0m,\n",
       "    \u001b[32m'hostname'\u001b[0m: \u001b[32m'rfeye002130'\u001b[0m,\n",
       "    \u001b[32m'method'\u001b[0m: \u001b[32m'ScriptRFeye2021_v.1'\u001b[0m,\n",
       "    \u001b[32m'unit_info'\u001b[0m: \u001b[32m'Stationary'\u001b[0m,\n",
       "    \u001b[32m'file_number'\u001b[0m: \u001b[1;36m0\u001b[0m,\n",
       "    \u001b[32m'identifier'\u001b[0m: \u001b[32m'INFO'\u001b[0m,\n",
       "    \u001b[32m'gps'\u001b[0m: GPS Data - Median of Coordinates: \u001b[1;36m-10.68619\u001b[0m:\u001b[1;36m-37.43918\u001b[0m, Altitude: \u001b[1;36m210.10\u001b[0m \n",
       "#Satellites: \u001b[1;36m11.0\u001b[0m ,\n",
       "    \u001b[32m'spectrum'\u001b[0m: \u001b[1m[\u001b[0m\u001b[1;35mSpecData\u001b[0m\u001b[1m(\u001b[0m\u001b[33mtype\u001b[0m=\u001b[1;36m67\u001b[0m, \u001b[33mthread_id\u001b[0m=\u001b[1;36m300\u001b[0m, \u001b[33mdescription\u001b[0m=\u001b[32m'PMEC 2021 \u001b[0m\u001b[32m(\u001b[0m\u001b[32mFaixa 1 de 10\u001b[0m\u001b[32m)\u001b[0m\u001b[32m.'\u001b[0m, \n",
       "\u001b[33mstart_mega\u001b[0m=\u001b[1;36m105\u001b[0m\u001b[1;36m.0\u001b[0m, \u001b[33mstop_mega\u001b[0m=\u001b[1;36m140\u001b[0m\u001b[1;36m.0\u001b[0m, \u001b[33munit\u001b[0m=\u001b[32m'dBm'\u001b[0m, \u001b[33mndata\u001b[0m=\u001b[1;36m3584\u001b[0m, \u001b[33mbw\u001b[0m=\u001b[1;36m18457\u001b[0m, \u001b[33mprocessing\u001b[0m=\u001b[32m'peak'\u001b[0m, \n",
       "\u001b[33mantenna_id\u001b[0m=\u001b[1;36m0\u001b[0m, \u001b[33mthresh\u001b[0m=\u001b[1;36m-147.5\u001b[0m, \u001b[33mminimum\u001b[0m=\u001b[1;36m-147.5\u001b[0m\u001b[1m)\u001b[0m, \u001b[1;35mSpecData\u001b[0m\u001b[1m(\u001b[0m\u001b[33mtype\u001b[0m=\u001b[1;36m67\u001b[0m, \u001b[33mthread_id\u001b[0m=\u001b[1;36m310\u001b[0m, \n",
       "\u001b[33mdescription\u001b[0m=\u001b[32m'PMEC 2021 \u001b[0m\u001b[32m(\u001b[0m\u001b[32mFaixa 2 de 10\u001b[0m\u001b[32m)\u001b[0m\u001b[32m.'\u001b[0m, \u001b[33mstart_mega\u001b[0m=\u001b[1;36m155\u001b[0m\u001b[1;36m.0\u001b[0m, \u001b[33mstop_mega\u001b[0m=\u001b[1;36m165\u001b[0m\u001b[1;36m.0\u001b[0m, \u001b[33munit\u001b[0m=\u001b[32m'dBm'\u001b[0m, \n",
       "\u001b[33mndata\u001b[0m=\u001b[1;36m1024\u001b[0m, \u001b[33mbw\u001b[0m=\u001b[1;36m18457\u001b[0m, \u001b[33mprocessing\u001b[0m=\u001b[32m'peak'\u001b[0m, \u001b[33mantenna_id\u001b[0m=\u001b[1;36m0\u001b[0m, \u001b[33mthresh\u001b[0m=\u001b[1;36m-147.5\u001b[0m, \u001b[33mminimum\u001b[0m=\u001b[1;36m-147.5\u001b[0m\u001b[1m)\u001b[0m, \n",
       "\u001b[1;35mSpecData\u001b[0m\u001b[1m(\u001b[0m\u001b[33mtype\u001b[0m=\u001b[1;36m67\u001b[0m, \u001b[33mthread_id\u001b[0m=\u001b[1;36m100\u001b[0m, \u001b[33mdescription\u001b[0m=\u001b[32m'PRD 2021 \u001b[0m\u001b[32m(\u001b[0m\u001b[32mFaixa principal 1 de 4\u001b[0m\u001b[32m)\u001b[0m\u001b[32m.'\u001b[0m, \n",
       "\u001b[33mstart_mega\u001b[0m=\u001b[1;36m50\u001b[0m\u001b[1;36m.0\u001b[0m, \u001b[33mstop_mega\u001b[0m=\u001b[1;36m90\u001b[0m\u001b[1;36m.0\u001b[0m, \u001b[33munit\u001b[0m=\u001b[32m'dBμV/m'\u001b[0m, \u001b[33mndata\u001b[0m=\u001b[1;36m1024\u001b[0m, \u001b[33mbw\u001b[0m=\u001b[1;36m73828\u001b[0m, \u001b[33mprocessing\u001b[0m=\u001b[32m'peak'\u001b[0m, \n",
       "\u001b[33mantenna_id\u001b[0m=\u001b[1;36m0\u001b[0m, \u001b[33mthresh\u001b[0m=\u001b[1;36m-70.5\u001b[0m, \u001b[33mminimum\u001b[0m=\u001b[1;36m-70.5\u001b[0m\u001b[1m)\u001b[0m, \u001b[1;35mSpecData\u001b[0m\u001b[1m(\u001b[0m\u001b[33mtype\u001b[0m=\u001b[1;36m67\u001b[0m, \u001b[33mthread_id\u001b[0m=\u001b[1;36m110\u001b[0m, \u001b[33mdescription\u001b[0m=\u001b[32m'PRD\u001b[0m\n",
       "\u001b[32m2021 \u001b[0m\u001b[32m(\u001b[0m\u001b[32mFaixa principal 2 de 4\u001b[0m\u001b[32m)\u001b[0m\u001b[32m.'\u001b[0m, \u001b[33mstart_mega\u001b[0m=\u001b[1;36m70\u001b[0m\u001b[1;36m.0\u001b[0m, \u001b[33mstop_mega\u001b[0m=\u001b[1;36m110\u001b[0m\u001b[1;36m.0\u001b[0m, \u001b[33munit\u001b[0m=\u001b[32m'dBμV/m'\u001b[0m, \u001b[33mndata\u001b[0m=\u001b[1;36m1024\u001b[0m,\n",
       "\u001b[33mbw\u001b[0m=\u001b[1;36m73828\u001b[0m, \u001b[33mprocessing\u001b[0m=\u001b[32m'peak'\u001b[0m, \u001b[33mantenna_id\u001b[0m=\u001b[1;36m0\u001b[0m, \u001b[33mthresh\u001b[0m=\u001b[1;36m-29.5\u001b[0m, \u001b[33mminimum\u001b[0m=\u001b[1;36m-29.5\u001b[0m\u001b[1m)\u001b[0m, \u001b[1;35mSpecData\u001b[0m\u001b[1m(\u001b[0m\u001b[33mtype\u001b[0m=\u001b[1;36m67\u001b[0m, \n",
       "\u001b[33mthread_id\u001b[0m=\u001b[1;36m120\u001b[0m, \u001b[33mdescription\u001b[0m=\u001b[32m'PRD 2021 \u001b[0m\u001b[32m(\u001b[0m\u001b[32mFaixa principal 3 de 4\u001b[0m\u001b[32m)\u001b[0m\u001b[32m.'\u001b[0m, \u001b[33mstart_mega\u001b[0m=\u001b[1;36m170\u001b[0m\u001b[1;36m.0\u001b[0m, \n",
       "\u001b[33mstop_mega\u001b[0m=\u001b[1;36m220\u001b[0m\u001b[1;36m.0\u001b[0m, \u001b[33munit\u001b[0m=\u001b[32m'dBμV/m'\u001b[0m, \u001b[33mndata\u001b[0m=\u001b[1;36m1280\u001b[0m, \u001b[33mbw\u001b[0m=\u001b[1;36m73828\u001b[0m, \u001b[33mprocessing\u001b[0m=\u001b[32m'peak'\u001b[0m, \u001b[33mantenna_id\u001b[0m=\u001b[1;36m0\u001b[0m, \n",
       "\u001b[33mthresh\u001b[0m=\u001b[1;36m-69.5\u001b[0m, \u001b[33mminimum\u001b[0m=\u001b[1;36m-69.5\u001b[0m\u001b[1m)\u001b[0m, \u001b[1;35mSpecData\u001b[0m\u001b[1m(\u001b[0m\u001b[33mtype\u001b[0m=\u001b[1;36m67\u001b[0m, \u001b[33mthread_id\u001b[0m=\u001b[1;36m130\u001b[0m, \u001b[33mdescription\u001b[0m=\u001b[32m'PRD 2021 \u001b[0m\u001b[32m(\u001b[0m\u001b[32mFaixa \u001b[0m\n",
       "\u001b[32mprincipal 4 de 4\u001b[0m\u001b[32m)\u001b[0m\u001b[32m.'\u001b[0m, \u001b[33mstart_mega\u001b[0m=\u001b[1;36m470\u001b[0m\u001b[1;36m.0\u001b[0m, \u001b[33mstop_mega\u001b[0m=\u001b[1;36m700\u001b[0m\u001b[1;36m.0\u001b[0m, \u001b[33munit\u001b[0m=\u001b[32m'dBμV/m'\u001b[0m, \u001b[33mndata\u001b[0m=\u001b[1;36m5888\u001b[0m, \u001b[33mbw\u001b[0m=\u001b[1;36m73828\u001b[0m, \n",
       "\u001b[33mprocessing\u001b[0m=\u001b[32m'peak'\u001b[0m, \u001b[33mantenna_id\u001b[0m=\u001b[1;36m0\u001b[0m, \u001b[33mthresh\u001b[0m=\u001b[1;36m-42.5\u001b[0m, \u001b[33mminimum\u001b[0m=\u001b[1;36m-42.5\u001b[0m\u001b[1m)\u001b[0m, \u001b[1;35mSpecData\u001b[0m\u001b[1m(\u001b[0m\u001b[33mtype\u001b[0m=\u001b[1;36m67\u001b[0m, \n",
       "\u001b[33mthread_id\u001b[0m=\u001b[1;36m200\u001b[0m, \u001b[33mdescription\u001b[0m=\u001b[32m'PMEF 2021 \u001b[0m\u001b[32m(\u001b[0m\u001b[32mFaixa 1 de 6\u001b[0m\u001b[32m)\u001b[0m\u001b[32m.'\u001b[0m, \u001b[33mstart_mega\u001b[0m=\u001b[1;36m700\u001b[0m\u001b[1;36m.0\u001b[0m, \u001b[33mstop_mega\u001b[0m=\u001b[1;36m960\u001b[0m\u001b[1;36m.0\u001b[0m, \n",
       "\u001b[33munit\u001b[0m=\u001b[32m'dBm'\u001b[0m, \u001b[33mndata\u001b[0m=\u001b[1;36m6656\u001b[0m, \u001b[33mbw\u001b[0m=\u001b[1;36m73828\u001b[0m, \u001b[33mprocessing\u001b[0m=\u001b[32m'peak'\u001b[0m, \u001b[33mantenna_id\u001b[0m=\u001b[1;36m0\u001b[0m, \u001b[33mthresh\u001b[0m=\u001b[1;36m-147.5\u001b[0m, \n",
       "\u001b[33mminimum\u001b[0m=\u001b[1;36m-147.5\u001b[0m\u001b[1m)\u001b[0m, \u001b[1;35mSpecData\u001b[0m\u001b[1m(\u001b[0m\u001b[33mtype\u001b[0m=\u001b[1;36m67\u001b[0m, \u001b[33mthread_id\u001b[0m=\u001b[1;36m210\u001b[0m, \u001b[33mdescription\u001b[0m=\u001b[32m'PMEF 2021 \u001b[0m\u001b[32m(\u001b[0m\u001b[32mFaixa 2 de 6\u001b[0m\u001b[32m)\u001b[0m\u001b[32m.'\u001b[0m, \n",
       "\u001b[33mstart_mega\u001b[0m=\u001b[1;36m1710\u001b[0m\u001b[1;36m.0\u001b[0m, \u001b[33mstop_mega\u001b[0m=\u001b[1;36m1980\u001b[0m\u001b[1;36m.0\u001b[0m, \u001b[33munit\u001b[0m=\u001b[32m'dBm'\u001b[0m, \u001b[33mndata\u001b[0m=\u001b[1;36m6912\u001b[0m, \u001b[33mbw\u001b[0m=\u001b[1;36m73828\u001b[0m, \u001b[33mprocessing\u001b[0m=\u001b[32m'peak'\u001b[0m, \n",
       "\u001b[33mantenna_id\u001b[0m=\u001b[1;36m0\u001b[0m, \u001b[33mthresh\u001b[0m=\u001b[1;36m-147.5\u001b[0m, \u001b[33mminimum\u001b[0m=\u001b[1;36m-147.5\u001b[0m\u001b[1m)\u001b[0m, \u001b[1;35mSpecData\u001b[0m\u001b[1m(\u001b[0m\u001b[33mtype\u001b[0m=\u001b[1;36m67\u001b[0m, \u001b[33mthread_id\u001b[0m=\u001b[1;36m220\u001b[0m, \n",
       "\u001b[33mdescription\u001b[0m=\u001b[32m'PMEF 2021 \u001b[0m\u001b[32m(\u001b[0m\u001b[32mFaixa 3 de 6\u001b[0m\u001b[32m)\u001b[0m\u001b[32m.'\u001b[0m, \u001b[33mstart_mega\u001b[0m=\u001b[1;36m2100\u001b[0m\u001b[1;36m.0\u001b[0m, \u001b[33mstop_mega\u001b[0m=\u001b[1;36m1002168\u001b[0m\u001b[1;36m.999\u001b[0m, \n",
       "\u001b[33munit\u001b[0m=\u001b[32m'dBm'\u001b[0m, \u001b[33mndata\u001b[0m=\u001b[1;36m1792\u001b[0m, \u001b[33mbw\u001b[0m=\u001b[1;36m73828\u001b[0m, \u001b[33mprocessing\u001b[0m=\u001b[32m'peak'\u001b[0m, \u001b[33mantenna_id\u001b[0m=\u001b[1;36m0\u001b[0m, \u001b[33mthresh\u001b[0m=\u001b[1;36m-147.5\u001b[0m, \n",
       "\u001b[33mminimum\u001b[0m=\u001b[1;36m-147.5\u001b[0m\u001b[1m)\u001b[0m, \u001b[1;35mSpecData\u001b[0m\u001b[1m(\u001b[0m\u001b[33mtype\u001b[0m=\u001b[1;36m67\u001b[0m, \u001b[33mthread_id\u001b[0m=\u001b[1;36m230\u001b[0m, \u001b[33mdescription\u001b[0m=\u001b[32m'PMEF 2021 \u001b[0m\u001b[32m(\u001b[0m\u001b[32mFaixa 4 de 6\u001b[0m\u001b[32m)\u001b[0m\u001b[32m.'\u001b[0m, \n",
       "\u001b[33mstart_mega\u001b[0m=\u001b[1;36m2290\u001b[0m\u001b[1;36m.0\u001b[0m, \u001b[33mstop_mega\u001b[0m=\u001b[1;36m2390\u001b[0m\u001b[1;36m.0\u001b[0m, \u001b[33munit\u001b[0m=\u001b[32m'dBm'\u001b[0m, \u001b[33mndata\u001b[0m=\u001b[1;36m2560\u001b[0m, \u001b[33mbw\u001b[0m=\u001b[1;36m73828\u001b[0m, \u001b[33mprocessing\u001b[0m=\u001b[32m'peak'\u001b[0m, \n",
       "\u001b[33mantenna_id\u001b[0m=\u001b[1;36m0\u001b[0m, \u001b[33mthresh\u001b[0m=\u001b[1;36m-147.5\u001b[0m, \u001b[33mminimum\u001b[0m=\u001b[1;36m-147.5\u001b[0m\u001b[1m)\u001b[0m, \u001b[1;35mSpecData\u001b[0m\u001b[1m(\u001b[0m\u001b[33mtype\u001b[0m=\u001b[1;36m67\u001b[0m, \u001b[33mthread_id\u001b[0m=\u001b[1;36m240\u001b[0m, \n",
       "\u001b[33mdescription\u001b[0m=\u001b[32m'PMEF 2021 \u001b[0m\u001b[32m(\u001b[0m\u001b[32mFaixa 5 de 6\u001b[0m\u001b[32m)\u001b[0m\u001b[32m.'\u001b[0m, \u001b[33mstart_mega\u001b[0m=\u001b[1;36m2500\u001b[0m\u001b[1;36m.0\u001b[0m, \u001b[33mstop_mega\u001b[0m=\u001b[1;36m2690\u001b[0m\u001b[1;36m.0\u001b[0m, \u001b[33munit\u001b[0m=\u001b[32m'dBm'\u001b[0m, \n",
       "\u001b[33mndata\u001b[0m=\u001b[1;36m4864\u001b[0m, \u001b[33mbw\u001b[0m=\u001b[1;36m73828\u001b[0m, \u001b[33mprocessing\u001b[0m=\u001b[32m'peak'\u001b[0m, \u001b[33mantenna_id\u001b[0m=\u001b[1;36m0\u001b[0m, \u001b[33mthresh\u001b[0m=\u001b[1;36m-147.5\u001b[0m, \u001b[33mminimum\u001b[0m=\u001b[1;36m-147.5\u001b[0m\u001b[1m)\u001b[0m, \n",
       "\u001b[1;35mSpecData\u001b[0m\u001b[1m(\u001b[0m\u001b[33mtype\u001b[0m=\u001b[1;36m67\u001b[0m, \u001b[33mthread_id\u001b[0m=\u001b[1;36m250\u001b[0m, \u001b[33mdescription\u001b[0m=\u001b[32m'PMEF 2021 \u001b[0m\u001b[32m(\u001b[0m\u001b[32mFaixa 6 de 6\u001b[0m\u001b[32m)\u001b[0m\u001b[32m.'\u001b[0m, \u001b[33mstart_mega\u001b[0m=\u001b[1;36m3290\u001b[0m\u001b[1;36m.0\u001b[0m, \n",
       "\u001b[33mstop_mega\u001b[0m=\u001b[1;36m3700\u001b[0m\u001b[1;36m.0\u001b[0m, \u001b[33munit\u001b[0m=\u001b[32m'dBm'\u001b[0m, \u001b[33mndata\u001b[0m=\u001b[1;36m10496\u001b[0m, \u001b[33mbw\u001b[0m=\u001b[1;36m73828\u001b[0m, \u001b[33mprocessing\u001b[0m=\u001b[32m'peak'\u001b[0m, \u001b[33mantenna_id\u001b[0m=\u001b[1;36m0\u001b[0m, \n",
       "\u001b[33mthresh\u001b[0m=\u001b[1;36m-147.5\u001b[0m, \u001b[33mminimum\u001b[0m=\u001b[1;36m-147.5\u001b[0m\u001b[1m)\u001b[0m, \u001b[1;35mSpecData\u001b[0m\u001b[1m(\u001b[0m\u001b[33mtype\u001b[0m=\u001b[1;36m67\u001b[0m, \u001b[33mthread_id\u001b[0m=\u001b[1;36m320\u001b[0m, \u001b[33mdescription\u001b[0m=\u001b[32m'PMEC 2021 \u001b[0m\n",
       "\u001b[32m(\u001b[0m\u001b[32mFaixa 3 de 10\u001b[0m\u001b[32m)\u001b[0m\u001b[32m.'\u001b[0m, \u001b[33mstart_mega\u001b[0m=\u001b[1;36m320\u001b[0m\u001b[1;36m.0\u001b[0m, \u001b[33mstop_mega\u001b[0m=\u001b[1;36m340\u001b[0m\u001b[1;36m.0\u001b[0m, \u001b[33munit\u001b[0m=\u001b[32m'dBm'\u001b[0m, \u001b[33mndata\u001b[0m=\u001b[1;36m512\u001b[0m, \u001b[33mbw\u001b[0m=\u001b[1;36m73828\u001b[0m, \n",
       "\u001b[33mprocessing\u001b[0m=\u001b[32m'peak'\u001b[0m, \u001b[33mantenna_id\u001b[0m=\u001b[1;36m0\u001b[0m, \u001b[33mthresh\u001b[0m=\u001b[1;36m-147.5\u001b[0m, \u001b[33mminimum\u001b[0m=\u001b[1;36m-147.5\u001b[0m\u001b[1m)\u001b[0m, \u001b[1;35mSpecData\u001b[0m\u001b[1m(\u001b[0m\u001b[33mtype\u001b[0m=\u001b[1;36m67\u001b[0m, \n",
       "\u001b[33mthread_id\u001b[0m=\u001b[1;36m330\u001b[0m, \u001b[33mdescription\u001b[0m=\u001b[32m'PMEC 2021 \u001b[0m\u001b[32m(\u001b[0m\u001b[32mFaixa 4 de 10\u001b[0m\u001b[32m)\u001b[0m\u001b[32m.'\u001b[0m, \u001b[33mstart_mega\u001b[0m=\u001b[1;36m400\u001b[0m\u001b[1;36m.0\u001b[0m, \u001b[33mstop_mega\u001b[0m=\u001b[1;36m410\u001b[0m\u001b[1;36m.0\u001b[0m, \n",
       "\u001b[33munit\u001b[0m=\u001b[32m'dBm'\u001b[0m, \u001b[33mndata\u001b[0m=\u001b[1;36m256\u001b[0m, \u001b[33mbw\u001b[0m=\u001b[1;36m73828\u001b[0m, \u001b[33mprocessing\u001b[0m=\u001b[32m'peak'\u001b[0m, \u001b[33mantenna_id\u001b[0m=\u001b[1;36m0\u001b[0m, \u001b[33mthresh\u001b[0m=\u001b[1;36m-147.5\u001b[0m, \n",
       "\u001b[33mminimum\u001b[0m=\u001b[1;36m-147.5\u001b[0m\u001b[1m)\u001b[0m, \u001b[1;35mSpecData\u001b[0m\u001b[1m(\u001b[0m\u001b[33mtype\u001b[0m=\u001b[1;36m67\u001b[0m, \u001b[33mthread_id\u001b[0m=\u001b[1;36m340\u001b[0m, \u001b[33mdescription\u001b[0m=\u001b[32m'PMEC 2021 \u001b[0m\u001b[32m(\u001b[0m\u001b[32mFaixa 5 de 10\u001b[0m\u001b[32m)\u001b[0m\u001b[32m.'\u001b[0m, \n",
       "\u001b[33mstart_mega\u001b[0m=\u001b[1;36m960\u001b[0m\u001b[1;36m.0\u001b[0m, \u001b[33mstop_mega\u001b[0m=\u001b[1;36m1001218\u001b[0m\u001b[1;36m.999\u001b[0m, \u001b[33munit\u001b[0m=\u001b[32m'dBm'\u001b[0m, \u001b[33mndata\u001b[0m=\u001b[1;36m6656\u001b[0m, \u001b[33mbw\u001b[0m=\u001b[1;36m73828\u001b[0m, \u001b[33mprocessing\u001b[0m=\u001b[32m'peak'\u001b[0m,\n",
       "\u001b[33mantenna_id\u001b[0m=\u001b[1;36m0\u001b[0m, \u001b[33mthresh\u001b[0m=\u001b[1;36m-147.5\u001b[0m, \u001b[33mminimum\u001b[0m=\u001b[1;36m-147.5\u001b[0m\u001b[1m)\u001b[0m, \u001b[1;35mSpecData\u001b[0m\u001b[1m(\u001b[0m\u001b[33mtype\u001b[0m=\u001b[1;36m67\u001b[0m, \u001b[33mthread_id\u001b[0m=\u001b[1;36m350\u001b[0m, \n",
       "\u001b[33mdescription\u001b[0m=\u001b[32m'PMEC 2021 \u001b[0m\u001b[32m(\u001b[0m\u001b[32mFaixa 6 de 10\u001b[0m\u001b[32m)\u001b[0m\u001b[32m.'\u001b[0m, \u001b[33mstart_mega\u001b[0m=\u001b[1;36m1001388\u001b[0m\u001b[1;36m.999\u001b[0m, \u001b[33mstop_mega\u001b[0m=\u001b[1;36m1001428\u001b[0m\u001b[1;36m.999\u001b[0m, \n",
       "\u001b[33munit\u001b[0m=\u001b[32m'dBm'\u001b[0m, \u001b[33mndata\u001b[0m=\u001b[1;36m1280\u001b[0m, \u001b[33mbw\u001b[0m=\u001b[1;36m73828\u001b[0m, \u001b[33mprocessing\u001b[0m=\u001b[32m'peak'\u001b[0m, \u001b[33mantenna_id\u001b[0m=\u001b[1;36m0\u001b[0m, \u001b[33mthresh\u001b[0m=\u001b[1;36m-147.5\u001b[0m, \n",
       "\u001b[33mminimum\u001b[0m=\u001b[1;36m-147.5\u001b[0m\u001b[1m)\u001b[0m, \u001b[1;35mSpecData\u001b[0m\u001b[1m(\u001b[0m\u001b[33mtype\u001b[0m=\u001b[1;36m67\u001b[0m, \u001b[33mthread_id\u001b[0m=\u001b[1;36m360\u001b[0m, \u001b[33mdescription\u001b[0m=\u001b[32m'PMEC 2021 \u001b[0m\u001b[32m(\u001b[0m\u001b[32mFaixa 7 de 10\u001b[0m\u001b[32m)\u001b[0m\u001b[32m.'\u001b[0m, \n",
       "\u001b[33mstart_mega\u001b[0m=\u001b[1;36m1530\u001b[0m\u001b[1;36m.0\u001b[0m, \u001b[33mstop_mega\u001b[0m=\u001b[1;36m1001648\u001b[0m\u001b[1;36m.999\u001b[0m, \u001b[33munit\u001b[0m=\u001b[32m'dBm'\u001b[0m, \u001b[33mndata\u001b[0m=\u001b[1;36m3072\u001b[0m, \u001b[33mbw\u001b[0m=\u001b[1;36m73828\u001b[0m, \n",
       "\u001b[33mprocessing\u001b[0m=\u001b[32m'peak'\u001b[0m, \u001b[33mantenna_id\u001b[0m=\u001b[1;36m0\u001b[0m, \u001b[33mthresh\u001b[0m=\u001b[1;36m-147.5\u001b[0m, \u001b[33mminimum\u001b[0m=\u001b[1;36m-147.5\u001b[0m\u001b[1m)\u001b[0m, \u001b[1;35mSpecData\u001b[0m\u001b[1m(\u001b[0m\u001b[33mtype\u001b[0m=\u001b[1;36m67\u001b[0m, \n",
       "\u001b[33mthread_id\u001b[0m=\u001b[1;36m370\u001b[0m, \u001b[33mdescription\u001b[0m=\u001b[32m'PMEC 2021 \u001b[0m\u001b[32m(\u001b[0m\u001b[32mFaixa 8 de 10\u001b[0m\u001b[32m)\u001b[0m\u001b[32m.'\u001b[0m, \u001b[33mstart_mega\u001b[0m=\u001b[1;36m2690\u001b[0m\u001b[1;36m.0\u001b[0m, \n",
       "\u001b[33mstop_mega\u001b[0m=\u001b[1;36m1002898\u001b[0m\u001b[1;36m.999\u001b[0m, \u001b[33munit\u001b[0m=\u001b[32m'dBm'\u001b[0m, \u001b[33mndata\u001b[0m=\u001b[1;36m5376\u001b[0m, \u001b[33mbw\u001b[0m=\u001b[1;36m73828\u001b[0m, \u001b[33mprocessing\u001b[0m=\u001b[32m'peak'\u001b[0m, \u001b[33mantenna_id\u001b[0m=\u001b[1;36m0\u001b[0m, \n",
       "\u001b[33mthresh\u001b[0m=\u001b[1;36m-147.5\u001b[0m, \u001b[33mminimum\u001b[0m=\u001b[1;36m-147.5\u001b[0m\u001b[1m)\u001b[0m, \u001b[1;35mSpecData\u001b[0m\u001b[1m(\u001b[0m\u001b[33mtype\u001b[0m=\u001b[1;36m67\u001b[0m, \u001b[33mthread_id\u001b[0m=\u001b[1;36m380\u001b[0m, \u001b[33mdescription\u001b[0m=\u001b[32m'PMEC 2021 \u001b[0m\n",
       "\u001b[32m(\u001b[0m\u001b[32mFaixa 9 de 10\u001b[0m\u001b[32m)\u001b[0m\u001b[32m.'\u001b[0m, \u001b[33mstart_mega\u001b[0m=\u001b[1;36m5000\u001b[0m\u001b[1;36m.0\u001b[0m, \u001b[33mstop_mega\u001b[0m=\u001b[1;36m5160\u001b[0m\u001b[1;36m.0\u001b[0m, \u001b[33munit\u001b[0m=\u001b[32m'dBm'\u001b[0m, \u001b[33mndata\u001b[0m=\u001b[1;36m4096\u001b[0m, \u001b[33mbw\u001b[0m=\u001b[1;36m73828\u001b[0m, \n",
       "\u001b[33mprocessing\u001b[0m=\u001b[32m'peak'\u001b[0m, \u001b[33mantenna_id\u001b[0m=\u001b[1;36m0\u001b[0m, \u001b[33mthresh\u001b[0m=\u001b[1;36m-147.5\u001b[0m, \u001b[33mminimum\u001b[0m=\u001b[1;36m-147.5\u001b[0m\u001b[1m)\u001b[0m, \u001b[1;35mSpecData\u001b[0m\u001b[1m(\u001b[0m\u001b[33mtype\u001b[0m=\u001b[1;36m67\u001b[0m, \n",
       "\u001b[33mthread_id\u001b[0m=\u001b[1;36m390\u001b[0m, \u001b[33mdescription\u001b[0m=\u001b[32m'PMEC 2021 \u001b[0m\u001b[32m(\u001b[0m\u001b[32mFaixa 10 de 10\u001b[0m\u001b[32m)\u001b[0m\u001b[32m.'\u001b[0m, \u001b[33mstart_mega\u001b[0m=\u001b[1;36m1005338\u001b[0m\u001b[1;36m.999\u001b[0m, \n",
       "\u001b[33mstop_mega\u001b[0m=\u001b[1;36m1005458\u001b[0m\u001b[1;36m.999\u001b[0m, \u001b[33munit\u001b[0m=\u001b[32m'dBm'\u001b[0m, \u001b[33mndata\u001b[0m=\u001b[1;36m3328\u001b[0m, \u001b[33mbw\u001b[0m=\u001b[1;36m73828\u001b[0m, \u001b[33mprocessing\u001b[0m=\u001b[32m'peak'\u001b[0m, \u001b[33mantenna_id\u001b[0m=\u001b[1;36m0\u001b[0m, \n",
       "\u001b[33mthresh\u001b[0m=\u001b[1;36m-147.5\u001b[0m, \u001b[33mminimum\u001b[0m=\u001b[1;36m-147.5\u001b[0m\u001b[1m)\u001b[0m\u001b[1m]\u001b[0m\n",
       "\u001b[1m}\u001b[0m\n"
      ]
     },
     "metadata": {},
     "output_type": "display_data"
    }
   ],
   "source": [
    "print(dados)"
   ]
  },
  {
   "cell_type": "markdown",
   "metadata": {},
   "source": [
    "A saída da função é um dicionário, com os metadados do arquivo."
   ]
  },
  {
   "cell_type": "markdown",
   "metadata": {},
   "source": [
    "## GPS\n",
    "No entanto as duas chaves mais importantes do dicionário retornado são `gps` e `spectrum`"
   ]
  },
  {
   "cell_type": "markdown",
   "metadata": {},
   "source": [
    "Se você imprimir a classe retornada pela chave `gps` é retornado um resumo dos seus atributos:"
   ]
  },
  {
   "cell_type": "code",
   "execution_count": null,
   "metadata": {},
   "outputs": [
    {
     "data": {
      "text/html": [
       "<pre style=\"white-space:pre;overflow-x:auto;line-height:normal;font-family:Menlo,'DejaVu Sans Mono',consolas,'Courier New',monospace\">GPS Data - Median of Coordinates: <span style=\"color: #008080; text-decoration-color: #008080; font-weight: bold\">-10.68619</span>:<span style=\"color: #008080; text-decoration-color: #008080; font-weight: bold\">-37.43918</span>, Altitude: <span style=\"color: #008080; text-decoration-color: #008080; font-weight: bold\">210.10</span> #Satellites: <span style=\"color: #008080; text-decoration-color: #008080; font-weight: bold\">11.0</span> \n",
       "</pre>\n"
      ],
      "text/plain": [
       "GPS Data - Median of Coordinates: \u001b[1;36m-10.68619\u001b[0m:\u001b[1;36m-37.43918\u001b[0m, Altitude: \u001b[1;36m210.10\u001b[0m #Satellites: \u001b[1;36m11.0\u001b[0m \n"
      ]
     },
     "metadata": {},
     "output_type": "display_data"
    }
   ],
   "source": [
    "print(dados['gps'])"
   ]
  },
  {
   "cell_type": "markdown",
   "metadata": {},
   "source": [
    "> Para extrair os atributos em si de dado objeto e retorná-los todos num dicionário, o módulo utils tem a função auxiliar `getattrs`"
   ]
  },
  {
   "cell_type": "code",
   "execution_count": null,
   "metadata": {},
   "outputs": [
    {
     "data": {
      "text/markdown": [
       "<h4 id=\"getattrs\" class=\"doc_header\"><code>getattrs</code><a href=\"https://github.com/ronaldokun/rfpye/tree/master/rfpye/utils.py#L159\" class=\"source_link\" style=\"float:right\">[source]</a></h4>\n",
       "\n",
       "> <code>getattrs</code>(**`obj`**:`Any`, **`attrs`**:`Iterable`\\[`T_co`\\]=*`None`*)\n",
       "\n",
       "Receives an object and return the atributes listed in `attrs`, if attrs is None return its public attributes"
      ],
      "text/plain": [
       "<IPython.core.display.Markdown object>"
      ]
     },
     "metadata": {},
     "output_type": "display_data"
    }
   ],
   "source": [
    "from rfpye.utils import getattrs\n",
    "show_doc(getattrs)"
   ]
  },
  {
   "cell_type": "code",
   "execution_count": null,
   "metadata": {},
   "outputs": [
    {
     "data": {
      "text/html": [
       "<pre style=\"white-space:pre;overflow-x:auto;line-height:normal;font-family:Menlo,'DejaVu Sans Mono',consolas,'Courier New',monospace\"><span style=\"font-weight: bold\">{</span><span style=\"color: #008000; text-decoration-color: #008000\">'altitude'</span>: <span style=\"color: #008080; text-decoration-color: #008080; font-weight: bold\">210.1</span>, <span style=\"color: #008000; text-decoration-color: #008000\">'latitude'</span>: <span style=\"color: #008080; text-decoration-color: #008080; font-weight: bold\">-10.686185</span>, <span style=\"color: #008000; text-decoration-color: #008000\">'longitude'</span>: <span style=\"color: #008080; text-decoration-color: #008080; font-weight: bold\">-37.43918</span>, <span style=\"color: #008000; text-decoration-color: #008000\">'num_satellites'</span>: <span style=\"color: #008080; text-decoration-color: #008080; font-weight: bold\">11.0</span><span style=\"font-weight: bold\">}</span>\n",
       "</pre>\n"
      ],
      "text/plain": [
       "\u001b[1m{\u001b[0m\u001b[32m'altitude'\u001b[0m: \u001b[1;36m210.1\u001b[0m, \u001b[32m'latitude'\u001b[0m: \u001b[1;36m-10.686185\u001b[0m, \u001b[32m'longitude'\u001b[0m: \u001b[1;36m-37.43918\u001b[0m, \u001b[32m'num_satellites'\u001b[0m: \u001b[1;36m11.0\u001b[0m\u001b[1m}\u001b[0m\n"
      ]
     },
     "metadata": {},
     "output_type": "display_data"
    }
   ],
   "source": [
    "print(getattrs(dados['gps']))"
   ]
  },
  {
   "cell_type": "markdown",
   "metadata": {},
   "source": [
    "Os atributos listados são os valores consolidados por meio da __mediana__ dos diversos blocos de GPS do arquivo. "
   ]
  },
  {
   "cell_type": "markdown",
   "metadata": {},
   "source": [
    "### Dados Brutos de GPS\n",
    "> Caso desejar a lista original de valores, os atributos são os mesmos mas precedidos de `_`, o que os torna __atributos privados__ em python, isso somente quer dizer que não são explicitados em algus métodos como `getattrs`, pois normalmente não são acessíveis diretamente, mas nada impede que sejam acessados."
   ]
  },
  {
   "cell_type": "code",
   "execution_count": null,
   "metadata": {},
   "outputs": [
    {
     "data": {
      "text/plain": [
       "(#18116) [-10.686196,-10.686173,-10.686203,-10.686203,-10.686191,-10.686178,-10.686201,-10.686205,-10.686205,-10.686209...]"
      ]
     },
     "execution_count": null,
     "metadata": {},
     "output_type": "execute_result"
    }
   ],
   "source": [
    "dados['gps']._latitude"
   ]
  },
  {
   "cell_type": "code",
   "execution_count": null,
   "metadata": {},
   "outputs": [
    {
     "data": {
      "text/plain": [
       "(#18116) [-37.439175,-37.439172,-37.439143,-37.43916,-37.439191,-37.439171,-37.439177,-37.439192,-37.439172,-37.43917...]"
      ]
     },
     "execution_count": null,
     "metadata": {},
     "output_type": "execute_result"
    }
   ],
   "source": [
    "dados['gps']._longitude"
   ]
  },
  {
   "cell_type": "code",
   "execution_count": null,
   "metadata": {},
   "outputs": [
    {
     "data": {
      "text/plain": [
       "(#18116) [211.4,221.8,213.3,210.1,223.2,211.1,206.6,212.6,213.1,210.5...]"
      ]
     },
     "execution_count": null,
     "metadata": {},
     "output_type": "execute_result"
    }
   ],
   "source": [
    "dados['gps']._altitude"
   ]
  },
  {
   "cell_type": "code",
   "execution_count": null,
   "metadata": {},
   "outputs": [
    {
     "data": {
      "text/plain": [
       "(#18116) [11,11,12,10,11,11,11,12,12,12...]"
      ]
     },
     "execution_count": null,
     "metadata": {},
     "output_type": "execute_result"
    }
   ],
   "source": [
    "dados['gps']._num_satellites "
   ]
  },
  {
   "cell_type": "markdown",
   "metadata": {},
   "source": [
    "## Dados de Nível Espectral\n",
    "Cada arquivo bin normalmente possui vários fluxos de espectro distintos, cada fluxo espectral é uma classe Python, na chave `spectrum` é retornado uma lista com todos os fluxos de espectro."
   ]
  },
  {
   "cell_type": "code",
   "execution_count": null,
   "metadata": {},
   "outputs": [
    {
     "data": {
      "text/html": [
       "<pre style=\"white-space:pre;overflow-x:auto;line-height:normal;font-family:Menlo,'DejaVu Sans Mono',consolas,'Courier New',monospace\"><span style=\"color: #008080; text-decoration-color: #008080; font-weight: bold\">20</span>\n",
       "</pre>\n"
      ],
      "text/plain": [
       "\u001b[1;36m20\u001b[0m\n"
      ]
     },
     "metadata": {},
     "output_type": "display_data"
    }
   ],
   "source": [
    "fluxos = dados['spectrum']\n",
    "print(len(fluxos))"
   ]
  },
  {
   "cell_type": "markdown",
   "metadata": {},
   "source": [
    "Vamos investigar um deles:"
   ]
  },
  {
   "cell_type": "code",
   "execution_count": null,
   "metadata": {},
   "outputs": [],
   "source": [
    "fluxo = fluxos[0]"
   ]
  },
  {
   "cell_type": "markdown",
   "metadata": {},
   "source": [
    "Ao imprimir um fluxo é mostrado informações mínimas sobre o seu conteúdo:"
   ]
  },
  {
   "cell_type": "code",
   "execution_count": null,
   "metadata": {},
   "outputs": [
    {
     "data": {
      "text/html": [
       "<pre style=\"white-space:pre;overflow-x:auto;line-height:normal;font-family:Menlo,'DejaVu Sans Mono',consolas,'Courier New',monospace\">Blocks of Type: <span style=\"color: #008080; text-decoration-color: #008080; font-weight: bold\">67</span>, Thread_id: <span style=\"color: #008080; text-decoration-color: #008080; font-weight: bold\">300</span>, Start: <span style=\"color: #008080; text-decoration-color: #008080; font-weight: bold\">105.0</span> MHz, Stop: <span style=\"color: #008080; text-decoration-color: #008080; font-weight: bold\">140.0</span> MHz\n",
       "</pre>\n"
      ],
      "text/plain": [
       "Blocks of Type: \u001b[1;36m67\u001b[0m, Thread_id: \u001b[1;36m300\u001b[0m, Start: \u001b[1;36m105.0\u001b[0m MHz, Stop: \u001b[1;36m140.0\u001b[0m MHz\n"
      ]
     },
     "metadata": {},
     "output_type": "display_data"
    }
   ],
   "source": [
    "print(fluxo)"
   ]
  },
  {
   "cell_type": "markdown",
   "metadata": {},
   "source": [
    "A função `repr` retorna uma representação com todos os metadados do fluxo:"
   ]
  },
  {
   "cell_type": "code",
   "execution_count": null,
   "metadata": {},
   "outputs": [
    {
     "data": {
      "text/html": [
       "<pre style=\"white-space:pre;overflow-x:auto;line-height:normal;font-family:Menlo,'DejaVu Sans Mono',consolas,'Courier New',monospace\"><span style=\"color: #800080; text-decoration-color: #800080; font-weight: bold\">SpecData</span><span style=\"font-weight: bold\">(</span><span style=\"color: #808000; text-decoration-color: #808000\">type</span>=<span style=\"color: #008080; text-decoration-color: #008080; font-weight: bold\">67</span>, <span style=\"color: #808000; text-decoration-color: #808000\">thread_id</span>=<span style=\"color: #008080; text-decoration-color: #008080; font-weight: bold\">300</span>, <span style=\"color: #808000; text-decoration-color: #808000\">description</span>=<span style=\"color: #008000; text-decoration-color: #008000\">'PMEC 2021 (Faixa 1 de 10).'</span>, <span style=\"color: #808000; text-decoration-color: #808000\">start_mega</span>=<span style=\"color: #008080; text-decoration-color: #008080; font-weight: bold\">105.0</span>, \n",
       "<span style=\"color: #808000; text-decoration-color: #808000\">stop_mega</span>=<span style=\"color: #008080; text-decoration-color: #008080; font-weight: bold\">140.0</span>, <span style=\"color: #808000; text-decoration-color: #808000\">unit</span>=<span style=\"color: #008000; text-decoration-color: #008000\">'dBm'</span>, <span style=\"color: #808000; text-decoration-color: #808000\">ndata</span>=<span style=\"color: #008080; text-decoration-color: #008080; font-weight: bold\">3584</span>, <span style=\"color: #808000; text-decoration-color: #808000\">bw</span>=<span style=\"color: #008080; text-decoration-color: #008080; font-weight: bold\">18457</span>, <span style=\"color: #808000; text-decoration-color: #808000\">processing</span>=<span style=\"color: #008000; text-decoration-color: #008000\">'peak'</span>, <span style=\"color: #808000; text-decoration-color: #808000\">antenna_id</span>=<span style=\"color: #008080; text-decoration-color: #008080; font-weight: bold\">0</span>, \n",
       "<span style=\"color: #808000; text-decoration-color: #808000\">thresh</span>=<span style=\"color: #008080; text-decoration-color: #008080; font-weight: bold\">-147.5</span>, <span style=\"color: #808000; text-decoration-color: #808000\">minimum</span>=<span style=\"color: #008080; text-decoration-color: #008080; font-weight: bold\">-147.5</span><span style=\"font-weight: bold\">)</span>\n",
       "</pre>\n"
      ],
      "text/plain": [
       "\u001b[1;35mSpecData\u001b[0m\u001b[1m(\u001b[0m\u001b[33mtype\u001b[0m=\u001b[1;36m67\u001b[0m, \u001b[33mthread_id\u001b[0m=\u001b[1;36m300\u001b[0m, \u001b[33mdescription\u001b[0m=\u001b[32m'PMEC 2021 \u001b[0m\u001b[32m(\u001b[0m\u001b[32mFaixa 1 de 10\u001b[0m\u001b[32m)\u001b[0m\u001b[32m.'\u001b[0m, \u001b[33mstart_mega\u001b[0m=\u001b[1;36m105\u001b[0m\u001b[1;36m.0\u001b[0m, \n",
       "\u001b[33mstop_mega\u001b[0m=\u001b[1;36m140\u001b[0m\u001b[1;36m.0\u001b[0m, \u001b[33munit\u001b[0m=\u001b[32m'dBm'\u001b[0m, \u001b[33mndata\u001b[0m=\u001b[1;36m3584\u001b[0m, \u001b[33mbw\u001b[0m=\u001b[1;36m18457\u001b[0m, \u001b[33mprocessing\u001b[0m=\u001b[32m'peak'\u001b[0m, \u001b[33mantenna_id\u001b[0m=\u001b[1;36m0\u001b[0m, \n",
       "\u001b[33mthresh\u001b[0m=\u001b[1;36m-147.5\u001b[0m, \u001b[33mminimum\u001b[0m=\u001b[1;36m-147.5\u001b[0m\u001b[1m)\u001b[0m\n"
      ]
     },
     "metadata": {},
     "output_type": "display_data"
    }
   ],
   "source": [
    "print(repr(fluxo))"
   ]
  },
  {
   "cell_type": "markdown",
   "metadata": {},
   "source": [
    "Qualquer um dos atributos listados podem ser acessados diretamente:"
   ]
  },
  {
   "cell_type": "code",
   "execution_count": null,
   "metadata": {},
   "outputs": [
    {
     "data": {
      "text/html": [
       "<pre style=\"white-space:pre;overflow-x:auto;line-height:normal;font-family:Menlo,'DejaVu Sans Mono',consolas,'Courier New',monospace\">PMEC <span style=\"color: #008080; text-decoration-color: #008080; font-weight: bold\">2021</span> <span style=\"font-weight: bold\">(</span>Faixa <span style=\"color: #008080; text-decoration-color: #008080; font-weight: bold\">1</span> de <span style=\"color: #008080; text-decoration-color: #008080; font-weight: bold\">10</span><span style=\"font-weight: bold\">)</span>.\n",
       "</pre>\n"
      ],
      "text/plain": [
       "PMEC \u001b[1;36m2021\u001b[0m \u001b[1m(\u001b[0mFaixa \u001b[1;36m1\u001b[0m de \u001b[1;36m10\u001b[0m\u001b[1m)\u001b[0m.\n"
      ]
     },
     "metadata": {},
     "output_type": "display_data"
    },
    {
     "data": {
      "text/html": [
       "<pre style=\"white-space:pre;overflow-x:auto;line-height:normal;font-family:Menlo,'DejaVu Sans Mono',consolas,'Courier New',monospace\"><span style=\"color: #008080; text-decoration-color: #008080; font-weight: bold\">18457</span>\n",
       "</pre>\n"
      ],
      "text/plain": [
       "\u001b[1;36m18457\u001b[0m\n"
      ]
     },
     "metadata": {},
     "output_type": "display_data"
    },
    {
     "data": {
      "text/plain": [
       "(None, None)"
      ]
     },
     "execution_count": null,
     "metadata": {},
     "output_type": "execute_result"
    }
   ],
   "source": [
    "print(fluxo.description) , print(fluxo.bw)"
   ]
  },
  {
   "cell_type": "markdown",
   "metadata": {},
   "source": [
    "No entanto o principal atributo de um fluxo de espectro são os valores de nível medidos, os valores medidos são retornados por meio do atributo `levels`:"
   ]
  },
  {
   "cell_type": "code",
   "execution_count": null,
   "metadata": {},
   "outputs": [
    {
     "data": {
      "text/html": [
       "<pre style=\"white-space:pre;overflow-x:auto;line-height:normal;font-family:Menlo,'DejaVu Sans Mono',consolas,'Courier New',monospace\"><span style=\"font-weight: bold\">[[</span><span style=\"color: #008080; text-decoration-color: #008080; font-weight: bold\">-93.5</span> <span style=\"color: #008080; text-decoration-color: #008080; font-weight: bold\">-99.5</span> <span style=\"color: #008080; text-decoration-color: #008080; font-weight: bold\">-90.5</span> <span style=\"color: #808000; text-decoration-color: #808000\">...</span> <span style=\"color: #008080; text-decoration-color: #008080; font-weight: bold\">-85</span>.  <span style=\"color: #008080; text-decoration-color: #008080; font-weight: bold\">-86.5</span> <span style=\"color: #008080; text-decoration-color: #008080; font-weight: bold\">-90.5</span><span style=\"font-weight: bold\">]</span>\n",
       " <span style=\"font-weight: bold\">[</span><span style=\"color: #008080; text-decoration-color: #008080; font-weight: bold\">-93.5</span> <span style=\"color: #008080; text-decoration-color: #008080; font-weight: bold\">-90.5</span> <span style=\"color: #008080; text-decoration-color: #008080; font-weight: bold\">-90.5</span> <span style=\"color: #808000; text-decoration-color: #808000\">...</span> <span style=\"color: #008080; text-decoration-color: #008080; font-weight: bold\">-88</span>.  <span style=\"color: #008080; text-decoration-color: #008080; font-weight: bold\">-88.5</span> <span style=\"color: #008080; text-decoration-color: #008080; font-weight: bold\">-90</span>. <span style=\"font-weight: bold\">]</span>\n",
       " <span style=\"font-weight: bold\">[</span><span style=\"color: #008080; text-decoration-color: #008080; font-weight: bold\">-90.5</span> <span style=\"color: #008080; text-decoration-color: #008080; font-weight: bold\">-86.5</span> <span style=\"color: #008080; text-decoration-color: #008080; font-weight: bold\">-86.5</span> <span style=\"color: #808000; text-decoration-color: #808000\">...</span> <span style=\"color: #008080; text-decoration-color: #008080; font-weight: bold\">-90.5</span> <span style=\"color: #008080; text-decoration-color: #008080; font-weight: bold\">-86</span>.  <span style=\"color: #008080; text-decoration-color: #008080; font-weight: bold\">-85.5</span><span style=\"font-weight: bold\">]</span>\n",
       " <span style=\"color: #808000; text-decoration-color: #808000\">...</span>\n",
       " <span style=\"font-weight: bold\">[</span><span style=\"color: #008080; text-decoration-color: #008080; font-weight: bold\">-90</span>.  <span style=\"color: #008080; text-decoration-color: #008080; font-weight: bold\">-91</span>.  <span style=\"color: #008080; text-decoration-color: #008080; font-weight: bold\">-92</span>.  <span style=\"color: #808000; text-decoration-color: #808000\">...</span> <span style=\"color: #008080; text-decoration-color: #008080; font-weight: bold\">-92</span>.  <span style=\"color: #008080; text-decoration-color: #008080; font-weight: bold\">-93.5</span> <span style=\"color: #008080; text-decoration-color: #008080; font-weight: bold\">-96.5</span><span style=\"font-weight: bold\">]</span>\n",
       " <span style=\"font-weight: bold\">[</span><span style=\"color: #008080; text-decoration-color: #008080; font-weight: bold\">-92</span>.  <span style=\"color: #008080; text-decoration-color: #008080; font-weight: bold\">-93</span>.  <span style=\"color: #008080; text-decoration-color: #008080; font-weight: bold\">-95</span>.  <span style=\"color: #808000; text-decoration-color: #808000\">...</span> <span style=\"color: #008080; text-decoration-color: #008080; font-weight: bold\">-92.5</span> <span style=\"color: #008080; text-decoration-color: #008080; font-weight: bold\">-91.5</span> <span style=\"color: #008080; text-decoration-color: #008080; font-weight: bold\">-91</span>. <span style=\"font-weight: bold\">]</span>\n",
       " <span style=\"font-weight: bold\">[</span><span style=\"color: #008080; text-decoration-color: #008080; font-weight: bold\">-87.5</span> <span style=\"color: #008080; text-decoration-color: #008080; font-weight: bold\">-87.5</span> <span style=\"color: #008080; text-decoration-color: #008080; font-weight: bold\">-89.5</span> <span style=\"color: #808000; text-decoration-color: #808000\">...</span> <span style=\"color: #008080; text-decoration-color: #008080; font-weight: bold\">-90</span>.  <span style=\"color: #008080; text-decoration-color: #008080; font-weight: bold\">-94.5</span> <span style=\"color: #008080; text-decoration-color: #008080; font-weight: bold\">-94</span>. <span style=\"font-weight: bold\">]]</span>\n",
       "</pre>\n"
      ],
      "text/plain": [
       "\u001b[1m[\u001b[0m\u001b[1m[\u001b[0m\u001b[1;36m-93.5\u001b[0m \u001b[1;36m-99.5\u001b[0m \u001b[1;36m-90.5\u001b[0m \u001b[33m...\u001b[0m \u001b[1;36m-85\u001b[0m.  \u001b[1;36m-86.5\u001b[0m \u001b[1;36m-90.5\u001b[0m\u001b[1m]\u001b[0m\n",
       " \u001b[1m[\u001b[0m\u001b[1;36m-93.5\u001b[0m \u001b[1;36m-90.5\u001b[0m \u001b[1;36m-90.5\u001b[0m \u001b[33m...\u001b[0m \u001b[1;36m-88\u001b[0m.  \u001b[1;36m-88.5\u001b[0m \u001b[1;36m-90\u001b[0m. \u001b[1m]\u001b[0m\n",
       " \u001b[1m[\u001b[0m\u001b[1;36m-90.5\u001b[0m \u001b[1;36m-86.5\u001b[0m \u001b[1;36m-86.5\u001b[0m \u001b[33m...\u001b[0m \u001b[1;36m-90.5\u001b[0m \u001b[1;36m-86\u001b[0m.  \u001b[1;36m-85.5\u001b[0m\u001b[1m]\u001b[0m\n",
       " \u001b[33m...\u001b[0m\n",
       " \u001b[1m[\u001b[0m\u001b[1;36m-90\u001b[0m.  \u001b[1;36m-91\u001b[0m.  \u001b[1;36m-92\u001b[0m.  \u001b[33m...\u001b[0m \u001b[1;36m-92\u001b[0m.  \u001b[1;36m-93.5\u001b[0m \u001b[1;36m-96.5\u001b[0m\u001b[1m]\u001b[0m\n",
       " \u001b[1m[\u001b[0m\u001b[1;36m-92\u001b[0m.  \u001b[1;36m-93\u001b[0m.  \u001b[1;36m-95\u001b[0m.  \u001b[33m...\u001b[0m \u001b[1;36m-92.5\u001b[0m \u001b[1;36m-91.5\u001b[0m \u001b[1;36m-91\u001b[0m. \u001b[1m]\u001b[0m\n",
       " \u001b[1m[\u001b[0m\u001b[1;36m-87.5\u001b[0m \u001b[1;36m-87.5\u001b[0m \u001b[1;36m-89.5\u001b[0m \u001b[33m...\u001b[0m \u001b[1;36m-90\u001b[0m.  \u001b[1;36m-94.5\u001b[0m \u001b[1;36m-94\u001b[0m. \u001b[1m]\u001b[0m\u001b[1m]\u001b[0m\n"
      ]
     },
     "metadata": {},
     "output_type": "display_data"
    }
   ],
   "source": [
    "print(fluxo.levels)"
   ]
  },
  {
   "cell_type": "code",
   "execution_count": null,
   "metadata": {},
   "outputs": [
    {
     "data": {
      "text/html": [
       "<pre style=\"white-space:pre;overflow-x:auto;line-height:normal;font-family:Menlo,'DejaVu Sans Mono',consolas,'Courier New',monospace\">Formato da matriz com os níveis: <span style=\"font-weight: bold\">(</span><span style=\"color: #008080; text-decoration-color: #008080; font-weight: bold\">9058</span>, <span style=\"color: #008080; text-decoration-color: #008080; font-weight: bold\">3584</span><span style=\"font-weight: bold\">)</span>\n",
       "</pre>\n"
      ],
      "text/plain": [
       "Formato da matriz com os níveis: \u001b[1m(\u001b[0m\u001b[1;36m9058\u001b[0m, \u001b[1;36m3584\u001b[0m\u001b[1m)\u001b[0m\n"
      ]
     },
     "metadata": {},
     "output_type": "display_data"
    }
   ],
   "source": [
    "print(f'Formato da matriz com os níveis: {fluxo.levels.shape}')"
   ]
  },
  {
   "cell_type": "markdown",
   "metadata": {},
   "source": [
    "O nº de linhas da matriz nos dá o número de pontos medidos naquele dado fluxo e as colunas o número de traços no qual o Span ( Stop - Start ) foi dividido. O número de traços pode ser retornada também por meio da função `len`"
   ]
  },
  {
   "cell_type": "code",
   "execution_count": null,
   "metadata": {},
   "outputs": [
    {
     "data": {
      "text/html": [
       "<pre style=\"white-space:pre;overflow-x:auto;line-height:normal;font-family:Menlo,'DejaVu Sans Mono',consolas,'Courier New',monospace\"><span style=\"color: #008080; text-decoration-color: #008080; font-weight: bold\">9058</span>\n",
       "</pre>\n"
      ],
      "text/plain": [
       "\u001b[1;36m9058\u001b[0m\n"
      ]
     },
     "metadata": {},
     "output_type": "display_data"
    }
   ],
   "source": [
    "print(len(fluxo))"
   ]
  },
  {
   "cell_type": "markdown",
   "metadata": {},
   "source": [
    "O atributo anterior retorna uma `numpy.ndarray`, que é um formato eficiente para processamento. \n",
    "\n",
    "### Medidas de nível como pandas dataframe\n",
    "No entanto temos adicionalmente o método `.matrix()` que retorna a matriz de dados como um _Pandas Dataframe_ formatada com o tempo da medição de cada traço como índice das linhas e as frequências de cada traço como coluna.\n",
    "\n",
    "Vamos mostrar as cinco primeiras e cinco últimas linhas e colunas. "
   ]
  },
  {
   "cell_type": "code",
   "execution_count": null,
   "metadata": {},
   "outputs": [
    {
     "data": {
      "text/html": [
       "<div>\n",
       "<style scoped>\n",
       "    .dataframe tbody tr th:only-of-type {\n",
       "        vertical-align: middle;\n",
       "    }\n",
       "\n",
       "    .dataframe tbody tr th {\n",
       "        vertical-align: top;\n",
       "    }\n",
       "\n",
       "    .dataframe thead th {\n",
       "        text-align: right;\n",
       "    }\n",
       "</style>\n",
       "<table border=\"1\" class=\"dataframe\">\n",
       "  <thead>\n",
       "    <tr style=\"text-align: right;\">\n",
       "      <th>Frequencies</th>\n",
       "      <th>105.000000</th>\n",
       "      <th>105.009768</th>\n",
       "      <th>105.019537</th>\n",
       "      <th>105.029305</th>\n",
       "      <th>105.039073</th>\n",
       "    </tr>\n",
       "    <tr>\n",
       "      <th>Time</th>\n",
       "      <th></th>\n",
       "      <th></th>\n",
       "      <th></th>\n",
       "      <th></th>\n",
       "      <th></th>\n",
       "    </tr>\n",
       "  </thead>\n",
       "  <tbody>\n",
       "    <tr>\n",
       "      <th>2021-06-22 15:18:01.549012</th>\n",
       "      <td>-93.5</td>\n",
       "      <td>-99.5</td>\n",
       "      <td>-90.5</td>\n",
       "      <td>-90.0</td>\n",
       "      <td>-92.0</td>\n",
       "    </tr>\n",
       "    <tr>\n",
       "      <th>2021-06-22 15:19:01.408958</th>\n",
       "      <td>-93.5</td>\n",
       "      <td>-90.5</td>\n",
       "      <td>-90.5</td>\n",
       "      <td>-92.5</td>\n",
       "      <td>-96.5</td>\n",
       "    </tr>\n",
       "    <tr>\n",
       "      <th>2021-06-22 15:20:01.149028</th>\n",
       "      <td>-90.5</td>\n",
       "      <td>-86.5</td>\n",
       "      <td>-86.5</td>\n",
       "      <td>-95.0</td>\n",
       "      <td>-86.5</td>\n",
       "    </tr>\n",
       "    <tr>\n",
       "      <th>2021-06-22 15:21:00.968982</th>\n",
       "      <td>-90.5</td>\n",
       "      <td>-90.5</td>\n",
       "      <td>-91.5</td>\n",
       "      <td>-89.0</td>\n",
       "      <td>-89.0</td>\n",
       "    </tr>\n",
       "    <tr>\n",
       "      <th>2021-06-22 15:22:01.729287</th>\n",
       "      <td>-91.0</td>\n",
       "      <td>-90.0</td>\n",
       "      <td>-86.5</td>\n",
       "      <td>-91.0</td>\n",
       "      <td>-93.0</td>\n",
       "    </tr>\n",
       "  </tbody>\n",
       "</table>\n",
       "</div>"
      ],
      "text/plain": [
       "Frequencies                 105.000000  105.009768  105.019537  105.029305  \\\n",
       "Time                                                                         \n",
       "2021-06-22 15:18:01.549012       -93.5       -99.5       -90.5       -90.0   \n",
       "2021-06-22 15:19:01.408958       -93.5       -90.5       -90.5       -92.5   \n",
       "2021-06-22 15:20:01.149028       -90.5       -86.5       -86.5       -95.0   \n",
       "2021-06-22 15:21:00.968982       -90.5       -90.5       -91.5       -89.0   \n",
       "2021-06-22 15:22:01.729287       -91.0       -90.0       -86.5       -91.0   \n",
       "\n",
       "Frequencies                 105.039073  \n",
       "Time                                    \n",
       "2021-06-22 15:18:01.549012       -92.0  \n",
       "2021-06-22 15:19:01.408958       -96.5  \n",
       "2021-06-22 15:20:01.149028       -86.5  \n",
       "2021-06-22 15:21:00.968982       -89.0  \n",
       "2021-06-22 15:22:01.729287       -93.0  "
      ]
     },
     "execution_count": null,
     "metadata": {},
     "output_type": "execute_result"
    }
   ],
   "source": [
    "fluxo.matrix().iloc[:5, :5]"
   ]
  },
  {
   "cell_type": "code",
   "execution_count": null,
   "metadata": {},
   "outputs": [
    {
     "data": {
      "text/html": [
       "<div>\n",
       "<style scoped>\n",
       "    .dataframe tbody tr th:only-of-type {\n",
       "        vertical-align: middle;\n",
       "    }\n",
       "\n",
       "    .dataframe tbody tr th {\n",
       "        vertical-align: top;\n",
       "    }\n",
       "\n",
       "    .dataframe thead th {\n",
       "        text-align: right;\n",
       "    }\n",
       "</style>\n",
       "<table border=\"1\" class=\"dataframe\">\n",
       "  <thead>\n",
       "    <tr style=\"text-align: right;\">\n",
       "      <th>Frequencies</th>\n",
       "      <th>139.960927</th>\n",
       "      <th>139.970695</th>\n",
       "      <th>139.980463</th>\n",
       "      <th>139.990232</th>\n",
       "      <th>140.000000</th>\n",
       "    </tr>\n",
       "    <tr>\n",
       "      <th>Time</th>\n",
       "      <th></th>\n",
       "      <th></th>\n",
       "      <th></th>\n",
       "      <th></th>\n",
       "      <th></th>\n",
       "    </tr>\n",
       "  </thead>\n",
       "  <tbody>\n",
       "    <tr>\n",
       "      <th>2021-06-28 22:11:01.172916</th>\n",
       "      <td>-103.0</td>\n",
       "      <td>-96.5</td>\n",
       "      <td>-94.0</td>\n",
       "      <td>-97.5</td>\n",
       "      <td>-93.5</td>\n",
       "    </tr>\n",
       "    <tr>\n",
       "      <th>2021-06-28 22:12:01.317300</th>\n",
       "      <td>-92.0</td>\n",
       "      <td>-95.0</td>\n",
       "      <td>-93.5</td>\n",
       "      <td>-93.0</td>\n",
       "      <td>-92.0</td>\n",
       "    </tr>\n",
       "    <tr>\n",
       "      <th>2021-06-28 22:13:01.742929</th>\n",
       "      <td>-96.0</td>\n",
       "      <td>-92.5</td>\n",
       "      <td>-92.0</td>\n",
       "      <td>-93.5</td>\n",
       "      <td>-96.5</td>\n",
       "    </tr>\n",
       "    <tr>\n",
       "      <th>2021-06-28 22:14:01.693040</th>\n",
       "      <td>-94.5</td>\n",
       "      <td>-93.0</td>\n",
       "      <td>-92.5</td>\n",
       "      <td>-91.5</td>\n",
       "      <td>-91.0</td>\n",
       "    </tr>\n",
       "    <tr>\n",
       "      <th>2021-06-28 22:15:01.614231</th>\n",
       "      <td>-90.5</td>\n",
       "      <td>-91.0</td>\n",
       "      <td>-90.0</td>\n",
       "      <td>-94.5</td>\n",
       "      <td>-94.0</td>\n",
       "    </tr>\n",
       "  </tbody>\n",
       "</table>\n",
       "</div>"
      ],
      "text/plain": [
       "Frequencies                 139.960927  139.970695  139.980463  139.990232  \\\n",
       "Time                                                                         \n",
       "2021-06-28 22:11:01.172916      -103.0       -96.5       -94.0       -97.5   \n",
       "2021-06-28 22:12:01.317300       -92.0       -95.0       -93.5       -93.0   \n",
       "2021-06-28 22:13:01.742929       -96.0       -92.5       -92.0       -93.5   \n",
       "2021-06-28 22:14:01.693040       -94.5       -93.0       -92.5       -91.5   \n",
       "2021-06-28 22:15:01.614231       -90.5       -91.0       -90.0       -94.5   \n",
       "\n",
       "Frequencies                 140.000000  \n",
       "Time                                    \n",
       "2021-06-28 22:11:01.172916       -93.5  \n",
       "2021-06-28 22:12:01.317300       -92.0  \n",
       "2021-06-28 22:13:01.742929       -96.5  \n",
       "2021-06-28 22:14:01.693040       -91.0  \n",
       "2021-06-28 22:15:01.614231       -94.0  "
      ]
     },
     "execution_count": null,
     "metadata": {},
     "output_type": "execute_result"
    }
   ],
   "source": [
    "fluxo.matrix().iloc[-5:, -5:]"
   ]
  },
  {
   "cell_type": "markdown",
   "metadata": {},
   "source": [
    "Novamente, caso desejado acessar todos os atributos de um fluxo no formato de dicionário, basta utilizar a função `getattrs`"
   ]
  },
  {
   "cell_type": "code",
   "execution_count": null,
   "metadata": {},
   "outputs": [
    {
     "data": {
      "text/plain": [
       "{'antenna_id': 0,\n",
       " 'append': <bound method CrfsSpectrum.append of SpecData(type=67, thread_id=100, description='PRD 2021 (Faixa principal 1 de 4).', start_mega=50.0, stop_mega=90.0, unit='dBμV/m', ndata=1024, bw=73828, processing='peak', antenna_id=0, thresh=-35.5, minimum=-35.5)>,\n",
       " 'bw': 73828,\n",
       " 'description': 'PRD 2021 (Faixa principal 1 de 4).',\n",
       " 'matrix': <bound method CrfsSpectrum.matrix of SpecData(type=67, thread_id=100, description='PRD 2021 (Faixa principal 1 de 4).', start_mega=50.0, stop_mega=90.0, unit='dBμV/m', ndata=1024, bw=73828, processing='peak', antenna_id=0, thresh=-35.5, minimum=-35.5)>,\n",
       " 'minimum': -35.5,\n",
       " 'ndata': 1024,\n",
       " 'processing': 'peak',\n",
       " 'start_mega': 50.0,\n",
       " 'stop_mega': 90.0,\n",
       " 'thread_id': 100,\n",
       " 'thresh': -35.5,\n",
       " 'timestamp': (#1812) [numpy.datetime64('2021-06-28T15:35:00.933900'),numpy.datetime64('2021-06-28T15:40:00.730000'),numpy.datetime64('2021-06-28T15:45:00.758300'),numpy.datetime64('2021-06-28T15:50:00.728300'),numpy.datetime64('2021-06-28T15:55:00.732700'),numpy.datetime64('2021-06-28T16:00:00.722200'),numpy.datetime64('2021-06-28T16:05:00.729500'),numpy.datetime64('2021-06-28T16:10:00.709200'),numpy.datetime64('2021-06-28T16:15:00.732700'),numpy.datetime64('2021-06-28T16:20:00.734800')...],\n",
       " 'type': 67,\n",
       " 'unit': 'dBμV/m'}"
      ]
     },
     "execution_count": null,
     "metadata": {},
     "output_type": "execute_result"
    }
   ],
   "source": [
    "getattrs(fluxo)"
   ]
  },
  {
   "cell_type": "markdown",
   "metadata": {},
   "source": [
    "### CRFS Bin - Versão 5 - Arquivos Comprimidos\n",
    "Vamos listar arquivos da última versão do script Logger, Versão 5, arquivos comprimidos onde o piso de ruído é suprimido."
   ]
  },
  {
   "cell_type": "code",
   "execution_count": null,
   "metadata": {},
   "outputs": [],
   "source": [
    "file = r'binfiles\\compressed\\rfeye002290_210922_T204046_MaskBroken.bin'"
   ]
  },
  {
   "cell_type": "code",
   "execution_count": null,
   "metadata": {},
   "outputs": [
    {
     "name": "stdout",
     "output_type": "stream",
     "text": [
      "Wall time: 9.97 s\n"
     ]
    }
   ],
   "source": [
    "%%time\n",
    "compressed = parse_bin(file)"
   ]
  },
  {
   "cell_type": "code",
   "execution_count": null,
   "metadata": {},
   "outputs": [
    {
     "data": {
      "text/html": [
       "<pre style=\"white-space:pre;overflow-x:auto;line-height:normal;font-family:Menlo,'DejaVu Sans Mono',consolas,'Courier New',monospace\"><span style=\"font-weight: bold\">{</span>\n",
       "    <span style=\"color: #008000; text-decoration-color: #008000\">'filename'</span>: <span style=\"color: #008000; text-decoration-color: #008000\">'rfeye002290_210922_T204046_MaskBroken.bin'</span>,\n",
       "    <span style=\"color: #008000; text-decoration-color: #008000\">'file_version'</span>: <span style=\"color: #008080; text-decoration-color: #008080; font-weight: bold\">23</span>,\n",
       "    <span style=\"color: #008000; text-decoration-color: #008000\">'string'</span>: <span style=\"color: #008000; text-decoration-color: #008000\">'CRFS DATA FILE V023'</span>,\n",
       "    <span style=\"color: #008000; text-decoration-color: #008000\">'hostname'</span>: <span style=\"color: #008000; text-decoration-color: #008000\">'rfeye002290'</span>,\n",
       "    <span style=\"color: #008000; text-decoration-color: #008000\">'method'</span>: <span style=\"color: #008000; text-decoration-color: #008000\">'ScriptRFeye2021_v2.cfg'</span>,\n",
       "    <span style=\"color: #008000; text-decoration-color: #008000\">'unit_info'</span>: <span style=\"color: #008000; text-decoration-color: #008000\">'Stationary'</span>,\n",
       "    <span style=\"color: #008000; text-decoration-color: #008000\">'file_number'</span>: <span style=\"color: #008080; text-decoration-color: #008080; font-weight: bold\">0</span>,\n",
       "    <span style=\"color: #008000; text-decoration-color: #008000\">'identifier'</span>: <span style=\"color: #008000; text-decoration-color: #008000\">'INFO'</span>,\n",
       "    <span style=\"color: #008000; text-decoration-color: #008000\">'gps'</span>: GPS Data - Median of Coordinates: <span style=\"color: #008080; text-decoration-color: #008080; font-weight: bold\">-22.70008</span>:<span style=\"color: #008080; text-decoration-color: #008080; font-weight: bold\">-47.66684</span>, Altitude: <span style=\"color: #008080; text-decoration-color: #008080; font-weight: bold\">518.40</span> \n",
       "#Satellites: <span style=\"color: #008080; text-decoration-color: #008080; font-weight: bold\">11.0</span> ,\n",
       "    <span style=\"color: #008000; text-decoration-color: #008000\">'spectrum'</span>: <span style=\"font-weight: bold\">[</span><span style=\"color: #800080; text-decoration-color: #800080; font-weight: bold\">SpecData</span><span style=\"font-weight: bold\">(</span><span style=\"color: #808000; text-decoration-color: #808000\">type</span>=<span style=\"color: #008080; text-decoration-color: #008080; font-weight: bold\">68</span>, <span style=\"color: #808000; text-decoration-color: #808000\">thread_id</span>=<span style=\"color: #008080; text-decoration-color: #008080; font-weight: bold\">321</span>, <span style=\"color: #808000; text-decoration-color: #808000\">description</span>=<span style=\"color: #008000; text-decoration-color: #008000\">'PMEC 2021 (Faixa 3 de 10). @ </span>\n",
       "<span style=\"color: #008000; text-decoration-color: #008000\">-80dBm, 100kHz.'</span>, <span style=\"color: #808000; text-decoration-color: #808000\">start_mega</span>=<span style=\"color: #008080; text-decoration-color: #008080; font-weight: bold\">320.0</span>, <span style=\"color: #808000; text-decoration-color: #808000\">stop_mega</span>=<span style=\"color: #008080; text-decoration-color: #008080; font-weight: bold\">340.0</span>, <span style=\"color: #808000; text-decoration-color: #808000\">unit</span>=<span style=\"color: #008000; text-decoration-color: #008000\">'dBm'</span>, <span style=\"color: #808000; text-decoration-color: #808000\">ndata</span>=<span style=\"color: #008080; text-decoration-color: #008080; font-weight: bold\">512</span>, <span style=\"color: #808000; text-decoration-color: #808000\">bw</span>=<span style=\"color: #008080; text-decoration-color: #008080; font-weight: bold\">73828</span>, \n",
       "<span style=\"color: #808000; text-decoration-color: #808000\">processing</span>=<span style=\"color: #008000; text-decoration-color: #008000\">'peak'</span>, <span style=\"color: #808000; text-decoration-color: #808000\">antenna_id</span>=<span style=\"color: #008080; text-decoration-color: #008080; font-weight: bold\">0</span>, <span style=\"color: #808000; text-decoration-color: #808000\">thresh</span>=<span style=\"color: #008080; text-decoration-color: #008080; font-weight: bold\">-100</span>, <span style=\"color: #808000; text-decoration-color: #808000\">minimum</span>=<span style=\"color: #008080; text-decoration-color: #008080; font-weight: bold\">-147.5</span><span style=\"font-weight: bold\">)</span>, <span style=\"color: #800080; text-decoration-color: #800080; font-weight: bold\">SpecData</span><span style=\"font-weight: bold\">(</span><span style=\"color: #808000; text-decoration-color: #808000\">type</span>=<span style=\"color: #008080; text-decoration-color: #008080; font-weight: bold\">68</span>, \n",
       "<span style=\"color: #808000; text-decoration-color: #808000\">thread_id</span>=<span style=\"color: #008080; text-decoration-color: #008080; font-weight: bold\">301</span>, <span style=\"color: #808000; text-decoration-color: #808000\">description</span>=<span style=\"color: #008000; text-decoration-color: #008000\">'PMEC 2021 (Faixa 1 de 10). @ -80dBm, 10kHz.'</span>, <span style=\"color: #808000; text-decoration-color: #808000\">start_mega</span>=<span style=\"color: #008080; text-decoration-color: #008080; font-weight: bold\">108.0</span>, \n",
       "<span style=\"color: #808000; text-decoration-color: #808000\">stop_mega</span>=<span style=\"color: #008080; text-decoration-color: #008080; font-weight: bold\">137.0</span>, <span style=\"color: #808000; text-decoration-color: #808000\">unit</span>=<span style=\"color: #008000; text-decoration-color: #008000\">'dBm'</span>, <span style=\"color: #808000; text-decoration-color: #808000\">ndata</span>=<span style=\"color: #008080; text-decoration-color: #008080; font-weight: bold\">14848</span>, <span style=\"color: #808000; text-decoration-color: #808000\">bw</span>=<span style=\"color: #008080; text-decoration-color: #008080; font-weight: bold\">3690</span>, <span style=\"color: #808000; text-decoration-color: #808000\">processing</span>=<span style=\"color: #008000; text-decoration-color: #008000\">'peak'</span>, <span style=\"color: #808000; text-decoration-color: #808000\">antenna_id</span>=<span style=\"color: #008080; text-decoration-color: #008080; font-weight: bold\">0</span>, \n",
       "<span style=\"color: #808000; text-decoration-color: #808000\">thresh</span>=<span style=\"color: #008080; text-decoration-color: #008080; font-weight: bold\">-100</span>, <span style=\"color: #808000; text-decoration-color: #808000\">minimum</span>=<span style=\"color: #008080; text-decoration-color: #008080; font-weight: bold\">-147.5</span><span style=\"font-weight: bold\">)</span>, <span style=\"color: #800080; text-decoration-color: #800080; font-weight: bold\">SpecData</span><span style=\"font-weight: bold\">(</span><span style=\"color: #808000; text-decoration-color: #808000\">type</span>=<span style=\"color: #008080; text-decoration-color: #008080; font-weight: bold\">68</span>, <span style=\"color: #808000; text-decoration-color: #808000\">thread_id</span>=<span style=\"color: #008080; text-decoration-color: #008080; font-weight: bold\">341</span>, <span style=\"color: #808000; text-decoration-color: #808000\">description</span>=<span style=\"color: #008000; text-decoration-color: #008000\">'PMEC 2021 (Faixa </span>\n",
       "<span style=\"color: #008000; text-decoration-color: #008000\">5 de 10). @ -80dBm, 100kHz.'</span>, <span style=\"color: #808000; text-decoration-color: #808000\">start_mega</span>=<span style=\"color: #008080; text-decoration-color: #008080; font-weight: bold\">960.0</span>, <span style=\"color: #808000; text-decoration-color: #808000\">stop_mega</span>=<span style=\"color: #008080; text-decoration-color: #008080; font-weight: bold\">1001218.999</span>, <span style=\"color: #808000; text-decoration-color: #808000\">unit</span>=<span style=\"color: #008000; text-decoration-color: #008000\">'dBm'</span>, \n",
       "<span style=\"color: #808000; text-decoration-color: #808000\">ndata</span>=<span style=\"color: #008080; text-decoration-color: #008080; font-weight: bold\">6656</span>, <span style=\"color: #808000; text-decoration-color: #808000\">bw</span>=<span style=\"color: #008080; text-decoration-color: #008080; font-weight: bold\">73828</span>, <span style=\"color: #808000; text-decoration-color: #808000\">processing</span>=<span style=\"color: #008000; text-decoration-color: #008000\">'peak'</span>, <span style=\"color: #808000; text-decoration-color: #808000\">antenna_id</span>=<span style=\"color: #008080; text-decoration-color: #008080; font-weight: bold\">0</span>, <span style=\"color: #808000; text-decoration-color: #808000\">thresh</span>=<span style=\"color: #008080; text-decoration-color: #008080; font-weight: bold\">-100</span>, <span style=\"color: #808000; text-decoration-color: #808000\">minimum</span>=<span style=\"color: #008080; text-decoration-color: #008080; font-weight: bold\">-147.5</span><span style=\"font-weight: bold\">)</span>, \n",
       "<span style=\"color: #800080; text-decoration-color: #800080; font-weight: bold\">SpecData</span><span style=\"font-weight: bold\">(</span><span style=\"color: #808000; text-decoration-color: #808000\">type</span>=<span style=\"color: #008080; text-decoration-color: #008080; font-weight: bold\">68</span>, <span style=\"color: #808000; text-decoration-color: #808000\">thread_id</span>=<span style=\"color: #008080; text-decoration-color: #008080; font-weight: bold\">311</span>, <span style=\"color: #808000; text-decoration-color: #808000\">description</span>=<span style=\"color: #008000; text-decoration-color: #008000\">'PMEC 2021 (Faixa 2 de 10). @ -80dBm, 10kHz.'</span>, \n",
       "<span style=\"color: #808000; text-decoration-color: #808000\">start_mega</span>=<span style=\"color: #008080; text-decoration-color: #008080; font-weight: bold\">156.0</span>, <span style=\"color: #808000; text-decoration-color: #808000\">stop_mega</span>=<span style=\"color: #008080; text-decoration-color: #008080; font-weight: bold\">163.0</span>, <span style=\"color: #808000; text-decoration-color: #808000\">unit</span>=<span style=\"color: #008000; text-decoration-color: #008000\">'dBm'</span>, <span style=\"color: #808000; text-decoration-color: #808000\">ndata</span>=<span style=\"color: #008080; text-decoration-color: #008080; font-weight: bold\">3584</span>, <span style=\"color: #808000; text-decoration-color: #808000\">bw</span>=<span style=\"color: #008080; text-decoration-color: #008080; font-weight: bold\">3690</span>, <span style=\"color: #808000; text-decoration-color: #808000\">processing</span>=<span style=\"color: #008000; text-decoration-color: #008000\">'peak'</span>, \n",
       "<span style=\"color: #808000; text-decoration-color: #808000\">antenna_id</span>=<span style=\"color: #008080; text-decoration-color: #008080; font-weight: bold\">0</span>, <span style=\"color: #808000; text-decoration-color: #808000\">thresh</span>=<span style=\"color: #008080; text-decoration-color: #008080; font-weight: bold\">-100</span>, <span style=\"color: #808000; text-decoration-color: #808000\">minimum</span>=<span style=\"color: #008080; text-decoration-color: #008080; font-weight: bold\">-147.5</span><span style=\"font-weight: bold\">)</span>, <span style=\"color: #800080; text-decoration-color: #800080; font-weight: bold\">SpecData</span><span style=\"font-weight: bold\">(</span><span style=\"color: #808000; text-decoration-color: #808000\">type</span>=<span style=\"color: #008080; text-decoration-color: #008080; font-weight: bold\">68</span>, <span style=\"color: #808000; text-decoration-color: #808000\">thread_id</span>=<span style=\"color: #008080; text-decoration-color: #008080; font-weight: bold\">371</span>, \n",
       "<span style=\"color: #808000; text-decoration-color: #808000\">description</span>=<span style=\"color: #008000; text-decoration-color: #008000\">'PMEC 2021 (Faixa 8 de 10). @ -80dBm, 100kHz.'</span>, <span style=\"color: #808000; text-decoration-color: #808000\">start_mega</span>=<span style=\"color: #008080; text-decoration-color: #008080; font-weight: bold\">2690.0</span>, \n",
       "<span style=\"color: #808000; text-decoration-color: #808000\">stop_mega</span>=<span style=\"color: #008080; text-decoration-color: #008080; font-weight: bold\">1002898.999</span>, <span style=\"color: #808000; text-decoration-color: #808000\">unit</span>=<span style=\"color: #008000; text-decoration-color: #008000\">'dBm'</span>, <span style=\"color: #808000; text-decoration-color: #808000\">ndata</span>=<span style=\"color: #008080; text-decoration-color: #008080; font-weight: bold\">5376</span>, <span style=\"color: #808000; text-decoration-color: #808000\">bw</span>=<span style=\"color: #008080; text-decoration-color: #008080; font-weight: bold\">73828</span>, <span style=\"color: #808000; text-decoration-color: #808000\">processing</span>=<span style=\"color: #008000; text-decoration-color: #008000\">'peak'</span>, <span style=\"color: #808000; text-decoration-color: #808000\">antenna_id</span>=<span style=\"color: #008080; text-decoration-color: #008080; font-weight: bold\">0</span>, \n",
       "<span style=\"color: #808000; text-decoration-color: #808000\">thresh</span>=<span style=\"color: #008080; text-decoration-color: #008080; font-weight: bold\">-100</span>, <span style=\"color: #808000; text-decoration-color: #808000\">minimum</span>=<span style=\"color: #008080; text-decoration-color: #008080; font-weight: bold\">-147.5</span><span style=\"font-weight: bold\">)</span>, <span style=\"color: #800080; text-decoration-color: #800080; font-weight: bold\">SpecData</span><span style=\"font-weight: bold\">(</span><span style=\"color: #808000; text-decoration-color: #808000\">type</span>=<span style=\"color: #008080; text-decoration-color: #008080; font-weight: bold\">68</span>, <span style=\"color: #808000; text-decoration-color: #808000\">thread_id</span>=<span style=\"color: #008080; text-decoration-color: #008080; font-weight: bold\">351</span>, <span style=\"color: #808000; text-decoration-color: #808000\">description</span>=<span style=\"color: #008000; text-decoration-color: #008000\">'PMEC 2021 (Faixa </span>\n",
       "<span style=\"color: #008000; text-decoration-color: #008000\">6 de 10). @ -80dBm, 100kHz.'</span>, <span style=\"color: #808000; text-decoration-color: #808000\">start_mega</span>=<span style=\"color: #008080; text-decoration-color: #008080; font-weight: bold\">1001388.999</span>, <span style=\"color: #808000; text-decoration-color: #808000\">stop_mega</span>=<span style=\"color: #008080; text-decoration-color: #008080; font-weight: bold\">1001428.999</span>, <span style=\"color: #808000; text-decoration-color: #808000\">unit</span>=<span style=\"color: #008000; text-decoration-color: #008000\">'dBm'</span>, \n",
       "<span style=\"color: #808000; text-decoration-color: #808000\">ndata</span>=<span style=\"color: #008080; text-decoration-color: #008080; font-weight: bold\">1280</span>, <span style=\"color: #808000; text-decoration-color: #808000\">bw</span>=<span style=\"color: #008080; text-decoration-color: #008080; font-weight: bold\">73828</span>, <span style=\"color: #808000; text-decoration-color: #808000\">processing</span>=<span style=\"color: #008000; text-decoration-color: #008000\">'peak'</span>, <span style=\"color: #808000; text-decoration-color: #808000\">antenna_id</span>=<span style=\"color: #008080; text-decoration-color: #008080; font-weight: bold\">0</span>, <span style=\"color: #808000; text-decoration-color: #808000\">thresh</span>=<span style=\"color: #008080; text-decoration-color: #008080; font-weight: bold\">-100</span>, <span style=\"color: #808000; text-decoration-color: #808000\">minimum</span>=<span style=\"color: #008080; text-decoration-color: #008080; font-weight: bold\">-147.5</span><span style=\"font-weight: bold\">)</span>, \n",
       "<span style=\"color: #800080; text-decoration-color: #800080; font-weight: bold\">SpecData</span><span style=\"font-weight: bold\">(</span><span style=\"color: #808000; text-decoration-color: #808000\">type</span>=<span style=\"color: #008080; text-decoration-color: #008080; font-weight: bold\">68</span>, <span style=\"color: #808000; text-decoration-color: #808000\">thread_id</span>=<span style=\"color: #008080; text-decoration-color: #008080; font-weight: bold\">331</span>, <span style=\"color: #808000; text-decoration-color: #808000\">description</span>=<span style=\"color: #008000; text-decoration-color: #008000\">'PMEC 2021 (Faixa 4 de 10). @ -80dBm, 100kHz.'</span>, \n",
       "<span style=\"color: #808000; text-decoration-color: #808000\">start_mega</span>=<span style=\"color: #008080; text-decoration-color: #008080; font-weight: bold\">400.0</span>, <span style=\"color: #808000; text-decoration-color: #808000\">stop_mega</span>=<span style=\"color: #008080; text-decoration-color: #008080; font-weight: bold\">410.0</span>, <span style=\"color: #808000; text-decoration-color: #808000\">unit</span>=<span style=\"color: #008000; text-decoration-color: #008000\">'dBm'</span>, <span style=\"color: #808000; text-decoration-color: #808000\">ndata</span>=<span style=\"color: #008080; text-decoration-color: #008080; font-weight: bold\">256</span>, <span style=\"color: #808000; text-decoration-color: #808000\">bw</span>=<span style=\"color: #008080; text-decoration-color: #008080; font-weight: bold\">73828</span>, <span style=\"color: #808000; text-decoration-color: #808000\">processing</span>=<span style=\"color: #008000; text-decoration-color: #008000\">'peak'</span>, \n",
       "<span style=\"color: #808000; text-decoration-color: #808000\">antenna_id</span>=<span style=\"color: #008080; text-decoration-color: #008080; font-weight: bold\">0</span>, <span style=\"color: #808000; text-decoration-color: #808000\">thresh</span>=<span style=\"color: #008080; text-decoration-color: #008080; font-weight: bold\">-100</span>, <span style=\"color: #808000; text-decoration-color: #808000\">minimum</span>=<span style=\"color: #008080; text-decoration-color: #008080; font-weight: bold\">-147.5</span><span style=\"font-weight: bold\">)</span>, <span style=\"color: #800080; text-decoration-color: #800080; font-weight: bold\">SpecData</span><span style=\"font-weight: bold\">(</span><span style=\"color: #808000; text-decoration-color: #808000\">type</span>=<span style=\"color: #008080; text-decoration-color: #008080; font-weight: bold\">68</span>, <span style=\"color: #808000; text-decoration-color: #808000\">thread_id</span>=<span style=\"color: #008080; text-decoration-color: #008080; font-weight: bold\">361</span>, \n",
       "<span style=\"color: #808000; text-decoration-color: #808000\">description</span>=<span style=\"color: #008000; text-decoration-color: #008000\">'PMEC 2021 (Faixa 7 de 10). @ -80dBm, 100kHz.'</span>, <span style=\"color: #808000; text-decoration-color: #808000\">start_mega</span>=<span style=\"color: #008080; text-decoration-color: #008080; font-weight: bold\">1530.0</span>, \n",
       "<span style=\"color: #808000; text-decoration-color: #808000\">stop_mega</span>=<span style=\"color: #008080; text-decoration-color: #008080; font-weight: bold\">1001648.999</span>, <span style=\"color: #808000; text-decoration-color: #808000\">unit</span>=<span style=\"color: #008000; text-decoration-color: #008000\">'dBm'</span>, <span style=\"color: #808000; text-decoration-color: #808000\">ndata</span>=<span style=\"color: #008080; text-decoration-color: #008080; font-weight: bold\">3072</span>, <span style=\"color: #808000; text-decoration-color: #808000\">bw</span>=<span style=\"color: #008080; text-decoration-color: #008080; font-weight: bold\">73828</span>, <span style=\"color: #808000; text-decoration-color: #808000\">processing</span>=<span style=\"color: #008000; text-decoration-color: #008000\">'peak'</span>, <span style=\"color: #808000; text-decoration-color: #808000\">antenna_id</span>=<span style=\"color: #008080; text-decoration-color: #008080; font-weight: bold\">0</span>, \n",
       "<span style=\"color: #808000; text-decoration-color: #808000\">thresh</span>=<span style=\"color: #008080; text-decoration-color: #008080; font-weight: bold\">-100</span>, <span style=\"color: #808000; text-decoration-color: #808000\">minimum</span>=<span style=\"color: #008080; text-decoration-color: #008080; font-weight: bold\">-147.5</span><span style=\"font-weight: bold\">)]</span>\n",
       "<span style=\"font-weight: bold\">}</span>\n",
       "</pre>\n"
      ],
      "text/plain": [
       "\u001b[1m{\u001b[0m\n",
       "    \u001b[32m'filename'\u001b[0m: \u001b[32m'rfeye002290_210922_T204046_MaskBroken.bin'\u001b[0m,\n",
       "    \u001b[32m'file_version'\u001b[0m: \u001b[1;36m23\u001b[0m,\n",
       "    \u001b[32m'string'\u001b[0m: \u001b[32m'CRFS DATA FILE V023'\u001b[0m,\n",
       "    \u001b[32m'hostname'\u001b[0m: \u001b[32m'rfeye002290'\u001b[0m,\n",
       "    \u001b[32m'method'\u001b[0m: \u001b[32m'ScriptRFeye2021_v2.cfg'\u001b[0m,\n",
       "    \u001b[32m'unit_info'\u001b[0m: \u001b[32m'Stationary'\u001b[0m,\n",
       "    \u001b[32m'file_number'\u001b[0m: \u001b[1;36m0\u001b[0m,\n",
       "    \u001b[32m'identifier'\u001b[0m: \u001b[32m'INFO'\u001b[0m,\n",
       "    \u001b[32m'gps'\u001b[0m: GPS Data - Median of Coordinates: \u001b[1;36m-22.70008\u001b[0m:\u001b[1;36m-47.66684\u001b[0m, Altitude: \u001b[1;36m518.40\u001b[0m \n",
       "#Satellites: \u001b[1;36m11.0\u001b[0m ,\n",
       "    \u001b[32m'spectrum'\u001b[0m: \u001b[1m[\u001b[0m\u001b[1;35mSpecData\u001b[0m\u001b[1m(\u001b[0m\u001b[33mtype\u001b[0m=\u001b[1;36m68\u001b[0m, \u001b[33mthread_id\u001b[0m=\u001b[1;36m321\u001b[0m, \u001b[33mdescription\u001b[0m=\u001b[32m'PMEC 2021 \u001b[0m\u001b[32m(\u001b[0m\u001b[32mFaixa 3 de 10\u001b[0m\u001b[32m)\u001b[0m\u001b[32m. @ \u001b[0m\n",
       "\u001b[32m-80dBm, 100kHz.'\u001b[0m, \u001b[33mstart_mega\u001b[0m=\u001b[1;36m320\u001b[0m\u001b[1;36m.0\u001b[0m, \u001b[33mstop_mega\u001b[0m=\u001b[1;36m340\u001b[0m\u001b[1;36m.0\u001b[0m, \u001b[33munit\u001b[0m=\u001b[32m'dBm'\u001b[0m, \u001b[33mndata\u001b[0m=\u001b[1;36m512\u001b[0m, \u001b[33mbw\u001b[0m=\u001b[1;36m73828\u001b[0m, \n",
       "\u001b[33mprocessing\u001b[0m=\u001b[32m'peak'\u001b[0m, \u001b[33mantenna_id\u001b[0m=\u001b[1;36m0\u001b[0m, \u001b[33mthresh\u001b[0m=\u001b[1;36m-100\u001b[0m, \u001b[33mminimum\u001b[0m=\u001b[1;36m-147.5\u001b[0m\u001b[1m)\u001b[0m, \u001b[1;35mSpecData\u001b[0m\u001b[1m(\u001b[0m\u001b[33mtype\u001b[0m=\u001b[1;36m68\u001b[0m, \n",
       "\u001b[33mthread_id\u001b[0m=\u001b[1;36m301\u001b[0m, \u001b[33mdescription\u001b[0m=\u001b[32m'PMEC 2021 \u001b[0m\u001b[32m(\u001b[0m\u001b[32mFaixa 1 de 10\u001b[0m\u001b[32m)\u001b[0m\u001b[32m. @ -80dBm, 10kHz.'\u001b[0m, \u001b[33mstart_mega\u001b[0m=\u001b[1;36m108\u001b[0m\u001b[1;36m.0\u001b[0m, \n",
       "\u001b[33mstop_mega\u001b[0m=\u001b[1;36m137\u001b[0m\u001b[1;36m.0\u001b[0m, \u001b[33munit\u001b[0m=\u001b[32m'dBm'\u001b[0m, \u001b[33mndata\u001b[0m=\u001b[1;36m14848\u001b[0m, \u001b[33mbw\u001b[0m=\u001b[1;36m3690\u001b[0m, \u001b[33mprocessing\u001b[0m=\u001b[32m'peak'\u001b[0m, \u001b[33mantenna_id\u001b[0m=\u001b[1;36m0\u001b[0m, \n",
       "\u001b[33mthresh\u001b[0m=\u001b[1;36m-100\u001b[0m, \u001b[33mminimum\u001b[0m=\u001b[1;36m-147.5\u001b[0m\u001b[1m)\u001b[0m, \u001b[1;35mSpecData\u001b[0m\u001b[1m(\u001b[0m\u001b[33mtype\u001b[0m=\u001b[1;36m68\u001b[0m, \u001b[33mthread_id\u001b[0m=\u001b[1;36m341\u001b[0m, \u001b[33mdescription\u001b[0m=\u001b[32m'PMEC 2021 \u001b[0m\u001b[32m(\u001b[0m\u001b[32mFaixa \u001b[0m\n",
       "\u001b[32m5 de 10\u001b[0m\u001b[32m)\u001b[0m\u001b[32m. @ -80dBm, 100kHz.'\u001b[0m, \u001b[33mstart_mega\u001b[0m=\u001b[1;36m960\u001b[0m\u001b[1;36m.0\u001b[0m, \u001b[33mstop_mega\u001b[0m=\u001b[1;36m1001218\u001b[0m\u001b[1;36m.999\u001b[0m, \u001b[33munit\u001b[0m=\u001b[32m'dBm'\u001b[0m, \n",
       "\u001b[33mndata\u001b[0m=\u001b[1;36m6656\u001b[0m, \u001b[33mbw\u001b[0m=\u001b[1;36m73828\u001b[0m, \u001b[33mprocessing\u001b[0m=\u001b[32m'peak'\u001b[0m, \u001b[33mantenna_id\u001b[0m=\u001b[1;36m0\u001b[0m, \u001b[33mthresh\u001b[0m=\u001b[1;36m-100\u001b[0m, \u001b[33mminimum\u001b[0m=\u001b[1;36m-147.5\u001b[0m\u001b[1m)\u001b[0m, \n",
       "\u001b[1;35mSpecData\u001b[0m\u001b[1m(\u001b[0m\u001b[33mtype\u001b[0m=\u001b[1;36m68\u001b[0m, \u001b[33mthread_id\u001b[0m=\u001b[1;36m311\u001b[0m, \u001b[33mdescription\u001b[0m=\u001b[32m'PMEC 2021 \u001b[0m\u001b[32m(\u001b[0m\u001b[32mFaixa 2 de 10\u001b[0m\u001b[32m)\u001b[0m\u001b[32m. @ -80dBm, 10kHz.'\u001b[0m, \n",
       "\u001b[33mstart_mega\u001b[0m=\u001b[1;36m156\u001b[0m\u001b[1;36m.0\u001b[0m, \u001b[33mstop_mega\u001b[0m=\u001b[1;36m163\u001b[0m\u001b[1;36m.0\u001b[0m, \u001b[33munit\u001b[0m=\u001b[32m'dBm'\u001b[0m, \u001b[33mndata\u001b[0m=\u001b[1;36m3584\u001b[0m, \u001b[33mbw\u001b[0m=\u001b[1;36m3690\u001b[0m, \u001b[33mprocessing\u001b[0m=\u001b[32m'peak'\u001b[0m, \n",
       "\u001b[33mantenna_id\u001b[0m=\u001b[1;36m0\u001b[0m, \u001b[33mthresh\u001b[0m=\u001b[1;36m-100\u001b[0m, \u001b[33mminimum\u001b[0m=\u001b[1;36m-147.5\u001b[0m\u001b[1m)\u001b[0m, \u001b[1;35mSpecData\u001b[0m\u001b[1m(\u001b[0m\u001b[33mtype\u001b[0m=\u001b[1;36m68\u001b[0m, \u001b[33mthread_id\u001b[0m=\u001b[1;36m371\u001b[0m, \n",
       "\u001b[33mdescription\u001b[0m=\u001b[32m'PMEC 2021 \u001b[0m\u001b[32m(\u001b[0m\u001b[32mFaixa 8 de 10\u001b[0m\u001b[32m)\u001b[0m\u001b[32m. @ -80dBm, 100kHz.'\u001b[0m, \u001b[33mstart_mega\u001b[0m=\u001b[1;36m2690\u001b[0m\u001b[1;36m.0\u001b[0m, \n",
       "\u001b[33mstop_mega\u001b[0m=\u001b[1;36m1002898\u001b[0m\u001b[1;36m.999\u001b[0m, \u001b[33munit\u001b[0m=\u001b[32m'dBm'\u001b[0m, \u001b[33mndata\u001b[0m=\u001b[1;36m5376\u001b[0m, \u001b[33mbw\u001b[0m=\u001b[1;36m73828\u001b[0m, \u001b[33mprocessing\u001b[0m=\u001b[32m'peak'\u001b[0m, \u001b[33mantenna_id\u001b[0m=\u001b[1;36m0\u001b[0m, \n",
       "\u001b[33mthresh\u001b[0m=\u001b[1;36m-100\u001b[0m, \u001b[33mminimum\u001b[0m=\u001b[1;36m-147.5\u001b[0m\u001b[1m)\u001b[0m, \u001b[1;35mSpecData\u001b[0m\u001b[1m(\u001b[0m\u001b[33mtype\u001b[0m=\u001b[1;36m68\u001b[0m, \u001b[33mthread_id\u001b[0m=\u001b[1;36m351\u001b[0m, \u001b[33mdescription\u001b[0m=\u001b[32m'PMEC 2021 \u001b[0m\u001b[32m(\u001b[0m\u001b[32mFaixa \u001b[0m\n",
       "\u001b[32m6 de 10\u001b[0m\u001b[32m)\u001b[0m\u001b[32m. @ -80dBm, 100kHz.'\u001b[0m, \u001b[33mstart_mega\u001b[0m=\u001b[1;36m1001388\u001b[0m\u001b[1;36m.999\u001b[0m, \u001b[33mstop_mega\u001b[0m=\u001b[1;36m1001428\u001b[0m\u001b[1;36m.999\u001b[0m, \u001b[33munit\u001b[0m=\u001b[32m'dBm'\u001b[0m, \n",
       "\u001b[33mndata\u001b[0m=\u001b[1;36m1280\u001b[0m, \u001b[33mbw\u001b[0m=\u001b[1;36m73828\u001b[0m, \u001b[33mprocessing\u001b[0m=\u001b[32m'peak'\u001b[0m, \u001b[33mantenna_id\u001b[0m=\u001b[1;36m0\u001b[0m, \u001b[33mthresh\u001b[0m=\u001b[1;36m-100\u001b[0m, \u001b[33mminimum\u001b[0m=\u001b[1;36m-147.5\u001b[0m\u001b[1m)\u001b[0m, \n",
       "\u001b[1;35mSpecData\u001b[0m\u001b[1m(\u001b[0m\u001b[33mtype\u001b[0m=\u001b[1;36m68\u001b[0m, \u001b[33mthread_id\u001b[0m=\u001b[1;36m331\u001b[0m, \u001b[33mdescription\u001b[0m=\u001b[32m'PMEC 2021 \u001b[0m\u001b[32m(\u001b[0m\u001b[32mFaixa 4 de 10\u001b[0m\u001b[32m)\u001b[0m\u001b[32m. @ -80dBm, 100kHz.'\u001b[0m, \n",
       "\u001b[33mstart_mega\u001b[0m=\u001b[1;36m400\u001b[0m\u001b[1;36m.0\u001b[0m, \u001b[33mstop_mega\u001b[0m=\u001b[1;36m410\u001b[0m\u001b[1;36m.0\u001b[0m, \u001b[33munit\u001b[0m=\u001b[32m'dBm'\u001b[0m, \u001b[33mndata\u001b[0m=\u001b[1;36m256\u001b[0m, \u001b[33mbw\u001b[0m=\u001b[1;36m73828\u001b[0m, \u001b[33mprocessing\u001b[0m=\u001b[32m'peak'\u001b[0m, \n",
       "\u001b[33mantenna_id\u001b[0m=\u001b[1;36m0\u001b[0m, \u001b[33mthresh\u001b[0m=\u001b[1;36m-100\u001b[0m, \u001b[33mminimum\u001b[0m=\u001b[1;36m-147.5\u001b[0m\u001b[1m)\u001b[0m, \u001b[1;35mSpecData\u001b[0m\u001b[1m(\u001b[0m\u001b[33mtype\u001b[0m=\u001b[1;36m68\u001b[0m, \u001b[33mthread_id\u001b[0m=\u001b[1;36m361\u001b[0m, \n",
       "\u001b[33mdescription\u001b[0m=\u001b[32m'PMEC 2021 \u001b[0m\u001b[32m(\u001b[0m\u001b[32mFaixa 7 de 10\u001b[0m\u001b[32m)\u001b[0m\u001b[32m. @ -80dBm, 100kHz.'\u001b[0m, \u001b[33mstart_mega\u001b[0m=\u001b[1;36m1530\u001b[0m\u001b[1;36m.0\u001b[0m, \n",
       "\u001b[33mstop_mega\u001b[0m=\u001b[1;36m1001648\u001b[0m\u001b[1;36m.999\u001b[0m, \u001b[33munit\u001b[0m=\u001b[32m'dBm'\u001b[0m, \u001b[33mndata\u001b[0m=\u001b[1;36m3072\u001b[0m, \u001b[33mbw\u001b[0m=\u001b[1;36m73828\u001b[0m, \u001b[33mprocessing\u001b[0m=\u001b[32m'peak'\u001b[0m, \u001b[33mantenna_id\u001b[0m=\u001b[1;36m0\u001b[0m, \n",
       "\u001b[33mthresh\u001b[0m=\u001b[1;36m-100\u001b[0m, \u001b[33mminimum\u001b[0m=\u001b[1;36m-147.5\u001b[0m\u001b[1m)\u001b[0m\u001b[1m]\u001b[0m\n",
       "\u001b[1m}\u001b[0m\n"
      ]
     },
     "metadata": {},
     "output_type": "display_data"
    }
   ],
   "source": [
    "print(compressed)"
   ]
  },
  {
   "cell_type": "code",
   "execution_count": null,
   "metadata": {},
   "outputs": [
    {
     "data": {
      "text/plain": [
       "(#8) [SpecData(type=68, thread_id=321, description='PMEC 2021 (Faixa 3 de 10). @ -80dBm, 100kHz.', start_mega=320.0, stop_mega=340.0, unit='dBm', ndata=512, bw=73828, processing='peak', antenna_id=0, thresh=-100, minimum=-147.5),SpecData(type=68, thread_id=301, description='PMEC 2021 (Faixa 1 de 10). @ -80dBm, 10kHz.', start_mega=108.0, stop_mega=137.0, unit='dBm', ndata=14848, bw=3690, processing='peak', antenna_id=0, thresh=-100, minimum=-147.5),SpecData(type=68, thread_id=341, description='PMEC 2021 (Faixa 5 de 10). @ -80dBm, 100kHz.', start_mega=960.0, stop_mega=1001218.999, unit='dBm', ndata=6656, bw=73828, processing='peak', antenna_id=0, thresh=-100, minimum=-147.5),SpecData(type=68, thread_id=311, description='PMEC 2021 (Faixa 2 de 10). @ -80dBm, 10kHz.', start_mega=156.0, stop_mega=163.0, unit='dBm', ndata=3584, bw=3690, processing='peak', antenna_id=0, thresh=-100, minimum=-147.5),SpecData(type=68, thread_id=371, description='PMEC 2021 (Faixa 8 de 10). @ -80dBm, 100kHz.', start_mega=2690.0, stop_mega=1002898.999, unit='dBm', ndata=5376, bw=73828, processing='peak', antenna_id=0, thresh=-100, minimum=-147.5),SpecData(type=68, thread_id=351, description='PMEC 2021 (Faixa 6 de 10). @ -80dBm, 100kHz.', start_mega=1001388.999, stop_mega=1001428.999, unit='dBm', ndata=1280, bw=73828, processing='peak', antenna_id=0, thresh=-100, minimum=-147.5),SpecData(type=68, thread_id=331, description='PMEC 2021 (Faixa 4 de 10). @ -80dBm, 100kHz.', start_mega=400.0, stop_mega=410.0, unit='dBm', ndata=256, bw=73828, processing='peak', antenna_id=0, thresh=-100, minimum=-147.5),SpecData(type=68, thread_id=361, description='PMEC 2021 (Faixa 7 de 10). @ -80dBm, 100kHz.', start_mega=1530.0, stop_mega=1001648.999, unit='dBm', ndata=3072, bw=73828, processing='peak', antenna_id=0, thresh=-100, minimum=-147.5)]"
      ]
     },
     "execution_count": null,
     "metadata": {},
     "output_type": "execute_result"
    }
   ],
   "source": [
    "fluxo = compressed['spectrum'] ; fluxos"
   ]
  },
  {
   "cell_type": "code",
   "execution_count": null,
   "metadata": {},
   "outputs": [
    {
     "data": {
      "text/html": [
       "<div>\n",
       "<style scoped>\n",
       "    .dataframe tbody tr th:only-of-type {\n",
       "        vertical-align: middle;\n",
       "    }\n",
       "\n",
       "    .dataframe tbody tr th {\n",
       "        vertical-align: top;\n",
       "    }\n",
       "\n",
       "    .dataframe thead th {\n",
       "        text-align: right;\n",
       "    }\n",
       "</style>\n",
       "<table border=\"1\" class=\"dataframe\">\n",
       "  <thead>\n",
       "    <tr style=\"text-align: right;\">\n",
       "      <th>Frequencies</th>\n",
       "      <th>320.000000</th>\n",
       "      <th>320.039139</th>\n",
       "      <th>320.078278</th>\n",
       "      <th>339.921722</th>\n",
       "      <th>339.960861</th>\n",
       "      <th>340.000000</th>\n",
       "    </tr>\n",
       "    <tr>\n",
       "      <th>Time</th>\n",
       "      <th></th>\n",
       "      <th></th>\n",
       "      <th></th>\n",
       "      <th></th>\n",
       "      <th></th>\n",
       "      <th></th>\n",
       "    </tr>\n",
       "  </thead>\n",
       "  <tbody>\n",
       "    <tr>\n",
       "      <th>2021-09-22 20:41:05.113032</th>\n",
       "      <td>-87.5</td>\n",
       "      <td>-91.5</td>\n",
       "      <td>-92.5</td>\n",
       "      <td>-87.5</td>\n",
       "      <td>-87.0</td>\n",
       "      <td>-84.5</td>\n",
       "    </tr>\n",
       "    <tr>\n",
       "      <th>2021-09-22 20:41:07.283024</th>\n",
       "      <td>-82.0</td>\n",
       "      <td>-82.0</td>\n",
       "      <td>-84.5</td>\n",
       "      <td>-89.0</td>\n",
       "      <td>-84.0</td>\n",
       "      <td>-84.0</td>\n",
       "    </tr>\n",
       "    <tr>\n",
       "      <th>2021-09-22 20:41:09.630510</th>\n",
       "      <td>-84.0</td>\n",
       "      <td>-85.0</td>\n",
       "      <td>-88.5</td>\n",
       "      <td>-88.0</td>\n",
       "      <td>-86.5</td>\n",
       "      <td>-87.5</td>\n",
       "    </tr>\n",
       "    <tr>\n",
       "      <th>2021-09-22 20:41:13.863041</th>\n",
       "      <td>-85.5</td>\n",
       "      <td>-84.5</td>\n",
       "      <td>-88.5</td>\n",
       "      <td>-85.0</td>\n",
       "      <td>-81.5</td>\n",
       "      <td>-83.0</td>\n",
       "    </tr>\n",
       "    <tr>\n",
       "      <th>2021-09-22 20:41:21.673136</th>\n",
       "      <td>-83.5</td>\n",
       "      <td>-85.0</td>\n",
       "      <td>-87.0</td>\n",
       "      <td>-84.5</td>\n",
       "      <td>-85.5</td>\n",
       "      <td>-89.5</td>\n",
       "    </tr>\n",
       "  </tbody>\n",
       "</table>\n",
       "</div>"
      ],
      "text/plain": [
       "Frequencies                 320.000000  320.039139  320.078278  339.921722  \\\n",
       "Time                                                                         \n",
       "2021-09-22 20:41:05.113032       -87.5       -91.5       -92.5       -87.5   \n",
       "2021-09-22 20:41:07.283024       -82.0       -82.0       -84.5       -89.0   \n",
       "2021-09-22 20:41:09.630510       -84.0       -85.0       -88.5       -88.0   \n",
       "2021-09-22 20:41:13.863041       -85.5       -84.5       -88.5       -85.0   \n",
       "2021-09-22 20:41:21.673136       -83.5       -85.0       -87.0       -84.5   \n",
       "\n",
       "Frequencies                 339.960861  340.000000  \n",
       "Time                                                \n",
       "2021-09-22 20:41:05.113032       -87.0       -84.5  \n",
       "2021-09-22 20:41:07.283024       -84.0       -84.0  \n",
       "2021-09-22 20:41:09.630510       -86.5       -87.5  \n",
       "2021-09-22 20:41:13.863041       -81.5       -83.0  \n",
       "2021-09-22 20:41:21.673136       -85.5       -89.5  "
      ]
     },
     "execution_count": null,
     "metadata": {},
     "output_type": "execute_result"
    }
   ],
   "source": [
    "fluxo = fluxos[0]\n",
    "fluxo.matrix().iloc[:5, [0, 1, 2, -3, -2, -1]]"
   ]
  },
  {
   "cell_type": "code",
   "execution_count": null,
   "metadata": {},
   "outputs": [
    {
     "data": {
      "text/html": [
       "<pre style=\"white-space:pre;overflow-x:auto;line-height:normal;font-family:Menlo,'DejaVu Sans Mono',consolas,'Courier New',monospace\"><span style=\"color: #008080; text-decoration-color: #008080; font-weight: bold\">9788</span>\n",
       "</pre>\n"
      ],
      "text/plain": [
       "\u001b[1;36m9788\u001b[0m\n"
      ]
     },
     "metadata": {},
     "output_type": "display_data"
    }
   ],
   "source": [
    "print(len(fluxo))"
   ]
  },
  {
   "cell_type": "markdown",
   "metadata": {},
   "source": [
    "### CRFS Bin - Versão 4"
   ]
  },
  {
   "cell_type": "code",
   "execution_count": null,
   "metadata": {},
   "outputs": [
    {
     "data": {
      "text/html": [
       "<pre style=\"white-space:pre;overflow-x:auto;line-height:normal;font-family:Menlo,'DejaVu Sans Mono',consolas,'Courier New',monospace\"><span style=\"font-weight: bold\">{</span>\n",
       "    <span style=\"color: #008000; text-decoration-color: #008000\">'filename'</span>: <span style=\"color: #008000; text-decoration-color: #008000\">'rfeye002292_210208_T202215_CRFSBINv.4.bin'</span>,\n",
       "    <span style=\"color: #008000; text-decoration-color: #008000\">'file_version'</span>: <span style=\"color: #008080; text-decoration-color: #008080; font-weight: bold\">22</span>,\n",
       "    <span style=\"color: #008000; text-decoration-color: #008000\">'string'</span>: <span style=\"color: #008000; text-decoration-color: #008000\">'CRFS DATA FILE V022'</span>,\n",
       "    <span style=\"color: #008000; text-decoration-color: #008000\">'hostname'</span>: <span style=\"color: #008000; text-decoration-color: #008000\">'rfeye002292'</span>,\n",
       "    <span style=\"color: #008000; text-decoration-color: #008000\">'method'</span>: <span style=\"color: #008000; text-decoration-color: #008000\">'Script_CRFSBINv4'</span>,\n",
       "    <span style=\"color: #008000; text-decoration-color: #008000\">'unit_info'</span>: <span style=\"color: #008000; text-decoration-color: #008000\">'Stationary'</span>,\n",
       "    <span style=\"color: #008000; text-decoration-color: #008000\">'file_number'</span>: <span style=\"color: #008080; text-decoration-color: #008080; font-weight: bold\">0</span>,\n",
       "    <span style=\"color: #008000; text-decoration-color: #008000\">'identifier'</span>: <span style=\"color: #008000; text-decoration-color: #008000\">'LOGGER_VERSION'</span>,\n",
       "    <span style=\"color: #008000; text-decoration-color: #008000\">'group_id'</span>: <span style=\"color: #008080; text-decoration-color: #008080; font-weight: bold\">0</span>,\n",
       "    <span style=\"color: #008000; text-decoration-color: #008000\">'text'</span>: <span style=\"color: #008000; text-decoration-color: #008000\">'ClearWrite. Peak.'</span>,\n",
       "    <span style=\"color: #008000; text-decoration-color: #008000\">'gps'</span>: GPS Data - Median of Coordinates: <span style=\"color: #008080; text-decoration-color: #008080; font-weight: bold\">-22.70008</span>:<span style=\"color: #008080; text-decoration-color: #008080; font-weight: bold\">-47.66684</span>, Altitude: <span style=\"color: #008080; text-decoration-color: #008080; font-weight: bold\">518.30</span> \n",
       "#Satellites: <span style=\"color: #008080; text-decoration-color: #008080; font-weight: bold\">11.0</span> ,\n",
       "    <span style=\"color: #008000; text-decoration-color: #008000\">'spectrum'</span>: <span style=\"font-weight: bold\">[</span><span style=\"color: #800080; text-decoration-color: #800080; font-weight: bold\">SpecData</span><span style=\"font-weight: bold\">(</span><span style=\"color: #808000; text-decoration-color: #808000\">type</span>=<span style=\"color: #008080; text-decoration-color: #008080; font-weight: bold\">63</span>, <span style=\"color: #808000; text-decoration-color: #808000\">thread_id</span>=<span style=\"color: #008080; text-decoration-color: #008080; font-weight: bold\">20</span>, <span style=\"color: #808000; text-decoration-color: #808000\">description</span>=<span style=\"color: #008000; text-decoration-color: #008000\">'Peak'</span>, <span style=\"color: #808000; text-decoration-color: #808000\">start_mega</span>=<span style=\"color: #008080; text-decoration-color: #008080; font-weight: bold\">76.0</span>, \n",
       "<span style=\"color: #808000; text-decoration-color: #808000\">stop_mega</span>=<span style=\"color: #008080; text-decoration-color: #008080; font-weight: bold\">108.0</span>, <span style=\"color: #808000; text-decoration-color: #808000\">unit</span>=<span style=\"color: #008000; text-decoration-color: #008000\">'dBm'</span>, <span style=\"color: #808000; text-decoration-color: #808000\">ndata</span>=<span style=\"color: #008080; text-decoration-color: #008080; font-weight: bold\">8192</span>, <span style=\"color: #808000; text-decoration-color: #808000\">bw</span>=<span style=\"color: #008080; text-decoration-color: #008080; font-weight: bold\">3</span>, <span style=\"color: #808000; text-decoration-color: #808000\">processing</span>=<span style=\"color: #008000; text-decoration-color: #008000\">'peak'</span>, <span style=\"color: #808000; text-decoration-color: #808000\">antenna_id</span>=<span style=\"color: #008080; text-decoration-color: #008080; font-weight: bold\">0</span>, \n",
       "<span style=\"color: #808000; text-decoration-color: #808000\">thresh</span>=<span style=\"color: #008080; text-decoration-color: #008080; font-weight: bold\">-147.5</span>, <span style=\"color: #808000; text-decoration-color: #808000\">minimum</span>=<span style=\"color: #008080; text-decoration-color: #008080; font-weight: bold\">-147.5</span><span style=\"font-weight: bold\">)</span>, <span style=\"color: #800080; text-decoration-color: #800080; font-weight: bold\">SpecData</span><span style=\"font-weight: bold\">(</span><span style=\"color: #808000; text-decoration-color: #808000\">type</span>=<span style=\"color: #008080; text-decoration-color: #008080; font-weight: bold\">63</span>, <span style=\"color: #808000; text-decoration-color: #808000\">thread_id</span>=<span style=\"color: #008080; text-decoration-color: #008080; font-weight: bold\">30</span>, <span style=\"color: #808000; text-decoration-color: #808000\">description</span>=<span style=\"color: #008000; text-decoration-color: #008000\">'Peak'</span>, \n",
       "<span style=\"color: #808000; text-decoration-color: #808000\">start_mega</span>=<span style=\"color: #008080; text-decoration-color: #008080; font-weight: bold\">70.0</span>, <span style=\"color: #808000; text-decoration-color: #808000\">stop_mega</span>=<span style=\"color: #008080; text-decoration-color: #008080; font-weight: bold\">110.0</span>, <span style=\"color: #808000; text-decoration-color: #808000\">unit</span>=<span style=\"color: #008000; text-decoration-color: #008000\">'dBm'</span>, <span style=\"color: #808000; text-decoration-color: #808000\">ndata</span>=<span style=\"color: #008080; text-decoration-color: #008080; font-weight: bold\">1024</span>, <span style=\"color: #808000; text-decoration-color: #808000\">bw</span>=<span style=\"color: #008080; text-decoration-color: #008080; font-weight: bold\">39</span>, <span style=\"color: #808000; text-decoration-color: #808000\">processing</span>=<span style=\"color: #008000; text-decoration-color: #008000\">'peak'</span>, \n",
       "<span style=\"color: #808000; text-decoration-color: #808000\">antenna_id</span>=<span style=\"color: #008080; text-decoration-color: #008080; font-weight: bold\">0</span>, <span style=\"color: #808000; text-decoration-color: #808000\">thresh</span>=<span style=\"color: #008080; text-decoration-color: #008080; font-weight: bold\">-147.5</span>, <span style=\"color: #808000; text-decoration-color: #808000\">minimum</span>=<span style=\"color: #008080; text-decoration-color: #008080; font-weight: bold\">-147.5</span><span style=\"font-weight: bold\">)</span>, <span style=\"color: #800080; text-decoration-color: #800080; font-weight: bold\">SpecData</span><span style=\"font-weight: bold\">(</span><span style=\"color: #808000; text-decoration-color: #808000\">type</span>=<span style=\"color: #008080; text-decoration-color: #008080; font-weight: bold\">63</span>, <span style=\"color: #808000; text-decoration-color: #808000\">thread_id</span>=<span style=\"color: #008080; text-decoration-color: #008080; font-weight: bold\">10</span>, \n",
       "<span style=\"color: #808000; text-decoration-color: #808000\">description</span>=<span style=\"color: #008000; text-decoration-color: #008000\">'Peak'</span>, <span style=\"color: #808000; text-decoration-color: #808000\">start_mega</span>=<span style=\"color: #008080; text-decoration-color: #008080; font-weight: bold\">105.0</span>, <span style=\"color: #808000; text-decoration-color: #808000\">stop_mega</span>=<span style=\"color: #008080; text-decoration-color: #008080; font-weight: bold\">140.0</span>, <span style=\"color: #808000; text-decoration-color: #808000\">unit</span>=<span style=\"color: #008000; text-decoration-color: #008000\">'dBm'</span>, <span style=\"color: #808000; text-decoration-color: #808000\">ndata</span>=<span style=\"color: #008080; text-decoration-color: #008080; font-weight: bold\">3584</span>, <span style=\"color: #808000; text-decoration-color: #808000\">bw</span>=<span style=\"color: #008080; text-decoration-color: #008080; font-weight: bold\">9</span>, \n",
       "<span style=\"color: #808000; text-decoration-color: #808000\">processing</span>=<span style=\"color: #008000; text-decoration-color: #008000\">'peak'</span>, <span style=\"color: #808000; text-decoration-color: #808000\">antenna_id</span>=<span style=\"color: #008080; text-decoration-color: #008080; font-weight: bold\">0</span>, <span style=\"color: #808000; text-decoration-color: #808000\">thresh</span>=<span style=\"color: #008080; text-decoration-color: #008080; font-weight: bold\">-147.5</span>, <span style=\"color: #808000; text-decoration-color: #808000\">minimum</span>=<span style=\"color: #008080; text-decoration-color: #008080; font-weight: bold\">-147.5</span><span style=\"font-weight: bold\">)</span>, <span style=\"color: #800080; text-decoration-color: #800080; font-weight: bold\">SpecData</span><span style=\"font-weight: bold\">(</span><span style=\"color: #808000; text-decoration-color: #808000\">type</span>=<span style=\"color: #008080; text-decoration-color: #008080; font-weight: bold\">63</span>, \n",
       "<span style=\"color: #808000; text-decoration-color: #808000\">thread_id</span>=<span style=\"color: #008080; text-decoration-color: #008080; font-weight: bold\">11</span>, <span style=\"color: #808000; text-decoration-color: #808000\">description</span>=<span style=\"color: #008000; text-decoration-color: #008000\">'Peak'</span>, <span style=\"color: #808000; text-decoration-color: #808000\">start_mega</span>=<span style=\"color: #008080; text-decoration-color: #008080; font-weight: bold\">105.0</span>, <span style=\"color: #808000; text-decoration-color: #808000\">stop_mega</span>=<span style=\"color: #008080; text-decoration-color: #008080; font-weight: bold\">140.0</span>, <span style=\"color: #808000; text-decoration-color: #808000\">unit</span>=<span style=\"color: #008000; text-decoration-color: #008000\">'dBm'</span>, <span style=\"color: #808000; text-decoration-color: #808000\">ndata</span>=<span style=\"color: #008080; text-decoration-color: #008080; font-weight: bold\">3584</span>, \n",
       "<span style=\"color: #808000; text-decoration-color: #808000\">bw</span>=<span style=\"color: #008080; text-decoration-color: #008080; font-weight: bold\">9</span>, <span style=\"color: #808000; text-decoration-color: #808000\">processing</span>=<span style=\"color: #008000; text-decoration-color: #008000\">'average'</span>, <span style=\"color: #808000; text-decoration-color: #808000\">antenna_id</span>=<span style=\"color: #008080; text-decoration-color: #008080; font-weight: bold\">0</span>, <span style=\"color: #808000; text-decoration-color: #808000\">thresh</span>=<span style=\"color: #008080; text-decoration-color: #008080; font-weight: bold\">-147.5</span>, <span style=\"color: #808000; text-decoration-color: #808000\">minimum</span>=<span style=\"color: #008080; text-decoration-color: #008080; font-weight: bold\">-147.5</span><span style=\"font-weight: bold\">)</span>, <span style=\"color: #800080; text-decoration-color: #800080; font-weight: bold\">SpecData</span><span style=\"font-weight: bold\">(</span><span style=\"color: #808000; text-decoration-color: #808000\">type</span>=<span style=\"color: #008080; text-decoration-color: #008080; font-weight: bold\">63</span>, \n",
       "<span style=\"color: #808000; text-decoration-color: #808000\">thread_id</span>=<span style=\"color: #008080; text-decoration-color: #008080; font-weight: bold\">12</span>, <span style=\"color: #808000; text-decoration-color: #808000\">description</span>=<span style=\"color: #008000; text-decoration-color: #008000\">'Peak'</span>, <span style=\"color: #808000; text-decoration-color: #808000\">start_mega</span>=<span style=\"color: #008080; text-decoration-color: #008080; font-weight: bold\">105.0</span>, <span style=\"color: #808000; text-decoration-color: #808000\">stop_mega</span>=<span style=\"color: #008080; text-decoration-color: #008080; font-weight: bold\">140.0</span>, <span style=\"color: #808000; text-decoration-color: #808000\">unit</span>=<span style=\"color: #008000; text-decoration-color: #008000\">'dBm'</span>, <span style=\"color: #808000; text-decoration-color: #808000\">ndata</span>=<span style=\"color: #008080; text-decoration-color: #008080; font-weight: bold\">3584</span>, \n",
       "<span style=\"color: #808000; text-decoration-color: #808000\">bw</span>=<span style=\"color: #008080; text-decoration-color: #008080; font-weight: bold\">9</span>, <span style=\"color: #808000; text-decoration-color: #808000\">processing</span>=<span style=\"color: #008000; text-decoration-color: #008000\">'peak'</span>, <span style=\"color: #808000; text-decoration-color: #808000\">antenna_id</span>=<span style=\"color: #008080; text-decoration-color: #008080; font-weight: bold\">0</span>, <span style=\"color: #808000; text-decoration-color: #808000\">thresh</span>=<span style=\"color: #008080; text-decoration-color: #008080; font-weight: bold\">-147.5</span>, <span style=\"color: #808000; text-decoration-color: #808000\">minimum</span>=<span style=\"color: #008080; text-decoration-color: #008080; font-weight: bold\">-147.5</span><span style=\"font-weight: bold\">)</span>, <span style=\"color: #800080; text-decoration-color: #800080; font-weight: bold\">SpecData</span><span style=\"font-weight: bold\">(</span><span style=\"color: #808000; text-decoration-color: #808000\">type</span>=<span style=\"color: #008080; text-decoration-color: #008080; font-weight: bold\">63</span>, \n",
       "<span style=\"color: #808000; text-decoration-color: #808000\">thread_id</span>=<span style=\"color: #008080; text-decoration-color: #008080; font-weight: bold\">13</span>, <span style=\"color: #808000; text-decoration-color: #808000\">description</span>=<span style=\"color: #008000; text-decoration-color: #008000\">'Peak'</span>, <span style=\"color: #808000; text-decoration-color: #808000\">start_mega</span>=<span style=\"color: #008080; text-decoration-color: #008080; font-weight: bold\">105.0</span>, <span style=\"color: #808000; text-decoration-color: #808000\">stop_mega</span>=<span style=\"color: #008080; text-decoration-color: #008080; font-weight: bold\">140.0</span>, <span style=\"color: #808000; text-decoration-color: #808000\">unit</span>=<span style=\"color: #008000; text-decoration-color: #008000\">'dBm'</span>, <span style=\"color: #808000; text-decoration-color: #808000\">ndata</span>=<span style=\"color: #008080; text-decoration-color: #008080; font-weight: bold\">3584</span>, \n",
       "<span style=\"color: #808000; text-decoration-color: #808000\">bw</span>=<span style=\"color: #008080; text-decoration-color: #008080; font-weight: bold\">9</span>, <span style=\"color: #808000; text-decoration-color: #808000\">processing</span>=<span style=\"color: #008000; text-decoration-color: #008000\">'average'</span>, <span style=\"color: #808000; text-decoration-color: #808000\">antenna_id</span>=<span style=\"color: #008080; text-decoration-color: #008080; font-weight: bold\">0</span>, <span style=\"color: #808000; text-decoration-color: #808000\">thresh</span>=<span style=\"color: #008080; text-decoration-color: #008080; font-weight: bold\">-147.5</span>, <span style=\"color: #808000; text-decoration-color: #808000\">minimum</span>=<span style=\"color: #008080; text-decoration-color: #008080; font-weight: bold\">-147.5</span><span style=\"font-weight: bold\">)</span>, <span style=\"color: #800080; text-decoration-color: #800080; font-weight: bold\">SpecData</span><span style=\"font-weight: bold\">(</span><span style=\"color: #808000; text-decoration-color: #808000\">type</span>=<span style=\"color: #008080; text-decoration-color: #008080; font-weight: bold\">64</span>, \n",
       "<span style=\"color: #808000; text-decoration-color: #808000\">thread_id</span>=<span style=\"color: #008080; text-decoration-color: #008080; font-weight: bold\">14</span>, <span style=\"color: #808000; text-decoration-color: #808000\">description</span>=<span style=\"color: #008000; text-decoration-color: #008000\">'Peak'</span>, <span style=\"color: #808000; text-decoration-color: #808000\">start_mega</span>=<span style=\"color: #008080; text-decoration-color: #008080; font-weight: bold\">105.0</span>, <span style=\"color: #808000; text-decoration-color: #808000\">stop_mega</span>=<span style=\"color: #008080; text-decoration-color: #008080; font-weight: bold\">140.0</span>, <span style=\"color: #808000; text-decoration-color: #808000\">unit</span>=<span style=\"color: #008000; text-decoration-color: #008000\">'dBm'</span>, <span style=\"color: #808000; text-decoration-color: #808000\">ndata</span>=<span style=\"color: #008080; text-decoration-color: #008080; font-weight: bold\">3584</span>, \n",
       "<span style=\"color: #808000; text-decoration-color: #808000\">bw</span>=<span style=\"color: #008080; text-decoration-color: #008080; font-weight: bold\">48</span>, <span style=\"color: #808000; text-decoration-color: #808000\">processing</span>=<span style=\"color: #008000; text-decoration-color: #008000\">'average'</span>, <span style=\"color: #808000; text-decoration-color: #808000\">antenna_id</span>=<span style=\"color: #008080; text-decoration-color: #008080; font-weight: bold\">0</span>, <span style=\"color: #808000; text-decoration-color: #808000\">thresh</span>=<span style=\"color: #008080; text-decoration-color: #008080; font-weight: bold\">-90</span>, <span style=\"color: #808000; text-decoration-color: #808000\">minimum</span>=<span style=\"color: #008080; text-decoration-color: #008080; font-weight: bold\">-147.5</span><span style=\"font-weight: bold\">)</span>, <span style=\"color: #800080; text-decoration-color: #800080; font-weight: bold\">SpecData</span><span style=\"font-weight: bold\">(</span><span style=\"color: #808000; text-decoration-color: #808000\">type</span>=<span style=\"color: #008080; text-decoration-color: #008080; font-weight: bold\">64</span>, \n",
       "<span style=\"color: #808000; text-decoration-color: #808000\">thread_id</span>=<span style=\"color: #008080; text-decoration-color: #008080; font-weight: bold\">14</span>, <span style=\"color: #808000; text-decoration-color: #808000\">description</span>=<span style=\"color: #008000; text-decoration-color: #008000\">'Peak'</span>, <span style=\"color: #808000; text-decoration-color: #808000\">start_mega</span>=<span style=\"color: #008080; text-decoration-color: #008080; font-weight: bold\">105.0</span>, <span style=\"color: #808000; text-decoration-color: #808000\">stop_mega</span>=<span style=\"color: #008080; text-decoration-color: #008080; font-weight: bold\">140.0</span>, <span style=\"color: #808000; text-decoration-color: #808000\">unit</span>=<span style=\"color: #008000; text-decoration-color: #008000\">'dBm'</span>, <span style=\"color: #808000; text-decoration-color: #808000\">ndata</span>=<span style=\"color: #008080; text-decoration-color: #008080; font-weight: bold\">3584</span>, \n",
       "<span style=\"color: #808000; text-decoration-color: #808000\">bw</span>=<span style=\"color: #008080; text-decoration-color: #008080; font-weight: bold\">51</span>, <span style=\"color: #808000; text-decoration-color: #808000\">processing</span>=<span style=\"color: #008000; text-decoration-color: #008000\">'average'</span>, <span style=\"color: #808000; text-decoration-color: #808000\">antenna_id</span>=<span style=\"color: #008080; text-decoration-color: #008080; font-weight: bold\">0</span>, <span style=\"color: #808000; text-decoration-color: #808000\">thresh</span>=<span style=\"color: #008080; text-decoration-color: #008080; font-weight: bold\">-90</span>, <span style=\"color: #808000; text-decoration-color: #808000\">minimum</span>=<span style=\"color: #008080; text-decoration-color: #008080; font-weight: bold\">-147.5</span><span style=\"font-weight: bold\">)</span>, <span style=\"color: #800080; text-decoration-color: #800080; font-weight: bold\">SpecData</span><span style=\"font-weight: bold\">(</span><span style=\"color: #808000; text-decoration-color: #808000\">type</span>=<span style=\"color: #008080; text-decoration-color: #008080; font-weight: bold\">64</span>, \n",
       "<span style=\"color: #808000; text-decoration-color: #808000\">thread_id</span>=<span style=\"color: #008080; text-decoration-color: #008080; font-weight: bold\">14</span>, <span style=\"color: #808000; text-decoration-color: #808000\">description</span>=<span style=\"color: #008000; text-decoration-color: #008000\">'Peak'</span>, <span style=\"color: #808000; text-decoration-color: #808000\">start_mega</span>=<span style=\"color: #008080; text-decoration-color: #008080; font-weight: bold\">105.0</span>, <span style=\"color: #808000; text-decoration-color: #808000\">stop_mega</span>=<span style=\"color: #008080; text-decoration-color: #008080; font-weight: bold\">140.0</span>, <span style=\"color: #808000; text-decoration-color: #808000\">unit</span>=<span style=\"color: #008000; text-decoration-color: #008000\">'dBm'</span>, <span style=\"color: #808000; text-decoration-color: #808000\">ndata</span>=<span style=\"color: #008080; text-decoration-color: #008080; font-weight: bold\">3584</span>, \n",
       "<span style=\"color: #808000; text-decoration-color: #808000\">bw</span>=<span style=\"color: #008080; text-decoration-color: #008080; font-weight: bold\">47</span>, <span style=\"color: #808000; text-decoration-color: #808000\">processing</span>=<span style=\"color: #008000; text-decoration-color: #008000\">'average'</span>, <span style=\"color: #808000; text-decoration-color: #808000\">antenna_id</span>=<span style=\"color: #008080; text-decoration-color: #008080; font-weight: bold\">0</span>, <span style=\"color: #808000; text-decoration-color: #808000\">thresh</span>=<span style=\"color: #008080; text-decoration-color: #008080; font-weight: bold\">-90</span>, <span style=\"color: #808000; text-decoration-color: #808000\">minimum</span>=<span style=\"color: #008080; text-decoration-color: #008080; font-weight: bold\">-147.5</span><span style=\"font-weight: bold\">)</span>, <span style=\"color: #800080; text-decoration-color: #800080; font-weight: bold\">SpecData</span><span style=\"font-weight: bold\">(</span><span style=\"color: #808000; text-decoration-color: #808000\">type</span>=<span style=\"color: #008080; text-decoration-color: #008080; font-weight: bold\">64</span>, \n",
       "<span style=\"color: #808000; text-decoration-color: #808000\">thread_id</span>=<span style=\"color: #008080; text-decoration-color: #008080; font-weight: bold\">14</span>, <span style=\"color: #808000; text-decoration-color: #808000\">description</span>=<span style=\"color: #008000; text-decoration-color: #008000\">'Peak'</span>, <span style=\"color: #808000; text-decoration-color: #808000\">start_mega</span>=<span style=\"color: #008080; text-decoration-color: #008080; font-weight: bold\">105.0</span>, <span style=\"color: #808000; text-decoration-color: #808000\">stop_mega</span>=<span style=\"color: #008080; text-decoration-color: #008080; font-weight: bold\">140.0</span>, <span style=\"color: #808000; text-decoration-color: #808000\">unit</span>=<span style=\"color: #008000; text-decoration-color: #008000\">'dBm'</span>, <span style=\"color: #808000; text-decoration-color: #808000\">ndata</span>=<span style=\"color: #008080; text-decoration-color: #008080; font-weight: bold\">3584</span>, \n",
       "<span style=\"color: #808000; text-decoration-color: #808000\">bw</span>=<span style=\"color: #008080; text-decoration-color: #008080; font-weight: bold\">46</span>, <span style=\"color: #808000; text-decoration-color: #808000\">processing</span>=<span style=\"color: #008000; text-decoration-color: #008000\">'average'</span>, <span style=\"color: #808000; text-decoration-color: #808000\">antenna_id</span>=<span style=\"color: #008080; text-decoration-color: #008080; font-weight: bold\">0</span>, <span style=\"color: #808000; text-decoration-color: #808000\">thresh</span>=<span style=\"color: #008080; text-decoration-color: #008080; font-weight: bold\">-90</span>, <span style=\"color: #808000; text-decoration-color: #808000\">minimum</span>=<span style=\"color: #008080; text-decoration-color: #008080; font-weight: bold\">-147.5</span><span style=\"font-weight: bold\">)</span>, <span style=\"color: #800080; text-decoration-color: #800080; font-weight: bold\">SpecData</span><span style=\"font-weight: bold\">(</span><span style=\"color: #808000; text-decoration-color: #808000\">type</span>=<span style=\"color: #008080; text-decoration-color: #008080; font-weight: bold\">64</span>, \n",
       "<span style=\"color: #808000; text-decoration-color: #808000\">thread_id</span>=<span style=\"color: #008080; text-decoration-color: #008080; font-weight: bold\">14</span>, <span style=\"color: #808000; text-decoration-color: #808000\">description</span>=<span style=\"color: #008000; text-decoration-color: #008000\">'Peak'</span>, <span style=\"color: #808000; text-decoration-color: #808000\">start_mega</span>=<span style=\"color: #008080; text-decoration-color: #008080; font-weight: bold\">105.0</span>, <span style=\"color: #808000; text-decoration-color: #808000\">stop_mega</span>=<span style=\"color: #008080; text-decoration-color: #008080; font-weight: bold\">140.0</span>, <span style=\"color: #808000; text-decoration-color: #808000\">unit</span>=<span style=\"color: #008000; text-decoration-color: #008000\">'dBm'</span>, <span style=\"color: #808000; text-decoration-color: #808000\">ndata</span>=<span style=\"color: #008080; text-decoration-color: #008080; font-weight: bold\">3584</span>, \n",
       "<span style=\"color: #808000; text-decoration-color: #808000\">bw</span>=<span style=\"color: #008080; text-decoration-color: #008080; font-weight: bold\">59</span>, <span style=\"color: #808000; text-decoration-color: #808000\">processing</span>=<span style=\"color: #008000; text-decoration-color: #008000\">'average'</span>, <span style=\"color: #808000; text-decoration-color: #808000\">antenna_id</span>=<span style=\"color: #008080; text-decoration-color: #008080; font-weight: bold\">0</span>, <span style=\"color: #808000; text-decoration-color: #808000\">thresh</span>=<span style=\"color: #008080; text-decoration-color: #008080; font-weight: bold\">-90</span>, <span style=\"color: #808000; text-decoration-color: #808000\">minimum</span>=<span style=\"color: #008080; text-decoration-color: #008080; font-weight: bold\">-147.5</span><span style=\"font-weight: bold\">)</span>, <span style=\"color: #800080; text-decoration-color: #800080; font-weight: bold\">SpecData</span><span style=\"font-weight: bold\">(</span><span style=\"color: #808000; text-decoration-color: #808000\">type</span>=<span style=\"color: #008080; text-decoration-color: #008080; font-weight: bold\">64</span>, \n",
       "<span style=\"color: #808000; text-decoration-color: #808000\">thread_id</span>=<span style=\"color: #008080; text-decoration-color: #008080; font-weight: bold\">14</span>, <span style=\"color: #808000; text-decoration-color: #808000\">description</span>=<span style=\"color: #008000; text-decoration-color: #008000\">'Peak'</span>, <span style=\"color: #808000; text-decoration-color: #808000\">start_mega</span>=<span style=\"color: #008080; text-decoration-color: #008080; font-weight: bold\">105.0</span>, <span style=\"color: #808000; text-decoration-color: #808000\">stop_mega</span>=<span style=\"color: #008080; text-decoration-color: #008080; font-weight: bold\">140.0</span>, <span style=\"color: #808000; text-decoration-color: #808000\">unit</span>=<span style=\"color: #008000; text-decoration-color: #008000\">'dBm'</span>, <span style=\"color: #808000; text-decoration-color: #808000\">ndata</span>=<span style=\"color: #008080; text-decoration-color: #008080; font-weight: bold\">3584</span>, \n",
       "<span style=\"color: #808000; text-decoration-color: #808000\">bw</span>=<span style=\"color: #008080; text-decoration-color: #008080; font-weight: bold\">44</span>, <span style=\"color: #808000; text-decoration-color: #808000\">processing</span>=<span style=\"color: #008000; text-decoration-color: #008000\">'average'</span>, <span style=\"color: #808000; text-decoration-color: #808000\">antenna_id</span>=<span style=\"color: #008080; text-decoration-color: #008080; font-weight: bold\">0</span>, <span style=\"color: #808000; text-decoration-color: #808000\">thresh</span>=<span style=\"color: #008080; text-decoration-color: #008080; font-weight: bold\">-90</span>, <span style=\"color: #808000; text-decoration-color: #808000\">minimum</span>=<span style=\"color: #008080; text-decoration-color: #008080; font-weight: bold\">-147.5</span><span style=\"font-weight: bold\">)</span>, <span style=\"color: #800080; text-decoration-color: #800080; font-weight: bold\">SpecData</span><span style=\"font-weight: bold\">(</span><span style=\"color: #808000; text-decoration-color: #808000\">type</span>=<span style=\"color: #008080; text-decoration-color: #008080; font-weight: bold\">64</span>, \n",
       "<span style=\"color: #808000; text-decoration-color: #808000\">thread_id</span>=<span style=\"color: #008080; text-decoration-color: #008080; font-weight: bold\">14</span>, <span style=\"color: #808000; text-decoration-color: #808000\">description</span>=<span style=\"color: #008000; text-decoration-color: #008000\">'Peak'</span>, <span style=\"color: #808000; text-decoration-color: #808000\">start_mega</span>=<span style=\"color: #008080; text-decoration-color: #008080; font-weight: bold\">105.0</span>, <span style=\"color: #808000; text-decoration-color: #808000\">stop_mega</span>=<span style=\"color: #008080; text-decoration-color: #008080; font-weight: bold\">140.0</span>, <span style=\"color: #808000; text-decoration-color: #808000\">unit</span>=<span style=\"color: #008000; text-decoration-color: #008000\">'dBm'</span>, <span style=\"color: #808000; text-decoration-color: #808000\">ndata</span>=<span style=\"color: #008080; text-decoration-color: #008080; font-weight: bold\">3584</span>, \n",
       "<span style=\"color: #808000; text-decoration-color: #808000\">bw</span>=<span style=\"color: #008080; text-decoration-color: #008080; font-weight: bold\">62</span>, <span style=\"color: #808000; text-decoration-color: #808000\">processing</span>=<span style=\"color: #008000; text-decoration-color: #008000\">'average'</span>, <span style=\"color: #808000; text-decoration-color: #808000\">antenna_id</span>=<span style=\"color: #008080; text-decoration-color: #008080; font-weight: bold\">0</span>, <span style=\"color: #808000; text-decoration-color: #808000\">thresh</span>=<span style=\"color: #008080; text-decoration-color: #008080; font-weight: bold\">-90</span>, <span style=\"color: #808000; text-decoration-color: #808000\">minimum</span>=<span style=\"color: #008080; text-decoration-color: #008080; font-weight: bold\">-147.5</span><span style=\"font-weight: bold\">)</span>, <span style=\"color: #800080; text-decoration-color: #800080; font-weight: bold\">SpecData</span><span style=\"font-weight: bold\">(</span><span style=\"color: #808000; text-decoration-color: #808000\">type</span>=<span style=\"color: #008080; text-decoration-color: #008080; font-weight: bold\">64</span>, \n",
       "<span style=\"color: #808000; text-decoration-color: #808000\">thread_id</span>=<span style=\"color: #008080; text-decoration-color: #008080; font-weight: bold\">14</span>, <span style=\"color: #808000; text-decoration-color: #808000\">description</span>=<span style=\"color: #008000; text-decoration-color: #008000\">'Peak'</span>, <span style=\"color: #808000; text-decoration-color: #808000\">start_mega</span>=<span style=\"color: #008080; text-decoration-color: #008080; font-weight: bold\">105.0</span>, <span style=\"color: #808000; text-decoration-color: #808000\">stop_mega</span>=<span style=\"color: #008080; text-decoration-color: #008080; font-weight: bold\">140.0</span>, <span style=\"color: #808000; text-decoration-color: #808000\">unit</span>=<span style=\"color: #008000; text-decoration-color: #008000\">'dBm'</span>, <span style=\"color: #808000; text-decoration-color: #808000\">ndata</span>=<span style=\"color: #008080; text-decoration-color: #008080; font-weight: bold\">3584</span>, \n",
       "<span style=\"color: #808000; text-decoration-color: #808000\">bw</span>=<span style=\"color: #008080; text-decoration-color: #008080; font-weight: bold\">50</span>, <span style=\"color: #808000; text-decoration-color: #808000\">processing</span>=<span style=\"color: #008000; text-decoration-color: #008000\">'average'</span>, <span style=\"color: #808000; text-decoration-color: #808000\">antenna_id</span>=<span style=\"color: #008080; text-decoration-color: #008080; font-weight: bold\">0</span>, <span style=\"color: #808000; text-decoration-color: #808000\">thresh</span>=<span style=\"color: #008080; text-decoration-color: #008080; font-weight: bold\">-90</span>, <span style=\"color: #808000; text-decoration-color: #808000\">minimum</span>=<span style=\"color: #008080; text-decoration-color: #008080; font-weight: bold\">-147.5</span><span style=\"font-weight: bold\">)</span>, <span style=\"color: #800080; text-decoration-color: #800080; font-weight: bold\">SpecData</span><span style=\"font-weight: bold\">(</span><span style=\"color: #808000; text-decoration-color: #808000\">type</span>=<span style=\"color: #008080; text-decoration-color: #008080; font-weight: bold\">64</span>, \n",
       "<span style=\"color: #808000; text-decoration-color: #808000\">thread_id</span>=<span style=\"color: #008080; text-decoration-color: #008080; font-weight: bold\">14</span>, <span style=\"color: #808000; text-decoration-color: #808000\">description</span>=<span style=\"color: #008000; text-decoration-color: #008000\">'Peak'</span>, <span style=\"color: #808000; text-decoration-color: #808000\">start_mega</span>=<span style=\"color: #008080; text-decoration-color: #008080; font-weight: bold\">105.0</span>, <span style=\"color: #808000; text-decoration-color: #808000\">stop_mega</span>=<span style=\"color: #008080; text-decoration-color: #008080; font-weight: bold\">140.0</span>, <span style=\"color: #808000; text-decoration-color: #808000\">unit</span>=<span style=\"color: #008000; text-decoration-color: #008000\">'dBm'</span>, <span style=\"color: #808000; text-decoration-color: #808000\">ndata</span>=<span style=\"color: #008080; text-decoration-color: #008080; font-weight: bold\">3584</span>, \n",
       "<span style=\"color: #808000; text-decoration-color: #808000\">bw</span>=<span style=\"color: #008080; text-decoration-color: #008080; font-weight: bold\">49</span>, <span style=\"color: #808000; text-decoration-color: #808000\">processing</span>=<span style=\"color: #008000; text-decoration-color: #008000\">'average'</span>, <span style=\"color: #808000; text-decoration-color: #808000\">antenna_id</span>=<span style=\"color: #008080; text-decoration-color: #008080; font-weight: bold\">0</span>, <span style=\"color: #808000; text-decoration-color: #808000\">thresh</span>=<span style=\"color: #008080; text-decoration-color: #008080; font-weight: bold\">-90</span>, <span style=\"color: #808000; text-decoration-color: #808000\">minimum</span>=<span style=\"color: #008080; text-decoration-color: #008080; font-weight: bold\">-147.5</span><span style=\"font-weight: bold\">)</span>, <span style=\"color: #800080; text-decoration-color: #800080; font-weight: bold\">SpecData</span><span style=\"font-weight: bold\">(</span><span style=\"color: #808000; text-decoration-color: #808000\">type</span>=<span style=\"color: #008080; text-decoration-color: #008080; font-weight: bold\">64</span>, \n",
       "<span style=\"color: #808000; text-decoration-color: #808000\">thread_id</span>=<span style=\"color: #008080; text-decoration-color: #008080; font-weight: bold\">14</span>, <span style=\"color: #808000; text-decoration-color: #808000\">description</span>=<span style=\"color: #008000; text-decoration-color: #008000\">'Peak'</span>, <span style=\"color: #808000; text-decoration-color: #808000\">start_mega</span>=<span style=\"color: #008080; text-decoration-color: #008080; font-weight: bold\">105.0</span>, <span style=\"color: #808000; text-decoration-color: #808000\">stop_mega</span>=<span style=\"color: #008080; text-decoration-color: #008080; font-weight: bold\">140.0</span>, <span style=\"color: #808000; text-decoration-color: #808000\">unit</span>=<span style=\"color: #008000; text-decoration-color: #008000\">'dBm'</span>, <span style=\"color: #808000; text-decoration-color: #808000\">ndata</span>=<span style=\"color: #008080; text-decoration-color: #008080; font-weight: bold\">3584</span>, \n",
       "<span style=\"color: #808000; text-decoration-color: #808000\">bw</span>=<span style=\"color: #008080; text-decoration-color: #008080; font-weight: bold\">43</span>, <span style=\"color: #808000; text-decoration-color: #808000\">processing</span>=<span style=\"color: #008000; text-decoration-color: #008000\">'average'</span>, <span style=\"color: #808000; text-decoration-color: #808000\">antenna_id</span>=<span style=\"color: #008080; text-decoration-color: #008080; font-weight: bold\">0</span>, <span style=\"color: #808000; text-decoration-color: #808000\">thresh</span>=<span style=\"color: #008080; text-decoration-color: #008080; font-weight: bold\">-90</span>, <span style=\"color: #808000; text-decoration-color: #808000\">minimum</span>=<span style=\"color: #008080; text-decoration-color: #008080; font-weight: bold\">-147.5</span><span style=\"font-weight: bold\">)</span>, <span style=\"color: #800080; text-decoration-color: #800080; font-weight: bold\">SpecData</span><span style=\"font-weight: bold\">(</span><span style=\"color: #808000; text-decoration-color: #808000\">type</span>=<span style=\"color: #008080; text-decoration-color: #008080; font-weight: bold\">64</span>, \n",
       "<span style=\"color: #808000; text-decoration-color: #808000\">thread_id</span>=<span style=\"color: #008080; text-decoration-color: #008080; font-weight: bold\">14</span>, <span style=\"color: #808000; text-decoration-color: #808000\">description</span>=<span style=\"color: #008000; text-decoration-color: #008000\">'Peak'</span>, <span style=\"color: #808000; text-decoration-color: #808000\">start_mega</span>=<span style=\"color: #008080; text-decoration-color: #008080; font-weight: bold\">105.0</span>, <span style=\"color: #808000; text-decoration-color: #808000\">stop_mega</span>=<span style=\"color: #008080; text-decoration-color: #008080; font-weight: bold\">140.0</span>, <span style=\"color: #808000; text-decoration-color: #808000\">unit</span>=<span style=\"color: #008000; text-decoration-color: #008000\">'dBm'</span>, <span style=\"color: #808000; text-decoration-color: #808000\">ndata</span>=<span style=\"color: #008080; text-decoration-color: #008080; font-weight: bold\">3584</span>, \n",
       "<span style=\"color: #808000; text-decoration-color: #808000\">bw</span>=<span style=\"color: #008080; text-decoration-color: #008080; font-weight: bold\">52</span>, <span style=\"color: #808000; text-decoration-color: #808000\">processing</span>=<span style=\"color: #008000; text-decoration-color: #008000\">'average'</span>, <span style=\"color: #808000; text-decoration-color: #808000\">antenna_id</span>=<span style=\"color: #008080; text-decoration-color: #008080; font-weight: bold\">0</span>, <span style=\"color: #808000; text-decoration-color: #808000\">thresh</span>=<span style=\"color: #008080; text-decoration-color: #008080; font-weight: bold\">-90</span>, <span style=\"color: #808000; text-decoration-color: #808000\">minimum</span>=<span style=\"color: #008080; text-decoration-color: #008080; font-weight: bold\">-147.5</span><span style=\"font-weight: bold\">)</span>, <span style=\"color: #800080; text-decoration-color: #800080; font-weight: bold\">SpecData</span><span style=\"font-weight: bold\">(</span><span style=\"color: #808000; text-decoration-color: #808000\">type</span>=<span style=\"color: #008080; text-decoration-color: #008080; font-weight: bold\">64</span>, \n",
       "<span style=\"color: #808000; text-decoration-color: #808000\">thread_id</span>=<span style=\"color: #008080; text-decoration-color: #008080; font-weight: bold\">14</span>, <span style=\"color: #808000; text-decoration-color: #808000\">description</span>=<span style=\"color: #008000; text-decoration-color: #008000\">'Peak'</span>, <span style=\"color: #808000; text-decoration-color: #808000\">start_mega</span>=<span style=\"color: #008080; text-decoration-color: #008080; font-weight: bold\">105.0</span>, <span style=\"color: #808000; text-decoration-color: #808000\">stop_mega</span>=<span style=\"color: #008080; text-decoration-color: #008080; font-weight: bold\">140.0</span>, <span style=\"color: #808000; text-decoration-color: #808000\">unit</span>=<span style=\"color: #008000; text-decoration-color: #008000\">'dBm'</span>, <span style=\"color: #808000; text-decoration-color: #808000\">ndata</span>=<span style=\"color: #008080; text-decoration-color: #008080; font-weight: bold\">3584</span>, \n",
       "<span style=\"color: #808000; text-decoration-color: #808000\">bw</span>=<span style=\"color: #008080; text-decoration-color: #008080; font-weight: bold\">54</span>, <span style=\"color: #808000; text-decoration-color: #808000\">processing</span>=<span style=\"color: #008000; text-decoration-color: #008000\">'average'</span>, <span style=\"color: #808000; text-decoration-color: #808000\">antenna_id</span>=<span style=\"color: #008080; text-decoration-color: #008080; font-weight: bold\">0</span>, <span style=\"color: #808000; text-decoration-color: #808000\">thresh</span>=<span style=\"color: #008080; text-decoration-color: #008080; font-weight: bold\">-90</span>, <span style=\"color: #808000; text-decoration-color: #808000\">minimum</span>=<span style=\"color: #008080; text-decoration-color: #008080; font-weight: bold\">-147.5</span><span style=\"font-weight: bold\">)</span>, <span style=\"color: #800080; text-decoration-color: #800080; font-weight: bold\">SpecData</span><span style=\"font-weight: bold\">(</span><span style=\"color: #808000; text-decoration-color: #808000\">type</span>=<span style=\"color: #008080; text-decoration-color: #008080; font-weight: bold\">64</span>, \n",
       "<span style=\"color: #808000; text-decoration-color: #808000\">thread_id</span>=<span style=\"color: #008080; text-decoration-color: #008080; font-weight: bold\">14</span>, <span style=\"color: #808000; text-decoration-color: #808000\">description</span>=<span style=\"color: #008000; text-decoration-color: #008000\">'Peak'</span>, <span style=\"color: #808000; text-decoration-color: #808000\">start_mega</span>=<span style=\"color: #008080; text-decoration-color: #008080; font-weight: bold\">105.0</span>, <span style=\"color: #808000; text-decoration-color: #808000\">stop_mega</span>=<span style=\"color: #008080; text-decoration-color: #008080; font-weight: bold\">140.0</span>, <span style=\"color: #808000; text-decoration-color: #808000\">unit</span>=<span style=\"color: #008000; text-decoration-color: #008000\">'dBm'</span>, <span style=\"color: #808000; text-decoration-color: #808000\">ndata</span>=<span style=\"color: #008080; text-decoration-color: #008080; font-weight: bold\">3584</span>, \n",
       "<span style=\"color: #808000; text-decoration-color: #808000\">bw</span>=<span style=\"color: #008080; text-decoration-color: #008080; font-weight: bold\">42</span>, <span style=\"color: #808000; text-decoration-color: #808000\">processing</span>=<span style=\"color: #008000; text-decoration-color: #008000\">'average'</span>, <span style=\"color: #808000; text-decoration-color: #808000\">antenna_id</span>=<span style=\"color: #008080; text-decoration-color: #008080; font-weight: bold\">0</span>, <span style=\"color: #808000; text-decoration-color: #808000\">thresh</span>=<span style=\"color: #008080; text-decoration-color: #008080; font-weight: bold\">-90</span>, <span style=\"color: #808000; text-decoration-color: #808000\">minimum</span>=<span style=\"color: #008080; text-decoration-color: #008080; font-weight: bold\">-147.5</span><span style=\"font-weight: bold\">)</span>, <span style=\"color: #800080; text-decoration-color: #800080; font-weight: bold\">SpecData</span><span style=\"font-weight: bold\">(</span><span style=\"color: #808000; text-decoration-color: #808000\">type</span>=<span style=\"color: #008080; text-decoration-color: #008080; font-weight: bold\">64</span>, \n",
       "<span style=\"color: #808000; text-decoration-color: #808000\">thread_id</span>=<span style=\"color: #008080; text-decoration-color: #008080; font-weight: bold\">14</span>, <span style=\"color: #808000; text-decoration-color: #808000\">description</span>=<span style=\"color: #008000; text-decoration-color: #008000\">'Peak'</span>, <span style=\"color: #808000; text-decoration-color: #808000\">start_mega</span>=<span style=\"color: #008080; text-decoration-color: #008080; font-weight: bold\">105.0</span>, <span style=\"color: #808000; text-decoration-color: #808000\">stop_mega</span>=<span style=\"color: #008080; text-decoration-color: #008080; font-weight: bold\">140.0</span>, <span style=\"color: #808000; text-decoration-color: #808000\">unit</span>=<span style=\"color: #008000; text-decoration-color: #008000\">'dBm'</span>, <span style=\"color: #808000; text-decoration-color: #808000\">ndata</span>=<span style=\"color: #008080; text-decoration-color: #008080; font-weight: bold\">3584</span>, \n",
       "<span style=\"color: #808000; text-decoration-color: #808000\">bw</span>=<span style=\"color: #008080; text-decoration-color: #008080; font-weight: bold\">37</span>, <span style=\"color: #808000; text-decoration-color: #808000\">processing</span>=<span style=\"color: #008000; text-decoration-color: #008000\">'average'</span>, <span style=\"color: #808000; text-decoration-color: #808000\">antenna_id</span>=<span style=\"color: #008080; text-decoration-color: #008080; font-weight: bold\">0</span>, <span style=\"color: #808000; text-decoration-color: #808000\">thresh</span>=<span style=\"color: #008080; text-decoration-color: #008080; font-weight: bold\">-90</span>, <span style=\"color: #808000; text-decoration-color: #808000\">minimum</span>=<span style=\"color: #008080; text-decoration-color: #008080; font-weight: bold\">-147.5</span><span style=\"font-weight: bold\">)</span>, <span style=\"color: #800080; text-decoration-color: #800080; font-weight: bold\">SpecData</span><span style=\"font-weight: bold\">(</span><span style=\"color: #808000; text-decoration-color: #808000\">type</span>=<span style=\"color: #008080; text-decoration-color: #008080; font-weight: bold\">64</span>, \n",
       "<span style=\"color: #808000; text-decoration-color: #808000\">thread_id</span>=<span style=\"color: #008080; text-decoration-color: #008080; font-weight: bold\">14</span>, <span style=\"color: #808000; text-decoration-color: #808000\">description</span>=<span style=\"color: #008000; text-decoration-color: #008000\">'Peak'</span>, <span style=\"color: #808000; text-decoration-color: #808000\">start_mega</span>=<span style=\"color: #008080; text-decoration-color: #008080; font-weight: bold\">105.0</span>, <span style=\"color: #808000; text-decoration-color: #808000\">stop_mega</span>=<span style=\"color: #008080; text-decoration-color: #008080; font-weight: bold\">140.0</span>, <span style=\"color: #808000; text-decoration-color: #808000\">unit</span>=<span style=\"color: #008000; text-decoration-color: #008000\">'dBm'</span>, <span style=\"color: #808000; text-decoration-color: #808000\">ndata</span>=<span style=\"color: #008080; text-decoration-color: #008080; font-weight: bold\">3584</span>, \n",
       "<span style=\"color: #808000; text-decoration-color: #808000\">bw</span>=<span style=\"color: #008080; text-decoration-color: #008080; font-weight: bold\">53</span>, <span style=\"color: #808000; text-decoration-color: #808000\">processing</span>=<span style=\"color: #008000; text-decoration-color: #008000\">'average'</span>, <span style=\"color: #808000; text-decoration-color: #808000\">antenna_id</span>=<span style=\"color: #008080; text-decoration-color: #008080; font-weight: bold\">0</span>, <span style=\"color: #808000; text-decoration-color: #808000\">thresh</span>=<span style=\"color: #008080; text-decoration-color: #008080; font-weight: bold\">-90</span>, <span style=\"color: #808000; text-decoration-color: #808000\">minimum</span>=<span style=\"color: #008080; text-decoration-color: #008080; font-weight: bold\">-147.5</span><span style=\"font-weight: bold\">)</span>, <span style=\"color: #800080; text-decoration-color: #800080; font-weight: bold\">SpecData</span><span style=\"font-weight: bold\">(</span><span style=\"color: #808000; text-decoration-color: #808000\">type</span>=<span style=\"color: #008080; text-decoration-color: #008080; font-weight: bold\">64</span>, \n",
       "<span style=\"color: #808000; text-decoration-color: #808000\">thread_id</span>=<span style=\"color: #008080; text-decoration-color: #008080; font-weight: bold\">14</span>, <span style=\"color: #808000; text-decoration-color: #808000\">description</span>=<span style=\"color: #008000; text-decoration-color: #008000\">'Peak'</span>, <span style=\"color: #808000; text-decoration-color: #808000\">start_mega</span>=<span style=\"color: #008080; text-decoration-color: #008080; font-weight: bold\">105.0</span>, <span style=\"color: #808000; text-decoration-color: #808000\">stop_mega</span>=<span style=\"color: #008080; text-decoration-color: #008080; font-weight: bold\">140.0</span>, <span style=\"color: #808000; text-decoration-color: #808000\">unit</span>=<span style=\"color: #008000; text-decoration-color: #008000\">'dBm'</span>, <span style=\"color: #808000; text-decoration-color: #808000\">ndata</span>=<span style=\"color: #008080; text-decoration-color: #008080; font-weight: bold\">3584</span>, \n",
       "<span style=\"color: #808000; text-decoration-color: #808000\">bw</span>=<span style=\"color: #008080; text-decoration-color: #008080; font-weight: bold\">45</span>, <span style=\"color: #808000; text-decoration-color: #808000\">processing</span>=<span style=\"color: #008000; text-decoration-color: #008000\">'average'</span>, <span style=\"color: #808000; text-decoration-color: #808000\">antenna_id</span>=<span style=\"color: #008080; text-decoration-color: #008080; font-weight: bold\">0</span>, <span style=\"color: #808000; text-decoration-color: #808000\">thresh</span>=<span style=\"color: #008080; text-decoration-color: #008080; font-weight: bold\">-90</span>, <span style=\"color: #808000; text-decoration-color: #808000\">minimum</span>=<span style=\"color: #008080; text-decoration-color: #008080; font-weight: bold\">-147.5</span><span style=\"font-weight: bold\">)</span>, <span style=\"color: #800080; text-decoration-color: #800080; font-weight: bold\">SpecData</span><span style=\"font-weight: bold\">(</span><span style=\"color: #808000; text-decoration-color: #808000\">type</span>=<span style=\"color: #008080; text-decoration-color: #008080; font-weight: bold\">64</span>, \n",
       "<span style=\"color: #808000; text-decoration-color: #808000\">thread_id</span>=<span style=\"color: #008080; text-decoration-color: #008080; font-weight: bold\">14</span>, <span style=\"color: #808000; text-decoration-color: #808000\">description</span>=<span style=\"color: #008000; text-decoration-color: #008000\">'Peak'</span>, <span style=\"color: #808000; text-decoration-color: #808000\">start_mega</span>=<span style=\"color: #008080; text-decoration-color: #008080; font-weight: bold\">105.0</span>, <span style=\"color: #808000; text-decoration-color: #808000\">stop_mega</span>=<span style=\"color: #008080; text-decoration-color: #008080; font-weight: bold\">140.0</span>, <span style=\"color: #808000; text-decoration-color: #808000\">unit</span>=<span style=\"color: #008000; text-decoration-color: #008000\">'dBm'</span>, <span style=\"color: #808000; text-decoration-color: #808000\">ndata</span>=<span style=\"color: #008080; text-decoration-color: #008080; font-weight: bold\">3584</span>, \n",
       "<span style=\"color: #808000; text-decoration-color: #808000\">bw</span>=<span style=\"color: #008080; text-decoration-color: #008080; font-weight: bold\">55</span>, <span style=\"color: #808000; text-decoration-color: #808000\">processing</span>=<span style=\"color: #008000; text-decoration-color: #008000\">'average'</span>, <span style=\"color: #808000; text-decoration-color: #808000\">antenna_id</span>=<span style=\"color: #008080; text-decoration-color: #008080; font-weight: bold\">0</span>, <span style=\"color: #808000; text-decoration-color: #808000\">thresh</span>=<span style=\"color: #008080; text-decoration-color: #008080; font-weight: bold\">-90</span>, <span style=\"color: #808000; text-decoration-color: #808000\">minimum</span>=<span style=\"color: #008080; text-decoration-color: #008080; font-weight: bold\">-147.5</span><span style=\"font-weight: bold\">)</span>, <span style=\"color: #800080; text-decoration-color: #800080; font-weight: bold\">SpecData</span><span style=\"font-weight: bold\">(</span><span style=\"color: #808000; text-decoration-color: #808000\">type</span>=<span style=\"color: #008080; text-decoration-color: #008080; font-weight: bold\">64</span>, \n",
       "<span style=\"color: #808000; text-decoration-color: #808000\">thread_id</span>=<span style=\"color: #008080; text-decoration-color: #008080; font-weight: bold\">14</span>, <span style=\"color: #808000; text-decoration-color: #808000\">description</span>=<span style=\"color: #008000; text-decoration-color: #008000\">'Peak'</span>, <span style=\"color: #808000; text-decoration-color: #808000\">start_mega</span>=<span style=\"color: #008080; text-decoration-color: #008080; font-weight: bold\">105.0</span>, <span style=\"color: #808000; text-decoration-color: #808000\">stop_mega</span>=<span style=\"color: #008080; text-decoration-color: #008080; font-weight: bold\">140.0</span>, <span style=\"color: #808000; text-decoration-color: #808000\">unit</span>=<span style=\"color: #008000; text-decoration-color: #008000\">'dBm'</span>, <span style=\"color: #808000; text-decoration-color: #808000\">ndata</span>=<span style=\"color: #008080; text-decoration-color: #008080; font-weight: bold\">3584</span>, \n",
       "<span style=\"color: #808000; text-decoration-color: #808000\">bw</span>=<span style=\"color: #008080; text-decoration-color: #008080; font-weight: bold\">58</span>, <span style=\"color: #808000; text-decoration-color: #808000\">processing</span>=<span style=\"color: #008000; text-decoration-color: #008000\">'average'</span>, <span style=\"color: #808000; text-decoration-color: #808000\">antenna_id</span>=<span style=\"color: #008080; text-decoration-color: #008080; font-weight: bold\">0</span>, <span style=\"color: #808000; text-decoration-color: #808000\">thresh</span>=<span style=\"color: #008080; text-decoration-color: #008080; font-weight: bold\">-90</span>, <span style=\"color: #808000; text-decoration-color: #808000\">minimum</span>=<span style=\"color: #008080; text-decoration-color: #008080; font-weight: bold\">-147.5</span><span style=\"font-weight: bold\">)</span>, <span style=\"color: #800080; text-decoration-color: #800080; font-weight: bold\">SpecData</span><span style=\"font-weight: bold\">(</span><span style=\"color: #808000; text-decoration-color: #808000\">type</span>=<span style=\"color: #008080; text-decoration-color: #008080; font-weight: bold\">64</span>, \n",
       "<span style=\"color: #808000; text-decoration-color: #808000\">thread_id</span>=<span style=\"color: #008080; text-decoration-color: #008080; font-weight: bold\">14</span>, <span style=\"color: #808000; text-decoration-color: #808000\">description</span>=<span style=\"color: #008000; text-decoration-color: #008000\">'Peak'</span>, <span style=\"color: #808000; text-decoration-color: #808000\">start_mega</span>=<span style=\"color: #008080; text-decoration-color: #008080; font-weight: bold\">105.0</span>, <span style=\"color: #808000; text-decoration-color: #808000\">stop_mega</span>=<span style=\"color: #008080; text-decoration-color: #008080; font-weight: bold\">140.0</span>, <span style=\"color: #808000; text-decoration-color: #808000\">unit</span>=<span style=\"color: #008000; text-decoration-color: #008000\">'dBm'</span>, <span style=\"color: #808000; text-decoration-color: #808000\">ndata</span>=<span style=\"color: #008080; text-decoration-color: #008080; font-weight: bold\">3584</span>, \n",
       "<span style=\"color: #808000; text-decoration-color: #808000\">bw</span>=<span style=\"color: #008080; text-decoration-color: #008080; font-weight: bold\">39</span>, <span style=\"color: #808000; text-decoration-color: #808000\">processing</span>=<span style=\"color: #008000; text-decoration-color: #008000\">'average'</span>, <span style=\"color: #808000; text-decoration-color: #808000\">antenna_id</span>=<span style=\"color: #008080; text-decoration-color: #008080; font-weight: bold\">0</span>, <span style=\"color: #808000; text-decoration-color: #808000\">thresh</span>=<span style=\"color: #008080; text-decoration-color: #008080; font-weight: bold\">-90</span>, <span style=\"color: #808000; text-decoration-color: #808000\">minimum</span>=<span style=\"color: #008080; text-decoration-color: #008080; font-weight: bold\">-147.5</span><span style=\"font-weight: bold\">)]</span>\n",
       "<span style=\"font-weight: bold\">}</span>\n",
       "</pre>\n"
      ],
      "text/plain": [
       "\u001b[1m{\u001b[0m\n",
       "    \u001b[32m'filename'\u001b[0m: \u001b[32m'rfeye002292_210208_T202215_CRFSBINv.4.bin'\u001b[0m,\n",
       "    \u001b[32m'file_version'\u001b[0m: \u001b[1;36m22\u001b[0m,\n",
       "    \u001b[32m'string'\u001b[0m: \u001b[32m'CRFS DATA FILE V022'\u001b[0m,\n",
       "    \u001b[32m'hostname'\u001b[0m: \u001b[32m'rfeye002292'\u001b[0m,\n",
       "    \u001b[32m'method'\u001b[0m: \u001b[32m'Script_CRFSBINv4'\u001b[0m,\n",
       "    \u001b[32m'unit_info'\u001b[0m: \u001b[32m'Stationary'\u001b[0m,\n",
       "    \u001b[32m'file_number'\u001b[0m: \u001b[1;36m0\u001b[0m,\n",
       "    \u001b[32m'identifier'\u001b[0m: \u001b[32m'LOGGER_VERSION'\u001b[0m,\n",
       "    \u001b[32m'group_id'\u001b[0m: \u001b[1;36m0\u001b[0m,\n",
       "    \u001b[32m'text'\u001b[0m: \u001b[32m'ClearWrite. Peak.'\u001b[0m,\n",
       "    \u001b[32m'gps'\u001b[0m: GPS Data - Median of Coordinates: \u001b[1;36m-22.70008\u001b[0m:\u001b[1;36m-47.66684\u001b[0m, Altitude: \u001b[1;36m518.30\u001b[0m \n",
       "#Satellites: \u001b[1;36m11.0\u001b[0m ,\n",
       "    \u001b[32m'spectrum'\u001b[0m: \u001b[1m[\u001b[0m\u001b[1;35mSpecData\u001b[0m\u001b[1m(\u001b[0m\u001b[33mtype\u001b[0m=\u001b[1;36m63\u001b[0m, \u001b[33mthread_id\u001b[0m=\u001b[1;36m20\u001b[0m, \u001b[33mdescription\u001b[0m=\u001b[32m'Peak'\u001b[0m, \u001b[33mstart_mega\u001b[0m=\u001b[1;36m76\u001b[0m\u001b[1;36m.0\u001b[0m, \n",
       "\u001b[33mstop_mega\u001b[0m=\u001b[1;36m108\u001b[0m\u001b[1;36m.0\u001b[0m, \u001b[33munit\u001b[0m=\u001b[32m'dBm'\u001b[0m, \u001b[33mndata\u001b[0m=\u001b[1;36m8192\u001b[0m, \u001b[33mbw\u001b[0m=\u001b[1;36m3\u001b[0m, \u001b[33mprocessing\u001b[0m=\u001b[32m'peak'\u001b[0m, \u001b[33mantenna_id\u001b[0m=\u001b[1;36m0\u001b[0m, \n",
       "\u001b[33mthresh\u001b[0m=\u001b[1;36m-147.5\u001b[0m, \u001b[33mminimum\u001b[0m=\u001b[1;36m-147.5\u001b[0m\u001b[1m)\u001b[0m, \u001b[1;35mSpecData\u001b[0m\u001b[1m(\u001b[0m\u001b[33mtype\u001b[0m=\u001b[1;36m63\u001b[0m, \u001b[33mthread_id\u001b[0m=\u001b[1;36m30\u001b[0m, \u001b[33mdescription\u001b[0m=\u001b[32m'Peak'\u001b[0m, \n",
       "\u001b[33mstart_mega\u001b[0m=\u001b[1;36m70\u001b[0m\u001b[1;36m.0\u001b[0m, \u001b[33mstop_mega\u001b[0m=\u001b[1;36m110\u001b[0m\u001b[1;36m.0\u001b[0m, \u001b[33munit\u001b[0m=\u001b[32m'dBm'\u001b[0m, \u001b[33mndata\u001b[0m=\u001b[1;36m1024\u001b[0m, \u001b[33mbw\u001b[0m=\u001b[1;36m39\u001b[0m, \u001b[33mprocessing\u001b[0m=\u001b[32m'peak'\u001b[0m, \n",
       "\u001b[33mantenna_id\u001b[0m=\u001b[1;36m0\u001b[0m, \u001b[33mthresh\u001b[0m=\u001b[1;36m-147.5\u001b[0m, \u001b[33mminimum\u001b[0m=\u001b[1;36m-147.5\u001b[0m\u001b[1m)\u001b[0m, \u001b[1;35mSpecData\u001b[0m\u001b[1m(\u001b[0m\u001b[33mtype\u001b[0m=\u001b[1;36m63\u001b[0m, \u001b[33mthread_id\u001b[0m=\u001b[1;36m10\u001b[0m, \n",
       "\u001b[33mdescription\u001b[0m=\u001b[32m'Peak'\u001b[0m, \u001b[33mstart_mega\u001b[0m=\u001b[1;36m105\u001b[0m\u001b[1;36m.0\u001b[0m, \u001b[33mstop_mega\u001b[0m=\u001b[1;36m140\u001b[0m\u001b[1;36m.0\u001b[0m, \u001b[33munit\u001b[0m=\u001b[32m'dBm'\u001b[0m, \u001b[33mndata\u001b[0m=\u001b[1;36m3584\u001b[0m, \u001b[33mbw\u001b[0m=\u001b[1;36m9\u001b[0m, \n",
       "\u001b[33mprocessing\u001b[0m=\u001b[32m'peak'\u001b[0m, \u001b[33mantenna_id\u001b[0m=\u001b[1;36m0\u001b[0m, \u001b[33mthresh\u001b[0m=\u001b[1;36m-147.5\u001b[0m, \u001b[33mminimum\u001b[0m=\u001b[1;36m-147.5\u001b[0m\u001b[1m)\u001b[0m, \u001b[1;35mSpecData\u001b[0m\u001b[1m(\u001b[0m\u001b[33mtype\u001b[0m=\u001b[1;36m63\u001b[0m, \n",
       "\u001b[33mthread_id\u001b[0m=\u001b[1;36m11\u001b[0m, \u001b[33mdescription\u001b[0m=\u001b[32m'Peak'\u001b[0m, \u001b[33mstart_mega\u001b[0m=\u001b[1;36m105\u001b[0m\u001b[1;36m.0\u001b[0m, \u001b[33mstop_mega\u001b[0m=\u001b[1;36m140\u001b[0m\u001b[1;36m.0\u001b[0m, \u001b[33munit\u001b[0m=\u001b[32m'dBm'\u001b[0m, \u001b[33mndata\u001b[0m=\u001b[1;36m3584\u001b[0m, \n",
       "\u001b[33mbw\u001b[0m=\u001b[1;36m9\u001b[0m, \u001b[33mprocessing\u001b[0m=\u001b[32m'average'\u001b[0m, \u001b[33mantenna_id\u001b[0m=\u001b[1;36m0\u001b[0m, \u001b[33mthresh\u001b[0m=\u001b[1;36m-147.5\u001b[0m, \u001b[33mminimum\u001b[0m=\u001b[1;36m-147.5\u001b[0m\u001b[1m)\u001b[0m, \u001b[1;35mSpecData\u001b[0m\u001b[1m(\u001b[0m\u001b[33mtype\u001b[0m=\u001b[1;36m63\u001b[0m, \n",
       "\u001b[33mthread_id\u001b[0m=\u001b[1;36m12\u001b[0m, \u001b[33mdescription\u001b[0m=\u001b[32m'Peak'\u001b[0m, \u001b[33mstart_mega\u001b[0m=\u001b[1;36m105\u001b[0m\u001b[1;36m.0\u001b[0m, \u001b[33mstop_mega\u001b[0m=\u001b[1;36m140\u001b[0m\u001b[1;36m.0\u001b[0m, \u001b[33munit\u001b[0m=\u001b[32m'dBm'\u001b[0m, \u001b[33mndata\u001b[0m=\u001b[1;36m3584\u001b[0m, \n",
       "\u001b[33mbw\u001b[0m=\u001b[1;36m9\u001b[0m, \u001b[33mprocessing\u001b[0m=\u001b[32m'peak'\u001b[0m, \u001b[33mantenna_id\u001b[0m=\u001b[1;36m0\u001b[0m, \u001b[33mthresh\u001b[0m=\u001b[1;36m-147.5\u001b[0m, \u001b[33mminimum\u001b[0m=\u001b[1;36m-147.5\u001b[0m\u001b[1m)\u001b[0m, \u001b[1;35mSpecData\u001b[0m\u001b[1m(\u001b[0m\u001b[33mtype\u001b[0m=\u001b[1;36m63\u001b[0m, \n",
       "\u001b[33mthread_id\u001b[0m=\u001b[1;36m13\u001b[0m, \u001b[33mdescription\u001b[0m=\u001b[32m'Peak'\u001b[0m, \u001b[33mstart_mega\u001b[0m=\u001b[1;36m105\u001b[0m\u001b[1;36m.0\u001b[0m, \u001b[33mstop_mega\u001b[0m=\u001b[1;36m140\u001b[0m\u001b[1;36m.0\u001b[0m, \u001b[33munit\u001b[0m=\u001b[32m'dBm'\u001b[0m, \u001b[33mndata\u001b[0m=\u001b[1;36m3584\u001b[0m, \n",
       "\u001b[33mbw\u001b[0m=\u001b[1;36m9\u001b[0m, \u001b[33mprocessing\u001b[0m=\u001b[32m'average'\u001b[0m, \u001b[33mantenna_id\u001b[0m=\u001b[1;36m0\u001b[0m, \u001b[33mthresh\u001b[0m=\u001b[1;36m-147.5\u001b[0m, \u001b[33mminimum\u001b[0m=\u001b[1;36m-147.5\u001b[0m\u001b[1m)\u001b[0m, \u001b[1;35mSpecData\u001b[0m\u001b[1m(\u001b[0m\u001b[33mtype\u001b[0m=\u001b[1;36m64\u001b[0m, \n",
       "\u001b[33mthread_id\u001b[0m=\u001b[1;36m14\u001b[0m, \u001b[33mdescription\u001b[0m=\u001b[32m'Peak'\u001b[0m, \u001b[33mstart_mega\u001b[0m=\u001b[1;36m105\u001b[0m\u001b[1;36m.0\u001b[0m, \u001b[33mstop_mega\u001b[0m=\u001b[1;36m140\u001b[0m\u001b[1;36m.0\u001b[0m, \u001b[33munit\u001b[0m=\u001b[32m'dBm'\u001b[0m, \u001b[33mndata\u001b[0m=\u001b[1;36m3584\u001b[0m, \n",
       "\u001b[33mbw\u001b[0m=\u001b[1;36m48\u001b[0m, \u001b[33mprocessing\u001b[0m=\u001b[32m'average'\u001b[0m, \u001b[33mantenna_id\u001b[0m=\u001b[1;36m0\u001b[0m, \u001b[33mthresh\u001b[0m=\u001b[1;36m-90\u001b[0m, \u001b[33mminimum\u001b[0m=\u001b[1;36m-147.5\u001b[0m\u001b[1m)\u001b[0m, \u001b[1;35mSpecData\u001b[0m\u001b[1m(\u001b[0m\u001b[33mtype\u001b[0m=\u001b[1;36m64\u001b[0m, \n",
       "\u001b[33mthread_id\u001b[0m=\u001b[1;36m14\u001b[0m, \u001b[33mdescription\u001b[0m=\u001b[32m'Peak'\u001b[0m, \u001b[33mstart_mega\u001b[0m=\u001b[1;36m105\u001b[0m\u001b[1;36m.0\u001b[0m, \u001b[33mstop_mega\u001b[0m=\u001b[1;36m140\u001b[0m\u001b[1;36m.0\u001b[0m, \u001b[33munit\u001b[0m=\u001b[32m'dBm'\u001b[0m, \u001b[33mndata\u001b[0m=\u001b[1;36m3584\u001b[0m, \n",
       "\u001b[33mbw\u001b[0m=\u001b[1;36m51\u001b[0m, \u001b[33mprocessing\u001b[0m=\u001b[32m'average'\u001b[0m, \u001b[33mantenna_id\u001b[0m=\u001b[1;36m0\u001b[0m, \u001b[33mthresh\u001b[0m=\u001b[1;36m-90\u001b[0m, \u001b[33mminimum\u001b[0m=\u001b[1;36m-147.5\u001b[0m\u001b[1m)\u001b[0m, \u001b[1;35mSpecData\u001b[0m\u001b[1m(\u001b[0m\u001b[33mtype\u001b[0m=\u001b[1;36m64\u001b[0m, \n",
       "\u001b[33mthread_id\u001b[0m=\u001b[1;36m14\u001b[0m, \u001b[33mdescription\u001b[0m=\u001b[32m'Peak'\u001b[0m, \u001b[33mstart_mega\u001b[0m=\u001b[1;36m105\u001b[0m\u001b[1;36m.0\u001b[0m, \u001b[33mstop_mega\u001b[0m=\u001b[1;36m140\u001b[0m\u001b[1;36m.0\u001b[0m, \u001b[33munit\u001b[0m=\u001b[32m'dBm'\u001b[0m, \u001b[33mndata\u001b[0m=\u001b[1;36m3584\u001b[0m, \n",
       "\u001b[33mbw\u001b[0m=\u001b[1;36m47\u001b[0m, \u001b[33mprocessing\u001b[0m=\u001b[32m'average'\u001b[0m, \u001b[33mantenna_id\u001b[0m=\u001b[1;36m0\u001b[0m, \u001b[33mthresh\u001b[0m=\u001b[1;36m-90\u001b[0m, \u001b[33mminimum\u001b[0m=\u001b[1;36m-147.5\u001b[0m\u001b[1m)\u001b[0m, \u001b[1;35mSpecData\u001b[0m\u001b[1m(\u001b[0m\u001b[33mtype\u001b[0m=\u001b[1;36m64\u001b[0m, \n",
       "\u001b[33mthread_id\u001b[0m=\u001b[1;36m14\u001b[0m, \u001b[33mdescription\u001b[0m=\u001b[32m'Peak'\u001b[0m, \u001b[33mstart_mega\u001b[0m=\u001b[1;36m105\u001b[0m\u001b[1;36m.0\u001b[0m, \u001b[33mstop_mega\u001b[0m=\u001b[1;36m140\u001b[0m\u001b[1;36m.0\u001b[0m, \u001b[33munit\u001b[0m=\u001b[32m'dBm'\u001b[0m, \u001b[33mndata\u001b[0m=\u001b[1;36m3584\u001b[0m, \n",
       "\u001b[33mbw\u001b[0m=\u001b[1;36m46\u001b[0m, \u001b[33mprocessing\u001b[0m=\u001b[32m'average'\u001b[0m, \u001b[33mantenna_id\u001b[0m=\u001b[1;36m0\u001b[0m, \u001b[33mthresh\u001b[0m=\u001b[1;36m-90\u001b[0m, \u001b[33mminimum\u001b[0m=\u001b[1;36m-147.5\u001b[0m\u001b[1m)\u001b[0m, \u001b[1;35mSpecData\u001b[0m\u001b[1m(\u001b[0m\u001b[33mtype\u001b[0m=\u001b[1;36m64\u001b[0m, \n",
       "\u001b[33mthread_id\u001b[0m=\u001b[1;36m14\u001b[0m, \u001b[33mdescription\u001b[0m=\u001b[32m'Peak'\u001b[0m, \u001b[33mstart_mega\u001b[0m=\u001b[1;36m105\u001b[0m\u001b[1;36m.0\u001b[0m, \u001b[33mstop_mega\u001b[0m=\u001b[1;36m140\u001b[0m\u001b[1;36m.0\u001b[0m, \u001b[33munit\u001b[0m=\u001b[32m'dBm'\u001b[0m, \u001b[33mndata\u001b[0m=\u001b[1;36m3584\u001b[0m, \n",
       "\u001b[33mbw\u001b[0m=\u001b[1;36m59\u001b[0m, \u001b[33mprocessing\u001b[0m=\u001b[32m'average'\u001b[0m, \u001b[33mantenna_id\u001b[0m=\u001b[1;36m0\u001b[0m, \u001b[33mthresh\u001b[0m=\u001b[1;36m-90\u001b[0m, \u001b[33mminimum\u001b[0m=\u001b[1;36m-147.5\u001b[0m\u001b[1m)\u001b[0m, \u001b[1;35mSpecData\u001b[0m\u001b[1m(\u001b[0m\u001b[33mtype\u001b[0m=\u001b[1;36m64\u001b[0m, \n",
       "\u001b[33mthread_id\u001b[0m=\u001b[1;36m14\u001b[0m, \u001b[33mdescription\u001b[0m=\u001b[32m'Peak'\u001b[0m, \u001b[33mstart_mega\u001b[0m=\u001b[1;36m105\u001b[0m\u001b[1;36m.0\u001b[0m, \u001b[33mstop_mega\u001b[0m=\u001b[1;36m140\u001b[0m\u001b[1;36m.0\u001b[0m, \u001b[33munit\u001b[0m=\u001b[32m'dBm'\u001b[0m, \u001b[33mndata\u001b[0m=\u001b[1;36m3584\u001b[0m, \n",
       "\u001b[33mbw\u001b[0m=\u001b[1;36m44\u001b[0m, \u001b[33mprocessing\u001b[0m=\u001b[32m'average'\u001b[0m, \u001b[33mantenna_id\u001b[0m=\u001b[1;36m0\u001b[0m, \u001b[33mthresh\u001b[0m=\u001b[1;36m-90\u001b[0m, \u001b[33mminimum\u001b[0m=\u001b[1;36m-147.5\u001b[0m\u001b[1m)\u001b[0m, \u001b[1;35mSpecData\u001b[0m\u001b[1m(\u001b[0m\u001b[33mtype\u001b[0m=\u001b[1;36m64\u001b[0m, \n",
       "\u001b[33mthread_id\u001b[0m=\u001b[1;36m14\u001b[0m, \u001b[33mdescription\u001b[0m=\u001b[32m'Peak'\u001b[0m, \u001b[33mstart_mega\u001b[0m=\u001b[1;36m105\u001b[0m\u001b[1;36m.0\u001b[0m, \u001b[33mstop_mega\u001b[0m=\u001b[1;36m140\u001b[0m\u001b[1;36m.0\u001b[0m, \u001b[33munit\u001b[0m=\u001b[32m'dBm'\u001b[0m, \u001b[33mndata\u001b[0m=\u001b[1;36m3584\u001b[0m, \n",
       "\u001b[33mbw\u001b[0m=\u001b[1;36m62\u001b[0m, \u001b[33mprocessing\u001b[0m=\u001b[32m'average'\u001b[0m, \u001b[33mantenna_id\u001b[0m=\u001b[1;36m0\u001b[0m, \u001b[33mthresh\u001b[0m=\u001b[1;36m-90\u001b[0m, \u001b[33mminimum\u001b[0m=\u001b[1;36m-147.5\u001b[0m\u001b[1m)\u001b[0m, \u001b[1;35mSpecData\u001b[0m\u001b[1m(\u001b[0m\u001b[33mtype\u001b[0m=\u001b[1;36m64\u001b[0m, \n",
       "\u001b[33mthread_id\u001b[0m=\u001b[1;36m14\u001b[0m, \u001b[33mdescription\u001b[0m=\u001b[32m'Peak'\u001b[0m, \u001b[33mstart_mega\u001b[0m=\u001b[1;36m105\u001b[0m\u001b[1;36m.0\u001b[0m, \u001b[33mstop_mega\u001b[0m=\u001b[1;36m140\u001b[0m\u001b[1;36m.0\u001b[0m, \u001b[33munit\u001b[0m=\u001b[32m'dBm'\u001b[0m, \u001b[33mndata\u001b[0m=\u001b[1;36m3584\u001b[0m, \n",
       "\u001b[33mbw\u001b[0m=\u001b[1;36m50\u001b[0m, \u001b[33mprocessing\u001b[0m=\u001b[32m'average'\u001b[0m, \u001b[33mantenna_id\u001b[0m=\u001b[1;36m0\u001b[0m, \u001b[33mthresh\u001b[0m=\u001b[1;36m-90\u001b[0m, \u001b[33mminimum\u001b[0m=\u001b[1;36m-147.5\u001b[0m\u001b[1m)\u001b[0m, \u001b[1;35mSpecData\u001b[0m\u001b[1m(\u001b[0m\u001b[33mtype\u001b[0m=\u001b[1;36m64\u001b[0m, \n",
       "\u001b[33mthread_id\u001b[0m=\u001b[1;36m14\u001b[0m, \u001b[33mdescription\u001b[0m=\u001b[32m'Peak'\u001b[0m, \u001b[33mstart_mega\u001b[0m=\u001b[1;36m105\u001b[0m\u001b[1;36m.0\u001b[0m, \u001b[33mstop_mega\u001b[0m=\u001b[1;36m140\u001b[0m\u001b[1;36m.0\u001b[0m, \u001b[33munit\u001b[0m=\u001b[32m'dBm'\u001b[0m, \u001b[33mndata\u001b[0m=\u001b[1;36m3584\u001b[0m, \n",
       "\u001b[33mbw\u001b[0m=\u001b[1;36m49\u001b[0m, \u001b[33mprocessing\u001b[0m=\u001b[32m'average'\u001b[0m, \u001b[33mantenna_id\u001b[0m=\u001b[1;36m0\u001b[0m, \u001b[33mthresh\u001b[0m=\u001b[1;36m-90\u001b[0m, \u001b[33mminimum\u001b[0m=\u001b[1;36m-147.5\u001b[0m\u001b[1m)\u001b[0m, \u001b[1;35mSpecData\u001b[0m\u001b[1m(\u001b[0m\u001b[33mtype\u001b[0m=\u001b[1;36m64\u001b[0m, \n",
       "\u001b[33mthread_id\u001b[0m=\u001b[1;36m14\u001b[0m, \u001b[33mdescription\u001b[0m=\u001b[32m'Peak'\u001b[0m, \u001b[33mstart_mega\u001b[0m=\u001b[1;36m105\u001b[0m\u001b[1;36m.0\u001b[0m, \u001b[33mstop_mega\u001b[0m=\u001b[1;36m140\u001b[0m\u001b[1;36m.0\u001b[0m, \u001b[33munit\u001b[0m=\u001b[32m'dBm'\u001b[0m, \u001b[33mndata\u001b[0m=\u001b[1;36m3584\u001b[0m, \n",
       "\u001b[33mbw\u001b[0m=\u001b[1;36m43\u001b[0m, \u001b[33mprocessing\u001b[0m=\u001b[32m'average'\u001b[0m, \u001b[33mantenna_id\u001b[0m=\u001b[1;36m0\u001b[0m, \u001b[33mthresh\u001b[0m=\u001b[1;36m-90\u001b[0m, \u001b[33mminimum\u001b[0m=\u001b[1;36m-147.5\u001b[0m\u001b[1m)\u001b[0m, \u001b[1;35mSpecData\u001b[0m\u001b[1m(\u001b[0m\u001b[33mtype\u001b[0m=\u001b[1;36m64\u001b[0m, \n",
       "\u001b[33mthread_id\u001b[0m=\u001b[1;36m14\u001b[0m, \u001b[33mdescription\u001b[0m=\u001b[32m'Peak'\u001b[0m, \u001b[33mstart_mega\u001b[0m=\u001b[1;36m105\u001b[0m\u001b[1;36m.0\u001b[0m, \u001b[33mstop_mega\u001b[0m=\u001b[1;36m140\u001b[0m\u001b[1;36m.0\u001b[0m, \u001b[33munit\u001b[0m=\u001b[32m'dBm'\u001b[0m, \u001b[33mndata\u001b[0m=\u001b[1;36m3584\u001b[0m, \n",
       "\u001b[33mbw\u001b[0m=\u001b[1;36m52\u001b[0m, \u001b[33mprocessing\u001b[0m=\u001b[32m'average'\u001b[0m, \u001b[33mantenna_id\u001b[0m=\u001b[1;36m0\u001b[0m, \u001b[33mthresh\u001b[0m=\u001b[1;36m-90\u001b[0m, \u001b[33mminimum\u001b[0m=\u001b[1;36m-147.5\u001b[0m\u001b[1m)\u001b[0m, \u001b[1;35mSpecData\u001b[0m\u001b[1m(\u001b[0m\u001b[33mtype\u001b[0m=\u001b[1;36m64\u001b[0m, \n",
       "\u001b[33mthread_id\u001b[0m=\u001b[1;36m14\u001b[0m, \u001b[33mdescription\u001b[0m=\u001b[32m'Peak'\u001b[0m, \u001b[33mstart_mega\u001b[0m=\u001b[1;36m105\u001b[0m\u001b[1;36m.0\u001b[0m, \u001b[33mstop_mega\u001b[0m=\u001b[1;36m140\u001b[0m\u001b[1;36m.0\u001b[0m, \u001b[33munit\u001b[0m=\u001b[32m'dBm'\u001b[0m, \u001b[33mndata\u001b[0m=\u001b[1;36m3584\u001b[0m, \n",
       "\u001b[33mbw\u001b[0m=\u001b[1;36m54\u001b[0m, \u001b[33mprocessing\u001b[0m=\u001b[32m'average'\u001b[0m, \u001b[33mantenna_id\u001b[0m=\u001b[1;36m0\u001b[0m, \u001b[33mthresh\u001b[0m=\u001b[1;36m-90\u001b[0m, \u001b[33mminimum\u001b[0m=\u001b[1;36m-147.5\u001b[0m\u001b[1m)\u001b[0m, \u001b[1;35mSpecData\u001b[0m\u001b[1m(\u001b[0m\u001b[33mtype\u001b[0m=\u001b[1;36m64\u001b[0m, \n",
       "\u001b[33mthread_id\u001b[0m=\u001b[1;36m14\u001b[0m, \u001b[33mdescription\u001b[0m=\u001b[32m'Peak'\u001b[0m, \u001b[33mstart_mega\u001b[0m=\u001b[1;36m105\u001b[0m\u001b[1;36m.0\u001b[0m, \u001b[33mstop_mega\u001b[0m=\u001b[1;36m140\u001b[0m\u001b[1;36m.0\u001b[0m, \u001b[33munit\u001b[0m=\u001b[32m'dBm'\u001b[0m, \u001b[33mndata\u001b[0m=\u001b[1;36m3584\u001b[0m, \n",
       "\u001b[33mbw\u001b[0m=\u001b[1;36m42\u001b[0m, \u001b[33mprocessing\u001b[0m=\u001b[32m'average'\u001b[0m, \u001b[33mantenna_id\u001b[0m=\u001b[1;36m0\u001b[0m, \u001b[33mthresh\u001b[0m=\u001b[1;36m-90\u001b[0m, \u001b[33mminimum\u001b[0m=\u001b[1;36m-147.5\u001b[0m\u001b[1m)\u001b[0m, \u001b[1;35mSpecData\u001b[0m\u001b[1m(\u001b[0m\u001b[33mtype\u001b[0m=\u001b[1;36m64\u001b[0m, \n",
       "\u001b[33mthread_id\u001b[0m=\u001b[1;36m14\u001b[0m, \u001b[33mdescription\u001b[0m=\u001b[32m'Peak'\u001b[0m, \u001b[33mstart_mega\u001b[0m=\u001b[1;36m105\u001b[0m\u001b[1;36m.0\u001b[0m, \u001b[33mstop_mega\u001b[0m=\u001b[1;36m140\u001b[0m\u001b[1;36m.0\u001b[0m, \u001b[33munit\u001b[0m=\u001b[32m'dBm'\u001b[0m, \u001b[33mndata\u001b[0m=\u001b[1;36m3584\u001b[0m, \n",
       "\u001b[33mbw\u001b[0m=\u001b[1;36m37\u001b[0m, \u001b[33mprocessing\u001b[0m=\u001b[32m'average'\u001b[0m, \u001b[33mantenna_id\u001b[0m=\u001b[1;36m0\u001b[0m, \u001b[33mthresh\u001b[0m=\u001b[1;36m-90\u001b[0m, \u001b[33mminimum\u001b[0m=\u001b[1;36m-147.5\u001b[0m\u001b[1m)\u001b[0m, \u001b[1;35mSpecData\u001b[0m\u001b[1m(\u001b[0m\u001b[33mtype\u001b[0m=\u001b[1;36m64\u001b[0m, \n",
       "\u001b[33mthread_id\u001b[0m=\u001b[1;36m14\u001b[0m, \u001b[33mdescription\u001b[0m=\u001b[32m'Peak'\u001b[0m, \u001b[33mstart_mega\u001b[0m=\u001b[1;36m105\u001b[0m\u001b[1;36m.0\u001b[0m, \u001b[33mstop_mega\u001b[0m=\u001b[1;36m140\u001b[0m\u001b[1;36m.0\u001b[0m, \u001b[33munit\u001b[0m=\u001b[32m'dBm'\u001b[0m, \u001b[33mndata\u001b[0m=\u001b[1;36m3584\u001b[0m, \n",
       "\u001b[33mbw\u001b[0m=\u001b[1;36m53\u001b[0m, \u001b[33mprocessing\u001b[0m=\u001b[32m'average'\u001b[0m, \u001b[33mantenna_id\u001b[0m=\u001b[1;36m0\u001b[0m, \u001b[33mthresh\u001b[0m=\u001b[1;36m-90\u001b[0m, \u001b[33mminimum\u001b[0m=\u001b[1;36m-147.5\u001b[0m\u001b[1m)\u001b[0m, \u001b[1;35mSpecData\u001b[0m\u001b[1m(\u001b[0m\u001b[33mtype\u001b[0m=\u001b[1;36m64\u001b[0m, \n",
       "\u001b[33mthread_id\u001b[0m=\u001b[1;36m14\u001b[0m, \u001b[33mdescription\u001b[0m=\u001b[32m'Peak'\u001b[0m, \u001b[33mstart_mega\u001b[0m=\u001b[1;36m105\u001b[0m\u001b[1;36m.0\u001b[0m, \u001b[33mstop_mega\u001b[0m=\u001b[1;36m140\u001b[0m\u001b[1;36m.0\u001b[0m, \u001b[33munit\u001b[0m=\u001b[32m'dBm'\u001b[0m, \u001b[33mndata\u001b[0m=\u001b[1;36m3584\u001b[0m, \n",
       "\u001b[33mbw\u001b[0m=\u001b[1;36m45\u001b[0m, \u001b[33mprocessing\u001b[0m=\u001b[32m'average'\u001b[0m, \u001b[33mantenna_id\u001b[0m=\u001b[1;36m0\u001b[0m, \u001b[33mthresh\u001b[0m=\u001b[1;36m-90\u001b[0m, \u001b[33mminimum\u001b[0m=\u001b[1;36m-147.5\u001b[0m\u001b[1m)\u001b[0m, \u001b[1;35mSpecData\u001b[0m\u001b[1m(\u001b[0m\u001b[33mtype\u001b[0m=\u001b[1;36m64\u001b[0m, \n",
       "\u001b[33mthread_id\u001b[0m=\u001b[1;36m14\u001b[0m, \u001b[33mdescription\u001b[0m=\u001b[32m'Peak'\u001b[0m, \u001b[33mstart_mega\u001b[0m=\u001b[1;36m105\u001b[0m\u001b[1;36m.0\u001b[0m, \u001b[33mstop_mega\u001b[0m=\u001b[1;36m140\u001b[0m\u001b[1;36m.0\u001b[0m, \u001b[33munit\u001b[0m=\u001b[32m'dBm'\u001b[0m, \u001b[33mndata\u001b[0m=\u001b[1;36m3584\u001b[0m, \n",
       "\u001b[33mbw\u001b[0m=\u001b[1;36m55\u001b[0m, \u001b[33mprocessing\u001b[0m=\u001b[32m'average'\u001b[0m, \u001b[33mantenna_id\u001b[0m=\u001b[1;36m0\u001b[0m, \u001b[33mthresh\u001b[0m=\u001b[1;36m-90\u001b[0m, \u001b[33mminimum\u001b[0m=\u001b[1;36m-147.5\u001b[0m\u001b[1m)\u001b[0m, \u001b[1;35mSpecData\u001b[0m\u001b[1m(\u001b[0m\u001b[33mtype\u001b[0m=\u001b[1;36m64\u001b[0m, \n",
       "\u001b[33mthread_id\u001b[0m=\u001b[1;36m14\u001b[0m, \u001b[33mdescription\u001b[0m=\u001b[32m'Peak'\u001b[0m, \u001b[33mstart_mega\u001b[0m=\u001b[1;36m105\u001b[0m\u001b[1;36m.0\u001b[0m, \u001b[33mstop_mega\u001b[0m=\u001b[1;36m140\u001b[0m\u001b[1;36m.0\u001b[0m, \u001b[33munit\u001b[0m=\u001b[32m'dBm'\u001b[0m, \u001b[33mndata\u001b[0m=\u001b[1;36m3584\u001b[0m, \n",
       "\u001b[33mbw\u001b[0m=\u001b[1;36m58\u001b[0m, \u001b[33mprocessing\u001b[0m=\u001b[32m'average'\u001b[0m, \u001b[33mantenna_id\u001b[0m=\u001b[1;36m0\u001b[0m, \u001b[33mthresh\u001b[0m=\u001b[1;36m-90\u001b[0m, \u001b[33mminimum\u001b[0m=\u001b[1;36m-147.5\u001b[0m\u001b[1m)\u001b[0m, \u001b[1;35mSpecData\u001b[0m\u001b[1m(\u001b[0m\u001b[33mtype\u001b[0m=\u001b[1;36m64\u001b[0m, \n",
       "\u001b[33mthread_id\u001b[0m=\u001b[1;36m14\u001b[0m, \u001b[33mdescription\u001b[0m=\u001b[32m'Peak'\u001b[0m, \u001b[33mstart_mega\u001b[0m=\u001b[1;36m105\u001b[0m\u001b[1;36m.0\u001b[0m, \u001b[33mstop_mega\u001b[0m=\u001b[1;36m140\u001b[0m\u001b[1;36m.0\u001b[0m, \u001b[33munit\u001b[0m=\u001b[32m'dBm'\u001b[0m, \u001b[33mndata\u001b[0m=\u001b[1;36m3584\u001b[0m, \n",
       "\u001b[33mbw\u001b[0m=\u001b[1;36m39\u001b[0m, \u001b[33mprocessing\u001b[0m=\u001b[32m'average'\u001b[0m, \u001b[33mantenna_id\u001b[0m=\u001b[1;36m0\u001b[0m, \u001b[33mthresh\u001b[0m=\u001b[1;36m-90\u001b[0m, \u001b[33mminimum\u001b[0m=\u001b[1;36m-147.5\u001b[0m\u001b[1m)\u001b[0m\u001b[1m]\u001b[0m\n",
       "\u001b[1m}\u001b[0m\n"
      ]
     },
     "metadata": {},
     "output_type": "display_data"
    }
   ],
   "source": [
    "file = r'binfiles\\rfeye002292_210208_T202215_CRFSBINv.4.bin'\n",
    "blocks = parse_bin(file)\n",
    "print(blocks)"
   ]
  },
  {
   "cell_type": "code",
   "execution_count": null,
   "metadata": {},
   "outputs": [
    {
     "data": {
      "text/html": [
       "<div>\n",
       "<style scoped>\n",
       "    .dataframe tbody tr th:only-of-type {\n",
       "        vertical-align: middle;\n",
       "    }\n",
       "\n",
       "    .dataframe tbody tr th {\n",
       "        vertical-align: top;\n",
       "    }\n",
       "\n",
       "    .dataframe thead th {\n",
       "        text-align: right;\n",
       "    }\n",
       "</style>\n",
       "<table border=\"1\" class=\"dataframe\">\n",
       "  <thead>\n",
       "    <tr style=\"text-align: right;\">\n",
       "      <th>Frequencies</th>\n",
       "      <th>76.000000</th>\n",
       "      <th>76.003907</th>\n",
       "      <th>76.007813</th>\n",
       "      <th>107.992187</th>\n",
       "      <th>107.996093</th>\n",
       "      <th>108.000000</th>\n",
       "    </tr>\n",
       "    <tr>\n",
       "      <th>Time</th>\n",
       "      <th></th>\n",
       "      <th></th>\n",
       "      <th></th>\n",
       "      <th></th>\n",
       "      <th></th>\n",
       "      <th></th>\n",
       "    </tr>\n",
       "  </thead>\n",
       "  <tbody>\n",
       "    <tr>\n",
       "      <th>2021-02-08 20:22:15.500658</th>\n",
       "      <td>-110.0</td>\n",
       "      <td>-100.5</td>\n",
       "      <td>-99.0</td>\n",
       "      <td>-103.0</td>\n",
       "      <td>-99.0</td>\n",
       "      <td>-96.0</td>\n",
       "    </tr>\n",
       "    <tr>\n",
       "      <th>2021-02-08 20:22:16.142770</th>\n",
       "      <td>-105.5</td>\n",
       "      <td>-100.0</td>\n",
       "      <td>-97.5</td>\n",
       "      <td>-94.5</td>\n",
       "      <td>-95.0</td>\n",
       "      <td>-98.0</td>\n",
       "    </tr>\n",
       "    <tr>\n",
       "      <th>2021-02-08 20:22:16.500750</th>\n",
       "      <td>-104.0</td>\n",
       "      <td>-102.5</td>\n",
       "      <td>-105.5</td>\n",
       "      <td>-95.5</td>\n",
       "      <td>-98.5</td>\n",
       "      <td>-93.0</td>\n",
       "    </tr>\n",
       "    <tr>\n",
       "      <th>2021-02-08 20:22:17.132990</th>\n",
       "      <td>-105.0</td>\n",
       "      <td>-107.0</td>\n",
       "      <td>-103.0</td>\n",
       "      <td>-99.5</td>\n",
       "      <td>-99.5</td>\n",
       "      <td>-102.5</td>\n",
       "    </tr>\n",
       "    <tr>\n",
       "      <th>2021-02-08 20:22:17.501352</th>\n",
       "      <td>-97.5</td>\n",
       "      <td>-101.5</td>\n",
       "      <td>-97.0</td>\n",
       "      <td>-104.5</td>\n",
       "      <td>-102.0</td>\n",
       "      <td>-99.5</td>\n",
       "    </tr>\n",
       "  </tbody>\n",
       "</table>\n",
       "</div>"
      ],
      "text/plain": [
       "Frequencies                 76.000000   76.003907   76.007813   107.992187  \\\n",
       "Time                                                                         \n",
       "2021-02-08 20:22:15.500658      -110.0      -100.5       -99.0      -103.0   \n",
       "2021-02-08 20:22:16.142770      -105.5      -100.0       -97.5       -94.5   \n",
       "2021-02-08 20:22:16.500750      -104.0      -102.5      -105.5       -95.5   \n",
       "2021-02-08 20:22:17.132990      -105.0      -107.0      -103.0       -99.5   \n",
       "2021-02-08 20:22:17.501352       -97.5      -101.5       -97.0      -104.5   \n",
       "\n",
       "Frequencies                 107.996093  108.000000  \n",
       "Time                                                \n",
       "2021-02-08 20:22:15.500658       -99.0       -96.0  \n",
       "2021-02-08 20:22:16.142770       -95.0       -98.0  \n",
       "2021-02-08 20:22:16.500750       -98.5       -93.0  \n",
       "2021-02-08 20:22:17.132990       -99.5      -102.5  \n",
       "2021-02-08 20:22:17.501352      -102.0       -99.5  "
      ]
     },
     "execution_count": null,
     "metadata": {},
     "output_type": "execute_result"
    }
   ],
   "source": [
    "blocks['spectrum'][0].matrix().iloc[:5, [0, 1, 2, -3, -2, -1]]"
   ]
  },
  {
   "cell_type": "markdown",
   "metadata": {},
   "source": [
    "### CRFS Bin - Versão 3"
   ]
  },
  {
   "cell_type": "code",
   "execution_count": null,
   "metadata": {},
   "outputs": [
    {
     "data": {
      "text/html": [
       "<pre style=\"white-space:pre;overflow-x:auto;line-height:normal;font-family:Menlo,'DejaVu Sans Mono',consolas,'Courier New',monospace\"><span style=\"font-weight: bold\">{</span>\n",
       "    <span style=\"color: #008000; text-decoration-color: #008000\">'filename'</span>: <span style=\"color: #008000; text-decoration-color: #008000\">'rfeye002292_210208_T203238_CRFSBINv.3.bin'</span>,\n",
       "    <span style=\"color: #008000; text-decoration-color: #008000\">'file_version'</span>: <span style=\"color: #008080; text-decoration-color: #008080; font-weight: bold\">21</span>,\n",
       "    <span style=\"color: #008000; text-decoration-color: #008000\">'string'</span>: <span style=\"color: #008000; text-decoration-color: #008000\">'CRFS DATA FILE V021'</span>,\n",
       "    <span style=\"color: #008000; text-decoration-color: #008000\">'hostname'</span>: <span style=\"color: #008000; text-decoration-color: #008000\">'rfeye002292'</span>,\n",
       "    <span style=\"color: #008000; text-decoration-color: #008000\">'method'</span>: <span style=\"color: #008000; text-decoration-color: #008000\">'Script_CRFSBINv3'</span>,\n",
       "    <span style=\"color: #008000; text-decoration-color: #008000\">'unit_info'</span>: <span style=\"color: #008000; text-decoration-color: #008000\">'Stationary'</span>,\n",
       "    <span style=\"color: #008000; text-decoration-color: #008000\">'file_number'</span>: <span style=\"color: #008080; text-decoration-color: #008080; font-weight: bold\">0</span>,\n",
       "    <span style=\"color: #008000; text-decoration-color: #008000\">'identifier'</span>: <span style=\"color: #008000; text-decoration-color: #008000\">'LOGGER_VERSION'</span>,\n",
       "    <span style=\"color: #008000; text-decoration-color: #008000\">'gps'</span>: GPS Data - Median of Coordinates: <span style=\"color: #008080; text-decoration-color: #008080; font-weight: bold\">-22.70008</span>:<span style=\"color: #008080; text-decoration-color: #008080; font-weight: bold\">-47.66684</span>, Altitude: <span style=\"color: #008080; text-decoration-color: #008080; font-weight: bold\">518.30</span> \n",
       "#Satellites: <span style=\"color: #008080; text-decoration-color: #008080; font-weight: bold\">11.0</span> ,\n",
       "    <span style=\"color: #008000; text-decoration-color: #008000\">'spectrum'</span>: <span style=\"font-weight: bold\">[]</span>\n",
       "<span style=\"font-weight: bold\">}</span>\n",
       "</pre>\n"
      ],
      "text/plain": [
       "\u001b[1m{\u001b[0m\n",
       "    \u001b[32m'filename'\u001b[0m: \u001b[32m'rfeye002292_210208_T203238_CRFSBINv.3.bin'\u001b[0m,\n",
       "    \u001b[32m'file_version'\u001b[0m: \u001b[1;36m21\u001b[0m,\n",
       "    \u001b[32m'string'\u001b[0m: \u001b[32m'CRFS DATA FILE V021'\u001b[0m,\n",
       "    \u001b[32m'hostname'\u001b[0m: \u001b[32m'rfeye002292'\u001b[0m,\n",
       "    \u001b[32m'method'\u001b[0m: \u001b[32m'Script_CRFSBINv3'\u001b[0m,\n",
       "    \u001b[32m'unit_info'\u001b[0m: \u001b[32m'Stationary'\u001b[0m,\n",
       "    \u001b[32m'file_number'\u001b[0m: \u001b[1;36m0\u001b[0m,\n",
       "    \u001b[32m'identifier'\u001b[0m: \u001b[32m'LOGGER_VERSION'\u001b[0m,\n",
       "    \u001b[32m'gps'\u001b[0m: GPS Data - Median of Coordinates: \u001b[1;36m-22.70008\u001b[0m:\u001b[1;36m-47.66684\u001b[0m, Altitude: \u001b[1;36m518.30\u001b[0m \n",
       "#Satellites: \u001b[1;36m11.0\u001b[0m ,\n",
       "    \u001b[32m'spectrum'\u001b[0m: \u001b[1m[\u001b[0m\u001b[1m]\u001b[0m\n",
       "\u001b[1m}\u001b[0m\n"
      ]
     },
     "metadata": {},
     "output_type": "display_data"
    }
   ],
   "source": [
    "file = r'binfiles\\rfeye002292_210208_T203238_CRFSBINv.3.bin'\n",
    "blocks = parse_bin(file)\n",
    "print(blocks)"
   ]
  }
 ],
 "metadata": {
  "kernelspec": {
   "display_name": "Python [conda env:rfpye]",
   "language": "python",
   "name": "conda-env-rfpye-py"
  }
 },
 "nbformat": 4,
 "nbformat_minor": 4
}
