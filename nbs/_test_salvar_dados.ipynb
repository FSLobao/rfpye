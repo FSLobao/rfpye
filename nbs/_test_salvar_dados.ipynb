{
 "cells": [
  {
   "cell_type": "code",
   "execution_count": null,
   "id": "40b3110a",
   "metadata": {},
   "outputs": [],
   "source": [
    "#hide \n",
    "#Standard Lib imports\n",
    "import sys, os, shutil\n",
    "from pathlib import Path\n",
    "\n",
    "# Insert in Path Project Directory\n",
    "sys.path.insert(0, str(Path().cwd().parent))"
   ]
  },
  {
   "cell_type": "code",
   "execution_count": null,
   "id": "62e65f51",
   "metadata": {},
   "outputs": [],
   "source": [
    "#hide\n",
    "%load_ext autoreload\n",
    "%autoreload 2 \n",
    "%config Completer.use_jedi = False"
   ]
  },
  {
   "cell_type": "code",
   "execution_count": null,
   "id": "997ab8d8",
   "metadata": {},
   "outputs": [],
   "source": [
    "from rfpye.parser import parse_bin, export_metadata, extract_level\n",
    "from rfpye.main import extract_bin_data\n",
    "from rfpye.utils import get_files, df_optimize\n",
    "import numpy as np\n",
    "import pandas as pd\n",
    "from fastcore.foundation import L\n",
    "from rich import print"
   ]
  },
  {
   "cell_type": "code",
   "execution_count": null,
   "id": "d4f5ae8f",
   "metadata": {},
   "outputs": [],
   "source": [
    "entrada = Path('/content/data')\n",
    "saida = Path('/content/pq')\n",
    "saida.mkdir(exist_ok=True)"
   ]
  },
  {
   "cell_type": "code",
   "execution_count": null,
   "id": "908e852e",
   "metadata": {},
   "outputs": [],
   "source": [
    "arquivos = get_files('/content/bin', extensions=['.bin']) ;  arquivos"
   ]
  },
  {
   "cell_type": "code",
   "execution_count": null,
   "id": "f5fea3d8",
   "metadata": {},
   "outputs": [],
   "source": [
    "arquivo = arquivos[-1]"
   ]
  },
  {
   "cell_type": "code",
   "execution_count": null,
   "id": "be330505",
   "metadata": {},
   "outputs": [],
   "source": [
    "import pyarrow as pa\n",
    "import pyarrow.parquet as pq\n",
    "import json"
   ]
  },
  {
   "cell_type": "code",
   "execution_count": null,
   "id": "7bbdbde9",
   "metadata": {},
   "outputs": [],
   "source": [
    "# for p in arquivos[-10:]:\n",
    "#     shutil.copyfile(p, f'/content/{p.name}')"
   ]
  },
  {
   "cell_type": "code",
   "execution_count": null,
   "id": "fe633370",
   "metadata": {},
   "outputs": [],
   "source": [
    "%%time\n",
    "dados = extract_bin_data(arquivo, save_path=saida, spec_data=True)"
   ]
  },
  {
   "cell_type": "code",
   "execution_count": null,
   "id": "c3b672f9",
   "metadata": {},
   "outputs": [],
   "source": [
    "out = dados['rfeye002239_210618_T174320.bin']"
   ]
  },
  {
   "cell_type": "code",
   "execution_count": null,
   "id": "36c7fdce",
   "metadata": {},
   "outputs": [],
   "source": [
    "out['Fluxos']"
   ]
  },
  {
   "cell_type": "code",
   "execution_count": null,
   "id": "8fe244b7",
   "metadata": {},
   "outputs": [],
   "source": [
    "fluxo = out['Fluxos'][67,100]"
   ]
  },
  {
   "cell_type": "code",
   "execution_count": null,
   "id": "ce4e3f8f",
   "metadata": {},
   "outputs": [],
   "source": [
    "level = fluxo['Level_Data']"
   ]
  },
  {
   "cell_type": "code",
   "execution_count": null,
   "id": "5af6e213",
   "metadata": {},
   "outputs": [
    {
     "data": {
      "text/plain": [
       "(2576, 1024)"
      ]
     },
     "execution_count": null,
     "metadata": {},
     "output_type": "execute_result"
    }
   ],
   "source": [
    "level.shape"
   ]
  },
  {
   "cell_type": "code",
   "execution_count": null,
   "id": "de198b77",
   "metadata": {},
   "outputs": [
    {
     "data": {
      "text/plain": [
       "(2637824,)"
      ]
     },
     "execution_count": null,
     "metadata": {},
     "output_type": "execute_result"
    }
   ],
   "source": [
    "level_flat = level.flatten() ; level_flat.shape"
   ]
  },
  {
   "cell_type": "code",
   "execution_count": null,
   "id": "98aed7ae",
   "metadata": {},
   "outputs": [
    {
     "data": {
      "text/plain": [
       "True"
      ]
     },
     "execution_count": null,
     "metadata": {},
     "output_type": "execute_result"
    }
   ],
   "source": [
    "(level_flat.reshape(fluxo['Num_Traces'], -1) == level).all()"
   ]
  },
  {
   "cell_type": "code",
   "execution_count": null,
   "id": "d6c0da99",
   "metadata": {},
   "outputs": [],
   "source": [
    "header_key = 'rfeye002239_210618_T174320.bin'\n",
    "header_meta_json = json.dumps({k:str(v) for k,v in out.items() if k!= 'Fluxos'})\n",
    "combined_meta = {header_key.encode(): header_meta_json.encode()}\n",
    "\n",
    "for (btype, tid), fluxo in out['Fluxos'].items():\n",
    "    combined_meta = {header_key.encode(): header_meta_json.encode()}\n",
    "    meta_key = f'{btype}-{tid}_meta'    \n",
    "    table = pa.table({'Level_Data': fluxo['Level_Data'].flatten()}, nthreads=os.cpu_count())\n",
    "                    \n",
    "#         'Minimum_Level': fluxo['Minimum_Level'],\n",
    "#                       'Timestamp': fluxo['Timestamp']}, )\n",
    "    \n",
    "    existing_meta = table.schema.metadata\n",
    "    custom_meta = {k:str(v) for k,v in fluxo.items() if k not in ('Timestamp', 'Minimum_Level', 'Level_Data')}\n",
    "    \n",
    "    custom_meta_json = json.dumps(custom_meta)\n",
    "    custom_meta = {meta_key.encode() : custom_meta_json.encode()}\n",
    "    combined_meta.update(custom_meta)\n",
    "    table = table.replace_schema_metadata(combined_meta)\n",
    "    pq.write_table(table, f'{saida}/{header_key}_{btype}-{tid}.parquet', compression='GZIP') "
   ]
  },
  {
   "cell_type": "code",
   "execution_count": null,
   "id": "728c1365",
   "metadata": {},
   "outputs": [],
   "source": [
    "restored_table = pq.read_table(f'{saida}/{header_key}_67-300.parquet')"
   ]
  },
  {
   "cell_type": "code",
   "execution_count": null,
   "id": "7d1ae85e",
   "metadata": {},
   "outputs": [
    {
     "data": {
      "text/plain": [
       "{b'67-300_meta': b'{\"Initial_Time\": \"2021-06-18T17:47:03.155018000\", \"Sample_Duration\": \"11662.0\", \"Description\": \"PMEC 2021 (Faixa 1 de 10).\", \"Start_Frequency\": \"105\", \"Stop_Frequency\": \"140\", \"Trace_Type\": \"peak\", \"RBW\": \"18457\", \"Level_Units\": \"dBm\", \"Num_Traces\": \"4271\", \"Vector_Length\": \"3584\", \"Minimum_Level\": \"[-147.5 -147.5 -147.5 ... -147.5 -147.5 -147.5]\"}',\n",
       " b'rfeye002239_210618_T174320.bin': b'{\"File_Name\": \"rfeye002239_210618_T174320.bin\", \"File_Version\": \"23\", \"File_Type\": \"RFEye Logger Trace\", \"Device\": \"Rfeye Node\", \"Equipment_ID\": \"rfeye002239\", \"Script_Version\": \"ScriptRFeye2021_v2.cfg\", \"Latitude\": \"-23.442419052124023\", \"Longitude\": \"-46.4725227355957\", \"Altitude\": \"807.7999877929688\", \"Count_GPS\": \"4433\", \"Sum_Latitude\": \"-103920.25\", \"Sum_Longitude\": \"-206012.69\"}'}"
      ]
     },
     "execution_count": null,
     "metadata": {},
     "output_type": "execute_result"
    }
   ],
   "source": [
    "restored_table.schema.metadata"
   ]
  },
  {
   "cell_type": "code",
   "execution_count": null,
   "id": "e4d719a3",
   "metadata": {},
   "outputs": [],
   "source": [
    "restored_table[b'67-300']"
   ]
  },
  {
   "cell_type": "code",
   "execution_count": null,
   "id": "75751c19",
   "metadata": {},
   "outputs": [],
   "source": [
    "restored_df = restored_table.to_pandas()"
   ]
  },
  {
   "cell_type": "code",
   "execution_count": null,
   "id": "358aa45e",
   "metadata": {},
   "outputs": [
    {
     "data": {
      "text/html": [
       "<div>\n",
       "<style scoped>\n",
       "    .dataframe tbody tr th:only-of-type {\n",
       "        vertical-align: middle;\n",
       "    }\n",
       "\n",
       "    .dataframe tbody tr th {\n",
       "        vertical-align: top;\n",
       "    }\n",
       "\n",
       "    .dataframe thead th {\n",
       "        text-align: right;\n",
       "    }\n",
       "</style>\n",
       "<table border=\"1\" class=\"dataframe\">\n",
       "  <thead>\n",
       "    <tr style=\"text-align: right;\">\n",
       "      <th></th>\n",
       "      <th>Level_Data</th>\n",
       "    </tr>\n",
       "  </thead>\n",
       "  <tbody>\n",
       "    <tr>\n",
       "      <th>0</th>\n",
       "      <td>123</td>\n",
       "    </tr>\n",
       "    <tr>\n",
       "      <th>1</th>\n",
       "      <td>127</td>\n",
       "    </tr>\n",
       "    <tr>\n",
       "      <th>2</th>\n",
       "      <td>134</td>\n",
       "    </tr>\n",
       "    <tr>\n",
       "      <th>3</th>\n",
       "      <td>121</td>\n",
       "    </tr>\n",
       "    <tr>\n",
       "      <th>4</th>\n",
       "      <td>142</td>\n",
       "    </tr>\n",
       "  </tbody>\n",
       "</table>\n",
       "</div>"
      ],
      "text/plain": [
       "   Level_Data\n",
       "0         123\n",
       "1         127\n",
       "2         134\n",
       "3         121\n",
       "4         142"
      ]
     },
     "execution_count": null,
     "metadata": {},
     "output_type": "execute_result"
    }
   ],
   "source": [
    "restored_df.head()"
   ]
  },
  {
   "cell_type": "code",
   "execution_count": null,
   "id": "96d20ba7",
   "metadata": {},
   "outputs": [],
   "source": [
    "from math import pi\n",
    "from bokeh.io import show, output_notebook\n",
    "from bokeh.models import BasicTicker, ColorBar, LinearColorMapper, PrintfTickFormatter\n",
    "from bokeh.plotting import figure"
   ]
  },
  {
   "cell_type": "code",
   "execution_count": null,
   "id": "fd57660c",
   "metadata": {},
   "outputs": [],
   "source": [
    "data = pd.DataFrame(levels, index=timestamp, columns=frequencies)\n",
    "data.columns.name = \"Frequencies\"\n",
    "data.index.name = \"Time\"\n",
    "data.head()"
   ]
  },
  {
   "cell_type": "code",
   "execution_count": null,
   "id": "5cee3507",
   "metadata": {},
   "outputs": [],
   "source": [
    "df = pd.DataFrame(data.stack(), columns=['Levels']).reset_index() ; df.head()"
   ]
  },
  {
   "cell_type": "code",
   "execution_count": null,
   "id": "a8e63ea6",
   "metadata": {},
   "outputs": [],
   "source": [
    "frequencies"
   ]
  },
  {
   "cell_type": "code",
   "execution_count": null,
   "id": "8f64f3d4",
   "metadata": {},
   "outputs": [],
   "source": [
    "time = timestamp.tolist()\n",
    "frequencies = frequencies.astype('float32').tolist()"
   ]
  },
  {
   "cell_type": "code",
   "execution_count": null,
   "id": "4a97846e",
   "metadata": {},
   "outputs": [],
   "source": [
    "# this is the colormap from the original NYTimes plot\n",
    "colors = [\"#75968f\", \"#a5bab7\", \"#c9d9d3\", \"#e2e2e2\", \"#dfccce\", \"#ddb7b1\", \"#cc7878\", \"#933b41\", \"#550b1d\"]\n",
    "mapper = LinearColorMapper(palette=colors, low=df.Levels.min(), high=df.Levels.max())\n",
    "\n",
    "TOOLS = \"hover,save,pan,box_zoom,reset,wheel_zoom\"\n",
    "\n",
    "p = figure(title=\"Waterfall ({0} - {1})\".format(timestamp[0], timestamp[-1]),\n",
    "           x_range=frequencies, y_range=timestamp,\n",
    "           x_axis_label = 'Frequencies',\n",
    "           y_axis_label = 'Timestamp',\n",
    "           x_axis_location=\"above\", plot_width=1920, plot_height=1080,\n",
    "           tools=TOOLS, toolbar_location='below',\n",
    "           tooltips=[('Frequência', '@Frequencies'), ('Tempo', '@Time'), ('Nível', '@Levels')])\n",
    "\n",
    "p.grid.grid_line_color = None\n",
    "p.axis.axis_line_color = None\n",
    "p.axis.major_tick_line_color = None\n",
    "p.axis.major_tick_line_color = None\n",
    "p.axis.major_label_text_font_size = \"0px\"\n",
    "p.axis.major_label_standoff = 0\n",
    "p.xaxis.major_label_orientation = pi / 3\n",
    "\n",
    "p.rect(x=\"Frequencies\", \n",
    "       y=\"Time\", \n",
    "       width=1,\n",
    "       height=1, \n",
    "       source=df,\n",
    "       fill_color={'field': 'Levels', 'transform': mapper}, \n",
    "       line_color=None)\n",
    "\n",
    "\n",
    "\n",
    "color_bar = ColorBar(color_mapper=mapper, major_label_text_font_size=\"10px\",\n",
    "                 ticker=BasicTicker(desired_num_ticks=len(colors)),\n",
    "                 formatter=PrintfTickFormatter(format=\"%ddBm\"),\n",
    "                 label_standoff=6, border_line_color=None)\n",
    "\n",
    "p.add_layout(color_bar, 'right')\n",
    "\n",
    "show(p)      # show the plot"
   ]
  },
  {
   "cell_type": "code",
   "execution_count": null,
   "id": "a834bd0f",
   "metadata": {},
   "outputs": [],
   "source": []
  }
 ],
 "metadata": {
  "kernelspec": {
   "display_name": "Python 3",
   "language": "python",
   "name": "python3"
  }
 },
 "nbformat": 4,
 "nbformat_minor": 5
}
