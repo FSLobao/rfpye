{
 "cells": [
  {
   "cell_type": "code",
   "execution_count": null,
   "id": "a1c09848-5641-4b6f-b9d3-c2c56307f6a2",
   "metadata": {},
   "outputs": [],
   "source": [
    "#hide \n",
    "#Standard Lib imports\n",
    "import sys, os\n",
    "from pathlib import Path\n",
    "\n",
    "# Insert in Path Project Directory\n",
    "sys.path.insert(0, str(Path().cwd().parent))"
   ]
  },
  {
   "cell_type": "code",
   "execution_count": null,
   "id": "b8e681bb-741b-4126-96f7-fb2e30409293",
   "metadata": {},
   "outputs": [],
   "source": [
    "#hide\n",
    "%load_ext autoreload\n",
    "%autoreload 2 \n",
    "%config Completer.use_jedi = False"
   ]
  },
  {
   "cell_type": "code",
   "execution_count": null,
   "id": "68afc6db-dfab-42e9-aa50-0387c962c1b2",
   "metadata": {},
   "outputs": [],
   "source": [
    "from rfpye.parser import parse_bin, export_metadata, extract_level\n",
    "from rfpye.utils import get_files, df_optimize\n",
    "import numpy as np\n",
    "import pandas as pd\n",
    "from fastcore.foundation import L\n",
    "from rich import print"
   ]
  },
  {
   "cell_type": "code",
   "execution_count": null,
   "id": "bizarre-conducting",
   "metadata": {},
   "outputs": [],
   "source": [
    "entrada = Path(r'D:\\OneDrive - ANATEL\\Remote')\n",
    "saida = Path(r'C:\\Users\\rsilva\\Downloads\\saida')"
   ]
  },
  {
   "cell_type": "code",
   "execution_count": null,
   "id": "criminal-fetish",
   "metadata": {},
   "outputs": [
    {
     "data": {
      "text/plain": [
       "(#65) [Path('D:/OneDrive - ANATEL/Remote/rfeye002073/rfeye002073_210620_T231206.bin'),Path('D:/OneDrive - ANATEL/Remote/rfeye002080/rfeye002080_691231_T210111.bin'),Path('D:/OneDrive - ANATEL/Remote/rfeye002081/rfeye002081_210620_T232204.bin'),Path('D:/OneDrive - ANATEL/Remote/rfeye002083/rfeye002083_210621_T160001.bin'),Path('D:/OneDrive - ANATEL/Remote/rfeye002084/rfeye002084_210623_T144012.bin'),Path('D:/OneDrive - ANATEL/Remote/rfeye002086/rfeye002086_210622_T004723.bin'),Path('D:/OneDrive - ANATEL/Remote/rfeye002087/rfeye002087_210628_T224301.bin'),Path('D:/OneDrive - ANATEL/Remote/RFeye002090-VCP/rfeye002090-VCP_210623_T024236.bin'),Path('D:/OneDrive - ANATEL/Remote/rfeye002091/rfeye002091_210618_T145747.bin'),Path('D:/OneDrive - ANATEL/Remote/rfeye002092/rfeye002092_210603_T205009.bin')...]"
      ]
     },
     "execution_count": null,
     "metadata": {},
     "output_type": "execute_result"
    }
   ],
   "source": [
    "arquivos = get_files(entrada, extensions=['.bin']) ;  arquivos"
   ]
  },
  {
   "cell_type": "code",
   "execution_count": null,
   "id": "c8b51079-b875-43ac-a197-9be08f474272",
   "metadata": {},
   "outputs": [],
   "source": [
    "arquivo = arquivos[-1]"
   ]
  },
  {
   "cell_type": "code",
   "execution_count": null,
   "id": "d7dc99ed-d91b-438f-8c41-e37106b69327",
   "metadata": {},
   "outputs": [],
   "source": [
    "with open(arquivo, mode=\"rb\") as bfile:\n",
    "    # O primeiro bloco do arquivo é o cabeçalho e tem 36 bytes de tamanho.\n",
    "    header = bfile.read(36)\n",
    "    body = bfile.read()"
   ]
  },
  {
   "cell_type": "code",
   "execution_count": null,
   "id": "cefc9776-5dfe-4e41-8d0e-f13be974316c",
   "metadata": {},
   "outputs": [],
   "source": [
    "body = body.split(b'UUUU')"
   ]
  },
  {
   "cell_type": "code",
   "execution_count": null,
   "id": "bd702c69-6a65-4c43-876f-b0198e038a8a",
   "metadata": {},
   "outputs": [],
   "source": [
    "body = L(body)"
   ]
  },
  {
   "cell_type": "code",
   "execution_count": null,
   "id": "3cf89a65-5320-4dfd-8928-f2626a42b794",
   "metadata": {},
   "outputs": [
    {
     "data": {
      "text/plain": [
       "2199"
      ]
     },
     "execution_count": null,
     "metadata": {},
     "output_type": "execute_result"
    }
   ],
   "source": [
    "np.frombuffer(body[3][-4:], dtype=np.uint32).item()"
   ]
  },
  {
   "cell_type": "code",
   "execution_count": null,
   "id": "be0f7000-eafb-4029-bbe3-71cf0b750518",
   "metadata": {},
   "outputs": [
    {
     "data": {
      "text/plain": [
       "2199"
      ]
     },
     "execution_count": null,
     "metadata": {},
     "output_type": "execute_result"
    }
   ],
   "source": [
    "np.frombuffer(body[3][:-4], dtype=np.uint8).sum().astype(np.uint32).item()"
   ]
  },
  {
   "cell_type": "code",
   "execution_count": null,
   "id": "279b34e0-ad1e-4f3f-93a4-39ad0bedb22e",
   "metadata": {},
   "outputs": [
    {
     "data": {
      "text/plain": [
       "(#44261) [64,68,120,40,3732,1148,40,3732,1148,40...]"
      ]
     },
     "execution_count": null,
     "metadata": {},
     "output_type": "execute_result"
    }
   ],
   "source": [
    "body.map(lambda x: len(x[12:-4]))"
   ]
  },
  {
   "cell_type": "code",
   "execution_count": null,
   "id": "2c847a17-89eb-4c3c-943d-35e9fd95c9b1",
   "metadata": {},
   "outputs": [
    {
     "name": "stdout",
     "output_type": "stream",
     "text": [
      "Wall time: 3.27 s\n"
     ]
    }
   ],
   "source": [
    "%%time\n",
    "btypes = [21, 40, 67, 68]\n",
    "parsed_bin = parse_bin(arquivo, btypes)"
   ]
  },
  {
   "cell_type": "code",
   "execution_count": null,
   "id": "9590fa29-af51-4815-a4be-19539db94383",
   "metadata": {},
   "outputs": [],
   "source": [
    "blocks = parsed_bin['blocks']"
   ]
  },
  {
   "cell_type": "code",
   "execution_count": null,
   "id": "a9b353b7-08a5-4f19-ae7e-5b494b3f5f8d",
   "metadata": {},
   "outputs": [
    {
     "data": {
      "text/plain": [
       "defaultdict(fastcore.foundation.L,\n",
       "            {(21,\n",
       "              0): (#1) [<rfpye.blocks.DType21 object at 0x000001F630AF88C8>],\n",
       "             (40,\n",
       "              1): (#9057) [<rfpye.blocks.DType40 object at 0x000001F630AF8948>,<rfpye.blocks.DType40 object at 0x000001F630AF8F08>,<rfpye.blocks.DType40 object at 0x000001F635B39488>,<rfpye.blocks.DType40 object at 0x000001F635B399C8>,<rfpye.blocks.DType40 object at 0x000001F635B46D08>,<rfpye.blocks.DType40 object at 0x000001F635B476C8>,<rfpye.blocks.DType40 object at 0x000001F635B47F48>,<rfpye.blocks.DType40 object at 0x000001F635B49808>,<rfpye.blocks.DType40 object at 0x000001F630AE2688>,<rfpye.blocks.DType40 object at 0x000001F635B47688>...],\n",
       "             (67,\n",
       "              300): (#9057) [<rfpye.blocks.DType67 object at 0x000001F630AF8A48>,<rfpye.blocks.DType67 object at 0x000001F630AF8FC8>,<rfpye.blocks.DType67 object at 0x000001F635B39548>,<rfpye.blocks.DType67 object at 0x000001F635B3C308>,<rfpye.blocks.DType67 object at 0x000001F635B46E48>,<rfpye.blocks.DType67 object at 0x000001F635B47788>,<rfpye.blocks.DType67 object at 0x000001F635B49048>,<rfpye.blocks.DType67 object at 0x000001F635B498C8>,<rfpye.blocks.DType67 object at 0x000001F635B4D2C8>,<rfpye.blocks.DType67 object at 0x000001F635B4DA88>...],\n",
       "             (67,\n",
       "              310): (#9057) [<rfpye.blocks.DType67 object at 0x000001F630AF8C88>,<rfpye.blocks.DType67 object at 0x000001F635B39248>,<rfpye.blocks.DType67 object at 0x000001F635B39788>,<rfpye.blocks.DType67 object at 0x000001F635B3C708>,<rfpye.blocks.DType67 object at 0x000001F635B472C8>,<rfpye.blocks.DType67 object at 0x000001F635B47B88>,<rfpye.blocks.DType67 object at 0x000001F635B49448>,<rfpye.blocks.DType67 object at 0x000001F635B49CC8>,<rfpye.blocks.DType67 object at 0x000001F635B47288>,<rfpye.blocks.DType67 object at 0x000001F635B4DE88>...],\n",
       "             (67,\n",
       "              100): (#1811) [<rfpye.blocks.DType67 object at 0x000001F635B39A88>,<rfpye.blocks.DType67 object at 0x000001F635B46E08>,<rfpye.blocks.DType67 object at 0x000001F635B4FD08>,<rfpye.blocks.DType67 object at 0x000001F635B58788>,<rfpye.blocks.DType67 object at 0x000001F635B67748>,<rfpye.blocks.DType67 object at 0x000001F635B6D2C8>,<rfpye.blocks.DType67 object at 0x000001F635B74D08>,<rfpye.blocks.DType67 object at 0x000001F635B7F688>,<rfpye.blocks.DType67 object at 0x000001F635B82648>,<rfpye.blocks.DType67 object at 0x000001F635B87508>...],\n",
       "             (67,\n",
       "              110): (#1811) [<rfpye.blocks.DType67 object at 0x000001F635B39D08>,<rfpye.blocks.DType67 object at 0x000001F630ADED08>,<rfpye.blocks.DType67 object at 0x000001F635B51148>,<rfpye.blocks.DType67 object at 0x000001F635B58B88>,<rfpye.blocks.DType67 object at 0x000001F635B67B88>,<rfpye.blocks.DType67 object at 0x000001F635B6D6C8>,<rfpye.blocks.DType67 object at 0x000001F635B77148>,<rfpye.blocks.DType67 object at 0x000001F635B7F788>,<rfpye.blocks.DType67 object at 0x000001F635B67B48>,<rfpye.blocks.DType67 object at 0x000001F635B87608>...],\n",
       "             (67,\n",
       "              120): (#1811) [<rfpye.blocks.DType67 object at 0x000001F635B3D0C8>,<rfpye.blocks.DType67 object at 0x000001F630ADE7C8>,<rfpye.blocks.DType67 object at 0x000001F635B51508>,<rfpye.blocks.DType67 object at 0x000001F635B58F48>,<rfpye.blocks.DType67 object at 0x000001F635B67F88>,<rfpye.blocks.DType67 object at 0x000001F635B6DA88>,<rfpye.blocks.DType67 object at 0x000001F635B77508>,<rfpye.blocks.DType67 object at 0x000001F635B7F848>,<rfpye.blocks.DType67 object at 0x000001F635B67F48>,<rfpye.blocks.DType67 object at 0x000001F635B876C8>...],\n",
       "             (67,\n",
       "              130): (#1811) [<rfpye.blocks.DType67 object at 0x000001F635B3D4C8>,<rfpye.blocks.DType67 object at 0x000001F635B49EC8>,<rfpye.blocks.DType67 object at 0x000001F635B518C8>,<rfpye.blocks.DType67 object at 0x000001F635B5A348>,<rfpye.blocks.DType67 object at 0x000001F635B693C8>,<rfpye.blocks.DType67 object at 0x000001F635B6DE48>,<rfpye.blocks.DType67 object at 0x000001F635B778C8>,<rfpye.blocks.DType67 object at 0x000001F635B7F908>,<rfpye.blocks.DType67 object at 0x000001F635B69388>,<rfpye.blocks.DType67 object at 0x000001F635B87788>...],\n",
       "             (67,\n",
       "              200): (#604) [<rfpye.blocks.DType67 object at 0x000001F635B3D908>,<rfpye.blocks.DType67 object at 0x000001F635B5A708>,<rfpye.blocks.DType67 object at 0x000001F635B77C88>,<rfpye.blocks.DType67 object at 0x000001F635B87848>,<rfpye.blocks.DType67 object at 0x000001F635B99248>,<rfpye.blocks.DType67 object at 0x000001F635BA5F88>,<rfpye.blocks.DType67 object at 0x000001F635BB7988>,<rfpye.blocks.DType67 object at 0x000001F635BC8388>,<rfpye.blocks.DType67 object at 0x000001F635BD6D48>,<rfpye.blocks.DType67 object at 0x000001F635BE5E08>...],\n",
       "             (67,\n",
       "              210): (#604) [<rfpye.blocks.DType67 object at 0x000001F635B3DD48>,<rfpye.blocks.DType67 object at 0x000001F635B5AAC8>,<rfpye.blocks.DType67 object at 0x000001F635B79088>,<rfpye.blocks.DType67 object at 0x000001F635B87908>,<rfpye.blocks.DType67 object at 0x000001F635B99348>,<rfpye.blocks.DType67 object at 0x000001F635BAA088>,<rfpye.blocks.DType67 object at 0x000001F635BB7A48>,<rfpye.blocks.DType67 object at 0x000001F635BC8448>,<rfpye.blocks.DType67 object at 0x000001F635B99308>,<rfpye.blocks.DType67 object at 0x000001F635BE5EC8>...],\n",
       "             (67,\n",
       "              220): (#604) [<rfpye.blocks.DType67 object at 0x000001F635B401C8>,<rfpye.blocks.DType67 object at 0x000001F635B5AE88>,<rfpye.blocks.DType67 object at 0x000001F635B79448>,<rfpye.blocks.DType67 object at 0x000001F635B879C8>,<rfpye.blocks.DType67 object at 0x000001F635B99448>,<rfpye.blocks.DType67 object at 0x000001F635BAA148>,<rfpye.blocks.DType67 object at 0x000001F635BB7B08>,<rfpye.blocks.DType67 object at 0x000001F635BC8508>,<rfpye.blocks.DType67 object at 0x000001F635B99408>,<rfpye.blocks.DType67 object at 0x000001F635BE5F88>...],\n",
       "             (67,\n",
       "              230): (#604) [<rfpye.blocks.DType67 object at 0x000001F635B40608>,<rfpye.blocks.DType67 object at 0x000001F635B5C288>,<rfpye.blocks.DType67 object at 0x000001F635B79808>,<rfpye.blocks.DType67 object at 0x000001F635B87A88>,<rfpye.blocks.DType67 object at 0x000001F635B99548>,<rfpye.blocks.DType67 object at 0x000001F635BAA208>,<rfpye.blocks.DType67 object at 0x000001F635BB7BC8>,<rfpye.blocks.DType67 object at 0x000001F635BC85C8>,<rfpye.blocks.DType67 object at 0x000001F635B99508>,<rfpye.blocks.DType67 object at 0x000001F635BEA088>...],\n",
       "             (67,\n",
       "              240): (#604) [<rfpye.blocks.DType67 object at 0x000001F635B40A48>,<rfpye.blocks.DType67 object at 0x000001F635B5C648>,<rfpye.blocks.DType67 object at 0x000001F635B79BC8>,<rfpye.blocks.DType67 object at 0x000001F635B87B48>,<rfpye.blocks.DType67 object at 0x000001F635B99648>,<rfpye.blocks.DType67 object at 0x000001F635BAA2C8>,<rfpye.blocks.DType67 object at 0x000001F635BB7C88>,<rfpye.blocks.DType67 object at 0x000001F635BC8688>,<rfpye.blocks.DType67 object at 0x000001F635B99608>,<rfpye.blocks.DType67 object at 0x000001F635BEA148>...],\n",
       "             (67,\n",
       "              250): (#604) [<rfpye.blocks.DType67 object at 0x000001F635B40E88>,<rfpye.blocks.DType67 object at 0x000001F635B5CA08>,<rfpye.blocks.DType67 object at 0x000001F635B79F88>,<rfpye.blocks.DType67 object at 0x000001F635B87C08>,<rfpye.blocks.DType67 object at 0x000001F635B99748>,<rfpye.blocks.DType67 object at 0x000001F635BAA388>,<rfpye.blocks.DType67 object at 0x000001F635BB7D48>,<rfpye.blocks.DType67 object at 0x000001F635BC8748>,<rfpye.blocks.DType67 object at 0x000001F635B99708>,<rfpye.blocks.DType67 object at 0x000001F635BEA208>...],\n",
       "             (67,\n",
       "              320): (#604) [<rfpye.blocks.DType67 object at 0x000001F635B3CAC8>,<rfpye.blocks.DType67 object at 0x000001F635B5E588>,<rfpye.blocks.DType67 object at 0x000001F635B7B588>,<rfpye.blocks.DType67 object at 0x000001F635B87E48>,<rfpye.blocks.DType67 object at 0x000001F635B999C8>,<rfpye.blocks.DType67 object at 0x000001F635BAA5C8>,<rfpye.blocks.DType67 object at 0x000001F635BB7F88>,<rfpye.blocks.DType67 object at 0x000001F635BC8988>,<rfpye.blocks.DType67 object at 0x000001F635BDB208>,<rfpye.blocks.DType67 object at 0x000001F635BEA448>...],\n",
       "             (67,\n",
       "              330): (#604) [<rfpye.blocks.DType67 object at 0x000001F635B3CEC8>,<rfpye.blocks.DType67 object at 0x000001F635B5E948>,<rfpye.blocks.DType67 object at 0x000001F635B7B648>,<rfpye.blocks.DType67 object at 0x000001F635B87F08>,<rfpye.blocks.DType67 object at 0x000001F635B99AC8>,<rfpye.blocks.DType67 object at 0x000001F635BAA688>,<rfpye.blocks.DType67 object at 0x000001F635BBC088>,<rfpye.blocks.DType67 object at 0x000001F635BC8A48>,<rfpye.blocks.DType67 object at 0x000001F635B99A88>,<rfpye.blocks.DType67 object at 0x000001F635BEA508>...],\n",
       "             (67,\n",
       "              340): (#604) [<rfpye.blocks.DType67 object at 0x000001F635B43348>,<rfpye.blocks.DType67 object at 0x000001F635B5ED08>,<rfpye.blocks.DType67 object at 0x000001F635B7B708>,<rfpye.blocks.DType67 object at 0x000001F635B87FC8>,<rfpye.blocks.DType67 object at 0x000001F635B99BC8>,<rfpye.blocks.DType67 object at 0x000001F635BAA748>,<rfpye.blocks.DType67 object at 0x000001F635BBC148>,<rfpye.blocks.DType67 object at 0x000001F635BC8B08>,<rfpye.blocks.DType67 object at 0x000001F635B99B88>,<rfpye.blocks.DType67 object at 0x000001F635BEA5C8>...],\n",
       "             (67,\n",
       "              350): (#604) [<rfpye.blocks.DType67 object at 0x000001F635B43788>,<rfpye.blocks.DType67 object at 0x000001F635B60108>,<rfpye.blocks.DType67 object at 0x000001F635B7B7C8>,<rfpye.blocks.DType67 object at 0x000001F635B8C0C8>,<rfpye.blocks.DType67 object at 0x000001F635B99CC8>,<rfpye.blocks.DType67 object at 0x000001F635BAA808>,<rfpye.blocks.DType67 object at 0x000001F635BBC208>,<rfpye.blocks.DType67 object at 0x000001F635BC8BC8>,<rfpye.blocks.DType67 object at 0x000001F635B99C88>,<rfpye.blocks.DType67 object at 0x000001F635BEA688>...],\n",
       "             (67,\n",
       "              360): (#604) [<rfpye.blocks.DType67 object at 0x000001F635B43BC8>,<rfpye.blocks.DType67 object at 0x000001F635B604C8>,<rfpye.blocks.DType67 object at 0x000001F635B7B888>,<rfpye.blocks.DType67 object at 0x000001F635B8C188>,<rfpye.blocks.DType67 object at 0x000001F635B99DC8>,<rfpye.blocks.DType67 object at 0x000001F635BAA8C8>,<rfpye.blocks.DType67 object at 0x000001F635BBC2C8>,<rfpye.blocks.DType67 object at 0x000001F635BC8C88>,<rfpye.blocks.DType67 object at 0x000001F635B99D88>,<rfpye.blocks.DType67 object at 0x000001F635BEA748>...],\n",
       "             (67,\n",
       "              370): (#604) [<rfpye.blocks.DType67 object at 0x000001F635B46048>,<rfpye.blocks.DType67 object at 0x000001F635B60888>,<rfpye.blocks.DType67 object at 0x000001F635B7B948>,<rfpye.blocks.DType67 object at 0x000001F635B8C248>,<rfpye.blocks.DType67 object at 0x000001F635B99EC8>,<rfpye.blocks.DType67 object at 0x000001F635BAA988>,<rfpye.blocks.DType67 object at 0x000001F635BBC388>,<rfpye.blocks.DType67 object at 0x000001F635BC8D48>,<rfpye.blocks.DType67 object at 0x000001F635B99E88>,<rfpye.blocks.DType67 object at 0x000001F635BEA808>...],\n",
       "             (67,\n",
       "              380): (#604) [<rfpye.blocks.DType67 object at 0x000001F635B46488>,<rfpye.blocks.DType67 object at 0x000001F635B60C48>,<rfpye.blocks.DType67 object at 0x000001F635B7BA08>,<rfpye.blocks.DType67 object at 0x000001F635B8C308>,<rfpye.blocks.DType67 object at 0x000001F635B99FC8>,<rfpye.blocks.DType67 object at 0x000001F635BAAA48>,<rfpye.blocks.DType67 object at 0x000001F635BBC448>,<rfpye.blocks.DType67 object at 0x000001F635BC8E08>,<rfpye.blocks.DType67 object at 0x000001F635B99F88>,<rfpye.blocks.DType67 object at 0x000001F635BEA8C8>...],\n",
       "             (67,\n",
       "              390): (#604) [<rfpye.blocks.DType67 object at 0x000001F635B468C8>,<rfpye.blocks.DType67 object at 0x000001F635B62048>,<rfpye.blocks.DType67 object at 0x000001F635B7BAC8>,<rfpye.blocks.DType67 object at 0x000001F635B8C3C8>,<rfpye.blocks.DType67 object at 0x000001F635B9D108>,<rfpye.blocks.DType67 object at 0x000001F635BAAB08>,<rfpye.blocks.DType67 object at 0x000001F635BBC508>,<rfpye.blocks.DType67 object at 0x000001F635BC8EC8>,<rfpye.blocks.DType67 object at 0x000001F635B9D0C8>,<rfpye.blocks.DType67 object at 0x000001F635BEA988>...]})"
      ]
     },
     "execution_count": null,
     "metadata": {},
     "output_type": "execute_result"
    }
   ],
   "source": [
    "blocks"
   ]
  },
  {
   "cell_type": "code",
   "execution_count": null,
   "id": "0b47590c-f662-42ad-ab9c-2e174a6f90b4",
   "metadata": {},
   "outputs": [],
   "source": [
    "d = {}\n",
    "for (btype, tid), list_blocks in blocks.items():\n",
    "    if btype == 67:\n",
    "        d[btype, tid] = list_blocks.map(lambda x: len(x.data[x.start:x.stop]) != x.ndata).sum()"
   ]
  },
  {
   "cell_type": "code",
   "execution_count": null,
   "id": "b1b89cb4-f97e-489c-90cf-5987ca1dee6c",
   "metadata": {},
   "outputs": [
    {
     "data": {
      "text/plain": [
       "{(67, 300): 1,\n",
       " (67, 310): 0,\n",
       " (67, 100): 0,\n",
       " (67, 110): 0,\n",
       " (67, 120): 0,\n",
       " (67, 130): 0,\n",
       " (67, 200): 73,\n",
       " (67, 210): 165,\n",
       " (67, 220): 3,\n",
       " (67, 230): 78,\n",
       " (67, 240): 100,\n",
       " (67, 250): 231,\n",
       " (67, 320): 0,\n",
       " (67, 330): 0,\n",
       " (67, 340): 115,\n",
       " (67, 350): 55,\n",
       " (67, 360): 93,\n",
       " (67, 370): 129,\n",
       " (67, 380): 6,\n",
       " (67, 390): 10}"
      ]
     },
     "execution_count": null,
     "metadata": {},
     "output_type": "execute_result"
    }
   ],
   "source": [
    "d"
   ]
  },
  {
   "cell_type": "code",
   "execution_count": null,
   "id": "2295ea99-5f6e-4c5a-94fc-d37080787c82",
   "metadata": {},
   "outputs": [],
   "source": [
    "%%time\n",
    "metadata = export_metadata(blocks)"
   ]
  },
  {
   "cell_type": "code",
   "execution_count": null,
   "id": "ac764afe",
   "metadata": {},
   "outputs": [],
   "source": [
    "metadata.keys()"
   ]
  },
  {
   "cell_type": "code",
   "execution_count": null,
   "id": "afbaeb7e-92e0-4e56-a9ff-7bdd8aa26c7a",
   "metadata": {},
   "outputs": [],
   "source": [
    "metadata[40, 1].head()"
   ]
  },
  {
   "cell_type": "code",
   "execution_count": null,
   "id": "794d7a04-ff36-4b0a-ba6c-97300b76c957",
   "metadata": {},
   "outputs": [],
   "source": [
    "metadata[67, 300].iloc[0]"
   ]
  },
  {
   "cell_type": "code",
   "execution_count": null,
   "id": "7d3cd133-6463-4b26-a85d-81fd8a8e5c79",
   "metadata": {},
   "outputs": [],
   "source": [
    "filter_attrs = {21: ['hostname', 'method'],\n",
    "                40: ['altitude', 'latitude', 'longitude'],\n",
    "                67: ['wallclock_datetime', 'sample', 'minimum', 'ndata', 'processing', 'bw', 'data_type', 'description', 'start_mega', 'stop_mega']}\n",
    "metadata = export_metadata(blocks, filter_attrs)"
   ]
  },
  {
   "cell_type": "code",
   "execution_count": null,
   "id": "fea25bd2-81fe-4fdf-9f4c-c94234b8a56c",
   "metadata": {},
   "outputs": [
    {
     "data": {
      "text/html": [
       "<div>\n",
       "<style scoped>\n",
       "    .dataframe tbody tr th:only-of-type {\n",
       "        vertical-align: middle;\n",
       "    }\n",
       "\n",
       "    .dataframe tbody tr th {\n",
       "        vertical-align: top;\n",
       "    }\n",
       "\n",
       "    .dataframe thead th {\n",
       "        text-align: right;\n",
       "    }\n",
       "</style>\n",
       "<table border=\"1\" class=\"dataframe\">\n",
       "  <thead>\n",
       "    <tr style=\"text-align: right;\">\n",
       "      <th></th>\n",
       "      <th>hostname</th>\n",
       "      <th>method</th>\n",
       "    </tr>\n",
       "  </thead>\n",
       "  <tbody>\n",
       "    <tr>\n",
       "      <th>0</th>\n",
       "      <td>rfeye002345</td>\n",
       "      <td>ScriptRFeye2021_v2.cfg</td>\n",
       "    </tr>\n",
       "  </tbody>\n",
       "</table>\n",
       "</div>"
      ],
      "text/plain": [
       "      hostname                  method\n",
       "0  rfeye002345  ScriptRFeye2021_v2.cfg"
      ]
     },
     "execution_count": null,
     "metadata": {},
     "output_type": "execute_result"
    }
   ],
   "source": [
    "metadata[21,0]"
   ]
  },
  {
   "cell_type": "code",
   "execution_count": null,
   "id": "976d8e06-eebb-463f-90b9-260c98b4b135",
   "metadata": {},
   "outputs": [
    {
     "data": {
      "text/html": [
       "<div>\n",
       "<style scoped>\n",
       "    .dataframe tbody tr th:only-of-type {\n",
       "        vertical-align: middle;\n",
       "    }\n",
       "\n",
       "    .dataframe tbody tr th {\n",
       "        vertical-align: top;\n",
       "    }\n",
       "\n",
       "    .dataframe thead th {\n",
       "        text-align: right;\n",
       "    }\n",
       "</style>\n",
       "<table border=\"1\" class=\"dataframe\">\n",
       "  <thead>\n",
       "    <tr style=\"text-align: right;\">\n",
       "      <th></th>\n",
       "      <th>altitude</th>\n",
       "      <th>latitude</th>\n",
       "      <th>longitude</th>\n",
       "    </tr>\n",
       "  </thead>\n",
       "  <tbody>\n",
       "    <tr>\n",
       "      <th>0</th>\n",
       "      <td>19.799999</td>\n",
       "      <td>-29.990238</td>\n",
       "      <td>-51.169189</td>\n",
       "    </tr>\n",
       "    <tr>\n",
       "      <th>1</th>\n",
       "      <td>21.000000</td>\n",
       "      <td>-29.990234</td>\n",
       "      <td>-51.169201</td>\n",
       "    </tr>\n",
       "    <tr>\n",
       "      <th>2</th>\n",
       "      <td>20.200001</td>\n",
       "      <td>-29.990240</td>\n",
       "      <td>-51.169201</td>\n",
       "    </tr>\n",
       "    <tr>\n",
       "      <th>3</th>\n",
       "      <td>17.900000</td>\n",
       "      <td>-29.990227</td>\n",
       "      <td>-51.169209</td>\n",
       "    </tr>\n",
       "    <tr>\n",
       "      <th>4</th>\n",
       "      <td>14.500000</td>\n",
       "      <td>-29.990217</td>\n",
       "      <td>-51.169209</td>\n",
       "    </tr>\n",
       "    <tr>\n",
       "      <th>...</th>\n",
       "      <td>...</td>\n",
       "      <td>...</td>\n",
       "      <td>...</td>\n",
       "    </tr>\n",
       "    <tr>\n",
       "      <th>9052</th>\n",
       "      <td>15.100000</td>\n",
       "      <td>-29.990221</td>\n",
       "      <td>-51.169212</td>\n",
       "    </tr>\n",
       "    <tr>\n",
       "      <th>9053</th>\n",
       "      <td>13.000000</td>\n",
       "      <td>-29.990211</td>\n",
       "      <td>-51.169220</td>\n",
       "    </tr>\n",
       "    <tr>\n",
       "      <th>9054</th>\n",
       "      <td>11.800000</td>\n",
       "      <td>-29.990223</td>\n",
       "      <td>-51.169205</td>\n",
       "    </tr>\n",
       "    <tr>\n",
       "      <th>9055</th>\n",
       "      <td>19.299999</td>\n",
       "      <td>-29.990215</td>\n",
       "      <td>-51.169186</td>\n",
       "    </tr>\n",
       "    <tr>\n",
       "      <th>9056</th>\n",
       "      <td>14.800000</td>\n",
       "      <td>-29.990215</td>\n",
       "      <td>-51.169209</td>\n",
       "    </tr>\n",
       "  </tbody>\n",
       "</table>\n",
       "<p>9057 rows × 3 columns</p>\n",
       "</div>"
      ],
      "text/plain": [
       "       altitude   latitude  longitude\n",
       "0     19.799999 -29.990238 -51.169189\n",
       "1     21.000000 -29.990234 -51.169201\n",
       "2     20.200001 -29.990240 -51.169201\n",
       "3     17.900000 -29.990227 -51.169209\n",
       "4     14.500000 -29.990217 -51.169209\n",
       "...         ...        ...        ...\n",
       "9052  15.100000 -29.990221 -51.169212\n",
       "9053  13.000000 -29.990211 -51.169220\n",
       "9054  11.800000 -29.990223 -51.169205\n",
       "9055  19.299999 -29.990215 -51.169186\n",
       "9056  14.800000 -29.990215 -51.169209\n",
       "\n",
       "[9057 rows x 3 columns]"
      ]
     },
     "execution_count": null,
     "metadata": {},
     "output_type": "execute_result"
    }
   ],
   "source": [
    "metadata[40, 1]"
   ]
  },
  {
   "cell_type": "code",
   "execution_count": null,
   "id": "3215c5c9-57be-4002-a9ce-d3cefa78851c",
   "metadata": {},
   "outputs": [
    {
     "data": {
      "text/html": [
       "<div>\n",
       "<style scoped>\n",
       "    .dataframe tbody tr th:only-of-type {\n",
       "        vertical-align: middle;\n",
       "    }\n",
       "\n",
       "    .dataframe tbody tr th {\n",
       "        vertical-align: top;\n",
       "    }\n",
       "\n",
       "    .dataframe thead th {\n",
       "        text-align: right;\n",
       "    }\n",
       "</style>\n",
       "<table border=\"1\" class=\"dataframe\">\n",
       "  <thead>\n",
       "    <tr style=\"text-align: right;\">\n",
       "      <th></th>\n",
       "      <th>sample</th>\n",
       "      <th>minimum</th>\n",
       "      <th>ndata</th>\n",
       "      <th>processing</th>\n",
       "      <th>bw</th>\n",
       "      <th>data_type</th>\n",
       "      <th>description</th>\n",
       "      <th>start_mega</th>\n",
       "      <th>stop_mega</th>\n",
       "    </tr>\n",
       "    <tr>\n",
       "      <th>wallclock_datetime</th>\n",
       "      <th></th>\n",
       "      <th></th>\n",
       "      <th></th>\n",
       "      <th></th>\n",
       "      <th></th>\n",
       "      <th></th>\n",
       "      <th></th>\n",
       "      <th></th>\n",
       "      <th></th>\n",
       "    </tr>\n",
       "  </thead>\n",
       "  <tbody>\n",
       "    <tr>\n",
       "      <th>2021-06-24 11:15:00.931540</th>\n",
       "      <td>5858</td>\n",
       "      <td>-74.5</td>\n",
       "      <td>1280</td>\n",
       "      <td>peak</td>\n",
       "      <td>73828</td>\n",
       "      <td>dBμV/m</td>\n",
       "      <td>PRD 2021 (Faixa principal 3 de 4).</td>\n",
       "      <td>170</td>\n",
       "      <td>220</td>\n",
       "    </tr>\n",
       "    <tr>\n",
       "      <th>2021-06-24 11:20:00.833120</th>\n",
       "      <td>5858</td>\n",
       "      <td>-76.5</td>\n",
       "      <td>1280</td>\n",
       "      <td>peak</td>\n",
       "      <td>73828</td>\n",
       "      <td>dBμV/m</td>\n",
       "      <td>PRD 2021 (Faixa principal 3 de 4).</td>\n",
       "      <td>170</td>\n",
       "      <td>220</td>\n",
       "    </tr>\n",
       "    <tr>\n",
       "      <th>2021-06-24 11:25:00.832160</th>\n",
       "      <td>5860</td>\n",
       "      <td>-74.5</td>\n",
       "      <td>1280</td>\n",
       "      <td>peak</td>\n",
       "      <td>73828</td>\n",
       "      <td>dBμV/m</td>\n",
       "      <td>PRD 2021 (Faixa principal 3 de 4).</td>\n",
       "      <td>170</td>\n",
       "      <td>220</td>\n",
       "    </tr>\n",
       "    <tr>\n",
       "      <th>2021-06-24 11:30:00.831240</th>\n",
       "      <td>5855</td>\n",
       "      <td>-72.5</td>\n",
       "      <td>1280</td>\n",
       "      <td>peak</td>\n",
       "      <td>73828</td>\n",
       "      <td>dBμV/m</td>\n",
       "      <td>PRD 2021 (Faixa principal 3 de 4).</td>\n",
       "      <td>170</td>\n",
       "      <td>220</td>\n",
       "    </tr>\n",
       "    <tr>\n",
       "      <th>2021-06-24 11:35:00.832530</th>\n",
       "      <td>5852</td>\n",
       "      <td>-74.5</td>\n",
       "      <td>1280</td>\n",
       "      <td>peak</td>\n",
       "      <td>73828</td>\n",
       "      <td>dBμV/m</td>\n",
       "      <td>PRD 2021 (Faixa principal 3 de 4).</td>\n",
       "      <td>170</td>\n",
       "      <td>220</td>\n",
       "    </tr>\n",
       "  </tbody>\n",
       "</table>\n",
       "</div>"
      ],
      "text/plain": [
       "                            sample  minimum  ndata processing     bw  \\\n",
       "wallclock_datetime                                                     \n",
       "2021-06-24 11:15:00.931540    5858    -74.5   1280       peak  73828   \n",
       "2021-06-24 11:20:00.833120    5858    -76.5   1280       peak  73828   \n",
       "2021-06-24 11:25:00.832160    5860    -74.5   1280       peak  73828   \n",
       "2021-06-24 11:30:00.831240    5855    -72.5   1280       peak  73828   \n",
       "2021-06-24 11:35:00.832530    5852    -74.5   1280       peak  73828   \n",
       "\n",
       "                           data_type                         description  \\\n",
       "wallclock_datetime                                                         \n",
       "2021-06-24 11:15:00.931540    dBμV/m  PRD 2021 (Faixa principal 3 de 4).   \n",
       "2021-06-24 11:20:00.833120    dBμV/m  PRD 2021 (Faixa principal 3 de 4).   \n",
       "2021-06-24 11:25:00.832160    dBμV/m  PRD 2021 (Faixa principal 3 de 4).   \n",
       "2021-06-24 11:30:00.831240    dBμV/m  PRD 2021 (Faixa principal 3 de 4).   \n",
       "2021-06-24 11:35:00.832530    dBμV/m  PRD 2021 (Faixa principal 3 de 4).   \n",
       "\n",
       "                            start_mega  stop_mega  \n",
       "wallclock_datetime                                 \n",
       "2021-06-24 11:15:00.931540         170        220  \n",
       "2021-06-24 11:20:00.833120         170        220  \n",
       "2021-06-24 11:25:00.832160         170        220  \n",
       "2021-06-24 11:30:00.831240         170        220  \n",
       "2021-06-24 11:35:00.832530         170        220  "
      ]
     },
     "execution_count": null,
     "metadata": {},
     "output_type": "execute_result"
    }
   ],
   "source": [
    "metadata[67, 120].head()"
   ]
  },
  {
   "cell_type": "code",
   "execution_count": null,
   "id": "7c75787f-15a1-4751-8bc8-fa9df8520811",
   "metadata": {},
   "outputs": [],
   "source": [
    "out = dict()\n",
    "out['File_Name'] = arquivo.name\n",
    "out['File_Version'] = parsed_bin['file_version']\n",
    "out['File_Type'] = 'RFEye Logger Trace'\n",
    "out['Device'] = 'Rfeye Node' \n",
    "out['Fluxos'] = dict()\n",
    "fluxos = L()\n",
    "for (btype, tid), df in metadata.items():\n",
    "    if btype == 21:\n",
    "        out['Equipment_ID'] = df.hostname.item()\n",
    "        out['Script_Version'] = df.method.item()\n",
    "    elif btype == 40:\n",
    "        out['Latitude'] = df.latitude.mean()\n",
    "        out['Longitude'] = df.longitude.mean()\n",
    "        out['Altitude'] = df.altitude.mean()\n",
    "        out['Count_GPS'] = df.shape[0]\n",
    "        out['Sum_Latitude']  = df.latitude.sum()\n",
    "        out['Sum_Longitude'] = df.longitude.sum()\n",
    "    elif btype == 67:\n",
    "        timestamp = df.index.values        \n",
    "        level = dict()\n",
    "        level['Initial_Time'] = timestamp.min()\n",
    "        level['Final_Time'] = timestamp.max()\n",
    "        level['Sample_Duration'] = df['sample'].median()        \n",
    "        fluxo = df.drop(['minimum', 'sample'], axis=1).iloc[0]\n",
    "        level['Description'] = fluxo.description\n",
    "        level['Start_Frequency'] = fluxo.start_mega\n",
    "        level['Stop_Frequency'] = fluxo.stop_mega\n",
    "        level['Trace_Type'] = fluxo.processing\n",
    "        level['RBW'] = fluxo.bw\n",
    "        level['Level_Units'] = fluxo.data_type\n",
    "        level['Vector_Length'] = fluxo.ndata\n",
    "        level['Timestamp'] = timestamp\n",
    "        level_matrix = extract_level(blocks[(btype, tid)], dtype=np.float16)\n",
    "        level['Level_Data'] = level_matrix\n",
    "        out['Fluxos'][(btype, tid)] =  level"
   ]
  },
  {
   "cell_type": "code",
   "execution_count": null,
   "id": "b4bfce42",
   "metadata": {},
   "outputs": [
    {
     "data": {
      "text/html": [
       "<pre style=\"white-space:pre;overflow-x:auto;line-height:normal;font-family:Menlo,'DejaVu Sans Mono',consolas,'Courier New',monospace\"><span style=\"font-weight: bold\">{</span>\n",
       "    <span style=\"color: #008000; text-decoration-color: #008000\">'File_Name'</span>: <span style=\"color: #008000; text-decoration-color: #008000\">'rfeye002345_210624_T111158.bin'</span>,\n",
       "    <span style=\"color: #008000; text-decoration-color: #008000\">'File_Version'</span>: <span style=\"color: #008080; text-decoration-color: #008080; font-weight: bold\">23</span>,\n",
       "    <span style=\"color: #008000; text-decoration-color: #008000\">'File_Type'</span>: <span style=\"color: #008000; text-decoration-color: #008000\">'RFEye Logger Trace'</span>,\n",
       "    <span style=\"color: #008000; text-decoration-color: #008000\">'Device'</span>: <span style=\"color: #008000; text-decoration-color: #008000\">'Rfeye Node'</span>,\n",
       "    <span style=\"color: #008000; text-decoration-color: #008000\">'Equipment_ID'</span>: <span style=\"color: #008000; text-decoration-color: #008000\">'rfeye002345'</span>,\n",
       "    <span style=\"color: #008000; text-decoration-color: #008000\">'Script_Version'</span>: <span style=\"color: #008000; text-decoration-color: #008000\">'ScriptRFeye2021_v2.cfg'</span>,\n",
       "    <span style=\"color: #008000; text-decoration-color: #008000\">'Latitude'</span>: <span style=\"color: #008080; text-decoration-color: #008080; font-weight: bold\">-29.990221</span>,\n",
       "    <span style=\"color: #008000; text-decoration-color: #008000\">'Longitude'</span>: <span style=\"color: #008080; text-decoration-color: #008080; font-weight: bold\">-51.169205</span>,\n",
       "    <span style=\"color: #008000; text-decoration-color: #008000\">'Altitude'</span>: <span style=\"color: #008080; text-decoration-color: #008080; font-weight: bold\">18.73128</span>,\n",
       "    <span style=\"color: #008000; text-decoration-color: #008000\">'Count_GPS'</span>: <span style=\"color: #008080; text-decoration-color: #008080; font-weight: bold\">9057</span>,\n",
       "    <span style=\"color: #008000; text-decoration-color: #008000\">'Sum_Latitude'</span>: <span style=\"color: #008080; text-decoration-color: #008080; font-weight: bold\">-271621.44</span>,\n",
       "    <span style=\"color: #008000; text-decoration-color: #008000\">'Sum_Longitude'</span>: <span style=\"color: #008080; text-decoration-color: #008080; font-weight: bold\">-463439.5</span>\n",
       "<span style=\"font-weight: bold\">}</span>\n",
       "</pre>\n"
      ],
      "text/plain": [
       "\u001b[1m{\u001b[0m\n",
       "    \u001b[32m'File_Name'\u001b[0m: \u001b[32m'rfeye002345_210624_T111158.bin'\u001b[0m,\n",
       "    \u001b[32m'File_Version'\u001b[0m: \u001b[1;36m23\u001b[0m,\n",
       "    \u001b[32m'File_Type'\u001b[0m: \u001b[32m'RFEye Logger Trace'\u001b[0m,\n",
       "    \u001b[32m'Device'\u001b[0m: \u001b[32m'Rfeye Node'\u001b[0m,\n",
       "    \u001b[32m'Equipment_ID'\u001b[0m: \u001b[32m'rfeye002345'\u001b[0m,\n",
       "    \u001b[32m'Script_Version'\u001b[0m: \u001b[32m'ScriptRFeye2021_v2.cfg'\u001b[0m,\n",
       "    \u001b[32m'Latitude'\u001b[0m: \u001b[1;36m-29.990221\u001b[0m,\n",
       "    \u001b[32m'Longitude'\u001b[0m: \u001b[1;36m-51.169205\u001b[0m,\n",
       "    \u001b[32m'Altitude'\u001b[0m: \u001b[1;36m18.73128\u001b[0m,\n",
       "    \u001b[32m'Count_GPS'\u001b[0m: \u001b[1;36m9057\u001b[0m,\n",
       "    \u001b[32m'Sum_Latitude'\u001b[0m: \u001b[1;36m-271621.44\u001b[0m,\n",
       "    \u001b[32m'Sum_Longitude'\u001b[0m: \u001b[1;36m-463439.5\u001b[0m\n",
       "\u001b[1m}\u001b[0m\n"
      ]
     },
     "metadata": {},
     "output_type": "display_data"
    }
   ],
   "source": [
    "print({k:v for k,v in out.items() if k!= 'Fluxos'})"
   ]
  },
  {
   "cell_type": "code",
   "execution_count": null,
   "id": "60a357eb",
   "metadata": {},
   "outputs": [
    {
     "data": {
      "text/html": [
       "<pre style=\"white-space:pre;overflow-x:auto;line-height:normal;font-family:Menlo,'DejaVu Sans Mono',consolas,'Courier New',monospace\"><span style=\"color: #800080; text-decoration-color: #800080; font-weight: bold\">dict_keys</span><span style=\"font-weight: bold\">([(</span><span style=\"color: #008080; text-decoration-color: #008080; font-weight: bold\">67</span>, <span style=\"color: #008080; text-decoration-color: #008080; font-weight: bold\">300</span><span style=\"font-weight: bold\">)</span>, <span style=\"font-weight: bold\">(</span><span style=\"color: #008080; text-decoration-color: #008080; font-weight: bold\">67</span>, <span style=\"color: #008080; text-decoration-color: #008080; font-weight: bold\">310</span><span style=\"font-weight: bold\">)</span>, <span style=\"font-weight: bold\">(</span><span style=\"color: #008080; text-decoration-color: #008080; font-weight: bold\">67</span>, <span style=\"color: #008080; text-decoration-color: #008080; font-weight: bold\">100</span><span style=\"font-weight: bold\">)</span>, <span style=\"font-weight: bold\">(</span><span style=\"color: #008080; text-decoration-color: #008080; font-weight: bold\">67</span>, <span style=\"color: #008080; text-decoration-color: #008080; font-weight: bold\">110</span><span style=\"font-weight: bold\">)</span>, <span style=\"font-weight: bold\">(</span><span style=\"color: #008080; text-decoration-color: #008080; font-weight: bold\">67</span>, <span style=\"color: #008080; text-decoration-color: #008080; font-weight: bold\">120</span><span style=\"font-weight: bold\">)</span>, <span style=\"font-weight: bold\">(</span><span style=\"color: #008080; text-decoration-color: #008080; font-weight: bold\">67</span>, <span style=\"color: #008080; text-decoration-color: #008080; font-weight: bold\">130</span><span style=\"font-weight: bold\">)</span>, <span style=\"font-weight: bold\">(</span><span style=\"color: #008080; text-decoration-color: #008080; font-weight: bold\">67</span>, <span style=\"color: #008080; text-decoration-color: #008080; font-weight: bold\">200</span><span style=\"font-weight: bold\">)</span>, <span style=\"font-weight: bold\">(</span><span style=\"color: #008080; text-decoration-color: #008080; font-weight: bold\">67</span>, \n",
       "<span style=\"color: #008080; text-decoration-color: #008080; font-weight: bold\">210</span><span style=\"font-weight: bold\">)</span>, <span style=\"font-weight: bold\">(</span><span style=\"color: #008080; text-decoration-color: #008080; font-weight: bold\">67</span>, <span style=\"color: #008080; text-decoration-color: #008080; font-weight: bold\">220</span><span style=\"font-weight: bold\">)</span>, <span style=\"font-weight: bold\">(</span><span style=\"color: #008080; text-decoration-color: #008080; font-weight: bold\">67</span>, <span style=\"color: #008080; text-decoration-color: #008080; font-weight: bold\">230</span><span style=\"font-weight: bold\">)</span>, <span style=\"font-weight: bold\">(</span><span style=\"color: #008080; text-decoration-color: #008080; font-weight: bold\">67</span>, <span style=\"color: #008080; text-decoration-color: #008080; font-weight: bold\">240</span><span style=\"font-weight: bold\">)</span>, <span style=\"font-weight: bold\">(</span><span style=\"color: #008080; text-decoration-color: #008080; font-weight: bold\">67</span>, <span style=\"color: #008080; text-decoration-color: #008080; font-weight: bold\">250</span><span style=\"font-weight: bold\">)</span>, <span style=\"font-weight: bold\">(</span><span style=\"color: #008080; text-decoration-color: #008080; font-weight: bold\">67</span>, <span style=\"color: #008080; text-decoration-color: #008080; font-weight: bold\">320</span><span style=\"font-weight: bold\">)</span>, <span style=\"font-weight: bold\">(</span><span style=\"color: #008080; text-decoration-color: #008080; font-weight: bold\">67</span>, <span style=\"color: #008080; text-decoration-color: #008080; font-weight: bold\">330</span><span style=\"font-weight: bold\">)</span>, <span style=\"font-weight: bold\">(</span><span style=\"color: #008080; text-decoration-color: #008080; font-weight: bold\">67</span>, <span style=\"color: #008080; text-decoration-color: #008080; font-weight: bold\">340</span><span style=\"font-weight: bold\">)</span>, <span style=\"font-weight: bold\">(</span><span style=\"color: #008080; text-decoration-color: #008080; font-weight: bold\">67</span>, <span style=\"color: #008080; text-decoration-color: #008080; font-weight: bold\">350</span><span style=\"font-weight: bold\">)</span>,\n",
       "<span style=\"font-weight: bold\">(</span><span style=\"color: #008080; text-decoration-color: #008080; font-weight: bold\">67</span>, <span style=\"color: #008080; text-decoration-color: #008080; font-weight: bold\">360</span><span style=\"font-weight: bold\">)</span>, <span style=\"font-weight: bold\">(</span><span style=\"color: #008080; text-decoration-color: #008080; font-weight: bold\">67</span>, <span style=\"color: #008080; text-decoration-color: #008080; font-weight: bold\">370</span><span style=\"font-weight: bold\">)</span>, <span style=\"font-weight: bold\">(</span><span style=\"color: #008080; text-decoration-color: #008080; font-weight: bold\">67</span>, <span style=\"color: #008080; text-decoration-color: #008080; font-weight: bold\">380</span><span style=\"font-weight: bold\">)</span>, <span style=\"font-weight: bold\">(</span><span style=\"color: #008080; text-decoration-color: #008080; font-weight: bold\">67</span>, <span style=\"color: #008080; text-decoration-color: #008080; font-weight: bold\">390</span><span style=\"font-weight: bold\">)])</span>\n",
       "</pre>\n"
      ],
      "text/plain": [
       "\u001b[1;35mdict_keys\u001b[0m\u001b[1m(\u001b[0m\u001b[1m[\u001b[0m\u001b[1m(\u001b[0m\u001b[1;36m67\u001b[0m, \u001b[1;36m300\u001b[0m\u001b[1m)\u001b[0m, \u001b[1m(\u001b[0m\u001b[1;36m67\u001b[0m, \u001b[1;36m310\u001b[0m\u001b[1m)\u001b[0m, \u001b[1m(\u001b[0m\u001b[1;36m67\u001b[0m, \u001b[1;36m100\u001b[0m\u001b[1m)\u001b[0m, \u001b[1m(\u001b[0m\u001b[1;36m67\u001b[0m, \u001b[1;36m110\u001b[0m\u001b[1m)\u001b[0m, \u001b[1m(\u001b[0m\u001b[1;36m67\u001b[0m, \u001b[1;36m120\u001b[0m\u001b[1m)\u001b[0m, \u001b[1m(\u001b[0m\u001b[1;36m67\u001b[0m, \u001b[1;36m130\u001b[0m\u001b[1m)\u001b[0m, \u001b[1m(\u001b[0m\u001b[1;36m67\u001b[0m, \u001b[1;36m200\u001b[0m\u001b[1m)\u001b[0m, \u001b[1m(\u001b[0m\u001b[1;36m67\u001b[0m, \n",
       "\u001b[1;36m210\u001b[0m\u001b[1m)\u001b[0m, \u001b[1m(\u001b[0m\u001b[1;36m67\u001b[0m, \u001b[1;36m220\u001b[0m\u001b[1m)\u001b[0m, \u001b[1m(\u001b[0m\u001b[1;36m67\u001b[0m, \u001b[1;36m230\u001b[0m\u001b[1m)\u001b[0m, \u001b[1m(\u001b[0m\u001b[1;36m67\u001b[0m, \u001b[1;36m240\u001b[0m\u001b[1m)\u001b[0m, \u001b[1m(\u001b[0m\u001b[1;36m67\u001b[0m, \u001b[1;36m250\u001b[0m\u001b[1m)\u001b[0m, \u001b[1m(\u001b[0m\u001b[1;36m67\u001b[0m, \u001b[1;36m320\u001b[0m\u001b[1m)\u001b[0m, \u001b[1m(\u001b[0m\u001b[1;36m67\u001b[0m, \u001b[1;36m330\u001b[0m\u001b[1m)\u001b[0m, \u001b[1m(\u001b[0m\u001b[1;36m67\u001b[0m, \u001b[1;36m340\u001b[0m\u001b[1m)\u001b[0m, \u001b[1m(\u001b[0m\u001b[1;36m67\u001b[0m, \u001b[1;36m350\u001b[0m\u001b[1m)\u001b[0m,\n",
       "\u001b[1m(\u001b[0m\u001b[1;36m67\u001b[0m, \u001b[1;36m360\u001b[0m\u001b[1m)\u001b[0m, \u001b[1m(\u001b[0m\u001b[1;36m67\u001b[0m, \u001b[1;36m370\u001b[0m\u001b[1m)\u001b[0m, \u001b[1m(\u001b[0m\u001b[1;36m67\u001b[0m, \u001b[1;36m380\u001b[0m\u001b[1m)\u001b[0m, \u001b[1m(\u001b[0m\u001b[1;36m67\u001b[0m, \u001b[1;36m390\u001b[0m\u001b[1m)\u001b[0m\u001b[1m]\u001b[0m\u001b[1m)\u001b[0m\n"
      ]
     },
     "metadata": {},
     "output_type": "display_data"
    }
   ],
   "source": [
    "print(out['Fluxos'].keys())"
   ]
  },
  {
   "cell_type": "code",
   "execution_count": null,
   "id": "bcaa0275",
   "metadata": {},
   "outputs": [
    {
     "data": {
      "text/html": [
       "<pre style=\"white-space:pre;overflow-x:auto;line-height:normal;font-family:Menlo,'DejaVu Sans Mono',consolas,'Courier New',monospace\"><span style=\"font-weight: bold\">{</span>\n",
       "    <span style=\"color: #008000; text-decoration-color: #008000\">'Initial_Time'</span>: <span style=\"color: #800080; text-decoration-color: #800080; font-weight: bold\">numpy.datetime64</span><span style=\"font-weight: bold\">(</span><span style=\"color: #008000; text-decoration-color: #008000\">'2021-06-24T11:15:00.931540000'</span><span style=\"font-weight: bold\">)</span>,\n",
       "    <span style=\"color: #008000; text-decoration-color: #008000\">'Final_Time'</span>: <span style=\"color: #800080; text-decoration-color: #800080; font-weight: bold\">numpy.datetime64</span><span style=\"font-weight: bold\">(</span><span style=\"color: #008000; text-decoration-color: #008000\">'2021-06-30T18:05:00.850530000'</span><span style=\"font-weight: bold\">)</span>,\n",
       "    <span style=\"color: #008000; text-decoration-color: #008000\">'Sample_Duration'</span>: <span style=\"color: #008080; text-decoration-color: #008080; font-weight: bold\">5856.0</span>,\n",
       "    <span style=\"color: #008000; text-decoration-color: #008000\">'Description'</span>: <span style=\"color: #008000; text-decoration-color: #008000\">'PRD 2021 (Faixa principal 3 de 4).'</span>,\n",
       "    <span style=\"color: #008000; text-decoration-color: #008000\">'Start_Frequency'</span>: <span style=\"color: #008080; text-decoration-color: #008080; font-weight: bold\">170</span>,\n",
       "    <span style=\"color: #008000; text-decoration-color: #008000\">'Stop_Frequency'</span>: <span style=\"color: #008080; text-decoration-color: #008080; font-weight: bold\">220</span>,\n",
       "    <span style=\"color: #008000; text-decoration-color: #008000\">'Trace_Type'</span>: <span style=\"color: #008000; text-decoration-color: #008000\">'peak'</span>,\n",
       "    <span style=\"color: #008000; text-decoration-color: #008000\">'RBW'</span>: <span style=\"color: #008080; text-decoration-color: #008080; font-weight: bold\">73828</span>,\n",
       "    <span style=\"color: #008000; text-decoration-color: #008000\">'Level_Units'</span>: <span style=\"color: #008000; text-decoration-color: #008000\">'dBμV/m'</span>,\n",
       "    <span style=\"color: #008000; text-decoration-color: #008000\">'Vector_Length'</span>: <span style=\"color: #008080; text-decoration-color: #008080; font-weight: bold\">1280</span>,\n",
       "    <span style=\"color: #008000; text-decoration-color: #008000\">'Timestamp'</span>: <span style=\"color: #800080; text-decoration-color: #800080; font-weight: bold\">array</span><span style=\"font-weight: bold\">([</span><span style=\"color: #008000; text-decoration-color: #008000\">'2021-06-24T11:15:00.931540000'</span>, <span style=\"color: #008000; text-decoration-color: #008000\">'2021-06-24T11:20:00.833120000'</span>,\n",
       "       <span style=\"color: #008000; text-decoration-color: #008000\">'2021-06-24T11:25:00.832160000'</span>, <span style=\"color: #808000; text-decoration-color: #808000\">...</span>,\n",
       "       <span style=\"color: #008000; text-decoration-color: #008000\">'2021-06-30T17:55:00.849980000'</span>, <span style=\"color: #008000; text-decoration-color: #008000\">'2021-06-30T18:00:00.851040000'</span>,\n",
       "       <span style=\"color: #008000; text-decoration-color: #008000\">'2021-06-30T18:05:00.850530000'</span><span style=\"font-weight: bold\">]</span>, <span style=\"color: #808000; text-decoration-color: #808000\">dtype</span>=<span style=\"color: #008000; text-decoration-color: #008000\">'datetime64[ns]'</span><span style=\"font-weight: bold\">)</span>,\n",
       "    <span style=\"color: #008000; text-decoration-color: #008000\">'levels'</span>: <span style=\"color: #800080; text-decoration-color: #800080; font-weight: bold\">array</span><span style=\"font-weight: bold\">([[</span><span style=\"color: #008080; text-decoration-color: #008080; font-weight: bold\">42</span>. , <span style=\"color: #008080; text-decoration-color: #008080; font-weight: bold\">41</span>. , <span style=\"color: #008080; text-decoration-color: #008080; font-weight: bold\">41</span>. , <span style=\"color: #808000; text-decoration-color: #808000\">...</span>, <span style=\"color: #008080; text-decoration-color: #008080; font-weight: bold\">44</span>. , <span style=\"color: #008080; text-decoration-color: #008080; font-weight: bold\">41.5</span>, <span style=\"color: #008080; text-decoration-color: #008080; font-weight: bold\">45</span>. <span style=\"font-weight: bold\">]</span>,\n",
       "       <span style=\"font-weight: bold\">[</span><span style=\"color: #008080; text-decoration-color: #008080; font-weight: bold\">38.5</span>, <span style=\"color: #008080; text-decoration-color: #008080; font-weight: bold\">41</span>. , <span style=\"color: #008080; text-decoration-color: #008080; font-weight: bold\">39.5</span>, <span style=\"color: #808000; text-decoration-color: #808000\">...</span>, <span style=\"color: #008080; text-decoration-color: #008080; font-weight: bold\">40</span>. , <span style=\"color: #008080; text-decoration-color: #008080; font-weight: bold\">40</span>. , <span style=\"color: #008080; text-decoration-color: #008080; font-weight: bold\">41.5</span><span style=\"font-weight: bold\">]</span>,\n",
       "       <span style=\"font-weight: bold\">[</span><span style=\"color: #008080; text-decoration-color: #008080; font-weight: bold\">46</span>. , <span style=\"color: #008080; text-decoration-color: #008080; font-weight: bold\">43</span>. , <span style=\"color: #008080; text-decoration-color: #008080; font-weight: bold\">40</span>. , <span style=\"color: #808000; text-decoration-color: #808000\">...</span>, <span style=\"color: #008080; text-decoration-color: #008080; font-weight: bold\">37.5</span>, <span style=\"color: #008080; text-decoration-color: #008080; font-weight: bold\">37.5</span>, <span style=\"color: #008080; text-decoration-color: #008080; font-weight: bold\">46.5</span><span style=\"font-weight: bold\">]</span>,\n",
       "       <span style=\"color: #808000; text-decoration-color: #808000\">...</span>,\n",
       "       <span style=\"font-weight: bold\">[</span><span style=\"color: #008080; text-decoration-color: #008080; font-weight: bold\">35.5</span>, <span style=\"color: #008080; text-decoration-color: #008080; font-weight: bold\">38.5</span>, <span style=\"color: #008080; text-decoration-color: #008080; font-weight: bold\">39.5</span>, <span style=\"color: #808000; text-decoration-color: #808000\">...</span>, <span style=\"color: #008080; text-decoration-color: #008080; font-weight: bold\">33.5</span>, <span style=\"color: #008080; text-decoration-color: #008080; font-weight: bold\">35.5</span>, <span style=\"color: #008080; text-decoration-color: #008080; font-weight: bold\">37</span>. <span style=\"font-weight: bold\">]</span>,\n",
       "       <span style=\"font-weight: bold\">[</span><span style=\"color: #008080; text-decoration-color: #008080; font-weight: bold\">33</span>. , <span style=\"color: #008080; text-decoration-color: #008080; font-weight: bold\">32</span>. , <span style=\"color: #008080; text-decoration-color: #008080; font-weight: bold\">32</span>. , <span style=\"color: #808000; text-decoration-color: #808000\">...</span>, <span style=\"color: #008080; text-decoration-color: #008080; font-weight: bold\">38</span>. , <span style=\"color: #008080; text-decoration-color: #008080; font-weight: bold\">42</span>. , <span style=\"color: #008080; text-decoration-color: #008080; font-weight: bold\">47.5</span><span style=\"font-weight: bold\">]</span>,\n",
       "       <span style=\"font-weight: bold\">[</span><span style=\"color: #008080; text-decoration-color: #008080; font-weight: bold\">44</span>. , <span style=\"color: #008080; text-decoration-color: #008080; font-weight: bold\">41</span>. , <span style=\"color: #008080; text-decoration-color: #008080; font-weight: bold\">32.5</span>, <span style=\"color: #808000; text-decoration-color: #808000\">...</span>, <span style=\"color: #008080; text-decoration-color: #008080; font-weight: bold\">46</span>. , <span style=\"color: #008080; text-decoration-color: #008080; font-weight: bold\">45</span>. , <span style=\"color: #008080; text-decoration-color: #008080; font-weight: bold\">42.5</span><span style=\"font-weight: bold\">]]</span>, <span style=\"color: #808000; text-decoration-color: #808000\">dtype</span>=<span style=\"color: #800080; text-decoration-color: #800080\">float16</span><span style=\"font-weight: bold\">)</span>\n",
       "<span style=\"font-weight: bold\">}</span>\n",
       "</pre>\n"
      ],
      "text/plain": [
       "\u001b[1m{\u001b[0m\n",
       "    \u001b[32m'Initial_Time'\u001b[0m: \u001b[1;35mnumpy.datetime64\u001b[0m\u001b[1m(\u001b[0m\u001b[32m'2021-06-24T11:15:00.931540000'\u001b[0m\u001b[1m)\u001b[0m,\n",
       "    \u001b[32m'Final_Time'\u001b[0m: \u001b[1;35mnumpy.datetime64\u001b[0m\u001b[1m(\u001b[0m\u001b[32m'2021-06-30T18:05:00.850530000'\u001b[0m\u001b[1m)\u001b[0m,\n",
       "    \u001b[32m'Sample_Duration'\u001b[0m: \u001b[1;36m5856.0\u001b[0m,\n",
       "    \u001b[32m'Description'\u001b[0m: \u001b[32m'PRD 2021 \u001b[0m\u001b[32m(\u001b[0m\u001b[32mFaixa principal 3 de 4\u001b[0m\u001b[32m)\u001b[0m\u001b[32m.'\u001b[0m,\n",
       "    \u001b[32m'Start_Frequency'\u001b[0m: \u001b[1;36m170\u001b[0m,\n",
       "    \u001b[32m'Stop_Frequency'\u001b[0m: \u001b[1;36m220\u001b[0m,\n",
       "    \u001b[32m'Trace_Type'\u001b[0m: \u001b[32m'peak'\u001b[0m,\n",
       "    \u001b[32m'RBW'\u001b[0m: \u001b[1;36m73828\u001b[0m,\n",
       "    \u001b[32m'Level_Units'\u001b[0m: \u001b[32m'dBμV/m'\u001b[0m,\n",
       "    \u001b[32m'Vector_Length'\u001b[0m: \u001b[1;36m1280\u001b[0m,\n",
       "    \u001b[32m'Timestamp'\u001b[0m: \u001b[1;35marray\u001b[0m\u001b[1m(\u001b[0m\u001b[1m[\u001b[0m\u001b[32m'2021-06-24T11:15:00.931540000'\u001b[0m, \u001b[32m'2021-06-24T11:20:00.833120000'\u001b[0m,\n",
       "       \u001b[32m'2021-06-24T11:25:00.832160000'\u001b[0m, \u001b[33m...\u001b[0m,\n",
       "       \u001b[32m'2021-06-30T17:55:00.849980000'\u001b[0m, \u001b[32m'2021-06-30T18:00:00.851040000'\u001b[0m,\n",
       "       \u001b[32m'2021-06-30T18:05:00.850530000'\u001b[0m\u001b[1m]\u001b[0m, \u001b[33mdtype\u001b[0m=\u001b[32m'datetime64\u001b[0m\u001b[32m[\u001b[0m\u001b[32mns\u001b[0m\u001b[32m]\u001b[0m\u001b[32m'\u001b[0m\u001b[1m)\u001b[0m,\n",
       "    \u001b[32m'levels'\u001b[0m: \u001b[1;35marray\u001b[0m\u001b[1m(\u001b[0m\u001b[1m[\u001b[0m\u001b[1m[\u001b[0m\u001b[1;36m42\u001b[0m. , \u001b[1;36m41\u001b[0m. , \u001b[1;36m41\u001b[0m. , \u001b[33m...\u001b[0m, \u001b[1;36m44\u001b[0m. , \u001b[1;36m41.5\u001b[0m, \u001b[1;36m45\u001b[0m. \u001b[1m]\u001b[0m,\n",
       "       \u001b[1m[\u001b[0m\u001b[1;36m38.5\u001b[0m, \u001b[1;36m41\u001b[0m. , \u001b[1;36m39.5\u001b[0m, \u001b[33m...\u001b[0m, \u001b[1;36m40\u001b[0m. , \u001b[1;36m40\u001b[0m. , \u001b[1;36m41.5\u001b[0m\u001b[1m]\u001b[0m,\n",
       "       \u001b[1m[\u001b[0m\u001b[1;36m46\u001b[0m. , \u001b[1;36m43\u001b[0m. , \u001b[1;36m40\u001b[0m. , \u001b[33m...\u001b[0m, \u001b[1;36m37.5\u001b[0m, \u001b[1;36m37.5\u001b[0m, \u001b[1;36m46.5\u001b[0m\u001b[1m]\u001b[0m,\n",
       "       \u001b[33m...\u001b[0m,\n",
       "       \u001b[1m[\u001b[0m\u001b[1;36m35.5\u001b[0m, \u001b[1;36m38.5\u001b[0m, \u001b[1;36m39.5\u001b[0m, \u001b[33m...\u001b[0m, \u001b[1;36m33.5\u001b[0m, \u001b[1;36m35.5\u001b[0m, \u001b[1;36m37\u001b[0m. \u001b[1m]\u001b[0m,\n",
       "       \u001b[1m[\u001b[0m\u001b[1;36m33\u001b[0m. , \u001b[1;36m32\u001b[0m. , \u001b[1;36m32\u001b[0m. , \u001b[33m...\u001b[0m, \u001b[1;36m38\u001b[0m. , \u001b[1;36m42\u001b[0m. , \u001b[1;36m47.5\u001b[0m\u001b[1m]\u001b[0m,\n",
       "       \u001b[1m[\u001b[0m\u001b[1;36m44\u001b[0m. , \u001b[1;36m41\u001b[0m. , \u001b[1;36m32.5\u001b[0m, \u001b[33m...\u001b[0m, \u001b[1;36m46\u001b[0m. , \u001b[1;36m45\u001b[0m. , \u001b[1;36m42.5\u001b[0m\u001b[1m]\u001b[0m\u001b[1m]\u001b[0m, \u001b[33mdtype\u001b[0m=\u001b[35mfloat16\u001b[0m\u001b[1m)\u001b[0m\n",
       "\u001b[1m}\u001b[0m\n"
      ]
     },
     "metadata": {},
     "output_type": "display_data"
    }
   ],
   "source": [
    "print(out['Fluxos'][67,120])"
   ]
  },
  {
   "cell_type": "code",
   "execution_count": null,
   "id": "207db55a",
   "metadata": {},
   "outputs": [],
   "source": [
    "levels_f16 = out['Fluxos'][67,120]['Level_Data']"
   ]
  },
  {
   "cell_type": "code",
   "execution_count": null,
   "id": "8257d709",
   "metadata": {},
   "outputs": [],
   "source": [
    "pd.to_pickle(out, saida / 'teste_float_16.pkl')"
   ]
  },
  {
   "cell_type": "code",
   "execution_count": null,
   "id": "395cad0f-84d5-4e3c-bf46-95deb2e58001",
   "metadata": {},
   "outputs": [],
   "source": [
    "out = dict()\n",
    "out['File_Name'] = arquivo.name\n",
    "out['File_Version'] = parsed_bin['file_version']\n",
    "out['File_Type'] = 'RFEye Logger Trace'\n",
    "out['Device'] = 'Rfeye Node' \n",
    "out['Fluxos'] = dict()\n",
    "fluxos = L()\n",
    "for (btype, tid), df in metadata.items():\n",
    "    if btype == 21:\n",
    "        out['Equipment_ID'] = df.hostname.item()\n",
    "        out['Script_Version'] = df.method.item()\n",
    "    elif btype == 40:\n",
    "        out['Latitude'] = df.latitude.median()\n",
    "        out['Longitude'] = df.longitude.median()\n",
    "        out['Altitude'] = df.altitude.median()\n",
    "        out['Count_GPS'] = df.shape[0]\n",
    "    elif btype == 67:\n",
    "        timestamp = df.index.values        \n",
    "        level = dict()\n",
    "        level['Initial_Time'] = timestamp.min()\n",
    "        level['Sample_Duration'] = df['sample'].median()        \n",
    "        fluxo = df.drop(['minimum', 'sample'], axis=1).iloc[0]\n",
    "        level['Description'] = fluxo.description\n",
    "        level['Start_Frequency'] = fluxo.start_mega\n",
    "        level['Stop_Frequency'] = fluxo.stop_mega\n",
    "        level['Trace_Type'] = fluxo.processing\n",
    "        level['RBW'] = fluxo.bw\n",
    "        level['Level_Units'] = fluxo.data_type\n",
    "        level['Vector_Length'] = fluxo.ndata\n",
    "        level['Timestamp'] = timestamp\n",
    "        level['Minimum'] = df.minimum.values.astype('float16')\n",
    "        level['Level_Data'] = extract_level(blocks[(btype, tid)], dtype=np.uint8)\n",
    "#        level_matrix.index = timestamp\n",
    "#        level['Levels'] = level_matrix\n",
    "        out['Fluxos'][(btype, tid)] =  level"
   ]
  },
  {
   "cell_type": "code",
   "execution_count": null,
   "id": "dab0b24a",
   "metadata": {},
   "outputs": [
    {
     "data": {
      "text/html": [
       "<pre style=\"white-space:pre;overflow-x:auto;line-height:normal;font-family:Menlo,'DejaVu Sans Mono',consolas,'Courier New',monospace\"><span style=\"font-weight: bold\">{</span>\n",
       "    <span style=\"color: #008000; text-decoration-color: #008000\">'Initial_Time'</span>: <span style=\"color: #800080; text-decoration-color: #800080; font-weight: bold\">numpy.datetime64</span><span style=\"font-weight: bold\">(</span><span style=\"color: #008000; text-decoration-color: #008000\">'2021-06-24T11:15:00.931540000'</span><span style=\"font-weight: bold\">)</span>,\n",
       "    <span style=\"color: #008000; text-decoration-color: #008000\">'Sample_Duration'</span>: <span style=\"color: #008080; text-decoration-color: #008080; font-weight: bold\">5856.0</span>,\n",
       "    <span style=\"color: #008000; text-decoration-color: #008000\">'Description'</span>: <span style=\"color: #008000; text-decoration-color: #008000\">'PRD 2021 (Faixa principal 3 de 4).'</span>,\n",
       "    <span style=\"color: #008000; text-decoration-color: #008000\">'Start_Frequency'</span>: <span style=\"color: #008080; text-decoration-color: #008080; font-weight: bold\">170</span>,\n",
       "    <span style=\"color: #008000; text-decoration-color: #008000\">'Stop_Frequency'</span>: <span style=\"color: #008080; text-decoration-color: #008080; font-weight: bold\">220</span>,\n",
       "    <span style=\"color: #008000; text-decoration-color: #008000\">'Trace_Type'</span>: <span style=\"color: #008000; text-decoration-color: #008000\">'peak'</span>,\n",
       "    <span style=\"color: #008000; text-decoration-color: #008000\">'RBW'</span>: <span style=\"color: #008080; text-decoration-color: #008080; font-weight: bold\">73828</span>,\n",
       "    <span style=\"color: #008000; text-decoration-color: #008000\">'Level_Units'</span>: <span style=\"color: #008000; text-decoration-color: #008000\">'dBμV/m'</span>,\n",
       "    <span style=\"color: #008000; text-decoration-color: #008000\">'Vector_Length'</span>: <span style=\"color: #008080; text-decoration-color: #008080; font-weight: bold\">1280</span>,\n",
       "    <span style=\"color: #008000; text-decoration-color: #008000\">'timestamp'</span>: <span style=\"color: #800080; text-decoration-color: #800080; font-weight: bold\">array</span><span style=\"font-weight: bold\">([</span><span style=\"color: #008000; text-decoration-color: #008000\">'2021-06-24T11:15:00.931540000'</span>, <span style=\"color: #008000; text-decoration-color: #008000\">'2021-06-24T11:20:00.833120000'</span>,\n",
       "       <span style=\"color: #008000; text-decoration-color: #008000\">'2021-06-24T11:25:00.832160000'</span>, <span style=\"color: #808000; text-decoration-color: #808000\">...</span>,\n",
       "       <span style=\"color: #008000; text-decoration-color: #008000\">'2021-06-30T17:55:00.849980000'</span>, <span style=\"color: #008000; text-decoration-color: #008000\">'2021-06-30T18:00:00.851040000'</span>,\n",
       "       <span style=\"color: #008000; text-decoration-color: #008000\">'2021-06-30T18:05:00.850530000'</span><span style=\"font-weight: bold\">]</span>, <span style=\"color: #808000; text-decoration-color: #808000\">dtype</span>=<span style=\"color: #008000; text-decoration-color: #008000\">'datetime64[ns]'</span><span style=\"font-weight: bold\">)</span>,\n",
       "    <span style=\"color: #008000; text-decoration-color: #008000\">'Minimum'</span>: <span style=\"color: #800080; text-decoration-color: #800080; font-weight: bold\">array</span><span style=\"font-weight: bold\">([</span><span style=\"color: #008080; text-decoration-color: #008080; font-weight: bold\">-74.5</span>, <span style=\"color: #008080; text-decoration-color: #008080; font-weight: bold\">-76.5</span>, <span style=\"color: #008080; text-decoration-color: #008080; font-weight: bold\">-74.5</span>, <span style=\"color: #808000; text-decoration-color: #808000\">...</span>, <span style=\"color: #008080; text-decoration-color: #008080; font-weight: bold\">-76.5</span>, <span style=\"color: #008080; text-decoration-color: #008080; font-weight: bold\">-76.5</span>, <span style=\"color: #008080; text-decoration-color: #008080; font-weight: bold\">-75.5</span><span style=\"font-weight: bold\">]</span>, <span style=\"color: #808000; text-decoration-color: #808000\">dtype</span>=<span style=\"color: #800080; text-decoration-color: #800080\">float16</span><span style=\"font-weight: bold\">)</span>,\n",
       "    <span style=\"color: #008000; text-decoration-color: #008000\">'Level_Data'</span>: <span style=\"color: #800080; text-decoration-color: #800080; font-weight: bold\">array</span><span style=\"font-weight: bold\">([[</span><span style=\"color: #008080; text-decoration-color: #008080; font-weight: bold\">233</span>, <span style=\"color: #008080; text-decoration-color: #008080; font-weight: bold\">231</span>, <span style=\"color: #008080; text-decoration-color: #008080; font-weight: bold\">231</span>, <span style=\"color: #808000; text-decoration-color: #808000\">...</span>, <span style=\"color: #008080; text-decoration-color: #008080; font-weight: bold\">237</span>, <span style=\"color: #008080; text-decoration-color: #008080; font-weight: bold\">232</span>, <span style=\"color: #008080; text-decoration-color: #008080; font-weight: bold\">239</span><span style=\"font-weight: bold\">]</span>,\n",
       "       <span style=\"font-weight: bold\">[</span><span style=\"color: #008080; text-decoration-color: #008080; font-weight: bold\">230</span>, <span style=\"color: #008080; text-decoration-color: #008080; font-weight: bold\">235</span>, <span style=\"color: #008080; text-decoration-color: #008080; font-weight: bold\">232</span>, <span style=\"color: #808000; text-decoration-color: #808000\">...</span>, <span style=\"color: #008080; text-decoration-color: #008080; font-weight: bold\">233</span>, <span style=\"color: #008080; text-decoration-color: #008080; font-weight: bold\">233</span>, <span style=\"color: #008080; text-decoration-color: #008080; font-weight: bold\">236</span><span style=\"font-weight: bold\">]</span>,\n",
       "       <span style=\"font-weight: bold\">[</span><span style=\"color: #008080; text-decoration-color: #008080; font-weight: bold\">241</span>, <span style=\"color: #008080; text-decoration-color: #008080; font-weight: bold\">235</span>, <span style=\"color: #008080; text-decoration-color: #008080; font-weight: bold\">229</span>, <span style=\"color: #808000; text-decoration-color: #808000\">...</span>, <span style=\"color: #008080; text-decoration-color: #008080; font-weight: bold\">224</span>, <span style=\"color: #008080; text-decoration-color: #008080; font-weight: bold\">224</span>, <span style=\"color: #008080; text-decoration-color: #008080; font-weight: bold\">242</span><span style=\"font-weight: bold\">]</span>,\n",
       "       <span style=\"color: #808000; text-decoration-color: #808000\">...</span>,\n",
       "       <span style=\"font-weight: bold\">[</span><span style=\"color: #008080; text-decoration-color: #008080; font-weight: bold\">224</span>, <span style=\"color: #008080; text-decoration-color: #008080; font-weight: bold\">230</span>, <span style=\"color: #008080; text-decoration-color: #008080; font-weight: bold\">232</span>, <span style=\"color: #808000; text-decoration-color: #808000\">...</span>, <span style=\"color: #008080; text-decoration-color: #008080; font-weight: bold\">220</span>, <span style=\"color: #008080; text-decoration-color: #008080; font-weight: bold\">224</span>, <span style=\"color: #008080; text-decoration-color: #008080; font-weight: bold\">227</span><span style=\"font-weight: bold\">]</span>,\n",
       "       <span style=\"font-weight: bold\">[</span><span style=\"color: #008080; text-decoration-color: #008080; font-weight: bold\">219</span>, <span style=\"color: #008080; text-decoration-color: #008080; font-weight: bold\">217</span>, <span style=\"color: #008080; text-decoration-color: #008080; font-weight: bold\">217</span>, <span style=\"color: #808000; text-decoration-color: #808000\">...</span>, <span style=\"color: #008080; text-decoration-color: #008080; font-weight: bold\">229</span>, <span style=\"color: #008080; text-decoration-color: #008080; font-weight: bold\">237</span>, <span style=\"color: #008080; text-decoration-color: #008080; font-weight: bold\">248</span><span style=\"font-weight: bold\">]</span>,\n",
       "       <span style=\"font-weight: bold\">[</span><span style=\"color: #008080; text-decoration-color: #008080; font-weight: bold\">239</span>, <span style=\"color: #008080; text-decoration-color: #008080; font-weight: bold\">233</span>, <span style=\"color: #008080; text-decoration-color: #008080; font-weight: bold\">216</span>, <span style=\"color: #808000; text-decoration-color: #808000\">...</span>, <span style=\"color: #008080; text-decoration-color: #008080; font-weight: bold\">243</span>, <span style=\"color: #008080; text-decoration-color: #008080; font-weight: bold\">241</span>, <span style=\"color: #008080; text-decoration-color: #008080; font-weight: bold\">236</span><span style=\"font-weight: bold\">]]</span>, <span style=\"color: #808000; text-decoration-color: #808000\">dtype</span>=<span style=\"color: #800080; text-decoration-color: #800080\">uint8</span><span style=\"font-weight: bold\">)</span>\n",
       "<span style=\"font-weight: bold\">}</span>\n",
       "</pre>\n"
      ],
      "text/plain": [
       "\u001b[1m{\u001b[0m\n",
       "    \u001b[32m'Initial_Time'\u001b[0m: \u001b[1;35mnumpy.datetime64\u001b[0m\u001b[1m(\u001b[0m\u001b[32m'2021-06-24T11:15:00.931540000'\u001b[0m\u001b[1m)\u001b[0m,\n",
       "    \u001b[32m'Sample_Duration'\u001b[0m: \u001b[1;36m5856.0\u001b[0m,\n",
       "    \u001b[32m'Description'\u001b[0m: \u001b[32m'PRD 2021 \u001b[0m\u001b[32m(\u001b[0m\u001b[32mFaixa principal 3 de 4\u001b[0m\u001b[32m)\u001b[0m\u001b[32m.'\u001b[0m,\n",
       "    \u001b[32m'Start_Frequency'\u001b[0m: \u001b[1;36m170\u001b[0m,\n",
       "    \u001b[32m'Stop_Frequency'\u001b[0m: \u001b[1;36m220\u001b[0m,\n",
       "    \u001b[32m'Trace_Type'\u001b[0m: \u001b[32m'peak'\u001b[0m,\n",
       "    \u001b[32m'RBW'\u001b[0m: \u001b[1;36m73828\u001b[0m,\n",
       "    \u001b[32m'Level_Units'\u001b[0m: \u001b[32m'dBμV/m'\u001b[0m,\n",
       "    \u001b[32m'Vector_Length'\u001b[0m: \u001b[1;36m1280\u001b[0m,\n",
       "    \u001b[32m'timestamp'\u001b[0m: \u001b[1;35marray\u001b[0m\u001b[1m(\u001b[0m\u001b[1m[\u001b[0m\u001b[32m'2021-06-24T11:15:00.931540000'\u001b[0m, \u001b[32m'2021-06-24T11:20:00.833120000'\u001b[0m,\n",
       "       \u001b[32m'2021-06-24T11:25:00.832160000'\u001b[0m, \u001b[33m...\u001b[0m,\n",
       "       \u001b[32m'2021-06-30T17:55:00.849980000'\u001b[0m, \u001b[32m'2021-06-30T18:00:00.851040000'\u001b[0m,\n",
       "       \u001b[32m'2021-06-30T18:05:00.850530000'\u001b[0m\u001b[1m]\u001b[0m, \u001b[33mdtype\u001b[0m=\u001b[32m'datetime64\u001b[0m\u001b[32m[\u001b[0m\u001b[32mns\u001b[0m\u001b[32m]\u001b[0m\u001b[32m'\u001b[0m\u001b[1m)\u001b[0m,\n",
       "    \u001b[32m'Minimum'\u001b[0m: \u001b[1;35marray\u001b[0m\u001b[1m(\u001b[0m\u001b[1m[\u001b[0m\u001b[1;36m-74.5\u001b[0m, \u001b[1;36m-76.5\u001b[0m, \u001b[1;36m-74.5\u001b[0m, \u001b[33m...\u001b[0m, \u001b[1;36m-76.5\u001b[0m, \u001b[1;36m-76.5\u001b[0m, \u001b[1;36m-75.5\u001b[0m\u001b[1m]\u001b[0m, \u001b[33mdtype\u001b[0m=\u001b[35mfloat16\u001b[0m\u001b[1m)\u001b[0m,\n",
       "    \u001b[32m'Level_Data'\u001b[0m: \u001b[1;35marray\u001b[0m\u001b[1m(\u001b[0m\u001b[1m[\u001b[0m\u001b[1m[\u001b[0m\u001b[1;36m233\u001b[0m, \u001b[1;36m231\u001b[0m, \u001b[1;36m231\u001b[0m, \u001b[33m...\u001b[0m, \u001b[1;36m237\u001b[0m, \u001b[1;36m232\u001b[0m, \u001b[1;36m239\u001b[0m\u001b[1m]\u001b[0m,\n",
       "       \u001b[1m[\u001b[0m\u001b[1;36m230\u001b[0m, \u001b[1;36m235\u001b[0m, \u001b[1;36m232\u001b[0m, \u001b[33m...\u001b[0m, \u001b[1;36m233\u001b[0m, \u001b[1;36m233\u001b[0m, \u001b[1;36m236\u001b[0m\u001b[1m]\u001b[0m,\n",
       "       \u001b[1m[\u001b[0m\u001b[1;36m241\u001b[0m, \u001b[1;36m235\u001b[0m, \u001b[1;36m229\u001b[0m, \u001b[33m...\u001b[0m, \u001b[1;36m224\u001b[0m, \u001b[1;36m224\u001b[0m, \u001b[1;36m242\u001b[0m\u001b[1m]\u001b[0m,\n",
       "       \u001b[33m...\u001b[0m,\n",
       "       \u001b[1m[\u001b[0m\u001b[1;36m224\u001b[0m, \u001b[1;36m230\u001b[0m, \u001b[1;36m232\u001b[0m, \u001b[33m...\u001b[0m, \u001b[1;36m220\u001b[0m, \u001b[1;36m224\u001b[0m, \u001b[1;36m227\u001b[0m\u001b[1m]\u001b[0m,\n",
       "       \u001b[1m[\u001b[0m\u001b[1;36m219\u001b[0m, \u001b[1;36m217\u001b[0m, \u001b[1;36m217\u001b[0m, \u001b[33m...\u001b[0m, \u001b[1;36m229\u001b[0m, \u001b[1;36m237\u001b[0m, \u001b[1;36m248\u001b[0m\u001b[1m]\u001b[0m,\n",
       "       \u001b[1m[\u001b[0m\u001b[1;36m239\u001b[0m, \u001b[1;36m233\u001b[0m, \u001b[1;36m216\u001b[0m, \u001b[33m...\u001b[0m, \u001b[1;36m243\u001b[0m, \u001b[1;36m241\u001b[0m, \u001b[1;36m236\u001b[0m\u001b[1m]\u001b[0m\u001b[1m]\u001b[0m, \u001b[33mdtype\u001b[0m=\u001b[35muint8\u001b[0m\u001b[1m)\u001b[0m\n",
       "\u001b[1m}\u001b[0m\n"
      ]
     },
     "metadata": {},
     "output_type": "display_data"
    }
   ],
   "source": [
    "print(out['Fluxos'][67,120])"
   ]
  },
  {
   "cell_type": "code",
   "execution_count": null,
   "id": "664db860",
   "metadata": {},
   "outputs": [],
   "source": [
    "pd.to_pickle(out, saida / 'teste_meta_int8.pkl')"
   ]
  },
  {
   "cell_type": "code",
   "execution_count": null,
   "id": "4b094d48",
   "metadata": {},
   "outputs": [],
   "source": [
    "levels = out['Fluxos'][67,120]['levels']\n",
    "minimum = out['Fluxos'][67,120]['minimum']\n",
    "timestamp = out['Fluxos'][67,120]['timestamp']\n",
    "frequencies = out['Fluxos'][67,120]['frequencies']"
   ]
  },
  {
   "cell_type": "code",
   "execution_count": null,
   "id": "d3c896a0",
   "metadata": {},
   "outputs": [],
   "source": [
    "levels = (levels / 2 + minimum.reshape(-1,1)).astype(np.float16)"
   ]
  },
  {
   "cell_type": "code",
   "execution_count": null,
   "id": "928d8ccf",
   "metadata": {},
   "outputs": [],
   "source": [
    "(levels_f16 == levels).all()"
   ]
  },
  {
   "cell_type": "code",
   "execution_count": null,
   "id": "a04f226a",
   "metadata": {},
   "outputs": [],
   "source": [
    "import pyarrow as pa\n",
    "import pyarrow.parquet as pq\n",
    "import json"
   ]
  },
  {
   "cell_type": "code",
   "execution_count": null,
   "id": "27465033",
   "metadata": {},
   "outputs": [],
   "source": [
    "meta_key = arquivo.name"
   ]
  },
  {
   "cell_type": "code",
   "execution_count": null,
   "id": "32f7fff1",
   "metadata": {},
   "outputs": [],
   "source": [
    "table = pa.Table.from_pandas(out['Fluxos'][67,120]['Levels'])"
   ]
  },
  {
   "cell_type": "code",
   "execution_count": null,
   "id": "d4f102dd",
   "metadata": {},
   "outputs": [],
   "source": [
    "print(table.schema.metadata)"
   ]
  },
  {
   "cell_type": "code",
   "execution_count": null,
   "id": "f3d4e243",
   "metadata": {},
   "outputs": [],
   "source": [
    "custom_meta_json = json.dumps({k:str(v) for k,v in out.items() if k!= 'Fluxos'})"
   ]
  },
  {
   "cell_type": "code",
   "execution_count": null,
   "id": "df9ccce2",
   "metadata": {},
   "outputs": [],
   "source": [
    "existing_meta = table.schema.metadata\n",
    "\n",
    "combined_meta = {\n",
    "    meta_key.encode() : custom_meta_json.encode(),\n",
    "    **existing_meta\n",
    "}"
   ]
  },
  {
   "cell_type": "code",
   "execution_count": null,
   "id": "b7f60f0a",
   "metadata": {},
   "outputs": [],
   "source": [
    "table = table.replace_schema_metadata(combined_meta)"
   ]
  },
  {
   "cell_type": "code",
   "execution_count": null,
   "id": "e5384a3f",
   "metadata": {},
   "outputs": [],
   "source": [
    "print(table.schema.metadata)"
   ]
  },
  {
   "cell_type": "code",
   "execution_count": null,
   "id": "5b18a00c",
   "metadata": {},
   "outputs": [],
   "source": [
    "pq.write_table(table, f'{saida}/example.parquet', compression='GZIP')"
   ]
  },
  {
   "cell_type": "code",
   "execution_count": null,
   "id": "e29f08b9",
   "metadata": {},
   "outputs": [],
   "source": [
    "restored_table = pq.read_table(f'{saida}/example.parquet')"
   ]
  },
  {
   "cell_type": "code",
   "execution_count": null,
   "id": "659dbd4b",
   "metadata": {},
   "outputs": [],
   "source": [
    "restored_df = restored_table.to_pandas()"
   ]
  },
  {
   "cell_type": "code",
   "execution_count": null,
   "id": "cf72f099",
   "metadata": {},
   "outputs": [],
   "source": [
    "restored_df.head()"
   ]
  },
  {
   "cell_type": "code",
   "execution_count": null,
   "id": "583288e2",
   "metadata": {},
   "outputs": [],
   "source": [
    "restored_meta_json = restored_table.schema.metadata[meta_key.encode()]"
   ]
  },
  {
   "cell_type": "code",
   "execution_count": null,
   "id": "f5649be0",
   "metadata": {},
   "outputs": [],
   "source": [
    "restored_table.schema.metadata.keys()"
   ]
  },
  {
   "cell_type": "code",
   "execution_count": null,
   "id": "49ffaf3e",
   "metadata": {},
   "outputs": [],
   "source": [
    "restored_meta_json"
   ]
  },
  {
   "cell_type": "code",
   "execution_count": null,
   "id": "0d7c885c-ac98-4c55-bc7b-cd101e86b2c6",
   "metadata": {},
   "outputs": [],
   "source": [
    "dict.update()"
   ]
  },
  {
   "cell_type": "code",
   "execution_count": null,
   "id": "b954bd7e-ba15-4dba-9324-d411f39ff908",
   "metadata": {},
   "outputs": [
    {
     "data": {
      "text/html": [
       "<pre style=\"white-space:pre;overflow-x:auto;line-height:normal;font-family:Menlo,'DejaVu Sans Mono',consolas,'Courier New',monospace\">dict_keys<span style=\"font-weight: bold\">([</span><span style=\"color: #008000; text-decoration-color: #008000\">b'rfeye002345_210624_T111158.bin'</span>, <span style=\"color: #008000; text-decoration-color: #008000\">b'67-300_meta'</span>, <span style=\"color: #008000; text-decoration-color: #008000\">b'67-300_levels'</span><span style=\"font-weight: bold\">])</span>\n",
       "</pre>\n"
      ],
      "text/plain": [
       "dict_keys\u001b[1m(\u001b[0m\u001b[1m[\u001b[0m\u001b[32mb'rfeye002345_210624_T111158.bin'\u001b[0m, \u001b[32mb'67-300_meta'\u001b[0m, \u001b[32mb'67-300_levels'\u001b[0m\u001b[1m]\u001b[0m\u001b[1m)\u001b[0m\n"
      ]
     },
     "metadata": {},
     "output_type": "display_data"
    },
    {
     "data": {
      "text/html": [
       "<pre style=\"white-space:pre;overflow-x:auto;line-height:normal;font-family:Menlo,'DejaVu Sans Mono',consolas,'Courier New',monospace\">dict_keys<span style=\"font-weight: bold\">([</span><span style=\"color: #008000; text-decoration-color: #008000\">b'rfeye002345_210624_T111158.bin'</span>, <span style=\"color: #008000; text-decoration-color: #008000\">b'67-310_meta'</span>, <span style=\"color: #008000; text-decoration-color: #008000\">b'67-310_levels'</span><span style=\"font-weight: bold\">])</span>\n",
       "</pre>\n"
      ],
      "text/plain": [
       "dict_keys\u001b[1m(\u001b[0m\u001b[1m[\u001b[0m\u001b[32mb'rfeye002345_210624_T111158.bin'\u001b[0m, \u001b[32mb'67-310_meta'\u001b[0m, \u001b[32mb'67-310_levels'\u001b[0m\u001b[1m]\u001b[0m\u001b[1m)\u001b[0m\n"
      ]
     },
     "metadata": {},
     "output_type": "display_data"
    },
    {
     "data": {
      "text/html": [
       "<pre style=\"white-space:pre;overflow-x:auto;line-height:normal;font-family:Menlo,'DejaVu Sans Mono',consolas,'Courier New',monospace\">dict_keys<span style=\"font-weight: bold\">([</span><span style=\"color: #008000; text-decoration-color: #008000\">b'rfeye002345_210624_T111158.bin'</span>, <span style=\"color: #008000; text-decoration-color: #008000\">b'67-100_meta'</span>, <span style=\"color: #008000; text-decoration-color: #008000\">b'67-100_levels'</span><span style=\"font-weight: bold\">])</span>\n",
       "</pre>\n"
      ],
      "text/plain": [
       "dict_keys\u001b[1m(\u001b[0m\u001b[1m[\u001b[0m\u001b[32mb'rfeye002345_210624_T111158.bin'\u001b[0m, \u001b[32mb'67-100_meta'\u001b[0m, \u001b[32mb'67-100_levels'\u001b[0m\u001b[1m]\u001b[0m\u001b[1m)\u001b[0m\n"
      ]
     },
     "metadata": {},
     "output_type": "display_data"
    },
    {
     "data": {
      "text/html": [
       "<pre style=\"white-space:pre;overflow-x:auto;line-height:normal;font-family:Menlo,'DejaVu Sans Mono',consolas,'Courier New',monospace\">dict_keys<span style=\"font-weight: bold\">([</span><span style=\"color: #008000; text-decoration-color: #008000\">b'rfeye002345_210624_T111158.bin'</span>, <span style=\"color: #008000; text-decoration-color: #008000\">b'67-110_meta'</span>, <span style=\"color: #008000; text-decoration-color: #008000\">b'67-110_levels'</span><span style=\"font-weight: bold\">])</span>\n",
       "</pre>\n"
      ],
      "text/plain": [
       "dict_keys\u001b[1m(\u001b[0m\u001b[1m[\u001b[0m\u001b[32mb'rfeye002345_210624_T111158.bin'\u001b[0m, \u001b[32mb'67-110_meta'\u001b[0m, \u001b[32mb'67-110_levels'\u001b[0m\u001b[1m]\u001b[0m\u001b[1m)\u001b[0m\n"
      ]
     },
     "metadata": {},
     "output_type": "display_data"
    },
    {
     "data": {
      "text/html": [
       "<pre style=\"white-space:pre;overflow-x:auto;line-height:normal;font-family:Menlo,'DejaVu Sans Mono',consolas,'Courier New',monospace\">dict_keys<span style=\"font-weight: bold\">([</span><span style=\"color: #008000; text-decoration-color: #008000\">b'rfeye002345_210624_T111158.bin'</span>, <span style=\"color: #008000; text-decoration-color: #008000\">b'67-120_meta'</span>, <span style=\"color: #008000; text-decoration-color: #008000\">b'67-120_levels'</span><span style=\"font-weight: bold\">])</span>\n",
       "</pre>\n"
      ],
      "text/plain": [
       "dict_keys\u001b[1m(\u001b[0m\u001b[1m[\u001b[0m\u001b[32mb'rfeye002345_210624_T111158.bin'\u001b[0m, \u001b[32mb'67-120_meta'\u001b[0m, \u001b[32mb'67-120_levels'\u001b[0m\u001b[1m]\u001b[0m\u001b[1m)\u001b[0m\n"
      ]
     },
     "metadata": {},
     "output_type": "display_data"
    },
    {
     "data": {
      "text/html": [
       "<pre style=\"white-space:pre;overflow-x:auto;line-height:normal;font-family:Menlo,'DejaVu Sans Mono',consolas,'Courier New',monospace\">dict_keys<span style=\"font-weight: bold\">([</span><span style=\"color: #008000; text-decoration-color: #008000\">b'rfeye002345_210624_T111158.bin'</span>, <span style=\"color: #008000; text-decoration-color: #008000\">b'67-130_meta'</span>, <span style=\"color: #008000; text-decoration-color: #008000\">b'67-130_levels'</span><span style=\"font-weight: bold\">])</span>\n",
       "</pre>\n"
      ],
      "text/plain": [
       "dict_keys\u001b[1m(\u001b[0m\u001b[1m[\u001b[0m\u001b[32mb'rfeye002345_210624_T111158.bin'\u001b[0m, \u001b[32mb'67-130_meta'\u001b[0m, \u001b[32mb'67-130_levels'\u001b[0m\u001b[1m]\u001b[0m\u001b[1m)\u001b[0m\n"
      ]
     },
     "metadata": {},
     "output_type": "display_data"
    },
    {
     "data": {
      "text/html": [
       "<pre style=\"white-space:pre;overflow-x:auto;line-height:normal;font-family:Menlo,'DejaVu Sans Mono',consolas,'Courier New',monospace\">dict_keys<span style=\"font-weight: bold\">([</span><span style=\"color: #008000; text-decoration-color: #008000\">b'rfeye002345_210624_T111158.bin'</span>, <span style=\"color: #008000; text-decoration-color: #008000\">b'67-200_meta'</span>, <span style=\"color: #008000; text-decoration-color: #008000\">b'67-200_levels'</span><span style=\"font-weight: bold\">])</span>\n",
       "</pre>\n"
      ],
      "text/plain": [
       "dict_keys\u001b[1m(\u001b[0m\u001b[1m[\u001b[0m\u001b[32mb'rfeye002345_210624_T111158.bin'\u001b[0m, \u001b[32mb'67-200_meta'\u001b[0m, \u001b[32mb'67-200_levels'\u001b[0m\u001b[1m]\u001b[0m\u001b[1m)\u001b[0m\n"
      ]
     },
     "metadata": {},
     "output_type": "display_data"
    },
    {
     "data": {
      "text/html": [
       "<pre style=\"white-space:pre;overflow-x:auto;line-height:normal;font-family:Menlo,'DejaVu Sans Mono',consolas,'Courier New',monospace\">dict_keys<span style=\"font-weight: bold\">([</span><span style=\"color: #008000; text-decoration-color: #008000\">b'rfeye002345_210624_T111158.bin'</span>, <span style=\"color: #008000; text-decoration-color: #008000\">b'67-210_meta'</span>, <span style=\"color: #008000; text-decoration-color: #008000\">b'67-210_levels'</span><span style=\"font-weight: bold\">])</span>\n",
       "</pre>\n"
      ],
      "text/plain": [
       "dict_keys\u001b[1m(\u001b[0m\u001b[1m[\u001b[0m\u001b[32mb'rfeye002345_210624_T111158.bin'\u001b[0m, \u001b[32mb'67-210_meta'\u001b[0m, \u001b[32mb'67-210_levels'\u001b[0m\u001b[1m]\u001b[0m\u001b[1m)\u001b[0m\n"
      ]
     },
     "metadata": {},
     "output_type": "display_data"
    },
    {
     "data": {
      "text/html": [
       "<pre style=\"white-space:pre;overflow-x:auto;line-height:normal;font-family:Menlo,'DejaVu Sans Mono',consolas,'Courier New',monospace\">dict_keys<span style=\"font-weight: bold\">([</span><span style=\"color: #008000; text-decoration-color: #008000\">b'rfeye002345_210624_T111158.bin'</span>, <span style=\"color: #008000; text-decoration-color: #008000\">b'67-220_meta'</span>, <span style=\"color: #008000; text-decoration-color: #008000\">b'67-220_levels'</span><span style=\"font-weight: bold\">])</span>\n",
       "</pre>\n"
      ],
      "text/plain": [
       "dict_keys\u001b[1m(\u001b[0m\u001b[1m[\u001b[0m\u001b[32mb'rfeye002345_210624_T111158.bin'\u001b[0m, \u001b[32mb'67-220_meta'\u001b[0m, \u001b[32mb'67-220_levels'\u001b[0m\u001b[1m]\u001b[0m\u001b[1m)\u001b[0m\n"
      ]
     },
     "metadata": {},
     "output_type": "display_data"
    },
    {
     "data": {
      "text/html": [
       "<pre style=\"white-space:pre;overflow-x:auto;line-height:normal;font-family:Menlo,'DejaVu Sans Mono',consolas,'Courier New',monospace\">dict_keys<span style=\"font-weight: bold\">([</span><span style=\"color: #008000; text-decoration-color: #008000\">b'rfeye002345_210624_T111158.bin'</span>, <span style=\"color: #008000; text-decoration-color: #008000\">b'67-230_meta'</span>, <span style=\"color: #008000; text-decoration-color: #008000\">b'67-230_levels'</span><span style=\"font-weight: bold\">])</span>\n",
       "</pre>\n"
      ],
      "text/plain": [
       "dict_keys\u001b[1m(\u001b[0m\u001b[1m[\u001b[0m\u001b[32mb'rfeye002345_210624_T111158.bin'\u001b[0m, \u001b[32mb'67-230_meta'\u001b[0m, \u001b[32mb'67-230_levels'\u001b[0m\u001b[1m]\u001b[0m\u001b[1m)\u001b[0m\n"
      ]
     },
     "metadata": {},
     "output_type": "display_data"
    },
    {
     "data": {
      "text/html": [
       "<pre style=\"white-space:pre;overflow-x:auto;line-height:normal;font-family:Menlo,'DejaVu Sans Mono',consolas,'Courier New',monospace\">dict_keys<span style=\"font-weight: bold\">([</span><span style=\"color: #008000; text-decoration-color: #008000\">b'rfeye002345_210624_T111158.bin'</span>, <span style=\"color: #008000; text-decoration-color: #008000\">b'67-240_meta'</span>, <span style=\"color: #008000; text-decoration-color: #008000\">b'67-240_levels'</span><span style=\"font-weight: bold\">])</span>\n",
       "</pre>\n"
      ],
      "text/plain": [
       "dict_keys\u001b[1m(\u001b[0m\u001b[1m[\u001b[0m\u001b[32mb'rfeye002345_210624_T111158.bin'\u001b[0m, \u001b[32mb'67-240_meta'\u001b[0m, \u001b[32mb'67-240_levels'\u001b[0m\u001b[1m]\u001b[0m\u001b[1m)\u001b[0m\n"
      ]
     },
     "metadata": {},
     "output_type": "display_data"
    },
    {
     "data": {
      "text/html": [
       "<pre style=\"white-space:pre;overflow-x:auto;line-height:normal;font-family:Menlo,'DejaVu Sans Mono',consolas,'Courier New',monospace\">dict_keys<span style=\"font-weight: bold\">([</span><span style=\"color: #008000; text-decoration-color: #008000\">b'rfeye002345_210624_T111158.bin'</span>, <span style=\"color: #008000; text-decoration-color: #008000\">b'67-250_meta'</span>, <span style=\"color: #008000; text-decoration-color: #008000\">b'67-250_levels'</span><span style=\"font-weight: bold\">])</span>\n",
       "</pre>\n"
      ],
      "text/plain": [
       "dict_keys\u001b[1m(\u001b[0m\u001b[1m[\u001b[0m\u001b[32mb'rfeye002345_210624_T111158.bin'\u001b[0m, \u001b[32mb'67-250_meta'\u001b[0m, \u001b[32mb'67-250_levels'\u001b[0m\u001b[1m]\u001b[0m\u001b[1m)\u001b[0m\n"
      ]
     },
     "metadata": {},
     "output_type": "display_data"
    },
    {
     "data": {
      "text/html": [
       "<pre style=\"white-space:pre;overflow-x:auto;line-height:normal;font-family:Menlo,'DejaVu Sans Mono',consolas,'Courier New',monospace\">dict_keys<span style=\"font-weight: bold\">([</span><span style=\"color: #008000; text-decoration-color: #008000\">b'rfeye002345_210624_T111158.bin'</span>, <span style=\"color: #008000; text-decoration-color: #008000\">b'67-320_meta'</span>, <span style=\"color: #008000; text-decoration-color: #008000\">b'67-320_levels'</span><span style=\"font-weight: bold\">])</span>\n",
       "</pre>\n"
      ],
      "text/plain": [
       "dict_keys\u001b[1m(\u001b[0m\u001b[1m[\u001b[0m\u001b[32mb'rfeye002345_210624_T111158.bin'\u001b[0m, \u001b[32mb'67-320_meta'\u001b[0m, \u001b[32mb'67-320_levels'\u001b[0m\u001b[1m]\u001b[0m\u001b[1m)\u001b[0m\n"
      ]
     },
     "metadata": {},
     "output_type": "display_data"
    },
    {
     "data": {
      "text/html": [
       "<pre style=\"white-space:pre;overflow-x:auto;line-height:normal;font-family:Menlo,'DejaVu Sans Mono',consolas,'Courier New',monospace\">dict_keys<span style=\"font-weight: bold\">([</span><span style=\"color: #008000; text-decoration-color: #008000\">b'rfeye002345_210624_T111158.bin'</span>, <span style=\"color: #008000; text-decoration-color: #008000\">b'67-330_meta'</span>, <span style=\"color: #008000; text-decoration-color: #008000\">b'67-330_levels'</span><span style=\"font-weight: bold\">])</span>\n",
       "</pre>\n"
      ],
      "text/plain": [
       "dict_keys\u001b[1m(\u001b[0m\u001b[1m[\u001b[0m\u001b[32mb'rfeye002345_210624_T111158.bin'\u001b[0m, \u001b[32mb'67-330_meta'\u001b[0m, \u001b[32mb'67-330_levels'\u001b[0m\u001b[1m]\u001b[0m\u001b[1m)\u001b[0m\n"
      ]
     },
     "metadata": {},
     "output_type": "display_data"
    },
    {
     "data": {
      "text/html": [
       "<pre style=\"white-space:pre;overflow-x:auto;line-height:normal;font-family:Menlo,'DejaVu Sans Mono',consolas,'Courier New',monospace\">dict_keys<span style=\"font-weight: bold\">([</span><span style=\"color: #008000; text-decoration-color: #008000\">b'rfeye002345_210624_T111158.bin'</span>, <span style=\"color: #008000; text-decoration-color: #008000\">b'67-340_meta'</span>, <span style=\"color: #008000; text-decoration-color: #008000\">b'67-340_levels'</span><span style=\"font-weight: bold\">])</span>\n",
       "</pre>\n"
      ],
      "text/plain": [
       "dict_keys\u001b[1m(\u001b[0m\u001b[1m[\u001b[0m\u001b[32mb'rfeye002345_210624_T111158.bin'\u001b[0m, \u001b[32mb'67-340_meta'\u001b[0m, \u001b[32mb'67-340_levels'\u001b[0m\u001b[1m]\u001b[0m\u001b[1m)\u001b[0m\n"
      ]
     },
     "metadata": {},
     "output_type": "display_data"
    },
    {
     "data": {
      "text/html": [
       "<pre style=\"white-space:pre;overflow-x:auto;line-height:normal;font-family:Menlo,'DejaVu Sans Mono',consolas,'Courier New',monospace\">dict_keys<span style=\"font-weight: bold\">([</span><span style=\"color: #008000; text-decoration-color: #008000\">b'rfeye002345_210624_T111158.bin'</span>, <span style=\"color: #008000; text-decoration-color: #008000\">b'67-350_meta'</span>, <span style=\"color: #008000; text-decoration-color: #008000\">b'67-350_levels'</span><span style=\"font-weight: bold\">])</span>\n",
       "</pre>\n"
      ],
      "text/plain": [
       "dict_keys\u001b[1m(\u001b[0m\u001b[1m[\u001b[0m\u001b[32mb'rfeye002345_210624_T111158.bin'\u001b[0m, \u001b[32mb'67-350_meta'\u001b[0m, \u001b[32mb'67-350_levels'\u001b[0m\u001b[1m]\u001b[0m\u001b[1m)\u001b[0m\n"
      ]
     },
     "metadata": {},
     "output_type": "display_data"
    },
    {
     "data": {
      "text/html": [
       "<pre style=\"white-space:pre;overflow-x:auto;line-height:normal;font-family:Menlo,'DejaVu Sans Mono',consolas,'Courier New',monospace\">dict_keys<span style=\"font-weight: bold\">([</span><span style=\"color: #008000; text-decoration-color: #008000\">b'rfeye002345_210624_T111158.bin'</span>, <span style=\"color: #008000; text-decoration-color: #008000\">b'67-360_meta'</span>, <span style=\"color: #008000; text-decoration-color: #008000\">b'67-360_levels'</span><span style=\"font-weight: bold\">])</span>\n",
       "</pre>\n"
      ],
      "text/plain": [
       "dict_keys\u001b[1m(\u001b[0m\u001b[1m[\u001b[0m\u001b[32mb'rfeye002345_210624_T111158.bin'\u001b[0m, \u001b[32mb'67-360_meta'\u001b[0m, \u001b[32mb'67-360_levels'\u001b[0m\u001b[1m]\u001b[0m\u001b[1m)\u001b[0m\n"
      ]
     },
     "metadata": {},
     "output_type": "display_data"
    },
    {
     "data": {
      "text/html": [
       "<pre style=\"white-space:pre;overflow-x:auto;line-height:normal;font-family:Menlo,'DejaVu Sans Mono',consolas,'Courier New',monospace\">dict_keys<span style=\"font-weight: bold\">([</span><span style=\"color: #008000; text-decoration-color: #008000\">b'rfeye002345_210624_T111158.bin'</span>, <span style=\"color: #008000; text-decoration-color: #008000\">b'67-370_meta'</span>, <span style=\"color: #008000; text-decoration-color: #008000\">b'67-370_levels'</span><span style=\"font-weight: bold\">])</span>\n",
       "</pre>\n"
      ],
      "text/plain": [
       "dict_keys\u001b[1m(\u001b[0m\u001b[1m[\u001b[0m\u001b[32mb'rfeye002345_210624_T111158.bin'\u001b[0m, \u001b[32mb'67-370_meta'\u001b[0m, \u001b[32mb'67-370_levels'\u001b[0m\u001b[1m]\u001b[0m\u001b[1m)\u001b[0m\n"
      ]
     },
     "metadata": {},
     "output_type": "display_data"
    },
    {
     "data": {
      "text/html": [
       "<pre style=\"white-space:pre;overflow-x:auto;line-height:normal;font-family:Menlo,'DejaVu Sans Mono',consolas,'Courier New',monospace\">dict_keys<span style=\"font-weight: bold\">([</span><span style=\"color: #008000; text-decoration-color: #008000\">b'rfeye002345_210624_T111158.bin'</span>, <span style=\"color: #008000; text-decoration-color: #008000\">b'67-380_meta'</span>, <span style=\"color: #008000; text-decoration-color: #008000\">b'67-380_levels'</span><span style=\"font-weight: bold\">])</span>\n",
       "</pre>\n"
      ],
      "text/plain": [
       "dict_keys\u001b[1m(\u001b[0m\u001b[1m[\u001b[0m\u001b[32mb'rfeye002345_210624_T111158.bin'\u001b[0m, \u001b[32mb'67-380_meta'\u001b[0m, \u001b[32mb'67-380_levels'\u001b[0m\u001b[1m]\u001b[0m\u001b[1m)\u001b[0m\n"
      ]
     },
     "metadata": {},
     "output_type": "display_data"
    },
    {
     "data": {
      "text/html": [
       "<pre style=\"white-space:pre;overflow-x:auto;line-height:normal;font-family:Menlo,'DejaVu Sans Mono',consolas,'Courier New',monospace\">dict_keys<span style=\"font-weight: bold\">([</span><span style=\"color: #008000; text-decoration-color: #008000\">b'rfeye002345_210624_T111158.bin'</span>, <span style=\"color: #008000; text-decoration-color: #008000\">b'67-390_meta'</span>, <span style=\"color: #008000; text-decoration-color: #008000\">b'67-390_levels'</span><span style=\"font-weight: bold\">])</span>\n",
       "</pre>\n"
      ],
      "text/plain": [
       "dict_keys\u001b[1m(\u001b[0m\u001b[1m[\u001b[0m\u001b[32mb'rfeye002345_210624_T111158.bin'\u001b[0m, \u001b[32mb'67-390_meta'\u001b[0m, \u001b[32mb'67-390_levels'\u001b[0m\u001b[1m]\u001b[0m\u001b[1m)\u001b[0m\n"
      ]
     },
     "metadata": {},
     "output_type": "display_data"
    }
   ],
   "source": [
    "header_key = arquivo.name\n",
    "header_meta_json = json.dumps({k:str(v) for k,v in out.items() if k!= 'Fluxos'})\n",
    "combined_meta = {header_key.encode(): header_meta_json.encode()}\n",
    "\n",
    "for (btype, tid), fluxo in out['Fluxos'].items():\n",
    "    combined_meta = {header_key.encode(): header_meta_json.encode()}\n",
    "    meta_key = f'{btype}-{tid}_meta'\n",
    "    table = pa.Table.from_pandas(fluxo['Levels'], nthreads=os.cpu_count())\n",
    "    existing_meta = table.schema.metadata\n",
    "    custom_meta = {k:str(v) for k,v in fluxo.items() if k not in ('Timestamp', 'Minimum')}\n",
    "    custom_meta['Minimum'] = fluxo['Minimum'].tolist()\n",
    "    custom_meta_json = json.dumps(custom_meta)\n",
    "    existing_meta.update({meta_key.encode() : custom_meta_json.encode()})\n",
    "    existing_meta[f'{btype}-{tid}_levels'.encode()] = existing_meta.pop(b'pandas')\n",
    "    combined_meta.update(existing_meta)\n",
    "    table = table.replace_schema_metadata(combined_meta)\n",
    "    print(table.schema.metadata.keys())\n",
    "    pq.write_table(table, f'{saida}/{header_key}_{btype}-{tid}.parquet', compression='GZIP')   "
   ]
  },
  {
   "cell_type": "code",
   "execution_count": null,
   "id": "cce8ff0a-0ec7-4cca-9bee-c868da149a00",
   "metadata": {},
   "outputs": [],
   "source": [
    "restored_table = pq.read_table(f'{saida}/{header_key}_67-300.parquet')"
   ]
  },
  {
   "cell_type": "code",
   "execution_count": null,
   "id": "0325afb7-0647-4b72-b02f-72fad8fd7c3f",
   "metadata": {},
   "outputs": [],
   "source": [
    "restored_df = restored_table.to_pandas()"
   ]
  },
  {
   "cell_type": "code",
   "execution_count": null,
   "id": "10814e86",
   "metadata": {},
   "outputs": [],
   "source": [
    "from math import pi\n",
    "from bokeh.io import show, output_notebook\n",
    "from bokeh.models import BasicTicker, ColorBar, LinearColorMapper, PrintfTickFormatter\n",
    "from bokeh.plotting import figure"
   ]
  },
  {
   "cell_type": "code",
   "execution_count": null,
   "id": "cb24f15b",
   "metadata": {},
   "outputs": [],
   "source": [
    "data = pd.DataFrame(levels, index=timestamp, columns=frequencies)\n",
    "data.columns.name = \"Frequencies\"\n",
    "data.index.name = \"Time\"\n",
    "data.head()"
   ]
  },
  {
   "cell_type": "code",
   "execution_count": null,
   "id": "e730d821",
   "metadata": {},
   "outputs": [],
   "source": [
    "df = pd.DataFrame(data.stack(), columns=['Levels']).reset_index() ; df.head()"
   ]
  },
  {
   "cell_type": "code",
   "execution_count": null,
   "id": "7b09ce30",
   "metadata": {},
   "outputs": [
    {
     "ename": "NameError",
     "evalue": "name 'frequencies' is not defined",
     "output_type": "error",
     "traceback": [
      "\u001b[1;31m---------------------------------------------------------------------------\u001b[0m",
      "\u001b[1;31mNameError\u001b[0m                                 Traceback (most recent call last)",
      "\u001b[1;32m~\\AppData\\Local\\Temp/ipykernel_11320/704025527.py\u001b[0m in \u001b[0;36m<module>\u001b[1;34m\u001b[0m\n\u001b[1;32m----> 1\u001b[1;33m \u001b[0mfrequencies\u001b[0m\u001b[1;33m\u001b[0m\u001b[1;33m\u001b[0m\u001b[0m\n\u001b[0m",
      "\u001b[1;31mNameError\u001b[0m: name 'frequencies' is not defined"
     ]
    }
   ],
   "source": [
    "frequencies"
   ]
  },
  {
   "cell_type": "code",
   "execution_count": null,
   "id": "b928cd5d",
   "metadata": {},
   "outputs": [],
   "source": [
    "time = timestamp.tolist()\n",
    "frequencies = frequencies.astype('float32').tolist()"
   ]
  },
  {
   "cell_type": "code",
   "execution_count": null,
   "id": "1006f777",
   "metadata": {},
   "outputs": [],
   "source": [
    "# this is the colormap from the original NYTimes plot\n",
    "colors = [\"#75968f\", \"#a5bab7\", \"#c9d9d3\", \"#e2e2e2\", \"#dfccce\", \"#ddb7b1\", \"#cc7878\", \"#933b41\", \"#550b1d\"]\n",
    "mapper = LinearColorMapper(palette=colors, low=df.Levels.min(), high=df.Levels.max())\n",
    "\n",
    "TOOLS = \"hover,save,pan,box_zoom,reset,wheel_zoom\"\n",
    "\n",
    "p = figure(title=\"Waterfall ({0} - {1})\".format(timestamp[0], timestamp[-1]),\n",
    "           x_range=frequencies, y_range=timestamp,\n",
    "           x_axis_label = 'Frequencies',\n",
    "           y_axis_label = 'Timestamp',\n",
    "           x_axis_location=\"above\", plot_width=1920, plot_height=1080,\n",
    "           tools=TOOLS, toolbar_location='below',\n",
    "           tooltips=[('Frequência', '@Frequencies'), ('Tempo', '@Time'), ('Nível', '@Levels')])\n",
    "\n",
    "p.grid.grid_line_color = None\n",
    "p.axis.axis_line_color = None\n",
    "p.axis.major_tick_line_color = None\n",
    "p.axis.major_tick_line_color = None\n",
    "p.axis.major_label_text_font_size = \"0px\"\n",
    "p.axis.major_label_standoff = 0\n",
    "p.xaxis.major_label_orientation = pi / 3\n",
    "\n",
    "p.rect(x=\"Frequencies\", \n",
    "       y=\"Time\", \n",
    "       width=1,\n",
    "       height=1, \n",
    "       source=df,\n",
    "       fill_color={'field': 'Levels', 'transform': mapper}, \n",
    "       line_color=None)\n",
    "\n",
    "\n",
    "\n",
    "color_bar = ColorBar(color_mapper=mapper, major_label_text_font_size=\"10px\",\n",
    "                 ticker=BasicTicker(desired_num_ticks=len(colors)),\n",
    "                 formatter=PrintfTickFormatter(format=\"%ddBm\"),\n",
    "                 label_standoff=6, border_line_color=None)\n",
    "\n",
    "p.add_layout(color_bar, 'right')\n",
    "\n",
    "show(p)      # show the plot"
   ]
  },
  {
   "cell_type": "code",
   "execution_count": null,
   "id": "aa03dc12",
   "metadata": {},
   "outputs": [],
   "source": []
  }
 ],
 "metadata": {
  "kernelspec": {
   "display_name": "Python [conda env:rfpy]",
   "language": "python",
   "name": "conda-env-rfpy-py"
  }
 },
 "nbformat": 4,
 "nbformat_minor": 5
}
