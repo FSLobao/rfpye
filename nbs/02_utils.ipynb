{
 "cells": [
  {
   "cell_type": "code",
   "execution_count": null,
   "metadata": {},
   "outputs": [],
   "source": [
    "# default_exp utils"
   ]
  },
  {
   "cell_type": "markdown",
   "metadata": {},
   "source": [
    "# Utils\n",
    "> Funções auxiliares utilizadas nos outros módulos"
   ]
  },
  {
   "cell_type": "code",
   "execution_count": null,
   "metadata": {},
   "outputs": [],
   "source": [
    "#export\n",
    "import os\n",
    "import functools\n",
    "import platform\n",
    "from typing import *\n",
    "from collections import namedtuple\n",
    "import pandas as pd\n",
    "from fastcore.foundation import L\n",
    "from fastcore.xtras import Path\n",
    "from fastcore.basics import listify, setify\n",
    "from rfpye.constants import EXCLUDE_ATTRS"
   ]
  },
  {
   "cell_type": "markdown",
   "metadata": {},
   "source": [
    "Fonte: https://github.com/fastai/fastai/blob/master/fastai/data/transforms.py#L26"
   ]
  },
  {
   "cell_type": "code",
   "execution_count": null,
   "metadata": {},
   "outputs": [],
   "source": [
    "#export\n",
    "def _get_files(p, fs, extensions=None):\n",
    "    p = Path(p)\n",
    "    return L(\n",
    "        p / f\n",
    "        for f in fs\n",
    "        if not f.startswith(\".\")\n",
    "        and ((not extensions) or f'.{f.split(\".\")[-1].lower()}' in extensions)\n",
    "    )\n",
    "\n",
    "def recursive_walk(path, folders, extensions, followlinks) -> L:\n",
    "    \"\"\"Helper functions to encapsulate os.walk\"\"\"\n",
    "    res = L()\n",
    "    for i, (p, d, f) in enumerate(\n",
    "        os.walk(path, followlinks=followlinks)\n",
    "    ):  # returns (dirpath, dirnames, filenames)\n",
    "        if len(folders) != 0 and i == 0:\n",
    "            d[:] = [o for o in d if o in folders]\n",
    "        else:\n",
    "            d[:] = [o for o in d if not o.startswith(\".\")]\n",
    "        if len(folders) != 0 and i == 0 and \".\" not in folders:\n",
    "            continue\n",
    "        res += _get_files(p, f, extensions)\n",
    "    return res"
   ]
  },
  {
   "cell_type": "markdown",
   "metadata": {},
   "source": [
    "## Leitura de Arquivos"
   ]
  },
  {
   "cell_type": "markdown",
   "metadata": {},
   "source": [
    "A função a seguir que busca de maneira recursiva arquivos de dada extensão, inclusive links simbólicos se existirem.\n",
    "O caráter recursivo e a busca em links, `recurse` e `followlinks` simbólicos pode ser desativados por meio dos parâmetros e opcionalmente pode ser varrido somente o conjunto de pastas indicado em `folders` e os arquivos com extensões indicadas em `extensions`"
   ]
  },
  {
   "cell_type": "code",
   "execution_count": null,
   "metadata": {},
   "outputs": [],
   "source": [
    "#exports\n",
    "def get_files(path, extensions=None, recurse=True, folders=None, followlinks=True)->L:\n",
    "    \"Get all the filerefas in `path` with optional `extensions`, optionally with `recurse`, only in `folders`, if specified.\"\n",
    "    path = Path(path)\n",
    "    folders = L(folders)\n",
    "    if extensions is not None:\n",
    "        extensions = {e.lower() for e in setify(extensions)}\n",
    "    if recurse:\n",
    "        return recursive_walk(path, folders, extensions, followlinks)\n",
    "    f = [o.name for o in os.scandir(path) if o.is_file()]\n",
    "    return _get_files(path, f, extensions)"
   ]
  },
  {
   "cell_type": "markdown",
   "metadata": {},
   "source": [
    "> O Objeto retornado `L` é uma extensão da lista python com funcionalidades adicionais, uma delas como  podemos ver é que a representação da lista impressa mostra o comprimento da lista. Esse objeto pode ser usado de maneira idêntica à uma lista em python e sem substituição desta."
   ]
  },
  {
   "cell_type": "markdown",
   "metadata": {},
   "source": [
    "## Conversão de bytes\n",
    "As funções a seguir são utilizadas na criação dos diversos atributos dos diferentes Blocos presentes no arquivo `.bin`."
   ]
  },
  {
   "cell_type": "code",
   "execution_count": null,
   "metadata": {},
   "outputs": [],
   "source": [
    "#export\n",
    "def bin2int(binary_data: bytes, is_signed: bool = True) -> int:\n",
    "    \"\"\"Convert bytes number to int\n",
    "    :param binary_data: valor de int comprimido\n",
    "    :param is_signed: indica se é um valor negativo ou não\n",
    "    :return: decoded int\n",
    "    \"\"\"\n",
    "    return int.from_bytes(binary_data, byteorder=\"little\", signed=is_signed)\n",
    "\n",
    "\n",
    "def bin2str(binary_data: bytes) -> str:\n",
    "    \"\"\"\n",
    "    bytes > str\n",
    "    :param binary_data: valor de str comprimida\n",
    "    :return: str traduzida\n",
    "\n",
    "    Conversor binario para str.\n",
    "    Erros do 'decoder' são ignorados.\n",
    "    Ignora o final do dado binario ('\\x00') que é usado apenas para manter o tamanho dos campos.\n",
    "    \"\"\"\n",
    "    return binary_data.decode(\"utf-8\", errors=\"ignore\").rstrip(\"\\x00\")\n",
    "\n",
    "\n",
    "def bin2date(binary_data: bytes) -> L:\n",
    "    \"\"\"Receives a byte and returns a List with the date\"\"\"\n",
    "    date = L(*binary_data[:-1])\n",
    "    date[2] += 2000\n",
    "    return date\n",
    "\n",
    "\n",
    "def bin2time(binary_data: bytes) -> L:\n",
    "    \"\"\"Receives a byte and returns a list with the time\"\"\"\n",
    "    return L(*binary_data)"
   ]
  },
  {
   "cell_type": "markdown",
   "metadata": {},
   "source": [
    "## Otimização dos Tipos de dados\n",
    "A serem criados dataframes, normalmente a tipo de data é aquele com maior resolução possível, nem sempre isso é necessário, os arquivos de espectro mesmo possuem somente uma casa decimal, portanto um `float16` já é suficiente para armazená-los. As funções a seguir fazem essa otimização"
   ]
  },
  {
   "cell_type": "markdown",
   "metadata": {},
   "source": [
    "Code below borrowed from https://medium.com/bigdatarepublic/advanced-pandas-optimize-speed-and-memory-a654b53be6c2"
   ]
  },
  {
   "cell_type": "code",
   "execution_count": null,
   "metadata": {},
   "outputs": [],
   "source": [
    "#export\n",
    "def optimize_floats(df: pd.DataFrame, exclude=None) -> pd.DataFrame:\n",
    "    floats = df.select_dtypes(include=[\"float64\"]).columns.tolist()\n",
    "    floats = [c for c in floats if c not in listify(exclude)]\n",
    "    df[floats] = df[floats].apply(pd.to_numeric, downcast=\"float\")\n",
    "    return df\n",
    "\n",
    "\n",
    "def optimize_ints(df: pd.DataFrame, exclude=None) -> pd.DataFrame:\n",
    "    ints = df.select_dtypes(include=[\"int64\"]).columns.tolist()\n",
    "    ints = [c for c in ints if c not in listify(exclude)]\n",
    "    df[ints] = df[ints].apply(pd.to_numeric, downcast=\"integer\")\n",
    "    return df\n",
    "\n",
    "\n",
    "def optimize_objects(\n",
    "    df: pd.DataFrame, datetime_features: List[str], exclude=None\n",
    ") -> pd.DataFrame:\n",
    "    for col in df.select_dtypes(include=[\"object\"]).columns.tolist():\n",
    "        if col not in datetime_features:\n",
    "            if col in listify(exclude):\n",
    "                continue\n",
    "            num_unique_values = len(df[col].unique())\n",
    "            num_total_values = len(df[col])\n",
    "            if float(num_unique_values) / num_total_values < 0.5:\n",
    "                dtype = \"category\"\n",
    "            else:\n",
    "                dtype = \"string\"\n",
    "            df[col] = df[col].astype(dtype)\n",
    "        else:\n",
    "            df[col] = pd.to_datetime(df[col]).dt.date\n",
    "    return df\n",
    "\n",
    "\n",
    "def df_optimize(df: pd.DataFrame, datetime_features: List[str] = [], exclude=None):\n",
    "    return optimize_floats(\n",
    "        optimize_ints(optimize_objects(df, datetime_features, exclude), exclude),\n",
    "        exclude,\n",
    "    )"
   ]
  },
  {
   "cell_type": "markdown",
   "metadata": {},
   "source": [
    "## Extração de Atributos dos objetos.\n",
    "A função `getattrs` é uma abstração simples para extração de atributos de diferentes objetos, no entanto é amplamente utilizada ao longo das funções e métodos dos módulos."
   ]
  },
  {
   "cell_type": "code",
   "execution_count": null,
   "metadata": {},
   "outputs": [],
   "source": [
    "#export\n",
    "def public_attrs(obj: Any) -> L:\n",
    "    \"\"\"Receives an object and return its public attributes (not starting with underscore _) excluding those listed in `EXCLUDE_ATTRS`\"\"\"\n",
    "    return L(k for k in dir(obj) if not k.startswith(\"_\") and k not in EXCLUDE_ATTRS)\n",
    "\n",
    "\n",
    "def getattrs(obj: Any, attrs: Iterable = None, as_tuple=False) -> L:\n",
    "    \"\"\"Receives an object and return the atributes listed in `attrs`, if attrs is None return its public attributes\"\"\"\n",
    "    if attrs is None:\n",
    "        attrs = public_attrs(obj)\n",
    "    if as_tuple:\n",
    "        return namedtuple(\"Attrs\", attrs)(*[getattr(obj, k) for k in attrs])\n",
    "    return {x: getattr(obj, x) for x in attrs}"
   ]
  },
  {
   "cell_type": "markdown",
   "metadata": {},
   "source": [
    "## Cache ( Memoization ) das propriedades dos objetos.\n",
    "A função seguinte retorna um decorador de funções ou métodos que realiza o cache dos atributos, como vários dos métodos realizam processamento pesado é imprescindível o uso do cache. "
   ]
  },
  {
   "cell_type": "code",
   "execution_count": null,
   "metadata": {},
   "outputs": [],
   "source": [
    "#export\n",
    "def cached(f):\n",
    "    version = float(platform.python_version()[:3])\n",
    "    if version >= 3.8:\n",
    "        return functools.cached_property(f)\n",
    "    elif version >= 3.2:\n",
    "        return property(functools.lru_cache()(f))\n",
    "    else:\n",
    "        raise NotImplementedError(\n",
    "            \"There is no cache attribute implemented for python < 3.2\"\n",
    "        )"
   ]
  },
  {
   "cell_type": "code",
   "execution_count": null,
   "metadata": {},
   "outputs": [
    {
     "name": "stdout",
     "output_type": "stream",
     "text": [
      "Converted 00_filter.ipynb.\n",
      "Converted 01_parser.ipynb.\n",
      "Converted 02_utils.ipynb.\n",
      "Converted 03_blocks.ipynb.\n",
      "Converted 04_constants.ipynb.\n",
      "Converted index.ipynb.\n"
     ]
    }
   ],
   "source": [
    "#hide\n",
    "from nbdev.export import notebook2script\n",
    "notebook2script()"
   ]
  }
 ],
 "metadata": {
  "kernelspec": {
   "display_name": "Python [conda env:rfpye]",
   "language": "python",
   "name": "conda-env-rfpye-py"
  }
 },
 "nbformat": 4,
 "nbformat_minor": 4
}
