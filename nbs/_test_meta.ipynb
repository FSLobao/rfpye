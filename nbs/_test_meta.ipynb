{
 "cells": [
  {
   "cell_type": "code",
   "execution_count": null,
   "metadata": {},
   "outputs": [],
   "source": [
    "#hide   \n",
    "import warnings\n",
    "import gc\n",
    "with warnings.catch_warnings():\n",
    "    warnings.simplefilter(\"ignore\")\n",
    "from pprint import pprint as pp\n",
    "from datetime import datetime as dt\n",
    "from typing import *\n",
    "import rfpy\n",
    "from rfpy.parser import *\n",
    "from rfpy.utils import *\n",
    "from rfpy.blocks import *\n",
    "from rfpy.main import export_metadata\n",
    "from nbdev.showdoc import *\n",
    "from fastcore.xtras import Path\n",
    "from fastcore.foundation import L\n",
    "from fastcore.test import *\n",
    "import numpy as np\n",
    "import pandas as pd"
   ]
  },
  {
   "cell_type": "code",
   "execution_count": null,
   "metadata": {},
   "outputs": [],
   "source": [
    "#hide\n",
    "%load_ext autoreload\n",
    "%autoreload 2 \n",
    "%load_ext line_profiler"
   ]
  },
  {
   "cell_type": "markdown",
   "metadata": {},
   "source": [
    "Caminho das pastas de entrada e saída"
   ]
  },
  {
   "cell_type": "code",
   "execution_count": null,
   "metadata": {},
   "outputs": [],
   "source": [
    "entrada = Path(r'C:\\Users\\rsilva\\Downloads\\entrada')\n",
    "saida = Path(r'C:\\Users\\rsilva\\Downloads\\saida')"
   ]
  },
  {
   "cell_type": "markdown",
   "metadata": {},
   "source": [
    "Função que mapeia os arquivos da pasta e retorna um lista generalizada `L`"
   ]
  },
  {
   "cell_type": "code",
   "execution_count": null,
   "metadata": {},
   "outputs": [
    {
     "data": {
      "text/plain": [
       "(#5) [Path('C:/Users/rsilva/Downloads/entrada/201201_T153421_OneThreadID.bin'),Path('C:/Users/rsilva/Downloads/entrada/201201_T154509_MultiplesThreadID.bin'),Path('C:/Users/rsilva/Downloads/entrada/rfeye002092_210223_T163131_MaskBroken.bin'),Path('C:/Users/rsilva/Downloads/entrada/rfeye002292_210210_T230245_MaskBroken.bin'),Path('C:/Users/rsilva/Downloads/entrada/pmec/rfeye002304_SLMA_PEAK_200828_132002.bin')]"
      ]
     },
     "execution_count": null,
     "metadata": {},
     "output_type": "execute_result"
    }
   ],
   "source": [
    "arquivos = get_files(entrada) ;  arquivos"
   ]
  },
  {
   "cell_type": "code",
   "execution_count": null,
   "metadata": {},
   "outputs": [],
   "source": [
    "m = arquivos[1]\n",
    "c = arquivos[2]"
   ]
  },
  {
   "cell_type": "code",
   "execution_count": null,
   "metadata": {},
   "outputs": [
    {
     "name": "stdout",
     "output_type": "stream",
     "text": [
      "Wall time: 893 ms\n"
     ]
    },
    {
     "data": {
      "text/plain": [
       "Timer unit: 3.52617e-07 s\n",
       "\n",
       "Total time: 0.21097 s\n",
       "File: c:\\users\\rsilva\\code\\rfpy\\rfpy\\blocks.py\n",
       "Function: create_base_block at line 39\n",
       "\n",
       "Line #      Hits         Time  Per Hit   % Time  Line Contents\n",
       "==============================================================\n",
       "    39                                           def create_base_block(bin_block: bytes)->Tuple:\n",
       "    40                                               \"\"\"\n",
       "    41                                               A block is a piece of the .bin file with a known start and end and that contains different types of information.\n",
       "    42                                               It has several fields: type, header, data and footer.\n",
       "    43                                               Each field has lengths and information defined in the documentation.\n",
       "    44                                               Receives a block from the bin file and returns a Base Block instance with the attributes\n",
       "    45                                               'thread_id', 'data_size', 'type', 'data', 'checksum'\n",
       "    46                                               \"\"\"\n",
       "    47                                           #     if not isinstance(bin_block, bytes):\n",
       "    48                                           #         raise TypeError(f\"Expected type 'bytes', got '{type(bin_block)}' instead.\")\n",
       "    49     46397     598297.0     12.9    100.0      return BaseBlock(bin2int(bin_block[:4]), bin2int(bin_block[4:8]), bin2int(bin_block[8:12]), bin_block[12:-4], bin_block[-4:])"
      ]
     },
     "metadata": {},
     "output_type": "display_data"
    }
   ],
   "source": [
    "%%time\n",
    "%lprun -f create_base_block multi = parse_bin(m)"
   ]
  },
  {
   "cell_type": "code",
   "execution_count": null,
   "metadata": {},
   "outputs": [
    {
     "data": {
      "text/plain": [
       "22"
      ]
     },
     "execution_count": null,
     "metadata": {},
     "output_type": "execute_result"
    }
   ],
   "source": [
    "del multi\n",
    "gc.collect()"
   ]
  },
  {
   "cell_type": "code",
   "execution_count": null,
   "metadata": {},
   "outputs": [
    {
     "name": "stdout",
     "output_type": "stream",
     "text": [
      "Wall time: 16.6 s\n"
     ]
    },
    {
     "data": {
      "text/plain": [
       "Timer unit: 3.52617e-07 s\n",
       "\n",
       "Total time: 0.740838 s\n",
       "File: c:\\users\\rsilva\\code\\rfpy\\rfpy\\blocks.py\n",
       "Function: create_base_block at line 39\n",
       "\n",
       "Line #      Hits         Time  Per Hit   % Time  Line Contents\n",
       "==============================================================\n",
       "    39                                           def create_base_block(bin_block: bytes)->Tuple:\n",
       "    40                                               \"\"\"\n",
       "    41                                               A block is a piece of the .bin file with a known start and end and that contains different types of information.\n",
       "    42                                               It has several fields: type, header, data and footer.\n",
       "    43                                               Each field has lengths and information defined in the documentation.\n",
       "    44                                               Receives a block from the bin file and returns a Base Block instance with the attributes\n",
       "    45                                               'thread_id', 'data_size', 'type', 'data', 'checksum'\n",
       "    46                                               \"\"\"\n",
       "    47                                           #     if not isinstance(bin_block, bytes):\n",
       "    48                                           #         raise TypeError(f\"Expected type 'bytes', got '{type(bin_block)}' instead.\")\n",
       "    49    165003    2100970.0     12.7    100.0      return BaseBlock(bin2int(bin_block[:4]), bin2int(bin_block[4:8]), bin2int(bin_block[8:12]), bin_block[12:-4], bin_block[-4:])"
      ]
     },
     "metadata": {},
     "output_type": "display_data"
    }
   ],
   "source": [
    "%%time\n",
    "%lprun -f create_base_block multi = parse_bin(c)"
   ]
  }
 ],
 "metadata": {
  "kernelspec": {
   "display_name": "Python [conda env:rfpy]",
   "language": "python",
   "name": "conda-env-rfpy-py"
  }
 },
 "nbformat": 4,
 "nbformat_minor": 4
}
