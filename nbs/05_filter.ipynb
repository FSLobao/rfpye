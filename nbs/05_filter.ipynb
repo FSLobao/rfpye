{
 "cells": [
  {
   "cell_type": "code",
   "execution_count": null,
   "id": "3910f4b5",
   "metadata": {},
   "outputs": [],
   "source": [
    "# default_exp filter"
   ]
  },
  {
   "cell_type": "markdown",
   "id": "38415e99",
   "metadata": {},
   "source": [
    "# Filter\n",
    "Utility functions to filter the spectrum data"
   ]
  },
  {
   "cell_type": "code",
   "execution_count": null,
   "id": "80f51220",
   "metadata": {},
   "outputs": [
    {
     "name": "stdout",
     "output_type": "stream",
     "text": [
      "The autoreload extension is already loaded. To reload it, use:\n",
      "  %reload_ext autoreload\n"
     ]
    }
   ],
   "source": [
    "#hide\n",
    "%load_ext autoreload\n",
    "%autoreload 2            #Reload the code automatically"
   ]
  },
  {
   "cell_type": "code",
   "execution_count": null,
   "id": "ba7e4c28",
   "metadata": {},
   "outputs": [
    {
     "ename": "ModuleNotFoundError",
     "evalue": "No module named 'rfpye.cyparser'",
     "output_type": "error",
     "traceback": [
      "\u001b[1;31m---------------------------------------------------------------------------\u001b[0m",
      "\u001b[1;31mModuleNotFoundError\u001b[0m                       Traceback (most recent call last)",
      "\u001b[1;32m<ipython-input-6-27a60bead7d0>\u001b[0m in \u001b[0;36m<module>\u001b[1;34m\u001b[0m\n\u001b[0;32m     14\u001b[0m \u001b[1;32mfrom\u001b[0m \u001b[0mrfpye\u001b[0m\u001b[1;33m.\u001b[0m\u001b[0mutils\u001b[0m \u001b[1;32mimport\u001b[0m \u001b[1;33m*\u001b[0m\u001b[1;33m\u001b[0m\u001b[1;33m\u001b[0m\u001b[0m\n\u001b[0;32m     15\u001b[0m \u001b[1;32mfrom\u001b[0m \u001b[0mrfpye\u001b[0m\u001b[1;33m.\u001b[0m\u001b[0mconstants\u001b[0m \u001b[1;32mimport\u001b[0m \u001b[0mSPECTRAL_BLOCKS\u001b[0m\u001b[1;33m\u001b[0m\u001b[1;33m\u001b[0m\u001b[0m\n\u001b[1;32m---> 16\u001b[1;33m \u001b[1;32mfrom\u001b[0m \u001b[0mrfpye\u001b[0m\u001b[1;33m.\u001b[0m\u001b[0mparser\u001b[0m \u001b[1;32mimport\u001b[0m \u001b[1;33m*\u001b[0m\u001b[1;33m\u001b[0m\u001b[1;33m\u001b[0m\u001b[0m\n\u001b[0m\u001b[0;32m     17\u001b[0m \u001b[1;32mfrom\u001b[0m \u001b[0mrfpye\u001b[0m\u001b[1;33m.\u001b[0m\u001b[0mmain\u001b[0m \u001b[1;32mimport\u001b[0m \u001b[0mprocess_bin\u001b[0m\u001b[1;33m\u001b[0m\u001b[1;33m\u001b[0m\u001b[0m\n\u001b[0;32m     18\u001b[0m \u001b[0mCACHE_FOLDER\u001b[0m \u001b[1;33m=\u001b[0m \u001b[0mPath\u001b[0m\u001b[1;33m.\u001b[0m\u001b[0mcwd\u001b[0m\u001b[1;33m(\u001b[0m\u001b[1;33m)\u001b[0m \u001b[1;33m/\u001b[0m \u001b[1;34m'.cache'\u001b[0m\u001b[1;33m\u001b[0m\u001b[1;33m\u001b[0m\u001b[0m\n",
      "\u001b[1;32md:\\onedrive - anatel\\code\\rfpy\\rfpye\\parser.py\u001b[0m in \u001b[0;36m<module>\u001b[1;34m\u001b[0m\n\u001b[0;32m     22\u001b[0m \u001b[1;32mfrom\u001b[0m \u001b[0mrfpye\u001b[0m\u001b[1;33m.\u001b[0m\u001b[0mutils\u001b[0m \u001b[1;32mimport\u001b[0m \u001b[1;33m*\u001b[0m\u001b[1;33m\u001b[0m\u001b[1;33m\u001b[0m\u001b[0m\n\u001b[0;32m     23\u001b[0m \u001b[1;32mfrom\u001b[0m \u001b[0mrfpye\u001b[0m\u001b[1;33m.\u001b[0m\u001b[0mconstants\u001b[0m \u001b[1;32mimport\u001b[0m \u001b[1;33m*\u001b[0m\u001b[1;33m\u001b[0m\u001b[1;33m\u001b[0m\u001b[0m\n\u001b[1;32m---> 24\u001b[1;33m \u001b[1;32mfrom\u001b[0m \u001b[0mrfpye\u001b[0m\u001b[1;33m.\u001b[0m\u001b[0mcyparser\u001b[0m \u001b[1;32mimport\u001b[0m \u001b[0mcy_extract_compressed\u001b[0m\u001b[1;33m\u001b[0m\u001b[1;33m\u001b[0m\u001b[0m\n\u001b[0m\u001b[0;32m     25\u001b[0m \u001b[1;32mimport\u001b[0m \u001b[0mpandas\u001b[0m \u001b[1;32mas\u001b[0m \u001b[0mpd\u001b[0m\u001b[1;33m\u001b[0m\u001b[1;33m\u001b[0m\u001b[0m\n\u001b[0;32m     26\u001b[0m \u001b[1;32mimport\u001b[0m \u001b[0mnumpy\u001b[0m \u001b[1;32mas\u001b[0m \u001b[0mnp\u001b[0m\u001b[1;33m\u001b[0m\u001b[1;33m\u001b[0m\u001b[0m\n",
      "\u001b[1;31mModuleNotFoundError\u001b[0m: No module named 'rfpye.cyparser'"
     ]
    }
   ],
   "source": [
    "#export\n",
    "from datetime import datetime\n",
    "from typing import *\n",
    "import os\n",
    "import logging\n",
    "from fastcore.xtras import Path\n",
    "from fastcore.script import call_parse, Param, store_true\n",
    "import numpy as np\n",
    "import pandas as pd\n",
    "from rich.progress import Progress\n",
    "from rich.console import Console\n",
    "from rich.theme import Theme\n",
    "from rich.logging import RichHandler\n",
    "from rfpye.utils import *\n",
    "from rfpye.constants import SPECTRAL_BLOCKS\n",
    "from rfpye.parser import *\n",
    "from rfpye.main import process_bin\n",
    "CACHE_FOLDER = Path.cwd() / '.cache'"
   ]
  },
  {
   "cell_type": "code",
   "execution_count": null,
   "id": "7f7d176b",
   "metadata": {},
   "outputs": [],
   "source": [
    "logging.basicConfig(\n",
    "    level=\"NOTSET\",\n",
    "    format=\"%(message)s\",\n",
    "    datefmt=\"[%X]\",\n",
    "    handlers=[RichHandler(rich_tracebacks=True)]\n",
    ")\n",
    "\n",
    "log = logging.getLogger(\"rich\")"
   ]
  },
  {
   "cell_type": "code",
   "execution_count": null,
   "id": "b2d429b0",
   "metadata": {},
   "outputs": [],
   "source": [
    "#export\n",
    "def filter_spectrum(df, start, stop, freq_start, freq_stop):\n",
    "    df = df.copy()\n",
    "    try:\n",
    "        start = pd.to_datetime(start)\n",
    "        stop = pd.to_datetime(stop)\n",
    "    except pd.errors.ParserError:\n",
    "        log.error(f\"[bold red blink] Datas inválidas! Verifique as strings de data {start} e {stop}\")\n",
    "\n",
    "    try:\n",
    "        df.set_index('index', inplace=True)\n",
    "        df.index = pd.to_datetime(df.index)\n",
    "    except pd.errors.KeyError:\n",
    "        if not isinstance(df.index, pd.DatetimeIndex):\n",
    "            log.warning(\n",
    "                f\"Não foi passado uma coluna ou índice com datetime a ser filtrado, todas as linhas serão processadas\",\n",
    "                exc_info=True\n",
    "            )\n",
    "            start = 0\n",
    "            stop = df.shape[0]\n",
    "\n",
    "    cols = df.columns.values.astype('float')\n",
    "    rows = df.index.values\n",
    "\n",
    "    filtered_cols = df.columns[(float(freq_start) <= cols) & (cols <= float(freq_stop))]\n",
    "    filtered_rows = df.index[(start <= rows) & (rows <= stop)]\n",
    "    if len(filtered_cols) == 0 or len(filtered_rows) == 0:\n",
    "        return None\n",
    "    count = filtered_rows.shape[0]\n",
    "    array = df.loc[filtered_rows, filtered_cols].values\n",
    "    freq = filtered_cols.values.astype('float32')\n",
    "    min_ = array.min(axis=0)\n",
    "    max_ = array.max(axis=0)\n",
    "    mean = array.mean(axis=0)\n",
    "    return pd.DataFrame({'Frequency': freq, 'Min': min_, 'Max': max_, 'Mean': mean, 'Count': count})"
   ]
  },
  {
   "cell_type": "code",
   "execution_count": null,
   "id": "f0bf2dba",
   "metadata": {},
   "outputs": [],
   "source": [
    "#export\n",
    "def appended_mean(row):\n",
    "    return (row['Count'] * row['Mean']).sum() / row['Count'].sum()\n",
    "\n",
    "@call_parse\n",
    "def extract_bin_stats(filename: Param(\"Caminho para o arquivo .bin\", str),\n",
    "                      start: Param(\"Timestamp do Início\", str),\n",
    "                      stop: Param(\"Timestamp do Fim\", str),\n",
    "                      freq_start: Param(\"Frequência Inicial (MHz)\", str),\n",
    "                      freq_stop: Param(\"Frequência Final (MHz)\", str), \n",
    "                      cache: Param(\"Pasta na qual os arquivos de cache serão salvos\", str) = CACHED_FOLDER):\n",
    "    cache = Path(cache)\n",
    "    cache.mkdir(exist_ok=True, parents=True)\n",
    "    filename = Path(filename)\n",
    "    while True:\n",
    "        cached_files = get_files(cache / 'levels')\n",
    "        #TODO filter based on metadata\n",
    "        cached_levels = cached_files.filter(lambda name: filename.stem in str(name))\n",
    "        if not cached_levels:\n",
    "            process_bin(filename, cache, levels=True)\n",
    "        else:\n",
    "            break\n",
    "    dfs = cached_levels.map(pd.read_feather)\n",
    "    spectra = dfs.map(filter_spectrum, start=start, stop=stop, freq_start=freq_start, freq_stop=freq_stop)\n",
    "    spectra = [s for s in spectra if s is not None]\n",
    "    out = pd.DataFrame(columns=['Frequency', 'Min', 'Max', 'Mean'])\n",
    "    if not spectra:\n",
    "        log.warning(\n",
    "                f\"Os parâmetros repassados não correspondem a nenhum dado espectral do arquivo\",\n",
    "                exc_info=True\n",
    "            )\n",
    "        return out\n",
    "    spectra = pd.concat(spectra)\n",
    "    gb  = spectra.groupby('Frequency')\n",
    "    out['Frequency'] = spectra.Frequency.unique()\n",
    "    out['Min'] = gb.min()['Min'].values\n",
    "    out['Max'] = gb.max()['Max'].values\n",
    "    out['Mean'] = gb.apply(appended_mean).values\n",
    "    return out"
   ]
  },
  {
   "cell_type": "code",
   "execution_count": null,
   "id": "755ec18c",
   "metadata": {},
   "outputs": [],
   "source": [
    "from nbdev.export import notebook2script\n",
    "notebook2script()"
   ]
  }
 ],
 "metadata": {
  "kernelspec": {
   "display_name": "Python [conda env:rfpy]",
   "language": "python",
   "name": "conda-env-rfpy-py"
  }
 },
 "nbformat": 4,
 "nbformat_minor": 5
}
