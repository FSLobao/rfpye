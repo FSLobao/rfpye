{
 "cells": [
  {
   "cell_type": "code",
   "execution_count": null,
   "id": "738d48a4-849e-4fff-b22a-7299e24004e5",
   "metadata": {},
   "outputs": [],
   "source": [
    "#hide\n",
    "import sys, os\n",
    "from pathlib import Path\n",
    "\n",
    "# Insert in Path Project Directory\n",
    "sys.path.insert(0, str(Path().cwd().parent))\n",
    "\n",
    "%load_ext autoreload\n",
    "%load_ext line_profiler\n",
    "%load_ext cython\n",
    "%autoreload 2 "
   ]
  },
  {
   "cell_type": "code",
   "execution_count": null,
   "id": "154f4953-1a47-4f66-99e3-ca3aea14aca4",
   "metadata": {},
   "outputs": [],
   "source": [
    "#exporti\n",
    "import os\n",
    "from pathlib import Path\n",
    "from typing import *\n",
    "from collections import defaultdict, namedtuple\n",
    "from fastcore.basics import partialler, listify\n",
    "from fastcore.utils import parallel\n",
    "from fastcore.foundation import L\n",
    "from rfpye.constants import BYTES_HEADER, ENDMARKER, KEY_ATTRS\n",
    "from rfpye.blocks import MAIN_BLOCKS\n",
    "from rfpye.utils import get_files, getattrs, bin2int, bin2str\n",
    "from rfpye.cyparser import cy_extract_compressed\n",
    "from loguru import logger\n",
    "import pandas as pd\n",
    "import numpy as np"
   ]
  },
  {
   "cell_type": "code",
   "execution_count": null,
   "id": "f405af16-1eb4-4e75-afc3-07a2c2449c03",
   "metadata": {},
   "outputs": [],
   "source": [
    "%%cython --annotate\n",
    "cimport cython\n",
    "\n",
    "ctypedef object CrfsGPS\n",
    "\n",
    "@cython.boundscheck(False)\n",
    "@cython.wraparound(False)\n",
    "cpdef dict classify_blocks(list byte_blocks):\n",
    "    \"\"\"Receives an iterable with binary blocks and returns a dict with the metadata from file, the gps class and a list with the different spectrum classes\"\"\"\n",
    "    \n",
    "    cdef dict meta = {}\n",
    "    cdef dict spec = {}\n",
    "    cdef object gps\n",
    "    cdef list gps_attrs\n",
    "    gps = CrfsGPS()\n",
    "    gps_attrs = [f'_{k}' for k in BLOCK_ATTRS.get(40, [])]\n",
    "    for byte_block in byte_blocks:\n",
    "        block = create_block(byte_block)\n",
    "        if not block: continue \n",
    "        if block.type  == 40:\n",
    "            for k in BLOCK_ATTRS.get(40, []):\n",
    "                getattr(gps, f'_{k}').append(getattr(block, k))\n",
    "            continue\n",
    "        attrs=KEY_ATTRS.get(block.type, [])\n",
    "        values = getattrs(block, attrs=attrs)\n",
    "        if block.type in SPECTRAL_BLOCKS:\n",
    "            if values not in fluxos:\n",
    "                attrs = [a for a in attrs] + ['thresh', 'minimum']\n",
    "                metadata = namedtuple('metadata', attrs)\n",
    "                attrs = list(values) + [block.thresh, block.minimum]\n",
    "                spec[values] = CrfsSpectrum(metadata(*attrs))\n",
    "            time = getattr(block, 'wallclock_datetime')\n",
    "            attr = 'raw_data' if block.type in (64, 68) else 'levels'\n",
    "            data = getattr(block, attr)\n",
    "            spec[values].append(time, data)\n",
    "        else:\n",
    "            meta.update(dict(zip(attrs, values)))\n",
    "    meta['gps'] = gps\n",
    "    meta['spectrum'] = list(spec.values()) \n",
    "    return meta"
   ]
  }
 ],
 "metadata": {
  "kernelspec": {
   "display_name": "Python [conda env:rfpye]",
   "language": "python",
   "name": "conda-env-rfpye-py"
  }
 },
 "nbformat": 4,
 "nbformat_minor": 5
}
