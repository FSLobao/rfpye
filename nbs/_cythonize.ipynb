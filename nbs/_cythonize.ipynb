{
 "cells": [
  {
   "cell_type": "code",
   "execution_count": null,
   "id": "738d48a4-849e-4fff-b22a-7299e24004e5",
   "metadata": {},
   "outputs": [],
   "source": [
    "#hide\n",
    "import sys, os\n",
    "from pathlib import Path\n",
    "\n",
    "# Insert in Path Project Directory\n",
    "sys.path.insert(0, str(Path().cwd().parent))\n",
    "\n",
    "%load_ext autoreload\n",
    "%load_ext line_profiler\n",
    "%load_ext cython\n",
    "%autoreload 2 "
   ]
  },
  {
   "cell_type": "code",
   "execution_count": null,
   "id": "154f4953-1a47-4f66-99e3-ca3aea14aca4",
   "metadata": {},
   "outputs": [],
   "source": [
    "#exporti\n",
    "import os\n",
    "from pathlib import Path\n",
    "from typing import *\n",
    "from collections import defaultdict, namedtuple\n",
    "from fastcore.basics import partialler, listify\n",
    "from fastcore.utils import parallel\n",
    "from fastcore.foundation import L\n",
    "from rfpye.constants import BYTES_HEADER, ENDMARKER, KEY_ATTRS\n",
    "from rfpye.blocks import MAIN_BLOCKS\n",
    "from rfpye.utils import get_files, getattrs, bin2int, bin2str\n",
    "from rfpye.parser import *\n",
    "from rfpye.cyparser import cy_extract_compressed\n",
    "from loguru import logger\n",
    "import pandas as pd\n",
    "import numpy as np"
   ]
  },
  {
   "cell_type": "code",
   "execution_count": null,
   "id": "364983e4-0aaa-4073-8d2a-5bc7250b55d3",
   "metadata": {},
   "outputs": [],
   "source": [
    "files = get_files(r'D:\\OneDrive - ANATEL\\Sensores', extensions=['.bin'])\n",
    "file = files.shuffle()[0]"
   ]
  },
  {
   "cell_type": "code",
   "execution_count": null,
   "id": "7414de69-c985-4f6d-a314-456a3f11b31c",
   "metadata": {},
   "outputs": [],
   "source": [
    "file = Path('D:/OneDrive - ANATEL/Sensores/rfeye002295/rfeye002295_210622_T220240.bin')"
   ]
  },
  {
   "cell_type": "code",
   "execution_count": null,
   "id": "dcf1d1d8-7746-461d-a954-87fd75607f10",
   "metadata": {},
   "outputs": [
    {
     "data": {
      "text/plain": [
       "{'filename': 'rfeye002295_210622_T220240.bin',\n",
       " 'file_version': 23,\n",
       " 'string': 'CRFS DATA FILE V023',\n",
       " 'hostname': 'rfeye002295',\n",
       " 'method': 'ScriptRFeye2021_v2.cfg',\n",
       " 'unit_info': 'Stationary',\n",
       " 'file_number': 0,\n",
       " 'identifier': 'INFO',\n",
       " 'gps': GPS Data - Median of Coordinates: -3.02318:-60.05499 Altitude: 105.00 #Satellites: 12.0,\n",
       " 'spectrum': (#20) [SpecData(type=67, thread_id=300, description='PMEC 2021 (Faixa 1 de 10).', start_mega=105.0, stop_mega=140.0, dtype='dBm', ndata=3584, bw=18457, processing='peak', antuid=0),SpecData(type=67, thread_id=310, description='PMEC 2021 (Faixa 2 de 10).', start_mega=155.0, stop_mega=165.0, dtype='dBm', ndata=1024, bw=18457, processing='peak', antuid=0),SpecData(type=67, thread_id=100, description='PRD 2021 (Faixa principal 1 de 4).', start_mega=50.0, stop_mega=90.0, dtype='dBμV/m', ndata=1024, bw=73828, processing='peak', antuid=0),SpecData(type=67, thread_id=110, description='PRD 2021 (Faixa principal 2 de 4).', start_mega=70.0, stop_mega=110.0, dtype='dBμV/m', ndata=1024, bw=73828, processing='peak', antuid=0),SpecData(type=67, thread_id=120, description='PRD 2021 (Faixa principal 3 de 4).', start_mega=170.0, stop_mega=220.0, dtype='dBμV/m', ndata=1280, bw=73828, processing='peak', antuid=0),SpecData(type=67, thread_id=130, description='PRD 2021 (Faixa principal 4 de 4).', start_mega=470.0, stop_mega=700.0, dtype='dBμV/m', ndata=5888, bw=73828, processing='peak', antuid=0),SpecData(type=67, thread_id=200, description='PMEF 2021 (Faixa 1 de 6).', start_mega=700.0, stop_mega=960.0, dtype='dBm', ndata=6656, bw=73828, processing='peak', antuid=0),SpecData(type=67, thread_id=210, description='PMEF 2021 (Faixa 2 de 6).', start_mega=1710.0, stop_mega=1980.0, dtype='dBm', ndata=6912, bw=73828, processing='peak', antuid=0),SpecData(type=67, thread_id=220, description='PMEF 2021 (Faixa 3 de 6).', start_mega=2100.0, stop_mega=1002168.999, dtype='dBm', ndata=1792, bw=73828, processing='peak', antuid=0),SpecData(type=67, thread_id=230, description='PMEF 2021 (Faixa 4 de 6).', start_mega=2290.0, stop_mega=2390.0, dtype='dBm', ndata=2560, bw=73828, processing='peak', antuid=0)...]}"
      ]
     },
     "execution_count": null,
     "metadata": {},
     "output_type": "execute_result"
    }
   ],
   "source": [
    "blocks"
   ]
  },
  {
   "cell_type": "code",
   "execution_count": null,
   "id": "92a2f10d-7eb2-43a9-aefc-60b498005397",
   "metadata": {},
   "outputs": [
    {
     "data": {
      "text/plain": [
       "Timer unit: 3.52617e-07 s\n",
       "\n",
       "Total time: 7.30025 s\n",
       "File: C:\\Users\\rsilva\\Code\\rfpye\\rfpye\\parser.py\n",
       "Function: classify_blocks at line 231\n",
       "\n",
       "Line #      Hits         Time  Per Hit   % Time  Line Contents\n",
       "==============================================================\n",
       "   231                                           def classify_blocks(byte_blocks: Iterable) -> dict:\n",
       "   232                                               \"\"\"Receives an iterable with binary blocks and returns a dict with the metadata from file, the gps class and a list with the different spectrum classes\"\"\"\n",
       "   233         1         12.0     12.0      0.0      meta = {}\n",
       "   234         1          2.0      2.0      0.0      fluxos = {}\n",
       "   235         1         67.0     67.0      0.0      gps = CrfsGPS()\n",
       "   236     45103     106188.0      2.4      0.5      for attrs, block in byte_blocks:\n",
       "   237                                                   #block = create_block(byte_block)\n",
       "   238     45102      58087.0      1.3      0.3          if not block:\n",
       "   239      3970       4129.0      1.0      0.0              continue\n",
       "   240     41132    1528424.0     37.2      7.4          dtype = block.type\n",
       "   241     41132      60314.0      1.5      0.3          if dtype == 40:\n",
       "   242     54348      92520.0      1.7      0.4              for k in BLOCK_ATTRS.get(40, []):\n",
       "   243     45290    3659149.0     80.8     17.7                  getattr(gps, f\"_{k}\").append(getattr(block, k))\n",
       "   244      9058       9994.0      1.1      0.0              continue\n",
       "   245                                                   #attrs = getattrs(block, KEY_ATTRS.get(dtype))\n",
       "   246     32074      58408.0      1.8      0.3          if dtype in VECTOR_BLOCKS:\n",
       "   247     31921   15124897.0    473.8     73.1              append_spec_data(attrs, fluxos, block)\n",
       "   248                                                   else:\n",
       "   249       153        788.0      5.2      0.0              meta.update(attrs)\n",
       "   250         1          3.0      3.0      0.0      meta[\"gps\"] = gps\n",
       "   251         1         62.0     62.0      0.0      meta[\"spectrum\"] = L(fluxos.values())\n",
       "   252         1          2.0      2.0      0.0      return meta"
      ]
     },
     "metadata": {},
     "output_type": "display_data"
    }
   ],
   "source": [
    "%lprun -f classify_blocks blocks = parse_bin(file)"
   ]
  },
  {
   "cell_type": "code",
   "execution_count": null,
   "id": "f405af16-1eb4-4e75-afc3-07a2c2449c03",
   "metadata": {},
   "outputs": [],
   "source": [
    "%%cython --annotate\n",
    "cimport cython\n",
    "\n",
    "ctypedef object CrfsGPS\n",
    "\n",
    "@cython.boundscheck(False)\n",
    "@cython.wraparound(False)\n",
    "cpdef dict classify_blocks(list byte_blocks):\n",
    "    \"\"\"Receives an iterable with binary blocks and returns a dict with the metadata from file, the gps class and a list with the different spectrum classes\"\"\"\n",
    "    \n",
    "    cdef dict meta = {}\n",
    "    cdef dict spec = {}\n",
    "    cdef object gps\n",
    "    cdef list gps_attrs\n",
    "    gps = CrfsGPS()\n",
    "    gps_attrs = [f'_{k}' for k in BLOCK_ATTRS.get(40, [])]\n",
    "    for byte_block in byte_blocks:\n",
    "        block = create_block(byte_block)\n",
    "        if not block: continue \n",
    "        if block.type  == 40:\n",
    "            for k in BLOCK_ATTRS.get(40, []):\n",
    "                getattr(gps, f'_{k}').append(getattr(block, k))\n",
    "            continue\n",
    "        attrs=KEY_ATTRS.get(block.type, [])\n",
    "        values = getattrs(block, attrs=attrs)\n",
    "        if block.type in SPECTRAL_BLOCKS:\n",
    "            if values not in fluxos:\n",
    "                attrs = [a for a in attrs] + ['thresh', 'minimum']\n",
    "                metadata = namedtuple('metadata', attrs)\n",
    "                attrs = list(values) + [block.thresh, block.minimum]\n",
    "                spec[values] = CrfsSpectrum(metadata(*attrs))\n",
    "            time = getattr(block, 'wallclock_datetime')\n",
    "            attr = 'raw_data' if block.type in (64, 68) else 'levels'\n",
    "            data = getattr(block, attr)\n",
    "            spec[values].append(time, data)\n",
    "        else:\n",
    "            meta.update(dict(zip(attrs, values)))\n",
    "    meta['gps'] = gps\n",
    "    meta['spectrum'] = list(spec.values()) \n",
    "    return meta"
   ]
  }
 ],
 "metadata": {
  "kernelspec": {
   "display_name": "Python [conda env:rfpye]",
   "language": "python",
   "name": "python3"
  }
 },
 "nbformat": 4,
 "nbformat_minor": 5
}
