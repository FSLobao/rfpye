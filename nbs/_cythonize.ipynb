{
 "cells": [
  {
   "cell_type": "code",
   "execution_count": null,
   "id": "738d48a4-849e-4fff-b22a-7299e24004e5",
   "metadata": {},
   "outputs": [],
   "source": [
    "#hide\n",
    "import sys, os\n",
    "from pathlib import Path\n",
    "\n",
    "# Insert in Path Project Directory\n",
    "sys.path.insert(0, str(Path().cwd().parent))\n",
    "\n",
    "%load_ext autoreload\n",
    "%load_ext line_profiler\n",
    "%load_ext cython\n",
    "%autoreload 2 "
   ]
  },
  {
   "cell_type": "code",
   "execution_count": null,
   "id": "154f4953-1a47-4f66-99e3-ca3aea14aca4",
   "metadata": {},
   "outputs": [],
   "source": [
    "#exporti\n",
    "import os\n",
    "from pathlib import Path\n",
    "from typing import *\n",
    "from collections import defaultdict, namedtuple\n",
    "from fastcore.basics import partialler, listify\n",
    "from fastcore.utils import parallel\n",
    "from fastcore.foundation import L\n",
    "from rfpye.constants import BYTES_HEADER, ENDMARKER, KEY_ATTRS\n",
    "from rfpye.blocks import MAIN_BLOCKS\n",
    "from rfpye.utils import get_files, getattrs, bin2int, bin2str\n",
    "from rfpye.parser import *\n",
    "from rfpye.cyparser import cy_extract_compressed\n",
    "from loguru import logger\n",
    "import pandas as pd\n",
    "import numpy as np"
   ]
  },
  {
   "cell_type": "code",
   "execution_count": null,
   "id": "364983e4-0aaa-4073-8d2a-5bc7250b55d3",
   "metadata": {},
   "outputs": [],
   "source": [
    "files = get_files(r'D:\\OneDrive - ANATEL\\Sensores', extensions=['.bin'])\n",
    "file = files.shuffle()[0]"
   ]
  },
  {
   "cell_type": "code",
   "execution_count": null,
   "id": "92a2f10d-7eb2-43a9-aefc-60b498005397",
   "metadata": {},
   "outputs": [
    {
     "data": {
      "text/plain": [
       "Timer unit: 3.52617e-07 s\n",
       "\n",
       "Total time: 19.2928 s\n",
       "File: C:\\Users\\rsilva\\Code\\rfpye\\rfpye\\parser.py\n",
       "Function: classify_blocks at line 196\n",
       "\n",
       "Line #      Hits         Time  Per Hit   % Time  Line Contents\n",
       "==============================================================\n",
       "   196                                           def classify_blocks(byte_blocks: Iterable) -> dict:\n",
       "   197                                               \"\"\"Receives an iterable with binary blocks and returns a dict with the metadata from file, the gps class and a list with the different spectrum classes\"\"\"\n",
       "   198         1         13.0     13.0      0.0      meta = {}\n",
       "   199         1          3.0      3.0      0.0      fluxos = {}\n",
       "   200         1         68.0     68.0      0.0      gps = CrfsGPS()\n",
       "   201         1         21.0     21.0      0.0      gps_attrs = [f'_{k}' for k in BLOCK_ATTRS.get(40, [])]\n",
       "   202     43760      94232.0      2.2      0.2      for byte_block in byte_blocks:\n",
       "   203     43759   17632737.0    403.0     32.2          block = create_block(byte_block)\n",
       "   204     43759     102960.0      2.4      0.2          if not block: continue\n",
       "   205     42319    1514268.0     35.8      2.8          if block.type  == 40:\n",
       "   206     54336     117157.0      2.2      0.2              for k in BLOCK_ATTRS.get(40, []):\n",
       "   207     45280    2714871.0     60.0      5.0                  getattr(gps, f'_{k}').append(getattr(block, k))\n",
       "   208      9056      14468.0      1.6      0.0              continue\n",
       "   209     33263   20526103.0    617.1     37.5          attrs = getattrs(block, attrs=KEY_ATTRS.get(block.type, []))\n",
       "   210     33263    1312795.0     39.5      2.4          if block.type in SPECTRAL_BLOCKS:\n",
       "   211     33110     402839.0     12.2      0.7              values, fluxos = check_block_exists(attrs, fluxos, block)\n",
       "   212     33110    4286312.0    129.5      7.8              time = getattr(block, 'wallclock_datetime')\n",
       "   213     33110    1350873.0     40.8      2.5              attr = 'raw_data' if block.type in COMPRESSED else 'levels'\n",
       "   214     33110    3855834.0    116.5      7.0              data = getattr(block, attr)\n",
       "   215     33110     786637.0     23.8      1.4              fluxos[values]._append(time, data)\n",
       "   216                                                   else:\n",
       "   217       153        711.0      4.6      0.0              meta.update(attrs)\n",
       "   218         1          3.0      3.0      0.0      meta['gps'] = gps\n",
       "   219         1        113.0    113.0      0.0      meta['spectrum'] = L(fluxos.values())\n",
       "   220         1          4.0      4.0      0.0      return meta"
      ]
     },
     "metadata": {},
     "output_type": "display_data"
    }
   ],
   "source": [
    "%lprun -f classify_blocks blocks = parse_bin(file)"
   ]
  },
  {
   "cell_type": "code",
   "execution_count": null,
   "id": "f405af16-1eb4-4e75-afc3-07a2c2449c03",
   "metadata": {},
   "outputs": [],
   "source": [
    "%%cython --annotate\n",
    "cimport cython\n",
    "\n",
    "ctypedef object CrfsGPS\n",
    "\n",
    "@cython.boundscheck(False)\n",
    "@cython.wraparound(False)\n",
    "cpdef dict classify_blocks(list byte_blocks):\n",
    "    \"\"\"Receives an iterable with binary blocks and returns a dict with the metadata from file, the gps class and a list with the different spectrum classes\"\"\"\n",
    "    \n",
    "    cdef dict meta = {}\n",
    "    cdef dict spec = {}\n",
    "    cdef object gps\n",
    "    cdef list gps_attrs\n",
    "    gps = CrfsGPS()\n",
    "    gps_attrs = [f'_{k}' for k in BLOCK_ATTRS.get(40, [])]\n",
    "    for byte_block in byte_blocks:\n",
    "        block = create_block(byte_block)\n",
    "        if not block: continue \n",
    "        if block.type  == 40:\n",
    "            for k in BLOCK_ATTRS.get(40, []):\n",
    "                getattr(gps, f'_{k}').append(getattr(block, k))\n",
    "            continue\n",
    "        attrs=KEY_ATTRS.get(block.type, [])\n",
    "        values = getattrs(block, attrs=attrs)\n",
    "        if block.type in SPECTRAL_BLOCKS:\n",
    "            if values not in fluxos:\n",
    "                attrs = [a for a in attrs] + ['thresh', 'minimum']\n",
    "                metadata = namedtuple('metadata', attrs)\n",
    "                attrs = list(values) + [block.thresh, block.minimum]\n",
    "                spec[values] = CrfsSpectrum(metadata(*attrs))\n",
    "            time = getattr(block, 'wallclock_datetime')\n",
    "            attr = 'raw_data' if block.type in (64, 68) else 'levels'\n",
    "            data = getattr(block, attr)\n",
    "            spec[values].append(time, data)\n",
    "        else:\n",
    "            meta.update(dict(zip(attrs, values)))\n",
    "    meta['gps'] = gps\n",
    "    meta['spectrum'] = list(spec.values()) \n",
    "    return meta"
   ]
  }
 ],
 "metadata": {
  "kernelspec": {
   "display_name": "Python [conda env:rfpye]",
   "language": "python",
   "name": "conda-env-rfpye-py"
  }
 },
 "nbformat": 4,
 "nbformat_minor": 5
}
