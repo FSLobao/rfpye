{
 "cells": [
  {
   "cell_type": "code",
   "execution_count": null,
   "metadata": {},
   "outputs": [],
   "source": [
    "#default_exp main"
   ]
  },
  {
   "cell_type": "markdown",
   "metadata": {},
   "source": [
    "# Metadados e Espectro\n",
    "> Módulo com funções que encapsulam o processamento completo e retorno de metadados, matrix de nível."
   ]
  },
  {
   "cell_type": "code",
   "execution_count": null,
   "metadata": {},
   "outputs": [],
   "source": [
    "#hide \n",
    "#Standard Lib imports\n",
    "import sys, os\n",
    "from pathlib import Path\n",
    "\n",
    "# Insert in Path Project Directory\n",
    "sys.path.insert(0, str(Path().cwd().parent))"
   ]
  },
  {
   "cell_type": "code",
   "execution_count": null,
   "metadata": {},
   "outputs": [],
   "source": [
    "#hide\n",
    "%load_ext autoreload\n",
    "%autoreload 2            #Reload the code automatically\n",
    "%config Completer.use_jedi = False"
   ]
  },
  {
   "cell_type": "code",
   "execution_count": null,
   "metadata": {},
   "outputs": [],
   "source": [
    "#export\n",
    "from datetime import datetime\n",
    "from typing import Union, Iterable\n",
    "import os\n",
    "\n",
    "from fastcore.basics import typed\n",
    "from fastcore.xtras import Path\n",
    "from fastcore.xtras import is_listy\n",
    "from fastcore.foundation import L\n",
    "import numpy as np\n",
    "import pandas as pd\n",
    "\n",
    "from rich import print\n",
    "from loguru import logger\n",
    "from rfpye.utils import *\n",
    "from rfpye.constants import SPECTRAL_BLOCKS, console\n",
    "from rfpye.parser import parse_bin, export_metadata\n",
    "\n",
    "BTYPES = [21, 40] + SPECTRAL_BLOCKS\n",
    "FILTER_ATTRS = {21: ['hostname', 'method'],\n",
    "                40: ['altitude', 'latitude', 'longitude'],\n",
    "                63: ['wallclock_datetime', 'sample', 'minimum', 'ndata', 'processing', 'bw', 'unit', 'description', 'start_mega', 'stop_mega'],\n",
    "                67: ['wallclock_datetime', 'sample', 'minimum', 'ndata', 'processing', 'bw', 'unit', 'description', 'start_mega', 'stop_mega'],\n",
    "                68: ['wallclock_datetime', 'sample', 'minimum', 'ndata', 'processing', 'bw', 'unit', 'description', 'start_mega', 'stop_mega']}"
   ]
  },
  {
   "cell_type": "code",
   "execution_count": null,
   "metadata": {},
   "outputs": [
    {
     "data": {
      "text/plain": [
       "2"
      ]
     },
     "execution_count": null,
     "metadata": {},
     "output_type": "execute_result"
    }
   ],
   "source": [
    "#exporti\n",
    "logger.add(\"rfpye.log\", rotation=\"1 week\", compression='zip', backtrace=True, diagnose=True) "
   ]
  },
  {
   "cell_type": "code",
   "execution_count": null,
   "metadata": {},
   "outputs": [],
   "source": [
    "#export\n",
    "def parse_path(path: Union[list, str])->Iterable:\n",
    "    if is_listy(path):\n",
    "        return [f for f in L(path).map(Path) if f.is_file() and f.suffix == '.bin']\n",
    "    if isinstance(path, (str, Path)):\n",
    "        path = Path(path)\n",
    "        if path.is_file() and path.suffix == '.bin':\n",
    "                return [path]\n",
    "        elif path.is_dir():\n",
    "            return get_files(path, extensions=[\".bin\"])        \n",
    "    raise ValueError(f\"Caminho de Entrada inválido: {path}. Insira um caminho para uma pasta, um arquivo ou lista de arquivos\")"
   ]
  },
  {
   "cell_type": "code",
   "execution_count": null,
   "metadata": {},
   "outputs": [],
   "source": [
    "#export\n",
    "@logger.catch\n",
    "def extract_bin_data(\n",
    "    path: Union[list, str],\n",
    "    meta_attrs: Iterable = None,\n",
    "    spec_data: bool = False,\n",
    "    spec_dtype: str = \"float16\",\n",
    "    \n",
    ") -> None:\n",
    "    \"\"\"Recebe uma pasta ou arquivo bin, processa e salva os metadados e espectro na saida.\n",
    "\n",
    "    Args:\n",
    "        path (str): Arquivo ou Lista de Arquivos .bin | Caminho para a Pasta\n",
    "        spec_data (bool, optional): Retornar dados de Espectro?. Defaults to False.\n",
    "        dtype (str, optional): Tipo de dados a salvar o espectro. Defaults to \"float16\".\n",
    "    \"\"\"\n",
    "    lista_bins = parse_path(path)\n",
    "\n",
    "    console.rule(\"Lista de Arquivos a serem processados\", style=\"bold red\")\n",
    "    console.print(\n",
    "        [f.name for f in lista_bins],\n",
    "        style=\"bold white\",\n",
    "        overflow=\"fold\",\n",
    "        justify=\"left\",\n",
    "    )\n",
    "    if not lista_bins:\n",
    "        console.print(\":sleeping: Nenhum arquivo .bin a processar :zzz:\")\n",
    "        return\n",
    "    \n",
    "    output = []\n",
    "    for file in lista_bins:\n",
    "        console.print(f\"[green]Processando Blocos de: [red]{file.name}\")\n",
    "        parsed_bin = parse_bin(file, btypes=BTYPES)\n",
    "        file_version, blocks = parsed_bin.values()\n",
    "        metadata = export_metadata(blocks, filter_attrs=FILTER_ATTRS)\n",
    "        out = dict()\n",
    "        out['File_Name'] = file.name\n",
    "        out['File_Version'] = file_version\n",
    "        out['File_Type'] = 'RFEye Logger Trace'\n",
    "        out['Device'] = 'Rfeye Node'\n",
    "        out['Fluxos'] = dict()\n",
    "        for (btype, tid), df in metadata.items():\n",
    "            if btype == 21:\n",
    "                out['Equipment_ID'] = df.hostname.item()\n",
    "                out['Script_Version'] = df.method.item()\n",
    "            elif btype == 40:\n",
    "                out['Latitude'] = df.latitude.median()\n",
    "                out['Longitude'] = df.longitude.median()\n",
    "                out['Altitude'] = df.altitude.median()\n",
    "                out['Count_GPS'] = df.shape[0]\n",
    "                out['Sum_Latitude']  = df.latitude.sum()\n",
    "                out['Sum_Longitude'] = df.longitude.sum()\n",
    "            elif btype in SPECTRAL_BLOCKS:\n",
    "                timestamp = df.index.values\n",
    "                level = dict()\n",
    "                level['Initial_Time'] = timestamp.min()\n",
    "                level['Sample_Duration'] = df['sample'].median()\n",
    "                fluxo = df.drop(['minimum', 'sample'], axis=1).iloc[0]\n",
    "                level['Description'] = fluxo.description\n",
    "                level['Start_Frequency'] = fluxo.start_mega\n",
    "                level['Stop_Frequency'] = fluxo.stop_mega\n",
    "                level['Trace_Type'] = fluxo.processing\n",
    "                level['Resolution'] = fluxo.bw\n",
    "                level['Level_Units'] = fluxo.unit\n",
    "                level['Num_Traces'] = df.shape[0]\n",
    "                level['Vector_Length'] = fluxo.ndata\n",
    "                level['Timestamp'] = timestamp\n",
    "                if spec_data:\n",
    "                    if save_path:\n",
    "                        level['Minimum_Level'] = df.minimum.values.astype('float16')\n",
    "                        level['Level_Data'] = extract_level(blocks[(btype, tid)], dtype=np.uint8).flatten()\n",
    "                    else:\n",
    "                        level['Frequency'] = np.linspace(fluxo.start_mega, fluxo.stop_mega, num=fluxo.ndata)\n",
    "                        level['Level_Data'] = extract_level(blocks[(btype, tid)], dtype=dtype)\n",
    "                out['Fluxos'][(btype, tid)] =  level\n",
    "            else:\n",
    "                print(btype)\n",
    "        done.add(file.name)\n",
    "        output[file.name] = out\n",
    "\n",
    "    if save_path:\n",
    "        log.write_text(\"\\n\".join(sorted(list(done))))\n",
    "    return output"
   ]
  },
  {
   "cell_type": "markdown",
   "metadata": {},
   "source": [
    "Uso mais comum: Diretório com arquivos CRFS bin\n",
    "A função seguinte recebe um caminho para um arquivo `.bin` ou para uma pasta que contém arquivos bin e retorna os metadados do arquivo como um dicionário. "
   ]
  },
  {
   "cell_type": "code",
   "execution_count": null,
   "metadata": {},
   "outputs": [],
   "source": [
    "path = Path(r'D:\\OneDrive - ANATEL\\BinFiles\\Combo3 (Tipos de dados 4, 7, 8, 60-65 e 67-69)')"
   ]
  },
  {
   "cell_type": "code",
   "execution_count": null,
   "metadata": {},
   "outputs": [],
   "source": [
    "if not path.exists() or not len(get_files(path, extensions=['.bin'])):\n",
    "    path = Path('.')\n",
    "    !wget --header 'Host: raw.githubusercontent.com' --user-agent 'Mozilla/5.0 (Windows NT 10.0; Win64; x64; rv:89.0) Gecko/20100101 Firefox/89.0' --header 'Accept: text/html,application/xhtml+xml,application/xml;q=0.9,image/webp,*/*;q=0.8' --header 'Accept-Language: pt-BR,pt;q=0.8,en-US;q=0.5,en;q=0.3' --referer 'https://github.com/EricMagalhaesDelgado/SpecFiles/blob/main/Combo3%20(CRFS%20Bin%20-%20DataTypes%204%2C%207%2C%208%2C%2060-65%20e%2067-69)/rfeye002092_210208_T202310_CRFSBINv.5.bin' --header 'DNT: 1' --header 'Upgrade-Insecure-Requests: 1' 'https://raw.githubusercontent.com/EricMagalhaesDelgado/SpecFiles/main/Combo3%20(CRFS%20Bin%20-%20DataTypes%204%2C%207%2C%208%2C%2060-65%20e%2067-69)/rfeye002092_210208_T202310_CRFSBINv.5.bin' --output-document 'rfeye002092_210208_T202310_CRFSBINv.5.bin'\n",
    "    !wget --header 'Host: raw.githubusercontent.com' --user-agent 'Mozilla/5.0 (Windows NT 10.0; Win64; x64; rv:89.0) Gecko/20100101 Firefox/89.0' --header 'Accept: text/html,application/xhtml+xml,application/xml;q=0.9,image/webp,*/*;q=0.8' --header 'Accept-Language: pt-BR,pt;q=0.8,en-US;q=0.5,en;q=0.3' --referer 'https://github.com/EricMagalhaesDelgado/SpecFiles/blob/main/Combo3%20(CRFS%20Bin%20-%20DataTypes%204%2C%207%2C%208%2C%2060-65%20e%2067-69)/rfeye002092_210208_T203131_CRFSBINv.2.bin' --header 'DNT: 1' --header 'Upgrade-Insecure-Requests: 1' 'https://raw.githubusercontent.com/EricMagalhaesDelgado/SpecFiles/main/Combo3%20(CRFS%20Bin%20-%20DataTypes%204%2C%207%2C%208%2C%2060-65%20e%2067-69)/rfeye002092_210208_T203131_CRFSBINv.2.bin' --output-document 'rfeye002092_210208_T203131_CRFSBINv.2.bin'\n",
    "    !wget --header 'Host: raw.githubusercontent.com' --user-agent 'Mozilla/5.0 (Windows NT 10.0; Win64; x64; rv:89.0) Gecko/20100101 Firefox/89.0' --header 'Accept: text/html,application/xhtml+xml,application/xml;q=0.9,image/webp,*/*;q=0.8' --header 'Accept-Language: pt-BR,pt;q=0.8,en-US;q=0.5,en;q=0.3' --referer 'https://github.com/EricMagalhaesDelgado/SpecFiles/blob/main/Combo3%20(CRFS%20Bin%20-%20DataTypes%204%2C%207%2C%208%2C%2060-65%20e%2067-69)/rfeye002292_210208_T202215_CRFSBINv.4.bin' --header 'DNT: 1' --header 'Upgrade-Insecure-Requests: 1' 'https://raw.githubusercontent.com/EricMagalhaesDelgado/SpecFiles/main/Combo3%20(CRFS%20Bin%20-%20DataTypes%204%2C%207%2C%208%2C%2060-65%20e%2067-69)/rfeye002292_210208_T202215_CRFSBINv.4.bin' --output-document 'rfeye002292_210208_T202215_CRFSBINv.4.bin'\n",
    "    !wget --header 'Host: raw.githubusercontent.com' --user-agent 'Mozilla/5.0 (Windows NT 10.0; Win64; x64; rv:89.0) Gecko/20100101 Firefox/89.0' --header 'Accept: text/html,application/xhtml+xml,application/xml;q=0.9,image/webp,*/*;q=0.8' --header 'Accept-Language: pt-BR,pt;q=0.8,en-US;q=0.5,en;q=0.3' --referer 'https://github.com/EricMagalhaesDelgado/SpecFiles/blob/main/Combo3%20(CRFS%20Bin%20-%20DataTypes%204%2C%207%2C%208%2C%2060-65%20e%2067-69)/rfeye002292_210208_T203238_CRFSBINv.3.bin' --header 'DNT: 1' --header 'Upgrade-Insecure-Requests: 1' 'https://raw.githubusercontent.com/EricMagalhaesDelgado/SpecFiles/main/Combo3%20(CRFS%20Bin%20-%20DataTypes%204%2C%207%2C%208%2C%2060-65%20e%2067-69)/rfeye002292_210208_T203238_CRFSBINv.3.bin' --output-document 'rfeye002292_210208_T203238_CRFSBINv.3.bin'\n"
   ]
  },
  {
   "cell_type": "code",
   "execution_count": null,
   "metadata": {},
   "outputs": [
    {
     "data": {
      "text/html": [
       "<pre style=\"white-space:pre;overflow-x:auto;line-height:normal;font-family:Menlo,'DejaVu Sans Mono',consolas,'Courier New',monospace\"><span style=\"color: #800000; text-decoration-color: #800000; font-weight: bold\">─────────────────────────── </span>Lista de Arquivos a serem processados<span style=\"color: #800000; text-decoration-color: #800000; font-weight: bold\"> ───────────────────────────</span>\n",
       "</pre>\n"
      ],
      "text/plain": [
       "\u001b[1;31m─────────────────────────── \u001b[0mLista de Arquivos a serem processados\u001b[1;31m ───────────────────────────\u001b[0m\n"
      ]
     },
     "metadata": {},
     "output_type": "display_data"
    },
    {
     "data": {
      "text/html": [
       "<pre style=\"white-space:pre;overflow-x:auto;line-height:normal;font-family:Menlo,'DejaVu Sans Mono',consolas,'Courier New',monospace\"><span style=\"color: #c0c0c0; text-decoration-color: #c0c0c0; font-weight: bold\">[                                                                                            </span>\n",
       "<span style=\"color: #c0c0c0; text-decoration-color: #c0c0c0; font-weight: bold\">    </span><span style=\"color: #008000; text-decoration-color: #008000\">'rfeye002092_210208_T202310_CRFSBINv.5.bin'</span><span style=\"color: #c0c0c0; text-decoration-color: #c0c0c0; font-weight: bold\">,                                             </span>\n",
       "<span style=\"color: #c0c0c0; text-decoration-color: #c0c0c0; font-weight: bold\">    </span><span style=\"color: #008000; text-decoration-color: #008000\">'rfeye002092_210208_T203131_CRFSBINv.2.bin'</span><span style=\"color: #c0c0c0; text-decoration-color: #c0c0c0; font-weight: bold\">,                                             </span>\n",
       "<span style=\"color: #c0c0c0; text-decoration-color: #c0c0c0; font-weight: bold\">    </span><span style=\"color: #008000; text-decoration-color: #008000\">'rfeye002292_210208_T202215_CRFSBINv.4.bin'</span><span style=\"color: #c0c0c0; text-decoration-color: #c0c0c0; font-weight: bold\">,                                             </span>\n",
       "<span style=\"color: #c0c0c0; text-decoration-color: #c0c0c0; font-weight: bold\">    </span><span style=\"color: #008000; text-decoration-color: #008000\">'rfeye002292_210208_T203238_CRFSBINv.3.bin'</span><span style=\"color: #c0c0c0; text-decoration-color: #c0c0c0; font-weight: bold\">                                              </span>\n",
       "<span style=\"color: #c0c0c0; text-decoration-color: #c0c0c0; font-weight: bold\">]                                                                                            </span>\n",
       "</pre>\n"
      ],
      "text/plain": [
       "\u001b[1;37m[\u001b[0m\u001b[1;37m                                               \u001b[0m\u001b[1;37m                                             \u001b[0m\n",
       "\u001b[1;37m    \u001b[0m\u001b[32m'rfeye002092_210208_T202310_CRFSBINv.5.bin'\u001b[0m\u001b[1;37m,\u001b[0m\u001b[1;37m                                             \u001b[0m\n",
       "\u001b[1;37m    \u001b[0m\u001b[32m'rfeye002092_210208_T203131_CRFSBINv.2.bin'\u001b[0m\u001b[1;37m,\u001b[0m\u001b[1;37m                                             \u001b[0m\n",
       "\u001b[1;37m    \u001b[0m\u001b[32m'rfeye002292_210208_T202215_CRFSBINv.4.bin'\u001b[0m\u001b[1;37m,\u001b[0m\u001b[1;37m                                             \u001b[0m\n",
       "\u001b[1;37m    \u001b[0m\u001b[32m'rfeye002292_210208_T203238_CRFSBINv.3.bin'\u001b[0m\u001b[1;37m \u001b[0m\u001b[1;37m                                             \u001b[0m\n",
       "\u001b[1;37m]\u001b[0m\u001b[1;37m                                               \u001b[0m\u001b[1;37m                                             \u001b[0m\n"
      ]
     },
     "metadata": {},
     "output_type": "display_data"
    },
    {
     "data": {
      "text/html": [
       "<pre style=\"white-space:pre;overflow-x:auto;line-height:normal;font-family:Menlo,'DejaVu Sans Mono',consolas,'Courier New',monospace\"><span style=\"color: #008000; text-decoration-color: #008000\">Processando Blocos de: </span><span style=\"color: #800000; text-decoration-color: #800000\">rfeye002092_210208_T202310_CRFSBINv.</span><span style=\"color: #800000; text-decoration-color: #800000; font-weight: bold\">5.</span><span style=\"color: #800000; text-decoration-color: #800000\">bin</span>\n",
       "</pre>\n"
      ],
      "text/plain": [
       "\u001b[32mProcessando Blocos de: \u001b[0m\u001b[31mrfeye002092_210208_T202310_CRFSBINv.\u001b[0m\u001b[1;31m5.\u001b[0m\u001b[31mbin\u001b[0m\n"
      ]
     },
     "metadata": {},
     "output_type": "display_data"
    },
    {
     "name": "stderr",
     "output_type": "stream",
     "text": [
      "2021-10-07 16:13:14.648 | ERROR    | __main__:<module>:1 - An error has been caught in function '<module>', process 'MainProcess' (11816), thread 'MainThread' (22380):\n",
      "Traceback (most recent call last):\n",
      "\n",
      "  File \"C:\\Users\\rsilva\\Miniconda3\\envs\\rfpye\\lib\\runpy.py\", line 193, in _run_module_as_main\n",
      "    \"__main__\", mod_spec)\n",
      "                └ ModuleSpec(name='ipykernel_launcher', loader=<_frozen_importlib_external.SourceFileLoader object at 0x00000291A84EEF48>, orig...\n",
      "\n",
      "  File \"C:\\Users\\rsilva\\Miniconda3\\envs\\rfpye\\lib\\runpy.py\", line 85, in _run_code\n",
      "    exec(code, run_globals)\n",
      "         │     └ {'__name__': '__main__', '__doc__': 'Entry point for launching an IPython kernel.\\n\\nThis is separate from the ipykernel pack...\n",
      "         └ <code object <module> at 0x00000291A8DB3270, file \"C:\\Users\\rsilva\\Miniconda3\\envs\\rfpye\\lib\\site-packages\\ipykernel_launcher...\n",
      "\n",
      "  File \"C:\\Users\\rsilva\\Miniconda3\\envs\\rfpye\\lib\\site-packages\\ipykernel_launcher.py\", line 16, in <module>\n",
      "    app.launch_new_instance()\n",
      "    │   └ <bound method Application.launch_instance of <class 'ipykernel.kernelapp.IPKernelApp'>>\n",
      "    └ <module 'ipykernel.kernelapp' from 'C:\\\\Users\\\\rsilva\\\\Miniconda3\\\\envs\\\\rfpye\\\\lib\\\\site-packages\\\\ipykernel\\\\kernelapp.py'>\n",
      "\n",
      "  File \"C:\\Users\\rsilva\\Miniconda3\\envs\\rfpye\\lib\\site-packages\\traitlets\\config\\application.py\", line 846, in launch_instance\n",
      "    app.start()\n",
      "    │   └ <function IPKernelApp.start at 0x00000291ABE5FCA8>\n",
      "    └ <ipykernel.kernelapp.IPKernelApp object at 0x00000291A8455408>\n",
      "\n",
      "  File \"C:\\Users\\rsilva\\Miniconda3\\envs\\rfpye\\lib\\site-packages\\ipykernel\\kernelapp.py\", line 677, in start\n",
      "    self.io_loop.start()\n",
      "    │    │       └ <function BaseAsyncIOLoop.start at 0x00000291A9E6AF78>\n",
      "    │    └ <tornado.platform.asyncio.AsyncIOMainLoop object at 0x00000291ABE8B148>\n",
      "    └ <ipykernel.kernelapp.IPKernelApp object at 0x00000291A8455408>\n",
      "\n",
      "  File \"C:\\Users\\rsilva\\Miniconda3\\envs\\rfpye\\lib\\site-packages\\tornado\\platform\\asyncio.py\", line 199, in start\n",
      "    self.asyncio_loop.run_forever()\n",
      "    │    │            └ <function BaseEventLoop.run_forever at 0x00000291A985CAF8>\n",
      "    │    └ <_WindowsSelectorEventLoop running=True closed=False debug=False>\n",
      "    └ <tornado.platform.asyncio.AsyncIOMainLoop object at 0x00000291ABE8B148>\n",
      "\n",
      "  File \"C:\\Users\\rsilva\\Miniconda3\\envs\\rfpye\\lib\\asyncio\\base_events.py\", line 541, in run_forever\n",
      "    self._run_once()\n",
      "    │    └ <function BaseEventLoop._run_once at 0x00000291A98615E8>\n",
      "    └ <_WindowsSelectorEventLoop running=True closed=False debug=False>\n",
      "\n",
      "  File \"C:\\Users\\rsilva\\Miniconda3\\envs\\rfpye\\lib\\asyncio\\base_events.py\", line 1786, in _run_once\n",
      "    handle._run()\n",
      "    │      └ <function Handle._run at 0x00000291A98139D8>\n",
      "    └ <Handle <TaskWakeupMethWrapper object at 0x00000291BCAFA5E8>(<Future finis...7C8>, ...],))>)>\n",
      "\n",
      "  File \"C:\\Users\\rsilva\\Miniconda3\\envs\\rfpye\\lib\\asyncio\\events.py\", line 88, in _run\n",
      "    self._context.run(self._callback, *self._args)\n",
      "    │    │            │    │           │    └ <member '_args' of 'Handle' objects>\n",
      "    │    │            │    │           └ <Handle <TaskWakeupMethWrapper object at 0x00000291BCAFA5E8>(<Future finis...7C8>, ...],))>)>\n",
      "    │    │            │    └ <member '_callback' of 'Handle' objects>\n",
      "    │    │            └ <Handle <TaskWakeupMethWrapper object at 0x00000291BCAFA5E8>(<Future finis...7C8>, ...],))>)>\n",
      "    │    └ <member '_context' of 'Handle' objects>\n",
      "    └ <Handle <TaskWakeupMethWrapper object at 0x00000291BCAFA5E8>(<Future finis...7C8>, ...],))>)>\n",
      "\n",
      "  File \"C:\\Users\\rsilva\\Miniconda3\\envs\\rfpye\\lib\\site-packages\\ipykernel\\kernelbase.py\", line 457, in dispatch_queue\n",
      "    await self.process_one()\n",
      "          │    └ <function Kernel.process_one at 0x00000291AB6E28B8>\n",
      "          └ <ipykernel.ipkernel.IPythonKernel object at 0x00000291ABEB0E88>\n",
      "\n",
      "  File \"C:\\Users\\rsilva\\Miniconda3\\envs\\rfpye\\lib\\site-packages\\ipykernel\\kernelbase.py\", line 446, in process_one\n",
      "    await dispatch(*args)\n",
      "          │         └ ([<zmq.sugar.frame.Frame object at 0x00000291ABDB4348>, <zmq.sugar.frame.Frame object at 0x00000291ABDB44C8>, <zmq.sugar.fram...\n",
      "          └ <bound method Kernel.dispatch_shell of <ipykernel.ipkernel.IPythonKernel object at 0x00000291ABEB0E88>>\n",
      "\n",
      "  File \"C:\\Users\\rsilva\\Miniconda3\\envs\\rfpye\\lib\\site-packages\\ipykernel\\kernelbase.py\", line 353, in dispatch_shell\n",
      "    await result\n",
      "          └ <coroutine object Kernel.execute_request at 0x00000291BD1734C8>\n",
      "\n",
      "  File \"C:\\Users\\rsilva\\Miniconda3\\envs\\rfpye\\lib\\site-packages\\ipykernel\\kernelbase.py\", line 648, in execute_request\n",
      "    reply_content = await reply_content\n",
      "                          └ <coroutine object IPythonKernel.do_execute at 0x00000291BD899EC8>\n",
      "\n",
      "  File \"C:\\Users\\rsilva\\Miniconda3\\envs\\rfpye\\lib\\site-packages\\ipykernel\\ipkernel.py\", line 353, in do_execute\n",
      "    res = shell.run_cell(code, store_history=store_history, silent=silent)\n",
      "          │     │        │                   │                     └ False\n",
      "          │     │        │                   └ True\n",
      "          │     │        └ 'dados = extract_bin_data(path)'\n",
      "          │     └ <function ZMQInteractiveShell.run_cell at 0x00000291AB6FE828>\n",
      "          └ <ipykernel.zmqshell.ZMQInteractiveShell object at 0x00000291ABED4C48>\n",
      "\n",
      "  File \"C:\\Users\\rsilva\\Miniconda3\\envs\\rfpye\\lib\\site-packages\\ipykernel\\zmqshell.py\", line 533, in run_cell\n",
      "    return super(ZMQInteractiveShell, self).run_cell(*args, **kwargs)\n",
      "                 │                    │               │       └ {'store_history': True, 'silent': False}\n",
      "                 │                    │               └ ('dados = extract_bin_data(path)',)\n",
      "                 │                    └ <ipykernel.zmqshell.ZMQInteractiveShell object at 0x00000291ABED4C48>\n",
      "                 └ <class 'ipykernel.zmqshell.ZMQInteractiveShell'>\n",
      "\n",
      "  File \"C:\\Users\\rsilva\\Miniconda3\\envs\\rfpye\\lib\\site-packages\\IPython\\core\\interactiveshell.py\", line 2902, in run_cell\n",
      "    raw_cell, store_history, silent, shell_futures)\n",
      "    │         │              │       └ True\n",
      "    │         │              └ False\n",
      "    │         └ True\n",
      "    └ 'dados = extract_bin_data(path)'\n",
      "\n",
      "  File \"C:\\Users\\rsilva\\Miniconda3\\envs\\rfpye\\lib\\site-packages\\IPython\\core\\interactiveshell.py\", line 2947, in _run_cell\n",
      "    return runner(coro)\n",
      "           │      └ <coroutine object InteractiveShell.run_cell_async at 0x00000291BD89C2C8>\n",
      "           └ <function _pseudo_sync_runner at 0x00000291AA2B28B8>\n",
      "\n",
      "  File \"C:\\Users\\rsilva\\Miniconda3\\envs\\rfpye\\lib\\site-packages\\IPython\\core\\async_helpers.py\", line 68, in _pseudo_sync_runner\n",
      "    coro.send(None)\n",
      "    │    └ <method 'send' of 'coroutine' objects>\n",
      "    └ <coroutine object InteractiveShell.run_cell_async at 0x00000291BD89C2C8>\n",
      "\n",
      "  File \"C:\\Users\\rsilva\\Miniconda3\\envs\\rfpye\\lib\\site-packages\\IPython\\core\\interactiveshell.py\", line 3173, in run_cell_async\n",
      "    interactivity=interactivity, compiler=compiler, result=result)\n",
      "                  │                       │                └ <ExecutionResult object at 291bd1aa9c8, execution_count=41 error_before_exec=None error_in_exec=None info=<ExecutionInfo obje...\n",
      "                  │                       └ <ipykernel.compiler.XCachingCompiler object at 0x00000291ABED4CC8>\n",
      "                  └ 'last_expr'\n",
      "\n",
      "  File \"C:\\Users\\rsilva\\Miniconda3\\envs\\rfpye\\lib\\site-packages\\IPython\\core\\interactiveshell.py\", line 3364, in run_ast_nodes\n",
      "    if (await self.run_code(code, result,  async_=asy)):\n",
      "              │    │        │     │               └ False\n",
      "              │    │        │     └ <ExecutionResult object at 291bd1aa9c8, execution_count=41 error_before_exec=None error_in_exec=None info=<ExecutionInfo obje...\n",
      "              │    │        └ <code object <module> at 0x00000291BCB62930, file \"C:\\Users\\rsilva\\AppData\\Local\\Temp/ipykernel_11816/2930131651.py\", line 1>\n",
      "              │    └ <function InteractiveShell.run_code at 0x00000291AA2C64C8>\n",
      "              └ <ipykernel.zmqshell.ZMQInteractiveShell object at 0x00000291ABED4C48>\n",
      "\n",
      "  File \"C:\\Users\\rsilva\\Miniconda3\\envs\\rfpye\\lib\\site-packages\\IPython\\core\\interactiveshell.py\", line 3444, in run_code\n",
      "    exec(code_obj, self.user_global_ns, self.user_ns)\n",
      "         │         │    │               │    └ {'__name__': '__main__', '__doc__': 'Automatically created module for IPython interactive environment', '__package__': None, ...\n",
      "         │         │    │               └ <ipykernel.zmqshell.ZMQInteractiveShell object at 0x00000291ABED4C48>\n",
      "         │         │    └ <property object at 0x00000291AA2BFAE8>\n",
      "         │         └ <ipykernel.zmqshell.ZMQInteractiveShell object at 0x00000291ABED4C48>\n",
      "         └ <code object <module> at 0x00000291BCB62930, file \"C:\\Users\\rsilva\\AppData\\Local\\Temp/ipykernel_11816/2930131651.py\", line 1>\n",
      "\n",
      "> File \"C:\\Users\\rsilva\\AppData\\Local\\Temp/ipykernel_11816/2930131651.py\", line 1, in <module>\n",
      "    dados = extract_bin_data(path)\n",
      "            │                └ Path('D:/OneDrive - ANATEL/BinFiles/Combo3 (Tipos de dados 4, 7, 8, 60-65 e 67-69)')\n",
      "            └ <function extract_bin_data at 0x00000291BD9B0948>\n",
      "\n",
      "  File \"C:\\Users\\rsilva\\AppData\\Local\\Temp/ipykernel_11816/3784995165.py\", line 84, in extract_bin_data\n",
      "    done.add(file.name)\n",
      "             │    └ <property object at 0x00000291A975D0E8>\n",
      "             └ Path('D:/OneDrive - ANATEL/BinFiles/Combo3 (Tipos de dados 4, 7, 8, 60-65 e 67-69)/rfeye002092_210208_T202310_CRFSBINv.5.bin')\n",
      "\n",
      "NameError: name 'done' is not defined\n"
     ]
    }
   ],
   "source": [
    "dados = extract_bin_data(path)"
   ]
  },
  {
   "cell_type": "code",
   "execution_count": null,
   "metadata": {},
   "outputs": [
    {
     "data": {
      "text/html": [
       "<pre style=\"white-space:pre;overflow-x:auto;line-height:normal;font-family:Menlo,'DejaVu Sans Mono',consolas,'Courier New',monospace\">Metadados do Arquivo rfeye002092_210208_T202310_CRFSBINv.<span style=\"color: #008080; text-decoration-color: #008080; font-weight: bold\">5.</span>bin\n",
       "</pre>\n"
      ],
      "text/plain": [
       "Metadados do Arquivo rfeye002092_210208_T202310_CRFSBINv.\u001b[1;36m5.\u001b[0mbin\n"
      ]
     },
     "metadata": {},
     "output_type": "display_data"
    },
    {
     "data": {
      "text/html": [
       "<pre style=\"white-space:pre;overflow-x:auto;line-height:normal;font-family:Menlo,'DejaVu Sans Mono',consolas,'Courier New',monospace\"><span style=\"font-weight: bold\">{</span>\n",
       "    <span style=\"color: #008000; text-decoration-color: #008000\">'File_Name'</span>: <span style=\"color: #008000; text-decoration-color: #008000\">'rfeye002092_210208_T202310_CRFSBINv.5.bin'</span>,\n",
       "    <span style=\"color: #008000; text-decoration-color: #008000\">'File_Version'</span>: <span style=\"color: #008080; text-decoration-color: #008080; font-weight: bold\">23</span>,\n",
       "    <span style=\"color: #008000; text-decoration-color: #008000\">'File_Type'</span>: <span style=\"color: #008000; text-decoration-color: #008000\">'RFEye Logger Trace'</span>,\n",
       "    <span style=\"color: #008000; text-decoration-color: #008000\">'Device'</span>: <span style=\"color: #008000; text-decoration-color: #008000\">'Rfeye Node'</span>,\n",
       "    <span style=\"color: #008000; text-decoration-color: #008000\">'Equipment_ID'</span>: <span style=\"color: #008000; text-decoration-color: #008000\">'rfeye002092'</span>,\n",
       "    <span style=\"color: #008000; text-decoration-color: #008000\">'Script_Version'</span>: <span style=\"color: #008000; text-decoration-color: #008000\">'Script_CRFSBINv5'</span>,\n",
       "    <span style=\"color: #008000; text-decoration-color: #008000\">'Latitude'</span>: <span style=\"color: #008080; text-decoration-color: #008080; font-weight: bold\">-12.826857</span>,\n",
       "    <span style=\"color: #008000; text-decoration-color: #008000\">'Longitude'</span>: <span style=\"color: #008080; text-decoration-color: #008080; font-weight: bold\">-38.478035</span>,\n",
       "    <span style=\"color: #008000; text-decoration-color: #008000\">'Altitude'</span>: <span style=\"color: #008080; text-decoration-color: #008080; font-weight: bold\">124.3</span>,\n",
       "    <span style=\"color: #008000; text-decoration-color: #008000\">'Count_GPS'</span>: <span style=\"color: #008080; text-decoration-color: #008080; font-weight: bold\">8</span>,\n",
       "    <span style=\"color: #008000; text-decoration-color: #008000\">'Sum_Latitude'</span>: <span style=\"color: #008080; text-decoration-color: #008080; font-weight: bold\">-102.61485</span>,\n",
       "    <span style=\"color: #008000; text-decoration-color: #008000\">'Sum_Longitude'</span>: <span style=\"color: #008080; text-decoration-color: #008080; font-weight: bold\">-307.82428</span>\n",
       "<span style=\"font-weight: bold\">}</span>\n",
       "</pre>\n"
      ],
      "text/plain": [
       "\u001b[1m{\u001b[0m\n",
       "    \u001b[32m'File_Name'\u001b[0m: \u001b[32m'rfeye002092_210208_T202310_CRFSBINv.5.bin'\u001b[0m,\n",
       "    \u001b[32m'File_Version'\u001b[0m: \u001b[1;36m23\u001b[0m,\n",
       "    \u001b[32m'File_Type'\u001b[0m: \u001b[32m'RFEye Logger Trace'\u001b[0m,\n",
       "    \u001b[32m'Device'\u001b[0m: \u001b[32m'Rfeye Node'\u001b[0m,\n",
       "    \u001b[32m'Equipment_ID'\u001b[0m: \u001b[32m'rfeye002092'\u001b[0m,\n",
       "    \u001b[32m'Script_Version'\u001b[0m: \u001b[32m'Script_CRFSBINv5'\u001b[0m,\n",
       "    \u001b[32m'Latitude'\u001b[0m: \u001b[1;36m-12.826857\u001b[0m,\n",
       "    \u001b[32m'Longitude'\u001b[0m: \u001b[1;36m-38.478035\u001b[0m,\n",
       "    \u001b[32m'Altitude'\u001b[0m: \u001b[1;36m124.3\u001b[0m,\n",
       "    \u001b[32m'Count_GPS'\u001b[0m: \u001b[1;36m8\u001b[0m,\n",
       "    \u001b[32m'Sum_Latitude'\u001b[0m: \u001b[1;36m-102.61485\u001b[0m,\n",
       "    \u001b[32m'Sum_Longitude'\u001b[0m: \u001b[1;36m-307.82428\u001b[0m\n",
       "\u001b[1m}\u001b[0m\n"
      ]
     },
     "metadata": {},
     "output_type": "display_data"
    },
    {
     "data": {
      "text/html": [
       "<pre style=\"white-space:pre;overflow-x:auto;line-height:normal;font-family:Menlo,'DejaVu Sans Mono',consolas,'Courier New',monospace\">Fluxos: \n",
       "<span style=\"font-weight: bold\">{</span>\n",
       "    <span style=\"font-weight: bold\">(</span><span style=\"color: #008080; text-decoration-color: #008080; font-weight: bold\">67</span>, <span style=\"color: #008080; text-decoration-color: #008080; font-weight: bold\">20</span><span style=\"font-weight: bold\">)</span>: <span style=\"font-weight: bold\">{</span>\n",
       "        <span style=\"color: #008000; text-decoration-color: #008000\">'Initial_Time'</span>: <span style=\"color: #800080; text-decoration-color: #800080; font-weight: bold\">numpy.datetime64</span><span style=\"font-weight: bold\">(</span><span style=\"color: #008000; text-decoration-color: #008000\">'2021-02-08T20:23:10.500680000'</span><span style=\"font-weight: bold\">)</span>,\n",
       "        <span style=\"color: #008000; text-decoration-color: #008000\">'Sample_Duration'</span>: <span style=\"color: #008080; text-decoration-color: #008080; font-weight: bold\">18073.0</span>,\n",
       "        <span style=\"color: #008000; text-decoration-color: #008000\">'Description'</span>: <span style=\"color: #008000; text-decoration-color: #008000\">'ClearWrite. Peak.'</span>,\n",
       "        <span style=\"color: #008000; text-decoration-color: #008000\">'Start_Frequency'</span>: <span style=\"color: #008080; text-decoration-color: #008080; font-weight: bold\">76</span>,\n",
       "        <span style=\"color: #008000; text-decoration-color: #008000\">'Stop_Frequency'</span>: <span style=\"color: #008080; text-decoration-color: #008080; font-weight: bold\">108</span>,\n",
       "        <span style=\"color: #008000; text-decoration-color: #008000\">'Trace_Type'</span>: <span style=\"color: #008000; text-decoration-color: #008000\">'peak'</span>,\n",
       "        <span style=\"color: #008000; text-decoration-color: #008000\">'RBW'</span>: <span style=\"color: #008080; text-decoration-color: #008080; font-weight: bold\">7381</span>,\n",
       "        <span style=\"color: #008000; text-decoration-color: #008000\">'Level_Units'</span>: <span style=\"color: #008000; text-decoration-color: #008000\">'dBm'</span>,\n",
       "        <span style=\"color: #008000; text-decoration-color: #008000\">'Num_Traces'</span>: <span style=\"color: #008080; text-decoration-color: #008080; font-weight: bold\">956</span>,\n",
       "        <span style=\"color: #008000; text-decoration-color: #008000\">'Vector_Length'</span>: <span style=\"color: #008080; text-decoration-color: #008080; font-weight: bold\">8192</span>\n",
       "    <span style=\"font-weight: bold\">}</span>,\n",
       "    <span style=\"font-weight: bold\">(</span><span style=\"color: #008080; text-decoration-color: #008080; font-weight: bold\">67</span>, <span style=\"color: #008080; text-decoration-color: #008080; font-weight: bold\">30</span><span style=\"font-weight: bold\">)</span>: <span style=\"font-weight: bold\">{</span>\n",
       "        <span style=\"color: #008000; text-decoration-color: #008000\">'Initial_Time'</span>: <span style=\"color: #800080; text-decoration-color: #800080; font-weight: bold\">numpy.datetime64</span><span style=\"font-weight: bold\">(</span><span style=\"color: #008000; text-decoration-color: #008000\">'2021-02-08T20:23:10.522721000'</span><span style=\"font-weight: bold\">)</span>,\n",
       "        <span style=\"color: #008000; text-decoration-color: #008000\">'Sample_Duration'</span>: <span style=\"color: #008080; text-decoration-color: #008080; font-weight: bold\">8552.0</span>,\n",
       "        <span style=\"color: #008000; text-decoration-color: #008000\">'Description'</span>: <span style=\"color: #008000; text-decoration-color: #008000\">'ClearWrite. Peak.'</span>,\n",
       "        <span style=\"color: #008000; text-decoration-color: #008000\">'Start_Frequency'</span>: <span style=\"color: #008080; text-decoration-color: #008080; font-weight: bold\">70</span>,\n",
       "        <span style=\"color: #008000; text-decoration-color: #008000\">'Stop_Frequency'</span>: <span style=\"color: #008080; text-decoration-color: #008080; font-weight: bold\">110</span>,\n",
       "        <span style=\"color: #008000; text-decoration-color: #008000\">'Trace_Type'</span>: <span style=\"color: #008000; text-decoration-color: #008000\">'peak'</span>,\n",
       "        <span style=\"color: #008000; text-decoration-color: #008000\">'RBW'</span>: <span style=\"color: #008080; text-decoration-color: #008080; font-weight: bold\">73828</span>,\n",
       "        <span style=\"color: #008000; text-decoration-color: #008000\">'Level_Units'</span>: <span style=\"color: #008000; text-decoration-color: #008000\">'dBm'</span>,\n",
       "        <span style=\"color: #008000; text-decoration-color: #008000\">'Num_Traces'</span>: <span style=\"color: #008080; text-decoration-color: #008080; font-weight: bold\">988</span>,\n",
       "        <span style=\"color: #008000; text-decoration-color: #008000\">'Vector_Length'</span>: <span style=\"color: #008080; text-decoration-color: #008080; font-weight: bold\">1024</span>\n",
       "    <span style=\"font-weight: bold\">}</span>,\n",
       "    <span style=\"font-weight: bold\">(</span><span style=\"color: #008080; text-decoration-color: #008080; font-weight: bold\">67</span>, <span style=\"color: #008080; text-decoration-color: #008080; font-weight: bold\">10</span><span style=\"font-weight: bold\">)</span>: <span style=\"font-weight: bold\">{</span>\n",
       "        <span style=\"color: #008000; text-decoration-color: #008000\">'Initial_Time'</span>: <span style=\"color: #800080; text-decoration-color: #800080; font-weight: bold\">numpy.datetime64</span><span style=\"font-weight: bold\">(</span><span style=\"color: #008000; text-decoration-color: #008000\">'2021-02-08T20:23:11.979000000'</span><span style=\"font-weight: bold\">)</span>,\n",
       "        <span style=\"color: #008000; text-decoration-color: #008000\">'Sample_Duration'</span>: <span style=\"color: #008080; text-decoration-color: #008080; font-weight: bold\">8076.0</span>,\n",
       "        <span style=\"color: #008000; text-decoration-color: #008000\">'Description'</span>: <span style=\"color: #008000; text-decoration-color: #008000\">'ClearWrite. Peak.'</span>,\n",
       "        <span style=\"color: #008000; text-decoration-color: #008000\">'Start_Frequency'</span>: <span style=\"color: #008080; text-decoration-color: #008080; font-weight: bold\">105</span>,\n",
       "        <span style=\"color: #008000; text-decoration-color: #008000\">'Stop_Frequency'</span>: <span style=\"color: #008080; text-decoration-color: #008080; font-weight: bold\">140</span>,\n",
       "        <span style=\"color: #008000; text-decoration-color: #008000\">'Trace_Type'</span>: <span style=\"color: #008000; text-decoration-color: #008000\">'peak'</span>,\n",
       "        <span style=\"color: #008000; text-decoration-color: #008000\">'RBW'</span>: <span style=\"color: #008080; text-decoration-color: #008080; font-weight: bold\">18457</span>,\n",
       "        <span style=\"color: #008000; text-decoration-color: #008000\">'Level_Units'</span>: <span style=\"color: #008000; text-decoration-color: #008000\">'dBm'</span>,\n",
       "        <span style=\"color: #008000; text-decoration-color: #008000\">'Num_Traces'</span>: <span style=\"color: #008080; text-decoration-color: #008080; font-weight: bold\">477</span>,\n",
       "        <span style=\"color: #008000; text-decoration-color: #008000\">'Vector_Length'</span>: <span style=\"color: #008080; text-decoration-color: #008080; font-weight: bold\">3584</span>\n",
       "    <span style=\"font-weight: bold\">}</span>,\n",
       "    <span style=\"font-weight: bold\">(</span><span style=\"color: #008080; text-decoration-color: #008080; font-weight: bold\">67</span>, <span style=\"color: #008080; text-decoration-color: #008080; font-weight: bold\">11</span><span style=\"font-weight: bold\">)</span>: <span style=\"font-weight: bold\">{</span>\n",
       "        <span style=\"color: #008000; text-decoration-color: #008000\">'Initial_Time'</span>: <span style=\"color: #800080; text-decoration-color: #800080; font-weight: bold\">numpy.datetime64</span><span style=\"font-weight: bold\">(</span><span style=\"color: #008000; text-decoration-color: #008000\">'2021-02-08T20:23:11.979000000'</span><span style=\"font-weight: bold\">)</span>,\n",
       "        <span style=\"color: #008000; text-decoration-color: #008000\">'Sample_Duration'</span>: <span style=\"color: #008080; text-decoration-color: #008080; font-weight: bold\">8076.0</span>,\n",
       "        <span style=\"color: #008000; text-decoration-color: #008000\">'Description'</span>: <span style=\"color: #008000; text-decoration-color: #008000\">'ClearWrite. Mean.'</span>,\n",
       "        <span style=\"color: #008000; text-decoration-color: #008000\">'Start_Frequency'</span>: <span style=\"color: #008080; text-decoration-color: #008080; font-weight: bold\">105</span>,\n",
       "        <span style=\"color: #008000; text-decoration-color: #008000\">'Stop_Frequency'</span>: <span style=\"color: #008080; text-decoration-color: #008080; font-weight: bold\">140</span>,\n",
       "        <span style=\"color: #008000; text-decoration-color: #008000\">'Trace_Type'</span>: <span style=\"color: #008000; text-decoration-color: #008000\">'average'</span>,\n",
       "        <span style=\"color: #008000; text-decoration-color: #008000\">'RBW'</span>: <span style=\"color: #008080; text-decoration-color: #008080; font-weight: bold\">18457</span>,\n",
       "        <span style=\"color: #008000; text-decoration-color: #008000\">'Level_Units'</span>: <span style=\"color: #008000; text-decoration-color: #008000\">'dBm'</span>,\n",
       "        <span style=\"color: #008000; text-decoration-color: #008000\">'Num_Traces'</span>: <span style=\"color: #008080; text-decoration-color: #008080; font-weight: bold\">477</span>,\n",
       "        <span style=\"color: #008000; text-decoration-color: #008000\">'Vector_Length'</span>: <span style=\"color: #008080; text-decoration-color: #008080; font-weight: bold\">3584</span>\n",
       "    <span style=\"font-weight: bold\">}</span>,\n",
       "    <span style=\"font-weight: bold\">(</span><span style=\"color: #008080; text-decoration-color: #008080; font-weight: bold\">67</span>, <span style=\"color: #008080; text-decoration-color: #008080; font-weight: bold\">12</span><span style=\"font-weight: bold\">)</span>: <span style=\"font-weight: bold\">{</span>\n",
       "        <span style=\"color: #008000; text-decoration-color: #008000\">'Initial_Time'</span>: <span style=\"color: #800080; text-decoration-color: #800080; font-weight: bold\">numpy.datetime64</span><span style=\"font-weight: bold\">(</span><span style=\"color: #008000; text-decoration-color: #008000\">'2021-02-08T20:23:20.801000000'</span><span style=\"font-weight: bold\">)</span>,\n",
       "        <span style=\"color: #008000; text-decoration-color: #008000\">'Sample_Duration'</span>: <span style=\"color: #008080; text-decoration-color: #008080; font-weight: bold\">8081.0</span>,\n",
       "        <span style=\"color: #008000; text-decoration-color: #008000\">'Description'</span>: <span style=\"color: #008000; text-decoration-color: #008000\">'MaxHold. Peak. Count = 10.'</span>,\n",
       "        <span style=\"color: #008000; text-decoration-color: #008000\">'Start_Frequency'</span>: <span style=\"color: #008080; text-decoration-color: #008080; font-weight: bold\">105</span>,\n",
       "        <span style=\"color: #008000; text-decoration-color: #008000\">'Stop_Frequency'</span>: <span style=\"color: #008080; text-decoration-color: #008080; font-weight: bold\">140</span>,\n",
       "        <span style=\"color: #008000; text-decoration-color: #008000\">'Trace_Type'</span>: <span style=\"color: #008000; text-decoration-color: #008000\">'peak'</span>,\n",
       "        <span style=\"color: #008000; text-decoration-color: #008000\">'RBW'</span>: <span style=\"color: #008080; text-decoration-color: #008080; font-weight: bold\">18457</span>,\n",
       "        <span style=\"color: #008000; text-decoration-color: #008000\">'Level_Units'</span>: <span style=\"color: #008000; text-decoration-color: #008000\">'dBm'</span>,\n",
       "        <span style=\"color: #008000; text-decoration-color: #008000\">'Num_Traces'</span>: <span style=\"color: #008080; text-decoration-color: #008080; font-weight: bold\">26</span>,\n",
       "        <span style=\"color: #008000; text-decoration-color: #008000\">'Vector_Length'</span>: <span style=\"color: #008080; text-decoration-color: #008080; font-weight: bold\">3584</span>\n",
       "    <span style=\"font-weight: bold\">}</span>,\n",
       "    <span style=\"font-weight: bold\">(</span><span style=\"color: #008080; text-decoration-color: #008080; font-weight: bold\">68</span>, <span style=\"color: #008080; text-decoration-color: #008080; font-weight: bold\">14</span><span style=\"font-weight: bold\">)</span>: <span style=\"font-weight: bold\">{</span>\n",
       "        <span style=\"color: #008000; text-decoration-color: #008000\">'Initial_Time'</span>: <span style=\"color: #800080; text-decoration-color: #800080; font-weight: bold\">numpy.datetime64</span><span style=\"font-weight: bold\">(</span><span style=\"color: #008000; text-decoration-color: #008000\">'2021-02-08T20:23:20.801000000'</span><span style=\"font-weight: bold\">)</span>,\n",
       "        <span style=\"color: #008000; text-decoration-color: #008000\">'Sample_Duration'</span>: <span style=\"color: #008080; text-decoration-color: #008080; font-weight: bold\">8081.0</span>,\n",
       "        <span style=\"color: #008000; text-decoration-color: #008000\">'Description'</span>: <span style=\"color: #008000; text-decoration-color: #008000\">'Average. Mean. Count = 10.'</span>,\n",
       "        <span style=\"color: #008000; text-decoration-color: #008000\">'Start_Frequency'</span>: <span style=\"color: #008080; text-decoration-color: #008080; font-weight: bold\">105</span>,\n",
       "        <span style=\"color: #008000; text-decoration-color: #008000\">'Stop_Frequency'</span>: <span style=\"color: #008080; text-decoration-color: #008080; font-weight: bold\">140</span>,\n",
       "        <span style=\"color: #008000; text-decoration-color: #008000\">'Trace_Type'</span>: <span style=\"color: #008000; text-decoration-color: #008000\">'average'</span>,\n",
       "        <span style=\"color: #008000; text-decoration-color: #008000\">'RBW'</span>: <span style=\"color: #008080; text-decoration-color: #008080; font-weight: bold\">18457</span>,\n",
       "        <span style=\"color: #008000; text-decoration-color: #008000\">'Level_Units'</span>: <span style=\"color: #008000; text-decoration-color: #008000\">'dBm'</span>,\n",
       "        <span style=\"color: #008000; text-decoration-color: #008000\">'Num_Traces'</span>: <span style=\"color: #008080; text-decoration-color: #008080; font-weight: bold\">49</span>,\n",
       "        <span style=\"color: #008000; text-decoration-color: #008000\">'Vector_Length'</span>: <span style=\"color: #008080; text-decoration-color: #008080; font-weight: bold\">3584</span>\n",
       "    <span style=\"font-weight: bold\">}</span>,\n",
       "    <span style=\"font-weight: bold\">(</span><span style=\"color: #008080; text-decoration-color: #008080; font-weight: bold\">67</span>, <span style=\"color: #008080; text-decoration-color: #008080; font-weight: bold\">13</span><span style=\"font-weight: bold\">)</span>: <span style=\"font-weight: bold\">{</span>\n",
       "        <span style=\"color: #008000; text-decoration-color: #008000\">'Initial_Time'</span>: <span style=\"color: #800080; text-decoration-color: #800080; font-weight: bold\">numpy.datetime64</span><span style=\"font-weight: bold\">(</span><span style=\"color: #008000; text-decoration-color: #008000\">'2021-02-08T20:23:30.763000000'</span><span style=\"font-weight: bold\">)</span>,\n",
       "        <span style=\"color: #008000; text-decoration-color: #008000\">'Sample_Duration'</span>: <span style=\"color: #008080; text-decoration-color: #008080; font-weight: bold\">8080.5</span>,\n",
       "        <span style=\"color: #008000; text-decoration-color: #008000\">'Description'</span>: <span style=\"color: #008000; text-decoration-color: #008000\">'Average. Mean. Count = 10.'</span>,\n",
       "        <span style=\"color: #008000; text-decoration-color: #008000\">'Start_Frequency'</span>: <span style=\"color: #008080; text-decoration-color: #008080; font-weight: bold\">105</span>,\n",
       "        <span style=\"color: #008000; text-decoration-color: #008000\">'Stop_Frequency'</span>: <span style=\"color: #008080; text-decoration-color: #008080; font-weight: bold\">140</span>,\n",
       "        <span style=\"color: #008000; text-decoration-color: #008000\">'Trace_Type'</span>: <span style=\"color: #008000; text-decoration-color: #008000\">'average'</span>,\n",
       "        <span style=\"color: #008000; text-decoration-color: #008000\">'RBW'</span>: <span style=\"color: #008080; text-decoration-color: #008080; font-weight: bold\">18457</span>,\n",
       "        <span style=\"color: #008000; text-decoration-color: #008000\">'Level_Units'</span>: <span style=\"color: #008000; text-decoration-color: #008000\">'dBm'</span>,\n",
       "        <span style=\"color: #008000; text-decoration-color: #008000\">'Num_Traces'</span>: <span style=\"color: #008080; text-decoration-color: #008080; font-weight: bold\">32</span>,\n",
       "        <span style=\"color: #008000; text-decoration-color: #008000\">'Vector_Length'</span>: <span style=\"color: #008080; text-decoration-color: #008080; font-weight: bold\">3584</span>\n",
       "    <span style=\"font-weight: bold\">}</span>\n",
       "<span style=\"font-weight: bold\">}</span>\n",
       "</pre>\n"
      ],
      "text/plain": [
       "Fluxos: \n",
       "\u001b[1m{\u001b[0m\n",
       "    \u001b[1m(\u001b[0m\u001b[1;36m67\u001b[0m, \u001b[1;36m20\u001b[0m\u001b[1m)\u001b[0m: \u001b[1m{\u001b[0m\n",
       "        \u001b[32m'Initial_Time'\u001b[0m: \u001b[1;35mnumpy.datetime64\u001b[0m\u001b[1m(\u001b[0m\u001b[32m'2021-02-08T20:23:10.500680000'\u001b[0m\u001b[1m)\u001b[0m,\n",
       "        \u001b[32m'Sample_Duration'\u001b[0m: \u001b[1;36m18073.0\u001b[0m,\n",
       "        \u001b[32m'Description'\u001b[0m: \u001b[32m'ClearWrite. Peak.'\u001b[0m,\n",
       "        \u001b[32m'Start_Frequency'\u001b[0m: \u001b[1;36m76\u001b[0m,\n",
       "        \u001b[32m'Stop_Frequency'\u001b[0m: \u001b[1;36m108\u001b[0m,\n",
       "        \u001b[32m'Trace_Type'\u001b[0m: \u001b[32m'peak'\u001b[0m,\n",
       "        \u001b[32m'RBW'\u001b[0m: \u001b[1;36m7381\u001b[0m,\n",
       "        \u001b[32m'Level_Units'\u001b[0m: \u001b[32m'dBm'\u001b[0m,\n",
       "        \u001b[32m'Num_Traces'\u001b[0m: \u001b[1;36m956\u001b[0m,\n",
       "        \u001b[32m'Vector_Length'\u001b[0m: \u001b[1;36m8192\u001b[0m\n",
       "    \u001b[1m}\u001b[0m,\n",
       "    \u001b[1m(\u001b[0m\u001b[1;36m67\u001b[0m, \u001b[1;36m30\u001b[0m\u001b[1m)\u001b[0m: \u001b[1m{\u001b[0m\n",
       "        \u001b[32m'Initial_Time'\u001b[0m: \u001b[1;35mnumpy.datetime64\u001b[0m\u001b[1m(\u001b[0m\u001b[32m'2021-02-08T20:23:10.522721000'\u001b[0m\u001b[1m)\u001b[0m,\n",
       "        \u001b[32m'Sample_Duration'\u001b[0m: \u001b[1;36m8552.0\u001b[0m,\n",
       "        \u001b[32m'Description'\u001b[0m: \u001b[32m'ClearWrite. Peak.'\u001b[0m,\n",
       "        \u001b[32m'Start_Frequency'\u001b[0m: \u001b[1;36m70\u001b[0m,\n",
       "        \u001b[32m'Stop_Frequency'\u001b[0m: \u001b[1;36m110\u001b[0m,\n",
       "        \u001b[32m'Trace_Type'\u001b[0m: \u001b[32m'peak'\u001b[0m,\n",
       "        \u001b[32m'RBW'\u001b[0m: \u001b[1;36m73828\u001b[0m,\n",
       "        \u001b[32m'Level_Units'\u001b[0m: \u001b[32m'dBm'\u001b[0m,\n",
       "        \u001b[32m'Num_Traces'\u001b[0m: \u001b[1;36m988\u001b[0m,\n",
       "        \u001b[32m'Vector_Length'\u001b[0m: \u001b[1;36m1024\u001b[0m\n",
       "    \u001b[1m}\u001b[0m,\n",
       "    \u001b[1m(\u001b[0m\u001b[1;36m67\u001b[0m, \u001b[1;36m10\u001b[0m\u001b[1m)\u001b[0m: \u001b[1m{\u001b[0m\n",
       "        \u001b[32m'Initial_Time'\u001b[0m: \u001b[1;35mnumpy.datetime64\u001b[0m\u001b[1m(\u001b[0m\u001b[32m'2021-02-08T20:23:11.979000000'\u001b[0m\u001b[1m)\u001b[0m,\n",
       "        \u001b[32m'Sample_Duration'\u001b[0m: \u001b[1;36m8076.0\u001b[0m,\n",
       "        \u001b[32m'Description'\u001b[0m: \u001b[32m'ClearWrite. Peak.'\u001b[0m,\n",
       "        \u001b[32m'Start_Frequency'\u001b[0m: \u001b[1;36m105\u001b[0m,\n",
       "        \u001b[32m'Stop_Frequency'\u001b[0m: \u001b[1;36m140\u001b[0m,\n",
       "        \u001b[32m'Trace_Type'\u001b[0m: \u001b[32m'peak'\u001b[0m,\n",
       "        \u001b[32m'RBW'\u001b[0m: \u001b[1;36m18457\u001b[0m,\n",
       "        \u001b[32m'Level_Units'\u001b[0m: \u001b[32m'dBm'\u001b[0m,\n",
       "        \u001b[32m'Num_Traces'\u001b[0m: \u001b[1;36m477\u001b[0m,\n",
       "        \u001b[32m'Vector_Length'\u001b[0m: \u001b[1;36m3584\u001b[0m\n",
       "    \u001b[1m}\u001b[0m,\n",
       "    \u001b[1m(\u001b[0m\u001b[1;36m67\u001b[0m, \u001b[1;36m11\u001b[0m\u001b[1m)\u001b[0m: \u001b[1m{\u001b[0m\n",
       "        \u001b[32m'Initial_Time'\u001b[0m: \u001b[1;35mnumpy.datetime64\u001b[0m\u001b[1m(\u001b[0m\u001b[32m'2021-02-08T20:23:11.979000000'\u001b[0m\u001b[1m)\u001b[0m,\n",
       "        \u001b[32m'Sample_Duration'\u001b[0m: \u001b[1;36m8076.0\u001b[0m,\n",
       "        \u001b[32m'Description'\u001b[0m: \u001b[32m'ClearWrite. Mean.'\u001b[0m,\n",
       "        \u001b[32m'Start_Frequency'\u001b[0m: \u001b[1;36m105\u001b[0m,\n",
       "        \u001b[32m'Stop_Frequency'\u001b[0m: \u001b[1;36m140\u001b[0m,\n",
       "        \u001b[32m'Trace_Type'\u001b[0m: \u001b[32m'average'\u001b[0m,\n",
       "        \u001b[32m'RBW'\u001b[0m: \u001b[1;36m18457\u001b[0m,\n",
       "        \u001b[32m'Level_Units'\u001b[0m: \u001b[32m'dBm'\u001b[0m,\n",
       "        \u001b[32m'Num_Traces'\u001b[0m: \u001b[1;36m477\u001b[0m,\n",
       "        \u001b[32m'Vector_Length'\u001b[0m: \u001b[1;36m3584\u001b[0m\n",
       "    \u001b[1m}\u001b[0m,\n",
       "    \u001b[1m(\u001b[0m\u001b[1;36m67\u001b[0m, \u001b[1;36m12\u001b[0m\u001b[1m)\u001b[0m: \u001b[1m{\u001b[0m\n",
       "        \u001b[32m'Initial_Time'\u001b[0m: \u001b[1;35mnumpy.datetime64\u001b[0m\u001b[1m(\u001b[0m\u001b[32m'2021-02-08T20:23:20.801000000'\u001b[0m\u001b[1m)\u001b[0m,\n",
       "        \u001b[32m'Sample_Duration'\u001b[0m: \u001b[1;36m8081.0\u001b[0m,\n",
       "        \u001b[32m'Description'\u001b[0m: \u001b[32m'MaxHold. Peak. Count = 10.'\u001b[0m,\n",
       "        \u001b[32m'Start_Frequency'\u001b[0m: \u001b[1;36m105\u001b[0m,\n",
       "        \u001b[32m'Stop_Frequency'\u001b[0m: \u001b[1;36m140\u001b[0m,\n",
       "        \u001b[32m'Trace_Type'\u001b[0m: \u001b[32m'peak'\u001b[0m,\n",
       "        \u001b[32m'RBW'\u001b[0m: \u001b[1;36m18457\u001b[0m,\n",
       "        \u001b[32m'Level_Units'\u001b[0m: \u001b[32m'dBm'\u001b[0m,\n",
       "        \u001b[32m'Num_Traces'\u001b[0m: \u001b[1;36m26\u001b[0m,\n",
       "        \u001b[32m'Vector_Length'\u001b[0m: \u001b[1;36m3584\u001b[0m\n",
       "    \u001b[1m}\u001b[0m,\n",
       "    \u001b[1m(\u001b[0m\u001b[1;36m68\u001b[0m, \u001b[1;36m14\u001b[0m\u001b[1m)\u001b[0m: \u001b[1m{\u001b[0m\n",
       "        \u001b[32m'Initial_Time'\u001b[0m: \u001b[1;35mnumpy.datetime64\u001b[0m\u001b[1m(\u001b[0m\u001b[32m'2021-02-08T20:23:20.801000000'\u001b[0m\u001b[1m)\u001b[0m,\n",
       "        \u001b[32m'Sample_Duration'\u001b[0m: \u001b[1;36m8081.0\u001b[0m,\n",
       "        \u001b[32m'Description'\u001b[0m: \u001b[32m'Average. Mean. Count = 10.'\u001b[0m,\n",
       "        \u001b[32m'Start_Frequency'\u001b[0m: \u001b[1;36m105\u001b[0m,\n",
       "        \u001b[32m'Stop_Frequency'\u001b[0m: \u001b[1;36m140\u001b[0m,\n",
       "        \u001b[32m'Trace_Type'\u001b[0m: \u001b[32m'average'\u001b[0m,\n",
       "        \u001b[32m'RBW'\u001b[0m: \u001b[1;36m18457\u001b[0m,\n",
       "        \u001b[32m'Level_Units'\u001b[0m: \u001b[32m'dBm'\u001b[0m,\n",
       "        \u001b[32m'Num_Traces'\u001b[0m: \u001b[1;36m49\u001b[0m,\n",
       "        \u001b[32m'Vector_Length'\u001b[0m: \u001b[1;36m3584\u001b[0m\n",
       "    \u001b[1m}\u001b[0m,\n",
       "    \u001b[1m(\u001b[0m\u001b[1;36m67\u001b[0m, \u001b[1;36m13\u001b[0m\u001b[1m)\u001b[0m: \u001b[1m{\u001b[0m\n",
       "        \u001b[32m'Initial_Time'\u001b[0m: \u001b[1;35mnumpy.datetime64\u001b[0m\u001b[1m(\u001b[0m\u001b[32m'2021-02-08T20:23:30.763000000'\u001b[0m\u001b[1m)\u001b[0m,\n",
       "        \u001b[32m'Sample_Duration'\u001b[0m: \u001b[1;36m8080.5\u001b[0m,\n",
       "        \u001b[32m'Description'\u001b[0m: \u001b[32m'Average. Mean. Count = 10.'\u001b[0m,\n",
       "        \u001b[32m'Start_Frequency'\u001b[0m: \u001b[1;36m105\u001b[0m,\n",
       "        \u001b[32m'Stop_Frequency'\u001b[0m: \u001b[1;36m140\u001b[0m,\n",
       "        \u001b[32m'Trace_Type'\u001b[0m: \u001b[32m'average'\u001b[0m,\n",
       "        \u001b[32m'RBW'\u001b[0m: \u001b[1;36m18457\u001b[0m,\n",
       "        \u001b[32m'Level_Units'\u001b[0m: \u001b[32m'dBm'\u001b[0m,\n",
       "        \u001b[32m'Num_Traces'\u001b[0m: \u001b[1;36m32\u001b[0m,\n",
       "        \u001b[32m'Vector_Length'\u001b[0m: \u001b[1;36m3584\u001b[0m\n",
       "    \u001b[1m}\u001b[0m\n",
       "\u001b[1m}\u001b[0m\n"
      ]
     },
     "metadata": {},
     "output_type": "display_data"
    },
    {
     "data": {
      "text/html": [
       "<pre style=\"white-space:pre;overflow-x:auto;line-height:normal;font-family:Menlo,'DejaVu Sans Mono',consolas,'Courier New',monospace\">Metadados do Arquivo rfeye002092_210208_T203131_CRFSBINv.<span style=\"color: #008080; text-decoration-color: #008080; font-weight: bold\">2.</span>bin\n",
       "</pre>\n"
      ],
      "text/plain": [
       "Metadados do Arquivo rfeye002092_210208_T203131_CRFSBINv.\u001b[1;36m2.\u001b[0mbin\n"
      ]
     },
     "metadata": {},
     "output_type": "display_data"
    },
    {
     "data": {
      "text/html": [
       "<pre style=\"white-space:pre;overflow-x:auto;line-height:normal;font-family:Menlo,'DejaVu Sans Mono',consolas,'Courier New',monospace\"><span style=\"font-weight: bold\">{</span>\n",
       "    <span style=\"color: #008000; text-decoration-color: #008000\">'File_Name'</span>: <span style=\"color: #008000; text-decoration-color: #008000\">'rfeye002092_210208_T203131_CRFSBINv.2.bin'</span>,\n",
       "    <span style=\"color: #008000; text-decoration-color: #008000\">'File_Version'</span>: <span style=\"color: #008080; text-decoration-color: #008080; font-weight: bold\">21</span>,\n",
       "    <span style=\"color: #008000; text-decoration-color: #008000\">'File_Type'</span>: <span style=\"color: #008000; text-decoration-color: #008000\">'RFEye Logger Trace'</span>,\n",
       "    <span style=\"color: #008000; text-decoration-color: #008000\">'Device'</span>: <span style=\"color: #008000; text-decoration-color: #008000\">'Rfeye Node'</span>\n",
       "<span style=\"font-weight: bold\">}</span>\n",
       "</pre>\n"
      ],
      "text/plain": [
       "\u001b[1m{\u001b[0m\n",
       "    \u001b[32m'File_Name'\u001b[0m: \u001b[32m'rfeye002092_210208_T203131_CRFSBINv.2.bin'\u001b[0m,\n",
       "    \u001b[32m'File_Version'\u001b[0m: \u001b[1;36m21\u001b[0m,\n",
       "    \u001b[32m'File_Type'\u001b[0m: \u001b[32m'RFEye Logger Trace'\u001b[0m,\n",
       "    \u001b[32m'Device'\u001b[0m: \u001b[32m'Rfeye Node'\u001b[0m\n",
       "\u001b[1m}\u001b[0m\n"
      ]
     },
     "metadata": {},
     "output_type": "display_data"
    },
    {
     "data": {
      "text/html": [
       "<pre style=\"white-space:pre;overflow-x:auto;line-height:normal;font-family:Menlo,'DejaVu Sans Mono',consolas,'Courier New',monospace\">Fluxos: \n",
       "<span style=\"font-weight: bold\">{}</span>\n",
       "</pre>\n"
      ],
      "text/plain": [
       "Fluxos: \n",
       "\u001b[1m{\u001b[0m\u001b[1m}\u001b[0m\n"
      ]
     },
     "metadata": {},
     "output_type": "display_data"
    },
    {
     "data": {
      "text/html": [
       "<pre style=\"white-space:pre;overflow-x:auto;line-height:normal;font-family:Menlo,'DejaVu Sans Mono',consolas,'Courier New',monospace\">Metadados do Arquivo rfeye002292_210208_T202215_CRFSBINv.<span style=\"color: #008080; text-decoration-color: #008080; font-weight: bold\">4.</span>bin\n",
       "</pre>\n"
      ],
      "text/plain": [
       "Metadados do Arquivo rfeye002292_210208_T202215_CRFSBINv.\u001b[1;36m4.\u001b[0mbin\n"
      ]
     },
     "metadata": {},
     "output_type": "display_data"
    },
    {
     "data": {
      "text/html": [
       "<pre style=\"white-space:pre;overflow-x:auto;line-height:normal;font-family:Menlo,'DejaVu Sans Mono',consolas,'Courier New',monospace\"><span style=\"font-weight: bold\">{</span>\n",
       "    <span style=\"color: #008000; text-decoration-color: #008000\">'File_Name'</span>: <span style=\"color: #008000; text-decoration-color: #008000\">'rfeye002292_210208_T202215_CRFSBINv.4.bin'</span>,\n",
       "    <span style=\"color: #008000; text-decoration-color: #008000\">'File_Version'</span>: <span style=\"color: #008080; text-decoration-color: #008080; font-weight: bold\">22</span>,\n",
       "    <span style=\"color: #008000; text-decoration-color: #008000\">'File_Type'</span>: <span style=\"color: #008000; text-decoration-color: #008000\">'RFEye Logger Trace'</span>,\n",
       "    <span style=\"color: #008000; text-decoration-color: #008000\">'Device'</span>: <span style=\"color: #008000; text-decoration-color: #008000\">'Rfeye Node'</span>,\n",
       "    <span style=\"color: #008000; text-decoration-color: #008000\">'Equipment_ID'</span>: <span style=\"color: #008000; text-decoration-color: #008000\">'rfeye002292'</span>,\n",
       "    <span style=\"color: #008000; text-decoration-color: #008000\">'Script_Version'</span>: <span style=\"color: #008000; text-decoration-color: #008000\">'Script_CRFSBINv4'</span>,\n",
       "    <span style=\"color: #008000; text-decoration-color: #008000\">'Latitude'</span>: <span style=\"color: #008080; text-decoration-color: #008080; font-weight: bold\">-12.971631</span>,\n",
       "    <span style=\"color: #008000; text-decoration-color: #008000\">'Longitude'</span>: <span style=\"color: #008080; text-decoration-color: #008080; font-weight: bold\">-38.48149</span>,\n",
       "    <span style=\"color: #008000; text-decoration-color: #008000\">'Altitude'</span>: <span style=\"color: #008080; text-decoration-color: #008080; font-weight: bold\">151.65</span>,\n",
       "    <span style=\"color: #008000; text-decoration-color: #008000\">'Count_GPS'</span>: <span style=\"color: #008080; text-decoration-color: #008080; font-weight: bold\">8</span>,\n",
       "    <span style=\"color: #008000; text-decoration-color: #008000\">'Sum_Latitude'</span>: <span style=\"color: #008080; text-decoration-color: #008080; font-weight: bold\">-103.773056</span>,\n",
       "    <span style=\"color: #008000; text-decoration-color: #008000\">'Sum_Longitude'</span>: <span style=\"color: #008080; text-decoration-color: #008080; font-weight: bold\">-307.85193</span>\n",
       "<span style=\"font-weight: bold\">}</span>\n",
       "</pre>\n"
      ],
      "text/plain": [
       "\u001b[1m{\u001b[0m\n",
       "    \u001b[32m'File_Name'\u001b[0m: \u001b[32m'rfeye002292_210208_T202215_CRFSBINv.4.bin'\u001b[0m,\n",
       "    \u001b[32m'File_Version'\u001b[0m: \u001b[1;36m22\u001b[0m,\n",
       "    \u001b[32m'File_Type'\u001b[0m: \u001b[32m'RFEye Logger Trace'\u001b[0m,\n",
       "    \u001b[32m'Device'\u001b[0m: \u001b[32m'Rfeye Node'\u001b[0m,\n",
       "    \u001b[32m'Equipment_ID'\u001b[0m: \u001b[32m'rfeye002292'\u001b[0m,\n",
       "    \u001b[32m'Script_Version'\u001b[0m: \u001b[32m'Script_CRFSBINv4'\u001b[0m,\n",
       "    \u001b[32m'Latitude'\u001b[0m: \u001b[1;36m-12.971631\u001b[0m,\n",
       "    \u001b[32m'Longitude'\u001b[0m: \u001b[1;36m-38.48149\u001b[0m,\n",
       "    \u001b[32m'Altitude'\u001b[0m: \u001b[1;36m151.65\u001b[0m,\n",
       "    \u001b[32m'Count_GPS'\u001b[0m: \u001b[1;36m8\u001b[0m,\n",
       "    \u001b[32m'Sum_Latitude'\u001b[0m: \u001b[1;36m-103.773056\u001b[0m,\n",
       "    \u001b[32m'Sum_Longitude'\u001b[0m: \u001b[1;36m-307.85193\u001b[0m\n",
       "\u001b[1m}\u001b[0m\n"
      ]
     },
     "metadata": {},
     "output_type": "display_data"
    },
    {
     "data": {
      "text/html": [
       "<pre style=\"white-space:pre;overflow-x:auto;line-height:normal;font-family:Menlo,'DejaVu Sans Mono',consolas,'Courier New',monospace\">Fluxos: \n",
       "<span style=\"font-weight: bold\">{</span>\n",
       "    <span style=\"font-weight: bold\">(</span><span style=\"color: #008080; text-decoration-color: #008080; font-weight: bold\">63</span>, <span style=\"color: #008080; text-decoration-color: #008080; font-weight: bold\">20</span><span style=\"font-weight: bold\">)</span>: <span style=\"font-weight: bold\">{</span>\n",
       "        <span style=\"color: #008000; text-decoration-color: #008000\">'Initial_Time'</span>: <span style=\"color: #800080; text-decoration-color: #800080; font-weight: bold\">numpy.datetime64</span><span style=\"font-weight: bold\">(</span><span style=\"color: #008000; text-decoration-color: #008000\">'2021-02-08T20:22:15.500658000'</span><span style=\"font-weight: bold\">)</span>,\n",
       "        <span style=\"color: #008000; text-decoration-color: #008000\">'Sample_Duration'</span>: <span style=\"color: #008080; text-decoration-color: #008080; font-weight: bold\">18140.0</span>,\n",
       "        <span style=\"color: #008000; text-decoration-color: #008000\">'Description'</span>: <span style=\"color: #008000; text-decoration-color: #008000\">'Peak'</span>,\n",
       "        <span style=\"color: #008000; text-decoration-color: #008000\">'Start_Frequency'</span>: <span style=\"color: #008080; text-decoration-color: #008080; font-weight: bold\">76</span>,\n",
       "        <span style=\"color: #008000; text-decoration-color: #008000\">'Stop_Frequency'</span>: <span style=\"color: #008080; text-decoration-color: #008080; font-weight: bold\">108</span>,\n",
       "        <span style=\"color: #008000; text-decoration-color: #008000\">'Trace_Type'</span>: <span style=\"color: #008000; text-decoration-color: #008000\">'peak'</span>,\n",
       "        <span style=\"color: #008000; text-decoration-color: #008000\">'RBW'</span>: <span style=\"color: #008080; text-decoration-color: #008080; font-weight: bold\">3</span>,\n",
       "        <span style=\"color: #008000; text-decoration-color: #008000\">'Level_Units'</span>: <span style=\"color: #008000; text-decoration-color: #008000\">'dBm'</span>,\n",
       "        <span style=\"color: #008000; text-decoration-color: #008000\">'Num_Traces'</span>: <span style=\"color: #008080; text-decoration-color: #008080; font-weight: bold\">1047</span>,\n",
       "        <span style=\"color: #008000; text-decoration-color: #008000\">'Vector_Length'</span>: <span style=\"color: #008080; text-decoration-color: #008080; font-weight: bold\">8192</span>\n",
       "    <span style=\"font-weight: bold\">}</span>,\n",
       "    <span style=\"font-weight: bold\">(</span><span style=\"color: #008080; text-decoration-color: #008080; font-weight: bold\">63</span>, <span style=\"color: #008080; text-decoration-color: #008080; font-weight: bold\">30</span><span style=\"font-weight: bold\">)</span>: <span style=\"font-weight: bold\">{</span>\n",
       "        <span style=\"color: #008000; text-decoration-color: #008000\">'Initial_Time'</span>: <span style=\"color: #800080; text-decoration-color: #800080; font-weight: bold\">numpy.datetime64</span><span style=\"font-weight: bold\">(</span><span style=\"color: #008000; text-decoration-color: #008000\">'2021-02-08T20:22:15.523638000'</span><span style=\"font-weight: bold\">)</span>,\n",
       "        <span style=\"color: #008000; text-decoration-color: #008000\">'Sample_Duration'</span>: <span style=\"color: #008080; text-decoration-color: #008080; font-weight: bold\">8549.0</span>,\n",
       "        <span style=\"color: #008000; text-decoration-color: #008000\">'Description'</span>: <span style=\"color: #008000; text-decoration-color: #008000\">'Peak'</span>,\n",
       "        <span style=\"color: #008000; text-decoration-color: #008000\">'Start_Frequency'</span>: <span style=\"color: #008080; text-decoration-color: #008080; font-weight: bold\">70</span>,\n",
       "        <span style=\"color: #008000; text-decoration-color: #008000\">'Stop_Frequency'</span>: <span style=\"color: #008080; text-decoration-color: #008080; font-weight: bold\">110</span>,\n",
       "        <span style=\"color: #008000; text-decoration-color: #008000\">'Trace_Type'</span>: <span style=\"color: #008000; text-decoration-color: #008000\">'peak'</span>,\n",
       "        <span style=\"color: #008000; text-decoration-color: #008000\">'RBW'</span>: <span style=\"color: #008080; text-decoration-color: #008080; font-weight: bold\">39</span>,\n",
       "        <span style=\"color: #008000; text-decoration-color: #008000\">'Level_Units'</span>: <span style=\"color: #008000; text-decoration-color: #008000\">'dBm'</span>,\n",
       "        <span style=\"color: #008000; text-decoration-color: #008000\">'Num_Traces'</span>: <span style=\"color: #008080; text-decoration-color: #008080; font-weight: bold\">1048</span>,\n",
       "        <span style=\"color: #008000; text-decoration-color: #008000\">'Vector_Length'</span>: <span style=\"color: #008080; text-decoration-color: #008080; font-weight: bold\">1024</span>\n",
       "    <span style=\"font-weight: bold\">}</span>,\n",
       "    <span style=\"font-weight: bold\">(</span><span style=\"color: #008080; text-decoration-color: #008080; font-weight: bold\">63</span>, <span style=\"color: #008080; text-decoration-color: #008080; font-weight: bold\">10</span><span style=\"font-weight: bold\">)</span>: <span style=\"font-weight: bold\">{</span>\n",
       "        <span style=\"color: #008000; text-decoration-color: #008000\">'Initial_Time'</span>: <span style=\"color: #800080; text-decoration-color: #800080; font-weight: bold\">numpy.datetime64</span><span style=\"font-weight: bold\">(</span><span style=\"color: #008000; text-decoration-color: #008000\">'2021-02-08T20:22:16.457000000'</span><span style=\"font-weight: bold\">)</span>,\n",
       "        <span style=\"color: #008000; text-decoration-color: #008000\">'Sample_Duration'</span>: <span style=\"color: #008080; text-decoration-color: #008080; font-weight: bold\">8083.0</span>,\n",
       "        <span style=\"color: #008000; text-decoration-color: #008000\">'Description'</span>: <span style=\"color: #008000; text-decoration-color: #008000\">'Peak'</span>,\n",
       "        <span style=\"color: #008000; text-decoration-color: #008000\">'Start_Frequency'</span>: <span style=\"color: #008080; text-decoration-color: #008080; font-weight: bold\">105</span>,\n",
       "        <span style=\"color: #008000; text-decoration-color: #008000\">'Stop_Frequency'</span>: <span style=\"color: #008080; text-decoration-color: #008080; font-weight: bold\">140</span>,\n",
       "        <span style=\"color: #008000; text-decoration-color: #008000\">'Trace_Type'</span>: <span style=\"color: #008000; text-decoration-color: #008000\">'peak'</span>,\n",
       "        <span style=\"color: #008000; text-decoration-color: #008000\">'RBW'</span>: <span style=\"color: #008080; text-decoration-color: #008080; font-weight: bold\">9</span>,\n",
       "        <span style=\"color: #008000; text-decoration-color: #008000\">'Level_Units'</span>: <span style=\"color: #008000; text-decoration-color: #008000\">'dBm'</span>,\n",
       "        <span style=\"color: #008000; text-decoration-color: #008000\">'Num_Traces'</span>: <span style=\"color: #008080; text-decoration-color: #008080; font-weight: bold\">524</span>,\n",
       "        <span style=\"color: #008000; text-decoration-color: #008000\">'Vector_Length'</span>: <span style=\"color: #008080; text-decoration-color: #008080; font-weight: bold\">3584</span>\n",
       "    <span style=\"font-weight: bold\">}</span>,\n",
       "    <span style=\"font-weight: bold\">(</span><span style=\"color: #008080; text-decoration-color: #008080; font-weight: bold\">63</span>, <span style=\"color: #008080; text-decoration-color: #008080; font-weight: bold\">11</span><span style=\"font-weight: bold\">)</span>: <span style=\"font-weight: bold\">{</span>\n",
       "        <span style=\"color: #008000; text-decoration-color: #008000\">'Initial_Time'</span>: <span style=\"color: #800080; text-decoration-color: #800080; font-weight: bold\">numpy.datetime64</span><span style=\"font-weight: bold\">(</span><span style=\"color: #008000; text-decoration-color: #008000\">'2021-02-08T20:22:16.457000000'</span><span style=\"font-weight: bold\">)</span>,\n",
       "        <span style=\"color: #008000; text-decoration-color: #008000\">'Sample_Duration'</span>: <span style=\"color: #008080; text-decoration-color: #008080; font-weight: bold\">8083.0</span>,\n",
       "        <span style=\"color: #008000; text-decoration-color: #008000\">'Description'</span>: <span style=\"color: #008000; text-decoration-color: #008000\">'Peak'</span>,\n",
       "        <span style=\"color: #008000; text-decoration-color: #008000\">'Start_Frequency'</span>: <span style=\"color: #008080; text-decoration-color: #008080; font-weight: bold\">105</span>,\n",
       "        <span style=\"color: #008000; text-decoration-color: #008000\">'Stop_Frequency'</span>: <span style=\"color: #008080; text-decoration-color: #008080; font-weight: bold\">140</span>,\n",
       "        <span style=\"color: #008000; text-decoration-color: #008000\">'Trace_Type'</span>: <span style=\"color: #008000; text-decoration-color: #008000\">'average'</span>,\n",
       "        <span style=\"color: #008000; text-decoration-color: #008000\">'RBW'</span>: <span style=\"color: #008080; text-decoration-color: #008080; font-weight: bold\">9</span>,\n",
       "        <span style=\"color: #008000; text-decoration-color: #008000\">'Level_Units'</span>: <span style=\"color: #008000; text-decoration-color: #008000\">'dBm'</span>,\n",
       "        <span style=\"color: #008000; text-decoration-color: #008000\">'Num_Traces'</span>: <span style=\"color: #008080; text-decoration-color: #008080; font-weight: bold\">524</span>,\n",
       "        <span style=\"color: #008000; text-decoration-color: #008000\">'Vector_Length'</span>: <span style=\"color: #008080; text-decoration-color: #008080; font-weight: bold\">3584</span>\n",
       "    <span style=\"font-weight: bold\">}</span>,\n",
       "    <span style=\"font-weight: bold\">(</span><span style=\"color: #008080; text-decoration-color: #008080; font-weight: bold\">63</span>, <span style=\"color: #008080; text-decoration-color: #008080; font-weight: bold\">12</span><span style=\"font-weight: bold\">)</span>: <span style=\"font-weight: bold\">{</span>\n",
       "        <span style=\"color: #008000; text-decoration-color: #008000\">'Initial_Time'</span>: <span style=\"color: #800080; text-decoration-color: #800080; font-weight: bold\">numpy.datetime64</span><span style=\"font-weight: bold\">(</span><span style=\"color: #008000; text-decoration-color: #008000\">'2021-02-08T20:22:25.618000000'</span><span style=\"font-weight: bold\">)</span>,\n",
       "        <span style=\"color: #008000; text-decoration-color: #008000\">'Sample_Duration'</span>: <span style=\"color: #008080; text-decoration-color: #008080; font-weight: bold\">8076.0</span>,\n",
       "        <span style=\"color: #008000; text-decoration-color: #008000\">'Description'</span>: <span style=\"color: #008000; text-decoration-color: #008000\">'Peak'</span>,\n",
       "        <span style=\"color: #008000; text-decoration-color: #008000\">'Start_Frequency'</span>: <span style=\"color: #008080; text-decoration-color: #008080; font-weight: bold\">105</span>,\n",
       "        <span style=\"color: #008000; text-decoration-color: #008000\">'Stop_Frequency'</span>: <span style=\"color: #008080; text-decoration-color: #008080; font-weight: bold\">140</span>,\n",
       "        <span style=\"color: #008000; text-decoration-color: #008000\">'Trace_Type'</span>: <span style=\"color: #008000; text-decoration-color: #008000\">'peak'</span>,\n",
       "        <span style=\"color: #008000; text-decoration-color: #008000\">'RBW'</span>: <span style=\"color: #008080; text-decoration-color: #008080; font-weight: bold\">9</span>,\n",
       "        <span style=\"color: #008000; text-decoration-color: #008000\">'Level_Units'</span>: <span style=\"color: #008000; text-decoration-color: #008000\">'dBm'</span>,\n",
       "        <span style=\"color: #008000; text-decoration-color: #008000\">'Num_Traces'</span>: <span style=\"color: #008080; text-decoration-color: #008080; font-weight: bold\">52</span>,\n",
       "        <span style=\"color: #008000; text-decoration-color: #008000\">'Vector_Length'</span>: <span style=\"color: #008080; text-decoration-color: #008080; font-weight: bold\">3584</span>\n",
       "    <span style=\"font-weight: bold\">}</span>,\n",
       "    <span style=\"font-weight: bold\">(</span><span style=\"color: #008080; text-decoration-color: #008080; font-weight: bold\">63</span>, <span style=\"color: #008080; text-decoration-color: #008080; font-weight: bold\">13</span><span style=\"font-weight: bold\">)</span>: <span style=\"font-weight: bold\">{</span>\n",
       "        <span style=\"color: #008000; text-decoration-color: #008000\">'Initial_Time'</span>: <span style=\"color: #800080; text-decoration-color: #800080; font-weight: bold\">numpy.datetime64</span><span style=\"font-weight: bold\">(</span><span style=\"color: #008000; text-decoration-color: #008000\">'2021-02-08T20:22:25.618000000'</span><span style=\"font-weight: bold\">)</span>,\n",
       "        <span style=\"color: #008000; text-decoration-color: #008000\">'Sample_Duration'</span>: <span style=\"color: #008080; text-decoration-color: #008080; font-weight: bold\">8076.0</span>,\n",
       "        <span style=\"color: #008000; text-decoration-color: #008000\">'Description'</span>: <span style=\"color: #008000; text-decoration-color: #008000\">'Peak'</span>,\n",
       "        <span style=\"color: #008000; text-decoration-color: #008000\">'Start_Frequency'</span>: <span style=\"color: #008080; text-decoration-color: #008080; font-weight: bold\">105</span>,\n",
       "        <span style=\"color: #008000; text-decoration-color: #008000\">'Stop_Frequency'</span>: <span style=\"color: #008080; text-decoration-color: #008080; font-weight: bold\">140</span>,\n",
       "        <span style=\"color: #008000; text-decoration-color: #008000\">'Trace_Type'</span>: <span style=\"color: #008000; text-decoration-color: #008000\">'average'</span>,\n",
       "        <span style=\"color: #008000; text-decoration-color: #008000\">'RBW'</span>: <span style=\"color: #008080; text-decoration-color: #008080; font-weight: bold\">9</span>,\n",
       "        <span style=\"color: #008000; text-decoration-color: #008000\">'Level_Units'</span>: <span style=\"color: #008000; text-decoration-color: #008000\">'dBm'</span>,\n",
       "        <span style=\"color: #008000; text-decoration-color: #008000\">'Num_Traces'</span>: <span style=\"color: #008080; text-decoration-color: #008080; font-weight: bold\">52</span>,\n",
       "        <span style=\"color: #008000; text-decoration-color: #008000\">'Vector_Length'</span>: <span style=\"color: #008080; text-decoration-color: #008080; font-weight: bold\">3584</span>\n",
       "    <span style=\"font-weight: bold\">}</span>,\n",
       "    <span style=\"font-weight: bold\">(</span><span style=\"color: #008080; text-decoration-color: #008080; font-weight: bold\">64</span>, <span style=\"color: #008080; text-decoration-color: #008080; font-weight: bold\">14</span><span style=\"font-weight: bold\">)</span>: <span style=\"font-weight: bold\">{</span>\n",
       "        <span style=\"color: #008000; text-decoration-color: #008000\">'Initial_Time'</span>: <span style=\"color: #800080; text-decoration-color: #800080; font-weight: bold\">numpy.datetime64</span><span style=\"font-weight: bold\">(</span><span style=\"color: #008000; text-decoration-color: #008000\">'2021-02-08T20:22:25.618000000'</span><span style=\"font-weight: bold\">)</span>,\n",
       "        <span style=\"color: #008000; text-decoration-color: #008000\">'Sample_Duration'</span>: <span style=\"color: #008080; text-decoration-color: #008080; font-weight: bold\">8076.0</span>,\n",
       "        <span style=\"color: #008000; text-decoration-color: #008000\">'Description'</span>: <span style=\"color: #008000; text-decoration-color: #008000\">'Peak'</span>,\n",
       "        <span style=\"color: #008000; text-decoration-color: #008000\">'Start_Frequency'</span>: <span style=\"color: #008080; text-decoration-color: #008080; font-weight: bold\">105</span>,\n",
       "        <span style=\"color: #008000; text-decoration-color: #008000\">'Stop_Frequency'</span>: <span style=\"color: #008080; text-decoration-color: #008080; font-weight: bold\">140</span>,\n",
       "        <span style=\"color: #008000; text-decoration-color: #008000\">'Trace_Type'</span>: <span style=\"color: #008000; text-decoration-color: #008000\">'average'</span>,\n",
       "        <span style=\"color: #008000; text-decoration-color: #008000\">'RBW'</span>: <span style=\"color: #008080; text-decoration-color: #008080; font-weight: bold\">48</span>,\n",
       "        <span style=\"color: #008000; text-decoration-color: #008000\">'Level_Units'</span>: <span style=\"color: #008000; text-decoration-color: #008000\">'dBm'</span>,\n",
       "        <span style=\"color: #008000; text-decoration-color: #008000\">'Num_Traces'</span>: <span style=\"color: #008080; text-decoration-color: #008080; font-weight: bold\">52</span>,\n",
       "        <span style=\"color: #008000; text-decoration-color: #008000\">'Vector_Length'</span>: <span style=\"color: #008080; text-decoration-color: #008080; font-weight: bold\">717</span>\n",
       "    <span style=\"font-weight: bold\">}</span>\n",
       "<span style=\"font-weight: bold\">}</span>\n",
       "</pre>\n"
      ],
      "text/plain": [
       "Fluxos: \n",
       "\u001b[1m{\u001b[0m\n",
       "    \u001b[1m(\u001b[0m\u001b[1;36m63\u001b[0m, \u001b[1;36m20\u001b[0m\u001b[1m)\u001b[0m: \u001b[1m{\u001b[0m\n",
       "        \u001b[32m'Initial_Time'\u001b[0m: \u001b[1;35mnumpy.datetime64\u001b[0m\u001b[1m(\u001b[0m\u001b[32m'2021-02-08T20:22:15.500658000'\u001b[0m\u001b[1m)\u001b[0m,\n",
       "        \u001b[32m'Sample_Duration'\u001b[0m: \u001b[1;36m18140.0\u001b[0m,\n",
       "        \u001b[32m'Description'\u001b[0m: \u001b[32m'Peak'\u001b[0m,\n",
       "        \u001b[32m'Start_Frequency'\u001b[0m: \u001b[1;36m76\u001b[0m,\n",
       "        \u001b[32m'Stop_Frequency'\u001b[0m: \u001b[1;36m108\u001b[0m,\n",
       "        \u001b[32m'Trace_Type'\u001b[0m: \u001b[32m'peak'\u001b[0m,\n",
       "        \u001b[32m'RBW'\u001b[0m: \u001b[1;36m3\u001b[0m,\n",
       "        \u001b[32m'Level_Units'\u001b[0m: \u001b[32m'dBm'\u001b[0m,\n",
       "        \u001b[32m'Num_Traces'\u001b[0m: \u001b[1;36m1047\u001b[0m,\n",
       "        \u001b[32m'Vector_Length'\u001b[0m: \u001b[1;36m8192\u001b[0m\n",
       "    \u001b[1m}\u001b[0m,\n",
       "    \u001b[1m(\u001b[0m\u001b[1;36m63\u001b[0m, \u001b[1;36m30\u001b[0m\u001b[1m)\u001b[0m: \u001b[1m{\u001b[0m\n",
       "        \u001b[32m'Initial_Time'\u001b[0m: \u001b[1;35mnumpy.datetime64\u001b[0m\u001b[1m(\u001b[0m\u001b[32m'2021-02-08T20:22:15.523638000'\u001b[0m\u001b[1m)\u001b[0m,\n",
       "        \u001b[32m'Sample_Duration'\u001b[0m: \u001b[1;36m8549.0\u001b[0m,\n",
       "        \u001b[32m'Description'\u001b[0m: \u001b[32m'Peak'\u001b[0m,\n",
       "        \u001b[32m'Start_Frequency'\u001b[0m: \u001b[1;36m70\u001b[0m,\n",
       "        \u001b[32m'Stop_Frequency'\u001b[0m: \u001b[1;36m110\u001b[0m,\n",
       "        \u001b[32m'Trace_Type'\u001b[0m: \u001b[32m'peak'\u001b[0m,\n",
       "        \u001b[32m'RBW'\u001b[0m: \u001b[1;36m39\u001b[0m,\n",
       "        \u001b[32m'Level_Units'\u001b[0m: \u001b[32m'dBm'\u001b[0m,\n",
       "        \u001b[32m'Num_Traces'\u001b[0m: \u001b[1;36m1048\u001b[0m,\n",
       "        \u001b[32m'Vector_Length'\u001b[0m: \u001b[1;36m1024\u001b[0m\n",
       "    \u001b[1m}\u001b[0m,\n",
       "    \u001b[1m(\u001b[0m\u001b[1;36m63\u001b[0m, \u001b[1;36m10\u001b[0m\u001b[1m)\u001b[0m: \u001b[1m{\u001b[0m\n",
       "        \u001b[32m'Initial_Time'\u001b[0m: \u001b[1;35mnumpy.datetime64\u001b[0m\u001b[1m(\u001b[0m\u001b[32m'2021-02-08T20:22:16.457000000'\u001b[0m\u001b[1m)\u001b[0m,\n",
       "        \u001b[32m'Sample_Duration'\u001b[0m: \u001b[1;36m8083.0\u001b[0m,\n",
       "        \u001b[32m'Description'\u001b[0m: \u001b[32m'Peak'\u001b[0m,\n",
       "        \u001b[32m'Start_Frequency'\u001b[0m: \u001b[1;36m105\u001b[0m,\n",
       "        \u001b[32m'Stop_Frequency'\u001b[0m: \u001b[1;36m140\u001b[0m,\n",
       "        \u001b[32m'Trace_Type'\u001b[0m: \u001b[32m'peak'\u001b[0m,\n",
       "        \u001b[32m'RBW'\u001b[0m: \u001b[1;36m9\u001b[0m,\n",
       "        \u001b[32m'Level_Units'\u001b[0m: \u001b[32m'dBm'\u001b[0m,\n",
       "        \u001b[32m'Num_Traces'\u001b[0m: \u001b[1;36m524\u001b[0m,\n",
       "        \u001b[32m'Vector_Length'\u001b[0m: \u001b[1;36m3584\u001b[0m\n",
       "    \u001b[1m}\u001b[0m,\n",
       "    \u001b[1m(\u001b[0m\u001b[1;36m63\u001b[0m, \u001b[1;36m11\u001b[0m\u001b[1m)\u001b[0m: \u001b[1m{\u001b[0m\n",
       "        \u001b[32m'Initial_Time'\u001b[0m: \u001b[1;35mnumpy.datetime64\u001b[0m\u001b[1m(\u001b[0m\u001b[32m'2021-02-08T20:22:16.457000000'\u001b[0m\u001b[1m)\u001b[0m,\n",
       "        \u001b[32m'Sample_Duration'\u001b[0m: \u001b[1;36m8083.0\u001b[0m,\n",
       "        \u001b[32m'Description'\u001b[0m: \u001b[32m'Peak'\u001b[0m,\n",
       "        \u001b[32m'Start_Frequency'\u001b[0m: \u001b[1;36m105\u001b[0m,\n",
       "        \u001b[32m'Stop_Frequency'\u001b[0m: \u001b[1;36m140\u001b[0m,\n",
       "        \u001b[32m'Trace_Type'\u001b[0m: \u001b[32m'average'\u001b[0m,\n",
       "        \u001b[32m'RBW'\u001b[0m: \u001b[1;36m9\u001b[0m,\n",
       "        \u001b[32m'Level_Units'\u001b[0m: \u001b[32m'dBm'\u001b[0m,\n",
       "        \u001b[32m'Num_Traces'\u001b[0m: \u001b[1;36m524\u001b[0m,\n",
       "        \u001b[32m'Vector_Length'\u001b[0m: \u001b[1;36m3584\u001b[0m\n",
       "    \u001b[1m}\u001b[0m,\n",
       "    \u001b[1m(\u001b[0m\u001b[1;36m63\u001b[0m, \u001b[1;36m12\u001b[0m\u001b[1m)\u001b[0m: \u001b[1m{\u001b[0m\n",
       "        \u001b[32m'Initial_Time'\u001b[0m: \u001b[1;35mnumpy.datetime64\u001b[0m\u001b[1m(\u001b[0m\u001b[32m'2021-02-08T20:22:25.618000000'\u001b[0m\u001b[1m)\u001b[0m,\n",
       "        \u001b[32m'Sample_Duration'\u001b[0m: \u001b[1;36m8076.0\u001b[0m,\n",
       "        \u001b[32m'Description'\u001b[0m: \u001b[32m'Peak'\u001b[0m,\n",
       "        \u001b[32m'Start_Frequency'\u001b[0m: \u001b[1;36m105\u001b[0m,\n",
       "        \u001b[32m'Stop_Frequency'\u001b[0m: \u001b[1;36m140\u001b[0m,\n",
       "        \u001b[32m'Trace_Type'\u001b[0m: \u001b[32m'peak'\u001b[0m,\n",
       "        \u001b[32m'RBW'\u001b[0m: \u001b[1;36m9\u001b[0m,\n",
       "        \u001b[32m'Level_Units'\u001b[0m: \u001b[32m'dBm'\u001b[0m,\n",
       "        \u001b[32m'Num_Traces'\u001b[0m: \u001b[1;36m52\u001b[0m,\n",
       "        \u001b[32m'Vector_Length'\u001b[0m: \u001b[1;36m3584\u001b[0m\n",
       "    \u001b[1m}\u001b[0m,\n",
       "    \u001b[1m(\u001b[0m\u001b[1;36m63\u001b[0m, \u001b[1;36m13\u001b[0m\u001b[1m)\u001b[0m: \u001b[1m{\u001b[0m\n",
       "        \u001b[32m'Initial_Time'\u001b[0m: \u001b[1;35mnumpy.datetime64\u001b[0m\u001b[1m(\u001b[0m\u001b[32m'2021-02-08T20:22:25.618000000'\u001b[0m\u001b[1m)\u001b[0m,\n",
       "        \u001b[32m'Sample_Duration'\u001b[0m: \u001b[1;36m8076.0\u001b[0m,\n",
       "        \u001b[32m'Description'\u001b[0m: \u001b[32m'Peak'\u001b[0m,\n",
       "        \u001b[32m'Start_Frequency'\u001b[0m: \u001b[1;36m105\u001b[0m,\n",
       "        \u001b[32m'Stop_Frequency'\u001b[0m: \u001b[1;36m140\u001b[0m,\n",
       "        \u001b[32m'Trace_Type'\u001b[0m: \u001b[32m'average'\u001b[0m,\n",
       "        \u001b[32m'RBW'\u001b[0m: \u001b[1;36m9\u001b[0m,\n",
       "        \u001b[32m'Level_Units'\u001b[0m: \u001b[32m'dBm'\u001b[0m,\n",
       "        \u001b[32m'Num_Traces'\u001b[0m: \u001b[1;36m52\u001b[0m,\n",
       "        \u001b[32m'Vector_Length'\u001b[0m: \u001b[1;36m3584\u001b[0m\n",
       "    \u001b[1m}\u001b[0m,\n",
       "    \u001b[1m(\u001b[0m\u001b[1;36m64\u001b[0m, \u001b[1;36m14\u001b[0m\u001b[1m)\u001b[0m: \u001b[1m{\u001b[0m\n",
       "        \u001b[32m'Initial_Time'\u001b[0m: \u001b[1;35mnumpy.datetime64\u001b[0m\u001b[1m(\u001b[0m\u001b[32m'2021-02-08T20:22:25.618000000'\u001b[0m\u001b[1m)\u001b[0m,\n",
       "        \u001b[32m'Sample_Duration'\u001b[0m: \u001b[1;36m8076.0\u001b[0m,\n",
       "        \u001b[32m'Description'\u001b[0m: \u001b[32m'Peak'\u001b[0m,\n",
       "        \u001b[32m'Start_Frequency'\u001b[0m: \u001b[1;36m105\u001b[0m,\n",
       "        \u001b[32m'Stop_Frequency'\u001b[0m: \u001b[1;36m140\u001b[0m,\n",
       "        \u001b[32m'Trace_Type'\u001b[0m: \u001b[32m'average'\u001b[0m,\n",
       "        \u001b[32m'RBW'\u001b[0m: \u001b[1;36m48\u001b[0m,\n",
       "        \u001b[32m'Level_Units'\u001b[0m: \u001b[32m'dBm'\u001b[0m,\n",
       "        \u001b[32m'Num_Traces'\u001b[0m: \u001b[1;36m52\u001b[0m,\n",
       "        \u001b[32m'Vector_Length'\u001b[0m: \u001b[1;36m717\u001b[0m\n",
       "    \u001b[1m}\u001b[0m\n",
       "\u001b[1m}\u001b[0m\n"
      ]
     },
     "metadata": {},
     "output_type": "display_data"
    },
    {
     "data": {
      "text/html": [
       "<pre style=\"white-space:pre;overflow-x:auto;line-height:normal;font-family:Menlo,'DejaVu Sans Mono',consolas,'Courier New',monospace\">Metadados do Arquivo rfeye002292_210208_T203238_CRFSBINv.<span style=\"color: #008080; text-decoration-color: #008080; font-weight: bold\">3.</span>bin\n",
       "</pre>\n"
      ],
      "text/plain": [
       "Metadados do Arquivo rfeye002292_210208_T203238_CRFSBINv.\u001b[1;36m3.\u001b[0mbin\n"
      ]
     },
     "metadata": {},
     "output_type": "display_data"
    },
    {
     "data": {
      "text/html": [
       "<pre style=\"white-space:pre;overflow-x:auto;line-height:normal;font-family:Menlo,'DejaVu Sans Mono',consolas,'Courier New',monospace\"><span style=\"font-weight: bold\">{</span>\n",
       "    <span style=\"color: #008000; text-decoration-color: #008000\">'File_Name'</span>: <span style=\"color: #008000; text-decoration-color: #008000\">'rfeye002292_210208_T203238_CRFSBINv.3.bin'</span>,\n",
       "    <span style=\"color: #008000; text-decoration-color: #008000\">'File_Version'</span>: <span style=\"color: #008080; text-decoration-color: #008080; font-weight: bold\">21</span>,\n",
       "    <span style=\"color: #008000; text-decoration-color: #008000\">'File_Type'</span>: <span style=\"color: #008000; text-decoration-color: #008000\">'RFEye Logger Trace'</span>,\n",
       "    <span style=\"color: #008000; text-decoration-color: #008000\">'Device'</span>: <span style=\"color: #008000; text-decoration-color: #008000\">'Rfeye Node'</span>,\n",
       "    <span style=\"color: #008000; text-decoration-color: #008000\">'Equipment_ID'</span>: <span style=\"color: #008000; text-decoration-color: #008000\">'rfeye002292'</span>,\n",
       "    <span style=\"color: #008000; text-decoration-color: #008000\">'Script_Version'</span>: <span style=\"color: #008000; text-decoration-color: #008000\">'Script_CRFSBINv3'</span>,\n",
       "    <span style=\"color: #008000; text-decoration-color: #008000\">'Latitude'</span>: <span style=\"color: #008080; text-decoration-color: #008080; font-weight: bold\">-12.971631</span>,\n",
       "    <span style=\"color: #008000; text-decoration-color: #008000\">'Longitude'</span>: <span style=\"color: #008080; text-decoration-color: #008080; font-weight: bold\">-38.481487</span>,\n",
       "    <span style=\"color: #008000; text-decoration-color: #008000\">'Altitude'</span>: <span style=\"color: #008080; text-decoration-color: #008080; font-weight: bold\">150.6</span>,\n",
       "    <span style=\"color: #008000; text-decoration-color: #008000\">'Count_GPS'</span>: <span style=\"color: #008080; text-decoration-color: #008080; font-weight: bold\">12</span>,\n",
       "    <span style=\"color: #008000; text-decoration-color: #008000\">'Sum_Latitude'</span>: <span style=\"color: #008080; text-decoration-color: #008080; font-weight: bold\">-155.65956</span>,\n",
       "    <span style=\"color: #008000; text-decoration-color: #008000\">'Sum_Longitude'</span>: <span style=\"color: #008080; text-decoration-color: #008080; font-weight: bold\">-461.7778</span>\n",
       "<span style=\"font-weight: bold\">}</span>\n",
       "</pre>\n"
      ],
      "text/plain": [
       "\u001b[1m{\u001b[0m\n",
       "    \u001b[32m'File_Name'\u001b[0m: \u001b[32m'rfeye002292_210208_T203238_CRFSBINv.3.bin'\u001b[0m,\n",
       "    \u001b[32m'File_Version'\u001b[0m: \u001b[1;36m21\u001b[0m,\n",
       "    \u001b[32m'File_Type'\u001b[0m: \u001b[32m'RFEye Logger Trace'\u001b[0m,\n",
       "    \u001b[32m'Device'\u001b[0m: \u001b[32m'Rfeye Node'\u001b[0m,\n",
       "    \u001b[32m'Equipment_ID'\u001b[0m: \u001b[32m'rfeye002292'\u001b[0m,\n",
       "    \u001b[32m'Script_Version'\u001b[0m: \u001b[32m'Script_CRFSBINv3'\u001b[0m,\n",
       "    \u001b[32m'Latitude'\u001b[0m: \u001b[1;36m-12.971631\u001b[0m,\n",
       "    \u001b[32m'Longitude'\u001b[0m: \u001b[1;36m-38.481487\u001b[0m,\n",
       "    \u001b[32m'Altitude'\u001b[0m: \u001b[1;36m150.6\u001b[0m,\n",
       "    \u001b[32m'Count_GPS'\u001b[0m: \u001b[1;36m12\u001b[0m,\n",
       "    \u001b[32m'Sum_Latitude'\u001b[0m: \u001b[1;36m-155.65956\u001b[0m,\n",
       "    \u001b[32m'Sum_Longitude'\u001b[0m: \u001b[1;36m-461.7778\u001b[0m\n",
       "\u001b[1m}\u001b[0m\n"
      ]
     },
     "metadata": {},
     "output_type": "display_data"
    },
    {
     "data": {
      "text/html": [
       "<pre style=\"white-space:pre;overflow-x:auto;line-height:normal;font-family:Menlo,'DejaVu Sans Mono',consolas,'Courier New',monospace\">Fluxos: \n",
       "<span style=\"font-weight: bold\">{}</span>\n",
       "</pre>\n"
      ],
      "text/plain": [
       "Fluxos: \n",
       "\u001b[1m{\u001b[0m\u001b[1m}\u001b[0m\n"
      ]
     },
     "metadata": {},
     "output_type": "display_data"
    }
   ],
   "source": [
    "for filename, dado in dados.items():\n",
    "    print(f'Metadados do Arquivo {filename}')\n",
    "    print({k:v for k,v in dado.items() if k != 'Fluxos'})\n",
    "    print(\"Fluxos: \", {k:{i:j for i,j in fluxo.items()  if i not in ('Timestamp', 'Frequency', 'Level_Data')} for k,fluxo in dado['Fluxos'].items()})"
   ]
  },
  {
   "cell_type": "code",
   "execution_count": null,
   "metadata": {},
   "outputs": [
    {
     "data": {
      "text/html": [
       "<pre style=\"white-space:pre;overflow-x:auto;line-height:normal;font-family:Menlo,'DejaVu Sans Mono',consolas,'Courier New',monospace\"><span style=\"color: #800000; text-decoration-color: #800000; font-weight: bold\">─────────────────────────── </span>Lista de Arquivos a serem processados<span style=\"color: #800000; text-decoration-color: #800000; font-weight: bold\"> ───────────────────────────</span>\n",
       "</pre>\n"
      ],
      "text/plain": [
       "\u001b[1;31m─────────────────────────── \u001b[0mLista de Arquivos a serem processados\u001b[1;31m ───────────────────────────\u001b[0m\n"
      ]
     },
     "metadata": {},
     "output_type": "display_data"
    },
    {
     "data": {
      "text/html": [
       "<pre style=\"white-space:pre;overflow-x:auto;line-height:normal;font-family:Menlo,'DejaVu Sans Mono',consolas,'Courier New',monospace\"><span style=\"color: #c0c0c0; text-decoration-color: #c0c0c0; font-weight: bold\">[</span><span style=\"color: #008000; text-decoration-color: #008000\">'rfeye002092_210208_T202310_CRFSBINv.5.bin'</span><span style=\"color: #c0c0c0; text-decoration-color: #c0c0c0; font-weight: bold\">]                                                </span>\n",
       "</pre>\n"
      ],
      "text/plain": [
       "\u001b[1;37m[\u001b[0m\u001b[32m'rfeye002092_210208_T202310_CRFSBINv.5.bin'\u001b[0m\u001b[1;37m]\u001b[0m\u001b[1;37m                                                \u001b[0m\n"
      ]
     },
     "metadata": {},
     "output_type": "display_data"
    },
    {
     "data": {
      "text/html": [
       "<pre style=\"white-space:pre;overflow-x:auto;line-height:normal;font-family:Menlo,'DejaVu Sans Mono',consolas,'Courier New',monospace\"><span style=\"color: #008000; text-decoration-color: #008000\">Processando Blocos de: </span><span style=\"color: #800000; text-decoration-color: #800000\">rfeye002092_210208_T202310_CRFSBINv.</span><span style=\"color: #800000; text-decoration-color: #800000; font-weight: bold\">5.</span><span style=\"color: #800000; text-decoration-color: #800000\">bin</span>\n",
       "</pre>\n"
      ],
      "text/plain": [
       "\u001b[32mProcessando Blocos de: \u001b[0m\u001b[31mrfeye002092_210208_T202310_CRFSBINv.\u001b[0m\u001b[1;31m5.\u001b[0m\u001b[31mbin\u001b[0m\n"
      ]
     },
     "metadata": {},
     "output_type": "display_data"
    }
   ],
   "source": [
    "dados = extract_bin_data(path / 'rfeye002092_210208_T202310_CRFSBINv.5.bin', spec_data=True)"
   ]
  },
  {
   "cell_type": "code",
   "execution_count": null,
   "metadata": {},
   "outputs": [
    {
     "data": {
      "text/html": [
       "<pre style=\"white-space:pre;overflow-x:auto;line-height:normal;font-family:Menlo,'DejaVu Sans Mono',consolas,'Courier New',monospace\"><span style=\"font-weight: bold\">[[</span><span style=\"color: #008080; text-decoration-color: #008080; font-weight: bold\">-117.5</span> <span style=\"color: #008080; text-decoration-color: #008080; font-weight: bold\">-113</span>.  <span style=\"color: #008080; text-decoration-color: #008080; font-weight: bold\">-111.5</span> <span style=\"color: #808000; text-decoration-color: #808000\">...</span> <span style=\"color: #008080; text-decoration-color: #008080; font-weight: bold\">-103.5</span> <span style=\"color: #008080; text-decoration-color: #008080; font-weight: bold\">-110</span>.   <span style=\"color: #008080; text-decoration-color: #008080; font-weight: bold\">-97.5</span><span style=\"font-weight: bold\">]</span>\n",
       " <span style=\"font-weight: bold\">[</span><span style=\"color: #008080; text-decoration-color: #008080; font-weight: bold\">-113.5</span> <span style=\"color: #008080; text-decoration-color: #008080; font-weight: bold\">-114.5</span> <span style=\"color: #008080; text-decoration-color: #008080; font-weight: bold\">-111</span>.  <span style=\"color: #808000; text-decoration-color: #808000\">...</span>  <span style=\"color: #008080; text-decoration-color: #008080; font-weight: bold\">-94.5</span>  <span style=\"color: #008080; text-decoration-color: #008080; font-weight: bold\">-98.5</span>  <span style=\"color: #008080; text-decoration-color: #008080; font-weight: bold\">-99.5</span><span style=\"font-weight: bold\">]</span>\n",
       " <span style=\"font-weight: bold\">[</span><span style=\"color: #008080; text-decoration-color: #008080; font-weight: bold\">-109.5</span> <span style=\"color: #008080; text-decoration-color: #008080; font-weight: bold\">-111.5</span> <span style=\"color: #008080; text-decoration-color: #008080; font-weight: bold\">-114</span>.  <span style=\"color: #808000; text-decoration-color: #808000\">...</span> <span style=\"color: #008080; text-decoration-color: #008080; font-weight: bold\">-100</span>.   <span style=\"color: #008080; text-decoration-color: #008080; font-weight: bold\">-99</span>.  <span style=\"color: #008080; text-decoration-color: #008080; font-weight: bold\">-100.5</span><span style=\"font-weight: bold\">]</span>\n",
       " <span style=\"color: #808000; text-decoration-color: #808000\">...</span>\n",
       " <span style=\"font-weight: bold\">[</span><span style=\"color: #008080; text-decoration-color: #008080; font-weight: bold\">-117</span>.  <span style=\"color: #008080; text-decoration-color: #008080; font-weight: bold\">-115</span>.  <span style=\"color: #008080; text-decoration-color: #008080; font-weight: bold\">-114</span>.  <span style=\"color: #808000; text-decoration-color: #808000\">...</span>  <span style=\"color: #008080; text-decoration-color: #008080; font-weight: bold\">-99.5</span>  <span style=\"color: #008080; text-decoration-color: #008080; font-weight: bold\">-96</span>.   <span style=\"color: #008080; text-decoration-color: #008080; font-weight: bold\">-99</span>. <span style=\"font-weight: bold\">]</span>\n",
       " <span style=\"font-weight: bold\">[</span><span style=\"color: #008080; text-decoration-color: #008080; font-weight: bold\">-117</span>.  <span style=\"color: #008080; text-decoration-color: #008080; font-weight: bold\">-118</span>.  <span style=\"color: #008080; text-decoration-color: #008080; font-weight: bold\">-117.5</span> <span style=\"color: #808000; text-decoration-color: #808000\">...</span>  <span style=\"color: #008080; text-decoration-color: #008080; font-weight: bold\">-99.5</span>  <span style=\"color: #008080; text-decoration-color: #008080; font-weight: bold\">-93.5</span>  <span style=\"color: #008080; text-decoration-color: #008080; font-weight: bold\">-93.5</span><span style=\"font-weight: bold\">]</span>\n",
       " <span style=\"font-weight: bold\">[</span><span style=\"color: #008080; text-decoration-color: #008080; font-weight: bold\">-114.5</span> <span style=\"color: #008080; text-decoration-color: #008080; font-weight: bold\">-110.5</span> <span style=\"color: #008080; text-decoration-color: #008080; font-weight: bold\">-110</span>.  <span style=\"color: #808000; text-decoration-color: #808000\">...</span>  <span style=\"color: #008080; text-decoration-color: #008080; font-weight: bold\">-96.5</span>  <span style=\"color: #008080; text-decoration-color: #008080; font-weight: bold\">-96</span>.  <span style=\"color: #008080; text-decoration-color: #008080; font-weight: bold\">-102</span>. <span style=\"font-weight: bold\">]]</span>\n",
       "</pre>\n"
      ],
      "text/plain": [
       "\u001b[1m[\u001b[0m\u001b[1m[\u001b[0m\u001b[1;36m-117.5\u001b[0m \u001b[1;36m-113\u001b[0m.  \u001b[1;36m-111.5\u001b[0m \u001b[33m...\u001b[0m \u001b[1;36m-103.5\u001b[0m \u001b[1;36m-110\u001b[0m.   \u001b[1;36m-97.5\u001b[0m\u001b[1m]\u001b[0m\n",
       " \u001b[1m[\u001b[0m\u001b[1;36m-113.5\u001b[0m \u001b[1;36m-114.5\u001b[0m \u001b[1;36m-111\u001b[0m.  \u001b[33m...\u001b[0m  \u001b[1;36m-94.5\u001b[0m  \u001b[1;36m-98.5\u001b[0m  \u001b[1;36m-99.5\u001b[0m\u001b[1m]\u001b[0m\n",
       " \u001b[1m[\u001b[0m\u001b[1;36m-109.5\u001b[0m \u001b[1;36m-111.5\u001b[0m \u001b[1;36m-114\u001b[0m.  \u001b[33m...\u001b[0m \u001b[1;36m-100\u001b[0m.   \u001b[1;36m-99\u001b[0m.  \u001b[1;36m-100.5\u001b[0m\u001b[1m]\u001b[0m\n",
       " \u001b[33m...\u001b[0m\n",
       " \u001b[1m[\u001b[0m\u001b[1;36m-117\u001b[0m.  \u001b[1;36m-115\u001b[0m.  \u001b[1;36m-114\u001b[0m.  \u001b[33m...\u001b[0m  \u001b[1;36m-99.5\u001b[0m  \u001b[1;36m-96\u001b[0m.   \u001b[1;36m-99\u001b[0m. \u001b[1m]\u001b[0m\n",
       " \u001b[1m[\u001b[0m\u001b[1;36m-117\u001b[0m.  \u001b[1;36m-118\u001b[0m.  \u001b[1;36m-117.5\u001b[0m \u001b[33m...\u001b[0m  \u001b[1;36m-99.5\u001b[0m  \u001b[1;36m-93.5\u001b[0m  \u001b[1;36m-93.5\u001b[0m\u001b[1m]\u001b[0m\n",
       " \u001b[1m[\u001b[0m\u001b[1;36m-114.5\u001b[0m \u001b[1;36m-110.5\u001b[0m \u001b[1;36m-110\u001b[0m.  \u001b[33m...\u001b[0m  \u001b[1;36m-96.5\u001b[0m  \u001b[1;36m-96\u001b[0m.  \u001b[1;36m-102\u001b[0m. \u001b[1m]\u001b[0m\u001b[1m]\u001b[0m\n"
      ]
     },
     "metadata": {},
     "output_type": "display_data"
    }
   ],
   "source": [
    "d = dados['rfeye002092_210208_T202310_CRFSBINv.5.bin']\n",
    "fluxo = d['Fluxos'][67,20]\n",
    "tempo = fluxo['Timestamp']\n",
    "frequencias = np.linspace(fluxo['Start_Frequency'], fluxo['Stop_Frequency'], num=fluxo['Vector_Length'])\n",
    "niveis = fluxo['Level_Data'] \n",
    "data = pd.DataFrame(niveis, index=tempo, columns=frequencias)\n",
    "data.columns.name = \"Frequencies\"\n",
    "data.index.name = \"Time\"\n",
    "print(data.head())"
   ]
  },
  {
   "cell_type": "markdown",
   "metadata": {},
   "source": [
    "## Extrair dados estatísticos"
   ]
  },
  {
   "cell_type": "code",
   "execution_count": null,
   "metadata": {},
   "outputs": [
    {
     "name": "stdout",
     "output_type": "stream",
     "text": [
      "Converted 00_main.ipynb.\n",
      "Converted 01_parser.ipynb.\n",
      "Converted 02_utils.ipynb.\n",
      "Converted 03_blocks.ipynb.\n",
      "Converted 04_constants.ipynb.\n",
      "Converted index.ipynb.\n"
     ]
    }
   ],
   "source": [
    "#hide\n",
    "from nbdev.export import notebook2script\n",
    "notebook2script()"
   ]
  },
  {
   "cell_type": "code",
   "execution_count": null,
   "metadata": {},
   "outputs": [],
   "source": []
  }
 ],
 "metadata": {
  "kernelspec": {
   "display_name": "Python [conda env:rfpye]",
   "language": "python",
   "name": "conda-env-rfpye-py"
  }
 },
 "nbformat": 4,
 "nbformat_minor": 4
}
