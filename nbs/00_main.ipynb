{
 "cells": [
  {
   "cell_type": "code",
   "execution_count": null,
   "metadata": {},
   "outputs": [],
   "source": [
    "#default_exp main"
   ]
  },
  {
   "cell_type": "markdown",
   "metadata": {},
   "source": [
    "# Metadados e Espectro\r\n",
    "> Módulo com funções que encapsulam o processamento completo e retorno de metadados, matrix de nível."
   ]
  },
  {
   "cell_type": "code",
   "execution_count": null,
   "metadata": {},
   "outputs": [],
   "source": [
    "#hide \r\n",
    "#Standard Lib imports\r\n",
    "import sys, os\r\n",
    "from pathlib import Path\r\n",
    "\r\n",
    "# Insert in Path Project Directory\r\n",
    "sys.path.insert(0, str(Path().cwd().parent))"
   ]
  },
  {
   "cell_type": "code",
   "execution_count": null,
   "metadata": {},
   "outputs": [],
   "source": [
    "#hide\r\n",
    "%load_ext autoreload\r\n",
    "%autoreload 2            #Reload the code automatically\r\n",
    "%config Completer.use_jedi = False"
   ]
  },
  {
   "cell_type": "code",
   "execution_count": null,
   "metadata": {},
   "outputs": [
    {
     "ename": "ImportError",
     "evalue": "cannot import name 'EXCLUDE_ATTRS' from 'rfpye.constants' (G:\\Meu Drive\\repos\\Code\\rfpye\\rfpye\\constants.py)",
     "output_type": "error",
     "traceback": [
      "\u001b[1;31m---------------------------------------------------------------------------\u001b[0m",
      "\u001b[1;31mImportError\u001b[0m                               Traceback (most recent call last)",
      "\u001b[1;32m~\\AppData\\Local\\Temp/ipykernel_15092/4223811756.py\u001b[0m in \u001b[0;36m<module>\u001b[1;34m\u001b[0m\n\u001b[0;32m     12\u001b[0m \u001b[1;32mfrom\u001b[0m \u001b[0mrich\u001b[0m \u001b[1;32mimport\u001b[0m \u001b[0mprint\u001b[0m\u001b[1;33m\u001b[0m\u001b[1;33m\u001b[0m\u001b[0m\n\u001b[0;32m     13\u001b[0m \u001b[1;32mfrom\u001b[0m \u001b[0mloguru\u001b[0m \u001b[1;32mimport\u001b[0m \u001b[0mlogger\u001b[0m\u001b[1;33m\u001b[0m\u001b[1;33m\u001b[0m\u001b[0m\n\u001b[1;32m---> 14\u001b[1;33m \u001b[1;32mfrom\u001b[0m \u001b[0mrfpye\u001b[0m\u001b[1;33m.\u001b[0m\u001b[0mutils\u001b[0m \u001b[1;32mimport\u001b[0m \u001b[1;33m*\u001b[0m\u001b[1;33m\u001b[0m\u001b[1;33m\u001b[0m\u001b[0m\n\u001b[0m\u001b[0;32m     15\u001b[0m \u001b[1;32mfrom\u001b[0m \u001b[0mrfpye\u001b[0m\u001b[1;33m.\u001b[0m\u001b[0mconstants\u001b[0m \u001b[1;32mimport\u001b[0m \u001b[0mSPECTRAL_BLOCKS\u001b[0m\u001b[1;33m\u001b[0m\u001b[1;33m\u001b[0m\u001b[0m\n\u001b[0;32m     16\u001b[0m \u001b[1;32mfrom\u001b[0m \u001b[0mrfpye\u001b[0m\u001b[1;33m.\u001b[0m\u001b[0mparser\u001b[0m \u001b[1;32mimport\u001b[0m \u001b[1;33m*\u001b[0m\u001b[1;33m\u001b[0m\u001b[1;33m\u001b[0m\u001b[0m\n",
      "\u001b[1;32mG:\\Meu Drive\\repos\\Code\\rfpye\\rfpye\\utils.py\u001b[0m in \u001b[0;36m<module>\u001b[1;34m\u001b[0m\n\u001b[0;32m     12\u001b[0m \u001b[1;32mfrom\u001b[0m \u001b[0mfastcore\u001b[0m\u001b[1;33m.\u001b[0m\u001b[0mxtras\u001b[0m \u001b[1;32mimport\u001b[0m \u001b[0mPath\u001b[0m\u001b[1;33m\u001b[0m\u001b[1;33m\u001b[0m\u001b[0m\n\u001b[0;32m     13\u001b[0m \u001b[1;32mfrom\u001b[0m \u001b[0mfastcore\u001b[0m\u001b[1;33m.\u001b[0m\u001b[0mbasics\u001b[0m \u001b[1;32mimport\u001b[0m \u001b[0muniqueify\u001b[0m\u001b[1;33m,\u001b[0m \u001b[0mlistify\u001b[0m\u001b[1;33m\u001b[0m\u001b[1;33m\u001b[0m\u001b[0m\n\u001b[1;32m---> 14\u001b[1;33m \u001b[1;32mfrom\u001b[0m \u001b[1;33m.\u001b[0m\u001b[0mconstants\u001b[0m \u001b[1;32mimport\u001b[0m \u001b[0mEXCLUDE_ATTRS\u001b[0m\u001b[1;33m\u001b[0m\u001b[1;33m\u001b[0m\u001b[0m\n\u001b[0m\u001b[0;32m     15\u001b[0m \u001b[1;33m\u001b[0m\u001b[0m\n\u001b[0;32m     16\u001b[0m \u001b[1;31m# Cell\u001b[0m\u001b[1;33m\u001b[0m\u001b[1;33m\u001b[0m\u001b[1;33m\u001b[0m\u001b[0m\n",
      "\u001b[1;31mImportError\u001b[0m: cannot import name 'EXCLUDE_ATTRS' from 'rfpye.constants' (G:\\Meu Drive\\repos\\Code\\rfpye\\rfpye\\constants.py)"
     ]
    }
   ],
   "source": [
    "#export\r\n",
    "from datetime import datetime\r\n",
    "from typing import *\r\n",
    "import os\r\n",
    "\r\n",
    "from fastcore.xtras import Path\r\n",
    "from fastcore.xtras import is_listy\r\n",
    "from fastcore.foundation import L\r\n",
    "import numpy as np\r\n",
    "import pandas as pd\r\n",
    "\r\n",
    "from rich import print\r\n",
    "from loguru import logger\r\n",
    "from rfpye.utils import *\r\n",
    "from rfpye.constants import SPECTRAL_BLOCKS\r\n",
    "from rfpye.parser import *\r\n",
    "\r\n",
    "BTYPES = [21, 40] + SPECTRAL_BLOCKS\r\n",
    "FILTER_ATTRS = {21: ['hostname', 'method'],\r\n",
    "                40: ['altitude', 'latitude', 'longitude'],\r\n",
    "                63: ['wallclock_datetime', 'sample', 'minimum', 'ndata', 'processing', 'bw', 'unit', 'description', 'start_mega', 'stop_mega'],\r\n",
    "                67: ['wallclock_datetime', 'sample', 'minimum', 'ndata', 'processing', 'bw', 'unit', 'description', 'start_mega', 'stop_mega'],\r\n",
    "                68: ['wallclock_datetime', 'sample', 'minimum', 'ndata', 'processing', 'bw', 'unit', 'description', 'start_mega', 'stop_mega']}"
   ]
  },
  {
   "cell_type": "code",
   "execution_count": null,
   "metadata": {},
   "outputs": [
    {
     "data": {
      "text/plain": [
       "2"
      ]
     },
     "execution_count": null,
     "metadata": {},
     "output_type": "execute_result"
    }
   ],
   "source": [
    "#exporti\r\n",
    "logger.add(\"rfpye.log\", rotation=\"1 week\", compression='zip', backtrace=True, diagnose=True) "
   ]
  },
  {
   "cell_type": "markdown",
   "metadata": {},
   "source": [
    "## Resumo Estatístico\n",
    "A seguinte função recebe um DataFrame cujas linhas são as diferentes varreduras do espectro, cada uma com seu timestamp, e colunas as diferentes frequências centrais medidas. Essa função é chamada pela função `extract_bin_stats`"
   ]
  },
  {
   "cell_type": "code",
   "execution_count": null,
   "metadata": {},
   "outputs": [],
   "source": [
    "#export\r\n",
    "@logger.catch\r\n",
    "def filter_spectrum(\r\n",
    "    df: pd.DataFrame,\r\n",
    "    time_start: str = None,\r\n",
    "    time_stop: str = None,\r\n",
    "    freq_start: str = None,\r\n",
    "    freq_stop: str = None,\r\n",
    ") -> pd.DataFrame:\r\n",
    "    \"\"\"Recebe o arquivo de espectro df e retorna de acordo com os filtros\r\n",
    "\r\n",
    "    Args:\r\n",
    "        df (pd.DataFrame): Arquivo de espectro. Timestamp como linhas e frequências como colunas\r\n",
    "        time_start (str): Timestamp de início. Se None filtra desde o início do arquivo\r\n",
    "        time_stop (str): Timestamp de fim. Se None filtra até o fim do arquivo\r\n",
    "        freq_start (str): Filtro inicial de frequência. Se None retorna desde a menor frequências\r\n",
    "        freq_stop (str): Filtro Final de frequência. Se None retorna até a maior frequência.\r\n",
    "\r\n",
    "    Returns:\r\n",
    "        pd.DataFrame: DataFrame com Frequência, min, max e mean após os filtros aplicados.\r\n",
    "    \"\"\"\r\n",
    "    df = df.copy()\r\n",
    "    if time_start is None:\r\n",
    "        time_start = \"01/01/2000\"\r\n",
    "    if time_stop is None:\r\n",
    "        time_stop = \"31/12/2100\"\r\n",
    "    try:\r\n",
    "        time_start = pd.to_datetime(time_start)\r\n",
    "        time_stop = pd.to_datetime(time_stop)\r\n",
    "    except pd.errors.ParserError:\r\n",
    "        log.error(\r\n",
    "            f\"[bold red blink] Datas inválidas! Verifique as strings de data {freq_start} e {freq_stop}\"\r\n",
    "        )\r\n",
    "\r\n",
    "    try:\r\n",
    "        df.set_index(\"index\", inplace=True)\r\n",
    "        df.index = pd.to_datetime(df.index)\r\n",
    "    except pd.errors.KeyError:\r\n",
    "        if not isinstance(df.index, pd.DatetimeIndex):\r\n",
    "            log.warning(\r\n",
    "                f\"Não foi passado uma coluna ou índice com datetime a ser filtrado, todas as linhas serão processadas\",\r\n",
    "                exc_info=True,\r\n",
    "            )\r\n",
    "            time_start = 0\r\n",
    "            time_stop = df.shape[0]\r\n",
    "\r\n",
    "    cols = df.columns.values.astype(\"float\")\r\n",
    "    rows = df.index.values\r\n",
    "\r\n",
    "    if freq_start is None:\r\n",
    "        freq_start = 0\r\n",
    "    if freq_stop is None:\r\n",
    "        freq_stop = np.inf\r\n",
    "\r\n",
    "    filtered_cols = df.columns[(float(freq_start) <= cols) & (cols <= float(freq_stop))]\r\n",
    "    filtered_rows = df.index[(time_start <= rows) & (rows <= time_stop)]\r\n",
    "    if len(filtered_cols) == 0 or len(filtered_rows) == 0:\r\n",
    "        return None\r\n",
    "    count = filtered_rows.shape[0]\r\n",
    "    array = df.loc[filtered_rows, filtered_cols].values\r\n",
    "    freq = filtered_cols.values.astype(\"float32\")\r\n",
    "    min_ = array.min(axis=0)\r\n",
    "    max_ = array.max(axis=0)\r\n",
    "    mean = array.mean(axis=0)\r\n",
    "    return pd.DataFrame(\r\n",
    "        {\"Frequency\": freq, \"Min\": min_, \"Max\": max_, \"Mean\": mean, \"Count\": count}\r\n",
    "    )"
   ]
  },
  {
   "cell_type": "code",
   "execution_count": null,
   "metadata": {},
   "outputs": [],
   "source": [
    "#exporti\r\n",
    "def read_meta(filename):\r\n",
    "    ext = filename.suffix\r\n",
    "    if ext == \".csv\":\r\n",
    "        df = pd.read_csv(filename)\r\n",
    "    elif ext == \".xlsx\":\r\n",
    "        df = pd.read_excel(filename, engine=\"openpyxl\")\r\n",
    "    elif ext == \".fth\":\r\n",
    "        df = pd.read_feather(filename)\r\n",
    "        if \"wallclock_datetime\" in df.columns:\r\n",
    "            df.set_index(\"wallclock_datetime\", inplace=True)\r\n",
    "    else:\r\n",
    "        raise ValueError(f\"Extension {ext} not implemented\")\r\n",
    "    return df"
   ]
  },
  {
   "cell_type": "code",
   "execution_count": null,
   "metadata": {},
   "outputs": [],
   "source": [
    "#export\r\n",
    "@logger.catch\r\n",
    "def extract_bin_data(\r\n",
    "    path: str,\r\n",
    "    spec_data: bool = False,\r\n",
    "    dtype: str = \"float16\",\r\n",
    "    \r\n",
    ") -> None:\r\n",
    "    \"\"\"Recebe uma pasta ou arquivo bin, processa e salva os metadados e espectro na saida.\r\n",
    "\r\n",
    "    Args:\r\n",
    "        path (str): Caminho para a Pasta ou Arquivo .bin\r\n",
    "        saida (str): Pasta onde salvar os arquivos processados\r\n",
    "        recursivo (bool, optional): Buscar os arquivos de entrada recursivamente. Defaults to False.\r\n",
    "        pastas (Iterable[str], optional): Limitar a busca a essas pastas. Defaults to None.\r\n",
    "        substituir (bool, optional): Reprocessar arquivos já processados?. Defaults to False.\r\n",
    "        dtype (str, optional): Tipo de dados a salvar o espectro. Defaults to \"float16\".\r\n",
    "    \"\"\"\r\n",
    "    if is_listy(path):\r\n",
    "        lista_bins = L()\r\n",
    "        for f in path:\r\n",
    "            if f.is_file():\r\n",
    "                if f.suffix == '.bin':\r\n",
    "                    lista_bins.append(f)\r\n",
    "                else:\r\n",
    "                    raise TypeErrorror(f\"A extensão de arquivo é inválida: {f.suffix}. Somente arquivos .bin são aceitos.\")\r\n",
    "    else:\r\n",
    "        path = Path(path)\r\n",
    "        if path.is_file():\r\n",
    "            if path.suffix == '.bin':\r\n",
    "                lista_bins = [path]\r\n",
    "            else:\r\n",
    "                raise TypeErrorror(f\"A extensão de arquivo é inválida: {path.suffix}. Somente arquivos .bin são aceitos.\")\r\n",
    "        elif path.is_dir():\r\n",
    "            lista_bins = get_files(\r\n",
    "                path, extensions=[\".bin\"])\r\n",
    "\r\n",
    "        else:\r\n",
    "            raise ValueError(f\"Caminho de Entrada inválido: {path}. Insira um caminho para uma pasta ou arquivo\")\r\n",
    "\r\n",
    "    console.rule(\"Lista de Arquivos a serem processados\", style=\"bold red\")\r\n",
    "    console.print(\r\n",
    "        [f.name for f in lista_bins],\r\n",
    "        style=\"bold white\",\r\n",
    "        overflow=\"fold\",\r\n",
    "        justify=\"left\",\r\n",
    "    )\r\n",
    "    if not lista_bins:\r\n",
    "        console.print(\":sleeping: Nenhum arquivo .bin a processar :zzz:\")\r\n",
    "        return\r\n",
    "   \r\n",
    "    if not lista_bins:\r\n",
    "        console.print(\":sleeping: Nenhum arquivo novo a processar :zzz:\")\r\n",
    "        console.print(\r\n",
    "            \":point_up: use --substituir no terminal ou substituir=True na chamada caso queira reprocessar os bins e sobrepôr os arquivos existentes :wink:\"\r\n",
    "        )\r\n",
    "        return\r\n",
    "\r\n",
    "    output = dict()\r\n",
    "    for file in lista_bins:\r\n",
    "        console.print(f\"[green]Processando Blocos de: [red]{file.name}\")\r\n",
    "        parsed_bin = parse_bin(file, btypes=BTYPES)\r\n",
    "        file_version, blocks = parsed_bin.values()\r\n",
    "        metadata = export_metadata(blocks, filter_attrs=FILTER_ATTRS)\r\n",
    "        out = dict()\r\n",
    "        out['File_Name'] = file.name\r\n",
    "        out['File_Version'] = file_version\r\n",
    "        out['File_Type'] = 'RFEye Logger Trace'\r\n",
    "        out['Device'] = 'Rfeye Node'\r\n",
    "        out['Fluxos'] = dict()\r\n",
    "        for (btype, tid), df in metadata.items():\r\n",
    "            if btype == 21:\r\n",
    "                out['Equipment_ID'] = df.hostname.item()\r\n",
    "                out['Script_Version'] = df.method.item()\r\n",
    "            elif btype == 40:\r\n",
    "                out['Latitude'] = df.latitude.median()\r\n",
    "                out['Longitude'] = df.longitude.median()\r\n",
    "                out['Altitude'] = df.altitude.median()\r\n",
    "                out['Count_GPS'] = df.shape[0]\r\n",
    "                out['Sum_Latitude']  = df.latitude.sum()\r\n",
    "                out['Sum_Longitude'] = df.longitude.sum()\r\n",
    "            elif btype in SPECTRAL_BLOCKS:\r\n",
    "                timestamp = df.index.values\r\n",
    "                level = dict()\r\n",
    "                level['Initial_Time'] = timestamp.min()\r\n",
    "                level['Sample_Duration'] = df['sample'].median()\r\n",
    "                fluxo = df.drop(['minimum', 'sample'], axis=1).iloc[0]\r\n",
    "                level['Description'] = fluxo.description\r\n",
    "                level['Start_Frequency'] = fluxo.start_mega\r\n",
    "                level['Stop_Frequency'] = fluxo.stop_mega\r\n",
    "                level['Trace_Type'] = fluxo.processing\r\n",
    "                level['Resolution'] = fluxo.bw\r\n",
    "                level['Level_Units'] = fluxo.unit\r\n",
    "                level['Num_Traces'] = df.shape[0]\r\n",
    "                level['Vector_Length'] = fluxo.ndata\r\n",
    "                level['Timestamp'] = timestamp\r\n",
    "                if spec_data:\r\n",
    "                    if save_path:\r\n",
    "                        level['Minimum_Level'] = df.minimum.values.astype('float16')\r\n",
    "                        level['Level_Data'] = extract_level(blocks[(btype, tid)], dtype=np.uint8).flatten()\r\n",
    "                    else:\r\n",
    "                        level['Frequency'] = np.linspace(fluxo.start_mega, fluxo.stop_mega, num=fluxo.ndata)\r\n",
    "                        level['Level_Data'] = extract_level(blocks[(btype, tid)], dtype=dtype)\r\n",
    "                out['Fluxos'][(btype, tid)] =  level\r\n",
    "            else:\r\n",
    "                print(btype)\r\n",
    "        done.add(file.name)\r\n",
    "        output[file.name] = out\r\n",
    "\r\n",
    "    if save_path:\r\n",
    "        log.write_text(\"\\n\".join(sorted(list(done))))\r\n",
    "    return output"
   ]
  },
  {
   "cell_type": "markdown",
   "metadata": {},
   "source": [
    "Uso mais comum: Diretório com arquivos CRFS bin\n",
    "A função seguinte recebe um caminho para um arquivo `.bin` ou para uma pasta que contém arquivos bin e retorna os metadados do arquivo como um dicionário. "
   ]
  },
  {
   "cell_type": "code",
   "execution_count": null,
   "metadata": {},
   "outputs": [],
   "source": [
    "path = Path(r'D:\\OneDrive - ANATEL\\BinFiles\\Combo3 (Tipos de dados 4, 7, 8, 60-65 e 67-69)')"
   ]
  },
  {
   "cell_type": "code",
   "execution_count": null,
   "metadata": {},
   "outputs": [],
   "source": [
    "if not path.exists() or not len(get_files(path, extensions=['.bin'])):\r\n",
    "    path = Path('.')\r\n",
    "    !wget --header 'Host: raw.githubusercontent.com' --user-agent 'Mozilla/5.0 (Windows NT 10.0; Win64; x64; rv:89.0) Gecko/20100101 Firefox/89.0' --header 'Accept: text/html,application/xhtml+xml,application/xml;q=0.9,image/webp,*/*;q=0.8' --header 'Accept-Language: pt-BR,pt;q=0.8,en-US;q=0.5,en;q=0.3' --referer 'https://github.com/EricMagalhaesDelgado/SpecFiles/blob/main/Combo3%20(CRFS%20Bin%20-%20DataTypes%204%2C%207%2C%208%2C%2060-65%20e%2067-69)/rfeye002092_210208_T202310_CRFSBINv.5.bin' --header 'DNT: 1' --header 'Upgrade-Insecure-Requests: 1' 'https://raw.githubusercontent.com/EricMagalhaesDelgado/SpecFiles/main/Combo3%20(CRFS%20Bin%20-%20DataTypes%204%2C%207%2C%208%2C%2060-65%20e%2067-69)/rfeye002092_210208_T202310_CRFSBINv.5.bin' --output-document 'rfeye002092_210208_T202310_CRFSBINv.5.bin'\r\n",
    "    !wget --header 'Host: raw.githubusercontent.com' --user-agent 'Mozilla/5.0 (Windows NT 10.0; Win64; x64; rv:89.0) Gecko/20100101 Firefox/89.0' --header 'Accept: text/html,application/xhtml+xml,application/xml;q=0.9,image/webp,*/*;q=0.8' --header 'Accept-Language: pt-BR,pt;q=0.8,en-US;q=0.5,en;q=0.3' --referer 'https://github.com/EricMagalhaesDelgado/SpecFiles/blob/main/Combo3%20(CRFS%20Bin%20-%20DataTypes%204%2C%207%2C%208%2C%2060-65%20e%2067-69)/rfeye002092_210208_T203131_CRFSBINv.2.bin' --header 'DNT: 1' --header 'Upgrade-Insecure-Requests: 1' 'https://raw.githubusercontent.com/EricMagalhaesDelgado/SpecFiles/main/Combo3%20(CRFS%20Bin%20-%20DataTypes%204%2C%207%2C%208%2C%2060-65%20e%2067-69)/rfeye002092_210208_T203131_CRFSBINv.2.bin' --output-document 'rfeye002092_210208_T203131_CRFSBINv.2.bin'\r\n",
    "    !wget --header 'Host: raw.githubusercontent.com' --user-agent 'Mozilla/5.0 (Windows NT 10.0; Win64; x64; rv:89.0) Gecko/20100101 Firefox/89.0' --header 'Accept: text/html,application/xhtml+xml,application/xml;q=0.9,image/webp,*/*;q=0.8' --header 'Accept-Language: pt-BR,pt;q=0.8,en-US;q=0.5,en;q=0.3' --referer 'https://github.com/EricMagalhaesDelgado/SpecFiles/blob/main/Combo3%20(CRFS%20Bin%20-%20DataTypes%204%2C%207%2C%208%2C%2060-65%20e%2067-69)/rfeye002292_210208_T202215_CRFSBINv.4.bin' --header 'DNT: 1' --header 'Upgrade-Insecure-Requests: 1' 'https://raw.githubusercontent.com/EricMagalhaesDelgado/SpecFiles/main/Combo3%20(CRFS%20Bin%20-%20DataTypes%204%2C%207%2C%208%2C%2060-65%20e%2067-69)/rfeye002292_210208_T202215_CRFSBINv.4.bin' --output-document 'rfeye002292_210208_T202215_CRFSBINv.4.bin'\r\n",
    "    !wget --header 'Host: raw.githubusercontent.com' --user-agent 'Mozilla/5.0 (Windows NT 10.0; Win64; x64; rv:89.0) Gecko/20100101 Firefox/89.0' --header 'Accept: text/html,application/xhtml+xml,application/xml;q=0.9,image/webp,*/*;q=0.8' --header 'Accept-Language: pt-BR,pt;q=0.8,en-US;q=0.5,en;q=0.3' --referer 'https://github.com/EricMagalhaesDelgado/SpecFiles/blob/main/Combo3%20(CRFS%20Bin%20-%20DataTypes%204%2C%207%2C%208%2C%2060-65%20e%2067-69)/rfeye002292_210208_T203238_CRFSBINv.3.bin' --header 'DNT: 1' --header 'Upgrade-Insecure-Requests: 1' 'https://raw.githubusercontent.com/EricMagalhaesDelgado/SpecFiles/main/Combo3%20(CRFS%20Bin%20-%20DataTypes%204%2C%207%2C%208%2C%2060-65%20e%2067-69)/rfeye002292_210208_T203238_CRFSBINv.3.bin' --output-document 'rfeye002292_210208_T203238_CRFSBINv.3.bin'\r\n"
   ]
  },
  {
   "cell_type": "code",
   "execution_count": null,
   "metadata": {},
   "outputs": [
    {
     "data": {
      "text/html": [
       "<pre style=\"white-space:pre;overflow-x:auto;line-height:normal;font-family:Menlo,'DejaVu Sans Mono',consolas,'Courier New',monospace\"><span style=\"color: #800000; text-decoration-color: #800000; font-weight: bold\">─────────────────────────── </span>Lista de Arquivos a serem processados<span style=\"color: #800000; text-decoration-color: #800000; font-weight: bold\"> ───────────────────────────</span>\n",
       "</pre>\n"
      ],
      "text/plain": [
       "\u001b[1;31m─────────────────────────── \u001b[0mLista de Arquivos a serem processados\u001b[1;31m ───────────────────────────\u001b[0m\n"
      ]
     },
     "metadata": {},
     "output_type": "display_data"
    },
    {
     "data": {
      "text/html": [
       "<pre style=\"white-space:pre;overflow-x:auto;line-height:normal;font-family:Menlo,'DejaVu Sans Mono',consolas,'Courier New',monospace\"><span style=\"color: #c0c0c0; text-decoration-color: #c0c0c0; font-weight: bold\">[                                                                                            </span>\n",
       "<span style=\"color: #c0c0c0; text-decoration-color: #c0c0c0; font-weight: bold\">    </span><span style=\"color: #008000; text-decoration-color: #008000\">'rfeye002092_210208_T202310_CRFSBINv.5.bin'</span><span style=\"color: #c0c0c0; text-decoration-color: #c0c0c0; font-weight: bold\">,                                             </span>\n",
       "<span style=\"color: #c0c0c0; text-decoration-color: #c0c0c0; font-weight: bold\">    </span><span style=\"color: #008000; text-decoration-color: #008000\">'rfeye002092_210208_T203131_CRFSBINv.2.bin'</span><span style=\"color: #c0c0c0; text-decoration-color: #c0c0c0; font-weight: bold\">,                                             </span>\n",
       "<span style=\"color: #c0c0c0; text-decoration-color: #c0c0c0; font-weight: bold\">    </span><span style=\"color: #008000; text-decoration-color: #008000\">'rfeye002292_210208_T202215_CRFSBINv.4.bin'</span><span style=\"color: #c0c0c0; text-decoration-color: #c0c0c0; font-weight: bold\">,                                             </span>\n",
       "<span style=\"color: #c0c0c0; text-decoration-color: #c0c0c0; font-weight: bold\">    </span><span style=\"color: #008000; text-decoration-color: #008000\">'rfeye002292_210208_T203238_CRFSBINv.3.bin'</span><span style=\"color: #c0c0c0; text-decoration-color: #c0c0c0; font-weight: bold\">                                              </span>\n",
       "<span style=\"color: #c0c0c0; text-decoration-color: #c0c0c0; font-weight: bold\">]                                                                                            </span>\n",
       "</pre>\n"
      ],
      "text/plain": [
       "\u001b[1;37m[\u001b[0m\u001b[1;37m                                               \u001b[0m\u001b[1;37m                                             \u001b[0m\n",
       "\u001b[1;37m    \u001b[0m\u001b[32m'rfeye002092_210208_T202310_CRFSBINv.5.bin'\u001b[0m\u001b[1;37m,\u001b[0m\u001b[1;37m                                             \u001b[0m\n",
       "\u001b[1;37m    \u001b[0m\u001b[32m'rfeye002092_210208_T203131_CRFSBINv.2.bin'\u001b[0m\u001b[1;37m,\u001b[0m\u001b[1;37m                                             \u001b[0m\n",
       "\u001b[1;37m    \u001b[0m\u001b[32m'rfeye002292_210208_T202215_CRFSBINv.4.bin'\u001b[0m\u001b[1;37m,\u001b[0m\u001b[1;37m                                             \u001b[0m\n",
       "\u001b[1;37m    \u001b[0m\u001b[32m'rfeye002292_210208_T203238_CRFSBINv.3.bin'\u001b[0m\u001b[1;37m \u001b[0m\u001b[1;37m                                             \u001b[0m\n",
       "\u001b[1;37m]\u001b[0m\u001b[1;37m                                               \u001b[0m\u001b[1;37m                                             \u001b[0m\n"
      ]
     },
     "metadata": {},
     "output_type": "display_data"
    },
    {
     "data": {
      "text/html": [
       "<pre style=\"white-space:pre;overflow-x:auto;line-height:normal;font-family:Menlo,'DejaVu Sans Mono',consolas,'Courier New',monospace\"><span style=\"color: #008000; text-decoration-color: #008000\">Processando Blocos de: </span><span style=\"color: #800000; text-decoration-color: #800000\">rfeye002092_210208_T202310_CRFSBINv.</span><span style=\"color: #800000; text-decoration-color: #800000; font-weight: bold\">5.</span><span style=\"color: #800000; text-decoration-color: #800000\">bin</span>\n",
       "</pre>\n"
      ],
      "text/plain": [
       "\u001b[32mProcessando Blocos de: \u001b[0m\u001b[31mrfeye002092_210208_T202310_CRFSBINv.\u001b[0m\u001b[1;31m5.\u001b[0m\u001b[31mbin\u001b[0m\n"
      ]
     },
     "metadata": {},
     "output_type": "display_data"
    },
    {
     "data": {
      "text/html": [
       "<pre style=\"white-space:pre;overflow-x:auto;line-height:normal;font-family:Menlo,'DejaVu Sans Mono',consolas,'Courier New',monospace\"><span style=\"color: #008000; text-decoration-color: #008000\">Processando Blocos de: </span><span style=\"color: #800000; text-decoration-color: #800000\">rfeye002092_210208_T203131_CRFSBINv.</span><span style=\"color: #800000; text-decoration-color: #800000; font-weight: bold\">2.</span><span style=\"color: #800000; text-decoration-color: #800000\">bin</span>\n",
       "</pre>\n"
      ],
      "text/plain": [
       "\u001b[32mProcessando Blocos de: \u001b[0m\u001b[31mrfeye002092_210208_T203131_CRFSBINv.\u001b[0m\u001b[1;31m2.\u001b[0m\u001b[31mbin\u001b[0m\n"
      ]
     },
     "metadata": {},
     "output_type": "display_data"
    },
    {
     "data": {
      "text/html": [
       "<pre style=\"white-space:pre;overflow-x:auto;line-height:normal;font-family:Menlo,'DejaVu Sans Mono',consolas,'Courier New',monospace\"><span style=\"color: #008000; text-decoration-color: #008000\">Processando Blocos de: </span><span style=\"color: #800000; text-decoration-color: #800000\">rfeye002292_210208_T202215_CRFSBINv.</span><span style=\"color: #800000; text-decoration-color: #800000; font-weight: bold\">4.</span><span style=\"color: #800000; text-decoration-color: #800000\">bin</span>\n",
       "</pre>\n"
      ],
      "text/plain": [
       "\u001b[32mProcessando Blocos de: \u001b[0m\u001b[31mrfeye002292_210208_T202215_CRFSBINv.\u001b[0m\u001b[1;31m4.\u001b[0m\u001b[31mbin\u001b[0m\n"
      ]
     },
     "metadata": {},
     "output_type": "display_data"
    },
    {
     "data": {
      "text/html": [
       "<pre style=\"white-space:pre;overflow-x:auto;line-height:normal;font-family:Menlo,'DejaVu Sans Mono',consolas,'Courier New',monospace\"><span style=\"color: #008000; text-decoration-color: #008000\">Processando Blocos de: </span><span style=\"color: #800000; text-decoration-color: #800000\">rfeye002292_210208_T203238_CRFSBINv.</span><span style=\"color: #800000; text-decoration-color: #800000; font-weight: bold\">3.</span><span style=\"color: #800000; text-decoration-color: #800000\">bin</span>\n",
       "</pre>\n"
      ],
      "text/plain": [
       "\u001b[32mProcessando Blocos de: \u001b[0m\u001b[31mrfeye002292_210208_T203238_CRFSBINv.\u001b[0m\u001b[1;31m3.\u001b[0m\u001b[31mbin\u001b[0m\n"
      ]
     },
     "metadata": {},
     "output_type": "display_data"
    }
   ],
   "source": [
    "dados = extract_bin_data(path)"
   ]
  },
  {
   "cell_type": "code",
   "execution_count": null,
   "metadata": {},
   "outputs": [
    {
     "data": {
      "text/html": [
       "<pre style=\"white-space:pre;overflow-x:auto;line-height:normal;font-family:Menlo,'DejaVu Sans Mono',consolas,'Courier New',monospace\">Metadados do Arquivo rfeye002092_210208_T202310_CRFSBINv.<span style=\"color: #008080; text-decoration-color: #008080; font-weight: bold\">5.</span>bin\n",
       "</pre>\n"
      ],
      "text/plain": [
       "Metadados do Arquivo rfeye002092_210208_T202310_CRFSBINv.\u001b[1;36m5.\u001b[0mbin\n"
      ]
     },
     "metadata": {},
     "output_type": "display_data"
    },
    {
     "data": {
      "text/html": [
       "<pre style=\"white-space:pre;overflow-x:auto;line-height:normal;font-family:Menlo,'DejaVu Sans Mono',consolas,'Courier New',monospace\"><span style=\"font-weight: bold\">{</span>\n",
       "    <span style=\"color: #008000; text-decoration-color: #008000\">'File_Name'</span>: <span style=\"color: #008000; text-decoration-color: #008000\">'rfeye002092_210208_T202310_CRFSBINv.5.bin'</span>,\n",
       "    <span style=\"color: #008000; text-decoration-color: #008000\">'File_Version'</span>: <span style=\"color: #008080; text-decoration-color: #008080; font-weight: bold\">23</span>,\n",
       "    <span style=\"color: #008000; text-decoration-color: #008000\">'File_Type'</span>: <span style=\"color: #008000; text-decoration-color: #008000\">'RFEye Logger Trace'</span>,\n",
       "    <span style=\"color: #008000; text-decoration-color: #008000\">'Device'</span>: <span style=\"color: #008000; text-decoration-color: #008000\">'Rfeye Node'</span>,\n",
       "    <span style=\"color: #008000; text-decoration-color: #008000\">'Equipment_ID'</span>: <span style=\"color: #008000; text-decoration-color: #008000\">'rfeye002092'</span>,\n",
       "    <span style=\"color: #008000; text-decoration-color: #008000\">'Script_Version'</span>: <span style=\"color: #008000; text-decoration-color: #008000\">'Script_CRFSBINv5'</span>,\n",
       "    <span style=\"color: #008000; text-decoration-color: #008000\">'Latitude'</span>: <span style=\"color: #008080; text-decoration-color: #008080; font-weight: bold\">-12.826857</span>,\n",
       "    <span style=\"color: #008000; text-decoration-color: #008000\">'Longitude'</span>: <span style=\"color: #008080; text-decoration-color: #008080; font-weight: bold\">-38.478035</span>,\n",
       "    <span style=\"color: #008000; text-decoration-color: #008000\">'Altitude'</span>: <span style=\"color: #008080; text-decoration-color: #008080; font-weight: bold\">124.3</span>,\n",
       "    <span style=\"color: #008000; text-decoration-color: #008000\">'Count_GPS'</span>: <span style=\"color: #008080; text-decoration-color: #008080; font-weight: bold\">8</span>,\n",
       "    <span style=\"color: #008000; text-decoration-color: #008000\">'Sum_Latitude'</span>: <span style=\"color: #008080; text-decoration-color: #008080; font-weight: bold\">-102.61485</span>,\n",
       "    <span style=\"color: #008000; text-decoration-color: #008000\">'Sum_Longitude'</span>: <span style=\"color: #008080; text-decoration-color: #008080; font-weight: bold\">-307.82428</span>\n",
       "<span style=\"font-weight: bold\">}</span>\n",
       "</pre>\n"
      ],
      "text/plain": [
       "\u001b[1m{\u001b[0m\n",
       "    \u001b[32m'File_Name'\u001b[0m: \u001b[32m'rfeye002092_210208_T202310_CRFSBINv.5.bin'\u001b[0m,\n",
       "    \u001b[32m'File_Version'\u001b[0m: \u001b[1;36m23\u001b[0m,\n",
       "    \u001b[32m'File_Type'\u001b[0m: \u001b[32m'RFEye Logger Trace'\u001b[0m,\n",
       "    \u001b[32m'Device'\u001b[0m: \u001b[32m'Rfeye Node'\u001b[0m,\n",
       "    \u001b[32m'Equipment_ID'\u001b[0m: \u001b[32m'rfeye002092'\u001b[0m,\n",
       "    \u001b[32m'Script_Version'\u001b[0m: \u001b[32m'Script_CRFSBINv5'\u001b[0m,\n",
       "    \u001b[32m'Latitude'\u001b[0m: \u001b[1;36m-12.826857\u001b[0m,\n",
       "    \u001b[32m'Longitude'\u001b[0m: \u001b[1;36m-38.478035\u001b[0m,\n",
       "    \u001b[32m'Altitude'\u001b[0m: \u001b[1;36m124.3\u001b[0m,\n",
       "    \u001b[32m'Count_GPS'\u001b[0m: \u001b[1;36m8\u001b[0m,\n",
       "    \u001b[32m'Sum_Latitude'\u001b[0m: \u001b[1;36m-102.61485\u001b[0m,\n",
       "    \u001b[32m'Sum_Longitude'\u001b[0m: \u001b[1;36m-307.82428\u001b[0m\n",
       "\u001b[1m}\u001b[0m\n"
      ]
     },
     "metadata": {},
     "output_type": "display_data"
    },
    {
     "data": {
      "text/html": [
       "<pre style=\"white-space:pre;overflow-x:auto;line-height:normal;font-family:Menlo,'DejaVu Sans Mono',consolas,'Courier New',monospace\">Fluxos: \n",
       "<span style=\"font-weight: bold\">{</span>\n",
       "    <span style=\"font-weight: bold\">(</span><span style=\"color: #008080; text-decoration-color: #008080; font-weight: bold\">67</span>, <span style=\"color: #008080; text-decoration-color: #008080; font-weight: bold\">20</span><span style=\"font-weight: bold\">)</span>: <span style=\"font-weight: bold\">{</span>\n",
       "        <span style=\"color: #008000; text-decoration-color: #008000\">'Initial_Time'</span>: <span style=\"color: #800080; text-decoration-color: #800080; font-weight: bold\">numpy.datetime64</span><span style=\"font-weight: bold\">(</span><span style=\"color: #008000; text-decoration-color: #008000\">'2021-02-08T20:23:10.500680000'</span><span style=\"font-weight: bold\">)</span>,\n",
       "        <span style=\"color: #008000; text-decoration-color: #008000\">'Sample_Duration'</span>: <span style=\"color: #008080; text-decoration-color: #008080; font-weight: bold\">18073.0</span>,\n",
       "        <span style=\"color: #008000; text-decoration-color: #008000\">'Description'</span>: <span style=\"color: #008000; text-decoration-color: #008000\">'ClearWrite. Peak.'</span>,\n",
       "        <span style=\"color: #008000; text-decoration-color: #008000\">'Start_Frequency'</span>: <span style=\"color: #008080; text-decoration-color: #008080; font-weight: bold\">76</span>,\n",
       "        <span style=\"color: #008000; text-decoration-color: #008000\">'Stop_Frequency'</span>: <span style=\"color: #008080; text-decoration-color: #008080; font-weight: bold\">108</span>,\n",
       "        <span style=\"color: #008000; text-decoration-color: #008000\">'Trace_Type'</span>: <span style=\"color: #008000; text-decoration-color: #008000\">'peak'</span>,\n",
       "        <span style=\"color: #008000; text-decoration-color: #008000\">'RBW'</span>: <span style=\"color: #008080; text-decoration-color: #008080; font-weight: bold\">7381</span>,\n",
       "        <span style=\"color: #008000; text-decoration-color: #008000\">'Level_Units'</span>: <span style=\"color: #008000; text-decoration-color: #008000\">'dBm'</span>,\n",
       "        <span style=\"color: #008000; text-decoration-color: #008000\">'Num_Traces'</span>: <span style=\"color: #008080; text-decoration-color: #008080; font-weight: bold\">956</span>,\n",
       "        <span style=\"color: #008000; text-decoration-color: #008000\">'Vector_Length'</span>: <span style=\"color: #008080; text-decoration-color: #008080; font-weight: bold\">8192</span>\n",
       "    <span style=\"font-weight: bold\">}</span>,\n",
       "    <span style=\"font-weight: bold\">(</span><span style=\"color: #008080; text-decoration-color: #008080; font-weight: bold\">67</span>, <span style=\"color: #008080; text-decoration-color: #008080; font-weight: bold\">30</span><span style=\"font-weight: bold\">)</span>: <span style=\"font-weight: bold\">{</span>\n",
       "        <span style=\"color: #008000; text-decoration-color: #008000\">'Initial_Time'</span>: <span style=\"color: #800080; text-decoration-color: #800080; font-weight: bold\">numpy.datetime64</span><span style=\"font-weight: bold\">(</span><span style=\"color: #008000; text-decoration-color: #008000\">'2021-02-08T20:23:10.522721000'</span><span style=\"font-weight: bold\">)</span>,\n",
       "        <span style=\"color: #008000; text-decoration-color: #008000\">'Sample_Duration'</span>: <span style=\"color: #008080; text-decoration-color: #008080; font-weight: bold\">8552.0</span>,\n",
       "        <span style=\"color: #008000; text-decoration-color: #008000\">'Description'</span>: <span style=\"color: #008000; text-decoration-color: #008000\">'ClearWrite. Peak.'</span>,\n",
       "        <span style=\"color: #008000; text-decoration-color: #008000\">'Start_Frequency'</span>: <span style=\"color: #008080; text-decoration-color: #008080; font-weight: bold\">70</span>,\n",
       "        <span style=\"color: #008000; text-decoration-color: #008000\">'Stop_Frequency'</span>: <span style=\"color: #008080; text-decoration-color: #008080; font-weight: bold\">110</span>,\n",
       "        <span style=\"color: #008000; text-decoration-color: #008000\">'Trace_Type'</span>: <span style=\"color: #008000; text-decoration-color: #008000\">'peak'</span>,\n",
       "        <span style=\"color: #008000; text-decoration-color: #008000\">'RBW'</span>: <span style=\"color: #008080; text-decoration-color: #008080; font-weight: bold\">73828</span>,\n",
       "        <span style=\"color: #008000; text-decoration-color: #008000\">'Level_Units'</span>: <span style=\"color: #008000; text-decoration-color: #008000\">'dBm'</span>,\n",
       "        <span style=\"color: #008000; text-decoration-color: #008000\">'Num_Traces'</span>: <span style=\"color: #008080; text-decoration-color: #008080; font-weight: bold\">988</span>,\n",
       "        <span style=\"color: #008000; text-decoration-color: #008000\">'Vector_Length'</span>: <span style=\"color: #008080; text-decoration-color: #008080; font-weight: bold\">1024</span>\n",
       "    <span style=\"font-weight: bold\">}</span>,\n",
       "    <span style=\"font-weight: bold\">(</span><span style=\"color: #008080; text-decoration-color: #008080; font-weight: bold\">67</span>, <span style=\"color: #008080; text-decoration-color: #008080; font-weight: bold\">10</span><span style=\"font-weight: bold\">)</span>: <span style=\"font-weight: bold\">{</span>\n",
       "        <span style=\"color: #008000; text-decoration-color: #008000\">'Initial_Time'</span>: <span style=\"color: #800080; text-decoration-color: #800080; font-weight: bold\">numpy.datetime64</span><span style=\"font-weight: bold\">(</span><span style=\"color: #008000; text-decoration-color: #008000\">'2021-02-08T20:23:11.979000000'</span><span style=\"font-weight: bold\">)</span>,\n",
       "        <span style=\"color: #008000; text-decoration-color: #008000\">'Sample_Duration'</span>: <span style=\"color: #008080; text-decoration-color: #008080; font-weight: bold\">8076.0</span>,\n",
       "        <span style=\"color: #008000; text-decoration-color: #008000\">'Description'</span>: <span style=\"color: #008000; text-decoration-color: #008000\">'ClearWrite. Peak.'</span>,\n",
       "        <span style=\"color: #008000; text-decoration-color: #008000\">'Start_Frequency'</span>: <span style=\"color: #008080; text-decoration-color: #008080; font-weight: bold\">105</span>,\n",
       "        <span style=\"color: #008000; text-decoration-color: #008000\">'Stop_Frequency'</span>: <span style=\"color: #008080; text-decoration-color: #008080; font-weight: bold\">140</span>,\n",
       "        <span style=\"color: #008000; text-decoration-color: #008000\">'Trace_Type'</span>: <span style=\"color: #008000; text-decoration-color: #008000\">'peak'</span>,\n",
       "        <span style=\"color: #008000; text-decoration-color: #008000\">'RBW'</span>: <span style=\"color: #008080; text-decoration-color: #008080; font-weight: bold\">18457</span>,\n",
       "        <span style=\"color: #008000; text-decoration-color: #008000\">'Level_Units'</span>: <span style=\"color: #008000; text-decoration-color: #008000\">'dBm'</span>,\n",
       "        <span style=\"color: #008000; text-decoration-color: #008000\">'Num_Traces'</span>: <span style=\"color: #008080; text-decoration-color: #008080; font-weight: bold\">477</span>,\n",
       "        <span style=\"color: #008000; text-decoration-color: #008000\">'Vector_Length'</span>: <span style=\"color: #008080; text-decoration-color: #008080; font-weight: bold\">3584</span>\n",
       "    <span style=\"font-weight: bold\">}</span>,\n",
       "    <span style=\"font-weight: bold\">(</span><span style=\"color: #008080; text-decoration-color: #008080; font-weight: bold\">67</span>, <span style=\"color: #008080; text-decoration-color: #008080; font-weight: bold\">11</span><span style=\"font-weight: bold\">)</span>: <span style=\"font-weight: bold\">{</span>\n",
       "        <span style=\"color: #008000; text-decoration-color: #008000\">'Initial_Time'</span>: <span style=\"color: #800080; text-decoration-color: #800080; font-weight: bold\">numpy.datetime64</span><span style=\"font-weight: bold\">(</span><span style=\"color: #008000; text-decoration-color: #008000\">'2021-02-08T20:23:11.979000000'</span><span style=\"font-weight: bold\">)</span>,\n",
       "        <span style=\"color: #008000; text-decoration-color: #008000\">'Sample_Duration'</span>: <span style=\"color: #008080; text-decoration-color: #008080; font-weight: bold\">8076.0</span>,\n",
       "        <span style=\"color: #008000; text-decoration-color: #008000\">'Description'</span>: <span style=\"color: #008000; text-decoration-color: #008000\">'ClearWrite. Mean.'</span>,\n",
       "        <span style=\"color: #008000; text-decoration-color: #008000\">'Start_Frequency'</span>: <span style=\"color: #008080; text-decoration-color: #008080; font-weight: bold\">105</span>,\n",
       "        <span style=\"color: #008000; text-decoration-color: #008000\">'Stop_Frequency'</span>: <span style=\"color: #008080; text-decoration-color: #008080; font-weight: bold\">140</span>,\n",
       "        <span style=\"color: #008000; text-decoration-color: #008000\">'Trace_Type'</span>: <span style=\"color: #008000; text-decoration-color: #008000\">'average'</span>,\n",
       "        <span style=\"color: #008000; text-decoration-color: #008000\">'RBW'</span>: <span style=\"color: #008080; text-decoration-color: #008080; font-weight: bold\">18457</span>,\n",
       "        <span style=\"color: #008000; text-decoration-color: #008000\">'Level_Units'</span>: <span style=\"color: #008000; text-decoration-color: #008000\">'dBm'</span>,\n",
       "        <span style=\"color: #008000; text-decoration-color: #008000\">'Num_Traces'</span>: <span style=\"color: #008080; text-decoration-color: #008080; font-weight: bold\">477</span>,\n",
       "        <span style=\"color: #008000; text-decoration-color: #008000\">'Vector_Length'</span>: <span style=\"color: #008080; text-decoration-color: #008080; font-weight: bold\">3584</span>\n",
       "    <span style=\"font-weight: bold\">}</span>,\n",
       "    <span style=\"font-weight: bold\">(</span><span style=\"color: #008080; text-decoration-color: #008080; font-weight: bold\">67</span>, <span style=\"color: #008080; text-decoration-color: #008080; font-weight: bold\">12</span><span style=\"font-weight: bold\">)</span>: <span style=\"font-weight: bold\">{</span>\n",
       "        <span style=\"color: #008000; text-decoration-color: #008000\">'Initial_Time'</span>: <span style=\"color: #800080; text-decoration-color: #800080; font-weight: bold\">numpy.datetime64</span><span style=\"font-weight: bold\">(</span><span style=\"color: #008000; text-decoration-color: #008000\">'2021-02-08T20:23:20.801000000'</span><span style=\"font-weight: bold\">)</span>,\n",
       "        <span style=\"color: #008000; text-decoration-color: #008000\">'Sample_Duration'</span>: <span style=\"color: #008080; text-decoration-color: #008080; font-weight: bold\">8081.0</span>,\n",
       "        <span style=\"color: #008000; text-decoration-color: #008000\">'Description'</span>: <span style=\"color: #008000; text-decoration-color: #008000\">'MaxHold. Peak. Count = 10.'</span>,\n",
       "        <span style=\"color: #008000; text-decoration-color: #008000\">'Start_Frequency'</span>: <span style=\"color: #008080; text-decoration-color: #008080; font-weight: bold\">105</span>,\n",
       "        <span style=\"color: #008000; text-decoration-color: #008000\">'Stop_Frequency'</span>: <span style=\"color: #008080; text-decoration-color: #008080; font-weight: bold\">140</span>,\n",
       "        <span style=\"color: #008000; text-decoration-color: #008000\">'Trace_Type'</span>: <span style=\"color: #008000; text-decoration-color: #008000\">'peak'</span>,\n",
       "        <span style=\"color: #008000; text-decoration-color: #008000\">'RBW'</span>: <span style=\"color: #008080; text-decoration-color: #008080; font-weight: bold\">18457</span>,\n",
       "        <span style=\"color: #008000; text-decoration-color: #008000\">'Level_Units'</span>: <span style=\"color: #008000; text-decoration-color: #008000\">'dBm'</span>,\n",
       "        <span style=\"color: #008000; text-decoration-color: #008000\">'Num_Traces'</span>: <span style=\"color: #008080; text-decoration-color: #008080; font-weight: bold\">26</span>,\n",
       "        <span style=\"color: #008000; text-decoration-color: #008000\">'Vector_Length'</span>: <span style=\"color: #008080; text-decoration-color: #008080; font-weight: bold\">3584</span>\n",
       "    <span style=\"font-weight: bold\">}</span>,\n",
       "    <span style=\"font-weight: bold\">(</span><span style=\"color: #008080; text-decoration-color: #008080; font-weight: bold\">68</span>, <span style=\"color: #008080; text-decoration-color: #008080; font-weight: bold\">14</span><span style=\"font-weight: bold\">)</span>: <span style=\"font-weight: bold\">{</span>\n",
       "        <span style=\"color: #008000; text-decoration-color: #008000\">'Initial_Time'</span>: <span style=\"color: #800080; text-decoration-color: #800080; font-weight: bold\">numpy.datetime64</span><span style=\"font-weight: bold\">(</span><span style=\"color: #008000; text-decoration-color: #008000\">'2021-02-08T20:23:20.801000000'</span><span style=\"font-weight: bold\">)</span>,\n",
       "        <span style=\"color: #008000; text-decoration-color: #008000\">'Sample_Duration'</span>: <span style=\"color: #008080; text-decoration-color: #008080; font-weight: bold\">8081.0</span>,\n",
       "        <span style=\"color: #008000; text-decoration-color: #008000\">'Description'</span>: <span style=\"color: #008000; text-decoration-color: #008000\">'Average. Mean. Count = 10.'</span>,\n",
       "        <span style=\"color: #008000; text-decoration-color: #008000\">'Start_Frequency'</span>: <span style=\"color: #008080; text-decoration-color: #008080; font-weight: bold\">105</span>,\n",
       "        <span style=\"color: #008000; text-decoration-color: #008000\">'Stop_Frequency'</span>: <span style=\"color: #008080; text-decoration-color: #008080; font-weight: bold\">140</span>,\n",
       "        <span style=\"color: #008000; text-decoration-color: #008000\">'Trace_Type'</span>: <span style=\"color: #008000; text-decoration-color: #008000\">'average'</span>,\n",
       "        <span style=\"color: #008000; text-decoration-color: #008000\">'RBW'</span>: <span style=\"color: #008080; text-decoration-color: #008080; font-weight: bold\">18457</span>,\n",
       "        <span style=\"color: #008000; text-decoration-color: #008000\">'Level_Units'</span>: <span style=\"color: #008000; text-decoration-color: #008000\">'dBm'</span>,\n",
       "        <span style=\"color: #008000; text-decoration-color: #008000\">'Num_Traces'</span>: <span style=\"color: #008080; text-decoration-color: #008080; font-weight: bold\">49</span>,\n",
       "        <span style=\"color: #008000; text-decoration-color: #008000\">'Vector_Length'</span>: <span style=\"color: #008080; text-decoration-color: #008080; font-weight: bold\">3584</span>\n",
       "    <span style=\"font-weight: bold\">}</span>,\n",
       "    <span style=\"font-weight: bold\">(</span><span style=\"color: #008080; text-decoration-color: #008080; font-weight: bold\">67</span>, <span style=\"color: #008080; text-decoration-color: #008080; font-weight: bold\">13</span><span style=\"font-weight: bold\">)</span>: <span style=\"font-weight: bold\">{</span>\n",
       "        <span style=\"color: #008000; text-decoration-color: #008000\">'Initial_Time'</span>: <span style=\"color: #800080; text-decoration-color: #800080; font-weight: bold\">numpy.datetime64</span><span style=\"font-weight: bold\">(</span><span style=\"color: #008000; text-decoration-color: #008000\">'2021-02-08T20:23:30.763000000'</span><span style=\"font-weight: bold\">)</span>,\n",
       "        <span style=\"color: #008000; text-decoration-color: #008000\">'Sample_Duration'</span>: <span style=\"color: #008080; text-decoration-color: #008080; font-weight: bold\">8080.5</span>,\n",
       "        <span style=\"color: #008000; text-decoration-color: #008000\">'Description'</span>: <span style=\"color: #008000; text-decoration-color: #008000\">'Average. Mean. Count = 10.'</span>,\n",
       "        <span style=\"color: #008000; text-decoration-color: #008000\">'Start_Frequency'</span>: <span style=\"color: #008080; text-decoration-color: #008080; font-weight: bold\">105</span>,\n",
       "        <span style=\"color: #008000; text-decoration-color: #008000\">'Stop_Frequency'</span>: <span style=\"color: #008080; text-decoration-color: #008080; font-weight: bold\">140</span>,\n",
       "        <span style=\"color: #008000; text-decoration-color: #008000\">'Trace_Type'</span>: <span style=\"color: #008000; text-decoration-color: #008000\">'average'</span>,\n",
       "        <span style=\"color: #008000; text-decoration-color: #008000\">'RBW'</span>: <span style=\"color: #008080; text-decoration-color: #008080; font-weight: bold\">18457</span>,\n",
       "        <span style=\"color: #008000; text-decoration-color: #008000\">'Level_Units'</span>: <span style=\"color: #008000; text-decoration-color: #008000\">'dBm'</span>,\n",
       "        <span style=\"color: #008000; text-decoration-color: #008000\">'Num_Traces'</span>: <span style=\"color: #008080; text-decoration-color: #008080; font-weight: bold\">32</span>,\n",
       "        <span style=\"color: #008000; text-decoration-color: #008000\">'Vector_Length'</span>: <span style=\"color: #008080; text-decoration-color: #008080; font-weight: bold\">3584</span>\n",
       "    <span style=\"font-weight: bold\">}</span>\n",
       "<span style=\"font-weight: bold\">}</span>\n",
       "</pre>\n"
      ],
      "text/plain": [
       "Fluxos: \n",
       "\u001b[1m{\u001b[0m\n",
       "    \u001b[1m(\u001b[0m\u001b[1;36m67\u001b[0m, \u001b[1;36m20\u001b[0m\u001b[1m)\u001b[0m: \u001b[1m{\u001b[0m\n",
       "        \u001b[32m'Initial_Time'\u001b[0m: \u001b[1;35mnumpy.datetime64\u001b[0m\u001b[1m(\u001b[0m\u001b[32m'2021-02-08T20:23:10.500680000'\u001b[0m\u001b[1m)\u001b[0m,\n",
       "        \u001b[32m'Sample_Duration'\u001b[0m: \u001b[1;36m18073.0\u001b[0m,\n",
       "        \u001b[32m'Description'\u001b[0m: \u001b[32m'ClearWrite. Peak.'\u001b[0m,\n",
       "        \u001b[32m'Start_Frequency'\u001b[0m: \u001b[1;36m76\u001b[0m,\n",
       "        \u001b[32m'Stop_Frequency'\u001b[0m: \u001b[1;36m108\u001b[0m,\n",
       "        \u001b[32m'Trace_Type'\u001b[0m: \u001b[32m'peak'\u001b[0m,\n",
       "        \u001b[32m'RBW'\u001b[0m: \u001b[1;36m7381\u001b[0m,\n",
       "        \u001b[32m'Level_Units'\u001b[0m: \u001b[32m'dBm'\u001b[0m,\n",
       "        \u001b[32m'Num_Traces'\u001b[0m: \u001b[1;36m956\u001b[0m,\n",
       "        \u001b[32m'Vector_Length'\u001b[0m: \u001b[1;36m8192\u001b[0m\n",
       "    \u001b[1m}\u001b[0m,\n",
       "    \u001b[1m(\u001b[0m\u001b[1;36m67\u001b[0m, \u001b[1;36m30\u001b[0m\u001b[1m)\u001b[0m: \u001b[1m{\u001b[0m\n",
       "        \u001b[32m'Initial_Time'\u001b[0m: \u001b[1;35mnumpy.datetime64\u001b[0m\u001b[1m(\u001b[0m\u001b[32m'2021-02-08T20:23:10.522721000'\u001b[0m\u001b[1m)\u001b[0m,\n",
       "        \u001b[32m'Sample_Duration'\u001b[0m: \u001b[1;36m8552.0\u001b[0m,\n",
       "        \u001b[32m'Description'\u001b[0m: \u001b[32m'ClearWrite. Peak.'\u001b[0m,\n",
       "        \u001b[32m'Start_Frequency'\u001b[0m: \u001b[1;36m70\u001b[0m,\n",
       "        \u001b[32m'Stop_Frequency'\u001b[0m: \u001b[1;36m110\u001b[0m,\n",
       "        \u001b[32m'Trace_Type'\u001b[0m: \u001b[32m'peak'\u001b[0m,\n",
       "        \u001b[32m'RBW'\u001b[0m: \u001b[1;36m73828\u001b[0m,\n",
       "        \u001b[32m'Level_Units'\u001b[0m: \u001b[32m'dBm'\u001b[0m,\n",
       "        \u001b[32m'Num_Traces'\u001b[0m: \u001b[1;36m988\u001b[0m,\n",
       "        \u001b[32m'Vector_Length'\u001b[0m: \u001b[1;36m1024\u001b[0m\n",
       "    \u001b[1m}\u001b[0m,\n",
       "    \u001b[1m(\u001b[0m\u001b[1;36m67\u001b[0m, \u001b[1;36m10\u001b[0m\u001b[1m)\u001b[0m: \u001b[1m{\u001b[0m\n",
       "        \u001b[32m'Initial_Time'\u001b[0m: \u001b[1;35mnumpy.datetime64\u001b[0m\u001b[1m(\u001b[0m\u001b[32m'2021-02-08T20:23:11.979000000'\u001b[0m\u001b[1m)\u001b[0m,\n",
       "        \u001b[32m'Sample_Duration'\u001b[0m: \u001b[1;36m8076.0\u001b[0m,\n",
       "        \u001b[32m'Description'\u001b[0m: \u001b[32m'ClearWrite. Peak.'\u001b[0m,\n",
       "        \u001b[32m'Start_Frequency'\u001b[0m: \u001b[1;36m105\u001b[0m,\n",
       "        \u001b[32m'Stop_Frequency'\u001b[0m: \u001b[1;36m140\u001b[0m,\n",
       "        \u001b[32m'Trace_Type'\u001b[0m: \u001b[32m'peak'\u001b[0m,\n",
       "        \u001b[32m'RBW'\u001b[0m: \u001b[1;36m18457\u001b[0m,\n",
       "        \u001b[32m'Level_Units'\u001b[0m: \u001b[32m'dBm'\u001b[0m,\n",
       "        \u001b[32m'Num_Traces'\u001b[0m: \u001b[1;36m477\u001b[0m,\n",
       "        \u001b[32m'Vector_Length'\u001b[0m: \u001b[1;36m3584\u001b[0m\n",
       "    \u001b[1m}\u001b[0m,\n",
       "    \u001b[1m(\u001b[0m\u001b[1;36m67\u001b[0m, \u001b[1;36m11\u001b[0m\u001b[1m)\u001b[0m: \u001b[1m{\u001b[0m\n",
       "        \u001b[32m'Initial_Time'\u001b[0m: \u001b[1;35mnumpy.datetime64\u001b[0m\u001b[1m(\u001b[0m\u001b[32m'2021-02-08T20:23:11.979000000'\u001b[0m\u001b[1m)\u001b[0m,\n",
       "        \u001b[32m'Sample_Duration'\u001b[0m: \u001b[1;36m8076.0\u001b[0m,\n",
       "        \u001b[32m'Description'\u001b[0m: \u001b[32m'ClearWrite. Mean.'\u001b[0m,\n",
       "        \u001b[32m'Start_Frequency'\u001b[0m: \u001b[1;36m105\u001b[0m,\n",
       "        \u001b[32m'Stop_Frequency'\u001b[0m: \u001b[1;36m140\u001b[0m,\n",
       "        \u001b[32m'Trace_Type'\u001b[0m: \u001b[32m'average'\u001b[0m,\n",
       "        \u001b[32m'RBW'\u001b[0m: \u001b[1;36m18457\u001b[0m,\n",
       "        \u001b[32m'Level_Units'\u001b[0m: \u001b[32m'dBm'\u001b[0m,\n",
       "        \u001b[32m'Num_Traces'\u001b[0m: \u001b[1;36m477\u001b[0m,\n",
       "        \u001b[32m'Vector_Length'\u001b[0m: \u001b[1;36m3584\u001b[0m\n",
       "    \u001b[1m}\u001b[0m,\n",
       "    \u001b[1m(\u001b[0m\u001b[1;36m67\u001b[0m, \u001b[1;36m12\u001b[0m\u001b[1m)\u001b[0m: \u001b[1m{\u001b[0m\n",
       "        \u001b[32m'Initial_Time'\u001b[0m: \u001b[1;35mnumpy.datetime64\u001b[0m\u001b[1m(\u001b[0m\u001b[32m'2021-02-08T20:23:20.801000000'\u001b[0m\u001b[1m)\u001b[0m,\n",
       "        \u001b[32m'Sample_Duration'\u001b[0m: \u001b[1;36m8081.0\u001b[0m,\n",
       "        \u001b[32m'Description'\u001b[0m: \u001b[32m'MaxHold. Peak. Count = 10.'\u001b[0m,\n",
       "        \u001b[32m'Start_Frequency'\u001b[0m: \u001b[1;36m105\u001b[0m,\n",
       "        \u001b[32m'Stop_Frequency'\u001b[0m: \u001b[1;36m140\u001b[0m,\n",
       "        \u001b[32m'Trace_Type'\u001b[0m: \u001b[32m'peak'\u001b[0m,\n",
       "        \u001b[32m'RBW'\u001b[0m: \u001b[1;36m18457\u001b[0m,\n",
       "        \u001b[32m'Level_Units'\u001b[0m: \u001b[32m'dBm'\u001b[0m,\n",
       "        \u001b[32m'Num_Traces'\u001b[0m: \u001b[1;36m26\u001b[0m,\n",
       "        \u001b[32m'Vector_Length'\u001b[0m: \u001b[1;36m3584\u001b[0m\n",
       "    \u001b[1m}\u001b[0m,\n",
       "    \u001b[1m(\u001b[0m\u001b[1;36m68\u001b[0m, \u001b[1;36m14\u001b[0m\u001b[1m)\u001b[0m: \u001b[1m{\u001b[0m\n",
       "        \u001b[32m'Initial_Time'\u001b[0m: \u001b[1;35mnumpy.datetime64\u001b[0m\u001b[1m(\u001b[0m\u001b[32m'2021-02-08T20:23:20.801000000'\u001b[0m\u001b[1m)\u001b[0m,\n",
       "        \u001b[32m'Sample_Duration'\u001b[0m: \u001b[1;36m8081.0\u001b[0m,\n",
       "        \u001b[32m'Description'\u001b[0m: \u001b[32m'Average. Mean. Count = 10.'\u001b[0m,\n",
       "        \u001b[32m'Start_Frequency'\u001b[0m: \u001b[1;36m105\u001b[0m,\n",
       "        \u001b[32m'Stop_Frequency'\u001b[0m: \u001b[1;36m140\u001b[0m,\n",
       "        \u001b[32m'Trace_Type'\u001b[0m: \u001b[32m'average'\u001b[0m,\n",
       "        \u001b[32m'RBW'\u001b[0m: \u001b[1;36m18457\u001b[0m,\n",
       "        \u001b[32m'Level_Units'\u001b[0m: \u001b[32m'dBm'\u001b[0m,\n",
       "        \u001b[32m'Num_Traces'\u001b[0m: \u001b[1;36m49\u001b[0m,\n",
       "        \u001b[32m'Vector_Length'\u001b[0m: \u001b[1;36m3584\u001b[0m\n",
       "    \u001b[1m}\u001b[0m,\n",
       "    \u001b[1m(\u001b[0m\u001b[1;36m67\u001b[0m, \u001b[1;36m13\u001b[0m\u001b[1m)\u001b[0m: \u001b[1m{\u001b[0m\n",
       "        \u001b[32m'Initial_Time'\u001b[0m: \u001b[1;35mnumpy.datetime64\u001b[0m\u001b[1m(\u001b[0m\u001b[32m'2021-02-08T20:23:30.763000000'\u001b[0m\u001b[1m)\u001b[0m,\n",
       "        \u001b[32m'Sample_Duration'\u001b[0m: \u001b[1;36m8080.5\u001b[0m,\n",
       "        \u001b[32m'Description'\u001b[0m: \u001b[32m'Average. Mean. Count = 10.'\u001b[0m,\n",
       "        \u001b[32m'Start_Frequency'\u001b[0m: \u001b[1;36m105\u001b[0m,\n",
       "        \u001b[32m'Stop_Frequency'\u001b[0m: \u001b[1;36m140\u001b[0m,\n",
       "        \u001b[32m'Trace_Type'\u001b[0m: \u001b[32m'average'\u001b[0m,\n",
       "        \u001b[32m'RBW'\u001b[0m: \u001b[1;36m18457\u001b[0m,\n",
       "        \u001b[32m'Level_Units'\u001b[0m: \u001b[32m'dBm'\u001b[0m,\n",
       "        \u001b[32m'Num_Traces'\u001b[0m: \u001b[1;36m32\u001b[0m,\n",
       "        \u001b[32m'Vector_Length'\u001b[0m: \u001b[1;36m3584\u001b[0m\n",
       "    \u001b[1m}\u001b[0m\n",
       "\u001b[1m}\u001b[0m\n"
      ]
     },
     "metadata": {},
     "output_type": "display_data"
    },
    {
     "data": {
      "text/html": [
       "<pre style=\"white-space:pre;overflow-x:auto;line-height:normal;font-family:Menlo,'DejaVu Sans Mono',consolas,'Courier New',monospace\">Metadados do Arquivo rfeye002092_210208_T203131_CRFSBINv.<span style=\"color: #008080; text-decoration-color: #008080; font-weight: bold\">2.</span>bin\n",
       "</pre>\n"
      ],
      "text/plain": [
       "Metadados do Arquivo rfeye002092_210208_T203131_CRFSBINv.\u001b[1;36m2.\u001b[0mbin\n"
      ]
     },
     "metadata": {},
     "output_type": "display_data"
    },
    {
     "data": {
      "text/html": [
       "<pre style=\"white-space:pre;overflow-x:auto;line-height:normal;font-family:Menlo,'DejaVu Sans Mono',consolas,'Courier New',monospace\"><span style=\"font-weight: bold\">{</span>\n",
       "    <span style=\"color: #008000; text-decoration-color: #008000\">'File_Name'</span>: <span style=\"color: #008000; text-decoration-color: #008000\">'rfeye002092_210208_T203131_CRFSBINv.2.bin'</span>,\n",
       "    <span style=\"color: #008000; text-decoration-color: #008000\">'File_Version'</span>: <span style=\"color: #008080; text-decoration-color: #008080; font-weight: bold\">21</span>,\n",
       "    <span style=\"color: #008000; text-decoration-color: #008000\">'File_Type'</span>: <span style=\"color: #008000; text-decoration-color: #008000\">'RFEye Logger Trace'</span>,\n",
       "    <span style=\"color: #008000; text-decoration-color: #008000\">'Device'</span>: <span style=\"color: #008000; text-decoration-color: #008000\">'Rfeye Node'</span>\n",
       "<span style=\"font-weight: bold\">}</span>\n",
       "</pre>\n"
      ],
      "text/plain": [
       "\u001b[1m{\u001b[0m\n",
       "    \u001b[32m'File_Name'\u001b[0m: \u001b[32m'rfeye002092_210208_T203131_CRFSBINv.2.bin'\u001b[0m,\n",
       "    \u001b[32m'File_Version'\u001b[0m: \u001b[1;36m21\u001b[0m,\n",
       "    \u001b[32m'File_Type'\u001b[0m: \u001b[32m'RFEye Logger Trace'\u001b[0m,\n",
       "    \u001b[32m'Device'\u001b[0m: \u001b[32m'Rfeye Node'\u001b[0m\n",
       "\u001b[1m}\u001b[0m\n"
      ]
     },
     "metadata": {},
     "output_type": "display_data"
    },
    {
     "data": {
      "text/html": [
       "<pre style=\"white-space:pre;overflow-x:auto;line-height:normal;font-family:Menlo,'DejaVu Sans Mono',consolas,'Courier New',monospace\">Fluxos: \n",
       "<span style=\"font-weight: bold\">{}</span>\n",
       "</pre>\n"
      ],
      "text/plain": [
       "Fluxos: \n",
       "\u001b[1m{\u001b[0m\u001b[1m}\u001b[0m\n"
      ]
     },
     "metadata": {},
     "output_type": "display_data"
    },
    {
     "data": {
      "text/html": [
       "<pre style=\"white-space:pre;overflow-x:auto;line-height:normal;font-family:Menlo,'DejaVu Sans Mono',consolas,'Courier New',monospace\">Metadados do Arquivo rfeye002292_210208_T202215_CRFSBINv.<span style=\"color: #008080; text-decoration-color: #008080; font-weight: bold\">4.</span>bin\n",
       "</pre>\n"
      ],
      "text/plain": [
       "Metadados do Arquivo rfeye002292_210208_T202215_CRFSBINv.\u001b[1;36m4.\u001b[0mbin\n"
      ]
     },
     "metadata": {},
     "output_type": "display_data"
    },
    {
     "data": {
      "text/html": [
       "<pre style=\"white-space:pre;overflow-x:auto;line-height:normal;font-family:Menlo,'DejaVu Sans Mono',consolas,'Courier New',monospace\"><span style=\"font-weight: bold\">{</span>\n",
       "    <span style=\"color: #008000; text-decoration-color: #008000\">'File_Name'</span>: <span style=\"color: #008000; text-decoration-color: #008000\">'rfeye002292_210208_T202215_CRFSBINv.4.bin'</span>,\n",
       "    <span style=\"color: #008000; text-decoration-color: #008000\">'File_Version'</span>: <span style=\"color: #008080; text-decoration-color: #008080; font-weight: bold\">22</span>,\n",
       "    <span style=\"color: #008000; text-decoration-color: #008000\">'File_Type'</span>: <span style=\"color: #008000; text-decoration-color: #008000\">'RFEye Logger Trace'</span>,\n",
       "    <span style=\"color: #008000; text-decoration-color: #008000\">'Device'</span>: <span style=\"color: #008000; text-decoration-color: #008000\">'Rfeye Node'</span>,\n",
       "    <span style=\"color: #008000; text-decoration-color: #008000\">'Equipment_ID'</span>: <span style=\"color: #008000; text-decoration-color: #008000\">'rfeye002292'</span>,\n",
       "    <span style=\"color: #008000; text-decoration-color: #008000\">'Script_Version'</span>: <span style=\"color: #008000; text-decoration-color: #008000\">'Script_CRFSBINv4'</span>,\n",
       "    <span style=\"color: #008000; text-decoration-color: #008000\">'Latitude'</span>: <span style=\"color: #008080; text-decoration-color: #008080; font-weight: bold\">-12.971631</span>,\n",
       "    <span style=\"color: #008000; text-decoration-color: #008000\">'Longitude'</span>: <span style=\"color: #008080; text-decoration-color: #008080; font-weight: bold\">-38.48149</span>,\n",
       "    <span style=\"color: #008000; text-decoration-color: #008000\">'Altitude'</span>: <span style=\"color: #008080; text-decoration-color: #008080; font-weight: bold\">151.65</span>,\n",
       "    <span style=\"color: #008000; text-decoration-color: #008000\">'Count_GPS'</span>: <span style=\"color: #008080; text-decoration-color: #008080; font-weight: bold\">8</span>,\n",
       "    <span style=\"color: #008000; text-decoration-color: #008000\">'Sum_Latitude'</span>: <span style=\"color: #008080; text-decoration-color: #008080; font-weight: bold\">-103.773056</span>,\n",
       "    <span style=\"color: #008000; text-decoration-color: #008000\">'Sum_Longitude'</span>: <span style=\"color: #008080; text-decoration-color: #008080; font-weight: bold\">-307.85193</span>\n",
       "<span style=\"font-weight: bold\">}</span>\n",
       "</pre>\n"
      ],
      "text/plain": [
       "\u001b[1m{\u001b[0m\n",
       "    \u001b[32m'File_Name'\u001b[0m: \u001b[32m'rfeye002292_210208_T202215_CRFSBINv.4.bin'\u001b[0m,\n",
       "    \u001b[32m'File_Version'\u001b[0m: \u001b[1;36m22\u001b[0m,\n",
       "    \u001b[32m'File_Type'\u001b[0m: \u001b[32m'RFEye Logger Trace'\u001b[0m,\n",
       "    \u001b[32m'Device'\u001b[0m: \u001b[32m'Rfeye Node'\u001b[0m,\n",
       "    \u001b[32m'Equipment_ID'\u001b[0m: \u001b[32m'rfeye002292'\u001b[0m,\n",
       "    \u001b[32m'Script_Version'\u001b[0m: \u001b[32m'Script_CRFSBINv4'\u001b[0m,\n",
       "    \u001b[32m'Latitude'\u001b[0m: \u001b[1;36m-12.971631\u001b[0m,\n",
       "    \u001b[32m'Longitude'\u001b[0m: \u001b[1;36m-38.48149\u001b[0m,\n",
       "    \u001b[32m'Altitude'\u001b[0m: \u001b[1;36m151.65\u001b[0m,\n",
       "    \u001b[32m'Count_GPS'\u001b[0m: \u001b[1;36m8\u001b[0m,\n",
       "    \u001b[32m'Sum_Latitude'\u001b[0m: \u001b[1;36m-103.773056\u001b[0m,\n",
       "    \u001b[32m'Sum_Longitude'\u001b[0m: \u001b[1;36m-307.85193\u001b[0m\n",
       "\u001b[1m}\u001b[0m\n"
      ]
     },
     "metadata": {},
     "output_type": "display_data"
    },
    {
     "data": {
      "text/html": [
       "<pre style=\"white-space:pre;overflow-x:auto;line-height:normal;font-family:Menlo,'DejaVu Sans Mono',consolas,'Courier New',monospace\">Fluxos: \n",
       "<span style=\"font-weight: bold\">{</span>\n",
       "    <span style=\"font-weight: bold\">(</span><span style=\"color: #008080; text-decoration-color: #008080; font-weight: bold\">63</span>, <span style=\"color: #008080; text-decoration-color: #008080; font-weight: bold\">20</span><span style=\"font-weight: bold\">)</span>: <span style=\"font-weight: bold\">{</span>\n",
       "        <span style=\"color: #008000; text-decoration-color: #008000\">'Initial_Time'</span>: <span style=\"color: #800080; text-decoration-color: #800080; font-weight: bold\">numpy.datetime64</span><span style=\"font-weight: bold\">(</span><span style=\"color: #008000; text-decoration-color: #008000\">'2021-02-08T20:22:15.500658000'</span><span style=\"font-weight: bold\">)</span>,\n",
       "        <span style=\"color: #008000; text-decoration-color: #008000\">'Sample_Duration'</span>: <span style=\"color: #008080; text-decoration-color: #008080; font-weight: bold\">18140.0</span>,\n",
       "        <span style=\"color: #008000; text-decoration-color: #008000\">'Description'</span>: <span style=\"color: #008000; text-decoration-color: #008000\">'Peak'</span>,\n",
       "        <span style=\"color: #008000; text-decoration-color: #008000\">'Start_Frequency'</span>: <span style=\"color: #008080; text-decoration-color: #008080; font-weight: bold\">76</span>,\n",
       "        <span style=\"color: #008000; text-decoration-color: #008000\">'Stop_Frequency'</span>: <span style=\"color: #008080; text-decoration-color: #008080; font-weight: bold\">108</span>,\n",
       "        <span style=\"color: #008000; text-decoration-color: #008000\">'Trace_Type'</span>: <span style=\"color: #008000; text-decoration-color: #008000\">'peak'</span>,\n",
       "        <span style=\"color: #008000; text-decoration-color: #008000\">'RBW'</span>: <span style=\"color: #008080; text-decoration-color: #008080; font-weight: bold\">3</span>,\n",
       "        <span style=\"color: #008000; text-decoration-color: #008000\">'Level_Units'</span>: <span style=\"color: #008000; text-decoration-color: #008000\">'dBm'</span>,\n",
       "        <span style=\"color: #008000; text-decoration-color: #008000\">'Num_Traces'</span>: <span style=\"color: #008080; text-decoration-color: #008080; font-weight: bold\">1047</span>,\n",
       "        <span style=\"color: #008000; text-decoration-color: #008000\">'Vector_Length'</span>: <span style=\"color: #008080; text-decoration-color: #008080; font-weight: bold\">8192</span>\n",
       "    <span style=\"font-weight: bold\">}</span>,\n",
       "    <span style=\"font-weight: bold\">(</span><span style=\"color: #008080; text-decoration-color: #008080; font-weight: bold\">63</span>, <span style=\"color: #008080; text-decoration-color: #008080; font-weight: bold\">30</span><span style=\"font-weight: bold\">)</span>: <span style=\"font-weight: bold\">{</span>\n",
       "        <span style=\"color: #008000; text-decoration-color: #008000\">'Initial_Time'</span>: <span style=\"color: #800080; text-decoration-color: #800080; font-weight: bold\">numpy.datetime64</span><span style=\"font-weight: bold\">(</span><span style=\"color: #008000; text-decoration-color: #008000\">'2021-02-08T20:22:15.523638000'</span><span style=\"font-weight: bold\">)</span>,\n",
       "        <span style=\"color: #008000; text-decoration-color: #008000\">'Sample_Duration'</span>: <span style=\"color: #008080; text-decoration-color: #008080; font-weight: bold\">8549.0</span>,\n",
       "        <span style=\"color: #008000; text-decoration-color: #008000\">'Description'</span>: <span style=\"color: #008000; text-decoration-color: #008000\">'Peak'</span>,\n",
       "        <span style=\"color: #008000; text-decoration-color: #008000\">'Start_Frequency'</span>: <span style=\"color: #008080; text-decoration-color: #008080; font-weight: bold\">70</span>,\n",
       "        <span style=\"color: #008000; text-decoration-color: #008000\">'Stop_Frequency'</span>: <span style=\"color: #008080; text-decoration-color: #008080; font-weight: bold\">110</span>,\n",
       "        <span style=\"color: #008000; text-decoration-color: #008000\">'Trace_Type'</span>: <span style=\"color: #008000; text-decoration-color: #008000\">'peak'</span>,\n",
       "        <span style=\"color: #008000; text-decoration-color: #008000\">'RBW'</span>: <span style=\"color: #008080; text-decoration-color: #008080; font-weight: bold\">39</span>,\n",
       "        <span style=\"color: #008000; text-decoration-color: #008000\">'Level_Units'</span>: <span style=\"color: #008000; text-decoration-color: #008000\">'dBm'</span>,\n",
       "        <span style=\"color: #008000; text-decoration-color: #008000\">'Num_Traces'</span>: <span style=\"color: #008080; text-decoration-color: #008080; font-weight: bold\">1048</span>,\n",
       "        <span style=\"color: #008000; text-decoration-color: #008000\">'Vector_Length'</span>: <span style=\"color: #008080; text-decoration-color: #008080; font-weight: bold\">1024</span>\n",
       "    <span style=\"font-weight: bold\">}</span>,\n",
       "    <span style=\"font-weight: bold\">(</span><span style=\"color: #008080; text-decoration-color: #008080; font-weight: bold\">63</span>, <span style=\"color: #008080; text-decoration-color: #008080; font-weight: bold\">10</span><span style=\"font-weight: bold\">)</span>: <span style=\"font-weight: bold\">{</span>\n",
       "        <span style=\"color: #008000; text-decoration-color: #008000\">'Initial_Time'</span>: <span style=\"color: #800080; text-decoration-color: #800080; font-weight: bold\">numpy.datetime64</span><span style=\"font-weight: bold\">(</span><span style=\"color: #008000; text-decoration-color: #008000\">'2021-02-08T20:22:16.457000000'</span><span style=\"font-weight: bold\">)</span>,\n",
       "        <span style=\"color: #008000; text-decoration-color: #008000\">'Sample_Duration'</span>: <span style=\"color: #008080; text-decoration-color: #008080; font-weight: bold\">8083.0</span>,\n",
       "        <span style=\"color: #008000; text-decoration-color: #008000\">'Description'</span>: <span style=\"color: #008000; text-decoration-color: #008000\">'Peak'</span>,\n",
       "        <span style=\"color: #008000; text-decoration-color: #008000\">'Start_Frequency'</span>: <span style=\"color: #008080; text-decoration-color: #008080; font-weight: bold\">105</span>,\n",
       "        <span style=\"color: #008000; text-decoration-color: #008000\">'Stop_Frequency'</span>: <span style=\"color: #008080; text-decoration-color: #008080; font-weight: bold\">140</span>,\n",
       "        <span style=\"color: #008000; text-decoration-color: #008000\">'Trace_Type'</span>: <span style=\"color: #008000; text-decoration-color: #008000\">'peak'</span>,\n",
       "        <span style=\"color: #008000; text-decoration-color: #008000\">'RBW'</span>: <span style=\"color: #008080; text-decoration-color: #008080; font-weight: bold\">9</span>,\n",
       "        <span style=\"color: #008000; text-decoration-color: #008000\">'Level_Units'</span>: <span style=\"color: #008000; text-decoration-color: #008000\">'dBm'</span>,\n",
       "        <span style=\"color: #008000; text-decoration-color: #008000\">'Num_Traces'</span>: <span style=\"color: #008080; text-decoration-color: #008080; font-weight: bold\">524</span>,\n",
       "        <span style=\"color: #008000; text-decoration-color: #008000\">'Vector_Length'</span>: <span style=\"color: #008080; text-decoration-color: #008080; font-weight: bold\">3584</span>\n",
       "    <span style=\"font-weight: bold\">}</span>,\n",
       "    <span style=\"font-weight: bold\">(</span><span style=\"color: #008080; text-decoration-color: #008080; font-weight: bold\">63</span>, <span style=\"color: #008080; text-decoration-color: #008080; font-weight: bold\">11</span><span style=\"font-weight: bold\">)</span>: <span style=\"font-weight: bold\">{</span>\n",
       "        <span style=\"color: #008000; text-decoration-color: #008000\">'Initial_Time'</span>: <span style=\"color: #800080; text-decoration-color: #800080; font-weight: bold\">numpy.datetime64</span><span style=\"font-weight: bold\">(</span><span style=\"color: #008000; text-decoration-color: #008000\">'2021-02-08T20:22:16.457000000'</span><span style=\"font-weight: bold\">)</span>,\n",
       "        <span style=\"color: #008000; text-decoration-color: #008000\">'Sample_Duration'</span>: <span style=\"color: #008080; text-decoration-color: #008080; font-weight: bold\">8083.0</span>,\n",
       "        <span style=\"color: #008000; text-decoration-color: #008000\">'Description'</span>: <span style=\"color: #008000; text-decoration-color: #008000\">'Peak'</span>,\n",
       "        <span style=\"color: #008000; text-decoration-color: #008000\">'Start_Frequency'</span>: <span style=\"color: #008080; text-decoration-color: #008080; font-weight: bold\">105</span>,\n",
       "        <span style=\"color: #008000; text-decoration-color: #008000\">'Stop_Frequency'</span>: <span style=\"color: #008080; text-decoration-color: #008080; font-weight: bold\">140</span>,\n",
       "        <span style=\"color: #008000; text-decoration-color: #008000\">'Trace_Type'</span>: <span style=\"color: #008000; text-decoration-color: #008000\">'average'</span>,\n",
       "        <span style=\"color: #008000; text-decoration-color: #008000\">'RBW'</span>: <span style=\"color: #008080; text-decoration-color: #008080; font-weight: bold\">9</span>,\n",
       "        <span style=\"color: #008000; text-decoration-color: #008000\">'Level_Units'</span>: <span style=\"color: #008000; text-decoration-color: #008000\">'dBm'</span>,\n",
       "        <span style=\"color: #008000; text-decoration-color: #008000\">'Num_Traces'</span>: <span style=\"color: #008080; text-decoration-color: #008080; font-weight: bold\">524</span>,\n",
       "        <span style=\"color: #008000; text-decoration-color: #008000\">'Vector_Length'</span>: <span style=\"color: #008080; text-decoration-color: #008080; font-weight: bold\">3584</span>\n",
       "    <span style=\"font-weight: bold\">}</span>,\n",
       "    <span style=\"font-weight: bold\">(</span><span style=\"color: #008080; text-decoration-color: #008080; font-weight: bold\">63</span>, <span style=\"color: #008080; text-decoration-color: #008080; font-weight: bold\">12</span><span style=\"font-weight: bold\">)</span>: <span style=\"font-weight: bold\">{</span>\n",
       "        <span style=\"color: #008000; text-decoration-color: #008000\">'Initial_Time'</span>: <span style=\"color: #800080; text-decoration-color: #800080; font-weight: bold\">numpy.datetime64</span><span style=\"font-weight: bold\">(</span><span style=\"color: #008000; text-decoration-color: #008000\">'2021-02-08T20:22:25.618000000'</span><span style=\"font-weight: bold\">)</span>,\n",
       "        <span style=\"color: #008000; text-decoration-color: #008000\">'Sample_Duration'</span>: <span style=\"color: #008080; text-decoration-color: #008080; font-weight: bold\">8076.0</span>,\n",
       "        <span style=\"color: #008000; text-decoration-color: #008000\">'Description'</span>: <span style=\"color: #008000; text-decoration-color: #008000\">'Peak'</span>,\n",
       "        <span style=\"color: #008000; text-decoration-color: #008000\">'Start_Frequency'</span>: <span style=\"color: #008080; text-decoration-color: #008080; font-weight: bold\">105</span>,\n",
       "        <span style=\"color: #008000; text-decoration-color: #008000\">'Stop_Frequency'</span>: <span style=\"color: #008080; text-decoration-color: #008080; font-weight: bold\">140</span>,\n",
       "        <span style=\"color: #008000; text-decoration-color: #008000\">'Trace_Type'</span>: <span style=\"color: #008000; text-decoration-color: #008000\">'peak'</span>,\n",
       "        <span style=\"color: #008000; text-decoration-color: #008000\">'RBW'</span>: <span style=\"color: #008080; text-decoration-color: #008080; font-weight: bold\">9</span>,\n",
       "        <span style=\"color: #008000; text-decoration-color: #008000\">'Level_Units'</span>: <span style=\"color: #008000; text-decoration-color: #008000\">'dBm'</span>,\n",
       "        <span style=\"color: #008000; text-decoration-color: #008000\">'Num_Traces'</span>: <span style=\"color: #008080; text-decoration-color: #008080; font-weight: bold\">52</span>,\n",
       "        <span style=\"color: #008000; text-decoration-color: #008000\">'Vector_Length'</span>: <span style=\"color: #008080; text-decoration-color: #008080; font-weight: bold\">3584</span>\n",
       "    <span style=\"font-weight: bold\">}</span>,\n",
       "    <span style=\"font-weight: bold\">(</span><span style=\"color: #008080; text-decoration-color: #008080; font-weight: bold\">63</span>, <span style=\"color: #008080; text-decoration-color: #008080; font-weight: bold\">13</span><span style=\"font-weight: bold\">)</span>: <span style=\"font-weight: bold\">{</span>\n",
       "        <span style=\"color: #008000; text-decoration-color: #008000\">'Initial_Time'</span>: <span style=\"color: #800080; text-decoration-color: #800080; font-weight: bold\">numpy.datetime64</span><span style=\"font-weight: bold\">(</span><span style=\"color: #008000; text-decoration-color: #008000\">'2021-02-08T20:22:25.618000000'</span><span style=\"font-weight: bold\">)</span>,\n",
       "        <span style=\"color: #008000; text-decoration-color: #008000\">'Sample_Duration'</span>: <span style=\"color: #008080; text-decoration-color: #008080; font-weight: bold\">8076.0</span>,\n",
       "        <span style=\"color: #008000; text-decoration-color: #008000\">'Description'</span>: <span style=\"color: #008000; text-decoration-color: #008000\">'Peak'</span>,\n",
       "        <span style=\"color: #008000; text-decoration-color: #008000\">'Start_Frequency'</span>: <span style=\"color: #008080; text-decoration-color: #008080; font-weight: bold\">105</span>,\n",
       "        <span style=\"color: #008000; text-decoration-color: #008000\">'Stop_Frequency'</span>: <span style=\"color: #008080; text-decoration-color: #008080; font-weight: bold\">140</span>,\n",
       "        <span style=\"color: #008000; text-decoration-color: #008000\">'Trace_Type'</span>: <span style=\"color: #008000; text-decoration-color: #008000\">'average'</span>,\n",
       "        <span style=\"color: #008000; text-decoration-color: #008000\">'RBW'</span>: <span style=\"color: #008080; text-decoration-color: #008080; font-weight: bold\">9</span>,\n",
       "        <span style=\"color: #008000; text-decoration-color: #008000\">'Level_Units'</span>: <span style=\"color: #008000; text-decoration-color: #008000\">'dBm'</span>,\n",
       "        <span style=\"color: #008000; text-decoration-color: #008000\">'Num_Traces'</span>: <span style=\"color: #008080; text-decoration-color: #008080; font-weight: bold\">52</span>,\n",
       "        <span style=\"color: #008000; text-decoration-color: #008000\">'Vector_Length'</span>: <span style=\"color: #008080; text-decoration-color: #008080; font-weight: bold\">3584</span>\n",
       "    <span style=\"font-weight: bold\">}</span>,\n",
       "    <span style=\"font-weight: bold\">(</span><span style=\"color: #008080; text-decoration-color: #008080; font-weight: bold\">64</span>, <span style=\"color: #008080; text-decoration-color: #008080; font-weight: bold\">14</span><span style=\"font-weight: bold\">)</span>: <span style=\"font-weight: bold\">{</span>\n",
       "        <span style=\"color: #008000; text-decoration-color: #008000\">'Initial_Time'</span>: <span style=\"color: #800080; text-decoration-color: #800080; font-weight: bold\">numpy.datetime64</span><span style=\"font-weight: bold\">(</span><span style=\"color: #008000; text-decoration-color: #008000\">'2021-02-08T20:22:25.618000000'</span><span style=\"font-weight: bold\">)</span>,\n",
       "        <span style=\"color: #008000; text-decoration-color: #008000\">'Sample_Duration'</span>: <span style=\"color: #008080; text-decoration-color: #008080; font-weight: bold\">8076.0</span>,\n",
       "        <span style=\"color: #008000; text-decoration-color: #008000\">'Description'</span>: <span style=\"color: #008000; text-decoration-color: #008000\">'Peak'</span>,\n",
       "        <span style=\"color: #008000; text-decoration-color: #008000\">'Start_Frequency'</span>: <span style=\"color: #008080; text-decoration-color: #008080; font-weight: bold\">105</span>,\n",
       "        <span style=\"color: #008000; text-decoration-color: #008000\">'Stop_Frequency'</span>: <span style=\"color: #008080; text-decoration-color: #008080; font-weight: bold\">140</span>,\n",
       "        <span style=\"color: #008000; text-decoration-color: #008000\">'Trace_Type'</span>: <span style=\"color: #008000; text-decoration-color: #008000\">'average'</span>,\n",
       "        <span style=\"color: #008000; text-decoration-color: #008000\">'RBW'</span>: <span style=\"color: #008080; text-decoration-color: #008080; font-weight: bold\">48</span>,\n",
       "        <span style=\"color: #008000; text-decoration-color: #008000\">'Level_Units'</span>: <span style=\"color: #008000; text-decoration-color: #008000\">'dBm'</span>,\n",
       "        <span style=\"color: #008000; text-decoration-color: #008000\">'Num_Traces'</span>: <span style=\"color: #008080; text-decoration-color: #008080; font-weight: bold\">52</span>,\n",
       "        <span style=\"color: #008000; text-decoration-color: #008000\">'Vector_Length'</span>: <span style=\"color: #008080; text-decoration-color: #008080; font-weight: bold\">717</span>\n",
       "    <span style=\"font-weight: bold\">}</span>\n",
       "<span style=\"font-weight: bold\">}</span>\n",
       "</pre>\n"
      ],
      "text/plain": [
       "Fluxos: \n",
       "\u001b[1m{\u001b[0m\n",
       "    \u001b[1m(\u001b[0m\u001b[1;36m63\u001b[0m, \u001b[1;36m20\u001b[0m\u001b[1m)\u001b[0m: \u001b[1m{\u001b[0m\n",
       "        \u001b[32m'Initial_Time'\u001b[0m: \u001b[1;35mnumpy.datetime64\u001b[0m\u001b[1m(\u001b[0m\u001b[32m'2021-02-08T20:22:15.500658000'\u001b[0m\u001b[1m)\u001b[0m,\n",
       "        \u001b[32m'Sample_Duration'\u001b[0m: \u001b[1;36m18140.0\u001b[0m,\n",
       "        \u001b[32m'Description'\u001b[0m: \u001b[32m'Peak'\u001b[0m,\n",
       "        \u001b[32m'Start_Frequency'\u001b[0m: \u001b[1;36m76\u001b[0m,\n",
       "        \u001b[32m'Stop_Frequency'\u001b[0m: \u001b[1;36m108\u001b[0m,\n",
       "        \u001b[32m'Trace_Type'\u001b[0m: \u001b[32m'peak'\u001b[0m,\n",
       "        \u001b[32m'RBW'\u001b[0m: \u001b[1;36m3\u001b[0m,\n",
       "        \u001b[32m'Level_Units'\u001b[0m: \u001b[32m'dBm'\u001b[0m,\n",
       "        \u001b[32m'Num_Traces'\u001b[0m: \u001b[1;36m1047\u001b[0m,\n",
       "        \u001b[32m'Vector_Length'\u001b[0m: \u001b[1;36m8192\u001b[0m\n",
       "    \u001b[1m}\u001b[0m,\n",
       "    \u001b[1m(\u001b[0m\u001b[1;36m63\u001b[0m, \u001b[1;36m30\u001b[0m\u001b[1m)\u001b[0m: \u001b[1m{\u001b[0m\n",
       "        \u001b[32m'Initial_Time'\u001b[0m: \u001b[1;35mnumpy.datetime64\u001b[0m\u001b[1m(\u001b[0m\u001b[32m'2021-02-08T20:22:15.523638000'\u001b[0m\u001b[1m)\u001b[0m,\n",
       "        \u001b[32m'Sample_Duration'\u001b[0m: \u001b[1;36m8549.0\u001b[0m,\n",
       "        \u001b[32m'Description'\u001b[0m: \u001b[32m'Peak'\u001b[0m,\n",
       "        \u001b[32m'Start_Frequency'\u001b[0m: \u001b[1;36m70\u001b[0m,\n",
       "        \u001b[32m'Stop_Frequency'\u001b[0m: \u001b[1;36m110\u001b[0m,\n",
       "        \u001b[32m'Trace_Type'\u001b[0m: \u001b[32m'peak'\u001b[0m,\n",
       "        \u001b[32m'RBW'\u001b[0m: \u001b[1;36m39\u001b[0m,\n",
       "        \u001b[32m'Level_Units'\u001b[0m: \u001b[32m'dBm'\u001b[0m,\n",
       "        \u001b[32m'Num_Traces'\u001b[0m: \u001b[1;36m1048\u001b[0m,\n",
       "        \u001b[32m'Vector_Length'\u001b[0m: \u001b[1;36m1024\u001b[0m\n",
       "    \u001b[1m}\u001b[0m,\n",
       "    \u001b[1m(\u001b[0m\u001b[1;36m63\u001b[0m, \u001b[1;36m10\u001b[0m\u001b[1m)\u001b[0m: \u001b[1m{\u001b[0m\n",
       "        \u001b[32m'Initial_Time'\u001b[0m: \u001b[1;35mnumpy.datetime64\u001b[0m\u001b[1m(\u001b[0m\u001b[32m'2021-02-08T20:22:16.457000000'\u001b[0m\u001b[1m)\u001b[0m,\n",
       "        \u001b[32m'Sample_Duration'\u001b[0m: \u001b[1;36m8083.0\u001b[0m,\n",
       "        \u001b[32m'Description'\u001b[0m: \u001b[32m'Peak'\u001b[0m,\n",
       "        \u001b[32m'Start_Frequency'\u001b[0m: \u001b[1;36m105\u001b[0m,\n",
       "        \u001b[32m'Stop_Frequency'\u001b[0m: \u001b[1;36m140\u001b[0m,\n",
       "        \u001b[32m'Trace_Type'\u001b[0m: \u001b[32m'peak'\u001b[0m,\n",
       "        \u001b[32m'RBW'\u001b[0m: \u001b[1;36m9\u001b[0m,\n",
       "        \u001b[32m'Level_Units'\u001b[0m: \u001b[32m'dBm'\u001b[0m,\n",
       "        \u001b[32m'Num_Traces'\u001b[0m: \u001b[1;36m524\u001b[0m,\n",
       "        \u001b[32m'Vector_Length'\u001b[0m: \u001b[1;36m3584\u001b[0m\n",
       "    \u001b[1m}\u001b[0m,\n",
       "    \u001b[1m(\u001b[0m\u001b[1;36m63\u001b[0m, \u001b[1;36m11\u001b[0m\u001b[1m)\u001b[0m: \u001b[1m{\u001b[0m\n",
       "        \u001b[32m'Initial_Time'\u001b[0m: \u001b[1;35mnumpy.datetime64\u001b[0m\u001b[1m(\u001b[0m\u001b[32m'2021-02-08T20:22:16.457000000'\u001b[0m\u001b[1m)\u001b[0m,\n",
       "        \u001b[32m'Sample_Duration'\u001b[0m: \u001b[1;36m8083.0\u001b[0m,\n",
       "        \u001b[32m'Description'\u001b[0m: \u001b[32m'Peak'\u001b[0m,\n",
       "        \u001b[32m'Start_Frequency'\u001b[0m: \u001b[1;36m105\u001b[0m,\n",
       "        \u001b[32m'Stop_Frequency'\u001b[0m: \u001b[1;36m140\u001b[0m,\n",
       "        \u001b[32m'Trace_Type'\u001b[0m: \u001b[32m'average'\u001b[0m,\n",
       "        \u001b[32m'RBW'\u001b[0m: \u001b[1;36m9\u001b[0m,\n",
       "        \u001b[32m'Level_Units'\u001b[0m: \u001b[32m'dBm'\u001b[0m,\n",
       "        \u001b[32m'Num_Traces'\u001b[0m: \u001b[1;36m524\u001b[0m,\n",
       "        \u001b[32m'Vector_Length'\u001b[0m: \u001b[1;36m3584\u001b[0m\n",
       "    \u001b[1m}\u001b[0m,\n",
       "    \u001b[1m(\u001b[0m\u001b[1;36m63\u001b[0m, \u001b[1;36m12\u001b[0m\u001b[1m)\u001b[0m: \u001b[1m{\u001b[0m\n",
       "        \u001b[32m'Initial_Time'\u001b[0m: \u001b[1;35mnumpy.datetime64\u001b[0m\u001b[1m(\u001b[0m\u001b[32m'2021-02-08T20:22:25.618000000'\u001b[0m\u001b[1m)\u001b[0m,\n",
       "        \u001b[32m'Sample_Duration'\u001b[0m: \u001b[1;36m8076.0\u001b[0m,\n",
       "        \u001b[32m'Description'\u001b[0m: \u001b[32m'Peak'\u001b[0m,\n",
       "        \u001b[32m'Start_Frequency'\u001b[0m: \u001b[1;36m105\u001b[0m,\n",
       "        \u001b[32m'Stop_Frequency'\u001b[0m: \u001b[1;36m140\u001b[0m,\n",
       "        \u001b[32m'Trace_Type'\u001b[0m: \u001b[32m'peak'\u001b[0m,\n",
       "        \u001b[32m'RBW'\u001b[0m: \u001b[1;36m9\u001b[0m,\n",
       "        \u001b[32m'Level_Units'\u001b[0m: \u001b[32m'dBm'\u001b[0m,\n",
       "        \u001b[32m'Num_Traces'\u001b[0m: \u001b[1;36m52\u001b[0m,\n",
       "        \u001b[32m'Vector_Length'\u001b[0m: \u001b[1;36m3584\u001b[0m\n",
       "    \u001b[1m}\u001b[0m,\n",
       "    \u001b[1m(\u001b[0m\u001b[1;36m63\u001b[0m, \u001b[1;36m13\u001b[0m\u001b[1m)\u001b[0m: \u001b[1m{\u001b[0m\n",
       "        \u001b[32m'Initial_Time'\u001b[0m: \u001b[1;35mnumpy.datetime64\u001b[0m\u001b[1m(\u001b[0m\u001b[32m'2021-02-08T20:22:25.618000000'\u001b[0m\u001b[1m)\u001b[0m,\n",
       "        \u001b[32m'Sample_Duration'\u001b[0m: \u001b[1;36m8076.0\u001b[0m,\n",
       "        \u001b[32m'Description'\u001b[0m: \u001b[32m'Peak'\u001b[0m,\n",
       "        \u001b[32m'Start_Frequency'\u001b[0m: \u001b[1;36m105\u001b[0m,\n",
       "        \u001b[32m'Stop_Frequency'\u001b[0m: \u001b[1;36m140\u001b[0m,\n",
       "        \u001b[32m'Trace_Type'\u001b[0m: \u001b[32m'average'\u001b[0m,\n",
       "        \u001b[32m'RBW'\u001b[0m: \u001b[1;36m9\u001b[0m,\n",
       "        \u001b[32m'Level_Units'\u001b[0m: \u001b[32m'dBm'\u001b[0m,\n",
       "        \u001b[32m'Num_Traces'\u001b[0m: \u001b[1;36m52\u001b[0m,\n",
       "        \u001b[32m'Vector_Length'\u001b[0m: \u001b[1;36m3584\u001b[0m\n",
       "    \u001b[1m}\u001b[0m,\n",
       "    \u001b[1m(\u001b[0m\u001b[1;36m64\u001b[0m, \u001b[1;36m14\u001b[0m\u001b[1m)\u001b[0m: \u001b[1m{\u001b[0m\n",
       "        \u001b[32m'Initial_Time'\u001b[0m: \u001b[1;35mnumpy.datetime64\u001b[0m\u001b[1m(\u001b[0m\u001b[32m'2021-02-08T20:22:25.618000000'\u001b[0m\u001b[1m)\u001b[0m,\n",
       "        \u001b[32m'Sample_Duration'\u001b[0m: \u001b[1;36m8076.0\u001b[0m,\n",
       "        \u001b[32m'Description'\u001b[0m: \u001b[32m'Peak'\u001b[0m,\n",
       "        \u001b[32m'Start_Frequency'\u001b[0m: \u001b[1;36m105\u001b[0m,\n",
       "        \u001b[32m'Stop_Frequency'\u001b[0m: \u001b[1;36m140\u001b[0m,\n",
       "        \u001b[32m'Trace_Type'\u001b[0m: \u001b[32m'average'\u001b[0m,\n",
       "        \u001b[32m'RBW'\u001b[0m: \u001b[1;36m48\u001b[0m,\n",
       "        \u001b[32m'Level_Units'\u001b[0m: \u001b[32m'dBm'\u001b[0m,\n",
       "        \u001b[32m'Num_Traces'\u001b[0m: \u001b[1;36m52\u001b[0m,\n",
       "        \u001b[32m'Vector_Length'\u001b[0m: \u001b[1;36m717\u001b[0m\n",
       "    \u001b[1m}\u001b[0m\n",
       "\u001b[1m}\u001b[0m\n"
      ]
     },
     "metadata": {},
     "output_type": "display_data"
    },
    {
     "data": {
      "text/html": [
       "<pre style=\"white-space:pre;overflow-x:auto;line-height:normal;font-family:Menlo,'DejaVu Sans Mono',consolas,'Courier New',monospace\">Metadados do Arquivo rfeye002292_210208_T203238_CRFSBINv.<span style=\"color: #008080; text-decoration-color: #008080; font-weight: bold\">3.</span>bin\n",
       "</pre>\n"
      ],
      "text/plain": [
       "Metadados do Arquivo rfeye002292_210208_T203238_CRFSBINv.\u001b[1;36m3.\u001b[0mbin\n"
      ]
     },
     "metadata": {},
     "output_type": "display_data"
    },
    {
     "data": {
      "text/html": [
       "<pre style=\"white-space:pre;overflow-x:auto;line-height:normal;font-family:Menlo,'DejaVu Sans Mono',consolas,'Courier New',monospace\"><span style=\"font-weight: bold\">{</span>\n",
       "    <span style=\"color: #008000; text-decoration-color: #008000\">'File_Name'</span>: <span style=\"color: #008000; text-decoration-color: #008000\">'rfeye002292_210208_T203238_CRFSBINv.3.bin'</span>,\n",
       "    <span style=\"color: #008000; text-decoration-color: #008000\">'File_Version'</span>: <span style=\"color: #008080; text-decoration-color: #008080; font-weight: bold\">21</span>,\n",
       "    <span style=\"color: #008000; text-decoration-color: #008000\">'File_Type'</span>: <span style=\"color: #008000; text-decoration-color: #008000\">'RFEye Logger Trace'</span>,\n",
       "    <span style=\"color: #008000; text-decoration-color: #008000\">'Device'</span>: <span style=\"color: #008000; text-decoration-color: #008000\">'Rfeye Node'</span>,\n",
       "    <span style=\"color: #008000; text-decoration-color: #008000\">'Equipment_ID'</span>: <span style=\"color: #008000; text-decoration-color: #008000\">'rfeye002292'</span>,\n",
       "    <span style=\"color: #008000; text-decoration-color: #008000\">'Script_Version'</span>: <span style=\"color: #008000; text-decoration-color: #008000\">'Script_CRFSBINv3'</span>,\n",
       "    <span style=\"color: #008000; text-decoration-color: #008000\">'Latitude'</span>: <span style=\"color: #008080; text-decoration-color: #008080; font-weight: bold\">-12.971631</span>,\n",
       "    <span style=\"color: #008000; text-decoration-color: #008000\">'Longitude'</span>: <span style=\"color: #008080; text-decoration-color: #008080; font-weight: bold\">-38.481487</span>,\n",
       "    <span style=\"color: #008000; text-decoration-color: #008000\">'Altitude'</span>: <span style=\"color: #008080; text-decoration-color: #008080; font-weight: bold\">150.6</span>,\n",
       "    <span style=\"color: #008000; text-decoration-color: #008000\">'Count_GPS'</span>: <span style=\"color: #008080; text-decoration-color: #008080; font-weight: bold\">12</span>,\n",
       "    <span style=\"color: #008000; text-decoration-color: #008000\">'Sum_Latitude'</span>: <span style=\"color: #008080; text-decoration-color: #008080; font-weight: bold\">-155.65956</span>,\n",
       "    <span style=\"color: #008000; text-decoration-color: #008000\">'Sum_Longitude'</span>: <span style=\"color: #008080; text-decoration-color: #008080; font-weight: bold\">-461.7778</span>\n",
       "<span style=\"font-weight: bold\">}</span>\n",
       "</pre>\n"
      ],
      "text/plain": [
       "\u001b[1m{\u001b[0m\n",
       "    \u001b[32m'File_Name'\u001b[0m: \u001b[32m'rfeye002292_210208_T203238_CRFSBINv.3.bin'\u001b[0m,\n",
       "    \u001b[32m'File_Version'\u001b[0m: \u001b[1;36m21\u001b[0m,\n",
       "    \u001b[32m'File_Type'\u001b[0m: \u001b[32m'RFEye Logger Trace'\u001b[0m,\n",
       "    \u001b[32m'Device'\u001b[0m: \u001b[32m'Rfeye Node'\u001b[0m,\n",
       "    \u001b[32m'Equipment_ID'\u001b[0m: \u001b[32m'rfeye002292'\u001b[0m,\n",
       "    \u001b[32m'Script_Version'\u001b[0m: \u001b[32m'Script_CRFSBINv3'\u001b[0m,\n",
       "    \u001b[32m'Latitude'\u001b[0m: \u001b[1;36m-12.971631\u001b[0m,\n",
       "    \u001b[32m'Longitude'\u001b[0m: \u001b[1;36m-38.481487\u001b[0m,\n",
       "    \u001b[32m'Altitude'\u001b[0m: \u001b[1;36m150.6\u001b[0m,\n",
       "    \u001b[32m'Count_GPS'\u001b[0m: \u001b[1;36m12\u001b[0m,\n",
       "    \u001b[32m'Sum_Latitude'\u001b[0m: \u001b[1;36m-155.65956\u001b[0m,\n",
       "    \u001b[32m'Sum_Longitude'\u001b[0m: \u001b[1;36m-461.7778\u001b[0m\n",
       "\u001b[1m}\u001b[0m\n"
      ]
     },
     "metadata": {},
     "output_type": "display_data"
    },
    {
     "data": {
      "text/html": [
       "<pre style=\"white-space:pre;overflow-x:auto;line-height:normal;font-family:Menlo,'DejaVu Sans Mono',consolas,'Courier New',monospace\">Fluxos: \n",
       "<span style=\"font-weight: bold\">{}</span>\n",
       "</pre>\n"
      ],
      "text/plain": [
       "Fluxos: \n",
       "\u001b[1m{\u001b[0m\u001b[1m}\u001b[0m\n"
      ]
     },
     "metadata": {},
     "output_type": "display_data"
    }
   ],
   "source": [
    "for filename, dado in dados.items():\r\n",
    "    print(f'Metadados do Arquivo {filename}')\r\n",
    "    print({k:v for k,v in dado.items() if k != 'Fluxos'})\r\n",
    "    print(\"Fluxos: \", {k:{i:j for i,j in fluxo.items()  if i not in ('Timestamp', 'Frequency', 'Level_Data')} for k,fluxo in dado['Fluxos'].items()})"
   ]
  },
  {
   "cell_type": "code",
   "execution_count": null,
   "metadata": {},
   "outputs": [
    {
     "data": {
      "text/html": [
       "<pre style=\"white-space:pre;overflow-x:auto;line-height:normal;font-family:Menlo,'DejaVu Sans Mono',consolas,'Courier New',monospace\"><span style=\"color: #800000; text-decoration-color: #800000; font-weight: bold\">─────────────────────────── </span>Lista de Arquivos a serem processados<span style=\"color: #800000; text-decoration-color: #800000; font-weight: bold\"> ───────────────────────────</span>\n",
       "</pre>\n"
      ],
      "text/plain": [
       "\u001b[1;31m─────────────────────────── \u001b[0mLista de Arquivos a serem processados\u001b[1;31m ───────────────────────────\u001b[0m\n"
      ]
     },
     "metadata": {},
     "output_type": "display_data"
    },
    {
     "data": {
      "text/html": [
       "<pre style=\"white-space:pre;overflow-x:auto;line-height:normal;font-family:Menlo,'DejaVu Sans Mono',consolas,'Courier New',monospace\"><span style=\"color: #c0c0c0; text-decoration-color: #c0c0c0; font-weight: bold\">[</span><span style=\"color: #008000; text-decoration-color: #008000\">'rfeye002092_210208_T202310_CRFSBINv.5.bin'</span><span style=\"color: #c0c0c0; text-decoration-color: #c0c0c0; font-weight: bold\">]                                                </span>\n",
       "</pre>\n"
      ],
      "text/plain": [
       "\u001b[1;37m[\u001b[0m\u001b[32m'rfeye002092_210208_T202310_CRFSBINv.5.bin'\u001b[0m\u001b[1;37m]\u001b[0m\u001b[1;37m                                                \u001b[0m\n"
      ]
     },
     "metadata": {},
     "output_type": "display_data"
    },
    {
     "data": {
      "text/html": [
       "<pre style=\"white-space:pre;overflow-x:auto;line-height:normal;font-family:Menlo,'DejaVu Sans Mono',consolas,'Courier New',monospace\"><span style=\"color: #008000; text-decoration-color: #008000\">Processando Blocos de: </span><span style=\"color: #800000; text-decoration-color: #800000\">rfeye002092_210208_T202310_CRFSBINv.</span><span style=\"color: #800000; text-decoration-color: #800000; font-weight: bold\">5.</span><span style=\"color: #800000; text-decoration-color: #800000\">bin</span>\n",
       "</pre>\n"
      ],
      "text/plain": [
       "\u001b[32mProcessando Blocos de: \u001b[0m\u001b[31mrfeye002092_210208_T202310_CRFSBINv.\u001b[0m\u001b[1;31m5.\u001b[0m\u001b[31mbin\u001b[0m\n"
      ]
     },
     "metadata": {},
     "output_type": "display_data"
    }
   ],
   "source": [
    "dados = extract_bin_data(path / 'rfeye002092_210208_T202310_CRFSBINv.5.bin', spec_data=True)"
   ]
  },
  {
   "cell_type": "code",
   "execution_count": null,
   "metadata": {},
   "outputs": [
    {
     "data": {
      "text/html": [
       "<pre style=\"white-space:pre;overflow-x:auto;line-height:normal;font-family:Menlo,'DejaVu Sans Mono',consolas,'Courier New',monospace\"><span style=\"font-weight: bold\">[[</span><span style=\"color: #008080; text-decoration-color: #008080; font-weight: bold\">-117.5</span> <span style=\"color: #008080; text-decoration-color: #008080; font-weight: bold\">-113</span>.  <span style=\"color: #008080; text-decoration-color: #008080; font-weight: bold\">-111.5</span> <span style=\"color: #808000; text-decoration-color: #808000\">...</span> <span style=\"color: #008080; text-decoration-color: #008080; font-weight: bold\">-103.5</span> <span style=\"color: #008080; text-decoration-color: #008080; font-weight: bold\">-110</span>.   <span style=\"color: #008080; text-decoration-color: #008080; font-weight: bold\">-97.5</span><span style=\"font-weight: bold\">]</span>\n",
       " <span style=\"font-weight: bold\">[</span><span style=\"color: #008080; text-decoration-color: #008080; font-weight: bold\">-113.5</span> <span style=\"color: #008080; text-decoration-color: #008080; font-weight: bold\">-114.5</span> <span style=\"color: #008080; text-decoration-color: #008080; font-weight: bold\">-111</span>.  <span style=\"color: #808000; text-decoration-color: #808000\">...</span>  <span style=\"color: #008080; text-decoration-color: #008080; font-weight: bold\">-94.5</span>  <span style=\"color: #008080; text-decoration-color: #008080; font-weight: bold\">-98.5</span>  <span style=\"color: #008080; text-decoration-color: #008080; font-weight: bold\">-99.5</span><span style=\"font-weight: bold\">]</span>\n",
       " <span style=\"font-weight: bold\">[</span><span style=\"color: #008080; text-decoration-color: #008080; font-weight: bold\">-109.5</span> <span style=\"color: #008080; text-decoration-color: #008080; font-weight: bold\">-111.5</span> <span style=\"color: #008080; text-decoration-color: #008080; font-weight: bold\">-114</span>.  <span style=\"color: #808000; text-decoration-color: #808000\">...</span> <span style=\"color: #008080; text-decoration-color: #008080; font-weight: bold\">-100</span>.   <span style=\"color: #008080; text-decoration-color: #008080; font-weight: bold\">-99</span>.  <span style=\"color: #008080; text-decoration-color: #008080; font-weight: bold\">-100.5</span><span style=\"font-weight: bold\">]</span>\n",
       " <span style=\"color: #808000; text-decoration-color: #808000\">...</span>\n",
       " <span style=\"font-weight: bold\">[</span><span style=\"color: #008080; text-decoration-color: #008080; font-weight: bold\">-117</span>.  <span style=\"color: #008080; text-decoration-color: #008080; font-weight: bold\">-115</span>.  <span style=\"color: #008080; text-decoration-color: #008080; font-weight: bold\">-114</span>.  <span style=\"color: #808000; text-decoration-color: #808000\">...</span>  <span style=\"color: #008080; text-decoration-color: #008080; font-weight: bold\">-99.5</span>  <span style=\"color: #008080; text-decoration-color: #008080; font-weight: bold\">-96</span>.   <span style=\"color: #008080; text-decoration-color: #008080; font-weight: bold\">-99</span>. <span style=\"font-weight: bold\">]</span>\n",
       " <span style=\"font-weight: bold\">[</span><span style=\"color: #008080; text-decoration-color: #008080; font-weight: bold\">-117</span>.  <span style=\"color: #008080; text-decoration-color: #008080; font-weight: bold\">-118</span>.  <span style=\"color: #008080; text-decoration-color: #008080; font-weight: bold\">-117.5</span> <span style=\"color: #808000; text-decoration-color: #808000\">...</span>  <span style=\"color: #008080; text-decoration-color: #008080; font-weight: bold\">-99.5</span>  <span style=\"color: #008080; text-decoration-color: #008080; font-weight: bold\">-93.5</span>  <span style=\"color: #008080; text-decoration-color: #008080; font-weight: bold\">-93.5</span><span style=\"font-weight: bold\">]</span>\n",
       " <span style=\"font-weight: bold\">[</span><span style=\"color: #008080; text-decoration-color: #008080; font-weight: bold\">-114.5</span> <span style=\"color: #008080; text-decoration-color: #008080; font-weight: bold\">-110.5</span> <span style=\"color: #008080; text-decoration-color: #008080; font-weight: bold\">-110</span>.  <span style=\"color: #808000; text-decoration-color: #808000\">...</span>  <span style=\"color: #008080; text-decoration-color: #008080; font-weight: bold\">-96.5</span>  <span style=\"color: #008080; text-decoration-color: #008080; font-weight: bold\">-96</span>.  <span style=\"color: #008080; text-decoration-color: #008080; font-weight: bold\">-102</span>. <span style=\"font-weight: bold\">]]</span>\n",
       "</pre>\n"
      ],
      "text/plain": [
       "\u001b[1m[\u001b[0m\u001b[1m[\u001b[0m\u001b[1;36m-117.5\u001b[0m \u001b[1;36m-113\u001b[0m.  \u001b[1;36m-111.5\u001b[0m \u001b[33m...\u001b[0m \u001b[1;36m-103.5\u001b[0m \u001b[1;36m-110\u001b[0m.   \u001b[1;36m-97.5\u001b[0m\u001b[1m]\u001b[0m\n",
       " \u001b[1m[\u001b[0m\u001b[1;36m-113.5\u001b[0m \u001b[1;36m-114.5\u001b[0m \u001b[1;36m-111\u001b[0m.  \u001b[33m...\u001b[0m  \u001b[1;36m-94.5\u001b[0m  \u001b[1;36m-98.5\u001b[0m  \u001b[1;36m-99.5\u001b[0m\u001b[1m]\u001b[0m\n",
       " \u001b[1m[\u001b[0m\u001b[1;36m-109.5\u001b[0m \u001b[1;36m-111.5\u001b[0m \u001b[1;36m-114\u001b[0m.  \u001b[33m...\u001b[0m \u001b[1;36m-100\u001b[0m.   \u001b[1;36m-99\u001b[0m.  \u001b[1;36m-100.5\u001b[0m\u001b[1m]\u001b[0m\n",
       " \u001b[33m...\u001b[0m\n",
       " \u001b[1m[\u001b[0m\u001b[1;36m-117\u001b[0m.  \u001b[1;36m-115\u001b[0m.  \u001b[1;36m-114\u001b[0m.  \u001b[33m...\u001b[0m  \u001b[1;36m-99.5\u001b[0m  \u001b[1;36m-96\u001b[0m.   \u001b[1;36m-99\u001b[0m. \u001b[1m]\u001b[0m\n",
       " \u001b[1m[\u001b[0m\u001b[1;36m-117\u001b[0m.  \u001b[1;36m-118\u001b[0m.  \u001b[1;36m-117.5\u001b[0m \u001b[33m...\u001b[0m  \u001b[1;36m-99.5\u001b[0m  \u001b[1;36m-93.5\u001b[0m  \u001b[1;36m-93.5\u001b[0m\u001b[1m]\u001b[0m\n",
       " \u001b[1m[\u001b[0m\u001b[1;36m-114.5\u001b[0m \u001b[1;36m-110.5\u001b[0m \u001b[1;36m-110\u001b[0m.  \u001b[33m...\u001b[0m  \u001b[1;36m-96.5\u001b[0m  \u001b[1;36m-96\u001b[0m.  \u001b[1;36m-102\u001b[0m. \u001b[1m]\u001b[0m\u001b[1m]\u001b[0m\n"
      ]
     },
     "metadata": {},
     "output_type": "display_data"
    }
   ],
   "source": [
    "d = dados['rfeye002092_210208_T202310_CRFSBINv.5.bin']\r\n",
    "fluxo = d['Fluxos'][67,20]\r\n",
    "tempo = fluxo['Timestamp']\r\n",
    "frequencias = np.linspace(fluxo['Start_Frequency'], fluxo['Stop_Frequency'], num=fluxo['Vector_Length'])\r\n",
    "niveis = fluxo['Level_Data'] \r\n",
    "data = pd.DataFrame(niveis, index=tempo, columns=frequencias)\r\n",
    "data.columns.name = \"Frequencies\"\r\n",
    "data.index.name = \"Time\"\r\n",
    "print(data.head())"
   ]
  },
  {
   "cell_type": "markdown",
   "metadata": {},
   "source": [
    "## Extrair dados estatísticos"
   ]
  },
  {
   "cell_type": "code",
   "execution_count": null,
   "metadata": {},
   "outputs": [
    {
     "name": "stdout",
     "output_type": "stream",
     "text": [
      "Converted 00_main.ipynb.\n",
      "Converted 01_parser.ipynb.\n",
      "Converted 02_utils.ipynb.\n",
      "Converted 03_blocks.ipynb.\n",
      "Converted 04_constants.ipynb.\n",
      "Converted index.ipynb.\n"
     ]
    }
   ],
   "source": [
    "#hide\r\n",
    "from nbdev.export import notebook2script\r\n",
    "notebook2script()"
   ]
  },
  {
   "cell_type": "code",
   "execution_count": null,
   "metadata": {},
   "outputs": [],
   "source": []
  }
 ],
 "metadata": {
  "kernelspec": {
   "display_name": "Python [conda env:rfpy]",
   "language": "python",
   "name": "conda-env-rfpy-py"
  }
 },
 "nbformat": 4,
 "nbformat_minor": 4
}
