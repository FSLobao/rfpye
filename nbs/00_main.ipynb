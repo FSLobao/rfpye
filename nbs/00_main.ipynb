{
 "cells": [
  {
   "cell_type": "code",
   "execution_count": null,
   "metadata": {},
   "outputs": [],
   "source": [
    "# default_exp main"
   ]
  },
  {
   "cell_type": "markdown",
   "metadata": {},
   "source": [
    "# Processamento e Filtragem\n",
    "> Módulo com funções que encapsulam o processamento completo e retorno de metadados, matrix de nível e estatísticas dos arquivos bin"
   ]
  },
  {
   "cell_type": "code",
   "execution_count": null,
   "metadata": {},
   "outputs": [],
   "source": [
    "#hide \n",
    "#Standard Lib imports\n",
    "import sys, os\n",
    "from pathlib import Path\n",
    "\n",
    "# Insert in Path Project Directory\n",
    "sys.path.insert(0, str(Path().cwd().parent))"
   ]
  },
  {
   "cell_type": "code",
   "execution_count": null,
   "metadata": {},
   "outputs": [],
   "source": [
    "#hide\n",
    "%load_ext autoreload\n",
    "%autoreload 2            #Reload the code automatically\n",
    "%config Completer.use_jedi = False"
   ]
  },
  {
   "cell_type": "code",
   "execution_count": null,
   "metadata": {},
   "outputs": [],
   "source": [
    "#export\n",
    "from datetime import datetime\n",
    "from typing import *\n",
    "import os\n",
    "import logging\n",
    "from fastcore.xtras import Path\n",
    "from fastcore.script import call_parse, Param, store_true\n",
    "from fastcore.basics import listify\n",
    "from fastcore.foundation import L\n",
    "import numpy as np\n",
    "import pandas as pd\n",
    "from rich.progress import Progress\n",
    "from rich.console import Console\n",
    "from rich.theme import Theme\n",
    "from rich.logging import RichHandler\n",
    "from rich import print\n",
    "from rfpye.utils import *\n",
    "from rfpye.constants import SPECTRAL_BLOCKS\n",
    "from rfpye.parser import *\n",
    "from loguru import logger\n",
    "\n",
    "BTYPES = [21, 40] + SPECTRAL_BLOCKS\n",
    "FILTER_ATTRS = {21: ['hostname', 'method'],\n",
    "                40: ['altitude', 'latitude', 'longitude'],\n",
    "                63: ['wallclock_datetime', 'sample', 'minimum', 'ndata', 'processing', 'bw', 'unit', 'description', 'start_mega', 'stop_mega'],\n",
    "                67: ['wallclock_datetime', 'sample', 'minimum', 'ndata', 'processing', 'bw', 'unit', 'description', 'start_mega', 'stop_mega'],\n",
    "                68: ['wallclock_datetime', 'sample', 'minimum', 'ndata', 'processing', 'bw', 'unit', 'description', 'start_mega', 'stop_mega']}\n",
    "\n",
    "CACHE_FOLDER = Path.cwd() / \".cache\""
   ]
  },
  {
   "cell_type": "code",
   "execution_count": null,
   "metadata": {},
   "outputs": [
    {
     "data": {
      "text/plain": [
       "2"
      ]
     },
     "execution_count": null,
     "metadata": {},
     "output_type": "execute_result"
    }
   ],
   "source": [
    "#exporti\n",
    "logger.add(\"rfpye.log\", rotation=\"1 week\", compression='zip', backtrace=True, diagnose=True) "
   ]
  },
  {
   "cell_type": "code",
   "execution_count": null,
   "metadata": {},
   "outputs": [],
   "source": [
    "#exporti\n",
    "custom_theme = Theme({\"info\": \"dim cyan\", \"warning\": \"magenta\", \"danger\": \"bold red\"})\n",
    "console = Console(theme=custom_theme)"
   ]
  },
  {
   "cell_type": "markdown",
   "metadata": {},
   "source": [
    "## Resumo Estatístico\n",
    "A seguinte função recebe um DataFrame cujas linhas são as diferentes varreduras do espectro, cada uma com seu timestamp, e colunas as diferentes frequências centrais medidas. Essa função é chamada pela função `extract_bin_stats`"
   ]
  },
  {
   "cell_type": "code",
   "execution_count": null,
   "metadata": {},
   "outputs": [],
   "source": [
    "#export\n",
    "@logger.catch\n",
    "def filter_spectrum(\n",
    "    df: pd.DataFrame,\n",
    "    time_start: str = None,\n",
    "    time_stop: str = None,\n",
    "    freq_start: str = None,\n",
    "    freq_stop: str = None,\n",
    ") -> pd.DataFrame:\n",
    "    \"\"\"Recebe o arquivo de espectro df e retorna de acordo com os filtros\n",
    "\n",
    "    Args:\n",
    "        df (pd.DataFrame): Arquivo de espectro. Timestamp como linhas e frequências como colunas\n",
    "        time_start (str): Timestamp de início. Se None filtra desde o início do arquivo\n",
    "        time_stop (str): Timestamp de fim. Se None filtra até o fim do arquivo\n",
    "        freq_start (str): Filtro inicial de frequência. Se None retorna desde a menor frequências\n",
    "        freq_stop (str): Filtro Final de frequência. Se None retorna até a maior frequência.\n",
    "\n",
    "    Returns:\n",
    "        pd.DataFrame: DataFrame com Frequência, min, max e mean após os filtros aplicados.\n",
    "    \"\"\"\n",
    "    df = df.copy()\n",
    "    if time_start is None:\n",
    "        time_start = \"01/01/2000\"\n",
    "    if time_stop is None:\n",
    "        time_stop = \"31/12/2100\"\n",
    "    try:\n",
    "        time_start = pd.to_datetime(time_start)\n",
    "        time_stop = pd.to_datetime(time_stop)\n",
    "    except pd.errors.ParserError:\n",
    "        log.error(\n",
    "            f\"[bold red blink] Datas inválidas! Verifique as strings de data {freq_start} e {freq_stop}\"\n",
    "        )\n",
    "\n",
    "    try:\n",
    "        df.set_index(\"index\", inplace=True)\n",
    "        df.index = pd.to_datetime(df.index)\n",
    "    except pd.errors.KeyError:\n",
    "        if not isinstance(df.index, pd.DatetimeIndex):\n",
    "            log.warning(\n",
    "                f\"Não foi passado uma coluna ou índice com datetime a ser filtrado, todas as linhas serão processadas\",\n",
    "                exc_info=True,\n",
    "            )\n",
    "            time_start = 0\n",
    "            time_stop = df.shape[0]\n",
    "\n",
    "    cols = df.columns.values.astype(\"float\")\n",
    "    rows = df.index.values\n",
    "\n",
    "    if freq_start is None:\n",
    "        freq_start = 0\n",
    "    if freq_stop is None:\n",
    "        freq_stop = np.inf\n",
    "\n",
    "    filtered_cols = df.columns[(float(freq_start) <= cols) & (cols <= float(freq_stop))]\n",
    "    filtered_rows = df.index[(time_start <= rows) & (rows <= time_stop)]\n",
    "    if len(filtered_cols) == 0 or len(filtered_rows) == 0:\n",
    "        return None\n",
    "    count = filtered_rows.shape[0]\n",
    "    array = df.loc[filtered_rows, filtered_cols].values\n",
    "    freq = filtered_cols.values.astype(\"float32\")\n",
    "    min_ = array.min(axis=0)\n",
    "    max_ = array.max(axis=0)\n",
    "    mean = array.mean(axis=0)\n",
    "    return pd.DataFrame(\n",
    "        {\"Frequency\": freq, \"Min\": min_, \"Max\": max_, \"Mean\": mean, \"Count\": count}\n",
    "    )"
   ]
  },
  {
   "cell_type": "code",
   "execution_count": null,
   "metadata": {},
   "outputs": [],
   "source": [
    "#exporti\n",
    "def read_meta(filename):\n",
    "    ext = filename.suffix\n",
    "    if ext == \".csv\":\n",
    "        df = pd.read_csv(filename)\n",
    "    elif ext == \".xlsx\":\n",
    "        df = pd.read_excel(filename, engine=\"openpyxl\")\n",
    "    elif ext == \".fth\":\n",
    "        df = pd.read_feather(filename)\n",
    "        if \"wallclock_datetime\" in df.columns:\n",
    "            df.set_index(\"wallclock_datetime\", inplace=True)\n",
    "    else:\n",
    "        raise ValueError(f\"Extension {ext} not implemented\")\n",
    "    return df"
   ]
  },
  {
   "cell_type": "markdown",
   "metadata": {},
   "source": [
    "## Processamento e Extração \n",
    "A função a seguir é um wrapper de toda funcionalidade desta biblioteca. Ela recebe o caminho `entrada` para um arquivo `.bin` ou pasta contendo vários arquivos `.bin`, extrai os metadados e os dados de espectro. Mescla o timestamp dos metadados com o arquivo de espectro e salva ambos na pasta `saida`. Essa pasta é usada como repositório e cache dos dados processados que serão utilizados pela função `extract_bin_stats`."
   ]
  },
  {
   "cell_type": "code",
   "execution_count": null,
   "metadata": {},
   "outputs": [],
   "source": [
    "#export\n",
    "def process_bin(\n",
    "    entrada: str,\n",
    "    saida: str,\n",
    "    recursivo: bool = False,\n",
    "    pastas: Iterable[str] = None,\n",
    "    levels: bool = False,\n",
    "    substituir: bool = False,\n",
    "    dtype: str = \"float16\",\n",
    ") -> None:\n",
    "    \"\"\"Recebe uma pasta ou arquivo bin, processa e salva os metadados e espectro na saida.\n",
    "\n",
    "    Args:\n",
    "        entrada (str): Caminho para a Pasta ou Arquivo .bin\n",
    "        saida (str): Pasta onde salvar os arquivos processados\n",
    "        recursivo (bool, optional): Buscar os arquivos de entrada recursivamente. Defaults to False.\n",
    "        pastas (Iterable[str], optional): Limitar a busca a essas pastas. Defaults to None.\n",
    "        levels (bool, optional): Extrair e salvar os dados de espectro. Defaults to False.\n",
    "        substituir (bool, optional): Reprocessar arquivos já processados?. Defaults to False.\n",
    "        dtype (str, optional): Tipo de dados a salvar o espectro. Defaults to \"float16\".\n",
    "    \"\"\"\n",
    "\n",
    "    entrada = Path(entrada)\n",
    "    if entrada.is_file():\n",
    "        lista_bins = [entrada]\n",
    "    else:\n",
    "        lista_bins = get_files(\n",
    "            entrada, extensions=[\".bin\"], recurse=recursivo, folders=pastas\n",
    "        )\n",
    "    parsed_bins = {}\n",
    "    meta_path = Path(f\"{saida}/meta\")\n",
    "    levels_path = Path(f\"{saida}/levels\")\n",
    "    meta_path.mkdir(exist_ok=True, parents=True)\n",
    "    levels_path.mkdir(exist_ok=True, parents=True)\n",
    "    log_meta = Path(f\"{saida}/log_meta.txt\")\n",
    "    log_levels = Path(f\"{saida}/log_levels.txt\")\n",
    "    if substituir:\n",
    "        done_meta = set()\n",
    "        done_levels = set()\n",
    "    else:\n",
    "\n",
    "        done_meta = (\n",
    "            set(log_meta.read_text().split(\"\\n\")) if log_meta.exists() else set()\n",
    "        )\n",
    "        done_levels = (\n",
    "            set(log_levels.read_text().split(\"\\n\")) if log_levels.exists() else set()\n",
    "        )\n",
    "\n",
    "    console.rule(\"Lista de Arquivos a serem processados\", style=\"bold red\")\n",
    "    console.print(\n",
    "        [f.name for f in lista_bins],\n",
    "        style=\"bold white\",\n",
    "        overflow=\"fold\",\n",
    "        justify=\"left\",\n",
    "    )\n",
    "    if not lista_bins:\n",
    "        console.print(\":sleeping: Nenhum arquivo .bin a processar :zzz:\")\n",
    "        return\n",
    "\n",
    "    if not levels:\n",
    "        lista_bins = [f for f in lista_bins if f.name not in done_meta]\n",
    "    else:\n",
    "        lista_bins = [f for f in lista_bins if f.name not in done_levels]\n",
    "\n",
    "    if not lista_bins:\n",
    "        console.print(\":sleeping: Nenhum arquivo novo a processar :zzz:\")\n",
    "        console.print(\n",
    "            \":point_up: use --substituir no terminal ou substituir=True na chamada caso queira reprocessar os bins e sobrepôr os arquivos existentes :wink:\"\n",
    "        )\n",
    "        return\n",
    "\n",
    "    try:\n",
    "\n",
    "        with Progress(transient=True, auto_refresh=False) as progress:\n",
    "            bins = progress.track(\n",
    "                lista_bins,\n",
    "                total=len(lista_bins),\n",
    "                description=\"[green]Processando Blocos Binários\",\n",
    "            )\n",
    "\n",
    "            for file in bins:\n",
    "                progress.console.print(f\"[cyan]Processando Blocos de: [red]{file.name}\")\n",
    "                parsed_bins[file.name] = parse_bin(file)\n",
    "                progress.refresh()\n",
    "\n",
    "            lista_meta = [(k, v) for k, v in parsed_bins.items() if k not in done_meta]\n",
    "\n",
    "            if lista_meta:\n",
    "                blocks = progress.track(\n",
    "                    lista_meta,\n",
    "                    total=len(lista_meta),\n",
    "                    description=\"[cyan]Exportando Metadados\",\n",
    "                )\n",
    "                for filename, block_dict in blocks:\n",
    "                    progress.console.print(f\"[cyan]Extraindo Metadados de: [red]{file}\")\n",
    "                    export_metadata(filename, block_dict, meta_path, ext=\".fth\")\n",
    "                    done_meta.add(file)\n",
    "                    progress.refresh()\n",
    "            if levels:\n",
    "                lista_levels = lista_meta = [\n",
    "                    (k, v) for k, v in parsed_bins.items() if k not in done_levels\n",
    "                ]\n",
    "                if lista_levels:\n",
    "                    bins = progress.track(\n",
    "                        lista_levels,\n",
    "                        total=len(lista_levels),\n",
    "                        description=\"[grey]Exportando Dados de Espectro\",\n",
    "                    )\n",
    "                    for file, block_obj in bins:\n",
    "                        progress.console.print(\n",
    "                            f\"[grey]Extraindo Espectro de: [red]{file}\"\n",
    "                        )\n",
    "                        meta_index = []\n",
    "                        blocks = block_obj[\"blocks\"]\n",
    "                        for (tipo, tid) in blocks.keys():\n",
    "                            if tipo not in SPECTRAL_BLOCKS:\n",
    "                                continue\n",
    "                            meta_file = Path(\n",
    "                                f\"{meta_path}/{file}-B_{tipo}_TId_{tid}.fth\"\n",
    "                            )\n",
    "                            if not meta_file.exists():\n",
    "                                export_meta(\n",
    "                                    file,\n",
    "                                    block_obj,\n",
    "                                    meta_path,\n",
    "                                    ext=\".fth\",\n",
    "                                )\n",
    "                                done_meta.add(file)\n",
    "                            meta_df = read_meta(meta_file)\n",
    "                            meta_index.append(meta_df.index.tolist())\n",
    "                        export_level(\n",
    "                            file,\n",
    "                            block_obj,\n",
    "                            levels_path,\n",
    "                            ext=\".fth\",\n",
    "                            index=meta_index,\n",
    "                            dtype=dtype,\n",
    "                        )\n",
    "                        done_levels.add(file)\n",
    "                        progress.refresh()\n",
    "        console.print(\"kbô :satisfied:\")\n",
    "    finally:\n",
    "        log_meta.write_text(\"\\n\".join(sorted(list(done_meta))))\n",
    "        log_levels.write_text(\"\\n\".join(sorted(list(done_levels))))"
   ]
  },
  {
   "cell_type": "code",
   "execution_count": null,
   "metadata": {},
   "outputs": [],
   "source": [
    "#export\n",
    "@logger.catch\n",
    "def extract_bin_data(\n",
    "    path: str,\n",
    "    save_path: str = None,\n",
    "    spec_data: bool = False,\n",
    "    dtype: str = \"float16\",\n",
    ") -> None:\n",
    "    \"\"\"Recebe uma pasta ou arquivo bin, processa e salva os metadados e espectro na saida.\n",
    "\n",
    "    Args:\n",
    "        path (str): Caminho para a Pasta ou Arquivo .bin\n",
    "        saida (str): Pasta onde salvar os arquivos processados\n",
    "        recursivo (bool, optional): Buscar os arquivos de entrada recursivamente. Defaults to False.\n",
    "        pastas (Iterable[str], optional): Limitar a busca a essas pastas. Defaults to None.\n",
    "        substituir (bool, optional): Reprocessar arquivos já processados?. Defaults to False.\n",
    "        dtype (str, optional): Tipo de dados a salvar o espectro. Defaults to \"float16\".\n",
    "    \"\"\"\n",
    "\n",
    "    path = Path(path)\n",
    "    if path.is_file():\n",
    "        lista_bins = [path]\n",
    "    elif path.is_dir():\n",
    "        lista_bins = get_files(\n",
    "            path, extensions=[\".bin\"])\n",
    "    else:\n",
    "        raise ValueError(f\"Caminho de Entrada inválido: {path}. Insira um caminho para uma pasta ou arquivo\")\n",
    "\n",
    "    parsed_bins = {}\n",
    "    if save_path is not None:\n",
    "        save_path = Path(save_path)\n",
    "        save_path.mkdir(exist_ok=True, parents=True)\n",
    "        log = Path(f\"{save_path}/logger.txt\")\n",
    "        if substituir:\n",
    "            done = set()\n",
    "        else:\n",
    "\n",
    "            done = (\n",
    "                set(log.read_text().split(\"\\n\")) if log.exists() else set()\n",
    "            )\n",
    "\n",
    "    else:\n",
    "        done = set()\n",
    "\n",
    "    console.rule(\"Lista de Arquivos a serem processados\", style=\"bold red\")\n",
    "    console.print(\n",
    "        [f.name for f in lista_bins],\n",
    "        style=\"bold white\",\n",
    "        overflow=\"fold\",\n",
    "        justify=\"left\",\n",
    "    )\n",
    "    if not lista_bins:\n",
    "        console.print(\":sleeping: Nenhum arquivo .bin a processar :zzz:\")\n",
    "        return\n",
    "\n",
    "    lista_bins = [f for f in lista_bins if f.name not in done]\n",
    "\n",
    "    if not lista_bins:\n",
    "        console.print(\":sleeping: Nenhum arquivo novo a processar :zzz:\")\n",
    "        console.print(\n",
    "            \":point_up: use --substituir no terminal ou substituir=True na chamada caso queira reprocessar os bins e sobrepôr os arquivos existentes :wink:\"\n",
    "        )\n",
    "        return\n",
    "\n",
    "    output = dict()\n",
    "    for file in lista_bins:\n",
    "        console.print(f\"[green]Processando Blocos de: [red]{file.name}\")\n",
    "        parsed_bin = parse_bin(file, btypes=BTYPES)\n",
    "        file_version, blocks = parsed_bin.values()\n",
    "        metadata = export_metadata(blocks, filter_attrs=FILTER_ATTRS)\n",
    "        out = dict()\n",
    "        out['File_Name'] = file.name\n",
    "        out['File_Version'] = file_version\n",
    "        out['File_Type'] = 'RFEye Logger Trace'\n",
    "        out['Device'] = 'Rfeye Node'\n",
    "        out['Fluxos'] = dict()\n",
    "        for (btype, tid), df in metadata.items():\n",
    "            if btype == 21:\n",
    "                out['Equipment_ID'] = df.hostname.item()\n",
    "                out['Script_Version'] = df.method.item()\n",
    "            elif btype == 40:\n",
    "                out['Latitude'] = df.latitude.median()\n",
    "                out['Longitude'] = df.longitude.median()\n",
    "                out['Altitude'] = df.altitude.median()\n",
    "                out['Count_GPS'] = df.shape[0]\n",
    "                out['Sum_Latitude']  = df.latitude.sum()\n",
    "                out['Sum_Longitude'] = df.longitude.sum()\n",
    "            elif btype in SPECTRAL_BLOCKS:\n",
    "                timestamp = df.index.values\n",
    "                level = dict()\n",
    "                level['Initial_Time'] = timestamp.min()\n",
    "                level['Sample_Duration'] = df['sample'].median()\n",
    "                fluxo = df.drop(['minimum', 'sample'], axis=1).iloc[0]\n",
    "                level['Description'] = fluxo.description\n",
    "                level['Start_Frequency'] = fluxo.start_mega\n",
    "                level['Stop_Frequency'] = fluxo.stop_mega\n",
    "                level['Trace_Type'] = fluxo.processing\n",
    "                level['RBW'] = fluxo.bw\n",
    "                level['Level_Units'] = fluxo.unit\n",
    "                level['Num_Traces'] = df.shape[0]\n",
    "                level['Vector_Length'] = fluxo.ndata\n",
    "                level['Timestamp'] = timestamp\n",
    "                if spec_data:\n",
    "                    if save_path:\n",
    "                        level['Minimum_Level'] = df.minimum.values.astype('float16')\n",
    "                        level['Level_Data'] = extract_level(blocks[(btype, tid)], dtype=np.uint8)\n",
    "                    else:\n",
    "                        level['Frequency'] = np.linspace(fluxo.start_mega, fluxo.stop_mega, num=fluxo.ndata)\n",
    "                        level['Level_Data'] = extract_level(blocks[(btype, tid)], dtype=dtype)\n",
    "\n",
    "\n",
    "                out['Fluxos'][(btype, tid)] =  level\n",
    "            else:\n",
    "                print(btype)\n",
    "        done.add(file.name)\n",
    "        output[file.name] = out\n",
    "\n",
    "    if save_path:\n",
    "        log.write_text(\"\\n\".join(sorted(list(done))))\n",
    "    return output"
   ]
  },
  {
   "cell_type": "markdown",
   "metadata": {},
   "source": [
    "Uso mais comum: Diretório com arquivos CRFS bin\n",
    "A função seguinte recebe um caminho para um arquivo `.bin` ou para uma pasta que contém arquivos bin e retorna os metadados do arquivo como um dicionário. "
   ]
  },
  {
   "cell_type": "code",
   "execution_count": null,
   "metadata": {},
   "outputs": [],
   "source": [
    "path = Path(r'D:\\OneDrive - ANATEL\\BinFiles\\Combo3 (Tipos de dados 4, 7, 8, 60-65 e 67-69)')"
   ]
  },
  {
   "cell_type": "code",
   "execution_count": null,
   "metadata": {},
   "outputs": [],
   "source": [
    "if not path.exists() or not len(get_files(path, extensions=['.bin'])):\n",
    "    path = Path('.')\n",
    "    !wget --header 'Host: raw.githubusercontent.com' --user-agent 'Mozilla/5.0 (Windows NT 10.0; Win64; x64; rv:89.0) Gecko/20100101 Firefox/89.0' --header 'Accept: text/html,application/xhtml+xml,application/xml;q=0.9,image/webp,*/*;q=0.8' --header 'Accept-Language: pt-BR,pt;q=0.8,en-US;q=0.5,en;q=0.3' --referer 'https://github.com/EricMagalhaesDelgado/SpecFiles/blob/main/Combo3%20(CRFS%20Bin%20-%20DataTypes%204%2C%207%2C%208%2C%2060-65%20e%2067-69)/rfeye002092_210208_T202310_CRFSBINv.5.bin' --header 'DNT: 1' --header 'Upgrade-Insecure-Requests: 1' 'https://raw.githubusercontent.com/EricMagalhaesDelgado/SpecFiles/main/Combo3%20(CRFS%20Bin%20-%20DataTypes%204%2C%207%2C%208%2C%2060-65%20e%2067-69)/rfeye002092_210208_T202310_CRFSBINv.5.bin' --output-document 'rfeye002092_210208_T202310_CRFSBINv.5.bin'\n",
    "    !wget --header 'Host: raw.githubusercontent.com' --user-agent 'Mozilla/5.0 (Windows NT 10.0; Win64; x64; rv:89.0) Gecko/20100101 Firefox/89.0' --header 'Accept: text/html,application/xhtml+xml,application/xml;q=0.9,image/webp,*/*;q=0.8' --header 'Accept-Language: pt-BR,pt;q=0.8,en-US;q=0.5,en;q=0.3' --referer 'https://github.com/EricMagalhaesDelgado/SpecFiles/blob/main/Combo3%20(CRFS%20Bin%20-%20DataTypes%204%2C%207%2C%208%2C%2060-65%20e%2067-69)/rfeye002092_210208_T203131_CRFSBINv.2.bin' --header 'DNT: 1' --header 'Upgrade-Insecure-Requests: 1' 'https://raw.githubusercontent.com/EricMagalhaesDelgado/SpecFiles/main/Combo3%20(CRFS%20Bin%20-%20DataTypes%204%2C%207%2C%208%2C%2060-65%20e%2067-69)/rfeye002092_210208_T203131_CRFSBINv.2.bin' --output-document 'rfeye002092_210208_T203131_CRFSBINv.2.bin'\n",
    "    !wget --header 'Host: raw.githubusercontent.com' --user-agent 'Mozilla/5.0 (Windows NT 10.0; Win64; x64; rv:89.0) Gecko/20100101 Firefox/89.0' --header 'Accept: text/html,application/xhtml+xml,application/xml;q=0.9,image/webp,*/*;q=0.8' --header 'Accept-Language: pt-BR,pt;q=0.8,en-US;q=0.5,en;q=0.3' --referer 'https://github.com/EricMagalhaesDelgado/SpecFiles/blob/main/Combo3%20(CRFS%20Bin%20-%20DataTypes%204%2C%207%2C%208%2C%2060-65%20e%2067-69)/rfeye002292_210208_T202215_CRFSBINv.4.bin' --header 'DNT: 1' --header 'Upgrade-Insecure-Requests: 1' 'https://raw.githubusercontent.com/EricMagalhaesDelgado/SpecFiles/main/Combo3%20(CRFS%20Bin%20-%20DataTypes%204%2C%207%2C%208%2C%2060-65%20e%2067-69)/rfeye002292_210208_T202215_CRFSBINv.4.bin' --output-document 'rfeye002292_210208_T202215_CRFSBINv.4.bin'\n",
    "    !wget --header 'Host: raw.githubusercontent.com' --user-agent 'Mozilla/5.0 (Windows NT 10.0; Win64; x64; rv:89.0) Gecko/20100101 Firefox/89.0' --header 'Accept: text/html,application/xhtml+xml,application/xml;q=0.9,image/webp,*/*;q=0.8' --header 'Accept-Language: pt-BR,pt;q=0.8,en-US;q=0.5,en;q=0.3' --referer 'https://github.com/EricMagalhaesDelgado/SpecFiles/blob/main/Combo3%20(CRFS%20Bin%20-%20DataTypes%204%2C%207%2C%208%2C%2060-65%20e%2067-69)/rfeye002292_210208_T203238_CRFSBINv.3.bin' --header 'DNT: 1' --header 'Upgrade-Insecure-Requests: 1' 'https://raw.githubusercontent.com/EricMagalhaesDelgado/SpecFiles/main/Combo3%20(CRFS%20Bin%20-%20DataTypes%204%2C%207%2C%208%2C%2060-65%20e%2067-69)/rfeye002292_210208_T203238_CRFSBINv.3.bin' --output-document 'rfeye002292_210208_T203238_CRFSBINv.3.bin'\n"
   ]
  },
  {
   "cell_type": "code",
   "execution_count": null,
   "metadata": {},
   "outputs": [
    {
     "data": {
      "text/html": [
       "<pre style=\"white-space:pre;overflow-x:auto;line-height:normal;font-family:Menlo,'DejaVu Sans Mono',consolas,'Courier New',monospace\"><span style=\"color: #800000; text-decoration-color: #800000; font-weight: bold\">─────────────────────────── </span>Lista de Arquivos a serem processados<span style=\"color: #800000; text-decoration-color: #800000; font-weight: bold\"> ───────────────────────────</span>\n",
       "</pre>\n"
      ],
      "text/plain": [
       "\u001b[1;31m─────────────────────────── \u001b[0mLista de Arquivos a serem processados\u001b[1;31m ───────────────────────────\u001b[0m\n"
      ]
     },
     "metadata": {},
     "output_type": "display_data"
    },
    {
     "data": {
      "text/html": [
       "<pre style=\"white-space:pre;overflow-x:auto;line-height:normal;font-family:Menlo,'DejaVu Sans Mono',consolas,'Courier New',monospace\"><span style=\"color: #c0c0c0; text-decoration-color: #c0c0c0; font-weight: bold\">[                                                                                            </span>\n",
       "<span style=\"color: #c0c0c0; text-decoration-color: #c0c0c0; font-weight: bold\">    </span><span style=\"color: #008000; text-decoration-color: #008000\">'rfeye002092_210208_T202310_CRFSBINv.5.bin'</span><span style=\"color: #c0c0c0; text-decoration-color: #c0c0c0; font-weight: bold\">,                                             </span>\n",
       "<span style=\"color: #c0c0c0; text-decoration-color: #c0c0c0; font-weight: bold\">    </span><span style=\"color: #008000; text-decoration-color: #008000\">'rfeye002092_210208_T203131_CRFSBINv.2.bin'</span><span style=\"color: #c0c0c0; text-decoration-color: #c0c0c0; font-weight: bold\">,                                             </span>\n",
       "<span style=\"color: #c0c0c0; text-decoration-color: #c0c0c0; font-weight: bold\">    </span><span style=\"color: #008000; text-decoration-color: #008000\">'rfeye002292_210208_T202215_CRFSBINv.4.bin'</span><span style=\"color: #c0c0c0; text-decoration-color: #c0c0c0; font-weight: bold\">,                                             </span>\n",
       "<span style=\"color: #c0c0c0; text-decoration-color: #c0c0c0; font-weight: bold\">    </span><span style=\"color: #008000; text-decoration-color: #008000\">'rfeye002292_210208_T203238_CRFSBINv.3.bin'</span><span style=\"color: #c0c0c0; text-decoration-color: #c0c0c0; font-weight: bold\">                                              </span>\n",
       "<span style=\"color: #c0c0c0; text-decoration-color: #c0c0c0; font-weight: bold\">]                                                                                            </span>\n",
       "</pre>\n"
      ],
      "text/plain": [
       "\u001b[1;37m[\u001b[0m\u001b[1;37m                                               \u001b[0m\u001b[1;37m                                             \u001b[0m\n",
       "\u001b[1;37m    \u001b[0m\u001b[32m'rfeye002092_210208_T202310_CRFSBINv.5.bin'\u001b[0m\u001b[1;37m,\u001b[0m\u001b[1;37m                                             \u001b[0m\n",
       "\u001b[1;37m    \u001b[0m\u001b[32m'rfeye002092_210208_T203131_CRFSBINv.2.bin'\u001b[0m\u001b[1;37m,\u001b[0m\u001b[1;37m                                             \u001b[0m\n",
       "\u001b[1;37m    \u001b[0m\u001b[32m'rfeye002292_210208_T202215_CRFSBINv.4.bin'\u001b[0m\u001b[1;37m,\u001b[0m\u001b[1;37m                                             \u001b[0m\n",
       "\u001b[1;37m    \u001b[0m\u001b[32m'rfeye002292_210208_T203238_CRFSBINv.3.bin'\u001b[0m\u001b[1;37m \u001b[0m\u001b[1;37m                                             \u001b[0m\n",
       "\u001b[1;37m]\u001b[0m\u001b[1;37m                                               \u001b[0m\u001b[1;37m                                             \u001b[0m\n"
      ]
     },
     "metadata": {},
     "output_type": "display_data"
    },
    {
     "data": {
      "text/html": [
       "<pre style=\"white-space:pre;overflow-x:auto;line-height:normal;font-family:Menlo,'DejaVu Sans Mono',consolas,'Courier New',monospace\"><span style=\"color: #008000; text-decoration-color: #008000\">Processando Blocos de: </span><span style=\"color: #800000; text-decoration-color: #800000\">rfeye002092_210208_T202310_CRFSBINv.</span><span style=\"color: #800000; text-decoration-color: #800000; font-weight: bold\">5.</span><span style=\"color: #800000; text-decoration-color: #800000\">bin</span>\n",
       "</pre>\n"
      ],
      "text/plain": [
       "\u001b[32mProcessando Blocos de: \u001b[0m\u001b[31mrfeye002092_210208_T202310_CRFSBINv.\u001b[0m\u001b[1;31m5.\u001b[0m\u001b[31mbin\u001b[0m\n"
      ]
     },
     "metadata": {},
     "output_type": "display_data"
    },
    {
     "data": {
      "text/html": [
       "<pre style=\"white-space:pre;overflow-x:auto;line-height:normal;font-family:Menlo,'DejaVu Sans Mono',consolas,'Courier New',monospace\"><span style=\"color: #008000; text-decoration-color: #008000\">Processando Blocos de: </span><span style=\"color: #800000; text-decoration-color: #800000\">rfeye002092_210208_T203131_CRFSBINv.</span><span style=\"color: #800000; text-decoration-color: #800000; font-weight: bold\">2.</span><span style=\"color: #800000; text-decoration-color: #800000\">bin</span>\n",
       "</pre>\n"
      ],
      "text/plain": [
       "\u001b[32mProcessando Blocos de: \u001b[0m\u001b[31mrfeye002092_210208_T203131_CRFSBINv.\u001b[0m\u001b[1;31m2.\u001b[0m\u001b[31mbin\u001b[0m\n"
      ]
     },
     "metadata": {},
     "output_type": "display_data"
    },
    {
     "data": {
      "text/html": [
       "<pre style=\"white-space:pre;overflow-x:auto;line-height:normal;font-family:Menlo,'DejaVu Sans Mono',consolas,'Courier New',monospace\"><span style=\"color: #008000; text-decoration-color: #008000\">Processando Blocos de: </span><span style=\"color: #800000; text-decoration-color: #800000\">rfeye002292_210208_T202215_CRFSBINv.</span><span style=\"color: #800000; text-decoration-color: #800000; font-weight: bold\">4.</span><span style=\"color: #800000; text-decoration-color: #800000\">bin</span>\n",
       "</pre>\n"
      ],
      "text/plain": [
       "\u001b[32mProcessando Blocos de: \u001b[0m\u001b[31mrfeye002292_210208_T202215_CRFSBINv.\u001b[0m\u001b[1;31m4.\u001b[0m\u001b[31mbin\u001b[0m\n"
      ]
     },
     "metadata": {},
     "output_type": "display_data"
    },
    {
     "data": {
      "text/html": [
       "<pre style=\"white-space:pre;overflow-x:auto;line-height:normal;font-family:Menlo,'DejaVu Sans Mono',consolas,'Courier New',monospace\"><span style=\"color: #008000; text-decoration-color: #008000\">Processando Blocos de: </span><span style=\"color: #800000; text-decoration-color: #800000\">rfeye002292_210208_T203238_CRFSBINv.</span><span style=\"color: #800000; text-decoration-color: #800000; font-weight: bold\">3.</span><span style=\"color: #800000; text-decoration-color: #800000\">bin</span>\n",
       "</pre>\n"
      ],
      "text/plain": [
       "\u001b[32mProcessando Blocos de: \u001b[0m\u001b[31mrfeye002292_210208_T203238_CRFSBINv.\u001b[0m\u001b[1;31m3.\u001b[0m\u001b[31mbin\u001b[0m\n"
      ]
     },
     "metadata": {},
     "output_type": "display_data"
    }
   ],
   "source": [
    "dados = extract_bin_data(path)"
   ]
  },
  {
   "cell_type": "code",
   "execution_count": null,
   "metadata": {},
   "outputs": [
    {
     "data": {
      "text/html": [
       "<pre style=\"white-space:pre;overflow-x:auto;line-height:normal;font-family:Menlo,'DejaVu Sans Mono',consolas,'Courier New',monospace\">Metadados do Arquivo rfeye002092_210208_T202310_CRFSBINv.<span style=\"color: #008080; text-decoration-color: #008080; font-weight: bold\">5.</span>bin\n",
       "</pre>\n"
      ],
      "text/plain": [
       "Metadados do Arquivo rfeye002092_210208_T202310_CRFSBINv.\u001b[1;36m5.\u001b[0mbin\n"
      ]
     },
     "metadata": {},
     "output_type": "display_data"
    },
    {
     "data": {
      "text/html": [
       "<pre style=\"white-space:pre;overflow-x:auto;line-height:normal;font-family:Menlo,'DejaVu Sans Mono',consolas,'Courier New',monospace\"><span style=\"font-weight: bold\">{</span>\n",
       "    <span style=\"color: #008000; text-decoration-color: #008000\">'File_Name'</span>: <span style=\"color: #008000; text-decoration-color: #008000\">'rfeye002092_210208_T202310_CRFSBINv.5.bin'</span>,\n",
       "    <span style=\"color: #008000; text-decoration-color: #008000\">'File_Version'</span>: <span style=\"color: #008080; text-decoration-color: #008080; font-weight: bold\">23</span>,\n",
       "    <span style=\"color: #008000; text-decoration-color: #008000\">'File_Type'</span>: <span style=\"color: #008000; text-decoration-color: #008000\">'RFEye Logger Trace'</span>,\n",
       "    <span style=\"color: #008000; text-decoration-color: #008000\">'Device'</span>: <span style=\"color: #008000; text-decoration-color: #008000\">'Rfeye Node'</span>,\n",
       "    <span style=\"color: #008000; text-decoration-color: #008000\">'Equipment_ID'</span>: <span style=\"color: #008000; text-decoration-color: #008000\">'rfeye002092'</span>,\n",
       "    <span style=\"color: #008000; text-decoration-color: #008000\">'Script_Version'</span>: <span style=\"color: #008000; text-decoration-color: #008000\">'Script_CRFSBINv5'</span>,\n",
       "    <span style=\"color: #008000; text-decoration-color: #008000\">'Latitude'</span>: <span style=\"color: #008080; text-decoration-color: #008080; font-weight: bold\">-12.826857</span>,\n",
       "    <span style=\"color: #008000; text-decoration-color: #008000\">'Longitude'</span>: <span style=\"color: #008080; text-decoration-color: #008080; font-weight: bold\">-38.478035</span>,\n",
       "    <span style=\"color: #008000; text-decoration-color: #008000\">'Altitude'</span>: <span style=\"color: #008080; text-decoration-color: #008080; font-weight: bold\">124.3</span>,\n",
       "    <span style=\"color: #008000; text-decoration-color: #008000\">'Count_GPS'</span>: <span style=\"color: #008080; text-decoration-color: #008080; font-weight: bold\">8</span>,\n",
       "    <span style=\"color: #008000; text-decoration-color: #008000\">'Sum_Latitude'</span>: <span style=\"color: #008080; text-decoration-color: #008080; font-weight: bold\">-102.61485</span>,\n",
       "    <span style=\"color: #008000; text-decoration-color: #008000\">'Sum_Longitude'</span>: <span style=\"color: #008080; text-decoration-color: #008080; font-weight: bold\">-307.82428</span>\n",
       "<span style=\"font-weight: bold\">}</span>\n",
       "</pre>\n"
      ],
      "text/plain": [
       "\u001b[1m{\u001b[0m\n",
       "    \u001b[32m'File_Name'\u001b[0m: \u001b[32m'rfeye002092_210208_T202310_CRFSBINv.5.bin'\u001b[0m,\n",
       "    \u001b[32m'File_Version'\u001b[0m: \u001b[1;36m23\u001b[0m,\n",
       "    \u001b[32m'File_Type'\u001b[0m: \u001b[32m'RFEye Logger Trace'\u001b[0m,\n",
       "    \u001b[32m'Device'\u001b[0m: \u001b[32m'Rfeye Node'\u001b[0m,\n",
       "    \u001b[32m'Equipment_ID'\u001b[0m: \u001b[32m'rfeye002092'\u001b[0m,\n",
       "    \u001b[32m'Script_Version'\u001b[0m: \u001b[32m'Script_CRFSBINv5'\u001b[0m,\n",
       "    \u001b[32m'Latitude'\u001b[0m: \u001b[1;36m-12.826857\u001b[0m,\n",
       "    \u001b[32m'Longitude'\u001b[0m: \u001b[1;36m-38.478035\u001b[0m,\n",
       "    \u001b[32m'Altitude'\u001b[0m: \u001b[1;36m124.3\u001b[0m,\n",
       "    \u001b[32m'Count_GPS'\u001b[0m: \u001b[1;36m8\u001b[0m,\n",
       "    \u001b[32m'Sum_Latitude'\u001b[0m: \u001b[1;36m-102.61485\u001b[0m,\n",
       "    \u001b[32m'Sum_Longitude'\u001b[0m: \u001b[1;36m-307.82428\u001b[0m\n",
       "\u001b[1m}\u001b[0m\n"
      ]
     },
     "metadata": {},
     "output_type": "display_data"
    },
    {
     "data": {
      "text/html": [
       "<pre style=\"white-space:pre;overflow-x:auto;line-height:normal;font-family:Menlo,'DejaVu Sans Mono',consolas,'Courier New',monospace\">Fluxos: \n",
       "<span style=\"font-weight: bold\">{</span>\n",
       "    <span style=\"font-weight: bold\">(</span><span style=\"color: #008080; text-decoration-color: #008080; font-weight: bold\">67</span>, <span style=\"color: #008080; text-decoration-color: #008080; font-weight: bold\">20</span><span style=\"font-weight: bold\">)</span>: <span style=\"font-weight: bold\">{</span>\n",
       "        <span style=\"color: #008000; text-decoration-color: #008000\">'Initial_Time'</span>: <span style=\"color: #800080; text-decoration-color: #800080; font-weight: bold\">numpy.datetime64</span><span style=\"font-weight: bold\">(</span><span style=\"color: #008000; text-decoration-color: #008000\">'2021-02-08T20:23:10.500680000'</span><span style=\"font-weight: bold\">)</span>,\n",
       "        <span style=\"color: #008000; text-decoration-color: #008000\">'Sample_Duration'</span>: <span style=\"color: #008080; text-decoration-color: #008080; font-weight: bold\">18073.0</span>,\n",
       "        <span style=\"color: #008000; text-decoration-color: #008000\">'Description'</span>: <span style=\"color: #008000; text-decoration-color: #008000\">'ClearWrite. Peak.'</span>,\n",
       "        <span style=\"color: #008000; text-decoration-color: #008000\">'Start_Frequency'</span>: <span style=\"color: #008080; text-decoration-color: #008080; font-weight: bold\">76</span>,\n",
       "        <span style=\"color: #008000; text-decoration-color: #008000\">'Stop_Frequency'</span>: <span style=\"color: #008080; text-decoration-color: #008080; font-weight: bold\">108</span>,\n",
       "        <span style=\"color: #008000; text-decoration-color: #008000\">'Trace_Type'</span>: <span style=\"color: #008000; text-decoration-color: #008000\">'peak'</span>,\n",
       "        <span style=\"color: #008000; text-decoration-color: #008000\">'RBW'</span>: <span style=\"color: #008080; text-decoration-color: #008080; font-weight: bold\">7381</span>,\n",
       "        <span style=\"color: #008000; text-decoration-color: #008000\">'Level_Units'</span>: <span style=\"color: #008000; text-decoration-color: #008000\">'dBm'</span>,\n",
       "        <span style=\"color: #008000; text-decoration-color: #008000\">'Num_Traces'</span>: <span style=\"color: #008080; text-decoration-color: #008080; font-weight: bold\">956</span>,\n",
       "        <span style=\"color: #008000; text-decoration-color: #008000\">'Vector_Length'</span>: <span style=\"color: #008080; text-decoration-color: #008080; font-weight: bold\">8192</span>\n",
       "    <span style=\"font-weight: bold\">}</span>,\n",
       "    <span style=\"font-weight: bold\">(</span><span style=\"color: #008080; text-decoration-color: #008080; font-weight: bold\">67</span>, <span style=\"color: #008080; text-decoration-color: #008080; font-weight: bold\">30</span><span style=\"font-weight: bold\">)</span>: <span style=\"font-weight: bold\">{</span>\n",
       "        <span style=\"color: #008000; text-decoration-color: #008000\">'Initial_Time'</span>: <span style=\"color: #800080; text-decoration-color: #800080; font-weight: bold\">numpy.datetime64</span><span style=\"font-weight: bold\">(</span><span style=\"color: #008000; text-decoration-color: #008000\">'2021-02-08T20:23:10.522721000'</span><span style=\"font-weight: bold\">)</span>,\n",
       "        <span style=\"color: #008000; text-decoration-color: #008000\">'Sample_Duration'</span>: <span style=\"color: #008080; text-decoration-color: #008080; font-weight: bold\">8552.0</span>,\n",
       "        <span style=\"color: #008000; text-decoration-color: #008000\">'Description'</span>: <span style=\"color: #008000; text-decoration-color: #008000\">'ClearWrite. Peak.'</span>,\n",
       "        <span style=\"color: #008000; text-decoration-color: #008000\">'Start_Frequency'</span>: <span style=\"color: #008080; text-decoration-color: #008080; font-weight: bold\">70</span>,\n",
       "        <span style=\"color: #008000; text-decoration-color: #008000\">'Stop_Frequency'</span>: <span style=\"color: #008080; text-decoration-color: #008080; font-weight: bold\">110</span>,\n",
       "        <span style=\"color: #008000; text-decoration-color: #008000\">'Trace_Type'</span>: <span style=\"color: #008000; text-decoration-color: #008000\">'peak'</span>,\n",
       "        <span style=\"color: #008000; text-decoration-color: #008000\">'RBW'</span>: <span style=\"color: #008080; text-decoration-color: #008080; font-weight: bold\">73828</span>,\n",
       "        <span style=\"color: #008000; text-decoration-color: #008000\">'Level_Units'</span>: <span style=\"color: #008000; text-decoration-color: #008000\">'dBm'</span>,\n",
       "        <span style=\"color: #008000; text-decoration-color: #008000\">'Num_Traces'</span>: <span style=\"color: #008080; text-decoration-color: #008080; font-weight: bold\">988</span>,\n",
       "        <span style=\"color: #008000; text-decoration-color: #008000\">'Vector_Length'</span>: <span style=\"color: #008080; text-decoration-color: #008080; font-weight: bold\">1024</span>\n",
       "    <span style=\"font-weight: bold\">}</span>,\n",
       "    <span style=\"font-weight: bold\">(</span><span style=\"color: #008080; text-decoration-color: #008080; font-weight: bold\">67</span>, <span style=\"color: #008080; text-decoration-color: #008080; font-weight: bold\">10</span><span style=\"font-weight: bold\">)</span>: <span style=\"font-weight: bold\">{</span>\n",
       "        <span style=\"color: #008000; text-decoration-color: #008000\">'Initial_Time'</span>: <span style=\"color: #800080; text-decoration-color: #800080; font-weight: bold\">numpy.datetime64</span><span style=\"font-weight: bold\">(</span><span style=\"color: #008000; text-decoration-color: #008000\">'2021-02-08T20:23:11.979000000'</span><span style=\"font-weight: bold\">)</span>,\n",
       "        <span style=\"color: #008000; text-decoration-color: #008000\">'Sample_Duration'</span>: <span style=\"color: #008080; text-decoration-color: #008080; font-weight: bold\">8076.0</span>,\n",
       "        <span style=\"color: #008000; text-decoration-color: #008000\">'Description'</span>: <span style=\"color: #008000; text-decoration-color: #008000\">'ClearWrite. Peak.'</span>,\n",
       "        <span style=\"color: #008000; text-decoration-color: #008000\">'Start_Frequency'</span>: <span style=\"color: #008080; text-decoration-color: #008080; font-weight: bold\">105</span>,\n",
       "        <span style=\"color: #008000; text-decoration-color: #008000\">'Stop_Frequency'</span>: <span style=\"color: #008080; text-decoration-color: #008080; font-weight: bold\">140</span>,\n",
       "        <span style=\"color: #008000; text-decoration-color: #008000\">'Trace_Type'</span>: <span style=\"color: #008000; text-decoration-color: #008000\">'peak'</span>,\n",
       "        <span style=\"color: #008000; text-decoration-color: #008000\">'RBW'</span>: <span style=\"color: #008080; text-decoration-color: #008080; font-weight: bold\">18457</span>,\n",
       "        <span style=\"color: #008000; text-decoration-color: #008000\">'Level_Units'</span>: <span style=\"color: #008000; text-decoration-color: #008000\">'dBm'</span>,\n",
       "        <span style=\"color: #008000; text-decoration-color: #008000\">'Num_Traces'</span>: <span style=\"color: #008080; text-decoration-color: #008080; font-weight: bold\">477</span>,\n",
       "        <span style=\"color: #008000; text-decoration-color: #008000\">'Vector_Length'</span>: <span style=\"color: #008080; text-decoration-color: #008080; font-weight: bold\">3584</span>\n",
       "    <span style=\"font-weight: bold\">}</span>,\n",
       "    <span style=\"font-weight: bold\">(</span><span style=\"color: #008080; text-decoration-color: #008080; font-weight: bold\">67</span>, <span style=\"color: #008080; text-decoration-color: #008080; font-weight: bold\">11</span><span style=\"font-weight: bold\">)</span>: <span style=\"font-weight: bold\">{</span>\n",
       "        <span style=\"color: #008000; text-decoration-color: #008000\">'Initial_Time'</span>: <span style=\"color: #800080; text-decoration-color: #800080; font-weight: bold\">numpy.datetime64</span><span style=\"font-weight: bold\">(</span><span style=\"color: #008000; text-decoration-color: #008000\">'2021-02-08T20:23:11.979000000'</span><span style=\"font-weight: bold\">)</span>,\n",
       "        <span style=\"color: #008000; text-decoration-color: #008000\">'Sample_Duration'</span>: <span style=\"color: #008080; text-decoration-color: #008080; font-weight: bold\">8076.0</span>,\n",
       "        <span style=\"color: #008000; text-decoration-color: #008000\">'Description'</span>: <span style=\"color: #008000; text-decoration-color: #008000\">'ClearWrite. Mean.'</span>,\n",
       "        <span style=\"color: #008000; text-decoration-color: #008000\">'Start_Frequency'</span>: <span style=\"color: #008080; text-decoration-color: #008080; font-weight: bold\">105</span>,\n",
       "        <span style=\"color: #008000; text-decoration-color: #008000\">'Stop_Frequency'</span>: <span style=\"color: #008080; text-decoration-color: #008080; font-weight: bold\">140</span>,\n",
       "        <span style=\"color: #008000; text-decoration-color: #008000\">'Trace_Type'</span>: <span style=\"color: #008000; text-decoration-color: #008000\">'average'</span>,\n",
       "        <span style=\"color: #008000; text-decoration-color: #008000\">'RBW'</span>: <span style=\"color: #008080; text-decoration-color: #008080; font-weight: bold\">18457</span>,\n",
       "        <span style=\"color: #008000; text-decoration-color: #008000\">'Level_Units'</span>: <span style=\"color: #008000; text-decoration-color: #008000\">'dBm'</span>,\n",
       "        <span style=\"color: #008000; text-decoration-color: #008000\">'Num_Traces'</span>: <span style=\"color: #008080; text-decoration-color: #008080; font-weight: bold\">477</span>,\n",
       "        <span style=\"color: #008000; text-decoration-color: #008000\">'Vector_Length'</span>: <span style=\"color: #008080; text-decoration-color: #008080; font-weight: bold\">3584</span>\n",
       "    <span style=\"font-weight: bold\">}</span>,\n",
       "    <span style=\"font-weight: bold\">(</span><span style=\"color: #008080; text-decoration-color: #008080; font-weight: bold\">67</span>, <span style=\"color: #008080; text-decoration-color: #008080; font-weight: bold\">12</span><span style=\"font-weight: bold\">)</span>: <span style=\"font-weight: bold\">{</span>\n",
       "        <span style=\"color: #008000; text-decoration-color: #008000\">'Initial_Time'</span>: <span style=\"color: #800080; text-decoration-color: #800080; font-weight: bold\">numpy.datetime64</span><span style=\"font-weight: bold\">(</span><span style=\"color: #008000; text-decoration-color: #008000\">'2021-02-08T20:23:20.801000000'</span><span style=\"font-weight: bold\">)</span>,\n",
       "        <span style=\"color: #008000; text-decoration-color: #008000\">'Sample_Duration'</span>: <span style=\"color: #008080; text-decoration-color: #008080; font-weight: bold\">8081.0</span>,\n",
       "        <span style=\"color: #008000; text-decoration-color: #008000\">'Description'</span>: <span style=\"color: #008000; text-decoration-color: #008000\">'MaxHold. Peak. Count = 10.'</span>,\n",
       "        <span style=\"color: #008000; text-decoration-color: #008000\">'Start_Frequency'</span>: <span style=\"color: #008080; text-decoration-color: #008080; font-weight: bold\">105</span>,\n",
       "        <span style=\"color: #008000; text-decoration-color: #008000\">'Stop_Frequency'</span>: <span style=\"color: #008080; text-decoration-color: #008080; font-weight: bold\">140</span>,\n",
       "        <span style=\"color: #008000; text-decoration-color: #008000\">'Trace_Type'</span>: <span style=\"color: #008000; text-decoration-color: #008000\">'peak'</span>,\n",
       "        <span style=\"color: #008000; text-decoration-color: #008000\">'RBW'</span>: <span style=\"color: #008080; text-decoration-color: #008080; font-weight: bold\">18457</span>,\n",
       "        <span style=\"color: #008000; text-decoration-color: #008000\">'Level_Units'</span>: <span style=\"color: #008000; text-decoration-color: #008000\">'dBm'</span>,\n",
       "        <span style=\"color: #008000; text-decoration-color: #008000\">'Num_Traces'</span>: <span style=\"color: #008080; text-decoration-color: #008080; font-weight: bold\">26</span>,\n",
       "        <span style=\"color: #008000; text-decoration-color: #008000\">'Vector_Length'</span>: <span style=\"color: #008080; text-decoration-color: #008080; font-weight: bold\">3584</span>\n",
       "    <span style=\"font-weight: bold\">}</span>,\n",
       "    <span style=\"font-weight: bold\">(</span><span style=\"color: #008080; text-decoration-color: #008080; font-weight: bold\">68</span>, <span style=\"color: #008080; text-decoration-color: #008080; font-weight: bold\">14</span><span style=\"font-weight: bold\">)</span>: <span style=\"font-weight: bold\">{</span>\n",
       "        <span style=\"color: #008000; text-decoration-color: #008000\">'Initial_Time'</span>: <span style=\"color: #800080; text-decoration-color: #800080; font-weight: bold\">numpy.datetime64</span><span style=\"font-weight: bold\">(</span><span style=\"color: #008000; text-decoration-color: #008000\">'2021-02-08T20:23:20.801000000'</span><span style=\"font-weight: bold\">)</span>,\n",
       "        <span style=\"color: #008000; text-decoration-color: #008000\">'Sample_Duration'</span>: <span style=\"color: #008080; text-decoration-color: #008080; font-weight: bold\">8081.0</span>,\n",
       "        <span style=\"color: #008000; text-decoration-color: #008000\">'Description'</span>: <span style=\"color: #008000; text-decoration-color: #008000\">'Average. Mean. Count = 10.'</span>,\n",
       "        <span style=\"color: #008000; text-decoration-color: #008000\">'Start_Frequency'</span>: <span style=\"color: #008080; text-decoration-color: #008080; font-weight: bold\">105</span>,\n",
       "        <span style=\"color: #008000; text-decoration-color: #008000\">'Stop_Frequency'</span>: <span style=\"color: #008080; text-decoration-color: #008080; font-weight: bold\">140</span>,\n",
       "        <span style=\"color: #008000; text-decoration-color: #008000\">'Trace_Type'</span>: <span style=\"color: #008000; text-decoration-color: #008000\">'average'</span>,\n",
       "        <span style=\"color: #008000; text-decoration-color: #008000\">'RBW'</span>: <span style=\"color: #008080; text-decoration-color: #008080; font-weight: bold\">18457</span>,\n",
       "        <span style=\"color: #008000; text-decoration-color: #008000\">'Level_Units'</span>: <span style=\"color: #008000; text-decoration-color: #008000\">'dBm'</span>,\n",
       "        <span style=\"color: #008000; text-decoration-color: #008000\">'Num_Traces'</span>: <span style=\"color: #008080; text-decoration-color: #008080; font-weight: bold\">49</span>,\n",
       "        <span style=\"color: #008000; text-decoration-color: #008000\">'Vector_Length'</span>: <span style=\"color: #008080; text-decoration-color: #008080; font-weight: bold\">3584</span>\n",
       "    <span style=\"font-weight: bold\">}</span>,\n",
       "    <span style=\"font-weight: bold\">(</span><span style=\"color: #008080; text-decoration-color: #008080; font-weight: bold\">67</span>, <span style=\"color: #008080; text-decoration-color: #008080; font-weight: bold\">13</span><span style=\"font-weight: bold\">)</span>: <span style=\"font-weight: bold\">{</span>\n",
       "        <span style=\"color: #008000; text-decoration-color: #008000\">'Initial_Time'</span>: <span style=\"color: #800080; text-decoration-color: #800080; font-weight: bold\">numpy.datetime64</span><span style=\"font-weight: bold\">(</span><span style=\"color: #008000; text-decoration-color: #008000\">'2021-02-08T20:23:30.763000000'</span><span style=\"font-weight: bold\">)</span>,\n",
       "        <span style=\"color: #008000; text-decoration-color: #008000\">'Sample_Duration'</span>: <span style=\"color: #008080; text-decoration-color: #008080; font-weight: bold\">8080.5</span>,\n",
       "        <span style=\"color: #008000; text-decoration-color: #008000\">'Description'</span>: <span style=\"color: #008000; text-decoration-color: #008000\">'Average. Mean. Count = 10.'</span>,\n",
       "        <span style=\"color: #008000; text-decoration-color: #008000\">'Start_Frequency'</span>: <span style=\"color: #008080; text-decoration-color: #008080; font-weight: bold\">105</span>,\n",
       "        <span style=\"color: #008000; text-decoration-color: #008000\">'Stop_Frequency'</span>: <span style=\"color: #008080; text-decoration-color: #008080; font-weight: bold\">140</span>,\n",
       "        <span style=\"color: #008000; text-decoration-color: #008000\">'Trace_Type'</span>: <span style=\"color: #008000; text-decoration-color: #008000\">'average'</span>,\n",
       "        <span style=\"color: #008000; text-decoration-color: #008000\">'RBW'</span>: <span style=\"color: #008080; text-decoration-color: #008080; font-weight: bold\">18457</span>,\n",
       "        <span style=\"color: #008000; text-decoration-color: #008000\">'Level_Units'</span>: <span style=\"color: #008000; text-decoration-color: #008000\">'dBm'</span>,\n",
       "        <span style=\"color: #008000; text-decoration-color: #008000\">'Num_Traces'</span>: <span style=\"color: #008080; text-decoration-color: #008080; font-weight: bold\">32</span>,\n",
       "        <span style=\"color: #008000; text-decoration-color: #008000\">'Vector_Length'</span>: <span style=\"color: #008080; text-decoration-color: #008080; font-weight: bold\">3584</span>\n",
       "    <span style=\"font-weight: bold\">}</span>\n",
       "<span style=\"font-weight: bold\">}</span>\n",
       "</pre>\n"
      ],
      "text/plain": [
       "Fluxos: \n",
       "\u001b[1m{\u001b[0m\n",
       "    \u001b[1m(\u001b[0m\u001b[1;36m67\u001b[0m, \u001b[1;36m20\u001b[0m\u001b[1m)\u001b[0m: \u001b[1m{\u001b[0m\n",
       "        \u001b[32m'Initial_Time'\u001b[0m: \u001b[1;35mnumpy.datetime64\u001b[0m\u001b[1m(\u001b[0m\u001b[32m'2021-02-08T20:23:10.500680000'\u001b[0m\u001b[1m)\u001b[0m,\n",
       "        \u001b[32m'Sample_Duration'\u001b[0m: \u001b[1;36m18073.0\u001b[0m,\n",
       "        \u001b[32m'Description'\u001b[0m: \u001b[32m'ClearWrite. Peak.'\u001b[0m,\n",
       "        \u001b[32m'Start_Frequency'\u001b[0m: \u001b[1;36m76\u001b[0m,\n",
       "        \u001b[32m'Stop_Frequency'\u001b[0m: \u001b[1;36m108\u001b[0m,\n",
       "        \u001b[32m'Trace_Type'\u001b[0m: \u001b[32m'peak'\u001b[0m,\n",
       "        \u001b[32m'RBW'\u001b[0m: \u001b[1;36m7381\u001b[0m,\n",
       "        \u001b[32m'Level_Units'\u001b[0m: \u001b[32m'dBm'\u001b[0m,\n",
       "        \u001b[32m'Num_Traces'\u001b[0m: \u001b[1;36m956\u001b[0m,\n",
       "        \u001b[32m'Vector_Length'\u001b[0m: \u001b[1;36m8192\u001b[0m\n",
       "    \u001b[1m}\u001b[0m,\n",
       "    \u001b[1m(\u001b[0m\u001b[1;36m67\u001b[0m, \u001b[1;36m30\u001b[0m\u001b[1m)\u001b[0m: \u001b[1m{\u001b[0m\n",
       "        \u001b[32m'Initial_Time'\u001b[0m: \u001b[1;35mnumpy.datetime64\u001b[0m\u001b[1m(\u001b[0m\u001b[32m'2021-02-08T20:23:10.522721000'\u001b[0m\u001b[1m)\u001b[0m,\n",
       "        \u001b[32m'Sample_Duration'\u001b[0m: \u001b[1;36m8552.0\u001b[0m,\n",
       "        \u001b[32m'Description'\u001b[0m: \u001b[32m'ClearWrite. Peak.'\u001b[0m,\n",
       "        \u001b[32m'Start_Frequency'\u001b[0m: \u001b[1;36m70\u001b[0m,\n",
       "        \u001b[32m'Stop_Frequency'\u001b[0m: \u001b[1;36m110\u001b[0m,\n",
       "        \u001b[32m'Trace_Type'\u001b[0m: \u001b[32m'peak'\u001b[0m,\n",
       "        \u001b[32m'RBW'\u001b[0m: \u001b[1;36m73828\u001b[0m,\n",
       "        \u001b[32m'Level_Units'\u001b[0m: \u001b[32m'dBm'\u001b[0m,\n",
       "        \u001b[32m'Num_Traces'\u001b[0m: \u001b[1;36m988\u001b[0m,\n",
       "        \u001b[32m'Vector_Length'\u001b[0m: \u001b[1;36m1024\u001b[0m\n",
       "    \u001b[1m}\u001b[0m,\n",
       "    \u001b[1m(\u001b[0m\u001b[1;36m67\u001b[0m, \u001b[1;36m10\u001b[0m\u001b[1m)\u001b[0m: \u001b[1m{\u001b[0m\n",
       "        \u001b[32m'Initial_Time'\u001b[0m: \u001b[1;35mnumpy.datetime64\u001b[0m\u001b[1m(\u001b[0m\u001b[32m'2021-02-08T20:23:11.979000000'\u001b[0m\u001b[1m)\u001b[0m,\n",
       "        \u001b[32m'Sample_Duration'\u001b[0m: \u001b[1;36m8076.0\u001b[0m,\n",
       "        \u001b[32m'Description'\u001b[0m: \u001b[32m'ClearWrite. Peak.'\u001b[0m,\n",
       "        \u001b[32m'Start_Frequency'\u001b[0m: \u001b[1;36m105\u001b[0m,\n",
       "        \u001b[32m'Stop_Frequency'\u001b[0m: \u001b[1;36m140\u001b[0m,\n",
       "        \u001b[32m'Trace_Type'\u001b[0m: \u001b[32m'peak'\u001b[0m,\n",
       "        \u001b[32m'RBW'\u001b[0m: \u001b[1;36m18457\u001b[0m,\n",
       "        \u001b[32m'Level_Units'\u001b[0m: \u001b[32m'dBm'\u001b[0m,\n",
       "        \u001b[32m'Num_Traces'\u001b[0m: \u001b[1;36m477\u001b[0m,\n",
       "        \u001b[32m'Vector_Length'\u001b[0m: \u001b[1;36m3584\u001b[0m\n",
       "    \u001b[1m}\u001b[0m,\n",
       "    \u001b[1m(\u001b[0m\u001b[1;36m67\u001b[0m, \u001b[1;36m11\u001b[0m\u001b[1m)\u001b[0m: \u001b[1m{\u001b[0m\n",
       "        \u001b[32m'Initial_Time'\u001b[0m: \u001b[1;35mnumpy.datetime64\u001b[0m\u001b[1m(\u001b[0m\u001b[32m'2021-02-08T20:23:11.979000000'\u001b[0m\u001b[1m)\u001b[0m,\n",
       "        \u001b[32m'Sample_Duration'\u001b[0m: \u001b[1;36m8076.0\u001b[0m,\n",
       "        \u001b[32m'Description'\u001b[0m: \u001b[32m'ClearWrite. Mean.'\u001b[0m,\n",
       "        \u001b[32m'Start_Frequency'\u001b[0m: \u001b[1;36m105\u001b[0m,\n",
       "        \u001b[32m'Stop_Frequency'\u001b[0m: \u001b[1;36m140\u001b[0m,\n",
       "        \u001b[32m'Trace_Type'\u001b[0m: \u001b[32m'average'\u001b[0m,\n",
       "        \u001b[32m'RBW'\u001b[0m: \u001b[1;36m18457\u001b[0m,\n",
       "        \u001b[32m'Level_Units'\u001b[0m: \u001b[32m'dBm'\u001b[0m,\n",
       "        \u001b[32m'Num_Traces'\u001b[0m: \u001b[1;36m477\u001b[0m,\n",
       "        \u001b[32m'Vector_Length'\u001b[0m: \u001b[1;36m3584\u001b[0m\n",
       "    \u001b[1m}\u001b[0m,\n",
       "    \u001b[1m(\u001b[0m\u001b[1;36m67\u001b[0m, \u001b[1;36m12\u001b[0m\u001b[1m)\u001b[0m: \u001b[1m{\u001b[0m\n",
       "        \u001b[32m'Initial_Time'\u001b[0m: \u001b[1;35mnumpy.datetime64\u001b[0m\u001b[1m(\u001b[0m\u001b[32m'2021-02-08T20:23:20.801000000'\u001b[0m\u001b[1m)\u001b[0m,\n",
       "        \u001b[32m'Sample_Duration'\u001b[0m: \u001b[1;36m8081.0\u001b[0m,\n",
       "        \u001b[32m'Description'\u001b[0m: \u001b[32m'MaxHold. Peak. Count = 10.'\u001b[0m,\n",
       "        \u001b[32m'Start_Frequency'\u001b[0m: \u001b[1;36m105\u001b[0m,\n",
       "        \u001b[32m'Stop_Frequency'\u001b[0m: \u001b[1;36m140\u001b[0m,\n",
       "        \u001b[32m'Trace_Type'\u001b[0m: \u001b[32m'peak'\u001b[0m,\n",
       "        \u001b[32m'RBW'\u001b[0m: \u001b[1;36m18457\u001b[0m,\n",
       "        \u001b[32m'Level_Units'\u001b[0m: \u001b[32m'dBm'\u001b[0m,\n",
       "        \u001b[32m'Num_Traces'\u001b[0m: \u001b[1;36m26\u001b[0m,\n",
       "        \u001b[32m'Vector_Length'\u001b[0m: \u001b[1;36m3584\u001b[0m\n",
       "    \u001b[1m}\u001b[0m,\n",
       "    \u001b[1m(\u001b[0m\u001b[1;36m68\u001b[0m, \u001b[1;36m14\u001b[0m\u001b[1m)\u001b[0m: \u001b[1m{\u001b[0m\n",
       "        \u001b[32m'Initial_Time'\u001b[0m: \u001b[1;35mnumpy.datetime64\u001b[0m\u001b[1m(\u001b[0m\u001b[32m'2021-02-08T20:23:20.801000000'\u001b[0m\u001b[1m)\u001b[0m,\n",
       "        \u001b[32m'Sample_Duration'\u001b[0m: \u001b[1;36m8081.0\u001b[0m,\n",
       "        \u001b[32m'Description'\u001b[0m: \u001b[32m'Average. Mean. Count = 10.'\u001b[0m,\n",
       "        \u001b[32m'Start_Frequency'\u001b[0m: \u001b[1;36m105\u001b[0m,\n",
       "        \u001b[32m'Stop_Frequency'\u001b[0m: \u001b[1;36m140\u001b[0m,\n",
       "        \u001b[32m'Trace_Type'\u001b[0m: \u001b[32m'average'\u001b[0m,\n",
       "        \u001b[32m'RBW'\u001b[0m: \u001b[1;36m18457\u001b[0m,\n",
       "        \u001b[32m'Level_Units'\u001b[0m: \u001b[32m'dBm'\u001b[0m,\n",
       "        \u001b[32m'Num_Traces'\u001b[0m: \u001b[1;36m49\u001b[0m,\n",
       "        \u001b[32m'Vector_Length'\u001b[0m: \u001b[1;36m3584\u001b[0m\n",
       "    \u001b[1m}\u001b[0m,\n",
       "    \u001b[1m(\u001b[0m\u001b[1;36m67\u001b[0m, \u001b[1;36m13\u001b[0m\u001b[1m)\u001b[0m: \u001b[1m{\u001b[0m\n",
       "        \u001b[32m'Initial_Time'\u001b[0m: \u001b[1;35mnumpy.datetime64\u001b[0m\u001b[1m(\u001b[0m\u001b[32m'2021-02-08T20:23:30.763000000'\u001b[0m\u001b[1m)\u001b[0m,\n",
       "        \u001b[32m'Sample_Duration'\u001b[0m: \u001b[1;36m8080.5\u001b[0m,\n",
       "        \u001b[32m'Description'\u001b[0m: \u001b[32m'Average. Mean. Count = 10.'\u001b[0m,\n",
       "        \u001b[32m'Start_Frequency'\u001b[0m: \u001b[1;36m105\u001b[0m,\n",
       "        \u001b[32m'Stop_Frequency'\u001b[0m: \u001b[1;36m140\u001b[0m,\n",
       "        \u001b[32m'Trace_Type'\u001b[0m: \u001b[32m'average'\u001b[0m,\n",
       "        \u001b[32m'RBW'\u001b[0m: \u001b[1;36m18457\u001b[0m,\n",
       "        \u001b[32m'Level_Units'\u001b[0m: \u001b[32m'dBm'\u001b[0m,\n",
       "        \u001b[32m'Num_Traces'\u001b[0m: \u001b[1;36m32\u001b[0m,\n",
       "        \u001b[32m'Vector_Length'\u001b[0m: \u001b[1;36m3584\u001b[0m\n",
       "    \u001b[1m}\u001b[0m\n",
       "\u001b[1m}\u001b[0m\n"
      ]
     },
     "metadata": {},
     "output_type": "display_data"
    },
    {
     "data": {
      "text/html": [
       "<pre style=\"white-space:pre;overflow-x:auto;line-height:normal;font-family:Menlo,'DejaVu Sans Mono',consolas,'Courier New',monospace\">Metadados do Arquivo rfeye002092_210208_T203131_CRFSBINv.<span style=\"color: #008080; text-decoration-color: #008080; font-weight: bold\">2.</span>bin\n",
       "</pre>\n"
      ],
      "text/plain": [
       "Metadados do Arquivo rfeye002092_210208_T203131_CRFSBINv.\u001b[1;36m2.\u001b[0mbin\n"
      ]
     },
     "metadata": {},
     "output_type": "display_data"
    },
    {
     "data": {
      "text/html": [
       "<pre style=\"white-space:pre;overflow-x:auto;line-height:normal;font-family:Menlo,'DejaVu Sans Mono',consolas,'Courier New',monospace\"><span style=\"font-weight: bold\">{</span>\n",
       "    <span style=\"color: #008000; text-decoration-color: #008000\">'File_Name'</span>: <span style=\"color: #008000; text-decoration-color: #008000\">'rfeye002092_210208_T203131_CRFSBINv.2.bin'</span>,\n",
       "    <span style=\"color: #008000; text-decoration-color: #008000\">'File_Version'</span>: <span style=\"color: #008080; text-decoration-color: #008080; font-weight: bold\">21</span>,\n",
       "    <span style=\"color: #008000; text-decoration-color: #008000\">'File_Type'</span>: <span style=\"color: #008000; text-decoration-color: #008000\">'RFEye Logger Trace'</span>,\n",
       "    <span style=\"color: #008000; text-decoration-color: #008000\">'Device'</span>: <span style=\"color: #008000; text-decoration-color: #008000\">'Rfeye Node'</span>\n",
       "<span style=\"font-weight: bold\">}</span>\n",
       "</pre>\n"
      ],
      "text/plain": [
       "\u001b[1m{\u001b[0m\n",
       "    \u001b[32m'File_Name'\u001b[0m: \u001b[32m'rfeye002092_210208_T203131_CRFSBINv.2.bin'\u001b[0m,\n",
       "    \u001b[32m'File_Version'\u001b[0m: \u001b[1;36m21\u001b[0m,\n",
       "    \u001b[32m'File_Type'\u001b[0m: \u001b[32m'RFEye Logger Trace'\u001b[0m,\n",
       "    \u001b[32m'Device'\u001b[0m: \u001b[32m'Rfeye Node'\u001b[0m\n",
       "\u001b[1m}\u001b[0m\n"
      ]
     },
     "metadata": {},
     "output_type": "display_data"
    },
    {
     "data": {
      "text/html": [
       "<pre style=\"white-space:pre;overflow-x:auto;line-height:normal;font-family:Menlo,'DejaVu Sans Mono',consolas,'Courier New',monospace\">Fluxos: \n",
       "<span style=\"font-weight: bold\">{}</span>\n",
       "</pre>\n"
      ],
      "text/plain": [
       "Fluxos: \n",
       "\u001b[1m{\u001b[0m\u001b[1m}\u001b[0m\n"
      ]
     },
     "metadata": {},
     "output_type": "display_data"
    },
    {
     "data": {
      "text/html": [
       "<pre style=\"white-space:pre;overflow-x:auto;line-height:normal;font-family:Menlo,'DejaVu Sans Mono',consolas,'Courier New',monospace\">Metadados do Arquivo rfeye002292_210208_T202215_CRFSBINv.<span style=\"color: #008080; text-decoration-color: #008080; font-weight: bold\">4.</span>bin\n",
       "</pre>\n"
      ],
      "text/plain": [
       "Metadados do Arquivo rfeye002292_210208_T202215_CRFSBINv.\u001b[1;36m4.\u001b[0mbin\n"
      ]
     },
     "metadata": {},
     "output_type": "display_data"
    },
    {
     "data": {
      "text/html": [
       "<pre style=\"white-space:pre;overflow-x:auto;line-height:normal;font-family:Menlo,'DejaVu Sans Mono',consolas,'Courier New',monospace\"><span style=\"font-weight: bold\">{</span>\n",
       "    <span style=\"color: #008000; text-decoration-color: #008000\">'File_Name'</span>: <span style=\"color: #008000; text-decoration-color: #008000\">'rfeye002292_210208_T202215_CRFSBINv.4.bin'</span>,\n",
       "    <span style=\"color: #008000; text-decoration-color: #008000\">'File_Version'</span>: <span style=\"color: #008080; text-decoration-color: #008080; font-weight: bold\">22</span>,\n",
       "    <span style=\"color: #008000; text-decoration-color: #008000\">'File_Type'</span>: <span style=\"color: #008000; text-decoration-color: #008000\">'RFEye Logger Trace'</span>,\n",
       "    <span style=\"color: #008000; text-decoration-color: #008000\">'Device'</span>: <span style=\"color: #008000; text-decoration-color: #008000\">'Rfeye Node'</span>,\n",
       "    <span style=\"color: #008000; text-decoration-color: #008000\">'Equipment_ID'</span>: <span style=\"color: #008000; text-decoration-color: #008000\">'rfeye002292'</span>,\n",
       "    <span style=\"color: #008000; text-decoration-color: #008000\">'Script_Version'</span>: <span style=\"color: #008000; text-decoration-color: #008000\">'Script_CRFSBINv4'</span>,\n",
       "    <span style=\"color: #008000; text-decoration-color: #008000\">'Latitude'</span>: <span style=\"color: #008080; text-decoration-color: #008080; font-weight: bold\">-12.971631</span>,\n",
       "    <span style=\"color: #008000; text-decoration-color: #008000\">'Longitude'</span>: <span style=\"color: #008080; text-decoration-color: #008080; font-weight: bold\">-38.48149</span>,\n",
       "    <span style=\"color: #008000; text-decoration-color: #008000\">'Altitude'</span>: <span style=\"color: #008080; text-decoration-color: #008080; font-weight: bold\">151.65</span>,\n",
       "    <span style=\"color: #008000; text-decoration-color: #008000\">'Count_GPS'</span>: <span style=\"color: #008080; text-decoration-color: #008080; font-weight: bold\">8</span>,\n",
       "    <span style=\"color: #008000; text-decoration-color: #008000\">'Sum_Latitude'</span>: <span style=\"color: #008080; text-decoration-color: #008080; font-weight: bold\">-103.773056</span>,\n",
       "    <span style=\"color: #008000; text-decoration-color: #008000\">'Sum_Longitude'</span>: <span style=\"color: #008080; text-decoration-color: #008080; font-weight: bold\">-307.85193</span>\n",
       "<span style=\"font-weight: bold\">}</span>\n",
       "</pre>\n"
      ],
      "text/plain": [
       "\u001b[1m{\u001b[0m\n",
       "    \u001b[32m'File_Name'\u001b[0m: \u001b[32m'rfeye002292_210208_T202215_CRFSBINv.4.bin'\u001b[0m,\n",
       "    \u001b[32m'File_Version'\u001b[0m: \u001b[1;36m22\u001b[0m,\n",
       "    \u001b[32m'File_Type'\u001b[0m: \u001b[32m'RFEye Logger Trace'\u001b[0m,\n",
       "    \u001b[32m'Device'\u001b[0m: \u001b[32m'Rfeye Node'\u001b[0m,\n",
       "    \u001b[32m'Equipment_ID'\u001b[0m: \u001b[32m'rfeye002292'\u001b[0m,\n",
       "    \u001b[32m'Script_Version'\u001b[0m: \u001b[32m'Script_CRFSBINv4'\u001b[0m,\n",
       "    \u001b[32m'Latitude'\u001b[0m: \u001b[1;36m-12.971631\u001b[0m,\n",
       "    \u001b[32m'Longitude'\u001b[0m: \u001b[1;36m-38.48149\u001b[0m,\n",
       "    \u001b[32m'Altitude'\u001b[0m: \u001b[1;36m151.65\u001b[0m,\n",
       "    \u001b[32m'Count_GPS'\u001b[0m: \u001b[1;36m8\u001b[0m,\n",
       "    \u001b[32m'Sum_Latitude'\u001b[0m: \u001b[1;36m-103.773056\u001b[0m,\n",
       "    \u001b[32m'Sum_Longitude'\u001b[0m: \u001b[1;36m-307.85193\u001b[0m\n",
       "\u001b[1m}\u001b[0m\n"
      ]
     },
     "metadata": {},
     "output_type": "display_data"
    },
    {
     "data": {
      "text/html": [
       "<pre style=\"white-space:pre;overflow-x:auto;line-height:normal;font-family:Menlo,'DejaVu Sans Mono',consolas,'Courier New',monospace\">Fluxos: \n",
       "<span style=\"font-weight: bold\">{</span>\n",
       "    <span style=\"font-weight: bold\">(</span><span style=\"color: #008080; text-decoration-color: #008080; font-weight: bold\">63</span>, <span style=\"color: #008080; text-decoration-color: #008080; font-weight: bold\">20</span><span style=\"font-weight: bold\">)</span>: <span style=\"font-weight: bold\">{</span>\n",
       "        <span style=\"color: #008000; text-decoration-color: #008000\">'Initial_Time'</span>: <span style=\"color: #800080; text-decoration-color: #800080; font-weight: bold\">numpy.datetime64</span><span style=\"font-weight: bold\">(</span><span style=\"color: #008000; text-decoration-color: #008000\">'2021-02-08T20:22:15.500658000'</span><span style=\"font-weight: bold\">)</span>,\n",
       "        <span style=\"color: #008000; text-decoration-color: #008000\">'Sample_Duration'</span>: <span style=\"color: #008080; text-decoration-color: #008080; font-weight: bold\">18140.0</span>,\n",
       "        <span style=\"color: #008000; text-decoration-color: #008000\">'Description'</span>: <span style=\"color: #008000; text-decoration-color: #008000\">'Peak'</span>,\n",
       "        <span style=\"color: #008000; text-decoration-color: #008000\">'Start_Frequency'</span>: <span style=\"color: #008080; text-decoration-color: #008080; font-weight: bold\">76</span>,\n",
       "        <span style=\"color: #008000; text-decoration-color: #008000\">'Stop_Frequency'</span>: <span style=\"color: #008080; text-decoration-color: #008080; font-weight: bold\">108</span>,\n",
       "        <span style=\"color: #008000; text-decoration-color: #008000\">'Trace_Type'</span>: <span style=\"color: #008000; text-decoration-color: #008000\">'peak'</span>,\n",
       "        <span style=\"color: #008000; text-decoration-color: #008000\">'RBW'</span>: <span style=\"color: #008080; text-decoration-color: #008080; font-weight: bold\">3</span>,\n",
       "        <span style=\"color: #008000; text-decoration-color: #008000\">'Level_Units'</span>: <span style=\"color: #008000; text-decoration-color: #008000\">'dBm'</span>,\n",
       "        <span style=\"color: #008000; text-decoration-color: #008000\">'Num_Traces'</span>: <span style=\"color: #008080; text-decoration-color: #008080; font-weight: bold\">1047</span>,\n",
       "        <span style=\"color: #008000; text-decoration-color: #008000\">'Vector_Length'</span>: <span style=\"color: #008080; text-decoration-color: #008080; font-weight: bold\">8192</span>\n",
       "    <span style=\"font-weight: bold\">}</span>,\n",
       "    <span style=\"font-weight: bold\">(</span><span style=\"color: #008080; text-decoration-color: #008080; font-weight: bold\">63</span>, <span style=\"color: #008080; text-decoration-color: #008080; font-weight: bold\">30</span><span style=\"font-weight: bold\">)</span>: <span style=\"font-weight: bold\">{</span>\n",
       "        <span style=\"color: #008000; text-decoration-color: #008000\">'Initial_Time'</span>: <span style=\"color: #800080; text-decoration-color: #800080; font-weight: bold\">numpy.datetime64</span><span style=\"font-weight: bold\">(</span><span style=\"color: #008000; text-decoration-color: #008000\">'2021-02-08T20:22:15.523638000'</span><span style=\"font-weight: bold\">)</span>,\n",
       "        <span style=\"color: #008000; text-decoration-color: #008000\">'Sample_Duration'</span>: <span style=\"color: #008080; text-decoration-color: #008080; font-weight: bold\">8549.0</span>,\n",
       "        <span style=\"color: #008000; text-decoration-color: #008000\">'Description'</span>: <span style=\"color: #008000; text-decoration-color: #008000\">'Peak'</span>,\n",
       "        <span style=\"color: #008000; text-decoration-color: #008000\">'Start_Frequency'</span>: <span style=\"color: #008080; text-decoration-color: #008080; font-weight: bold\">70</span>,\n",
       "        <span style=\"color: #008000; text-decoration-color: #008000\">'Stop_Frequency'</span>: <span style=\"color: #008080; text-decoration-color: #008080; font-weight: bold\">110</span>,\n",
       "        <span style=\"color: #008000; text-decoration-color: #008000\">'Trace_Type'</span>: <span style=\"color: #008000; text-decoration-color: #008000\">'peak'</span>,\n",
       "        <span style=\"color: #008000; text-decoration-color: #008000\">'RBW'</span>: <span style=\"color: #008080; text-decoration-color: #008080; font-weight: bold\">39</span>,\n",
       "        <span style=\"color: #008000; text-decoration-color: #008000\">'Level_Units'</span>: <span style=\"color: #008000; text-decoration-color: #008000\">'dBm'</span>,\n",
       "        <span style=\"color: #008000; text-decoration-color: #008000\">'Num_Traces'</span>: <span style=\"color: #008080; text-decoration-color: #008080; font-weight: bold\">1048</span>,\n",
       "        <span style=\"color: #008000; text-decoration-color: #008000\">'Vector_Length'</span>: <span style=\"color: #008080; text-decoration-color: #008080; font-weight: bold\">1024</span>\n",
       "    <span style=\"font-weight: bold\">}</span>,\n",
       "    <span style=\"font-weight: bold\">(</span><span style=\"color: #008080; text-decoration-color: #008080; font-weight: bold\">63</span>, <span style=\"color: #008080; text-decoration-color: #008080; font-weight: bold\">10</span><span style=\"font-weight: bold\">)</span>: <span style=\"font-weight: bold\">{</span>\n",
       "        <span style=\"color: #008000; text-decoration-color: #008000\">'Initial_Time'</span>: <span style=\"color: #800080; text-decoration-color: #800080; font-weight: bold\">numpy.datetime64</span><span style=\"font-weight: bold\">(</span><span style=\"color: #008000; text-decoration-color: #008000\">'2021-02-08T20:22:16.457000000'</span><span style=\"font-weight: bold\">)</span>,\n",
       "        <span style=\"color: #008000; text-decoration-color: #008000\">'Sample_Duration'</span>: <span style=\"color: #008080; text-decoration-color: #008080; font-weight: bold\">8083.0</span>,\n",
       "        <span style=\"color: #008000; text-decoration-color: #008000\">'Description'</span>: <span style=\"color: #008000; text-decoration-color: #008000\">'Peak'</span>,\n",
       "        <span style=\"color: #008000; text-decoration-color: #008000\">'Start_Frequency'</span>: <span style=\"color: #008080; text-decoration-color: #008080; font-weight: bold\">105</span>,\n",
       "        <span style=\"color: #008000; text-decoration-color: #008000\">'Stop_Frequency'</span>: <span style=\"color: #008080; text-decoration-color: #008080; font-weight: bold\">140</span>,\n",
       "        <span style=\"color: #008000; text-decoration-color: #008000\">'Trace_Type'</span>: <span style=\"color: #008000; text-decoration-color: #008000\">'peak'</span>,\n",
       "        <span style=\"color: #008000; text-decoration-color: #008000\">'RBW'</span>: <span style=\"color: #008080; text-decoration-color: #008080; font-weight: bold\">9</span>,\n",
       "        <span style=\"color: #008000; text-decoration-color: #008000\">'Level_Units'</span>: <span style=\"color: #008000; text-decoration-color: #008000\">'dBm'</span>,\n",
       "        <span style=\"color: #008000; text-decoration-color: #008000\">'Num_Traces'</span>: <span style=\"color: #008080; text-decoration-color: #008080; font-weight: bold\">524</span>,\n",
       "        <span style=\"color: #008000; text-decoration-color: #008000\">'Vector_Length'</span>: <span style=\"color: #008080; text-decoration-color: #008080; font-weight: bold\">3584</span>\n",
       "    <span style=\"font-weight: bold\">}</span>,\n",
       "    <span style=\"font-weight: bold\">(</span><span style=\"color: #008080; text-decoration-color: #008080; font-weight: bold\">63</span>, <span style=\"color: #008080; text-decoration-color: #008080; font-weight: bold\">11</span><span style=\"font-weight: bold\">)</span>: <span style=\"font-weight: bold\">{</span>\n",
       "        <span style=\"color: #008000; text-decoration-color: #008000\">'Initial_Time'</span>: <span style=\"color: #800080; text-decoration-color: #800080; font-weight: bold\">numpy.datetime64</span><span style=\"font-weight: bold\">(</span><span style=\"color: #008000; text-decoration-color: #008000\">'2021-02-08T20:22:16.457000000'</span><span style=\"font-weight: bold\">)</span>,\n",
       "        <span style=\"color: #008000; text-decoration-color: #008000\">'Sample_Duration'</span>: <span style=\"color: #008080; text-decoration-color: #008080; font-weight: bold\">8083.0</span>,\n",
       "        <span style=\"color: #008000; text-decoration-color: #008000\">'Description'</span>: <span style=\"color: #008000; text-decoration-color: #008000\">'Peak'</span>,\n",
       "        <span style=\"color: #008000; text-decoration-color: #008000\">'Start_Frequency'</span>: <span style=\"color: #008080; text-decoration-color: #008080; font-weight: bold\">105</span>,\n",
       "        <span style=\"color: #008000; text-decoration-color: #008000\">'Stop_Frequency'</span>: <span style=\"color: #008080; text-decoration-color: #008080; font-weight: bold\">140</span>,\n",
       "        <span style=\"color: #008000; text-decoration-color: #008000\">'Trace_Type'</span>: <span style=\"color: #008000; text-decoration-color: #008000\">'average'</span>,\n",
       "        <span style=\"color: #008000; text-decoration-color: #008000\">'RBW'</span>: <span style=\"color: #008080; text-decoration-color: #008080; font-weight: bold\">9</span>,\n",
       "        <span style=\"color: #008000; text-decoration-color: #008000\">'Level_Units'</span>: <span style=\"color: #008000; text-decoration-color: #008000\">'dBm'</span>,\n",
       "        <span style=\"color: #008000; text-decoration-color: #008000\">'Num_Traces'</span>: <span style=\"color: #008080; text-decoration-color: #008080; font-weight: bold\">524</span>,\n",
       "        <span style=\"color: #008000; text-decoration-color: #008000\">'Vector_Length'</span>: <span style=\"color: #008080; text-decoration-color: #008080; font-weight: bold\">3584</span>\n",
       "    <span style=\"font-weight: bold\">}</span>,\n",
       "    <span style=\"font-weight: bold\">(</span><span style=\"color: #008080; text-decoration-color: #008080; font-weight: bold\">63</span>, <span style=\"color: #008080; text-decoration-color: #008080; font-weight: bold\">12</span><span style=\"font-weight: bold\">)</span>: <span style=\"font-weight: bold\">{</span>\n",
       "        <span style=\"color: #008000; text-decoration-color: #008000\">'Initial_Time'</span>: <span style=\"color: #800080; text-decoration-color: #800080; font-weight: bold\">numpy.datetime64</span><span style=\"font-weight: bold\">(</span><span style=\"color: #008000; text-decoration-color: #008000\">'2021-02-08T20:22:25.618000000'</span><span style=\"font-weight: bold\">)</span>,\n",
       "        <span style=\"color: #008000; text-decoration-color: #008000\">'Sample_Duration'</span>: <span style=\"color: #008080; text-decoration-color: #008080; font-weight: bold\">8076.0</span>,\n",
       "        <span style=\"color: #008000; text-decoration-color: #008000\">'Description'</span>: <span style=\"color: #008000; text-decoration-color: #008000\">'Peak'</span>,\n",
       "        <span style=\"color: #008000; text-decoration-color: #008000\">'Start_Frequency'</span>: <span style=\"color: #008080; text-decoration-color: #008080; font-weight: bold\">105</span>,\n",
       "        <span style=\"color: #008000; text-decoration-color: #008000\">'Stop_Frequency'</span>: <span style=\"color: #008080; text-decoration-color: #008080; font-weight: bold\">140</span>,\n",
       "        <span style=\"color: #008000; text-decoration-color: #008000\">'Trace_Type'</span>: <span style=\"color: #008000; text-decoration-color: #008000\">'peak'</span>,\n",
       "        <span style=\"color: #008000; text-decoration-color: #008000\">'RBW'</span>: <span style=\"color: #008080; text-decoration-color: #008080; font-weight: bold\">9</span>,\n",
       "        <span style=\"color: #008000; text-decoration-color: #008000\">'Level_Units'</span>: <span style=\"color: #008000; text-decoration-color: #008000\">'dBm'</span>,\n",
       "        <span style=\"color: #008000; text-decoration-color: #008000\">'Num_Traces'</span>: <span style=\"color: #008080; text-decoration-color: #008080; font-weight: bold\">52</span>,\n",
       "        <span style=\"color: #008000; text-decoration-color: #008000\">'Vector_Length'</span>: <span style=\"color: #008080; text-decoration-color: #008080; font-weight: bold\">3584</span>\n",
       "    <span style=\"font-weight: bold\">}</span>,\n",
       "    <span style=\"font-weight: bold\">(</span><span style=\"color: #008080; text-decoration-color: #008080; font-weight: bold\">63</span>, <span style=\"color: #008080; text-decoration-color: #008080; font-weight: bold\">13</span><span style=\"font-weight: bold\">)</span>: <span style=\"font-weight: bold\">{</span>\n",
       "        <span style=\"color: #008000; text-decoration-color: #008000\">'Initial_Time'</span>: <span style=\"color: #800080; text-decoration-color: #800080; font-weight: bold\">numpy.datetime64</span><span style=\"font-weight: bold\">(</span><span style=\"color: #008000; text-decoration-color: #008000\">'2021-02-08T20:22:25.618000000'</span><span style=\"font-weight: bold\">)</span>,\n",
       "        <span style=\"color: #008000; text-decoration-color: #008000\">'Sample_Duration'</span>: <span style=\"color: #008080; text-decoration-color: #008080; font-weight: bold\">8076.0</span>,\n",
       "        <span style=\"color: #008000; text-decoration-color: #008000\">'Description'</span>: <span style=\"color: #008000; text-decoration-color: #008000\">'Peak'</span>,\n",
       "        <span style=\"color: #008000; text-decoration-color: #008000\">'Start_Frequency'</span>: <span style=\"color: #008080; text-decoration-color: #008080; font-weight: bold\">105</span>,\n",
       "        <span style=\"color: #008000; text-decoration-color: #008000\">'Stop_Frequency'</span>: <span style=\"color: #008080; text-decoration-color: #008080; font-weight: bold\">140</span>,\n",
       "        <span style=\"color: #008000; text-decoration-color: #008000\">'Trace_Type'</span>: <span style=\"color: #008000; text-decoration-color: #008000\">'average'</span>,\n",
       "        <span style=\"color: #008000; text-decoration-color: #008000\">'RBW'</span>: <span style=\"color: #008080; text-decoration-color: #008080; font-weight: bold\">9</span>,\n",
       "        <span style=\"color: #008000; text-decoration-color: #008000\">'Level_Units'</span>: <span style=\"color: #008000; text-decoration-color: #008000\">'dBm'</span>,\n",
       "        <span style=\"color: #008000; text-decoration-color: #008000\">'Num_Traces'</span>: <span style=\"color: #008080; text-decoration-color: #008080; font-weight: bold\">52</span>,\n",
       "        <span style=\"color: #008000; text-decoration-color: #008000\">'Vector_Length'</span>: <span style=\"color: #008080; text-decoration-color: #008080; font-weight: bold\">3584</span>\n",
       "    <span style=\"font-weight: bold\">}</span>,\n",
       "    <span style=\"font-weight: bold\">(</span><span style=\"color: #008080; text-decoration-color: #008080; font-weight: bold\">64</span>, <span style=\"color: #008080; text-decoration-color: #008080; font-weight: bold\">14</span><span style=\"font-weight: bold\">)</span>: <span style=\"font-weight: bold\">{</span>\n",
       "        <span style=\"color: #008000; text-decoration-color: #008000\">'Initial_Time'</span>: <span style=\"color: #800080; text-decoration-color: #800080; font-weight: bold\">numpy.datetime64</span><span style=\"font-weight: bold\">(</span><span style=\"color: #008000; text-decoration-color: #008000\">'2021-02-08T20:22:25.618000000'</span><span style=\"font-weight: bold\">)</span>,\n",
       "        <span style=\"color: #008000; text-decoration-color: #008000\">'Sample_Duration'</span>: <span style=\"color: #008080; text-decoration-color: #008080; font-weight: bold\">8076.0</span>,\n",
       "        <span style=\"color: #008000; text-decoration-color: #008000\">'Description'</span>: <span style=\"color: #008000; text-decoration-color: #008000\">'Peak'</span>,\n",
       "        <span style=\"color: #008000; text-decoration-color: #008000\">'Start_Frequency'</span>: <span style=\"color: #008080; text-decoration-color: #008080; font-weight: bold\">105</span>,\n",
       "        <span style=\"color: #008000; text-decoration-color: #008000\">'Stop_Frequency'</span>: <span style=\"color: #008080; text-decoration-color: #008080; font-weight: bold\">140</span>,\n",
       "        <span style=\"color: #008000; text-decoration-color: #008000\">'Trace_Type'</span>: <span style=\"color: #008000; text-decoration-color: #008000\">'average'</span>,\n",
       "        <span style=\"color: #008000; text-decoration-color: #008000\">'RBW'</span>: <span style=\"color: #008080; text-decoration-color: #008080; font-weight: bold\">48</span>,\n",
       "        <span style=\"color: #008000; text-decoration-color: #008000\">'Level_Units'</span>: <span style=\"color: #008000; text-decoration-color: #008000\">'dBm'</span>,\n",
       "        <span style=\"color: #008000; text-decoration-color: #008000\">'Num_Traces'</span>: <span style=\"color: #008080; text-decoration-color: #008080; font-weight: bold\">52</span>,\n",
       "        <span style=\"color: #008000; text-decoration-color: #008000\">'Vector_Length'</span>: <span style=\"color: #008080; text-decoration-color: #008080; font-weight: bold\">717</span>\n",
       "    <span style=\"font-weight: bold\">}</span>\n",
       "<span style=\"font-weight: bold\">}</span>\n",
       "</pre>\n"
      ],
      "text/plain": [
       "Fluxos: \n",
       "\u001b[1m{\u001b[0m\n",
       "    \u001b[1m(\u001b[0m\u001b[1;36m63\u001b[0m, \u001b[1;36m20\u001b[0m\u001b[1m)\u001b[0m: \u001b[1m{\u001b[0m\n",
       "        \u001b[32m'Initial_Time'\u001b[0m: \u001b[1;35mnumpy.datetime64\u001b[0m\u001b[1m(\u001b[0m\u001b[32m'2021-02-08T20:22:15.500658000'\u001b[0m\u001b[1m)\u001b[0m,\n",
       "        \u001b[32m'Sample_Duration'\u001b[0m: \u001b[1;36m18140.0\u001b[0m,\n",
       "        \u001b[32m'Description'\u001b[0m: \u001b[32m'Peak'\u001b[0m,\n",
       "        \u001b[32m'Start_Frequency'\u001b[0m: \u001b[1;36m76\u001b[0m,\n",
       "        \u001b[32m'Stop_Frequency'\u001b[0m: \u001b[1;36m108\u001b[0m,\n",
       "        \u001b[32m'Trace_Type'\u001b[0m: \u001b[32m'peak'\u001b[0m,\n",
       "        \u001b[32m'RBW'\u001b[0m: \u001b[1;36m3\u001b[0m,\n",
       "        \u001b[32m'Level_Units'\u001b[0m: \u001b[32m'dBm'\u001b[0m,\n",
       "        \u001b[32m'Num_Traces'\u001b[0m: \u001b[1;36m1047\u001b[0m,\n",
       "        \u001b[32m'Vector_Length'\u001b[0m: \u001b[1;36m8192\u001b[0m\n",
       "    \u001b[1m}\u001b[0m,\n",
       "    \u001b[1m(\u001b[0m\u001b[1;36m63\u001b[0m, \u001b[1;36m30\u001b[0m\u001b[1m)\u001b[0m: \u001b[1m{\u001b[0m\n",
       "        \u001b[32m'Initial_Time'\u001b[0m: \u001b[1;35mnumpy.datetime64\u001b[0m\u001b[1m(\u001b[0m\u001b[32m'2021-02-08T20:22:15.523638000'\u001b[0m\u001b[1m)\u001b[0m,\n",
       "        \u001b[32m'Sample_Duration'\u001b[0m: \u001b[1;36m8549.0\u001b[0m,\n",
       "        \u001b[32m'Description'\u001b[0m: \u001b[32m'Peak'\u001b[0m,\n",
       "        \u001b[32m'Start_Frequency'\u001b[0m: \u001b[1;36m70\u001b[0m,\n",
       "        \u001b[32m'Stop_Frequency'\u001b[0m: \u001b[1;36m110\u001b[0m,\n",
       "        \u001b[32m'Trace_Type'\u001b[0m: \u001b[32m'peak'\u001b[0m,\n",
       "        \u001b[32m'RBW'\u001b[0m: \u001b[1;36m39\u001b[0m,\n",
       "        \u001b[32m'Level_Units'\u001b[0m: \u001b[32m'dBm'\u001b[0m,\n",
       "        \u001b[32m'Num_Traces'\u001b[0m: \u001b[1;36m1048\u001b[0m,\n",
       "        \u001b[32m'Vector_Length'\u001b[0m: \u001b[1;36m1024\u001b[0m\n",
       "    \u001b[1m}\u001b[0m,\n",
       "    \u001b[1m(\u001b[0m\u001b[1;36m63\u001b[0m, \u001b[1;36m10\u001b[0m\u001b[1m)\u001b[0m: \u001b[1m{\u001b[0m\n",
       "        \u001b[32m'Initial_Time'\u001b[0m: \u001b[1;35mnumpy.datetime64\u001b[0m\u001b[1m(\u001b[0m\u001b[32m'2021-02-08T20:22:16.457000000'\u001b[0m\u001b[1m)\u001b[0m,\n",
       "        \u001b[32m'Sample_Duration'\u001b[0m: \u001b[1;36m8083.0\u001b[0m,\n",
       "        \u001b[32m'Description'\u001b[0m: \u001b[32m'Peak'\u001b[0m,\n",
       "        \u001b[32m'Start_Frequency'\u001b[0m: \u001b[1;36m105\u001b[0m,\n",
       "        \u001b[32m'Stop_Frequency'\u001b[0m: \u001b[1;36m140\u001b[0m,\n",
       "        \u001b[32m'Trace_Type'\u001b[0m: \u001b[32m'peak'\u001b[0m,\n",
       "        \u001b[32m'RBW'\u001b[0m: \u001b[1;36m9\u001b[0m,\n",
       "        \u001b[32m'Level_Units'\u001b[0m: \u001b[32m'dBm'\u001b[0m,\n",
       "        \u001b[32m'Num_Traces'\u001b[0m: \u001b[1;36m524\u001b[0m,\n",
       "        \u001b[32m'Vector_Length'\u001b[0m: \u001b[1;36m3584\u001b[0m\n",
       "    \u001b[1m}\u001b[0m,\n",
       "    \u001b[1m(\u001b[0m\u001b[1;36m63\u001b[0m, \u001b[1;36m11\u001b[0m\u001b[1m)\u001b[0m: \u001b[1m{\u001b[0m\n",
       "        \u001b[32m'Initial_Time'\u001b[0m: \u001b[1;35mnumpy.datetime64\u001b[0m\u001b[1m(\u001b[0m\u001b[32m'2021-02-08T20:22:16.457000000'\u001b[0m\u001b[1m)\u001b[0m,\n",
       "        \u001b[32m'Sample_Duration'\u001b[0m: \u001b[1;36m8083.0\u001b[0m,\n",
       "        \u001b[32m'Description'\u001b[0m: \u001b[32m'Peak'\u001b[0m,\n",
       "        \u001b[32m'Start_Frequency'\u001b[0m: \u001b[1;36m105\u001b[0m,\n",
       "        \u001b[32m'Stop_Frequency'\u001b[0m: \u001b[1;36m140\u001b[0m,\n",
       "        \u001b[32m'Trace_Type'\u001b[0m: \u001b[32m'average'\u001b[0m,\n",
       "        \u001b[32m'RBW'\u001b[0m: \u001b[1;36m9\u001b[0m,\n",
       "        \u001b[32m'Level_Units'\u001b[0m: \u001b[32m'dBm'\u001b[0m,\n",
       "        \u001b[32m'Num_Traces'\u001b[0m: \u001b[1;36m524\u001b[0m,\n",
       "        \u001b[32m'Vector_Length'\u001b[0m: \u001b[1;36m3584\u001b[0m\n",
       "    \u001b[1m}\u001b[0m,\n",
       "    \u001b[1m(\u001b[0m\u001b[1;36m63\u001b[0m, \u001b[1;36m12\u001b[0m\u001b[1m)\u001b[0m: \u001b[1m{\u001b[0m\n",
       "        \u001b[32m'Initial_Time'\u001b[0m: \u001b[1;35mnumpy.datetime64\u001b[0m\u001b[1m(\u001b[0m\u001b[32m'2021-02-08T20:22:25.618000000'\u001b[0m\u001b[1m)\u001b[0m,\n",
       "        \u001b[32m'Sample_Duration'\u001b[0m: \u001b[1;36m8076.0\u001b[0m,\n",
       "        \u001b[32m'Description'\u001b[0m: \u001b[32m'Peak'\u001b[0m,\n",
       "        \u001b[32m'Start_Frequency'\u001b[0m: \u001b[1;36m105\u001b[0m,\n",
       "        \u001b[32m'Stop_Frequency'\u001b[0m: \u001b[1;36m140\u001b[0m,\n",
       "        \u001b[32m'Trace_Type'\u001b[0m: \u001b[32m'peak'\u001b[0m,\n",
       "        \u001b[32m'RBW'\u001b[0m: \u001b[1;36m9\u001b[0m,\n",
       "        \u001b[32m'Level_Units'\u001b[0m: \u001b[32m'dBm'\u001b[0m,\n",
       "        \u001b[32m'Num_Traces'\u001b[0m: \u001b[1;36m52\u001b[0m,\n",
       "        \u001b[32m'Vector_Length'\u001b[0m: \u001b[1;36m3584\u001b[0m\n",
       "    \u001b[1m}\u001b[0m,\n",
       "    \u001b[1m(\u001b[0m\u001b[1;36m63\u001b[0m, \u001b[1;36m13\u001b[0m\u001b[1m)\u001b[0m: \u001b[1m{\u001b[0m\n",
       "        \u001b[32m'Initial_Time'\u001b[0m: \u001b[1;35mnumpy.datetime64\u001b[0m\u001b[1m(\u001b[0m\u001b[32m'2021-02-08T20:22:25.618000000'\u001b[0m\u001b[1m)\u001b[0m,\n",
       "        \u001b[32m'Sample_Duration'\u001b[0m: \u001b[1;36m8076.0\u001b[0m,\n",
       "        \u001b[32m'Description'\u001b[0m: \u001b[32m'Peak'\u001b[0m,\n",
       "        \u001b[32m'Start_Frequency'\u001b[0m: \u001b[1;36m105\u001b[0m,\n",
       "        \u001b[32m'Stop_Frequency'\u001b[0m: \u001b[1;36m140\u001b[0m,\n",
       "        \u001b[32m'Trace_Type'\u001b[0m: \u001b[32m'average'\u001b[0m,\n",
       "        \u001b[32m'RBW'\u001b[0m: \u001b[1;36m9\u001b[0m,\n",
       "        \u001b[32m'Level_Units'\u001b[0m: \u001b[32m'dBm'\u001b[0m,\n",
       "        \u001b[32m'Num_Traces'\u001b[0m: \u001b[1;36m52\u001b[0m,\n",
       "        \u001b[32m'Vector_Length'\u001b[0m: \u001b[1;36m3584\u001b[0m\n",
       "    \u001b[1m}\u001b[0m,\n",
       "    \u001b[1m(\u001b[0m\u001b[1;36m64\u001b[0m, \u001b[1;36m14\u001b[0m\u001b[1m)\u001b[0m: \u001b[1m{\u001b[0m\n",
       "        \u001b[32m'Initial_Time'\u001b[0m: \u001b[1;35mnumpy.datetime64\u001b[0m\u001b[1m(\u001b[0m\u001b[32m'2021-02-08T20:22:25.618000000'\u001b[0m\u001b[1m)\u001b[0m,\n",
       "        \u001b[32m'Sample_Duration'\u001b[0m: \u001b[1;36m8076.0\u001b[0m,\n",
       "        \u001b[32m'Description'\u001b[0m: \u001b[32m'Peak'\u001b[0m,\n",
       "        \u001b[32m'Start_Frequency'\u001b[0m: \u001b[1;36m105\u001b[0m,\n",
       "        \u001b[32m'Stop_Frequency'\u001b[0m: \u001b[1;36m140\u001b[0m,\n",
       "        \u001b[32m'Trace_Type'\u001b[0m: \u001b[32m'average'\u001b[0m,\n",
       "        \u001b[32m'RBW'\u001b[0m: \u001b[1;36m48\u001b[0m,\n",
       "        \u001b[32m'Level_Units'\u001b[0m: \u001b[32m'dBm'\u001b[0m,\n",
       "        \u001b[32m'Num_Traces'\u001b[0m: \u001b[1;36m52\u001b[0m,\n",
       "        \u001b[32m'Vector_Length'\u001b[0m: \u001b[1;36m717\u001b[0m\n",
       "    \u001b[1m}\u001b[0m\n",
       "\u001b[1m}\u001b[0m\n"
      ]
     },
     "metadata": {},
     "output_type": "display_data"
    },
    {
     "data": {
      "text/html": [
       "<pre style=\"white-space:pre;overflow-x:auto;line-height:normal;font-family:Menlo,'DejaVu Sans Mono',consolas,'Courier New',monospace\">Metadados do Arquivo rfeye002292_210208_T203238_CRFSBINv.<span style=\"color: #008080; text-decoration-color: #008080; font-weight: bold\">3.</span>bin\n",
       "</pre>\n"
      ],
      "text/plain": [
       "Metadados do Arquivo rfeye002292_210208_T203238_CRFSBINv.\u001b[1;36m3.\u001b[0mbin\n"
      ]
     },
     "metadata": {},
     "output_type": "display_data"
    },
    {
     "data": {
      "text/html": [
       "<pre style=\"white-space:pre;overflow-x:auto;line-height:normal;font-family:Menlo,'DejaVu Sans Mono',consolas,'Courier New',monospace\"><span style=\"font-weight: bold\">{</span>\n",
       "    <span style=\"color: #008000; text-decoration-color: #008000\">'File_Name'</span>: <span style=\"color: #008000; text-decoration-color: #008000\">'rfeye002292_210208_T203238_CRFSBINv.3.bin'</span>,\n",
       "    <span style=\"color: #008000; text-decoration-color: #008000\">'File_Version'</span>: <span style=\"color: #008080; text-decoration-color: #008080; font-weight: bold\">21</span>,\n",
       "    <span style=\"color: #008000; text-decoration-color: #008000\">'File_Type'</span>: <span style=\"color: #008000; text-decoration-color: #008000\">'RFEye Logger Trace'</span>,\n",
       "    <span style=\"color: #008000; text-decoration-color: #008000\">'Device'</span>: <span style=\"color: #008000; text-decoration-color: #008000\">'Rfeye Node'</span>,\n",
       "    <span style=\"color: #008000; text-decoration-color: #008000\">'Equipment_ID'</span>: <span style=\"color: #008000; text-decoration-color: #008000\">'rfeye002292'</span>,\n",
       "    <span style=\"color: #008000; text-decoration-color: #008000\">'Script_Version'</span>: <span style=\"color: #008000; text-decoration-color: #008000\">'Script_CRFSBINv3'</span>,\n",
       "    <span style=\"color: #008000; text-decoration-color: #008000\">'Latitude'</span>: <span style=\"color: #008080; text-decoration-color: #008080; font-weight: bold\">-12.971631</span>,\n",
       "    <span style=\"color: #008000; text-decoration-color: #008000\">'Longitude'</span>: <span style=\"color: #008080; text-decoration-color: #008080; font-weight: bold\">-38.481487</span>,\n",
       "    <span style=\"color: #008000; text-decoration-color: #008000\">'Altitude'</span>: <span style=\"color: #008080; text-decoration-color: #008080; font-weight: bold\">150.6</span>,\n",
       "    <span style=\"color: #008000; text-decoration-color: #008000\">'Count_GPS'</span>: <span style=\"color: #008080; text-decoration-color: #008080; font-weight: bold\">12</span>,\n",
       "    <span style=\"color: #008000; text-decoration-color: #008000\">'Sum_Latitude'</span>: <span style=\"color: #008080; text-decoration-color: #008080; font-weight: bold\">-155.65956</span>,\n",
       "    <span style=\"color: #008000; text-decoration-color: #008000\">'Sum_Longitude'</span>: <span style=\"color: #008080; text-decoration-color: #008080; font-weight: bold\">-461.7778</span>\n",
       "<span style=\"font-weight: bold\">}</span>\n",
       "</pre>\n"
      ],
      "text/plain": [
       "\u001b[1m{\u001b[0m\n",
       "    \u001b[32m'File_Name'\u001b[0m: \u001b[32m'rfeye002292_210208_T203238_CRFSBINv.3.bin'\u001b[0m,\n",
       "    \u001b[32m'File_Version'\u001b[0m: \u001b[1;36m21\u001b[0m,\n",
       "    \u001b[32m'File_Type'\u001b[0m: \u001b[32m'RFEye Logger Trace'\u001b[0m,\n",
       "    \u001b[32m'Device'\u001b[0m: \u001b[32m'Rfeye Node'\u001b[0m,\n",
       "    \u001b[32m'Equipment_ID'\u001b[0m: \u001b[32m'rfeye002292'\u001b[0m,\n",
       "    \u001b[32m'Script_Version'\u001b[0m: \u001b[32m'Script_CRFSBINv3'\u001b[0m,\n",
       "    \u001b[32m'Latitude'\u001b[0m: \u001b[1;36m-12.971631\u001b[0m,\n",
       "    \u001b[32m'Longitude'\u001b[0m: \u001b[1;36m-38.481487\u001b[0m,\n",
       "    \u001b[32m'Altitude'\u001b[0m: \u001b[1;36m150.6\u001b[0m,\n",
       "    \u001b[32m'Count_GPS'\u001b[0m: \u001b[1;36m12\u001b[0m,\n",
       "    \u001b[32m'Sum_Latitude'\u001b[0m: \u001b[1;36m-155.65956\u001b[0m,\n",
       "    \u001b[32m'Sum_Longitude'\u001b[0m: \u001b[1;36m-461.7778\u001b[0m\n",
       "\u001b[1m}\u001b[0m\n"
      ]
     },
     "metadata": {},
     "output_type": "display_data"
    },
    {
     "data": {
      "text/html": [
       "<pre style=\"white-space:pre;overflow-x:auto;line-height:normal;font-family:Menlo,'DejaVu Sans Mono',consolas,'Courier New',monospace\">Fluxos: \n",
       "<span style=\"font-weight: bold\">{}</span>\n",
       "</pre>\n"
      ],
      "text/plain": [
       "Fluxos: \n",
       "\u001b[1m{\u001b[0m\u001b[1m}\u001b[0m\n"
      ]
     },
     "metadata": {},
     "output_type": "display_data"
    }
   ],
   "source": [
    "for filename, dado in dados.items():\n",
    "    print(f'Metadados do Arquivo {filename}')\n",
    "    print({k:v for k,v in dado.items() if k != 'Fluxos'})\n",
    "    print(\"Fluxos: \", {k:{i:j for i,j in fluxo.items()  if i not in ('Timestamp', 'Frequency', 'Level_Data')} for k,fluxo in dado['Fluxos'].items()})"
   ]
  },
  {
   "cell_type": "code",
   "execution_count": null,
   "metadata": {},
   "outputs": [
    {
     "data": {
      "text/html": [
       "<pre style=\"white-space:pre;overflow-x:auto;line-height:normal;font-family:Menlo,'DejaVu Sans Mono',consolas,'Courier New',monospace\"><span style=\"color: #800000; text-decoration-color: #800000; font-weight: bold\">─────────────────────────── </span>Lista de Arquivos a serem processados<span style=\"color: #800000; text-decoration-color: #800000; font-weight: bold\"> ───────────────────────────</span>\n",
       "</pre>\n"
      ],
      "text/plain": [
       "\u001b[1;31m─────────────────────────── \u001b[0mLista de Arquivos a serem processados\u001b[1;31m ───────────────────────────\u001b[0m\n"
      ]
     },
     "metadata": {},
     "output_type": "display_data"
    },
    {
     "data": {
      "text/html": [
       "<pre style=\"white-space:pre;overflow-x:auto;line-height:normal;font-family:Menlo,'DejaVu Sans Mono',consolas,'Courier New',monospace\"><span style=\"color: #c0c0c0; text-decoration-color: #c0c0c0; font-weight: bold\">[</span><span style=\"color: #008000; text-decoration-color: #008000\">'rfeye002092_210208_T202310_CRFSBINv.5.bin'</span><span style=\"color: #c0c0c0; text-decoration-color: #c0c0c0; font-weight: bold\">]                                                </span>\n",
       "</pre>\n"
      ],
      "text/plain": [
       "\u001b[1;37m[\u001b[0m\u001b[32m'rfeye002092_210208_T202310_CRFSBINv.5.bin'\u001b[0m\u001b[1;37m]\u001b[0m\u001b[1;37m                                                \u001b[0m\n"
      ]
     },
     "metadata": {},
     "output_type": "display_data"
    },
    {
     "data": {
      "text/html": [
       "<pre style=\"white-space:pre;overflow-x:auto;line-height:normal;font-family:Menlo,'DejaVu Sans Mono',consolas,'Courier New',monospace\"><span style=\"color: #008000; text-decoration-color: #008000\">Processando Blocos de: </span><span style=\"color: #800000; text-decoration-color: #800000\">rfeye002092_210208_T202310_CRFSBINv.</span><span style=\"color: #800000; text-decoration-color: #800000; font-weight: bold\">5.</span><span style=\"color: #800000; text-decoration-color: #800000\">bin</span>\n",
       "</pre>\n"
      ],
      "text/plain": [
       "\u001b[32mProcessando Blocos de: \u001b[0m\u001b[31mrfeye002092_210208_T202310_CRFSBINv.\u001b[0m\u001b[1;31m5.\u001b[0m\u001b[31mbin\u001b[0m\n"
      ]
     },
     "metadata": {},
     "output_type": "display_data"
    }
   ],
   "source": [
    "dados = extract_bin_data(path / 'rfeye002092_210208_T202310_CRFSBINv.5.bin', spec_data=True)"
   ]
  },
  {
   "cell_type": "code",
   "execution_count": null,
   "metadata": {},
   "outputs": [
    {
     "data": {
      "text/html": [
       "<pre style=\"white-space:pre;overflow-x:auto;line-height:normal;font-family:Menlo,'DejaVu Sans Mono',consolas,'Courier New',monospace\"><span style=\"font-weight: bold\">[[</span><span style=\"color: #008080; text-decoration-color: #008080; font-weight: bold\">-117.5</span> <span style=\"color: #008080; text-decoration-color: #008080; font-weight: bold\">-113</span>.  <span style=\"color: #008080; text-decoration-color: #008080; font-weight: bold\">-111.5</span> <span style=\"color: #808000; text-decoration-color: #808000\">...</span> <span style=\"color: #008080; text-decoration-color: #008080; font-weight: bold\">-103.5</span> <span style=\"color: #008080; text-decoration-color: #008080; font-weight: bold\">-110</span>.   <span style=\"color: #008080; text-decoration-color: #008080; font-weight: bold\">-97.5</span><span style=\"font-weight: bold\">]</span>\n",
       " <span style=\"font-weight: bold\">[</span><span style=\"color: #008080; text-decoration-color: #008080; font-weight: bold\">-113.5</span> <span style=\"color: #008080; text-decoration-color: #008080; font-weight: bold\">-114.5</span> <span style=\"color: #008080; text-decoration-color: #008080; font-weight: bold\">-111</span>.  <span style=\"color: #808000; text-decoration-color: #808000\">...</span>  <span style=\"color: #008080; text-decoration-color: #008080; font-weight: bold\">-94.5</span>  <span style=\"color: #008080; text-decoration-color: #008080; font-weight: bold\">-98.5</span>  <span style=\"color: #008080; text-decoration-color: #008080; font-weight: bold\">-99.5</span><span style=\"font-weight: bold\">]</span>\n",
       " <span style=\"font-weight: bold\">[</span><span style=\"color: #008080; text-decoration-color: #008080; font-weight: bold\">-109.5</span> <span style=\"color: #008080; text-decoration-color: #008080; font-weight: bold\">-111.5</span> <span style=\"color: #008080; text-decoration-color: #008080; font-weight: bold\">-114</span>.  <span style=\"color: #808000; text-decoration-color: #808000\">...</span> <span style=\"color: #008080; text-decoration-color: #008080; font-weight: bold\">-100</span>.   <span style=\"color: #008080; text-decoration-color: #008080; font-weight: bold\">-99</span>.  <span style=\"color: #008080; text-decoration-color: #008080; font-weight: bold\">-100.5</span><span style=\"font-weight: bold\">]</span>\n",
       " <span style=\"color: #808000; text-decoration-color: #808000\">...</span>\n",
       " <span style=\"font-weight: bold\">[</span><span style=\"color: #008080; text-decoration-color: #008080; font-weight: bold\">-117</span>.  <span style=\"color: #008080; text-decoration-color: #008080; font-weight: bold\">-115</span>.  <span style=\"color: #008080; text-decoration-color: #008080; font-weight: bold\">-114</span>.  <span style=\"color: #808000; text-decoration-color: #808000\">...</span>  <span style=\"color: #008080; text-decoration-color: #008080; font-weight: bold\">-99.5</span>  <span style=\"color: #008080; text-decoration-color: #008080; font-weight: bold\">-96</span>.   <span style=\"color: #008080; text-decoration-color: #008080; font-weight: bold\">-99</span>. <span style=\"font-weight: bold\">]</span>\n",
       " <span style=\"font-weight: bold\">[</span><span style=\"color: #008080; text-decoration-color: #008080; font-weight: bold\">-117</span>.  <span style=\"color: #008080; text-decoration-color: #008080; font-weight: bold\">-118</span>.  <span style=\"color: #008080; text-decoration-color: #008080; font-weight: bold\">-117.5</span> <span style=\"color: #808000; text-decoration-color: #808000\">...</span>  <span style=\"color: #008080; text-decoration-color: #008080; font-weight: bold\">-99.5</span>  <span style=\"color: #008080; text-decoration-color: #008080; font-weight: bold\">-93.5</span>  <span style=\"color: #008080; text-decoration-color: #008080; font-weight: bold\">-93.5</span><span style=\"font-weight: bold\">]</span>\n",
       " <span style=\"font-weight: bold\">[</span><span style=\"color: #008080; text-decoration-color: #008080; font-weight: bold\">-114.5</span> <span style=\"color: #008080; text-decoration-color: #008080; font-weight: bold\">-110.5</span> <span style=\"color: #008080; text-decoration-color: #008080; font-weight: bold\">-110</span>.  <span style=\"color: #808000; text-decoration-color: #808000\">...</span>  <span style=\"color: #008080; text-decoration-color: #008080; font-weight: bold\">-96.5</span>  <span style=\"color: #008080; text-decoration-color: #008080; font-weight: bold\">-96</span>.  <span style=\"color: #008080; text-decoration-color: #008080; font-weight: bold\">-102</span>. <span style=\"font-weight: bold\">]]</span>\n",
       "</pre>\n"
      ],
      "text/plain": [
       "\u001b[1m[\u001b[0m\u001b[1m[\u001b[0m\u001b[1;36m-117.5\u001b[0m \u001b[1;36m-113\u001b[0m.  \u001b[1;36m-111.5\u001b[0m \u001b[33m...\u001b[0m \u001b[1;36m-103.5\u001b[0m \u001b[1;36m-110\u001b[0m.   \u001b[1;36m-97.5\u001b[0m\u001b[1m]\u001b[0m\n",
       " \u001b[1m[\u001b[0m\u001b[1;36m-113.5\u001b[0m \u001b[1;36m-114.5\u001b[0m \u001b[1;36m-111\u001b[0m.  \u001b[33m...\u001b[0m  \u001b[1;36m-94.5\u001b[0m  \u001b[1;36m-98.5\u001b[0m  \u001b[1;36m-99.5\u001b[0m\u001b[1m]\u001b[0m\n",
       " \u001b[1m[\u001b[0m\u001b[1;36m-109.5\u001b[0m \u001b[1;36m-111.5\u001b[0m \u001b[1;36m-114\u001b[0m.  \u001b[33m...\u001b[0m \u001b[1;36m-100\u001b[0m.   \u001b[1;36m-99\u001b[0m.  \u001b[1;36m-100.5\u001b[0m\u001b[1m]\u001b[0m\n",
       " \u001b[33m...\u001b[0m\n",
       " \u001b[1m[\u001b[0m\u001b[1;36m-117\u001b[0m.  \u001b[1;36m-115\u001b[0m.  \u001b[1;36m-114\u001b[0m.  \u001b[33m...\u001b[0m  \u001b[1;36m-99.5\u001b[0m  \u001b[1;36m-96\u001b[0m.   \u001b[1;36m-99\u001b[0m. \u001b[1m]\u001b[0m\n",
       " \u001b[1m[\u001b[0m\u001b[1;36m-117\u001b[0m.  \u001b[1;36m-118\u001b[0m.  \u001b[1;36m-117.5\u001b[0m \u001b[33m...\u001b[0m  \u001b[1;36m-99.5\u001b[0m  \u001b[1;36m-93.5\u001b[0m  \u001b[1;36m-93.5\u001b[0m\u001b[1m]\u001b[0m\n",
       " \u001b[1m[\u001b[0m\u001b[1;36m-114.5\u001b[0m \u001b[1;36m-110.5\u001b[0m \u001b[1;36m-110\u001b[0m.  \u001b[33m...\u001b[0m  \u001b[1;36m-96.5\u001b[0m  \u001b[1;36m-96\u001b[0m.  \u001b[1;36m-102\u001b[0m. \u001b[1m]\u001b[0m\u001b[1m]\u001b[0m\n"
      ]
     },
     "metadata": {},
     "output_type": "display_data"
    }
   ],
   "source": [
    "d = dados['rfeye002092_210208_T202310_CRFSBINv.5.bin']\n",
    "fluxo = d['Fluxos'][67,20]\n",
    "tempo = fluxo['Timestamp']\n",
    "frequencias = np.linspace(fluxo['Start_Frequency'], fluxo['Stop_Frequency'], num=fluxo['Vector_Length'])\n",
    "niveis = fluxo['Level_Data'] \n",
    "data = pd.DataFrame(niveis, index=tempo, columns=frequencias)\n",
    "data.columns.name = \"Frequencies\"\n",
    "data.index.name = \"Time\"\n",
    "print(data.head())"
   ]
  },
  {
   "cell_type": "markdown",
   "metadata": {},
   "source": [
    "## Extrair dados estatísticos"
   ]
  },
  {
   "cell_type": "code",
   "execution_count": null,
   "metadata": {},
   "outputs": [],
   "source": [
    "#exporti\n",
    "def appended_mean(df: pd.Series) -> float:\n",
    "    \"\"\"Recebe um agrupamento do DataFrame e retorna sua média ponderada pela coluna Count\n",
    "\n",
    "    Args:\n",
    "        df (pd.DataFrame): Groupby do DataFrame\n",
    "\n",
    "    Returns:\n",
    "        float: Média Ponderada da linha pela coluna Count\n",
    "    \"\"\"\n",
    "    return (df[\"Count\"] * df[\"Mean\"]).sum() / df[\"Count\"].sum()"
   ]
  },
  {
   "cell_type": "markdown",
   "metadata": {},
   "source": [
    "A função a seguir é a que será mais comumente chamada por outro módulo que utilizar esta lib. Ela recebe o caminho para um arquivo `.bin` e retorna um DataFrame com Frequência, Máximo, Mínimo e Média dos dados de Espectro presentes no arquivo `.bin`"
   ]
  },
  {
   "cell_type": "code",
   "execution_count": null,
   "metadata": {},
   "outputs": [],
   "source": [
    "#export\n",
    "def extract_bin_stats(\n",
    "    filename: str,\n",
    "    time_start: str = None,\n",
    "    time_stop: str = None,\n",
    "    freq_start: str = None,\n",
    "    freq_stop: str = None,\n",
    "    cache: str = CACHE_FOLDER,\n",
    ") -> pd.DataFrame:\n",
    "    \"\"\"Recebe o caminho para um arquivo CRFS bin e retorna um dataframe com o resumo estatístico dos dados de espectro\n",
    "\n",
    "    Args:\n",
    "        filename (str): Caminho para o arquivo bin\n",
    "        time_start (str): Timestamp de início. Se None filtra desde o início do arquivo\n",
    "        time_stop (str): Timestamp de fim. Se None filtra até o fim do arquivo\n",
    "        freq_start (str): Filtro inicial de frequência. Se None retorna desde a menor frequências\n",
    "        freq_stop (str): Filtro Final de frequência. Se None retorna até a maior frequência.\n",
    "        cache (str, optional): Caminho para a pasta de cache. Default é criar uma pasta oculta .cache no diretório atual.\n",
    "\n",
    "    Returns:\n",
    "        pd.DataFrame: Dataframe contendo o resumo estatístico do arquivo\n",
    "    \"\"\"\n",
    "\n",
    "    cache = Path(cache)\n",
    "    cache.mkdir(exist_ok=True, parents=True)\n",
    "    filename = Path(filename)\n",
    "    if filename.is_dir():\n",
    "        filenames = get_files(filename, extensions=[\".bin\"])\n",
    "    else:\n",
    "        filenames = listify(filename)\n",
    "\n",
    "    cached_files = get_files(cache / \"levels\")\n",
    "    files = L()\n",
    "    for filename in filenames:\n",
    "        while True:\n",
    "            # TODO filter based on metadata\n",
    "            subset = cached_files.filter(lambda name: filename.stem in str(name))\n",
    "            if not len(subset):\n",
    "                process_bin(entrada=filename, saida=cache, levels=True)\n",
    "            else:\n",
    "                break\n",
    "        files += subset\n",
    "        subset = L()\n",
    "\n",
    "    dfs = files.map(pd.read_feather)\n",
    "    tids = files.map(lambda x: x.stem.split(\"_\")[-1])\n",
    "    spectra = dfs.map(\n",
    "        filter_spectrum,\n",
    "        time_start=time_start,\n",
    "        time_stop=time_stop,\n",
    "        freq_start=freq_start,\n",
    "        freq_stop=freq_stop,\n",
    "    )\n",
    "    spectra = [(i, s) for i, s in zip(tids, spectra) if s is not None]\n",
    "    columns = [\"Tid\", \"Frequency\", \"Min\", \"Max\", \"Mean\"]\n",
    "    out = pd.DataFrame(columns=columns)\n",
    "    if not spectra:\n",
    "        log.warning(\n",
    "            f\"Os parâmetros repassados não correspondem a nenhum dado espectral do arquivo\",\n",
    "            exc_info=True,\n",
    "        )\n",
    "        return out\n",
    "    for i, df in spectra:\n",
    "        df[\"Tid\"] = i\n",
    "    spectra = [s for i, s in spectra]\n",
    "    spectra = pd.concat(spectra)\n",
    "    if len(spectra.Frequency) == len(spectra.Frequency.unique()):\n",
    "        return spectra[columns]\n",
    "    gb = spectra.groupby([\"Tid\", \"Frequency\"])\n",
    "    out = gb.apply(appended_mean)\n",
    "    Min = gb.min()[\"Min\"]\n",
    "    Max = gb.max()[\"Max\"]\n",
    "    Mean = gb.apply(appended_mean)\n",
    "    out = pd.concat([Min, Max, Mean], axis=1).reset_index()\n",
    "    out.columns = columns\n",
    "    return out"
   ]
  },
  {
   "cell_type": "markdown",
   "metadata": {},
   "source": [
    "Chamada da função somente fornecendo o caminho do arquivo `.bin`"
   ]
  },
  {
   "cell_type": "markdown",
   "metadata": {},
   "source": [
    "Pela saída do código acima, vemos que o arquivo `.bin` foi processado, seus metadados e espectro extraídos e salvos. Como não passamos uma pasta de saída uma pasta local `.cache` é criada e os arquivos são salvos nela. Posteriormente o arquivo de espectro no cache é lido e o resumo estatístico das frequências no tempo é retornado."
   ]
  },
  {
   "cell_type": "markdown",
   "metadata": {},
   "source": [
    "Se chamarmos novamente a função com os mesmos argumentos, dessa vez a execução será mais rápida por conta do cache e assim o arquivo `.bin` não precisa ser processado novamente."
   ]
  },
  {
   "cell_type": "code",
   "execution_count": null,
   "metadata": {},
   "outputs": [
    {
     "ename": "NameError",
     "evalue": "name 'extract_bin_stats' is not defined",
     "output_type": "error",
     "traceback": [
      "\u001b[1;31m---------------------------------------------------------------------------\u001b[0m",
      "\u001b[1;31mNameError\u001b[0m                                 Traceback (most recent call last)",
      "\u001b[1;32m~\\AppData\\Local\\Temp/ipykernel_16540/663480257.py\u001b[0m in \u001b[0;36m<module>\u001b[1;34m\u001b[0m\n\u001b[1;32m----> 1\u001b[1;33m \u001b[0mdados\u001b[0m \u001b[1;33m=\u001b[0m \u001b[0mextract_bin_stats\u001b[0m\u001b[1;33m(\u001b[0m\u001b[0mbinfile\u001b[0m\u001b[1;33m)\u001b[0m \u001b[1;33m;\u001b[0m \u001b[0mdados\u001b[0m\u001b[1;33m\u001b[0m\u001b[1;33m\u001b[0m\u001b[0m\n\u001b[0m",
      "\u001b[1;31mNameError\u001b[0m: name 'extract_bin_stats' is not defined"
     ]
    }
   ],
   "source": [
    "dados = extract_bin_stats(binfile) ; dados"
   ]
  },
  {
   "cell_type": "markdown",
   "metadata": {},
   "source": [
    "Vemos que o arquivo possui frequências de 70MHz a 110MHz. Se tivermos interessados em faixas menos, podemos filtrá-las. Por exemplo, vamos filtrar pela faixa de FM somente `88 a 108`:"
   ]
  },
  {
   "cell_type": "code",
   "execution_count": null,
   "metadata": {},
   "outputs": [
    {
     "ename": "NameError",
     "evalue": "name 'extract_bin_stats' is not defined",
     "output_type": "error",
     "traceback": [
      "\u001b[1;31m---------------------------------------------------------------------------\u001b[0m",
      "\u001b[1;31mNameError\u001b[0m                                 Traceback (most recent call last)",
      "\u001b[1;32m~\\AppData\\Local\\Temp/ipykernel_16540/3046342232.py\u001b[0m in \u001b[0;36m<module>\u001b[1;34m\u001b[0m\n\u001b[1;32m----> 1\u001b[1;33m \u001b[0mdados\u001b[0m \u001b[1;33m=\u001b[0m \u001b[0mextract_bin_stats\u001b[0m\u001b[1;33m(\u001b[0m\u001b[0mbinfile\u001b[0m\u001b[1;33m,\u001b[0m \u001b[0mfreq_start\u001b[0m\u001b[1;33m=\u001b[0m\u001b[1;36m88\u001b[0m\u001b[1;33m,\u001b[0m \u001b[0mfreq_stop\u001b[0m\u001b[1;33m=\u001b[0m\u001b[1;36m108\u001b[0m\u001b[1;33m)\u001b[0m \u001b[1;33m;\u001b[0m \u001b[0mdados\u001b[0m\u001b[1;33m\u001b[0m\u001b[1;33m\u001b[0m\u001b[0m\n\u001b[0m",
      "\u001b[1;31mNameError\u001b[0m: name 'extract_bin_stats' is not defined"
     ]
    }
   ],
   "source": [
    "dados = extract_bin_stats(binfile, freq_start=88, freq_stop=108) ; dados"
   ]
  },
  {
   "cell_type": "markdown",
   "metadata": {},
   "source": [
    "Para filtrarmos os dados estatísticos relativo a um tempo específico, precisamos saber de antemão qual o período específico o arquivo `.bin` compreende, se passarmos um período de tempo inválido, é retornado um DataFrame vazio e uma mensagem de aviso é salva no log."
   ]
  },
  {
   "cell_type": "code",
   "execution_count": null,
   "metadata": {},
   "outputs": [
    {
     "ename": "NameError",
     "evalue": "name 'extract_bin_stats' is not defined",
     "output_type": "error",
     "traceback": [
      "\u001b[1;31m---------------------------------------------------------------------------\u001b[0m",
      "\u001b[1;31mNameError\u001b[0m                                 Traceback (most recent call last)",
      "\u001b[1;32m~\\AppData\\Local\\Temp/ipykernel_16540/1299479843.py\u001b[0m in \u001b[0;36m<module>\u001b[1;34m\u001b[0m\n\u001b[1;32m----> 1\u001b[1;33m \u001b[0mdados\u001b[0m \u001b[1;33m=\u001b[0m \u001b[0mextract_bin_stats\u001b[0m\u001b[1;33m(\u001b[0m\u001b[0mbinfile\u001b[0m\u001b[1;33m,\u001b[0m \u001b[0mtime_start\u001b[0m\u001b[1;33m=\u001b[0m\u001b[1;34m'2021-05-21'\u001b[0m\u001b[1;33m)\u001b[0m \u001b[1;33m;\u001b[0m \u001b[0mdados\u001b[0m\u001b[1;33m\u001b[0m\u001b[1;33m\u001b[0m\u001b[0m\n\u001b[0m",
      "\u001b[1;31mNameError\u001b[0m: name 'extract_bin_stats' is not defined"
     ]
    }
   ],
   "source": [
    "dados = extract_bin_stats(binfile, time_start='2021-05-21') ; dados"
   ]
  },
  {
   "cell_type": "code",
   "execution_count": null,
   "metadata": {},
   "outputs": [
    {
     "ename": "NameError",
     "evalue": "name 'extract_bin_stats' is not defined",
     "output_type": "error",
     "traceback": [
      "\u001b[1;31m---------------------------------------------------------------------------\u001b[0m",
      "\u001b[1;31mNameError\u001b[0m                                 Traceback (most recent call last)",
      "\u001b[1;32m~\\AppData\\Local\\Temp/ipykernel_16540/1602464370.py\u001b[0m in \u001b[0;36m<module>\u001b[1;34m\u001b[0m\n\u001b[1;32m----> 1\u001b[1;33m \u001b[0mdados\u001b[0m \u001b[1;33m=\u001b[0m \u001b[0mextract_bin_stats\u001b[0m\u001b[1;33m(\u001b[0m\u001b[0mbinfile\u001b[0m\u001b[1;33m,\u001b[0m \u001b[0mtime_stop\u001b[0m\u001b[1;33m=\u001b[0m\u001b[1;34m'2020-05-12'\u001b[0m\u001b[1;33m)\u001b[0m \u001b[1;33m;\u001b[0m \u001b[0mdados\u001b[0m\u001b[1;33m\u001b[0m\u001b[1;33m\u001b[0m\u001b[0m\n\u001b[0m",
      "\u001b[1;31mNameError\u001b[0m: name 'extract_bin_stats' is not defined"
     ]
    }
   ],
   "source": [
    "dados = extract_bin_stats(binfile, time_stop='2020-05-12') ; dados"
   ]
  },
  {
   "cell_type": "markdown",
   "metadata": {},
   "source": [
    "Esse arquivo específico compreende o período de `Timestamp('2020-12-01 15:34:21.578869') a Timestamp('2020-12-01 16:13:53.920250')`, um período de menos de uma hora."
   ]
  },
  {
   "cell_type": "markdown",
   "metadata": {},
   "source": [
    "Basta passarmos uma string de data válida, as horas, minutos e segundos são opcionais."
   ]
  },
  {
   "cell_type": "code",
   "execution_count": null,
   "metadata": {},
   "outputs": [
    {
     "ename": "NameError",
     "evalue": "name 'extract_bin_stats' is not defined",
     "output_type": "error",
     "traceback": [
      "\u001b[1;31m---------------------------------------------------------------------------\u001b[0m",
      "\u001b[1;31mNameError\u001b[0m                                 Traceback (most recent call last)",
      "\u001b[1;32m~\\AppData\\Local\\Temp/ipykernel_16540/1291844773.py\u001b[0m in \u001b[0;36m<module>\u001b[1;34m\u001b[0m\n\u001b[1;32m----> 1\u001b[1;33m \u001b[0mdados\u001b[0m \u001b[1;33m=\u001b[0m \u001b[0mextract_bin_stats\u001b[0m\u001b[1;33m(\u001b[0m\u001b[0mbinfile\u001b[0m\u001b[1;33m,\u001b[0m \u001b[0mtime_start\u001b[0m\u001b[1;33m=\u001b[0m\u001b[1;34m'2020-12-01 16:00'\u001b[0m\u001b[1;33m)\u001b[0m \u001b[1;33m;\u001b[0m \u001b[0mdados\u001b[0m\u001b[1;33m\u001b[0m\u001b[1;33m\u001b[0m\u001b[0m\n\u001b[0m",
      "\u001b[1;31mNameError\u001b[0m: name 'extract_bin_stats' is not defined"
     ]
    }
   ],
   "source": [
    "dados = extract_bin_stats(binfile, time_start='2020-12-01 16:00') ; dados"
   ]
  },
  {
   "cell_type": "code",
   "execution_count": null,
   "metadata": {},
   "outputs": [
    {
     "ename": "NameError",
     "evalue": "name 'extract_bin_stats' is not defined",
     "output_type": "error",
     "traceback": [
      "\u001b[1;31m---------------------------------------------------------------------------\u001b[0m",
      "\u001b[1;31mNameError\u001b[0m                                 Traceback (most recent call last)",
      "\u001b[1;32m~\\AppData\\Local\\Temp/ipykernel_16540/3862235263.py\u001b[0m in \u001b[0;36m<module>\u001b[1;34m\u001b[0m\n\u001b[1;32m----> 1\u001b[1;33m \u001b[0mdados\u001b[0m \u001b[1;33m=\u001b[0m \u001b[0mextract_bin_stats\u001b[0m\u001b[1;33m(\u001b[0m\u001b[0mbinfile\u001b[0m\u001b[1;33m,\u001b[0m \u001b[0mtime_start\u001b[0m\u001b[1;33m=\u001b[0m\u001b[1;34m'01/12/2020 16:00'\u001b[0m\u001b[1;33m)\u001b[0m \u001b[1;33m;\u001b[0m \u001b[0mdados\u001b[0m\u001b[1;33m\u001b[0m\u001b[1;33m\u001b[0m\u001b[0m\n\u001b[0m",
      "\u001b[1;31mNameError\u001b[0m: name 'extract_bin_stats' is not defined"
     ]
    }
   ],
   "source": [
    "dados = extract_bin_stats(binfile, time_start='01/12/2020 16:00') ; dados"
   ]
  },
  {
   "cell_type": "code",
   "execution_count": null,
   "metadata": {},
   "outputs": [
    {
     "ename": "NameError",
     "evalue": "name 'extract_bin_stats' is not defined",
     "output_type": "error",
     "traceback": [
      "\u001b[1;31m---------------------------------------------------------------------------\u001b[0m",
      "\u001b[1;31mNameError\u001b[0m                                 Traceback (most recent call last)",
      "\u001b[1;32m~\\AppData\\Local\\Temp/ipykernel_16540/4139374052.py\u001b[0m in \u001b[0;36m<module>\u001b[1;34m\u001b[0m\n\u001b[1;32m----> 1\u001b[1;33m \u001b[0mdados\u001b[0m \u001b[1;33m=\u001b[0m \u001b[0mextract_bin_stats\u001b[0m\u001b[1;33m(\u001b[0m\u001b[0mbinfile\u001b[0m\u001b[1;33m,\u001b[0m \u001b[0mtime_stop\u001b[0m\u001b[1;33m=\u001b[0m\u001b[1;34m'2020-12-01 16:00'\u001b[0m\u001b[1;33m)\u001b[0m \u001b[1;33m;\u001b[0m \u001b[0mdados\u001b[0m\u001b[1;33m\u001b[0m\u001b[1;33m\u001b[0m\u001b[0m\n\u001b[0m",
      "\u001b[1;31mNameError\u001b[0m: name 'extract_bin_stats' is not defined"
     ]
    }
   ],
   "source": [
    "dados = extract_bin_stats(binfile, time_stop='2020-12-01 16:00') ; dados"
   ]
  },
  {
   "cell_type": "markdown",
   "metadata": {},
   "source": [
    "Se quisermos filtrar para constar somente a faixa de FM e somente os 15 minutos de 15:45 a 16:00 do dia 01/12/2020 "
   ]
  },
  {
   "cell_type": "code",
   "execution_count": null,
   "metadata": {},
   "outputs": [
    {
     "ename": "NameError",
     "evalue": "name 'extract_bin_stats' is not defined",
     "output_type": "error",
     "traceback": [
      "\u001b[1;31m---------------------------------------------------------------------------\u001b[0m",
      "\u001b[1;31mNameError\u001b[0m                                 Traceback (most recent call last)",
      "\u001b[1;32m~\\AppData\\Local\\Temp/ipykernel_16540/740508017.py\u001b[0m in \u001b[0;36m<module>\u001b[1;34m\u001b[0m\n\u001b[1;32m----> 1\u001b[1;33m dados = extract_bin_stats(binfile, \n\u001b[0m\u001b[0;32m      2\u001b[0m                           \u001b[0mtime_start\u001b[0m\u001b[1;33m=\u001b[0m\u001b[1;34m'01/12/2020 15:45'\u001b[0m\u001b[1;33m,\u001b[0m\u001b[1;33m\u001b[0m\u001b[1;33m\u001b[0m\u001b[0m\n\u001b[0;32m      3\u001b[0m                           \u001b[0mtime_stop\u001b[0m\u001b[1;33m=\u001b[0m\u001b[1;34m'2020-12-01 16:00'\u001b[0m\u001b[1;33m,\u001b[0m\u001b[1;33m\u001b[0m\u001b[1;33m\u001b[0m\u001b[0m\n\u001b[0;32m      4\u001b[0m                           \u001b[0mfreq_start\u001b[0m\u001b[1;33m=\u001b[0m\u001b[1;36m88\u001b[0m\u001b[1;33m,\u001b[0m\u001b[1;33m\u001b[0m\u001b[1;33m\u001b[0m\u001b[0m\n\u001b[0;32m      5\u001b[0m                           freq_stop=108) \n",
      "\u001b[1;31mNameError\u001b[0m: name 'extract_bin_stats' is not defined"
     ]
    }
   ],
   "source": [
    "dados = extract_bin_stats(binfile, \n",
    "                          time_start='01/12/2020 15:45',\n",
    "                          time_stop='2020-12-01 16:00',\n",
    "                          freq_start=88,\n",
    "                          freq_stop=108) \n",
    "dados"
   ]
  },
  {
   "cell_type": "code",
   "execution_count": null,
   "metadata": {},
   "outputs": [
    {
     "name": "stdout",
     "output_type": "stream",
     "text": [
      "Converted 00_main.ipynb.\n",
      "Converted 01_parser.ipynb.\n",
      "Converted 02_utils.ipynb.\n",
      "Converted 03_blocks.ipynb.\n",
      "Converted 04_constants.ipynb.\n",
      "Converted index.ipynb.\n",
      "Converted Untitled.ipynb.\n"
     ]
    }
   ],
   "source": [
    "#hide\n",
    "from nbdev.export import notebook2script\n",
    "notebook2script()"
   ]
  },
  {
   "cell_type": "code",
   "execution_count": null,
   "metadata": {},
   "outputs": [],
   "source": []
  }
 ],
 "metadata": {
  "kernelspec": {
   "display_name": "Python [conda env:rfpy]",
   "language": "python",
   "name": "conda-env-rfpy-py"
  }
 },
 "nbformat": 4,
 "nbformat_minor": 4
}
