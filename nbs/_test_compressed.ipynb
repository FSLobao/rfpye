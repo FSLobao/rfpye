{
 "cells": [
  {
   "cell_type": "code",
   "execution_count": null,
   "id": "adjustable-valuation",
   "metadata": {},
   "outputs": [],
   "source": [
    "#hide \n",
    "#Standard Lib imports\n",
    "import sys, os\n",
    "from pathlib import Path\n",
    "\n",
    "# Insert in Path Project Directory\n",
    "sys.path.insert(0, str(Path().cwd().parent))"
   ]
  },
  {
   "cell_type": "code",
   "execution_count": null,
   "id": "sticky-tumor",
   "metadata": {},
   "outputs": [],
   "source": [
    "import warnings\n",
    "with warnings.catch_warnings():\n",
    "    warnings.simplefilter(\"ignore\")\n",
    "from pprint import pprint as pp\n",
    "from datetime import datetime as dt\n",
    "from typing import *\n",
    "import rfpy\n",
    "from rfpy.constants import *\n",
    "from rfpy.parser import *\n",
    "from rfpy.utils import *\n",
    "from rfpy.blocks import *\n",
    "from rfpy.main import export_metadata\n",
    "from rfpy.parser import _extract_level\n",
    "from nbdev.showdoc import *\n",
    "from fastcore.xtras import Path\n",
    "from fastcore.foundation import L\n",
    "from fastcore.test import *\n",
    "from fastcore.parallel import parallel\n",
    "import numpy as np\n",
    "import pandas as pd\n",
    "\n",
    "%load_ext autoreload\n",
    "%autoreload 2 "
   ]
  },
  {
   "cell_type": "code",
   "execution_count": null,
   "id": "hourly-immunology",
   "metadata": {},
   "outputs": [],
   "source": [
    "entrada = Path(r'C:\\Users\\rsilva\\Downloads\\entrada')\n",
    "saida = Path(r'C:\\Users\\rsilva\\Downloads\\saida')"
   ]
  },
  {
   "cell_type": "code",
   "execution_count": null,
   "id": "caring-syndrome",
   "metadata": {},
   "outputs": [
    {
     "data": {
      "text/plain": [
       "(#5) [Path('C:/Users/rsilva/Downloads/entrada/201201_T153421_OneThreadID.bin'),Path('C:/Users/rsilva/Downloads/entrada/201201_T154509_MultiplesThreadID.bin'),Path('C:/Users/rsilva/Downloads/entrada/rfeye002092_210223_T163131_MaskBroken.bin'),Path('C:/Users/rsilva/Downloads/entrada/rfeye002292_210210_T230245_MaskBroken.bin'),Path('C:/Users/rsilva/Downloads/entrada/pmec/rfeye002304_SLMA_PEAK_200828_132002.bin')]"
      ]
     },
     "execution_count": null,
     "metadata": {},
     "output_type": "execute_result"
    }
   ],
   "source": [
    "arquivos = get_files(entrada) ;  arquivos"
   ]
  },
  {
   "cell_type": "code",
   "execution_count": null,
   "id": "understood-sarah",
   "metadata": {},
   "outputs": [],
   "source": [
    "compressed = arquivos[2]"
   ]
  },
  {
   "cell_type": "code",
   "execution_count": null,
   "id": "falling-hunter",
   "metadata": {},
   "outputs": [
    {
     "name": "stdout",
     "output_type": "stream",
     "text": [
      "Wall time: 4.53 s\n"
     ]
    }
   ],
   "source": [
    "%%time\n",
    "blocks = parse_bin(compressed)"
   ]
  },
  {
   "cell_type": "code",
   "execution_count": null,
   "id": "forbidden-listing",
   "metadata": {},
   "outputs": [
    {
     "data": {
      "text/plain": [
       "{'file_version': 23,\n",
       " 'string': 'CRFS DATA FILE V023',\n",
       " 'blocks': defaultdict(fastcore.foundation.L,\n",
       "             {(21,\n",
       "               0): (#1) [((36, 111), <rfpy.blocks.DType21 object at 0x000001986935BBC8>)],\n",
       "              (42,\n",
       "               0): (#2) [((116, 199), <rfpy.blocks.DType42 object at 0x00000198695A7808>),((204, 339), <rfpy.blocks.DType42 object at 0x00000198695A7208>)],\n",
       "              (42,\n",
       "               301): (#1) [((344, 447), <rfpy.blocks.DType42 object at 0x00000198695A71C8>)],\n",
       "              (42,\n",
       "               311): (#1) [((452, 551), <rfpy.blocks.DType42 object at 0x00000198695A74C8>)],\n",
       "              (42,\n",
       "               321): (#1) [((556, 655), <rfpy.blocks.DType42 object at 0x0000019869587488>)],\n",
       "              (42,\n",
       "               331): (#1) [((660, 759), <rfpy.blocks.DType42 object at 0x0000019869587F08>)],\n",
       "              (68,\n",
       "               331): (#734) [((764, 955), <rfpy.blocks.DType68 object at 0x00000198695A0EC8>),((5688, 5903), <rfpy.blocks.DType68 object at 0x00000198692393C8>),((30244, 30451), <rfpy.blocks.DType68 object at 0x000001987F886808>),((71368, 71579), <rfpy.blocks.DType68 object at 0x000001987F894388>),((155228, 155471), <rfpy.blocks.DType68 object at 0x000001987F8B0248>),((274920, 275115), <rfpy.blocks.DType68 object at 0x000001987F8D3B08>),((346128, 346319), <rfpy.blocks.DType68 object at 0x000001987F8E9AC8>),((402200, 402379), <rfpy.blocks.DType68 object at 0x000001987F8FB488>),((8861788, 8862023), <rfpy.blocks.DType68 object at 0x00000198002D8F48>),((9317496, 9317703), <rfpy.blocks.DType68 object at 0x0000019800365F08>)...],\n",
       "              (42,\n",
       "               341): (#1) [((960, 1059), <rfpy.blocks.DType42 object at 0x00000198695A03C8>)],\n",
       "              (42,\n",
       "               351): (#1) [((1064, 1163), <rfpy.blocks.DType42 object at 0x00000198667A17C8>)],\n",
       "              (42,\n",
       "               361): (#1) [((1168, 1267), <rfpy.blocks.DType42 object at 0x0000019866F5BE88>)],\n",
       "              (42,\n",
       "               371): (#1) [((1272, 1371), <rfpy.blocks.DType42 object at 0x000001986956CE08>)],\n",
       "              (42,\n",
       "               381): (#1) [((1376, 1475), <rfpy.blocks.DType42 object at 0x00000198663CB908>)],\n",
       "              (42,\n",
       "               391): (#1) [((1480, 1579), <rfpy.blocks.DType42 object at 0x0000019866E82A88>)],\n",
       "              (68,\n",
       "               301): (#133932) [((1584, 2071), <rfpy.blocks.DType68 object at 0x0000019869395648>),((2076, 2787), <rfpy.blocks.DType68 object at 0x0000019869395808>),((3040, 3703), <rfpy.blocks.DType68 object at 0x0000019869390E88>),((3768, 4391), <rfpy.blocks.DType68 object at 0x00000198693904C8>),((4396, 5179), <rfpy.blocks.DType68 object at 0x0000019869326348>),((5184, 5683), <rfpy.blocks.DType68 object at 0x0000019869360548>),((5908, 6527), <rfpy.blocks.DType68 object at 0x00000198690BF448>),((6532, 7063), <rfpy.blocks.DType68 object at 0x0000019866405C88>),((7068, 7751), <rfpy.blocks.DType68 object at 0x0000019866405A48>),((8068, 8571), <rfpy.blocks.DType68 object at 0x00000198663E1908>)...],\n",
       "              (68,\n",
       "               311): (#11464) [((2792, 3035), <rfpy.blocks.DType68 object at 0x00000198693956C8>),((7816, 8063), <rfpy.blocks.DType68 object at 0x0000019866405048>),((12776, 13023), <rfpy.blocks.DType68 object at 0x00000198695C8B48>),((18944, 19187), <rfpy.blocks.DType68 object at 0x000001987F881A08>),((24696, 24955), <rfpy.blocks.DType68 object at 0x000001987F883A88>),((33696, 33959), <rfpy.blocks.DType68 object at 0x000001987F888248>),((41704, 41939), <rfpy.blocks.DType68 object at 0x000001987F88A408>),((50012, 50255), <rfpy.blocks.DType68 object at 0x000001987F88D588>),((57760, 58003), <rfpy.blocks.DType68 object at 0x000001987F88F748>),((67424, 67663), <rfpy.blocks.DType68 object at 0x000001987F892BC8>)...],\n",
       "              (40,\n",
       "               1): (#18462) [((3708, 3763), <rfpy.blocks.DType40 object at 0x0000019869390D48>),((7756, 7811), <rfpy.blocks.DType40 object at 0x0000019866405488>),((11236, 11291), <rfpy.blocks.DType40 object at 0x00000198695C8748>),((17812, 17867), <rfpy.blocks.DType40 object at 0x000001987F881608>),((20184, 20239), <rfpy.blocks.DType40 object at 0x000001987F881E88>),((26404, 26459), <rfpy.blocks.DType40 object at 0x000001987F883F48>),((32792, 32847), <rfpy.blocks.DType40 object at 0x000001987F886F88>),((40912, 40967), <rfpy.blocks.DType40 object at 0x000001987F88A188>),((48688, 48743), <rfpy.blocks.DType40 object at 0x000001987F88D1C8>),((54852, 54907), <rfpy.blocks.DType40 object at 0x000001987F88F048>)...],\n",
       "              (42,\n",
       "               1): (#307) [((519484, 520219), <rfpy.blocks.DType42 object at 0x000001987F91E508>),((1094668, 1095403), <rfpy.blocks.DType42 object at 0x000001987F9D1488>),((1732516, 1733251), <rfpy.blocks.DType42 object at 0x000001987FA8A108>),((2380800, 2381535), <rfpy.blocks.DType42 object at 0x000001987FB47388>),((3012592, 3013327), <rfpy.blocks.DType42 object at 0x000001987FC04908>),((3623696, 3624431), <rfpy.blocks.DType42 object at 0x000001987FCBA388>),((4211900, 4212635), <rfpy.blocks.DType42 object at 0x000001987FD68308>),((4824824, 4825559), <rfpy.blocks.DType42 object at 0x000001987FE1D1C8>),((5382204, 5382939), <rfpy.blocks.DType42 object at 0x000001987FEC5988>),((5875960, 5876695), <rfpy.blocks.DType42 object at 0x000001987FF62388>)...],\n",
       "              (68,\n",
       "               341): (#44) [((7431196, 7431599), <rfpy.blocks.DType68 object at 0x0000019800134908>),((10089540, 10089923), <rfpy.blocks.DType68 object at 0x00000198004AC248>),((10113044, 10113423), <rfpy.blocks.DType68 object at 0x00000198004BCD48>),((10512176, 10512551), <rfpy.blocks.DType68 object at 0x0000019800537B48>),((14941144, 14941551), <rfpy.blocks.DType68 object at 0x0000019800A7D608>),((21292548, 21292951), <rfpy.blocks.DType68 object at 0x0000019801242588>),((24303216, 24303623), <rfpy.blocks.DType68 object at 0x00000198016B4BC8>),((30949252, 30949631), <rfpy.blocks.DType68 object at 0x0000019802034A48>),((31154788, 31155199), <rfpy.blocks.DType68 object at 0x000001980208D1C8>),((31543420, 31543887), <rfpy.blocks.DType68 object at 0x000001980211B048>)...],\n",
       "              (68,\n",
       "               321): (#46) [((40308884, 40309551), <rfpy.blocks.DType68 object at 0x0000019802C729C8>),((40533268, 40533923), <rfpy.blocks.DType68 object at 0x0000019802CB6708>),((43178004, 43178679), <rfpy.blocks.DType68 object at 0x0000019802FF6488>),((43195024, 43195695), <rfpy.blocks.DType68 object at 0x0000019802FFE448>),((43222064, 43222735), <rfpy.blocks.DType68 object at 0x0000019803008948>),((43239576, 43240243), <rfpy.blocks.DType68 object at 0x000001980300FAC8>),((43287324, 43287999), <rfpy.blocks.DType68 object at 0x000001980301E9C8>),((43338772, 43339447), <rfpy.blocks.DType68 object at 0x000001980302F488>),((43431872, 43432543), <rfpy.blocks.DType68 object at 0x000001980304B848>),((43606140, 43606815), <rfpy.blocks.DType68 object at 0x000001980307DD88>)...]})}"
      ]
     },
     "execution_count": null,
     "metadata": {},
     "output_type": "execute_result"
    }
   ],
   "source": [
    "blocks"
   ]
  },
  {
   "cell_type": "code",
   "execution_count": null,
   "id": "sporting-biodiversity",
   "metadata": {},
   "outputs": [],
   "source": [
    "b = blocks['blocks'][(68,311)]"
   ]
  },
  {
   "cell_type": "code",
   "execution_count": null,
   "id": "sitting-cleanup",
   "metadata": {},
   "outputs": [
    {
     "data": {
      "text/plain": [
       "(#11464) [((2792, 3035), <rfpy.blocks.DType68 object at 0x00000198693956C8>),((7816, 8063), <rfpy.blocks.DType68 object at 0x0000019866405048>),((12776, 13023), <rfpy.blocks.DType68 object at 0x00000198695C8B48>),((18944, 19187), <rfpy.blocks.DType68 object at 0x000001987F881A08>),((24696, 24955), <rfpy.blocks.DType68 object at 0x000001987F883A88>),((33696, 33959), <rfpy.blocks.DType68 object at 0x000001987F888248>),((41704, 41939), <rfpy.blocks.DType68 object at 0x000001987F88A408>),((50012, 50255), <rfpy.blocks.DType68 object at 0x000001987F88D588>),((57760, 58003), <rfpy.blocks.DType68 object at 0x000001987F88F748>),((67424, 67663), <rfpy.blocks.DType68 object at 0x000001987F892BC8>)...]"
      ]
     },
     "execution_count": null,
     "metadata": {},
     "output_type": "execute_result"
    }
   ],
   "source": [
    "b"
   ]
  },
  {
   "cell_type": "code",
   "execution_count": null,
   "id": "trying-chocolate",
   "metadata": {},
   "outputs": [],
   "source": [
    "# %%time\n",
    "# espectro = extract_block_levels(b)"
   ]
  },
  {
   "cell_type": "markdown",
   "id": "visible-soccer",
   "metadata": {},
   "source": [
    "```c\n",
    "#define RUN 255 \n",
    "#define ESC 254 \n",
    "int run_length_decode(unsigned char *dest, unsigned char *src, int nsrc, int thresh) { \n",
    "    int si=0,di=0,nrun; \n",
    "    unsigned char ib; \n",
    "    while (si < nsrc) { \n",
    "        ib = src[si++]; \n",
    "        if (ib == RUN) { \n",
    "            nrun = src[si++];\n",
    "            while(nrun-- >0){ \n",
    "                dest[di++] = thresh; }\n",
    "        } else if (ib == ESC) {\n",
    "            /* next value is literal */ \n",
    "            dest[di++] = src[si++];\n",
    "        } else {\n",
    "            /* value */ \n",
    "            dest[di++] = ib; \n",
    "        } \n",
    "    } return di; \n",
    "} \n",
    "\n",
    "int run_length_encode(unsigned char *dest, unsigned char *src, int nsrc, int thresh) { \n",
    "    unsigned char ib; \n",
    "    int di = 0, si, nunder = 0; \n",
    "    for(si = 0; si < nsrc; si++){ \n",
    "        ib = src[si]; \n",
    "        if ((ib < thresh) && (si < (nsrc-1)) && (nunder < 250)) { \n",
    "            nunder += 1; \n",
    "        } else { \n",
    "            if (nunder > 0) { \n",
    "                dest[di++] = RUN; \n",
    "                dest[di++] = nunder; \n",
    "                nunder = 0; \n",
    "            } if ((ib == RUN) || (ib == ESC)) {\n",
    "                dest[di++] = ESC; \n",
    "                dest[di++] = ib; \n",
    "            } else { \n",
    "                dest[di++] = ib; \n",
    "            } \n",
    "        } \n",
    "    } return di; \n",
    "}\n",
    "```"
   ]
  },
  {
   "cell_type": "code",
   "execution_count": null,
   "id": "unknown-broadway",
   "metadata": {},
   "outputs": [
    {
     "name": "stdout",
     "output_type": "stream",
     "text": [
      "Wall time: 13.1 s\n"
     ]
    }
   ],
   "source": [
    "%%time\n",
    "spectrum_blocks = b.itemgot(1)\n",
    "levels = parallel(_extract_level, spectrum_blocks, n_workers=os.cpu_count(), progress=False)"
   ]
  },
  {
   "cell_type": "code",
   "execution_count": null,
   "id": "animal-joshua",
   "metadata": {},
   "outputs": [
    {
     "ename": "AttributeError",
     "evalue": "'tuple' object has no attribute 'frequencies'",
     "output_type": "error",
     "traceback": [
      "\u001b[1;31m---------------------------------------------------------------------------\u001b[0m",
      "\u001b[1;31mAttributeError\u001b[0m                            Traceback (most recent call last)",
      "\u001b[1;32m<ipython-input-17-259d3930b5d1>\u001b[0m in \u001b[0;36m<module>\u001b[1;34m\u001b[0m\n\u001b[1;32m----> 1\u001b[1;33m \u001b[0mb\u001b[0m\u001b[1;33m[\u001b[0m\u001b[1;33m-\u001b[0m\u001b[1;36m1\u001b[0m\u001b[1;33m]\u001b[0m\u001b[1;33m.\u001b[0m\u001b[0mfrequencies\u001b[0m\u001b[1;33m\u001b[0m\u001b[1;33m\u001b[0m\u001b[0m\n\u001b[0m",
      "\u001b[1;31mAttributeError\u001b[0m: 'tuple' object has no attribute 'frequencies'"
     ]
    }
   ],
   "source": [
    "b[-1].frequencies"
   ]
  },
  {
   "cell_type": "code",
   "execution_count": null,
   "id": "bigger-browser",
   "metadata": {},
   "outputs": [
    {
     "data": {
      "text/plain": [
       "array([[255., 250.,  67., 255., 250.,  65., 255., 250.,  66., 255., 250.,\n",
       "         65., 255., 250.,  64., 255., 250.,  63., 255., 250.,  65., 255.,\n",
       "        250.,  65., 255.,  37.,  96., 118., 124., 119.,  98., 255., 250.,\n",
       "         65., 255., 250.,  61., 255., 250.,  64., 255., 250.,  65., 255.,\n",
       "        153., 120., 133., 133., 120., 255., 221., 115., 133., 141., 138.,\n",
       "        127., 110.,  96.,  68.]], dtype=float16)"
      ]
     },
     "execution_count": null,
     "metadata": {},
     "output_type": "execute_result"
    }
   ],
   "source": [
    "levels[-1]"
   ]
  },
  {
   "cell_type": "code",
   "execution_count": null,
   "id": "dutch-silicon",
   "metadata": {},
   "outputs": [
    {
     "data": {
      "text/plain": [
       "array([[255., 250.,  65., 255., 250.,  67., 255., 250.,  64., 255., 250.,\n",
       "         65., 255., 250.,  65., 255., 250.,  63., 255., 250.,  64., 255.,\n",
       "        250.,  65., 255.,  37.,  98., 119., 125., 119.,  98., 255., 250.,\n",
       "         63., 255., 250.,  64., 255., 250.,  64., 255., 250.,  66., 255.,\n",
       "        250.,  65., 255., 127., 104., 134., 148., 148., 135., 101., 255.,\n",
       "         17.,  98., 255.,  60., 102., 108., 104.,  65.]], dtype=float16)"
      ]
     },
     "execution_count": null,
     "metadata": {},
     "output_type": "execute_result"
    }
   ],
   "source": [
    "levels[-2]"
   ]
  },
  {
   "cell_type": "code",
   "execution_count": null,
   "id": "dried-intent",
   "metadata": {},
   "outputs": [
    {
     "data": {
      "text/plain": [
       "array([[255., 148.,  99., 114., 125., 131., 136., 138., 128., 117., 105.,\n",
       "        255., 250.,  65., 255., 250.,  63., 255., 250.,  63., 255., 250.,\n",
       "         60., 255., 250.,  61., 255., 250.,  61., 255., 250.,  63., 255.,\n",
       "        132., 108., 114., 108., 255., 250.,  63., 255., 250.,  61., 255.,\n",
       "        250.,  61., 255., 250.,  63., 255., 250.,  64., 255., 212.,  98.,\n",
       "         97.,  62.]], dtype=float16)"
      ]
     },
     "execution_count": null,
     "metadata": {},
     "output_type": "execute_result"
    }
   ],
   "source": [
    "levels[0]"
   ]
  },
  {
   "cell_type": "code",
   "execution_count": null,
   "id": "anticipated-operator",
   "metadata": {},
   "outputs": [],
   "source": [
    "RUN = 255\n",
    "ESC = 254"
   ]
  },
  {
   "cell_type": "code",
   "execution_count": null,
   "id": "turkish-naples",
   "metadata": {},
   "outputs": [],
   "source": []
  }
 ],
 "metadata": {
  "kernelspec": {
   "display_name": "Python [conda env:rfpy]",
   "language": "python",
   "name": "conda-env-rfpy-py"
  }
 },
 "nbformat": 4,
 "nbformat_minor": 5
}
