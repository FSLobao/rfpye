{
 "cells": [
  {
   "cell_type": "markdown",
   "id": "01f04b04",
   "metadata": {},
   "source": [
    "# Leitura de dados binários - um exemplo de otimização em Python\n",
    "> As atividades de monitoramento do espectro de radiofrequência na ANATEL, especificamente aquelas que utilizam estações remotas de monitoramento, geram centenas de GB de dados. Um dos primeiros desafios para a utilização mais eficiente desses dados é a sua leitura eficiente. Nesse artigo é detalhada as iterações realizadas para resolver esse problema, primeiramente tornar essa leitura viável e posteriormente os passos de otimização aplicados no algoritmo para decodificar os dados de arquivos comprimidos \n",
    "\n",
    "- toc: true\n",
    "- branch: master\n",
    "- badges: true\n",
    "- comments: true\n",
    "- categories: [spectrum monitoring, profiling, numpy, cython]\n",
    "- image: images/multiplication.jpg\n",
    "- hide_binder_badge: true\n",
    "- author: Ronaldo S.A. Batista"
   ]
  },
  {
   "cell_type": "markdown",
   "id": "320342f9",
   "metadata": {},
   "source": [
    "![](images/knuth.jpeg \"Crédito: https://twitter.com/lpolovets/status/816117631572807680\")"
   ]
  },
  {
   "cell_type": "markdown",
   "id": "ae59a851",
   "metadata": {},
   "source": [
    "O objeto desse artigo são arquivos binários com extensão `.bin` - gerados pela aplicação `Logger` embarcada nas estações de monitoramento do tipo [Rfeye Node 20-6](http://agc.com.br/produto/rfeye-node/).\n",
    "\n",
    "Estes arquivos armazenam diversos metadados sobre a medição e blocos com informação numérica, que são as medidas em si, chamadas aqui de _dados de espectro_ ou _dados espectrais_. \n",
    "\n",
    "A versão recente da aplicação `Logger` gera dados comprimidos de maneira muito eficiente, o que torna a descompressão desafiadora para arquivos com muitos dados e bastante demorada caso seja feita de maneira \"ingênua\".\n",
    "\n",
    "Mesmo que essa o problema apresentado aqui pareça obscuro, as técnicas de otimização podem ser aplicadas em outros contextos que sejam relevantes para quem lê."
   ]
  },
  {
   "cell_type": "markdown",
   "id": "5b0102a0",
   "metadata": {},
   "source": [
    "> Note: Nos parágrafos a seguir irei passar por cima deliberadamente ( por não serem relevantes para a otimização e por pouco conhecimento no assunto ) de explicações sobre a parte de física / engenharia de telecomunicações e irei focar mais no problema específico de decodificação dos arquivos."
   ]
  },
  {
   "cell_type": "markdown",
   "id": "3bf71e6c",
   "metadata": {},
   "source": [
    "## Explorando o arquivo `.bin`\n",
    "\n",
    "Cada arquivo `.bin` possui dados distintos em um mesmo arquivo, em dois níveis `blocos` e `thread_id`.\n",
    "\n",
    "* Um `bloco` determina o tipo de dado: espectro, gps, dados textuais etc...\n",
    "* O `thread_id` nada mais é que um identificador da faixa específica de varredura armazenada naquele bloco.\n",
    "\n",
    "A função a seguir `parse_bin` encapsula a leitura do arquivo e seus metadados e retorna um dicionário cujas chaves são as diferentes combinações de `blocos` e `thread_id` e os valores são listas com os blocos. \n",
    "\n",
    "> Note: Cada bloco é uma classe python contendo seus atributos. Os detalhes de implementação dessa função podem ser ignorados, o que nos interessa aqui é uma vez que temos os bytes de dados com os valores de níveis como o lemos de maneira eficiente.\n",
    "\n",
    "> Tip: A biblioteca `rfpy` criada para o processamento desses arquivos faz amplo uso da biblioteca [fastcore](https://fastcore.fast.ai/). Esta expande as funcionalidades da linguagem python inspirada em atributos muito úteis de outras linguagens. Recomendo fortemente para quem deseja expandir o seu inventário de ferramentas python"
   ]
  },
  {
   "cell_type": "code",
   "execution_count": null,
   "id": "af8d22e2",
   "metadata": {},
   "outputs": [],
   "source": [
    "#hide\n",
    "%load_ext autoreload\n",
    "%load_ext line_profiler\n",
    "%load_ext cython\n",
    "%autoreload 2 "
   ]
  },
  {
   "cell_type": "code",
   "execution_count": null,
   "id": "5803a96a",
   "metadata": {},
   "outputs": [],
   "source": [
    "import sys, os\n",
    "from tqdm.notebook import tqdm\n",
    "from fastcore.xtras import Path\n",
    "# Insert in Path Project Directory\n",
    "sys.path.insert(0, str(Path().cwd().parent))\n",
    "from multiprocessing import set_start_method, Pool\n",
    "try:\n",
    "    set_start_method(\"spawn\")\n",
    "except RuntimeError:\n",
    "    pass\n",
    "import gc\n",
    "import warnings\n",
    "with warnings.catch_warnings():\n",
    "    warnings.simplefilter(\"ignore\")\n",
    "from rfpy.parser import parse_bin\n",
    "from rfpy.utils import public_attrs\n",
    "from fastcore.foundation import L\n",
    "import numpy as np\n",
    "import pandas as pd\n",
    "from pprint import pprint as pp\n",
    "from IPython.display import display\n",
    "import gc"
   ]
  },
  {
   "cell_type": "code",
   "execution_count": null,
   "id": "1823ce8f",
   "metadata": {},
   "outputs": [
    {
     "name": "stdout",
     "output_type": "stream",
     "text": [
      "Tipo de Bloco: 68, Thread_ID: 331, Nº de blocos 734, Exemplo de Blocos: ((764, 955), <rfpy.blocks.DType68 object at 0x0000023F4EF7A288>)\n",
      "Tipo de Bloco: 68, Thread_ID: 301, Nº de blocos 133932, Exemplo de Blocos: ((1584, 2071), <rfpy.blocks.DType68 object at 0x0000023F4BF68388>)\n",
      "Tipo de Bloco: 68, Thread_ID: 311, Nº de blocos 11464, Exemplo de Blocos: ((2792, 3035), <rfpy.blocks.DType68 object at 0x0000023F4A9BEF88>)\n",
      "Tipo de Bloco: 40, Thread_ID: 1, Nº de blocos 18462, Exemplo de Blocos: ((3708, 3763), <rfpy.blocks.DType40 object at 0x0000023F4EF7A748>)\n",
      "Tipo de Bloco: 68, Thread_ID: 341, Nº de blocos 44, Exemplo de Blocos: ((7431196, 7431599), <rfpy.blocks.DType68 object at 0x0000023F5D06F7C8>)\n",
      "Tipo de Bloco: 68, Thread_ID: 321, Nº de blocos 46, Exemplo de Blocos: ((40308884, 40309551), <rfpy.blocks.DType68 object at 0x0000023F62D21D48>)\n"
     ]
    }
   ],
   "source": [
    "blocks = parse_bin('binfiles/rfeye002092_210223_T163131_MaskBroken.bin')\n",
    "blocks = blocks['blocks']\n",
    "\n",
    "for k,v in blocks.items():\n",
    "    print(f'Tipo de Bloco: {k[0]}, Thread_ID: {k[1]}, Nº de blocos {len(v)}, Exemplo de Blocos: {v[0]}')"
   ]
  },
  {
   "cell_type": "markdown",
   "id": "921713ab",
   "metadata": {},
   "source": [
    "Vemos que esse arquivo tem diferentes tipos de blocos, à direita é mostrado uma tupla contendo outra tupla com 2 valores numéricos e 1 objeto. A tupla com valores numéricos mostra a posição de início e fim dos bytes de dados ( os demais bytes são metadados encapsulados no objeto ) e o objeto nada mais é que uma classe python que armazenada os atributos do bloco.\n",
    "\n",
    "O que nos interessa aqui são os blocos de espectro, blocos do tipo 68.\n",
    "\n",
    "Temos 5 diferentes blocos do tipo 68, vamos observar o que os diferencia:"
   ]
  },
  {
   "cell_type": "code",
   "execution_count": null,
   "id": "7867b300",
   "metadata": {},
   "outputs": [],
   "source": [
    "b301 = blocks[(68,301)][0][1] \n",
    "b321 = blocks[(68,321)][0][1]\n",
    "b331 = blocks[(68,331)][0][1]\n",
    "b341 = blocks[(68,341)][0][1]"
   ]
  },
  {
   "cell_type": "code",
   "execution_count": null,
   "id": "0847c117",
   "metadata": {},
   "outputs": [
    {
     "data": {
      "text/plain": [
       "(108, 137)"
      ]
     },
     "execution_count": null,
     "metadata": {},
     "output_type": "execute_result"
    }
   ],
   "source": [
    "b301.start_mega, b301.stop_mega"
   ]
  },
  {
   "cell_type": "code",
   "execution_count": null,
   "id": "7876558d",
   "metadata": {},
   "outputs": [
    {
     "data": {
      "text/plain": [
       "(320, 340)"
      ]
     },
     "execution_count": null,
     "metadata": {},
     "output_type": "execute_result"
    }
   ],
   "source": [
    "b321.start_mega, b321.stop_mega"
   ]
  },
  {
   "cell_type": "code",
   "execution_count": null,
   "id": "21cbb90c",
   "metadata": {},
   "outputs": [
    {
     "data": {
      "text/plain": [
       "(400, 410)"
      ]
     },
     "execution_count": null,
     "metadata": {},
     "output_type": "execute_result"
    }
   ],
   "source": [
    "b331.start_mega, b331.stop_mega"
   ]
  },
  {
   "cell_type": "code",
   "execution_count": null,
   "id": "9974fee0",
   "metadata": {},
   "outputs": [
    {
     "data": {
      "text/plain": [
       "(960, 1219)"
      ]
     },
     "execution_count": null,
     "metadata": {},
     "output_type": "execute_result"
    }
   ],
   "source": [
    "b341.start_mega, b341.stop_mega"
   ]
  },
  {
   "cell_type": "markdown",
   "id": "ef00de17",
   "metadata": {},
   "source": [
    "Vemos portanto que o quê diferencia diferentes blocos do mesmo tipo mas com diferentes `thread_id` é a faixa de frequência de varredura. \n",
    "\n",
    "O primeiro tipo de bloco mostrado, o bloco do tipo `68` e thread_id `301`, é o mais numeroso do arquivo com 133932 blocos. \n",
    "\n",
    "A faixa desse arquivo é muito importante e de grande enfoque nas monitorações da Anatel - 108MHz a 137MHz. Essa faixa é a do Serviço Limitado Móvel Aeronáutico, dedicada a comunicações entre aeronaves com as torres de comando e entre si."
   ]
  },
  {
   "cell_type": "markdown",
   "id": "f5682a23",
   "metadata": {},
   "source": [
    "Cada bloco é uma medição num intervalo de tempo específico dessa faixa, no caso 108MHz a 137MHz, dividida em várias amostras ( recortes ) da faixa. Portanto temos `133932` medições."
   ]
  },
  {
   "cell_type": "code",
   "execution_count": null,
   "id": "4982cf8d",
   "metadata": {},
   "outputs": [
    {
     "data": {
      "text/plain": [
       "b'\\xff\\xfaF\\xff\\xfaH\\xff\\xfaH\\xff\\xfaE\\xff\\xfaA\\xff\\xfaB\\xff\\xfaA\\xff\\xfa>\\xff\\xfa>\\xff\\xfa=\\xff\\xfa<\\xff\\xfa;\\xff\\xfa;\\xff\\xfa;\\xff\\xfa;\\xff\\xfa;\\xff\\xfa5\\xff\\xfa5\\xff\\xfa6\\xff\\xfa7\\xff\\xfa8\\xff\\xfa7\\xff\\xfa6\\xff\\xfa4\\xffv`d`\\xff\\xfa6\\xff\\x9bamm`\\xff\\xfa6\\xff\\xfa8\\xff\\xfa8\\xff\\xfa8\\xff\\xfa8\\xff\\xfa7\\xff\\xfa6\\xff\\xfa5\\xff\\x8ba\\xff\\xfa4\\xff\\xfa6\\xff\\xfa4\\xff\\xfa5\\xff\\xfa5\\xff\\x97g|\\x82{f\\xff\\xfa5\\xff\\xfa5\\xff\\xfa7\\xff\\xfa7\\xff\\xfa8\\xff\\xfa6\\xff\\xfa6\\xff\\xfa6\\xff\\xfa8\\xff\\xfa7\\xff\\xfa8\\xff\\xfa8\\xff\\xfa9\\xff\\xfa<\\xff\\xfa>\\xff\\xfa>\\xff\\xfaA\\xff\\xfaAB'"
      ]
     },
     "execution_count": null,
     "metadata": {},
     "output_type": "execute_result"
    }
   ],
   "source": [
    "b301.data[b301.start:b301.stop]"
   ]
  },
  {
   "cell_type": "markdown",
   "id": "363431a7",
   "metadata": {},
   "source": [
    "O Atributo `data` são os bytes brutos, i.e. não decodificados. Os atributos `start` e `stop` recortam os bytes nos pontos correspondentes às medidas de nível do arquivo binário, os demais pontos do arquivo, os metadados, são decodificados como atributos da classe, um exemplo foi mostrado acima com os atributos `start_mega` e `stop_mega`.\n",
    "\n",
    "O restante desse artigo é dedicado a decodificação dessas medidas de nível."
   ]
  },
  {
   "cell_type": "markdown",
   "id": "5edd46a3",
   "metadata": {},
   "source": [
    "## Codificação Espectral\n",
    "Dada estação faz uma medição de potência, para dada frequência, em dBm ( lê-se 'de-bê-eme' ), uma escala logarítmica com valores tipicamente negativos. A escala de valores que a estação armazena é a seguinte `Intervalo = [offset - 127.5, offset]`, onde `offset` (*deslocamento*) é um valor pré-estabelecido. Se a medida estiver fora desse intervalo, os valores são truncados. Um típico valor de `offset` é -*20dBm*\n",
    "\n",
    "Assim tendo o valor medido `d` em dBm ele é codificado e salvo no arquivo como um valor `b`:\n",
    "\n",
    "$$b = 2(d - offset) + 255$$\n",
    "\n",
    "Ao inserir os valores extremos do intervalo acima nessa fórmula:\n",
    "\n",
    "Para `d = offset - 127.5`:\n",
    "\n",
    "$$ \\therefore b = 2[(offset - 127.5) - offset] + 255 = 2 (-127.5) + 255 \\implies b = 0$$\n",
    "\n",
    "Para `d = offset`:\n",
    "$$\\therefore b = 2(offset - offset) + 255 = 2 * 0 + 255 \\implies b = 255$$\n",
    "\n",
    "Portanto o intervalo de valores possíveis ao serem codificados com a fórmula acima é `[0,255]`, justamente o intervalo de valores possíveis em 8 bits ou 1 byte, sem sinal. Assim, os dados de espectro truncados e codificados dessa maneira permitem um armazenamento extremamente econômico, ocupando somente 1 byte (`uint8` em python ou `unsigned char` na linguagem C.)\n",
    "\n",
    "Para decodificar tal valor, basta fazer o procedimento inverso  da fórmula acima. Ao isolar o valor `d` temos:\n",
    "$$d = \\frac{b}{2} + offset - 127.5$$"
   ]
  },
  {
   "cell_type": "markdown",
   "id": "a1986932",
   "metadata": {},
   "source": [
    "## Compressão de Dados\n",
    "Como dados de espectro são extremamente ruidosos ( índice sinal-ruído muito baixo ), isto é, a maioria do que observamos numa dada \"janela\" do espectro é simplesmente ruído. A aplicação `Logger` comprime esses dados de maneira engenhosa. Como mencionado, a cada instante de tempo a estação faz a medição dos níveis de determinada faixa, para tal ela divide a faixa em diversos intervalos e mede o nível da frequência central daquele intervalo. Quanto maior o número de intervalos mais granulosa ou detalhada serão essas medidas.\n",
    "\n",
    "**Algoritmo de Compressão**\n",
    "\n",
    "* No script é definido um limiar `threshold`, abaixo do qual tudo é considerado ruído\n",
    "* Para cada intervalo medido `i`, é verificado se o valor está abaixo do limiar\n",
    "* Caso afirmativo esse processo se repete para os intervalos vizinhos `i+1, i+2, etc...`\n",
    "* Esses intervalos são contados, até que apareça um ponto acima do limiar ou o máximo de `250` pontos seja atingido\n",
    "  * Nesse ponto é gravado no arquivo um byte marcador `RUN=255` indicando que o próximo byte armazena a contagem de pontos abaixo do limiar\n",
    "  * Nesse procedimento é ocupado somente 2 bytes, podendo ter sido comprimido o limite de 250 bytes no melhor dos casos.\n",
    "\n",
    "Um problema que pode ocorrer no algoritmo acima é se nos dados de medição tivermos o valor máximo medido `d=offset` assim o valor a ser gravado será `b=255`, o mesmo valor usado como marcador. \n",
    "\n",
    "Nesses casos temos o valor literal no ponto e não queremos que isso seja interpretado como marcador. \n",
    "\n",
    "Para lidar com esse caso é definido um segundo marcador `ESC=254`, esse marcador informa o algoritmo de decodificação que a medida seguinte é literal e não se trata de um marcador.\n",
    "\n",
    "Com alguns exemplos a seguir ficará mais claro o funcionamento do algoritmo. O algoritmo original de codificação ( escrito em C ) é apresentado a seguir:"
   ]
  },
  {
   "cell_type": "markdown",
   "id": "e648f810",
   "metadata": {},
   "source": [
    "```c\n",
    "int run_length_encode(unsigned char *dest, unsigned char *src, int nsrc, int thresh) { \n",
    "    unsigned char ib; \n",
    "    int di = 0, si, nunder = 0; \n",
    "    for(si = 0; si < nsrc; si++){ \n",
    "        ib = src[si]; \n",
    "        if ((ib < thresh) && (si < (nsrc-1)) && (nunder < 250)) { \n",
    "            nunder += 1; \n",
    "        } else { \n",
    "            if (nunder > 0) { \n",
    "                dest[di++] = RUN; \n",
    "                dest[di++] = nunder; \n",
    "                nunder = 0; \n",
    "            } if ((ib == RUN) || (ib == ESC)) {\n",
    "                dest[di++] = ESC; \n",
    "                dest[di++] = ib; \n",
    "            } else { \n",
    "                dest[di++] = ib; \n",
    "            } \n",
    "        } \n",
    "    } return di; \n",
    "}\n",
    "```"
   ]
  },
  {
   "cell_type": "markdown",
   "id": "8011584d",
   "metadata": {},
   "source": [
    "O algoritmo é bastante legível mesmo para quem não conhece C, exceto talvez por algumas coisas estranhas como ponteiros `*` e a incrementação de variáveis dentro dos arrays. \n",
    "Vamos escrevê-lo em python tentando manter o estilo em C e comentando para decifrarmos melhor seu propósito. "
   ]
  },
  {
   "cell_type": "code",
   "execution_count": null,
   "id": "0d675b76",
   "metadata": {},
   "outputs": [],
   "source": [
    "RUN = 255\n",
    "ESC = 254\n",
    "def run_length_encode(destino, origem, n_origem, limiar):\n",
    "    \n",
    "    conta_origem, conta_destino = 0,0 # si, and di\n",
    "    \n",
    "    num_under = 0\n",
    "    for si in range(n_origem): # percorro as posições do arquivo de origem\n",
    "        \n",
    "        byte_atual = origem[si] # leio o byte do arquivo fonte correspondente à posição si\n",
    "        \n",
    "        # Se o byte está abaixo do limiar e não atingi o fim do arquivo ou a contagem máxima\n",
    "        if (byte_atual < limiar) and (si < n_origem - 1) and (num_under < 250):\n",
    "            \n",
    "            num_under += 1 # incremento o contador de valor abaixo do limiar\n",
    "        else:\n",
    "            if num_under > 0: # valor atual está acima do limiar mas até o momento estávamos contando valores abaixo do limiar\n",
    "                \n",
    "                destination[conta_destino] = RUN # insiro o marcador de contagem de valores abaixo do limiar na posição atual do arquivo de destino\n",
    "                \n",
    "                conta_destino += 1 # incremento o contador do arquivo de destino\n",
    "                \n",
    "                destination[conta_destino] = num_under # coloco a contagem em si na próxima posição\n",
    "                \n",
    "                conta_destino += 1 # incremento o contador do arquivo de destino\n",
    "                \n",
    "                num_under = 0 # zero o contador de valores abaixo do limiar\n",
    "                \n",
    "            if (byte_atual == RUN) or (byte_atual == ESC): # checo se o valor lido atual corresponde a um dos valores utilizados como marcador\n",
    "                \n",
    "                destination[conta_destino] = ESC # coloco o marcador que o valor a seguir lido é literal\n",
    "                \n",
    "                conta_destino += 1 # incremento o contador do arquivo de destino\n",
    "                \n",
    "                destination[conta_destino] = byte_atual\n",
    "                \n",
    "                conta_destino += 1 # incremento o contador do arquivo de destino\n",
    "                \n",
    "            else: # caso o valor medido não corresponda a um dos valores reservador de marcador eu simplesmente guardo esse valor na posição atual\n",
    "                \n",
    "                destination[conta_destino] = byte_atual\n",
    "                \n",
    "                conta_destino += 1 # incremento o contador do arquivo de destino\n",
    "                \n",
    "    return destination            "
   ]
  },
  {
   "cell_type": "markdown",
   "id": "227738e0",
   "metadata": {},
   "source": [
    "O algoritmo está propositalmente \"não-pythônico\", mais ao estilo de C para ficar o mais próximo do original e espaçado por conta dos vários comentários.  \n",
    "\n",
    "Como sempre as coisas ficam mais claras com um exemplo"
   ]
  },
  {
   "cell_type": "markdown",
   "id": "782e7e47",
   "metadata": {},
   "source": [
    "**Exemplo 1 - Somente valores abaixo do limiar, i.e. somente ruído**"
   ]
  },
  {
   "cell_type": "code",
   "execution_count": null,
   "id": "1d15a7a9",
   "metadata": {},
   "outputs": [],
   "source": [
    "destination = [0] * 10 #lista com 10 valores 0\n",
    "offset = -20\n",
    "limiar = -80\n",
    "medidas = [-100] * 10 #lista com 10 valores com nível -100"
   ]
  },
  {
   "cell_type": "markdown",
   "id": "70c5e881",
   "metadata": {},
   "source": [
    "Como vimos acima esses valores de medida antes de serem codificados são transformados com seguinte fórmula: $b = 2(d - offset) + 255$. \n",
    "\n",
    "Portanto para as medidas acima, nosso arquivo de origem gravado fica:"
   ]
  },
  {
   "cell_type": "code",
   "execution_count": null,
   "id": "ab341280",
   "metadata": {},
   "outputs": [
    {
     "data": {
      "text/plain": [
       "[95, 95, 95, 95, 95, 95, 95, 95, 95, 95]"
      ]
     },
     "execution_count": null,
     "metadata": {},
     "output_type": "execute_result"
    }
   ],
   "source": [
    "origem = [int(2 * (d - offset) + 255) for d in medidas] ; origem"
   ]
  },
  {
   "cell_type": "code",
   "execution_count": null,
   "id": "ab4c0271",
   "metadata": {},
   "outputs": [],
   "source": [
    "limiar_encoded = 2 * (limiar - offset) + 255 "
   ]
  },
  {
   "cell_type": "code",
   "execution_count": null,
   "id": "8d8cd930",
   "metadata": {},
   "outputs": [
    {
     "data": {
      "text/plain": [
       "[255, 9, 95, 0, 0, 0, 0, 0, 0, 0]"
      ]
     },
     "execution_count": null,
     "metadata": {},
     "output_type": "execute_result"
    }
   ],
   "source": [
    "run_length_encode(destination, origem, len(origem), limiar_encoded)"
   ]
  },
  {
   "cell_type": "markdown",
   "id": "c55ef4cb",
   "metadata": {},
   "source": [
    "Temos 10 valores, todos abaixo do limiar, então o algoritmo armazena o marcador `RUN=255` mais a contagem de valores a seguir. Era esperado que a contagem fosse 10 e não 9. No entanto pela implementação do algoritmo o último valor é armazenado literalmente, mesmo estando abaixo do limiar. Esse é um caso limite no qual todos os valores do espectro estão abaixo do limiar. Perceba que nesse caso limite 3 bytes foram ocupados dos 10 originais"
   ]
  },
  {
   "cell_type": "markdown",
   "id": "42eaa527",
   "metadata": {},
   "source": [
    "**Exemplo 2 - Ruído mais valores normais**"
   ]
  },
  {
   "cell_type": "code",
   "execution_count": null,
   "id": "b35b8f90",
   "metadata": {},
   "outputs": [
    {
     "data": {
      "text/plain": [
       "[95, 95, 95, 95, 95, 145, 171, 251, 235, 139]"
      ]
     },
     "execution_count": null,
     "metadata": {},
     "output_type": "execute_result"
    }
   ],
   "source": [
    "destination = [0] * 10 #lista com 10 valores 0\n",
    "offset = -20\n",
    "limiar = -80\n",
    "medidas = [-100, -100, -100, -100, -100, -75, -62, -22, -30, -78]\n",
    "origem = [int(2 * (d - offset) + 255) for d in medidas]\n",
    "limiar_encoded = 2 * (limiar - offset) + 255 \n",
    "origem"
   ]
  },
  {
   "cell_type": "code",
   "execution_count": null,
   "id": "6f3bffce",
   "metadata": {},
   "outputs": [
    {
     "data": {
      "text/plain": [
       "[255, 5, 145, 171, 251, 235, 139, 0, 0, 0]"
      ]
     },
     "execution_count": null,
     "metadata": {},
     "output_type": "execute_result"
    }
   ],
   "source": [
    "run_length_encode(destination, origem, len(origem), limiar_encoded)"
   ]
  },
  {
   "cell_type": "markdown",
   "id": "933ac431",
   "metadata": {},
   "source": [
    "Temos 5 valores abaixo do limiar então é armazenado o marcador `RUN=255` seguido da contagem `[255,5...]` e em seguida são armazenados os valores literais que estão acima do limiar. Para esse caso ocupados 7 bytes dos 10 originais, os valores 0 ao final mostram bytes que não foram ocupados."
   ]
  },
  {
   "cell_type": "markdown",
   "id": "d4a17cbf",
   "metadata": {},
   "source": [
    "**Exemplo 3 - Ruído, Valores Normais e valores extremos igual ao `offset`**"
   ]
  },
  {
   "cell_type": "code",
   "execution_count": null,
   "id": "a27a2925",
   "metadata": {},
   "outputs": [
    {
     "data": {
      "text/plain": [
       "[95, 95, 95, 95, 95, 255, 254, 251, 235, 139]"
      ]
     },
     "execution_count": null,
     "metadata": {},
     "output_type": "execute_result"
    }
   ],
   "source": [
    "destination = [0] * 10 #lista com 10 valores 0\n",
    "offset = -20\n",
    "limiar = -80\n",
    "medidas = [-100, -100, -100, -100, -100, -20, -20.5, -22, -30, -78]\n",
    "origem = [int(2 * (d - offset) + 255) for d in medidas]\n",
    "limiar_encoded = 2 * (limiar - offset) + 255 \n",
    "origem"
   ]
  },
  {
   "cell_type": "code",
   "execution_count": null,
   "id": "b9643fca",
   "metadata": {},
   "outputs": [
    {
     "data": {
      "text/plain": [
       "[255, 5, 254, 255, 254, 254, 251, 235, 139, 0]"
      ]
     },
     "execution_count": null,
     "metadata": {},
     "output_type": "execute_result"
    }
   ],
   "source": [
    "run_length_encode(destination, origem, len(origem), limiar_encoded)"
   ]
  },
  {
   "cell_type": "markdown",
   "id": "e53424cf",
   "metadata": {},
   "source": [
    "Os valores medidos igual ou próximos ao offset `-20, -20.5` ao serem transformados viram `255 e 254`, os valores utilizados como marcador. Nesse caso teremos duas sinalizações de valor literal com o marcador `ESC=254`. \n",
    "* `[255,5...]` temos 5 valores abaixo do limiar\n",
    "* `[...254,255...]` temos o valor literal `255`\n",
    "* `[...254,254...]` temos o valor literal `254`\n",
    "* `[...251,235,139]` valores de medição literal\n",
    "\n",
    "Nesse caso economizamos somente 1 byte, denotado pelo valor 0 ao final da lista. Esses exemplos com poucos valores não fazem jus ao algoritmo, o poder de compressão aparece quando temos milhares de dados como veremos a seguir."
   ]
  },
  {
   "cell_type": "markdown",
   "id": "775ce5af",
   "metadata": {},
   "source": [
    "**Algoritmo de Descompressão**\n",
    "\n",
    "O Algoritmo de descompressão original em C é mostrado a seguir:"
   ]
  },
  {
   "cell_type": "markdown",
   "id": "f96823c4",
   "metadata": {},
   "source": [
    "```c\n",
    "#define RUN 255 \n",
    "#define ESC 254 \n",
    "int run_length_decode(unsigned char *dest, unsigned char *src, int nsrc, int thresh) { \n",
    "    int si=0,di=0,nrun; \n",
    "    unsigned char ib; \n",
    "    while (si < nsrc) { \n",
    "        ib = src[si++]; \n",
    "        if (ib == RUN) { \n",
    "            nrun = src[si++];\n",
    "            while(nrun-- >0){ \n",
    "                dest[di++] = thresh; }\n",
    "        } else if (ib == ESC) {\n",
    "            /* next value is literal */ \n",
    "            dest[di++] = src[si++];\n",
    "        } else {\n",
    "            /* value */ \n",
    "            dest[di++] = ib; \n",
    "        } \n",
    "    } return di; \n",
    "}\n",
    "```"
   ]
  },
  {
   "cell_type": "markdown",
   "id": "af518654",
   "metadata": {},
   "source": [
    "Vamos escrevê-lo em python."
   ]
  },
  {
   "cell_type": "code",
   "execution_count": null,
   "id": "2e3cce67",
   "metadata": {},
   "outputs": [],
   "source": [
    "def run_length_decode(src, nsrc, thresh, offset):\n",
    "    dest = [] # creates an empty destination list\n",
    "    si = 0 #counter source\n",
    "    di = 0 #counter destination \n",
    "    while si < nsrc: #while we didn't read the whole file\n",
    "        ib = src[si] # read current position\n",
    "        si+=1 # counter go to the next position\n",
    "        if ib == RUN: # if current position is equal to marker RUN\n",
    "            nrun = src[si] # next position indicates number of points below thresh\n",
    "            si+=1\n",
    "            while nrun > 0:\n",
    "                dest.append(thresh) # we keep thresh in the destination nrun times\n",
    "                di+=1\n",
    "                nrun-=1\n",
    "        elif ib == ESC: # next value is literal\n",
    "            dest.append(src[di]/2 + offset - 127.5)\n",
    "            di+=1 ; si+=1\n",
    "        else:\n",
    "            # value\n",
    "            dest.append(ib/2 + offset - 127.5) # If there isn't a marker I'll just keep the current value\n",
    "            di+=1\n",
    "    return dest"
   ]
  },
  {
   "cell_type": "markdown",
   "id": "e64e3457",
   "metadata": {},
   "source": [
    "O algoritmo basicamente faz:\n",
    "* Percorre o arquivo codificado fonte e lê byte a byte\n",
    "* Se o byte é igual ao marcador `RUN=255` é sabido que o byte seguinte armazena a contagem de quantas vezes foi medido um valor abaixo do limiar\n",
    "* Um loop com essa contagem é efetuado e a cada rodada é armazenado o valor do limiar na lista de destino\n",
    "* Caso seja identificado o outro marcador `ESC=254` é armazenado o valor seguinte literal\n",
    "* Caso nenhum dos casos anteriores ocorra simplesmente é armazenado o valor atual"
   ]
  },
  {
   "cell_type": "markdown",
   "id": "e3a3d2a7",
   "metadata": {},
   "source": [
    "## Teste de Velocidade do Algoritmo Original\n",
    "A motivação para a otimização da leitura desses arquivos comprimidos foi por conta de arquivos da ordem de 100MB, que ao serem descomprimidos geram por volta de 8GB de dados. \n",
    "Utilizamos um desses arquivos como exemplo."
   ]
  },
  {
   "cell_type": "markdown",
   "id": "0588b791",
   "metadata": {},
   "source": [
    "Eu li e ouvi de mais de uma vez que não se faz otimização sem \"profiling\", isto é, não comece a otimizar as coisas antes de saber exatamente o quê  toma o tempo do seu código. \n",
    "\n",
    "Para nos ajudar nisso vamos usar a extensão da biblioteca `line_profiler` que mostra a execução linha a linha de dada função que passarmos como argumento."
   ]
  },
  {
   "cell_type": "code",
   "execution_count": null,
   "id": "8c5d5f6a",
   "metadata": {},
   "outputs": [],
   "source": [
    "compressed_blocks = blocks[(68,301)].itemgot(1)"
   ]
  },
  {
   "cell_type": "code",
   "execution_count": null,
   "id": "6cad80c6",
   "metadata": {},
   "outputs": [],
   "source": [
    "RUN = 255\n",
    "ESC = 254    "
   ]
  },
  {
   "cell_type": "code",
   "execution_count": null,
   "id": "778e0a3a",
   "metadata": {},
   "outputs": [],
   "source": [
    "def size_in_gb(obj):\n",
    "    print(f'{sys.getsizeof(obj)/1e6:.2f} GB')"
   ]
  },
  {
   "cell_type": "markdown",
   "id": "7064748c",
   "metadata": {},
   "source": [
    "A função a seguir testa o algoritmo original acima."
   ]
  },
  {
   "cell_type": "code",
   "execution_count": null,
   "id": "7d4a7f8e",
   "metadata": {},
   "outputs": [],
   "source": [
    "def test_orig(blocks, debug=False):\n",
    "    decoded = []\n",
    "    if debug:\n",
    "        blocks = blocks[:1]\n",
    "    for block in tqdm(blocks):\n",
    "        src = block.data[block.start:block.stop]\n",
    "        nsrc = len(src)\n",
    "        thresh = block.thresh       \n",
    "        offset = block.offset\n",
    "        decoded.append(run_length_decode(src, nsrc, thresh, offset))\n",
    "    return decoded"
   ]
  },
  {
   "cell_type": "markdown",
   "id": "8740744e",
   "metadata": {},
   "source": [
    "Vamos checar o perfil de uma chamada da função `run_length_decode`, isso é alcançado chamando a função acima com o argumento `debug=True`. \n",
    "Assim executamos somente 1 bloco em vez de 133932."
   ]
  },
  {
   "cell_type": "code",
   "execution_count": null,
   "id": "89219a0d",
   "metadata": {},
   "outputs": [
    {
     "data": {
      "application/vnd.jupyter.widget-view+json": {
       "model_id": "d5573559a41446218b3e8ce1320dddf3",
       "version_major": 2,
       "version_minor": 0
      },
      "text/plain": [
       "  0%|          | 0/1 [00:00<?, ?it/s]"
      ]
     },
     "metadata": {},
     "output_type": "display_data"
    },
    {
     "data": {
      "text/plain": [
       "Timer unit: 3.52617e-07 s\n",
       "\n",
       "Total time: 0.0275278 s\n",
       "File: <ipython-input-19-0e35b2a102ae>\n",
       "Function: run_length_decode at line 1\n",
       "\n",
       "Line #      Hits         Time  Per Hit   % Time  Line Contents\n",
       "==============================================================\n",
       "     1                                           def run_length_decode(src, nsrc, thresh, offset):\n",
       "     2         1          5.0      5.0      0.0      dest = [] # creates an empty destination list\n",
       "     3         1          2.0      2.0      0.0      si = 0 #counter source\n",
       "     4         1          1.0      1.0      0.0      di = 0 #counter destination \n",
       "     5       131        198.0      1.5      0.3      while si < nsrc: #while we didn't read the whole file\n",
       "     6       130        175.0      1.3      0.2          ib = src[si] # read current position\n",
       "     7       130        227.0      1.7      0.3          si+=1 # counter go to the next position\n",
       "     8       130        234.0      1.8      0.3          if ib == RUN: # if current position is equal to marker RUN\n",
       "     9        60         68.0      1.1      0.1              nrun = src[si] # next position indicates number of points below thresh\n",
       "    10        60         70.0      1.2      0.1              si+=1\n",
       "    11     14623      17778.0      1.2     22.8              while nrun > 0:\n",
       "    12     14563      21752.0      1.5     27.9                  dest.append(thresh) # we keep thresh in the destination nrun times\n",
       "    13     14563      18638.0      1.3     23.9                  di+=1\n",
       "    14     14563      18563.0      1.3     23.8                  nrun-=1\n",
       "    15        70         93.0      1.3      0.1          elif ib == ESC: # next value is literal\n",
       "    16                                                       dest.append(src[di]/2 + offset - 127.5)\n",
       "    17                                                       di+=1 ; si+=1\n",
       "    18                                                   else:\n",
       "    19                                                       # value\n",
       "    20        70        170.0      2.4      0.2              dest.append(ib/2 + offset - 127.5) # If there isn't a marker I'll just keep the current value\n",
       "    21        70         92.0      1.3      0.1              di+=1\n",
       "    22         1          1.0      1.0      0.0      return dest"
      ]
     },
     "metadata": {},
     "output_type": "display_data"
    }
   ],
   "source": [
    "%lprun -f run_length_decode test_orig(compressed_blocks, debug=True)"
   ]
  },
  {
   "cell_type": "markdown",
   "id": "1c204f7d",
   "metadata": {},
   "source": [
    "Vemos que 98.3% do tempo a função passa somente no loop `while` interno. Vamos ver o que isso significa para 133932 blocos."
   ]
  },
  {
   "cell_type": "code",
   "execution_count": null,
   "id": "abf0782f",
   "metadata": {},
   "outputs": [
    {
     "data": {
      "application/vnd.jupyter.widget-view+json": {
       "model_id": "8d5b77e1228e4c6db82ae918524bf4d4",
       "version_major": 2,
       "version_minor": 0
      },
      "text/plain": [
       "  0%|          | 0/133932 [00:00<?, ?it/s]"
      ]
     },
     "metadata": {},
     "output_type": "display_data"
    }
   ],
   "source": [
    "%%time\n",
    "d = test_orig(compressed_blocks)"
   ]
  },
  {
   "cell_type": "markdown",
   "id": "c131c7f5",
   "metadata": {},
   "source": [
    "Isso no contexto de uso do dia a dia do fiscal da Anatel é um tempo extenso, porque pode haver vários arquivos e essas análises podem ser recorrentes."
   ]
  },
  {
   "cell_type": "code",
   "execution_count": null,
   "id": "16b51b30",
   "metadata": {},
   "outputs": [],
   "source": [
    "len(d), len(d[0])"
   ]
  },
  {
   "cell_type": "code",
   "execution_count": null,
   "id": "24c1f2f9",
   "metadata": {},
   "outputs": [],
   "source": [
    "size_in_gb(d)"
   ]
  },
  {
   "cell_type": "code",
   "execution_count": null,
   "id": "731f17ac",
   "metadata": {},
   "outputs": [],
   "source": [
    "del d\n",
    "gc.collect()"
   ]
  },
  {
   "cell_type": "markdown",
   "id": "0e6c4c1b",
   "metadata": {},
   "source": [
    "### Loop `while` Eliminado\n",
    "Vemos que o loop while acima simplesmente adiciona o mesmo valor `thresh` por `nrun` vezes. \n",
    "\n",
    "> Note: Em python, para eliminarmos o loop basta extendermos a lista de uma só vez, adicionando a ela uma outra lista de tamanho `nrun` povoada com valores `thresh`."
   ]
  },
  {
   "cell_type": "code",
   "execution_count": null,
   "id": "03986c44",
   "metadata": {},
   "outputs": [],
   "source": [
    "def run_length_decode2(dest, src, nsrc, thresh, offset):\n",
    "    si = 0 #counter source\n",
    "    di = 0 #counter destination \n",
    "    while si < nsrc: #while we didn't read the whole file\n",
    "        ib = src[si] # read current position\n",
    "        si+=1 # counter go to the next position\n",
    "        if ib == RUN: # if current position is equal to marker RUN\n",
    "            nrun = src[si] # next position indicates number of points below thresh\n",
    "            si+=1\n",
    "            di+=nrun # Full incremental\n",
    "            dest.extend([thresh]*nrun) #Extend the resulted list in a pythonic way \n",
    "        elif ib == ESC: # next value is literal\n",
    "            dest.append(src[di]/2 + offset - 127.5)\n",
    "            di+=1 ; si+=1\n",
    "        else:\n",
    "            # value\n",
    "            dest.append(ib/2 + offset - 127.5) # If there isn't a marker I'll just keep the current value\n",
    "            di+=1\n",
    "    return dest"
   ]
  },
  {
   "cell_type": "markdown",
   "id": "24a7fafa",
   "metadata": {},
   "source": [
    "Substituímos:\n",
    "\n",
    "```python\n",
    "while nrun > 0:\n",
    "    dest.append(thresh)\n",
    "    di+=1\n",
    "    nrun-=1\n",
    "```\n",
    "por\n",
    "```python\n",
    "di+=nrun\n",
    "dest.extend([thresh]*nrun)\n",
    "```"
   ]
  },
  {
   "cell_type": "code",
   "execution_count": null,
   "id": "658e7851",
   "metadata": {},
   "outputs": [],
   "source": [
    "def test_no_while(blocks, debug=False):\n",
    "    decoded = []\n",
    "    if debug:\n",
    "        blocks= blocks[:1]\n",
    "    for block in tqdm(blocks):\n",
    "        dest = []\n",
    "        src = block.data[block.start:block.stop]\n",
    "        nsrc = len(src) #block.stop - block.start\n",
    "        thresh = block.thresh       \n",
    "        offset = block.offset\n",
    "        decoded.append(run_length_decode2(dest, src, nsrc, thresh, offset))\n",
    "    return decoded"
   ]
  },
  {
   "cell_type": "code",
   "execution_count": null,
   "id": "19a21ed7",
   "metadata": {},
   "outputs": [
    {
     "data": {
      "text/plain": [
       "Timer unit: 3.52617e-07 s\n",
       "\n",
       "Total time: 0.00316897 s\n",
       "File: <ipython-input-35-d484ae5f5462>\n",
       "Function: run_length_decode2 at line 1\n",
       "\n",
       "Line #      Hits         Time  Per Hit   % Time  Line Contents\n",
       "==============================================================\n",
       "     1                                           def run_length_decode2(dest, src, nsrc, thresh, offset):\n",
       "     2         1          5.0      5.0      0.1      si = 0 #counter source\n",
       "     3         1          4.0      4.0      0.0      di = 0 #counter destination \n",
       "     4       131        237.0      1.8      2.6      while si < nsrc: #while we didn't read the whole file\n",
       "     5       130        159.0      1.2      1.8          ib = src[si] # read current position\n",
       "     6       130        198.0      1.5      2.2          si+=1 # counter go to the next position\n",
       "     7       130        159.0      1.2      1.8          if ib == RUN: # if current position is equal to marker RUN\n",
       "     8        60         76.0      1.3      0.8              nrun = src[si] # next position indicates number of points below thresh\n",
       "     9        60         67.0      1.1      0.7              si+=1\n",
       "    10        60         70.0      1.2      0.8              di+=nrun # Full incremental\n",
       "    11        60       7709.0    128.5     85.8              dest.extend([thresh]*nrun) #Extend the resulted list in a pythonic way \n",
       "    12        70         82.0      1.2      0.9          elif ib == ESC: # next value is literal\n",
       "    13                                                       dest.append(src[di]/2 + offset - 127.5)\n",
       "    14                                                       di+=1 ; si+=1\n",
       "    15                                                   else:\n",
       "    16                                                       # value\n",
       "    17        70        135.0      1.9      1.5              dest.append(ib/2 + offset - 127.5) # If there isn't a marker I'll just keep the current value\n",
       "    18        70         85.0      1.2      0.9              di+=1\n",
       "    19         1          1.0      1.0      0.0      return dest"
      ]
     },
     "metadata": {},
     "output_type": "display_data"
    },
    {
     "data": {
      "application/vnd.jupyter.widget-view+json": {
       "model_id": "20d36869f1c944d6a07a47f91db05139",
       "version_major": 2,
       "version_minor": 0
      },
      "text/plain": [
       "  0%|          | 0/1 [00:00<?, ?it/s]"
      ]
     },
     "metadata": {},
     "output_type": "display_data"
    }
   ],
   "source": [
    "%lprun -f run_length_decode2 test_no_while(compressed_blocks, debug=True)"
   ]
  },
  {
   "cell_type": "markdown",
   "id": "e298a449",
   "metadata": {},
   "source": [
    "O tempo caiu de `0.027` para `0.0032`, ainda passamos a maior parte do tempo, `87.8%`, extendendo a lista original, no entanto isso é feito uma única vez por byte.\n",
    "\n",
    "Vamos ver como isso se traduz ao executarmos a função para todos os blocos."
   ]
  },
  {
   "cell_type": "code",
   "execution_count": null,
   "id": "81cf902c",
   "metadata": {},
   "outputs": [
    {
     "data": {
      "application/vnd.jupyter.widget-view+json": {
       "model_id": "85cf3b96443a4ae39e642b060daaa8f9",
       "version_major": 2,
       "version_minor": 0
      },
      "text/plain": [
       "  0%|          | 0/133932 [00:00<?, ?it/s]"
      ]
     },
     "metadata": {},
     "output_type": "display_data"
    },
    {
     "name": "stdout",
     "output_type": "stream",
     "text": [
      "Wall time: 1min 8s\n"
     ]
    }
   ],
   "source": [
    "%%time\n",
    "d = test_no_while(compressed_blocks)"
   ]
  },
  {
   "cell_type": "markdown",
   "id": "5075e892",
   "metadata": {},
   "source": [
    "Passamos de 4min e 49s para 1min e 8s."
   ]
  },
  {
   "cell_type": "code",
   "execution_count": null,
   "id": "b1a7ddd3",
   "metadata": {},
   "outputs": [
    {
     "data": {
      "text/plain": [
       "(133932, 14633)"
      ]
     },
     "execution_count": null,
     "metadata": {},
     "output_type": "execute_result"
    }
   ],
   "source": [
    "len(d), len(d[0])"
   ]
  },
  {
   "cell_type": "code",
   "execution_count": null,
   "id": "329c8da8",
   "metadata": {},
   "outputs": [
    {
     "name": "stdout",
     "output_type": "stream",
     "text": [
      "1.17 GB\n"
     ]
    }
   ],
   "source": [
    "size_in_gb(d)"
   ]
  },
  {
   "cell_type": "code",
   "execution_count": null,
   "id": "3c012d8f",
   "metadata": {},
   "outputs": [
    {
     "data": {
      "text/plain": [
       "135497"
      ]
     },
     "execution_count": null,
     "metadata": {},
     "output_type": "execute_result"
    }
   ],
   "source": [
    "del d\n",
    "gc.collect()"
   ]
  },
  {
   "cell_type": "markdown",
   "id": "0c5549a6",
   "metadata": {},
   "source": [
    "### Trocar de Listas para arrays pré-alocados\n",
    "Como a maioria do tempo dispendido na função anterior ainda é na extensão da lista original com a lista de valores threshold. \n",
    "Para cada bloco a lista é extendida com uma sublista povoada com os valores de limiar `thresh`. Isso demanda que a memória seja alocada toda vez que extendemos a lista. \n",
    "\n",
    "Nessa alocação os endereços de memória não necessariamente estão adjacentes, isso certamente gera um gargalo no tempo de execução. \n",
    "\n",
    "Para sanarmos isso vamos trocar lista por um numpy array nulo, assim a memória é prealocada na memória."
   ]
  },
  {
   "cell_type": "code",
   "execution_count": null,
   "id": "f17631f5",
   "metadata": {},
   "outputs": [],
   "source": [
    "def run_length_decode3(dest, src, nsrc, thresh, offset):\n",
    "    i = 0\n",
    "    j = 0\n",
    "    while i < nsrc:\n",
    "        ib = src[i] \n",
    "        i+=1\n",
    "        if ib == RUN:\n",
    "            nrun = src[i] \n",
    "            i+=1\n",
    "            dest[j:j+nrun] = thresh #dest is now a numpy array\n",
    "            j+=nrun\n",
    "        elif ib == ESC:\n",
    "            # next value is literal\n",
    "            dest[j] = src[i]/2. + offset - 127.5\n",
    "            i+=1 ; j+=1\n",
    "        else:\n",
    "            # value\n",
    "            dest[j] = ib/2. + offset - 127.5\n",
    "            j+=1\n",
    "    return dest"
   ]
  },
  {
   "cell_type": "code",
   "execution_count": null,
   "id": "9aeba3f3",
   "metadata": {},
   "outputs": [],
   "source": [
    "#slow\n",
    "def test_prealloc_np(blocks):\n",
    "    decoded = np.empty((len(blocks), blocks[0].norig), dtype=np.float16)\n",
    "    for b, block in enumerate(tqdm(blocks)):\n",
    "        src = block.data[block.start:block.stop]\n",
    "        nsrc = len(src)\n",
    "        thresh = block.thresh\n",
    "        offset = block.offset\n",
    "        dest = np.empty(blocks[0].norig, dtype=np.float16)\n",
    "        decoded[b] = run_length_decode3(dest, src, nsrc, thresh, offset)\n",
    "    return decoded"
   ]
  },
  {
   "cell_type": "markdown",
   "id": "247241ac",
   "metadata": {},
   "source": [
    "Também declaramos os dados como sendo do tipo, `np.float16`, dado que os valores de nível do espectro possuem precisão de no máximo 1 casa decimal, o valor`np.float16` é o suficiente para armazená-los"
   ]
  },
  {
   "cell_type": "code",
   "execution_count": null,
   "id": "8e5ca1c9",
   "metadata": {},
   "outputs": [
    {
     "data": {
      "application/vnd.jupyter.widget-view+json": {
       "model_id": "a6b71ea980bd4ab49baba82d640961ca",
       "version_major": 2,
       "version_minor": 0
      },
      "text/plain": [
       "  0%|          | 0/1 [00:00<?, ?it/s]"
      ]
     },
     "metadata": {},
     "output_type": "display_data"
    },
    {
     "data": {
      "text/plain": [
       "Timer unit: 3.52617e-07 s\n",
       "\n",
       "Total time: 0.000581113 s\n",
       "File: <ipython-input-62-ed9d17e9d6ad>\n",
       "Function: run_length_decode3 at line 1\n",
       "\n",
       "Line #      Hits         Time  Per Hit   % Time  Line Contents\n",
       "==============================================================\n",
       "     1                                           def run_length_decode3(dest, src, nsrc, thresh, offset):\n",
       "     2         1          4.0      4.0      0.2      i = 0\n",
       "     3         1          3.0      3.0      0.2      j = 0\n",
       "     4       131        168.0      1.3     10.2      while i < nsrc:\n",
       "     5       130        177.0      1.4     10.7          ib = src[i] \n",
       "     6       130        211.0      1.6     12.8          i+=1\n",
       "     7       130        214.0      1.6     13.0          if ib == RUN:\n",
       "     8        60         77.0      1.3      4.7              nrun = src[i] \n",
       "     9        60         77.0      1.3      4.7              i+=1\n",
       "    10        60        304.0      5.1     18.4              dest[j:j+nrun] = thresh #dest is now a numpy array\n",
       "    11        60         78.0      1.3      4.7              j+=nrun\n",
       "    12        70         86.0      1.2      5.2          elif ib == ESC:\n",
       "    13                                                       # next value is literal\n",
       "    14                                                       dest[j] = src[i]/2. + offset - 127.5\n",
       "    15                                                       i+=1 ; j+=1\n",
       "    16                                                   else:\n",
       "    17                                                       # value\n",
       "    18        70        157.0      2.2      9.5              dest[j] = ib/2. + offset - 127.5\n",
       "    19        70         91.0      1.3      5.5              j+=1\n",
       "    20         1          1.0      1.0      0.1      return dest"
      ]
     },
     "metadata": {},
     "output_type": "display_data"
    }
   ],
   "source": [
    "%lprun -f run_length_decode3 test_prealloc_np(compressed_blocks[:1])"
   ]
  },
  {
   "cell_type": "markdown",
   "id": "05557dd5",
   "metadata": {},
   "source": [
    "Vamos checar agora o desempenho com todos os blocos"
   ]
  },
  {
   "cell_type": "code",
   "execution_count": null,
   "id": "18a1dac9",
   "metadata": {},
   "outputs": [
    {
     "data": {
      "application/vnd.jupyter.widget-view+json": {
       "model_id": "230ef9ec14dc49c4aad97c7d8e0781aa",
       "version_major": 2,
       "version_minor": 0
      },
      "text/plain": [
       "  0%|          | 0/133932 [00:00<?, ?it/s]"
      ]
     },
     "metadata": {},
     "output_type": "display_data"
    },
    {
     "name": "stdout",
     "output_type": "stream",
     "text": [
      "Wall time: 28.9 s\n"
     ]
    }
   ],
   "source": [
    "%%time\n",
    "d = test_prealloc_np(compressed_blocks)"
   ]
  },
  {
   "cell_type": "markdown",
   "id": "49d29c2d",
   "metadata": {},
   "source": [
    "Temos uma queda de `1min e 8s` para `28.9s`. Saímos de quase 5 minutos simplesmente eliminando um loop e posteriormente modificando a estrutura de dados. \n",
    "Agora que temos array em vez de listas podemos visualizá-los melhor:"
   ]
  },
  {
   "cell_type": "code",
   "execution_count": null,
   "id": "8d40b1a9",
   "metadata": {},
   "outputs": [
    {
     "data": {
      "text/plain": [
       "array([-100. , -100. , -100. , ..., -100. , -117.5, -118.5], dtype=float16)"
      ]
     },
     "metadata": {},
     "output_type": "display_data"
    }
   ],
   "source": [
    "display(d[-1])"
   ]
  },
  {
   "cell_type": "markdown",
   "id": "bb29636d",
   "metadata": {},
   "source": [
    "Poderíamos parar por aqui se quiséssemos mas veremos o quanto conseguimos otimizar."
   ]
  },
  {
   "cell_type": "code",
   "execution_count": null,
   "id": "1115f091",
   "metadata": {},
   "outputs": [
    {
     "data": {
      "text/plain": [
       "25674"
      ]
     },
     "execution_count": null,
     "metadata": {},
     "output_type": "execute_result"
    }
   ],
   "source": [
    "del d\n",
    "gc.collect()"
   ]
  },
  {
   "cell_type": "markdown",
   "id": "5fe7960f",
   "metadata": {},
   "source": [
    "Ao iterarmos sobre os diferentes blocos `b`, prealocamos o array `dest` com um array vazio, passamos este para a função `run_length_decode3` e atribuimos o bloco de retorno à linha `b` da matriz:\n",
    "```python\n",
    "dest = np.empty(blocks[0].norig, dtype=np.float16)\n",
    "decoded[b] = run_length_decode3(dest, src, nsrc, thresh, offset)\n",
    "```\n",
    "\n",
    "Podemos em vez de prealocar o array `dest` podemos simplesmente passar a linha `b` da matriz para a função e esta altera diretamente a linha da matriz de destino sem retornar nada:\n",
    "```python\n",
    "run_length_decode4(decoded[b], src, nsrc, thresh, offset)\n",
    "```\n",
    "\n",
    "Os valor de `thresh` e`offset` são fixos, definidos para todos os blocos no script de geração desses dados, então não precisamos extraí-los toda vez, basta armazená-los uma única vez e repassá-los para a função.\n"
   ]
  },
  {
   "cell_type": "code",
   "execution_count": null,
   "id": "da2203e7",
   "metadata": {},
   "outputs": [],
   "source": [
    "def run_length_decode4(dest, src, nsrc, thresh, offset):\n",
    "    i = 0\n",
    "    j = 0\n",
    "    while i < nsrc:\n",
    "        ib = src[i] \n",
    "        i+=1\n",
    "        if ib == RUN:\n",
    "            nrun = src[i] \n",
    "            i+=1\n",
    "            dest[j:j+nrun] = thresh\n",
    "            j+=nrun\n",
    "        elif ib == ESC:\n",
    "            # next value is literal\n",
    "            dest[j] = src[i]/2. + offset - 127.5\n",
    "            i+=1 ; j+=1\n",
    "        else:\n",
    "            # value\n",
    "            dest[j] = ib/2. + offset - 127.5\n",
    "            j+=1  \n",
    "    #return dest A linha da matriz é alterada diretamente, portanto nossa função nada retorna"
   ]
  },
  {
   "cell_type": "code",
   "execution_count": null,
   "id": "5f63b20f",
   "metadata": {},
   "outputs": [],
   "source": [
    "#slow\n",
    "def test_prealloc_np2(blocks):\n",
    "    thresh = blocks[0].thresh\n",
    "    decoded = np.empty((len(blocks), blocks[0].norig), dtype=np.float16)\n",
    "    offset = blocks[0].offset \n",
    "    for b, block in enumerate(tqdm(blocks)):\n",
    "        src = block.data[block.start:block.stop]\n",
    "        nsrc = len(src)\n",
    "        run_length_decode4(decoded[b], src, nsrc, thresh, offset)\n",
    "    return decoded"
   ]
  },
  {
   "cell_type": "code",
   "execution_count": null,
   "id": "5404985b",
   "metadata": {},
   "outputs": [
    {
     "data": {
      "application/vnd.jupyter.widget-view+json": {
       "model_id": "94dd657ee3024e67937a498aa7860cc7",
       "version_major": 2,
       "version_minor": 0
      },
      "text/plain": [
       "  0%|          | 0/133932 [00:00<?, ?it/s]"
      ]
     },
     "metadata": {},
     "output_type": "display_data"
    },
    {
     "name": "stdout",
     "output_type": "stream",
     "text": [
      "Wall time: 22.8 s\n"
     ]
    }
   ],
   "source": [
    "%%time\n",
    "d = test_prealloc_np2(compressed_blocks)"
   ]
  },
  {
   "cell_type": "markdown",
   "id": "022d0d0e",
   "metadata": {},
   "source": [
    "Conseguimos mais uma vez reduzir o tempo de `28.9s` para `22.8s`."
   ]
  },
  {
   "cell_type": "markdown",
   "id": "9b3fead2",
   "metadata": {},
   "source": [
    "Vamos revisar o que fizemos até o momento:\n",
    "\n",
    "1. Retira os atributos `thresh` e `offset` do primeiro bloco somente, visto que são iguais para todos os blocos.\n",
    "2. Prealoca a matriz `decoded` com valores nulos.\n",
    "3. Percorre os blocos, extrai os bytes de dados de cada bloco `src` e o comprimento desse bytes de dados `nsrc`\n",
    "4. Passa esses dados e a linha referente da matriz de destino que deve ser modificada\n",
    "\n",
    "Para cada byte de dados, o algoritmo de decodificação somente tem 3 tipos de atribuição possíveis para nossa matriz de destino:\n",
    "1. Caso o byte atual tenha o valor `RUN=255`, pega o valor armazenado no byte seguinte `nrun` e atribui o valor `thresh` para `nrun` bytes da matriz\n",
    "2. Caso o byte atual tenha o valor `ESC=254`, atribui o valor literal do byte seguinte\n",
    "3. Atribui o valor literal do byte caso seja distinto de `RUN` ou `ESC`\n",
    "\n",
    "No entanto, conforme vimos o valor `thresh` é fixo e único para todos os blocos, pois é um atributo injetado no script de geração desses dados. É definido como limiar, ou seja, pode ser considerado o valor mínimo dos nossos dados ( piso de ruído ). Portanto podemos simplesmente prealocar nossa matriz já com esse valor `thresh` em vez de criarmos uma matriz nula onde esses valores serão repetidamente atribuídos. Assim eliminamos o passo 1 acima de atribuição porque nossa matriz original já estará povoada de valores `thresh`. \n",
    "\n",
    "Algumas melhorias sutis adicionais que reduzem a redundância:\n",
    "\n",
    "* A operação `+ offset - 127.5` constitui uma soma e subtração de valores fixos então pode ser reduzida a somente 1 operação com valor fixo: `MIN = offset - 127.5`. Em vez de passarmos o offset para a função, passamos diretamente o `MIN`.\n"
   ]
  },
  {
   "cell_type": "code",
   "execution_count": null,
   "id": "0c5b8f55",
   "metadata": {},
   "outputs": [],
   "source": [
    "def run_length_decode5(dest, src, nsrc, MIN):\n",
    "    i = 0\n",
    "    j = 0\n",
    "    while i < nsrc:\n",
    "        ib = src[i] \n",
    "        i+=1\n",
    "        if ib == RUN:\n",
    "            nrun = src[i]\n",
    "#             dest[j:j+nrun] = thresh  # Redundante\n",
    "            i+=1\n",
    "            j+=nrun\n",
    "        elif ib == ESC:\n",
    "            # next value is literal\n",
    "            dest[j] = src[i]/2. + MIN\n",
    "            i+=1 ; j+=1\n",
    "        else:\n",
    "            # value\n",
    "            dest[j] = ib/2. + MIN\n",
    "            j+=1  "
   ]
  },
  {
   "cell_type": "code",
   "execution_count": null,
   "id": "8882fa62",
   "metadata": {},
   "outputs": [],
   "source": [
    "def test_prealloc_np3(blocks):\n",
    "    thresh = blocks[0].thresh\n",
    "    decoded = np.full((len(blocks), blocks[0].norig), thresh, dtype=np.float16) #prealocamos a matrix com os valores de limiar thresh\n",
    "    offset = blocks[0].offset \n",
    "    MIN = offset - 127.5\n",
    "    for b, block in enumerate(tqdm(blocks)):\n",
    "        src = block.data[block.start:block.stop]\n",
    "        nsrc = len(src)\n",
    "        run_length_decode5(decoded[b], src, nsrc, MIN)\n",
    "    return decoded"
   ]
  },
  {
   "cell_type": "code",
   "execution_count": null,
   "id": "314729c3",
   "metadata": {},
   "outputs": [
    {
     "data": {
      "text/plain": [
       "Timer unit: 3.52617e-07 s\n",
       "\n",
       "Total time: 0.000419967 s\n",
       "File: <ipython-input-97-d159f56d66de>\n",
       "Function: run_length_decode5 at line 1\n",
       "\n",
       "Line #      Hits         Time  Per Hit   % Time  Line Contents\n",
       "==============================================================\n",
       "     1                                           def run_length_decode5(dest, src, nsrc, MIN):\n",
       "     2         1          6.0      6.0      0.5      i = 0\n",
       "     3         1          2.0      2.0      0.2      j = 0\n",
       "     4       131        144.0      1.1     12.1      while i < nsrc:\n",
       "     5       130        147.0      1.1     12.3          ib = src[i] \n",
       "     6       130        244.0      1.9     20.5          i+=1\n",
       "     7       130        155.0      1.2     13.0          if ib == RUN:\n",
       "     8        60         68.0      1.1      5.7              nrun = src[i]\n",
       "     9                                           #             dest[j:j+nrun] = thresh  # Redundante\n",
       "    10        60         68.0      1.1      5.7              i+=1\n",
       "    11        60         72.0      1.2      6.0              j+=nrun\n",
       "    12        70         83.0      1.2      7.0          elif ib == ESC:\n",
       "    13                                                       # next value is literal\n",
       "    14                                                       dest[j] = src[i]/2. + MIN\n",
       "    15                                                       i+=1 ; j+=1\n",
       "    16                                                   else:\n",
       "    17                                                       # value\n",
       "    18        70        123.0      1.8     10.3              dest[j] = ib/2. + MIN\n",
       "    19        70         79.0      1.1      6.6              j+=1"
      ]
     },
     "metadata": {},
     "output_type": "display_data"
    },
    {
     "data": {
      "application/vnd.jupyter.widget-view+json": {
       "model_id": "fef1887810a74c09a739af8caa66adc0",
       "version_major": 2,
       "version_minor": 0
      },
      "text/plain": [
       "  0%|          | 0/1 [00:00<?, ?it/s]"
      ]
     },
     "metadata": {},
     "output_type": "display_data"
    }
   ],
   "source": [
    "%lprun -f run_length_decode5 test_prealloc_np3(compressed_blocks[:1])"
   ]
  },
  {
   "cell_type": "code",
   "execution_count": null,
   "id": "d7a564a5",
   "metadata": {},
   "outputs": [
    {
     "data": {
      "text/plain": [
       "86819"
      ]
     },
     "execution_count": null,
     "metadata": {},
     "output_type": "execute_result"
    }
   ],
   "source": [
    "del d\n",
    "gc.collect()"
   ]
  },
  {
   "cell_type": "code",
   "execution_count": null,
   "id": "90fc6159",
   "metadata": {},
   "outputs": [
    {
     "data": {
      "application/vnd.jupyter.widget-view+json": {
       "model_id": "10791a266bba4b7bb1868896f26e159b",
       "version_major": 2,
       "version_minor": 0
      },
      "text/plain": [
       "  0%|          | 0/133932 [00:00<?, ?it/s]"
      ]
     },
     "metadata": {},
     "output_type": "display_data"
    },
    {
     "name": "stdout",
     "output_type": "stream",
     "text": [
      "Wall time: 13.4 s\n"
     ]
    }
   ],
   "source": [
    "%%time\n",
    "d = test_prealloc_np3(compressed_blocks)"
   ]
  },
  {
   "cell_type": "markdown",
   "id": "56e3a86f",
   "metadata": {},
   "source": [
    "Com uma prealocação mais inteligente e eliminando uma atribuição redundante diminuímos de `22.8s` para `13.4s`!"
   ]
  },
  {
   "cell_type": "code",
   "execution_count": null,
   "id": "d2418e37",
   "metadata": {},
   "outputs": [
    {
     "data": {
      "text/plain": [
       "array([ -96.5,  -96.5,  -95.5, ..., -100. , -100. , -100. ], dtype=float16)"
      ]
     },
     "metadata": {},
     "output_type": "display_data"
    }
   ],
   "source": [
    "display(d[5000])"
   ]
  },
  {
   "cell_type": "markdown",
   "id": "7f584f90",
   "metadata": {},
   "source": [
    "### Processamento Paralelo dos Blocos\n",
    "Como estamos iterando os vários blocos e aplicando a função de decodificação, outra otimização que vêm em mente é paralelizar essa chamada de função. No entanto já estamos com o tempo bastante otimizado para quase 2 bilhões de pontos e multiprocessamento tem um \"overhead\" embutido na chamada, mas não custa testar.\n",
    "\n",
    "Para tal temos que modificar a função de decodificação que irá receber agora uma parcela dos blocos e dentro dela agora deve ser iterado os blocos, assim conseguimos paralelizar a chamada de função."
   ]
  },
  {
   "cell_type": "code",
   "execution_count": null,
   "id": "30a309bc",
   "metadata": {},
   "outputs": [],
   "source": [
    "def run_length_decode6(index, decoded, blocks, MIN):\n",
    "    block = blocks[index]\n",
    "    src = block.data[block.start:block.stop]\n",
    "    nsrc = len(src)\n",
    "    i = 0\n",
    "    j = 0\n",
    "    while i < nsrc:\n",
    "        ib = src[i] \n",
    "        i+=1\n",
    "        if ib == RUN:\n",
    "            nrun = src[i] \n",
    "            i+=1\n",
    "            j+=nrun\n",
    "        elif ib == ESC:\n",
    "            # next value is literal\n",
    "            decoded[index, j] = src[i]/2. + MIN\n",
    "            i+=1 ; j+=1\n",
    "        else:\n",
    "            # value\n",
    "            decoded[index, j] = ib/2. + MIN\n",
    "            j+=1"
   ]
  },
  {
   "cell_type": "code",
   "execution_count": null,
   "id": "6cf6348f",
   "metadata": {},
   "outputs": [],
   "source": [
    "#hide\n",
    "from rfpy.parser import run_length_decode6"
   ]
  },
  {
   "cell_type": "code",
   "execution_count": null,
   "id": "c6a11a82",
   "metadata": {},
   "outputs": [],
   "source": [
    "# from functools import partial\n",
    "# from fastcore.utils import parallel\n",
    "# def test_prealloc_mp(blocks):\n",
    "#     thresh = blocks[0].thresh\n",
    "#     decoded = np.full((len(blocks), blocks[0].norig), thresh, dtype=np.float16)\n",
    "#     offset=blocks[0].offset\n",
    "#     items = list(range(len(blocks)))\n",
    "#     func = partial(run_length_decode6, decoded=decoded, blocks=blocks)\n",
    "#     with Pool(processes=os.cpu_count()) as pool:\n",
    "#         pool.map(run_length_decode6, items)\n",
    "#     return decoded"
   ]
  },
  {
   "cell_type": "code",
   "execution_count": null,
   "id": "c551bbc2",
   "metadata": {},
   "outputs": [
    {
     "data": {
      "text/plain": [
       "34110"
      ]
     },
     "execution_count": null,
     "metadata": {},
     "output_type": "execute_result"
    }
   ],
   "source": [
    "del d ; gc.collect()"
   ]
  },
  {
   "cell_type": "code",
   "execution_count": null,
   "id": "1fee1f39",
   "metadata": {},
   "outputs": [],
   "source": [
    "# %%time\n",
    "# d = test_prealloc_mp(compressed_blocks)"
   ]
  },
  {
   "cell_type": "markdown",
   "id": "e99f7da9",
   "metadata": {},
   "source": [
    "## Functional Programming - Much Worse\n",
    "Elimination of loops doesn't necessarily really eliminates them. `filter` and `map` run along the array"
   ]
  },
  {
   "cell_type": "code",
   "execution_count": null,
   "id": "6dc22823",
   "metadata": {},
   "outputs": [],
   "source": [
    "#slow\n",
    "def test_prealloc_functional(blocks):\n",
    "    decoded = np.full((len(blocks), blocks[0].norig), MIN, dtype=np.float16)\n",
    "    MAX = blocks[0].norig\n",
    "    for b, block in enumerate(tqdm(blocks)):\n",
    "        src = block.data[block.start:block.stop]\n",
    "        threshold = block.thresh\n",
    "        dest = np.concatenate(L(src.split(b'\\xff')).filter(lambda o: o != b'').map(lambda o: np.concatenate([np.repeat(threshold,o[0]),  np.fromiter(o[1:].replace(b'\\xfe', b''), dtype=np.float16, count=len(o[1:]))])))\n",
    "        decoded[b][:dest.shape[0]] = dest[:MAX]\n",
    "    return decoded"
   ]
  },
  {
   "cell_type": "code",
   "execution_count": null,
   "id": "1f26594a",
   "metadata": {},
   "outputs": [
    {
     "data": {
      "text/html": [
       "<!DOCTYPE html>\n",
       "<!-- Generated by Cython 0.29.21 -->\n",
       "<html>\n",
       "<head>\n",
       "    <meta http-equiv=\"Content-Type\" content=\"text/html; charset=utf-8\" />\n",
       "    <title>Cython: _cython_magic_7c97e044c48d605fcd9a1017abcf6a05.pyx</title>\n",
       "    <style type=\"text/css\">\n",
       "    \n",
       "body.cython { font-family: courier; font-size: 12; }\n",
       "\n",
       ".cython.tag  {  }\n",
       ".cython.line { margin: 0em }\n",
       ".cython.code { font-size: 9; color: #444444; display: none; margin: 0px 0px 0px 8px; border-left: 8px none; }\n",
       "\n",
       ".cython.line .run { background-color: #B0FFB0; }\n",
       ".cython.line .mis { background-color: #FFB0B0; }\n",
       ".cython.code.run  { border-left: 8px solid #B0FFB0; }\n",
       ".cython.code.mis  { border-left: 8px solid #FFB0B0; }\n",
       "\n",
       ".cython.code .py_c_api  { color: red; }\n",
       ".cython.code .py_macro_api  { color: #FF7000; }\n",
       ".cython.code .pyx_c_api  { color: #FF3000; }\n",
       ".cython.code .pyx_macro_api  { color: #FF7000; }\n",
       ".cython.code .refnanny  { color: #FFA000; }\n",
       ".cython.code .trace  { color: #FFA000; }\n",
       ".cython.code .error_goto  { color: #FFA000; }\n",
       "\n",
       ".cython.code .coerce  { color: #008000; border: 1px dotted #008000 }\n",
       ".cython.code .py_attr { color: #FF0000; font-weight: bold; }\n",
       ".cython.code .c_attr  { color: #0000FF; }\n",
       ".cython.code .py_call { color: #FF0000; font-weight: bold; }\n",
       ".cython.code .c_call  { color: #0000FF; }\n",
       "\n",
       ".cython.score-0 {background-color: #FFFFff;}\n",
       ".cython.score-1 {background-color: #FFFFe7;}\n",
       ".cython.score-2 {background-color: #FFFFd4;}\n",
       ".cython.score-3 {background-color: #FFFFc4;}\n",
       ".cython.score-4 {background-color: #FFFFb6;}\n",
       ".cython.score-5 {background-color: #FFFFaa;}\n",
       ".cython.score-6 {background-color: #FFFF9f;}\n",
       ".cython.score-7 {background-color: #FFFF96;}\n",
       ".cython.score-8 {background-color: #FFFF8d;}\n",
       ".cython.score-9 {background-color: #FFFF86;}\n",
       ".cython.score-10 {background-color: #FFFF7f;}\n",
       ".cython.score-11 {background-color: #FFFF79;}\n",
       ".cython.score-12 {background-color: #FFFF73;}\n",
       ".cython.score-13 {background-color: #FFFF6e;}\n",
       ".cython.score-14 {background-color: #FFFF6a;}\n",
       ".cython.score-15 {background-color: #FFFF66;}\n",
       ".cython.score-16 {background-color: #FFFF62;}\n",
       ".cython.score-17 {background-color: #FFFF5e;}\n",
       ".cython.score-18 {background-color: #FFFF5b;}\n",
       ".cython.score-19 {background-color: #FFFF57;}\n",
       ".cython.score-20 {background-color: #FFFF55;}\n",
       ".cython.score-21 {background-color: #FFFF52;}\n",
       ".cython.score-22 {background-color: #FFFF4f;}\n",
       ".cython.score-23 {background-color: #FFFF4d;}\n",
       ".cython.score-24 {background-color: #FFFF4b;}\n",
       ".cython.score-25 {background-color: #FFFF48;}\n",
       ".cython.score-26 {background-color: #FFFF46;}\n",
       ".cython.score-27 {background-color: #FFFF44;}\n",
       ".cython.score-28 {background-color: #FFFF43;}\n",
       ".cython.score-29 {background-color: #FFFF41;}\n",
       ".cython.score-30 {background-color: #FFFF3f;}\n",
       ".cython.score-31 {background-color: #FFFF3e;}\n",
       ".cython.score-32 {background-color: #FFFF3c;}\n",
       ".cython.score-33 {background-color: #FFFF3b;}\n",
       ".cython.score-34 {background-color: #FFFF39;}\n",
       ".cython.score-35 {background-color: #FFFF38;}\n",
       ".cython.score-36 {background-color: #FFFF37;}\n",
       ".cython.score-37 {background-color: #FFFF36;}\n",
       ".cython.score-38 {background-color: #FFFF35;}\n",
       ".cython.score-39 {background-color: #FFFF34;}\n",
       ".cython.score-40 {background-color: #FFFF33;}\n",
       ".cython.score-41 {background-color: #FFFF32;}\n",
       ".cython.score-42 {background-color: #FFFF31;}\n",
       ".cython.score-43 {background-color: #FFFF30;}\n",
       ".cython.score-44 {background-color: #FFFF2f;}\n",
       ".cython.score-45 {background-color: #FFFF2e;}\n",
       ".cython.score-46 {background-color: #FFFF2d;}\n",
       ".cython.score-47 {background-color: #FFFF2c;}\n",
       ".cython.score-48 {background-color: #FFFF2b;}\n",
       ".cython.score-49 {background-color: #FFFF2b;}\n",
       ".cython.score-50 {background-color: #FFFF2a;}\n",
       ".cython.score-51 {background-color: #FFFF29;}\n",
       ".cython.score-52 {background-color: #FFFF29;}\n",
       ".cython.score-53 {background-color: #FFFF28;}\n",
       ".cython.score-54 {background-color: #FFFF27;}\n",
       ".cython.score-55 {background-color: #FFFF27;}\n",
       ".cython.score-56 {background-color: #FFFF26;}\n",
       ".cython.score-57 {background-color: #FFFF26;}\n",
       ".cython.score-58 {background-color: #FFFF25;}\n",
       ".cython.score-59 {background-color: #FFFF24;}\n",
       ".cython.score-60 {background-color: #FFFF24;}\n",
       ".cython.score-61 {background-color: #FFFF23;}\n",
       ".cython.score-62 {background-color: #FFFF23;}\n",
       ".cython.score-63 {background-color: #FFFF22;}\n",
       ".cython.score-64 {background-color: #FFFF22;}\n",
       ".cython.score-65 {background-color: #FFFF22;}\n",
       ".cython.score-66 {background-color: #FFFF21;}\n",
       ".cython.score-67 {background-color: #FFFF21;}\n",
       ".cython.score-68 {background-color: #FFFF20;}\n",
       ".cython.score-69 {background-color: #FFFF20;}\n",
       ".cython.score-70 {background-color: #FFFF1f;}\n",
       ".cython.score-71 {background-color: #FFFF1f;}\n",
       ".cython.score-72 {background-color: #FFFF1f;}\n",
       ".cython.score-73 {background-color: #FFFF1e;}\n",
       ".cython.score-74 {background-color: #FFFF1e;}\n",
       ".cython.score-75 {background-color: #FFFF1e;}\n",
       ".cython.score-76 {background-color: #FFFF1d;}\n",
       ".cython.score-77 {background-color: #FFFF1d;}\n",
       ".cython.score-78 {background-color: #FFFF1c;}\n",
       ".cython.score-79 {background-color: #FFFF1c;}\n",
       ".cython.score-80 {background-color: #FFFF1c;}\n",
       ".cython.score-81 {background-color: #FFFF1c;}\n",
       ".cython.score-82 {background-color: #FFFF1b;}\n",
       ".cython.score-83 {background-color: #FFFF1b;}\n",
       ".cython.score-84 {background-color: #FFFF1b;}\n",
       ".cython.score-85 {background-color: #FFFF1a;}\n",
       ".cython.score-86 {background-color: #FFFF1a;}\n",
       ".cython.score-87 {background-color: #FFFF1a;}\n",
       ".cython.score-88 {background-color: #FFFF1a;}\n",
       ".cython.score-89 {background-color: #FFFF19;}\n",
       ".cython.score-90 {background-color: #FFFF19;}\n",
       ".cython.score-91 {background-color: #FFFF19;}\n",
       ".cython.score-92 {background-color: #FFFF19;}\n",
       ".cython.score-93 {background-color: #FFFF18;}\n",
       ".cython.score-94 {background-color: #FFFF18;}\n",
       ".cython.score-95 {background-color: #FFFF18;}\n",
       ".cython.score-96 {background-color: #FFFF18;}\n",
       ".cython.score-97 {background-color: #FFFF17;}\n",
       ".cython.score-98 {background-color: #FFFF17;}\n",
       ".cython.score-99 {background-color: #FFFF17;}\n",
       ".cython.score-100 {background-color: #FFFF17;}\n",
       ".cython.score-101 {background-color: #FFFF16;}\n",
       ".cython.score-102 {background-color: #FFFF16;}\n",
       ".cython.score-103 {background-color: #FFFF16;}\n",
       ".cython.score-104 {background-color: #FFFF16;}\n",
       ".cython.score-105 {background-color: #FFFF16;}\n",
       ".cython.score-106 {background-color: #FFFF15;}\n",
       ".cython.score-107 {background-color: #FFFF15;}\n",
       ".cython.score-108 {background-color: #FFFF15;}\n",
       ".cython.score-109 {background-color: #FFFF15;}\n",
       ".cython.score-110 {background-color: #FFFF15;}\n",
       ".cython.score-111 {background-color: #FFFF15;}\n",
       ".cython.score-112 {background-color: #FFFF14;}\n",
       ".cython.score-113 {background-color: #FFFF14;}\n",
       ".cython.score-114 {background-color: #FFFF14;}\n",
       ".cython.score-115 {background-color: #FFFF14;}\n",
       ".cython.score-116 {background-color: #FFFF14;}\n",
       ".cython.score-117 {background-color: #FFFF14;}\n",
       ".cython.score-118 {background-color: #FFFF13;}\n",
       ".cython.score-119 {background-color: #FFFF13;}\n",
       ".cython.score-120 {background-color: #FFFF13;}\n",
       ".cython.score-121 {background-color: #FFFF13;}\n",
       ".cython.score-122 {background-color: #FFFF13;}\n",
       ".cython.score-123 {background-color: #FFFF13;}\n",
       ".cython.score-124 {background-color: #FFFF13;}\n",
       ".cython.score-125 {background-color: #FFFF12;}\n",
       ".cython.score-126 {background-color: #FFFF12;}\n",
       ".cython.score-127 {background-color: #FFFF12;}\n",
       ".cython.score-128 {background-color: #FFFF12;}\n",
       ".cython.score-129 {background-color: #FFFF12;}\n",
       ".cython.score-130 {background-color: #FFFF12;}\n",
       ".cython.score-131 {background-color: #FFFF12;}\n",
       ".cython.score-132 {background-color: #FFFF11;}\n",
       ".cython.score-133 {background-color: #FFFF11;}\n",
       ".cython.score-134 {background-color: #FFFF11;}\n",
       ".cython.score-135 {background-color: #FFFF11;}\n",
       ".cython.score-136 {background-color: #FFFF11;}\n",
       ".cython.score-137 {background-color: #FFFF11;}\n",
       ".cython.score-138 {background-color: #FFFF11;}\n",
       ".cython.score-139 {background-color: #FFFF11;}\n",
       ".cython.score-140 {background-color: #FFFF11;}\n",
       ".cython.score-141 {background-color: #FFFF10;}\n",
       ".cython.score-142 {background-color: #FFFF10;}\n",
       ".cython.score-143 {background-color: #FFFF10;}\n",
       ".cython.score-144 {background-color: #FFFF10;}\n",
       ".cython.score-145 {background-color: #FFFF10;}\n",
       ".cython.score-146 {background-color: #FFFF10;}\n",
       ".cython.score-147 {background-color: #FFFF10;}\n",
       ".cython.score-148 {background-color: #FFFF10;}\n",
       ".cython.score-149 {background-color: #FFFF10;}\n",
       ".cython.score-150 {background-color: #FFFF0f;}\n",
       ".cython.score-151 {background-color: #FFFF0f;}\n",
       ".cython.score-152 {background-color: #FFFF0f;}\n",
       ".cython.score-153 {background-color: #FFFF0f;}\n",
       ".cython.score-154 {background-color: #FFFF0f;}\n",
       ".cython.score-155 {background-color: #FFFF0f;}\n",
       ".cython.score-156 {background-color: #FFFF0f;}\n",
       ".cython.score-157 {background-color: #FFFF0f;}\n",
       ".cython.score-158 {background-color: #FFFF0f;}\n",
       ".cython.score-159 {background-color: #FFFF0f;}\n",
       ".cython.score-160 {background-color: #FFFF0f;}\n",
       ".cython.score-161 {background-color: #FFFF0e;}\n",
       ".cython.score-162 {background-color: #FFFF0e;}\n",
       ".cython.score-163 {background-color: #FFFF0e;}\n",
       ".cython.score-164 {background-color: #FFFF0e;}\n",
       ".cython.score-165 {background-color: #FFFF0e;}\n",
       ".cython.score-166 {background-color: #FFFF0e;}\n",
       ".cython.score-167 {background-color: #FFFF0e;}\n",
       ".cython.score-168 {background-color: #FFFF0e;}\n",
       ".cython.score-169 {background-color: #FFFF0e;}\n",
       ".cython.score-170 {background-color: #FFFF0e;}\n",
       ".cython.score-171 {background-color: #FFFF0e;}\n",
       ".cython.score-172 {background-color: #FFFF0e;}\n",
       ".cython.score-173 {background-color: #FFFF0d;}\n",
       ".cython.score-174 {background-color: #FFFF0d;}\n",
       ".cython.score-175 {background-color: #FFFF0d;}\n",
       ".cython.score-176 {background-color: #FFFF0d;}\n",
       ".cython.score-177 {background-color: #FFFF0d;}\n",
       ".cython.score-178 {background-color: #FFFF0d;}\n",
       ".cython.score-179 {background-color: #FFFF0d;}\n",
       ".cython.score-180 {background-color: #FFFF0d;}\n",
       ".cython.score-181 {background-color: #FFFF0d;}\n",
       ".cython.score-182 {background-color: #FFFF0d;}\n",
       ".cython.score-183 {background-color: #FFFF0d;}\n",
       ".cython.score-184 {background-color: #FFFF0d;}\n",
       ".cython.score-185 {background-color: #FFFF0d;}\n",
       ".cython.score-186 {background-color: #FFFF0d;}\n",
       ".cython.score-187 {background-color: #FFFF0c;}\n",
       ".cython.score-188 {background-color: #FFFF0c;}\n",
       ".cython.score-189 {background-color: #FFFF0c;}\n",
       ".cython.score-190 {background-color: #FFFF0c;}\n",
       ".cython.score-191 {background-color: #FFFF0c;}\n",
       ".cython.score-192 {background-color: #FFFF0c;}\n",
       ".cython.score-193 {background-color: #FFFF0c;}\n",
       ".cython.score-194 {background-color: #FFFF0c;}\n",
       ".cython.score-195 {background-color: #FFFF0c;}\n",
       ".cython.score-196 {background-color: #FFFF0c;}\n",
       ".cython.score-197 {background-color: #FFFF0c;}\n",
       ".cython.score-198 {background-color: #FFFF0c;}\n",
       ".cython.score-199 {background-color: #FFFF0c;}\n",
       ".cython.score-200 {background-color: #FFFF0c;}\n",
       ".cython.score-201 {background-color: #FFFF0c;}\n",
       ".cython.score-202 {background-color: #FFFF0c;}\n",
       ".cython.score-203 {background-color: #FFFF0b;}\n",
       ".cython.score-204 {background-color: #FFFF0b;}\n",
       ".cython.score-205 {background-color: #FFFF0b;}\n",
       ".cython.score-206 {background-color: #FFFF0b;}\n",
       ".cython.score-207 {background-color: #FFFF0b;}\n",
       ".cython.score-208 {background-color: #FFFF0b;}\n",
       ".cython.score-209 {background-color: #FFFF0b;}\n",
       ".cython.score-210 {background-color: #FFFF0b;}\n",
       ".cython.score-211 {background-color: #FFFF0b;}\n",
       ".cython.score-212 {background-color: #FFFF0b;}\n",
       ".cython.score-213 {background-color: #FFFF0b;}\n",
       ".cython.score-214 {background-color: #FFFF0b;}\n",
       ".cython.score-215 {background-color: #FFFF0b;}\n",
       ".cython.score-216 {background-color: #FFFF0b;}\n",
       ".cython.score-217 {background-color: #FFFF0b;}\n",
       ".cython.score-218 {background-color: #FFFF0b;}\n",
       ".cython.score-219 {background-color: #FFFF0b;}\n",
       ".cython.score-220 {background-color: #FFFF0b;}\n",
       ".cython.score-221 {background-color: #FFFF0b;}\n",
       ".cython.score-222 {background-color: #FFFF0a;}\n",
       ".cython.score-223 {background-color: #FFFF0a;}\n",
       ".cython.score-224 {background-color: #FFFF0a;}\n",
       ".cython.score-225 {background-color: #FFFF0a;}\n",
       ".cython.score-226 {background-color: #FFFF0a;}\n",
       ".cython.score-227 {background-color: #FFFF0a;}\n",
       ".cython.score-228 {background-color: #FFFF0a;}\n",
       ".cython.score-229 {background-color: #FFFF0a;}\n",
       ".cython.score-230 {background-color: #FFFF0a;}\n",
       ".cython.score-231 {background-color: #FFFF0a;}\n",
       ".cython.score-232 {background-color: #FFFF0a;}\n",
       ".cython.score-233 {background-color: #FFFF0a;}\n",
       ".cython.score-234 {background-color: #FFFF0a;}\n",
       ".cython.score-235 {background-color: #FFFF0a;}\n",
       ".cython.score-236 {background-color: #FFFF0a;}\n",
       ".cython.score-237 {background-color: #FFFF0a;}\n",
       ".cython.score-238 {background-color: #FFFF0a;}\n",
       ".cython.score-239 {background-color: #FFFF0a;}\n",
       ".cython.score-240 {background-color: #FFFF0a;}\n",
       ".cython.score-241 {background-color: #FFFF0a;}\n",
       ".cython.score-242 {background-color: #FFFF0a;}\n",
       ".cython.score-243 {background-color: #FFFF0a;}\n",
       ".cython.score-244 {background-color: #FFFF0a;}\n",
       ".cython.score-245 {background-color: #FFFF0a;}\n",
       ".cython.score-246 {background-color: #FFFF09;}\n",
       ".cython.score-247 {background-color: #FFFF09;}\n",
       ".cython.score-248 {background-color: #FFFF09;}\n",
       ".cython.score-249 {background-color: #FFFF09;}\n",
       ".cython.score-250 {background-color: #FFFF09;}\n",
       ".cython.score-251 {background-color: #FFFF09;}\n",
       ".cython.score-252 {background-color: #FFFF09;}\n",
       ".cython.score-253 {background-color: #FFFF09;}\n",
       ".cython.score-254 {background-color: #FFFF09;}\n",
       "pre { line-height: 125%; }\n",
       "td.linenos .normal { color: inherit; background-color: transparent; padding-left: 5px; padding-right: 5px; }\n",
       "span.linenos { color: inherit; background-color: transparent; padding-left: 5px; padding-right: 5px; }\n",
       "td.linenos .special { color: #000000; background-color: #ffffc0; padding-left: 5px; padding-right: 5px; }\n",
       "span.linenos.special { color: #000000; background-color: #ffffc0; padding-left: 5px; padding-right: 5px; }\n",
       ".cython .hll { background-color: #ffffcc }\n",
       ".cython { background: #f8f8f8; }\n",
       ".cython .c { color: #408080; font-style: italic } /* Comment */\n",
       ".cython .err { border: 1px solid #FF0000 } /* Error */\n",
       ".cython .k { color: #008000; font-weight: bold } /* Keyword */\n",
       ".cython .o { color: #666666 } /* Operator */\n",
       ".cython .ch { color: #408080; font-style: italic } /* Comment.Hashbang */\n",
       ".cython .cm { color: #408080; font-style: italic } /* Comment.Multiline */\n",
       ".cython .cp { color: #BC7A00 } /* Comment.Preproc */\n",
       ".cython .cpf { color: #408080; font-style: italic } /* Comment.PreprocFile */\n",
       ".cython .c1 { color: #408080; font-style: italic } /* Comment.Single */\n",
       ".cython .cs { color: #408080; font-style: italic } /* Comment.Special */\n",
       ".cython .gd { color: #A00000 } /* Generic.Deleted */\n",
       ".cython .ge { font-style: italic } /* Generic.Emph */\n",
       ".cython .gr { color: #FF0000 } /* Generic.Error */\n",
       ".cython .gh { color: #000080; font-weight: bold } /* Generic.Heading */\n",
       ".cython .gi { color: #00A000 } /* Generic.Inserted */\n",
       ".cython .go { color: #888888 } /* Generic.Output */\n",
       ".cython .gp { color: #000080; font-weight: bold } /* Generic.Prompt */\n",
       ".cython .gs { font-weight: bold } /* Generic.Strong */\n",
       ".cython .gu { color: #800080; font-weight: bold } /* Generic.Subheading */\n",
       ".cython .gt { color: #0044DD } /* Generic.Traceback */\n",
       ".cython .kc { color: #008000; font-weight: bold } /* Keyword.Constant */\n",
       ".cython .kd { color: #008000; font-weight: bold } /* Keyword.Declaration */\n",
       ".cython .kn { color: #008000; font-weight: bold } /* Keyword.Namespace */\n",
       ".cython .kp { color: #008000 } /* Keyword.Pseudo */\n",
       ".cython .kr { color: #008000; font-weight: bold } /* Keyword.Reserved */\n",
       ".cython .kt { color: #B00040 } /* Keyword.Type */\n",
       ".cython .m { color: #666666 } /* Literal.Number */\n",
       ".cython .s { color: #BA2121 } /* Literal.String */\n",
       ".cython .na { color: #7D9029 } /* Name.Attribute */\n",
       ".cython .nb { color: #008000 } /* Name.Builtin */\n",
       ".cython .nc { color: #0000FF; font-weight: bold } /* Name.Class */\n",
       ".cython .no { color: #880000 } /* Name.Constant */\n",
       ".cython .nd { color: #AA22FF } /* Name.Decorator */\n",
       ".cython .ni { color: #999999; font-weight: bold } /* Name.Entity */\n",
       ".cython .ne { color: #D2413A; font-weight: bold } /* Name.Exception */\n",
       ".cython .nf { color: #0000FF } /* Name.Function */\n",
       ".cython .nl { color: #A0A000 } /* Name.Label */\n",
       ".cython .nn { color: #0000FF; font-weight: bold } /* Name.Namespace */\n",
       ".cython .nt { color: #008000; font-weight: bold } /* Name.Tag */\n",
       ".cython .nv { color: #19177C } /* Name.Variable */\n",
       ".cython .ow { color: #AA22FF; font-weight: bold } /* Operator.Word */\n",
       ".cython .w { color: #bbbbbb } /* Text.Whitespace */\n",
       ".cython .mb { color: #666666 } /* Literal.Number.Bin */\n",
       ".cython .mf { color: #666666 } /* Literal.Number.Float */\n",
       ".cython .mh { color: #666666 } /* Literal.Number.Hex */\n",
       ".cython .mi { color: #666666 } /* Literal.Number.Integer */\n",
       ".cython .mo { color: #666666 } /* Literal.Number.Oct */\n",
       ".cython .sa { color: #BA2121 } /* Literal.String.Affix */\n",
       ".cython .sb { color: #BA2121 } /* Literal.String.Backtick */\n",
       ".cython .sc { color: #BA2121 } /* Literal.String.Char */\n",
       ".cython .dl { color: #BA2121 } /* Literal.String.Delimiter */\n",
       ".cython .sd { color: #BA2121; font-style: italic } /* Literal.String.Doc */\n",
       ".cython .s2 { color: #BA2121 } /* Literal.String.Double */\n",
       ".cython .se { color: #BB6622; font-weight: bold } /* Literal.String.Escape */\n",
       ".cython .sh { color: #BA2121 } /* Literal.String.Heredoc */\n",
       ".cython .si { color: #BB6688; font-weight: bold } /* Literal.String.Interpol */\n",
       ".cython .sx { color: #008000 } /* Literal.String.Other */\n",
       ".cython .sr { color: #BB6688 } /* Literal.String.Regex */\n",
       ".cython .s1 { color: #BA2121 } /* Literal.String.Single */\n",
       ".cython .ss { color: #19177C } /* Literal.String.Symbol */\n",
       ".cython .bp { color: #008000 } /* Name.Builtin.Pseudo */\n",
       ".cython .fm { color: #0000FF } /* Name.Function.Magic */\n",
       ".cython .vc { color: #19177C } /* Name.Variable.Class */\n",
       ".cython .vg { color: #19177C } /* Name.Variable.Global */\n",
       ".cython .vi { color: #19177C } /* Name.Variable.Instance */\n",
       ".cython .vm { color: #19177C } /* Name.Variable.Magic */\n",
       ".cython .il { color: #666666 } /* Literal.Number.Integer.Long */\n",
       "    </style>\n",
       "</head>\n",
       "<body class=\"cython\">\n",
       "<p><span style=\"border-bottom: solid 1px grey;\">Generated by Cython 0.29.21</span></p>\n",
       "<p>\n",
       "    <span style=\"background-color: #FFFF00\">Yellow lines</span> hint at Python interaction.<br />\n",
       "    Click on a line that starts with a \"<code>+</code>\" to see the C code that Cython generated for it.\n",
       "</p>\n",
       "<div class=\"cython\"><pre class=\"cython line score-0\">&#xA0;<span class=\"\">01</span>: </pre>\n",
       "<pre class=\"cython line score-8\" onclick=\"(function(s){s.display=s.display==='block'?'none':'block'})(this.nextElementSibling.style)\">+<span class=\"\">02</span>: <span class=\"k\">cimport</span> <span class=\"nn\">cython</span></pre>\n",
       "<pre class='cython code score-8 '>  __pyx_t_1 = <span class='pyx_c_api'>__Pyx_PyDict_NewPresized</span>(0);<span class='error_goto'> if (unlikely(!__pyx_t_1)) __PYX_ERR(0, 2, __pyx_L1_error)</span>\n",
       "  <span class='refnanny'>__Pyx_GOTREF</span>(__pyx_t_1);\n",
       "  if (<span class='py_c_api'>PyDict_SetItem</span>(__pyx_d, __pyx_n_s_test, __pyx_t_1) &lt; 0) <span class='error_goto'>__PYX_ERR(0, 2, __pyx_L1_error)</span>\n",
       "  <span class='pyx_macro_api'>__Pyx_DECREF</span>(__pyx_t_1); __pyx_t_1 = 0;\n",
       "</pre><pre class=\"cython line score-0\">&#xA0;<span class=\"\">03</span>: </pre>\n",
       "<pre class=\"cython line score-8\" onclick=\"(function(s){s.display=s.display==='block'?'none':'block'})(this.nextElementSibling.style)\">+<span class=\"\">04</span>: <span class=\"k\">import</span> <span class=\"nn\">numpy</span> <span class=\"k\">as</span> <span class=\"nn\">np</span></pre>\n",
       "<pre class='cython code score-8 '>  __pyx_t_1 = <span class='pyx_c_api'>__Pyx_Import</span>(__pyx_n_s_numpy, 0, 0);<span class='error_goto'> if (unlikely(!__pyx_t_1)) __PYX_ERR(0, 4, __pyx_L1_error)</span>\n",
       "  <span class='refnanny'>__Pyx_GOTREF</span>(__pyx_t_1);\n",
       "  if (<span class='py_c_api'>PyDict_SetItem</span>(__pyx_d, __pyx_n_s_np, __pyx_t_1) &lt; 0) <span class='error_goto'>__PYX_ERR(0, 4, __pyx_L1_error)</span>\n",
       "  <span class='pyx_macro_api'>__Pyx_DECREF</span>(__pyx_t_1); __pyx_t_1 = 0;\n",
       "</pre><pre class=\"cython line score-0\">&#xA0;<span class=\"\">05</span>: <span class=\"k\">cimport</span> <span class=\"nn\">numpy</span> <span class=\"k\">as</span> <span class=\"nn\">np</span></pre>\n",
       "<pre class=\"cython line score-0\">&#xA0;<span class=\"\">06</span>: </pre>\n",
       "<pre class=\"cython line score-0\">&#xA0;<span class=\"\">07</span>: <span class=\"k\">ctypedef</span> <span class=\"n\">np</span><span class=\"o\">.</span><span class=\"n\">float32_t</span> <span class=\"n\">DTYPE_t</span></pre>\n",
       "<pre class=\"cython line score-0\">&#xA0;<span class=\"\">08</span>: </pre>\n",
       "<pre class=\"cython line score-0\">&#xA0;<span class=\"\">09</span>: <span class=\"nd\">@cython</span><span class=\"o\">.</span><span class=\"n\">boundscheck</span><span class=\"p\">(</span><span class=\"bp\">False</span><span class=\"p\">)</span></pre>\n",
       "<pre class=\"cython line score-0\">&#xA0;<span class=\"\">10</span>: <span class=\"nd\">@cython</span><span class=\"o\">.</span><span class=\"n\">wraparound</span><span class=\"p\">(</span><span class=\"bp\">False</span><span class=\"p\">)</span></pre>\n",
       "<pre class=\"cython line score-97\" onclick=\"(function(s){s.display=s.display==='block'?'none':'block'})(this.nextElementSibling.style)\">+<span class=\"\">11</span>: <span class=\"k\">cpdef</span> <span class=\"kt\">np</span>.<span class=\"kt\">ndarray</span>[<span class=\"nf\">DTYPE_t</span><span class=\"p\">,</span> <span class=\"nf\">ndim</span><span class=\"o\">=</span><span class=\"mf\">2</span><span class=\"p\">]</span> <span class=\"n\">cy_decode_blocks</span><span class=\"p\">(</span><span class=\"nb\">list</span> <span class=\"n\">data</span><span class=\"p\">,</span> <span class=\"nb\">int</span> <span class=\"n\">rows</span><span class=\"p\">,</span> <span class=\"nb\">int</span> <span class=\"n\">cols</span><span class=\"p\">,</span> <span class=\"nb\">int</span> <span class=\"n\">thresh</span><span class=\"p\">,</span> <span class=\"nb\">float</span> <span class=\"n\">MIN</span><span class=\"p\">):</span></pre>\n",
       "<pre class='cython code score-97 '>static PyObject *__pyx_pw_46_cython_magic_7c97e044c48d605fcd9a1017abcf6a05_1cy_decode_blocks(PyObject *__pyx_self, PyObject *__pyx_args, PyObject *__pyx_kwds); /*proto*/\n",
       "static PyArrayObject *__pyx_f_46_cython_magic_7c97e044c48d605fcd9a1017abcf6a05_cy_decode_blocks(PyObject *__pyx_v_data, int __pyx_v_rows, int __pyx_v_cols, int __pyx_v_thresh, float __pyx_v_MIN, CYTHON_UNUSED int __pyx_skip_dispatch) {\n",
       "  PyArrayObject *__pyx_v_decoded = 0;\n",
       "  __Pyx_memviewslice __pyx_v_src = { 0, 0, { 0 }, { 0 }, { 0 } };\n",
       "  int __pyx_v_RUN;\n",
       "  int __pyx_v_ESC;\n",
       "  int __pyx_v_i;\n",
       "  int __pyx_v_j;\n",
       "  int __pyx_v_ib;\n",
       "  int __pyx_v_nrun;\n",
       "  Py_ssize_t __pyx_v_row;\n",
       "  Py_ssize_t __pyx_v_nsrc;\n",
       "  __Pyx_LocalBuf_ND __pyx_pybuffernd_decoded;\n",
       "  __Pyx_Buffer __pyx_pybuffer_decoded;\n",
       "  PyArrayObject *__pyx_r = NULL;\n",
       "  <span class='refnanny'>__Pyx_RefNannyDeclarations</span>\n",
       "  <span class='refnanny'>__Pyx_RefNannySetupContext</span>(\"cy_decode_blocks\", 0);\n",
       "  __pyx_pybuffer_decoded.pybuffer.buf = NULL;\n",
       "  __pyx_pybuffer_decoded.refcount = 0;\n",
       "  __pyx_pybuffernd_decoded.data = NULL;\n",
       "  __pyx_pybuffernd_decoded.rcbuffer = &amp;__pyx_pybuffer_decoded;\n",
       "/* … */\n",
       "  /* function exit code */\n",
       "  __pyx_L1_error:;\n",
       "  <span class='pyx_macro_api'>__Pyx_XDECREF</span>(__pyx_t_1);\n",
       "  <span class='pyx_macro_api'>__Pyx_XDECREF</span>(__pyx_t_2);\n",
       "  <span class='pyx_macro_api'>__Pyx_XDECREF</span>(__pyx_t_3);\n",
       "  <span class='pyx_macro_api'>__Pyx_XDECREF</span>(__pyx_t_4);\n",
       "  <span class='pyx_macro_api'>__Pyx_XDECREF</span>(__pyx_t_5);\n",
       "  <span class='pyx_macro_api'>__Pyx_XDECREF</span>(__pyx_t_6);\n",
       "  <span class='pyx_macro_api'>__Pyx_XDECREF</span>(__pyx_t_8);\n",
       "  __PYX_XDEC_MEMVIEW(&amp;__pyx_t_12, 1);\n",
       "  { PyObject *__pyx_type, *__pyx_value, *__pyx_tb;\n",
       "    __Pyx_PyThreadState_declare\n",
       "    __Pyx_PyThreadState_assign\n",
       "    <span class='pyx_c_api'>__Pyx_ErrFetch</span>(&amp;__pyx_type, &amp;__pyx_value, &amp;__pyx_tb);\n",
       "    <span class='pyx_c_api'>__Pyx_SafeReleaseBuffer</span>(&amp;__pyx_pybuffernd_decoded.rcbuffer-&gt;pybuffer);\n",
       "  <span class='pyx_c_api'>__Pyx_ErrRestore</span>(__pyx_type, __pyx_value, __pyx_tb);}\n",
       "  <span class='pyx_c_api'>__Pyx_AddTraceback</span>(\"_cython_magic_7c97e044c48d605fcd9a1017abcf6a05.cy_decode_blocks\", __pyx_clineno, __pyx_lineno, __pyx_filename);\n",
       "  __pyx_r = 0;\n",
       "  goto __pyx_L2;\n",
       "  __pyx_L0:;\n",
       "  <span class='pyx_c_api'>__Pyx_SafeReleaseBuffer</span>(&amp;__pyx_pybuffernd_decoded.rcbuffer-&gt;pybuffer);\n",
       "  __pyx_L2:;\n",
       "  <span class='pyx_macro_api'>__Pyx_XDECREF</span>((PyObject *)__pyx_v_decoded);\n",
       "  __PYX_XDEC_MEMVIEW(&amp;__pyx_v_src, 1);\n",
       "  <span class='refnanny'>__Pyx_XGIVEREF</span>((PyObject *)__pyx_r);\n",
       "  <span class='refnanny'>__Pyx_RefNannyFinishContext</span>();\n",
       "  return __pyx_r;\n",
       "}\n",
       "\n",
       "/* Python wrapper */\n",
       "static PyObject *__pyx_pw_46_cython_magic_7c97e044c48d605fcd9a1017abcf6a05_1cy_decode_blocks(PyObject *__pyx_self, PyObject *__pyx_args, PyObject *__pyx_kwds); /*proto*/\n",
       "static PyObject *__pyx_pw_46_cython_magic_7c97e044c48d605fcd9a1017abcf6a05_1cy_decode_blocks(PyObject *__pyx_self, PyObject *__pyx_args, PyObject *__pyx_kwds) {\n",
       "  PyObject *__pyx_v_data = 0;\n",
       "  int __pyx_v_rows;\n",
       "  int __pyx_v_cols;\n",
       "  int __pyx_v_thresh;\n",
       "  float __pyx_v_MIN;\n",
       "  PyObject *__pyx_r = 0;\n",
       "  <span class='refnanny'>__Pyx_RefNannyDeclarations</span>\n",
       "  <span class='refnanny'>__Pyx_RefNannySetupContext</span>(\"cy_decode_blocks (wrapper)\", 0);\n",
       "  {\n",
       "    static PyObject **__pyx_pyargnames[] = {&amp;__pyx_n_s_data,&amp;__pyx_n_s_rows,&amp;__pyx_n_s_cols,&amp;__pyx_n_s_thresh,&amp;__pyx_n_s_MIN,0};\n",
       "    PyObject* values[5] = {0,0,0,0,0};\n",
       "    if (unlikely(__pyx_kwds)) {\n",
       "      Py_ssize_t kw_args;\n",
       "      const Py_ssize_t pos_args = <span class='py_macro_api'>PyTuple_GET_SIZE</span>(__pyx_args);\n",
       "      switch (pos_args) {\n",
       "        case  5: values[4] = <span class='py_macro_api'>PyTuple_GET_ITEM</span>(__pyx_args, 4);\n",
       "        CYTHON_FALLTHROUGH;\n",
       "        case  4: values[3] = <span class='py_macro_api'>PyTuple_GET_ITEM</span>(__pyx_args, 3);\n",
       "        CYTHON_FALLTHROUGH;\n",
       "        case  3: values[2] = <span class='py_macro_api'>PyTuple_GET_ITEM</span>(__pyx_args, 2);\n",
       "        CYTHON_FALLTHROUGH;\n",
       "        case  2: values[1] = <span class='py_macro_api'>PyTuple_GET_ITEM</span>(__pyx_args, 1);\n",
       "        CYTHON_FALLTHROUGH;\n",
       "        case  1: values[0] = <span class='py_macro_api'>PyTuple_GET_ITEM</span>(__pyx_args, 0);\n",
       "        CYTHON_FALLTHROUGH;\n",
       "        case  0: break;\n",
       "        default: goto __pyx_L5_argtuple_error;\n",
       "      }\n",
       "      kw_args = <span class='py_c_api'>PyDict_Size</span>(__pyx_kwds);\n",
       "      switch (pos_args) {\n",
       "        case  0:\n",
       "        if (likely((values[0] = <span class='pyx_c_api'>__Pyx_PyDict_GetItemStr</span>(__pyx_kwds, __pyx_n_s_data)) != 0)) kw_args--;\n",
       "        else goto __pyx_L5_argtuple_error;\n",
       "        CYTHON_FALLTHROUGH;\n",
       "        case  1:\n",
       "        if (likely((values[1] = <span class='pyx_c_api'>__Pyx_PyDict_GetItemStr</span>(__pyx_kwds, __pyx_n_s_rows)) != 0)) kw_args--;\n",
       "        else {\n",
       "          <span class='pyx_c_api'>__Pyx_RaiseArgtupleInvalid</span>(\"cy_decode_blocks\", 1, 5, 5, 1); <span class='error_goto'>__PYX_ERR(0, 11, __pyx_L3_error)</span>\n",
       "        }\n",
       "        CYTHON_FALLTHROUGH;\n",
       "        case  2:\n",
       "        if (likely((values[2] = <span class='pyx_c_api'>__Pyx_PyDict_GetItemStr</span>(__pyx_kwds, __pyx_n_s_cols)) != 0)) kw_args--;\n",
       "        else {\n",
       "          <span class='pyx_c_api'>__Pyx_RaiseArgtupleInvalid</span>(\"cy_decode_blocks\", 1, 5, 5, 2); <span class='error_goto'>__PYX_ERR(0, 11, __pyx_L3_error)</span>\n",
       "        }\n",
       "        CYTHON_FALLTHROUGH;\n",
       "        case  3:\n",
       "        if (likely((values[3] = <span class='pyx_c_api'>__Pyx_PyDict_GetItemStr</span>(__pyx_kwds, __pyx_n_s_thresh)) != 0)) kw_args--;\n",
       "        else {\n",
       "          <span class='pyx_c_api'>__Pyx_RaiseArgtupleInvalid</span>(\"cy_decode_blocks\", 1, 5, 5, 3); <span class='error_goto'>__PYX_ERR(0, 11, __pyx_L3_error)</span>\n",
       "        }\n",
       "        CYTHON_FALLTHROUGH;\n",
       "        case  4:\n",
       "        if (likely((values[4] = <span class='pyx_c_api'>__Pyx_PyDict_GetItemStr</span>(__pyx_kwds, __pyx_n_s_MIN)) != 0)) kw_args--;\n",
       "        else {\n",
       "          <span class='pyx_c_api'>__Pyx_RaiseArgtupleInvalid</span>(\"cy_decode_blocks\", 1, 5, 5, 4); <span class='error_goto'>__PYX_ERR(0, 11, __pyx_L3_error)</span>\n",
       "        }\n",
       "      }\n",
       "      if (unlikely(kw_args &gt; 0)) {\n",
       "        if (unlikely(<span class='pyx_c_api'>__Pyx_ParseOptionalKeywords</span>(__pyx_kwds, __pyx_pyargnames, 0, values, pos_args, \"cy_decode_blocks\") &lt; 0)) <span class='error_goto'>__PYX_ERR(0, 11, __pyx_L3_error)</span>\n",
       "      }\n",
       "    } else if (<span class='py_macro_api'>PyTuple_GET_SIZE</span>(__pyx_args) != 5) {\n",
       "      goto __pyx_L5_argtuple_error;\n",
       "    } else {\n",
       "      values[0] = <span class='py_macro_api'>PyTuple_GET_ITEM</span>(__pyx_args, 0);\n",
       "      values[1] = <span class='py_macro_api'>PyTuple_GET_ITEM</span>(__pyx_args, 1);\n",
       "      values[2] = <span class='py_macro_api'>PyTuple_GET_ITEM</span>(__pyx_args, 2);\n",
       "      values[3] = <span class='py_macro_api'>PyTuple_GET_ITEM</span>(__pyx_args, 3);\n",
       "      values[4] = <span class='py_macro_api'>PyTuple_GET_ITEM</span>(__pyx_args, 4);\n",
       "    }\n",
       "    __pyx_v_data = ((PyObject*)values[0]);\n",
       "    __pyx_v_rows = <span class='pyx_c_api'>__Pyx_PyInt_As_int</span>(values[1]); if (unlikely((__pyx_v_rows == (int)-1) &amp;&amp; <span class='py_c_api'>PyErr_Occurred</span>())) <span class='error_goto'>__PYX_ERR(0, 11, __pyx_L3_error)</span>\n",
       "    __pyx_v_cols = <span class='pyx_c_api'>__Pyx_PyInt_As_int</span>(values[2]); if (unlikely((__pyx_v_cols == (int)-1) &amp;&amp; <span class='py_c_api'>PyErr_Occurred</span>())) <span class='error_goto'>__PYX_ERR(0, 11, __pyx_L3_error)</span>\n",
       "    __pyx_v_thresh = <span class='pyx_c_api'>__Pyx_PyInt_As_int</span>(values[3]); if (unlikely((__pyx_v_thresh == (int)-1) &amp;&amp; <span class='py_c_api'>PyErr_Occurred</span>())) <span class='error_goto'>__PYX_ERR(0, 11, __pyx_L3_error)</span>\n",
       "    __pyx_v_MIN = __pyx_<span class='py_c_api'>PyFloat_AsFloat</span>(values[4]); if (unlikely((__pyx_v_MIN == (float)-1) &amp;&amp; <span class='py_c_api'>PyErr_Occurred</span>())) <span class='error_goto'>__PYX_ERR(0, 11, __pyx_L3_error)</span>\n",
       "  }\n",
       "  goto __pyx_L4_argument_unpacking_done;\n",
       "  __pyx_L5_argtuple_error:;\n",
       "  <span class='pyx_c_api'>__Pyx_RaiseArgtupleInvalid</span>(\"cy_decode_blocks\", 1, 5, 5, <span class='py_macro_api'>PyTuple_GET_SIZE</span>(__pyx_args)); <span class='error_goto'>__PYX_ERR(0, 11, __pyx_L3_error)</span>\n",
       "  __pyx_L3_error:;\n",
       "  <span class='pyx_c_api'>__Pyx_AddTraceback</span>(\"_cython_magic_7c97e044c48d605fcd9a1017abcf6a05.cy_decode_blocks\", __pyx_clineno, __pyx_lineno, __pyx_filename);\n",
       "  <span class='refnanny'>__Pyx_RefNannyFinishContext</span>();\n",
       "  return NULL;\n",
       "  __pyx_L4_argument_unpacking_done:;\n",
       "  if (unlikely(!<span class='pyx_c_api'>__Pyx_ArgTypeTest</span>(((PyObject *)__pyx_v_data), (&amp;PyList_Type), 1, \"data\", 1))) <span class='error_goto'>__PYX_ERR(0, 11, __pyx_L1_error)</span>\n",
       "  __pyx_r = __pyx_pf_46_cython_magic_7c97e044c48d605fcd9a1017abcf6a05_cy_decode_blocks(__pyx_self, __pyx_v_data, __pyx_v_rows, __pyx_v_cols, __pyx_v_thresh, __pyx_v_MIN);\n",
       "  int __pyx_lineno = 0;\n",
       "  const char *__pyx_filename = NULL;\n",
       "  int __pyx_clineno = 0;\n",
       "\n",
       "  /* function exit code */\n",
       "  goto __pyx_L0;\n",
       "  __pyx_L1_error:;\n",
       "  __pyx_r = NULL;\n",
       "  __pyx_L0:;\n",
       "  <span class='refnanny'>__Pyx_RefNannyFinishContext</span>();\n",
       "  return __pyx_r;\n",
       "}\n",
       "\n",
       "static PyObject *__pyx_pf_46_cython_magic_7c97e044c48d605fcd9a1017abcf6a05_cy_decode_blocks(CYTHON_UNUSED PyObject *__pyx_self, PyObject *__pyx_v_data, int __pyx_v_rows, int __pyx_v_cols, int __pyx_v_thresh, float __pyx_v_MIN) {\n",
       "  PyObject *__pyx_r = NULL;\n",
       "  <span class='refnanny'>__Pyx_RefNannyDeclarations</span>\n",
       "  <span class='refnanny'>__Pyx_RefNannySetupContext</span>(\"cy_decode_blocks\", 0);\n",
       "  <span class='pyx_macro_api'>__Pyx_XDECREF</span>(__pyx_r);\n",
       "  __pyx_t_1 = ((PyObject *)__pyx_f_46_cython_magic_7c97e044c48d605fcd9a1017abcf6a05_cy_decode_blocks(__pyx_v_data, __pyx_v_rows, __pyx_v_cols, __pyx_v_thresh, __pyx_v_MIN, 0));<span class='error_goto'> if (unlikely(!__pyx_t_1)) __PYX_ERR(0, 11, __pyx_L1_error)</span>\n",
       "  <span class='refnanny'>__Pyx_GOTREF</span>(__pyx_t_1);\n",
       "  __pyx_r = __pyx_t_1;\n",
       "  __pyx_t_1 = 0;\n",
       "  goto __pyx_L0;\n",
       "\n",
       "  /* function exit code */\n",
       "  __pyx_L1_error:;\n",
       "  <span class='pyx_macro_api'>__Pyx_XDECREF</span>(__pyx_t_1);\n",
       "  <span class='pyx_c_api'>__Pyx_AddTraceback</span>(\"_cython_magic_7c97e044c48d605fcd9a1017abcf6a05.cy_decode_blocks\", __pyx_clineno, __pyx_lineno, __pyx_filename);\n",
       "  __pyx_r = NULL;\n",
       "  __pyx_L0:;\n",
       "  <span class='refnanny'>__Pyx_XGIVEREF</span>(__pyx_r);\n",
       "  <span class='refnanny'>__Pyx_RefNannyFinishContext</span>();\n",
       "  return __pyx_r;\n",
       "}\n",
       "</pre><pre class=\"cython line score-70\" onclick=\"(function(s){s.display=s.display==='block'?'none':'block'})(this.nextElementSibling.style)\">+<span class=\"\">12</span>:     <span class=\"k\">cdef</span> <span class=\"kt\">np</span>.<span class=\"kt\">ndarray</span>[<span class=\"nf\">DTYPE_t</span><span class=\"p\">,</span> <span class=\"nf\">ndim</span><span class=\"o\">=</span><span class=\"mf\">2</span><span class=\"p\">]</span> <span class=\"n\">decoded</span> <span class=\"o\">=</span> <span class=\"n\">np</span><span class=\"o\">.</span><span class=\"n\">full</span><span class=\"p\">((</span><span class=\"n\">rows</span><span class=\"p\">,</span> <span class=\"n\">cols</span><span class=\"p\">),</span> <span class=\"n\">thresh</span><span class=\"p\">,</span> <span class=\"n\">np</span><span class=\"o\">.</span><span class=\"n\">float32</span><span class=\"p\">)</span></pre>\n",
       "<pre class='cython code score-70 '>  <span class='pyx_c_api'>__Pyx_GetModuleGlobalName</span>(__pyx_t_2, __pyx_n_s_np);<span class='error_goto'> if (unlikely(!__pyx_t_2)) __PYX_ERR(0, 12, __pyx_L1_error)</span>\n",
       "  <span class='refnanny'>__Pyx_GOTREF</span>(__pyx_t_2);\n",
       "  __pyx_t_3 = <span class='pyx_c_api'>__Pyx_PyObject_GetAttrStr</span>(__pyx_t_2, __pyx_n_s_full);<span class='error_goto'> if (unlikely(!__pyx_t_3)) __PYX_ERR(0, 12, __pyx_L1_error)</span>\n",
       "  <span class='refnanny'>__Pyx_GOTREF</span>(__pyx_t_3);\n",
       "  <span class='pyx_macro_api'>__Pyx_DECREF</span>(__pyx_t_2); __pyx_t_2 = 0;\n",
       "  __pyx_t_2 = <span class='pyx_c_api'>__Pyx_PyInt_From_int</span>(__pyx_v_rows);<span class='error_goto'> if (unlikely(!__pyx_t_2)) __PYX_ERR(0, 12, __pyx_L1_error)</span>\n",
       "  <span class='refnanny'>__Pyx_GOTREF</span>(__pyx_t_2);\n",
       "  __pyx_t_4 = <span class='pyx_c_api'>__Pyx_PyInt_From_int</span>(__pyx_v_cols);<span class='error_goto'> if (unlikely(!__pyx_t_4)) __PYX_ERR(0, 12, __pyx_L1_error)</span>\n",
       "  <span class='refnanny'>__Pyx_GOTREF</span>(__pyx_t_4);\n",
       "  __pyx_t_5 = <span class='py_c_api'>PyTuple_New</span>(2);<span class='error_goto'> if (unlikely(!__pyx_t_5)) __PYX_ERR(0, 12, __pyx_L1_error)</span>\n",
       "  <span class='refnanny'>__Pyx_GOTREF</span>(__pyx_t_5);\n",
       "  <span class='refnanny'>__Pyx_GIVEREF</span>(__pyx_t_2);\n",
       "  <span class='py_macro_api'>PyTuple_SET_ITEM</span>(__pyx_t_5, 0, __pyx_t_2);\n",
       "  <span class='refnanny'>__Pyx_GIVEREF</span>(__pyx_t_4);\n",
       "  <span class='py_macro_api'>PyTuple_SET_ITEM</span>(__pyx_t_5, 1, __pyx_t_4);\n",
       "  __pyx_t_2 = 0;\n",
       "  __pyx_t_4 = 0;\n",
       "  __pyx_t_4 = <span class='pyx_c_api'>__Pyx_PyInt_From_int</span>(__pyx_v_thresh);<span class='error_goto'> if (unlikely(!__pyx_t_4)) __PYX_ERR(0, 12, __pyx_L1_error)</span>\n",
       "  <span class='refnanny'>__Pyx_GOTREF</span>(__pyx_t_4);\n",
       "  <span class='pyx_c_api'>__Pyx_GetModuleGlobalName</span>(__pyx_t_2, __pyx_n_s_np);<span class='error_goto'> if (unlikely(!__pyx_t_2)) __PYX_ERR(0, 12, __pyx_L1_error)</span>\n",
       "  <span class='refnanny'>__Pyx_GOTREF</span>(__pyx_t_2);\n",
       "  __pyx_t_6 = <span class='pyx_c_api'>__Pyx_PyObject_GetAttrStr</span>(__pyx_t_2, __pyx_n_s_float32);<span class='error_goto'> if (unlikely(!__pyx_t_6)) __PYX_ERR(0, 12, __pyx_L1_error)</span>\n",
       "  <span class='refnanny'>__Pyx_GOTREF</span>(__pyx_t_6);\n",
       "  <span class='pyx_macro_api'>__Pyx_DECREF</span>(__pyx_t_2); __pyx_t_2 = 0;\n",
       "  __pyx_t_2 = NULL;\n",
       "  __pyx_t_7 = 0;\n",
       "  if (CYTHON_UNPACK_METHODS &amp;&amp; unlikely(<span class='py_c_api'>PyMethod_Check</span>(__pyx_t_3))) {\n",
       "    __pyx_t_2 = <span class='py_macro_api'>PyMethod_GET_SELF</span>(__pyx_t_3);\n",
       "    if (likely(__pyx_t_2)) {\n",
       "      PyObject* function = <span class='py_macro_api'>PyMethod_GET_FUNCTION</span>(__pyx_t_3);\n",
       "      <span class='pyx_macro_api'>__Pyx_INCREF</span>(__pyx_t_2);\n",
       "      <span class='pyx_macro_api'>__Pyx_INCREF</span>(function);\n",
       "      <span class='pyx_macro_api'>__Pyx_DECREF_SET</span>(__pyx_t_3, function);\n",
       "      __pyx_t_7 = 1;\n",
       "    }\n",
       "  }\n",
       "  #if CYTHON_FAST_PYCALL\n",
       "  if (<span class='py_c_api'>PyFunction_Check</span>(__pyx_t_3)) {\n",
       "    PyObject *__pyx_temp[4] = {__pyx_t_2, __pyx_t_5, __pyx_t_4, __pyx_t_6};\n",
       "    __pyx_t_1 = <span class='pyx_c_api'>__Pyx_PyFunction_FastCall</span>(__pyx_t_3, __pyx_temp+1-__pyx_t_7, 3+__pyx_t_7);<span class='error_goto'> if (unlikely(!__pyx_t_1)) __PYX_ERR(0, 12, __pyx_L1_error)</span>\n",
       "    <span class='pyx_macro_api'>__Pyx_XDECREF</span>(__pyx_t_2); __pyx_t_2 = 0;\n",
       "    <span class='refnanny'>__Pyx_GOTREF</span>(__pyx_t_1);\n",
       "    <span class='pyx_macro_api'>__Pyx_DECREF</span>(__pyx_t_5); __pyx_t_5 = 0;\n",
       "    <span class='pyx_macro_api'>__Pyx_DECREF</span>(__pyx_t_4); __pyx_t_4 = 0;\n",
       "    <span class='pyx_macro_api'>__Pyx_DECREF</span>(__pyx_t_6); __pyx_t_6 = 0;\n",
       "  } else\n",
       "  #endif\n",
       "  #if CYTHON_FAST_PYCCALL\n",
       "  if (<span class='pyx_c_api'>__Pyx_PyFastCFunction_Check</span>(__pyx_t_3)) {\n",
       "    PyObject *__pyx_temp[4] = {__pyx_t_2, __pyx_t_5, __pyx_t_4, __pyx_t_6};\n",
       "    __pyx_t_1 = <span class='pyx_c_api'>__Pyx_PyCFunction_FastCall</span>(__pyx_t_3, __pyx_temp+1-__pyx_t_7, 3+__pyx_t_7);<span class='error_goto'> if (unlikely(!__pyx_t_1)) __PYX_ERR(0, 12, __pyx_L1_error)</span>\n",
       "    <span class='pyx_macro_api'>__Pyx_XDECREF</span>(__pyx_t_2); __pyx_t_2 = 0;\n",
       "    <span class='refnanny'>__Pyx_GOTREF</span>(__pyx_t_1);\n",
       "    <span class='pyx_macro_api'>__Pyx_DECREF</span>(__pyx_t_5); __pyx_t_5 = 0;\n",
       "    <span class='pyx_macro_api'>__Pyx_DECREF</span>(__pyx_t_4); __pyx_t_4 = 0;\n",
       "    <span class='pyx_macro_api'>__Pyx_DECREF</span>(__pyx_t_6); __pyx_t_6 = 0;\n",
       "  } else\n",
       "  #endif\n",
       "  {\n",
       "    __pyx_t_8 = <span class='py_c_api'>PyTuple_New</span>(3+__pyx_t_7);<span class='error_goto'> if (unlikely(!__pyx_t_8)) __PYX_ERR(0, 12, __pyx_L1_error)</span>\n",
       "    <span class='refnanny'>__Pyx_GOTREF</span>(__pyx_t_8);\n",
       "    if (__pyx_t_2) {\n",
       "      <span class='refnanny'>__Pyx_GIVEREF</span>(__pyx_t_2); <span class='py_macro_api'>PyTuple_SET_ITEM</span>(__pyx_t_8, 0, __pyx_t_2); __pyx_t_2 = NULL;\n",
       "    }\n",
       "    <span class='refnanny'>__Pyx_GIVEREF</span>(__pyx_t_5);\n",
       "    <span class='py_macro_api'>PyTuple_SET_ITEM</span>(__pyx_t_8, 0+__pyx_t_7, __pyx_t_5);\n",
       "    <span class='refnanny'>__Pyx_GIVEREF</span>(__pyx_t_4);\n",
       "    <span class='py_macro_api'>PyTuple_SET_ITEM</span>(__pyx_t_8, 1+__pyx_t_7, __pyx_t_4);\n",
       "    <span class='refnanny'>__Pyx_GIVEREF</span>(__pyx_t_6);\n",
       "    <span class='py_macro_api'>PyTuple_SET_ITEM</span>(__pyx_t_8, 2+__pyx_t_7, __pyx_t_6);\n",
       "    __pyx_t_5 = 0;\n",
       "    __pyx_t_4 = 0;\n",
       "    __pyx_t_6 = 0;\n",
       "    __pyx_t_1 = <span class='pyx_c_api'>__Pyx_PyObject_Call</span>(__pyx_t_3, __pyx_t_8, NULL);<span class='error_goto'> if (unlikely(!__pyx_t_1)) __PYX_ERR(0, 12, __pyx_L1_error)</span>\n",
       "    <span class='refnanny'>__Pyx_GOTREF</span>(__pyx_t_1);\n",
       "    <span class='pyx_macro_api'>__Pyx_DECREF</span>(__pyx_t_8); __pyx_t_8 = 0;\n",
       "  }\n",
       "  <span class='pyx_macro_api'>__Pyx_DECREF</span>(__pyx_t_3); __pyx_t_3 = 0;\n",
       "  if (!(likely(((__pyx_t_1) == Py_None) || likely(<span class='pyx_c_api'>__Pyx_TypeTest</span>(__pyx_t_1, __pyx_ptype_5numpy_ndarray))))) <span class='error_goto'>__PYX_ERR(0, 12, __pyx_L1_error)</span>\n",
       "  __pyx_t_9 = ((PyArrayObject *)__pyx_t_1);\n",
       "  {\n",
       "    __Pyx_BufFmt_StackElem __pyx_stack[1];\n",
       "    if (unlikely(<span class='pyx_c_api'>__Pyx_GetBufferAndValidate</span>(&amp;__pyx_pybuffernd_decoded.rcbuffer-&gt;pybuffer, (PyObject*)__pyx_t_9, &amp;__Pyx_TypeInfo_nn___pyx_t_46_cython_magic_7c97e044c48d605fcd9a1017abcf6a05_DTYPE_t, PyBUF_FORMAT| PyBUF_STRIDES| PyBUF_WRITABLE, 2, 0, __pyx_stack) == -1)) {\n",
       "      __pyx_v_decoded = ((PyArrayObject *)Py_None); <span class='pyx_macro_api'>__Pyx_INCREF</span>(Py_None); __pyx_pybuffernd_decoded.rcbuffer-&gt;pybuffer.buf = NULL;\n",
       "      <span class='error_goto'>__PYX_ERR(0, 12, __pyx_L1_error)</span>\n",
       "    } else {__pyx_pybuffernd_decoded.diminfo[0].strides = __pyx_pybuffernd_decoded.rcbuffer-&gt;pybuffer.strides[0]; __pyx_pybuffernd_decoded.diminfo[0].shape = __pyx_pybuffernd_decoded.rcbuffer-&gt;pybuffer.shape[0]; __pyx_pybuffernd_decoded.diminfo[1].strides = __pyx_pybuffernd_decoded.rcbuffer-&gt;pybuffer.strides[1]; __pyx_pybuffernd_decoded.diminfo[1].shape = __pyx_pybuffernd_decoded.rcbuffer-&gt;pybuffer.shape[1];\n",
       "    }\n",
       "  }\n",
       "  __pyx_t_9 = 0;\n",
       "  __pyx_v_decoded = ((PyArrayObject *)__pyx_t_1);\n",
       "  __pyx_t_1 = 0;\n",
       "</pre><pre class=\"cython line score-0\">&#xA0;<span class=\"\">13</span>:     <span class=\"k\">cdef</span> <span class=\"kt\">const</span> <span class=\"kt\">unsigned</span> <span class=\"kt\">char</span>[<span class=\"p\">:]</span> <span class=\"n\">src</span></pre>\n",
       "<pre class=\"cython line score-0\" onclick=\"(function(s){s.display=s.display==='block'?'none':'block'})(this.nextElementSibling.style)\">+<span class=\"\">14</span>:     <span class=\"k\">cdef</span> <span class=\"kt\">int</span> <span class=\"nf\">RUN</span> <span class=\"o\">=</span> <span class=\"mf\">255</span></pre>\n",
       "<pre class='cython code score-0 '>  __pyx_v_RUN = 0xFF;\n",
       "</pre><pre class=\"cython line score-0\" onclick=\"(function(s){s.display=s.display==='block'?'none':'block'})(this.nextElementSibling.style)\">+<span class=\"\">15</span>:     <span class=\"k\">cdef</span> <span class=\"kt\">int</span> <span class=\"nf\">ESC</span> <span class=\"o\">=</span> <span class=\"mf\">254</span></pre>\n",
       "<pre class='cython code score-0 '>  __pyx_v_ESC = 0xFE;\n",
       "</pre><pre class=\"cython line score-0\">&#xA0;<span class=\"\">16</span>:     <span class=\"k\">cdef</span> <span class=\"kt\">int</span> <span class=\"nf\">NRSC</span></pre>\n",
       "<pre class=\"cython line score-0\">&#xA0;<span class=\"\">17</span>:     <span class=\"k\">cdef</span> <span class=\"kt\">int</span> <span class=\"nf\">i</span></pre>\n",
       "<pre class=\"cython line score-0\">&#xA0;<span class=\"\">18</span>:     <span class=\"k\">cdef</span> <span class=\"kt\">int</span> <span class=\"nf\">j</span></pre>\n",
       "<pre class=\"cython line score-0\">&#xA0;<span class=\"\">19</span>:     <span class=\"k\">cdef</span> <span class=\"kt\">int</span> <span class=\"nf\">ib</span></pre>\n",
       "<pre class=\"cython line score-0\">&#xA0;<span class=\"\">20</span>:     <span class=\"k\">cdef</span> <span class=\"kt\">int</span> <span class=\"nf\">nrun</span></pre>\n",
       "<pre class=\"cython line score-0\">&#xA0;<span class=\"\">21</span>:     <span class=\"k\">cdef</span> <span class=\"kt\">Py_ssize_t</span> <span class=\"nf\">row</span></pre>\n",
       "<pre class=\"cython line score-0\" onclick=\"(function(s){s.display=s.display==='block'?'none':'block'})(this.nextElementSibling.style)\">+<span class=\"\">22</span>:     <span class=\"k\">for</span> <span class=\"n\">row</span> <span class=\"ow\">in</span> <span class=\"nb\">range</span><span class=\"p\">(</span><span class=\"n\">rows</span><span class=\"p\">):</span></pre>\n",
       "<pre class='cython code score-0 '>  __pyx_t_7 = __pyx_v_rows;\n",
       "  __pyx_t_10 = __pyx_t_7;\n",
       "  for (__pyx_t_11 = 0; __pyx_t_11 &lt; __pyx_t_10; __pyx_t_11+=1) {\n",
       "    __pyx_v_row = __pyx_t_11;\n",
       "</pre><pre class=\"cython line score-8\" onclick=\"(function(s){s.display=s.display==='block'?'none':'block'})(this.nextElementSibling.style)\">+<span class=\"\">23</span>:         <span class=\"n\">src</span> <span class=\"o\">=</span> <span class=\"n\">data</span><span class=\"p\">[</span><span class=\"n\">row</span><span class=\"p\">]</span></pre>\n",
       "<pre class='cython code score-8 '>    if (unlikely(__pyx_v_data == Py_None)) {\n",
       "      <span class='py_c_api'>PyErr_SetString</span>(PyExc_TypeError, \"'NoneType' object is not subscriptable\");\n",
       "      <span class='error_goto'>__PYX_ERR(0, 23, __pyx_L1_error)</span>\n",
       "    }\n",
       "    __pyx_t_12 = <span class='pyx_c_api'>__Pyx_PyObject_to_MemoryviewSlice_ds_unsigned_char__const__</span>(<span class='py_macro_api'>PyList_GET_ITEM</span>(__pyx_v_data, __pyx_v_row), 0);<span class='error_goto'> if (unlikely(!__pyx_t_12.memview)) __PYX_ERR(0, 23, __pyx_L1_error)</span>\n",
       "    __PYX_XDEC_MEMVIEW(&amp;__pyx_v_src, 1);\n",
       "    __pyx_v_src = __pyx_t_12;\n",
       "    __pyx_t_12.memview = NULL;\n",
       "    __pyx_t_12.data = NULL;\n",
       "</pre><pre class=\"cython line score-2\" onclick=\"(function(s){s.display=s.display==='block'?'none':'block'})(this.nextElementSibling.style)\">+<span class=\"\">24</span>:         <span class=\"n\">nsrc</span> <span class=\"o\">=</span> <span class=\"nb\">len</span><span class=\"p\">(</span><span class=\"n\">src</span><span class=\"p\">)</span></pre>\n",
       "<pre class='cython code score-2 '>    __pyx_t_13 = <span class='pyx_c_api'>__Pyx_MemoryView_Len</span>(__pyx_v_src); \n",
       "    __pyx_v_nsrc = __pyx_t_13;\n",
       "</pre><pre class=\"cython line score-0\" onclick=\"(function(s){s.display=s.display==='block'?'none':'block'})(this.nextElementSibling.style)\">+<span class=\"\">25</span>:         <span class=\"n\">i</span> <span class=\"o\">=</span> <span class=\"mf\">0</span></pre>\n",
       "<pre class='cython code score-0 '>    __pyx_v_i = 0;\n",
       "</pre><pre class=\"cython line score-0\" onclick=\"(function(s){s.display=s.display==='block'?'none':'block'})(this.nextElementSibling.style)\">+<span class=\"\">26</span>:         <span class=\"n\">j</span> <span class=\"o\">=</span> <span class=\"mf\">0</span></pre>\n",
       "<pre class='cython code score-0 '>    __pyx_v_j = 0;\n",
       "</pre><pre class=\"cython line score-0\" onclick=\"(function(s){s.display=s.display==='block'?'none':'block'})(this.nextElementSibling.style)\">+<span class=\"\">27</span>:         <span class=\"k\">while</span> <span class=\"n\">i</span> <span class=\"o\">&lt;</span> <span class=\"n\">nsrc</span><span class=\"p\">:</span></pre>\n",
       "<pre class='cython code score-0 '>    while (1) {\n",
       "      __pyx_t_14 = ((__pyx_v_i &lt; __pyx_v_nsrc) != 0);\n",
       "      if (!__pyx_t_14) break;\n",
       "</pre><pre class=\"cython line score-0\" onclick=\"(function(s){s.display=s.display==='block'?'none':'block'})(this.nextElementSibling.style)\">+<span class=\"\">28</span>:             <span class=\"n\">ib</span> <span class=\"o\">=</span> <span class=\"n\">src</span><span class=\"p\">[</span><span class=\"n\">i</span><span class=\"p\">]</span></pre>\n",
       "<pre class='cython code score-0 '>      __pyx_t_15 = __pyx_v_i;\n",
       "      __pyx_v_ib = (*((unsigned char const  *) ( /* dim=0 */ (__pyx_v_src.data + __pyx_t_15 * __pyx_v_src.strides[0]) )));\n",
       "</pre><pre class=\"cython line score-0\" onclick=\"(function(s){s.display=s.display==='block'?'none':'block'})(this.nextElementSibling.style)\">+<span class=\"\">29</span>:             <span class=\"n\">i</span><span class=\"o\">+=</span><span class=\"mf\">1</span></pre>\n",
       "<pre class='cython code score-0 '>      __pyx_v_i = (__pyx_v_i + 1);\n",
       "</pre><pre class=\"cython line score-0\" onclick=\"(function(s){s.display=s.display==='block'?'none':'block'})(this.nextElementSibling.style)\">+<span class=\"\">30</span>:             <span class=\"k\">if</span> <span class=\"n\">ib</span> <span class=\"o\">==</span> <span class=\"n\">RUN</span><span class=\"p\">:</span></pre>\n",
       "<pre class='cython code score-0 '>      __pyx_t_14 = ((__pyx_v_ib == __pyx_v_RUN) != 0);\n",
       "      if (__pyx_t_14) {\n",
       "/* … */\n",
       "        goto __pyx_L7;\n",
       "      }\n",
       "</pre><pre class=\"cython line score-0\" onclick=\"(function(s){s.display=s.display==='block'?'none':'block'})(this.nextElementSibling.style)\">+<span class=\"\">31</span>:                 <span class=\"n\">nrun</span> <span class=\"o\">=</span> <span class=\"n\">src</span><span class=\"p\">[</span><span class=\"n\">i</span><span class=\"p\">]</span></pre>\n",
       "<pre class='cython code score-0 '>        __pyx_t_15 = __pyx_v_i;\n",
       "        __pyx_v_nrun = (*((unsigned char const  *) ( /* dim=0 */ (__pyx_v_src.data + __pyx_t_15 * __pyx_v_src.strides[0]) )));\n",
       "</pre><pre class=\"cython line score-0\" onclick=\"(function(s){s.display=s.display==='block'?'none':'block'})(this.nextElementSibling.style)\">+<span class=\"\">32</span>:                 <span class=\"n\">i</span><span class=\"o\">+=</span><span class=\"mf\">1</span></pre>\n",
       "<pre class='cython code score-0 '>        __pyx_v_i = (__pyx_v_i + 1);\n",
       "</pre><pre class=\"cython line score-0\" onclick=\"(function(s){s.display=s.display==='block'?'none':'block'})(this.nextElementSibling.style)\">+<span class=\"\">33</span>:                 <span class=\"n\">j</span><span class=\"o\">+=</span><span class=\"n\">nrun</span></pre>\n",
       "<pre class='cython code score-0 '>        __pyx_v_j = (__pyx_v_j + __pyx_v_nrun);\n",
       "</pre><pre class=\"cython line score-0\" onclick=\"(function(s){s.display=s.display==='block'?'none':'block'})(this.nextElementSibling.style)\">+<span class=\"\">34</span>:             <span class=\"k\">elif</span> <span class=\"n\">ib</span> <span class=\"o\">==</span> <span class=\"n\">ESC</span><span class=\"p\">:</span></pre>\n",
       "<pre class='cython code score-0 '>      __pyx_t_14 = ((__pyx_v_ib == __pyx_v_ESC) != 0);\n",
       "      if (__pyx_t_14) {\n",
       "/* … */\n",
       "        goto __pyx_L7;\n",
       "      }\n",
       "</pre><pre class=\"cython line score-0\">&#xA0;<span class=\"\">35</span>:                 <span class=\"c\"># next value is literal</span></pre>\n",
       "<pre class=\"cython line score-0\" onclick=\"(function(s){s.display=s.display==='block'?'none':'block'})(this.nextElementSibling.style)\">+<span class=\"\">36</span>:                 <span class=\"n\">decoded</span><span class=\"p\">[</span><span class=\"n\">row</span><span class=\"p\">,</span> <span class=\"n\">j</span><span class=\"p\">]</span> <span class=\"o\">=</span> <span class=\"n\">MIN</span> <span class=\"o\">+</span> <span class=\"n\">src</span><span class=\"p\">[</span><span class=\"n\">i</span><span class=\"p\">]</span><span class=\"o\">/</span><span class=\"mf\">2.</span></pre>\n",
       "<pre class='cython code score-0 '>        __pyx_t_15 = __pyx_v_i;\n",
       "        __pyx_t_16 = __pyx_v_row;\n",
       "        __pyx_t_17 = __pyx_v_j;\n",
       "        *__Pyx_BufPtrStrided2d(__pyx_t_46_cython_magic_7c97e044c48d605fcd9a1017abcf6a05_DTYPE_t *, __pyx_pybuffernd_decoded.rcbuffer-&gt;pybuffer.buf, __pyx_t_16, __pyx_pybuffernd_decoded.diminfo[0].strides, __pyx_t_17, __pyx_pybuffernd_decoded.diminfo[1].strides) = (__pyx_v_MIN + (((double)(*((unsigned char const  *) ( /* dim=0 */ (__pyx_v_src.data + __pyx_t_15 * __pyx_v_src.strides[0]) )))) / 2.));\n",
       "</pre><pre class=\"cython line score-0\" onclick=\"(function(s){s.display=s.display==='block'?'none':'block'})(this.nextElementSibling.style)\">+<span class=\"\">37</span>:                 <span class=\"n\">i</span><span class=\"o\">+=</span><span class=\"mf\">1</span> <span class=\"p\">;</span> <span class=\"n\">j</span><span class=\"o\">+=</span><span class=\"mf\">1</span></pre>\n",
       "<pre class='cython code score-0 '>        __pyx_v_i = (__pyx_v_i + 1);\n",
       "        __pyx_v_j = (__pyx_v_j + 1);\n",
       "</pre><pre class=\"cython line score-0\">&#xA0;<span class=\"\">38</span>:             <span class=\"k\">else</span><span class=\"p\">:</span></pre>\n",
       "<pre class=\"cython line score-0\">&#xA0;<span class=\"\">39</span>:                 <span class=\"c\"># value</span></pre>\n",
       "<pre class=\"cython line score-0\" onclick=\"(function(s){s.display=s.display==='block'?'none':'block'})(this.nextElementSibling.style)\">+<span class=\"\">40</span>:                 <span class=\"n\">decoded</span><span class=\"p\">[</span><span class=\"n\">row</span><span class=\"p\">,</span> <span class=\"n\">j</span><span class=\"p\">]</span> <span class=\"o\">=</span> <span class=\"n\">MIN</span> <span class=\"o\">+</span> <span class=\"n\">ib</span><span class=\"o\">/</span><span class=\"mf\">2.</span></pre>\n",
       "<pre class='cython code score-0 '>      /*else*/ {\n",
       "        __pyx_t_15 = __pyx_v_row;\n",
       "        __pyx_t_17 = __pyx_v_j;\n",
       "        *__Pyx_BufPtrStrided2d(__pyx_t_46_cython_magic_7c97e044c48d605fcd9a1017abcf6a05_DTYPE_t *, __pyx_pybuffernd_decoded.rcbuffer-&gt;pybuffer.buf, __pyx_t_15, __pyx_pybuffernd_decoded.diminfo[0].strides, __pyx_t_17, __pyx_pybuffernd_decoded.diminfo[1].strides) = (__pyx_v_MIN + (((double)__pyx_v_ib) / 2.));\n",
       "</pre><pre class=\"cython line score-0\" onclick=\"(function(s){s.display=s.display==='block'?'none':'block'})(this.nextElementSibling.style)\">+<span class=\"\">41</span>:                 <span class=\"n\">j</span><span class=\"o\">+=</span><span class=\"mf\">1</span></pre>\n",
       "<pre class='cython code score-0 '>        __pyx_v_j = (__pyx_v_j + 1);\n",
       "      }\n",
       "      __pyx_L7:;\n",
       "    }\n",
       "  }\n",
       "</pre><pre class=\"cython line score-2\" onclick=\"(function(s){s.display=s.display==='block'?'none':'block'})(this.nextElementSibling.style)\">+<span class=\"\">42</span>:     <span class=\"k\">return</span> <span class=\"n\">decoded</span></pre>\n",
       "<pre class='cython code score-2 '>  <span class='pyx_macro_api'>__Pyx_XDECREF</span>(((PyObject *)__pyx_r));\n",
       "  <span class='pyx_macro_api'>__Pyx_INCREF</span>(((PyObject *)__pyx_v_decoded));\n",
       "  __pyx_r = ((PyArrayObject *)__pyx_v_decoded);\n",
       "  goto __pyx_L0;\n",
       "</pre></div></body></html>"
      ],
      "text/plain": [
       "<IPython.core.display.HTML object>"
      ]
     },
     "execution_count": null,
     "metadata": {},
     "output_type": "execute_result"
    }
   ],
   "source": [
    "%%cython --annotate\n",
    "\n",
    "cimport cython\n",
    "\n",
    "import numpy as np\n",
    "cimport numpy as np\n",
    "\n",
    "ctypedef np.float32_t DTYPE_t\n",
    "\n",
    "@cython.boundscheck(False)\n",
    "@cython.wraparound(False)\n",
    "cpdef np.ndarray[DTYPE_t, ndim=2] cy_decode_blocks(list data, int rows, int cols, int thresh, float MIN):\n",
    "    cdef np.ndarray[DTYPE_t, ndim=2] decoded = np.full((rows, cols), thresh, np.float32)\n",
    "    cdef const unsigned char[:] src\n",
    "    cdef int RUN = 255\n",
    "    cdef int ESC = 254\n",
    "    cdef int NRSC\n",
    "    cdef int i\n",
    "    cdef int j\n",
    "    cdef int ib\n",
    "    cdef int nrun\n",
    "    cdef Py_ssize_t row   \n",
    "    for row in range(rows):\n",
    "        src = data[row]\n",
    "        nsrc = len(src)\n",
    "        i = 0\n",
    "        j = 0\n",
    "        while i < nsrc:\n",
    "            ib = src[i]\n",
    "            i+=1\n",
    "            if ib == RUN:\n",
    "                nrun = src[i] \n",
    "                i+=1\n",
    "                j+=nrun\n",
    "            elif ib == ESC:\n",
    "                # next value is literal\n",
    "                decoded[row, j] = MIN + src[i]/2.\n",
    "                i+=1 ; j+=1\n",
    "            else:\n",
    "                # value\n",
    "                decoded[row, j] = MIN + ib/2.\n",
    "                j+=1\n",
    "    return decoded"
   ]
  },
  {
   "cell_type": "code",
   "execution_count": null,
   "id": "1e5abfee",
   "metadata": {},
   "outputs": [],
   "source": [
    "offset = compressed_blocks[0].offset\n",
    "MIN = offset - 127.5\n",
    "cols = compressed_blocks[0].norig\n",
    "thresh = compressed_blocks[0].thresh\n",
    "rows = len(compressed_blocks)\n",
    "data_blocks = [b.data[b.start:b.stop] for b in compressed_blocks]"
   ]
  },
  {
   "cell_type": "code",
   "execution_count": null,
   "id": "596ad9b4",
   "metadata": {},
   "outputs": [],
   "source": [
    "del d ; gc.collect()"
   ]
  },
  {
   "cell_type": "code",
   "execution_count": null,
   "id": "730499bd",
   "metadata": {},
   "outputs": [
    {
     "name": "stdout",
     "output_type": "stream",
     "text": [
      "Wall time: 2.87 s\n"
     ]
    }
   ],
   "source": [
    "%%time\n",
    "d = cy_decode_blocks(data_blocks, rows, cols, thresh, MIN)"
   ]
  },
  {
   "cell_type": "code",
   "execution_count": null,
   "id": "8dc4c609",
   "metadata": {},
   "outputs": [],
   "source": []
  }
 ],
 "metadata": {
  "kernelspec": {
   "display_name": "Python [conda env:rfpy]",
   "language": "python",
   "name": "conda-env-rfpy-py"
  }
 },
 "nbformat": 4,
 "nbformat_minor": 5
}
