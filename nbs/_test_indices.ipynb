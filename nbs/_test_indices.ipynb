{
 "cells": [
  {
   "cell_type": "code",
   "execution_count": null,
   "id": "seventh-treasurer",
   "metadata": {},
   "outputs": [
    {
     "name": "stdout",
     "output_type": "stream",
     "text": [
      "The autoreload extension is already loaded. To reload it, use:\n",
      "  %reload_ext autoreload\n"
     ]
    }
   ],
   "source": [
    "#hide   \n",
    "import warnings\n",
    "with warnings.catch_warnings():\n",
    "    warnings.simplefilter(\"ignore\")\n",
    "from pprint import pprint as pp\n",
    "from datetime import datetime as dt\n",
    "from typing import *\n",
    "import rfpy\n",
    "from rfpy.constants import *\n",
    "from rfpy.parser import *\n",
    "from rfpy.utils import *\n",
    "from rfpy.blocks import *\n",
    "from rfpy.main import export_metadata\n",
    "from nbdev.showdoc import *\n",
    "from fastcore.xtras import Path\n",
    "from fastcore.foundation import L\n",
    "from fastcore.test import *\n",
    "import numpy as np\n",
    "import pandas as pd\n",
    "\n",
    "%load_ext autoreload\n",
    "%autoreload 2 "
   ]
  },
  {
   "cell_type": "code",
   "execution_count": null,
   "id": "bizarre-conducting",
   "metadata": {},
   "outputs": [],
   "source": [
    "entrada = Path(r'C:\\Users\\rsilva\\Downloads\\entrada')\n",
    "saida = Path(r'C:\\Users\\rsilva\\Downloads\\saida')\n",
    "csv1 = saida / 'pmec' / 'rfeye002304_SLMA_PEAK_200828_132002_Bloco_63_ThreadId_80_20200828-132101_20200831-031400.csv'\n",
    "csv2 = saida / '201201_T153421_OneThreadID_Bloco_63_ThreadId_110_20201201-153421_20201201-161353.csv'"
   ]
  },
  {
   "cell_type": "code",
   "execution_count": null,
   "id": "criminal-fetish",
   "metadata": {},
   "outputs": [
    {
     "data": {
      "text/plain": [
       "(#3) [Path('C:/Users/rsilva/Downloads/entrada/201201_T153421_OneThreadID.bin'),Path('C:/Users/rsilva/Downloads/entrada/201201_T154509_MultiplesThreadID.bin'),Path('C:/Users/rsilva/Downloads/entrada/pmec/rfeye002304_SLMA_PEAK_200828_132002.bin')]"
      ]
     },
     "execution_count": null,
     "metadata": {},
     "output_type": "execute_result"
    }
   ],
   "source": [
    "arquivos = get_files(entrada) ;  arquivos"
   ]
  },
  {
   "cell_type": "code",
   "execution_count": null,
   "id": "pending-belarus",
   "metadata": {},
   "outputs": [],
   "source": [
    "file1 = arquivos[-1]\n",
    "file2 = arquivos[0]\n",
    "file3 = arquivos[1]"
   ]
  },
  {
   "cell_type": "code",
   "execution_count": null,
   "id": "liked-irrigation",
   "metadata": {},
   "outputs": [
    {
     "name": "stdout",
     "output_type": "stream",
     "text": [
      "Wall time: 1.53 s\n"
     ]
    }
   ],
   "source": [
    "%%time\n",
    "one = parse_bin(file2)"
   ]
  },
  {
   "cell_type": "code",
   "execution_count": null,
   "id": "million-windsor",
   "metadata": {},
   "outputs": [
    {
     "data": {
      "text/plain": [
       "{'file_version': 22,\n",
       " 'string': 'CRFS DATA FILE V022',\n",
       " 'blocks': defaultdict(fastcore.foundation.L,\n",
       "             {(21,\n",
       "               0): (#1) [((36, 123), <rfpy.blocks.DType21 object at 0x000002B84A1DB408>)],\n",
       "              (41,\n",
       "               0): (#2) [((128, 203), <rfpy.blocks.DType41 object at 0x000002B84A1DB0C8>),((208, 335), <rfpy.blocks.DType41 object at 0x000002B84C413248>)],\n",
       "              (24,\n",
       "               5): (#1) [((340, 375), <rfpy.blocks.DType24 object at 0x000002B84139A808>)],\n",
       "              (24,\n",
       "               110): (#1) [((380, 427), <rfpy.blocks.DType24 object at 0x000002B82E9BE388>)],\n",
       "              (63,\n",
       "               110): (#46382) [((432, 2583), <rfpy.blocks.DType63 object at 0x000002B84A1D4E48>),((2588, 4739), <rfpy.blocks.DType63 object at 0x000002B84A1D4588>),((4744, 6895), <rfpy.blocks.DType63 object at 0x000002B84A1D4C08>),((6900, 9051), <rfpy.blocks.DType63 object at 0x000002B84A1D4548>),((9056, 11207), <rfpy.blocks.DType63 object at 0x000002B84A1D4988>),((11212, 13363), <rfpy.blocks.DType63 object at 0x000002B84A1D4148>),((13368, 15519), <rfpy.blocks.DType63 object at 0x000002B84A1D4B08>),((15524, 17675), <rfpy.blocks.DType63 object at 0x000002B84A1D49C8>),((17680, 19831), <rfpy.blocks.DType63 object at 0x000002B84A1D4C88>),((19836, 21987), <rfpy.blocks.DType63 object at 0x000002B84A1D4948>)...]})}"
      ]
     },
     "execution_count": null,
     "metadata": {},
     "output_type": "execute_result"
    }
   ],
   "source": [
    "one"
   ]
  },
  {
   "cell_type": "code",
   "execution_count": null,
   "id": "square-morning",
   "metadata": {},
   "outputs": [
    {
     "name": "stdout",
     "output_type": "stream",
     "text": [
      "Wall time: 58.2 s\n"
     ]
    }
   ],
   "source": [
    "%%time\n",
    "blocks = L(*[v for k,v in one['blocks'].items() if k[0] in SPECTRAL_BLOCKS])\n",
    "levels = extract_block_levels(blocks)"
   ]
  },
  {
   "cell_type": "code",
   "execution_count": null,
   "id": "departmental-mining",
   "metadata": {},
   "outputs": [],
   "source": [
    "b = blocks[0][1]"
   ]
  },
  {
   "cell_type": "code",
   "execution_count": null,
   "id": "helpful-health",
   "metadata": {},
   "outputs": [],
   "source": [
    "start = BYTES_63[21].stop + 8 + b.n_tunning * 4 + b.n_agc \n",
    "stop = start + b.ndata"
   ]
  },
  {
   "cell_type": "code",
   "execution_count": null,
   "id": "ongoing-macedonia",
   "metadata": {},
   "outputs": [
    {
     "data": {
      "text/plain": [
       "(95, 2143)"
      ]
     },
     "execution_count": null,
     "metadata": {},
     "output_type": "execute_result"
    }
   ],
   "source": [
    "start, stop"
   ]
  },
  {
   "cell_type": "code",
   "execution_count": null,
   "id": "reasonable-trade",
   "metadata": {},
   "outputs": [
    {
     "name": "stdout",
     "output_type": "stream",
     "text": [
      "Wall time: 202 ms\n"
     ]
    }
   ],
   "source": [
    "%%time\n",
    "df = pd.read_csv(csv2).set_index('wallclock_datetime')"
   ]
  },
  {
   "cell_type": "code",
   "execution_count": null,
   "id": "geological-launch",
   "metadata": {},
   "outputs": [
    {
     "ename": "ValueError",
     "evalue": "all the input array dimensions for the concatenation axis must match exactly, but along dimension 1, the array at index 0 has size 2048 and the array at index 9999 has size 0",
     "output_type": "error",
     "traceback": [
      "\u001b[1;31m---------------------------------------------------------------------------\u001b[0m",
      "\u001b[1;31mValueError\u001b[0m                                Traceback (most recent call last)",
      "\u001b[1;32m<ipython-input-46-f12f5d13424c>\u001b[0m in \u001b[0;36m<module>\u001b[1;34m\u001b[0m\n\u001b[0;32m      4\u001b[0m \u001b[0mone\u001b[0m \u001b[1;33m=\u001b[0m \u001b[0mparse_bin\u001b[0m\u001b[1;33m(\u001b[0m\u001b[0mfile2\u001b[0m\u001b[1;33m,\u001b[0m \u001b[0mslice_\u001b[0m\u001b[1;33m=\u001b[0m\u001b[0mslice\u001b[0m\u001b[1;33m(\u001b[0m\u001b[0mstart\u001b[0m\u001b[1;33m,\u001b[0m\u001b[0mstop\u001b[0m\u001b[1;33m)\u001b[0m\u001b[1;33m)\u001b[0m\u001b[1;33m\u001b[0m\u001b[1;33m\u001b[0m\u001b[0m\n\u001b[0;32m      5\u001b[0m \u001b[0mblocks\u001b[0m \u001b[1;33m=\u001b[0m \u001b[0mL\u001b[0m\u001b[1;33m(\u001b[0m\u001b[1;33m*\u001b[0m\u001b[1;33m[\u001b[0m\u001b[0mv\u001b[0m \u001b[1;32mfor\u001b[0m \u001b[0mk\u001b[0m\u001b[1;33m,\u001b[0m\u001b[0mv\u001b[0m \u001b[1;32min\u001b[0m \u001b[0mone\u001b[0m\u001b[1;33m[\u001b[0m\u001b[1;34m'blocks'\u001b[0m\u001b[1;33m]\u001b[0m\u001b[1;33m.\u001b[0m\u001b[0mitems\u001b[0m\u001b[1;33m(\u001b[0m\u001b[1;33m)\u001b[0m \u001b[1;32mif\u001b[0m \u001b[0mk\u001b[0m\u001b[1;33m[\u001b[0m\u001b[1;36m0\u001b[0m\u001b[1;33m]\u001b[0m \u001b[1;32min\u001b[0m \u001b[0mSPECTRAL_BLOCKS\u001b[0m\u001b[1;33m]\u001b[0m\u001b[1;33m)\u001b[0m\u001b[1;33m\u001b[0m\u001b[1;33m\u001b[0m\u001b[0m\n\u001b[1;32m----> 6\u001b[1;33m \u001b[0mlevels\u001b[0m \u001b[1;33m=\u001b[0m \u001b[0mextract_block_levels\u001b[0m\u001b[1;33m(\u001b[0m\u001b[0mblocks\u001b[0m\u001b[1;33m)\u001b[0m\u001b[1;33m\u001b[0m\u001b[1;33m\u001b[0m\u001b[0m\n\u001b[0m",
      "\u001b[1;32mc:\\users\\rsilva\\code\\rfpy\\rfpy\\parser.py\u001b[0m in \u001b[0;36mextract_block_levels\u001b[1;34m(spectrum_blocks, pivoted, dtypes)\u001b[0m\n\u001b[0;32m     91\u001b[0m     \u001b[1;32massert\u001b[0m \u001b[0mlen\u001b[0m\u001b[1;33m(\u001b[0m\u001b[0mspectrum_blocks\u001b[0m\u001b[1;33m)\u001b[0m\u001b[1;33m,\u001b[0m \u001b[1;34mf\"The spectrum block list is empty\"\u001b[0m\u001b[1;33m\u001b[0m\u001b[1;33m\u001b[0m\u001b[0m\n\u001b[0;32m     92\u001b[0m     \u001b[0mspectrum_blocks\u001b[0m \u001b[1;33m=\u001b[0m \u001b[0mspectrum_blocks\u001b[0m\u001b[1;33m.\u001b[0m\u001b[0mitemgot\u001b[0m\u001b[1;33m(\u001b[0m\u001b[1;36m1\u001b[0m\u001b[1;33m)\u001b[0m\u001b[1;33m\u001b[0m\u001b[1;33m\u001b[0m\u001b[0m\n\u001b[1;32m---> 93\u001b[1;33m     \u001b[0mlevels\u001b[0m \u001b[1;33m=\u001b[0m \u001b[0mnp\u001b[0m\u001b[1;33m.\u001b[0m\u001b[0mconcatenate\u001b[0m\u001b[1;33m(\u001b[0m\u001b[0mparallel\u001b[0m\u001b[1;33m(\u001b[0m\u001b[0m_extract_level\u001b[0m\u001b[1;33m,\u001b[0m \u001b[0mspectrum_blocks\u001b[0m\u001b[1;33m,\u001b[0m \u001b[0mn_workers\u001b[0m\u001b[1;33m=\u001b[0m\u001b[1;36m8\u001b[0m\u001b[1;33m,\u001b[0m \u001b[0mprogress\u001b[0m\u001b[1;33m=\u001b[0m\u001b[1;32mFalse\u001b[0m\u001b[1;33m)\u001b[0m\u001b[1;33m)\u001b[0m\u001b[1;33m\u001b[0m\u001b[1;33m\u001b[0m\u001b[0m\n\u001b[0m\u001b[0;32m     94\u001b[0m     \u001b[0mfrequencies\u001b[0m \u001b[1;33m=\u001b[0m \u001b[0mgetattr\u001b[0m\u001b[1;33m(\u001b[0m\u001b[0mspectrum_blocks\u001b[0m\u001b[1;33m[\u001b[0m\u001b[1;36m0\u001b[0m\u001b[1;33m]\u001b[0m\u001b[1;33m,\u001b[0m \u001b[1;34m'frequencies'\u001b[0m\u001b[1;33m)\u001b[0m\u001b[1;33m\u001b[0m\u001b[1;33m\u001b[0m\u001b[0m\n\u001b[0;32m     95\u001b[0m     \u001b[1;32mif\u001b[0m \u001b[1;32mnot\u001b[0m \u001b[0mpivoted\u001b[0m\u001b[1;33m:\u001b[0m\u001b[1;33m\u001b[0m\u001b[1;33m\u001b[0m\u001b[0m\n",
      "\u001b[1;32m<__array_function__ internals>\u001b[0m in \u001b[0;36mconcatenate\u001b[1;34m(*args, **kwargs)\u001b[0m\n",
      "\u001b[1;31mValueError\u001b[0m: all the input array dimensions for the concatenation axis must match exactly, but along dimension 1, the array at index 0 has size 2048 and the array at index 9999 has size 0"
     ]
    }
   ],
   "source": [
    "subset = df.iloc[0:10000]\n",
    "start = subset.start_byte[0]\n",
    "stop = subset.stop_byte[-1]\n",
    "one = parse_bin(file2, slice_=slice(start,stop))\n",
    "blocks = L(*[v for k,v in one['blocks'].items() if k[0] in SPECTRAL_BLOCKS])\n",
    "levels = extract_block_levels(blocks)"
   ]
  },
  {
   "cell_type": "code",
   "execution_count": null,
   "id": "settled-description",
   "metadata": {},
   "outputs": [
    {
     "data": {
      "text/html": [
       "<div>\n",
       "<style scoped>\n",
       "    .dataframe tbody tr th:only-of-type {\n",
       "        vertical-align: middle;\n",
       "    }\n",
       "\n",
       "    .dataframe tbody tr th {\n",
       "        vertical-align: top;\n",
       "    }\n",
       "\n",
       "    .dataframe thead th {\n",
       "        text-align: right;\n",
       "    }\n",
       "</style>\n",
       "<table border=\"1\" class=\"dataframe\">\n",
       "  <thead>\n",
       "    <tr style=\"text-align: right;\">\n",
       "      <th></th>\n",
       "      <th>start_byte</th>\n",
       "      <th>stop_byte</th>\n",
       "      <th>bw</th>\n",
       "      <th>data_size</th>\n",
       "      <th>gerror</th>\n",
       "      <th>gflags</th>\n",
       "      <th>group_id</th>\n",
       "      <th>id_antenna</th>\n",
       "      <th>level_offset</th>\n",
       "      <th>n_agc</th>\n",
       "      <th>...</th>\n",
       "      <th>start_mega</th>\n",
       "      <th>start_mili</th>\n",
       "      <th>step</th>\n",
       "      <th>stop_channel</th>\n",
       "      <th>stop_mega</th>\n",
       "      <th>stop_mili</th>\n",
       "      <th>thread_id</th>\n",
       "      <th>type</th>\n",
       "      <th>unit</th>\n",
       "      <th>file_version</th>\n",
       "    </tr>\n",
       "    <tr>\n",
       "      <th>wallclock_datetime</th>\n",
       "      <th></th>\n",
       "      <th></th>\n",
       "      <th></th>\n",
       "      <th></th>\n",
       "      <th></th>\n",
       "      <th></th>\n",
       "      <th></th>\n",
       "      <th></th>\n",
       "      <th></th>\n",
       "      <th></th>\n",
       "      <th></th>\n",
       "      <th></th>\n",
       "      <th></th>\n",
       "      <th></th>\n",
       "      <th></th>\n",
       "      <th></th>\n",
       "      <th></th>\n",
       "      <th></th>\n",
       "      <th></th>\n",
       "      <th></th>\n",
       "      <th></th>\n",
       "    </tr>\n",
       "  </thead>\n",
       "  <tbody>\n",
       "    <tr>\n",
       "      <th>2020-12-01 15:34:21.578869</th>\n",
       "      <td>432</td>\n",
       "      <td>2583</td>\n",
       "      <td>40</td>\n",
       "      <td>2136</td>\n",
       "      <td>-1</td>\n",
       "      <td>-1</td>\n",
       "      <td>0</td>\n",
       "      <td>0</td>\n",
       "      <td>-20</td>\n",
       "      <td>7</td>\n",
       "      <td>...</td>\n",
       "      <td>70</td>\n",
       "      <td>0</td>\n",
       "      <td>0.019541</td>\n",
       "      <td>0</td>\n",
       "      <td>110</td>\n",
       "      <td>0</td>\n",
       "      <td>110</td>\n",
       "      <td>63</td>\n",
       "      <td>%</td>\n",
       "      <td>22</td>\n",
       "    </tr>\n",
       "    <tr>\n",
       "      <th>2020-12-01 15:34:21.714679</th>\n",
       "      <td>2588</td>\n",
       "      <td>4739</td>\n",
       "      <td>40</td>\n",
       "      <td>2136</td>\n",
       "      <td>-1</td>\n",
       "      <td>-1</td>\n",
       "      <td>0</td>\n",
       "      <td>0</td>\n",
       "      <td>-20</td>\n",
       "      <td>7</td>\n",
       "      <td>...</td>\n",
       "      <td>70</td>\n",
       "      <td>0</td>\n",
       "      <td>0.019541</td>\n",
       "      <td>0</td>\n",
       "      <td>110</td>\n",
       "      <td>0</td>\n",
       "      <td>110</td>\n",
       "      <td>63</td>\n",
       "      <td>%</td>\n",
       "      <td>22</td>\n",
       "    </tr>\n",
       "    <tr>\n",
       "      <th>2020-12-01 15:34:21.920160</th>\n",
       "      <td>4744</td>\n",
       "      <td>6895</td>\n",
       "      <td>40</td>\n",
       "      <td>2136</td>\n",
       "      <td>-1</td>\n",
       "      <td>-1</td>\n",
       "      <td>0</td>\n",
       "      <td>0</td>\n",
       "      <td>-20</td>\n",
       "      <td>7</td>\n",
       "      <td>...</td>\n",
       "      <td>70</td>\n",
       "      <td>0</td>\n",
       "      <td>0.019541</td>\n",
       "      <td>0</td>\n",
       "      <td>110</td>\n",
       "      <td>0</td>\n",
       "      <td>110</td>\n",
       "      <td>63</td>\n",
       "      <td>%</td>\n",
       "      <td>22</td>\n",
       "    </tr>\n",
       "    <tr>\n",
       "      <th>2020-12-01 15:34:22.134015</th>\n",
       "      <td>6900</td>\n",
       "      <td>9051</td>\n",
       "      <td>40</td>\n",
       "      <td>2136</td>\n",
       "      <td>-1</td>\n",
       "      <td>-1</td>\n",
       "      <td>0</td>\n",
       "      <td>0</td>\n",
       "      <td>-20</td>\n",
       "      <td>7</td>\n",
       "      <td>...</td>\n",
       "      <td>70</td>\n",
       "      <td>0</td>\n",
       "      <td>0.019541</td>\n",
       "      <td>0</td>\n",
       "      <td>110</td>\n",
       "      <td>0</td>\n",
       "      <td>110</td>\n",
       "      <td>63</td>\n",
       "      <td>%</td>\n",
       "      <td>22</td>\n",
       "    </tr>\n",
       "    <tr>\n",
       "      <th>2020-12-01 15:34:22.346173</th>\n",
       "      <td>9056</td>\n",
       "      <td>11207</td>\n",
       "      <td>40</td>\n",
       "      <td>2136</td>\n",
       "      <td>-1</td>\n",
       "      <td>-1</td>\n",
       "      <td>0</td>\n",
       "      <td>0</td>\n",
       "      <td>-20</td>\n",
       "      <td>7</td>\n",
       "      <td>...</td>\n",
       "      <td>70</td>\n",
       "      <td>0</td>\n",
       "      <td>0.019541</td>\n",
       "      <td>0</td>\n",
       "      <td>110</td>\n",
       "      <td>0</td>\n",
       "      <td>110</td>\n",
       "      <td>63</td>\n",
       "      <td>%</td>\n",
       "      <td>22</td>\n",
       "    </tr>\n",
       "  </tbody>\n",
       "</table>\n",
       "<p>5 rows × 28 columns</p>\n",
       "</div>"
      ],
      "text/plain": [
       "                            start_byte  stop_byte  bw  data_size  gerror  \\\n",
       "wallclock_datetime                                                         \n",
       "2020-12-01 15:34:21.578869         432       2583  40       2136      -1   \n",
       "2020-12-01 15:34:21.714679        2588       4739  40       2136      -1   \n",
       "2020-12-01 15:34:21.920160        4744       6895  40       2136      -1   \n",
       "2020-12-01 15:34:22.134015        6900       9051  40       2136      -1   \n",
       "2020-12-01 15:34:22.346173        9056      11207  40       2136      -1   \n",
       "\n",
       "                            gflags  group_id  id_antenna  level_offset  n_agc  \\\n",
       "wallclock_datetime                                                              \n",
       "2020-12-01 15:34:21.578869      -1         0           0           -20      7   \n",
       "2020-12-01 15:34:21.714679      -1         0           0           -20      7   \n",
       "2020-12-01 15:34:21.920160      -1         0           0           -20      7   \n",
       "2020-12-01 15:34:22.134015      -1         0           0           -20      7   \n",
       "2020-12-01 15:34:22.346173      -1         0           0           -20      7   \n",
       "\n",
       "                            ...  start_mega  start_mili      step  \\\n",
       "wallclock_datetime          ...                                     \n",
       "2020-12-01 15:34:21.578869  ...          70           0  0.019541   \n",
       "2020-12-01 15:34:21.714679  ...          70           0  0.019541   \n",
       "2020-12-01 15:34:21.920160  ...          70           0  0.019541   \n",
       "2020-12-01 15:34:22.134015  ...          70           0  0.019541   \n",
       "2020-12-01 15:34:22.346173  ...          70           0  0.019541   \n",
       "\n",
       "                            stop_channel stop_mega  stop_mili  thread_id  \\\n",
       "wallclock_datetime                                                         \n",
       "2020-12-01 15:34:21.578869             0       110          0        110   \n",
       "2020-12-01 15:34:21.714679             0       110          0        110   \n",
       "2020-12-01 15:34:21.920160             0       110          0        110   \n",
       "2020-12-01 15:34:22.134015             0       110          0        110   \n",
       "2020-12-01 15:34:22.346173             0       110          0        110   \n",
       "\n",
       "                            type  unit  file_version  \n",
       "wallclock_datetime                                    \n",
       "2020-12-01 15:34:21.578869    63     %            22  \n",
       "2020-12-01 15:34:21.714679    63     %            22  \n",
       "2020-12-01 15:34:21.920160    63     %            22  \n",
       "2020-12-01 15:34:22.134015    63     %            22  \n",
       "2020-12-01 15:34:22.346173    63     %            22  \n",
       "\n",
       "[5 rows x 28 columns]"
      ]
     },
     "execution_count": null,
     "metadata": {},
     "output_type": "execute_result"
    }
   ],
   "source": [
    "df.head()"
   ]
  },
  {
   "cell_type": "code",
   "execution_count": null,
   "id": "incomplete-ridge",
   "metadata": {},
   "outputs": [],
   "source": []
  }
 ],
 "metadata": {
  "kernelspec": {
   "display_name": "Python [conda env:rfpy]",
   "language": "python",
   "name": "conda-env-rfpy-py"
  }
 },
 "nbformat": 4,
 "nbformat_minor": 5
}
