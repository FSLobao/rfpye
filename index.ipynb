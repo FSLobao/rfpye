{
 "cells": [
  {
   "cell_type": "code",
   "execution_count": null,
   "metadata": {},
   "outputs": [],
   "source": [
    "#hide\n",
    "%load_ext autoreload\n",
    "%autoreload 2    \n",
    "import warnings\n",
    "\n",
    "with warnings.catch_warnings():\n",
    "    warnings.simplefilter(\"ignore\")"
   ]
  },
  {
   "cell_type": "code",
   "execution_count": null,
   "metadata": {},
   "outputs": [],
   "source": [
    "#export\n",
    "import rfpy\n",
    "from pprint import pprint\n",
    "from rfpy.parser import get_files, export_bin_meta, export_bin_level, file2block, META\n",
    "from nbdev.showdoc import *\n",
    "from fastcore.test import *\n",
    "from fastcore.xtras import Path"
   ]
  },
  {
   "cell_type": "markdown",
   "metadata": {},
   "source": [
    "# RFPY - Extração otimizada dos dados de arquivos `.bin` provenientes do script Logger executados nas estações de Monitoramento CRFS RFeye Node.\n",
    "> Este módulo tem como objetivo o processamento e extração otimizada de dados dos arquivos `.bin` de monitoramento do espectro. Para talt utilizamos as várias funcionalidades da biblioteca [fastcore](https://fastcore.fast.ai/basics.html), que expande e otimiza as estruturas de dados da linguagem python. "
   ]
  },
  {
   "cell_type": "markdown",
   "metadata": {},
   "source": [
    "## Instalação\n",
    "`pip install rfpy`"
   ]
  },
  {
   "cell_type": "markdown",
   "metadata": {},
   "source": [
    "## Como utilizar\n",
    "Abaixo mostramos as funcionalidades principais dos módulos, utilizando-os dentro de algum outro script ou `REPL`"
   ]
  },
  {
   "cell_type": "markdown",
   "metadata": {},
   "source": [
    "Precisamos necessariamente de um diretório de entrada, contendo um ou mais arquivos `.bin` e um diretório de saída no qual iremos salvar os arquivos processados. \n",
    "> Note: Mude os caminhos abaixo para suas pastas locais caso for executar o exemplo.\n",
    "\n",
    "Ao utilizar o script `process_bin`, as pastas `entrada` e `saída` esses serão repassadas como parâmetros na linha de comando."
   ]
  },
  {
   "cell_type": "code",
   "execution_count": null,
   "metadata": {},
   "outputs": [],
   "source": [
    "VERBOSE = True\n",
    "entrada = Path(r'D:\\OneDrive - ANATEL\\Backup_Rfeye_SP\\RPO\\PMEC2020\\Ribeirao_Preto_SP\\SLMA')\n",
    "saida = Path(r'C:\\Users\\rsilva\\Downloads\\saida')"
   ]
  },
  {
   "cell_type": "markdown",
   "metadata": {},
   "source": [
    "## Leitura de Arquivos"
   ]
  },
  {
   "cell_type": "markdown",
   "metadata": {},
   "source": [
    "No módulo `parser.py`, há funções auxiliares para lidar com os arquivos `.bin`, pastas e para processar tais arquivos em formatos úteis. Nesse caso utilizaremos a função `get_files` que busca de maneira recursiva arquivos de dada extensão, inclusive links simbólicos se existirem\n",
    "O caráter recursivo e a busca em links, `recurse` e `followlinks` simbólicos pode ser desativados por meio dos parâmetros e opcionalmente pode ser varrido somente o conjunto de pastas indicado em `folders` "
   ]
  },
  {
   "cell_type": "code",
   "execution_count": null,
   "metadata": {},
   "outputs": [
    {
     "data": {
      "text/markdown": [
       "<h4 id=\"get_files\" class=\"doc_header\"><code>get_files</code><a href=\"https://github.com/ronaldokun/rfpy/tree/master/rfpy/parser.py#L64\" class=\"source_link\" style=\"float:right\">[source]</a></h4>\n",
       "\n",
       "> <code>get_files</code>(**`path`**, **`extensions`**=*`None`*, **`recurse`**=*`True`*, **`folders`**=*`None`*, **`followlinks`**=*`True`*)\n",
       "\n",
       "Get all the files in `path` with optional `extensions`, optionally with `recurse`, only in `folders`, if specified."
      ],
      "text/plain": [
       "<IPython.core.display.Markdown object>"
      ]
     },
     "metadata": {},
     "output_type": "display_data"
    }
   ],
   "source": [
    "show_doc(get_files)"
   ]
  },
  {
   "cell_type": "code",
   "execution_count": null,
   "metadata": {},
   "outputs": [
    {
     "data": {
      "text/plain": [
       "(#255) [Path('D:/OneDrive - ANATEL/Backup_Rfeye_SP/RPO/PMEC2020/Ribeirao_Preto_SP/SLMA/rfeye002304_SLMA_bimestral_occ15min_200317_232233.bin'),Path('D:/OneDrive - ANATEL/Backup_Rfeye_SP/RPO/PMEC2020/Ribeirao_Preto_SP/SLMA/rfeye002304_SLMA_bimestral_occ15min_200318_225525.bin'),Path('D:/OneDrive - ANATEL/Backup_Rfeye_SP/RPO/PMEC2020/Ribeirao_Preto_SP/SLMA/rfeye002304_SLMA_bimestral_occ15min_200318_225535.bin'),Path('D:/OneDrive - ANATEL/Backup_Rfeye_SP/RPO/PMEC2020/Ribeirao_Preto_SP/SLMA/rfeye002304_SLMA_bimestral_occ15min_200318_225556.bin'),Path('D:/OneDrive - ANATEL/Backup_Rfeye_SP/RPO/PMEC2020/Ribeirao_Preto_SP/SLMA/rfeye002304_SLMA_bimestral_occ15min_200318_225615.bin'),Path('D:/OneDrive - ANATEL/Backup_Rfeye_SP/RPO/PMEC2020/Ribeirao_Preto_SP/SLMA/rfeye002304_SLMA_bimestral_occ15min_200410_183001.bin'),Path('D:/OneDrive - ANATEL/Backup_Rfeye_SP/RPO/PMEC2020/Ribeirao_Preto_SP/SLMA/rfeye002304_SLMA_bimestral_occ15min_200423_162327.bin'),Path('D:/OneDrive - ANATEL/Backup_Rfeye_SP/RPO/PMEC2020/Ribeirao_Preto_SP/SLMA/rfeye002304_SLMA_bimestral_occ15min_200516_120002.bin'),Path('D:/OneDrive - ANATEL/Backup_Rfeye_SP/RPO/PMEC2020/Ribeirao_Preto_SP/SLMA/rfeye002304_SLMA_bimestral_occ15min_200520_054608.bin'),Path('D:/OneDrive - ANATEL/Backup_Rfeye_SP/RPO/PMEC2020/Ribeirao_Preto_SP/SLMA/rfeye002304_SLMA_bimestral_occ15min_200612_013001.bin')...]"
      ]
     },
     "execution_count": null,
     "metadata": {},
     "output_type": "execute_result"
    }
   ],
   "source": [
    "arquivos = get_files(entrada, extensions=['.bin']) ; arquivos"
   ]
  },
  {
   "cell_type": "markdown",
   "metadata": {},
   "source": [
    "> Important: O Objeto retornado `L` é uma extensão da lista python com funcionalidades adicionais, uma delas como  podemos ver é que a representação da lista impressa mostra o comprimento da lista. Esse objeto pode ser usado de maneira idêntica à uma lista em python e sem substituição desta."
   ]
  },
  {
   "cell_type": "markdown",
   "metadata": {},
   "source": [
    "Temos 255 arquivos bin na pasta entrada. Podemos filtrar por pasta também"
   ]
  },
  {
   "cell_type": "code",
   "execution_count": null,
   "metadata": {},
   "outputs": [
    {
     "data": {
      "text/plain": [
       "(#1) [Path('D:/OneDrive - ANATEL/Backup_Rfeye_SP/RPO/PMEC2020/Ribeirao_Preto_SP/SLMA/tmp/rfeye002304_SLMA_bimestral_PEAK_200829_234902.bin')]"
      ]
     },
     "execution_count": null,
     "metadata": {},
     "output_type": "execute_result"
    }
   ],
   "source": [
    "arquivos_bin = get_files(entrada, extensions=['.bin'], folders='tmp') ; arquivos_bin"
   ]
  },
  {
   "cell_type": "markdown",
   "metadata": {},
   "source": [
    "Nesse caso dentro da pasta 'tmp' há somente 1 arquivo `.bin`"
   ]
  },
  {
   "cell_type": "code",
   "execution_count": null,
   "metadata": {},
   "outputs": [
    {
     "data": {
      "text/plain": [
       "'rfeye002304_SLMA_bimestral_PEAK_200829_234902.bin'"
      ]
     },
     "execution_count": null,
     "metadata": {},
     "output_type": "execute_result"
    }
   ],
   "source": [
    "bin_file = arquivos_bin[0] ; bin_file.name"
   ]
  },
  {
   "cell_type": "markdown",
   "metadata": {},
   "source": [
    "## Processamento dos blocos\n",
    "A função seguinte `file2block` recebe um arquivo `.bin` e mapeia os blocos contidos nele retornando um dicionário que tem como chave o tipo de bloco e os valores como uma lista com os blocos extraídos sequencialmente."
   ]
  },
  {
   "cell_type": "code",
   "execution_count": null,
   "metadata": {},
   "outputs": [
    {
     "data": {
      "text/markdown": [
       "<h4 id=\"file2block\" class=\"doc_header\"><code>file2block</code><a href=\"https://github.com/ronaldokun/rfpy/tree/master/rfpy/parser.py#L113\" class=\"source_link\" style=\"float:right\">[source]</a></h4>\n",
       "\n",
       "> <code>file2block</code>(**`file`**:`Union`\\[`str`, `Path`\\])\n",
       "\n",
       "Receives a path to a bin file and returns a defaultdict with unique block types as keys and a list of the Class Blocks as values\n",
       ":param file: A string or pathlib.Path like path to a `.bin`file generated by CFRS - Logger\n",
       ":return: A Dictionary with block types as keys and a list of the Class Blocks available as values"
      ],
      "text/plain": [
       "<IPython.core.display.Markdown object>"
      ]
     },
     "metadata": {},
     "output_type": "display_data"
    }
   ],
   "source": [
    "show_doc(file2block)"
   ]
  },
  {
   "cell_type": "code",
   "execution_count": null,
   "metadata": {},
   "outputs": [],
   "source": [
    "block = file2block(bin_file)"
   ]
  },
  {
   "cell_type": "code",
   "execution_count": null,
   "metadata": {},
   "outputs": [
    {
     "data": {
      "text/plain": [
       "dict_keys([1413563424, 21, 41, 24, 40, 63])"
      ]
     },
     "execution_count": null,
     "metadata": {},
     "output_type": "execute_result"
    }
   ],
   "source": [
    "block.keys()"
   ]
  },
  {
   "cell_type": "markdown",
   "metadata": {},
   "source": [
    "Exceto o primeiro bloco, que é simplesmente ignorado, os demais blocos são conhecidos e tratados individualmente."
   ]
  },
  {
   "cell_type": "code",
   "execution_count": null,
   "metadata": {},
   "outputs": [
    {
     "data": {
      "text/plain": [
       "(#6605) [<rfpy.blocks.DType63 object at 0x000002B54F47F940>,<rfpy.blocks.DType63 object at 0x000002B54F47FAC0>,<rfpy.blocks.DType63 object at 0x000002B54F47FBE0>,<rfpy.blocks.DType63 object at 0x000002B54F47FD00>,<rfpy.blocks.DType63 object at 0x000002B54F47FE20>,<rfpy.blocks.DType63 object at 0x000002B54F47FF40>,<rfpy.blocks.DType63 object at 0x000002B5482300A0>,<rfpy.blocks.DType63 object at 0x000002B5482301C0>,<rfpy.blocks.DType63 object at 0x000002B5482302E0>,<rfpy.blocks.DType63 object at 0x000002B548230400>...]"
      ]
     },
     "execution_count": null,
     "metadata": {},
     "output_type": "execute_result"
    }
   ],
   "source": [
    "block[63]"
   ]
  },
  {
   "cell_type": "markdown",
   "metadata": {},
   "source": [
    "Temos nesse arquivo 6605 blocos do tipo 63 - Bloco contendo dados de espectro."
   ]
  },
  {
   "cell_type": "code",
   "execution_count": null,
   "metadata": {},
   "outputs": [],
   "source": [
    "bloco = block[63][0]"
   ]
  },
  {
   "cell_type": "code",
   "execution_count": null,
   "metadata": {},
   "outputs": [
    {
     "name": "stdout",
     "output_type": "stream",
     "text": [
      "['agc_array',\n",
      " 'banda_mega',\n",
      " 'banda_mili',\n",
      " 'block_data',\n",
      " 'bw',\n",
      " 'channel',\n",
      " 'count',\n",
      " 'data',\n",
      " 'data_points',\n",
      " 'date',\n",
      " 'datetime_stamp',\n",
      " 'default',\n",
      " 'frequencies',\n",
      " 'global_error_code',\n",
      " 'global_flags_code',\n",
      " 'group_id',\n",
      " 'id_antenna',\n",
      " 'index',\n",
      " 'len_agc',\n",
      " 'len_padding',\n",
      " 'len_tunning_info',\n",
      " 'level_offset',\n",
      " 'nanosecs',\n",
      " 'num_meas',\n",
      " 'passo',\n",
      " 'processing',\n",
      " 'rbw',\n",
      " 'size',\n",
      " 'spent_time_microsecs',\n",
      " 'start_mega',\n",
      " 'start_mili',\n",
      " 'stop_mega',\n",
      " 'stop_mili',\n",
      " 'thread_id',\n",
      " 'time',\n",
      " 'trailer',\n",
      " 'tunning_info_array',\n",
      " 'type',\n",
      " 'unit']\n"
     ]
    }
   ],
   "source": [
    "pprint([d for d in dir(bloco) if not d.startswith('_')])"
   ]
  },
  {
   "cell_type": "markdown",
   "metadata": {},
   "source": [
    "Esses são os atributos do Bloco de Espectro acima do tipo 63. Todos podem ser acessados por meio da notação `.`"
   ]
  },
  {
   "cell_type": "code",
   "execution_count": null,
   "metadata": {},
   "outputs": [
    {
     "data": {
      "text/plain": [
       "14848"
      ]
     },
     "execution_count": null,
     "metadata": {},
     "output_type": "execute_result"
    }
   ],
   "source": [
    "bloco.data_points"
   ]
  },
  {
   "cell_type": "code",
   "execution_count": null,
   "metadata": {},
   "outputs": [
    {
     "data": {
      "text/plain": [
       "108"
      ]
     },
     "execution_count": null,
     "metadata": {},
     "output_type": "execute_result"
    }
   ],
   "source": [
    "bloco.start_mega"
   ]
  },
  {
   "cell_type": "code",
   "execution_count": null,
   "metadata": {},
   "outputs": [
    {
     "data": {
      "text/plain": [
       "137"
      ]
     },
     "execution_count": null,
     "metadata": {},
     "output_type": "execute_result"
    }
   ],
   "source": [
    "bloco.stop_mega"
   ]
  },
  {
   "cell_type": "code",
   "execution_count": null,
   "metadata": {},
   "outputs": [
    {
     "data": {
      "text/plain": [
       "-20"
      ]
     },
     "execution_count": null,
     "metadata": {},
     "output_type": "execute_result"
    }
   ],
   "source": [
    "bloco.level_offset"
   ]
  },
  {
   "cell_type": "markdown",
   "metadata": {},
   "source": [
    "O bloco se comporta como um objeto python do tipo lista. "
   ]
  },
  {
   "cell_type": "code",
   "execution_count": null,
   "metadata": {},
   "outputs": [
    {
     "data": {
      "text/plain": [
       "((108.0, -75.0), (137.0, -96.5))"
      ]
     },
     "execution_count": null,
     "metadata": {},
     "output_type": "execute_result"
    }
   ],
   "source": [
    "bloco[0], bloco[-1]"
   ]
  },
  {
   "cell_type": "markdown",
   "metadata": {},
   "source": [
    "Podemos selecionar items da lista, é retornado uma tupla com a frequência em `MHz` e o nível medido em `dBm / dBuV/m` "
   ]
  },
  {
   "cell_type": "code",
   "execution_count": null,
   "metadata": {},
   "outputs": [
    {
     "name": "stdout",
     "output_type": "stream",
     "text": [
      "108.0 -75.0\n"
     ]
    }
   ],
   "source": [
    "for freq, nível in bloco:\n",
    "    print(freq, nível)\n",
    "    break"
   ]
  },
  {
   "cell_type": "markdown",
   "metadata": {},
   "source": [
    "Podemos iterar as medidas num loop"
   ]
  },
  {
   "cell_type": "code",
   "execution_count": null,
   "metadata": {},
   "outputs": [
    {
     "data": {
      "text/plain": [
       "14848"
      ]
     },
     "execution_count": null,
     "metadata": {},
     "output_type": "execute_result"
    }
   ],
   "source": [
    "len(bloco)"
   ]
  },
  {
   "cell_type": "markdown",
   "metadata": {},
   "source": [
    "Esse é o mesmo valor do atributo `data_points`"
   ]
  },
  {
   "cell_type": "markdown",
   "metadata": {},
   "source": [
    "A função seguinte extrai os metadados `META` definidos no cabeçalho do arquivo `parser.py` e retorna um DataFrame."
   ]
  },
  {
   "cell_type": "code",
   "execution_count": null,
   "metadata": {},
   "outputs": [
    {
     "data": {
      "text/markdown": [
       "<h4 id=\"export_bin_meta\" class=\"doc_header\"><code>export_bin_meta</code><a href=\"https://github.com/ronaldokun/rfpy/tree/master/rfpy/parser.py#L179\" class=\"source_link\" style=\"float:right\">[source]</a></h4>\n",
       "\n",
       "> <code>export_bin_meta</code>(**`map_block`**:`Mapping`\\[`int`, `L`\\])\n",
       "\n",
       "Receives a Mapping with the different `. bin` Blocks and extracts the metadata listed in [`META`](/rfpy/parser.html#META) in a dataframe format\n",
       "    "
      ],
      "text/plain": [
       "<IPython.core.display.Markdown object>"
      ]
     },
     "metadata": {},
     "output_type": "display_data"
    }
   ],
   "source": [
    "show_doc(export_bin_meta)"
   ]
  },
  {
   "cell_type": "code",
   "execution_count": null,
   "metadata": {},
   "outputs": [
    {
     "name": "stdout",
     "output_type": "stream",
     "text": [
      "Wall time: 585 ms\n"
     ]
    },
    {
     "data": {
      "text/html": [
       "<div>\n",
       "<style scoped>\n",
       "    .dataframe tbody tr th:only-of-type {\n",
       "        vertical-align: middle;\n",
       "    }\n",
       "\n",
       "    .dataframe tbody tr th {\n",
       "        vertical-align: top;\n",
       "    }\n",
       "\n",
       "    .dataframe thead th {\n",
       "        text-align: right;\n",
       "    }\n",
       "</style>\n",
       "<table border=\"1\" class=\"dataframe\">\n",
       "  <thead>\n",
       "    <tr style=\"text-align: right;\">\n",
       "      <th></th>\n",
       "      <th>Block_Number</th>\n",
       "      <th>Latitude</th>\n",
       "      <th>Longitude</th>\n",
       "      <th>Altitude</th>\n",
       "      <th>Initial_Time</th>\n",
       "      <th>Sample_Duration</th>\n",
       "      <th>Start_Frequency</th>\n",
       "      <th>Stop_Frequency</th>\n",
       "      <th>Vector_Length</th>\n",
       "      <th>Trace_Type</th>\n",
       "      <th>Antenna_Type</th>\n",
       "      <th>Equipement_ID</th>\n",
       "    </tr>\n",
       "  </thead>\n",
       "  <tbody>\n",
       "    <tr>\n",
       "      <th>6595</th>\n",
       "      <td>6595</td>\n",
       "      <td>-21.228973</td>\n",
       "      <td>-47.759907</td>\n",
       "      <td>623.5</td>\n",
       "      <td>2020-09-03 13:45:01.833424</td>\n",
       "      <td>60428</td>\n",
       "      <td>108</td>\n",
       "      <td>137</td>\n",
       "      <td>14848</td>\n",
       "      <td>peak</td>\n",
       "      <td>1</td>\n",
       "      <td>rfeye002304</td>\n",
       "    </tr>\n",
       "    <tr>\n",
       "      <th>6596</th>\n",
       "      <td>6596</td>\n",
       "      <td>-21.228973</td>\n",
       "      <td>-47.759933</td>\n",
       "      <td>621.5</td>\n",
       "      <td>2020-09-03 13:46:00.811335</td>\n",
       "      <td>60514</td>\n",
       "      <td>108</td>\n",
       "      <td>137</td>\n",
       "      <td>14848</td>\n",
       "      <td>peak</td>\n",
       "      <td>1</td>\n",
       "      <td>rfeye002304</td>\n",
       "    </tr>\n",
       "    <tr>\n",
       "      <th>6597</th>\n",
       "      <td>6597</td>\n",
       "      <td>-21.228977</td>\n",
       "      <td>-47.759914</td>\n",
       "      <td>623.0</td>\n",
       "      <td>2020-09-03 13:47:01.501244</td>\n",
       "      <td>60358</td>\n",
       "      <td>108</td>\n",
       "      <td>137</td>\n",
       "      <td>14848</td>\n",
       "      <td>peak</td>\n",
       "      <td>1</td>\n",
       "      <td>rfeye002304</td>\n",
       "    </tr>\n",
       "    <tr>\n",
       "      <th>6598</th>\n",
       "      <td>6598</td>\n",
       "      <td>-21.228973</td>\n",
       "      <td>-47.759907</td>\n",
       "      <td>625.0</td>\n",
       "      <td>2020-09-03 13:48:00.511332</td>\n",
       "      <td>60397</td>\n",
       "      <td>108</td>\n",
       "      <td>137</td>\n",
       "      <td>14848</td>\n",
       "      <td>peak</td>\n",
       "      <td>1</td>\n",
       "      <td>rfeye002304</td>\n",
       "    </tr>\n",
       "    <tr>\n",
       "      <th>6599</th>\n",
       "      <td>6599</td>\n",
       "      <td>-21.228964</td>\n",
       "      <td>-47.759922</td>\n",
       "      <td>620.0</td>\n",
       "      <td>2020-09-03 13:49:01.191148</td>\n",
       "      <td>60476</td>\n",
       "      <td>108</td>\n",
       "      <td>137</td>\n",
       "      <td>14848</td>\n",
       "      <td>peak</td>\n",
       "      <td>1</td>\n",
       "      <td>rfeye002304</td>\n",
       "    </tr>\n",
       "    <tr>\n",
       "      <th>6600</th>\n",
       "      <td>6600</td>\n",
       "      <td>-21.228956</td>\n",
       "      <td>-47.759922</td>\n",
       "      <td>620.5</td>\n",
       "      <td>2020-09-03 13:50:01.891165</td>\n",
       "      <td>60218</td>\n",
       "      <td>108</td>\n",
       "      <td>137</td>\n",
       "      <td>14848</td>\n",
       "      <td>peak</td>\n",
       "      <td>1</td>\n",
       "      <td>rfeye002304</td>\n",
       "    </tr>\n",
       "    <tr>\n",
       "      <th>6601</th>\n",
       "      <td>6601</td>\n",
       "      <td>-21.228941</td>\n",
       "      <td>-47.759911</td>\n",
       "      <td>621.0</td>\n",
       "      <td>2020-09-03 13:51:00.811174</td>\n",
       "      <td>60443</td>\n",
       "      <td>108</td>\n",
       "      <td>137</td>\n",
       "      <td>14848</td>\n",
       "      <td>peak</td>\n",
       "      <td>1</td>\n",
       "      <td>rfeye002304</td>\n",
       "    </tr>\n",
       "    <tr>\n",
       "      <th>6602</th>\n",
       "      <td>6602</td>\n",
       "      <td>-21.228968</td>\n",
       "      <td>-47.759907</td>\n",
       "      <td>619.0</td>\n",
       "      <td>2020-09-03 13:52:01.501244</td>\n",
       "      <td>60415</td>\n",
       "      <td>108</td>\n",
       "      <td>137</td>\n",
       "      <td>14848</td>\n",
       "      <td>peak</td>\n",
       "      <td>1</td>\n",
       "      <td>rfeye002304</td>\n",
       "    </tr>\n",
       "    <tr>\n",
       "      <th>6603</th>\n",
       "      <td>6603</td>\n",
       "      <td>-21.228954</td>\n",
       "      <td>-47.759907</td>\n",
       "      <td>620.5</td>\n",
       "      <td>2020-09-03 13:53:00.411253</td>\n",
       "      <td>60307</td>\n",
       "      <td>108</td>\n",
       "      <td>137</td>\n",
       "      <td>14848</td>\n",
       "      <td>peak</td>\n",
       "      <td>1</td>\n",
       "      <td>rfeye002304</td>\n",
       "    </tr>\n",
       "    <tr>\n",
       "      <th>6604</th>\n",
       "      <td>6604</td>\n",
       "      <td>-21.228962</td>\n",
       "      <td>-47.759907</td>\n",
       "      <td>618.0</td>\n",
       "      <td>2020-09-03 13:54:01.091231</td>\n",
       "      <td>60272</td>\n",
       "      <td>108</td>\n",
       "      <td>137</td>\n",
       "      <td>14848</td>\n",
       "      <td>peak</td>\n",
       "      <td>1</td>\n",
       "      <td>rfeye002304</td>\n",
       "    </tr>\n",
       "  </tbody>\n",
       "</table>\n",
       "</div>"
      ],
      "text/plain": [
       "      Block_Number   Latitude  Longitude  Altitude               Initial_Time  \\\n",
       "6595          6595 -21.228973 -47.759907     623.5 2020-09-03 13:45:01.833424   \n",
       "6596          6596 -21.228973 -47.759933     621.5 2020-09-03 13:46:00.811335   \n",
       "6597          6597 -21.228977 -47.759914     623.0 2020-09-03 13:47:01.501244   \n",
       "6598          6598 -21.228973 -47.759907     625.0 2020-09-03 13:48:00.511332   \n",
       "6599          6599 -21.228964 -47.759922     620.0 2020-09-03 13:49:01.191148   \n",
       "6600          6600 -21.228956 -47.759922     620.5 2020-09-03 13:50:01.891165   \n",
       "6601          6601 -21.228941 -47.759911     621.0 2020-09-03 13:51:00.811174   \n",
       "6602          6602 -21.228968 -47.759907     619.0 2020-09-03 13:52:01.501244   \n",
       "6603          6603 -21.228954 -47.759907     620.5 2020-09-03 13:53:00.411253   \n",
       "6604          6604 -21.228962 -47.759907     618.0 2020-09-03 13:54:01.091231   \n",
       "\n",
       "      Sample_Duration  Start_Frequency  Stop_Frequency  Vector_Length  \\\n",
       "6595            60428              108             137          14848   \n",
       "6596            60514              108             137          14848   \n",
       "6597            60358              108             137          14848   \n",
       "6598            60397              108             137          14848   \n",
       "6599            60476              108             137          14848   \n",
       "6600            60218              108             137          14848   \n",
       "6601            60443              108             137          14848   \n",
       "6602            60415              108             137          14848   \n",
       "6603            60307              108             137          14848   \n",
       "6604            60272              108             137          14848   \n",
       "\n",
       "     Trace_Type Antenna_Type Equipement_ID  \n",
       "6595       peak            1   rfeye002304  \n",
       "6596       peak            1   rfeye002304  \n",
       "6597       peak            1   rfeye002304  \n",
       "6598       peak            1   rfeye002304  \n",
       "6599       peak            1   rfeye002304  \n",
       "6600       peak            1   rfeye002304  \n",
       "6601       peak            1   rfeye002304  \n",
       "6602       peak            1   rfeye002304  \n",
       "6603       peak            1   rfeye002304  \n",
       "6604       peak            1   rfeye002304  "
      ]
     },
     "execution_count": null,
     "metadata": {},
     "output_type": "execute_result"
    }
   ],
   "source": [
    "%%time\n",
    "meta = export_bin_meta(block)\n",
    "meta.tail(10)"
   ]
  },
  {
   "cell_type": "code",
   "execution_count": null,
   "metadata": {},
   "outputs": [
    {
     "name": "stdout",
     "output_type": "stream",
     "text": [
      "<class 'pandas.core.frame.DataFrame'>\n",
      "RangeIndex: 6605 entries, 0 to 6604\n",
      "Data columns (total 12 columns):\n",
      " #   Column           Non-Null Count  Dtype         \n",
      "---  ------           --------------  -----         \n",
      " 0   Block_Number     6605 non-null   uint16        \n",
      " 1   Latitude         6605 non-null   float32       \n",
      " 2   Longitude        6605 non-null   float32       \n",
      " 3   Altitude         6605 non-null   float16       \n",
      " 4   Initial_Time     6605 non-null   datetime64[ns]\n",
      " 5   Sample_Duration  6605 non-null   uint16        \n",
      " 6   Start_Frequency  6605 non-null   uint32        \n",
      " 7   Stop_Frequency   6605 non-null   uint32        \n",
      " 8   Vector_Length    6605 non-null   uint16        \n",
      " 9   Trace_Type       6605 non-null   category      \n",
      " 10  Antenna_Type     6605 non-null   category      \n",
      " 11  Equipement_ID    6605 non-null   category      \n",
      "dtypes: category(3), datetime64[ns](1), float16(1), float32(2), uint16(3), uint32(2)\n",
      "memory usage: 226.1 KB\n"
     ]
    }
   ],
   "source": [
    "meta.info()"
   ]
  },
  {
   "cell_type": "markdown",
   "metadata": {},
   "source": [
    "Os metadados de um arquivo `.bin` de cerca de `100MB` ocupa somente `226KB`"
   ]
  },
  {
   "cell_type": "markdown",
   "metadata": {},
   "source": [
    "A função seguinte extrai as frequências e nível num formato de Tabela Dinâmica:\n",
    "* Colunas: Frequências (MHz)\n",
    "* Índice: Números de Bloco\n",
    "* Valores: Níveis (dBm ou dBuV/m)"
   ]
  },
  {
   "cell_type": "code",
   "execution_count": null,
   "metadata": {},
   "outputs": [
    {
     "data": {
      "text/markdown": [
       "<h4 id=\"export_bin_level\" class=\"doc_header\"><code>export_bin_level</code><a href=\"https://github.com/ronaldokun/rfpy/tree/master/rfpy/parser.py#L156\" class=\"source_link\" style=\"float:right\">[source]</a></h4>\n",
       "\n",
       "> <code>export_bin_level</code>(**`map_block`**:`Mapping`\\[`int`, `L`\\], **`pivoted`**:`bool`=*`True`*, **`freq_dtype`**:`str`=*`'float32'`*)\n",
       "\n",
       "Receives a mapping `map_block` and returns the Matrix with the Levels as values, Frequencies as columns and Block Number as index.\n",
       ":param pivoted: If False, optionally returns an unpivoted version of the Matrix"
      ],
      "text/plain": [
       "<IPython.core.display.Markdown object>"
      ]
     },
     "metadata": {},
     "output_type": "display_data"
    }
   ],
   "source": [
    "show_doc(export_bin_level)"
   ]
  },
  {
   "cell_type": "code",
   "execution_count": null,
   "metadata": {},
   "outputs": [
    {
     "name": "stdout",
     "output_type": "stream",
     "text": [
      "Wall time: 7.37 s\n"
     ]
    },
    {
     "data": {
      "text/html": [
       "<div>\n",
       "<style scoped>\n",
       "    .dataframe tbody tr th:only-of-type {\n",
       "        vertical-align: middle;\n",
       "    }\n",
       "\n",
       "    .dataframe tbody tr th {\n",
       "        vertical-align: top;\n",
       "    }\n",
       "\n",
       "    .dataframe thead th {\n",
       "        text-align: right;\n",
       "    }\n",
       "</style>\n",
       "<table border=\"1\" class=\"dataframe\">\n",
       "  <thead>\n",
       "    <tr style=\"text-align: right;\">\n",
       "      <th></th>\n",
       "      <th>108.000000</th>\n",
       "      <th>108.001953</th>\n",
       "      <th>108.003907</th>\n",
       "      <th>108.005860</th>\n",
       "      <th>108.007813</th>\n",
       "      <th>108.009766</th>\n",
       "      <th>108.011720</th>\n",
       "      <th>108.013673</th>\n",
       "      <th>108.015626</th>\n",
       "      <th>108.017579</th>\n",
       "      <th>...</th>\n",
       "      <th>136.982421</th>\n",
       "      <th>136.984374</th>\n",
       "      <th>136.986327</th>\n",
       "      <th>136.988280</th>\n",
       "      <th>136.990234</th>\n",
       "      <th>136.992187</th>\n",
       "      <th>136.994140</th>\n",
       "      <th>136.996093</th>\n",
       "      <th>136.998047</th>\n",
       "      <th>137.000000</th>\n",
       "    </tr>\n",
       "  </thead>\n",
       "  <tbody>\n",
       "    <tr>\n",
       "      <th>0</th>\n",
       "      <td>-75.0</td>\n",
       "      <td>-75.5</td>\n",
       "      <td>-76.5</td>\n",
       "      <td>-77.0</td>\n",
       "      <td>-77.5</td>\n",
       "      <td>-78.5</td>\n",
       "      <td>-79.0</td>\n",
       "      <td>-80.5</td>\n",
       "      <td>-80.5</td>\n",
       "      <td>-80.5</td>\n",
       "      <td>...</td>\n",
       "      <td>-95.0</td>\n",
       "      <td>-93.5</td>\n",
       "      <td>-95.0</td>\n",
       "      <td>-93.5</td>\n",
       "      <td>-91.5</td>\n",
       "      <td>-92.0</td>\n",
       "      <td>-98.0</td>\n",
       "      <td>-99.0</td>\n",
       "      <td>-97.5</td>\n",
       "      <td>-96.5</td>\n",
       "    </tr>\n",
       "    <tr>\n",
       "      <th>1</th>\n",
       "      <td>-66.0</td>\n",
       "      <td>-70.5</td>\n",
       "      <td>-74.0</td>\n",
       "      <td>-75.5</td>\n",
       "      <td>-75.5</td>\n",
       "      <td>-76.0</td>\n",
       "      <td>-77.0</td>\n",
       "      <td>-77.5</td>\n",
       "      <td>-75.0</td>\n",
       "      <td>-75.5</td>\n",
       "      <td>...</td>\n",
       "      <td>-93.5</td>\n",
       "      <td>-95.0</td>\n",
       "      <td>-94.0</td>\n",
       "      <td>-91.0</td>\n",
       "      <td>-92.0</td>\n",
       "      <td>-94.0</td>\n",
       "      <td>-96.0</td>\n",
       "      <td>-96.5</td>\n",
       "      <td>-96.5</td>\n",
       "      <td>-96.5</td>\n",
       "    </tr>\n",
       "    <tr>\n",
       "      <th>2</th>\n",
       "      <td>-83.5</td>\n",
       "      <td>-84.5</td>\n",
       "      <td>-89.5</td>\n",
       "      <td>-81.5</td>\n",
       "      <td>-84.5</td>\n",
       "      <td>-87.0</td>\n",
       "      <td>-85.5</td>\n",
       "      <td>-83.0</td>\n",
       "      <td>-84.5</td>\n",
       "      <td>-87.5</td>\n",
       "      <td>...</td>\n",
       "      <td>-93.5</td>\n",
       "      <td>-93.5</td>\n",
       "      <td>-92.5</td>\n",
       "      <td>-92.0</td>\n",
       "      <td>-92.5</td>\n",
       "      <td>-93.5</td>\n",
       "      <td>-97.5</td>\n",
       "      <td>-98.0</td>\n",
       "      <td>-98.5</td>\n",
       "      <td>-96.5</td>\n",
       "    </tr>\n",
       "    <tr>\n",
       "      <th>3</th>\n",
       "      <td>-87.5</td>\n",
       "      <td>-87.5</td>\n",
       "      <td>-91.5</td>\n",
       "      <td>-69.5</td>\n",
       "      <td>-85.5</td>\n",
       "      <td>-85.5</td>\n",
       "      <td>-89.0</td>\n",
       "      <td>-90.5</td>\n",
       "      <td>-88.5</td>\n",
       "      <td>-87.0</td>\n",
       "      <td>...</td>\n",
       "      <td>-93.5</td>\n",
       "      <td>-93.5</td>\n",
       "      <td>-94.0</td>\n",
       "      <td>-93.5</td>\n",
       "      <td>-93.0</td>\n",
       "      <td>-93.0</td>\n",
       "      <td>-98.5</td>\n",
       "      <td>-96.5</td>\n",
       "      <td>-94.5</td>\n",
       "      <td>-95.0</td>\n",
       "    </tr>\n",
       "    <tr>\n",
       "      <th>4</th>\n",
       "      <td>-80.5</td>\n",
       "      <td>-75.5</td>\n",
       "      <td>-72.5</td>\n",
       "      <td>-71.5</td>\n",
       "      <td>-73.0</td>\n",
       "      <td>-76.5</td>\n",
       "      <td>-73.0</td>\n",
       "      <td>-74.0</td>\n",
       "      <td>-79.5</td>\n",
       "      <td>-87.5</td>\n",
       "      <td>...</td>\n",
       "      <td>-95.0</td>\n",
       "      <td>-95.0</td>\n",
       "      <td>-94.0</td>\n",
       "      <td>-94.0</td>\n",
       "      <td>-93.5</td>\n",
       "      <td>-93.0</td>\n",
       "      <td>-96.5</td>\n",
       "      <td>-96.5</td>\n",
       "      <td>-95.5</td>\n",
       "      <td>-96.0</td>\n",
       "    </tr>\n",
       "  </tbody>\n",
       "</table>\n",
       "<p>5 rows × 14848 columns</p>\n",
       "</div>"
      ],
      "text/plain": [
       "   108.000000  108.001953  108.003907  108.005860  108.007813  108.009766  \\\n",
       "0       -75.0       -75.5       -76.5       -77.0       -77.5       -78.5   \n",
       "1       -66.0       -70.5       -74.0       -75.5       -75.5       -76.0   \n",
       "2       -83.5       -84.5       -89.5       -81.5       -84.5       -87.0   \n",
       "3       -87.5       -87.5       -91.5       -69.5       -85.5       -85.5   \n",
       "4       -80.5       -75.5       -72.5       -71.5       -73.0       -76.5   \n",
       "\n",
       "   108.011720  108.013673  108.015626  108.017579  ...  136.982421  \\\n",
       "0       -79.0       -80.5       -80.5       -80.5  ...       -95.0   \n",
       "1       -77.0       -77.5       -75.0       -75.5  ...       -93.5   \n",
       "2       -85.5       -83.0       -84.5       -87.5  ...       -93.5   \n",
       "3       -89.0       -90.5       -88.5       -87.0  ...       -93.5   \n",
       "4       -73.0       -74.0       -79.5       -87.5  ...       -95.0   \n",
       "\n",
       "   136.984374  136.986327  136.988280  136.990234  136.992187  136.994140  \\\n",
       "0       -93.5       -95.0       -93.5       -91.5       -92.0       -98.0   \n",
       "1       -95.0       -94.0       -91.0       -92.0       -94.0       -96.0   \n",
       "2       -93.5       -92.5       -92.0       -92.5       -93.5       -97.5   \n",
       "3       -93.5       -94.0       -93.5       -93.0       -93.0       -98.5   \n",
       "4       -95.0       -94.0       -94.0       -93.5       -93.0       -96.5   \n",
       "\n",
       "   136.996093  136.998047  137.000000  \n",
       "0       -99.0       -97.5       -96.5  \n",
       "1       -96.5       -96.5       -96.5  \n",
       "2       -98.0       -98.5       -96.5  \n",
       "3       -96.5       -94.5       -95.0  \n",
       "4       -96.5       -95.5       -96.0  \n",
       "\n",
       "[5 rows x 14848 columns]"
      ]
     },
     "execution_count": null,
     "metadata": {},
     "output_type": "execute_result"
    }
   ],
   "source": [
    "%%time\n",
    "levels = export_bin_level(block) ; levels.head()"
   ]
  },
  {
   "cell_type": "code",
   "execution_count": null,
   "metadata": {},
   "outputs": [
    {
     "name": "stdout",
     "output_type": "stream",
     "text": [
      "<class 'pandas.core.frame.DataFrame'>\n",
      "RangeIndex: 6605 entries, 0 to 6604\n",
      "Columns: 14848 entries, 108.0 to 137.0\n",
      "dtypes: float16(14848)\n",
      "memory usage: 187.1 MB\n"
     ]
    }
   ],
   "source": [
    "levels.info()"
   ]
  },
  {
   "cell_type": "markdown",
   "metadata": {},
   "source": [
    "Essa matriz com mais de 98 milhões de valores ocupa somente `187.1MB` de memória"
   ]
  },
  {
   "cell_type": "markdown",
   "metadata": {},
   "source": [
    "Caso o parâmetro `pivoted = False` é retornada a versão tabular empilhada. No entanto o processamento é muito mais lento tendo em vista a redundância de dados que é adicionada."
   ]
  },
  {
   "cell_type": "code",
   "execution_count": null,
   "metadata": {},
   "outputs": [
    {
     "name": "stdout",
     "output_type": "stream",
     "text": [
      "Wall time: 14.4 s\n"
     ]
    },
    {
     "data": {
      "text/html": [
       "<div>\n",
       "<style scoped>\n",
       "    .dataframe tbody tr th:only-of-type {\n",
       "        vertical-align: middle;\n",
       "    }\n",
       "\n",
       "    .dataframe tbody tr th {\n",
       "        vertical-align: top;\n",
       "    }\n",
       "\n",
       "    .dataframe thead th {\n",
       "        text-align: right;\n",
       "    }\n",
       "</style>\n",
       "<table border=\"1\" class=\"dataframe\">\n",
       "  <thead>\n",
       "    <tr style=\"text-align: right;\">\n",
       "      <th></th>\n",
       "      <th>Block_Number</th>\n",
       "      <th>Frequency(MHz)</th>\n",
       "      <th>Nivel(dBm)</th>\n",
       "    </tr>\n",
       "  </thead>\n",
       "  <tbody>\n",
       "    <tr>\n",
       "      <th>0</th>\n",
       "      <td>0.0</td>\n",
       "      <td>108.000000</td>\n",
       "      <td>-75.0</td>\n",
       "    </tr>\n",
       "    <tr>\n",
       "      <th>1</th>\n",
       "      <td>0.0</td>\n",
       "      <td>108.001953</td>\n",
       "      <td>-75.5</td>\n",
       "    </tr>\n",
       "    <tr>\n",
       "      <th>2</th>\n",
       "      <td>0.0</td>\n",
       "      <td>108.003907</td>\n",
       "      <td>-76.5</td>\n",
       "    </tr>\n",
       "    <tr>\n",
       "      <th>3</th>\n",
       "      <td>0.0</td>\n",
       "      <td>108.005860</td>\n",
       "      <td>-77.0</td>\n",
       "    </tr>\n",
       "    <tr>\n",
       "      <th>4</th>\n",
       "      <td>0.0</td>\n",
       "      <td>108.007813</td>\n",
       "      <td>-77.5</td>\n",
       "    </tr>\n",
       "  </tbody>\n",
       "</table>\n",
       "</div>"
      ],
      "text/plain": [
       "  Block_Number Frequency(MHz)  Nivel(dBm)\n",
       "0          0.0     108.000000       -75.0\n",
       "1          0.0     108.001953       -75.5\n",
       "2          0.0     108.003907       -76.5\n",
       "3          0.0     108.005860       -77.0\n",
       "4          0.0     108.007813       -77.5"
      ]
     },
     "execution_count": null,
     "metadata": {},
     "output_type": "execute_result"
    }
   ],
   "source": [
    "%%time\n",
    "levels = export_bin_level(block, pivoted=False) ; levels.head()"
   ]
  },
  {
   "cell_type": "code",
   "execution_count": null,
   "metadata": {},
   "outputs": [
    {
     "name": "stdout",
     "output_type": "stream",
     "text": [
      "<class 'pandas.core.frame.DataFrame'>\n",
      "RangeIndex: 98071040 entries, 0 to 98071039\n",
      "Data columns (total 3 columns):\n",
      " #   Column          Dtype   \n",
      "---  ------          -----   \n",
      " 0   Block_Number    category\n",
      " 1   Frequency(MHz)  category\n",
      " 2   Nivel(dBm)      float16 \n",
      "dtypes: category(2), float16(1)\n",
      "memory usage: 562.6 MB\n"
     ]
    }
   ],
   "source": [
    "levels.info()"
   ]
  },
  {
   "cell_type": "markdown",
   "metadata": {},
   "source": [
    "Como não vamos fazer cálculos com essa matriz, somente extração e armazenamento, podemos manipular e salvar os valores como o tipo `category` do pandas. que ocupa o mesmo que um `int16` nesse caso."
   ]
  },
  {
   "cell_type": "code",
   "execution_count": null,
   "metadata": {},
   "outputs": [
    {
     "data": {
      "text/html": [
       "<div>\n",
       "<style scoped>\n",
       "    .dataframe tbody tr th:only-of-type {\n",
       "        vertical-align: middle;\n",
       "    }\n",
       "\n",
       "    .dataframe tbody tr th {\n",
       "        vertical-align: top;\n",
       "    }\n",
       "\n",
       "    .dataframe thead th {\n",
       "        text-align: right;\n",
       "    }\n",
       "</style>\n",
       "<table border=\"1\" class=\"dataframe\">\n",
       "  <thead>\n",
       "    <tr style=\"text-align: right;\">\n",
       "      <th></th>\n",
       "      <th>Block_Number</th>\n",
       "      <th>Frequency(MHz)</th>\n",
       "      <th>Nivel(dBm)</th>\n",
       "    </tr>\n",
       "  </thead>\n",
       "  <tbody>\n",
       "    <tr>\n",
       "      <th>98071035</th>\n",
       "      <td>14847.0</td>\n",
       "      <td>136.992187</td>\n",
       "      <td>-94.0</td>\n",
       "    </tr>\n",
       "    <tr>\n",
       "      <th>98071036</th>\n",
       "      <td>14847.0</td>\n",
       "      <td>136.994140</td>\n",
       "      <td>-98.5</td>\n",
       "    </tr>\n",
       "    <tr>\n",
       "      <th>98071037</th>\n",
       "      <td>14847.0</td>\n",
       "      <td>136.996093</td>\n",
       "      <td>-98.5</td>\n",
       "    </tr>\n",
       "    <tr>\n",
       "      <th>98071038</th>\n",
       "      <td>14847.0</td>\n",
       "      <td>136.998047</td>\n",
       "      <td>-99.0</td>\n",
       "    </tr>\n",
       "    <tr>\n",
       "      <th>98071039</th>\n",
       "      <td>14847.0</td>\n",
       "      <td>137.000000</td>\n",
       "      <td>-98.5</td>\n",
       "    </tr>\n",
       "  </tbody>\n",
       "</table>\n",
       "</div>"
      ],
      "text/plain": [
       "         Block_Number Frequency(MHz)  Nivel(dBm)\n",
       "98071035      14847.0     136.992187       -94.0\n",
       "98071036      14847.0     136.994140       -98.5\n",
       "98071037      14847.0     136.996093       -98.5\n",
       "98071038      14847.0     136.998047       -99.0\n",
       "98071039      14847.0     137.000000       -98.5"
      ]
     },
     "execution_count": null,
     "metadata": {},
     "output_type": "execute_result"
    }
   ],
   "source": [
    "levels.tail()"
   ]
  },
  {
   "cell_type": "code",
   "execution_count": null,
   "metadata": {},
   "outputs": [
    {
     "name": "stdout",
     "output_type": "stream",
     "text": [
      "Wall time: 970 ms\n"
     ]
    }
   ],
   "source": [
    "%%time\n",
    "levels.to_feather(saida / 'file_b.fth')"
   ]
  },
  {
   "cell_type": "markdown",
   "metadata": {},
   "source": []
  }
 ],
 "metadata": {
  "kernelspec": {
   "display_name": "Python [conda env:rfpy]",
   "language": "python",
   "name": "conda-env-rfpy-py"
  }
 },
 "nbformat": 4,
 "nbformat_minor": 4
}
