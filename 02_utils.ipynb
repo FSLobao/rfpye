{
 "cells": [
  {
   "cell_type": "code",
   "execution_count": 16,
   "metadata": {},
   "outputs": [],
   "source": [
    "# default_exp utils"
   ]
  },
  {
   "cell_type": "code",
   "execution_count": 17,
   "metadata": {},
   "outputs": [],
   "source": [
    "#export\n",
    "from typing import Tuple, Any\n",
    "import numpy as np\n",
    "from fastcore.foundation import L"
   ]
  },
  {
   "cell_type": "code",
   "execution_count": 18,
   "metadata": {},
   "outputs": [],
   "source": [
    "#export\n",
    "def bin2dec(binary_data: bytes, is_signed: bool = True) -> int:\n",
    "    \"\"\"\n",
    "    bytes, bool > int\n",
    "    :param binary_data: valor de int comprimido\n",
    "    :param is_signed: indica se é um valor negativo ou não\n",
    "    :return: valor traduzido\n",
    "\n",
    "    Conversor binario para int.\n",
    "    \"\"\"\n",
    "    return int.from_bytes(binary_data, byteorder='little', signed=is_signed)\n",
    "\n",
    "\n",
    "def bin2str(binary_data: bytes) -> str:\n",
    "    \"\"\"\n",
    "    bytes > str\n",
    "    :param binary_data: valor de str comprimida\n",
    "    :return: str traduzida\n",
    "\n",
    "    Conversor binario para str.\n",
    "    Erros do 'decoder' são ignorados.\n",
    "    Ignora o final do dado binario ('\\x00') que é usado apenas para manter o tamanho dos campos.\n",
    "    \"\"\"\n",
    "    return binary_data.decode(errors=\"ignore\").rstrip('\\x00')\n",
    "    # return binary_data.decode().rstrip('\\x00')\n",
    "\n",
    "\n",
    "def bin2date(binary_data: bytes) -> Tuple[int, int, int, int]:\n",
    "    \"\"\"\n",
    "    bytes > (int, int, int, int)\n",
    "    :param binary_data: valor de data comprimido\n",
    "    :return: dia, mês, ano, reserva\n",
    "\n",
    "    Date is expressed as dd/mm/yy/null, i.e. 4 bytes\n",
    "    \"\"\"\n",
    "    day = binary_data[:1]\n",
    "    month = binary_data[1:2]\n",
    "    year = binary_data[2:3]\n",
    "    reserve = binary_data[3:]\n",
    "    return bin2dec(day), bin2dec(month), bin2dec(year), bin2dec(reserve)\n",
    "\n",
    "\n",
    "def bin2time(binary_data: bytes) -> Tuple[int, int, int, int]:\n",
    "    \"\"\"\n",
    "    bytes > (int, int, int, int)\n",
    "    :param binary_data: valor de hora comprimido\n",
    "    :return: horas, minutos, segundos, décimos de segundo\n",
    "\n",
    "     Time is expressed as hh/mm/ss/cc (4 bytes), where cc is centiseconds;\n",
    "     and a 32-bit nanoseconds field, expressed as an unsigned 32-bit integer,\n",
    "     to support higher precision where required.\n",
    "     At most one of cc and nanoseconds can be nonzero.\n",
    "    \"\"\"\n",
    "    hours = binary_data[:1]\n",
    "    minutes = binary_data[1:2]\n",
    "    seconds = binary_data[2:3]\n",
    "    centiseconds = binary_data[3:]\n",
    "    return bin2dec(hours), bin2dec(minutes), bin2dec(seconds), bin2dec(centiseconds)\n",
    "\n",
    "\n",
    "def decode_spectrum(b: int, offset: int) -> float:\n",
    "    \"\"\"\n",
    "    int, int > float\n",
    "    :param b: valor comprimido\n",
    "    :param offset: offset do valor comprimido\n",
    "    :return: valor traduzido\n",
    "\n",
    "    return  spectral power level in dBm,\n",
    "        truncated if necessary to range [offset – 127.5, offset]\n",
    "\n",
    "    b = stored byte values, in range [0, 255]\n",
    "    offset = level offset in dBm,\n",
    "        stored as a signed byte, range [-128, 127].\n",
    "        A typical offset level is -20 dBm.\n",
    "    \"\"\"\n",
    "    return b/2 + offset - 127.5\n",
    "\n",
    "\n",
    "def decode_spectrum_bytes(b: bytes, offset: bytes) -> float:\n",
    "    \"\"\"\n",
    "    byte, byte > float\n",
    "    :param b: valor comprimido\n",
    "    :param offset: offset do valor comprimido\n",
    "    :return: valor traduzido\n",
    "\n",
    "    return  spectral power level in dBm,\n",
    "        truncated if necessary to range [offset – 127.5, offset]\n",
    "\n",
    "    b = stored byte values, in range [0, 255]\n",
    "    offset = level offset in dBm,\n",
    "        stored as a signed byte, range [-128, 127].\n",
    "        A typical offset level is -20 dBm.\n",
    "    \"\"\"\n",
    "    b_int = bin2dec(b)\n",
    "    offset_int = bin2dec(offset, False)\n",
    "    return b_int/2 + offset_int - 127.5"
   ]
  },
  {
   "cell_type": "code",
   "execution_count": 20,
   "metadata": {},
   "outputs": [
    {
     "name": "stdout",
     "output_type": "stream",
     "text": [
      "Converted 00_main.ipynb.\n",
      "Converted 01_parser.ipynb.\n",
      "Converted 02_utils.ipynb.\n",
      "Converted 03_test_run.ipynb.\n",
      "Converted 04_blocks.ipynb.\n",
      "Converted index.ipynb.\n"
     ]
    }
   ],
   "source": [
    "from nbdev.export import notebook2script\n",
    "notebook2script()"
   ]
  }
 ],
 "metadata": {
  "kernelspec": {
   "display_name": "Python [conda env:bin]",
   "language": "python",
   "name": "conda-env-bin-py"
  },
  "language_info": {
   "codemirror_mode": {
    "name": "ipython",
    "version": 3
   },
   "file_extension": ".py",
   "mimetype": "text/x-python",
   "name": "python",
   "nbconvert_exporter": "python",
   "pygments_lexer": "ipython3",
   "version": "3.8.5"
  }
 },
 "nbformat": 4,
 "nbformat_minor": 4
}
