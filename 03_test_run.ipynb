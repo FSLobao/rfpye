{
 "cells": [
  {
   "cell_type": "code",
   "execution_count": 12,
   "metadata": {},
   "outputs": [],
   "source": [
    "#default_exp tests"
   ]
  },
  {
   "cell_type": "code",
   "execution_count": 13,
   "metadata": {},
   "outputs": [
    {
     "name": "stdout",
     "output_type": "stream",
     "text": [
      "The autoreload extension is already loaded. To reload it, use:\n",
      "  %reload_ext autoreload\n",
      "The line_profiler extension is already loaded. To reload it, use:\n",
      "  %reload_ext line_profiler\n"
     ]
    }
   ],
   "source": [
    "#hide\n",
    "%load_ext autoreload\n",
    "%autoreload 2    \n",
    "%load_ext line_profiler"
   ]
  },
  {
   "cell_type": "code",
   "execution_count": 14,
   "metadata": {},
   "outputs": [],
   "source": [
    "#export\n",
    "from pathlib import Path\n",
    "from datetime import timedelta, datetime\n",
    "from collections import defaultdict, namedtuple\n",
    "from typing import *\n",
    "import pandas as pd\n",
    "import numpy as np\n",
    "from tqdm.notebook import tqdm\n",
    "from rfpy.main import parse_input\n",
    "from rfpy.parser import get_files\n",
    "from rfpy.blocks import *\n",
    "from rfpy.utils import *\n",
    "from nbdev.showdoc import *\n",
    "from fastcore.xtras import parallel\n",
    "from fastcore.foundation import L\n",
    "from fastcore.test import *"
   ]
  },
  {
   "cell_type": "markdown",
   "metadata": {},
   "source": [
    "Com o objetivo de estudar o código fui reescrevendo-o. Tentar reescrever funções é um bom exercício para entender e internalizar a implementação utilizada. Assim foi possível identificar várias oportunidades para simplesmente refatorar e simplificar o código. \n",
    "\n",
    "Utilizarei várias funcionalidades da biblioteca [fastcore](https://fastcore.fast.ai/basics.html), esta  extende de maneira muito eficiente várias funcionalidades básicas do python e assim não precisamos _reiventar a roda_."
   ]
  },
  {
   "cell_type": "markdown",
   "metadata": {},
   "source": [
    "### `config.tradutor.yaml` \n",
    "\n",
    "Como só temos 2 parâmetros, `entrada` e `saída` escolhi não utilizar um arquivo de configuração por não achar ser necessário. Outro benefício dessa abordagem é utilizar as variáveis que antes estavam no arquivo de configuração como parâmetros de entrada numa linha de comando.\n",
    "\n",
    "Como não utilizei um arquivo de configuração não é necessário chamar a função `busca_arquivos` do arquivo `helper.py`"
   ]
  },
  {
   "cell_type": "code",
   "execution_count": 15,
   "metadata": {},
   "outputs": [],
   "source": [
    "VERBOSE = True\n",
    "entrada = Path(r'D:\\OneDrive - ANATEL\\Backup_Rfeye_SP\\RPO\\PMEC2020\\Ribeirao_Preto_SP\\SLMA')\n",
    "saida = Path(r'C:\\Users\\rsilva\\Downloads')"
   ]
  },
  {
   "cell_type": "code",
   "execution_count": 16,
   "metadata": {},
   "outputs": [
    {
     "data": {
      "text/markdown": [
       "<h4 id=\"get_files\" class=\"doc_header\"><code>get_files</code><a href=\"https://github.com/ronaldokun/rfpy/tree/master/rfpy/parser.py#L17\" class=\"source_link\" style=\"float:right\">[source]</a></h4>\n",
       "\n",
       "> <code>get_files</code>(**`path`**, **`extensions`**=*`None`*, **`recurse`**=*`True`*, **`folders`**=*`None`*, **`followlinks`**=*`True`*)\n",
       "\n",
       "Get all the files in `path` with optional `extensions`, optionally with `recurse`, only in `folders`, if specified."
      ],
      "text/plain": [
       "<IPython.core.display.Markdown object>"
      ]
     },
     "metadata": {},
     "output_type": "display_data"
    }
   ],
   "source": [
    "show_doc(get_files)"
   ]
  },
  {
   "cell_type": "code",
   "execution_count": 17,
   "metadata": {},
   "outputs": [
    {
     "data": {
      "text/plain": [
       "(#255) [Path('D:/OneDrive - ANATEL/Backup_Rfeye_SP/RPO/PMEC2020/Ribeirao_Preto_SP/SLMA/rfeye002304_SLMA_bimestral_occ15min_200317_232233.bin'),Path('D:/OneDrive - ANATEL/Backup_Rfeye_SP/RPO/PMEC2020/Ribeirao_Preto_SP/SLMA/rfeye002304_SLMA_bimestral_occ15min_200318_225525.bin'),Path('D:/OneDrive - ANATEL/Backup_Rfeye_SP/RPO/PMEC2020/Ribeirao_Preto_SP/SLMA/rfeye002304_SLMA_bimestral_occ15min_200318_225535.bin'),Path('D:/OneDrive - ANATEL/Backup_Rfeye_SP/RPO/PMEC2020/Ribeirao_Preto_SP/SLMA/rfeye002304_SLMA_bimestral_occ15min_200318_225556.bin'),Path('D:/OneDrive - ANATEL/Backup_Rfeye_SP/RPO/PMEC2020/Ribeirao_Preto_SP/SLMA/rfeye002304_SLMA_bimestral_occ15min_200318_225615.bin'),Path('D:/OneDrive - ANATEL/Backup_Rfeye_SP/RPO/PMEC2020/Ribeirao_Preto_SP/SLMA/rfeye002304_SLMA_bimestral_occ15min_200410_183001.bin'),Path('D:/OneDrive - ANATEL/Backup_Rfeye_SP/RPO/PMEC2020/Ribeirao_Preto_SP/SLMA/rfeye002304_SLMA_bimestral_occ15min_200423_162327.bin'),Path('D:/OneDrive - ANATEL/Backup_Rfeye_SP/RPO/PMEC2020/Ribeirao_Preto_SP/SLMA/rfeye002304_SLMA_bimestral_occ15min_200516_120002.bin'),Path('D:/OneDrive - ANATEL/Backup_Rfeye_SP/RPO/PMEC2020/Ribeirao_Preto_SP/SLMA/rfeye002304_SLMA_bimestral_occ15min_200520_054608.bin'),Path('D:/OneDrive - ANATEL/Backup_Rfeye_SP/RPO/PMEC2020/Ribeirao_Preto_SP/SLMA/rfeye002304_SLMA_bimestral_occ15min_200612_013001.bin')...]"
      ]
     },
     "execution_count": 17,
     "metadata": {},
     "output_type": "execute_result"
    }
   ],
   "source": [
    "arquivos = get_files(entrada) ; arquivos"
   ]
  },
  {
   "cell_type": "markdown",
   "metadata": {},
   "source": [
    "O Objeto retornado `L` é uma extensão da lista python com funcionalidades adicionais, uma delas como  podemos ver é que a representaçõa da lista impressa vem com o número de arquivos da lista. \n",
    "Temos 255 arquivos bin na pasta entrada. Podemos filtrar por pasta também"
   ]
  },
  {
   "cell_type": "code",
   "execution_count": 18,
   "metadata": {},
   "outputs": [],
   "source": [
    "arquivos_bin = get_files(entrada, extensions=['.bin'], folders='tmp')"
   ]
  },
  {
   "cell_type": "code",
   "execution_count": 19,
   "metadata": {},
   "outputs": [
    {
     "data": {
      "text/plain": [
       "(#1) [Path('D:/OneDrive - ANATEL/Backup_Rfeye_SP/RPO/PMEC2020/Ribeirao_Preto_SP/SLMA/tmp/rfeye002304_SLMA_bimestral_PEAK_200829_234902.bin')]"
      ]
     },
     "execution_count": 19,
     "metadata": {},
     "output_type": "execute_result"
    }
   ],
   "source": [
    "arquivos_bin"
   ]
  },
  {
   "cell_type": "markdown",
   "metadata": {},
   "source": [
    "O Código executado em `tradutor_RFEYE.py` está totalmente contido de forma mais geral em `main.py`. Chamei de main justamente porque esse será o arquivo base que chama outros arquivos e funções."
   ]
  },
  {
   "cell_type": "code",
   "execution_count": 35,
   "metadata": {},
   "outputs": [
    {
     "name": "stdout",
     "output_type": "stream",
     "text": [
      "Wall time: 0 ns\n"
     ]
    }
   ],
   "source": [
    "%%time\n",
    "save_file_a = saida / 'file_a.csv'\n",
    "save_file_b = saida / 'file_b.csv'\n",
    "\n",
    "COLS_A = ['Block_Number', 'Latitude', 'Longitude', 'Altitude', 'Initial_Time',\n",
    "     'Sample_Duration', 'Start_Frequency', 'Stop_Frequency', 'Vector_Length', \n",
    "     'Trace_Type', 'Antenna_Type', 'Equipement_ID']\n",
    "\n",
    "COLS_B = ['Block_Number', 'Frequency(HZ)', 'Nivel(dBm)']\n",
    "\n",
    "BLOCO_40 = ['latitude', 'longitude', 'altitude']\n",
    "\n",
    "BLOCO_63 = ['datetime_stamp',\n",
    "           'spent_time_microsecs', 'start_mega', 'stop_mega', 'data_points', \n",
    "           'processing', 'id_antenna']\n",
    "\n",
    "def file2block(file: str):\n",
    "    map_block = defaultdict(L)\n",
    "    for bloco in L(binary_file_generator(file)).map(create_base_block):\n",
    "        btype = bloco.type\n",
    "        map_block[btype].append(block_constructor(btype, bloco))\n",
    "    return map_block\n",
    "\n",
    "\n",
    "def extract_meta_bin(file: str, outfile: str):\n",
    "    map_block = file2block(file)\n",
    "    n_data = max(len(map_block[40]), len(map_block[63]))\n",
    "    output = {}\n",
    "    output['Block_Number'] = L(range(n_data)) \n",
    "    for attr in BLOCO_40:\n",
    "        output[attr] = map_block[40].attrgot(attr)\n",
    "    for attr in BLOCO_63:\n",
    "        output[attr] = map_block[63].attrgot(attr)            \n",
    "    output['Equipement_ID'] = L(getattr(map_block[21][0], 'hostname')) * n_data    \n",
    "    df = pd.DataFrame(output)    \n",
    "    df.columns = COLS_A    \n",
    "    df.to_csv(outfile, index=False)    \n",
    "    return df\n",
    "    \n",
    "def extract_espectro(file: str):\n",
    "    pass\n",
    "    "
   ]
  },
  {
   "cell_type": "code",
   "execution_count": 36,
   "metadata": {},
   "outputs": [
    {
     "data": {
      "text/html": [
       "<div>\n",
       "<style scoped>\n",
       "    .dataframe tbody tr th:only-of-type {\n",
       "        vertical-align: middle;\n",
       "    }\n",
       "\n",
       "    .dataframe tbody tr th {\n",
       "        vertical-align: top;\n",
       "    }\n",
       "\n",
       "    .dataframe thead th {\n",
       "        text-align: right;\n",
       "    }\n",
       "</style>\n",
       "<table border=\"1\" class=\"dataframe\">\n",
       "  <thead>\n",
       "    <tr style=\"text-align: right;\">\n",
       "      <th></th>\n",
       "      <th>Block_Number</th>\n",
       "      <th>Latitude</th>\n",
       "      <th>Longitude</th>\n",
       "      <th>Altitude</th>\n",
       "      <th>Initial_Time</th>\n",
       "      <th>Sample_Duration</th>\n",
       "      <th>Start_Frequency</th>\n",
       "      <th>Stop_Frequency</th>\n",
       "      <th>Vector_Length</th>\n",
       "      <th>Trace_Type</th>\n",
       "      <th>Antenna_Type</th>\n",
       "      <th>Equipement_ID</th>\n",
       "    </tr>\n",
       "  </thead>\n",
       "  <tbody>\n",
       "    <tr>\n",
       "      <th>0</th>\n",
       "      <td>0</td>\n",
       "      <td>-21.228926</td>\n",
       "      <td>-47.759933</td>\n",
       "      <td>619.6</td>\n",
       "      <td>2020-08-29 23:50:01.059268</td>\n",
       "      <td>38373</td>\n",
       "      <td>108</td>\n",
       "      <td>137</td>\n",
       "      <td>14848</td>\n",
       "      <td>peak</td>\n",
       "      <td>1</td>\n",
       "      <td>rfeye002304</td>\n",
       "    </tr>\n",
       "    <tr>\n",
       "      <th>1</th>\n",
       "      <td>1</td>\n",
       "      <td>-21.228928</td>\n",
       "      <td>-47.759912</td>\n",
       "      <td>615.6</td>\n",
       "      <td>2020-08-29 23:51:00.579360</td>\n",
       "      <td>38529</td>\n",
       "      <td>108</td>\n",
       "      <td>137</td>\n",
       "      <td>14848</td>\n",
       "      <td>peak</td>\n",
       "      <td>1</td>\n",
       "      <td>rfeye002304</td>\n",
       "    </tr>\n",
       "    <tr>\n",
       "      <th>2</th>\n",
       "      <td>2</td>\n",
       "      <td>-21.228921</td>\n",
       "      <td>-47.759922</td>\n",
       "      <td>612.0</td>\n",
       "      <td>2020-08-29 23:52:01.969255</td>\n",
       "      <td>38517</td>\n",
       "      <td>108</td>\n",
       "      <td>137</td>\n",
       "      <td>14848</td>\n",
       "      <td>peak</td>\n",
       "      <td>1</td>\n",
       "      <td>rfeye002304</td>\n",
       "    </tr>\n",
       "    <tr>\n",
       "      <th>3</th>\n",
       "      <td>3</td>\n",
       "      <td>-21.228934</td>\n",
       "      <td>-47.759922</td>\n",
       "      <td>617.2</td>\n",
       "      <td>2020-08-29 23:53:01.359546</td>\n",
       "      <td>38463</td>\n",
       "      <td>108</td>\n",
       "      <td>137</td>\n",
       "      <td>14848</td>\n",
       "      <td>peak</td>\n",
       "      <td>1</td>\n",
       "      <td>rfeye002304</td>\n",
       "    </tr>\n",
       "    <tr>\n",
       "      <th>4</th>\n",
       "      <td>4</td>\n",
       "      <td>-21.228931</td>\n",
       "      <td>-47.759926</td>\n",
       "      <td>624.0</td>\n",
       "      <td>2020-08-29 23:54:00.959245</td>\n",
       "      <td>38372</td>\n",
       "      <td>108</td>\n",
       "      <td>137</td>\n",
       "      <td>14848</td>\n",
       "      <td>peak</td>\n",
       "      <td>1</td>\n",
       "      <td>rfeye002304</td>\n",
       "    </tr>\n",
       "  </tbody>\n",
       "</table>\n",
       "</div>"
      ],
      "text/plain": [
       "   Block_Number   Latitude  Longitude  Altitude               Initial_Time  \\\n",
       "0             0 -21.228926 -47.759933     619.6 2020-08-29 23:50:01.059268   \n",
       "1             1 -21.228928 -47.759912     615.6 2020-08-29 23:51:00.579360   \n",
       "2             2 -21.228921 -47.759922     612.0 2020-08-29 23:52:01.969255   \n",
       "3             3 -21.228934 -47.759922     617.2 2020-08-29 23:53:01.359546   \n",
       "4             4 -21.228931 -47.759926     624.0 2020-08-29 23:54:00.959245   \n",
       "\n",
       "   Sample_Duration  Start_Frequency  Stop_Frequency  Vector_Length Trace_Type  \\\n",
       "0            38373              108             137          14848       peak   \n",
       "1            38529              108             137          14848       peak   \n",
       "2            38517              108             137          14848       peak   \n",
       "3            38463              108             137          14848       peak   \n",
       "4            38372              108             137          14848       peak   \n",
       "\n",
       "   Antenna_Type Equipement_ID  \n",
       "0             1   rfeye002304  \n",
       "1             1   rfeye002304  \n",
       "2             1   rfeye002304  \n",
       "3             1   rfeye002304  \n",
       "4             1   rfeye002304  "
      ]
     },
     "execution_count": 36,
     "metadata": {},
     "output_type": "execute_result"
    }
   ],
   "source": [
    "df = extract_meta_bin(arquivos_bin[0])\n",
    "df.head()"
   ]
  }
 ],
 "metadata": {
  "kernelspec": {
   "display_name": "Python [conda env:bin]",
   "language": "python",
   "name": "conda-env-bin-py"
  },
  "language_info": {
   "codemirror_mode": {
    "name": "ipython",
    "version": 3
   },
   "file_extension": ".py",
   "mimetype": "text/x-python",
   "name": "python",
   "nbconvert_exporter": "python",
   "pygments_lexer": "ipython3",
   "version": "3.8.5"
  }
 },
 "nbformat": 4,
 "nbformat_minor": 4
}
