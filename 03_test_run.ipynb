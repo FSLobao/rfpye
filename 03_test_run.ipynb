{
 "cells": [
  {
   "cell_type": "code",
   "execution_count": 42,
   "metadata": {},
   "outputs": [],
   "source": [
    "#default_exp tests"
   ]
  },
  {
   "cell_type": "code",
   "execution_count": 43,
   "metadata": {},
   "outputs": [
    {
     "name": "stdout",
     "output_type": "stream",
     "text": [
      "The autoreload extension is already loaded. To reload it, use:\n",
      "  %reload_ext autoreload\n",
      "The line_profiler extension is already loaded. To reload it, use:\n",
      "  %reload_ext line_profiler\n"
     ]
    }
   ],
   "source": [
    "#hide\n",
    "%load_ext autoreload\n",
    "%autoreload 2    \n",
    "%load_ext line_profiler"
   ]
  },
  {
   "cell_type": "code",
   "execution_count": 44,
   "metadata": {},
   "outputs": [],
   "source": [
    "#export\n",
    "from pathlib import Path\n",
    "from datetime import timedelta, datetime\n",
    "import pandas as pd\n",
    "from tqdm.notebook import tqdm\n",
    "from rfpy.main import parse_input\n",
    "from rfpy.parser import get_files\n",
    "from rfpy.blocks import *\n",
    "from rfpy.utils import binary_file_generator\n",
    "from nbdev.showdoc import *\n",
    "from fastcore.xtras import parallel\n",
    "from fastcore.foundation import L\n",
    "from fastcore.test import *"
   ]
  },
  {
   "cell_type": "markdown",
   "metadata": {},
   "source": [
    "Com o objetivo de estudar o código fui reescrevendo-o. Tentar reescrever funções é um bom exercício para entender e internalizar a implementação utilizada. Assim foi possível identificar várias oportunidades para simplesmente refatorar e simplificar o código. \n",
    "\n",
    "Utilizarei várias funcinalidades da biblioteca [fastcore](https://fastcore.fast.ai/basics.html), esta  extende de maneira muito eficiente várias funcionalidades básicas do python e assim não precisamos _reiventar a roda_."
   ]
  },
  {
   "cell_type": "markdown",
   "metadata": {},
   "source": [
    "### `config.tradutor.yaml` \n",
    "\n",
    "Como só temos 2 parâmetros, `entrada` e `saída` escolhi não utilizar um arquivo de configuração por não achar ser necessário. Outro benefício dessa abordagem é utilizar as variáveis que antes estavam no arquivo de configuração como parâmetros de entrada numa linha de comando.\n",
    "\n",
    "Como não utilizei um arquivo de configuração não é necessário chamar a função `busca_arquivos` do arquivo `helper.py`"
   ]
  },
  {
   "cell_type": "code",
   "execution_count": 45,
   "metadata": {},
   "outputs": [],
   "source": [
    "VERBOSE = True\n",
    "entrada = Path(r'D:\\OneDrive - ANATEL\\Backup_Rfeye_SP\\RPO\\PMEC2020\\Ribeirao_Preto_SP\\SLMA')\n",
    "saida = Path(r'C:\\Users\\rsilva\\Downloads')"
   ]
  },
  {
   "cell_type": "code",
   "execution_count": 46,
   "metadata": {},
   "outputs": [
    {
     "data": {
      "text/markdown": [
       "<h4 id=\"get_files\" class=\"doc_header\"><code>get_files</code><a href=\"https://github.com/ronaldokun/rfpy/tree/master/rfpy/parser.py#L17\" class=\"source_link\" style=\"float:right\">[source]</a></h4>\n",
       "\n",
       "> <code>get_files</code>(**`path`**, **`extensions`**=*`None`*, **`recurse`**=*`True`*, **`folders`**=*`None`*, **`followlinks`**=*`True`*)\n",
       "\n",
       "Get all the files in `path` with optional `extensions`, optionally with `recurse`, only in `folders`, if specified."
      ],
      "text/plain": [
       "<IPython.core.display.Markdown object>"
      ]
     },
     "metadata": {},
     "output_type": "display_data"
    }
   ],
   "source": [
    "show_doc(get_files)"
   ]
  },
  {
   "cell_type": "code",
   "execution_count": 47,
   "metadata": {},
   "outputs": [
    {
     "data": {
      "text/plain": [
       "(#255) [Path('D:/OneDrive - ANATEL/Backup_Rfeye_SP/RPO/PMEC2020/Ribeirao_Preto_SP/SLMA/rfeye002304_SLMA_bimestral_occ15min_200317_232233.bin'),Path('D:/OneDrive - ANATEL/Backup_Rfeye_SP/RPO/PMEC2020/Ribeirao_Preto_SP/SLMA/rfeye002304_SLMA_bimestral_occ15min_200318_225525.bin'),Path('D:/OneDrive - ANATEL/Backup_Rfeye_SP/RPO/PMEC2020/Ribeirao_Preto_SP/SLMA/rfeye002304_SLMA_bimestral_occ15min_200318_225535.bin'),Path('D:/OneDrive - ANATEL/Backup_Rfeye_SP/RPO/PMEC2020/Ribeirao_Preto_SP/SLMA/rfeye002304_SLMA_bimestral_occ15min_200318_225556.bin'),Path('D:/OneDrive - ANATEL/Backup_Rfeye_SP/RPO/PMEC2020/Ribeirao_Preto_SP/SLMA/rfeye002304_SLMA_bimestral_occ15min_200318_225615.bin'),Path('D:/OneDrive - ANATEL/Backup_Rfeye_SP/RPO/PMEC2020/Ribeirao_Preto_SP/SLMA/rfeye002304_SLMA_bimestral_occ15min_200410_183001.bin'),Path('D:/OneDrive - ANATEL/Backup_Rfeye_SP/RPO/PMEC2020/Ribeirao_Preto_SP/SLMA/rfeye002304_SLMA_bimestral_occ15min_200423_162327.bin'),Path('D:/OneDrive - ANATEL/Backup_Rfeye_SP/RPO/PMEC2020/Ribeirao_Preto_SP/SLMA/rfeye002304_SLMA_bimestral_occ15min_200516_120002.bin'),Path('D:/OneDrive - ANATEL/Backup_Rfeye_SP/RPO/PMEC2020/Ribeirao_Preto_SP/SLMA/rfeye002304_SLMA_bimestral_occ15min_200520_054608.bin'),Path('D:/OneDrive - ANATEL/Backup_Rfeye_SP/RPO/PMEC2020/Ribeirao_Preto_SP/SLMA/rfeye002304_SLMA_bimestral_occ15min_200612_013001.bin')...]"
      ]
     },
     "execution_count": 47,
     "metadata": {},
     "output_type": "execute_result"
    }
   ],
   "source": [
    "arquivos = get_files(entrada) ; arquivos"
   ]
  },
  {
   "cell_type": "markdown",
   "metadata": {},
   "source": [
    "O Objeto retornado `L` é uma extensão da lista python com funcionalidades adicionais, uma delas como  podemos ver é que a representaçõa da lista impressa vem com o número de arquivos da lista. \n",
    "Temos 255 arquivos bin na pasta entrada. Podemos filtrar por pasta também"
   ]
  },
  {
   "cell_type": "code",
   "execution_count": 48,
   "metadata": {},
   "outputs": [],
   "source": [
    "arquivos_bin = get_files(entrada, extensions=['.bin'], folders='tmp')"
   ]
  },
  {
   "cell_type": "code",
   "execution_count": 49,
   "metadata": {},
   "outputs": [
    {
     "data": {
      "text/plain": [
       "(#1) [Path('D:/OneDrive - ANATEL/Backup_Rfeye_SP/RPO/PMEC2020/Ribeirao_Preto_SP/SLMA/tmp/rfeye002304_SLMA_bimestral_PEAK_200829_234902.bin')]"
      ]
     },
     "execution_count": 49,
     "metadata": {},
     "output_type": "execute_result"
    }
   ],
   "source": [
    "arquivos_bin"
   ]
  },
  {
   "cell_type": "markdown",
   "metadata": {},
   "source": [
    "O Código executado em `tradutor_RFEYE.py` está totalmente contido de forma mais geral em `main.py`. Chamei de main justamente porque esse será o arquivo base que chama outros arquivos e funções."
   ]
  },
  {
   "cell_type": "code",
   "execution_count": 50,
   "metadata": {},
   "outputs": [],
   "source": [
    "LINHA_A = [[1,  '',  '',  '',  datetime(2020, 8, 29, 23, 50, 1, 59268),  38373,  108,\n",
    "          137, 14848, 'peak', 1, '']]\n",
    "LINHA_B = [1, 108.0, -75.0]"
   ]
  },
  {
   "cell_type": "code",
   "execution_count": 51,
   "metadata": {},
   "outputs": [
    {
     "data": {
      "application/vnd.jupyter.widget-view+json": {
       "model_id": "20b91b816ab14d78baaca29f42028a84",
       "version_major": 2,
       "version_minor": 0
      },
      "text/plain": [
       "HBox(children=(HTML(value=''), FloatProgress(value=1.0, bar_style='info', layout=Layout(width='20px'), max=1.0…"
      ]
     },
     "metadata": {},
     "output_type": "display_data"
    },
    {
     "name": "stdout",
     "output_type": "stream",
     "text": [
      "\n"
     ]
    }
   ],
   "source": [
    "save_file_a = saida / 'file_a.csv'\n",
    "save_file_b = saida / 'file_b.csv'\n",
    "\n",
    "A = ['Block_Number', 'Latitude', 'Longitude', 'Altitude', 'Initial_Time',\n",
    "     'Sample_Duration', 'Start_Frequency', 'Stop_Frequency', 'Vector_Length', \n",
    "     'Trace_Type', 'Antenna_Type', 'Equipement_ID']\n",
    "\n",
    "B = ['Block_Number', 'Frequency(HZ)', 'Nivel(dBm)']\n",
    "\n",
    "file_a = [] #pd.DataFrame(columns=A)\n",
    "file_b = [] #pd.DataFrame(columns=B, dtype='float16')\n",
    "\n",
    "block_apply = {}\n",
    "\n",
    "\n",
    "\n",
    "lat = 0\n",
    "long = 0\n",
    "alt = 0\n",
    "conta_bloco = 0  # contador de blocos processados\n",
    "\n",
    "for file in arquivos_bin:\n",
    "#     data = L(binary_file_generator(file))\n",
    "#     tipos_bloco = data.map(Block).attrgot('block_type')    \n",
    "    for i, data in enumerate(tqdm(binary_file_generator(file))):\n",
    "        bloco = Block(data)\n",
    "        hostname = ''\n",
    "        latitude = ''\n",
    "        longitude = ''\n",
    "        altitude = ''\n",
    "        if bloco.block_type == 21:\n",
    "            hostname = DataType21(data).hostname\n",
    "        if bloco.block_type == 40:  # GPS Data\n",
    "            gps = DataType40(data)\n",
    "            latitude = gps.latitude\n",
    "            longitude = gps.longitude\n",
    "            altitude = gps.altitude\n",
    "        if bloco.block_type == 63:\n",
    "            break\n",
    "            conta_bloco += 1  # contador de blocos processados\n",
    "            espectro = DataType63(data)\n",
    "            start_datetime_stamp = espectro.datetime_stamp\n",
    "            sample_duration = espectro.spent_time_microsecs\n",
    "            start_frequency = espectro.start_mega\n",
    "            stop_frequency = espectro.stop_mega\n",
    "            antena_id = espectro.ant_id\n",
    "            trace_type = espectro.processing\n",
    "            rbw = espectro.rbw\n",
    "            vector_length = espectro.data_points\n",
    "            file_a.extend([[conta_bloco, latitude, longitude, altitude,start_datetime_stamp,\n",
    "                      sample_duration, start_frequency, stop_frequency,vector_length,\n",
    "                      trace_type, antena_id, hostname]])           \n",
    "            \n",
    "            file_b.extend([[conta_bloco, freq, nivel] for freq, nivel in zip(espectro.list_freq_mega, espectro.block_data)])\n",
    "            #if i > 1000:\n",
    "            break\n",
    "            #file_a = file_a.append(pd.DataFrame(linha_a, columns=A))\n",
    "            #file_b = file_b.append(pd.DataFrame(linha_b, columns=B))"
   ]
  },
  {
   "cell_type": "code",
   "execution_count": null,
   "metadata": {},
   "outputs": [],
   "source": [
    "espectro = DataType63(data)"
   ]
  }
 ],
 "metadata": {
  "kernelspec": {
   "display_name": "Python [conda env:bin]",
   "language": "python",
   "name": "conda-env-bin-py"
  },
  "language_info": {
   "codemirror_mode": {
    "name": "ipython",
    "version": 3
   },
   "file_extension": ".py",
   "mimetype": "text/x-python",
   "name": "python",
   "nbconvert_exporter": "python",
   "pygments_lexer": "ipython3",
   "version": "3.8.5"
  }
 },
 "nbformat": 4,
 "nbformat_minor": 4
}
